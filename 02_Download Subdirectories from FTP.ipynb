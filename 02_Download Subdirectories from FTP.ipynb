{
 "cells": [
  {
   "cell_type": "markdown",
   "id": "17d21b72",
   "metadata": {},
   "source": [
    "# Download Subdirectories From FTP\n",
    "\n",
    "#### Updated: Dec 5, 2022"
   ]
  },
  {
   "cell_type": "markdown",
   "id": "7c85ebd5",
   "metadata": {},
   "source": [
    "#  "
   ]
  },
  {
   "cell_type": "markdown",
   "id": "436090c2",
   "metadata": {},
   "source": [
    "Determine how to download subdirectories from FTP. Record download in a 'download_log'. Move downloaded subdirectories from '01_downloading' folder to '02_downloaded' folder. "
   ]
  },
  {
   "cell_type": "code",
   "execution_count": 1,
   "id": "aadb662e",
   "metadata": {},
   "outputs": [],
   "source": [
    "import pandas as pd\n",
    "import os\n",
    "import shutil\n",
    "import time\n",
    "from datetime import datetime\n",
    "import ftplib"
   ]
  },
  {
   "cell_type": "code",
   "execution_count": 2,
   "id": "955f1d52",
   "metadata": {},
   "outputs": [],
   "source": [
    "rootDir_local = 'C:/Users/rnaidoo/Documents/Projects_data/Alouette_I/' #files on C:/ are not persistent on VDI\n",
    "rootDir_U = rootDir_local #'U:/Data_Science/Projects_data/Alouette_I/'\n",
    "downloadingDir = rootDir_local + '01_downloading/'\n",
    "downloadedDir = rootDir_local + '02_downloaded/'\n",
    "resultDir = rootDir_U + '05_result/'"
   ]
  },
  {
   "cell_type": "code",
   "execution_count": 3,
   "id": "e020b5dc",
   "metadata": {},
   "outputs": [
    {
     "name": "stdout",
     "output_type": "stream",
     "text": [
      "Connected to ftp server: donnees-data.asc-csa.gc.ca\n"
     ]
    }
   ],
   "source": [
    "HOSTNAME = \"donnees-data.asc-csa.gc.ca\"\n",
    "USERNAME = \"Anonymous\"\n",
    "PASSWORD = \"\"\n",
    "\n",
    "# Connect FTP Server\n",
    "ftp = ftplib.FTP(HOSTNAME, USERNAME, PASSWORD)\n",
    "print('Connected to ftp server: ' + HOSTNAME)\n",
    "\n",
    "ftp_rootpath = '/users/OpenData_DonneesOuvertes/pub/AlouetteData/Alouette Data/'"
   ]
  },
  {
   "cell_type": "markdown",
   "id": "c258b742",
   "metadata": {},
   "source": [
    "#  "
   ]
  },
  {
   "cell_type": "markdown",
   "id": "64420cb1",
   "metadata": {},
   "source": [
    "#### Functions:"
   ]
  },
  {
   "cell_type": "code",
   "execution_count": 10,
   "id": "07f9b9e4",
   "metadata": {},
   "outputs": [],
   "source": [
    "def move_images(old_dir, new_dir, roll, subdir):\n",
    "    oldDir = old_dir + roll + '/' + subdir + '/'\n",
    "    newDir = new_dir + roll + '/' + subdir + '/'\n",
    "    os.makedirs(newDir, exist_ok=True)\n",
    "    for file in os.listdir(oldDir):\n",
    "        os.rename(oldDir+file, newDir+file)\n",
    "    shutil.rmtree(old_dir + roll + '/')"
   ]
  },
  {
   "cell_type": "markdown",
   "id": "76265c0f",
   "metadata": {},
   "source": [
    "#  "
   ]
  },
  {
   "cell_type": "markdown",
   "id": "7c17b5ca",
   "metadata": {},
   "source": [
    "#### Download a subdirectory by FTP:"
   ]
  },
  {
   "cell_type": "code",
   "execution_count": 4,
   "id": "679535d2",
   "metadata": {
    "scrolled": true
   },
   "outputs": [],
   "source": [
    "roll = 'R014207815'\n",
    "subdirectory = '3488-15A'"
   ]
  },
  {
   "cell_type": "code",
   "execution_count": 5,
   "id": "937629fc",
   "metadata": {},
   "outputs": [
    {
     "data": {
      "text/plain": [
       "'250 Directory successfully changed.'"
      ]
     },
     "execution_count": 5,
     "metadata": {},
     "output_type": "execute_result"
    }
   ],
   "source": [
    "saveDir = downloadingDir + roll + '/' + subdirectory + '/'\n",
    "os.makedirs(saveDir, exist_ok=True)\n",
    "ftp.cwd(ftp_rootpath + '/' + roll + '/' + subdirectory + '/')"
   ]
  },
  {
   "cell_type": "code",
   "execution_count": 6,
   "id": "2fa0400e",
   "metadata": {
    "scrolled": true
   },
   "outputs": [
    {
     "name": "stdout",
     "output_type": "stream",
     "text": [
      "Downloading R014207815/3488-15A/ subdirectory (273 images)\n",
      "Download time for subdirectory: 4.4 min\n"
     ]
    }
   ],
   "source": [
    "start = time.time()\n",
    "n_dl = len(ftp.nlst())\n",
    "print('Downloading ' + roll + '/' + subdirectory + '/ subdirectory ('  + str(n_dl) + ' images)')\n",
    "for file in ftp.nlst():\n",
    "    local_file = open(saveDir + file, \"wb\")\n",
    "    ftp.retrbinary(\"RETR \" + file, local_file.write)\n",
    "    local_file.close()\n",
    "    #print('Downloaded: ' + file)\n",
    "end = time.time()\n",
    "t = end - start\n",
    "print('Download time for subdirectory: ' + str(round(t/60, 1)) + ' min')"
   ]
  },
  {
   "cell_type": "markdown",
   "id": "8dd9af46",
   "metadata": {},
   "source": [
    "Download to C:/ (CSA laptop, on VPN) --> ~ 23 min <br>\n",
    "Download to C:/ (CSA laptop, off VPN) --> 4.5 min <br>\n",
    "Download to C:/ (VDI HP) --> 1.1 min <-- downloading locally seems to be faster <br>\n",
    "Download to U:/ (VDI HP) --> 1.3 min"
   ]
  },
  {
   "cell_type": "markdown",
   "id": "0024f2a2",
   "metadata": {},
   "source": [
    "  "
   ]
  },
  {
   "cell_type": "markdown",
   "id": "193e300e",
   "metadata": {},
   "source": [
    "Record subdirectory name in download_log:"
   ]
  },
  {
   "cell_type": "code",
   "execution_count": 7,
   "id": "9dc8d020",
   "metadata": {},
   "outputs": [
    {
     "data": {
      "text/html": [
       "<div>\n",
       "<style scoped>\n",
       "    .dataframe tbody tr th:only-of-type {\n",
       "        vertical-align: middle;\n",
       "    }\n",
       "\n",
       "    .dataframe tbody tr th {\n",
       "        vertical-align: top;\n",
       "    }\n",
       "\n",
       "    .dataframe thead th {\n",
       "        text-align: right;\n",
       "    }\n",
       "</style>\n",
       "<table border=\"1\" class=\"dataframe\">\n",
       "  <thead>\n",
       "    <tr style=\"text-align: right;\">\n",
       "      <th></th>\n",
       "      <th>Roll</th>\n",
       "      <th>Subdirectory</th>\n",
       "      <th>Images_downloaded</th>\n",
       "      <th>Download_time</th>\n",
       "      <th>Download_timestamp</th>\n",
       "    </tr>\n",
       "  </thead>\n",
       "  <tbody>\n",
       "    <tr>\n",
       "      <th>0</th>\n",
       "      <td>R014207815</td>\n",
       "      <td>3488-15A</td>\n",
       "      <td>273</td>\n",
       "      <td>266.427046</td>\n",
       "      <td>2022-12-05 16:19:13.747687</td>\n",
       "    </tr>\n",
       "  </tbody>\n",
       "</table>\n",
       "</div>"
      ],
      "text/plain": [
       "         Roll Subdirectory  Images_downloaded  Download_time  \\\n",
       "0  R014207815     3488-15A                273     266.427046   \n",
       "\n",
       "          Download_timestamp  \n",
       "0 2022-12-05 16:19:13.747687  "
      ]
     },
     "execution_count": 7,
     "metadata": {},
     "output_type": "execute_result"
    }
   ],
   "source": [
    "df_result = pd.DataFrame({\n",
    "    'Roll': roll,\n",
    "    'Subdirectory': subdirectory,\n",
    "    'Images_downloaded': n_dl,\n",
    "    'Download_time': t,\n",
    "    'Download_timestamp': datetime.fromtimestamp(end)\n",
    "}, index=[0])\n",
    "df_result"
   ]
  },
  {
   "cell_type": "code",
   "execution_count": 8,
   "id": "5252b764",
   "metadata": {},
   "outputs": [],
   "source": [
    "if os.path.exists(resultDir + 'download_log.csv'):\n",
    "    df_log = pd.read_csv(resultDir + 'download_log.csv')\n",
    "    df_update = pd.concat([df_log, df_result], axis=0, ignore_index=True)\n",
    "    df_update.to_csv(resultDir + 'download_log.csv', index=False)\n",
    "else:\n",
    "    df_result.to_csv(resultDir + 'download_log.csv', index=False)"
   ]
  },
  {
   "cell_type": "markdown",
   "id": "ab3f1aa9",
   "metadata": {},
   "source": [
    "  "
   ]
  },
  {
   "cell_type": "markdown",
   "id": "7e7bcf66",
   "metadata": {},
   "source": [
    "Move fully downloaded subdirectory to 02_processing folder:"
   ]
  },
  {
   "cell_type": "code",
   "execution_count": null,
   "id": "11cc82f8",
   "metadata": {},
   "outputs": [],
   "source": [
    "move_images(old_dir=downloadingDir, new_dir=downloadedDir, roll=roll, subdir=subdirectory)"
   ]
  },
  {
   "cell_type": "markdown",
   "id": "65dd1864",
   "metadata": {},
   "source": [
    "#  "
   ]
  },
  {
   "cell_type": "markdown",
   "id": "992b114e",
   "metadata": {},
   "source": [
    "#### Determine how many subdirectories there are:"
   ]
  },
  {
   "cell_type": "markdown",
   "id": "e086d330",
   "metadata": {},
   "source": [
    "Estimate how long it would take the download all subdirectories. Estimate what would be the total size."
   ]
  },
  {
   "cell_type": "code",
   "execution_count": 11,
   "id": "108a781f",
   "metadata": {},
   "outputs": [],
   "source": [
    "ftp.cwd(ftp_rootpath)\n",
    "rolls_list = ftp.nlst()"
   ]
  },
  {
   "cell_type": "code",
   "execution_count": 12,
   "id": "8070d115",
   "metadata": {},
   "outputs": [
    {
     "name": "stdout",
     "output_type": "stream",
     "text": [
      "Roll R014207815 has 60 subdirectories.\n",
      "Roll R014207816 has 60 subdirectories.\n",
      "Roll R014207821 has 60 subdirectories.\n",
      "Roll R014207823 has 60 subdirectories.\n",
      "Roll R014207824 has 60 subdirectories.\n",
      "Roll R014207832 has 60 subdirectories.\n",
      "Roll R014207840 has 60 subdirectories.\n",
      "Roll R014207841 has 60 subdirectories.\n",
      "Roll R014207842 has 59 subdirectories.\n",
      "Roll R014207844 has 60 subdirectories.\n",
      "Roll R014207907F has 61 subdirectories.\n",
      "Roll R014207908F has 60 subdirectories.\n",
      "Roll R014207909F has 55 subdirectories.\n",
      "Roll R014207929F has 57 subdirectories.\n",
      "Roll R014207930F has 73 subdirectories.\n",
      "Roll R014207938 has 59 subdirectories.\n",
      "Roll R014207939 has 59 subdirectories.\n",
      "Roll R014207940F has 58 subdirectories.\n",
      "Roll R014207942 has 59 subdirectories.\n",
      "Roll R014207943 has 60 subdirectories.\n",
      "Roll R014207946 has 60 subdirectories.\n",
      "Roll R014207947 has 60 subdirectories.\n",
      "Roll R014207948 has 60 subdirectories.\n",
      "Roll R014207949 has 60 subdirectories.\n",
      "Roll R014207951 has 61 subdirectories.\n",
      "Roll R014207953 has 60 subdirectories.\n",
      "Roll R014207954 has 60 subdirectories.\n",
      "Roll R014207955 has 60 subdirectories.\n",
      "Roll R014207956 has 58 subdirectories.\n",
      "Roll R014207957 has 57 subdirectories.\n",
      "Roll R014207958 has 59 subdirectories.\n",
      "Roll R014207959 has 60 subdirectories.\n",
      "Roll R014207960 has 60 subdirectories.\n",
      "Roll R014207962 has 58 subdirectories.\n",
      "Roll R014207964 has 59 subdirectories.\n",
      "Roll R014207965 has 60 subdirectories.\n",
      "Roll R014207966 has 59 subdirectories.\n",
      "Roll R014207967 has 60 subdirectories.\n",
      "Roll R014207968 has 60 subdirectories.\n",
      "Roll R014207970 has 60 subdirectories.\n",
      "Roll R014207974 has 46 subdirectories.\n",
      "Roll R014207975 has 60 subdirectories.\n",
      "Roll R014207978F has 59 subdirectories.\n",
      "Roll R014207979F has 25 subdirectories.\n",
      "Roll R014207980 has 57 subdirectories.\n"
     ]
    }
   ],
   "source": [
    "n_subdir = 0\n",
    "for roll in rolls_list:\n",
    "    ftp.cwd(roll)\n",
    "    subdir_list = ftp.nlst()\n",
    "    n_subdir_ = len(subdir_list)\n",
    "    print('Roll ' + roll + ' has ' + str(n_subdir_) + ' subdirectories.')\n",
    "    n_subdir += n_subdir_\n",
    "    ftp.cwd(ftp_rootpath)"
   ]
  },
  {
   "cell_type": "code",
   "execution_count": 13,
   "id": "5cfca511",
   "metadata": {},
   "outputs": [
    {
     "name": "stdout",
     "output_type": "stream",
     "text": [
      "There are 2638 subdirectories.\n"
     ]
    }
   ],
   "source": [
    "print('There are ' + str(n_subdir) + ' subdirectories.')"
   ]
  },
  {
   "cell_type": "markdown",
   "id": "a2dae7aa",
   "metadata": {},
   "source": [
    "If one subdirectory takes ~ 1.1 min to download, it would take ~ 48.4 h to download all images..."
   ]
  },
  {
   "cell_type": "markdown",
   "id": "8eb68417",
   "metadata": {},
   "source": [
    "If one subdirectory is ~ 336 MB, the total size of all of the images is ~ 889 GB (0.9 TB)..."
   ]
  }
 ],
 "metadata": {
  "kernelspec": {
   "display_name": "Python 3",
   "language": "python",
   "name": "python3"
  },
  "language_info": {
   "codemirror_mode": {
    "name": "ipython",
    "version": 3
   },
   "file_extension": ".py",
   "mimetype": "text/x-python",
   "name": "python",
   "nbconvert_exporter": "python",
   "pygments_lexer": "ipython3",
   "version": "3.8.8"
  }
 },
 "nbformat": 4,
 "nbformat_minor": 5
}

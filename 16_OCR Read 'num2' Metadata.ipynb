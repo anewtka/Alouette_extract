{
 "cells": [
  {
   "cell_type": "markdown",
   "id": "ddd8e19d",
   "metadata": {},
   "source": [
    "# OCR Read 'num2' Metadata\n",
    "\n",
    "#### Updated: Apr 4, 2023"
   ]
  },
  {
   "cell_type": "markdown",
   "id": "058a15dd",
   "metadata": {},
   "source": [
    "#  "
   ]
  },
  {
   "cell_type": "markdown",
   "id": "6c659ca6",
   "metadata": {},
   "source": [
    "Test post-processing a subdirectory, to first detect if the image is of 'num2' metadata type, and then to read and record \"that metadata. "
   ]
  },
  {
   "cell_type": "code",
   "execution_count": null,
   "id": "80454f51",
   "metadata": {},
   "outputs": [],
   "source": [
    "import pandas as pd\n",
    "import numpy as np\n",
    "import os\n",
    "import time\n",
    "import keras_ocr"
   ]
  },
  {
   "cell_type": "code",
   "execution_count": null,
   "id": "7aa02eae",
   "metadata": {},
   "outputs": [],
   "source": [
    "pipeline = keras_ocr.pipeline.Pipeline()"
   ]
  },
  {
   "cell_type": "code",
   "execution_count": null,
   "id": "b7ea0ebd",
   "metadata": {},
   "outputs": [],
   "source": [
    "rootDir = 'L:/DATA/Alouette_I/BATCH_II_Run1/'\n",
    "resultDir = rootDir + '05_result/'"
   ]
  },
  {
   "cell_type": "markdown",
   "id": "1298064e",
   "metadata": {},
   "source": [
    "#  "
   ]
  },
  {
   "cell_type": "markdown",
   "id": "7c4cb58e",
   "metadata": {},
   "source": [
    "#### Functions:"
   ]
  },
  {
   "cell_type": "code",
   "execution_count": null,
   "id": "764139b8",
   "metadata": {},
   "outputs": [],
   "source": [
    "def read_num2_metadata(prediction_groups, subdir_path):\n",
    "    \n",
    "    df_read = pd.DataFrame()\n",
    "    for i in range(0, len(prediction_groups)):\n",
    "        df_ocr = pd.DataFrame()\n",
    "        predicted_image = prediction_groups[i]\n",
    "        if len(predicted_image) > 0:\n",
    "            for text, box in predicted_image:\n",
    "                row = pd.DataFrame({\n",
    "                    'number': text,\n",
    "                    'x': box[1][0],\n",
    "                    'y': box[1][1]\n",
    "                }, index=[0])\n",
    "                df_ocr = pd.concat([df_ocr, row])\n",
    "            df_ocr = df_ocr.sort_values('x').reset_index(drop=True)\n",
    "        if len(df_ocr) == 6:\n",
    "            if df_ocr['number'].iloc[0] == '10':\n",
    "                row2 = pd.DataFrame({\n",
    "                    'station_number_OCR': df_ocr['number'].iloc[1],\n",
    "                    'year_OCR': df_ocr['number'].iloc[2],\n",
    "                    'day_of_year_OCR': df_ocr['number'].iloc[3],\n",
    "                    'hour_OCR': df_ocr['number'].iloc[4][0:2],\n",
    "                    'minute_OCR': df_ocr['number'].iloc[4][2:],\n",
    "                    'second_OCR': df_ocr['number'].iloc[5],\n",
    "                    'filename': img_fns[batch_i + i].replace(subdir_path, '')\n",
    "                }, index=[i])\n",
    "                df_read = pd.concat([df_read, row2])\n",
    "    \n",
    "    return df_read"
   ]
  },
  {
   "cell_type": "markdown",
   "id": "bbcd391e",
   "metadata": {},
   "source": [
    "# "
   ]
  },
  {
   "cell_type": "markdown",
   "id": "ced2001a",
   "metadata": {},
   "source": [
    "#### Process subdirectory:"
   ]
  },
  {
   "cell_type": "code",
   "execution_count": null,
   "id": "21a2836a",
   "metadata": {},
   "outputs": [],
   "source": [
    "directory = 'R014207817' #'R014207950'\n",
    "subdirectory = '4163-03A' #'2487-5-B'\n",
    "testDir = rootDir + '04_processed/' + directory + '/' + subdirectory + '/'"
   ]
  },
  {
   "cell_type": "code",
   "execution_count": null,
   "id": "94bec88c",
   "metadata": {},
   "outputs": [],
   "source": [
    "batch_size = 9 # > 9 seems to lead to a 'dead kernel'"
   ]
  },
  {
   "cell_type": "code",
   "execution_count": null,
   "id": "724b0f17",
   "metadata": {},
   "outputs": [],
   "source": [
    "img_fns = []\n",
    "for file in os.listdir(testDir):\n",
    "    img_fns.append(testDir + file)"
   ]
  },
  {
   "cell_type": "code",
   "execution_count": null,
   "id": "861bcca3",
   "metadata": {},
   "outputs": [],
   "source": [
    "len(img_fns)"
   ]
  },
  {
   "cell_type": "code",
   "execution_count": null,
   "id": "640fd57f",
   "metadata": {},
   "outputs": [],
   "source": [
    "n_batches = int(np.floor(len(img_fns)/batch_size))\n",
    "n_batches"
   ]
  },
  {
   "cell_type": "code",
   "execution_count": null,
   "id": "ad885716",
   "metadata": {},
   "outputs": [],
   "source": [
    "batch_remainder = len(img_fns)%batch_size\n",
    "batch_remainder"
   ]
  },
  {
   "cell_type": "code",
   "execution_count": null,
   "id": "959f4249",
   "metadata": {
    "scrolled": true
   },
   "outputs": [],
   "source": [
    "start = time.time()\n",
    "\n",
    "df_read = pd.DataFrame()\n",
    "for i in range(0, n_batches):\n",
    "    print('Starting batch... ' + str(i))\n",
    "    batch_i = i*batch_size\n",
    "    batch_f = batch_i + batch_size\n",
    "    prediction_groups = pipeline.recognize(img_fns[batch_i:batch_f])\n",
    "    df_read_ = read_num2_metadata(prediction_groups=prediction_groups, subdir_path=testDir)\n",
    "    df_read = pd.concat([df_read, df_read_])\n",
    "    \n",
    "#Remainder\n",
    "print('Finishing up...')\n",
    "batch_i = n_batches*batch_size\n",
    "batch_f = batch_i + batch_remainder\n",
    "prediction_groups = pipeline.recognize(img_fns[batch_i:batch_f])\n",
    "df_read_ = read_num2_metadata(prediction_groups=prediction_groups, subdir_path=testDir)\n",
    "df_read = pd.concat([df_read, df_read_])\n",
    "     \n",
    "end = time.time()\n",
    "t = end - start\n",
    "print('Time to OCR read all images in subdirectory: ' + str(round(t/60, 1)) + ' min')"
   ]
  },
  {
   "cell_type": "code",
   "execution_count": null,
   "id": "5abb6cf5",
   "metadata": {},
   "outputs": [],
   "source": [
    "print(len(df_read))\n",
    "df_read.head(30)"
   ]
  },
  {
   "cell_type": "markdown",
   "id": "0d6a9a78",
   "metadata": {},
   "source": [
    "Remove rows with letters read:"
   ]
  },
  {
   "cell_type": "code",
   "execution_count": null,
   "id": "7c1b19d4",
   "metadata": {},
   "outputs": [],
   "source": [
    "if len(df_read) > 0:\n",
    "    df_read2 = df_read[~df_read['station_number'].str.contains(\"[a-zA-Z]\")]\n",
    "    df_read2 = df_read2[~df_read2['year'].str.contains(\"[a-zA-Z]\")]\n",
    "    df_read2 = df_read2[~df_read2['day_of_year'].str.contains(\"[a-zA-Z]\")]\n",
    "    df_read2 = df_read2[~df_read2['hour'].str.contains(\"[a-zA-Z]\")]\n",
    "    df_read2 = df_read2[~df_read2['minute'].str.contains(\"[a-zA-Z]\")]\n",
    "    df_read2 = df_read2[~df_read2['second'].str.contains(\"[a-zA-Z]\")]\n",
    "else:\n",
    "    df_read2 = df_read"
   ]
  },
  {
   "cell_type": "code",
   "execution_count": null,
   "id": "c1025868",
   "metadata": {},
   "outputs": [],
   "source": [
    "print(len(df_read2))\n",
    "df_read2.head()"
   ]
  },
  {
   "cell_type": "code",
   "execution_count": null,
   "id": "63f5b25c",
   "metadata": {},
   "outputs": [],
   "source": [
    "#df1['filenum'] = df1['filename'].str.replace('.png', '')\n",
    "#df1['filenum'] = df1['filenum'].astype('int')\n",
    "#df1 = df1.sort_values('filenum').reset_index(drop=True)\n",
    "df_read2 = df_read2.sort_values('filename').reset_index(drop=True)"
   ]
  },
  {
   "cell_type": "code",
   "execution_count": null,
   "id": "92e31233",
   "metadata": {},
   "outputs": [],
   "source": [
    "#df_read2.to_csv(resultDir + 'OCR_subdir_test_' + directory + '_' + subdirectory + '.csv', index=False)"
   ]
  },
  {
   "cell_type": "code",
   "execution_count": null,
   "id": "d4f7ffb2",
   "metadata": {},
   "outputs": [],
   "source": [
    "print('Percent OCR read yield for test subdirectory: ' + str(round((len(df_read2)/len(img_fns))*100, 1)) + ' %')"
   ]
  },
  {
   "cell_type": "markdown",
   "id": "f4db64fb",
   "metadata": {},
   "source": [
    "#  "
   ]
  },
  {
   "cell_type": "markdown",
   "id": "d2dea7dc",
   "metadata": {},
   "source": [
    "#### Integrate OCR read metadata into existing results data for subdirectory:"
   ]
  },
  {
   "cell_type": "code",
   "execution_count": null,
   "id": "891e8e5a",
   "metadata": {},
   "outputs": [],
   "source": [
    "df_result = pd.read_csv(resultDir + directory + '/' + 'result-' + directory + '_' + subdirectory + '.csv')\n",
    "print(len(df_result))\n",
    "df_result.head()"
   ]
  },
  {
   "cell_type": "code",
   "execution_count": null,
   "id": "3f824cb2",
   "metadata": {},
   "outputs": [],
   "source": [
    "df_result.columns"
   ]
  },
  {
   "cell_type": "code",
   "execution_count": null,
   "id": "e3f152dd",
   "metadata": {},
   "outputs": [],
   "source": [
    "#df_read2 = pd.read_csv(resultDir + 'OCR_subdir_test_' + directory + '_' + subdirectory + '.csv')\n",
    "print(len(df_read2))\n",
    "df_read2.head()"
   ]
  },
  {
   "cell_type": "code",
   "execution_count": null,
   "id": "f21d0067",
   "metadata": {},
   "outputs": [],
   "source": [
    "if len(df_read2) > 0:\n",
    "    df_merge = df_result.merge(df_read2, how='left', on='filename')\n",
    "df_merge['day_of_year'] = df_merge['day_of_year'].astype('int')\n",
    "df_merge.loc[df_merge['day_of_year'] > 0, 'processed_image_class'] = 'num2'\n",
    "\n",
    "print(len(df_merge))\n",
    "df_merge.sample(10)"
   ]
  },
  {
   "cell_type": "code",
   "execution_count": null,
   "id": "c8e5f717",
   "metadata": {},
   "outputs": [],
   "source": [
    "df_merge.to_csv(resultDir + directory + '/' + 'result_OCR-' + directory + '_' + subdirectory + '.csv')"
   ]
  },
  {
   "cell_type": "markdown",
   "id": "40cca44c",
   "metadata": {},
   "source": [
    "#  "
   ]
  },
  {
   "cell_type": "markdown",
   "id": "d5f79dee",
   "metadata": {},
   "source": [
    "#### Development:"
   ]
  },
  {
   "cell_type": "code",
   "execution_count": null,
   "id": "a93622b4",
   "metadata": {},
   "outputs": [],
   "source": [
    "#df_read = df_read.iloc[:, 1:]\n",
    "#df_read.head()"
   ]
  },
  {
   "cell_type": "code",
   "execution_count": null,
   "id": "656ed460",
   "metadata": {},
   "outputs": [],
   "source": [
    "#df_read.to_csv(resultDir + 'OCR_subdir_test_' + directory + '_' + subdirectory + '.csv', index=False)"
   ]
  },
  {
   "cell_type": "markdown",
   "id": "b6349896",
   "metadata": {},
   "source": [
    "  "
   ]
  }
 ],
 "metadata": {
  "kernelspec": {
   "display_name": "Python 3",
   "language": "python",
   "name": "python3"
  },
  "language_info": {
   "codemirror_mode": {
    "name": "ipython",
    "version": 3
   },
   "file_extension": ".py",
   "mimetype": "text/x-python",
   "name": "python",
   "nbconvert_exporter": "python",
   "pygments_lexer": "ipython3",
   "version": "3.8.8"
  }
 },
 "nbformat": 4,
 "nbformat_minor": 5
}

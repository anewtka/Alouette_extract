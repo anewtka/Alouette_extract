{
 "cells": [
  {
   "cell_type": "markdown",
   "id": "842c0114",
   "metadata": {},
   "source": [
    "# Alouette-Error-Detection-Analysis\n",
    "***\n",
    "While browsing and processing Alouette's ionograms, the team found ionograms with weird shapes or with images with two ionograms or parts of ionograms. The goal of the following script is to find those ionograms and verify how big of an issue it is."
   ]
  },
  {
   "cell_type": "code",
   "execution_count": null,
   "id": "c6eb4d29",
   "metadata": {},
   "outputs": [],
   "source": []
  }
 ],
 "metadata": {
  "kernelspec": {
   "display_name": "Python 3",
   "language": "python",
   "name": "python3"
  },
  "language_info": {
   "codemirror_mode": {
    "name": "ipython",
    "version": 3
   },
   "file_extension": ".py",
   "mimetype": "text/x-python",
   "name": "python",
   "nbconvert_exporter": "python",
   "pygments_lexer": "ipython3",
   "version": "3.8.8"
  }
 },
 "nbformat": 4,
 "nbformat_minor": 5
}

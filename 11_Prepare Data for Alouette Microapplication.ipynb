{
 "cells": [
  {
   "cell_type": "markdown",
   "id": "05ca7ce0",
   "metadata": {},
   "source": [
    "# Prepare Data for Alouette Microapplication\n",
    "\n",
    "#### Updated: Feb 1, 2023"
   ]
  },
  {
   "cell_type": "markdown",
   "id": "2bccfa66",
   "metadata": {},
   "source": [
    "#  "
   ]
  },
  {
   "cell_type": "markdown",
   "id": "811d2c1f",
   "metadata": {},
   "source": [
    "Shape processed image results data to fit current Alouette microapplication (https://donnees-data.asc-csa.gc.ca:8888/alouette/):"
   ]
  },
  {
   "cell_type": "code",
   "execution_count": 10,
   "id": "5ea76a4f",
   "metadata": {},
   "outputs": [],
   "source": [
    "import pandas as pd\n",
    "import numpy as np\n",
    "import os\n",
    "import matplotlib.pyplot as plt\n",
    "import seaborn as sns\n",
    "import random\n",
    "from random import randrange"
   ]
  },
  {
   "cell_type": "code",
   "execution_count": 11,
   "id": "6d003af4",
   "metadata": {},
   "outputs": [],
   "source": [
    "localDir = 'C:/Users/rnaidoo/Documents/Projects_data/Alouette_I/'"
   ]
  },
  {
   "cell_type": "markdown",
   "id": "8db3d989",
   "metadata": {},
   "source": [
    "#  "
   ]
  },
  {
   "cell_type": "markdown",
   "id": "d46732ee",
   "metadata": {},
   "source": [
    "#### Functions:"
   ]
  },
  {
   "cell_type": "code",
   "execution_count": 29,
   "id": "ca03aeea",
   "metadata": {},
   "outputs": [],
   "source": [
    "def fix_Lat(x):\n",
    "    \n",
    "    if type(x) == str:\n",
    "        x = x.replace('S', '')\n",
    "        #x = x.astype(float)\n",
    "        x = -1*x\n",
    "\n",
    "    return x"
   ]
  },
  {
   "cell_type": "code",
   "execution_count": 22,
   "id": "c3e3ecbe",
   "metadata": {},
   "outputs": [],
   "source": [
    "def fix_Lng(x):\n",
    "    \n",
    "    x = x.replace('W', '')\n",
    "    #x = x.astype(float)\n",
    "    x = -1*x\n",
    "\n",
    "    return x"
   ]
  },
  {
   "cell_type": "markdown",
   "id": "2d06e727",
   "metadata": {},
   "source": [
    "#  "
   ]
  },
  {
   "cell_type": "markdown",
   "id": "1c3d478a",
   "metadata": {},
   "source": [
    "#### Shape 'result_total.csv' (processed image results) to fit current Alouette microapplication data model:"
   ]
  },
  {
   "cell_type": "markdown",
   "id": "fa795dc4",
   "metadata": {},
   "source": [
    "Load current microapplication data:"
   ]
  },
  {
   "cell_type": "code",
   "execution_count": 12,
   "id": "5de6baee",
   "metadata": {},
   "outputs": [
    {
     "name": "stdout",
     "output_type": "stream",
     "text": [
      "406566\n"
     ]
    },
    {
     "data": {
      "text/html": [
       "<div>\n",
       "<style scoped>\n",
       "    .dataframe tbody tr th:only-of-type {\n",
       "        vertical-align: middle;\n",
       "    }\n",
       "\n",
       "    .dataframe tbody tr th {\n",
       "        vertical-align: top;\n",
       "    }\n",
       "\n",
       "    .dataframe thead th {\n",
       "        text-align: right;\n",
       "    }\n",
       "</style>\n",
       "<table border=\"1\" class=\"dataframe\">\n",
       "  <thead>\n",
       "    <tr style=\"text-align: right;\">\n",
       "      <th></th>\n",
       "      <th>ID</th>\n",
       "      <th>File name</th>\n",
       "      <th>Minimum frequency</th>\n",
       "      <th>Maximum depth</th>\n",
       "      <th>Subdirectory name</th>\n",
       "      <th>Satellite number</th>\n",
       "      <th>Ground station number</th>\n",
       "      <th>Timestamp</th>\n",
       "      <th>Ground station name</th>\n",
       "      <th>Ground station code</th>\n",
       "      <th>Latitude</th>\n",
       "      <th>Longitude</th>\n",
       "    </tr>\n",
       "  </thead>\n",
       "  <tbody>\n",
       "    <tr>\n",
       "      <th>0</th>\n",
       "      <td>0</td>\n",
       "      <td>R014207938/907-A/1</td>\n",
       "      <td>1.709677</td>\n",
       "      <td>974.545455</td>\n",
       "      <td>907-A</td>\n",
       "      <td>1</td>\n",
       "      <td>1</td>\n",
       "      <td>1965-05-25 16:48:01</td>\n",
       "      <td>Resolute Bay, No. W. Territories</td>\n",
       "      <td>RES</td>\n",
       "      <td>74.7</td>\n",
       "      <td>-95.0</td>\n",
       "    </tr>\n",
       "    <tr>\n",
       "      <th>1</th>\n",
       "      <td>1</td>\n",
       "      <td>R014207938/907-A/10</td>\n",
       "      <td>1.645161</td>\n",
       "      <td>1032.727273</td>\n",
       "      <td>907-A</td>\n",
       "      <td>1</td>\n",
       "      <td>1</td>\n",
       "      <td>1965-05-25 16:50:58</td>\n",
       "      <td>Resolute Bay, No. W. Territories</td>\n",
       "      <td>RES</td>\n",
       "      <td>74.7</td>\n",
       "      <td>-95.0</td>\n",
       "    </tr>\n",
       "    <tr>\n",
       "      <th>2</th>\n",
       "      <td>2</td>\n",
       "      <td>R014207938/907-A/100</td>\n",
       "      <td>1.701613</td>\n",
       "      <td>989.090909</td>\n",
       "      <td>907-A</td>\n",
       "      <td>1</td>\n",
       "      <td>1</td>\n",
       "      <td>1965-05-26 08:34:21</td>\n",
       "      <td>Resolute Bay, No. W. Territories</td>\n",
       "      <td>RES</td>\n",
       "      <td>74.7</td>\n",
       "      <td>-95.0</td>\n",
       "    </tr>\n",
       "    <tr>\n",
       "      <th>3</th>\n",
       "      <td>3</td>\n",
       "      <td>R014207938/907-A/101</td>\n",
       "      <td>1.685484</td>\n",
       "      <td>1080.000000</td>\n",
       "      <td>907-A</td>\n",
       "      <td>1</td>\n",
       "      <td>1</td>\n",
       "      <td>1965-05-26 08:34:38</td>\n",
       "      <td>Resolute Bay, No. W. Territories</td>\n",
       "      <td>RES</td>\n",
       "      <td>74.7</td>\n",
       "      <td>-95.0</td>\n",
       "    </tr>\n",
       "    <tr>\n",
       "      <th>4</th>\n",
       "      <td>4</td>\n",
       "      <td>R014207938/907-A/102</td>\n",
       "      <td>1.681452</td>\n",
       "      <td>203.636364</td>\n",
       "      <td>907-A</td>\n",
       "      <td>1</td>\n",
       "      <td>1</td>\n",
       "      <td>1965-05-26 08:34:58</td>\n",
       "      <td>Resolute Bay, No. W. Territories</td>\n",
       "      <td>RES</td>\n",
       "      <td>74.7</td>\n",
       "      <td>-95.0</td>\n",
       "    </tr>\n",
       "  </tbody>\n",
       "</table>\n",
       "</div>"
      ],
      "text/plain": [
       "   ID             File name  Minimum frequency  Maximum depth  \\\n",
       "0   0    R014207938/907-A/1           1.709677     974.545455   \n",
       "1   1   R014207938/907-A/10           1.645161    1032.727273   \n",
       "2   2  R014207938/907-A/100           1.701613     989.090909   \n",
       "3   3  R014207938/907-A/101           1.685484    1080.000000   \n",
       "4   4  R014207938/907-A/102           1.681452     203.636364   \n",
       "\n",
       "  Subdirectory name  Satellite number  Ground station number  \\\n",
       "0             907-A                 1                      1   \n",
       "1             907-A                 1                      1   \n",
       "2             907-A                 1                      1   \n",
       "3             907-A                 1                      1   \n",
       "4             907-A                 1                      1   \n",
       "\n",
       "             Timestamp               Ground station name Ground station code  \\\n",
       "0  1965-05-25 16:48:01  Resolute Bay, No. W. Territories                 RES   \n",
       "1  1965-05-25 16:50:58  Resolute Bay, No. W. Territories                 RES   \n",
       "2  1965-05-26 08:34:21  Resolute Bay, No. W. Territories                 RES   \n",
       "3  1965-05-26 08:34:38  Resolute Bay, No. W. Territories                 RES   \n",
       "4  1965-05-26 08:34:58  Resolute Bay, No. W. Territories                 RES   \n",
       "\n",
       "   Latitude  Longitude  \n",
       "0      74.7      -95.0  \n",
       "1      74.7      -95.0  \n",
       "2      74.7      -95.0  \n",
       "3      74.7      -95.0  \n",
       "4      74.7      -95.0  "
      ]
     },
     "execution_count": 12,
     "metadata": {},
     "output_type": "execute_result"
    }
   ],
   "source": [
    "df_current = pd.read_csv(localDir + 'microapplication_total_data_retr20230113.csv')\n",
    "print(len(df_current))\n",
    "df_current.head()"
   ]
  },
  {
   "cell_type": "markdown",
   "id": "a2295a17",
   "metadata": {},
   "source": [
    "  "
   ]
  },
  {
   "cell_type": "markdown",
   "id": "f9b37179",
   "metadata": {},
   "source": [
    "Load current results to test:"
   ]
  },
  {
   "cell_type": "code",
   "execution_count": 13,
   "id": "e836f418",
   "metadata": {},
   "outputs": [
    {
     "name": "stderr",
     "output_type": "stream",
     "text": [
      "c:\\DevSoftware\\Anaconda38\\lib\\site-packages\\IPython\\core\\interactiveshell.py:3165: DtypeWarning: Columns (15,18,21,22,23,24,25,26,27,28,31) have mixed types.Specify dtype option on import or set low_memory=False.\n",
      "  has_raised = await self.run_ast_nodes(code_ast.body, cell_name,\n",
      "c:\\DevSoftware\\Anaconda38\\lib\\site-packages\\IPython\\core\\interactiveshell.py:3165: DtypeWarning: Columns (15,18,21,22,23,24,25,26,27,28,31,57,60,64,65,66,67,70) have mixed types.Specify dtype option on import or set low_memory=False.\n",
      "  has_raised = await self.run_ast_nodes(code_ast.body, cell_name,\n"
     ]
    }
   ],
   "source": [
    "#Load BATCH_I_Run1 results\n",
    "df_result = pd.read_csv(localDir + 'result_total_v20230113.csv')\n",
    "\n",
    "#Load BATCH_I_Run1 (metadata reprocessed (mdrp)) results\n",
    "df_result_mdrp = pd.read_csv(localDir + 'result_total_mdrp_v20230116.csv')"
   ]
  },
  {
   "cell_type": "code",
   "execution_count": null,
   "id": "8221105b",
   "metadata": {},
   "outputs": [],
   "source": [
    "#Load random subdirectory from BATCH_I_Run2\n",
    "'''L_dir = 'L:/DATA/Alouette_I/BATCH_I_Run2/'\n",
    "resultDir = L_dir + '05_result/'\n",
    "logDir = L_dir + '06_log/'\n",
    "roll_list = []\n",
    "for roll in os.listdir(resultDir):\n",
    "    if 'R' in roll:\n",
    "        roll_list.append(roll)\n",
    "roll = roll_list[randrange(len(roll_list))]\n",
    "file_list = []\n",
    "for file in os.listdir(resultDir + roll + '/'):\n",
    "    if 'result' in file:\n",
    "        file_list.append(file)\n",
    "fn = file_list[randrange(len(file_list))]\n",
    "df_result = pd.read_csv(resultDir + roll + '/' + fn)\n",
    "print(roll + '/' + fn)'''"
   ]
  },
  {
   "cell_type": "code",
   "execution_count": null,
   "id": "07a036c6",
   "metadata": {},
   "outputs": [],
   "source": [
    "#Load random subdirectory from BATCH_I_Run1_md, merge with BATCH_I_Run1\n",
    "'''L_dir = 'L:/DATA/Alouette_I/BATCH_I_Run1/'\n",
    "L_dir_md = 'L:/DATA/Alouette_I/BATCH_I_Run1_md/'\n",
    "resultDir = L_dir + '05_result/'\n",
    "resultDir_md = L_dir_md + '05_result/'\n",
    "logDir = L_dir + '06_log/'\n",
    "roll_list = []\n",
    "for roll in os.listdir(resultDir_md):\n",
    "    if 'R' in roll:\n",
    "        roll_list.append(roll)\n",
    "roll = roll_list[randrange(len(roll_list))]\n",
    "file_list = []\n",
    "for file in os.listdir(resultDir + roll + '/'):\n",
    "    if 'result' in file:\n",
    "        file_list.append(file)\n",
    "fn = file_list[randrange(len(file_list))]\n",
    "df_result = pd.read_csv(resultDir + roll + '/' + fn)\n",
    "df_result_md = pd.read_csv(resultDir_md + roll + '/' + fn)\n",
    "print(roll + '/' + fn)\n",
    "print(len(df_result))\n",
    "print(len(df_result_md))\n",
    "df_result = df_result.drop(['satellite_number', 'year', 'day', 'hour', 'minute', 'second', 'station_number', \n",
    "                            'Station Name', '3 - Letter Code', 'LAT.', 'LONG. '], axis=1)\n",
    "df_result_md = df_result_md.drop(['processed_image_class', 'func_name', 'details'], axis=1)\n",
    "df_result = df_result.merge(df_result_md, how='left', on=['Roll', 'Subdirectory', 'filename'])'''"
   ]
  },
  {
   "cell_type": "markdown",
   "id": "be26b91e",
   "metadata": {},
   "source": [
    "  "
   ]
  },
  {
   "cell_type": "markdown",
   "id": "9ca8892c",
   "metadata": {},
   "source": [
    "Characterize:"
   ]
  },
  {
   "cell_type": "code",
   "execution_count": 14,
   "id": "f67cdd06",
   "metadata": {
    "scrolled": false
   },
   "outputs": [
    {
     "name": "stdout",
     "output_type": "stream",
     "text": [
      "817910\n"
     ]
    },
    {
     "data": {
      "text/html": [
       "<div>\n",
       "<style scoped>\n",
       "    .dataframe tbody tr th:only-of-type {\n",
       "        vertical-align: middle;\n",
       "    }\n",
       "\n",
       "    .dataframe tbody tr th {\n",
       "        vertical-align: top;\n",
       "    }\n",
       "\n",
       "    .dataframe thead th {\n",
       "        text-align: right;\n",
       "    }\n",
       "</style>\n",
       "<table border=\"1\" class=\"dataframe\">\n",
       "  <thead>\n",
       "    <tr style=\"text-align: right;\">\n",
       "      <th></th>\n",
       "      <th>fmin</th>\n",
       "      <th>max_depth</th>\n",
       "      <th>satellite_number</th>\n",
       "      <th>year</th>\n",
       "      <th>day</th>\n",
       "      <th>hour</th>\n",
       "      <th>minute</th>\n",
       "      <th>second</th>\n",
       "      <th>station_number</th>\n",
       "      <th>Station Name</th>\n",
       "      <th>...</th>\n",
       "      <th>raw_coord</th>\n",
       "      <th>window_coord</th>\n",
       "      <th>mapping_Hz</th>\n",
       "      <th>mapping_km</th>\n",
       "      <th>details</th>\n",
       "      <th>Roll</th>\n",
       "      <th>Subdirectory</th>\n",
       "      <th>filename</th>\n",
       "      <th>rotated_metadata</th>\n",
       "      <th>station_code</th>\n",
       "    </tr>\n",
       "  </thead>\n",
       "  <tbody>\n",
       "    <tr>\n",
       "      <th>0</th>\n",
       "      <td>1.5</td>\n",
       "      <td>387.500000</td>\n",
       "      <td>1.0</td>\n",
       "      <td>1961.0</td>\n",
       "      <td>3.0</td>\n",
       "      <td>2.0</td>\n",
       "      <td>2.0</td>\n",
       "      <td>3.0</td>\n",
       "      <td>3.0</td>\n",
       "      <td>Ottawa, Canada</td>\n",
       "      <td>...</td>\n",
       "      <td>NaN</td>\n",
       "      <td>NaN</td>\n",
       "      <td>NaN</td>\n",
       "      <td>NaN</td>\n",
       "      <td>NaN</td>\n",
       "      <td>R014207815</td>\n",
       "      <td>3488-15A</td>\n",
       "      <td>10.png</td>\n",
       "      <td>NaN</td>\n",
       "      <td>NaN</td>\n",
       "    </tr>\n",
       "    <tr>\n",
       "      <th>1</th>\n",
       "      <td>1.5</td>\n",
       "      <td>556.250000</td>\n",
       "      <td>1.0</td>\n",
       "      <td>1961.0</td>\n",
       "      <td>2.0</td>\n",
       "      <td>2.0</td>\n",
       "      <td>2.0</td>\n",
       "      <td>3.0</td>\n",
       "      <td>3.0</td>\n",
       "      <td>Ottawa, Canada</td>\n",
       "      <td>...</td>\n",
       "      <td>NaN</td>\n",
       "      <td>NaN</td>\n",
       "      <td>NaN</td>\n",
       "      <td>NaN</td>\n",
       "      <td>NaN</td>\n",
       "      <td>R014207815</td>\n",
       "      <td>3488-15A</td>\n",
       "      <td>101.png</td>\n",
       "      <td>NaN</td>\n",
       "      <td>NaN</td>\n",
       "    </tr>\n",
       "    <tr>\n",
       "      <th>2</th>\n",
       "      <td>1.5</td>\n",
       "      <td>654.166667</td>\n",
       "      <td>0.0</td>\n",
       "      <td>1960.0</td>\n",
       "      <td>2.0</td>\n",
       "      <td>2.0</td>\n",
       "      <td>3.0</td>\n",
       "      <td>2.0</td>\n",
       "      <td>3.0</td>\n",
       "      <td>Ottawa, Canada</td>\n",
       "      <td>...</td>\n",
       "      <td>NaN</td>\n",
       "      <td>NaN</td>\n",
       "      <td>NaN</td>\n",
       "      <td>NaN</td>\n",
       "      <td>NaN</td>\n",
       "      <td>R014207815</td>\n",
       "      <td>3488-15A</td>\n",
       "      <td>102.png</td>\n",
       "      <td>NaN</td>\n",
       "      <td>NaN</td>\n",
       "    </tr>\n",
       "    <tr>\n",
       "      <th>3</th>\n",
       "      <td>1.5</td>\n",
       "      <td>504.166667</td>\n",
       "      <td>0.0</td>\n",
       "      <td>1960.0</td>\n",
       "      <td>2.0</td>\n",
       "      <td>2.0</td>\n",
       "      <td>3.0</td>\n",
       "      <td>2.0</td>\n",
       "      <td>3.0</td>\n",
       "      <td>Ottawa, Canada</td>\n",
       "      <td>...</td>\n",
       "      <td>NaN</td>\n",
       "      <td>NaN</td>\n",
       "      <td>NaN</td>\n",
       "      <td>NaN</td>\n",
       "      <td>NaN</td>\n",
       "      <td>R014207815</td>\n",
       "      <td>3488-15A</td>\n",
       "      <td>106.png</td>\n",
       "      <td>NaN</td>\n",
       "      <td>NaN</td>\n",
       "    </tr>\n",
       "    <tr>\n",
       "      <th>4</th>\n",
       "      <td>1.5</td>\n",
       "      <td>504.166667</td>\n",
       "      <td>0.0</td>\n",
       "      <td>1961.0</td>\n",
       "      <td>2.0</td>\n",
       "      <td>2.0</td>\n",
       "      <td>2.0</td>\n",
       "      <td>3.0</td>\n",
       "      <td>3.0</td>\n",
       "      <td>Ottawa, Canada</td>\n",
       "      <td>...</td>\n",
       "      <td>NaN</td>\n",
       "      <td>NaN</td>\n",
       "      <td>NaN</td>\n",
       "      <td>NaN</td>\n",
       "      <td>NaN</td>\n",
       "      <td>R014207815</td>\n",
       "      <td>3488-15A</td>\n",
       "      <td>107.png</td>\n",
       "      <td>NaN</td>\n",
       "      <td>NaN</td>\n",
       "    </tr>\n",
       "  </tbody>\n",
       "</table>\n",
       "<p>5 rows × 35 columns</p>\n",
       "</div>"
      ],
      "text/plain": [
       "   fmin   max_depth  satellite_number    year  day  hour  minute  second  \\\n",
       "0   1.5  387.500000               1.0  1961.0  3.0   2.0     2.0     3.0   \n",
       "1   1.5  556.250000               1.0  1961.0  2.0   2.0     2.0     3.0   \n",
       "2   1.5  654.166667               0.0  1960.0  2.0   2.0     3.0     2.0   \n",
       "3   1.5  504.166667               0.0  1960.0  2.0   2.0     3.0     2.0   \n",
       "4   1.5  504.166667               0.0  1961.0  2.0   2.0     2.0     3.0   \n",
       "\n",
       "   station_number    Station Name  ... raw_coord window_coord mapping_Hz  \\\n",
       "0             3.0  Ottawa, Canada  ...       NaN          NaN        NaN   \n",
       "1             3.0  Ottawa, Canada  ...       NaN          NaN        NaN   \n",
       "2             3.0  Ottawa, Canada  ...       NaN          NaN        NaN   \n",
       "3             3.0  Ottawa, Canada  ...       NaN          NaN        NaN   \n",
       "4             3.0  Ottawa, Canada  ...       NaN          NaN        NaN   \n",
       "\n",
       "  mapping_km details        Roll  Subdirectory  filename rotated_metadata  \\\n",
       "0        NaN     NaN  R014207815      3488-15A    10.png              NaN   \n",
       "1        NaN     NaN  R014207815      3488-15A   101.png              NaN   \n",
       "2        NaN     NaN  R014207815      3488-15A   102.png              NaN   \n",
       "3        NaN     NaN  R014207815      3488-15A   106.png              NaN   \n",
       "4        NaN     NaN  R014207815      3488-15A   107.png              NaN   \n",
       "\n",
       "   station_code  \n",
       "0           NaN  \n",
       "1           NaN  \n",
       "2           NaN  \n",
       "3           NaN  \n",
       "4           NaN  \n",
       "\n",
       "[5 rows x 35 columns]"
      ]
     },
     "execution_count": 14,
     "metadata": {},
     "output_type": "execute_result"
    }
   ],
   "source": [
    "print(len(df_result))\n",
    "df_result.head()"
   ]
  },
  {
   "cell_type": "code",
   "execution_count": 37,
   "id": "a2937287",
   "metadata": {},
   "outputs": [
    {
     "data": {
      "text/plain": [
       "\"subdir_id = fn.replace('result-', '')\\nsubdir_id = subdir_id.replace('.csv', '')\\ndf_process_log = pd.read_csv(logDir + 'process_log.csv')\\ndf_process_log.loc[df_process_log['subdir_id'] == subdir_id]\""
      ]
     },
     "execution_count": 37,
     "metadata": {},
     "output_type": "execute_result"
    }
   ],
   "source": [
    "#If loaded single subdirectory\n",
    "'''subdir_id = fn.replace('result-', '')\n",
    "subdir_id = subdir_id.replace('.csv', '')\n",
    "df_process_log = pd.read_csv(logDir + 'process_log.csv')\n",
    "df_process_log.loc[df_process_log['subdir_id'] == subdir_id]'''"
   ]
  },
  {
   "cell_type": "markdown",
   "id": "805be619",
   "metadata": {},
   "source": [
    "  "
   ]
  },
  {
   "cell_type": "code",
   "execution_count": 15,
   "id": "86b99908",
   "metadata": {
    "scrolled": false
   },
   "outputs": [
    {
     "data": {
      "text/plain": [
       "Index(['fmin', 'max_depth', 'satellite_number', 'year', 'day', 'hour',\n",
       "       'minute', 'second', 'station_number', 'Station Name', '3 - Letter Code',\n",
       "       'LAT.', 'LONG. ', 'processed_image_class', 'func_name', 'limits',\n",
       "       'height', 'width', 'metadata_type', 'meta_height', 'meta_width',\n",
       "       'x_centroids', 'y_centroids', 'is_dot', 'dict_metadata', 'raw_coord',\n",
       "       'window_coord', 'mapping_Hz', 'mapping_km', 'details', 'Roll',\n",
       "       'Subdirectory', 'filename', 'rotated_metadata', 'station_code'],\n",
       "      dtype='object')"
      ]
     },
     "execution_count": 15,
     "metadata": {},
     "output_type": "execute_result"
    }
   ],
   "source": [
    "df_result.columns"
   ]
  },
  {
   "cell_type": "code",
   "execution_count": 16,
   "id": "ae4bf42b",
   "metadata": {},
   "outputs": [],
   "source": [
    "Run1_cols = ['fmin', 'max_depth', 'processed_image_class', 'func_name', 'limits', 'height', 'width', 'raw_coord', \n",
    "             'window_coord', 'mapping_Hz', 'mapping_km', 'details']\n",
    "Run1_md_cols = ['satellite_number', 'year', 'day', 'hour', 'minute', 'second', 'station_number', 'Station Name', \n",
    "                '3 - Letter Code', 'LAT.', 'LONG. ', 'metadata_type', 'meta_height', 'meta_width', 'x_centroids', \n",
    "                'y_centroids', 'is_dot', 'dict_metadata', 'day_1', 'day_2', 'day_3', 'hour_1', 'hour_2', 'minute_1',\n",
    "                'minute_2', 'second_1', 'second_2', 'station_number_1', 'station_number_2', 'station_code']\n",
    "\n",
    "for col in Run1_cols:\n",
    "    df_result_mdrp[col] = df_result_mdrp[col + '_Run1']\n",
    "for col in Run1_md_cols:\n",
    "    df_result_mdrp[col] = df_result_mdrp[col + '_Run1_md']"
   ]
  },
  {
   "cell_type": "markdown",
   "id": "745dc332",
   "metadata": {},
   "source": [
    "  "
   ]
  },
  {
   "cell_type": "code",
   "execution_count": 15,
   "id": "efb609c8",
   "metadata": {},
   "outputs": [
    {
     "data": {
      "text/plain": [
       "<AxesSubplot:xlabel='year', ylabel='Count'>"
      ]
     },
     "execution_count": 15,
     "metadata": {},
     "output_type": "execute_result"
    },
    {
     "data": {
      "image/png": "[encoded data removed]",
      "text/plain": [
       "<Figure size 432x288 with 1 Axes>"
      ]
     },
     "metadata": {
      "needs_background": "light"
     },
     "output_type": "display_data"
    }
   ],
   "source": [
    "sns.histplot(data=df_result, x='year', bins=25)"
   ]
  },
  {
   "cell_type": "code",
   "execution_count": 16,
   "id": "0bd8c35d",
   "metadata": {},
   "outputs": [
    {
     "data": {
      "text/plain": [
       "(0.0, 365.0)"
      ]
     },
     "execution_count": 16,
     "metadata": {},
     "output_type": "execute_result"
    },
    {
     "data": {
      "image/png": "[encoded data removed]",
      "text/plain": [
       "<Figure size 432x288 with 1 Axes>"
      ]
     },
     "metadata": {
      "needs_background": "light"
     },
     "output_type": "display_data"
    }
   ],
   "source": [
    "sns.histplot(data=df_result, x='day')\n",
    "plt.xlim(0, 365)"
   ]
  },
  {
   "cell_type": "code",
   "execution_count": 17,
   "id": "b3d0764d",
   "metadata": {},
   "outputs": [
    {
     "data": {
      "text/plain": [
       "(0.0, 24.0)"
      ]
     },
     "execution_count": 17,
     "metadata": {},
     "output_type": "execute_result"
    },
    {
     "data": {
      "image/png": "[encoded data removed]",
      "text/plain": [
       "<Figure size 432x288 with 1 Axes>"
      ]
     },
     "metadata": {
      "needs_background": "light"
     },
     "output_type": "display_data"
    }
   ],
   "source": [
    "sns.histplot(data=df_result, x='hour', bins=24)\n",
    "plt.xlim(0, 24)"
   ]
  },
  {
   "cell_type": "code",
   "execution_count": 18,
   "id": "f1bc78b2",
   "metadata": {},
   "outputs": [
    {
     "data": {
      "text/plain": [
       "(0.0, 60.0)"
      ]
     },
     "execution_count": 18,
     "metadata": {},
     "output_type": "execute_result"
    },
    {
     "data": {
      "image/png": "[encoded data removed]",
      "text/plain": [
       "<Figure size 432x288 with 1 Axes>"
      ]
     },
     "metadata": {
      "needs_background": "light"
     },
     "output_type": "display_data"
    }
   ],
   "source": [
    "sns.histplot(data=df_result, x='minute', bins=60)\n",
    "plt.xlim(0, 60)"
   ]
  },
  {
   "cell_type": "code",
   "execution_count": 19,
   "id": "d57b3ebc",
   "metadata": {},
   "outputs": [
    {
     "data": {
      "text/plain": [
       "(0.0, 60.0)"
      ]
     },
     "execution_count": 19,
     "metadata": {},
     "output_type": "execute_result"
    },
    {
     "data": {
      "image/png": "[encoded data removed]",
      "text/plain": [
       "<Figure size 432x288 with 1 Axes>"
      ]
     },
     "metadata": {
      "needs_background": "light"
     },
     "output_type": "display_data"
    }
   ],
   "source": [
    "sns.histplot(data=df_result, x='second', bins=60)\n",
    "plt.xlim(0, 60)"
   ]
  },
  {
   "cell_type": "markdown",
   "id": "b9f42837",
   "metadata": {},
   "source": [
    "  "
   ]
  },
  {
   "cell_type": "markdown",
   "id": "26b20b53",
   "metadata": {},
   "source": [
    "After metadata reprocessing:"
   ]
  },
  {
   "cell_type": "code",
   "execution_count": 20,
   "id": "cb00335c",
   "metadata": {},
   "outputs": [
    {
     "data": {
      "text/plain": [
       "<AxesSubplot:xlabel='year', ylabel='Count'>"
      ]
     },
     "execution_count": 20,
     "metadata": {},
     "output_type": "execute_result"
    },
    {
     "data": {
      "image/png": "[encoded data removed]",
      "text/plain": [
       "<Figure size 432x288 with 1 Axes>"
      ]
     },
     "metadata": {
      "needs_background": "light"
     },
     "output_type": "display_data"
    }
   ],
   "source": [
    "sns.histplot(data=df_result_mdrp, x='year', bins=25)"
   ]
  },
  {
   "cell_type": "code",
   "execution_count": 21,
   "id": "479b7502",
   "metadata": {},
   "outputs": [
    {
     "data": {
      "text/plain": [
       "(0.0, 365.0)"
      ]
     },
     "execution_count": 21,
     "metadata": {},
     "output_type": "execute_result"
    },
    {
     "data": {
      "image/png": "[encoded data removed]",
      "text/plain": [
       "<Figure size 432x288 with 1 Axes>"
      ]
     },
     "metadata": {
      "needs_background": "light"
     },
     "output_type": "display_data"
    }
   ],
   "source": [
    "sns.histplot(data=df_result_mdrp, x='day')\n",
    "plt.xlim(0, 365)"
   ]
  },
  {
   "cell_type": "code",
   "execution_count": 22,
   "id": "378f0cb5",
   "metadata": {},
   "outputs": [
    {
     "data": {
      "text/plain": [
       "(0.0, 24.0)"
      ]
     },
     "execution_count": 22,
     "metadata": {},
     "output_type": "execute_result"
    },
    {
     "data": {
      "image/png": "[encoded data removed]",
      "text/plain": [
       "<Figure size 432x288 with 1 Axes>"
      ]
     },
     "metadata": {
      "needs_background": "light"
     },
     "output_type": "display_data"
    }
   ],
   "source": [
    "sns.histplot(data=df_result_mdrp, x='hour', bins=24)\n",
    "plt.xlim(0, 24)"
   ]
  },
  {
   "cell_type": "code",
   "execution_count": 23,
   "id": "09890e7b",
   "metadata": {},
   "outputs": [
    {
     "data": {
      "text/plain": [
       "(0.0, 60.0)"
      ]
     },
     "execution_count": 23,
     "metadata": {},
     "output_type": "execute_result"
    },
    {
     "data": {
      "image/png": "[encoded data removed]",
      "text/plain": [
       "<Figure size 432x288 with 1 Axes>"
      ]
     },
     "metadata": {
      "needs_background": "light"
     },
     "output_type": "display_data"
    }
   ],
   "source": [
    "sns.histplot(data=df_result_mdrp, x='minute', bins=60)\n",
    "plt.xlim(0, 60)"
   ]
  },
  {
   "cell_type": "code",
   "execution_count": 24,
   "id": "06f90ea8",
   "metadata": {},
   "outputs": [
    {
     "data": {
      "text/plain": [
       "(0.0, 60.0)"
      ]
     },
     "execution_count": 24,
     "metadata": {},
     "output_type": "execute_result"
    },
    {
     "data": {
      "image/png": "[encoded data removed]",
      "text/plain": [
       "<Figure size 432x288 with 1 Axes>"
      ]
     },
     "metadata": {
      "needs_background": "light"
     },
     "output_type": "display_data"
    }
   ],
   "source": [
    "sns.histplot(data=df_result_mdrp, x='second', bins=60)\n",
    "plt.xlim(0, 60)"
   ]
  },
  {
   "cell_type": "markdown",
   "id": "54cb7273",
   "metadata": {},
   "source": [
    "  "
   ]
  },
  {
   "cell_type": "markdown",
   "id": "68eb2217",
   "metadata": {},
   "source": [
    "Shape results to fit microapplication data model:"
   ]
  },
  {
   "cell_type": "code",
   "execution_count": 17,
   "id": "894e46fa",
   "metadata": {},
   "outputs": [
    {
     "name": "stderr",
     "output_type": "stream",
     "text": [
      "<ipython-input-17-b6e43a00ed75>:3: FutureWarning: The default value of regex will change from True to False in a future version.\n",
      "  df_result['File name'] = df_result['Roll'].astype(str) + '/' + df_result['Subdirectory'].astype(str) + '/' + df_result['filename'].str.replace('.png', '')\n"
     ]
    }
   ],
   "source": [
    "df_result = df_result_mdrp\n",
    "df_result['ID'] = df_result.index\n",
    "df_result['File name'] = df_result['Roll'].astype(str) + '/' + df_result['Subdirectory'].astype(str) + '/' + df_result['filename'].str.replace('.png', '')\n",
    "df_result['Minimum frequency'] = df_result['fmin']\n",
    "df_result['Maximum depth'] = df_result['max_depth']\n",
    "df_result['Subdirectory name'] = df_result['Subdirectory']\n",
    "df_result['Satellite number'] = df_result['satellite_number']\n",
    "df_result['Ground station number'] = df_result['station_number']\n",
    "df_result['Ground station name'] = df_result['Station Name']\n",
    "df_result['Ground station code'] = df_result['3 - Letter Code']\n",
    "df_result['Latitude'] = df_result['LAT.']\n",
    "df_result['Longitude'] = df_result['LONG. ']"
   ]
  },
  {
   "cell_type": "code",
   "execution_count": 18,
   "id": "3a324242",
   "metadata": {},
   "outputs": [],
   "source": [
    "#Constuct timestamp\n",
    "df_result['day_of_year'] = df_result['day']\n",
    "df_result['day_of_year'] = df_result['day_of_year'].apply(lambda x: np.nan if x==0 else x)\n",
    "df_result['day_of_year'] = df_result['day_of_year'].apply(lambda x: np.nan if x>365 else x)\n",
    "df_result['month_day'] = pd.to_datetime(df_result['day_of_year'], format='%j').dt.strftime('%m-%d')\n",
    "df_result['month'] = df_result['month_day'].str.split('-').str[0]\n",
    "df_result['day'] = df_result['month_day'].str.split('-').str[1]\n",
    "df_result['Timestamp'] = pd.to_datetime(df_result[['year', 'month', 'day', 'hour', 'minute', 'second']], format='%Y-%m-%d %H:%M:%S')"
   ]
  },
  {
   "cell_type": "code",
   "execution_count": 19,
   "id": "3cbf8263",
   "metadata": {},
   "outputs": [
    {
     "name": "stdout",
     "output_type": "stream",
     "text": [
      "812606\n"
     ]
    },
    {
     "data": {
      "text/html": [
       "<div>\n",
       "<style scoped>\n",
       "    .dataframe tbody tr th:only-of-type {\n",
       "        vertical-align: middle;\n",
       "    }\n",
       "\n",
       "    .dataframe tbody tr th {\n",
       "        vertical-align: top;\n",
       "    }\n",
       "\n",
       "    .dataframe thead th {\n",
       "        text-align: right;\n",
       "    }\n",
       "</style>\n",
       "<table border=\"1\" class=\"dataframe\">\n",
       "  <thead>\n",
       "    <tr style=\"text-align: right;\">\n",
       "      <th></th>\n",
       "      <th>ID</th>\n",
       "      <th>File name</th>\n",
       "      <th>Minimum frequency</th>\n",
       "      <th>Maximum depth</th>\n",
       "      <th>Subdirectory name</th>\n",
       "      <th>Satellite number</th>\n",
       "      <th>Ground station number</th>\n",
       "      <th>Timestamp</th>\n",
       "      <th>Ground station name</th>\n",
       "      <th>Ground station code</th>\n",
       "      <th>Latitude</th>\n",
       "      <th>Longitude</th>\n",
       "    </tr>\n",
       "  </thead>\n",
       "  <tbody>\n",
       "    <tr>\n",
       "      <th>0</th>\n",
       "      <td>0</td>\n",
       "      <td>R014207815/3488-15A/10</td>\n",
       "      <td>1.5</td>\n",
       "      <td>387.500000</td>\n",
       "      <td>3488-15A</td>\n",
       "      <td>1.0</td>\n",
       "      <td>12.0</td>\n",
       "      <td>1961-04-21 11:11:12</td>\n",
       "      <td>Woomera, Austalia</td>\n",
       "      <td>WOO</td>\n",
       "      <td>31.1S</td>\n",
       "      <td>136.8E</td>\n",
       "    </tr>\n",
       "    <tr>\n",
       "      <th>1</th>\n",
       "      <td>1</td>\n",
       "      <td>R014207815/3488-15A/101</td>\n",
       "      <td>1.5</td>\n",
       "      <td>556.250000</td>\n",
       "      <td>3488-15A</td>\n",
       "      <td>1.0</td>\n",
       "      <td>12.0</td>\n",
       "      <td>1961-01-11 11:11:21</td>\n",
       "      <td>Woomera, Austalia</td>\n",
       "      <td>WOO</td>\n",
       "      <td>31.1S</td>\n",
       "      <td>136.8E</td>\n",
       "    </tr>\n",
       "    <tr>\n",
       "      <th>2</th>\n",
       "      <td>2</td>\n",
       "      <td>R014207815/3488-15A/102</td>\n",
       "      <td>1.5</td>\n",
       "      <td>654.166667</td>\n",
       "      <td>3488-15A</td>\n",
       "      <td>0.0</td>\n",
       "      <td>21.0</td>\n",
       "      <td>1960-04-11 20:21:11</td>\n",
       "      <td>Orroral Valley, Australia</td>\n",
       "      <td>RAL</td>\n",
       "      <td>35.6S</td>\n",
       "      <td>149E</td>\n",
       "    </tr>\n",
       "    <tr>\n",
       "      <th>3</th>\n",
       "      <td>3</td>\n",
       "      <td>R014207815/3488-15A/106</td>\n",
       "      <td>1.5</td>\n",
       "      <td>504.166667</td>\n",
       "      <td>3488-15A</td>\n",
       "      <td>0.0</td>\n",
       "      <td>21.0</td>\n",
       "      <td>1960-04-20 20:21:11</td>\n",
       "      <td>Orroral Valley, Australia</td>\n",
       "      <td>RAL</td>\n",
       "      <td>35.6S</td>\n",
       "      <td>149E</td>\n",
       "    </tr>\n",
       "    <tr>\n",
       "      <th>4</th>\n",
       "      <td>4</td>\n",
       "      <td>R014207815/3488-15A/107</td>\n",
       "      <td>1.5</td>\n",
       "      <td>504.166667</td>\n",
       "      <td>3488-15A</td>\n",
       "      <td>0.0</td>\n",
       "      <td>12.0</td>\n",
       "      <td>1961-01-11 11:20:21</td>\n",
       "      <td>Woomera, Austalia</td>\n",
       "      <td>WOO</td>\n",
       "      <td>31.1S</td>\n",
       "      <td>136.8E</td>\n",
       "    </tr>\n",
       "  </tbody>\n",
       "</table>\n",
       "</div>"
      ],
      "text/plain": [
       "   ID                File name  Minimum frequency  Maximum depth  \\\n",
       "0   0   R014207815/3488-15A/10                1.5     387.500000   \n",
       "1   1  R014207815/3488-15A/101                1.5     556.250000   \n",
       "2   2  R014207815/3488-15A/102                1.5     654.166667   \n",
       "3   3  R014207815/3488-15A/106                1.5     504.166667   \n",
       "4   4  R014207815/3488-15A/107                1.5     504.166667   \n",
       "\n",
       "  Subdirectory name  Satellite number  Ground station number  \\\n",
       "0          3488-15A               1.0                   12.0   \n",
       "1          3488-15A               1.0                   12.0   \n",
       "2          3488-15A               0.0                   21.0   \n",
       "3          3488-15A               0.0                   21.0   \n",
       "4          3488-15A               0.0                   12.0   \n",
       "\n",
       "            Timestamp        Ground station name Ground station code Latitude  \\\n",
       "0 1961-04-21 11:11:12          Woomera, Austalia                 WOO    31.1S   \n",
       "1 1961-01-11 11:11:21          Woomera, Austalia                 WOO    31.1S   \n",
       "2 1960-04-11 20:21:11  Orroral Valley, Australia                 RAL    35.6S   \n",
       "3 1960-04-20 20:21:11  Orroral Valley, Australia                 RAL    35.6S   \n",
       "4 1961-01-11 11:20:21          Woomera, Austalia                 WOO    31.1S   \n",
       "\n",
       "  Longitude  \n",
       "0    136.8E  \n",
       "1    136.8E  \n",
       "2      149E  \n",
       "3      149E  \n",
       "4    136.8E  "
      ]
     },
     "execution_count": 19,
     "metadata": {},
     "output_type": "execute_result"
    }
   ],
   "source": [
    "df1 = df_result[list(df_current.columns)]\n",
    "print(len(df1))\n",
    "df1.head()"
   ]
  },
  {
   "cell_type": "markdown",
   "id": "a43404d2",
   "metadata": {},
   "source": [
    "#  "
   ]
  },
  {
   "cell_type": "markdown",
   "id": "7c918634",
   "metadata": {},
   "source": [
    "#### Adjust Lat, Lng:"
   ]
  },
  {
   "cell_type": "code",
   "execution_count": 46,
   "id": "826493a2",
   "metadata": {},
   "outputs": [
    {
     "name": "stderr",
     "output_type": "stream",
     "text": [
      "<ipython-input-46-008c3a16b3f0>:1: SettingWithCopyWarning: \n",
      "A value is trying to be set on a copy of a slice from a DataFrame.\n",
      "Try using .loc[row_indexer,col_indexer] = value instead\n",
      "\n",
      "See the caveats in the documentation: https://pandas.pydata.org/pandas-docs/stable/user_guide/indexing.html#returning-a-view-versus-a-copy\n",
      "  df1['Latitude'] = df1['Latitude'].fillna('')\n"
     ]
    }
   ],
   "source": [
    "df1['Latitude'] = df1['Latitude'].fillna('')"
   ]
  },
  {
   "cell_type": "code",
   "execution_count": 49,
   "id": "9e0beeb7",
   "metadata": {},
   "outputs": [
    {
     "name": "stderr",
     "output_type": "stream",
     "text": [
      "<ipython-input-49-d9b4edfe884f>:1: SettingWithCopyWarning: \n",
      "A value is trying to be set on a copy of a slice from a DataFrame.\n",
      "Try using .loc[row_indexer,col_indexer] = value instead\n",
      "\n",
      "See the caveats in the documentation: https://pandas.pydata.org/pandas-docs/stable/user_guide/indexing.html#returning-a-view-versus-a-copy\n",
      "  df1['Latitude'] = df1['Latitude'].apply(lambda x: fix_Lat(x) if 'S' in x else x)\n",
      "<ipython-input-49-d9b4edfe884f>:2: SettingWithCopyWarning: \n",
      "A value is trying to be set on a copy of a slice from a DataFrame.\n",
      "Try using .loc[row_indexer,col_indexer] = value instead\n",
      "\n",
      "See the caveats in the documentation: https://pandas.pydata.org/pandas-docs/stable/user_guide/indexing.html#returning-a-view-versus-a-copy\n",
      "  df1['Latitude'] = df1['Latitude'].str.replace('N', '')\n"
     ]
    }
   ],
   "source": [
    "df1['Latitude'] = df1['Latitude'].apply(lambda x: fix_Lat(x) if 'S' in x else x)\n",
    "df1['Latitude'] = df1['Latitude'].str.replace('N', '')"
   ]
  },
  {
   "cell_type": "code",
   "execution_count": 50,
   "id": "ce0e1696",
   "metadata": {},
   "outputs": [
    {
     "name": "stderr",
     "output_type": "stream",
     "text": [
      "<ipython-input-50-fc4f9a02df02>:1: SettingWithCopyWarning: \n",
      "A value is trying to be set on a copy of a slice from a DataFrame.\n",
      "Try using .loc[row_indexer,col_indexer] = value instead\n",
      "\n",
      "See the caveats in the documentation: https://pandas.pydata.org/pandas-docs/stable/user_guide/indexing.html#returning-a-view-versus-a-copy\n",
      "  df1['Longitude'] = df1['Longitude'].fillna('')\n"
     ]
    }
   ],
   "source": [
    "df1['Longitude'] = df1['Longitude'].fillna('')"
   ]
  },
  {
   "cell_type": "code",
   "execution_count": 52,
   "id": "be76c820",
   "metadata": {},
   "outputs": [
    {
     "name": "stderr",
     "output_type": "stream",
     "text": [
      "<ipython-input-52-f969899e1882>:1: SettingWithCopyWarning: \n",
      "A value is trying to be set on a copy of a slice from a DataFrame.\n",
      "Try using .loc[row_indexer,col_indexer] = value instead\n",
      "\n",
      "See the caveats in the documentation: https://pandas.pydata.org/pandas-docs/stable/user_guide/indexing.html#returning-a-view-versus-a-copy\n",
      "  df1['Longitude'] = df1['Longitude'].apply(lambda x: fix_Lng(x) if 'W' in x else x)\n",
      "<ipython-input-52-f969899e1882>:2: SettingWithCopyWarning: \n",
      "A value is trying to be set on a copy of a slice from a DataFrame.\n",
      "Try using .loc[row_indexer,col_indexer] = value instead\n",
      "\n",
      "See the caveats in the documentation: https://pandas.pydata.org/pandas-docs/stable/user_guide/indexing.html#returning-a-view-versus-a-copy\n",
      "  df1['Longitude'] = df1['Longitude'].str.replace('E', '')\n"
     ]
    }
   ],
   "source": [
    "df1['Longitude'] = df1['Longitude'].apply(lambda x: fix_Lng(x) if 'W' in x else x)\n",
    "df1['Longitude'] = df1['Longitude'].str.replace('E', '')"
   ]
  },
  {
   "cell_type": "markdown",
   "id": "89f3960d",
   "metadata": {},
   "source": [
    "#  "
   ]
  },
  {
   "cell_type": "markdown",
   "id": "16abb590",
   "metadata": {},
   "source": [
    "#### Adjust years:"
   ]
  },
  {
   "cell_type": "code",
   "execution_count": 57,
   "id": "7f6bc4b8",
   "metadata": {},
   "outputs": [
    {
     "name": "stderr",
     "output_type": "stream",
     "text": [
      "<ipython-input-57-7cbefc1aa568>:1: SettingWithCopyWarning: \n",
      "A value is trying to be set on a copy of a slice from a DataFrame.\n",
      "Try using .loc[row_indexer,col_indexer] = value instead\n",
      "\n",
      "See the caveats in the documentation: https://pandas.pydata.org/pandas-docs/stable/user_guide/indexing.html#returning-a-view-versus-a-copy\n",
      "  df1['Timestamp'] = df1['Timestamp'] + pd.offsets.DateOffset(years=2)\n"
     ]
    }
   ],
   "source": [
    "df1['Timestamp'] = df1['Timestamp'] + pd.offsets.DateOffset(years=2)"
   ]
  },
  {
   "cell_type": "markdown",
   "id": "e97b3a21",
   "metadata": {},
   "source": [
    "#  "
   ]
  },
  {
   "cell_type": "markdown",
   "id": "40d4af0b",
   "metadata": {},
   "source": [
    "#### Compare random sample of results with current microapplication data:"
   ]
  },
  {
   "cell_type": "code",
   "execution_count": 61,
   "id": "af12b92e",
   "metadata": {
    "scrolled": false
   },
   "outputs": [
    {
     "data": {
      "text/html": [
       "<div>\n",
       "<style scoped>\n",
       "    .dataframe tbody tr th:only-of-type {\n",
       "        vertical-align: middle;\n",
       "    }\n",
       "\n",
       "    .dataframe tbody tr th {\n",
       "        vertical-align: top;\n",
       "    }\n",
       "\n",
       "    .dataframe thead th {\n",
       "        text-align: right;\n",
       "    }\n",
       "</style>\n",
       "<table border=\"1\" class=\"dataframe\">\n",
       "  <thead>\n",
       "    <tr style=\"text-align: right;\">\n",
       "      <th></th>\n",
       "      <th>ID_sample</th>\n",
       "      <th>File name_sample</th>\n",
       "      <th>Minimum frequency_sample</th>\n",
       "      <th>Maximum depth_sample</th>\n",
       "      <th>Subdirectory name_sample</th>\n",
       "      <th>Satellite number_sample</th>\n",
       "      <th>Ground station number_sample</th>\n",
       "      <th>Timestamp_sample</th>\n",
       "      <th>Ground station name_sample</th>\n",
       "      <th>Ground station code_sample</th>\n",
       "      <th>Latitude_sample</th>\n",
       "      <th>Longitude_sample</th>\n",
       "    </tr>\n",
       "  </thead>\n",
       "  <tbody>\n",
       "    <tr>\n",
       "      <th>340979</th>\n",
       "      <td>340979</td>\n",
       "      <td>R014207942/1953-9B/271</td>\n",
       "      <td>1.661290</td>\n",
       "      <td>1080.000000</td>\n",
       "      <td>1953-9B</td>\n",
       "      <td>1.0</td>\n",
       "      <td>9.0</td>\n",
       "      <td>1966-08-16 20:36:55</td>\n",
       "      <td>South Atlantic, Falkland Islands</td>\n",
       "      <td>SOL</td>\n",
       "      <td></td>\n",
       "      <td></td>\n",
       "    </tr>\n",
       "    <tr>\n",
       "      <th>392126</th>\n",
       "      <td>392126</td>\n",
       "      <td>R014207947/1880-12A/60</td>\n",
       "      <td>3.063636</td>\n",
       "      <td>1184.905660</td>\n",
       "      <td>1880-12A</td>\n",
       "      <td>1.0</td>\n",
       "      <td>14.0</td>\n",
       "      <td>1966-06-03 05:19:58</td>\n",
       "      <td>Blossom Point, Maryland</td>\n",
       "      <td>BPT</td>\n",
       "      <td>38.4</td>\n",
       "      <td></td>\n",
       "    </tr>\n",
       "    <tr>\n",
       "      <th>549796</th>\n",
       "      <td>549796</td>\n",
       "      <td>R014207958/2826-50B/272</td>\n",
       "      <td>1.504032</td>\n",
       "      <td>650.000000</td>\n",
       "      <td>2826-50B</td>\n",
       "      <td>NaN</td>\n",
       "      <td>NaN</td>\n",
       "      <td>NaT</td>\n",
       "      <td>NaN</td>\n",
       "      <td>NaN</td>\n",
       "      <td></td>\n",
       "      <td></td>\n",
       "    </tr>\n",
       "    <tr>\n",
       "      <th>333487</th>\n",
       "      <td>333487</td>\n",
       "      <td>R014207940F/426/Image0052</td>\n",
       "      <td>1.500000</td>\n",
       "      <td>1403.225806</td>\n",
       "      <td>426</td>\n",
       "      <td>1.0</td>\n",
       "      <td>3.0</td>\n",
       "      <td>1965-02-09 23:16:34</td>\n",
       "      <td>Ottawa, Canada</td>\n",
       "      <td>OTT</td>\n",
       "      <td>45.4</td>\n",
       "      <td></td>\n",
       "    </tr>\n",
       "    <tr>\n",
       "      <th>532692</th>\n",
       "      <td>532692</td>\n",
       "      <td>R014207957/2631-1A/88</td>\n",
       "      <td>1.745968</td>\n",
       "      <td>1280.769231</td>\n",
       "      <td>2631-1A</td>\n",
       "      <td>1.0</td>\n",
       "      <td>1.0</td>\n",
       "      <td>1967-06-08 07:14:00</td>\n",
       "      <td>Blossom Point, Maryland</td>\n",
       "      <td>BPT</td>\n",
       "      <td>38.4</td>\n",
       "      <td></td>\n",
       "    </tr>\n",
       "    <tr>\n",
       "      <th>465763</th>\n",
       "      <td>465763</td>\n",
       "      <td>R014207953/2655-1A/230</td>\n",
       "      <td>1.697581</td>\n",
       "      <td>1119.230769</td>\n",
       "      <td>2655-1A</td>\n",
       "      <td>1.0</td>\n",
       "      <td>1.0</td>\n",
       "      <td>1967-06-20 12:36:35</td>\n",
       "      <td>Blossom Point, Maryland</td>\n",
       "      <td>BPT</td>\n",
       "      <td>38.4</td>\n",
       "      <td></td>\n",
       "    </tr>\n",
       "    <tr>\n",
       "      <th>444994</th>\n",
       "      <td>444994</td>\n",
       "      <td>R014207951/2410-4B/163</td>\n",
       "      <td>1.665323</td>\n",
       "      <td>1366.666667</td>\n",
       "      <td>2410-4B</td>\n",
       "      <td>6.0</td>\n",
       "      <td>1.0</td>\n",
       "      <td>1963-07-10 14:48:05</td>\n",
       "      <td>Resolute Bay, No.W.Territories</td>\n",
       "      <td>RES</td>\n",
       "      <td>74.7</td>\n",
       "      <td></td>\n",
       "    </tr>\n",
       "    <tr>\n",
       "      <th>597260</th>\n",
       "      <td>597260</td>\n",
       "      <td>R014207962/1472-5A/202</td>\n",
       "      <td>1.729839</td>\n",
       "      <td>1484.615385</td>\n",
       "      <td>1472-5A</td>\n",
       "      <td>1.0</td>\n",
       "      <td>5.0</td>\n",
       "      <td>1966-01-25 14:41:57</td>\n",
       "      <td>College, Fairbanks, Alaska</td>\n",
       "      <td>COL</td>\n",
       "      <td>64.9</td>\n",
       "      <td></td>\n",
       "    </tr>\n",
       "    <tr>\n",
       "      <th>106692</th>\n",
       "      <td>106692</td>\n",
       "      <td>R014207840/3019-43A/24</td>\n",
       "      <td>1.608871</td>\n",
       "      <td>1310.204082</td>\n",
       "      <td>3019-43A</td>\n",
       "      <td>2.0</td>\n",
       "      <td>12.0</td>\n",
       "      <td>1963-04-21 11:20:21</td>\n",
       "      <td>Woomera, Austalia</td>\n",
       "      <td>WOO</td>\n",
       "      <td></td>\n",
       "      <td>136.8</td>\n",
       "    </tr>\n",
       "    <tr>\n",
       "      <th>158424</th>\n",
       "      <td>158424</td>\n",
       "      <td>R014207844/2902-43B/267</td>\n",
       "      <td>1.645161</td>\n",
       "      <td>1300.000000</td>\n",
       "      <td>2902-43B</td>\n",
       "      <td>NaN</td>\n",
       "      <td>NaN</td>\n",
       "      <td>NaT</td>\n",
       "      <td>NaN</td>\n",
       "      <td>NaN</td>\n",
       "      <td></td>\n",
       "      <td></td>\n",
       "    </tr>\n",
       "  </tbody>\n",
       "</table>\n",
       "</div>"
      ],
      "text/plain": [
       "        ID_sample           File name_sample  Minimum frequency_sample  \\\n",
       "340979     340979     R014207942/1953-9B/271                  1.661290   \n",
       "392126     392126     R014207947/1880-12A/60                  3.063636   \n",
       "549796     549796    R014207958/2826-50B/272                  1.504032   \n",
       "333487     333487  R014207940F/426/Image0052                  1.500000   \n",
       "532692     532692      R014207957/2631-1A/88                  1.745968   \n",
       "465763     465763     R014207953/2655-1A/230                  1.697581   \n",
       "444994     444994     R014207951/2410-4B/163                  1.665323   \n",
       "597260     597260     R014207962/1472-5A/202                  1.729839   \n",
       "106692     106692     R014207840/3019-43A/24                  1.608871   \n",
       "158424     158424    R014207844/2902-43B/267                  1.645161   \n",
       "\n",
       "        Maximum depth_sample Subdirectory name_sample  \\\n",
       "340979           1080.000000                  1953-9B   \n",
       "392126           1184.905660                 1880-12A   \n",
       "549796            650.000000                 2826-50B   \n",
       "333487           1403.225806                      426   \n",
       "532692           1280.769231                  2631-1A   \n",
       "465763           1119.230769                  2655-1A   \n",
       "444994           1366.666667                  2410-4B   \n",
       "597260           1484.615385                  1472-5A   \n",
       "106692           1310.204082                 3019-43A   \n",
       "158424           1300.000000                 2902-43B   \n",
       "\n",
       "        Satellite number_sample  Ground station number_sample  \\\n",
       "340979                      1.0                           9.0   \n",
       "392126                      1.0                          14.0   \n",
       "549796                      NaN                           NaN   \n",
       "333487                      1.0                           3.0   \n",
       "532692                      1.0                           1.0   \n",
       "465763                      1.0                           1.0   \n",
       "444994                      6.0                           1.0   \n",
       "597260                      1.0                           5.0   \n",
       "106692                      2.0                          12.0   \n",
       "158424                      NaN                           NaN   \n",
       "\n",
       "          Timestamp_sample        Ground station name_sample  \\\n",
       "340979 1966-08-16 20:36:55  South Atlantic, Falkland Islands   \n",
       "392126 1966-06-03 05:19:58           Blossom Point, Maryland   \n",
       "549796                 NaT                               NaN   \n",
       "333487 1965-02-09 23:16:34                    Ottawa, Canada   \n",
       "532692 1967-06-08 07:14:00           Blossom Point, Maryland   \n",
       "465763 1967-06-20 12:36:35           Blossom Point, Maryland   \n",
       "444994 1963-07-10 14:48:05    Resolute Bay, No.W.Territories   \n",
       "597260 1966-01-25 14:41:57        College, Fairbanks, Alaska   \n",
       "106692 1963-04-21 11:20:21                 Woomera, Austalia   \n",
       "158424                 NaT                               NaN   \n",
       "\n",
       "       Ground station code_sample Latitude_sample Longitude_sample  \n",
       "340979                        SOL                                   \n",
       "392126                        BPT            38.4                   \n",
       "549796                        NaN                                   \n",
       "333487                        OTT            45.4                   \n",
       "532692                        BPT            38.4                   \n",
       "465763                        BPT            38.4                   \n",
       "444994                        RES            74.7                   \n",
       "597260                        COL            64.9                   \n",
       "106692                        WOO                            136.8  \n",
       "158424                        NaN                                   "
      ]
     },
     "execution_count": 61,
     "metadata": {},
     "output_type": "execute_result"
    }
   ],
   "source": [
    "df_sample = df1.sample(10)\n",
    "df_sample = df_sample.add_suffix('_sample')\n",
    "df_sample"
   ]
  },
  {
   "cell_type": "code",
   "execution_count": 62,
   "id": "4494f702",
   "metadata": {
    "scrolled": true
   },
   "outputs": [
    {
     "data": {
      "text/html": [
       "<div>\n",
       "<style scoped>\n",
       "    .dataframe tbody tr th:only-of-type {\n",
       "        vertical-align: middle;\n",
       "    }\n",
       "\n",
       "    .dataframe tbody tr th {\n",
       "        vertical-align: top;\n",
       "    }\n",
       "\n",
       "    .dataframe thead th {\n",
       "        text-align: right;\n",
       "    }\n",
       "</style>\n",
       "<table border=\"1\" class=\"dataframe\">\n",
       "  <thead>\n",
       "    <tr style=\"text-align: right;\">\n",
       "      <th></th>\n",
       "      <th>ID_sample</th>\n",
       "      <th>File name_sample</th>\n",
       "      <th>Minimum frequency_sample</th>\n",
       "      <th>Maximum depth_sample</th>\n",
       "      <th>Subdirectory name_sample</th>\n",
       "      <th>Satellite number_sample</th>\n",
       "      <th>Ground station number_sample</th>\n",
       "      <th>Timestamp_sample</th>\n",
       "      <th>Ground station name_sample</th>\n",
       "      <th>Ground station code_sample</th>\n",
       "      <th>...</th>\n",
       "      <th>Minimum frequency</th>\n",
       "      <th>Maximum depth</th>\n",
       "      <th>Subdirectory name</th>\n",
       "      <th>Satellite number</th>\n",
       "      <th>Ground station number</th>\n",
       "      <th>Timestamp</th>\n",
       "      <th>Ground station name</th>\n",
       "      <th>Ground station code</th>\n",
       "      <th>Latitude</th>\n",
       "      <th>Longitude</th>\n",
       "    </tr>\n",
       "  </thead>\n",
       "  <tbody>\n",
       "    <tr>\n",
       "      <th>0</th>\n",
       "      <td>340979</td>\n",
       "      <td>R014207942/1953-9B/271</td>\n",
       "      <td>1.661290</td>\n",
       "      <td>1080.000000</td>\n",
       "      <td>1953-9B</td>\n",
       "      <td>1.0</td>\n",
       "      <td>9.0</td>\n",
       "      <td>1966-08-16 20:36:55</td>\n",
       "      <td>South Atlantic, Falkland Islands</td>\n",
       "      <td>SOL</td>\n",
       "      <td>...</td>\n",
       "      <td>1.661290</td>\n",
       "      <td>1080.000000</td>\n",
       "      <td>1953-9B</td>\n",
       "      <td>1</td>\n",
       "      <td>9</td>\n",
       "      <td>1966-08-16 20:36:55</td>\n",
       "      <td>South Atlantic, Falkland Islands</td>\n",
       "      <td>SOL</td>\n",
       "      <td>-51.8</td>\n",
       "      <td>-57.9</td>\n",
       "    </tr>\n",
       "    <tr>\n",
       "      <th>1</th>\n",
       "      <td>392126</td>\n",
       "      <td>R014207947/1880-12A/60</td>\n",
       "      <td>3.063636</td>\n",
       "      <td>1184.905660</td>\n",
       "      <td>1880-12A</td>\n",
       "      <td>1.0</td>\n",
       "      <td>14.0</td>\n",
       "      <td>1966-06-03 05:19:58</td>\n",
       "      <td>Blossom Point, Maryland</td>\n",
       "      <td>BPT</td>\n",
       "      <td>...</td>\n",
       "      <td>3.063636</td>\n",
       "      <td>1184.905660</td>\n",
       "      <td>1880-12A</td>\n",
       "      <td>1</td>\n",
       "      <td>14</td>\n",
       "      <td>1966-06-03 05:19:58</td>\n",
       "      <td>East Grand Forks, Minnesota</td>\n",
       "      <td>GRK</td>\n",
       "      <td>48.0</td>\n",
       "      <td>-97.1</td>\n",
       "    </tr>\n",
       "    <tr>\n",
       "      <th>2</th>\n",
       "      <td>532692</td>\n",
       "      <td>R014207957/2631-1A/88</td>\n",
       "      <td>1.745968</td>\n",
       "      <td>1280.769231</td>\n",
       "      <td>2631-1A</td>\n",
       "      <td>1.0</td>\n",
       "      <td>1.0</td>\n",
       "      <td>1967-06-08 07:14:00</td>\n",
       "      <td>Blossom Point, Maryland</td>\n",
       "      <td>BPT</td>\n",
       "      <td>...</td>\n",
       "      <td>1.745968</td>\n",
       "      <td>1280.769231</td>\n",
       "      <td>2631-1A</td>\n",
       "      <td>1</td>\n",
       "      <td>1</td>\n",
       "      <td>1967-06-08 07:14:00</td>\n",
       "      <td>Blossom Point, Maryland</td>\n",
       "      <td>BPT</td>\n",
       "      <td>38.4</td>\n",
       "      <td>-77.1</td>\n",
       "    </tr>\n",
       "    <tr>\n",
       "      <th>3</th>\n",
       "      <td>465763</td>\n",
       "      <td>R014207953/2655-1A/230</td>\n",
       "      <td>1.697581</td>\n",
       "      <td>1119.230769</td>\n",
       "      <td>2655-1A</td>\n",
       "      <td>1.0</td>\n",
       "      <td>1.0</td>\n",
       "      <td>1967-06-20 12:36:35</td>\n",
       "      <td>Blossom Point, Maryland</td>\n",
       "      <td>BPT</td>\n",
       "      <td>...</td>\n",
       "      <td>1.697581</td>\n",
       "      <td>1119.230769</td>\n",
       "      <td>2655-1A</td>\n",
       "      <td>1</td>\n",
       "      <td>1</td>\n",
       "      <td>1967-06-20 12:36:35</td>\n",
       "      <td>Blossom Point, Maryland</td>\n",
       "      <td>BPT</td>\n",
       "      <td>38.4</td>\n",
       "      <td>-77.1</td>\n",
       "    </tr>\n",
       "    <tr>\n",
       "      <th>4</th>\n",
       "      <td>597260</td>\n",
       "      <td>R014207962/1472-5A/202</td>\n",
       "      <td>1.729839</td>\n",
       "      <td>1484.615385</td>\n",
       "      <td>1472-5A</td>\n",
       "      <td>1.0</td>\n",
       "      <td>5.0</td>\n",
       "      <td>1966-01-25 14:41:57</td>\n",
       "      <td>College, Fairbanks, Alaska</td>\n",
       "      <td>COL</td>\n",
       "      <td>...</td>\n",
       "      <td>1.729839</td>\n",
       "      <td>1484.615385</td>\n",
       "      <td>1472-5A</td>\n",
       "      <td>1</td>\n",
       "      <td>5</td>\n",
       "      <td>1966-01-25 14:41:57</td>\n",
       "      <td>Quito, Ecuador</td>\n",
       "      <td>QUI</td>\n",
       "      <td>-0.6</td>\n",
       "      <td>-78.6</td>\n",
       "    </tr>\n",
       "  </tbody>\n",
       "</table>\n",
       "<p>5 rows × 24 columns</p>\n",
       "</div>"
      ],
      "text/plain": [
       "   ID_sample        File name_sample  Minimum frequency_sample  \\\n",
       "0     340979  R014207942/1953-9B/271                  1.661290   \n",
       "1     392126  R014207947/1880-12A/60                  3.063636   \n",
       "2     532692   R014207957/2631-1A/88                  1.745968   \n",
       "3     465763  R014207953/2655-1A/230                  1.697581   \n",
       "4     597260  R014207962/1472-5A/202                  1.729839   \n",
       "\n",
       "   Maximum depth_sample Subdirectory name_sample  Satellite number_sample  \\\n",
       "0           1080.000000                  1953-9B                      1.0   \n",
       "1           1184.905660                 1880-12A                      1.0   \n",
       "2           1280.769231                  2631-1A                      1.0   \n",
       "3           1119.230769                  2655-1A                      1.0   \n",
       "4           1484.615385                  1472-5A                      1.0   \n",
       "\n",
       "   Ground station number_sample    Timestamp_sample  \\\n",
       "0                           9.0 1966-08-16 20:36:55   \n",
       "1                          14.0 1966-06-03 05:19:58   \n",
       "2                           1.0 1967-06-08 07:14:00   \n",
       "3                           1.0 1967-06-20 12:36:35   \n",
       "4                           5.0 1966-01-25 14:41:57   \n",
       "\n",
       "         Ground station name_sample Ground station code_sample  ...  \\\n",
       "0  South Atlantic, Falkland Islands                        SOL  ...   \n",
       "1           Blossom Point, Maryland                        BPT  ...   \n",
       "2           Blossom Point, Maryland                        BPT  ...   \n",
       "3           Blossom Point, Maryland                        BPT  ...   \n",
       "4        College, Fairbanks, Alaska                        COL  ...   \n",
       "\n",
       "  Minimum frequency Maximum depth  Subdirectory name Satellite number  \\\n",
       "0          1.661290   1080.000000            1953-9B                1   \n",
       "1          3.063636   1184.905660           1880-12A                1   \n",
       "2          1.745968   1280.769231            2631-1A                1   \n",
       "3          1.697581   1119.230769            2655-1A                1   \n",
       "4          1.729839   1484.615385            1472-5A                1   \n",
       "\n",
       "   Ground station number            Timestamp  \\\n",
       "0                      9  1966-08-16 20:36:55   \n",
       "1                     14  1966-06-03 05:19:58   \n",
       "2                      1  1967-06-08 07:14:00   \n",
       "3                      1  1967-06-20 12:36:35   \n",
       "4                      5  1966-01-25 14:41:57   \n",
       "\n",
       "                Ground station name  Ground station code  Latitude Longitude  \n",
       "0  South Atlantic, Falkland Islands                  SOL     -51.8     -57.9  \n",
       "1       East Grand Forks, Minnesota                  GRK      48.0     -97.1  \n",
       "2           Blossom Point, Maryland                  BPT      38.4     -77.1  \n",
       "3           Blossom Point, Maryland                  BPT      38.4     -77.1  \n",
       "4                    Quito, Ecuador                  QUI      -0.6     -78.6  \n",
       "\n",
       "[5 rows x 24 columns]"
      ]
     },
     "execution_count": 62,
     "metadata": {},
     "output_type": "execute_result"
    }
   ],
   "source": [
    "df_merge = df_sample.merge(df_current, left_on='File name_sample', right_on='File name')\n",
    "df_merge"
   ]
  },
  {
   "cell_type": "code",
   "execution_count": 63,
   "id": "3f676dd5",
   "metadata": {
    "scrolled": false
   },
   "outputs": [
    {
     "name": "stdout",
     "output_type": "stream",
     "text": [
      "sample ----- current\n",
      "\n",
      "ID:\n",
      "------------\n",
      "340979 ----- 34729\n",
      "392126 ----- 88740\n",
      "532692 ----- 65470\n",
      "465763 ----- 20793\n",
      "597260 ----- 26720\n",
      "------------\n",
      "\n",
      "\n",
      "File name:\n",
      "------------\n",
      "R014207942/1953-9B/271 ----- R014207942/1953-9B/271\n",
      "R014207947/1880-12A/60 ----- R014207947/1880-12A/60\n",
      "R014207957/2631-1A/88 ----- R014207957/2631-1A/88\n",
      "R014207953/2655-1A/230 ----- R014207953/2655-1A/230\n",
      "R014207962/1472-5A/202 ----- R014207962/1472-5A/202\n",
      "------------\n",
      "\n",
      "\n",
      "Minimum frequency:\n",
      "------------\n",
      "1.6612903225806452 ----- 1.6612903225806452\n",
      "3.0636363636363635 ----- 3.0636363636363635\n",
      "1.745967741935484 ----- 1.7459677419354842\n",
      "1.6975806451612905 ----- 1.6975806451612905\n",
      "1.7298387096774193 ----- 1.7298387096774193\n",
      "------------\n",
      "\n",
      "\n",
      "Maximum depth:\n",
      "------------\n",
      "1080.0 ----- 1080.0\n",
      "1184.9056603773586 ----- 1184.9056603773586\n",
      "1280.7692307692307 ----- 1280.7692307692307\n",
      "1119.2307692307693 ----- 1119.2307692307693\n",
      "1484.6153846153848 ----- 1484.6153846153848\n",
      "------------\n",
      "\n",
      "\n",
      "Subdirectory name:\n",
      "------------\n",
      "1953-9B ----- 1953-9B\n",
      "1880-12A ----- 1880-12A\n",
      "2631-1A ----- 2631-1A\n",
      "2655-1A ----- 2655-1A\n",
      "1472-5A ----- 1472-5A\n",
      "------------\n",
      "\n",
      "\n",
      "Satellite number:\n",
      "------------\n",
      "1.0 ----- 1\n",
      "1.0 ----- 1\n",
      "1.0 ----- 1\n",
      "1.0 ----- 1\n",
      "1.0 ----- 1\n",
      "------------\n",
      "\n",
      "\n",
      "Ground station number:\n",
      "------------\n",
      "9.0 ----- 9\n",
      "14.0 ----- 14\n",
      "1.0 ----- 1\n",
      "1.0 ----- 1\n",
      "5.0 ----- 5\n",
      "------------\n",
      "\n",
      "\n",
      "Timestamp:\n",
      "------------\n",
      "1966-08-16 20:36:55 ----- 1966-08-16 20:36:55\n",
      "1966-06-03 05:19:58 ----- 1966-06-03 05:19:58\n",
      "1967-06-08 07:14:00 ----- 1967-06-08 07:14:00\n",
      "1967-06-20 12:36:35 ----- 1967-06-20 12:36:35\n",
      "1966-01-25 14:41:57 ----- 1966-01-25 14:41:57\n",
      "------------\n",
      "\n",
      "\n",
      "Ground station name:\n",
      "------------\n",
      "South Atlantic, Falkland Islands ----- South Atlantic, Falkland Islands\n",
      "Blossom Point, Maryland ----- East Grand Forks, Minnesota\n",
      "Blossom Point, Maryland ----- Blossom Point, Maryland\n",
      "Blossom Point, Maryland ----- Blossom Point, Maryland\n",
      "College, Fairbanks, Alaska ----- Quito, Ecuador\n",
      "------------\n",
      "\n",
      "\n",
      "Ground station code:\n",
      "------------\n",
      "SOL ----- SOL\n",
      "BPT ----- GRK\n",
      "BPT ----- BPT\n",
      "BPT ----- BPT\n",
      "COL ----- QUI\n",
      "------------\n",
      "\n",
      "\n",
      "Latitude:\n",
      "------------\n",
      " ----- -51.8\n",
      "38.4 ----- 48.0\n",
      "38.4 ----- 38.4\n",
      "38.4 ----- 38.4\n",
      "64.9 ----- -0.6\n",
      "------------\n",
      "\n",
      "\n",
      "Longitude:\n",
      "------------\n",
      " ----- -57.9\n",
      " ----- -97.1\n",
      " ----- -77.1\n",
      " ----- -77.1\n",
      " ----- -78.6\n",
      "------------\n",
      "\n",
      "\n"
     ]
    }
   ],
   "source": [
    "print('sample ----- current')\n",
    "print('')\n",
    "for col in list(df_current.columns):\n",
    "    print(col + ':')\n",
    "    print('------------')\n",
    "    for i in range(0, len(df_merge)):\n",
    "        print(str(df_merge[col + '_sample'].iloc[i]) + ' ----- ' + str(df_merge[col].iloc[i]))\n",
    "    print('------------')\n",
    "    print('')\n",
    "    print('')"
   ]
  },
  {
   "cell_type": "code",
   "execution_count": null,
   "id": "d289c484",
   "metadata": {},
   "outputs": [],
   "source": []
  }
 ],
 "metadata": {
  "kernelspec": {
   "display_name": "Python 3",
   "language": "python",
   "name": "python3"
  },
  "language_info": {
   "codemirror_mode": {
    "name": "ipython",
    "version": 3
   },
   "file_extension": ".py",
   "mimetype": "text/x-python",
   "name": "python",
   "nbconvert_exporter": "python",
   "pygments_lexer": "ipython3",
   "version": "3.8.8"
  }
 },
 "nbformat": 4,
 "nbformat_minor": 5
}

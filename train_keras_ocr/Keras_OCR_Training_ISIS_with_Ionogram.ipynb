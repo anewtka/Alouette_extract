{
 "cells": [
  {
   "cell_type": "markdown",
   "id": "1d00c821",
   "metadata": {},
   "source": [
    "# Train Keras OCR with Ionograms\n",
    "\n",
    "In the last Notebook, I tried to train Keras OCR with synthetic data, but the results weren't conclusive. The goal here is to train Keras OCR with the text that is already on the ionograms. Here are the refences :\n",
    "https://keras-ocr.readthedocs.io/en/latest/examples/fine_tuning_recognizer.html\n",
    "https://stackoverflow.com/questions/52004133/how-to-improve-image-quality\n",
    "https://stackoverflow.com/questions/39308030/how-do-i-increase-the-contrast-of-an-image-in-python-opencv"
   ]
  },
  {
   "cell_type": "code",
   "execution_count": null,
   "id": "2033bc95",
   "metadata": {},
   "outputs": [],
   "source": [
    "data_dir = 'L:/DATA/ISIS/keras_ocr/'\n",
    "\n",
    "import os\n",
    "import math\n",
    "import imgaug\n",
    "import numpy as np\n",
    "import matplotlib.pyplot as plt\n",
    "import sklearn.model_selection\n",
    "import tensorflow as tf\n",
    "import datetime\n",
    "\n",
    "import keras_ocr"
   ]
  },
  {
   "cell_type": "markdown",
   "id": "b2e56eca",
   "metadata": {},
   "source": [
    "## Train the recognizer\n",
    "After some research, training the detector seems hard and time consuming, so we'll start by training the recognizer with our own pictures. To train the recognizer, we need small images of digits from ionograms. I cropped 60 ionograms and their metadata. After doing some tests, I came to realize that the detector was working better when the images are only black and white, so I did a little bit of pre-processing (see the Notebook *Pre-process training images*). Here how it looks like."
   ]
  },
  {
   "cell_type": "code",
   "execution_count": 2,
   "id": "2471c75b",
   "metadata": {},
   "outputs": [
    {
     "data": {
      "text/plain": [
       "<matplotlib.image.AxesImage at 0x1d53c63c1f0>"
      ]
     },
     "execution_count": 2,
     "metadata": {},
     "output_type": "execute_result"
    },
    {
     "data": {
      "image/png": "[encoded data removed]",
      "text/plain": [
       "<Figure size 432x288 with 1 Axes>"
      ]
     },
     "metadata": {
      "needs_background": "light"
     },
     "output_type": "display_data"
    }
   ],
   "source": [
    "im = plt.imread(data_dir+'test_images/contrast/20-5.jpg')\n",
    "plt.imshow(im)"
   ]
  },
  {
   "cell_type": "markdown",
   "id": "ddf68123",
   "metadata": {},
   "source": [
    "I also created a txt file with the name of the images and the right numbers. It looks like this."
   ]
  },
  {
   "cell_type": "code",
   "execution_count": 3,
   "id": "e4c4de89",
   "metadata": {},
   "outputs": [
    {
     "data": {
      "text/html": [
       "<div>\n",
       "<style scoped>\n",
       "    .dataframe tbody tr th:only-of-type {\n",
       "        vertical-align: middle;\n",
       "    }\n",
       "\n",
       "    .dataframe tbody tr th {\n",
       "        vertical-align: top;\n",
       "    }\n",
       "\n",
       "    .dataframe thead th {\n",
       "        text-align: right;\n",
       "    }\n",
       "</style>\n",
       "<table border=\"1\" class=\"dataframe\">\n",
       "  <thead>\n",
       "    <tr style=\"text-align: right;\">\n",
       "      <th></th>\n",
       "      <th>file</th>\n",
       "      <th>empty</th>\n",
       "      <th>text</th>\n",
       "    </tr>\n",
       "  </thead>\n",
       "  <tbody>\n",
       "    <tr>\n",
       "      <th>0</th>\n",
       "      <td>L:/DATA/ISIS/keras_ocr/test_images/contrast/1-...</td>\n",
       "      <td>None</td>\n",
       "      <td>36</td>\n",
       "    </tr>\n",
       "    <tr>\n",
       "      <th>1</th>\n",
       "      <td>L:/DATA/ISIS/keras_ocr/test_images/contrast/1-...</td>\n",
       "      <td>None</td>\n",
       "      <td>00</td>\n",
       "    </tr>\n",
       "    <tr>\n",
       "      <th>2</th>\n",
       "      <td>L:/DATA/ISIS/keras_ocr/test_images/contrast/1-...</td>\n",
       "      <td>None</td>\n",
       "      <td>69</td>\n",
       "    </tr>\n",
       "    <tr>\n",
       "      <th>3</th>\n",
       "      <td>L:/DATA/ISIS/keras_ocr/test_images/contrast/1-...</td>\n",
       "      <td>None</td>\n",
       "      <td>11</td>\n",
       "    </tr>\n",
       "    <tr>\n",
       "      <th>4</th>\n",
       "      <td>L:/DATA/ISIS/keras_ocr/test_images/contrast/1-...</td>\n",
       "      <td>None</td>\n",
       "      <td>0354</td>\n",
       "    </tr>\n",
       "    <tr>\n",
       "      <th>5</th>\n",
       "      <td>L:/DATA/ISIS/keras_ocr/test_images/contrast/1-...</td>\n",
       "      <td>None</td>\n",
       "      <td>35</td>\n",
       "    </tr>\n",
       "  </tbody>\n",
       "</table>\n",
       "</div>"
      ],
      "text/plain": [
       "                                                file empty   text\n",
       "0  L:/DATA/ISIS/keras_ocr/test_images/contrast/1-...  None     36\n",
       "1  L:/DATA/ISIS/keras_ocr/test_images/contrast/1-...  None     00\n",
       "2  L:/DATA/ISIS/keras_ocr/test_images/contrast/1-...  None     69\n",
       "3  L:/DATA/ISIS/keras_ocr/test_images/contrast/1-...  None     11\n",
       "4  L:/DATA/ISIS/keras_ocr/test_images/contrast/1-...  None   0354\n",
       "5  L:/DATA/ISIS/keras_ocr/test_images/contrast/1-...  None     35"
      ]
     },
     "execution_count": 3,
     "metadata": {},
     "output_type": "execute_result"
    }
   ],
   "source": [
    "import pandas as pd\n",
    "\n",
    "dataset = pd.read_csv(data_dir+'test_images/contrast/annotations.txt', header=None, \n",
    "                      names=['file','text'], dtype={'file' : str, 'text' : str})\n",
    "dataset['file'] = data_dir+'test_images/contrast/' + dataset['file']\n",
    "dataset['text'] = dataset['text'].astype(str)\n",
    "dataset.insert(1, 'empty', None)\n",
    "\n",
    "dataset.head(6)"
   ]
  },
  {
   "cell_type": "markdown",
   "id": "25e9a58e",
   "metadata": {},
   "source": [
    "We now divide the images for training and testing."
   ]
  },
  {
   "cell_type": "code",
   "execution_count": 4,
   "id": "4b4801ec",
   "metadata": {},
   "outputs": [],
   "source": [
    "train_subset, test_subset = sklearn.model_selection.train_test_split(dataset, test_size=0.2)\n",
    "\n",
    "train_subset.reset_index(inplace=True, drop=True)\n",
    "test_subset.reset_index(inplace=True, drop=True)\n",
    "\n",
    "train = []\n",
    "for i in range(len(train_subset)):\n",
    "    train.append(tuple(train_subset.loc[i].to_list()))\n",
    "\n",
    "test = []\n",
    "for i in range(len(test_subset)):\n",
    "    test.append(tuple(test_subset.loc[i].to_list()))"
   ]
  },
  {
   "cell_type": "markdown",
   "id": "13628869",
   "metadata": {},
   "source": [
    "We specify that our alphabet is only numbers."
   ]
  },
  {
   "cell_type": "code",
   "execution_count": 5,
   "id": "bcd697fe",
   "metadata": {},
   "outputs": [
    {
     "name": "stdout",
     "output_type": "stream",
     "text": [
      "Provided alphabet does not match pretrained alphabet. Using backbone weights only.\n",
      "Looking for C:\\Users\\mfortier\\.keras-ocr\\crnn_kurapan_notop.h5\n"
     ]
    }
   ],
   "source": [
    "import string\n",
    "recognizer = keras_ocr.recognition.Recognizer(alphabet=string.digits)\n",
    "recognizer.compile()"
   ]
  },
  {
   "cell_type": "markdown",
   "id": "3aa417e0",
   "metadata": {},
   "source": [
    "We divide the training images in training and validation."
   ]
  },
  {
   "cell_type": "code",
   "execution_count": 6,
   "id": "c2da0539",
   "metadata": {},
   "outputs": [],
   "source": [
    "batch_size = 1\n",
    "augmenter = imgaug.augmenters.Sequential([\n",
    "    imgaug.augmenters.GammaContrast(gamma=(0.25, 3.0)),\n",
    "])\n",
    "\n",
    "(training_image_gen, training_steps), (validation_image_gen, validation_steps) = [\n",
    "    (\n",
    "        keras_ocr.datasets.get_recognizer_image_generator(\n",
    "            labels=labels,\n",
    "            height=recognizer.model.input_shape[1],\n",
    "            width=recognizer.model.input_shape[2],\n",
    "            alphabet=recognizer.alphabet,\n",
    "            augmenter=augmenter\n",
    "        ),\n",
    "        len(labels) // batch_size\n",
    "    ) for labels, augmenter in [(train, augmenter), (test, None)]\n",
    "]\n",
    "training_gen, validation_gen = [\n",
    "    recognizer.get_batch_generator(\n",
    "        image_generator=image_generator,\n",
    "        batch_size=batch_size\n",
    "    )\n",
    "    for image_generator in [training_image_gen, validation_image_gen]\n",
    "]"
   ]
  },
  {
   "cell_type": "code",
   "execution_count": 7,
   "id": "539a2e04",
   "metadata": {},
   "outputs": [
    {
     "name": "stdout",
     "output_type": "stream",
     "text": [
      "252 / 252 instances have illegal characters.\n",
      "text: 0354\n"
     ]
    },
    {
     "data": {
      "text/plain": [
       "<matplotlib.image.AxesImage at 0x1d5602ff370>"
      ]
     },
     "execution_count": 7,
     "metadata": {},
     "output_type": "execute_result"
    },
    {
     "data": {
      "image/png": "[encoded data removed]",
      "text/plain": [
       "<Figure size 432x288 with 1 Axes>"
      ]
     },
     "metadata": {
      "needs_background": "light"
     },
     "output_type": "display_data"
    }
   ],
   "source": [
    "image, text = next(training_image_gen)\n",
    "print('text:', text)\n",
    "plt.imshow(image)"
   ]
  },
  {
   "cell_type": "markdown",
   "id": "fba4f41e",
   "metadata": {},
   "source": [
    "Time for the training to begin!"
   ]
  },
  {
   "cell_type": "code",
   "execution_count": null,
   "id": "6b408417",
   "metadata": {},
   "outputs": [
    {
     "name": "stdout",
     "output_type": "stream",
     "text": [
      "Epoch 1/1000\n",
      "252/252 [==============================] - ETA: 0s - loss: 7.331563 / 63 instances have illegal characters.\n",
      "252/252 [==============================] - 38s 102ms/step - loss: 7.3315 - val_loss: 7.2346\n",
      "Epoch 2/1000\n",
      "252/252 [==============================] - 21s 85ms/step - loss: 6.2646 - val_loss: 6.1809\n",
      "Epoch 3/1000\n",
      "252/252 [==============================] - 23s 92ms/step - loss: 5.4370 - val_loss: 6.1032\n",
      "Epoch 4/1000\n",
      "252/252 [==============================] - 22s 89ms/step - loss: 4.8658 - val_loss: 4.6592\n",
      "Epoch 5/1000\n",
      "252/252 [==============================] - 22s 87ms/step - loss: 4.0655 - val_loss: 4.7451\n",
      "Epoch 6/1000\n",
      "252/252 [==============================] - 24s 95ms/step - loss: 3.3568 - val_loss: 4.1650\n",
      "Epoch 7/1000\n",
      "252/252 [==============================] - 24s 95ms/step - loss: 3.0081 - val_loss: 6.1425\n",
      "Epoch 8/1000\n",
      "252/252 [==============================] - 25s 99ms/step - loss: 2.4006 - val_loss: 3.0249\n",
      "Epoch 9/1000\n",
      "252/252 [==============================] - 21s 85ms/step - loss: 2.0011 - val_loss: 2.8361\n",
      "Epoch 10/1000\n",
      "252/252 [==============================] - 22s 88ms/step - loss: 1.6266 - val_loss: 1.9741\n",
      "Epoch 11/1000\n",
      "252/252 [==============================] - 22s 87ms/step - loss: 1.4896 - val_loss: 1.8879\n",
      "Epoch 12/1000\n",
      "252/252 [==============================] - 23s 91ms/step - loss: 1.6743 - val_loss: 2.3353\n",
      "Epoch 13/1000\n",
      "252/252 [==============================] - 24s 94ms/step - loss: 1.3733 - val_loss: 2.7954\n",
      "Epoch 14/1000\n",
      "252/252 [==============================] - 21s 84ms/step - loss: 1.3063 - val_loss: 2.6845\n",
      "Epoch 15/1000\n",
      "252/252 [==============================] - 21s 84ms/step - loss: 1.0650 - val_loss: 3.5114\n",
      "Epoch 16/1000\n",
      "252/252 [==============================] - 22s 87ms/step - loss: 0.8233 - val_loss: 1.8100\n",
      "Epoch 17/1000\n",
      "252/252 [==============================] - 21s 84ms/step - loss: 1.1742 - val_loss: 2.9144\n",
      "Epoch 18/1000\n",
      "252/252 [==============================] - 23s 91ms/step - loss: 1.0781 - val_loss: 2.5561\n",
      "Epoch 19/1000\n",
      "252/252 [==============================] - 23s 92ms/step - loss: 0.8516 - val_loss: 2.1420\n",
      "Epoch 20/1000\n",
      "252/252 [==============================] - 22s 88ms/step - loss: 0.6763 - val_loss: 1.4432\n",
      "Epoch 21/1000\n",
      "252/252 [==============================] - 23s 90ms/step - loss: 0.7349 - val_loss: 3.2090\n",
      "Epoch 22/1000\n",
      "252/252 [==============================] - 22s 89ms/step - loss: 0.5637 - val_loss: 1.0682\n",
      "Epoch 23/1000\n",
      "252/252 [==============================] - 22s 88ms/step - loss: 0.3533 - val_loss: 1.7359\n",
      "Epoch 24/1000\n",
      "252/252 [==============================] - 23s 93ms/step - loss: 0.6850 - val_loss: 1.6566\n",
      "Epoch 25/1000\n",
      "252/252 [==============================] - 23s 91ms/step - loss: 0.5933 - val_loss: 1.0063\n",
      "Epoch 26/1000\n",
      "252/252 [==============================] - 23s 90ms/step - loss: 0.4768 - val_loss: 1.4983\n",
      "Epoch 27/1000\n",
      "252/252 [==============================] - 23s 91ms/step - loss: 0.5893 - val_loss: 1.6788\n",
      "Epoch 28/1000\n",
      "252/252 [==============================] - 22s 88ms/step - loss: 0.4937 - val_loss: 2.0292\n",
      "Epoch 29/1000\n",
      "252/252 [==============================] - 22s 88ms/step - loss: 0.5576 - val_loss: 1.6645\n",
      "Epoch 30/1000\n",
      "252/252 [==============================] - 24s 95ms/step - loss: 0.4156 - val_loss: 1.5992\n",
      "Epoch 31/1000\n",
      "252/252 [==============================] - 21s 84ms/step - loss: 0.3465 - val_loss: 0.8808\n",
      "Epoch 32/1000\n",
      "252/252 [==============================] - 22s 88ms/step - loss: 0.5356 - val_loss: 1.8916\n",
      "Epoch 33/1000\n",
      "252/252 [==============================] - 24s 96ms/step - loss: 0.2547 - val_loss: 1.6166\n",
      "Epoch 34/1000\n",
      "252/252 [==============================] - 24s 94ms/step - loss: 0.3843 - val_loss: 2.2033\n",
      "Epoch 35/1000\n",
      "252/252 [==============================] - 23s 90ms/step - loss: 0.4679 - val_loss: 2.5121\n",
      "Epoch 36/1000\n",
      "252/252 [==============================] - 24s 95ms/step - loss: 0.2588 - val_loss: 2.4196\n",
      "Epoch 37/1000\n",
      "252/252 [==============================] - 23s 89ms/step - loss: 0.2634 - val_loss: 2.1460\n",
      "Epoch 38/1000\n",
      "252/252 [==============================] - 23s 90ms/step - loss: 0.3112 - val_loss: 1.7689\n",
      "Epoch 39/1000\n",
      "252/252 [==============================] - ETA: 0s - loss: 0.3938"
     ]
    }
   ],
   "source": [
    "recognizer_basepath = os.path.join('L:/DATA/ISIS/keras_ocr/', f'recognizer_{datetime.datetime.now().isoformat()}')\n",
    "callbacks=[\n",
    "    tf.keras.callbacks.EarlyStopping(restore_best_weights=False, patience=10),\n",
    "    tf.keras.callbacks.CSVLogger(f'{recognizer_basepath}.csv', append=True),\n",
    "    tf.keras.callbacks.ModelCheckpoint(filepath=f'{recognizer_basepath}.h5')        \n",
    "    ]\n",
    "recognizer.training_model.fit(\n",
    "    training_gen,\n",
    "    steps_per_epoch=training_steps,\n",
    "    validation_steps=validation_steps,\n",
    "    validation_data=validation_gen,\n",
    "    callbacks=callbacks,\n",
    "    epochs=1000,\n",
    "    workers=0,\n",
    "    batch_size=batch_size\n",
    ")"
   ]
  },
  {
   "cell_type": "markdown",
   "id": "1959a4fb",
   "metadata": {},
   "source": [
    "Test a couple of images with our improved recognizer"
   ]
  },
  {
   "cell_type": "code",
   "execution_count": null,
   "id": "8c995e70",
   "metadata": {},
   "outputs": [],
   "source": [
    "image_filepath, _, actual = test[0]\n",
    "predicted = recognizer.recognize(image_filepath)\n",
    "print(f'Predicted: {predicted}, Actual: {actual}')\n",
    "_ = plt.imshow(keras_ocr.tools.read(image_filepath))"
   ]
  },
  {
   "cell_type": "code",
   "execution_count": null,
   "id": "77c33261",
   "metadata": {},
   "outputs": [],
   "source": [
    "image_filepath, _, actual = test[1]\n",
    "predicted = recognizer.recognize(image_filepath)\n",
    "print(f'Predicted: {predicted}, Actual: {actual}')\n",
    "_ = plt.imshow(keras_ocr.tools.read(image_filepath))"
   ]
  },
  {
   "cell_type": "code",
   "execution_count": null,
   "id": "ff54756b",
   "metadata": {},
   "outputs": [],
   "source": [
    "image_filepath, _, actual = test[2]\n",
    "predicted = recognizer.recognize(image_filepath)\n",
    "print(f'Predicted: {predicted}, Actual: {actual}')\n",
    "_ = plt.imshow(keras_ocr.tools.read(image_filepath))"
   ]
  },
  {
   "cell_type": "markdown",
   "id": "fb1f9734",
   "metadata": {},
   "source": [
    "Let's test it on real ionograms picked at random."
   ]
  },
  {
   "cell_type": "code",
   "execution_count": null,
   "id": "681d9b0c",
   "metadata": {},
   "outputs": [],
   "source": [
    "from random import randrange\n",
    "def draw_random_subdir(dataDir):\n",
    "    directory_list = os.listdir(dataDir)\n",
    "    directory = directory_list[randrange(len(directory_list))]\n",
    "    subdirectory_list = os.listdir(dataDir + directory + '/')\n",
    "    subdirectory = subdirectory_list[randrange(len(subdirectory_list))]\n",
    "    image_list = os.listdir(dataDir + directory + '/'+subdirectory+'/')\n",
    "    image = image_list[randrange(len(image_list))]    \n",
    "    return directory, subdirectory, image\n",
    "\n",
    "dataDir = 'L:/DATA/ISIS/raw_upload_20230421/'\n",
    "img_list=[]\n",
    "for i in range(3):\n",
    "    directory, subdirectory, image = draw_random_subdir(dataDir)\n",
    "    img_list.append(dataDir + directory + '/' + subdirectory + '/' + image)"
   ]
  },
  {
   "cell_type": "markdown",
   "id": "ea4b0733",
   "metadata": {},
   "source": [
    "We need to apply the same filter I did on the cropped images used to train keras ocr."
   ]
  },
  {
   "cell_type": "code",
   "execution_count": null,
   "id": "7ccd92a3",
   "metadata": {},
   "outputs": [],
   "source": [
    "from PIL import Image\n",
    "\n",
    "new_img = []\n",
    "# Change the colors\n",
    "black = (0,0,0)\n",
    "white = (255,255,255)\n",
    "threshold = (85,85,85)\n",
    "\n",
    "for img in img_list :\n",
    "    # Open input image in grayscale mode and get its pixels.\n",
    "    image = Image.open(img).convert(\"LA\")\n",
    "    pixels = image.getdata()\n",
    "    newPixels = []\n",
    "\n",
    "    # Compare each pixel \n",
    "    for pixel in pixels:\n",
    "        if pixel < threshold:\n",
    "            newPixels.append(black)\n",
    "        else:\n",
    "            newPixels.append(white)\n",
    "\n",
    "    # Create and save new image.\n",
    "    image = Image.new(\"RGB\",image.size)\n",
    "    image.putdata(newPixels)\n",
    "    new_img.append(np.array(image))"
   ]
  },
  {
   "cell_type": "markdown",
   "id": "884e8813",
   "metadata": {},
   "source": [
    "Pass the images to the recognizer."
   ]
  },
  {
   "cell_type": "code",
   "execution_count": null,
   "id": "ce0e0396",
   "metadata": {},
   "outputs": [],
   "source": [
    "pipeline = keras_ocr.pipeline.Pipeline(recognizer=recognizer)\n",
    "prediction_groups = pipeline.recognize(new_img)\n",
    "# plot the text predictions\n",
    "fig, axs = plt.subplots(nrows=len(new_img), figsize=(15, 10))\n",
    "for ax, image, predictions in zip(axs, new_img, prediction_groups):\n",
    "    keras_ocr.tools.drawAnnotations(image=image, \n",
    "                                    predictions=predictions, \n",
    "                                    ax=ax)"
   ]
  },
  {
   "cell_type": "markdown",
   "id": "2d1b3d37",
   "metadata": {},
   "source": [
    "Let's see the results if the images are cropped."
   ]
  },
  {
   "cell_type": "code",
   "execution_count": null,
   "id": "4c58c17f",
   "metadata": {},
   "outputs": [],
   "source": [
    "crop_img=[]\n",
    "for i,im in enumerate(new_img) :\n",
    "    height, width, _ = im.shape\n",
    "    im = im[int(height-height*0.15):height,0:width]\n",
    "    crop_img.append(im)\n",
    "prediction_groups = pipeline.recognize(crop_img)\n",
    "# plot the text predictions\n",
    "fig, axs = plt.subplots(nrows=len(crop_img), figsize=(15, 7))\n",
    "for ax, image, predictions in zip(axs, crop_img, prediction_groups):\n",
    "    keras_ocr.tools.drawAnnotations(image=image, \n",
    "                                    predictions=predictions, \n",
    "                                    ax=ax)"
   ]
  },
  {
   "cell_type": "code",
   "execution_count": null,
   "id": "b6c13518",
   "metadata": {},
   "outputs": [],
   "source": [
    "prediction_groups"
   ]
  },
  {
   "cell_type": "markdown",
   "id": "11d359c4",
   "metadata": {},
   "source": [
    "Save the trained recognizer."
   ]
  },
  {
   "cell_type": "code",
   "execution_count": null,
   "id": "81e0e68e",
   "metadata": {},
   "outputs": [],
   "source": [
    "recognizer.model.save_weights(data_dir +'ISIS_reading_contrast.h5')"
   ]
  }
 ],
 "metadata": {
  "kernelspec": {
   "display_name": "Python 3",
   "language": "python",
   "name": "python3"
  },
  "language_info": {
   "codemirror_mode": {
    "name": "ipython",
    "version": 3
   },
   "file_extension": ".py",
   "mimetype": "text/x-python",
   "name": "python",
   "nbconvert_exporter": "python",
   "pygments_lexer": "ipython3",
   "version": "3.8.8"
  }
 },
 "nbformat": 4,
 "nbformat_minor": 5
}

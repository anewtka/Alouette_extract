{
 "cells": [
  {
   "cell_type": "markdown",
   "id": "3669943a",
   "metadata": {},
   "source": [
    "# Rectify BATCH II FTP Data\n",
    "\n",
    "#### Updated: Feb 21, 2023"
   ]
  },
  {
   "cell_type": "markdown",
   "id": "57dc5f8d",
   "metadata": {},
   "source": [
    "#  "
   ]
  },
  {
   "cell_type": "markdown",
   "id": "688b8b85",
   "metadata": {},
   "source": [
    "Rectify folder structure and subdirectory naming issues with uploaded BATCH II data:"
   ]
  },
  {
   "cell_type": "code",
   "execution_count": 2,
   "id": "f43f1187",
   "metadata": {},
   "outputs": [],
   "source": [
    "HOSTNAME = \"donnees-data.asc-csa.gc.ca\"\n",
    "USERNAME = \"rnadmin\"\n",
    "PASSWORD = \"HU3WxLkvx!earp4S\""
   ]
  },
  {
   "cell_type": "markdown",
   "id": "20022097",
   "metadata": {},
   "source": [
    "  "
   ]
  },
  {
   "cell_type": "markdown",
   "id": "3743b70f",
   "metadata": {},
   "source": [
    "paramiko:"
   ]
  },
  {
   "cell_type": "code",
   "execution_count": 1,
   "id": "50fe6bfd",
   "metadata": {},
   "outputs": [],
   "source": [
    "import paramiko"
   ]
  },
  {
   "cell_type": "code",
   "execution_count": 12,
   "id": "3fbb18db",
   "metadata": {},
   "outputs": [
    {
     "name": "stdout",
     "output_type": "stream",
     "text": [
      "total 0\n",
      "\n"
     ]
    }
   ],
   "source": [
    "client = paramiko.client.SSHClient()\n",
    "client.set_missing_host_key_policy(paramiko.AutoAddPolicy())\n",
    "client.connect(HOSTNAME, username=USERNAME, password=PASSWORD)\n",
    "stdin, stdout, stderr = client.exec_command('ls -l')\n",
    "#print(stdout.readlines()) #read().decode()\n",
    "print(stdout.read().decode())\n",
    "client.close()"
   ]
  },
  {
   "cell_type": "markdown",
   "id": "00271364",
   "metadata": {},
   "source": [
    "pysftp:"
   ]
  },
  {
   "cell_type": "code",
   "execution_count": 40,
   "id": "1b772cc2",
   "metadata": {},
   "outputs": [],
   "source": [
    "import pysftp\n",
    "from urllib.parse import urlparse\n",
    "import os"
   ]
  },
  {
   "cell_type": "code",
   "execution_count": 45,
   "id": "2e1efca7",
   "metadata": {},
   "outputs": [],
   "source": [
    "class Sftp:\n",
    "    def __init__(self, hostname, username, password, cnopts, port=22):\n",
    "        \"\"\"Constructor Method\"\"\"\n",
    "        # Set connection object to None (initial value)\n",
    "        self.connection = None\n",
    "        self.hostname = hostname\n",
    "        self.username = username\n",
    "        self.password = password\n",
    "        self.port = port\n",
    "        self.cnopts = cnopts\n",
    "\n",
    "    def connect(self):\n",
    "        \"\"\"Connects to the sftp server and returns the sftp connection object\"\"\"\n",
    "\n",
    "        try:\n",
    "            # Get the sftp connection object\n",
    "            self.connection = pysftp.Connection(\n",
    "                host=self.hostname,\n",
    "                username=self.username,\n",
    "                password=self.password,\n",
    "                port=self.port,\n",
    "                cnopts=self.cnopts\n",
    "            )\n",
    "        except Exception as err:\n",
    "            raise Exception(err)\n",
    "        finally:\n",
    "            print(f\"Connected to {self.hostname} as {self.username}.\")\n",
    "\n",
    "    def disconnect(self):\n",
    "        \"\"\"Closes the sftp connection\"\"\"\n",
    "        self.connection.close()\n",
    "        print(f\"Disconnected from host {self.hostname}\")\n",
    "\n",
    "    def listdir(self, remote_path):\n",
    "        \"\"\"lists all the files and directories in the specified path and returns them\"\"\"\n",
    "        for obj in self.connection.listdir(remote_path):\n",
    "            yield obj\n",
    "            \n",
    "    def listdir_attr(self, remote_path):\n",
    "        \"\"\"lists all the files and directories (with their attributes) in the specified path and returns them\"\"\"\n",
    "        for attr in self.connection.listdir_attr(remote_path):\n",
    "            yield attr"
   ]
  },
  {
   "cell_type": "code",
   "execution_count": 46,
   "id": "8f38fc8e",
   "metadata": {},
   "outputs": [],
   "source": [
    "cnopts = pysftp.CnOpts()\n",
    "cnopts.hostkeys = None  \n",
    "sftp = Sftp(\n",
    "        hostname=HOSTNAME,\n",
    "        username=USERNAME,\n",
    "        password=PASSWORD,\n",
    "        cnopts=cnopts\n",
    "    )"
   ]
  },
  {
   "cell_type": "code",
   "execution_count": 47,
   "id": "c2345599",
   "metadata": {},
   "outputs": [
    {
     "name": "stdout",
     "output_type": "stream",
     "text": [
      "Connected to donnees-data.asc-csa.gc.ca as rnadmin.\n"
     ]
    }
   ],
   "source": [
    "# Connect to SFTP\n",
    "sftp.connect()"
   ]
  },
  {
   "cell_type": "code",
   "execution_count": 61,
   "id": "a3cd9d19",
   "metadata": {
    "scrolled": false
   },
   "outputs": [
    {
     "name": "stdout",
     "output_type": "stream",
     "text": [
      "List of files with attributes at location /:\n",
      "1 33188 0 1650480077 1632324672\n",
      "App-Launcher 16877 4096 1677031276 1625514825\n",
      "bin 41471 7 1677005015 1624407059\n",
      "boot 16877 4096 1677006672 1676097338\n",
      "dev 16877 4060 1677033393 1676908382\n",
      "etc 16877 12288 1677019007 1676929828\n",
      "home 16877 4096 1677031261 1676929709\n",
      "lib 41471 7 1677004801 1624407059\n",
      "lib32 41471 9 1677031304 1624407059\n",
      "lib64 41471 9 1677005012 1624407059\n",
      "libx32 41471 10 1677031304 1624407059\n",
      "lost+found 16832 16384 1677031276 1624407497\n",
      "media 16877 4096 1677031276 1624407064\n",
      "mnt 16877 4096 1676908370 1676908386\n",
      "opt 16877 4096 1677031266 1632324672\n",
      "proc 16749 0 1676907792 1676907792\n",
      "root 16832 4096 1676977613 1676964970\n",
      "run 16877 1120 1676908374 1677033096\n",
      "sbin 41471 8 1677028621 1624407059\n",
      "snap 16877 4096 1677031276 1631767094\n",
      "srv 16877 4096 1677031276 1627046074\n",
      "storage 16877 4096 1677033442 1673277510\n",
      "sys 16749 0 1676907792 1676907792\n",
      "tmp 17407 4096 1677031268 1677030048\n",
      "usr 16877 4096 1676954271 1644233056\n",
      "var 16877 4096 1677031276 1625663539\n"
     ]
    }
   ],
   "source": [
    "# Lists files with attributes of SFTP\n",
    "path = \"/\"\n",
    "print(f\"List of files with attributes at location {path}:\")\n",
    "for file in sftp.listdir_attr(path):\n",
    "    print(file.filename, file.st_mode, file.st_size, file.st_atime, file.st_mtime)"
   ]
  },
  {
   "cell_type": "code",
   "execution_count": null,
   "id": "ac1edf78",
   "metadata": {},
   "outputs": [],
   "source": []
  }
 ],
 "metadata": {
  "kernelspec": {
   "display_name": "Python 3",
   "language": "python",
   "name": "python3"
  },
  "language_info": {
   "codemirror_mode": {
    "name": "ipython",
    "version": 3
   },
   "file_extension": ".py",
   "mimetype": "text/x-python",
   "name": "python",
   "nbconvert_exporter": "python",
   "pygments_lexer": "ipython3",
   "version": "3.8.8"
  }
 },
 "nbformat": 4,
 "nbformat_minor": 5
}

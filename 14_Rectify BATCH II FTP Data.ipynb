{
 "cells": [
  {
   "cell_type": "markdown",
   "id": "3669943a",
   "metadata": {},
   "source": [
    "# Rectify BATCH II FTP Data\n",
    "\n",
    "#### Updated: Feb 28, 2023"
   ]
  },
  {
   "cell_type": "markdown",
   "id": "57dc5f8d",
   "metadata": {},
   "source": [
    "#  "
   ]
  },
  {
   "cell_type": "markdown",
   "id": "688b8b85",
   "metadata": {},
   "source": [
    "Rectify folder structure and subdirectory naming issues with uploaded BATCH II data:"
   ]
  },
  {
   "cell_type": "code",
   "execution_count": 2,
   "id": "f43f1187",
   "metadata": {},
   "outputs": [],
   "source": [
    "HOSTNAME = \"donnees-data.asc-csa.gc.ca\"\n",
    "USERNAME = \"rnadmin\"\n",
    "PASSWORD = \"HU3WxLkvx!earp4S\""
   ]
  },
  {
   "cell_type": "code",
   "execution_count": 3,
   "id": "1b772cc2",
   "metadata": {},
   "outputs": [],
   "source": [
    "import pysftp\n",
    "from urllib.parse import urlparse\n",
    "import os"
   ]
  },
  {
   "cell_type": "code",
   "execution_count": 12,
   "id": "2e1efca7",
   "metadata": {},
   "outputs": [],
   "source": [
    "class Sftp:\n",
    "    def __init__(self, hostname, username, password, cnopts, port=22):\n",
    "        \"\"\"Constructor Method\"\"\"\n",
    "        # Set connection object to None (initial value)\n",
    "        self.connection = None\n",
    "        self.hostname = hostname\n",
    "        self.username = username\n",
    "        self.password = password\n",
    "        self.port = port\n",
    "        self.cnopts = cnopts\n",
    "\n",
    "    def connect(self):\n",
    "        \"\"\"Connects to the sftp server and returns the sftp connection object\"\"\"\n",
    "\n",
    "        try:\n",
    "            # Get the sftp connection object\n",
    "            self.connection = pysftp.Connection(\n",
    "                host=self.hostname,\n",
    "                username=self.username,\n",
    "                password=self.password,\n",
    "                port=self.port,\n",
    "                cnopts=self.cnopts\n",
    "            )\n",
    "        except Exception as err:\n",
    "            raise Exception(err)\n",
    "        finally:\n",
    "            print(f\"Connected to {self.hostname} as {self.username}.\")\n",
    "\n",
    "    def disconnect(self):\n",
    "        \"\"\"Closes the sftp connection\"\"\"\n",
    "        self.connection.close()\n",
    "        print(f\"Disconnected from host {self.hostname}\")\n",
    "\n",
    "    def listdir(self, remote_path):\n",
    "        \"\"\"lists all the files and directories in the specified path and returns them\"\"\"\n",
    "        for obj in self.connection.listdir(remote_path):\n",
    "            yield obj\n",
    "            \n",
    "    def listdir_attr(self, remote_path):\n",
    "        \"\"\"lists all the files and directories (with their attributes) in the specified path and returns them\"\"\"\n",
    "        for attr in self.connection.listdir_attr(remote_path):\n",
    "            yield attr\n",
    "            \n",
    "    def rename(self, old_path, new_path):\n",
    "        self.rename(old_path, new_path)\n",
    "    "
   ]
  },
  {
   "cell_type": "code",
   "execution_count": 5,
   "id": "8f38fc8e",
   "metadata": {},
   "outputs": [
    {
     "name": "stderr",
     "output_type": "stream",
     "text": [
      "c:\\DevSoftware\\Anaconda38\\lib\\site-packages\\pysftp\\__init__.py:61: UserWarning: Failed to load HostKeys from C:\\Users\\rnaidoo\\.ssh\\known_hosts.  You will need to explicitly load HostKeys (cnopts.hostkeys.load(filename)) or disableHostKey checking (cnopts.hostkeys = None).\n",
      "  warnings.warn(wmsg, UserWarning)\n"
     ]
    }
   ],
   "source": [
    "cnopts = pysftp.CnOpts()\n",
    "cnopts.hostkeys = None  \n",
    "sftp = Sftp(\n",
    "        hostname=HOSTNAME,\n",
    "        username=USERNAME,\n",
    "        password=PASSWORD,\n",
    "        cnopts=cnopts\n",
    "    )"
   ]
  },
  {
   "cell_type": "markdown",
   "id": "93962246",
   "metadata": {},
   "source": [
    "#  "
   ]
  },
  {
   "cell_type": "markdown",
   "id": "f6101d24",
   "metadata": {},
   "source": [
    "#### Connect to SFTP"
   ]
  },
  {
   "cell_type": "code",
   "execution_count": 6,
   "id": "c2345599",
   "metadata": {},
   "outputs": [
    {
     "name": "stdout",
     "output_type": "stream",
     "text": [
      "Connected to donnees-data.asc-csa.gc.ca as rnadmin.\n"
     ]
    }
   ],
   "source": [
    "# Connect to SFTP\n",
    "sftp.connect()"
   ]
  },
  {
   "cell_type": "code",
   "execution_count": 7,
   "id": "a3cd9d19",
   "metadata": {
    "scrolled": false
   },
   "outputs": [
    {
     "name": "stdout",
     "output_type": "stream",
     "text": [
      "List of files with attributes at location /storage/ftp_root/users/OpenData_DonneesOuvertes/pub/AlouetteData/A2/:\n",
      "R014207709 16893 4096 1677477709 1675391259\n",
      "R014207711 16893 4096 1677577363 1675558914\n",
      "R014207763 16893 4096 1677538634 1675648931\n",
      "R014207766 16893 4096 1677454412 1675684613\n",
      "R014207769 16893 4096 1677465476 1675745039\n",
      "R014207807 16893 4096 1677478611 1676544061\n",
      "R014207808 16893 4096 1677563674 1676649915\n",
      "R014207810 16893 4096 1677579231 1676677324\n",
      "R014207813 16893 4096 1677483371 1676743403\n",
      "R014207817 16893 4096 1677478836 1676769810\n",
      "R014207818 16893 4096 1677451014 1676833161\n",
      "R014207819 16893 4096 1677334534 1676977587\n",
      "R014207820 16893 4096 1677334607 1677036233\n",
      "R014207822 16893 4096 1677535172 1677081350\n",
      "R014207825 16893 4096 1677535178 1677113304\n"
     ]
    }
   ],
   "source": [
    "# Lists files with attributes of SFTP\n",
    "path = \"/storage/ftp_root/users/OpenData_DonneesOuvertes/pub/AlouetteData/A2/\"\n",
    "print(f\"List of files with attributes at location {path}:\")\n",
    "for file in sftp.listdir_attr(path):\n",
    "    print(file.filename, file.st_mode, file.st_size, file.st_atime, file.st_mtime)"
   ]
  },
  {
   "cell_type": "code",
   "execution_count": 10,
   "id": "ac1edf78",
   "metadata": {},
   "outputs": [
    {
     "name": "stdout",
     "output_type": "stream",
     "text": [
      "145\n",
      "146\n",
      "147\n",
      "148\n",
      "149\n",
      "150\n",
      "151\n",
      "152\n",
      "153\n",
      "154\n",
      "C-103-21\n",
      "C-104-21\n",
      "C-105-21\n",
      "C-106-16\n",
      "C-107-16\n",
      "C-108-16\n",
      "C-109-06\n",
      "C-111-50\n",
      "C-112-50\n",
      "C-113-50\n",
      "C-114-50-2\n",
      "C-115-50-2\n",
      "C-116-50-2\n",
      "C-117-50-2\n",
      "C-118-50-2\n",
      "C-119\n",
      "C-120\n",
      "C-121\n",
      "C-122\n",
      "C-123-43\n",
      "C-124-43\n",
      "C-125-43\n",
      "C-126-43\n",
      "C-127-43\n",
      "C-128-43\n",
      "C-129-43\n",
      "C-130-43\n",
      "C-131-43\n",
      "C-132\n",
      "C-133-43\n",
      "C-134-43\n",
      "C-135-43\n",
      "C-136-43\n",
      "C-137-43\n",
      "C101-21\n",
      "C102-21\n",
      "C110-37\n",
      "R014207811\n",
      "S-48-1\n",
      "S-48-10\n",
      "S-48-11\n",
      "S-48-12\n",
      "S-48-13\n",
      "S-48-2\n",
      "S-48-3\n",
      "S-48-4\n",
      "S-48-5\n",
      "S-48-6\n",
      "S-48-7\n",
      "S-48-8\n",
      "S-48-9\n"
     ]
    }
   ],
   "source": [
    "for file in sftp.listdir_attr(path + '/R014207709/'):\n",
    "    print(file.filename)"
   ]
  },
  {
   "cell_type": "code",
   "execution_count": 13,
   "id": "96ffbaea",
   "metadata": {},
   "outputs": [
    {
     "ename": "AttributeError",
     "evalue": "'Sftp' object has no attribute 'rename'",
     "output_type": "error",
     "traceback": [
      "\u001b[1;31m---------------------------------------------------------------------------\u001b[0m",
      "\u001b[1;31mAttributeError\u001b[0m                            Traceback (most recent call last)",
      "\u001b[1;32m<ipython-input-13-fea635def760>\u001b[0m in \u001b[0;36m<module>\u001b[1;34m\u001b[0m\n\u001b[1;32m----> 1\u001b[1;33m \u001b[0msftp\u001b[0m\u001b[1;33m.\u001b[0m\u001b[0mrename\u001b[0m\u001b[1;33m(\u001b[0m\u001b[0mpath\u001b[0m \u001b[1;33m+\u001b[0m \u001b[1;34m'/R014207709/R014207811/'\u001b[0m\u001b[1;33m,\u001b[0m \u001b[0mpath\u001b[0m \u001b[1;33m+\u001b[0m \u001b[1;34m'/R014207811/'\u001b[0m\u001b[1;33m)\u001b[0m\u001b[1;33m\u001b[0m\u001b[1;33m\u001b[0m\u001b[0m\n\u001b[0m",
      "\u001b[1;31mAttributeError\u001b[0m: 'Sftp' object has no attribute 'rename'"
     ]
    },
    {
     "name": "stderr",
     "output_type": "stream",
     "text": [
      "Socket exception: An existing connection was forcibly closed by the remote host (10054)\n"
     ]
    }
   ],
   "source": [
    "sftp.rename(path + '/R014207709/R014207811/', path + '/R014207811/')"
   ]
  },
  {
   "cell_type": "code",
   "execution_count": null,
   "id": "5a3034a8",
   "metadata": {},
   "outputs": [],
   "source": []
  }
 ],
 "metadata": {
  "kernelspec": {
   "display_name": "Python 3",
   "language": "python",
   "name": "python3"
  },
  "language_info": {
   "codemirror_mode": {
    "name": "ipython",
    "version": 3
   },
   "file_extension": ".py",
   "mimetype": "text/x-python",
   "name": "python",
   "nbconvert_exporter": "python",
   "pygments_lexer": "ipython3",
   "version": "3.8.8"
  }
 },
 "nbformat": 4,
 "nbformat_minor": 5
}

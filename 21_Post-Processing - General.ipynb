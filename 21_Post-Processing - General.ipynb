{
 "cells": [
  {
   "cell_type": "markdown",
   "id": "0cc96bbd",
   "metadata": {},
   "source": [
    "# Post-Processing (General)\n",
    "\n",
    "#### Updated: May 17, 2023"
   ]
  },
  {
   "cell_type": "markdown",
   "id": "aae7fdc8",
   "metadata": {},
   "source": [
    "#  "
   ]
  },
  {
   "cell_type": "markdown",
   "id": "6dcab44c",
   "metadata": {},
   "source": [
    "Post-processing pipeline after stage 2 of Alouette processing (OCR processing stage):"
   ]
  },
  {
   "cell_type": "code",
   "execution_count": 1,
   "id": "43814246",
   "metadata": {},
   "outputs": [],
   "source": [
    "import os\n",
    "import numpy as np\n",
    "import pandas as pd\n",
    "from datetime import datetime\n",
    "import seaborn as sns"
   ]
  },
  {
   "cell_type": "code",
   "execution_count": 2,
   "id": "d2634864",
   "metadata": {},
   "outputs": [],
   "source": [
    "rootDir = 'L:/DATA/Alouette_I/BATCH_II_Run2/'\n",
    "processedDir = rootDir + '04_processed/'\n",
    "resultDir = rootDir + '05_result/'\n",
    "logDir = rootDir + '06_log/'"
   ]
  },
  {
   "cell_type": "markdown",
   "id": "fe8fc8f0",
   "metadata": {},
   "source": [
    "#  "
   ]
  },
  {
   "cell_type": "markdown",
   "id": "35deb2c3",
   "metadata": {},
   "source": [
    "#### Functions:"
   ]
  },
  {
   "cell_type": "code",
   "execution_count": 3,
   "id": "7c64ed5b",
   "metadata": {},
   "outputs": [],
   "source": [
    "def construct_timestamp(df_in):\n",
    "    \n",
    "    df_in['time_quality'] = 0\n",
    "    \n",
    "    #To the nearest second (time quality 1)\n",
    "    df_in['month_day'] = pd.to_datetime(df_in['day_of_year'], format='%j').dt.strftime('%m-%d')\n",
    "    df_in['month'] = df_in['month_day'].str.split('-').str[0]\n",
    "    df_in['day'] = df_in['month_day'].str.split('-').str[1]\n",
    "    df_in['Timestamp'] = pd.to_datetime(df_in[['year', 'month', 'day', 'hour', 'minute', 'second']], format='%Y-%m-%d %H:%M:%S')\n",
    "    df_in.loc[~df_in['Timestamp'].isnull(), 'time_quality'] = 1\n",
    "    df_in_tq1 = df_in.loc[df_in['time_quality'] == 1]\n",
    "    \n",
    "    #To the nearest minute (time quality 2)\n",
    "    df_in_not_tq1 = df_in.loc[df_in['time_quality'] != 1]\n",
    "    df_in_not_tq1 = df_in_not_tq1.copy(deep=True)\n",
    "    df_in_not_tq1['Timestamp'] = pd.to_datetime(df_in_not_tq1[['year', 'month', 'day', 'hour', 'minute']], format='%Y-%m-%d %H:%M:00')\n",
    "    df_in_not_tq1.loc[~df_in_not_tq1['Timestamp'].isnull(), 'time_quality'] = 2\n",
    "    df_in_tq2 = df_in_not_tq1.loc[df_in_not_tq1['time_quality'] == 2]\n",
    "    \n",
    "    #To the nearest hour (time quality 3)\n",
    "    df_in_not_tq2 = df_in_not_tq1.loc[df_in_not_tq1['time_quality'] != 2]\n",
    "    df_in_not_tq2 = df_in_not_tq2.copy(deep=True)\n",
    "    df_in_not_tq2['Timestamp'] = pd.to_datetime(df_in_not_tq2[['year', 'month', 'day', 'hour']], format='%Y-%m-%d %H:00:00')\n",
    "    df_in_not_tq2.loc[~df_in_not_tq2['Timestamp'].isnull(), 'time_quality'] = 3\n",
    "    df_in_tq3 = df_in_not_tq2.loc[df_in_not_tq2['time_quality'] == 3]\n",
    "    \n",
    "    #To the nearest day (time quality 4)\n",
    "    df_in_not_tq3 = df_in_not_tq2.loc[df_in_not_tq2['time_quality'] != 3]\n",
    "    df_in_not_tq3 = df_in_not_tq3.copy(deep=True)\n",
    "    df_in_not_tq3['Timestamp'] = pd.to_datetime(df_in_not_tq3[['year', 'month', 'day']], format='%Y-%m-%d 00:00:00')\n",
    "    df_in_not_tq3.loc[~df_in_not_tq3['Timestamp'].isnull(), 'time_quality'] = 4\n",
    "    df_in_tq4 = df_in_not_tq3.loc[df_in_not_tq3['time_quality'] == 4]\n",
    "    \n",
    "    df_in_not_tq4 = df_in_not_tq3.loc[df_in_not_tq3['time_quality'] != 4]\n",
    "    df_in = pd.concat([df_in_tq1, df_in_tq2, df_in_tq3, df_in_tq4, df_in_not_tq4])\n",
    "    \n",
    "    return df_in"
   ]
  },
  {
   "cell_type": "markdown",
   "id": "26eb6bfd",
   "metadata": {},
   "source": [
    "#  "
   ]
  },
  {
   "cell_type": "markdown",
   "id": "3aef6def",
   "metadata": {},
   "source": [
    "#### Generate processed_inventory, concatenate stage 1 results - RUN BEFORE starting stage 2 processing (OCR processing stage):"
   ]
  },
  {
   "cell_type": "markdown",
   "id": "3f95cc14",
   "metadata": {},
   "source": [
    "Generate processed_inventory:"
   ]
  },
  {
   "cell_type": "code",
   "execution_count": null,
   "id": "5c3d24d3",
   "metadata": {
    "scrolled": true
   },
   "outputs": [],
   "source": [
    "df_inventory = pd.DataFrame()\n",
    "for directory in os.listdir(processedDir):\n",
    "    print(directory)\n",
    "    for subdirectory in os.listdir(processedDir + directory):\n",
    "        n_images = len(os.listdir(processedDir + directory + '/' + subdirectory))\n",
    "        df_inventory_ = pd.DataFrame({\n",
    "            'Directory': directory, \n",
    "            'Subdirectory': subdirectory,\n",
    "            'images': n_images,\n",
    "            'subdir_id': directory + '_' + subdirectory\n",
    "        }, index=[0])\n",
    "        df_inventory = pd.concat([df_inventory, df_inventory_], axis=0, ignore_index=True)"
   ]
  },
  {
   "cell_type": "code",
   "execution_count": null,
   "id": "93a6a6bc",
   "metadata": {},
   "outputs": [],
   "source": [
    "print(len(df_inventory))\n",
    "df_inventory.head()"
   ]
  },
  {
   "cell_type": "code",
   "execution_count": null,
   "id": "08f197ea",
   "metadata": {},
   "outputs": [],
   "source": [
    "df_inventory.to_csv(logDir + 'image_inventory_processed.csv', index=False)"
   ]
  },
  {
   "cell_type": "markdown",
   "id": "96b93d51",
   "metadata": {},
   "source": [
    "Concatenate stage 1 results:"
   ]
  },
  {
   "cell_type": "code",
   "execution_count": null,
   "id": "5a800df5",
   "metadata": {},
   "outputs": [],
   "source": [
    "df_result = pd.DataFrame()\n",
    "i = 0\n",
    "for file in os.listdir(resultDir):\n",
    "    if 'R' in file:\n",
    "        directory = file\n",
    "        for file2 in os.listdir(resultDir + directory + '/'):\n",
    "            if 'result-' in file2:\n",
    "                fn_parts = file2.split('_')\n",
    "                subdirectory = fn_parts[1].replace('.csv', '')\n",
    "                if i > 0:\n",
    "                    if i % 100 == 0:\n",
    "                        df_result = pd.read_csv(resultDir + 'result_stage1_raw.csv')\n",
    "                        print(len(df_result))\n",
    "                try:\n",
    "                    df_load = pd.read_csv(resultDir + directory + '/' + file2, sep=',')\n",
    "                    n = len(df_load)\n",
    "                except pd.errors.EmptyDataError:\n",
    "                    n = 0\n",
    "                    df_load = pd.DataFrame()\n",
    "                df_result = pd.concat([df_result, df_load])\n",
    "                i += 1\n",
    "                if i % 100 == 0:\n",
    "                    print('Now saving the ' + str(i) + 'th result...')\n",
    "                    df_result.to_csv(resultDir + 'result_stage1_raw.csv', index=False)\n",
    "df_result.to_csv(resultDir + 'result_stage1_raw.csv', index=False)"
   ]
  },
  {
   "cell_type": "code",
   "execution_count": null,
   "id": "295b2df7",
   "metadata": {},
   "outputs": [],
   "source": [
    "df_result = pd.read_csv(resultDir + 'result_stage1_raw.csv')\n",
    "print(len(df_result))\n",
    "df_result.sample(10)"
   ]
  },
  {
   "cell_type": "markdown",
   "id": "2157a0ae",
   "metadata": {},
   "source": [
    "#  "
   ]
  },
  {
   "cell_type": "markdown",
   "id": "e34e963a",
   "metadata": {},
   "source": [
    "#### Concatenate 'OCR pass' results - START HERE after stage 2 processeing (OCR processing stage):"
   ]
  },
  {
   "cell_type": "code",
   "execution_count": 4,
   "id": "098dab53",
   "metadata": {},
   "outputs": [
    {
     "name": "stdout",
     "output_type": "stream",
     "text": [
      "Now saving the 100th result...\n",
      "28659\n"
     ]
    }
   ],
   "source": [
    "df_result = pd.DataFrame()\n",
    "i = 0\n",
    "for file in os.listdir(resultDir):\n",
    "    if 'R' in file:\n",
    "        directory = file\n",
    "        for file2 in os.listdir(resultDir + directory + '/'):\n",
    "            if 'result_OCRpass' in file2:\n",
    "                fn_parts = file2.split('_')\n",
    "                subdirectory = fn_parts[2].replace('.csv', '')\n",
    "                if i > 0:\n",
    "                    if i % 100 == 0:\n",
    "                        df_result = pd.read_csv(resultDir + 'result_stage2_raw.csv')\n",
    "                        print(len(df_result))\n",
    "                try:\n",
    "                    df_load = pd.read_csv(resultDir + directory + '/' + file2, sep=',')\n",
    "                    n = len(df_load)\n",
    "                except pd.errors.EmptyDataError:\n",
    "                    n = 0\n",
    "                df_result = pd.concat([df_result, df_load])\n",
    "                i += 1\n",
    "                if i % 100 == 0:\n",
    "                    print('Now saving the ' + str(i) + 'th result...')\n",
    "                    df_result.to_csv(resultDir + 'result_stage2_raw.csv', index=False)\n",
    "df_result.to_csv(resultDir + 'result_stage2_raw.csv', index=False)"
   ]
  },
  {
   "cell_type": "markdown",
   "id": "9b20c903",
   "metadata": {},
   "source": [
    "#  "
   ]
  },
  {
   "cell_type": "markdown",
   "id": "d44163b2",
   "metadata": {},
   "source": [
    "#### Reduce columns:"
   ]
  },
  {
   "cell_type": "code",
   "execution_count": 5,
   "id": "2219830e",
   "metadata": {},
   "outputs": [
    {
     "name": "stderr",
     "output_type": "stream",
     "text": [
      "C:\\Users\\rnaidoo\\AppData\\Local\\Temp\\ipykernel_14844\\3760028368.py:1: DtypeWarning: Columns (38,39,40,41,42,43) have mixed types. Specify dtype option on import or set low_memory=False.\n",
      "  df_result = pd.read_csv(resultDir + 'result_stage2_raw.csv')\n"
     ]
    },
    {
     "name": "stdout",
     "output_type": "stream",
     "text": [
      "44327\n"
     ]
    },
    {
     "data": {
      "text/html": [
       "<div>\n",
       "<style scoped>\n",
       "    .dataframe tbody tr th:only-of-type {\n",
       "        vertical-align: middle;\n",
       "    }\n",
       "\n",
       "    .dataframe tbody tr th {\n",
       "        vertical-align: top;\n",
       "    }\n",
       "\n",
       "    .dataframe thead th {\n",
       "        text-align: right;\n",
       "    }\n",
       "</style>\n",
       "<table border=\"1\" class=\"dataframe\">\n",
       "  <thead>\n",
       "    <tr style=\"text-align: right;\">\n",
       "      <th></th>\n",
       "      <th>fmin</th>\n",
       "      <th>max_depth</th>\n",
       "      <th>satellite_number</th>\n",
       "      <th>year</th>\n",
       "      <th>day_1</th>\n",
       "      <th>day_2</th>\n",
       "      <th>day_3</th>\n",
       "      <th>hour_1</th>\n",
       "      <th>hour_2</th>\n",
       "      <th>minute_1</th>\n",
       "      <th>...</th>\n",
       "      <th>filename</th>\n",
       "      <th>station_code</th>\n",
       "      <th>station_number</th>\n",
       "      <th>rotated_metadata</th>\n",
       "      <th>station_number_OCR</th>\n",
       "      <th>year_OCR</th>\n",
       "      <th>day_of_year_OCR</th>\n",
       "      <th>hour_OCR</th>\n",
       "      <th>minute_OCR</th>\n",
       "      <th>second_OCR</th>\n",
       "    </tr>\n",
       "  </thead>\n",
       "  <tbody>\n",
       "    <tr>\n",
       "      <th>0</th>\n",
       "      <td>1.500000</td>\n",
       "      <td>1376.744186</td>\n",
       "      <td>2.0</td>\n",
       "      <td>0.0</td>\n",
       "      <td>2.0</td>\n",
       "      <td>4.0</td>\n",
       "      <td>0.0</td>\n",
       "      <td>4.0</td>\n",
       "      <td>0.0</td>\n",
       "      <td>0.0</td>\n",
       "      <td>...</td>\n",
       "      <td>10.png</td>\n",
       "      <td>NaN</td>\n",
       "      <td>NaN</td>\n",
       "      <td>NaN</td>\n",
       "      <td>NaN</td>\n",
       "      <td>NaN</td>\n",
       "      <td>NaN</td>\n",
       "      <td>NaN</td>\n",
       "      <td>NaN</td>\n",
       "      <td>NaN</td>\n",
       "    </tr>\n",
       "    <tr>\n",
       "      <th>1</th>\n",
       "      <td>1.500000</td>\n",
       "      <td>1609.302326</td>\n",
       "      <td>2.0</td>\n",
       "      <td>1.0</td>\n",
       "      <td>0.0</td>\n",
       "      <td>0.0</td>\n",
       "      <td>0.0</td>\n",
       "      <td>4.0</td>\n",
       "      <td>3.0</td>\n",
       "      <td>6.0</td>\n",
       "      <td>...</td>\n",
       "      <td>100.png</td>\n",
       "      <td>NaN</td>\n",
       "      <td>NaN</td>\n",
       "      <td>NaN</td>\n",
       "      <td>NaN</td>\n",
       "      <td>NaN</td>\n",
       "      <td>NaN</td>\n",
       "      <td>NaN</td>\n",
       "      <td>NaN</td>\n",
       "      <td>NaN</td>\n",
       "    </tr>\n",
       "    <tr>\n",
       "      <th>2</th>\n",
       "      <td>1.552419</td>\n",
       "      <td>1260.465116</td>\n",
       "      <td>0.0</td>\n",
       "      <td>0.0</td>\n",
       "      <td>2.0</td>\n",
       "      <td>2.0</td>\n",
       "      <td>2.0</td>\n",
       "      <td>2.0</td>\n",
       "      <td>2.0</td>\n",
       "      <td>2.0</td>\n",
       "      <td>...</td>\n",
       "      <td>103.png</td>\n",
       "      <td>NaN</td>\n",
       "      <td>NaN</td>\n",
       "      <td>NaN</td>\n",
       "      <td>NaN</td>\n",
       "      <td>NaN</td>\n",
       "      <td>NaN</td>\n",
       "      <td>NaN</td>\n",
       "      <td>NaN</td>\n",
       "      <td>NaN</td>\n",
       "    </tr>\n",
       "    <tr>\n",
       "      <th>3</th>\n",
       "      <td>1.500000</td>\n",
       "      <td>1260.465116</td>\n",
       "      <td>0.0</td>\n",
       "      <td>0.0</td>\n",
       "      <td>2.0</td>\n",
       "      <td>2.0</td>\n",
       "      <td>2.0</td>\n",
       "      <td>2.0</td>\n",
       "      <td>2.0</td>\n",
       "      <td>2.0</td>\n",
       "      <td>...</td>\n",
       "      <td>104.png</td>\n",
       "      <td>NaN</td>\n",
       "      <td>NaN</td>\n",
       "      <td>NaN</td>\n",
       "      <td>NaN</td>\n",
       "      <td>NaN</td>\n",
       "      <td>NaN</td>\n",
       "      <td>NaN</td>\n",
       "      <td>NaN</td>\n",
       "      <td>NaN</td>\n",
       "    </tr>\n",
       "    <tr>\n",
       "      <th>4</th>\n",
       "      <td>1.500000</td>\n",
       "      <td>1260.465116</td>\n",
       "      <td>0.0</td>\n",
       "      <td>0.0</td>\n",
       "      <td>1.0</td>\n",
       "      <td>0.0</td>\n",
       "      <td>0.0</td>\n",
       "      <td>0.0</td>\n",
       "      <td>3.0</td>\n",
       "      <td>2.0</td>\n",
       "      <td>...</td>\n",
       "      <td>105.png</td>\n",
       "      <td>NaN</td>\n",
       "      <td>NaN</td>\n",
       "      <td>NaN</td>\n",
       "      <td>NaN</td>\n",
       "      <td>NaN</td>\n",
       "      <td>NaN</td>\n",
       "      <td>NaN</td>\n",
       "      <td>NaN</td>\n",
       "      <td>NaN</td>\n",
       "    </tr>\n",
       "  </tbody>\n",
       "</table>\n",
       "<p>5 rows × 44 columns</p>\n",
       "</div>"
      ],
      "text/plain": [
       "       fmin    max_depth  satellite_number  year  day_1  day_2  day_3  hour_1  \\\n",
       "0  1.500000  1376.744186               2.0   0.0    2.0    4.0    0.0     4.0   \n",
       "1  1.500000  1609.302326               2.0   1.0    0.0    0.0    0.0     4.0   \n",
       "2  1.552419  1260.465116               0.0   0.0    2.0    2.0    2.0     2.0   \n",
       "3  1.500000  1260.465116               0.0   0.0    2.0    2.0    2.0     2.0   \n",
       "4  1.500000  1260.465116               0.0   0.0    1.0    0.0    0.0     0.0   \n",
       "\n",
       "   hour_2  minute_1  ...  filename  station_code  station_number  \\\n",
       "0     0.0       0.0  ...    10.png           NaN             NaN   \n",
       "1     3.0       6.0  ...   100.png           NaN             NaN   \n",
       "2     2.0       2.0  ...   103.png           NaN             NaN   \n",
       "3     2.0       2.0  ...   104.png           NaN             NaN   \n",
       "4     3.0       2.0  ...   105.png           NaN             NaN   \n",
       "\n",
       "   rotated_metadata  station_number_OCR year_OCR day_of_year_OCR hour_OCR  \\\n",
       "0               NaN                 NaN      NaN             NaN      NaN   \n",
       "1               NaN                 NaN      NaN             NaN      NaN   \n",
       "2               NaN                 NaN      NaN             NaN      NaN   \n",
       "3               NaN                 NaN      NaN             NaN      NaN   \n",
       "4               NaN                 NaN      NaN             NaN      NaN   \n",
       "\n",
       "   minute_OCR  second_OCR  \n",
       "0         NaN         NaN  \n",
       "1         NaN         NaN  \n",
       "2         NaN         NaN  \n",
       "3         NaN         NaN  \n",
       "4         NaN         NaN  \n",
       "\n",
       "[5 rows x 44 columns]"
      ]
     },
     "execution_count": 5,
     "metadata": {},
     "output_type": "execute_result"
    }
   ],
   "source": [
    "df_result = pd.read_csv(resultDir + 'result_stage2_raw.csv')\n",
    "print(len(df_result))\n",
    "df_result.head()"
   ]
  },
  {
   "cell_type": "code",
   "execution_count": 6,
   "id": "801907a3",
   "metadata": {},
   "outputs": [
    {
     "data": {
      "text/html": [
       "<div>\n",
       "<style scoped>\n",
       "    .dataframe tbody tr th:only-of-type {\n",
       "        vertical-align: middle;\n",
       "    }\n",
       "\n",
       "    .dataframe tbody tr th {\n",
       "        vertical-align: top;\n",
       "    }\n",
       "\n",
       "    .dataframe thead th {\n",
       "        text-align: right;\n",
       "    }\n",
       "</style>\n",
       "<table border=\"1\" class=\"dataframe\">\n",
       "  <thead>\n",
       "    <tr style=\"text-align: right;\">\n",
       "      <th></th>\n",
       "      <th>Directory</th>\n",
       "      <th>Subdirectory</th>\n",
       "      <th>filename</th>\n",
       "      <th>processed_image_class</th>\n",
       "      <th>fmin</th>\n",
       "      <th>max_depth</th>\n",
       "      <th>station_number</th>\n",
       "      <th>station_number_1</th>\n",
       "      <th>station_number_2</th>\n",
       "      <th>year_1</th>\n",
       "      <th>...</th>\n",
       "      <th>station_number_OCR</th>\n",
       "      <th>year_OCR</th>\n",
       "      <th>day_of_year_OCR</th>\n",
       "      <th>hour_OCR</th>\n",
       "      <th>minute_OCR</th>\n",
       "      <th>second_OCR</th>\n",
       "      <th>metadata_type</th>\n",
       "      <th>is_dot</th>\n",
       "      <th>func_name</th>\n",
       "      <th>details</th>\n",
       "    </tr>\n",
       "  </thead>\n",
       "  <tbody>\n",
       "    <tr>\n",
       "      <th>10171</th>\n",
       "      <td>R014207818</td>\n",
       "      <td>4245-38A</td>\n",
       "      <td>136.png</td>\n",
       "      <td>num2</td>\n",
       "      <td>1.500000</td>\n",
       "      <td>1378.787879</td>\n",
       "      <td>NaN</td>\n",
       "      <td>NaN</td>\n",
       "      <td>NaN</td>\n",
       "      <td>NaN</td>\n",
       "      <td>...</td>\n",
       "      <td>38.0</td>\n",
       "      <td>67.0</td>\n",
       "      <td>247</td>\n",
       "      <td>07</td>\n",
       "      <td>48</td>\n",
       "      <td>10.0</td>\n",
       "      <td>NaN</td>\n",
       "      <td>NaN</td>\n",
       "      <td>NaN</td>\n",
       "      <td>NaN</td>\n",
       "    </tr>\n",
       "    <tr>\n",
       "      <th>3225</th>\n",
       "      <td>R014207808</td>\n",
       "      <td>4581-19</td>\n",
       "      <td>268.png</td>\n",
       "      <td>num2</td>\n",
       "      <td>1.500000</td>\n",
       "      <td>1331.250000</td>\n",
       "      <td>NaN</td>\n",
       "      <td>NaN</td>\n",
       "      <td>NaN</td>\n",
       "      <td>NaN</td>\n",
       "      <td>...</td>\n",
       "      <td>10</td>\n",
       "      <td>66.0</td>\n",
       "      <td>190</td>\n",
       "      <td>16</td>\n",
       "      <td>41</td>\n",
       "      <td>33</td>\n",
       "      <td>NaN</td>\n",
       "      <td>NaN</td>\n",
       "      <td>NaN</td>\n",
       "      <td>NaN</td>\n",
       "    </tr>\n",
       "    <tr>\n",
       "      <th>16970</th>\n",
       "      <td>R014207828</td>\n",
       "      <td>4416-37</td>\n",
       "      <td>239.png</td>\n",
       "      <td>loss</td>\n",
       "      <td>NaN</td>\n",
       "      <td>NaN</td>\n",
       "      <td>NaN</td>\n",
       "      <td>NaN</td>\n",
       "      <td>NaN</td>\n",
       "      <td>NaN</td>\n",
       "      <td>...</td>\n",
       "      <td>NaN</td>\n",
       "      <td>NaN</td>\n",
       "      <td>NaN</td>\n",
       "      <td>NaN</td>\n",
       "      <td>NaN</td>\n",
       "      <td>NaN</td>\n",
       "      <td>NaN</td>\n",
       "      <td>NaN</td>\n",
       "      <td>ionogram_content_extraction.extract_select_par...</td>\n",
       "      <td>NaN</td>\n",
       "    </tr>\n",
       "    <tr>\n",
       "      <th>7200</th>\n",
       "      <td>R014207811</td>\n",
       "      <td>5095</td>\n",
       "      <td>450.png</td>\n",
       "      <td>loss</td>\n",
       "      <td>NaN</td>\n",
       "      <td>NaN</td>\n",
       "      <td>NaN</td>\n",
       "      <td>NaN</td>\n",
       "      <td>NaN</td>\n",
       "      <td>NaN</td>\n",
       "      <td>...</td>\n",
       "      <td>NaN</td>\n",
       "      <td>NaN</td>\n",
       "      <td>NaN</td>\n",
       "      <td>NaN</td>\n",
       "      <td>NaN</td>\n",
       "      <td>NaN</td>\n",
       "      <td>NaN</td>\n",
       "      <td>NaN</td>\n",
       "      <td>ionogram_content_extraction.extract_select_par...</td>\n",
       "      <td>NaN</td>\n",
       "    </tr>\n",
       "    <tr>\n",
       "      <th>29065</th>\n",
       "      <td>R014207843</td>\n",
       "      <td>3225-50A</td>\n",
       "      <td>185.png</td>\n",
       "      <td>loss</td>\n",
       "      <td>1.500000</td>\n",
       "      <td>572.340426</td>\n",
       "      <td>NaN</td>\n",
       "      <td>NaN</td>\n",
       "      <td>NaN</td>\n",
       "      <td>NaN</td>\n",
       "      <td>...</td>\n",
       "      <td>NaN</td>\n",
       "      <td>NaN</td>\n",
       "      <td>NaN</td>\n",
       "      <td>NaN</td>\n",
       "      <td>NaN</td>\n",
       "      <td>NaN</td>\n",
       "      <td>NaN</td>\n",
       "      <td>NaN</td>\n",
       "      <td>NaN</td>\n",
       "      <td>metadata could not be read by OCR</td>\n",
       "    </tr>\n",
       "    <tr>\n",
       "      <th>33050</th>\n",
       "      <td>R014207944</td>\n",
       "      <td>2006-3</td>\n",
       "      <td>146.png</td>\n",
       "      <td>dot</td>\n",
       "      <td>1.512097</td>\n",
       "      <td>1734.285714</td>\n",
       "      <td>18.0</td>\n",
       "      <td>NaN</td>\n",
       "      <td>NaN</td>\n",
       "      <td>NaN</td>\n",
       "      <td>...</td>\n",
       "      <td>NaN</td>\n",
       "      <td>NaN</td>\n",
       "      <td>NaN</td>\n",
       "      <td>NaN</td>\n",
       "      <td>NaN</td>\n",
       "      <td>NaN</td>\n",
       "      <td>NaN</td>\n",
       "      <td>NaN</td>\n",
       "      <td>NaN</td>\n",
       "      <td>NaN</td>\n",
       "    </tr>\n",
       "    <tr>\n",
       "      <th>41180</th>\n",
       "      <td>R014207963</td>\n",
       "      <td>1548-1B</td>\n",
       "      <td>309.png</td>\n",
       "      <td>num</td>\n",
       "      <td>1.754032</td>\n",
       "      <td>1292.000000</td>\n",
       "      <td>NaN</td>\n",
       "      <td>0.0</td>\n",
       "      <td>1.0</td>\n",
       "      <td>4.0</td>\n",
       "      <td>...</td>\n",
       "      <td>NaN</td>\n",
       "      <td>NaN</td>\n",
       "      <td>NaN</td>\n",
       "      <td>NaN</td>\n",
       "      <td>NaN</td>\n",
       "      <td>NaN</td>\n",
       "      <td>NaN</td>\n",
       "      <td>NaN</td>\n",
       "      <td>NaN</td>\n",
       "      <td>NaN</td>\n",
       "    </tr>\n",
       "    <tr>\n",
       "      <th>7600</th>\n",
       "      <td>R014207813</td>\n",
       "      <td>5005</td>\n",
       "      <td>247.png</td>\n",
       "      <td>loss</td>\n",
       "      <td>NaN</td>\n",
       "      <td>NaN</td>\n",
       "      <td>NaN</td>\n",
       "      <td>NaN</td>\n",
       "      <td>NaN</td>\n",
       "      <td>NaN</td>\n",
       "      <td>...</td>\n",
       "      <td>NaN</td>\n",
       "      <td>NaN</td>\n",
       "      <td>NaN</td>\n",
       "      <td>NaN</td>\n",
       "      <td>NaN</td>\n",
       "      <td>NaN</td>\n",
       "      <td>NaN</td>\n",
       "      <td>NaN</td>\n",
       "      <td>metadata_translation.determine_leftside_metada...</td>\n",
       "      <td>NaN</td>\n",
       "    </tr>\n",
       "    <tr>\n",
       "      <th>23896</th>\n",
       "      <td>R014207836</td>\n",
       "      <td>4726-50</td>\n",
       "      <td>3.png</td>\n",
       "      <td>outlier</td>\n",
       "      <td>NaN</td>\n",
       "      <td>NaN</td>\n",
       "      <td>NaN</td>\n",
       "      <td>NaN</td>\n",
       "      <td>NaN</td>\n",
       "      <td>NaN</td>\n",
       "      <td>...</td>\n",
       "      <td>NaN</td>\n",
       "      <td>NaN</td>\n",
       "      <td>NaN</td>\n",
       "      <td>NaN</td>\n",
       "      <td>NaN</td>\n",
       "      <td>NaN</td>\n",
       "      <td>NaN</td>\n",
       "      <td>NaN</td>\n",
       "      <td>image_segmentation.segment_images_in_subdir.se...</td>\n",
       "      <td>height: 707,width: 1098</td>\n",
       "    </tr>\n",
       "    <tr>\n",
       "      <th>298</th>\n",
       "      <td>R014207711</td>\n",
       "      <td>28</td>\n",
       "      <td>31.png</td>\n",
       "      <td>outlier</td>\n",
       "      <td>NaN</td>\n",
       "      <td>NaN</td>\n",
       "      <td>NaN</td>\n",
       "      <td>NaN</td>\n",
       "      <td>NaN</td>\n",
       "      <td>NaN</td>\n",
       "      <td>...</td>\n",
       "      <td>NaN</td>\n",
       "      <td>NaN</td>\n",
       "      <td>NaN</td>\n",
       "      <td>NaN</td>\n",
       "      <td>NaN</td>\n",
       "      <td>NaN</td>\n",
       "      <td>NaN</td>\n",
       "      <td>NaN</td>\n",
       "      <td>image_segmentation.segment_images_in_subdir.se...</td>\n",
       "      <td>height: 647,width: 2397</td>\n",
       "    </tr>\n",
       "  </tbody>\n",
       "</table>\n",
       "<p>10 rows × 30 columns</p>\n",
       "</div>"
      ],
      "text/plain": [
       "        Directory Subdirectory filename processed_image_class      fmin  \\\n",
       "10171  R014207818     4245-38A  136.png                  num2  1.500000   \n",
       "3225   R014207808      4581-19  268.png                  num2  1.500000   \n",
       "16970  R014207828      4416-37  239.png                  loss       NaN   \n",
       "7200   R014207811         5095  450.png                  loss       NaN   \n",
       "29065  R014207843     3225-50A  185.png                  loss  1.500000   \n",
       "33050  R014207944       2006-3  146.png                   dot  1.512097   \n",
       "41180  R014207963      1548-1B  309.png                   num  1.754032   \n",
       "7600   R014207813         5005  247.png                  loss       NaN   \n",
       "23896  R014207836      4726-50    3.png               outlier       NaN   \n",
       "298    R014207711           28   31.png               outlier       NaN   \n",
       "\n",
       "         max_depth  station_number  station_number_1  station_number_2  \\\n",
       "10171  1378.787879             NaN               NaN               NaN   \n",
       "3225   1331.250000             NaN               NaN               NaN   \n",
       "16970          NaN             NaN               NaN               NaN   \n",
       "7200           NaN             NaN               NaN               NaN   \n",
       "29065   572.340426             NaN               NaN               NaN   \n",
       "33050  1734.285714            18.0               NaN               NaN   \n",
       "41180  1292.000000             NaN               0.0               1.0   \n",
       "7600           NaN             NaN               NaN               NaN   \n",
       "23896          NaN             NaN               NaN               NaN   \n",
       "298            NaN             NaN               NaN               NaN   \n",
       "\n",
       "       year_1  ...  station_number_OCR  year_OCR  day_of_year_OCR  hour_OCR  \\\n",
       "10171     NaN  ...                38.0      67.0              247        07   \n",
       "3225      NaN  ...                  10      66.0              190        16   \n",
       "16970     NaN  ...                 NaN       NaN              NaN       NaN   \n",
       "7200      NaN  ...                 NaN       NaN              NaN       NaN   \n",
       "29065     NaN  ...                 NaN       NaN              NaN       NaN   \n",
       "33050     NaN  ...                 NaN       NaN              NaN       NaN   \n",
       "41180     4.0  ...                 NaN       NaN              NaN       NaN   \n",
       "7600      NaN  ...                 NaN       NaN              NaN       NaN   \n",
       "23896     NaN  ...                 NaN       NaN              NaN       NaN   \n",
       "298       NaN  ...                 NaN       NaN              NaN       NaN   \n",
       "\n",
       "       minute_OCR  second_OCR  metadata_type  is_dot  \\\n",
       "10171          48        10.0            NaN     NaN   \n",
       "3225           41          33            NaN     NaN   \n",
       "16970         NaN         NaN            NaN     NaN   \n",
       "7200          NaN         NaN            NaN     NaN   \n",
       "29065         NaN         NaN            NaN     NaN   \n",
       "33050         NaN         NaN            NaN     NaN   \n",
       "41180         NaN         NaN            NaN     NaN   \n",
       "7600          NaN         NaN            NaN     NaN   \n",
       "23896         NaN         NaN            NaN     NaN   \n",
       "298           NaN         NaN            NaN     NaN   \n",
       "\n",
       "                                               func_name  \\\n",
       "10171                                                NaN   \n",
       "3225                                                 NaN   \n",
       "16970  ionogram_content_extraction.extract_select_par...   \n",
       "7200   ionogram_content_extraction.extract_select_par...   \n",
       "29065                                                NaN   \n",
       "33050                                                NaN   \n",
       "41180                                                NaN   \n",
       "7600   metadata_translation.determine_leftside_metada...   \n",
       "23896  image_segmentation.segment_images_in_subdir.se...   \n",
       "298    image_segmentation.segment_images_in_subdir.se...   \n",
       "\n",
       "                                 details  \n",
       "10171                                NaN  \n",
       "3225                                 NaN  \n",
       "16970                                NaN  \n",
       "7200                                 NaN  \n",
       "29065  metadata could not be read by OCR  \n",
       "33050                                NaN  \n",
       "41180                                NaN  \n",
       "7600                                 NaN  \n",
       "23896            height: 707,width: 1098  \n",
       "298              height: 647,width: 2397  \n",
       "\n",
       "[10 rows x 30 columns]"
      ]
     },
     "execution_count": 6,
     "metadata": {},
     "output_type": "execute_result"
    }
   ],
   "source": [
    "df_result['year_1'] = df_result['year']\n",
    "df_result = df_result[['Directory', 'Subdirectory', 'filename', 'processed_image_class', 'fmin', 'max_depth', \n",
    "                       'station_number', 'station_number_1', 'station_number_2', 'year_1', 'day_1', 'day_2', 'day_3', \n",
    "                       'hour_1', 'hour_2', 'minute_1', 'minute_2', 'second_1', 'second_2', 'satellite_number', \n",
    "                       'station_number_OCR', 'year_OCR', 'day_of_year_OCR', 'hour_OCR', 'minute_OCR', 'second_OCR', \n",
    "                       'metadata_type', 'is_dot', 'func_name', 'details']] \n",
    "df_result.sample(10)"
   ]
  },
  {
   "cell_type": "markdown",
   "id": "1ba53fdb",
   "metadata": {},
   "source": [
    "#  "
   ]
  },
  {
   "cell_type": "markdown",
   "id": "b23a3aa9",
   "metadata": {},
   "source": [
    "#### Split results into different metadata types (dot, num, num2):"
   ]
  },
  {
   "cell_type": "code",
   "execution_count": 7,
   "id": "d08d4bb1",
   "metadata": {},
   "outputs": [
    {
     "data": {
      "text/plain": [
       "array(['num', 'loss', 'outlier', 'num2', 'dot'], dtype=object)"
      ]
     },
     "execution_count": 7,
     "metadata": {},
     "output_type": "execute_result"
    }
   ],
   "source": [
    "df_result['processed_image_class'].unique()"
   ]
  },
  {
   "cell_type": "code",
   "execution_count": 8,
   "id": "1be90f1a",
   "metadata": {},
   "outputs": [
    {
     "name": "stdout",
     "output_type": "stream",
     "text": [
      "6292\n"
     ]
    }
   ],
   "source": [
    "df_num2 = df_result.loc[df_result['processed_image_class'] == 'num2']\n",
    "print(len(df_num2))"
   ]
  },
  {
   "cell_type": "code",
   "execution_count": 9,
   "id": "203c553d",
   "metadata": {},
   "outputs": [
    {
     "name": "stdout",
     "output_type": "stream",
     "text": [
      "10831\n"
     ]
    }
   ],
   "source": [
    "df_num = df_result.loc[df_result['processed_image_class'] == 'num']\n",
    "print(len(df_num))"
   ]
  },
  {
   "cell_type": "code",
   "execution_count": 10,
   "id": "187933db",
   "metadata": {},
   "outputs": [
    {
     "name": "stdout",
     "output_type": "stream",
     "text": [
      "997\n"
     ]
    }
   ],
   "source": [
    "df_dot = df_result.loc[df_result['processed_image_class'] == 'dot']\n",
    "print(len(df_dot))"
   ]
  },
  {
   "cell_type": "code",
   "execution_count": 11,
   "id": "b3252ff5",
   "metadata": {},
   "outputs": [
    {
     "name": "stdout",
     "output_type": "stream",
     "text": [
      "4970\n"
     ]
    }
   ],
   "source": [
    "df_outlier = df_result.loc[df_result['processed_image_class'] == 'outlier']\n",
    "print(len(df_outlier))"
   ]
  },
  {
   "cell_type": "code",
   "execution_count": 12,
   "id": "ffe172aa",
   "metadata": {},
   "outputs": [
    {
     "name": "stdout",
     "output_type": "stream",
     "text": [
      "21237\n"
     ]
    }
   ],
   "source": [
    "df_loss = df_result.loc[df_result['processed_image_class'] == 'loss']\n",
    "print(len(df_loss))"
   ]
  },
  {
   "cell_type": "code",
   "execution_count": 13,
   "id": "60121878",
   "metadata": {},
   "outputs": [
    {
     "data": {
      "text/plain": [
       "44327"
      ]
     },
     "execution_count": 13,
     "metadata": {},
     "output_type": "execute_result"
    }
   ],
   "source": [
    "len(df_num2) + len(df_num) + len(df_dot) + len(df_outlier) + len(df_loss)"
   ]
  },
  {
   "cell_type": "markdown",
   "id": "4604e196",
   "metadata": {},
   "source": [
    "  "
   ]
  },
  {
   "cell_type": "markdown",
   "id": "1d1701aa",
   "metadata": {},
   "source": [
    "#### num2 - check timestamp components, construct timestamp:"
   ]
  },
  {
   "cell_type": "code",
   "execution_count": 14,
   "id": "b2b05252",
   "metadata": {},
   "outputs": [
    {
     "data": {
      "text/html": [
       "<div>\n",
       "<style scoped>\n",
       "    .dataframe tbody tr th:only-of-type {\n",
       "        vertical-align: middle;\n",
       "    }\n",
       "\n",
       "    .dataframe tbody tr th {\n",
       "        vertical-align: top;\n",
       "    }\n",
       "\n",
       "    .dataframe thead th {\n",
       "        text-align: right;\n",
       "    }\n",
       "</style>\n",
       "<table border=\"1\" class=\"dataframe\">\n",
       "  <thead>\n",
       "    <tr style=\"text-align: right;\">\n",
       "      <th></th>\n",
       "      <th>year_OCR</th>\n",
       "      <th>day_of_year_OCR</th>\n",
       "      <th>hour_OCR</th>\n",
       "      <th>minute_OCR</th>\n",
       "      <th>second_OCR</th>\n",
       "    </tr>\n",
       "  </thead>\n",
       "  <tbody>\n",
       "    <tr>\n",
       "      <th>25364</th>\n",
       "      <td>61</td>\n",
       "      <td>175</td>\n",
       "      <td>04</td>\n",
       "      <td>25</td>\n",
       "      <td>24</td>\n",
       "    </tr>\n",
       "    <tr>\n",
       "      <th>25353</th>\n",
       "      <td>61</td>\n",
       "      <td>111</td>\n",
       "      <td>16</td>\n",
       "      <td>39</td>\n",
       "      <td>12</td>\n",
       "    </tr>\n",
       "    <tr>\n",
       "      <th>17704</th>\n",
       "      <td>61.0</td>\n",
       "      <td>256</td>\n",
       "      <td>11</td>\n",
       "      <td>20</td>\n",
       "      <td>08</td>\n",
       "    </tr>\n",
       "    <tr>\n",
       "      <th>10418</th>\n",
       "      <td>67.0</td>\n",
       "      <td>245</td>\n",
       "      <td>18</td>\n",
       "      <td>36</td>\n",
       "      <td>24.0</td>\n",
       "    </tr>\n",
       "    <tr>\n",
       "      <th>17182</th>\n",
       "      <td>67.0</td>\n",
       "      <td>177.0</td>\n",
       "      <td>18</td>\n",
       "      <td>25.0</td>\n",
       "      <td>26.0</td>\n",
       "    </tr>\n",
       "    <tr>\n",
       "      <th>10567</th>\n",
       "      <td>67.0</td>\n",
       "      <td>141</td>\n",
       "      <td>15</td>\n",
       "      <td>19</td>\n",
       "      <td>03</td>\n",
       "    </tr>\n",
       "    <tr>\n",
       "      <th>27332</th>\n",
       "      <td>61.0</td>\n",
       "      <td>270</td>\n",
       "      <td>17.0</td>\n",
       "      <td>36</td>\n",
       "      <td>51</td>\n",
       "    </tr>\n",
       "    <tr>\n",
       "      <th>20665</th>\n",
       "      <td>68.0</td>\n",
       "      <td>55.0</td>\n",
       "      <td>15</td>\n",
       "      <td>32</td>\n",
       "      <td>31</td>\n",
       "    </tr>\n",
       "    <tr>\n",
       "      <th>9965</th>\n",
       "      <td>67</td>\n",
       "      <td>268.0</td>\n",
       "      <td>04</td>\n",
       "      <td>21</td>\n",
       "      <td>16</td>\n",
       "    </tr>\n",
       "    <tr>\n",
       "      <th>26848</th>\n",
       "      <td>67</td>\n",
       "      <td>260.0</td>\n",
       "      <td>4.0</td>\n",
       "      <td>47</td>\n",
       "      <td>45.0</td>\n",
       "    </tr>\n",
       "  </tbody>\n",
       "</table>\n",
       "</div>"
      ],
      "text/plain": [
       "      year_OCR day_of_year_OCR hour_OCR minute_OCR second_OCR\n",
       "25364       61             175       04         25         24\n",
       "25353       61             111       16         39         12\n",
       "17704     61.0             256       11         20         08\n",
       "10418     67.0             245       18         36       24.0\n",
       "17182     67.0           177.0       18       25.0       26.0\n",
       "10567     67.0             141       15         19         03\n",
       "27332     61.0             270     17.0         36         51\n",
       "20665     68.0            55.0       15         32         31\n",
       "9965        67           268.0       04         21         16\n",
       "26848       67           260.0      4.0         47       45.0"
      ]
     },
     "execution_count": 14,
     "metadata": {},
     "output_type": "execute_result"
    }
   ],
   "source": [
    "df_num2[['year_OCR', 'day_of_year_OCR', 'hour_OCR', 'minute_OCR', 'second_OCR']].sample(10)"
   ]
  },
  {
   "cell_type": "markdown",
   "id": "cd2f64d7",
   "metadata": {},
   "source": [
    "year:"
   ]
  },
  {
   "cell_type": "code",
   "execution_count": 15,
   "id": "a9883a43",
   "metadata": {},
   "outputs": [
    {
     "data": {
      "text/plain": [
       "<Axes: xlabel='year_OCR', ylabel='Count'>"
      ]
     },
     "execution_count": 15,
     "metadata": {},
     "output_type": "execute_result"
    },
    {
     "data": {
      "image/png": "[encoded data removed]",
      "text/plain": [
       "<Figure size 640x480 with 1 Axes>"
      ]
     },
     "metadata": {},
     "output_type": "display_data"
    }
   ],
   "source": [
    "df_num2 = df_num2.copy(deep=True)\n",
    "df_num2['year_OCR'] = df_num2['year_OCR'].astype('float')\n",
    "sns.histplot(data=df_num2, x='year_OCR')"
   ]
  },
  {
   "cell_type": "code",
   "execution_count": 16,
   "id": "10f1387d",
   "metadata": {},
   "outputs": [],
   "source": [
    "df_num2['year_OCR'] = df_num2['year_OCR'].apply(lambda x: np.nan if x<62 else x)\n",
    "df_num2['year_OCR'] = df_num2['year_OCR'].apply(lambda x: np.nan if x>80 else x)"
   ]
  },
  {
   "cell_type": "code",
   "execution_count": 17,
   "id": "d7714fbd",
   "metadata": {},
   "outputs": [
    {
     "data": {
      "text/html": [
       "<div>\n",
       "<style scoped>\n",
       "    .dataframe tbody tr th:only-of-type {\n",
       "        vertical-align: middle;\n",
       "    }\n",
       "\n",
       "    .dataframe tbody tr th {\n",
       "        vertical-align: top;\n",
       "    }\n",
       "\n",
       "    .dataframe thead th {\n",
       "        text-align: right;\n",
       "    }\n",
       "</style>\n",
       "<table border=\"1\" class=\"dataframe\">\n",
       "  <thead>\n",
       "    <tr style=\"text-align: right;\">\n",
       "      <th></th>\n",
       "      <th>year</th>\n",
       "      <th>year_OCR</th>\n",
       "    </tr>\n",
       "  </thead>\n",
       "  <tbody>\n",
       "    <tr>\n",
       "      <th>23934</th>\n",
       "      <td>NaN</td>\n",
       "      <td>NaN</td>\n",
       "    </tr>\n",
       "    <tr>\n",
       "      <th>19408</th>\n",
       "      <td>NaN</td>\n",
       "      <td>NaN</td>\n",
       "    </tr>\n",
       "    <tr>\n",
       "      <th>9996</th>\n",
       "      <td>1967.0</td>\n",
       "      <td>67.0</td>\n",
       "    </tr>\n",
       "    <tr>\n",
       "      <th>18058</th>\n",
       "      <td>1967.0</td>\n",
       "      <td>67.0</td>\n",
       "    </tr>\n",
       "    <tr>\n",
       "      <th>24885</th>\n",
       "      <td>1967.0</td>\n",
       "      <td>67.0</td>\n",
       "    </tr>\n",
       "    <tr>\n",
       "      <th>26945</th>\n",
       "      <td>1967.0</td>\n",
       "      <td>67.0</td>\n",
       "    </tr>\n",
       "    <tr>\n",
       "      <th>29603</th>\n",
       "      <td>1966.0</td>\n",
       "      <td>66.0</td>\n",
       "    </tr>\n",
       "    <tr>\n",
       "      <th>27070</th>\n",
       "      <td>1967.0</td>\n",
       "      <td>67.0</td>\n",
       "    </tr>\n",
       "    <tr>\n",
       "      <th>23547</th>\n",
       "      <td>1968.0</td>\n",
       "      <td>68.0</td>\n",
       "    </tr>\n",
       "    <tr>\n",
       "      <th>9535</th>\n",
       "      <td>1967.0</td>\n",
       "      <td>67.0</td>\n",
       "    </tr>\n",
       "  </tbody>\n",
       "</table>\n",
       "</div>"
      ],
      "text/plain": [
       "         year  year_OCR\n",
       "23934     NaN       NaN\n",
       "19408     NaN       NaN\n",
       "9996   1967.0      67.0\n",
       "18058  1967.0      67.0\n",
       "24885  1967.0      67.0\n",
       "26945  1967.0      67.0\n",
       "29603  1966.0      66.0\n",
       "27070  1967.0      67.0\n",
       "23547  1968.0      68.0\n",
       "9535   1967.0      67.0"
      ]
     },
     "execution_count": 17,
     "metadata": {},
     "output_type": "execute_result"
    }
   ],
   "source": [
    "df_num2['year'] = df_num2['year_OCR'] + 1900\n",
    "df_num2[['year', 'year_OCR']].sample(10)"
   ]
  },
  {
   "cell_type": "markdown",
   "id": "d08d7c57",
   "metadata": {},
   "source": [
    "day:"
   ]
  },
  {
   "cell_type": "code",
   "execution_count": 18,
   "id": "5b13d5a1",
   "metadata": {},
   "outputs": [
    {
     "data": {
      "text/plain": [
       "<Axes: xlabel='day_of_year_OCR', ylabel='Count'>"
      ]
     },
     "execution_count": 18,
     "metadata": {},
     "output_type": "execute_result"
    },
    {
     "data": {
      "image/png": "[encoded data removed]",
      "text/plain": [
       "<Figure size 640x480 with 1 Axes>"
      ]
     },
     "metadata": {},
     "output_type": "display_data"
    }
   ],
   "source": [
    "df_num2['day_of_year_OCR'] = df_num2['day_of_year_OCR'].astype('float')\n",
    "sns.histplot(data=df_num2, x='day_of_year_OCR')"
   ]
  },
  {
   "cell_type": "code",
   "execution_count": 19,
   "id": "2f6b5822",
   "metadata": {},
   "outputs": [
    {
     "data": {
      "text/html": [
       "<div>\n",
       "<style scoped>\n",
       "    .dataframe tbody tr th:only-of-type {\n",
       "        vertical-align: middle;\n",
       "    }\n",
       "\n",
       "    .dataframe tbody tr th {\n",
       "        vertical-align: top;\n",
       "    }\n",
       "\n",
       "    .dataframe thead th {\n",
       "        text-align: right;\n",
       "    }\n",
       "</style>\n",
       "<table border=\"1\" class=\"dataframe\">\n",
       "  <thead>\n",
       "    <tr style=\"text-align: right;\">\n",
       "      <th></th>\n",
       "      <th>day_of_year</th>\n",
       "      <th>day_of_year_OCR</th>\n",
       "    </tr>\n",
       "  </thead>\n",
       "  <tbody>\n",
       "    <tr>\n",
       "      <th>18127</th>\n",
       "      <td>287.0</td>\n",
       "      <td>287.0</td>\n",
       "    </tr>\n",
       "    <tr>\n",
       "      <th>21167</th>\n",
       "      <td>83.0</td>\n",
       "      <td>83.0</td>\n",
       "    </tr>\n",
       "    <tr>\n",
       "      <th>27262</th>\n",
       "      <td>212.0</td>\n",
       "      <td>212.0</td>\n",
       "    </tr>\n",
       "    <tr>\n",
       "      <th>21286</th>\n",
       "      <td>71.0</td>\n",
       "      <td>71.0</td>\n",
       "    </tr>\n",
       "    <tr>\n",
       "      <th>16841</th>\n",
       "      <td>47.0</td>\n",
       "      <td>47.0</td>\n",
       "    </tr>\n",
       "    <tr>\n",
       "      <th>23964</th>\n",
       "      <td>87.0</td>\n",
       "      <td>87.0</td>\n",
       "    </tr>\n",
       "    <tr>\n",
       "      <th>10140</th>\n",
       "      <td>245.0</td>\n",
       "      <td>245.0</td>\n",
       "    </tr>\n",
       "    <tr>\n",
       "      <th>23927</th>\n",
       "      <td>87.0</td>\n",
       "      <td>87.0</td>\n",
       "    </tr>\n",
       "    <tr>\n",
       "      <th>9680</th>\n",
       "      <td>216.0</td>\n",
       "      <td>216.0</td>\n",
       "    </tr>\n",
       "    <tr>\n",
       "      <th>24606</th>\n",
       "      <td>136.0</td>\n",
       "      <td>136.0</td>\n",
       "    </tr>\n",
       "  </tbody>\n",
       "</table>\n",
       "</div>"
      ],
      "text/plain": [
       "       day_of_year  day_of_year_OCR\n",
       "18127        287.0            287.0\n",
       "21167         83.0             83.0\n",
       "27262        212.0            212.0\n",
       "21286         71.0             71.0\n",
       "16841         47.0             47.0\n",
       "23964         87.0             87.0\n",
       "10140        245.0            245.0\n",
       "23927         87.0             87.0\n",
       "9680         216.0            216.0\n",
       "24606        136.0            136.0"
      ]
     },
     "execution_count": 19,
     "metadata": {},
     "output_type": "execute_result"
    }
   ],
   "source": [
    "df_num2['day_of_year_OCR'] = df_num2['day_of_year_OCR'].apply(lambda x: np.nan if x>366 else x)\n",
    "df_num2['day_of_year_OCR'] = df_num2['day_of_year_OCR'].apply(lambda x: np.nan if x==0 else x)\n",
    "df_num2['day_of_year'] = df_num2['day_of_year_OCR']\n",
    "df_num2[['day_of_year', 'day_of_year_OCR']].sample(10)"
   ]
  },
  {
   "cell_type": "markdown",
   "id": "7399afbc",
   "metadata": {},
   "source": [
    "hour:"
   ]
  },
  {
   "cell_type": "code",
   "execution_count": 20,
   "id": "dfe54285",
   "metadata": {},
   "outputs": [
    {
     "data": {
      "text/plain": [
       "<Axes: xlabel='hour_OCR', ylabel='Count'>"
      ]
     },
     "execution_count": 20,
     "metadata": {},
     "output_type": "execute_result"
    },
    {
     "data": {
      "image/png": "[encoded data removed]",
      "text/plain": [
       "<Figure size 640x480 with 1 Axes>"
      ]
     },
     "metadata": {},
     "output_type": "display_data"
    }
   ],
   "source": [
    "df_num2['hour_OCR'] = df_num2['hour_OCR'].astype('float')\n",
    "sns.histplot(data=df_num2, x='hour_OCR')"
   ]
  },
  {
   "cell_type": "code",
   "execution_count": 21,
   "id": "e03ec071",
   "metadata": {},
   "outputs": [
    {
     "data": {
      "text/html": [
       "<div>\n",
       "<style scoped>\n",
       "    .dataframe tbody tr th:only-of-type {\n",
       "        vertical-align: middle;\n",
       "    }\n",
       "\n",
       "    .dataframe tbody tr th {\n",
       "        vertical-align: top;\n",
       "    }\n",
       "\n",
       "    .dataframe thead th {\n",
       "        text-align: right;\n",
       "    }\n",
       "</style>\n",
       "<table border=\"1\" class=\"dataframe\">\n",
       "  <thead>\n",
       "    <tr style=\"text-align: right;\">\n",
       "      <th></th>\n",
       "      <th>hour</th>\n",
       "      <th>hour_OCR</th>\n",
       "    </tr>\n",
       "  </thead>\n",
       "  <tbody>\n",
       "    <tr>\n",
       "      <th>20635</th>\n",
       "      <td>15.0</td>\n",
       "      <td>15.0</td>\n",
       "    </tr>\n",
       "    <tr>\n",
       "      <th>20382</th>\n",
       "      <td>16.0</td>\n",
       "      <td>16.0</td>\n",
       "    </tr>\n",
       "    <tr>\n",
       "      <th>19755</th>\n",
       "      <td>4.0</td>\n",
       "      <td>4.0</td>\n",
       "    </tr>\n",
       "    <tr>\n",
       "      <th>17085</th>\n",
       "      <td>20.0</td>\n",
       "      <td>20.0</td>\n",
       "    </tr>\n",
       "    <tr>\n",
       "      <th>17131</th>\n",
       "      <td>7.0</td>\n",
       "      <td>7.0</td>\n",
       "    </tr>\n",
       "    <tr>\n",
       "      <th>25305</th>\n",
       "      <td>14.0</td>\n",
       "      <td>14.0</td>\n",
       "    </tr>\n",
       "    <tr>\n",
       "      <th>25120</th>\n",
       "      <td>15.0</td>\n",
       "      <td>15.0</td>\n",
       "    </tr>\n",
       "    <tr>\n",
       "      <th>27295</th>\n",
       "      <td>17.0</td>\n",
       "      <td>17.0</td>\n",
       "    </tr>\n",
       "    <tr>\n",
       "      <th>10627</th>\n",
       "      <td>8.0</td>\n",
       "      <td>8.0</td>\n",
       "    </tr>\n",
       "    <tr>\n",
       "      <th>10140</th>\n",
       "      <td>8.0</td>\n",
       "      <td>8.0</td>\n",
       "    </tr>\n",
       "  </tbody>\n",
       "</table>\n",
       "</div>"
      ],
      "text/plain": [
       "       hour  hour_OCR\n",
       "20635  15.0      15.0\n",
       "20382  16.0      16.0\n",
       "19755   4.0       4.0\n",
       "17085  20.0      20.0\n",
       "17131   7.0       7.0\n",
       "25305  14.0      14.0\n",
       "25120  15.0      15.0\n",
       "27295  17.0      17.0\n",
       "10627   8.0       8.0\n",
       "10140   8.0       8.0"
      ]
     },
     "execution_count": 21,
     "metadata": {},
     "output_type": "execute_result"
    }
   ],
   "source": [
    "df_num2['hour_OCR'] = df_num2['hour_OCR'].apply(lambda x: np.nan if x>24 else x)\n",
    "df_num2['hour'] = df_num2['hour_OCR']\n",
    "df_num2[['hour', 'hour_OCR']].sample(10)"
   ]
  },
  {
   "cell_type": "markdown",
   "id": "f068ac36",
   "metadata": {},
   "source": [
    "minute:"
   ]
  },
  {
   "cell_type": "code",
   "execution_count": 22,
   "id": "467fa7aa",
   "metadata": {},
   "outputs": [
    {
     "data": {
      "text/plain": [
       "<Axes: xlabel='minute_OCR', ylabel='Count'>"
      ]
     },
     "execution_count": 22,
     "metadata": {},
     "output_type": "execute_result"
    },
    {
     "data": {
      "image/png": "[encoded data removed]",
      "text/plain": [
       "<Figure size 640x480 with 1 Axes>"
      ]
     },
     "metadata": {},
     "output_type": "display_data"
    }
   ],
   "source": [
    "df_num2['minute_OCR'] = df_num2['minute_OCR'].astype('float')\n",
    "sns.histplot(data=df_num2, x='minute_OCR')"
   ]
  },
  {
   "cell_type": "code",
   "execution_count": 23,
   "id": "f1d6ecd6",
   "metadata": {},
   "outputs": [
    {
     "data": {
      "text/html": [
       "<div>\n",
       "<style scoped>\n",
       "    .dataframe tbody tr th:only-of-type {\n",
       "        vertical-align: middle;\n",
       "    }\n",
       "\n",
       "    .dataframe tbody tr th {\n",
       "        vertical-align: top;\n",
       "    }\n",
       "\n",
       "    .dataframe thead th {\n",
       "        text-align: right;\n",
       "    }\n",
       "</style>\n",
       "<table border=\"1\" class=\"dataframe\">\n",
       "  <thead>\n",
       "    <tr style=\"text-align: right;\">\n",
       "      <th></th>\n",
       "      <th>minute</th>\n",
       "      <th>minute_OCR</th>\n",
       "    </tr>\n",
       "  </thead>\n",
       "  <tbody>\n",
       "    <tr>\n",
       "      <th>18920</th>\n",
       "      <td>27.0</td>\n",
       "      <td>27.0</td>\n",
       "    </tr>\n",
       "    <tr>\n",
       "      <th>20364</th>\n",
       "      <td>5.0</td>\n",
       "      <td>5.0</td>\n",
       "    </tr>\n",
       "    <tr>\n",
       "      <th>29478</th>\n",
       "      <td>56.0</td>\n",
       "      <td>56.0</td>\n",
       "    </tr>\n",
       "    <tr>\n",
       "      <th>9953</th>\n",
       "      <td>18.0</td>\n",
       "      <td>18.0</td>\n",
       "    </tr>\n",
       "    <tr>\n",
       "      <th>19660</th>\n",
       "      <td>59.0</td>\n",
       "      <td>59.0</td>\n",
       "    </tr>\n",
       "    <tr>\n",
       "      <th>27242</th>\n",
       "      <td>17.0</td>\n",
       "      <td>17.0</td>\n",
       "    </tr>\n",
       "    <tr>\n",
       "      <th>22664</th>\n",
       "      <td>29.0</td>\n",
       "      <td>29.0</td>\n",
       "    </tr>\n",
       "    <tr>\n",
       "      <th>26545</th>\n",
       "      <td>38.0</td>\n",
       "      <td>38.0</td>\n",
       "    </tr>\n",
       "    <tr>\n",
       "      <th>24757</th>\n",
       "      <td>33.0</td>\n",
       "      <td>33.0</td>\n",
       "    </tr>\n",
       "    <tr>\n",
       "      <th>24241</th>\n",
       "      <td>21.0</td>\n",
       "      <td>21.0</td>\n",
       "    </tr>\n",
       "  </tbody>\n",
       "</table>\n",
       "</div>"
      ],
      "text/plain": [
       "       minute  minute_OCR\n",
       "18920    27.0        27.0\n",
       "20364     5.0         5.0\n",
       "29478    56.0        56.0\n",
       "9953     18.0        18.0\n",
       "19660    59.0        59.0\n",
       "27242    17.0        17.0\n",
       "22664    29.0        29.0\n",
       "26545    38.0        38.0\n",
       "24757    33.0        33.0\n",
       "24241    21.0        21.0"
      ]
     },
     "execution_count": 23,
     "metadata": {},
     "output_type": "execute_result"
    }
   ],
   "source": [
    "df_num2['minute_OCR'] = df_num2['minute_OCR'].apply(lambda x: np.nan if x>60 else x)\n",
    "df_num2['minute'] = df_num2['minute_OCR']\n",
    "df_num2[['minute', 'minute_OCR']].sample(10)"
   ]
  },
  {
   "cell_type": "markdown",
   "id": "3f657cb1",
   "metadata": {},
   "source": [
    "second:"
   ]
  },
  {
   "cell_type": "code",
   "execution_count": 24,
   "id": "48157351",
   "metadata": {},
   "outputs": [
    {
     "data": {
      "text/plain": [
       "<Axes: xlabel='second_OCR', ylabel='Count'>"
      ]
     },
     "execution_count": 24,
     "metadata": {},
     "output_type": "execute_result"
    },
    {
     "data": {
      "image/png": "[encoded data removed]",
      "text/plain": [
       "<Figure size 640x480 with 1 Axes>"
      ]
     },
     "metadata": {},
     "output_type": "display_data"
    }
   ],
   "source": [
    "df_num2['second_OCR'] = df_num2['second_OCR'].astype('float')\n",
    "sns.histplot(data=df_num2, x='second_OCR')"
   ]
  },
  {
   "cell_type": "code",
   "execution_count": 25,
   "id": "2241aa37",
   "metadata": {},
   "outputs": [
    {
     "data": {
      "text/html": [
       "<div>\n",
       "<style scoped>\n",
       "    .dataframe tbody tr th:only-of-type {\n",
       "        vertical-align: middle;\n",
       "    }\n",
       "\n",
       "    .dataframe tbody tr th {\n",
       "        vertical-align: top;\n",
       "    }\n",
       "\n",
       "    .dataframe thead th {\n",
       "        text-align: right;\n",
       "    }\n",
       "</style>\n",
       "<table border=\"1\" class=\"dataframe\">\n",
       "  <thead>\n",
       "    <tr style=\"text-align: right;\">\n",
       "      <th></th>\n",
       "      <th>second</th>\n",
       "      <th>second_OCR</th>\n",
       "    </tr>\n",
       "  </thead>\n",
       "  <tbody>\n",
       "    <tr>\n",
       "      <th>27002</th>\n",
       "      <td>54.0</td>\n",
       "      <td>54.0</td>\n",
       "    </tr>\n",
       "    <tr>\n",
       "      <th>19305</th>\n",
       "      <td>42.0</td>\n",
       "      <td>42.0</td>\n",
       "    </tr>\n",
       "    <tr>\n",
       "      <th>23113</th>\n",
       "      <td>5.0</td>\n",
       "      <td>5.0</td>\n",
       "    </tr>\n",
       "    <tr>\n",
       "      <th>23062</th>\n",
       "      <td>26.0</td>\n",
       "      <td>26.0</td>\n",
       "    </tr>\n",
       "    <tr>\n",
       "      <th>18865</th>\n",
       "      <td>35.0</td>\n",
       "      <td>35.0</td>\n",
       "    </tr>\n",
       "    <tr>\n",
       "      <th>3064</th>\n",
       "      <td>20.0</td>\n",
       "      <td>20.0</td>\n",
       "    </tr>\n",
       "    <tr>\n",
       "      <th>9099</th>\n",
       "      <td>34.0</td>\n",
       "      <td>34.0</td>\n",
       "    </tr>\n",
       "    <tr>\n",
       "      <th>24636</th>\n",
       "      <td>59.0</td>\n",
       "      <td>59.0</td>\n",
       "    </tr>\n",
       "    <tr>\n",
       "      <th>10097</th>\n",
       "      <td>45.0</td>\n",
       "      <td>45.0</td>\n",
       "    </tr>\n",
       "    <tr>\n",
       "      <th>24677</th>\n",
       "      <td>8.0</td>\n",
       "      <td>8.0</td>\n",
       "    </tr>\n",
       "  </tbody>\n",
       "</table>\n",
       "</div>"
      ],
      "text/plain": [
       "       second  second_OCR\n",
       "27002    54.0        54.0\n",
       "19305    42.0        42.0\n",
       "23113     5.0         5.0\n",
       "23062    26.0        26.0\n",
       "18865    35.0        35.0\n",
       "3064     20.0        20.0\n",
       "9099     34.0        34.0\n",
       "24636    59.0        59.0\n",
       "10097    45.0        45.0\n",
       "24677     8.0         8.0"
      ]
     },
     "execution_count": 25,
     "metadata": {},
     "output_type": "execute_result"
    }
   ],
   "source": [
    "df_num2['second_OCR'] = df_num2['second_OCR'].apply(lambda x: np.nan if x>60 else x)\n",
    "df_num2['second'] = df_num2['second_OCR']\n",
    "df_num2[['second', 'second_OCR']].sample(10)"
   ]
  },
  {
   "cell_type": "markdown",
   "id": "89c68eb0",
   "metadata": {},
   "source": [
    "construct timestamp:"
   ]
  },
  {
   "cell_type": "code",
   "execution_count": 26,
   "id": "a50d1919",
   "metadata": {},
   "outputs": [
    {
     "name": "stdout",
     "output_type": "stream",
     "text": [
      "6292\n"
     ]
    }
   ],
   "source": [
    "df_num2 = construct_timestamp(df_in=df_num2)\n",
    "print(len(df_num2))"
   ]
  },
  {
   "cell_type": "code",
   "execution_count": 27,
   "id": "83025c56",
   "metadata": {},
   "outputs": [
    {
     "data": {
      "text/html": [
       "<div>\n",
       "<style scoped>\n",
       "    .dataframe tbody tr th:only-of-type {\n",
       "        vertical-align: middle;\n",
       "    }\n",
       "\n",
       "    .dataframe tbody tr th {\n",
       "        vertical-align: top;\n",
       "    }\n",
       "\n",
       "    .dataframe thead th {\n",
       "        text-align: right;\n",
       "    }\n",
       "</style>\n",
       "<table border=\"1\" class=\"dataframe\">\n",
       "  <thead>\n",
       "    <tr style=\"text-align: right;\">\n",
       "      <th></th>\n",
       "      <th>year</th>\n",
       "      <th>month</th>\n",
       "      <th>day</th>\n",
       "      <th>hour</th>\n",
       "      <th>minute</th>\n",
       "      <th>second</th>\n",
       "      <th>Timestamp</th>\n",
       "      <th>time_quality</th>\n",
       "    </tr>\n",
       "  </thead>\n",
       "  <tbody>\n",
       "    <tr>\n",
       "      <th>19340</th>\n",
       "      <td>NaN</td>\n",
       "      <td>02</td>\n",
       "      <td>21</td>\n",
       "      <td>23.0</td>\n",
       "      <td>11.0</td>\n",
       "      <td>17.0</td>\n",
       "      <td>NaT</td>\n",
       "      <td>0</td>\n",
       "    </tr>\n",
       "    <tr>\n",
       "      <th>25312</th>\n",
       "      <td>1967.0</td>\n",
       "      <td>06</td>\n",
       "      <td>29</td>\n",
       "      <td>15.0</td>\n",
       "      <td>0.0</td>\n",
       "      <td>42.0</td>\n",
       "      <td>1967-06-29 15:00:42</td>\n",
       "      <td>1</td>\n",
       "    </tr>\n",
       "    <tr>\n",
       "      <th>24879</th>\n",
       "      <td>1967.0</td>\n",
       "      <td>05</td>\n",
       "      <td>27</td>\n",
       "      <td>8.0</td>\n",
       "      <td>3.0</td>\n",
       "      <td>16.0</td>\n",
       "      <td>1967-05-27 08:03:16</td>\n",
       "      <td>1</td>\n",
       "    </tr>\n",
       "    <tr>\n",
       "      <th>10650</th>\n",
       "      <td>1967.0</td>\n",
       "      <td>05</td>\n",
       "      <td>07</td>\n",
       "      <td>17.0</td>\n",
       "      <td>10.0</td>\n",
       "      <td>9.0</td>\n",
       "      <td>1967-05-07 17:10:09</td>\n",
       "      <td>1</td>\n",
       "    </tr>\n",
       "    <tr>\n",
       "      <th>24631</th>\n",
       "      <td>1967.0</td>\n",
       "      <td>05</td>\n",
       "      <td>16</td>\n",
       "      <td>21.0</td>\n",
       "      <td>11.0</td>\n",
       "      <td>2.0</td>\n",
       "      <td>1967-05-16 21:11:02</td>\n",
       "      <td>1</td>\n",
       "    </tr>\n",
       "    <tr>\n",
       "      <th>26879</th>\n",
       "      <td>NaN</td>\n",
       "      <td>09</td>\n",
       "      <td>18</td>\n",
       "      <td>17.0</td>\n",
       "      <td>12.0</td>\n",
       "      <td>13.0</td>\n",
       "      <td>NaT</td>\n",
       "      <td>0</td>\n",
       "    </tr>\n",
       "    <tr>\n",
       "      <th>16637</th>\n",
       "      <td>1967.0</td>\n",
       "      <td>11</td>\n",
       "      <td>20</td>\n",
       "      <td>6.0</td>\n",
       "      <td>5.0</td>\n",
       "      <td>33.0</td>\n",
       "      <td>1967-11-20 06:05:33</td>\n",
       "      <td>1</td>\n",
       "    </tr>\n",
       "    <tr>\n",
       "      <th>9154</th>\n",
       "      <td>1967.0</td>\n",
       "      <td>04</td>\n",
       "      <td>22</td>\n",
       "      <td>1.0</td>\n",
       "      <td>6.0</td>\n",
       "      <td>31.0</td>\n",
       "      <td>1967-04-22 01:06:31</td>\n",
       "      <td>1</td>\n",
       "    </tr>\n",
       "    <tr>\n",
       "      <th>24740</th>\n",
       "      <td>1967.0</td>\n",
       "      <td>05</td>\n",
       "      <td>11</td>\n",
       "      <td>4.0</td>\n",
       "      <td>29.0</td>\n",
       "      <td>7.0</td>\n",
       "      <td>1967-05-11 04:29:07</td>\n",
       "      <td>1</td>\n",
       "    </tr>\n",
       "    <tr>\n",
       "      <th>26895</th>\n",
       "      <td>1967.0</td>\n",
       "      <td>09</td>\n",
       "      <td>18</td>\n",
       "      <td>17.0</td>\n",
       "      <td>16.0</td>\n",
       "      <td>31.0</td>\n",
       "      <td>1967-09-18 17:16:31</td>\n",
       "      <td>1</td>\n",
       "    </tr>\n",
       "  </tbody>\n",
       "</table>\n",
       "</div>"
      ],
      "text/plain": [
       "         year month day  hour  minute  second           Timestamp  \\\n",
       "19340     NaN    02  21  23.0    11.0    17.0                 NaT   \n",
       "25312  1967.0    06  29  15.0     0.0    42.0 1967-06-29 15:00:42   \n",
       "24879  1967.0    05  27   8.0     3.0    16.0 1967-05-27 08:03:16   \n",
       "10650  1967.0    05  07  17.0    10.0     9.0 1967-05-07 17:10:09   \n",
       "24631  1967.0    05  16  21.0    11.0     2.0 1967-05-16 21:11:02   \n",
       "26879     NaN    09  18  17.0    12.0    13.0                 NaT   \n",
       "16637  1967.0    11  20   6.0     5.0    33.0 1967-11-20 06:05:33   \n",
       "9154   1967.0    04  22   1.0     6.0    31.0 1967-04-22 01:06:31   \n",
       "24740  1967.0    05  11   4.0    29.0     7.0 1967-05-11 04:29:07   \n",
       "26895  1967.0    09  18  17.0    16.0    31.0 1967-09-18 17:16:31   \n",
       "\n",
       "       time_quality  \n",
       "19340             0  \n",
       "25312             1  \n",
       "24879             1  \n",
       "10650             1  \n",
       "24631             1  \n",
       "26879             0  \n",
       "16637             1  \n",
       "9154              1  \n",
       "24740             1  \n",
       "26895             1  "
      ]
     },
     "execution_count": 27,
     "metadata": {},
     "output_type": "execute_result"
    }
   ],
   "source": [
    "df_num2[['year', 'month', 'day', 'hour', 'minute', 'second', 'Timestamp', 'time_quality']].sample(10)"
   ]
  },
  {
   "cell_type": "markdown",
   "id": "850f103b",
   "metadata": {},
   "source": [
    "#  "
   ]
  },
  {
   "cell_type": "markdown",
   "id": "bcd35a97",
   "metadata": {},
   "source": [
    "#### num - check timestamp components, construct timestamp:"
   ]
  },
  {
   "cell_type": "code",
   "execution_count": 28,
   "id": "e21e57a1",
   "metadata": {},
   "outputs": [
    {
     "data": {
      "text/html": [
       "<div>\n",
       "<style scoped>\n",
       "    .dataframe tbody tr th:only-of-type {\n",
       "        vertical-align: middle;\n",
       "    }\n",
       "\n",
       "    .dataframe tbody tr th {\n",
       "        vertical-align: top;\n",
       "    }\n",
       "\n",
       "    .dataframe thead th {\n",
       "        text-align: right;\n",
       "    }\n",
       "</style>\n",
       "<table border=\"1\" class=\"dataframe\">\n",
       "  <thead>\n",
       "    <tr style=\"text-align: right;\">\n",
       "      <th></th>\n",
       "      <th>year_1</th>\n",
       "      <th>day_1</th>\n",
       "      <th>day_2</th>\n",
       "      <th>day_3</th>\n",
       "      <th>hour_1</th>\n",
       "      <th>hour_2</th>\n",
       "      <th>minute_1</th>\n",
       "      <th>minute_2</th>\n",
       "      <th>second_1</th>\n",
       "      <th>second_2</th>\n",
       "    </tr>\n",
       "  </thead>\n",
       "  <tbody>\n",
       "    <tr>\n",
       "      <th>38670</th>\n",
       "      <td>0.0</td>\n",
       "      <td>1.0</td>\n",
       "      <td>1.0</td>\n",
       "      <td>0.0</td>\n",
       "      <td>9.0</td>\n",
       "      <td>2.0</td>\n",
       "      <td>9.0</td>\n",
       "      <td>2.0</td>\n",
       "      <td>0.0</td>\n",
       "      <td>4.0</td>\n",
       "    </tr>\n",
       "    <tr>\n",
       "      <th>13235</th>\n",
       "      <td>2.0</td>\n",
       "      <td>2.0</td>\n",
       "      <td>2.0</td>\n",
       "      <td>4.0</td>\n",
       "      <td>0.0</td>\n",
       "      <td>4.0</td>\n",
       "      <td>2.0</td>\n",
       "      <td>2.0</td>\n",
       "      <td>2.0</td>\n",
       "      <td>4.0</td>\n",
       "    </tr>\n",
       "    <tr>\n",
       "      <th>32941</th>\n",
       "      <td>4.0</td>\n",
       "      <td>2.0</td>\n",
       "      <td>5.0</td>\n",
       "      <td>5.0</td>\n",
       "      <td>0.0</td>\n",
       "      <td>4.0</td>\n",
       "      <td>4.0</td>\n",
       "      <td>9.0</td>\n",
       "      <td>2.0</td>\n",
       "      <td>9.0</td>\n",
       "    </tr>\n",
       "    <tr>\n",
       "      <th>39163</th>\n",
       "      <td>0.0</td>\n",
       "      <td>2.0</td>\n",
       "      <td>8.0</td>\n",
       "      <td>0.0</td>\n",
       "      <td>2.0</td>\n",
       "      <td>2.0</td>\n",
       "      <td>2.0</td>\n",
       "      <td>1.0</td>\n",
       "      <td>6.0</td>\n",
       "      <td>0.0</td>\n",
       "    </tr>\n",
       "    <tr>\n",
       "      <th>42347</th>\n",
       "      <td>3.0</td>\n",
       "      <td>2.0</td>\n",
       "      <td>9.0</td>\n",
       "      <td>1.0</td>\n",
       "      <td>1.0</td>\n",
       "      <td>8.0</td>\n",
       "      <td>0.0</td>\n",
       "      <td>1.0</td>\n",
       "      <td>2.0</td>\n",
       "      <td>0.0</td>\n",
       "    </tr>\n",
       "    <tr>\n",
       "      <th>42415</th>\n",
       "      <td>3.0</td>\n",
       "      <td>2.0</td>\n",
       "      <td>9.0</td>\n",
       "      <td>0.0</td>\n",
       "      <td>0.0</td>\n",
       "      <td>1.0</td>\n",
       "      <td>4.0</td>\n",
       "      <td>3.0</td>\n",
       "      <td>0.0</td>\n",
       "      <td>7.0</td>\n",
       "    </tr>\n",
       "    <tr>\n",
       "      <th>35072</th>\n",
       "      <td>5.0</td>\n",
       "      <td>0.0</td>\n",
       "      <td>4.0</td>\n",
       "      <td>7.0</td>\n",
       "      <td>0.0</td>\n",
       "      <td>2.0</td>\n",
       "      <td>3.0</td>\n",
       "      <td>2.0</td>\n",
       "      <td>3.0</td>\n",
       "      <td>6.0</td>\n",
       "    </tr>\n",
       "    <tr>\n",
       "      <th>32872</th>\n",
       "      <td>4.0</td>\n",
       "      <td>2.0</td>\n",
       "      <td>5.0</td>\n",
       "      <td>6.0</td>\n",
       "      <td>2.0</td>\n",
       "      <td>1.0</td>\n",
       "      <td>0.0</td>\n",
       "      <td>2.0</td>\n",
       "      <td>4.0</td>\n",
       "      <td>1.0</td>\n",
       "    </tr>\n",
       "    <tr>\n",
       "      <th>33824</th>\n",
       "      <td>2.0</td>\n",
       "      <td>7.0</td>\n",
       "      <td>2.0</td>\n",
       "      <td>1.0</td>\n",
       "      <td>8.0</td>\n",
       "      <td>3.0</td>\n",
       "      <td>1.0</td>\n",
       "      <td>0.0</td>\n",
       "      <td>7.0</td>\n",
       "      <td>1.0</td>\n",
       "    </tr>\n",
       "    <tr>\n",
       "      <th>34560</th>\n",
       "      <td>5.0</td>\n",
       "      <td>0.0</td>\n",
       "      <td>8.0</td>\n",
       "      <td>9.0</td>\n",
       "      <td>1.0</td>\n",
       "      <td>6.0</td>\n",
       "      <td>1.0</td>\n",
       "      <td>3.0</td>\n",
       "      <td>2.0</td>\n",
       "      <td>3.0</td>\n",
       "    </tr>\n",
       "  </tbody>\n",
       "</table>\n",
       "</div>"
      ],
      "text/plain": [
       "       year_1  day_1  day_2  day_3  hour_1  hour_2  minute_1  minute_2  \\\n",
       "38670     0.0    1.0    1.0    0.0     9.0     2.0       9.0       2.0   \n",
       "13235     2.0    2.0    2.0    4.0     0.0     4.0       2.0       2.0   \n",
       "32941     4.0    2.0    5.0    5.0     0.0     4.0       4.0       9.0   \n",
       "39163     0.0    2.0    8.0    0.0     2.0     2.0       2.0       1.0   \n",
       "42347     3.0    2.0    9.0    1.0     1.0     8.0       0.0       1.0   \n",
       "42415     3.0    2.0    9.0    0.0     0.0     1.0       4.0       3.0   \n",
       "35072     5.0    0.0    4.0    7.0     0.0     2.0       3.0       2.0   \n",
       "32872     4.0    2.0    5.0    6.0     2.0     1.0       0.0       2.0   \n",
       "33824     2.0    7.0    2.0    1.0     8.0     3.0       1.0       0.0   \n",
       "34560     5.0    0.0    8.0    9.0     1.0     6.0       1.0       3.0   \n",
       "\n",
       "       second_1  second_2  \n",
       "38670       0.0       4.0  \n",
       "13235       2.0       4.0  \n",
       "32941       2.0       9.0  \n",
       "39163       6.0       0.0  \n",
       "42347       2.0       0.0  \n",
       "42415       0.0       7.0  \n",
       "35072       3.0       6.0  \n",
       "32872       4.0       1.0  \n",
       "33824       7.0       1.0  \n",
       "34560       2.0       3.0  "
      ]
     },
     "execution_count": 28,
     "metadata": {},
     "output_type": "execute_result"
    }
   ],
   "source": [
    "df_num[['year_1', 'day_1', 'day_2', 'day_3', 'hour_1', 'hour_2', 'minute_1', 'minute_2', 'second_1', 'second_2']].sample(10)"
   ]
  },
  {
   "cell_type": "markdown",
   "id": "ceaf3e06",
   "metadata": {},
   "source": [
    "year - adjust to baseline 1962:"
   ]
  },
  {
   "cell_type": "code",
   "execution_count": 29,
   "id": "0bb9d404",
   "metadata": {},
   "outputs": [
    {
     "data": {
      "text/plain": [
       "<Axes: xlabel='year', ylabel='Count'>"
      ]
     },
     "execution_count": 29,
     "metadata": {},
     "output_type": "execute_result"
    },
    {
     "data": {
      "image/png": "[encoded data removed]",
      "text/plain": [
       "<Figure size 640x480 with 1 Axes>"
      ]
     },
     "metadata": {},
     "output_type": "display_data"
    }
   ],
   "source": [
    "df_num = df_num.copy(deep=True)\n",
    "df_num['year'] = df_num['year_1'] + 1962\n",
    "df_num['year'] = df_num['year'].astype('float')\n",
    "sns.histplot(data=df_num, x='year')"
   ]
  },
  {
   "cell_type": "code",
   "execution_count": 30,
   "id": "280442c8",
   "metadata": {},
   "outputs": [
    {
     "data": {
      "text/html": [
       "<div>\n",
       "<style scoped>\n",
       "    .dataframe tbody tr th:only-of-type {\n",
       "        vertical-align: middle;\n",
       "    }\n",
       "\n",
       "    .dataframe tbody tr th {\n",
       "        vertical-align: top;\n",
       "    }\n",
       "\n",
       "    .dataframe thead th {\n",
       "        text-align: right;\n",
       "    }\n",
       "</style>\n",
       "<table border=\"1\" class=\"dataframe\">\n",
       "  <thead>\n",
       "    <tr style=\"text-align: right;\">\n",
       "      <th></th>\n",
       "      <th>year</th>\n",
       "      <th>year_1</th>\n",
       "    </tr>\n",
       "  </thead>\n",
       "  <tbody>\n",
       "    <tr>\n",
       "      <th>38096</th>\n",
       "      <td>1965.0</td>\n",
       "      <td>3.0</td>\n",
       "    </tr>\n",
       "    <tr>\n",
       "      <th>40084</th>\n",
       "      <td>1966.0</td>\n",
       "      <td>4.0</td>\n",
       "    </tr>\n",
       "    <tr>\n",
       "      <th>42536</th>\n",
       "      <td>1965.0</td>\n",
       "      <td>3.0</td>\n",
       "    </tr>\n",
       "    <tr>\n",
       "      <th>32786</th>\n",
       "      <td>1966.0</td>\n",
       "      <td>4.0</td>\n",
       "    </tr>\n",
       "    <tr>\n",
       "      <th>41533</th>\n",
       "      <td>1965.0</td>\n",
       "      <td>3.0</td>\n",
       "    </tr>\n",
       "    <tr>\n",
       "      <th>31942</th>\n",
       "      <td>1966.0</td>\n",
       "      <td>4.0</td>\n",
       "    </tr>\n",
       "    <tr>\n",
       "      <th>34849</th>\n",
       "      <td>1967.0</td>\n",
       "      <td>5.0</td>\n",
       "    </tr>\n",
       "    <tr>\n",
       "      <th>39223</th>\n",
       "      <td>1962.0</td>\n",
       "      <td>0.0</td>\n",
       "    </tr>\n",
       "    <tr>\n",
       "      <th>32291</th>\n",
       "      <td>1966.0</td>\n",
       "      <td>4.0</td>\n",
       "    </tr>\n",
       "    <tr>\n",
       "      <th>39531</th>\n",
       "      <td>1966.0</td>\n",
       "      <td>4.0</td>\n",
       "    </tr>\n",
       "  </tbody>\n",
       "</table>\n",
       "</div>"
      ],
      "text/plain": [
       "         year  year_1\n",
       "38096  1965.0     3.0\n",
       "40084  1966.0     4.0\n",
       "42536  1965.0     3.0\n",
       "32786  1966.0     4.0\n",
       "41533  1965.0     3.0\n",
       "31942  1966.0     4.0\n",
       "34849  1967.0     5.0\n",
       "39223  1962.0     0.0\n",
       "32291  1966.0     4.0\n",
       "39531  1966.0     4.0"
      ]
     },
     "execution_count": 30,
     "metadata": {},
     "output_type": "execute_result"
    }
   ],
   "source": [
    "df_num['year'] = df_num['year'].apply(lambda x: np.nan if x<1962 else x)\n",
    "df_num['year'] = df_num['year'].apply(lambda x: np.nan if x>1980 else x)\n",
    "df_num[['year', 'year_1']].sample(10)"
   ]
  },
  {
   "cell_type": "markdown",
   "id": "c155f791",
   "metadata": {},
   "source": [
    "day:"
   ]
  },
  {
   "cell_type": "code",
   "execution_count": 31,
   "id": "8c026e1d",
   "metadata": {},
   "outputs": [
    {
     "data": {
      "text/plain": [
       "<Axes: xlabel='day_1', ylabel='Count'>"
      ]
     },
     "execution_count": 31,
     "metadata": {},
     "output_type": "execute_result"
    },
    {
     "data": {
      "image/png": "[encoded data removed]",
      "text/plain": [
       "<Figure size 640x480 with 1 Axes>"
      ]
     },
     "metadata": {},
     "output_type": "display_data"
    }
   ],
   "source": [
    "df_num['day_1'] = df_num['day_1'].astype(int)\n",
    "sns.histplot(data=df_num, x='day_1')"
   ]
  },
  {
   "cell_type": "code",
   "execution_count": 32,
   "id": "5cbc533f",
   "metadata": {},
   "outputs": [],
   "source": [
    "df_num['day_1'] = df_num['day_1'].apply(lambda x: np.nan if x>9 else x)"
   ]
  },
  {
   "cell_type": "code",
   "execution_count": 33,
   "id": "5c0b781d",
   "metadata": {},
   "outputs": [
    {
     "data": {
      "text/plain": [
       "<Axes: xlabel='day_2', ylabel='Count'>"
      ]
     },
     "execution_count": 33,
     "metadata": {},
     "output_type": "execute_result"
    },
    {
     "data": {
      "image/png": "[encoded data removed]",
      "text/plain": [
       "<Figure size 640x480 with 1 Axes>"
      ]
     },
     "metadata": {},
     "output_type": "display_data"
    }
   ],
   "source": [
    "df_num['day_2'] = df_num['day_2'].astype(int)\n",
    "sns.histplot(data=df_num, x='day_2')"
   ]
  },
  {
   "cell_type": "code",
   "execution_count": 34,
   "id": "c3559660",
   "metadata": {},
   "outputs": [],
   "source": [
    "df_num['day_2'] = df_num['day_2'].apply(lambda x: np.nan if x>9 else x)"
   ]
  },
  {
   "cell_type": "code",
   "execution_count": 35,
   "id": "62dadeaa",
   "metadata": {},
   "outputs": [
    {
     "data": {
      "text/plain": [
       "<Axes: xlabel='day_3', ylabel='Count'>"
      ]
     },
     "execution_count": 35,
     "metadata": {},
     "output_type": "execute_result"
    },
    {
     "data": {
      "image/png": "[encoded data removed]",
      "text/plain": [
       "<Figure size 640x480 with 1 Axes>"
      ]
     },
     "metadata": {},
     "output_type": "display_data"
    }
   ],
   "source": [
    "df_num['day_3'] = df_num['day_3'].astype(int)\n",
    "sns.histplot(data=df_num, x='day_3')"
   ]
  },
  {
   "cell_type": "code",
   "execution_count": 36,
   "id": "c8231cbe",
   "metadata": {},
   "outputs": [],
   "source": [
    "df_num['day_3'] = df_num['day_3'].apply(lambda x: np.nan if x>9 else x)"
   ]
  },
  {
   "cell_type": "code",
   "execution_count": 37,
   "id": "282af71f",
   "metadata": {},
   "outputs": [
    {
     "name": "stdout",
     "output_type": "stream",
     "text": [
      "10831\n"
     ]
    },
    {
     "data": {
      "text/html": [
       "<div>\n",
       "<style scoped>\n",
       "    .dataframe tbody tr th:only-of-type {\n",
       "        vertical-align: middle;\n",
       "    }\n",
       "\n",
       "    .dataframe tbody tr th {\n",
       "        vertical-align: top;\n",
       "    }\n",
       "\n",
       "    .dataframe thead th {\n",
       "        text-align: right;\n",
       "    }\n",
       "</style>\n",
       "<table border=\"1\" class=\"dataframe\">\n",
       "  <thead>\n",
       "    <tr style=\"text-align: right;\">\n",
       "      <th></th>\n",
       "      <th>day_of_year</th>\n",
       "      <th>day_1</th>\n",
       "      <th>day_2</th>\n",
       "      <th>day_3</th>\n",
       "    </tr>\n",
       "  </thead>\n",
       "  <tbody>\n",
       "    <tr>\n",
       "      <th>38610</th>\n",
       "      <td>110.0</td>\n",
       "      <td>1.0</td>\n",
       "      <td>1.0</td>\n",
       "      <td>0.0</td>\n",
       "    </tr>\n",
       "    <tr>\n",
       "      <th>34618</th>\n",
       "      <td>90.0</td>\n",
       "      <td>0.0</td>\n",
       "      <td>9.0</td>\n",
       "      <td>0.0</td>\n",
       "    </tr>\n",
       "    <tr>\n",
       "      <th>34077</th>\n",
       "      <td>NaN</td>\n",
       "      <td>6.0</td>\n",
       "      <td>5.0</td>\n",
       "      <td>0.0</td>\n",
       "    </tr>\n",
       "    <tr>\n",
       "      <th>34953</th>\n",
       "      <td>49.0</td>\n",
       "      <td>0.0</td>\n",
       "      <td>4.0</td>\n",
       "      <td>9.0</td>\n",
       "    </tr>\n",
       "    <tr>\n",
       "      <th>32266</th>\n",
       "      <td>165.0</td>\n",
       "      <td>1.0</td>\n",
       "      <td>6.0</td>\n",
       "      <td>5.0</td>\n",
       "    </tr>\n",
       "    <tr>\n",
       "      <th>36200</th>\n",
       "      <td>56.0</td>\n",
       "      <td>0.0</td>\n",
       "      <td>5.0</td>\n",
       "      <td>6.0</td>\n",
       "    </tr>\n",
       "    <tr>\n",
       "      <th>40564</th>\n",
       "      <td>52.0</td>\n",
       "      <td>0.0</td>\n",
       "      <td>5.0</td>\n",
       "      <td>2.0</td>\n",
       "    </tr>\n",
       "    <tr>\n",
       "      <th>31577</th>\n",
       "      <td>140.0</td>\n",
       "      <td>1.0</td>\n",
       "      <td>4.0</td>\n",
       "      <td>0.0</td>\n",
       "    </tr>\n",
       "    <tr>\n",
       "      <th>41721</th>\n",
       "      <td>288.0</td>\n",
       "      <td>2.0</td>\n",
       "      <td>8.0</td>\n",
       "      <td>8.0</td>\n",
       "    </tr>\n",
       "    <tr>\n",
       "      <th>34766</th>\n",
       "      <td>88.0</td>\n",
       "      <td>0.0</td>\n",
       "      <td>8.0</td>\n",
       "      <td>8.0</td>\n",
       "    </tr>\n",
       "  </tbody>\n",
       "</table>\n",
       "</div>"
      ],
      "text/plain": [
       "       day_of_year  day_1  day_2  day_3\n",
       "38610        110.0    1.0    1.0    0.0\n",
       "34618         90.0    0.0    9.0    0.0\n",
       "34077          NaN    6.0    5.0    0.0\n",
       "34953         49.0    0.0    4.0    9.0\n",
       "32266        165.0    1.0    6.0    5.0\n",
       "36200         56.0    0.0    5.0    6.0\n",
       "40564         52.0    0.0    5.0    2.0\n",
       "31577        140.0    1.0    4.0    0.0\n",
       "41721        288.0    2.0    8.0    8.0\n",
       "34766         88.0    0.0    8.0    8.0"
      ]
     },
     "execution_count": 37,
     "metadata": {},
     "output_type": "execute_result"
    }
   ],
   "source": [
    "df_num_daycheck = df_num[~pd.isna(df_num['day_1'])]\n",
    "df_num_daycheck = df_num_daycheck[~pd.isna(df_num_daycheck['day_2'])]\n",
    "df_num_daycheck = df_num_daycheck[~pd.isna(df_num_daycheck['day_3'])]\n",
    "df_num_daycheck['day_of_year'] = df_num_daycheck['day_1'].astype(int).astype(str) + df_num_daycheck['day_2'].astype(int).astype(str) + df_num_daycheck['day_3'].astype(int).astype(str)\n",
    "df_num_daycheck['day_of_year'] = df_num_daycheck['day_of_year'].astype(int)\n",
    "df_num_daycheck['day_of_year'] = df_num_daycheck['day_of_year'].apply(lambda x: np.nan if x>366 else x)\n",
    "df_num_daycheck['day_of_year'] = df_num_daycheck['day_of_year'].apply(lambda x: np.nan if x==0 else x)\n",
    "df_num_nullday = df_num.loc[pd.isna(df_num['day_1']) | pd.isna(df_num['day_2']) | pd.isna(df_num['day_3'])]\n",
    "df_num_nullday = df_num_nullday.copy(deep=True)\n",
    "df_num_nullday['day_of_year'] = np.nan\n",
    "df_num = pd.concat([df_num_daycheck, df_num_nullday])\n",
    "print(len(df_num))\n",
    "df_num[['day_of_year', 'day_1', 'day_2', 'day_3']].sample(10)"
   ]
  },
  {
   "cell_type": "markdown",
   "id": "b47049cf",
   "metadata": {},
   "source": [
    "hour:"
   ]
  },
  {
   "cell_type": "code",
   "execution_count": 38,
   "id": "dd82fada",
   "metadata": {},
   "outputs": [
    {
     "data": {
      "text/plain": [
       "<Axes: xlabel='hour_1', ylabel='Count'>"
      ]
     },
     "execution_count": 38,
     "metadata": {},
     "output_type": "execute_result"
    },
    {
     "data": {
      "image/png": "[encoded data removed]",
      "text/plain": [
       "<Figure size 640x480 with 1 Axes>"
      ]
     },
     "metadata": {},
     "output_type": "display_data"
    }
   ],
   "source": [
    "df_num['hour_1'] = df_num['hour_1'].astype(int)\n",
    "sns.histplot(data=df_num, x='hour_1')"
   ]
  },
  {
   "cell_type": "code",
   "execution_count": 39,
   "id": "2a2440a0",
   "metadata": {},
   "outputs": [],
   "source": [
    "df_num['hour_1'] = df_num['hour_1'].apply(lambda x: np.nan if x>9 else x)"
   ]
  },
  {
   "cell_type": "code",
   "execution_count": 40,
   "id": "3df41e67",
   "metadata": {},
   "outputs": [
    {
     "data": {
      "text/plain": [
       "<Axes: xlabel='hour_2', ylabel='Count'>"
      ]
     },
     "execution_count": 40,
     "metadata": {},
     "output_type": "execute_result"
    },
    {
     "data": {
      "image/png": "[encoded data removed]",
      "text/plain": [
       "<Figure size 640x480 with 1 Axes>"
      ]
     },
     "metadata": {},
     "output_type": "display_data"
    }
   ],
   "source": [
    "df_num['hour_2'] = df_num['hour_2'].astype(int)\n",
    "sns.histplot(data=df_num, x='hour_2')"
   ]
  },
  {
   "cell_type": "code",
   "execution_count": 41,
   "id": "c6da1b0c",
   "metadata": {},
   "outputs": [],
   "source": [
    "df_num['hour_2'] = df_num['hour_2'].apply(lambda x: np.nan if x>9 else x)"
   ]
  },
  {
   "cell_type": "code",
   "execution_count": 42,
   "id": "cac39951",
   "metadata": {},
   "outputs": [
    {
     "name": "stdout",
     "output_type": "stream",
     "text": [
      "10831\n"
     ]
    },
    {
     "data": {
      "text/html": [
       "<div>\n",
       "<style scoped>\n",
       "    .dataframe tbody tr th:only-of-type {\n",
       "        vertical-align: middle;\n",
       "    }\n",
       "\n",
       "    .dataframe tbody tr th {\n",
       "        vertical-align: top;\n",
       "    }\n",
       "\n",
       "    .dataframe thead th {\n",
       "        text-align: right;\n",
       "    }\n",
       "</style>\n",
       "<table border=\"1\" class=\"dataframe\">\n",
       "  <thead>\n",
       "    <tr style=\"text-align: right;\">\n",
       "      <th></th>\n",
       "      <th>hour</th>\n",
       "      <th>hour_1</th>\n",
       "      <th>hour_2</th>\n",
       "    </tr>\n",
       "  </thead>\n",
       "  <tbody>\n",
       "    <tr>\n",
       "      <th>12766</th>\n",
       "      <td>NaN</td>\n",
       "      <td>3.0</td>\n",
       "      <td>2.0</td>\n",
       "    </tr>\n",
       "    <tr>\n",
       "      <th>34232</th>\n",
       "      <td>11.0</td>\n",
       "      <td>1.0</td>\n",
       "      <td>1.0</td>\n",
       "    </tr>\n",
       "    <tr>\n",
       "      <th>42728</th>\n",
       "      <td>19.0</td>\n",
       "      <td>1.0</td>\n",
       "      <td>9.0</td>\n",
       "    </tr>\n",
       "    <tr>\n",
       "      <th>40812</th>\n",
       "      <td>23.0</td>\n",
       "      <td>2.0</td>\n",
       "      <td>3.0</td>\n",
       "    </tr>\n",
       "    <tr>\n",
       "      <th>30753</th>\n",
       "      <td>0.0</td>\n",
       "      <td>0.0</td>\n",
       "      <td>0.0</td>\n",
       "    </tr>\n",
       "    <tr>\n",
       "      <th>36117</th>\n",
       "      <td>20.0</td>\n",
       "      <td>2.0</td>\n",
       "      <td>0.0</td>\n",
       "    </tr>\n",
       "    <tr>\n",
       "      <th>41385</th>\n",
       "      <td>2.0</td>\n",
       "      <td>0.0</td>\n",
       "      <td>2.0</td>\n",
       "    </tr>\n",
       "    <tr>\n",
       "      <th>31693</th>\n",
       "      <td>4.0</td>\n",
       "      <td>0.0</td>\n",
       "      <td>4.0</td>\n",
       "    </tr>\n",
       "    <tr>\n",
       "      <th>13006</th>\n",
       "      <td>4.0</td>\n",
       "      <td>0.0</td>\n",
       "      <td>4.0</td>\n",
       "    </tr>\n",
       "    <tr>\n",
       "      <th>38540</th>\n",
       "      <td>NaN</td>\n",
       "      <td>4.0</td>\n",
       "      <td>0.0</td>\n",
       "    </tr>\n",
       "  </tbody>\n",
       "</table>\n",
       "</div>"
      ],
      "text/plain": [
       "       hour  hour_1  hour_2\n",
       "12766   NaN     3.0     2.0\n",
       "34232  11.0     1.0     1.0\n",
       "42728  19.0     1.0     9.0\n",
       "40812  23.0     2.0     3.0\n",
       "30753   0.0     0.0     0.0\n",
       "36117  20.0     2.0     0.0\n",
       "41385   2.0     0.0     2.0\n",
       "31693   4.0     0.0     4.0\n",
       "13006   4.0     0.0     4.0\n",
       "38540   NaN     4.0     0.0"
      ]
     },
     "execution_count": 42,
     "metadata": {},
     "output_type": "execute_result"
    }
   ],
   "source": [
    "df_num_hourcheck = df_num[~pd.isna(df_num['hour_1'])]\n",
    "df_num_hourcheck = df_num_hourcheck[~pd.isna(df_num_hourcheck['hour_2'])]\n",
    "df_num_hourcheck['hour'] = df_num_hourcheck['hour_1'].astype(int).astype(str) + df_num_hourcheck['hour_2'].astype(int).astype(str)\n",
    "df_num_hourcheck['hour'] = df_num_hourcheck['hour'].astype(int)\n",
    "df_num_hourcheck['hour'] = df_num_hourcheck['hour'].apply(lambda x: np.nan if x>23 else x)\n",
    "df_num_nullhour = df_num.loc[pd.isna(df_num['hour_1']) | pd.isna(df_num['hour_2'])]\n",
    "df_num_nullhour = df_num_nullhour.copy(deep=True)\n",
    "df_num_nullhour['hour'] = np.nan\n",
    "df_num = pd.concat([df_num_hourcheck, df_num_nullhour])\n",
    "print(len(df_num))\n",
    "df_num[['hour', 'hour_1', 'hour_2']].sample(10)"
   ]
  },
  {
   "cell_type": "markdown",
   "id": "6d4337b7",
   "metadata": {},
   "source": [
    "minute:"
   ]
  },
  {
   "cell_type": "code",
   "execution_count": 43,
   "id": "329f79c6",
   "metadata": {},
   "outputs": [
    {
     "data": {
      "text/plain": [
       "<Axes: xlabel='minute_1', ylabel='Count'>"
      ]
     },
     "execution_count": 43,
     "metadata": {},
     "output_type": "execute_result"
    },
    {
     "data": {
      "image/png": "[encoded data removed]",
      "text/plain": [
       "<Figure size 640x480 with 1 Axes>"
      ]
     },
     "metadata": {},
     "output_type": "display_data"
    }
   ],
   "source": [
    "df_num['minute_1'] = df_num['minute_1'].astype(int)\n",
    "sns.histplot(data=df_num, x='minute_1')"
   ]
  },
  {
   "cell_type": "code",
   "execution_count": 44,
   "id": "d90ad807",
   "metadata": {},
   "outputs": [],
   "source": [
    "df_num['minute_1'] = df_num['minute_1'].apply(lambda x: np.nan if x>9 else x)"
   ]
  },
  {
   "cell_type": "code",
   "execution_count": 45,
   "id": "982acfd8",
   "metadata": {},
   "outputs": [
    {
     "data": {
      "text/plain": [
       "<Axes: xlabel='minute_2', ylabel='Count'>"
      ]
     },
     "execution_count": 45,
     "metadata": {},
     "output_type": "execute_result"
    },
    {
     "data": {
      "image/png": "[encoded data removed]",
      "text/plain": [
       "<Figure size 640x480 with 1 Axes>"
      ]
     },
     "metadata": {},
     "output_type": "display_data"
    }
   ],
   "source": [
    "df_num['minute_2'] = df_num['minute_2'].astype(int)\n",
    "sns.histplot(data=df_num, x='minute_2')"
   ]
  },
  {
   "cell_type": "code",
   "execution_count": 46,
   "id": "45c2d6de",
   "metadata": {},
   "outputs": [],
   "source": [
    "df_num['minute_2'] = df_num['minute_2'].apply(lambda x: np.nan if x>9 else x)"
   ]
  },
  {
   "cell_type": "code",
   "execution_count": 47,
   "id": "35a87c60",
   "metadata": {},
   "outputs": [
    {
     "name": "stdout",
     "output_type": "stream",
     "text": [
      "10831\n"
     ]
    },
    {
     "data": {
      "text/html": [
       "<div>\n",
       "<style scoped>\n",
       "    .dataframe tbody tr th:only-of-type {\n",
       "        vertical-align: middle;\n",
       "    }\n",
       "\n",
       "    .dataframe tbody tr th {\n",
       "        vertical-align: top;\n",
       "    }\n",
       "\n",
       "    .dataframe thead th {\n",
       "        text-align: right;\n",
       "    }\n",
       "</style>\n",
       "<table border=\"1\" class=\"dataframe\">\n",
       "  <thead>\n",
       "    <tr style=\"text-align: right;\">\n",
       "      <th></th>\n",
       "      <th>minute</th>\n",
       "      <th>minute_1</th>\n",
       "      <th>minute_2</th>\n",
       "    </tr>\n",
       "  </thead>\n",
       "  <tbody>\n",
       "    <tr>\n",
       "      <th>38571</th>\n",
       "      <td>9.0</td>\n",
       "      <td>0.0</td>\n",
       "      <td>9.0</td>\n",
       "    </tr>\n",
       "    <tr>\n",
       "      <th>39831</th>\n",
       "      <td>34.0</td>\n",
       "      <td>3.0</td>\n",
       "      <td>4.0</td>\n",
       "    </tr>\n",
       "    <tr>\n",
       "      <th>35790</th>\n",
       "      <td>11.0</td>\n",
       "      <td>1.0</td>\n",
       "      <td>1.0</td>\n",
       "    </tr>\n",
       "    <tr>\n",
       "      <th>35092</th>\n",
       "      <td>NaN</td>\n",
       "      <td>8.0</td>\n",
       "      <td>0.0</td>\n",
       "    </tr>\n",
       "    <tr>\n",
       "      <th>37395</th>\n",
       "      <td>49.0</td>\n",
       "      <td>4.0</td>\n",
       "      <td>9.0</td>\n",
       "    </tr>\n",
       "    <tr>\n",
       "      <th>39717</th>\n",
       "      <td>52.0</td>\n",
       "      <td>5.0</td>\n",
       "      <td>2.0</td>\n",
       "    </tr>\n",
       "    <tr>\n",
       "      <th>36312</th>\n",
       "      <td>54.0</td>\n",
       "      <td>5.0</td>\n",
       "      <td>4.0</td>\n",
       "    </tr>\n",
       "    <tr>\n",
       "      <th>39760</th>\n",
       "      <td>10.0</td>\n",
       "      <td>1.0</td>\n",
       "      <td>0.0</td>\n",
       "    </tr>\n",
       "    <tr>\n",
       "      <th>35662</th>\n",
       "      <td>50.0</td>\n",
       "      <td>5.0</td>\n",
       "      <td>0.0</td>\n",
       "    </tr>\n",
       "    <tr>\n",
       "      <th>41299</th>\n",
       "      <td>8.0</td>\n",
       "      <td>0.0</td>\n",
       "      <td>8.0</td>\n",
       "    </tr>\n",
       "  </tbody>\n",
       "</table>\n",
       "</div>"
      ],
      "text/plain": [
       "       minute  minute_1  minute_2\n",
       "38571     9.0       0.0       9.0\n",
       "39831    34.0       3.0       4.0\n",
       "35790    11.0       1.0       1.0\n",
       "35092     NaN       8.0       0.0\n",
       "37395    49.0       4.0       9.0\n",
       "39717    52.0       5.0       2.0\n",
       "36312    54.0       5.0       4.0\n",
       "39760    10.0       1.0       0.0\n",
       "35662    50.0       5.0       0.0\n",
       "41299     8.0       0.0       8.0"
      ]
     },
     "execution_count": 47,
     "metadata": {},
     "output_type": "execute_result"
    }
   ],
   "source": [
    "df_num_mincheck = df_num[~pd.isna(df_num['minute_1'])]\n",
    "df_num_mincheck = df_num_mincheck[~pd.isna(df_num_mincheck['minute_2'])]\n",
    "df_num_mincheck['minute'] = df_num_mincheck['minute_1'].astype(int).astype(str) + df_num_mincheck['minute_2'].astype(int).astype(str)\n",
    "df_num_mincheck['minute'] = df_num_mincheck['minute'].astype(int)\n",
    "df_num_mincheck['minute'] = df_num_mincheck['minute'].apply(lambda x: np.nan if x>59 else x)\n",
    "df_num_nullmin = df_num.loc[pd.isna(df_num['minute_1']) | pd.isna(df_num['minute_2'])]\n",
    "df_num_nullmin = df_num_nullmin.copy(deep=True)\n",
    "df_num_nullmin['minute'] = np.nan\n",
    "df_num = pd.concat([df_num_mincheck, df_num_nullmin])\n",
    "print(len(df_num))\n",
    "df_num[['minute', 'minute_1', 'minute_2']].sample(10)"
   ]
  },
  {
   "cell_type": "markdown",
   "id": "6bd6cc07",
   "metadata": {},
   "source": [
    "second:"
   ]
  },
  {
   "cell_type": "code",
   "execution_count": 48,
   "id": "a0a0b9f1",
   "metadata": {},
   "outputs": [
    {
     "data": {
      "text/plain": [
       "<Axes: xlabel='second_1', ylabel='Count'>"
      ]
     },
     "execution_count": 48,
     "metadata": {},
     "output_type": "execute_result"
    },
    {
     "data": {
      "image/png": "[encoded data removed]",
      "text/plain": [
       "<Figure size 640x480 with 1 Axes>"
      ]
     },
     "metadata": {},
     "output_type": "display_data"
    }
   ],
   "source": [
    "df_num['second_1'] = df_num['second_1'].astype(int)\n",
    "sns.histplot(data=df_num, x='second_1')"
   ]
  },
  {
   "cell_type": "code",
   "execution_count": 49,
   "id": "1d1b569f",
   "metadata": {},
   "outputs": [],
   "source": [
    "df_num['second_1'] = df_num['second_1'].apply(lambda x: np.nan if x>9 else x)"
   ]
  },
  {
   "cell_type": "code",
   "execution_count": 50,
   "id": "b8cc5232",
   "metadata": {},
   "outputs": [
    {
     "data": {
      "text/plain": [
       "<Axes: xlabel='second_2', ylabel='Count'>"
      ]
     },
     "execution_count": 50,
     "metadata": {},
     "output_type": "execute_result"
    },
    {
     "data": {
      "image/png": "[encoded data removed]",
      "text/plain": [
       "<Figure size 640x480 with 1 Axes>"
      ]
     },
     "metadata": {},
     "output_type": "display_data"
    }
   ],
   "source": [
    "df_num['second_2'] = df_num['second_2'].astype(int)\n",
    "sns.histplot(data=df_num, x='second_2')"
   ]
  },
  {
   "cell_type": "code",
   "execution_count": 51,
   "id": "bbb3ae19",
   "metadata": {},
   "outputs": [],
   "source": [
    "df_num['second_2'] = df_num['second_2'].apply(lambda x: np.nan if x>9 else x)"
   ]
  },
  {
   "cell_type": "code",
   "execution_count": 52,
   "id": "0eafd27a",
   "metadata": {},
   "outputs": [
    {
     "name": "stdout",
     "output_type": "stream",
     "text": [
      "10831\n"
     ]
    },
    {
     "data": {
      "text/html": [
       "<div>\n",
       "<style scoped>\n",
       "    .dataframe tbody tr th:only-of-type {\n",
       "        vertical-align: middle;\n",
       "    }\n",
       "\n",
       "    .dataframe tbody tr th {\n",
       "        vertical-align: top;\n",
       "    }\n",
       "\n",
       "    .dataframe thead th {\n",
       "        text-align: right;\n",
       "    }\n",
       "</style>\n",
       "<table border=\"1\" class=\"dataframe\">\n",
       "  <thead>\n",
       "    <tr style=\"text-align: right;\">\n",
       "      <th></th>\n",
       "      <th>second</th>\n",
       "      <th>second_1</th>\n",
       "      <th>second_2</th>\n",
       "    </tr>\n",
       "  </thead>\n",
       "  <tbody>\n",
       "    <tr>\n",
       "      <th>40698</th>\n",
       "      <td>30.0</td>\n",
       "      <td>3.0</td>\n",
       "      <td>0.0</td>\n",
       "    </tr>\n",
       "    <tr>\n",
       "      <th>34222</th>\n",
       "      <td>30.0</td>\n",
       "      <td>3.0</td>\n",
       "      <td>0.0</td>\n",
       "    </tr>\n",
       "    <tr>\n",
       "      <th>38962</th>\n",
       "      <td>24.0</td>\n",
       "      <td>2.0</td>\n",
       "      <td>4.0</td>\n",
       "    </tr>\n",
       "    <tr>\n",
       "      <th>41754</th>\n",
       "      <td>17.0</td>\n",
       "      <td>1.0</td>\n",
       "      <td>7.0</td>\n",
       "    </tr>\n",
       "    <tr>\n",
       "      <th>39452</th>\n",
       "      <td>13.0</td>\n",
       "      <td>1.0</td>\n",
       "      <td>3.0</td>\n",
       "    </tr>\n",
       "    <tr>\n",
       "      <th>39583</th>\n",
       "      <td>59.0</td>\n",
       "      <td>5.0</td>\n",
       "      <td>9.0</td>\n",
       "    </tr>\n",
       "    <tr>\n",
       "      <th>33689</th>\n",
       "      <td>38.0</td>\n",
       "      <td>3.0</td>\n",
       "      <td>8.0</td>\n",
       "    </tr>\n",
       "    <tr>\n",
       "      <th>36613</th>\n",
       "      <td>NaN</td>\n",
       "      <td>7.0</td>\n",
       "      <td>0.0</td>\n",
       "    </tr>\n",
       "    <tr>\n",
       "      <th>34434</th>\n",
       "      <td>NaN</td>\n",
       "      <td>8.0</td>\n",
       "      <td>0.0</td>\n",
       "    </tr>\n",
       "    <tr>\n",
       "      <th>31621</th>\n",
       "      <td>NaN</td>\n",
       "      <td>7.0</td>\n",
       "      <td>4.0</td>\n",
       "    </tr>\n",
       "  </tbody>\n",
       "</table>\n",
       "</div>"
      ],
      "text/plain": [
       "       second  second_1  second_2\n",
       "40698    30.0       3.0       0.0\n",
       "34222    30.0       3.0       0.0\n",
       "38962    24.0       2.0       4.0\n",
       "41754    17.0       1.0       7.0\n",
       "39452    13.0       1.0       3.0\n",
       "39583    59.0       5.0       9.0\n",
       "33689    38.0       3.0       8.0\n",
       "36613     NaN       7.0       0.0\n",
       "34434     NaN       8.0       0.0\n",
       "31621     NaN       7.0       4.0"
      ]
     },
     "execution_count": 52,
     "metadata": {},
     "output_type": "execute_result"
    }
   ],
   "source": [
    "df_num_seccheck = df_num[~pd.isna(df_num['second_1'])]\n",
    "df_num_seccheck = df_num_seccheck[~pd.isna(df_num_seccheck['second_2'])]\n",
    "df_num_seccheck['second'] = df_num_seccheck['second_1'].astype(int).astype(str) + df_num_seccheck['second_2'].astype(int).astype(str)\n",
    "df_num_seccheck['second'] = df_num_seccheck['second'].astype(int)\n",
    "df_num_seccheck['second'] = df_num_seccheck['second'].apply(lambda x: np.nan if x>59 else x)\n",
    "df_num_nullsec = df_num.loc[pd.isna(df_num['second_1']) | pd.isna(df_num['second_2'])]\n",
    "df_num_nullsec = df_num_nullsec.copy(deep=True)\n",
    "df_num_nullsec['second'] = np.nan\n",
    "df_num = pd.concat([df_num_seccheck, df_num_nullsec])\n",
    "print(len(df_num))\n",
    "df_num[['second', 'second_1', 'second_2']].sample(10)"
   ]
  },
  {
   "cell_type": "markdown",
   "id": "c958e5ca",
   "metadata": {},
   "source": [
    "construct timestamp:"
   ]
  },
  {
   "cell_type": "code",
   "execution_count": 53,
   "id": "6c203a20",
   "metadata": {},
   "outputs": [
    {
     "name": "stdout",
     "output_type": "stream",
     "text": [
      "10831\n"
     ]
    }
   ],
   "source": [
    "df_num = construct_timestamp(df_in=df_num)\n",
    "print(len(df_num))"
   ]
  },
  {
   "cell_type": "code",
   "execution_count": 54,
   "id": "00dde2d2",
   "metadata": {},
   "outputs": [
    {
     "data": {
      "text/html": [
       "<div>\n",
       "<style scoped>\n",
       "    .dataframe tbody tr th:only-of-type {\n",
       "        vertical-align: middle;\n",
       "    }\n",
       "\n",
       "    .dataframe tbody tr th {\n",
       "        vertical-align: top;\n",
       "    }\n",
       "\n",
       "    .dataframe thead th {\n",
       "        text-align: right;\n",
       "    }\n",
       "</style>\n",
       "<table border=\"1\" class=\"dataframe\">\n",
       "  <thead>\n",
       "    <tr style=\"text-align: right;\">\n",
       "      <th></th>\n",
       "      <th>year</th>\n",
       "      <th>month</th>\n",
       "      <th>day</th>\n",
       "      <th>hour</th>\n",
       "      <th>minute</th>\n",
       "      <th>second</th>\n",
       "      <th>Timestamp</th>\n",
       "      <th>time_quality</th>\n",
       "    </tr>\n",
       "  </thead>\n",
       "  <tbody>\n",
       "    <tr>\n",
       "      <th>40087</th>\n",
       "      <td>1966.0</td>\n",
       "      <td>02</td>\n",
       "      <td>21</td>\n",
       "      <td>3.0</td>\n",
       "      <td>21.0</td>\n",
       "      <td>41.0</td>\n",
       "      <td>1966-02-21 03:21:41</td>\n",
       "      <td>1</td>\n",
       "    </tr>\n",
       "    <tr>\n",
       "      <th>41839</th>\n",
       "      <td>1965.0</td>\n",
       "      <td>10</td>\n",
       "      <td>16</td>\n",
       "      <td>4.0</td>\n",
       "      <td>33.0</td>\n",
       "      <td>25.0</td>\n",
       "      <td>1965-10-16 04:33:25</td>\n",
       "      <td>1</td>\n",
       "    </tr>\n",
       "    <tr>\n",
       "      <th>35273</th>\n",
       "      <td>1966.0</td>\n",
       "      <td>09</td>\n",
       "      <td>11</td>\n",
       "      <td>6.0</td>\n",
       "      <td>25.0</td>\n",
       "      <td>21.0</td>\n",
       "      <td>1966-09-11 06:25:21</td>\n",
       "      <td>1</td>\n",
       "    </tr>\n",
       "    <tr>\n",
       "      <th>32865</th>\n",
       "      <td>1966.0</td>\n",
       "      <td>09</td>\n",
       "      <td>13</td>\n",
       "      <td>11.0</td>\n",
       "      <td>NaN</td>\n",
       "      <td>NaN</td>\n",
       "      <td>1966-09-13 11:00:00</td>\n",
       "      <td>3</td>\n",
       "    </tr>\n",
       "    <tr>\n",
       "      <th>32345</th>\n",
       "      <td>1966.0</td>\n",
       "      <td>06</td>\n",
       "      <td>16</td>\n",
       "      <td>11.0</td>\n",
       "      <td>29.0</td>\n",
       "      <td>20.0</td>\n",
       "      <td>1966-06-16 11:29:20</td>\n",
       "      <td>1</td>\n",
       "    </tr>\n",
       "    <tr>\n",
       "      <th>34172</th>\n",
       "      <td>1962.0</td>\n",
       "      <td>NaN</td>\n",
       "      <td>NaN</td>\n",
       "      <td>NaN</td>\n",
       "      <td>NaN</td>\n",
       "      <td>30.0</td>\n",
       "      <td>NaT</td>\n",
       "      <td>0</td>\n",
       "    </tr>\n",
       "    <tr>\n",
       "      <th>41716</th>\n",
       "      <td>1965.0</td>\n",
       "      <td>10</td>\n",
       "      <td>15</td>\n",
       "      <td>19.0</td>\n",
       "      <td>31.0</td>\n",
       "      <td>50.0</td>\n",
       "      <td>1965-10-15 19:31:50</td>\n",
       "      <td>1</td>\n",
       "    </tr>\n",
       "    <tr>\n",
       "      <th>43027</th>\n",
       "      <td>1965.0</td>\n",
       "      <td>10</td>\n",
       "      <td>31</td>\n",
       "      <td>3.0</td>\n",
       "      <td>42.0</td>\n",
       "      <td>19.0</td>\n",
       "      <td>1965-10-31 03:42:19</td>\n",
       "      <td>1</td>\n",
       "    </tr>\n",
       "    <tr>\n",
       "      <th>40883</th>\n",
       "      <td>1966.0</td>\n",
       "      <td>03</td>\n",
       "      <td>25</td>\n",
       "      <td>21.0</td>\n",
       "      <td>14.0</td>\n",
       "      <td>57.0</td>\n",
       "      <td>1966-03-25 21:14:57</td>\n",
       "      <td>1</td>\n",
       "    </tr>\n",
       "    <tr>\n",
       "      <th>38127</th>\n",
       "      <td>1965.0</td>\n",
       "      <td>10</td>\n",
       "      <td>21</td>\n",
       "      <td>23.0</td>\n",
       "      <td>57.0</td>\n",
       "      <td>0.0</td>\n",
       "      <td>1965-10-21 23:57:00</td>\n",
       "      <td>1</td>\n",
       "    </tr>\n",
       "  </tbody>\n",
       "</table>\n",
       "</div>"
      ],
      "text/plain": [
       "         year month  day  hour  minute  second           Timestamp  \\\n",
       "40087  1966.0    02   21   3.0    21.0    41.0 1966-02-21 03:21:41   \n",
       "41839  1965.0    10   16   4.0    33.0    25.0 1965-10-16 04:33:25   \n",
       "35273  1966.0    09   11   6.0    25.0    21.0 1966-09-11 06:25:21   \n",
       "32865  1966.0    09   13  11.0     NaN     NaN 1966-09-13 11:00:00   \n",
       "32345  1966.0    06   16  11.0    29.0    20.0 1966-06-16 11:29:20   \n",
       "34172  1962.0   NaN  NaN   NaN     NaN    30.0                 NaT   \n",
       "41716  1965.0    10   15  19.0    31.0    50.0 1965-10-15 19:31:50   \n",
       "43027  1965.0    10   31   3.0    42.0    19.0 1965-10-31 03:42:19   \n",
       "40883  1966.0    03   25  21.0    14.0    57.0 1966-03-25 21:14:57   \n",
       "38127  1965.0    10   21  23.0    57.0     0.0 1965-10-21 23:57:00   \n",
       "\n",
       "       time_quality  \n",
       "40087             1  \n",
       "41839             1  \n",
       "35273             1  \n",
       "32865             3  \n",
       "32345             1  \n",
       "34172             0  \n",
       "41716             1  \n",
       "43027             1  \n",
       "40883             1  \n",
       "38127             1  "
      ]
     },
     "execution_count": 54,
     "metadata": {},
     "output_type": "execute_result"
    }
   ],
   "source": [
    "df_num[['year', 'month', 'day', 'hour', 'minute', 'second', 'Timestamp', 'time_quality']].sample(10)"
   ]
  },
  {
   "cell_type": "markdown",
   "id": "ca6e345a",
   "metadata": {},
   "source": [
    "#  "
   ]
  },
  {
   "cell_type": "markdown",
   "id": "e6f6e411",
   "metadata": {},
   "source": [
    "#### dot - check timestamp components, construct timestamp:"
   ]
  },
  {
   "cell_type": "code",
   "execution_count": 55,
   "id": "c46e1d3a",
   "metadata": {},
   "outputs": [
    {
     "data": {
      "text/html": [
       "<div>\n",
       "<style scoped>\n",
       "    .dataframe tbody tr th:only-of-type {\n",
       "        vertical-align: middle;\n",
       "    }\n",
       "\n",
       "    .dataframe tbody tr th {\n",
       "        vertical-align: top;\n",
       "    }\n",
       "\n",
       "    .dataframe thead th {\n",
       "        text-align: right;\n",
       "    }\n",
       "</style>\n",
       "<table border=\"1\" class=\"dataframe\">\n",
       "  <thead>\n",
       "    <tr style=\"text-align: right;\">\n",
       "      <th></th>\n",
       "      <th>year_1</th>\n",
       "      <th>day_1</th>\n",
       "      <th>day_2</th>\n",
       "      <th>day_3</th>\n",
       "      <th>hour_1</th>\n",
       "      <th>hour_2</th>\n",
       "      <th>minute_1</th>\n",
       "      <th>minute_2</th>\n",
       "      <th>second_1</th>\n",
       "      <th>second_2</th>\n",
       "      <th>is_dot</th>\n",
       "    </tr>\n",
       "  </thead>\n",
       "  <tbody>\n",
       "    <tr>\n",
       "      <th>38261</th>\n",
       "      <td>NaN</td>\n",
       "      <td>1.0</td>\n",
       "      <td>8.0</td>\n",
       "      <td>8.0</td>\n",
       "      <td>0.0</td>\n",
       "      <td>8.0</td>\n",
       "      <td>9.0</td>\n",
       "      <td>8.0</td>\n",
       "      <td>9.0</td>\n",
       "      <td>8.0</td>\n",
       "      <td>NaN</td>\n",
       "    </tr>\n",
       "    <tr>\n",
       "      <th>36856</th>\n",
       "      <td>NaN</td>\n",
       "      <td>1.0</td>\n",
       "      <td>8.0</td>\n",
       "      <td>0.0</td>\n",
       "      <td>1.0</td>\n",
       "      <td>8.0</td>\n",
       "      <td>8.0</td>\n",
       "      <td>0.0</td>\n",
       "      <td>9.0</td>\n",
       "      <td>0.0</td>\n",
       "      <td>NaN</td>\n",
       "    </tr>\n",
       "    <tr>\n",
       "      <th>36933</th>\n",
       "      <td>NaN</td>\n",
       "      <td>1.0</td>\n",
       "      <td>8.0</td>\n",
       "      <td>8.0</td>\n",
       "      <td>16.0</td>\n",
       "      <td>0.0</td>\n",
       "      <td>8.0</td>\n",
       "      <td>16.0</td>\n",
       "      <td>9.0</td>\n",
       "      <td>8.0</td>\n",
       "      <td>NaN</td>\n",
       "    </tr>\n",
       "    <tr>\n",
       "      <th>38327</th>\n",
       "      <td>NaN</td>\n",
       "      <td>2.0</td>\n",
       "      <td>8.0</td>\n",
       "      <td>0.0</td>\n",
       "      <td>10.0</td>\n",
       "      <td>8.0</td>\n",
       "      <td>16.0</td>\n",
       "      <td>2.0</td>\n",
       "      <td>16.0</td>\n",
       "      <td>0.0</td>\n",
       "      <td>NaN</td>\n",
       "    </tr>\n",
       "    <tr>\n",
       "      <th>37690</th>\n",
       "      <td>NaN</td>\n",
       "      <td>1.0</td>\n",
       "      <td>8.0</td>\n",
       "      <td>8.0</td>\n",
       "      <td>8.0</td>\n",
       "      <td>9.0</td>\n",
       "      <td>1.0</td>\n",
       "      <td>0.0</td>\n",
       "      <td>9.0</td>\n",
       "      <td>1.0</td>\n",
       "      <td>NaN</td>\n",
       "    </tr>\n",
       "    <tr>\n",
       "      <th>37735</th>\n",
       "      <td>NaN</td>\n",
       "      <td>1.0</td>\n",
       "      <td>4.0</td>\n",
       "      <td>4.0</td>\n",
       "      <td>4.0</td>\n",
       "      <td>9.0</td>\n",
       "      <td>4.0</td>\n",
       "      <td>0.0</td>\n",
       "      <td>13.0</td>\n",
       "      <td>0.0</td>\n",
       "      <td>NaN</td>\n",
       "    </tr>\n",
       "    <tr>\n",
       "      <th>36946</th>\n",
       "      <td>NaN</td>\n",
       "      <td>1.0</td>\n",
       "      <td>16.0</td>\n",
       "      <td>8.0</td>\n",
       "      <td>8.0</td>\n",
       "      <td>8.0</td>\n",
       "      <td>0.0</td>\n",
       "      <td>16.0</td>\n",
       "      <td>24.0</td>\n",
       "      <td>0.0</td>\n",
       "      <td>NaN</td>\n",
       "    </tr>\n",
       "    <tr>\n",
       "      <th>37719</th>\n",
       "      <td>NaN</td>\n",
       "      <td>1.0</td>\n",
       "      <td>8.0</td>\n",
       "      <td>8.0</td>\n",
       "      <td>8.0</td>\n",
       "      <td>9.0</td>\n",
       "      <td>0.0</td>\n",
       "      <td>8.0</td>\n",
       "      <td>9.0</td>\n",
       "      <td>1.0</td>\n",
       "      <td>NaN</td>\n",
       "    </tr>\n",
       "    <tr>\n",
       "      <th>33145</th>\n",
       "      <td>NaN</td>\n",
       "      <td>8.0</td>\n",
       "      <td>0.0</td>\n",
       "      <td>0.0</td>\n",
       "      <td>9.0</td>\n",
       "      <td>0.0</td>\n",
       "      <td>0.0</td>\n",
       "      <td>8.0</td>\n",
       "      <td>1.0</td>\n",
       "      <td>1.0</td>\n",
       "      <td>NaN</td>\n",
       "    </tr>\n",
       "    <tr>\n",
       "      <th>38212</th>\n",
       "      <td>NaN</td>\n",
       "      <td>1.0</td>\n",
       "      <td>8.0</td>\n",
       "      <td>0.0</td>\n",
       "      <td>9.0</td>\n",
       "      <td>8.0</td>\n",
       "      <td>8.0</td>\n",
       "      <td>0.0</td>\n",
       "      <td>8.0</td>\n",
       "      <td>1.0</td>\n",
       "      <td>NaN</td>\n",
       "    </tr>\n",
       "  </tbody>\n",
       "</table>\n",
       "</div>"
      ],
      "text/plain": [
       "       year_1  day_1  day_2  day_3  hour_1  hour_2  minute_1  minute_2  \\\n",
       "38261     NaN    1.0    8.0    8.0     0.0     8.0       9.0       8.0   \n",
       "36856     NaN    1.0    8.0    0.0     1.0     8.0       8.0       0.0   \n",
       "36933     NaN    1.0    8.0    8.0    16.0     0.0       8.0      16.0   \n",
       "38327     NaN    2.0    8.0    0.0    10.0     8.0      16.0       2.0   \n",
       "37690     NaN    1.0    8.0    8.0     8.0     9.0       1.0       0.0   \n",
       "37735     NaN    1.0    4.0    4.0     4.0     9.0       4.0       0.0   \n",
       "36946     NaN    1.0   16.0    8.0     8.0     8.0       0.0      16.0   \n",
       "37719     NaN    1.0    8.0    8.0     8.0     9.0       0.0       8.0   \n",
       "33145     NaN    8.0    0.0    0.0     9.0     0.0       0.0       8.0   \n",
       "38212     NaN    1.0    8.0    0.0     9.0     8.0       8.0       0.0   \n",
       "\n",
       "       second_1  second_2 is_dot  \n",
       "38261       9.0       8.0    NaN  \n",
       "36856       9.0       0.0    NaN  \n",
       "36933       9.0       8.0    NaN  \n",
       "38327      16.0       0.0    NaN  \n",
       "37690       9.0       1.0    NaN  \n",
       "37735      13.0       0.0    NaN  \n",
       "36946      24.0       0.0    NaN  \n",
       "37719       9.0       1.0    NaN  \n",
       "33145       1.0       1.0    NaN  \n",
       "38212       8.0       1.0    NaN  "
      ]
     },
     "execution_count": 55,
     "metadata": {},
     "output_type": "execute_result"
    }
   ],
   "source": [
    "df_dot = df_dot.copy(deep=True)\n",
    "df_dot[['year_1', 'day_1', 'day_2', 'day_3', 'hour_1', 'hour_2', 'minute_1', 'minute_2', 'second_1', 'second_2', 'is_dot']].sample(10)"
   ]
  },
  {
   "cell_type": "markdown",
   "id": "f2752122",
   "metadata": {},
   "source": [
    "day:"
   ]
  },
  {
   "cell_type": "code",
   "execution_count": 56,
   "id": "6f77f935",
   "metadata": {},
   "outputs": [
    {
     "data": {
      "text/plain": [
       "<Axes: xlabel='day_1', ylabel='Count'>"
      ]
     },
     "execution_count": 56,
     "metadata": {},
     "output_type": "execute_result"
    },
    {
     "data": {
      "image/png": "[encoded data removed]",
      "text/plain": [
       "<Figure size 640x480 with 1 Axes>"
      ]
     },
     "metadata": {},
     "output_type": "display_data"
    }
   ],
   "source": [
    "df_dot['day_1'] = df_dot['day_1'].astype(int)\n",
    "sns.histplot(data=df_dot, x='day_1')"
   ]
  },
  {
   "cell_type": "code",
   "execution_count": 57,
   "id": "a9b647f4",
   "metadata": {},
   "outputs": [],
   "source": [
    "df_dot['day_1'] = df_dot['day_1'].apply(lambda x: np.nan if x>9 else x)"
   ]
  },
  {
   "cell_type": "code",
   "execution_count": 58,
   "id": "90dc5a4f",
   "metadata": {},
   "outputs": [
    {
     "data": {
      "text/plain": [
       "<Axes: xlabel='day_2', ylabel='Count'>"
      ]
     },
     "execution_count": 58,
     "metadata": {},
     "output_type": "execute_result"
    },
    {
     "data": {
      "image/png": "[encoded data removed]",
      "text/plain": [
       "<Figure size 640x480 with 1 Axes>"
      ]
     },
     "metadata": {},
     "output_type": "display_data"
    }
   ],
   "source": [
    "df_dot['day_2'] = df_dot['day_2'].astype(int)\n",
    "sns.histplot(data=df_dot, x='day_2')"
   ]
  },
  {
   "cell_type": "code",
   "execution_count": 59,
   "id": "207dcc83",
   "metadata": {},
   "outputs": [],
   "source": [
    "df_dot['day_2'] = df_dot['day_2'].apply(lambda x: np.nan if x>9 else x)"
   ]
  },
  {
   "cell_type": "code",
   "execution_count": 60,
   "id": "1e1a1f93",
   "metadata": {},
   "outputs": [
    {
     "data": {
      "text/plain": [
       "<Axes: xlabel='day_3', ylabel='Count'>"
      ]
     },
     "execution_count": 60,
     "metadata": {},
     "output_type": "execute_result"
    },
    {
     "data": {
      "image/png": "[encoded data removed]",
      "text/plain": [
       "<Figure size 640x480 with 1 Axes>"
      ]
     },
     "metadata": {},
     "output_type": "display_data"
    }
   ],
   "source": [
    "df_dot['day_3'] = df_dot['day_3'].astype(int)\n",
    "sns.histplot(data=df_dot, x='day_3')"
   ]
  },
  {
   "cell_type": "code",
   "execution_count": 61,
   "id": "feb1b2cf",
   "metadata": {},
   "outputs": [],
   "source": [
    "df_dot['day_3'] = df_dot['day_3'].apply(lambda x: np.nan if x>9 else x)"
   ]
  },
  {
   "cell_type": "code",
   "execution_count": 62,
   "id": "14ba9eb5",
   "metadata": {},
   "outputs": [
    {
     "name": "stdout",
     "output_type": "stream",
     "text": [
      "997\n"
     ]
    },
    {
     "data": {
      "text/html": [
       "<div>\n",
       "<style scoped>\n",
       "    .dataframe tbody tr th:only-of-type {\n",
       "        vertical-align: middle;\n",
       "    }\n",
       "\n",
       "    .dataframe tbody tr th {\n",
       "        vertical-align: top;\n",
       "    }\n",
       "\n",
       "    .dataframe thead th {\n",
       "        text-align: right;\n",
       "    }\n",
       "</style>\n",
       "<table border=\"1\" class=\"dataframe\">\n",
       "  <thead>\n",
       "    <tr style=\"text-align: right;\">\n",
       "      <th></th>\n",
       "      <th>day_of_year</th>\n",
       "      <th>day_1</th>\n",
       "      <th>day_2</th>\n",
       "      <th>day_3</th>\n",
       "    </tr>\n",
       "  </thead>\n",
       "  <tbody>\n",
       "    <tr>\n",
       "      <th>37699</th>\n",
       "      <td>180.0</td>\n",
       "      <td>1.0</td>\n",
       "      <td>8.0</td>\n",
       "      <td>0.0</td>\n",
       "    </tr>\n",
       "    <tr>\n",
       "      <th>37662</th>\n",
       "      <td>180.0</td>\n",
       "      <td>1.0</td>\n",
       "      <td>8.0</td>\n",
       "      <td>0.0</td>\n",
       "    </tr>\n",
       "    <tr>\n",
       "      <th>38352</th>\n",
       "      <td>180.0</td>\n",
       "      <td>1.0</td>\n",
       "      <td>8.0</td>\n",
       "      <td>0.0</td>\n",
       "    </tr>\n",
       "    <tr>\n",
       "      <th>33196</th>\n",
       "      <td>NaN</td>\n",
       "      <td>8.0</td>\n",
       "      <td>0.0</td>\n",
       "      <td>0.0</td>\n",
       "    </tr>\n",
       "    <tr>\n",
       "      <th>36767</th>\n",
       "      <td>140.0</td>\n",
       "      <td>1.0</td>\n",
       "      <td>4.0</td>\n",
       "      <td>0.0</td>\n",
       "    </tr>\n",
       "    <tr>\n",
       "      <th>33249</th>\n",
       "      <td>NaN</td>\n",
       "      <td>2.0</td>\n",
       "      <td>8.0</td>\n",
       "      <td>NaN</td>\n",
       "    </tr>\n",
       "    <tr>\n",
       "      <th>38229</th>\n",
       "      <td>280.0</td>\n",
       "      <td>2.0</td>\n",
       "      <td>8.0</td>\n",
       "      <td>0.0</td>\n",
       "    </tr>\n",
       "    <tr>\n",
       "      <th>38333</th>\n",
       "      <td>180.0</td>\n",
       "      <td>1.0</td>\n",
       "      <td>8.0</td>\n",
       "      <td>0.0</td>\n",
       "    </tr>\n",
       "    <tr>\n",
       "      <th>36783</th>\n",
       "      <td>148.0</td>\n",
       "      <td>1.0</td>\n",
       "      <td>4.0</td>\n",
       "      <td>8.0</td>\n",
       "    </tr>\n",
       "    <tr>\n",
       "      <th>33137</th>\n",
       "      <td>280.0</td>\n",
       "      <td>2.0</td>\n",
       "      <td>8.0</td>\n",
       "      <td>0.0</td>\n",
       "    </tr>\n",
       "  </tbody>\n",
       "</table>\n",
       "</div>"
      ],
      "text/plain": [
       "       day_of_year  day_1  day_2  day_3\n",
       "37699        180.0    1.0    8.0    0.0\n",
       "37662        180.0    1.0    8.0    0.0\n",
       "38352        180.0    1.0    8.0    0.0\n",
       "33196          NaN    8.0    0.0    0.0\n",
       "36767        140.0    1.0    4.0    0.0\n",
       "33249          NaN    2.0    8.0    NaN\n",
       "38229        280.0    2.0    8.0    0.0\n",
       "38333        180.0    1.0    8.0    0.0\n",
       "36783        148.0    1.0    4.0    8.0\n",
       "33137        280.0    2.0    8.0    0.0"
      ]
     },
     "execution_count": 62,
     "metadata": {},
     "output_type": "execute_result"
    }
   ],
   "source": [
    "df_dot_daycheck = df_dot[~pd.isna(df_dot['day_1'])]\n",
    "df_dot_daycheck = df_dot_daycheck[~pd.isna(df_dot_daycheck['day_2'])]\n",
    "df_dot_daycheck = df_dot_daycheck[~pd.isna(df_dot_daycheck['day_3'])]\n",
    "df_dot_daycheck['day_of_year'] = df_dot_daycheck['day_1'].astype(int).astype(str) + df_dot_daycheck['day_2'].astype(int).astype(str) + df_dot_daycheck['day_3'].astype(int).astype(str)\n",
    "df_dot_daycheck['day_of_year'] = df_dot_daycheck['day_of_year'].astype(int)\n",
    "df_dot_daycheck['day_of_year'] = df_dot_daycheck['day_of_year'].apply(lambda x: np.nan if x>366 else x)\n",
    "df_dot_daycheck['day_of_year'] = df_dot_daycheck['day_of_year'].apply(lambda x: np.nan if x==0 else x)\n",
    "df_dot_nullday = df_dot.loc[pd.isna(df_dot['day_1']) | pd.isna(df_dot['day_2']) | pd.isna(df_dot['day_3'])]\n",
    "df_dot_nullday = df_dot_nullday.copy(deep=True)\n",
    "df_dot_nullday['day_of_year'] = np.nan\n",
    "df_dot = pd.concat([df_dot_daycheck, df_dot_nullday])\n",
    "print(len(df_dot))\n",
    "df_dot[['day_of_year', 'day_1', 'day_2', 'day_3']].sample(10)"
   ]
  },
  {
   "cell_type": "markdown",
   "id": "4a362cd7",
   "metadata": {},
   "source": [
    "year - infer from day:"
   ]
  },
  {
   "cell_type": "code",
   "execution_count": 63,
   "id": "03746f1c",
   "metadata": {},
   "outputs": [
    {
     "name": "stderr",
     "output_type": "stream",
     "text": [
      "C:\\Users\\rnaidoo\\AppData\\Local\\Temp\\ipykernel_14844\\2722169012.py:6: SettingWithCopyWarning: \n",
      "A value is trying to be set on a copy of a slice from a DataFrame\n",
      "\n",
      "See the caveats in the documentation: https://pandas.pydata.org/pandas-docs/stable/user_guide/indexing.html#returning-a-view-versus-a-copy\n",
      "  df_dot['year'].iloc[i] = 1962\n",
      "C:\\Users\\rnaidoo\\AppData\\Local\\Temp\\ipykernel_14844\\2722169012.py:8: SettingWithCopyWarning: \n",
      "A value is trying to be set on a copy of a slice from a DataFrame\n",
      "\n",
      "See the caveats in the documentation: https://pandas.pydata.org/pandas-docs/stable/user_guide/indexing.html#returning-a-view-versus-a-copy\n",
      "  df_dot['year'].iloc[i] = 1963\n"
     ]
    },
    {
     "data": {
      "text/html": [
       "<div>\n",
       "<style scoped>\n",
       "    .dataframe tbody tr th:only-of-type {\n",
       "        vertical-align: middle;\n",
       "    }\n",
       "\n",
       "    .dataframe tbody tr th {\n",
       "        vertical-align: top;\n",
       "    }\n",
       "\n",
       "    .dataframe thead th {\n",
       "        text-align: right;\n",
       "    }\n",
       "</style>\n",
       "<table border=\"1\" class=\"dataframe\">\n",
       "  <thead>\n",
       "    <tr style=\"text-align: right;\">\n",
       "      <th></th>\n",
       "      <th>year</th>\n",
       "      <th>day_of_year</th>\n",
       "      <th>day_1</th>\n",
       "      <th>day_2</th>\n",
       "      <th>day_3</th>\n",
       "    </tr>\n",
       "  </thead>\n",
       "  <tbody>\n",
       "    <tr>\n",
       "      <th>36788</th>\n",
       "      <td>1963.0</td>\n",
       "      <td>148.0</td>\n",
       "      <td>1.0</td>\n",
       "      <td>4.0</td>\n",
       "      <td>8.0</td>\n",
       "    </tr>\n",
       "    <tr>\n",
       "      <th>37566</th>\n",
       "      <td>1963.0</td>\n",
       "      <td>180.0</td>\n",
       "      <td>1.0</td>\n",
       "      <td>8.0</td>\n",
       "      <td>0.0</td>\n",
       "    </tr>\n",
       "    <tr>\n",
       "      <th>37524</th>\n",
       "      <td>1963.0</td>\n",
       "      <td>180.0</td>\n",
       "      <td>1.0</td>\n",
       "      <td>8.0</td>\n",
       "      <td>0.0</td>\n",
       "    </tr>\n",
       "    <tr>\n",
       "      <th>37482</th>\n",
       "      <td>1963.0</td>\n",
       "      <td>198.0</td>\n",
       "      <td>1.0</td>\n",
       "      <td>9.0</td>\n",
       "      <td>8.0</td>\n",
       "    </tr>\n",
       "    <tr>\n",
       "      <th>37533</th>\n",
       "      <td>1963.0</td>\n",
       "      <td>180.0</td>\n",
       "      <td>1.0</td>\n",
       "      <td>8.0</td>\n",
       "      <td>0.0</td>\n",
       "    </tr>\n",
       "    <tr>\n",
       "      <th>37727</th>\n",
       "      <td>1963.0</td>\n",
       "      <td>184.0</td>\n",
       "      <td>1.0</td>\n",
       "      <td>8.0</td>\n",
       "      <td>4.0</td>\n",
       "    </tr>\n",
       "    <tr>\n",
       "      <th>33020</th>\n",
       "      <td>1963.0</td>\n",
       "      <td>189.0</td>\n",
       "      <td>1.0</td>\n",
       "      <td>8.0</td>\n",
       "      <td>9.0</td>\n",
       "    </tr>\n",
       "    <tr>\n",
       "      <th>33027</th>\n",
       "      <td>NaN</td>\n",
       "      <td>NaN</td>\n",
       "      <td>2.0</td>\n",
       "      <td>8.0</td>\n",
       "      <td>NaN</td>\n",
       "    </tr>\n",
       "    <tr>\n",
       "      <th>37545</th>\n",
       "      <td>NaN</td>\n",
       "      <td>NaN</td>\n",
       "      <td>8.0</td>\n",
       "      <td>0.0</td>\n",
       "      <td>0.0</td>\n",
       "    </tr>\n",
       "    <tr>\n",
       "      <th>38215</th>\n",
       "      <td>1962.0</td>\n",
       "      <td>280.0</td>\n",
       "      <td>2.0</td>\n",
       "      <td>8.0</td>\n",
       "      <td>0.0</td>\n",
       "    </tr>\n",
       "  </tbody>\n",
       "</table>\n",
       "</div>"
      ],
      "text/plain": [
       "         year  day_of_year  day_1  day_2  day_3\n",
       "36788  1963.0        148.0    1.0    4.0    8.0\n",
       "37566  1963.0        180.0    1.0    8.0    0.0\n",
       "37524  1963.0        180.0    1.0    8.0    0.0\n",
       "37482  1963.0        198.0    1.0    9.0    8.0\n",
       "37533  1963.0        180.0    1.0    8.0    0.0\n",
       "37727  1963.0        184.0    1.0    8.0    4.0\n",
       "33020  1963.0        189.0    1.0    8.0    9.0\n",
       "33027     NaN          NaN    2.0    8.0    NaN\n",
       "37545     NaN          NaN    8.0    0.0    0.0\n",
       "38215  1962.0        280.0    2.0    8.0    0.0"
      ]
     },
     "execution_count": 63,
     "metadata": {},
     "output_type": "execute_result"
    }
   ],
   "source": [
    "df_dot['year'] = np.nan\n",
    "for i in range(0, len(df_dot)):\n",
    "    day = df_dot['day_of_year'].iloc[i]\n",
    "    if (day < 366) & (day > 0):\n",
    "        if day > 271:\n",
    "            df_dot['year'].iloc[i] = 1962\n",
    "        else:\n",
    "            df_dot['year'].iloc[i] = 1963\n",
    "df_dot[['year', 'day_of_year', 'day_1', 'day_2', 'day_3']].sample(10)"
   ]
  },
  {
   "cell_type": "markdown",
   "id": "fc9b01cc",
   "metadata": {},
   "source": [
    "hour:"
   ]
  },
  {
   "cell_type": "code",
   "execution_count": 64,
   "id": "443cf13c",
   "metadata": {},
   "outputs": [
    {
     "data": {
      "text/plain": [
       "<Axes: xlabel='hour_1', ylabel='Count'>"
      ]
     },
     "execution_count": 64,
     "metadata": {},
     "output_type": "execute_result"
    },
    {
     "data": {
      "image/png": "[encoded data removed]",
      "text/plain": [
       "<Figure size 640x480 with 1 Axes>"
      ]
     },
     "metadata": {},
     "output_type": "display_data"
    }
   ],
   "source": [
    "df_dot['hour_1'] = df_dot['hour_1'].astype(int)\n",
    "sns.histplot(data=df_dot, x='hour_1')"
   ]
  },
  {
   "cell_type": "code",
   "execution_count": 65,
   "id": "194d1da6",
   "metadata": {},
   "outputs": [],
   "source": [
    "df_dot['hour_1'] = df_dot['hour_1'].apply(lambda x: np.nan if x>9 else x)"
   ]
  },
  {
   "cell_type": "code",
   "execution_count": 66,
   "id": "f79835d6",
   "metadata": {},
   "outputs": [
    {
     "data": {
      "text/plain": [
       "<Axes: xlabel='hour_2', ylabel='Count'>"
      ]
     },
     "execution_count": 66,
     "metadata": {},
     "output_type": "execute_result"
    },
    {
     "data": {
      "image/png": "[encoded data removed]",
      "text/plain": [
       "<Figure size 640x480 with 1 Axes>"
      ]
     },
     "metadata": {},
     "output_type": "display_data"
    }
   ],
   "source": [
    "df_dot['hour_2'] = df_dot['hour_2'].astype(int)\n",
    "sns.histplot(data=df_dot, x='hour_2')"
   ]
  },
  {
   "cell_type": "code",
   "execution_count": 67,
   "id": "e75eba37",
   "metadata": {},
   "outputs": [],
   "source": [
    "df_dot['hour_2'] = df_dot['hour_2'].apply(lambda x: np.nan if x>9 else x)"
   ]
  },
  {
   "cell_type": "code",
   "execution_count": 68,
   "id": "32899cb8",
   "metadata": {},
   "outputs": [
    {
     "name": "stdout",
     "output_type": "stream",
     "text": [
      "997\n"
     ]
    },
    {
     "data": {
      "text/html": [
       "<div>\n",
       "<style scoped>\n",
       "    .dataframe tbody tr th:only-of-type {\n",
       "        vertical-align: middle;\n",
       "    }\n",
       "\n",
       "    .dataframe tbody tr th {\n",
       "        vertical-align: top;\n",
       "    }\n",
       "\n",
       "    .dataframe thead th {\n",
       "        text-align: right;\n",
       "    }\n",
       "</style>\n",
       "<table border=\"1\" class=\"dataframe\">\n",
       "  <thead>\n",
       "    <tr style=\"text-align: right;\">\n",
       "      <th></th>\n",
       "      <th>hour</th>\n",
       "      <th>hour_1</th>\n",
       "      <th>hour_2</th>\n",
       "    </tr>\n",
       "  </thead>\n",
       "  <tbody>\n",
       "    <tr>\n",
       "      <th>36729</th>\n",
       "      <td>NaN</td>\n",
       "      <td>NaN</td>\n",
       "      <td>0.0</td>\n",
       "    </tr>\n",
       "    <tr>\n",
       "      <th>33104</th>\n",
       "      <td>NaN</td>\n",
       "      <td>9.0</td>\n",
       "      <td>0.0</td>\n",
       "    </tr>\n",
       "    <tr>\n",
       "      <th>37613</th>\n",
       "      <td>NaN</td>\n",
       "      <td>8.0</td>\n",
       "      <td>8.0</td>\n",
       "    </tr>\n",
       "    <tr>\n",
       "      <th>37571</th>\n",
       "      <td>8.0</td>\n",
       "      <td>0.0</td>\n",
       "      <td>8.0</td>\n",
       "    </tr>\n",
       "    <tr>\n",
       "      <th>36764</th>\n",
       "      <td>NaN</td>\n",
       "      <td>NaN</td>\n",
       "      <td>8.0</td>\n",
       "    </tr>\n",
       "    <tr>\n",
       "      <th>36756</th>\n",
       "      <td>NaN</td>\n",
       "      <td>NaN</td>\n",
       "      <td>0.0</td>\n",
       "    </tr>\n",
       "    <tr>\n",
       "      <th>37641</th>\n",
       "      <td>NaN</td>\n",
       "      <td>8.0</td>\n",
       "      <td>NaN</td>\n",
       "    </tr>\n",
       "    <tr>\n",
       "      <th>37742</th>\n",
       "      <td>NaN</td>\n",
       "      <td>NaN</td>\n",
       "      <td>NaN</td>\n",
       "    </tr>\n",
       "    <tr>\n",
       "      <th>37694</th>\n",
       "      <td>NaN</td>\n",
       "      <td>9.0</td>\n",
       "      <td>8.0</td>\n",
       "    </tr>\n",
       "    <tr>\n",
       "      <th>33186</th>\n",
       "      <td>20.0</td>\n",
       "      <td>2.0</td>\n",
       "      <td>0.0</td>\n",
       "    </tr>\n",
       "  </tbody>\n",
       "</table>\n",
       "</div>"
      ],
      "text/plain": [
       "       hour  hour_1  hour_2\n",
       "36729   NaN     NaN     0.0\n",
       "33104   NaN     9.0     0.0\n",
       "37613   NaN     8.0     8.0\n",
       "37571   8.0     0.0     8.0\n",
       "36764   NaN     NaN     8.0\n",
       "36756   NaN     NaN     0.0\n",
       "37641   NaN     8.0     NaN\n",
       "37742   NaN     NaN     NaN\n",
       "37694   NaN     9.0     8.0\n",
       "33186  20.0     2.0     0.0"
      ]
     },
     "execution_count": 68,
     "metadata": {},
     "output_type": "execute_result"
    }
   ],
   "source": [
    "df_dot_hourcheck = df_dot[~pd.isna(df_dot['hour_1'])]\n",
    "df_dot_hourcheck = df_dot_hourcheck[~pd.isna(df_dot_hourcheck['hour_2'])]\n",
    "df_dot_hourcheck['hour'] = df_dot_hourcheck['hour_1'].astype(int).astype(str) + df_dot_hourcheck['hour_2'].astype(int).astype(str)\n",
    "df_dot_hourcheck['hour'] = df_dot_hourcheck['hour'].astype(int)\n",
    "df_dot_hourcheck['hour'] = df_dot_hourcheck['hour'].apply(lambda x: np.nan if x>23 else x)\n",
    "df_dot_nullhour = df_dot.loc[pd.isna(df_dot['hour_1']) | pd.isna(df_dot['hour_2'])]\n",
    "df_dot_nullhour = df_dot_nullhour.copy(deep=True)\n",
    "df_dot_nullhour['hour'] = np.nan\n",
    "df_dot = pd.concat([df_dot_hourcheck, df_dot_nullhour])\n",
    "print(len(df_dot))\n",
    "df_dot[['hour', 'hour_1', 'hour_2']].sample(10)"
   ]
  },
  {
   "cell_type": "markdown",
   "id": "0c516395",
   "metadata": {},
   "source": [
    "minute:"
   ]
  },
  {
   "cell_type": "code",
   "execution_count": 69,
   "id": "d5822474",
   "metadata": {},
   "outputs": [
    {
     "data": {
      "text/plain": [
       "<Axes: xlabel='minute_1', ylabel='Count'>"
      ]
     },
     "execution_count": 69,
     "metadata": {},
     "output_type": "execute_result"
    },
    {
     "data": {
      "image/png": "[encoded data removed]",
      "text/plain": [
       "<Figure size 640x480 with 1 Axes>"
      ]
     },
     "metadata": {},
     "output_type": "display_data"
    }
   ],
   "source": [
    "df_dot['minute_1'] = df_dot['minute_1'].astype(int)\n",
    "sns.histplot(data=df_dot, x='minute_1')"
   ]
  },
  {
   "cell_type": "code",
   "execution_count": 70,
   "id": "791be493",
   "metadata": {},
   "outputs": [],
   "source": [
    "df_dot['minute_1'] = df_dot['minute_1'].apply(lambda x: np.nan if x>9 else x)"
   ]
  },
  {
   "cell_type": "code",
   "execution_count": 71,
   "id": "5e58d79b",
   "metadata": {},
   "outputs": [
    {
     "data": {
      "text/plain": [
       "<Axes: xlabel='minute_2', ylabel='Count'>"
      ]
     },
     "execution_count": 71,
     "metadata": {},
     "output_type": "execute_result"
    },
    {
     "data": {
      "image/png": "[encoded data removed]",
      "text/plain": [
       "<Figure size 640x480 with 1 Axes>"
      ]
     },
     "metadata": {},
     "output_type": "display_data"
    }
   ],
   "source": [
    "df_dot['minute_2'] = df_dot['minute_2'].astype(int)\n",
    "sns.histplot(data=df_dot, x='minute_2')"
   ]
  },
  {
   "cell_type": "code",
   "execution_count": 72,
   "id": "09166ea1",
   "metadata": {},
   "outputs": [],
   "source": [
    "df_dot['minute_2'] = df_dot['minute_2'].apply(lambda x: np.nan if x>9 else x)"
   ]
  },
  {
   "cell_type": "code",
   "execution_count": 73,
   "id": "5481550c",
   "metadata": {},
   "outputs": [
    {
     "name": "stdout",
     "output_type": "stream",
     "text": [
      "997\n"
     ]
    },
    {
     "data": {
      "text/html": [
       "<div>\n",
       "<style scoped>\n",
       "    .dataframe tbody tr th:only-of-type {\n",
       "        vertical-align: middle;\n",
       "    }\n",
       "\n",
       "    .dataframe tbody tr th {\n",
       "        vertical-align: top;\n",
       "    }\n",
       "\n",
       "    .dataframe thead th {\n",
       "        text-align: right;\n",
       "    }\n",
       "</style>\n",
       "<table border=\"1\" class=\"dataframe\">\n",
       "  <thead>\n",
       "    <tr style=\"text-align: right;\">\n",
       "      <th></th>\n",
       "      <th>minute</th>\n",
       "      <th>minute_1</th>\n",
       "      <th>minute_2</th>\n",
       "    </tr>\n",
       "  </thead>\n",
       "  <tbody>\n",
       "    <tr>\n",
       "      <th>37687</th>\n",
       "      <td>NaN</td>\n",
       "      <td>9.0</td>\n",
       "      <td>0.0</td>\n",
       "    </tr>\n",
       "    <tr>\n",
       "      <th>36747</th>\n",
       "      <td>NaN</td>\n",
       "      <td>8.0</td>\n",
       "      <td>8.0</td>\n",
       "    </tr>\n",
       "    <tr>\n",
       "      <th>37641</th>\n",
       "      <td>9.0</td>\n",
       "      <td>0.0</td>\n",
       "      <td>9.0</td>\n",
       "    </tr>\n",
       "    <tr>\n",
       "      <th>33193</th>\n",
       "      <td>8.0</td>\n",
       "      <td>0.0</td>\n",
       "      <td>8.0</td>\n",
       "    </tr>\n",
       "    <tr>\n",
       "      <th>38334</th>\n",
       "      <td>NaN</td>\n",
       "      <td>NaN</td>\n",
       "      <td>9.0</td>\n",
       "    </tr>\n",
       "    <tr>\n",
       "      <th>37546</th>\n",
       "      <td>NaN</td>\n",
       "      <td>8.0</td>\n",
       "      <td>9.0</td>\n",
       "    </tr>\n",
       "    <tr>\n",
       "      <th>36765</th>\n",
       "      <td>NaN</td>\n",
       "      <td>NaN</td>\n",
       "      <td>8.0</td>\n",
       "    </tr>\n",
       "    <tr>\n",
       "      <th>36720</th>\n",
       "      <td>NaN</td>\n",
       "      <td>8.0</td>\n",
       "      <td>8.0</td>\n",
       "    </tr>\n",
       "    <tr>\n",
       "      <th>36827</th>\n",
       "      <td>8.0</td>\n",
       "      <td>0.0</td>\n",
       "      <td>8.0</td>\n",
       "    </tr>\n",
       "    <tr>\n",
       "      <th>37746</th>\n",
       "      <td>NaN</td>\n",
       "      <td>NaN</td>\n",
       "      <td>1.0</td>\n",
       "    </tr>\n",
       "  </tbody>\n",
       "</table>\n",
       "</div>"
      ],
      "text/plain": [
       "       minute  minute_1  minute_2\n",
       "37687     NaN       9.0       0.0\n",
       "36747     NaN       8.0       8.0\n",
       "37641     9.0       0.0       9.0\n",
       "33193     8.0       0.0       8.0\n",
       "38334     NaN       NaN       9.0\n",
       "37546     NaN       8.0       9.0\n",
       "36765     NaN       NaN       8.0\n",
       "36720     NaN       8.0       8.0\n",
       "36827     8.0       0.0       8.0\n",
       "37746     NaN       NaN       1.0"
      ]
     },
     "execution_count": 73,
     "metadata": {},
     "output_type": "execute_result"
    }
   ],
   "source": [
    "df_dot_mincheck = df_dot[~pd.isna(df_dot['minute_1'])]\n",
    "df_dot_mincheck = df_dot_mincheck[~pd.isna(df_dot_mincheck['minute_2'])]\n",
    "df_dot_mincheck['minute'] = df_dot_mincheck['minute_1'].astype(int).astype(str) + df_dot_mincheck['minute_2'].astype(int).astype(str)\n",
    "df_dot_mincheck['minute'] = df_dot_mincheck['minute'].astype(int)\n",
    "df_dot_mincheck['minute'] = df_dot_mincheck['minute'].apply(lambda x: np.nan if x>59 else x)\n",
    "df_dot_nullmin = df_dot.loc[pd.isna(df_dot['minute_1']) | pd.isna(df_dot['minute_2'])]\n",
    "df_dot_nullmin = df_dot_nullmin.copy(deep=True)\n",
    "df_dot_nullmin['minute'] = np.nan\n",
    "df_dot = pd.concat([df_dot_mincheck, df_dot_nullmin])\n",
    "print(len(df_dot))\n",
    "df_dot[['minute', 'minute_1', 'minute_2']].sample(10)"
   ]
  },
  {
   "cell_type": "markdown",
   "id": "5562f858",
   "metadata": {},
   "source": [
    "second:"
   ]
  },
  {
   "cell_type": "code",
   "execution_count": 74,
   "id": "4dc582e9",
   "metadata": {},
   "outputs": [
    {
     "data": {
      "text/plain": [
       "<Axes: xlabel='second_1', ylabel='Count'>"
      ]
     },
     "execution_count": 74,
     "metadata": {},
     "output_type": "execute_result"
    },
    {
     "data": {
      "image/png": "[encoded data removed]",
      "text/plain": [
       "<Figure size 640x480 with 1 Axes>"
      ]
     },
     "metadata": {},
     "output_type": "display_data"
    }
   ],
   "source": [
    "df_dot['second_1'] = df_dot['second_1'].astype(int)\n",
    "sns.histplot(data=df_dot, x='second_1')"
   ]
  },
  {
   "cell_type": "code",
   "execution_count": 75,
   "id": "ecbbafa0",
   "metadata": {},
   "outputs": [],
   "source": [
    "df_dot['second_1'] = df_dot['second_1'].apply(lambda x: np.nan if x>9 else x)"
   ]
  },
  {
   "cell_type": "code",
   "execution_count": 76,
   "id": "0d6331df",
   "metadata": {},
   "outputs": [
    {
     "data": {
      "text/plain": [
       "<Axes: xlabel='second_2', ylabel='Count'>"
      ]
     },
     "execution_count": 76,
     "metadata": {},
     "output_type": "execute_result"
    },
    {
     "data": {
      "image/png": "[encoded data removed]",
      "text/plain": [
       "<Figure size 640x480 with 1 Axes>"
      ]
     },
     "metadata": {},
     "output_type": "display_data"
    }
   ],
   "source": [
    "df_dot['second_2'] = df_dot['second_2'].astype(int)\n",
    "sns.histplot(data=df_dot, x='second_2')"
   ]
  },
  {
   "cell_type": "code",
   "execution_count": 77,
   "id": "f049339a",
   "metadata": {},
   "outputs": [],
   "source": [
    "df_dot['second_2'] = df_dot['second_2'].apply(lambda x: np.nan if x>9 else x)"
   ]
  },
  {
   "cell_type": "code",
   "execution_count": 78,
   "id": "c7c151dc",
   "metadata": {},
   "outputs": [
    {
     "name": "stdout",
     "output_type": "stream",
     "text": [
      "997\n"
     ]
    },
    {
     "data": {
      "text/html": [
       "<div>\n",
       "<style scoped>\n",
       "    .dataframe tbody tr th:only-of-type {\n",
       "        vertical-align: middle;\n",
       "    }\n",
       "\n",
       "    .dataframe tbody tr th {\n",
       "        vertical-align: top;\n",
       "    }\n",
       "\n",
       "    .dataframe thead th {\n",
       "        text-align: right;\n",
       "    }\n",
       "</style>\n",
       "<table border=\"1\" class=\"dataframe\">\n",
       "  <thead>\n",
       "    <tr style=\"text-align: right;\">\n",
       "      <th></th>\n",
       "      <th>second</th>\n",
       "      <th>second_1</th>\n",
       "      <th>second_2</th>\n",
       "    </tr>\n",
       "  </thead>\n",
       "  <tbody>\n",
       "    <tr>\n",
       "      <th>38212</th>\n",
       "      <td>NaN</td>\n",
       "      <td>8.0</td>\n",
       "      <td>1.0</td>\n",
       "    </tr>\n",
       "    <tr>\n",
       "      <th>33143</th>\n",
       "      <td>20.0</td>\n",
       "      <td>2.0</td>\n",
       "      <td>0.0</td>\n",
       "    </tr>\n",
       "    <tr>\n",
       "      <th>37539</th>\n",
       "      <td>NaN</td>\n",
       "      <td>9.0</td>\n",
       "      <td>0.0</td>\n",
       "    </tr>\n",
       "    <tr>\n",
       "      <th>37711</th>\n",
       "      <td>NaN</td>\n",
       "      <td>NaN</td>\n",
       "      <td>1.0</td>\n",
       "    </tr>\n",
       "    <tr>\n",
       "      <th>36901</th>\n",
       "      <td>NaN</td>\n",
       "      <td>8.0</td>\n",
       "      <td>NaN</td>\n",
       "    </tr>\n",
       "    <tr>\n",
       "      <th>36734</th>\n",
       "      <td>NaN</td>\n",
       "      <td>8.0</td>\n",
       "      <td>0.0</td>\n",
       "    </tr>\n",
       "    <tr>\n",
       "      <th>37634</th>\n",
       "      <td>NaN</td>\n",
       "      <td>9.0</td>\n",
       "      <td>9.0</td>\n",
       "    </tr>\n",
       "    <tr>\n",
       "      <th>36731</th>\n",
       "      <td>NaN</td>\n",
       "      <td>NaN</td>\n",
       "      <td>0.0</td>\n",
       "    </tr>\n",
       "    <tr>\n",
       "      <th>33240</th>\n",
       "      <td>NaN</td>\n",
       "      <td>8.0</td>\n",
       "      <td>9.0</td>\n",
       "    </tr>\n",
       "    <tr>\n",
       "      <th>33204</th>\n",
       "      <td>NaN</td>\n",
       "      <td>0.0</td>\n",
       "      <td>NaN</td>\n",
       "    </tr>\n",
       "  </tbody>\n",
       "</table>\n",
       "</div>"
      ],
      "text/plain": [
       "       second  second_1  second_2\n",
       "38212     NaN       8.0       1.0\n",
       "33143    20.0       2.0       0.0\n",
       "37539     NaN       9.0       0.0\n",
       "37711     NaN       NaN       1.0\n",
       "36901     NaN       8.0       NaN\n",
       "36734     NaN       8.0       0.0\n",
       "37634     NaN       9.0       9.0\n",
       "36731     NaN       NaN       0.0\n",
       "33240     NaN       8.0       9.0\n",
       "33204     NaN       0.0       NaN"
      ]
     },
     "execution_count": 78,
     "metadata": {},
     "output_type": "execute_result"
    }
   ],
   "source": [
    "df_dot_seccheck = df_dot[~pd.isna(df_dot['second_1'])]\n",
    "df_dot_seccheck = df_dot_seccheck[~pd.isna(df_dot_seccheck['second_2'])]\n",
    "df_dot_seccheck['second'] = df_dot_seccheck['second_1'].astype(int).astype(str) + df_dot_seccheck['second_2'].astype(int).astype(str)\n",
    "df_dot_seccheck['second'] = df_dot_seccheck['second'].astype(int)\n",
    "df_dot_seccheck['second'] = df_dot_seccheck['second'].apply(lambda x: np.nan if x>59 else x)\n",
    "df_dot_nullsec = df_dot.loc[pd.isna(df_dot['second_1']) | pd.isna(df_dot['second_2'])]\n",
    "df_dot_nullsec = df_dot_nullsec.copy(deep=True)\n",
    "df_dot_nullsec['second'] = np.nan\n",
    "df_dot = pd.concat([df_dot_seccheck, df_dot_nullsec])\n",
    "print(len(df_dot))\n",
    "df_dot[['second', 'second_1', 'second_2']].sample(10)"
   ]
  },
  {
   "cell_type": "markdown",
   "id": "1843ad40",
   "metadata": {},
   "source": [
    "construct timestamp:"
   ]
  },
  {
   "cell_type": "code",
   "execution_count": 79,
   "id": "ba7928bb",
   "metadata": {},
   "outputs": [
    {
     "name": "stdout",
     "output_type": "stream",
     "text": [
      "997\n"
     ]
    }
   ],
   "source": [
    "df_dot = construct_timestamp(df_in=df_dot)\n",
    "print(len(df_dot))"
   ]
  },
  {
   "cell_type": "code",
   "execution_count": 80,
   "id": "05fc3b74",
   "metadata": {},
   "outputs": [
    {
     "data": {
      "text/html": [
       "<div>\n",
       "<style scoped>\n",
       "    .dataframe tbody tr th:only-of-type {\n",
       "        vertical-align: middle;\n",
       "    }\n",
       "\n",
       "    .dataframe tbody tr th {\n",
       "        vertical-align: top;\n",
       "    }\n",
       "\n",
       "    .dataframe thead th {\n",
       "        text-align: right;\n",
       "    }\n",
       "</style>\n",
       "<table border=\"1\" class=\"dataframe\">\n",
       "  <thead>\n",
       "    <tr style=\"text-align: right;\">\n",
       "      <th></th>\n",
       "      <th>year</th>\n",
       "      <th>month</th>\n",
       "      <th>day</th>\n",
       "      <th>hour</th>\n",
       "      <th>minute</th>\n",
       "      <th>second</th>\n",
       "      <th>Timestamp</th>\n",
       "      <th>time_quality</th>\n",
       "    </tr>\n",
       "  </thead>\n",
       "  <tbody>\n",
       "    <tr>\n",
       "      <th>36931</th>\n",
       "      <td>1963.0</td>\n",
       "      <td>06</td>\n",
       "      <td>29</td>\n",
       "      <td>18.0</td>\n",
       "      <td>NaN</td>\n",
       "      <td>NaN</td>\n",
       "      <td>1963-06-29 18:00:00</td>\n",
       "      <td>3</td>\n",
       "    </tr>\n",
       "    <tr>\n",
       "      <th>33181</th>\n",
       "      <td>1962.0</td>\n",
       "      <td>10</td>\n",
       "      <td>07</td>\n",
       "      <td>NaN</td>\n",
       "      <td>8.0</td>\n",
       "      <td>NaN</td>\n",
       "      <td>1962-10-07 00:00:00</td>\n",
       "      <td>4</td>\n",
       "    </tr>\n",
       "    <tr>\n",
       "      <th>38247</th>\n",
       "      <td>1963.0</td>\n",
       "      <td>06</td>\n",
       "      <td>29</td>\n",
       "      <td>NaN</td>\n",
       "      <td>NaN</td>\n",
       "      <td>NaN</td>\n",
       "      <td>1963-06-29 00:00:00</td>\n",
       "      <td>4</td>\n",
       "    </tr>\n",
       "    <tr>\n",
       "      <th>33029</th>\n",
       "      <td>1962.0</td>\n",
       "      <td>10</td>\n",
       "      <td>09</td>\n",
       "      <td>NaN</td>\n",
       "      <td>NaN</td>\n",
       "      <td>NaN</td>\n",
       "      <td>1962-10-09 00:00:00</td>\n",
       "      <td>4</td>\n",
       "    </tr>\n",
       "    <tr>\n",
       "      <th>37700</th>\n",
       "      <td>1963.0</td>\n",
       "      <td>07</td>\n",
       "      <td>07</td>\n",
       "      <td>NaN</td>\n",
       "      <td>10.0</td>\n",
       "      <td>NaN</td>\n",
       "      <td>1963-07-07 00:00:00</td>\n",
       "      <td>4</td>\n",
       "    </tr>\n",
       "    <tr>\n",
       "      <th>36752</th>\n",
       "      <td>1963.0</td>\n",
       "      <td>05</td>\n",
       "      <td>24</td>\n",
       "      <td>NaN</td>\n",
       "      <td>NaN</td>\n",
       "      <td>11.0</td>\n",
       "      <td>1963-05-24 00:00:00</td>\n",
       "      <td>4</td>\n",
       "    </tr>\n",
       "    <tr>\n",
       "      <th>36971</th>\n",
       "      <td>1963.0</td>\n",
       "      <td>07</td>\n",
       "      <td>07</td>\n",
       "      <td>NaN</td>\n",
       "      <td>NaN</td>\n",
       "      <td>NaN</td>\n",
       "      <td>1963-07-07 00:00:00</td>\n",
       "      <td>4</td>\n",
       "    </tr>\n",
       "    <tr>\n",
       "      <th>33062</th>\n",
       "      <td>NaN</td>\n",
       "      <td>NaN</td>\n",
       "      <td>NaN</td>\n",
       "      <td>NaN</td>\n",
       "      <td>8.0</td>\n",
       "      <td>18.0</td>\n",
       "      <td>NaT</td>\n",
       "      <td>0</td>\n",
       "    </tr>\n",
       "    <tr>\n",
       "      <th>33167</th>\n",
       "      <td>NaN</td>\n",
       "      <td>NaN</td>\n",
       "      <td>NaN</td>\n",
       "      <td>8.0</td>\n",
       "      <td>NaN</td>\n",
       "      <td>10.0</td>\n",
       "      <td>NaT</td>\n",
       "      <td>0</td>\n",
       "    </tr>\n",
       "    <tr>\n",
       "      <th>36997</th>\n",
       "      <td>1963.0</td>\n",
       "      <td>07</td>\n",
       "      <td>07</td>\n",
       "      <td>NaN</td>\n",
       "      <td>NaN</td>\n",
       "      <td>NaN</td>\n",
       "      <td>1963-07-07 00:00:00</td>\n",
       "      <td>4</td>\n",
       "    </tr>\n",
       "  </tbody>\n",
       "</table>\n",
       "</div>"
      ],
      "text/plain": [
       "         year month  day  hour  minute  second           Timestamp  \\\n",
       "36931  1963.0    06   29  18.0     NaN     NaN 1963-06-29 18:00:00   \n",
       "33181  1962.0    10   07   NaN     8.0     NaN 1962-10-07 00:00:00   \n",
       "38247  1963.0    06   29   NaN     NaN     NaN 1963-06-29 00:00:00   \n",
       "33029  1962.0    10   09   NaN     NaN     NaN 1962-10-09 00:00:00   \n",
       "37700  1963.0    07   07   NaN    10.0     NaN 1963-07-07 00:00:00   \n",
       "36752  1963.0    05   24   NaN     NaN    11.0 1963-05-24 00:00:00   \n",
       "36971  1963.0    07   07   NaN     NaN     NaN 1963-07-07 00:00:00   \n",
       "33062     NaN   NaN  NaN   NaN     8.0    18.0                 NaT   \n",
       "33167     NaN   NaN  NaN   8.0     NaN    10.0                 NaT   \n",
       "36997  1963.0    07   07   NaN     NaN     NaN 1963-07-07 00:00:00   \n",
       "\n",
       "       time_quality  \n",
       "36931             3  \n",
       "33181             4  \n",
       "38247             4  \n",
       "33029             4  \n",
       "37700             4  \n",
       "36752             4  \n",
       "36971             4  \n",
       "33062             0  \n",
       "33167             0  \n",
       "36997             4  "
      ]
     },
     "execution_count": 80,
     "metadata": {},
     "output_type": "execute_result"
    }
   ],
   "source": [
    "df_dot[['year', 'month', 'day', 'hour', 'minute', 'second', 'Timestamp', 'time_quality']].sample(10)"
   ]
  },
  {
   "cell_type": "markdown",
   "id": "81f7c8a4",
   "metadata": {},
   "source": [
    "#  "
   ]
  },
  {
   "cell_type": "markdown",
   "id": "f06711b5",
   "metadata": {},
   "source": [
    "#### Check station number:"
   ]
  },
  {
   "cell_type": "markdown",
   "id": "8178138d",
   "metadata": {},
   "source": [
    "num2:"
   ]
  },
  {
   "cell_type": "code",
   "execution_count": 81,
   "id": "3b34898a",
   "metadata": {},
   "outputs": [
    {
     "data": {
      "text/plain": [
       "<Axes: xlabel='station_number_OCR', ylabel='Count'>"
      ]
     },
     "execution_count": 81,
     "metadata": {},
     "output_type": "execute_result"
    },
    {
     "data": {
      "image/png": "[encoded data removed]",
      "text/plain": [
       "<Figure size 640x480 with 1 Axes>"
      ]
     },
     "metadata": {},
     "output_type": "display_data"
    }
   ],
   "source": [
    "df_num2['station_number_OCR'] = df_num2['station_number_OCR'].astype('float')\n",
    "sns.histplot(data=df_num2, x='station_number_OCR')"
   ]
  },
  {
   "cell_type": "code",
   "execution_count": 82,
   "id": "150b0474",
   "metadata": {},
   "outputs": [
    {
     "data": {
      "text/html": [
       "<div>\n",
       "<style scoped>\n",
       "    .dataframe tbody tr th:only-of-type {\n",
       "        vertical-align: middle;\n",
       "    }\n",
       "\n",
       "    .dataframe tbody tr th {\n",
       "        vertical-align: top;\n",
       "    }\n",
       "\n",
       "    .dataframe thead th {\n",
       "        text-align: right;\n",
       "    }\n",
       "</style>\n",
       "<table border=\"1\" class=\"dataframe\">\n",
       "  <thead>\n",
       "    <tr style=\"text-align: right;\">\n",
       "      <th></th>\n",
       "      <th>station_number</th>\n",
       "      <th>station_number_OCR</th>\n",
       "    </tr>\n",
       "  </thead>\n",
       "  <tbody>\n",
       "    <tr>\n",
       "      <th>22519</th>\n",
       "      <td>19.0</td>\n",
       "      <td>19.0</td>\n",
       "    </tr>\n",
       "    <tr>\n",
       "      <th>19701</th>\n",
       "      <td>43.0</td>\n",
       "      <td>43.0</td>\n",
       "    </tr>\n",
       "    <tr>\n",
       "      <th>27565</th>\n",
       "      <td>50.0</td>\n",
       "      <td>50.0</td>\n",
       "    </tr>\n",
       "    <tr>\n",
       "      <th>4280</th>\n",
       "      <td>50.0</td>\n",
       "      <td>50.0</td>\n",
       "    </tr>\n",
       "    <tr>\n",
       "      <th>20721</th>\n",
       "      <td>15.0</td>\n",
       "      <td>15.0</td>\n",
       "    </tr>\n",
       "    <tr>\n",
       "      <th>9902</th>\n",
       "      <td>43.0</td>\n",
       "      <td>43.0</td>\n",
       "    </tr>\n",
       "    <tr>\n",
       "      <th>22403</th>\n",
       "      <td>43.0</td>\n",
       "      <td>43.0</td>\n",
       "    </tr>\n",
       "    <tr>\n",
       "      <th>19664</th>\n",
       "      <td>43.0</td>\n",
       "      <td>43.0</td>\n",
       "    </tr>\n",
       "    <tr>\n",
       "      <th>24945</th>\n",
       "      <td>50.0</td>\n",
       "      <td>50.0</td>\n",
       "    </tr>\n",
       "    <tr>\n",
       "      <th>26900</th>\n",
       "      <td>50.0</td>\n",
       "      <td>50.0</td>\n",
       "    </tr>\n",
       "  </tbody>\n",
       "</table>\n",
       "</div>"
      ],
      "text/plain": [
       "       station_number  station_number_OCR\n",
       "22519            19.0                19.0\n",
       "19701            43.0                43.0\n",
       "27565            50.0                50.0\n",
       "4280             50.0                50.0\n",
       "20721            15.0                15.0\n",
       "9902             43.0                43.0\n",
       "22403            43.0                43.0\n",
       "19664            43.0                43.0\n",
       "24945            50.0                50.0\n",
       "26900            50.0                50.0"
      ]
     },
     "execution_count": 82,
     "metadata": {},
     "output_type": "execute_result"
    }
   ],
   "source": [
    "df_num2['station_number'] = df_num2['station_number_OCR']\n",
    "df_num2[['station_number', 'station_number_OCR']].sample(10)"
   ]
  },
  {
   "cell_type": "markdown",
   "id": "66f42c8e",
   "metadata": {},
   "source": [
    "num:"
   ]
  },
  {
   "cell_type": "code",
   "execution_count": 83,
   "id": "3edf33d2",
   "metadata": {},
   "outputs": [
    {
     "data": {
      "text/plain": [
       "<Axes: xlabel='station_number_1', ylabel='Count'>"
      ]
     },
     "execution_count": 83,
     "metadata": {},
     "output_type": "execute_result"
    },
    {
     "data": {
      "image/png": "[encoded data removed]",
      "text/plain": [
       "<Figure size 640x480 with 1 Axes>"
      ]
     },
     "metadata": {},
     "output_type": "display_data"
    }
   ],
   "source": [
    "df_num['station_number_1'] = df_num['station_number_1'].astype(int)\n",
    "sns.histplot(data=df_num, x='station_number_1')"
   ]
  },
  {
   "cell_type": "code",
   "execution_count": 84,
   "id": "da37c547",
   "metadata": {},
   "outputs": [],
   "source": [
    "df_num['station_number_1'] = df_num['station_number_1'].apply(lambda x: np.nan if x>9 else x)"
   ]
  },
  {
   "cell_type": "code",
   "execution_count": 85,
   "id": "f180be3e",
   "metadata": {},
   "outputs": [
    {
     "data": {
      "text/plain": [
       "<Axes: xlabel='station_number_2', ylabel='Count'>"
      ]
     },
     "execution_count": 85,
     "metadata": {},
     "output_type": "execute_result"
    },
    {
     "data": {
      "image/png": "[encoded data removed]",
      "text/plain": [
       "<Figure size 640x480 with 1 Axes>"
      ]
     },
     "metadata": {},
     "output_type": "display_data"
    }
   ],
   "source": [
    "df_num['station_number_2'] = df_num['station_number_2'].astype(int)\n",
    "sns.histplot(data=df_num, x='station_number_2')"
   ]
  },
  {
   "cell_type": "code",
   "execution_count": 86,
   "id": "584b58b5",
   "metadata": {},
   "outputs": [],
   "source": [
    "df_num['station_number_2'] = df_num['station_number_2'].apply(lambda x: np.nan if x>9 else x)"
   ]
  },
  {
   "cell_type": "code",
   "execution_count": 87,
   "id": "a5967366",
   "metadata": {},
   "outputs": [
    {
     "name": "stdout",
     "output_type": "stream",
     "text": [
      "10831\n"
     ]
    },
    {
     "data": {
      "text/html": [
       "<div>\n",
       "<style scoped>\n",
       "    .dataframe tbody tr th:only-of-type {\n",
       "        vertical-align: middle;\n",
       "    }\n",
       "\n",
       "    .dataframe tbody tr th {\n",
       "        vertical-align: top;\n",
       "    }\n",
       "\n",
       "    .dataframe thead th {\n",
       "        text-align: right;\n",
       "    }\n",
       "</style>\n",
       "<table border=\"1\" class=\"dataframe\">\n",
       "  <thead>\n",
       "    <tr style=\"text-align: right;\">\n",
       "      <th></th>\n",
       "      <th>station_number</th>\n",
       "      <th>station_number_1</th>\n",
       "      <th>station_number_2</th>\n",
       "    </tr>\n",
       "  </thead>\n",
       "  <tbody>\n",
       "    <tr>\n",
       "      <th>13209</th>\n",
       "      <td>22.0</td>\n",
       "      <td>2.0</td>\n",
       "      <td>2.0</td>\n",
       "    </tr>\n",
       "    <tr>\n",
       "      <th>38925</th>\n",
       "      <td>10.0</td>\n",
       "      <td>1.0</td>\n",
       "      <td>0.0</td>\n",
       "    </tr>\n",
       "    <tr>\n",
       "      <th>32148</th>\n",
       "      <td>5.0</td>\n",
       "      <td>0.0</td>\n",
       "      <td>5.0</td>\n",
       "    </tr>\n",
       "    <tr>\n",
       "      <th>33591</th>\n",
       "      <td>13.0</td>\n",
       "      <td>1.0</td>\n",
       "      <td>3.0</td>\n",
       "    </tr>\n",
       "    <tr>\n",
       "      <th>12998</th>\n",
       "      <td>22.0</td>\n",
       "      <td>2.0</td>\n",
       "      <td>2.0</td>\n",
       "    </tr>\n",
       "    <tr>\n",
       "      <th>41600</th>\n",
       "      <td>13.0</td>\n",
       "      <td>1.0</td>\n",
       "      <td>3.0</td>\n",
       "    </tr>\n",
       "    <tr>\n",
       "      <th>37147</th>\n",
       "      <td>9.0</td>\n",
       "      <td>0.0</td>\n",
       "      <td>9.0</td>\n",
       "    </tr>\n",
       "    <tr>\n",
       "      <th>34571</th>\n",
       "      <td>5.0</td>\n",
       "      <td>0.0</td>\n",
       "      <td>5.0</td>\n",
       "    </tr>\n",
       "    <tr>\n",
       "      <th>39304</th>\n",
       "      <td>5.0</td>\n",
       "      <td>0.0</td>\n",
       "      <td>5.0</td>\n",
       "    </tr>\n",
       "    <tr>\n",
       "      <th>37856</th>\n",
       "      <td>7.0</td>\n",
       "      <td>0.0</td>\n",
       "      <td>7.0</td>\n",
       "    </tr>\n",
       "  </tbody>\n",
       "</table>\n",
       "</div>"
      ],
      "text/plain": [
       "       station_number  station_number_1  station_number_2\n",
       "13209            22.0               2.0               2.0\n",
       "38925            10.0               1.0               0.0\n",
       "32148             5.0               0.0               5.0\n",
       "33591            13.0               1.0               3.0\n",
       "12998            22.0               2.0               2.0\n",
       "41600            13.0               1.0               3.0\n",
       "37147             9.0               0.0               9.0\n",
       "34571             5.0               0.0               5.0\n",
       "39304             5.0               0.0               5.0\n",
       "37856             7.0               0.0               7.0"
      ]
     },
     "execution_count": 87,
     "metadata": {},
     "output_type": "execute_result"
    }
   ],
   "source": [
    "df_num_stncheck = df_num[~pd.isna(df_num['station_number_1'])]\n",
    "df_num_stncheck = df_num_stncheck[~pd.isna(df_num_stncheck['station_number_2'])]\n",
    "df_num_stncheck['station_number'] = df_num_stncheck['station_number_1'].astype(int).astype(str) + df_num_stncheck['station_number_2'].astype(int).astype(str)\n",
    "df_num_stncheck['station_number'] = df_num_stncheck['station_number'].astype(int)\n",
    "df_num_nullstn = df_num.loc[pd.isna(df_num['station_number_1']) | pd.isna(df_num['station_number_2'])]\n",
    "df_num_nullstn = df_num_nullstn.copy(deep=True)\n",
    "df_num_nullstn['station_number'] = np.nan\n",
    "df_num = pd.concat([df_num_stncheck, df_num_nullstn])\n",
    "print(len(df_num))\n",
    "df_num[['station_number', 'station_number_1', 'station_number_2']].sample(10)"
   ]
  },
  {
   "cell_type": "markdown",
   "id": "1f2c6758",
   "metadata": {},
   "source": [
    "dot:"
   ]
  },
  {
   "cell_type": "code",
   "execution_count": 88,
   "id": "057d942a",
   "metadata": {},
   "outputs": [
    {
     "data": {
      "text/html": [
       "<div>\n",
       "<style scoped>\n",
       "    .dataframe tbody tr th:only-of-type {\n",
       "        vertical-align: middle;\n",
       "    }\n",
       "\n",
       "    .dataframe tbody tr th {\n",
       "        vertical-align: top;\n",
       "    }\n",
       "\n",
       "    .dataframe thead th {\n",
       "        text-align: right;\n",
       "    }\n",
       "</style>\n",
       "<table border=\"1\" class=\"dataframe\">\n",
       "  <thead>\n",
       "    <tr style=\"text-align: right;\">\n",
       "      <th></th>\n",
       "      <th>station_number</th>\n",
       "    </tr>\n",
       "  </thead>\n",
       "  <tbody>\n",
       "    <tr>\n",
       "      <th>37661</th>\n",
       "      <td>8.0</td>\n",
       "    </tr>\n",
       "    <tr>\n",
       "      <th>37682</th>\n",
       "      <td>16.0</td>\n",
       "    </tr>\n",
       "    <tr>\n",
       "      <th>38216</th>\n",
       "      <td>10.0</td>\n",
       "    </tr>\n",
       "    <tr>\n",
       "      <th>33191</th>\n",
       "      <td>1.0</td>\n",
       "    </tr>\n",
       "    <tr>\n",
       "      <th>37005</th>\n",
       "      <td>1.0</td>\n",
       "    </tr>\n",
       "    <tr>\n",
       "      <th>36779</th>\n",
       "      <td>1.0</td>\n",
       "    </tr>\n",
       "    <tr>\n",
       "      <th>33123</th>\n",
       "      <td>9.0</td>\n",
       "    </tr>\n",
       "    <tr>\n",
       "      <th>33234</th>\n",
       "      <td>18.0</td>\n",
       "    </tr>\n",
       "    <tr>\n",
       "      <th>37596</th>\n",
       "      <td>16.0</td>\n",
       "    </tr>\n",
       "    <tr>\n",
       "      <th>37670</th>\n",
       "      <td>8.0</td>\n",
       "    </tr>\n",
       "  </tbody>\n",
       "</table>\n",
       "</div>"
      ],
      "text/plain": [
       "       station_number\n",
       "37661             8.0\n",
       "37682            16.0\n",
       "38216            10.0\n",
       "33191             1.0\n",
       "37005             1.0\n",
       "36779             1.0\n",
       "33123             9.0\n",
       "33234            18.0\n",
       "37596            16.0\n",
       "37670             8.0"
      ]
     },
     "execution_count": 88,
     "metadata": {},
     "output_type": "execute_result"
    }
   ],
   "source": [
    "df_dot[['station_number']].sample(10)"
   ]
  },
  {
   "cell_type": "markdown",
   "id": "bc69e418",
   "metadata": {},
   "source": [
    "#  "
   ]
  },
  {
   "cell_type": "markdown",
   "id": "31a0e73c",
   "metadata": {},
   "source": [
    "#### Recombine results, save:"
   ]
  },
  {
   "cell_type": "code",
   "execution_count": 89,
   "id": "29bab799",
   "metadata": {},
   "outputs": [
    {
     "name": "stdout",
     "output_type": "stream",
     "text": [
      "44327\n"
     ]
    },
    {
     "data": {
      "text/html": [
       "<div>\n",
       "<style scoped>\n",
       "    .dataframe tbody tr th:only-of-type {\n",
       "        vertical-align: middle;\n",
       "    }\n",
       "\n",
       "    .dataframe tbody tr th {\n",
       "        vertical-align: top;\n",
       "    }\n",
       "\n",
       "    .dataframe thead th {\n",
       "        text-align: right;\n",
       "    }\n",
       "</style>\n",
       "<table border=\"1\" class=\"dataframe\">\n",
       "  <thead>\n",
       "    <tr style=\"text-align: right;\">\n",
       "      <th></th>\n",
       "      <th>Directory</th>\n",
       "      <th>Subdirectory</th>\n",
       "      <th>filename</th>\n",
       "      <th>processed_image_class</th>\n",
       "      <th>fmin</th>\n",
       "      <th>max_depth</th>\n",
       "      <th>station_number</th>\n",
       "      <th>station_number_1</th>\n",
       "      <th>station_number_2</th>\n",
       "      <th>year_1</th>\n",
       "      <th>...</th>\n",
       "      <th>year</th>\n",
       "      <th>day_of_year</th>\n",
       "      <th>hour</th>\n",
       "      <th>minute</th>\n",
       "      <th>second</th>\n",
       "      <th>time_quality</th>\n",
       "      <th>month_day</th>\n",
       "      <th>month</th>\n",
       "      <th>day</th>\n",
       "      <th>Timestamp</th>\n",
       "    </tr>\n",
       "  </thead>\n",
       "  <tbody>\n",
       "    <tr>\n",
       "      <th>32513</th>\n",
       "      <td>R014207941</td>\n",
       "      <td>1804-3A</td>\n",
       "      <td>249.png</td>\n",
       "      <td>loss</td>\n",
       "      <td>1.653226</td>\n",
       "      <td>1434.615385</td>\n",
       "      <td>21.0</td>\n",
       "      <td>NaN</td>\n",
       "      <td>NaN</td>\n",
       "      <td>NaN</td>\n",
       "      <td>...</td>\n",
       "      <td>NaN</td>\n",
       "      <td>NaN</td>\n",
       "      <td>NaN</td>\n",
       "      <td>NaN</td>\n",
       "      <td>NaN</td>\n",
       "      <td>NaN</td>\n",
       "      <td>NaN</td>\n",
       "      <td>NaN</td>\n",
       "      <td>NaN</td>\n",
       "      <td>NaT</td>\n",
       "    </tr>\n",
       "    <tr>\n",
       "      <th>9325</th>\n",
       "      <td>R014207817</td>\n",
       "      <td>4170-03A</td>\n",
       "      <td>182.png</td>\n",
       "      <td>outlier</td>\n",
       "      <td>NaN</td>\n",
       "      <td>NaN</td>\n",
       "      <td>NaN</td>\n",
       "      <td>NaN</td>\n",
       "      <td>NaN</td>\n",
       "      <td>NaN</td>\n",
       "      <td>...</td>\n",
       "      <td>NaN</td>\n",
       "      <td>NaN</td>\n",
       "      <td>NaN</td>\n",
       "      <td>NaN</td>\n",
       "      <td>NaN</td>\n",
       "      <td>NaN</td>\n",
       "      <td>NaN</td>\n",
       "      <td>NaN</td>\n",
       "      <td>NaN</td>\n",
       "      <td>NaT</td>\n",
       "    </tr>\n",
       "    <tr>\n",
       "      <th>2409</th>\n",
       "      <td>R014207807</td>\n",
       "      <td>4971</td>\n",
       "      <td>305.png</td>\n",
       "      <td>loss</td>\n",
       "      <td>1.858871</td>\n",
       "      <td>1357.777778</td>\n",
       "      <td>NaN</td>\n",
       "      <td>NaN</td>\n",
       "      <td>NaN</td>\n",
       "      <td>NaN</td>\n",
       "      <td>...</td>\n",
       "      <td>NaN</td>\n",
       "      <td>NaN</td>\n",
       "      <td>NaN</td>\n",
       "      <td>NaN</td>\n",
       "      <td>NaN</td>\n",
       "      <td>NaN</td>\n",
       "      <td>NaN</td>\n",
       "      <td>NaN</td>\n",
       "      <td>NaN</td>\n",
       "      <td>NaT</td>\n",
       "    </tr>\n",
       "    <tr>\n",
       "      <th>1156</th>\n",
       "      <td>R014207807</td>\n",
       "      <td>4962</td>\n",
       "      <td>114.png</td>\n",
       "      <td>loss</td>\n",
       "      <td>2.370968</td>\n",
       "      <td>1348.888889</td>\n",
       "      <td>NaN</td>\n",
       "      <td>NaN</td>\n",
       "      <td>NaN</td>\n",
       "      <td>NaN</td>\n",
       "      <td>...</td>\n",
       "      <td>NaN</td>\n",
       "      <td>NaN</td>\n",
       "      <td>NaN</td>\n",
       "      <td>NaN</td>\n",
       "      <td>NaN</td>\n",
       "      <td>NaN</td>\n",
       "      <td>NaN</td>\n",
       "      <td>NaN</td>\n",
       "      <td>NaN</td>\n",
       "      <td>NaT</td>\n",
       "    </tr>\n",
       "    <tr>\n",
       "      <th>20172</th>\n",
       "      <td>R014207833</td>\n",
       "      <td>4372-69</td>\n",
       "      <td>195.png</td>\n",
       "      <td>loss</td>\n",
       "      <td>1.512097</td>\n",
       "      <td>961.224490</td>\n",
       "      <td>NaN</td>\n",
       "      <td>NaN</td>\n",
       "      <td>NaN</td>\n",
       "      <td>NaN</td>\n",
       "      <td>...</td>\n",
       "      <td>NaN</td>\n",
       "      <td>NaN</td>\n",
       "      <td>NaN</td>\n",
       "      <td>NaN</td>\n",
       "      <td>NaN</td>\n",
       "      <td>NaN</td>\n",
       "      <td>NaN</td>\n",
       "      <td>NaN</td>\n",
       "      <td>NaN</td>\n",
       "      <td>NaT</td>\n",
       "    </tr>\n",
       "    <tr>\n",
       "      <th>11218</th>\n",
       "      <td>R014207820</td>\n",
       "      <td>2971-5B</td>\n",
       "      <td>74.png</td>\n",
       "      <td>num</td>\n",
       "      <td>1.556452</td>\n",
       "      <td>1438.297872</td>\n",
       "      <td>1.0</td>\n",
       "      <td>0.0</td>\n",
       "      <td>1.0</td>\n",
       "      <td>1.0</td>\n",
       "      <td>...</td>\n",
       "      <td>1963.0</td>\n",
       "      <td>NaN</td>\n",
       "      <td>0.0</td>\n",
       "      <td>0.0</td>\n",
       "      <td>0.0</td>\n",
       "      <td>0.0</td>\n",
       "      <td>NaN</td>\n",
       "      <td>NaN</td>\n",
       "      <td>NaN</td>\n",
       "      <td>NaT</td>\n",
       "    </tr>\n",
       "    <tr>\n",
       "      <th>2555</th>\n",
       "      <td>R014207808</td>\n",
       "      <td>4567-B-37</td>\n",
       "      <td>225.png</td>\n",
       "      <td>num2</td>\n",
       "      <td>2.201613</td>\n",
       "      <td>892.000000</td>\n",
       "      <td>37.0</td>\n",
       "      <td>NaN</td>\n",
       "      <td>NaN</td>\n",
       "      <td>NaN</td>\n",
       "      <td>...</td>\n",
       "      <td>1968.0</td>\n",
       "      <td>201.0</td>\n",
       "      <td>7.0</td>\n",
       "      <td>22.0</td>\n",
       "      <td>52.0</td>\n",
       "      <td>1.0</td>\n",
       "      <td>07-20</td>\n",
       "      <td>07</td>\n",
       "      <td>20</td>\n",
       "      <td>1968-07-20 07:22:52</td>\n",
       "    </tr>\n",
       "    <tr>\n",
       "      <th>39808</th>\n",
       "      <td>R014207963</td>\n",
       "      <td>1531-5A</td>\n",
       "      <td>285.png</td>\n",
       "      <td>num</td>\n",
       "      <td>1.612903</td>\n",
       "      <td>1434.615385</td>\n",
       "      <td>5.0</td>\n",
       "      <td>0.0</td>\n",
       "      <td>5.0</td>\n",
       "      <td>4.0</td>\n",
       "      <td>...</td>\n",
       "      <td>1966.0</td>\n",
       "      <td>72.0</td>\n",
       "      <td>8.0</td>\n",
       "      <td>48.0</td>\n",
       "      <td>0.0</td>\n",
       "      <td>1.0</td>\n",
       "      <td>03-13</td>\n",
       "      <td>03</td>\n",
       "      <td>13</td>\n",
       "      <td>1966-03-13 08:48:00</td>\n",
       "    </tr>\n",
       "    <tr>\n",
       "      <th>23185</th>\n",
       "      <td>R014207836</td>\n",
       "      <td>4708-12</td>\n",
       "      <td>26.png</td>\n",
       "      <td>num2</td>\n",
       "      <td>1.508065</td>\n",
       "      <td>1552.272727</td>\n",
       "      <td>12.0</td>\n",
       "      <td>NaN</td>\n",
       "      <td>NaN</td>\n",
       "      <td>NaN</td>\n",
       "      <td>...</td>\n",
       "      <td>1965.0</td>\n",
       "      <td>165.0</td>\n",
       "      <td>15.0</td>\n",
       "      <td>29.0</td>\n",
       "      <td>34.0</td>\n",
       "      <td>1.0</td>\n",
       "      <td>06-14</td>\n",
       "      <td>06</td>\n",
       "      <td>14</td>\n",
       "      <td>1965-06-14 15:29:34</td>\n",
       "    </tr>\n",
       "    <tr>\n",
       "      <th>5859</th>\n",
       "      <td>R014207810</td>\n",
       "      <td>5137</td>\n",
       "      <td>209.png</td>\n",
       "      <td>loss</td>\n",
       "      <td>2.080645</td>\n",
       "      <td>1427.272727</td>\n",
       "      <td>NaN</td>\n",
       "      <td>NaN</td>\n",
       "      <td>NaN</td>\n",
       "      <td>NaN</td>\n",
       "      <td>...</td>\n",
       "      <td>NaN</td>\n",
       "      <td>NaN</td>\n",
       "      <td>NaN</td>\n",
       "      <td>NaN</td>\n",
       "      <td>NaN</td>\n",
       "      <td>NaN</td>\n",
       "      <td>NaN</td>\n",
       "      <td>NaN</td>\n",
       "      <td>NaN</td>\n",
       "      <td>NaT</td>\n",
       "    </tr>\n",
       "  </tbody>\n",
       "</table>\n",
       "<p>10 rows × 40 columns</p>\n",
       "</div>"
      ],
      "text/plain": [
       "        Directory Subdirectory filename processed_image_class      fmin  \\\n",
       "32513  R014207941      1804-3A  249.png                  loss  1.653226   \n",
       "9325   R014207817     4170-03A  182.png               outlier       NaN   \n",
       "2409   R014207807         4971  305.png                  loss  1.858871   \n",
       "1156   R014207807         4962  114.png                  loss  2.370968   \n",
       "20172  R014207833      4372-69  195.png                  loss  1.512097   \n",
       "11218  R014207820      2971-5B   74.png                   num  1.556452   \n",
       "2555   R014207808    4567-B-37  225.png                  num2  2.201613   \n",
       "39808  R014207963      1531-5A  285.png                   num  1.612903   \n",
       "23185  R014207836      4708-12   26.png                  num2  1.508065   \n",
       "5859   R014207810         5137  209.png                  loss  2.080645   \n",
       "\n",
       "         max_depth  station_number  station_number_1  station_number_2  \\\n",
       "32513  1434.615385            21.0               NaN               NaN   \n",
       "9325           NaN             NaN               NaN               NaN   \n",
       "2409   1357.777778             NaN               NaN               NaN   \n",
       "1156   1348.888889             NaN               NaN               NaN   \n",
       "20172   961.224490             NaN               NaN               NaN   \n",
       "11218  1438.297872             1.0               0.0               1.0   \n",
       "2555    892.000000            37.0               NaN               NaN   \n",
       "39808  1434.615385             5.0               0.0               5.0   \n",
       "23185  1552.272727            12.0               NaN               NaN   \n",
       "5859   1427.272727             NaN               NaN               NaN   \n",
       "\n",
       "       year_1  ...    year  day_of_year  hour  minute  second  time_quality  \\\n",
       "32513     NaN  ...     NaN          NaN   NaN     NaN     NaN           NaN   \n",
       "9325      NaN  ...     NaN          NaN   NaN     NaN     NaN           NaN   \n",
       "2409      NaN  ...     NaN          NaN   NaN     NaN     NaN           NaN   \n",
       "1156      NaN  ...     NaN          NaN   NaN     NaN     NaN           NaN   \n",
       "20172     NaN  ...     NaN          NaN   NaN     NaN     NaN           NaN   \n",
       "11218     1.0  ...  1963.0          NaN   0.0     0.0     0.0           0.0   \n",
       "2555      NaN  ...  1968.0        201.0   7.0    22.0    52.0           1.0   \n",
       "39808     4.0  ...  1966.0         72.0   8.0    48.0     0.0           1.0   \n",
       "23185     NaN  ...  1965.0        165.0  15.0    29.0    34.0           1.0   \n",
       "5859      NaN  ...     NaN          NaN   NaN     NaN     NaN           NaN   \n",
       "\n",
       "       month_day  month  day           Timestamp  \n",
       "32513        NaN    NaN  NaN                 NaT  \n",
       "9325         NaN    NaN  NaN                 NaT  \n",
       "2409         NaN    NaN  NaN                 NaT  \n",
       "1156         NaN    NaN  NaN                 NaT  \n",
       "20172        NaN    NaN  NaN                 NaT  \n",
       "11218        NaN    NaN  NaN                 NaT  \n",
       "2555       07-20     07   20 1968-07-20 07:22:52  \n",
       "39808      03-13     03   13 1966-03-13 08:48:00  \n",
       "23185      06-14     06   14 1965-06-14 15:29:34  \n",
       "5859         NaN    NaN  NaN                 NaT  \n",
       "\n",
       "[10 rows x 40 columns]"
      ]
     },
     "execution_count": 89,
     "metadata": {},
     "output_type": "execute_result"
    }
   ],
   "source": [
    "df_result2 = pd.concat([df_num2, df_num, df_dot, df_outlier, df_loss])\n",
    "print(len(df_result2))\n",
    "df_result2.sample(10)"
   ]
  },
  {
   "cell_type": "markdown",
   "id": "fdf24ed0",
   "metadata": {},
   "source": [
    "Save:"
   ]
  },
  {
   "cell_type": "code",
   "execution_count": 90,
   "id": "39adb1e3",
   "metadata": {},
   "outputs": [],
   "source": [
    "df_result2.to_csv(resultDir + 'result_postprocess_raw.csv', index=False)"
   ]
  },
  {
   "cell_type": "markdown",
   "id": "cfbd114a",
   "metadata": {},
   "source": [
    "#  "
   ]
  },
  {
   "cell_type": "markdown",
   "id": "dd4a6bef",
   "metadata": {},
   "source": [
    "#### Retrieve station details:"
   ]
  },
  {
   "cell_type": "code",
   "execution_count": 91,
   "id": "8ba4668b",
   "metadata": {},
   "outputs": [
    {
     "data": {
      "text/html": [
       "<div>\n",
       "<style scoped>\n",
       "    .dataframe tbody tr th:only-of-type {\n",
       "        vertical-align: middle;\n",
       "    }\n",
       "\n",
       "    .dataframe tbody tr th {\n",
       "        vertical-align: top;\n",
       "    }\n",
       "\n",
       "    .dataframe thead th {\n",
       "        text-align: right;\n",
       "    }\n",
       "</style>\n",
       "<table border=\"1\" class=\"dataframe\">\n",
       "  <thead>\n",
       "    <tr style=\"text-align: right;\">\n",
       "      <th></th>\n",
       "      <th>Station_Number</th>\n",
       "      <th>Station_Code</th>\n",
       "      <th>Station_Name</th>\n",
       "      <th>Start_Date</th>\n",
       "      <th>Notes</th>\n",
       "    </tr>\n",
       "  </thead>\n",
       "  <tbody>\n",
       "    <tr>\n",
       "      <th>0</th>\n",
       "      <td>1</td>\n",
       "      <td>RES</td>\n",
       "      <td>Resolute Bay, NT, Canada</td>\n",
       "      <td>1962-09-29</td>\n",
       "      <td>Assumed start date at launch.</td>\n",
       "    </tr>\n",
       "    <tr>\n",
       "      <th>1</th>\n",
       "      <td>1</td>\n",
       "      <td>BPT</td>\n",
       "      <td>Blossom Point, MD, USA</td>\n",
       "      <td>1965-07-01</td>\n",
       "      <td>NaN</td>\n",
       "    </tr>\n",
       "    <tr>\n",
       "      <th>2</th>\n",
       "      <td>2</td>\n",
       "      <td>PRI</td>\n",
       "      <td>Prince Albert, SK, Canada</td>\n",
       "      <td>1962-09-29</td>\n",
       "      <td>Assumed start date at launch.</td>\n",
       "    </tr>\n",
       "    <tr>\n",
       "      <th>3</th>\n",
       "      <td>3</td>\n",
       "      <td>OTT</td>\n",
       "      <td>Ottawa, Canada</td>\n",
       "      <td>1962-09-29</td>\n",
       "      <td>Assumed start date at launch.</td>\n",
       "    </tr>\n",
       "    <tr>\n",
       "      <th>4</th>\n",
       "      <td>3</td>\n",
       "      <td>FTM</td>\n",
       "      <td>Fort Myers, FL, USA</td>\n",
       "      <td>1965-07-01</td>\n",
       "      <td>NaN</td>\n",
       "    </tr>\n",
       "  </tbody>\n",
       "</table>\n",
       "</div>"
      ],
      "text/plain": [
       "   Station_Number Station_Code               Station_Name Start_Date  \\\n",
       "0               1          RES   Resolute Bay, NT, Canada 1962-09-29   \n",
       "1               1          BPT     Blossom Point, MD, USA 1965-07-01   \n",
       "2               2          PRI  Prince Albert, SK, Canada 1962-09-29   \n",
       "3               3          OTT             Ottawa, Canada 1962-09-29   \n",
       "4               3          FTM        Fort Myers, FL, USA 1965-07-01   \n",
       "\n",
       "                           Notes  \n",
       "0  Assumed start date at launch.  \n",
       "1                            NaN  \n",
       "2  Assumed start date at launch.  \n",
       "3  Assumed start date at launch.  \n",
       "4                            NaN  "
      ]
     },
     "execution_count": 91,
     "metadata": {},
     "output_type": "execute_result"
    }
   ],
   "source": [
    "df_stn_nums = pd.read_excel(logDir + 'station_number_changes.xlsx')\n",
    "df_stn_nums.head()"
   ]
  },
  {
   "cell_type": "code",
   "execution_count": 92,
   "id": "c1d015b0",
   "metadata": {},
   "outputs": [],
   "source": [
    "change_dates = df_stn_nums['Start_Date'].drop_duplicates().sort_values().reset_index(drop=True)\n",
    "stn_nums = df_stn_nums['Station_Number'].unique()"
   ]
  },
  {
   "cell_type": "code",
   "execution_count": 93,
   "id": "da9eb452",
   "metadata": {},
   "outputs": [],
   "source": [
    "#df_result_pp = pd.read_csv(resultDir + 'result_postprocess_raw.csv')\n",
    "df_result2 = df_result2.loc[~pd.isna(df_result2['station_number'])]"
   ]
  },
  {
   "cell_type": "code",
   "execution_count": 94,
   "id": "e446fd81",
   "metadata": {},
   "outputs": [
    {
     "name": "stdout",
     "output_type": "stream",
     "text": [
      "1962-09-29 00:00:00\n",
      "554\n",
      "1963-04-25 00:00:00\n",
      "1038\n",
      "1963-08-06 00:00:00\n",
      "1657\n",
      "1965-07-01 00:00:00\n",
      "2522\n",
      "After 1965-07-01 00:00:00\n",
      "15516\n"
     ]
    }
   ],
   "source": [
    "df_result3 = pd.DataFrame()\n",
    "for i in range(0, len(change_dates)):\n",
    "    #Before the first change date - Assume there are no station numbers before launch\n",
    "    if i == 0:\n",
    "        print(change_dates[i])\n",
    "        df_part = df_result2.loc[df_result2['Timestamp'] < change_dates[i]]\n",
    "        df_result3 = pd.concat([df_result3, df_part])\n",
    "        print(len(df_result3))\n",
    "    \n",
    "    elif i > 0:\n",
    "        print(change_dates[i])\n",
    "        df_part_ = df_result2.loc[df_result2['Timestamp'] < change_dates[i]]\n",
    "        df_part_ = df_part_.loc[df_part_['Timestamp'] >= change_dates[i-1]]\n",
    "        \n",
    "        df_sns = pd.DataFrame()\n",
    "        for sn in stn_nums:\n",
    "            df_sn = df_stn_nums.loc[df_stn_nums['Station_Number'] == sn]\n",
    "            df_sn = df_sn.loc[df_sn['Start_Date'] < change_dates[i]]\n",
    "            if len(df_sn) > 1:\n",
    "                df_sn = df_sn.sort_values('Start_Date', ascending=False)\n",
    "                df_sn = df_sn.iloc[:1]\n",
    "            df_sns = pd.concat([df_sns, df_sn])\n",
    "        \n",
    "        df_part = df_part_.merge(df_sns[['Station_Number', 'Station_Code']], how='left', left_on='station_number', right_on='Station_Number')\n",
    "        df_result3 = pd.concat([df_result3, df_part])\n",
    "        print(len(df_result3))\n",
    "\n",
    "#After last change date\n",
    "last_change_date = change_dates[len(change_dates)-1]\n",
    "print('After ' + str(last_change_date))\n",
    "df_part_ = df_result2.loc[df_result2['Timestamp'] > last_change_date]\n",
    "\n",
    "df_sns = pd.DataFrame()\n",
    "for sn in stn_nums:\n",
    "    df_sn = df_stn_nums.loc[df_stn_nums['Station_Number'] == sn]\n",
    "    if len(df_sn) > 1:\n",
    "        df_sn = df_sn.sort_values('Start_Date', ascending=False)\n",
    "        df_sn = df_sn.iloc[:1]\n",
    "    df_sns = pd.concat([df_sns, df_sn])\n",
    "\n",
    "df_part = df_part_.merge(df_sns[['Station_Number', 'Station_Code']], how='left', left_on='station_number', right_on='Station_Number')\n",
    "df_result3 = pd.concat([df_result3, df_part])\n",
    "print(len(df_result3))"
   ]
  },
  {
   "cell_type": "code",
   "execution_count": 95,
   "id": "925b04d2",
   "metadata": {},
   "outputs": [
    {
     "data": {
      "text/html": [
       "<div>\n",
       "<style scoped>\n",
       "    .dataframe tbody tr th:only-of-type {\n",
       "        vertical-align: middle;\n",
       "    }\n",
       "\n",
       "    .dataframe tbody tr th {\n",
       "        vertical-align: top;\n",
       "    }\n",
       "\n",
       "    .dataframe thead th {\n",
       "        text-align: right;\n",
       "    }\n",
       "</style>\n",
       "<table border=\"1\" class=\"dataframe\">\n",
       "  <thead>\n",
       "    <tr style=\"text-align: right;\">\n",
       "      <th></th>\n",
       "      <th>Station_Code</th>\n",
       "      <th>Station_Name</th>\n",
       "      <th>Lat</th>\n",
       "      <th>Lng</th>\n",
       "      <th>Notes</th>\n",
       "    </tr>\n",
       "  </thead>\n",
       "  <tbody>\n",
       "    <tr>\n",
       "      <th>0</th>\n",
       "      <td>ANT</td>\n",
       "      <td>Antofagasta, Chile</td>\n",
       "      <td>23.6S</td>\n",
       "      <td>70.3W</td>\n",
       "      <td>NaN</td>\n",
       "    </tr>\n",
       "    <tr>\n",
       "      <th>1</th>\n",
       "      <td>BAT</td>\n",
       "      <td>Byrd Station, Antarctica</td>\n",
       "      <td>80S</td>\n",
       "      <td>119.3W</td>\n",
       "      <td>Ref: https://en.wikipedia.org/wiki/Byrd_Station</td>\n",
       "    </tr>\n",
       "    <tr>\n",
       "      <th>2</th>\n",
       "      <td>BFR</td>\n",
       "      <td>Bretigny, France</td>\n",
       "      <td>48.4N</td>\n",
       "      <td>2.2 E</td>\n",
       "      <td>Ref: https://en.wikipedia.org/wiki/Br%C3%A9tig...</td>\n",
       "    </tr>\n",
       "    <tr>\n",
       "      <th>3</th>\n",
       "      <td>BLR</td>\n",
       "      <td>Boulder, CO, USA</td>\n",
       "      <td>40.1N</td>\n",
       "      <td>105.1W</td>\n",
       "      <td>NaN</td>\n",
       "    </tr>\n",
       "    <tr>\n",
       "      <th>4</th>\n",
       "      <td>BPT</td>\n",
       "      <td>Blossom Point, MD, USA</td>\n",
       "      <td>38.4N</td>\n",
       "      <td>77.1W</td>\n",
       "      <td>NaN</td>\n",
       "    </tr>\n",
       "  </tbody>\n",
       "</table>\n",
       "</div>"
      ],
      "text/plain": [
       "  Station_Code              Station_Name    Lat     Lng  \\\n",
       "0          ANT        Antofagasta, Chile  23.6S   70.3W   \n",
       "1          BAT  Byrd Station, Antarctica    80S  119.3W   \n",
       "2          BFR          Bretigny, France  48.4N   2.2 E   \n",
       "3          BLR          Boulder, CO, USA  40.1N  105.1W   \n",
       "4          BPT    Blossom Point, MD, USA  38.4N   77.1W   \n",
       "\n",
       "                                               Notes  \n",
       "0                                                NaN  \n",
       "1    Ref: https://en.wikipedia.org/wiki/Byrd_Station  \n",
       "2  Ref: https://en.wikipedia.org/wiki/Br%C3%A9tig...  \n",
       "3                                                NaN  \n",
       "4                                                NaN  "
      ]
     },
     "execution_count": 95,
     "metadata": {},
     "output_type": "execute_result"
    }
   ],
   "source": [
    "df_stns = pd.read_csv(logDir + 'ground_stations.csv')\n",
    "df_stns.head()"
   ]
  },
  {
   "cell_type": "code",
   "execution_count": 96,
   "id": "f556c636",
   "metadata": {},
   "outputs": [
    {
     "name": "stdout",
     "output_type": "stream",
     "text": [
      "15516\n"
     ]
    },
    {
     "data": {
      "text/html": [
       "<div>\n",
       "<style scoped>\n",
       "    .dataframe tbody tr th:only-of-type {\n",
       "        vertical-align: middle;\n",
       "    }\n",
       "\n",
       "    .dataframe tbody tr th {\n",
       "        vertical-align: top;\n",
       "    }\n",
       "\n",
       "    .dataframe thead th {\n",
       "        text-align: right;\n",
       "    }\n",
       "</style>\n",
       "<table border=\"1\" class=\"dataframe\">\n",
       "  <thead>\n",
       "    <tr style=\"text-align: right;\">\n",
       "      <th></th>\n",
       "      <th>Station_Number</th>\n",
       "      <th>Timestamp</th>\n",
       "      <th>Station_Code</th>\n",
       "      <th>Station_Name</th>\n",
       "      <th>Lat</th>\n",
       "      <th>Lng</th>\n",
       "    </tr>\n",
       "  </thead>\n",
       "  <tbody>\n",
       "    <tr>\n",
       "      <th>6366</th>\n",
       "      <td>50.0</td>\n",
       "      <td>1967-03-27 16:05:44</td>\n",
       "      <td>OTT</td>\n",
       "      <td>Ottawa, Canada</td>\n",
       "      <td>45.4N</td>\n",
       "      <td>75.7W</td>\n",
       "    </tr>\n",
       "    <tr>\n",
       "      <th>7153</th>\n",
       "      <td>50.0</td>\n",
       "      <td>1967-09-28 04:31:44</td>\n",
       "      <td>OTT</td>\n",
       "      <td>Ottawa, Canada</td>\n",
       "      <td>45.4N</td>\n",
       "      <td>75.7W</td>\n",
       "    </tr>\n",
       "    <tr>\n",
       "      <th>14265</th>\n",
       "      <td>5.0</td>\n",
       "      <td>1965-10-16 04:37:51</td>\n",
       "      <td>QUI</td>\n",
       "      <td>Quito, Ecuador</td>\n",
       "      <td>0.6S</td>\n",
       "      <td>78.6W</td>\n",
       "    </tr>\n",
       "    <tr>\n",
       "      <th>13547</th>\n",
       "      <td>1.0</td>\n",
       "      <td>1966-02-24 01:35:27</td>\n",
       "      <td>BPT</td>\n",
       "      <td>Blossom Point, MD, USA</td>\n",
       "      <td>38.4N</td>\n",
       "      <td>77.1W</td>\n",
       "    </tr>\n",
       "    <tr>\n",
       "      <th>266</th>\n",
       "      <td>NaN</td>\n",
       "      <td>1962-09-18 00:41:30</td>\n",
       "      <td>NaN</td>\n",
       "      <td>NaN</td>\n",
       "      <td>NaN</td>\n",
       "      <td>NaN</td>\n",
       "    </tr>\n",
       "    <tr>\n",
       "      <th>7425</th>\n",
       "      <td>50.0</td>\n",
       "      <td>1967-11-04 22:07:55</td>\n",
       "      <td>OTT</td>\n",
       "      <td>Ottawa, Canada</td>\n",
       "      <td>45.4N</td>\n",
       "      <td>75.7W</td>\n",
       "    </tr>\n",
       "    <tr>\n",
       "      <th>12154</th>\n",
       "      <td>5.0</td>\n",
       "      <td>1966-03-05 01:51:46</td>\n",
       "      <td>QUI</td>\n",
       "      <td>Quito, Ecuador</td>\n",
       "      <td>0.6S</td>\n",
       "      <td>78.6W</td>\n",
       "    </tr>\n",
       "    <tr>\n",
       "      <th>11793</th>\n",
       "      <td>1.0</td>\n",
       "      <td>1966-01-11 05:55:40</td>\n",
       "      <td>BPT</td>\n",
       "      <td>Blossom Point, MD, USA</td>\n",
       "      <td>38.4N</td>\n",
       "      <td>77.1W</td>\n",
       "    </tr>\n",
       "    <tr>\n",
       "      <th>8424</th>\n",
       "      <td>5.0</td>\n",
       "      <td>1966-06-14 11:53:45</td>\n",
       "      <td>QUI</td>\n",
       "      <td>Quito, Ecuador</td>\n",
       "      <td>0.6S</td>\n",
       "      <td>78.6W</td>\n",
       "    </tr>\n",
       "    <tr>\n",
       "      <th>8003</th>\n",
       "      <td>13.0</td>\n",
       "      <td>1966-06-03 10:15:27</td>\n",
       "      <td>COL</td>\n",
       "      <td>College, Fairbanks, AK, USA</td>\n",
       "      <td>64.9N</td>\n",
       "      <td>147.8W</td>\n",
       "    </tr>\n",
       "  </tbody>\n",
       "</table>\n",
       "</div>"
      ],
      "text/plain": [
       "       Station_Number           Timestamp Station_Code  \\\n",
       "6366             50.0 1967-03-27 16:05:44          OTT   \n",
       "7153             50.0 1967-09-28 04:31:44          OTT   \n",
       "14265             5.0 1965-10-16 04:37:51          QUI   \n",
       "13547             1.0 1966-02-24 01:35:27          BPT   \n",
       "266               NaN 1962-09-18 00:41:30          NaN   \n",
       "7425             50.0 1967-11-04 22:07:55          OTT   \n",
       "12154             5.0 1966-03-05 01:51:46          QUI   \n",
       "11793             1.0 1966-01-11 05:55:40          BPT   \n",
       "8424              5.0 1966-06-14 11:53:45          QUI   \n",
       "8003             13.0 1966-06-03 10:15:27          COL   \n",
       "\n",
       "                      Station_Name    Lat     Lng  \n",
       "6366                Ottawa, Canada  45.4N   75.7W  \n",
       "7153                Ottawa, Canada  45.4N   75.7W  \n",
       "14265               Quito, Ecuador   0.6S   78.6W  \n",
       "13547       Blossom Point, MD, USA  38.4N   77.1W  \n",
       "266                            NaN    NaN     NaN  \n",
       "7425                Ottawa, Canada  45.4N   75.7W  \n",
       "12154               Quito, Ecuador   0.6S   78.6W  \n",
       "11793       Blossom Point, MD, USA  38.4N   77.1W  \n",
       "8424                Quito, Ecuador   0.6S   78.6W  \n",
       "8003   College, Fairbanks, AK, USA  64.9N  147.8W  "
      ]
     },
     "execution_count": 96,
     "metadata": {},
     "output_type": "execute_result"
    }
   ],
   "source": [
    "df_result4 = df_result3.merge(df_stns[['Station_Code', 'Station_Name', 'Lat', 'Lng']], how='left', on='Station_Code')\n",
    "print(len(df_result4))\n",
    "df_result4[['Station_Number', 'Timestamp', 'Station_Code', 'Station_Name', 'Lat', 'Lng']].sample(10)"
   ]
  },
  {
   "cell_type": "markdown",
   "id": "66ca788a",
   "metadata": {},
   "source": [
    "#  "
   ]
  },
  {
   "cell_type": "markdown",
   "id": "3d73d024",
   "metadata": {},
   "source": [
    "#### Save Master:"
   ]
  },
  {
   "cell_type": "code",
   "execution_count": 97,
   "id": "69127924",
   "metadata": {},
   "outputs": [
    {
     "name": "stdout",
     "output_type": "stream",
     "text": [
      "13828\n"
     ]
    },
    {
     "data": {
      "text/html": [
       "<div>\n",
       "<style scoped>\n",
       "    .dataframe tbody tr th:only-of-type {\n",
       "        vertical-align: middle;\n",
       "    }\n",
       "\n",
       "    .dataframe tbody tr th {\n",
       "        vertical-align: top;\n",
       "    }\n",
       "\n",
       "    .dataframe thead th {\n",
       "        text-align: right;\n",
       "    }\n",
       "</style>\n",
       "<table border=\"1\" class=\"dataframe\">\n",
       "  <thead>\n",
       "    <tr style=\"text-align: right;\">\n",
       "      <th></th>\n",
       "      <th>Directory</th>\n",
       "      <th>Subdirectory</th>\n",
       "      <th>filename</th>\n",
       "      <th>processed_image_class</th>\n",
       "      <th>fmin</th>\n",
       "      <th>max_depth</th>\n",
       "      <th>Timestamp</th>\n",
       "      <th>time_quality</th>\n",
       "      <th>Station_Number</th>\n",
       "      <th>Station_Code</th>\n",
       "      <th>Station_Name</th>\n",
       "      <th>Lat</th>\n",
       "      <th>Lng</th>\n",
       "    </tr>\n",
       "  </thead>\n",
       "  <tbody>\n",
       "    <tr>\n",
       "      <th>3972</th>\n",
       "      <td>R014207828</td>\n",
       "      <td>4413-21A</td>\n",
       "      <td>242.png</td>\n",
       "      <td>num2</td>\n",
       "      <td>1.729839</td>\n",
       "      <td>1208.823529</td>\n",
       "      <td>1967-11-21 06:43:39</td>\n",
       "      <td>1.0</td>\n",
       "      <td>21.0</td>\n",
       "      <td>RAL</td>\n",
       "      <td>Orroral Valley, Australia</td>\n",
       "      <td>35.6S</td>\n",
       "      <td>149E</td>\n",
       "    </tr>\n",
       "    <tr>\n",
       "      <th>11556</th>\n",
       "      <td>R014207961</td>\n",
       "      <td>1077-B</td>\n",
       "      <td>262.png</td>\n",
       "      <td>num</td>\n",
       "      <td>1.500000</td>\n",
       "      <td>1428.846154</td>\n",
       "      <td>1965-10-20 00:23:37</td>\n",
       "      <td>1.0</td>\n",
       "      <td>7.0</td>\n",
       "      <td>QUI</td>\n",
       "      <td>Quito, Ecuador</td>\n",
       "      <td>0.6S</td>\n",
       "      <td>78.6W</td>\n",
       "    </tr>\n",
       "    <tr>\n",
       "      <th>7205</th>\n",
       "      <td>R014207839</td>\n",
       "      <td>4133-50A</td>\n",
       "      <td>180.png</td>\n",
       "      <td>num2</td>\n",
       "      <td>1.588710</td>\n",
       "      <td>969.387755</td>\n",
       "      <td>1967-07-31 03:29:10</td>\n",
       "      <td>1.0</td>\n",
       "      <td>50.0</td>\n",
       "      <td>OTT</td>\n",
       "      <td>Ottawa, Canada</td>\n",
       "      <td>45.4N</td>\n",
       "      <td>75.7W</td>\n",
       "    </tr>\n",
       "    <tr>\n",
       "      <th>9816</th>\n",
       "      <td>R014207950</td>\n",
       "      <td>2474-5-B</td>\n",
       "      <td>279.png</td>\n",
       "      <td>num</td>\n",
       "      <td>1.500000</td>\n",
       "      <td>1167.924528</td>\n",
       "      <td>1967-02-18 05:36:01</td>\n",
       "      <td>1.0</td>\n",
       "      <td>5.0</td>\n",
       "      <td>QUI</td>\n",
       "      <td>Quito, Ecuador</td>\n",
       "      <td>0.6S</td>\n",
       "      <td>78.6W</td>\n",
       "    </tr>\n",
       "    <tr>\n",
       "      <th>5134</th>\n",
       "      <td>R014207833</td>\n",
       "      <td>4378-15A</td>\n",
       "      <td>273.png</td>\n",
       "      <td>num2</td>\n",
       "      <td>1.512097</td>\n",
       "      <td>1104.000000</td>\n",
       "      <td>1967-12-03 13:51:27</td>\n",
       "      <td>1.0</td>\n",
       "      <td>15.0</td>\n",
       "      <td>WNK</td>\n",
       "      <td>Winkfield, England, UK</td>\n",
       "      <td>51.4N</td>\n",
       "      <td>0.4W</td>\n",
       "    </tr>\n",
       "    <tr>\n",
       "      <th>3812</th>\n",
       "      <td>R014207827</td>\n",
       "      <td>3790-13A</td>\n",
       "      <td>69.png</td>\n",
       "      <td>num2</td>\n",
       "      <td>1.500000</td>\n",
       "      <td>1376.595745</td>\n",
       "      <td>1966-09-22 21:54:17</td>\n",
       "      <td>1.0</td>\n",
       "      <td>13.0</td>\n",
       "      <td>COL</td>\n",
       "      <td>College, Fairbanks, AK, USA</td>\n",
       "      <td>64.9N</td>\n",
       "      <td>147.8W</td>\n",
       "    </tr>\n",
       "    <tr>\n",
       "      <th>2955</th>\n",
       "      <td>R014207817</td>\n",
       "      <td>4170-03A</td>\n",
       "      <td>250.png</td>\n",
       "      <td>num2</td>\n",
       "      <td>1.532258</td>\n",
       "      <td>977.551020</td>\n",
       "      <td>1967-04-24 12:09:16</td>\n",
       "      <td>1.0</td>\n",
       "      <td>3.0</td>\n",
       "      <td>FTM</td>\n",
       "      <td>Fort Myers, FL, USA</td>\n",
       "      <td>26.6N</td>\n",
       "      <td>81.9W</td>\n",
       "    </tr>\n",
       "    <tr>\n",
       "      <th>15064</th>\n",
       "      <td>R014207969</td>\n",
       "      <td>1291-13B</td>\n",
       "      <td>41.png</td>\n",
       "      <td>num</td>\n",
       "      <td>1.677419</td>\n",
       "      <td>1086.274510</td>\n",
       "      <td>1965-09-22 19:12:09</td>\n",
       "      <td>1.0</td>\n",
       "      <td>13.0</td>\n",
       "      <td>COL</td>\n",
       "      <td>College, Fairbanks, AK, USA</td>\n",
       "      <td>64.9N</td>\n",
       "      <td>147.8W</td>\n",
       "    </tr>\n",
       "    <tr>\n",
       "      <th>4767</th>\n",
       "      <td>R014207831</td>\n",
       "      <td>3932-43</td>\n",
       "      <td>220.png</td>\n",
       "      <td>num2</td>\n",
       "      <td>1.620968</td>\n",
       "      <td>1293.478261</td>\n",
       "      <td>1967-03-26 19:05:08</td>\n",
       "      <td>1.0</td>\n",
       "      <td>43.0</td>\n",
       "      <td>RES</td>\n",
       "      <td>Resolute Bay, NT, Canada</td>\n",
       "      <td>74.7N</td>\n",
       "      <td>95W</td>\n",
       "    </tr>\n",
       "    <tr>\n",
       "      <th>7865</th>\n",
       "      <td>R014207941</td>\n",
       "      <td>1759-18</td>\n",
       "      <td>252.png</td>\n",
       "      <td>num</td>\n",
       "      <td>1.552419</td>\n",
       "      <td>1430.769231</td>\n",
       "      <td>1966-05-20 14:19:49</td>\n",
       "      <td>1.0</td>\n",
       "      <td>18.0</td>\n",
       "      <td>WOO</td>\n",
       "      <td>Woomera, Australia</td>\n",
       "      <td>31.1S</td>\n",
       "      <td>136.8E</td>\n",
       "    </tr>\n",
       "  </tbody>\n",
       "</table>\n",
       "</div>"
      ],
      "text/plain": [
       "        Directory Subdirectory filename processed_image_class      fmin  \\\n",
       "3972   R014207828     4413-21A  242.png                  num2  1.729839   \n",
       "11556  R014207961       1077-B  262.png                   num  1.500000   \n",
       "7205   R014207839     4133-50A  180.png                  num2  1.588710   \n",
       "9816   R014207950     2474-5-B  279.png                   num  1.500000   \n",
       "5134   R014207833     4378-15A  273.png                  num2  1.512097   \n",
       "3812   R014207827     3790-13A   69.png                  num2  1.500000   \n",
       "2955   R014207817     4170-03A  250.png                  num2  1.532258   \n",
       "15064  R014207969     1291-13B   41.png                   num  1.677419   \n",
       "4767   R014207831      3932-43  220.png                  num2  1.620968   \n",
       "7865   R014207941      1759-18  252.png                   num  1.552419   \n",
       "\n",
       "         max_depth           Timestamp  time_quality  Station_Number  \\\n",
       "3972   1208.823529 1967-11-21 06:43:39           1.0            21.0   \n",
       "11556  1428.846154 1965-10-20 00:23:37           1.0             7.0   \n",
       "7205    969.387755 1967-07-31 03:29:10           1.0            50.0   \n",
       "9816   1167.924528 1967-02-18 05:36:01           1.0             5.0   \n",
       "5134   1104.000000 1967-12-03 13:51:27           1.0            15.0   \n",
       "3812   1376.595745 1966-09-22 21:54:17           1.0            13.0   \n",
       "2955    977.551020 1967-04-24 12:09:16           1.0             3.0   \n",
       "15064  1086.274510 1965-09-22 19:12:09           1.0            13.0   \n",
       "4767   1293.478261 1967-03-26 19:05:08           1.0            43.0   \n",
       "7865   1430.769231 1966-05-20 14:19:49           1.0            18.0   \n",
       "\n",
       "      Station_Code                 Station_Name    Lat     Lng  \n",
       "3972           RAL    Orroral Valley, Australia  35.6S    149E  \n",
       "11556          QUI               Quito, Ecuador   0.6S   78.6W  \n",
       "7205           OTT               Ottawa, Canada  45.4N   75.7W  \n",
       "9816           QUI               Quito, Ecuador   0.6S   78.6W  \n",
       "5134           WNK       Winkfield, England, UK  51.4N    0.4W  \n",
       "3812           COL  College, Fairbanks, AK, USA  64.9N  147.8W  \n",
       "2955           FTM          Fort Myers, FL, USA  26.6N   81.9W  \n",
       "15064          COL  College, Fairbanks, AK, USA  64.9N  147.8W  \n",
       "4767           RES     Resolute Bay, NT, Canada  74.7N     95W  \n",
       "7865           WOO           Woomera, Australia  31.1S  136.8E  "
      ]
     },
     "execution_count": 97,
     "metadata": {},
     "output_type": "execute_result"
    }
   ],
   "source": [
    "df_result5 = df_result4[~pd.isna(df_result4['Station_Code'])]\n",
    "df_result5 = df_result5[['Directory', 'Subdirectory', 'filename', 'processed_image_class', 'fmin', 'max_depth', 'Timestamp',\n",
    "                         'time_quality', 'Station_Number', 'Station_Code', 'Station_Name', 'Lat', 'Lng']]\n",
    "print(len(df_result5))\n",
    "df_result5.sample(10)"
   ]
  },
  {
   "cell_type": "code",
   "execution_count": 98,
   "id": "6dbcb77c",
   "metadata": {},
   "outputs": [],
   "source": [
    "df_result5 = df_result5.sort_values('Timestamp').reset_index(drop=True)\n",
    "df_result5.to_csv(resultDir + 'result_master.csv', index=False)"
   ]
  },
  {
   "cell_type": "code",
   "execution_count": null,
   "id": "6d7e2a0e",
   "metadata": {},
   "outputs": [],
   "source": []
  }
 ],
 "metadata": {
  "kernelspec": {
   "display_name": "Python 3 (ipykernel)",
   "language": "python",
   "name": "python3"
  },
  "language_info": {
   "codemirror_mode": {
    "name": "ipython",
    "version": 3
   },
   "file_extension": ".py",
   "mimetype": "text/x-python",
   "name": "python",
   "nbconvert_exporter": "python",
   "pygments_lexer": "ipython3",
   "version": "3.8.16"
  }
 },
 "nbformat": 4,
 "nbformat_minor": 5
}

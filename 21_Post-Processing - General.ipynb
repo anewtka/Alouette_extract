{
 "cells": [
  {
   "cell_type": "markdown",
   "id": "0cc96bbd",
   "metadata": {},
   "source": [
    "# Post-Processing (General)\n",
    "\n",
    "#### Updated: May 16, 2023"
   ]
  },
  {
   "cell_type": "markdown",
   "id": "aae7fdc8",
   "metadata": {},
   "source": [
    "#  "
   ]
  },
  {
   "cell_type": "markdown",
   "id": "6dcab44c",
   "metadata": {},
   "source": [
    "Post-processing pipeline after subdirectories are OCR processed:"
   ]
  },
  {
   "cell_type": "code",
   "execution_count": 1,
   "id": "43814246",
   "metadata": {},
   "outputs": [],
   "source": [
    "import os\n",
    "import numpy as np\n",
    "import pandas as pd\n",
    "import seaborn as sns"
   ]
  },
  {
   "cell_type": "code",
   "execution_count": 2,
   "id": "d2634864",
   "metadata": {},
   "outputs": [],
   "source": [
    "rootDir = 'L:/DATA/Alouette_I/BATCH_II_Run2/'\n",
    "processedDir = rootDir + '04_processed/'\n",
    "resultDir = rootDir + '05_result/'\n",
    "logDir = rootDir + '06_log/'"
   ]
  },
  {
   "cell_type": "markdown",
   "id": "26eb6bfd",
   "metadata": {},
   "source": [
    "#  "
   ]
  },
  {
   "cell_type": "markdown",
   "id": "3aef6def",
   "metadata": {},
   "source": [
    "#### Generate processed_inventory - RUN BEFORE starting OCR process step:"
   ]
  },
  {
   "cell_type": "code",
   "execution_count": 3,
   "id": "5c3d24d3",
   "metadata": {
    "scrolled": true
   },
   "outputs": [
    {
     "name": "stdout",
     "output_type": "stream",
     "text": [
      "R014207711\n",
      "R014207807\n",
      "R014207808\n",
      "R014207810\n",
      "R014207811\n",
      "R014207813\n",
      "R014207817\n",
      "R014207818\n",
      "R014207819\n",
      "R014207820\n",
      "R014207822\n",
      "R014207825\n",
      "R014207826\n",
      "R014207827\n",
      "R014207828\n",
      "R014207829\n",
      "R014207830\n",
      "R014207831\n",
      "R014207833\n",
      "R014207834\n",
      "R014207835\n",
      "R014207836\n",
      "R014207837\n",
      "R014207838\n",
      "R014207839\n",
      "R014207843\n",
      "R014207886\n",
      "R014207892\n",
      "R014207941\n",
      "R014207944\n",
      "R014207945\n",
      "R014207950\n",
      "R014207952\n",
      "R014207961\n",
      "R014207963\n",
      "R014207969\n",
      "R028224481\n"
     ]
    }
   ],
   "source": [
    "df_inventory = pd.DataFrame()\n",
    "for directory in os.listdir(processedDir):\n",
    "    print(directory)\n",
    "    for subdirectory in os.listdir(processedDir + directory):\n",
    "        n_images = len(os.listdir(processedDir + directory + '/' + subdirectory))\n",
    "        df_inventory_ = pd.DataFrame({\n",
    "            'Directory': directory, \n",
    "            'Subdirectory': subdirectory,\n",
    "            'images': n_images,\n",
    "            'subdir_id': directory + '_' + subdirectory\n",
    "        }, index=[0])\n",
    "        df_inventory = pd.concat([df_inventory, df_inventory_], axis=0, ignore_index=True)"
   ]
  },
  {
   "cell_type": "code",
   "execution_count": 4,
   "id": "93a6a6bc",
   "metadata": {},
   "outputs": [
    {
     "name": "stdout",
     "output_type": "stream",
     "text": [
      "1977\n"
     ]
    },
    {
     "data": {
      "text/html": [
       "<div>\n",
       "<style scoped>\n",
       "    .dataframe tbody tr th:only-of-type {\n",
       "        vertical-align: middle;\n",
       "    }\n",
       "\n",
       "    .dataframe tbody tr th {\n",
       "        vertical-align: top;\n",
       "    }\n",
       "\n",
       "    .dataframe thead th {\n",
       "        text-align: right;\n",
       "    }\n",
       "</style>\n",
       "<table border=\"1\" class=\"dataframe\">\n",
       "  <thead>\n",
       "    <tr style=\"text-align: right;\">\n",
       "      <th></th>\n",
       "      <th>Directory</th>\n",
       "      <th>Subdirectory</th>\n",
       "      <th>images</th>\n",
       "      <th>subdir_id</th>\n",
       "    </tr>\n",
       "  </thead>\n",
       "  <tbody>\n",
       "    <tr>\n",
       "      <th>0</th>\n",
       "      <td>R014207711</td>\n",
       "      <td>24</td>\n",
       "      <td>256</td>\n",
       "      <td>R014207711_24</td>\n",
       "    </tr>\n",
       "    <tr>\n",
       "      <th>1</th>\n",
       "      <td>R014207711</td>\n",
       "      <td>25</td>\n",
       "      <td>499</td>\n",
       "      <td>R014207711_25</td>\n",
       "    </tr>\n",
       "    <tr>\n",
       "      <th>2</th>\n",
       "      <td>R014207711</td>\n",
       "      <td>27</td>\n",
       "      <td>96</td>\n",
       "      <td>R014207711_27</td>\n",
       "    </tr>\n",
       "    <tr>\n",
       "      <th>3</th>\n",
       "      <td>R014207711</td>\n",
       "      <td>28</td>\n",
       "      <td>103</td>\n",
       "      <td>R014207711_28</td>\n",
       "    </tr>\n",
       "    <tr>\n",
       "      <th>4</th>\n",
       "      <td>R014207711</td>\n",
       "      <td>29</td>\n",
       "      <td>341</td>\n",
       "      <td>R014207711_29</td>\n",
       "    </tr>\n",
       "  </tbody>\n",
       "</table>\n",
       "</div>"
      ],
      "text/plain": [
       "    Directory Subdirectory  images      subdir_id\n",
       "0  R014207711           24     256  R014207711_24\n",
       "1  R014207711           25     499  R014207711_25\n",
       "2  R014207711           27      96  R014207711_27\n",
       "3  R014207711           28     103  R014207711_28\n",
       "4  R014207711           29     341  R014207711_29"
      ]
     },
     "execution_count": 4,
     "metadata": {},
     "output_type": "execute_result"
    }
   ],
   "source": [
    "print(len(df_inventory))\n",
    "df_inventory.head()"
   ]
  },
  {
   "cell_type": "code",
   "execution_count": 5,
   "id": "08f197ea",
   "metadata": {},
   "outputs": [],
   "source": [
    "df_inventory.to_csv(logDir + 'image_inventory_processed.csv', index=False)"
   ]
  },
  {
   "cell_type": "markdown",
   "id": "2157a0ae",
   "metadata": {},
   "source": [
    "#  "
   ]
  },
  {
   "cell_type": "markdown",
   "id": "e34e963a",
   "metadata": {},
   "source": [
    "#### Concatenate 'OCR pass' results - START HERE after OCR processing step:"
   ]
  },
  {
   "cell_type": "code",
   "execution_count": 3,
   "id": "098dab53",
   "metadata": {},
   "outputs": [],
   "source": [
    "df_result = pd.DataFrame()\n",
    "i = 0\n",
    "for file in os.listdir(resultDir):\n",
    "    if 'R' in file:\n",
    "        directory = file\n",
    "        for file2 in os.listdir(resultDir + directory + '/'):\n",
    "            if 'result_OCRpass' in file2:\n",
    "                fn_parts = file2.split('_')\n",
    "                subdirectory = fn_parts[2].replace('.csv', '')\n",
    "                if i > 0:\n",
    "                    if i % 100 == 0:\n",
    "                        df_result = pd.read_csv(resultDir + 'result_total.csv')\n",
    "                        print(len(df_result))\n",
    "                try:\n",
    "                    df_load = pd.read_csv(resultDir + directory + '/' + file2, sep=',')\n",
    "                    n = len(df_load)\n",
    "                except pd.errors.EmptyDataError:\n",
    "                    n = 0\n",
    "                df_result = pd.concat([df_result, df_load])\n",
    "                i += 1\n",
    "                if i % 100 == 0:\n",
    "                    print('Now saving the ' + str(i) + 'th result...')\n",
    "                    df_result.to_csv(resultDir + 'result_total.csv', index=False)\n",
    "df_result.to_csv(resultDir + 'result_total.csv', index=False)"
   ]
  },
  {
   "cell_type": "markdown",
   "id": "9b20c903",
   "metadata": {},
   "source": [
    "#  "
   ]
  },
  {
   "cell_type": "markdown",
   "id": "d44163b2",
   "metadata": {},
   "source": [
    "#### Reduce columns:"
   ]
  },
  {
   "cell_type": "code",
   "execution_count": 4,
   "id": "2219830e",
   "metadata": {},
   "outputs": [
    {
     "name": "stderr",
     "output_type": "stream",
     "text": [
      "C:\\Users\\rnaidoo\\AppData\\Local\\Temp\\ipykernel_22416\\4288959191.py:1: DtypeWarning: Columns (38,39,40,41,42,43) have mixed types. Specify dtype option on import or set low_memory=False.\n",
      "  df_result = pd.read_csv(resultDir + 'result_total.csv')\n"
     ]
    },
    {
     "name": "stdout",
     "output_type": "stream",
     "text": [
      "20944\n"
     ]
    },
    {
     "data": {
      "text/html": [
       "<div>\n",
       "<style scoped>\n",
       "    .dataframe tbody tr th:only-of-type {\n",
       "        vertical-align: middle;\n",
       "    }\n",
       "\n",
       "    .dataframe tbody tr th {\n",
       "        vertical-align: top;\n",
       "    }\n",
       "\n",
       "    .dataframe thead th {\n",
       "        text-align: right;\n",
       "    }\n",
       "</style>\n",
       "<table border=\"1\" class=\"dataframe\">\n",
       "  <thead>\n",
       "    <tr style=\"text-align: right;\">\n",
       "      <th></th>\n",
       "      <th>fmin</th>\n",
       "      <th>max_depth</th>\n",
       "      <th>satellite_number</th>\n",
       "      <th>year</th>\n",
       "      <th>day_1</th>\n",
       "      <th>day_2</th>\n",
       "      <th>day_3</th>\n",
       "      <th>hour_1</th>\n",
       "      <th>hour_2</th>\n",
       "      <th>minute_1</th>\n",
       "      <th>...</th>\n",
       "      <th>filename</th>\n",
       "      <th>station_code</th>\n",
       "      <th>station_number</th>\n",
       "      <th>rotated_metadata</th>\n",
       "      <th>station_number_OCR</th>\n",
       "      <th>year_OCR</th>\n",
       "      <th>day_of_year_OCR</th>\n",
       "      <th>hour_OCR</th>\n",
       "      <th>minute_OCR</th>\n",
       "      <th>second_OCR</th>\n",
       "    </tr>\n",
       "  </thead>\n",
       "  <tbody>\n",
       "    <tr>\n",
       "      <th>0</th>\n",
       "      <td>1.500000</td>\n",
       "      <td>2046.875</td>\n",
       "      <td>0.0</td>\n",
       "      <td>0.0</td>\n",
       "      <td>4.0</td>\n",
       "      <td>0.0</td>\n",
       "      <td>2.0</td>\n",
       "      <td>2.0</td>\n",
       "      <td>2.0</td>\n",
       "      <td>2.0</td>\n",
       "      <td>...</td>\n",
       "      <td>70.png</td>\n",
       "      <td>NaN</td>\n",
       "      <td>NaN</td>\n",
       "      <td>NaN</td>\n",
       "      <td>NaN</td>\n",
       "      <td>NaN</td>\n",
       "      <td>NaN</td>\n",
       "      <td>NaN</td>\n",
       "      <td>NaN</td>\n",
       "      <td>NaN</td>\n",
       "    </tr>\n",
       "    <tr>\n",
       "      <th>1</th>\n",
       "      <td>1.500000</td>\n",
       "      <td>2125.000</td>\n",
       "      <td>0.0</td>\n",
       "      <td>0.0</td>\n",
       "      <td>2.0</td>\n",
       "      <td>2.0</td>\n",
       "      <td>2.0</td>\n",
       "      <td>0.0</td>\n",
       "      <td>4.0</td>\n",
       "      <td>2.0</td>\n",
       "      <td>...</td>\n",
       "      <td>71.png</td>\n",
       "      <td>NaN</td>\n",
       "      <td>NaN</td>\n",
       "      <td>NaN</td>\n",
       "      <td>NaN</td>\n",
       "      <td>NaN</td>\n",
       "      <td>NaN</td>\n",
       "      <td>NaN</td>\n",
       "      <td>NaN</td>\n",
       "      <td>NaN</td>\n",
       "    </tr>\n",
       "    <tr>\n",
       "      <th>2</th>\n",
       "      <td>6.555556</td>\n",
       "      <td>562.500</td>\n",
       "      <td>7.0</td>\n",
       "      <td>0.0</td>\n",
       "      <td>4.0</td>\n",
       "      <td>4.0</td>\n",
       "      <td>4.0</td>\n",
       "      <td>4.0</td>\n",
       "      <td>4.0</td>\n",
       "      <td>4.0</td>\n",
       "      <td>...</td>\n",
       "      <td>91.png</td>\n",
       "      <td>NaN</td>\n",
       "      <td>NaN</td>\n",
       "      <td>NaN</td>\n",
       "      <td>NaN</td>\n",
       "      <td>NaN</td>\n",
       "      <td>NaN</td>\n",
       "      <td>NaN</td>\n",
       "      <td>NaN</td>\n",
       "      <td>NaN</td>\n",
       "    </tr>\n",
       "    <tr>\n",
       "      <th>3</th>\n",
       "      <td>2.459677</td>\n",
       "      <td>2046.875</td>\n",
       "      <td>11.0</td>\n",
       "      <td>2.0</td>\n",
       "      <td>10.0</td>\n",
       "      <td>1.0</td>\n",
       "      <td>0.0</td>\n",
       "      <td>4.0</td>\n",
       "      <td>4.0</td>\n",
       "      <td>4.0</td>\n",
       "      <td>...</td>\n",
       "      <td>92.png</td>\n",
       "      <td>NaN</td>\n",
       "      <td>NaN</td>\n",
       "      <td>NaN</td>\n",
       "      <td>NaN</td>\n",
       "      <td>NaN</td>\n",
       "      <td>NaN</td>\n",
       "      <td>NaN</td>\n",
       "      <td>NaN</td>\n",
       "      <td>NaN</td>\n",
       "    </tr>\n",
       "    <tr>\n",
       "      <th>4</th>\n",
       "      <td>1.500000</td>\n",
       "      <td>2281.250</td>\n",
       "      <td>0.0</td>\n",
       "      <td>0.0</td>\n",
       "      <td>8.0</td>\n",
       "      <td>0.0</td>\n",
       "      <td>4.0</td>\n",
       "      <td>4.0</td>\n",
       "      <td>4.0</td>\n",
       "      <td>4.0</td>\n",
       "      <td>...</td>\n",
       "      <td>93.png</td>\n",
       "      <td>NaN</td>\n",
       "      <td>NaN</td>\n",
       "      <td>NaN</td>\n",
       "      <td>NaN</td>\n",
       "      <td>NaN</td>\n",
       "      <td>NaN</td>\n",
       "      <td>NaN</td>\n",
       "      <td>NaN</td>\n",
       "      <td>NaN</td>\n",
       "    </tr>\n",
       "  </tbody>\n",
       "</table>\n",
       "<p>5 rows × 44 columns</p>\n",
       "</div>"
      ],
      "text/plain": [
       "       fmin  max_depth  satellite_number  year  day_1  day_2  day_3  hour_1  \\\n",
       "0  1.500000   2046.875               0.0   0.0    4.0    0.0    2.0     2.0   \n",
       "1  1.500000   2125.000               0.0   0.0    2.0    2.0    2.0     0.0   \n",
       "2  6.555556    562.500               7.0   0.0    4.0    4.0    4.0     4.0   \n",
       "3  2.459677   2046.875              11.0   2.0   10.0    1.0    0.0     4.0   \n",
       "4  1.500000   2281.250               0.0   0.0    8.0    0.0    4.0     4.0   \n",
       "\n",
       "   hour_2  minute_1  ...  filename  station_code  station_number  \\\n",
       "0     2.0       2.0  ...    70.png           NaN             NaN   \n",
       "1     4.0       2.0  ...    71.png           NaN             NaN   \n",
       "2     4.0       4.0  ...    91.png           NaN             NaN   \n",
       "3     4.0       4.0  ...    92.png           NaN             NaN   \n",
       "4     4.0       4.0  ...    93.png           NaN             NaN   \n",
       "\n",
       "   rotated_metadata  station_number_OCR year_OCR day_of_year_OCR hour_OCR  \\\n",
       "0               NaN                 NaN      NaN             NaN      NaN   \n",
       "1               NaN                 NaN      NaN             NaN      NaN   \n",
       "2               NaN                 NaN      NaN             NaN      NaN   \n",
       "3               NaN                 NaN      NaN             NaN      NaN   \n",
       "4               NaN                 NaN      NaN             NaN      NaN   \n",
       "\n",
       "   minute_OCR  second_OCR  \n",
       "0         NaN         NaN  \n",
       "1         NaN         NaN  \n",
       "2         NaN         NaN  \n",
       "3         NaN         NaN  \n",
       "4         NaN         NaN  \n",
       "\n",
       "[5 rows x 44 columns]"
      ]
     },
     "execution_count": 4,
     "metadata": {},
     "output_type": "execute_result"
    }
   ],
   "source": [
    "df_result = pd.read_csv(resultDir + 'result_total.csv')\n",
    "print(len(df_result))\n",
    "df_result.head()"
   ]
  },
  {
   "cell_type": "code",
   "execution_count": 5,
   "id": "801907a3",
   "metadata": {},
   "outputs": [
    {
     "data": {
      "text/html": [
       "<div>\n",
       "<style scoped>\n",
       "    .dataframe tbody tr th:only-of-type {\n",
       "        vertical-align: middle;\n",
       "    }\n",
       "\n",
       "    .dataframe tbody tr th {\n",
       "        vertical-align: top;\n",
       "    }\n",
       "\n",
       "    .dataframe thead th {\n",
       "        text-align: right;\n",
       "    }\n",
       "</style>\n",
       "<table border=\"1\" class=\"dataframe\">\n",
       "  <thead>\n",
       "    <tr style=\"text-align: right;\">\n",
       "      <th></th>\n",
       "      <th>Directory</th>\n",
       "      <th>Subdirectory</th>\n",
       "      <th>filename</th>\n",
       "      <th>processed_image_class</th>\n",
       "      <th>fmin</th>\n",
       "      <th>max_depth</th>\n",
       "      <th>station_number</th>\n",
       "      <th>station_number_1</th>\n",
       "      <th>station_number_2</th>\n",
       "      <th>year_1</th>\n",
       "      <th>...</th>\n",
       "      <th>station_number_OCR</th>\n",
       "      <th>year_OCR</th>\n",
       "      <th>day_of_year_OCR</th>\n",
       "      <th>hour_OCR</th>\n",
       "      <th>minute_OCR</th>\n",
       "      <th>second_OCR</th>\n",
       "      <th>metadata_type</th>\n",
       "      <th>is_dot</th>\n",
       "      <th>func_name</th>\n",
       "      <th>details</th>\n",
       "    </tr>\n",
       "  </thead>\n",
       "  <tbody>\n",
       "    <tr>\n",
       "      <th>11812</th>\n",
       "      <td>R014207837</td>\n",
       "      <td>3979-50A</td>\n",
       "      <td>103.png</td>\n",
       "      <td>loss</td>\n",
       "      <td>1.729839</td>\n",
       "      <td>1427.659574</td>\n",
       "      <td>NaN</td>\n",
       "      <td>NaN</td>\n",
       "      <td>NaN</td>\n",
       "      <td>NaN</td>\n",
       "      <td>...</td>\n",
       "      <td>s0</td>\n",
       "      <td>61</td>\n",
       "      <td>091</td>\n",
       "      <td>15</td>\n",
       "      <td>47</td>\n",
       "      <td>a5</td>\n",
       "      <td>NaN</td>\n",
       "      <td>NaN</td>\n",
       "      <td>NaN</td>\n",
       "      <td>OCR read metadata contains letters</td>\n",
       "    </tr>\n",
       "    <tr>\n",
       "      <th>19899</th>\n",
       "      <td>R014207963</td>\n",
       "      <td>1548-1B</td>\n",
       "      <td>50.png</td>\n",
       "      <td>num</td>\n",
       "      <td>1.737903</td>\n",
       "      <td>1292.000000</td>\n",
       "      <td>NaN</td>\n",
       "      <td>0.0</td>\n",
       "      <td>1.0</td>\n",
       "      <td>4.0</td>\n",
       "      <td>...</td>\n",
       "      <td>NaN</td>\n",
       "      <td>NaN</td>\n",
       "      <td>NaN</td>\n",
       "      <td>NaN</td>\n",
       "      <td>NaN</td>\n",
       "      <td>NaN</td>\n",
       "      <td>NaN</td>\n",
       "      <td>NaN</td>\n",
       "      <td>NaN</td>\n",
       "      <td>NaN</td>\n",
       "    </tr>\n",
       "    <tr>\n",
       "      <th>3803</th>\n",
       "      <td>R014207811</td>\n",
       "      <td>5095</td>\n",
       "      <td>186.png</td>\n",
       "      <td>loss</td>\n",
       "      <td>NaN</td>\n",
       "      <td>NaN</td>\n",
       "      <td>NaN</td>\n",
       "      <td>NaN</td>\n",
       "      <td>NaN</td>\n",
       "      <td>NaN</td>\n",
       "      <td>...</td>\n",
       "      <td>NaN</td>\n",
       "      <td>NaN</td>\n",
       "      <td>NaN</td>\n",
       "      <td>NaN</td>\n",
       "      <td>NaN</td>\n",
       "      <td>NaN</td>\n",
       "      <td>NaN</td>\n",
       "      <td>NaN</td>\n",
       "      <td>ionogram_content_extraction.extract_select_par...</td>\n",
       "      <td>NaN</td>\n",
       "    </tr>\n",
       "    <tr>\n",
       "      <th>16076</th>\n",
       "      <td>R014207944</td>\n",
       "      <td>2027-13B</td>\n",
       "      <td>39.png</td>\n",
       "      <td>num</td>\n",
       "      <td>1.677419</td>\n",
       "      <td>1288.461538</td>\n",
       "      <td>NaN</td>\n",
       "      <td>3.0</td>\n",
       "      <td>0.0</td>\n",
       "      <td>2.0</td>\n",
       "      <td>...</td>\n",
       "      <td>NaN</td>\n",
       "      <td>NaN</td>\n",
       "      <td>NaN</td>\n",
       "      <td>NaN</td>\n",
       "      <td>NaN</td>\n",
       "      <td>NaN</td>\n",
       "      <td>NaN</td>\n",
       "      <td>NaN</td>\n",
       "      <td>NaN</td>\n",
       "      <td>NaN</td>\n",
       "    </tr>\n",
       "    <tr>\n",
       "      <th>9044</th>\n",
       "      <td>R014207829</td>\n",
       "      <td>4322-8</td>\n",
       "      <td>275.png</td>\n",
       "      <td>loss</td>\n",
       "      <td>1.504032</td>\n",
       "      <td>1245.714286</td>\n",
       "      <td>NaN</td>\n",
       "      <td>NaN</td>\n",
       "      <td>NaN</td>\n",
       "      <td>NaN</td>\n",
       "      <td>...</td>\n",
       "      <td>06</td>\n",
       "      <td>64</td>\n",
       "      <td>294</td>\n",
       "      <td>0n</td>\n",
       "      <td>35</td>\n",
       "      <td>57</td>\n",
       "      <td>bottom</td>\n",
       "      <td>True</td>\n",
       "      <td>NaN</td>\n",
       "      <td>OCR read metadata contains letters</td>\n",
       "    </tr>\n",
       "    <tr>\n",
       "      <th>20886</th>\n",
       "      <td>R028224481</td>\n",
       "      <td>4927</td>\n",
       "      <td>34.png</td>\n",
       "      <td>loss</td>\n",
       "      <td>1.500000</td>\n",
       "      <td>931.818182</td>\n",
       "      <td>NaN</td>\n",
       "      <td>NaN</td>\n",
       "      <td>NaN</td>\n",
       "      <td>NaN</td>\n",
       "      <td>...</td>\n",
       "      <td>NaN</td>\n",
       "      <td>NaN</td>\n",
       "      <td>NaN</td>\n",
       "      <td>NaN</td>\n",
       "      <td>NaN</td>\n",
       "      <td>NaN</td>\n",
       "      <td>bottom</td>\n",
       "      <td>True</td>\n",
       "      <td>NaN</td>\n",
       "      <td>NaN</td>\n",
       "    </tr>\n",
       "    <tr>\n",
       "      <th>6531</th>\n",
       "      <td>R014207822</td>\n",
       "      <td>3473-19A-2</td>\n",
       "      <td>69.png</td>\n",
       "      <td>num</td>\n",
       "      <td>1.500000</td>\n",
       "      <td>1017.391304</td>\n",
       "      <td>NaN</td>\n",
       "      <td>2.0</td>\n",
       "      <td>4.0</td>\n",
       "      <td>2.0</td>\n",
       "      <td>...</td>\n",
       "      <td>NaN</td>\n",
       "      <td>NaN</td>\n",
       "      <td>NaN</td>\n",
       "      <td>NaN</td>\n",
       "      <td>NaN</td>\n",
       "      <td>NaN</td>\n",
       "      <td>NaN</td>\n",
       "      <td>NaN</td>\n",
       "      <td>NaN</td>\n",
       "      <td>NaN</td>\n",
       "    </tr>\n",
       "    <tr>\n",
       "      <th>3745</th>\n",
       "      <td>R014207811</td>\n",
       "      <td>5095</td>\n",
       "      <td>50.png</td>\n",
       "      <td>loss</td>\n",
       "      <td>NaN</td>\n",
       "      <td>NaN</td>\n",
       "      <td>NaN</td>\n",
       "      <td>NaN</td>\n",
       "      <td>NaN</td>\n",
       "      <td>NaN</td>\n",
       "      <td>...</td>\n",
       "      <td>NaN</td>\n",
       "      <td>NaN</td>\n",
       "      <td>NaN</td>\n",
       "      <td>NaN</td>\n",
       "      <td>NaN</td>\n",
       "      <td>NaN</td>\n",
       "      <td>NaN</td>\n",
       "      <td>NaN</td>\n",
       "      <td>metadata_translation.determine_leftside_metada...</td>\n",
       "      <td>NaN</td>\n",
       "    </tr>\n",
       "    <tr>\n",
       "      <th>12779</th>\n",
       "      <td>R014207838</td>\n",
       "      <td>4557-50-2</td>\n",
       "      <td>151.png</td>\n",
       "      <td>loss</td>\n",
       "      <td>1.500000</td>\n",
       "      <td>978.000000</td>\n",
       "      <td>NaN</td>\n",
       "      <td>NaN</td>\n",
       "      <td>NaN</td>\n",
       "      <td>NaN</td>\n",
       "      <td>...</td>\n",
       "      <td>NaN</td>\n",
       "      <td>NaN</td>\n",
       "      <td>NaN</td>\n",
       "      <td>NaN</td>\n",
       "      <td>NaN</td>\n",
       "      <td>NaN</td>\n",
       "      <td>NaN</td>\n",
       "      <td>NaN</td>\n",
       "      <td>NaN</td>\n",
       "      <td>metadata could not be read by OCR</td>\n",
       "    </tr>\n",
       "    <tr>\n",
       "      <th>3985</th>\n",
       "      <td>R014207813</td>\n",
       "      <td>5004</td>\n",
       "      <td>246.png</td>\n",
       "      <td>loss</td>\n",
       "      <td>4.216981</td>\n",
       "      <td>1453.333333</td>\n",
       "      <td>NaN</td>\n",
       "      <td>NaN</td>\n",
       "      <td>NaN</td>\n",
       "      <td>NaN</td>\n",
       "      <td>...</td>\n",
       "      <td>NaN</td>\n",
       "      <td>NaN</td>\n",
       "      <td>NaN</td>\n",
       "      <td>NaN</td>\n",
       "      <td>NaN</td>\n",
       "      <td>NaN</td>\n",
       "      <td>bottom</td>\n",
       "      <td>True</td>\n",
       "      <td>NaN</td>\n",
       "      <td>NaN</td>\n",
       "    </tr>\n",
       "  </tbody>\n",
       "</table>\n",
       "<p>10 rows × 30 columns</p>\n",
       "</div>"
      ],
      "text/plain": [
       "        Directory Subdirectory filename processed_image_class      fmin  \\\n",
       "11812  R014207837     3979-50A  103.png                  loss  1.729839   \n",
       "19899  R014207963      1548-1B   50.png                   num  1.737903   \n",
       "3803   R014207811         5095  186.png                  loss       NaN   \n",
       "16076  R014207944     2027-13B   39.png                   num  1.677419   \n",
       "9044   R014207829       4322-8  275.png                  loss  1.504032   \n",
       "20886  R028224481         4927   34.png                  loss  1.500000   \n",
       "6531   R014207822   3473-19A-2   69.png                   num  1.500000   \n",
       "3745   R014207811         5095   50.png                  loss       NaN   \n",
       "12779  R014207838    4557-50-2  151.png                  loss  1.500000   \n",
       "3985   R014207813         5004  246.png                  loss  4.216981   \n",
       "\n",
       "         max_depth  station_number  station_number_1  station_number_2  \\\n",
       "11812  1427.659574             NaN               NaN               NaN   \n",
       "19899  1292.000000             NaN               0.0               1.0   \n",
       "3803           NaN             NaN               NaN               NaN   \n",
       "16076  1288.461538             NaN               3.0               0.0   \n",
       "9044   1245.714286             NaN               NaN               NaN   \n",
       "20886   931.818182             NaN               NaN               NaN   \n",
       "6531   1017.391304             NaN               2.0               4.0   \n",
       "3745           NaN             NaN               NaN               NaN   \n",
       "12779   978.000000             NaN               NaN               NaN   \n",
       "3985   1453.333333             NaN               NaN               NaN   \n",
       "\n",
       "       year_1  ...  station_number_OCR  year_OCR  day_of_year_OCR  hour_OCR  \\\n",
       "11812     NaN  ...                  s0        61              091        15   \n",
       "19899     4.0  ...                 NaN       NaN              NaN       NaN   \n",
       "3803      NaN  ...                 NaN       NaN              NaN       NaN   \n",
       "16076     2.0  ...                 NaN       NaN              NaN       NaN   \n",
       "9044      NaN  ...                  06        64              294        0n   \n",
       "20886     NaN  ...                 NaN       NaN              NaN       NaN   \n",
       "6531      2.0  ...                 NaN       NaN              NaN       NaN   \n",
       "3745      NaN  ...                 NaN       NaN              NaN       NaN   \n",
       "12779     NaN  ...                 NaN       NaN              NaN       NaN   \n",
       "3985      NaN  ...                 NaN       NaN              NaN       NaN   \n",
       "\n",
       "       minute_OCR  second_OCR  metadata_type  is_dot  \\\n",
       "11812          47          a5            NaN     NaN   \n",
       "19899         NaN         NaN            NaN     NaN   \n",
       "3803          NaN         NaN            NaN     NaN   \n",
       "16076         NaN         NaN            NaN     NaN   \n",
       "9044           35          57         bottom    True   \n",
       "20886         NaN         NaN         bottom    True   \n",
       "6531          NaN         NaN            NaN     NaN   \n",
       "3745          NaN         NaN            NaN     NaN   \n",
       "12779         NaN         NaN            NaN     NaN   \n",
       "3985          NaN         NaN         bottom    True   \n",
       "\n",
       "                                               func_name  \\\n",
       "11812                                                NaN   \n",
       "19899                                                NaN   \n",
       "3803   ionogram_content_extraction.extract_select_par...   \n",
       "16076                                                NaN   \n",
       "9044                                                 NaN   \n",
       "20886                                                NaN   \n",
       "6531                                                 NaN   \n",
       "3745   metadata_translation.determine_leftside_metada...   \n",
       "12779                                                NaN   \n",
       "3985                                                 NaN   \n",
       "\n",
       "                                  details  \n",
       "11812  OCR read metadata contains letters  \n",
       "19899                                 NaN  \n",
       "3803                                  NaN  \n",
       "16076                                 NaN  \n",
       "9044   OCR read metadata contains letters  \n",
       "20886                                 NaN  \n",
       "6531                                  NaN  \n",
       "3745                                  NaN  \n",
       "12779   metadata could not be read by OCR  \n",
       "3985                                  NaN  \n",
       "\n",
       "[10 rows x 30 columns]"
      ]
     },
     "execution_count": 5,
     "metadata": {},
     "output_type": "execute_result"
    }
   ],
   "source": [
    "df_result['year_1'] = df_result['year']\n",
    "df_result = df_result[['Directory', 'Subdirectory', 'filename', 'processed_image_class', 'fmin', 'max_depth', \n",
    "                       'station_number', 'station_number_1', 'station_number_2', 'year_1', 'day_1', 'day_2', 'day_3', \n",
    "                       'hour_1', 'hour_2', 'minute_1', 'minute_2', 'second_1', 'second_2', 'satellite_number', \n",
    "                       'station_number_OCR', 'year_OCR', 'day_of_year_OCR', 'hour_OCR', 'minute_OCR', 'second_OCR', \n",
    "                       'metadata_type', 'is_dot', 'func_name', 'details']] \n",
    "df_result.sample(10)"
   ]
  },
  {
   "cell_type": "markdown",
   "id": "1ba53fdb",
   "metadata": {},
   "source": [
    "#  "
   ]
  },
  {
   "cell_type": "markdown",
   "id": "b23a3aa9",
   "metadata": {},
   "source": [
    "#### Split results into different metadata types (dot, num, num2):"
   ]
  },
  {
   "cell_type": "code",
   "execution_count": 6,
   "id": "d08d4bb1",
   "metadata": {},
   "outputs": [
    {
     "data": {
      "text/plain": [
       "array(['num', 'loss', 'outlier', 'num2', 'dot'], dtype=object)"
      ]
     },
     "execution_count": 6,
     "metadata": {},
     "output_type": "execute_result"
    }
   ],
   "source": [
    "df_result['processed_image_class'].unique()"
   ]
  },
  {
   "cell_type": "code",
   "execution_count": 7,
   "id": "1be90f1a",
   "metadata": {},
   "outputs": [
    {
     "name": "stdout",
     "output_type": "stream",
     "text": [
      "3203\n"
     ]
    }
   ],
   "source": [
    "df_num2 = df_result.loc[df_result['processed_image_class'] == 'num2']\n",
    "print(len(df_num2))"
   ]
  },
  {
   "cell_type": "code",
   "execution_count": 8,
   "id": "203c553d",
   "metadata": {},
   "outputs": [
    {
     "name": "stdout",
     "output_type": "stream",
     "text": [
      "4849\n"
     ]
    }
   ],
   "source": [
    "df_num = df_result.loc[df_result['processed_image_class'] == 'num']\n",
    "print(len(df_num))"
   ]
  },
  {
   "cell_type": "code",
   "execution_count": 9,
   "id": "187933db",
   "metadata": {},
   "outputs": [
    {
     "name": "stdout",
     "output_type": "stream",
     "text": [
      "589\n"
     ]
    }
   ],
   "source": [
    "df_dot = df_result.loc[df_result['processed_image_class'] == 'dot']\n",
    "print(len(df_dot))"
   ]
  },
  {
   "cell_type": "code",
   "execution_count": 10,
   "id": "b3252ff5",
   "metadata": {},
   "outputs": [
    {
     "name": "stdout",
     "output_type": "stream",
     "text": [
      "1933\n"
     ]
    }
   ],
   "source": [
    "df_outlier = df_result.loc[df_result['processed_image_class'] == 'outlier']\n",
    "print(len(df_outlier))"
   ]
  },
  {
   "cell_type": "code",
   "execution_count": 11,
   "id": "ffe172aa",
   "metadata": {},
   "outputs": [
    {
     "name": "stdout",
     "output_type": "stream",
     "text": [
      "10370\n"
     ]
    }
   ],
   "source": [
    "df_loss = df_result.loc[df_result['processed_image_class'] == 'loss']\n",
    "print(len(df_loss))"
   ]
  },
  {
   "cell_type": "code",
   "execution_count": 12,
   "id": "60121878",
   "metadata": {},
   "outputs": [
    {
     "data": {
      "text/plain": [
       "20944"
      ]
     },
     "execution_count": 12,
     "metadata": {},
     "output_type": "execute_result"
    }
   ],
   "source": [
    "len(df_num2) + len(df_num) + len(df_dot) + len(df_outlier) + len(df_loss)"
   ]
  },
  {
   "cell_type": "markdown",
   "id": "4604e196",
   "metadata": {},
   "source": [
    "  "
   ]
  },
  {
   "cell_type": "markdown",
   "id": "1d1701aa",
   "metadata": {},
   "source": [
    "#### num2 - check timestamp components, construct timestamp:"
   ]
  },
  {
   "cell_type": "code",
   "execution_count": 13,
   "id": "b2b05252",
   "metadata": {},
   "outputs": [
    {
     "data": {
      "text/html": [
       "<div>\n",
       "<style scoped>\n",
       "    .dataframe tbody tr th:only-of-type {\n",
       "        vertical-align: middle;\n",
       "    }\n",
       "\n",
       "    .dataframe tbody tr th {\n",
       "        vertical-align: top;\n",
       "    }\n",
       "\n",
       "    .dataframe thead th {\n",
       "        text-align: right;\n",
       "    }\n",
       "</style>\n",
       "<table border=\"1\" class=\"dataframe\">\n",
       "  <thead>\n",
       "    <tr style=\"text-align: right;\">\n",
       "      <th></th>\n",
       "      <th>year_OCR</th>\n",
       "      <th>day_of_year_OCR</th>\n",
       "      <th>hour_OCR</th>\n",
       "      <th>minute_OCR</th>\n",
       "      <th>second_OCR</th>\n",
       "    </tr>\n",
       "  </thead>\n",
       "  <tbody>\n",
       "    <tr>\n",
       "      <th>14023</th>\n",
       "      <td>66.0</td>\n",
       "      <td>015</td>\n",
       "      <td>03</td>\n",
       "      <td>53</td>\n",
       "      <td>59.0</td>\n",
       "    </tr>\n",
       "    <tr>\n",
       "      <th>5059</th>\n",
       "      <td>67.0</td>\n",
       "      <td>245</td>\n",
       "      <td>18</td>\n",
       "      <td>34</td>\n",
       "      <td>7.0</td>\n",
       "    </tr>\n",
       "    <tr>\n",
       "      <th>11126</th>\n",
       "      <td>68.0</td>\n",
       "      <td>096</td>\n",
       "      <td>18</td>\n",
       "      <td>12</td>\n",
       "      <td>54</td>\n",
       "    </tr>\n",
       "    <tr>\n",
       "      <th>12344</th>\n",
       "      <td>67.0</td>\n",
       "      <td>137</td>\n",
       "      <td>10</td>\n",
       "      <td>44</td>\n",
       "      <td>11</td>\n",
       "    </tr>\n",
       "    <tr>\n",
       "      <th>8276</th>\n",
       "      <td>68.0</td>\n",
       "      <td>047</td>\n",
       "      <td>03</td>\n",
       "      <td>22.0</td>\n",
       "      <td>8.0</td>\n",
       "    </tr>\n",
       "    <tr>\n",
       "      <th>12388</th>\n",
       "      <td>61.0</td>\n",
       "      <td>135</td>\n",
       "      <td>09</td>\n",
       "      <td>28</td>\n",
       "      <td>32</td>\n",
       "    </tr>\n",
       "    <tr>\n",
       "      <th>10681</th>\n",
       "      <td>68.0</td>\n",
       "      <td>084</td>\n",
       "      <td>21.0</td>\n",
       "      <td>21.0</td>\n",
       "      <td>9.0</td>\n",
       "    </tr>\n",
       "    <tr>\n",
       "      <th>5261</th>\n",
       "      <td>69.0</td>\n",
       "      <td>155</td>\n",
       "      <td>10</td>\n",
       "      <td>23</td>\n",
       "      <td>40</td>\n",
       "    </tr>\n",
       "    <tr>\n",
       "      <th>11995</th>\n",
       "      <td>61</td>\n",
       "      <td>099</td>\n",
       "      <td>15</td>\n",
       "      <td>22</td>\n",
       "      <td>56</td>\n",
       "    </tr>\n",
       "    <tr>\n",
       "      <th>9466</th>\n",
       "      <td>67</td>\n",
       "      <td>043</td>\n",
       "      <td>05</td>\n",
       "      <td>25</td>\n",
       "      <td>15</td>\n",
       "    </tr>\n",
       "  </tbody>\n",
       "</table>\n",
       "</div>"
      ],
      "text/plain": [
       "      year_OCR day_of_year_OCR hour_OCR minute_OCR second_OCR\n",
       "14023     66.0             015       03         53       59.0\n",
       "5059      67.0             245       18         34        7.0\n",
       "11126     68.0             096       18         12         54\n",
       "12344     67.0             137       10         44         11\n",
       "8276      68.0             047       03       22.0        8.0\n",
       "12388     61.0             135       09         28         32\n",
       "10681     68.0             084     21.0       21.0        9.0\n",
       "5261      69.0             155       10         23         40\n",
       "11995       61             099       15         22         56\n",
       "9466        67             043       05         25         15"
      ]
     },
     "execution_count": 13,
     "metadata": {},
     "output_type": "execute_result"
    }
   ],
   "source": [
    "df_num2[['year_OCR', 'day_of_year_OCR', 'hour_OCR', 'minute_OCR', 'second_OCR']].sample(10)"
   ]
  },
  {
   "cell_type": "markdown",
   "id": "cd2f64d7",
   "metadata": {},
   "source": [
    "year:"
   ]
  },
  {
   "cell_type": "code",
   "execution_count": 14,
   "id": "a9883a43",
   "metadata": {},
   "outputs": [
    {
     "data": {
      "text/plain": [
       "<Axes: xlabel='year_OCR', ylabel='Count'>"
      ]
     },
     "execution_count": 14,
     "metadata": {},
     "output_type": "execute_result"
    },
    {
     "data": {
      "image/png": "[encoded data removed]",
      "text/plain": [
       "<Figure size 640x480 with 1 Axes>"
      ]
     },
     "metadata": {},
     "output_type": "display_data"
    }
   ],
   "source": [
    "df_num2 = df_num2.copy(deep=True)\n",
    "df_num2['year_OCR'] = df_num2['year_OCR'].astype('float')\n",
    "sns.histplot(data=df_num2, x='year_OCR')"
   ]
  },
  {
   "cell_type": "code",
   "execution_count": 15,
   "id": "10f1387d",
   "metadata": {},
   "outputs": [],
   "source": [
    "df_num2['year_OCR'] = df_num2['year_OCR'].apply(lambda x: np.nan if x<62 else x)\n",
    "df_num2['year_OCR'] = df_num2['year_OCR'].apply(lambda x: np.nan if x>80 else x)"
   ]
  },
  {
   "cell_type": "code",
   "execution_count": 16,
   "id": "d7714fbd",
   "metadata": {},
   "outputs": [
    {
     "data": {
      "text/html": [
       "<div>\n",
       "<style scoped>\n",
       "    .dataframe tbody tr th:only-of-type {\n",
       "        vertical-align: middle;\n",
       "    }\n",
       "\n",
       "    .dataframe tbody tr th {\n",
       "        vertical-align: top;\n",
       "    }\n",
       "\n",
       "    .dataframe thead th {\n",
       "        text-align: right;\n",
       "    }\n",
       "</style>\n",
       "<table border=\"1\" class=\"dataframe\">\n",
       "  <thead>\n",
       "    <tr style=\"text-align: right;\">\n",
       "      <th></th>\n",
       "      <th>year</th>\n",
       "      <th>year_OCR</th>\n",
       "    </tr>\n",
       "  </thead>\n",
       "  <tbody>\n",
       "    <tr>\n",
       "      <th>1946</th>\n",
       "      <td>1968.0</td>\n",
       "      <td>68.0</td>\n",
       "    </tr>\n",
       "    <tr>\n",
       "      <th>13421</th>\n",
       "      <td>NaN</td>\n",
       "      <td>NaN</td>\n",
       "    </tr>\n",
       "    <tr>\n",
       "      <th>13081</th>\n",
       "      <td>1967.0</td>\n",
       "      <td>67.0</td>\n",
       "    </tr>\n",
       "    <tr>\n",
       "      <th>13083</th>\n",
       "      <td>1967.0</td>\n",
       "      <td>67.0</td>\n",
       "    </tr>\n",
       "    <tr>\n",
       "      <th>944</th>\n",
       "      <td>1968.0</td>\n",
       "      <td>68.0</td>\n",
       "    </tr>\n",
       "    <tr>\n",
       "      <th>7291</th>\n",
       "      <td>1966.0</td>\n",
       "      <td>66.0</td>\n",
       "    </tr>\n",
       "    <tr>\n",
       "      <th>14214</th>\n",
       "      <td>1966.0</td>\n",
       "      <td>66.0</td>\n",
       "    </tr>\n",
       "    <tr>\n",
       "      <th>11640</th>\n",
       "      <td>1967.0</td>\n",
       "      <td>67.0</td>\n",
       "    </tr>\n",
       "    <tr>\n",
       "      <th>11998</th>\n",
       "      <td>NaN</td>\n",
       "      <td>NaN</td>\n",
       "    </tr>\n",
       "    <tr>\n",
       "      <th>12301</th>\n",
       "      <td>1967.0</td>\n",
       "      <td>67.0</td>\n",
       "    </tr>\n",
       "  </tbody>\n",
       "</table>\n",
       "</div>"
      ],
      "text/plain": [
       "         year  year_OCR\n",
       "1946   1968.0      68.0\n",
       "13421     NaN       NaN\n",
       "13081  1967.0      67.0\n",
       "13083  1967.0      67.0\n",
       "944    1968.0      68.0\n",
       "7291   1966.0      66.0\n",
       "14214  1966.0      66.0\n",
       "11640  1967.0      67.0\n",
       "11998     NaN       NaN\n",
       "12301  1967.0      67.0"
      ]
     },
     "execution_count": 16,
     "metadata": {},
     "output_type": "execute_result"
    }
   ],
   "source": [
    "df_num2['year'] = df_num2['year_OCR'] + 1900\n",
    "df_num2[['year', 'year_OCR']].sample(10)"
   ]
  },
  {
   "cell_type": "markdown",
   "id": "d08d7c57",
   "metadata": {},
   "source": [
    "day:"
   ]
  },
  {
   "cell_type": "code",
   "execution_count": 17,
   "id": "5b13d5a1",
   "metadata": {},
   "outputs": [
    {
     "data": {
      "text/plain": [
       "<Axes: xlabel='day_of_year_OCR', ylabel='Count'>"
      ]
     },
     "execution_count": 17,
     "metadata": {},
     "output_type": "execute_result"
    },
    {
     "data": {
      "image/png": "[encoded data removed]",
      "text/plain": [
       "<Figure size 640x480 with 1 Axes>"
      ]
     },
     "metadata": {},
     "output_type": "display_data"
    }
   ],
   "source": [
    "df_num2['day_of_year_OCR'] = df_num2['day_of_year_OCR'].astype('float')\n",
    "sns.histplot(data=df_num2, x='day_of_year_OCR')"
   ]
  },
  {
   "cell_type": "code",
   "execution_count": 18,
   "id": "2f6b5822",
   "metadata": {},
   "outputs": [
    {
     "data": {
      "text/html": [
       "<div>\n",
       "<style scoped>\n",
       "    .dataframe tbody tr th:only-of-type {\n",
       "        vertical-align: middle;\n",
       "    }\n",
       "\n",
       "    .dataframe tbody tr th {\n",
       "        vertical-align: top;\n",
       "    }\n",
       "\n",
       "    .dataframe thead th {\n",
       "        text-align: right;\n",
       "    }\n",
       "</style>\n",
       "<table border=\"1\" class=\"dataframe\">\n",
       "  <thead>\n",
       "    <tr style=\"text-align: right;\">\n",
       "      <th></th>\n",
       "      <th>day_of_year</th>\n",
       "      <th>day_of_year_OCR</th>\n",
       "    </tr>\n",
       "  </thead>\n",
       "  <tbody>\n",
       "    <tr>\n",
       "      <th>12216</th>\n",
       "      <td>136.0</td>\n",
       "      <td>136.0</td>\n",
       "    </tr>\n",
       "    <tr>\n",
       "      <th>9794</th>\n",
       "      <td>50.0</td>\n",
       "      <td>50.0</td>\n",
       "    </tr>\n",
       "    <tr>\n",
       "      <th>1894</th>\n",
       "      <td>292.0</td>\n",
       "      <td>292.0</td>\n",
       "    </tr>\n",
       "    <tr>\n",
       "      <th>11874</th>\n",
       "      <td>98.0</td>\n",
       "      <td>98.0</td>\n",
       "    </tr>\n",
       "    <tr>\n",
       "      <th>8346</th>\n",
       "      <td>35.0</td>\n",
       "      <td>35.0</td>\n",
       "    </tr>\n",
       "    <tr>\n",
       "      <th>11662</th>\n",
       "      <td>124.0</td>\n",
       "      <td>124.0</td>\n",
       "    </tr>\n",
       "    <tr>\n",
       "      <th>13950</th>\n",
       "      <td>13.0</td>\n",
       "      <td>13.0</td>\n",
       "    </tr>\n",
       "    <tr>\n",
       "      <th>11521</th>\n",
       "      <td>118.0</td>\n",
       "      <td>118.0</td>\n",
       "    </tr>\n",
       "    <tr>\n",
       "      <th>1010</th>\n",
       "      <td>216.0</td>\n",
       "      <td>216.0</td>\n",
       "    </tr>\n",
       "    <tr>\n",
       "      <th>9548</th>\n",
       "      <td>46.0</td>\n",
       "      <td>46.0</td>\n",
       "    </tr>\n",
       "  </tbody>\n",
       "</table>\n",
       "</div>"
      ],
      "text/plain": [
       "       day_of_year  day_of_year_OCR\n",
       "12216        136.0            136.0\n",
       "9794          50.0             50.0\n",
       "1894         292.0            292.0\n",
       "11874         98.0             98.0\n",
       "8346          35.0             35.0\n",
       "11662        124.0            124.0\n",
       "13950         13.0             13.0\n",
       "11521        118.0            118.0\n",
       "1010         216.0            216.0\n",
       "9548          46.0             46.0"
      ]
     },
     "execution_count": 18,
     "metadata": {},
     "output_type": "execute_result"
    }
   ],
   "source": [
    "df_num2['day_of_year_OCR'] = df_num2['day_of_year_OCR'].apply(lambda x: np.nan if x>366 else x)\n",
    "df_num2['day_of_year_OCR'] = df_num2['day_of_year_OCR'].apply(lambda x: np.nan if x==0 else x)\n",
    "df_num2['day_of_year'] = df_num2['day_of_year_OCR']\n",
    "df_num2[['day_of_year', 'day_of_year_OCR']].sample(10)"
   ]
  },
  {
   "cell_type": "markdown",
   "id": "7399afbc",
   "metadata": {},
   "source": [
    "hour:"
   ]
  },
  {
   "cell_type": "code",
   "execution_count": 19,
   "id": "dfe54285",
   "metadata": {},
   "outputs": [
    {
     "data": {
      "text/plain": [
       "<Axes: xlabel='hour_OCR', ylabel='Count'>"
      ]
     },
     "execution_count": 19,
     "metadata": {},
     "output_type": "execute_result"
    },
    {
     "data": {
      "image/png": "[encoded data removed]",
      "text/plain": [
       "<Figure size 640x480 with 1 Axes>"
      ]
     },
     "metadata": {},
     "output_type": "display_data"
    }
   ],
   "source": [
    "df_num2['hour_OCR'] = df_num2['hour_OCR'].astype('float')\n",
    "sns.histplot(data=df_num2, x='hour_OCR')"
   ]
  },
  {
   "cell_type": "code",
   "execution_count": 20,
   "id": "e03ec071",
   "metadata": {},
   "outputs": [
    {
     "data": {
      "text/html": [
       "<div>\n",
       "<style scoped>\n",
       "    .dataframe tbody tr th:only-of-type {\n",
       "        vertical-align: middle;\n",
       "    }\n",
       "\n",
       "    .dataframe tbody tr th {\n",
       "        vertical-align: top;\n",
       "    }\n",
       "\n",
       "    .dataframe thead th {\n",
       "        text-align: right;\n",
       "    }\n",
       "</style>\n",
       "<table border=\"1\" class=\"dataframe\">\n",
       "  <thead>\n",
       "    <tr style=\"text-align: right;\">\n",
       "      <th></th>\n",
       "      <th>hour</th>\n",
       "      <th>hour_OCR</th>\n",
       "    </tr>\n",
       "  </thead>\n",
       "  <tbody>\n",
       "    <tr>\n",
       "      <th>11517</th>\n",
       "      <td>4.0</td>\n",
       "      <td>4.0</td>\n",
       "    </tr>\n",
       "    <tr>\n",
       "      <th>10049</th>\n",
       "      <td>2.0</td>\n",
       "      <td>2.0</td>\n",
       "    </tr>\n",
       "    <tr>\n",
       "      <th>5000</th>\n",
       "      <td>5.0</td>\n",
       "      <td>5.0</td>\n",
       "    </tr>\n",
       "    <tr>\n",
       "      <th>13966</th>\n",
       "      <td>2.0</td>\n",
       "      <td>2.0</td>\n",
       "    </tr>\n",
       "    <tr>\n",
       "      <th>4487</th>\n",
       "      <td>0.0</td>\n",
       "      <td>0.0</td>\n",
       "    </tr>\n",
       "    <tr>\n",
       "      <th>9981</th>\n",
       "      <td>23.0</td>\n",
       "      <td>23.0</td>\n",
       "    </tr>\n",
       "    <tr>\n",
       "      <th>8978</th>\n",
       "      <td>13.0</td>\n",
       "      <td>13.0</td>\n",
       "    </tr>\n",
       "    <tr>\n",
       "      <th>12208</th>\n",
       "      <td>10.0</td>\n",
       "      <td>10.0</td>\n",
       "    </tr>\n",
       "    <tr>\n",
       "      <th>11307</th>\n",
       "      <td>0.0</td>\n",
       "      <td>0.0</td>\n",
       "    </tr>\n",
       "    <tr>\n",
       "      <th>11249</th>\n",
       "      <td>1.0</td>\n",
       "      <td>1.0</td>\n",
       "    </tr>\n",
       "  </tbody>\n",
       "</table>\n",
       "</div>"
      ],
      "text/plain": [
       "       hour  hour_OCR\n",
       "11517   4.0       4.0\n",
       "10049   2.0       2.0\n",
       "5000    5.0       5.0\n",
       "13966   2.0       2.0\n",
       "4487    0.0       0.0\n",
       "9981   23.0      23.0\n",
       "8978   13.0      13.0\n",
       "12208  10.0      10.0\n",
       "11307   0.0       0.0\n",
       "11249   1.0       1.0"
      ]
     },
     "execution_count": 20,
     "metadata": {},
     "output_type": "execute_result"
    }
   ],
   "source": [
    "df_num2['hour_OCR'] = df_num2['hour_OCR'].apply(lambda x: np.nan if x>24 else x)\n",
    "df_num2['hour'] = df_num2['hour_OCR']\n",
    "df_num2[['hour', 'hour_OCR']].sample(10)"
   ]
  },
  {
   "cell_type": "markdown",
   "id": "f068ac36",
   "metadata": {},
   "source": [
    "minute:"
   ]
  },
  {
   "cell_type": "code",
   "execution_count": 21,
   "id": "467fa7aa",
   "metadata": {},
   "outputs": [
    {
     "data": {
      "text/plain": [
       "<Axes: xlabel='minute_OCR', ylabel='Count'>"
      ]
     },
     "execution_count": 21,
     "metadata": {},
     "output_type": "execute_result"
    },
    {
     "data": {
      "image/png": "[encoded data removed]",
      "text/plain": [
       "<Figure size 640x480 with 1 Axes>"
      ]
     },
     "metadata": {},
     "output_type": "display_data"
    }
   ],
   "source": [
    "df_num2['minute_OCR'] = df_num2['minute_OCR'].astype('float')\n",
    "sns.histplot(data=df_num2, x='minute_OCR')"
   ]
  },
  {
   "cell_type": "code",
   "execution_count": 22,
   "id": "f1d6ecd6",
   "metadata": {},
   "outputs": [
    {
     "data": {
      "text/html": [
       "<div>\n",
       "<style scoped>\n",
       "    .dataframe tbody tr th:only-of-type {\n",
       "        vertical-align: middle;\n",
       "    }\n",
       "\n",
       "    .dataframe tbody tr th {\n",
       "        vertical-align: top;\n",
       "    }\n",
       "\n",
       "    .dataframe thead th {\n",
       "        text-align: right;\n",
       "    }\n",
       "</style>\n",
       "<table border=\"1\" class=\"dataframe\">\n",
       "  <thead>\n",
       "    <tr style=\"text-align: right;\">\n",
       "      <th></th>\n",
       "      <th>minute</th>\n",
       "      <th>minute_OCR</th>\n",
       "    </tr>\n",
       "  </thead>\n",
       "  <tbody>\n",
       "    <tr>\n",
       "      <th>7709</th>\n",
       "      <td>1.0</td>\n",
       "      <td>1.0</td>\n",
       "    </tr>\n",
       "    <tr>\n",
       "      <th>13257</th>\n",
       "      <td>45.0</td>\n",
       "      <td>45.0</td>\n",
       "    </tr>\n",
       "    <tr>\n",
       "      <th>8371</th>\n",
       "      <td>23.0</td>\n",
       "      <td>23.0</td>\n",
       "    </tr>\n",
       "    <tr>\n",
       "      <th>8356</th>\n",
       "      <td>19.0</td>\n",
       "      <td>19.0</td>\n",
       "    </tr>\n",
       "    <tr>\n",
       "      <th>14151</th>\n",
       "      <td>29.0</td>\n",
       "      <td>29.0</td>\n",
       "    </tr>\n",
       "    <tr>\n",
       "      <th>11790</th>\n",
       "      <td>49.0</td>\n",
       "      <td>49.0</td>\n",
       "    </tr>\n",
       "    <tr>\n",
       "      <th>13598</th>\n",
       "      <td>46.0</td>\n",
       "      <td>46.0</td>\n",
       "    </tr>\n",
       "    <tr>\n",
       "      <th>12966</th>\n",
       "      <td>50.0</td>\n",
       "      <td>50.0</td>\n",
       "    </tr>\n",
       "    <tr>\n",
       "      <th>11561</th>\n",
       "      <td>9.0</td>\n",
       "      <td>9.0</td>\n",
       "    </tr>\n",
       "    <tr>\n",
       "      <th>12024</th>\n",
       "      <td>18.0</td>\n",
       "      <td>18.0</td>\n",
       "    </tr>\n",
       "  </tbody>\n",
       "</table>\n",
       "</div>"
      ],
      "text/plain": [
       "       minute  minute_OCR\n",
       "7709      1.0         1.0\n",
       "13257    45.0        45.0\n",
       "8371     23.0        23.0\n",
       "8356     19.0        19.0\n",
       "14151    29.0        29.0\n",
       "11790    49.0        49.0\n",
       "13598    46.0        46.0\n",
       "12966    50.0        50.0\n",
       "11561     9.0         9.0\n",
       "12024    18.0        18.0"
      ]
     },
     "execution_count": 22,
     "metadata": {},
     "output_type": "execute_result"
    }
   ],
   "source": [
    "df_num2['minute_OCR'] = df_num2['minute_OCR'].apply(lambda x: np.nan if x>60 else x)\n",
    "df_num2['minute'] = df_num2['minute_OCR']\n",
    "df_num2[['minute', 'minute_OCR']].sample(10)"
   ]
  },
  {
   "cell_type": "markdown",
   "id": "3f657cb1",
   "metadata": {},
   "source": [
    "second:"
   ]
  },
  {
   "cell_type": "code",
   "execution_count": 23,
   "id": "48157351",
   "metadata": {},
   "outputs": [
    {
     "data": {
      "text/plain": [
       "<Axes: xlabel='second_OCR', ylabel='Count'>"
      ]
     },
     "execution_count": 23,
     "metadata": {},
     "output_type": "execute_result"
    },
    {
     "data": {
      "image/png": "[encoded data removed]",
      "text/plain": [
       "<Figure size 640x480 with 1 Axes>"
      ]
     },
     "metadata": {},
     "output_type": "display_data"
    }
   ],
   "source": [
    "df_num2['second_OCR'] = df_num2['second_OCR'].astype('float')\n",
    "sns.histplot(data=df_num2, x='second_OCR')"
   ]
  },
  {
   "cell_type": "code",
   "execution_count": 24,
   "id": "2241aa37",
   "metadata": {},
   "outputs": [
    {
     "data": {
      "text/html": [
       "<div>\n",
       "<style scoped>\n",
       "    .dataframe tbody tr th:only-of-type {\n",
       "        vertical-align: middle;\n",
       "    }\n",
       "\n",
       "    .dataframe tbody tr th {\n",
       "        vertical-align: top;\n",
       "    }\n",
       "\n",
       "    .dataframe thead th {\n",
       "        text-align: right;\n",
       "    }\n",
       "</style>\n",
       "<table border=\"1\" class=\"dataframe\">\n",
       "  <thead>\n",
       "    <tr style=\"text-align: right;\">\n",
       "      <th></th>\n",
       "      <th>second</th>\n",
       "      <th>second_OCR</th>\n",
       "    </tr>\n",
       "  </thead>\n",
       "  <tbody>\n",
       "    <tr>\n",
       "      <th>10832</th>\n",
       "      <td>0.0</td>\n",
       "      <td>0.0</td>\n",
       "    </tr>\n",
       "    <tr>\n",
       "      <th>13422</th>\n",
       "      <td>55.0</td>\n",
       "      <td>55.0</td>\n",
       "    </tr>\n",
       "    <tr>\n",
       "      <th>11482</th>\n",
       "      <td>35.0</td>\n",
       "      <td>35.0</td>\n",
       "    </tr>\n",
       "    <tr>\n",
       "      <th>13101</th>\n",
       "      <td>31.0</td>\n",
       "      <td>31.0</td>\n",
       "    </tr>\n",
       "    <tr>\n",
       "      <th>8184</th>\n",
       "      <td>30.0</td>\n",
       "      <td>30.0</td>\n",
       "    </tr>\n",
       "    <tr>\n",
       "      <th>11919</th>\n",
       "      <td>20.0</td>\n",
       "      <td>20.0</td>\n",
       "    </tr>\n",
       "    <tr>\n",
       "      <th>4557</th>\n",
       "      <td>20.0</td>\n",
       "      <td>20.0</td>\n",
       "    </tr>\n",
       "    <tr>\n",
       "      <th>11991</th>\n",
       "      <td>47.0</td>\n",
       "      <td>47.0</td>\n",
       "    </tr>\n",
       "    <tr>\n",
       "      <th>9745</th>\n",
       "      <td>33.0</td>\n",
       "      <td>33.0</td>\n",
       "    </tr>\n",
       "    <tr>\n",
       "      <th>10083</th>\n",
       "      <td>49.0</td>\n",
       "      <td>49.0</td>\n",
       "    </tr>\n",
       "  </tbody>\n",
       "</table>\n",
       "</div>"
      ],
      "text/plain": [
       "       second  second_OCR\n",
       "10832     0.0         0.0\n",
       "13422    55.0        55.0\n",
       "11482    35.0        35.0\n",
       "13101    31.0        31.0\n",
       "8184     30.0        30.0\n",
       "11919    20.0        20.0\n",
       "4557     20.0        20.0\n",
       "11991    47.0        47.0\n",
       "9745     33.0        33.0\n",
       "10083    49.0        49.0"
      ]
     },
     "execution_count": 24,
     "metadata": {},
     "output_type": "execute_result"
    }
   ],
   "source": [
    "df_num2['second_OCR'] = df_num2['second_OCR'].apply(lambda x: np.nan if x>60 else x)\n",
    "df_num2['second'] = df_num2['second_OCR']\n",
    "df_num2[['second', 'second_OCR']].sample(10)"
   ]
  },
  {
   "cell_type": "markdown",
   "id": "89c68eb0",
   "metadata": {},
   "source": [
    "construct timestamp:"
   ]
  },
  {
   "cell_type": "code",
   "execution_count": 25,
   "id": "732214f0",
   "metadata": {},
   "outputs": [
    {
     "data": {
      "text/html": [
       "<div>\n",
       "<style scoped>\n",
       "    .dataframe tbody tr th:only-of-type {\n",
       "        vertical-align: middle;\n",
       "    }\n",
       "\n",
       "    .dataframe tbody tr th {\n",
       "        vertical-align: top;\n",
       "    }\n",
       "\n",
       "    .dataframe thead th {\n",
       "        text-align: right;\n",
       "    }\n",
       "</style>\n",
       "<table border=\"1\" class=\"dataframe\">\n",
       "  <thead>\n",
       "    <tr style=\"text-align: right;\">\n",
       "      <th></th>\n",
       "      <th>year</th>\n",
       "      <th>month</th>\n",
       "      <th>day</th>\n",
       "      <th>hour</th>\n",
       "      <th>minute</th>\n",
       "      <th>second</th>\n",
       "      <th>Timestamp</th>\n",
       "    </tr>\n",
       "  </thead>\n",
       "  <tbody>\n",
       "    <tr>\n",
       "      <th>10014</th>\n",
       "      <td>NaN</td>\n",
       "      <td>02</td>\n",
       "      <td>22</td>\n",
       "      <td>4.0</td>\n",
       "      <td>33.0</td>\n",
       "      <td>21.0</td>\n",
       "      <td>NaT</td>\n",
       "    </tr>\n",
       "    <tr>\n",
       "      <th>10761</th>\n",
       "      <td>1968.0</td>\n",
       "      <td>03</td>\n",
       "      <td>28</td>\n",
       "      <td>16.0</td>\n",
       "      <td>8.0</td>\n",
       "      <td>22.0</td>\n",
       "      <td>1968-03-28 16:08:22</td>\n",
       "    </tr>\n",
       "    <tr>\n",
       "      <th>8784</th>\n",
       "      <td>NaN</td>\n",
       "      <td>09</td>\n",
       "      <td>14</td>\n",
       "      <td>2.0</td>\n",
       "      <td>32.0</td>\n",
       "      <td>37.0</td>\n",
       "      <td>NaT</td>\n",
       "    </tr>\n",
       "    <tr>\n",
       "      <th>8036</th>\n",
       "      <td>1967.0</td>\n",
       "      <td>11</td>\n",
       "      <td>06</td>\n",
       "      <td>8.0</td>\n",
       "      <td>5.0</td>\n",
       "      <td>22.0</td>\n",
       "      <td>1967-11-06 08:05:22</td>\n",
       "    </tr>\n",
       "    <tr>\n",
       "      <th>12262</th>\n",
       "      <td>1967.0</td>\n",
       "      <td>05</td>\n",
       "      <td>16</td>\n",
       "      <td>21.0</td>\n",
       "      <td>4.0</td>\n",
       "      <td>47.0</td>\n",
       "      <td>1967-05-16 21:04:47</td>\n",
       "    </tr>\n",
       "    <tr>\n",
       "      <th>9007</th>\n",
       "      <td>1967.0</td>\n",
       "      <td>10</td>\n",
       "      <td>13</td>\n",
       "      <td>1.0</td>\n",
       "      <td>53.0</td>\n",
       "      <td>36.0</td>\n",
       "      <td>1967-10-13 01:53:36</td>\n",
       "    </tr>\n",
       "    <tr>\n",
       "      <th>8708</th>\n",
       "      <td>NaN</td>\n",
       "      <td>09</td>\n",
       "      <td>03</td>\n",
       "      <td>6.0</td>\n",
       "      <td>55.0</td>\n",
       "      <td>19.0</td>\n",
       "      <td>NaT</td>\n",
       "    </tr>\n",
       "    <tr>\n",
       "      <th>10449</th>\n",
       "      <td>1968.0</td>\n",
       "      <td>02</td>\n",
       "      <td>24</td>\n",
       "      <td>15.0</td>\n",
       "      <td>33.0</td>\n",
       "      <td>5.0</td>\n",
       "      <td>1968-02-24 15:33:05</td>\n",
       "    </tr>\n",
       "    <tr>\n",
       "      <th>4546</th>\n",
       "      <td>NaN</td>\n",
       "      <td>09</td>\n",
       "      <td>24</td>\n",
       "      <td>17.0</td>\n",
       "      <td>37.0</td>\n",
       "      <td>28.0</td>\n",
       "      <td>NaT</td>\n",
       "    </tr>\n",
       "    <tr>\n",
       "      <th>13943</th>\n",
       "      <td>1966.0</td>\n",
       "      <td>01</td>\n",
       "      <td>14</td>\n",
       "      <td>8.0</td>\n",
       "      <td>38.0</td>\n",
       "      <td>8.0</td>\n",
       "      <td>1966-01-14 08:38:08</td>\n",
       "    </tr>\n",
       "  </tbody>\n",
       "</table>\n",
       "</div>"
      ],
      "text/plain": [
       "         year month day  hour  minute  second           Timestamp\n",
       "10014     NaN    02  22   4.0    33.0    21.0                 NaT\n",
       "10761  1968.0    03  28  16.0     8.0    22.0 1968-03-28 16:08:22\n",
       "8784      NaN    09  14   2.0    32.0    37.0                 NaT\n",
       "8036   1967.0    11  06   8.0     5.0    22.0 1967-11-06 08:05:22\n",
       "12262  1967.0    05  16  21.0     4.0    47.0 1967-05-16 21:04:47\n",
       "9007   1967.0    10  13   1.0    53.0    36.0 1967-10-13 01:53:36\n",
       "8708      NaN    09  03   6.0    55.0    19.0                 NaT\n",
       "10449  1968.0    02  24  15.0    33.0     5.0 1968-02-24 15:33:05\n",
       "4546      NaN    09  24  17.0    37.0    28.0                 NaT\n",
       "13943  1966.0    01  14   8.0    38.0     8.0 1966-01-14 08:38:08"
      ]
     },
     "execution_count": 25,
     "metadata": {},
     "output_type": "execute_result"
    }
   ],
   "source": [
    "df_num2['month_day'] = pd.to_datetime(df_num2['day_of_year'], format='%j').dt.strftime('%m-%d')\n",
    "df_num2['month'] = df_num2['month_day'].str.split('-').str[0]\n",
    "df_num2['day'] = df_num2['month_day'].str.split('-').str[1]\n",
    "df_num2['Timestamp'] = pd.to_datetime(df_num2[['year', 'month', 'day', 'hour', 'minute', 'second']], format='%Y-%m-%d %H:%M:%S')\n",
    "df_num2[['year', 'month', 'day', 'hour', 'minute', 'second', 'Timestamp']].sample(10)"
   ]
  },
  {
   "cell_type": "markdown",
   "id": "0987a46d",
   "metadata": {},
   "source": [
    "#    "
   ]
  },
  {
   "cell_type": "markdown",
   "id": "bcd35a97",
   "metadata": {},
   "source": [
    "#### num - check timestamp components, construct timestamp:"
   ]
  },
  {
   "cell_type": "code",
   "execution_count": 26,
   "id": "e21e57a1",
   "metadata": {},
   "outputs": [
    {
     "data": {
      "text/html": [
       "<div>\n",
       "<style scoped>\n",
       "    .dataframe tbody tr th:only-of-type {\n",
       "        vertical-align: middle;\n",
       "    }\n",
       "\n",
       "    .dataframe tbody tr th {\n",
       "        vertical-align: top;\n",
       "    }\n",
       "\n",
       "    .dataframe thead th {\n",
       "        text-align: right;\n",
       "    }\n",
       "</style>\n",
       "<table border=\"1\" class=\"dataframe\">\n",
       "  <thead>\n",
       "    <tr style=\"text-align: right;\">\n",
       "      <th></th>\n",
       "      <th>year_1</th>\n",
       "      <th>day_1</th>\n",
       "      <th>day_2</th>\n",
       "      <th>day_3</th>\n",
       "      <th>hour_1</th>\n",
       "      <th>hour_2</th>\n",
       "      <th>minute_1</th>\n",
       "      <th>minute_2</th>\n",
       "      <th>second_1</th>\n",
       "      <th>second_2</th>\n",
       "    </tr>\n",
       "  </thead>\n",
       "  <tbody>\n",
       "    <tr>\n",
       "      <th>16055</th>\n",
       "      <td>2.0</td>\n",
       "      <td>4.0</td>\n",
       "      <td>0.0</td>\n",
       "      <td>2.0</td>\n",
       "      <td>3.0</td>\n",
       "      <td>2.0</td>\n",
       "      <td>4.0</td>\n",
       "      <td>0.0</td>\n",
       "      <td>1.0</td>\n",
       "      <td>1.0</td>\n",
       "    </tr>\n",
       "    <tr>\n",
       "      <th>19630</th>\n",
       "      <td>4.0</td>\n",
       "      <td>0.0</td>\n",
       "      <td>5.0</td>\n",
       "      <td>4.0</td>\n",
       "      <td>2.0</td>\n",
       "      <td>0.0</td>\n",
       "      <td>2.0</td>\n",
       "      <td>1.0</td>\n",
       "      <td>2.0</td>\n",
       "      <td>5.0</td>\n",
       "    </tr>\n",
       "    <tr>\n",
       "      <th>20642</th>\n",
       "      <td>3.0</td>\n",
       "      <td>3.0</td>\n",
       "      <td>0.0</td>\n",
       "      <td>5.0</td>\n",
       "      <td>0.0</td>\n",
       "      <td>2.0</td>\n",
       "      <td>4.0</td>\n",
       "      <td>1.0</td>\n",
       "      <td>5.0</td>\n",
       "      <td>1.0</td>\n",
       "    </tr>\n",
       "    <tr>\n",
       "      <th>16722</th>\n",
       "      <td>5.0</td>\n",
       "      <td>0.0</td>\n",
       "      <td>4.0</td>\n",
       "      <td>9.0</td>\n",
       "      <td>0.0</td>\n",
       "      <td>5.0</td>\n",
       "      <td>4.0</td>\n",
       "      <td>4.0</td>\n",
       "      <td>3.0</td>\n",
       "      <td>2.0</td>\n",
       "    </tr>\n",
       "    <tr>\n",
       "      <th>16872</th>\n",
       "      <td>4.0</td>\n",
       "      <td>2.0</td>\n",
       "      <td>5.0</td>\n",
       "      <td>2.0</td>\n",
       "      <td>0.0</td>\n",
       "      <td>7.0</td>\n",
       "      <td>0.0</td>\n",
       "      <td>1.0</td>\n",
       "      <td>0.0</td>\n",
       "      <td>3.0</td>\n",
       "    </tr>\n",
       "    <tr>\n",
       "      <th>15211</th>\n",
       "      <td>4.0</td>\n",
       "      <td>1.0</td>\n",
       "      <td>4.0</td>\n",
       "      <td>0.0</td>\n",
       "      <td>0.0</td>\n",
       "      <td>6.0</td>\n",
       "      <td>4.0</td>\n",
       "      <td>9.0</td>\n",
       "      <td>5.0</td>\n",
       "      <td>7.0</td>\n",
       "    </tr>\n",
       "    <tr>\n",
       "      <th>16555</th>\n",
       "      <td>0.0</td>\n",
       "      <td>4.0</td>\n",
       "      <td>8.0</td>\n",
       "      <td>1.0</td>\n",
       "      <td>0.0</td>\n",
       "      <td>2.0</td>\n",
       "      <td>8.0</td>\n",
       "      <td>1.0</td>\n",
       "      <td>5.0</td>\n",
       "      <td>8.0</td>\n",
       "    </tr>\n",
       "    <tr>\n",
       "      <th>15758</th>\n",
       "      <td>4.0</td>\n",
       "      <td>2.0</td>\n",
       "      <td>5.0</td>\n",
       "      <td>6.0</td>\n",
       "      <td>1.0</td>\n",
       "      <td>9.0</td>\n",
       "      <td>2.0</td>\n",
       "      <td>1.0</td>\n",
       "      <td>0.0</td>\n",
       "      <td>7.0</td>\n",
       "    </tr>\n",
       "    <tr>\n",
       "      <th>16961</th>\n",
       "      <td>4.0</td>\n",
       "      <td>2.0</td>\n",
       "      <td>5.0</td>\n",
       "      <td>4.0</td>\n",
       "      <td>0.0</td>\n",
       "      <td>6.0</td>\n",
       "      <td>2.0</td>\n",
       "      <td>8.0</td>\n",
       "      <td>0.0</td>\n",
       "      <td>9.0</td>\n",
       "    </tr>\n",
       "    <tr>\n",
       "      <th>17002</th>\n",
       "      <td>1.0</td>\n",
       "      <td>4.0</td>\n",
       "      <td>2.0</td>\n",
       "      <td>5.0</td>\n",
       "      <td>4.0</td>\n",
       "      <td>1.0</td>\n",
       "      <td>7.0</td>\n",
       "      <td>3.0</td>\n",
       "      <td>2.0</td>\n",
       "      <td>3.0</td>\n",
       "    </tr>\n",
       "  </tbody>\n",
       "</table>\n",
       "</div>"
      ],
      "text/plain": [
       "       year_1  day_1  day_2  day_3  hour_1  hour_2  minute_1  minute_2  \\\n",
       "16055     2.0    4.0    0.0    2.0     3.0     2.0       4.0       0.0   \n",
       "19630     4.0    0.0    5.0    4.0     2.0     0.0       2.0       1.0   \n",
       "20642     3.0    3.0    0.0    5.0     0.0     2.0       4.0       1.0   \n",
       "16722     5.0    0.0    4.0    9.0     0.0     5.0       4.0       4.0   \n",
       "16872     4.0    2.0    5.0    2.0     0.0     7.0       0.0       1.0   \n",
       "15211     4.0    1.0    4.0    0.0     0.0     6.0       4.0       9.0   \n",
       "16555     0.0    4.0    8.0    1.0     0.0     2.0       8.0       1.0   \n",
       "15758     4.0    2.0    5.0    6.0     1.0     9.0       2.0       1.0   \n",
       "16961     4.0    2.0    5.0    4.0     0.0     6.0       2.0       8.0   \n",
       "17002     1.0    4.0    2.0    5.0     4.0     1.0       7.0       3.0   \n",
       "\n",
       "       second_1  second_2  \n",
       "16055       1.0       1.0  \n",
       "19630       2.0       5.0  \n",
       "20642       5.0       1.0  \n",
       "16722       3.0       2.0  \n",
       "16872       0.0       3.0  \n",
       "15211       5.0       7.0  \n",
       "16555       5.0       8.0  \n",
       "15758       0.0       7.0  \n",
       "16961       0.0       9.0  \n",
       "17002       2.0       3.0  "
      ]
     },
     "execution_count": 26,
     "metadata": {},
     "output_type": "execute_result"
    }
   ],
   "source": [
    "df_num[['year_1', 'day_1', 'day_2', 'day_3', 'hour_1', 'hour_2', 'minute_1', 'minute_2', 'second_1', 'second_2']].sample(10)"
   ]
  },
  {
   "cell_type": "markdown",
   "id": "ceaf3e06",
   "metadata": {},
   "source": [
    "year - adjust to baseline 1962:"
   ]
  },
  {
   "cell_type": "code",
   "execution_count": 27,
   "id": "0bb9d404",
   "metadata": {},
   "outputs": [
    {
     "data": {
      "text/plain": [
       "<Axes: xlabel='year', ylabel='Count'>"
      ]
     },
     "execution_count": 27,
     "metadata": {},
     "output_type": "execute_result"
    },
    {
     "data": {
      "image/png": "[encoded data removed]",
      "text/plain": [
       "<Figure size 640x480 with 1 Axes>"
      ]
     },
     "metadata": {},
     "output_type": "display_data"
    }
   ],
   "source": [
    "df_num = df_num.copy(deep=True)\n",
    "df_num['year'] = df_num['year_1'] + 1962\n",
    "df_num['year'] = df_num['year'].astype('float')\n",
    "sns.histplot(data=df_num, x='year')"
   ]
  },
  {
   "cell_type": "code",
   "execution_count": 28,
   "id": "280442c8",
   "metadata": {},
   "outputs": [
    {
     "data": {
      "text/html": [
       "<div>\n",
       "<style scoped>\n",
       "    .dataframe tbody tr th:only-of-type {\n",
       "        vertical-align: middle;\n",
       "    }\n",
       "\n",
       "    .dataframe tbody tr th {\n",
       "        vertical-align: top;\n",
       "    }\n",
       "\n",
       "    .dataframe thead th {\n",
       "        text-align: right;\n",
       "    }\n",
       "</style>\n",
       "<table border=\"1\" class=\"dataframe\">\n",
       "  <thead>\n",
       "    <tr style=\"text-align: right;\">\n",
       "      <th></th>\n",
       "      <th>year</th>\n",
       "      <th>year_1</th>\n",
       "    </tr>\n",
       "  </thead>\n",
       "  <tbody>\n",
       "    <tr>\n",
       "      <th>6537</th>\n",
       "      <td>1964.0</td>\n",
       "      <td>2.0</td>\n",
       "    </tr>\n",
       "    <tr>\n",
       "      <th>17353</th>\n",
       "      <td>1966.0</td>\n",
       "      <td>4.0</td>\n",
       "    </tr>\n",
       "    <tr>\n",
       "      <th>16891</th>\n",
       "      <td>1966.0</td>\n",
       "      <td>4.0</td>\n",
       "    </tr>\n",
       "    <tr>\n",
       "      <th>20546</th>\n",
       "      <td>1965.0</td>\n",
       "      <td>3.0</td>\n",
       "    </tr>\n",
       "    <tr>\n",
       "      <th>18861</th>\n",
       "      <td>1965.0</td>\n",
       "      <td>3.0</td>\n",
       "    </tr>\n",
       "    <tr>\n",
       "      <th>20185</th>\n",
       "      <td>1965.0</td>\n",
       "      <td>3.0</td>\n",
       "    </tr>\n",
       "    <tr>\n",
       "      <th>16010</th>\n",
       "      <td>1968.0</td>\n",
       "      <td>6.0</td>\n",
       "    </tr>\n",
       "    <tr>\n",
       "      <th>18031</th>\n",
       "      <td>1965.0</td>\n",
       "      <td>3.0</td>\n",
       "    </tr>\n",
       "    <tr>\n",
       "      <th>18083</th>\n",
       "      <td>1965.0</td>\n",
       "      <td>3.0</td>\n",
       "    </tr>\n",
       "    <tr>\n",
       "      <th>15830</th>\n",
       "      <td>1966.0</td>\n",
       "      <td>4.0</td>\n",
       "    </tr>\n",
       "  </tbody>\n",
       "</table>\n",
       "</div>"
      ],
      "text/plain": [
       "         year  year_1\n",
       "6537   1964.0     2.0\n",
       "17353  1966.0     4.0\n",
       "16891  1966.0     4.0\n",
       "20546  1965.0     3.0\n",
       "18861  1965.0     3.0\n",
       "20185  1965.0     3.0\n",
       "16010  1968.0     6.0\n",
       "18031  1965.0     3.0\n",
       "18083  1965.0     3.0\n",
       "15830  1966.0     4.0"
      ]
     },
     "execution_count": 28,
     "metadata": {},
     "output_type": "execute_result"
    }
   ],
   "source": [
    "df_num['year'] = df_num['year'].apply(lambda x: np.nan if x<1962 else x)\n",
    "df_num['year'] = df_num['year'].apply(lambda x: np.nan if x>1980 else x)\n",
    "df_num[['year', 'year_1']].sample(10)"
   ]
  },
  {
   "cell_type": "markdown",
   "id": "c155f791",
   "metadata": {},
   "source": [
    "day:"
   ]
  },
  {
   "cell_type": "code",
   "execution_count": 29,
   "id": "8c026e1d",
   "metadata": {},
   "outputs": [
    {
     "data": {
      "text/plain": [
       "<Axes: xlabel='day_1', ylabel='Count'>"
      ]
     },
     "execution_count": 29,
     "metadata": {},
     "output_type": "execute_result"
    },
    {
     "data": {
      "image/png": "[encoded data removed]",
      "text/plain": [
       "<Figure size 640x480 with 1 Axes>"
      ]
     },
     "metadata": {},
     "output_type": "display_data"
    }
   ],
   "source": [
    "df_num['day_1'] = df_num['day_1'].astype(int)\n",
    "sns.histplot(data=df_num, x='day_1')"
   ]
  },
  {
   "cell_type": "code",
   "execution_count": 30,
   "id": "5cbc533f",
   "metadata": {},
   "outputs": [],
   "source": [
    "df_num['day_1'] = df_num['day_1'].apply(lambda x: np.nan if x>9 else x)"
   ]
  },
  {
   "cell_type": "code",
   "execution_count": 31,
   "id": "5c0b781d",
   "metadata": {},
   "outputs": [
    {
     "data": {
      "text/plain": [
       "<Axes: xlabel='day_2', ylabel='Count'>"
      ]
     },
     "execution_count": 31,
     "metadata": {},
     "output_type": "execute_result"
    },
    {
     "data": {
      "image/png": "[encoded data removed]",
      "text/plain": [
       "<Figure size 640x480 with 1 Axes>"
      ]
     },
     "metadata": {},
     "output_type": "display_data"
    }
   ],
   "source": [
    "df_num['day_2'] = df_num['day_2'].astype(int)\n",
    "sns.histplot(data=df_num, x='day_2')"
   ]
  },
  {
   "cell_type": "code",
   "execution_count": 32,
   "id": "c3559660",
   "metadata": {},
   "outputs": [],
   "source": [
    "df_num['day_2'] = df_num['day_2'].apply(lambda x: np.nan if x>9 else x)"
   ]
  },
  {
   "cell_type": "code",
   "execution_count": 33,
   "id": "62dadeaa",
   "metadata": {},
   "outputs": [
    {
     "data": {
      "text/plain": [
       "<Axes: xlabel='day_3', ylabel='Count'>"
      ]
     },
     "execution_count": 33,
     "metadata": {},
     "output_type": "execute_result"
    },
    {
     "data": {
      "image/png": "[encoded data removed]",
      "text/plain": [
       "<Figure size 640x480 with 1 Axes>"
      ]
     },
     "metadata": {},
     "output_type": "display_data"
    }
   ],
   "source": [
    "df_num['day_3'] = df_num['day_3'].astype(int)\n",
    "sns.histplot(data=df_num, x='day_3')"
   ]
  },
  {
   "cell_type": "code",
   "execution_count": 34,
   "id": "c8231cbe",
   "metadata": {},
   "outputs": [],
   "source": [
    "df_num['day_3'] = df_num['day_3'].apply(lambda x: np.nan if x>9 else x)"
   ]
  },
  {
   "cell_type": "code",
   "execution_count": 35,
   "id": "282af71f",
   "metadata": {},
   "outputs": [
    {
     "name": "stdout",
     "output_type": "stream",
     "text": [
      "4849\n"
     ]
    },
    {
     "data": {
      "text/html": [
       "<div>\n",
       "<style scoped>\n",
       "    .dataframe tbody tr th:only-of-type {\n",
       "        vertical-align: middle;\n",
       "    }\n",
       "\n",
       "    .dataframe tbody tr th {\n",
       "        vertical-align: top;\n",
       "    }\n",
       "\n",
       "    .dataframe thead th {\n",
       "        text-align: right;\n",
       "    }\n",
       "</style>\n",
       "<table border=\"1\" class=\"dataframe\">\n",
       "  <thead>\n",
       "    <tr style=\"text-align: right;\">\n",
       "      <th></th>\n",
       "      <th>day_of_year</th>\n",
       "      <th>day_1</th>\n",
       "      <th>day_2</th>\n",
       "      <th>day_3</th>\n",
       "    </tr>\n",
       "  </thead>\n",
       "  <tbody>\n",
       "    <tr>\n",
       "      <th>15744</th>\n",
       "      <td>256.0</td>\n",
       "      <td>2.0</td>\n",
       "      <td>5.0</td>\n",
       "      <td>6.0</td>\n",
       "    </tr>\n",
       "    <tr>\n",
       "      <th>18867</th>\n",
       "      <td>294.0</td>\n",
       "      <td>2.0</td>\n",
       "      <td>9.0</td>\n",
       "      <td>4.0</td>\n",
       "    </tr>\n",
       "    <tr>\n",
       "      <th>19177</th>\n",
       "      <td>52.0</td>\n",
       "      <td>0.0</td>\n",
       "      <td>5.0</td>\n",
       "      <td>2.0</td>\n",
       "    </tr>\n",
       "    <tr>\n",
       "      <th>15754</th>\n",
       "      <td>256.0</td>\n",
       "      <td>2.0</td>\n",
       "      <td>5.0</td>\n",
       "      <td>6.0</td>\n",
       "    </tr>\n",
       "    <tr>\n",
       "      <th>16168</th>\n",
       "      <td>350.0</td>\n",
       "      <td>3.0</td>\n",
       "      <td>5.0</td>\n",
       "      <td>0.0</td>\n",
       "    </tr>\n",
       "    <tr>\n",
       "      <th>18656</th>\n",
       "      <td>292.0</td>\n",
       "      <td>2.0</td>\n",
       "      <td>9.0</td>\n",
       "      <td>2.0</td>\n",
       "    </tr>\n",
       "    <tr>\n",
       "      <th>15215</th>\n",
       "      <td>140.0</td>\n",
       "      <td>1.0</td>\n",
       "      <td>4.0</td>\n",
       "      <td>0.0</td>\n",
       "    </tr>\n",
       "    <tr>\n",
       "      <th>14931</th>\n",
       "      <td>213.0</td>\n",
       "      <td>2.0</td>\n",
       "      <td>1.0</td>\n",
       "      <td>3.0</td>\n",
       "    </tr>\n",
       "    <tr>\n",
       "      <th>16802</th>\n",
       "      <td>NaN</td>\n",
       "      <td>4.0</td>\n",
       "      <td>8.0</td>\n",
       "      <td>0.0</td>\n",
       "    </tr>\n",
       "    <tr>\n",
       "      <th>19649</th>\n",
       "      <td>54.0</td>\n",
       "      <td>0.0</td>\n",
       "      <td>5.0</td>\n",
       "      <td>4.0</td>\n",
       "    </tr>\n",
       "  </tbody>\n",
       "</table>\n",
       "</div>"
      ],
      "text/plain": [
       "       day_of_year  day_1  day_2  day_3\n",
       "15744        256.0    2.0    5.0    6.0\n",
       "18867        294.0    2.0    9.0    4.0\n",
       "19177         52.0    0.0    5.0    2.0\n",
       "15754        256.0    2.0    5.0    6.0\n",
       "16168        350.0    3.0    5.0    0.0\n",
       "18656        292.0    2.0    9.0    2.0\n",
       "15215        140.0    1.0    4.0    0.0\n",
       "14931        213.0    2.0    1.0    3.0\n",
       "16802          NaN    4.0    8.0    0.0\n",
       "19649         54.0    0.0    5.0    4.0"
      ]
     },
     "execution_count": 35,
     "metadata": {},
     "output_type": "execute_result"
    }
   ],
   "source": [
    "df_num_daycheck = df_num[~pd.isna(df_num['day_1'])]\n",
    "df_num_daycheck = df_num_daycheck[~pd.isna(df_num_daycheck['day_2'])]\n",
    "df_num_daycheck = df_num_daycheck[~pd.isna(df_num_daycheck['day_3'])]\n",
    "df_num_daycheck['day_of_year'] = df_num_daycheck['day_1'].astype(int).astype(str) + df_num_daycheck['day_2'].astype(int).astype(str) + df_num_daycheck['day_3'].astype(int).astype(str)\n",
    "df_num_daycheck['day_of_year'] = df_num_daycheck['day_of_year'].astype(int)\n",
    "df_num_daycheck['day_of_year'] = df_num_daycheck['day_of_year'].apply(lambda x: np.nan if x>366 else x)\n",
    "df_num_daycheck['day_of_year'] = df_num_daycheck['day_of_year'].apply(lambda x: np.nan if x==0 else x)\n",
    "df_num_nullday = df_num.loc[pd.isna(df_num['day_1']) | pd.isna(df_num['day_2']) | pd.isna(df_num['day_3'])]\n",
    "df_num_nullday = df_num_nullday.copy(deep=True)\n",
    "df_num_nullday['day_of_year'] = np.nan\n",
    "df_num = pd.concat([df_num_daycheck, df_num_nullday])\n",
    "print(len(df_num))\n",
    "df_num[['day_of_year', 'day_1', 'day_2', 'day_3']].sample(10)"
   ]
  },
  {
   "cell_type": "markdown",
   "id": "b47049cf",
   "metadata": {},
   "source": [
    "hour:"
   ]
  },
  {
   "cell_type": "code",
   "execution_count": 36,
   "id": "dd82fada",
   "metadata": {},
   "outputs": [
    {
     "data": {
      "text/plain": [
       "<Axes: xlabel='hour_1', ylabel='Count'>"
      ]
     },
     "execution_count": 36,
     "metadata": {},
     "output_type": "execute_result"
    },
    {
     "data": {
      "image/png": "[encoded data removed]",
      "text/plain": [
       "<Figure size 640x480 with 1 Axes>"
      ]
     },
     "metadata": {},
     "output_type": "display_data"
    }
   ],
   "source": [
    "df_num['hour_1'] = df_num['hour_1'].astype(int)\n",
    "sns.histplot(data=df_num, x='hour_1')"
   ]
  },
  {
   "cell_type": "code",
   "execution_count": 37,
   "id": "2a2440a0",
   "metadata": {},
   "outputs": [],
   "source": [
    "df_num['hour_1'] = df_num['hour_1'].apply(lambda x: np.nan if x>9 else x)"
   ]
  },
  {
   "cell_type": "code",
   "execution_count": 38,
   "id": "3df41e67",
   "metadata": {},
   "outputs": [
    {
     "data": {
      "text/plain": [
       "<Axes: xlabel='hour_2', ylabel='Count'>"
      ]
     },
     "execution_count": 38,
     "metadata": {},
     "output_type": "execute_result"
    },
    {
     "data": {
      "image/png": "[encoded data removed]",
      "text/plain": [
       "<Figure size 640x480 with 1 Axes>"
      ]
     },
     "metadata": {},
     "output_type": "display_data"
    }
   ],
   "source": [
    "df_num['hour_2'] = df_num['hour_2'].astype(int)\n",
    "sns.histplot(data=df_num, x='hour_2')"
   ]
  },
  {
   "cell_type": "code",
   "execution_count": 39,
   "id": "c6da1b0c",
   "metadata": {},
   "outputs": [],
   "source": [
    "df_num['hour_2'] = df_num['hour_2'].apply(lambda x: np.nan if x>9 else x)"
   ]
  },
  {
   "cell_type": "code",
   "execution_count": 40,
   "id": "cac39951",
   "metadata": {},
   "outputs": [
    {
     "name": "stdout",
     "output_type": "stream",
     "text": [
      "4849\n"
     ]
    },
    {
     "data": {
      "text/html": [
       "<div>\n",
       "<style scoped>\n",
       "    .dataframe tbody tr th:only-of-type {\n",
       "        vertical-align: middle;\n",
       "    }\n",
       "\n",
       "    .dataframe tbody tr th {\n",
       "        vertical-align: top;\n",
       "    }\n",
       "\n",
       "    .dataframe thead th {\n",
       "        text-align: right;\n",
       "    }\n",
       "</style>\n",
       "<table border=\"1\" class=\"dataframe\">\n",
       "  <thead>\n",
       "    <tr style=\"text-align: right;\">\n",
       "      <th></th>\n",
       "      <th>hour</th>\n",
       "      <th>hour_1</th>\n",
       "      <th>hour_2</th>\n",
       "    </tr>\n",
       "  </thead>\n",
       "  <tbody>\n",
       "    <tr>\n",
       "      <th>20481</th>\n",
       "      <td>18.0</td>\n",
       "      <td>1.0</td>\n",
       "      <td>8.0</td>\n",
       "    </tr>\n",
       "    <tr>\n",
       "      <th>19463</th>\n",
       "      <td>21.0</td>\n",
       "      <td>2.0</td>\n",
       "      <td>1.0</td>\n",
       "    </tr>\n",
       "    <tr>\n",
       "      <th>16428</th>\n",
       "      <td>NaN</td>\n",
       "      <td>4.0</td>\n",
       "      <td>0.0</td>\n",
       "    </tr>\n",
       "    <tr>\n",
       "      <th>16077</th>\n",
       "      <td>4.0</td>\n",
       "      <td>0.0</td>\n",
       "      <td>4.0</td>\n",
       "    </tr>\n",
       "    <tr>\n",
       "      <th>19897</th>\n",
       "      <td>8.0</td>\n",
       "      <td>0.0</td>\n",
       "      <td>8.0</td>\n",
       "    </tr>\n",
       "    <tr>\n",
       "      <th>16367</th>\n",
       "      <td>17.0</td>\n",
       "      <td>1.0</td>\n",
       "      <td>7.0</td>\n",
       "    </tr>\n",
       "    <tr>\n",
       "      <th>16378</th>\n",
       "      <td>0.0</td>\n",
       "      <td>0.0</td>\n",
       "      <td>0.0</td>\n",
       "    </tr>\n",
       "    <tr>\n",
       "      <th>19748</th>\n",
       "      <td>1.0</td>\n",
       "      <td>0.0</td>\n",
       "      <td>1.0</td>\n",
       "    </tr>\n",
       "    <tr>\n",
       "      <th>16124</th>\n",
       "      <td>22.0</td>\n",
       "      <td>2.0</td>\n",
       "      <td>2.0</td>\n",
       "    </tr>\n",
       "    <tr>\n",
       "      <th>15911</th>\n",
       "      <td>NaN</td>\n",
       "      <td>3.0</td>\n",
       "      <td>5.0</td>\n",
       "    </tr>\n",
       "  </tbody>\n",
       "</table>\n",
       "</div>"
      ],
      "text/plain": [
       "       hour  hour_1  hour_2\n",
       "20481  18.0     1.0     8.0\n",
       "19463  21.0     2.0     1.0\n",
       "16428   NaN     4.0     0.0\n",
       "16077   4.0     0.0     4.0\n",
       "19897   8.0     0.0     8.0\n",
       "16367  17.0     1.0     7.0\n",
       "16378   0.0     0.0     0.0\n",
       "19748   1.0     0.0     1.0\n",
       "16124  22.0     2.0     2.0\n",
       "15911   NaN     3.0     5.0"
      ]
     },
     "execution_count": 40,
     "metadata": {},
     "output_type": "execute_result"
    }
   ],
   "source": [
    "df_num_hourcheck = df_num[~pd.isna(df_num['hour_1'])]\n",
    "df_num_hourcheck = df_num_hourcheck[~pd.isna(df_num_hourcheck['hour_2'])]\n",
    "df_num_hourcheck['hour'] = df_num_hourcheck['hour_1'].astype(int).astype(str) + df_num_hourcheck['hour_2'].astype(int).astype(str)\n",
    "df_num_hourcheck['hour'] = df_num_hourcheck['hour'].astype(int)\n",
    "df_num_hourcheck['hour'] = df_num_hourcheck['hour'].apply(lambda x: np.nan if x>23 else x)\n",
    "df_num_nullhour = df_num.loc[pd.isna(df_num['hour_1']) | pd.isna(df_num['hour_2'])]\n",
    "df_num_nullhour = df_num_nullhour.copy(deep=True)\n",
    "df_num_nullhour['hour'] = np.nan\n",
    "df_num = pd.concat([df_num_hourcheck, df_num_nullhour])\n",
    "print(len(df_num))\n",
    "df_num[['hour', 'hour_1', 'hour_2']].sample(10)"
   ]
  },
  {
   "cell_type": "markdown",
   "id": "6d4337b7",
   "metadata": {},
   "source": [
    "minute:"
   ]
  },
  {
   "cell_type": "code",
   "execution_count": 41,
   "id": "329f79c6",
   "metadata": {},
   "outputs": [
    {
     "data": {
      "text/plain": [
       "<Axes: xlabel='minute_1', ylabel='Count'>"
      ]
     },
     "execution_count": 41,
     "metadata": {},
     "output_type": "execute_result"
    },
    {
     "data": {
      "image/png": "[encoded data removed]",
      "text/plain": [
       "<Figure size 640x480 with 1 Axes>"
      ]
     },
     "metadata": {},
     "output_type": "display_data"
    }
   ],
   "source": [
    "df_num['minute_1'] = df_num['minute_1'].astype(int)\n",
    "sns.histplot(data=df_num, x='minute_1')"
   ]
  },
  {
   "cell_type": "code",
   "execution_count": 42,
   "id": "d90ad807",
   "metadata": {},
   "outputs": [],
   "source": [
    "df_num['minute_1'] = df_num['minute_1'].apply(lambda x: np.nan if x>9 else x)"
   ]
  },
  {
   "cell_type": "code",
   "execution_count": 43,
   "id": "982acfd8",
   "metadata": {},
   "outputs": [
    {
     "data": {
      "text/plain": [
       "<Axes: xlabel='minute_2', ylabel='Count'>"
      ]
     },
     "execution_count": 43,
     "metadata": {},
     "output_type": "execute_result"
    },
    {
     "data": {
      "image/png": "[encoded data removed]",
      "text/plain": [
       "<Figure size 640x480 with 1 Axes>"
      ]
     },
     "metadata": {},
     "output_type": "display_data"
    }
   ],
   "source": [
    "df_num['minute_2'] = df_num['minute_2'].astype(int)\n",
    "sns.histplot(data=df_num, x='minute_2')"
   ]
  },
  {
   "cell_type": "code",
   "execution_count": 44,
   "id": "45c2d6de",
   "metadata": {},
   "outputs": [],
   "source": [
    "df_num['minute_2'] = df_num['minute_2'].apply(lambda x: np.nan if x>9 else x)"
   ]
  },
  {
   "cell_type": "code",
   "execution_count": 45,
   "id": "35a87c60",
   "metadata": {},
   "outputs": [
    {
     "name": "stdout",
     "output_type": "stream",
     "text": [
      "4849\n"
     ]
    },
    {
     "data": {
      "text/html": [
       "<div>\n",
       "<style scoped>\n",
       "    .dataframe tbody tr th:only-of-type {\n",
       "        vertical-align: middle;\n",
       "    }\n",
       "\n",
       "    .dataframe tbody tr th {\n",
       "        vertical-align: top;\n",
       "    }\n",
       "\n",
       "    .dataframe thead th {\n",
       "        text-align: right;\n",
       "    }\n",
       "</style>\n",
       "<table border=\"1\" class=\"dataframe\">\n",
       "  <thead>\n",
       "    <tr style=\"text-align: right;\">\n",
       "      <th></th>\n",
       "      <th>minute</th>\n",
       "      <th>minute_1</th>\n",
       "      <th>minute_2</th>\n",
       "    </tr>\n",
       "  </thead>\n",
       "  <tbody>\n",
       "    <tr>\n",
       "      <th>19863</th>\n",
       "      <td>41.0</td>\n",
       "      <td>4.0</td>\n",
       "      <td>1.0</td>\n",
       "    </tr>\n",
       "    <tr>\n",
       "      <th>18091</th>\n",
       "      <td>30.0</td>\n",
       "      <td>3.0</td>\n",
       "      <td>0.0</td>\n",
       "    </tr>\n",
       "    <tr>\n",
       "      <th>15602</th>\n",
       "      <td>18.0</td>\n",
       "      <td>1.0</td>\n",
       "      <td>8.0</td>\n",
       "    </tr>\n",
       "    <tr>\n",
       "      <th>15298</th>\n",
       "      <td>37.0</td>\n",
       "      <td>3.0</td>\n",
       "      <td>7.0</td>\n",
       "    </tr>\n",
       "    <tr>\n",
       "      <th>6933</th>\n",
       "      <td>42.0</td>\n",
       "      <td>4.0</td>\n",
       "      <td>2.0</td>\n",
       "    </tr>\n",
       "    <tr>\n",
       "      <th>15720</th>\n",
       "      <td>34.0</td>\n",
       "      <td>3.0</td>\n",
       "      <td>4.0</td>\n",
       "    </tr>\n",
       "    <tr>\n",
       "      <th>16630</th>\n",
       "      <td>10.0</td>\n",
       "      <td>1.0</td>\n",
       "      <td>0.0</td>\n",
       "    </tr>\n",
       "    <tr>\n",
       "      <th>15961</th>\n",
       "      <td>52.0</td>\n",
       "      <td>5.0</td>\n",
       "      <td>2.0</td>\n",
       "    </tr>\n",
       "    <tr>\n",
       "      <th>19411</th>\n",
       "      <td>20.0</td>\n",
       "      <td>2.0</td>\n",
       "      <td>0.0</td>\n",
       "    </tr>\n",
       "    <tr>\n",
       "      <th>6365</th>\n",
       "      <td>40.0</td>\n",
       "      <td>4.0</td>\n",
       "      <td>0.0</td>\n",
       "    </tr>\n",
       "  </tbody>\n",
       "</table>\n",
       "</div>"
      ],
      "text/plain": [
       "       minute  minute_1  minute_2\n",
       "19863    41.0       4.0       1.0\n",
       "18091    30.0       3.0       0.0\n",
       "15602    18.0       1.0       8.0\n",
       "15298    37.0       3.0       7.0\n",
       "6933     42.0       4.0       2.0\n",
       "15720    34.0       3.0       4.0\n",
       "16630    10.0       1.0       0.0\n",
       "15961    52.0       5.0       2.0\n",
       "19411    20.0       2.0       0.0\n",
       "6365     40.0       4.0       0.0"
      ]
     },
     "execution_count": 45,
     "metadata": {},
     "output_type": "execute_result"
    }
   ],
   "source": [
    "df_num_mincheck = df_num[~pd.isna(df_num['minute_1'])]\n",
    "df_num_mincheck = df_num_mincheck[~pd.isna(df_num_mincheck['minute_2'])]\n",
    "df_num_mincheck['minute'] = df_num_mincheck['minute_1'].astype(int).astype(str) + df_num_mincheck['minute_2'].astype(int).astype(str)\n",
    "df_num_mincheck['minute'] = df_num_mincheck['minute'].astype(int)\n",
    "df_num_mincheck['minute'] = df_num_mincheck['minute'].apply(lambda x: np.nan if x>59 else x)\n",
    "df_num_nullmin = df_num.loc[pd.isna(df_num['minute_1']) | pd.isna(df_num['minute_2'])]\n",
    "df_num_nullmin = df_num_nullmin.copy(deep=True)\n",
    "df_num_nullmin['minute'] = np.nan\n",
    "df_num = pd.concat([df_num_mincheck, df_num_nullmin])\n",
    "print(len(df_num))\n",
    "df_num[['minute', 'minute_1', 'minute_2']].sample(10)"
   ]
  },
  {
   "cell_type": "markdown",
   "id": "6bd6cc07",
   "metadata": {},
   "source": [
    "second:"
   ]
  },
  {
   "cell_type": "code",
   "execution_count": 46,
   "id": "a0a0b9f1",
   "metadata": {},
   "outputs": [
    {
     "data": {
      "text/plain": [
       "<Axes: xlabel='second_1', ylabel='Count'>"
      ]
     },
     "execution_count": 46,
     "metadata": {},
     "output_type": "execute_result"
    },
    {
     "data": {
      "image/png": "[encoded data removed]",
      "text/plain": [
       "<Figure size 640x480 with 1 Axes>"
      ]
     },
     "metadata": {},
     "output_type": "display_data"
    }
   ],
   "source": [
    "df_num['second_1'] = df_num['second_1'].astype(int)\n",
    "sns.histplot(data=df_num, x='second_1')"
   ]
  },
  {
   "cell_type": "code",
   "execution_count": 47,
   "id": "1d1b569f",
   "metadata": {},
   "outputs": [],
   "source": [
    "df_num['second_1'] = df_num['second_1'].apply(lambda x: np.nan if x>9 else x)"
   ]
  },
  {
   "cell_type": "code",
   "execution_count": 48,
   "id": "b8cc5232",
   "metadata": {},
   "outputs": [
    {
     "data": {
      "text/plain": [
       "<Axes: xlabel='second_2', ylabel='Count'>"
      ]
     },
     "execution_count": 48,
     "metadata": {},
     "output_type": "execute_result"
    },
    {
     "data": {
      "image/png": "[encoded data removed]",
      "text/plain": [
       "<Figure size 640x480 with 1 Axes>"
      ]
     },
     "metadata": {},
     "output_type": "display_data"
    }
   ],
   "source": [
    "df_num['second_2'] = df_num['second_2'].astype(int)\n",
    "sns.histplot(data=df_num, x='second_2')"
   ]
  },
  {
   "cell_type": "code",
   "execution_count": 49,
   "id": "bbb3ae19",
   "metadata": {},
   "outputs": [],
   "source": [
    "df_num['second_2'] = df_num['second_2'].apply(lambda x: np.nan if x>9 else x)"
   ]
  },
  {
   "cell_type": "code",
   "execution_count": 50,
   "id": "0eafd27a",
   "metadata": {},
   "outputs": [
    {
     "name": "stdout",
     "output_type": "stream",
     "text": [
      "4849\n"
     ]
    },
    {
     "data": {
      "text/html": [
       "<div>\n",
       "<style scoped>\n",
       "    .dataframe tbody tr th:only-of-type {\n",
       "        vertical-align: middle;\n",
       "    }\n",
       "\n",
       "    .dataframe tbody tr th {\n",
       "        vertical-align: top;\n",
       "    }\n",
       "\n",
       "    .dataframe thead th {\n",
       "        text-align: right;\n",
       "    }\n",
       "</style>\n",
       "<table border=\"1\" class=\"dataframe\">\n",
       "  <thead>\n",
       "    <tr style=\"text-align: right;\">\n",
       "      <th></th>\n",
       "      <th>second</th>\n",
       "      <th>second_1</th>\n",
       "      <th>second_2</th>\n",
       "    </tr>\n",
       "  </thead>\n",
       "  <tbody>\n",
       "    <tr>\n",
       "      <th>6344</th>\n",
       "      <td>42.0</td>\n",
       "      <td>4.0</td>\n",
       "      <td>2.0</td>\n",
       "    </tr>\n",
       "    <tr>\n",
       "      <th>19292</th>\n",
       "      <td>48.0</td>\n",
       "      <td>4.0</td>\n",
       "      <td>8.0</td>\n",
       "    </tr>\n",
       "    <tr>\n",
       "      <th>18177</th>\n",
       "      <td>44.0</td>\n",
       "      <td>4.0</td>\n",
       "      <td>4.0</td>\n",
       "    </tr>\n",
       "    <tr>\n",
       "      <th>18688</th>\n",
       "      <td>24.0</td>\n",
       "      <td>2.0</td>\n",
       "      <td>4.0</td>\n",
       "    </tr>\n",
       "    <tr>\n",
       "      <th>17067</th>\n",
       "      <td>22.0</td>\n",
       "      <td>2.0</td>\n",
       "      <td>2.0</td>\n",
       "    </tr>\n",
       "    <tr>\n",
       "      <th>14540</th>\n",
       "      <td>0.0</td>\n",
       "      <td>0.0</td>\n",
       "      <td>0.0</td>\n",
       "    </tr>\n",
       "    <tr>\n",
       "      <th>15839</th>\n",
       "      <td>6.0</td>\n",
       "      <td>0.0</td>\n",
       "      <td>6.0</td>\n",
       "    </tr>\n",
       "    <tr>\n",
       "      <th>20204</th>\n",
       "      <td>44.0</td>\n",
       "      <td>4.0</td>\n",
       "      <td>4.0</td>\n",
       "    </tr>\n",
       "    <tr>\n",
       "      <th>19579</th>\n",
       "      <td>35.0</td>\n",
       "      <td>3.0</td>\n",
       "      <td>5.0</td>\n",
       "    </tr>\n",
       "    <tr>\n",
       "      <th>18732</th>\n",
       "      <td>45.0</td>\n",
       "      <td>4.0</td>\n",
       "      <td>5.0</td>\n",
       "    </tr>\n",
       "  </tbody>\n",
       "</table>\n",
       "</div>"
      ],
      "text/plain": [
       "       second  second_1  second_2\n",
       "6344     42.0       4.0       2.0\n",
       "19292    48.0       4.0       8.0\n",
       "18177    44.0       4.0       4.0\n",
       "18688    24.0       2.0       4.0\n",
       "17067    22.0       2.0       2.0\n",
       "14540     0.0       0.0       0.0\n",
       "15839     6.0       0.0       6.0\n",
       "20204    44.0       4.0       4.0\n",
       "19579    35.0       3.0       5.0\n",
       "18732    45.0       4.0       5.0"
      ]
     },
     "execution_count": 50,
     "metadata": {},
     "output_type": "execute_result"
    }
   ],
   "source": [
    "df_num_seccheck = df_num[~pd.isna(df_num['second_1'])]\n",
    "df_num_seccheck = df_num_seccheck[~pd.isna(df_num_seccheck['second_2'])]\n",
    "df_num_seccheck['second'] = df_num_seccheck['second_1'].astype(int).astype(str) + df_num_seccheck['second_2'].astype(int).astype(str)\n",
    "df_num_seccheck['second'] = df_num_seccheck['second'].astype(int)\n",
    "df_num_seccheck['second'] = df_num_seccheck['second'].apply(lambda x: np.nan if x>59 else x)\n",
    "df_num_nullsec = df_num.loc[pd.isna(df_num['second_1']) | pd.isna(df_num['second_2'])]\n",
    "df_num_nullsec = df_num_nullsec.copy(deep=True)\n",
    "df_num_nullsec['second'] = np.nan\n",
    "df_num = pd.concat([df_num_seccheck, df_num_nullsec])\n",
    "print(len(df_num))\n",
    "df_num[['second', 'second_1', 'second_2']].sample(10)"
   ]
  },
  {
   "cell_type": "markdown",
   "id": "c958e5ca",
   "metadata": {},
   "source": [
    "construct timestamp:"
   ]
  },
  {
   "cell_type": "code",
   "execution_count": 51,
   "id": "6310e9b4",
   "metadata": {},
   "outputs": [
    {
     "data": {
      "text/html": [
       "<div>\n",
       "<style scoped>\n",
       "    .dataframe tbody tr th:only-of-type {\n",
       "        vertical-align: middle;\n",
       "    }\n",
       "\n",
       "    .dataframe tbody tr th {\n",
       "        vertical-align: top;\n",
       "    }\n",
       "\n",
       "    .dataframe thead th {\n",
       "        text-align: right;\n",
       "    }\n",
       "</style>\n",
       "<table border=\"1\" class=\"dataframe\">\n",
       "  <thead>\n",
       "    <tr style=\"text-align: right;\">\n",
       "      <th></th>\n",
       "      <th>year</th>\n",
       "      <th>month</th>\n",
       "      <th>day</th>\n",
       "      <th>hour</th>\n",
       "      <th>minute</th>\n",
       "      <th>second</th>\n",
       "      <th>Timestamp</th>\n",
       "    </tr>\n",
       "  </thead>\n",
       "  <tbody>\n",
       "    <tr>\n",
       "      <th>16108</th>\n",
       "      <td>1964.0</td>\n",
       "      <td>12</td>\n",
       "      <td>27</td>\n",
       "      <td>4.0</td>\n",
       "      <td>22.0</td>\n",
       "      <td>11.0</td>\n",
       "      <td>1964-12-27 04:22:11</td>\n",
       "    </tr>\n",
       "    <tr>\n",
       "      <th>18175</th>\n",
       "      <td>1965.0</td>\n",
       "      <td>10</td>\n",
       "      <td>13</td>\n",
       "      <td>10.0</td>\n",
       "      <td>42.0</td>\n",
       "      <td>9.0</td>\n",
       "      <td>1965-10-13 10:42:09</td>\n",
       "    </tr>\n",
       "    <tr>\n",
       "      <th>18934</th>\n",
       "      <td>1965.0</td>\n",
       "      <td>10</td>\n",
       "      <td>18</td>\n",
       "      <td>0.0</td>\n",
       "      <td>57.0</td>\n",
       "      <td>4.0</td>\n",
       "      <td>1965-10-18 00:57:04</td>\n",
       "    </tr>\n",
       "    <tr>\n",
       "      <th>19544</th>\n",
       "      <td>1966.0</td>\n",
       "      <td>03</td>\n",
       "      <td>25</td>\n",
       "      <td>5.0</td>\n",
       "      <td>47.0</td>\n",
       "      <td>10.0</td>\n",
       "      <td>1966-03-25 05:47:10</td>\n",
       "    </tr>\n",
       "    <tr>\n",
       "      <th>15499</th>\n",
       "      <td>1966.0</td>\n",
       "      <td>08</td>\n",
       "      <td>02</td>\n",
       "      <td>11.0</td>\n",
       "      <td>0.0</td>\n",
       "      <td>55.0</td>\n",
       "      <td>1966-08-02 11:00:55</td>\n",
       "    </tr>\n",
       "    <tr>\n",
       "      <th>19346</th>\n",
       "      <td>1963.0</td>\n",
       "      <td>NaN</td>\n",
       "      <td>NaN</td>\n",
       "      <td>NaN</td>\n",
       "      <td>5.0</td>\n",
       "      <td>NaN</td>\n",
       "      <td>NaT</td>\n",
       "    </tr>\n",
       "    <tr>\n",
       "      <th>18188</th>\n",
       "      <td>1965.0</td>\n",
       "      <td>10</td>\n",
       "      <td>13</td>\n",
       "      <td>10.0</td>\n",
       "      <td>45.0</td>\n",
       "      <td>39.0</td>\n",
       "      <td>1965-10-13 10:45:39</td>\n",
       "    </tr>\n",
       "    <tr>\n",
       "      <th>20578</th>\n",
       "      <td>1965.0</td>\n",
       "      <td>10</td>\n",
       "      <td>31</td>\n",
       "      <td>1.0</td>\n",
       "      <td>45.0</td>\n",
       "      <td>30.0</td>\n",
       "      <td>1965-10-31 01:45:30</td>\n",
       "    </tr>\n",
       "    <tr>\n",
       "      <th>6895</th>\n",
       "      <td>1964.0</td>\n",
       "      <td>08</td>\n",
       "      <td>12</td>\n",
       "      <td>4.0</td>\n",
       "      <td>22.0</td>\n",
       "      <td>42.0</td>\n",
       "      <td>1964-08-12 04:22:42</td>\n",
       "    </tr>\n",
       "    <tr>\n",
       "      <th>18185</th>\n",
       "      <td>1965.0</td>\n",
       "      <td>10</td>\n",
       "      <td>13</td>\n",
       "      <td>10.0</td>\n",
       "      <td>44.0</td>\n",
       "      <td>47.0</td>\n",
       "      <td>1965-10-13 10:44:47</td>\n",
       "    </tr>\n",
       "  </tbody>\n",
       "</table>\n",
       "</div>"
      ],
      "text/plain": [
       "         year month  day  hour  minute  second           Timestamp\n",
       "16108  1964.0    12   27   4.0    22.0    11.0 1964-12-27 04:22:11\n",
       "18175  1965.0    10   13  10.0    42.0     9.0 1965-10-13 10:42:09\n",
       "18934  1965.0    10   18   0.0    57.0     4.0 1965-10-18 00:57:04\n",
       "19544  1966.0    03   25   5.0    47.0    10.0 1966-03-25 05:47:10\n",
       "15499  1966.0    08   02  11.0     0.0    55.0 1966-08-02 11:00:55\n",
       "19346  1963.0   NaN  NaN   NaN     5.0     NaN                 NaT\n",
       "18188  1965.0    10   13  10.0    45.0    39.0 1965-10-13 10:45:39\n",
       "20578  1965.0    10   31   1.0    45.0    30.0 1965-10-31 01:45:30\n",
       "6895   1964.0    08   12   4.0    22.0    42.0 1964-08-12 04:22:42\n",
       "18185  1965.0    10   13  10.0    44.0    47.0 1965-10-13 10:44:47"
      ]
     },
     "execution_count": 51,
     "metadata": {},
     "output_type": "execute_result"
    }
   ],
   "source": [
    "df_num['month_day'] = pd.to_datetime(df_num['day_of_year'], format='%j').dt.strftime('%m-%d')\n",
    "df_num['month'] = df_num['month_day'].str.split('-').str[0]\n",
    "df_num['day'] = df_num['month_day'].str.split('-').str[1]\n",
    "df_num['Timestamp'] = pd.to_datetime(df_num[['year', 'month', 'day', 'hour', 'minute', 'second']], format='%Y-%m-%d %H:%M:%S')\n",
    "df_num[['year', 'month', 'day', 'hour', 'minute', 'second', 'Timestamp']].sample(10)"
   ]
  },
  {
   "cell_type": "markdown",
   "id": "e6f6e411",
   "metadata": {},
   "source": [
    "#### dot - check timestamp components, construct timestamp:"
   ]
  },
  {
   "cell_type": "code",
   "execution_count": 52,
   "id": "c46e1d3a",
   "metadata": {},
   "outputs": [
    {
     "data": {
      "text/html": [
       "<div>\n",
       "<style scoped>\n",
       "    .dataframe tbody tr th:only-of-type {\n",
       "        vertical-align: middle;\n",
       "    }\n",
       "\n",
       "    .dataframe tbody tr th {\n",
       "        vertical-align: top;\n",
       "    }\n",
       "\n",
       "    .dataframe thead th {\n",
       "        text-align: right;\n",
       "    }\n",
       "</style>\n",
       "<table border=\"1\" class=\"dataframe\">\n",
       "  <thead>\n",
       "    <tr style=\"text-align: right;\">\n",
       "      <th></th>\n",
       "      <th>year_1</th>\n",
       "      <th>day_1</th>\n",
       "      <th>day_2</th>\n",
       "      <th>day_3</th>\n",
       "      <th>hour_1</th>\n",
       "      <th>hour_2</th>\n",
       "      <th>minute_1</th>\n",
       "      <th>minute_2</th>\n",
       "      <th>second_1</th>\n",
       "      <th>second_2</th>\n",
       "      <th>is_dot</th>\n",
       "    </tr>\n",
       "  </thead>\n",
       "  <tbody>\n",
       "    <tr>\n",
       "      <th>18435</th>\n",
       "      <td>NaN</td>\n",
       "      <td>1.0</td>\n",
       "      <td>8.0</td>\n",
       "      <td>8.0</td>\n",
       "      <td>8.0</td>\n",
       "      <td>9.0</td>\n",
       "      <td>1.0</td>\n",
       "      <td>0.0</td>\n",
       "      <td>25.0</td>\n",
       "      <td>0.0</td>\n",
       "      <td>NaN</td>\n",
       "    </tr>\n",
       "    <tr>\n",
       "      <th>17676</th>\n",
       "      <td>NaN</td>\n",
       "      <td>1.0</td>\n",
       "      <td>12.0</td>\n",
       "      <td>8.0</td>\n",
       "      <td>20.0</td>\n",
       "      <td>4.0</td>\n",
       "      <td>0.0</td>\n",
       "      <td>12.0</td>\n",
       "      <td>12.0</td>\n",
       "      <td>13.0</td>\n",
       "      <td>NaN</td>\n",
       "    </tr>\n",
       "    <tr>\n",
       "      <th>17690</th>\n",
       "      <td>NaN</td>\n",
       "      <td>1.0</td>\n",
       "      <td>4.0</td>\n",
       "      <td>4.0</td>\n",
       "      <td>4.0</td>\n",
       "      <td>8.0</td>\n",
       "      <td>0.0</td>\n",
       "      <td>0.0</td>\n",
       "      <td>13.0</td>\n",
       "      <td>1.0</td>\n",
       "      <td>NaN</td>\n",
       "    </tr>\n",
       "    <tr>\n",
       "      <th>17501</th>\n",
       "      <td>NaN</td>\n",
       "      <td>1.0</td>\n",
       "      <td>8.0</td>\n",
       "      <td>8.0</td>\n",
       "      <td>8.0</td>\n",
       "      <td>8.0</td>\n",
       "      <td>8.0</td>\n",
       "      <td>0.0</td>\n",
       "      <td>9.0</td>\n",
       "      <td>1.0</td>\n",
       "      <td>NaN</td>\n",
       "    </tr>\n",
       "    <tr>\n",
       "      <th>18286</th>\n",
       "      <td>NaN</td>\n",
       "      <td>1.0</td>\n",
       "      <td>8.0</td>\n",
       "      <td>8.0</td>\n",
       "      <td>8.0</td>\n",
       "      <td>10.0</td>\n",
       "      <td>8.0</td>\n",
       "      <td>9.0</td>\n",
       "      <td>0.0</td>\n",
       "      <td>0.0</td>\n",
       "      <td>NaN</td>\n",
       "    </tr>\n",
       "    <tr>\n",
       "      <th>17588</th>\n",
       "      <td>NaN</td>\n",
       "      <td>1.0</td>\n",
       "      <td>4.0</td>\n",
       "      <td>8.0</td>\n",
       "      <td>5.0</td>\n",
       "      <td>8.0</td>\n",
       "      <td>4.0</td>\n",
       "      <td>8.0</td>\n",
       "      <td>12.0</td>\n",
       "      <td>8.0</td>\n",
       "      <td>NaN</td>\n",
       "    </tr>\n",
       "    <tr>\n",
       "      <th>17728</th>\n",
       "      <td>NaN</td>\n",
       "      <td>1.0</td>\n",
       "      <td>8.0</td>\n",
       "      <td>0.0</td>\n",
       "      <td>0.0</td>\n",
       "      <td>8.0</td>\n",
       "      <td>16.0</td>\n",
       "      <td>0.0</td>\n",
       "      <td>8.0</td>\n",
       "      <td>1.0</td>\n",
       "      <td>NaN</td>\n",
       "    </tr>\n",
       "    <tr>\n",
       "      <th>17453</th>\n",
       "      <td>NaN</td>\n",
       "      <td>1.0</td>\n",
       "      <td>12.0</td>\n",
       "      <td>4.0</td>\n",
       "      <td>12.0</td>\n",
       "      <td>0.0</td>\n",
       "      <td>9.0</td>\n",
       "      <td>8.0</td>\n",
       "      <td>20.0</td>\n",
       "      <td>8.0</td>\n",
       "      <td>NaN</td>\n",
       "    </tr>\n",
       "    <tr>\n",
       "      <th>17548</th>\n",
       "      <td>NaN</td>\n",
       "      <td>4.0</td>\n",
       "      <td>0.0</td>\n",
       "      <td>0.0</td>\n",
       "      <td>8.0</td>\n",
       "      <td>0.0</td>\n",
       "      <td>0.0</td>\n",
       "      <td>0.0</td>\n",
       "      <td>9.0</td>\n",
       "      <td>16.0</td>\n",
       "      <td>NaN</td>\n",
       "    </tr>\n",
       "    <tr>\n",
       "      <th>18227</th>\n",
       "      <td>NaN</td>\n",
       "      <td>1.0</td>\n",
       "      <td>8.0</td>\n",
       "      <td>8.0</td>\n",
       "      <td>8.0</td>\n",
       "      <td>8.0</td>\n",
       "      <td>9.0</td>\n",
       "      <td>0.0</td>\n",
       "      <td>1.0</td>\n",
       "      <td>0.0</td>\n",
       "      <td>NaN</td>\n",
       "    </tr>\n",
       "  </tbody>\n",
       "</table>\n",
       "</div>"
      ],
      "text/plain": [
       "       year_1  day_1  day_2  day_3  hour_1  hour_2  minute_1  minute_2  \\\n",
       "18435     NaN    1.0    8.0    8.0     8.0     9.0       1.0       0.0   \n",
       "17676     NaN    1.0   12.0    8.0    20.0     4.0       0.0      12.0   \n",
       "17690     NaN    1.0    4.0    4.0     4.0     8.0       0.0       0.0   \n",
       "17501     NaN    1.0    8.0    8.0     8.0     8.0       8.0       0.0   \n",
       "18286     NaN    1.0    8.0    8.0     8.0    10.0       8.0       9.0   \n",
       "17588     NaN    1.0    4.0    8.0     5.0     8.0       4.0       8.0   \n",
       "17728     NaN    1.0    8.0    0.0     0.0     8.0      16.0       0.0   \n",
       "17453     NaN    1.0   12.0    4.0    12.0     0.0       9.0       8.0   \n",
       "17548     NaN    4.0    0.0    0.0     8.0     0.0       0.0       0.0   \n",
       "18227     NaN    1.0    8.0    8.0     8.0     8.0       9.0       0.0   \n",
       "\n",
       "       second_1  second_2 is_dot  \n",
       "18435      25.0       0.0    NaN  \n",
       "17676      12.0      13.0    NaN  \n",
       "17690      13.0       1.0    NaN  \n",
       "17501       9.0       1.0    NaN  \n",
       "18286       0.0       0.0    NaN  \n",
       "17588      12.0       8.0    NaN  \n",
       "17728       8.0       1.0    NaN  \n",
       "17453      20.0       8.0    NaN  \n",
       "17548       9.0      16.0    NaN  \n",
       "18227       1.0       0.0    NaN  "
      ]
     },
     "execution_count": 52,
     "metadata": {},
     "output_type": "execute_result"
    }
   ],
   "source": [
    "df_dot = df_dot.copy(deep=True)\n",
    "df_dot[['year_1', 'day_1', 'day_2', 'day_3', 'hour_1', 'hour_2', 'minute_1', 'minute_2', 'second_1', 'second_2', 'is_dot']].sample(10)"
   ]
  },
  {
   "cell_type": "markdown",
   "id": "f2752122",
   "metadata": {},
   "source": [
    "day:"
   ]
  },
  {
   "cell_type": "code",
   "execution_count": 53,
   "id": "6f77f935",
   "metadata": {},
   "outputs": [
    {
     "data": {
      "text/plain": [
       "<Axes: xlabel='day_1', ylabel='Count'>"
      ]
     },
     "execution_count": 53,
     "metadata": {},
     "output_type": "execute_result"
    },
    {
     "data": {
      "image/png": "[encoded data removed]",
      "text/plain": [
       "<Figure size 640x480 with 1 Axes>"
      ]
     },
     "metadata": {},
     "output_type": "display_data"
    }
   ],
   "source": [
    "df_dot['day_1'] = df_dot['day_1'].astype(int)\n",
    "sns.histplot(data=df_dot, x='day_1')"
   ]
  },
  {
   "cell_type": "code",
   "execution_count": 54,
   "id": "a9b647f4",
   "metadata": {},
   "outputs": [],
   "source": [
    "df_dot['day_1'] = df_dot['day_1'].apply(lambda x: np.nan if x>9 else x)"
   ]
  },
  {
   "cell_type": "code",
   "execution_count": 55,
   "id": "90dc5a4f",
   "metadata": {},
   "outputs": [
    {
     "data": {
      "text/plain": [
       "<Axes: xlabel='day_2', ylabel='Count'>"
      ]
     },
     "execution_count": 55,
     "metadata": {},
     "output_type": "execute_result"
    },
    {
     "data": {
      "image/png": "[encoded data removed]",
      "text/plain": [
       "<Figure size 640x480 with 1 Axes>"
      ]
     },
     "metadata": {},
     "output_type": "display_data"
    }
   ],
   "source": [
    "df_dot['day_2'] = df_dot['day_2'].astype(int)\n",
    "sns.histplot(data=df_dot, x='day_2')"
   ]
  },
  {
   "cell_type": "code",
   "execution_count": 56,
   "id": "207dcc83",
   "metadata": {},
   "outputs": [],
   "source": [
    "df_dot['day_2'] = df_dot['day_2'].apply(lambda x: np.nan if x>9 else x)"
   ]
  },
  {
   "cell_type": "code",
   "execution_count": 57,
   "id": "1e1a1f93",
   "metadata": {},
   "outputs": [
    {
     "data": {
      "text/plain": [
       "<Axes: xlabel='day_3', ylabel='Count'>"
      ]
     },
     "execution_count": 57,
     "metadata": {},
     "output_type": "execute_result"
    },
    {
     "data": {
      "image/png": "[encoded data removed]",
      "text/plain": [
       "<Figure size 640x480 with 1 Axes>"
      ]
     },
     "metadata": {},
     "output_type": "display_data"
    }
   ],
   "source": [
    "df_dot['day_3'] = df_dot['day_3'].astype(int)\n",
    "sns.histplot(data=df_dot, x='day_3')"
   ]
  },
  {
   "cell_type": "code",
   "execution_count": 58,
   "id": "feb1b2cf",
   "metadata": {},
   "outputs": [],
   "source": [
    "df_dot['day_3'] = df_dot['day_3'].apply(lambda x: np.nan if x>9 else x)"
   ]
  },
  {
   "cell_type": "code",
   "execution_count": 59,
   "id": "14ba9eb5",
   "metadata": {},
   "outputs": [
    {
     "name": "stdout",
     "output_type": "stream",
     "text": [
      "589\n"
     ]
    },
    {
     "data": {
      "text/html": [
       "<div>\n",
       "<style scoped>\n",
       "    .dataframe tbody tr th:only-of-type {\n",
       "        vertical-align: middle;\n",
       "    }\n",
       "\n",
       "    .dataframe tbody tr th {\n",
       "        vertical-align: top;\n",
       "    }\n",
       "\n",
       "    .dataframe thead th {\n",
       "        text-align: right;\n",
       "    }\n",
       "</style>\n",
       "<table border=\"1\" class=\"dataframe\">\n",
       "  <thead>\n",
       "    <tr style=\"text-align: right;\">\n",
       "      <th></th>\n",
       "      <th>day_of_year</th>\n",
       "      <th>day_1</th>\n",
       "      <th>day_2</th>\n",
       "      <th>day_3</th>\n",
       "    </tr>\n",
       "  </thead>\n",
       "  <tbody>\n",
       "    <tr>\n",
       "      <th>18282</th>\n",
       "      <td>180.0</td>\n",
       "      <td>1</td>\n",
       "      <td>8.0</td>\n",
       "      <td>0</td>\n",
       "    </tr>\n",
       "    <tr>\n",
       "      <th>17673</th>\n",
       "      <td>188.0</td>\n",
       "      <td>1</td>\n",
       "      <td>8.0</td>\n",
       "      <td>8</td>\n",
       "    </tr>\n",
       "    <tr>\n",
       "      <th>18302</th>\n",
       "      <td>180.0</td>\n",
       "      <td>1</td>\n",
       "      <td>8.0</td>\n",
       "      <td>0</td>\n",
       "    </tr>\n",
       "    <tr>\n",
       "      <th>18248</th>\n",
       "      <td>NaN</td>\n",
       "      <td>1</td>\n",
       "      <td>NaN</td>\n",
       "      <td>8</td>\n",
       "    </tr>\n",
       "    <tr>\n",
       "      <th>18411</th>\n",
       "      <td>180.0</td>\n",
       "      <td>1</td>\n",
       "      <td>8.0</td>\n",
       "      <td>0</td>\n",
       "    </tr>\n",
       "    <tr>\n",
       "      <th>17489</th>\n",
       "      <td>180.0</td>\n",
       "      <td>1</td>\n",
       "      <td>8.0</td>\n",
       "      <td>0</td>\n",
       "    </tr>\n",
       "    <tr>\n",
       "      <th>17670</th>\n",
       "      <td>188.0</td>\n",
       "      <td>1</td>\n",
       "      <td>8.0</td>\n",
       "      <td>8</td>\n",
       "    </tr>\n",
       "    <tr>\n",
       "      <th>18484</th>\n",
       "      <td>188.0</td>\n",
       "      <td>1</td>\n",
       "      <td>8.0</td>\n",
       "      <td>8</td>\n",
       "    </tr>\n",
       "    <tr>\n",
       "      <th>18464</th>\n",
       "      <td>188.0</td>\n",
       "      <td>1</td>\n",
       "      <td>8.0</td>\n",
       "      <td>8</td>\n",
       "    </tr>\n",
       "    <tr>\n",
       "      <th>17678</th>\n",
       "      <td>NaN</td>\n",
       "      <td>1</td>\n",
       "      <td>NaN</td>\n",
       "      <td>8</td>\n",
       "    </tr>\n",
       "  </tbody>\n",
       "</table>\n",
       "</div>"
      ],
      "text/plain": [
       "       day_of_year  day_1  day_2  day_3\n",
       "18282        180.0      1    8.0      0\n",
       "17673        188.0      1    8.0      8\n",
       "18302        180.0      1    8.0      0\n",
       "18248          NaN      1    NaN      8\n",
       "18411        180.0      1    8.0      0\n",
       "17489        180.0      1    8.0      0\n",
       "17670        188.0      1    8.0      8\n",
       "18484        188.0      1    8.0      8\n",
       "18464        188.0      1    8.0      8\n",
       "17678          NaN      1    NaN      8"
      ]
     },
     "execution_count": 59,
     "metadata": {},
     "output_type": "execute_result"
    }
   ],
   "source": [
    "df_dot_daycheck = df_dot[~pd.isna(df_dot['day_1'])]\n",
    "df_dot_daycheck = df_dot_daycheck[~pd.isna(df_dot_daycheck['day_2'])]\n",
    "df_dot_daycheck = df_dot_daycheck[~pd.isna(df_dot_daycheck['day_3'])]\n",
    "df_dot_daycheck['day_of_year'] = df_dot_daycheck['day_1'].astype(int).astype(str) + df_dot_daycheck['day_2'].astype(int).astype(str) + df_dot_daycheck['day_3'].astype(int).astype(str)\n",
    "df_dot_daycheck['day_of_year'] = df_dot_daycheck['day_of_year'].astype(int)\n",
    "df_dot_daycheck['day_of_year'] = df_dot_daycheck['day_of_year'].apply(lambda x: np.nan if x>366 else x)\n",
    "df_dot_daycheck['day_of_year'] = df_dot_daycheck['day_of_year'].apply(lambda x: np.nan if x==0 else x)\n",
    "df_dot_nullday = df_dot.loc[pd.isna(df_dot['day_1']) | pd.isna(df_dot['day_2']) | pd.isna(df_dot['day_3'])]\n",
    "df_dot_nullday = df_dot_nullday.copy(deep=True)\n",
    "df_dot_nullday['day_of_year'] = np.nan\n",
    "df_dot = pd.concat([df_dot_daycheck, df_dot_nullday])\n",
    "print(len(df_dot))\n",
    "df_dot[['day_of_year', 'day_1', 'day_2', 'day_3']].sample(10)"
   ]
  },
  {
   "cell_type": "markdown",
   "id": "4a362cd7",
   "metadata": {},
   "source": [
    "year - infer from day:"
   ]
  },
  {
   "cell_type": "code",
   "execution_count": 60,
   "id": "03746f1c",
   "metadata": {},
   "outputs": [
    {
     "name": "stderr",
     "output_type": "stream",
     "text": [
      "C:\\Users\\rnaidoo\\AppData\\Local\\Temp\\ipykernel_22416\\2722169012.py:8: SettingWithCopyWarning: \n",
      "A value is trying to be set on a copy of a slice from a DataFrame\n",
      "\n",
      "See the caveats in the documentation: https://pandas.pydata.org/pandas-docs/stable/user_guide/indexing.html#returning-a-view-versus-a-copy\n",
      "  df_dot['year'].iloc[i] = 1963\n",
      "C:\\Users\\rnaidoo\\AppData\\Local\\Temp\\ipykernel_22416\\2722169012.py:6: SettingWithCopyWarning: \n",
      "A value is trying to be set on a copy of a slice from a DataFrame\n",
      "\n",
      "See the caveats in the documentation: https://pandas.pydata.org/pandas-docs/stable/user_guide/indexing.html#returning-a-view-versus-a-copy\n",
      "  df_dot['year'].iloc[i] = 1962\n"
     ]
    },
    {
     "data": {
      "text/html": [
       "<div>\n",
       "<style scoped>\n",
       "    .dataframe tbody tr th:only-of-type {\n",
       "        vertical-align: middle;\n",
       "    }\n",
       "\n",
       "    .dataframe tbody tr th {\n",
       "        vertical-align: top;\n",
       "    }\n",
       "\n",
       "    .dataframe thead th {\n",
       "        text-align: right;\n",
       "    }\n",
       "</style>\n",
       "<table border=\"1\" class=\"dataframe\">\n",
       "  <thead>\n",
       "    <tr style=\"text-align: right;\">\n",
       "      <th></th>\n",
       "      <th>year</th>\n",
       "      <th>day_of_year</th>\n",
       "      <th>day_1</th>\n",
       "      <th>day_2</th>\n",
       "      <th>day_3</th>\n",
       "    </tr>\n",
       "  </thead>\n",
       "  <tbody>\n",
       "    <tr>\n",
       "      <th>18461</th>\n",
       "      <td>NaN</td>\n",
       "      <td>NaN</td>\n",
       "      <td>1</td>\n",
       "      <td>NaN</td>\n",
       "      <td>8</td>\n",
       "    </tr>\n",
       "    <tr>\n",
       "      <th>17603</th>\n",
       "      <td>1963.0</td>\n",
       "      <td>180.0</td>\n",
       "      <td>1</td>\n",
       "      <td>8.0</td>\n",
       "      <td>0</td>\n",
       "    </tr>\n",
       "    <tr>\n",
       "      <th>18334</th>\n",
       "      <td>1963.0</td>\n",
       "      <td>180.0</td>\n",
       "      <td>1</td>\n",
       "      <td>8.0</td>\n",
       "      <td>0</td>\n",
       "    </tr>\n",
       "    <tr>\n",
       "      <th>17651</th>\n",
       "      <td>1963.0</td>\n",
       "      <td>180.0</td>\n",
       "      <td>1</td>\n",
       "      <td>8.0</td>\n",
       "      <td>0</td>\n",
       "    </tr>\n",
       "    <tr>\n",
       "      <th>17640</th>\n",
       "      <td>1963.0</td>\n",
       "      <td>180.0</td>\n",
       "      <td>1</td>\n",
       "      <td>8.0</td>\n",
       "      <td>0</td>\n",
       "    </tr>\n",
       "    <tr>\n",
       "      <th>18338</th>\n",
       "      <td>NaN</td>\n",
       "      <td>NaN</td>\n",
       "      <td>1</td>\n",
       "      <td>NaN</td>\n",
       "      <td>8</td>\n",
       "    </tr>\n",
       "    <tr>\n",
       "      <th>18471</th>\n",
       "      <td>1963.0</td>\n",
       "      <td>162.0</td>\n",
       "      <td>1</td>\n",
       "      <td>6.0</td>\n",
       "      <td>2</td>\n",
       "    </tr>\n",
       "    <tr>\n",
       "      <th>18262</th>\n",
       "      <td>1963.0</td>\n",
       "      <td>188.0</td>\n",
       "      <td>1</td>\n",
       "      <td>8.0</td>\n",
       "      <td>8</td>\n",
       "    </tr>\n",
       "    <tr>\n",
       "      <th>17488</th>\n",
       "      <td>1963.0</td>\n",
       "      <td>140.0</td>\n",
       "      <td>1</td>\n",
       "      <td>4.0</td>\n",
       "      <td>0</td>\n",
       "    </tr>\n",
       "    <tr>\n",
       "      <th>18413</th>\n",
       "      <td>NaN</td>\n",
       "      <td>NaN</td>\n",
       "      <td>1</td>\n",
       "      <td>NaN</td>\n",
       "      <td>8</td>\n",
       "    </tr>\n",
       "  </tbody>\n",
       "</table>\n",
       "</div>"
      ],
      "text/plain": [
       "         year  day_of_year  day_1  day_2  day_3\n",
       "18461     NaN          NaN      1    NaN      8\n",
       "17603  1963.0        180.0      1    8.0      0\n",
       "18334  1963.0        180.0      1    8.0      0\n",
       "17651  1963.0        180.0      1    8.0      0\n",
       "17640  1963.0        180.0      1    8.0      0\n",
       "18338     NaN          NaN      1    NaN      8\n",
       "18471  1963.0        162.0      1    6.0      2\n",
       "18262  1963.0        188.0      1    8.0      8\n",
       "17488  1963.0        140.0      1    4.0      0\n",
       "18413     NaN          NaN      1    NaN      8"
      ]
     },
     "execution_count": 60,
     "metadata": {},
     "output_type": "execute_result"
    }
   ],
   "source": [
    "df_dot['year'] = np.nan\n",
    "for i in range(0, len(df_dot)):\n",
    "    day = df_dot['day_of_year'].iloc[i]\n",
    "    if (day < 366) & (day > 0):\n",
    "        if day > 271:\n",
    "            df_dot['year'].iloc[i] = 1962\n",
    "        else:\n",
    "            df_dot['year'].iloc[i] = 1963\n",
    "df_dot[['year', 'day_of_year', 'day_1', 'day_2', 'day_3']].sample(10)"
   ]
  },
  {
   "cell_type": "markdown",
   "id": "fc9b01cc",
   "metadata": {},
   "source": [
    "hour:"
   ]
  },
  {
   "cell_type": "code",
   "execution_count": 61,
   "id": "443cf13c",
   "metadata": {},
   "outputs": [
    {
     "data": {
      "text/plain": [
       "<Axes: xlabel='hour_1', ylabel='Count'>"
      ]
     },
     "execution_count": 61,
     "metadata": {},
     "output_type": "execute_result"
    },
    {
     "data": {
      "image/png": "[encoded data removed]",
      "text/plain": [
       "<Figure size 640x480 with 1 Axes>"
      ]
     },
     "metadata": {},
     "output_type": "display_data"
    }
   ],
   "source": [
    "df_dot['hour_1'] = df_dot['hour_1'].astype(int)\n",
    "sns.histplot(data=df_dot, x='hour_1')"
   ]
  },
  {
   "cell_type": "code",
   "execution_count": 62,
   "id": "194d1da6",
   "metadata": {},
   "outputs": [],
   "source": [
    "df_dot['hour_1'] = df_dot['hour_1'].apply(lambda x: np.nan if x>9 else x)"
   ]
  },
  {
   "cell_type": "code",
   "execution_count": 63,
   "id": "f79835d6",
   "metadata": {},
   "outputs": [
    {
     "data": {
      "text/plain": [
       "<Axes: xlabel='hour_2', ylabel='Count'>"
      ]
     },
     "execution_count": 63,
     "metadata": {},
     "output_type": "execute_result"
    },
    {
     "data": {
      "image/png": "[encoded data removed]",
      "text/plain": [
       "<Figure size 640x480 with 1 Axes>"
      ]
     },
     "metadata": {},
     "output_type": "display_data"
    }
   ],
   "source": [
    "df_dot['hour_2'] = df_dot['hour_2'].astype(int)\n",
    "sns.histplot(data=df_dot, x='hour_2')"
   ]
  },
  {
   "cell_type": "code",
   "execution_count": 64,
   "id": "e75eba37",
   "metadata": {},
   "outputs": [],
   "source": [
    "df_dot['hour_2'] = df_dot['hour_2'].apply(lambda x: np.nan if x>9 else x)"
   ]
  },
  {
   "cell_type": "code",
   "execution_count": 65,
   "id": "32899cb8",
   "metadata": {},
   "outputs": [
    {
     "name": "stdout",
     "output_type": "stream",
     "text": [
      "589\n"
     ]
    },
    {
     "data": {
      "text/html": [
       "<div>\n",
       "<style scoped>\n",
       "    .dataframe tbody tr th:only-of-type {\n",
       "        vertical-align: middle;\n",
       "    }\n",
       "\n",
       "    .dataframe tbody tr th {\n",
       "        vertical-align: top;\n",
       "    }\n",
       "\n",
       "    .dataframe thead th {\n",
       "        text-align: right;\n",
       "    }\n",
       "</style>\n",
       "<table border=\"1\" class=\"dataframe\">\n",
       "  <thead>\n",
       "    <tr style=\"text-align: right;\">\n",
       "      <th></th>\n",
       "      <th>hour</th>\n",
       "      <th>hour_1</th>\n",
       "      <th>hour_2</th>\n",
       "    </tr>\n",
       "  </thead>\n",
       "  <tbody>\n",
       "    <tr>\n",
       "      <th>17748</th>\n",
       "      <td>NaN</td>\n",
       "      <td>8.0</td>\n",
       "      <td>8.0</td>\n",
       "    </tr>\n",
       "    <tr>\n",
       "      <th>18305</th>\n",
       "      <td>NaN</td>\n",
       "      <td>8.0</td>\n",
       "      <td>9.0</td>\n",
       "    </tr>\n",
       "    <tr>\n",
       "      <th>18421</th>\n",
       "      <td>NaN</td>\n",
       "      <td>NaN</td>\n",
       "      <td>9.0</td>\n",
       "    </tr>\n",
       "    <tr>\n",
       "      <th>18352</th>\n",
       "      <td>NaN</td>\n",
       "      <td>8.0</td>\n",
       "      <td>8.0</td>\n",
       "    </tr>\n",
       "    <tr>\n",
       "      <th>17711</th>\n",
       "      <td>NaN</td>\n",
       "      <td>NaN</td>\n",
       "      <td>0.0</td>\n",
       "    </tr>\n",
       "    <tr>\n",
       "      <th>18426</th>\n",
       "      <td>NaN</td>\n",
       "      <td>8.0</td>\n",
       "      <td>9.0</td>\n",
       "    </tr>\n",
       "    <tr>\n",
       "      <th>17577</th>\n",
       "      <td>18.0</td>\n",
       "      <td>1.0</td>\n",
       "      <td>8.0</td>\n",
       "    </tr>\n",
       "    <tr>\n",
       "      <th>18417</th>\n",
       "      <td>NaN</td>\n",
       "      <td>9.0</td>\n",
       "      <td>8.0</td>\n",
       "    </tr>\n",
       "    <tr>\n",
       "      <th>18219</th>\n",
       "      <td>NaN</td>\n",
       "      <td>9.0</td>\n",
       "      <td>8.0</td>\n",
       "    </tr>\n",
       "    <tr>\n",
       "      <th>17459</th>\n",
       "      <td>NaN</td>\n",
       "      <td>NaN</td>\n",
       "      <td>0.0</td>\n",
       "    </tr>\n",
       "  </tbody>\n",
       "</table>\n",
       "</div>"
      ],
      "text/plain": [
       "       hour  hour_1  hour_2\n",
       "17748   NaN     8.0     8.0\n",
       "18305   NaN     8.0     9.0\n",
       "18421   NaN     NaN     9.0\n",
       "18352   NaN     8.0     8.0\n",
       "17711   NaN     NaN     0.0\n",
       "18426   NaN     8.0     9.0\n",
       "17577  18.0     1.0     8.0\n",
       "18417   NaN     9.0     8.0\n",
       "18219   NaN     9.0     8.0\n",
       "17459   NaN     NaN     0.0"
      ]
     },
     "execution_count": 65,
     "metadata": {},
     "output_type": "execute_result"
    }
   ],
   "source": [
    "df_dot_hourcheck = df_dot[~pd.isna(df_dot['hour_1'])]\n",
    "df_dot_hourcheck = df_dot_hourcheck[~pd.isna(df_dot_hourcheck['hour_2'])]\n",
    "df_dot_hourcheck['hour'] = df_dot_hourcheck['hour_1'].astype(int).astype(str) + df_dot_hourcheck['hour_2'].astype(int).astype(str)\n",
    "df_dot_hourcheck['hour'] = df_dot_hourcheck['hour'].astype(int)\n",
    "df_dot_hourcheck['hour'] = df_dot_hourcheck['hour'].apply(lambda x: np.nan if x>23 else x)\n",
    "df_dot_nullhour = df_dot.loc[pd.isna(df_dot['hour_1']) | pd.isna(df_dot['hour_2'])]\n",
    "df_dot_nullhour = df_dot_nullhour.copy(deep=True)\n",
    "df_dot_nullhour['hour'] = np.nan\n",
    "df_dot = pd.concat([df_dot_hourcheck, df_dot_nullhour])\n",
    "print(len(df_dot))\n",
    "df_dot[['hour', 'hour_1', 'hour_2']].sample(10)"
   ]
  },
  {
   "cell_type": "markdown",
   "id": "0c516395",
   "metadata": {},
   "source": [
    "minute:"
   ]
  },
  {
   "cell_type": "code",
   "execution_count": 66,
   "id": "d5822474",
   "metadata": {},
   "outputs": [
    {
     "data": {
      "text/plain": [
       "<Axes: xlabel='minute_1', ylabel='Count'>"
      ]
     },
     "execution_count": 66,
     "metadata": {},
     "output_type": "execute_result"
    },
    {
     "data": {
      "image/png": "[encoded data removed]",
      "text/plain": [
       "<Figure size 640x480 with 1 Axes>"
      ]
     },
     "metadata": {},
     "output_type": "display_data"
    }
   ],
   "source": [
    "df_dot['minute_1'] = df_dot['minute_1'].astype(int)\n",
    "sns.histplot(data=df_dot, x='minute_1')"
   ]
  },
  {
   "cell_type": "code",
   "execution_count": 67,
   "id": "791be493",
   "metadata": {},
   "outputs": [],
   "source": [
    "df_dot['minute_1'] = df_dot['minute_1'].apply(lambda x: np.nan if x>9 else x)"
   ]
  },
  {
   "cell_type": "code",
   "execution_count": 68,
   "id": "5e58d79b",
   "metadata": {},
   "outputs": [
    {
     "data": {
      "text/plain": [
       "<Axes: xlabel='minute_2', ylabel='Count'>"
      ]
     },
     "execution_count": 68,
     "metadata": {},
     "output_type": "execute_result"
    },
    {
     "data": {
      "image/png": "[encoded data removed]",
      "text/plain": [
       "<Figure size 640x480 with 1 Axes>"
      ]
     },
     "metadata": {},
     "output_type": "display_data"
    }
   ],
   "source": [
    "df_dot['minute_2'] = df_dot['minute_2'].astype(int)\n",
    "sns.histplot(data=df_dot, x='minute_2')"
   ]
  },
  {
   "cell_type": "code",
   "execution_count": 69,
   "id": "09166ea1",
   "metadata": {},
   "outputs": [],
   "source": [
    "df_dot['minute_2'] = df_dot['minute_2'].apply(lambda x: np.nan if x>9 else x)"
   ]
  },
  {
   "cell_type": "code",
   "execution_count": 70,
   "id": "5481550c",
   "metadata": {},
   "outputs": [
    {
     "name": "stdout",
     "output_type": "stream",
     "text": [
      "589\n"
     ]
    },
    {
     "data": {
      "text/html": [
       "<div>\n",
       "<style scoped>\n",
       "    .dataframe tbody tr th:only-of-type {\n",
       "        vertical-align: middle;\n",
       "    }\n",
       "\n",
       "    .dataframe tbody tr th {\n",
       "        vertical-align: top;\n",
       "    }\n",
       "\n",
       "    .dataframe thead th {\n",
       "        text-align: right;\n",
       "    }\n",
       "</style>\n",
       "<table border=\"1\" class=\"dataframe\">\n",
       "  <thead>\n",
       "    <tr style=\"text-align: right;\">\n",
       "      <th></th>\n",
       "      <th>minute</th>\n",
       "      <th>minute_1</th>\n",
       "      <th>minute_2</th>\n",
       "    </tr>\n",
       "  </thead>\n",
       "  <tbody>\n",
       "    <tr>\n",
       "      <th>18480</th>\n",
       "      <td>NaN</td>\n",
       "      <td>NaN</td>\n",
       "      <td>0.0</td>\n",
       "    </tr>\n",
       "    <tr>\n",
       "      <th>17484</th>\n",
       "      <td>9.0</td>\n",
       "      <td>0.0</td>\n",
       "      <td>9.0</td>\n",
       "    </tr>\n",
       "    <tr>\n",
       "      <th>18417</th>\n",
       "      <td>NaN</td>\n",
       "      <td>9.0</td>\n",
       "      <td>1.0</td>\n",
       "    </tr>\n",
       "    <tr>\n",
       "      <th>17708</th>\n",
       "      <td>NaN</td>\n",
       "      <td>8.0</td>\n",
       "      <td>NaN</td>\n",
       "    </tr>\n",
       "    <tr>\n",
       "      <th>17457</th>\n",
       "      <td>NaN</td>\n",
       "      <td>9.0</td>\n",
       "      <td>8.0</td>\n",
       "    </tr>\n",
       "    <tr>\n",
       "      <th>17659</th>\n",
       "      <td>NaN</td>\n",
       "      <td>8.0</td>\n",
       "      <td>8.0</td>\n",
       "    </tr>\n",
       "    <tr>\n",
       "      <th>17670</th>\n",
       "      <td>NaN</td>\n",
       "      <td>NaN</td>\n",
       "      <td>8.0</td>\n",
       "    </tr>\n",
       "    <tr>\n",
       "      <th>17490</th>\n",
       "      <td>NaN</td>\n",
       "      <td>NaN</td>\n",
       "      <td>0.0</td>\n",
       "    </tr>\n",
       "    <tr>\n",
       "      <th>17605</th>\n",
       "      <td>0.0</td>\n",
       "      <td>0.0</td>\n",
       "      <td>0.0</td>\n",
       "    </tr>\n",
       "    <tr>\n",
       "      <th>17641</th>\n",
       "      <td>NaN</td>\n",
       "      <td>8.0</td>\n",
       "      <td>NaN</td>\n",
       "    </tr>\n",
       "  </tbody>\n",
       "</table>\n",
       "</div>"
      ],
      "text/plain": [
       "       minute  minute_1  minute_2\n",
       "18480     NaN       NaN       0.0\n",
       "17484     9.0       0.0       9.0\n",
       "18417     NaN       9.0       1.0\n",
       "17708     NaN       8.0       NaN\n",
       "17457     NaN       9.0       8.0\n",
       "17659     NaN       8.0       8.0\n",
       "17670     NaN       NaN       8.0\n",
       "17490     NaN       NaN       0.0\n",
       "17605     0.0       0.0       0.0\n",
       "17641     NaN       8.0       NaN"
      ]
     },
     "execution_count": 70,
     "metadata": {},
     "output_type": "execute_result"
    }
   ],
   "source": [
    "df_dot_mincheck = df_dot[~pd.isna(df_dot['minute_1'])]\n",
    "df_dot_mincheck = df_dot_mincheck[~pd.isna(df_dot_mincheck['minute_2'])]\n",
    "df_dot_mincheck['minute'] = df_dot_mincheck['minute_1'].astype(int).astype(str) + df_dot_mincheck['minute_2'].astype(int).astype(str)\n",
    "df_dot_mincheck['minute'] = df_dot_mincheck['minute'].astype(int)\n",
    "df_dot_mincheck['minute'] = df_dot_mincheck['minute'].apply(lambda x: np.nan if x>59 else x)\n",
    "df_dot_nullmin = df_dot.loc[pd.isna(df_dot['minute_1']) | pd.isna(df_dot['minute_2'])]\n",
    "df_dot_nullmin = df_dot_nullmin.copy(deep=True)\n",
    "df_dot_nullmin['minute'] = np.nan\n",
    "df_dot = pd.concat([df_dot_mincheck, df_dot_nullmin])\n",
    "print(len(df_dot))\n",
    "df_dot[['minute', 'minute_1', 'minute_2']].sample(10)"
   ]
  },
  {
   "cell_type": "markdown",
   "id": "5562f858",
   "metadata": {},
   "source": [
    "second:"
   ]
  },
  {
   "cell_type": "code",
   "execution_count": 71,
   "id": "4dc582e9",
   "metadata": {},
   "outputs": [
    {
     "data": {
      "text/plain": [
       "<Axes: xlabel='second_1', ylabel='Count'>"
      ]
     },
     "execution_count": 71,
     "metadata": {},
     "output_type": "execute_result"
    },
    {
     "data": {
      "image/png": "[encoded data removed]",
      "text/plain": [
       "<Figure size 640x480 with 1 Axes>"
      ]
     },
     "metadata": {},
     "output_type": "display_data"
    }
   ],
   "source": [
    "df_dot['second_1'] = df_dot['second_1'].astype(int)\n",
    "sns.histplot(data=df_dot, x='second_1')"
   ]
  },
  {
   "cell_type": "code",
   "execution_count": 72,
   "id": "ecbbafa0",
   "metadata": {},
   "outputs": [],
   "source": [
    "df_dot['second_1'] = df_dot['second_1'].apply(lambda x: np.nan if x>9 else x)"
   ]
  },
  {
   "cell_type": "code",
   "execution_count": 73,
   "id": "0d6331df",
   "metadata": {},
   "outputs": [
    {
     "data": {
      "text/plain": [
       "<Axes: xlabel='second_2', ylabel='Count'>"
      ]
     },
     "execution_count": 73,
     "metadata": {},
     "output_type": "execute_result"
    },
    {
     "data": {
      "image/png": "[encoded data removed]",
      "text/plain": [
       "<Figure size 640x480 with 1 Axes>"
      ]
     },
     "metadata": {},
     "output_type": "display_data"
    }
   ],
   "source": [
    "df_dot['second_2'] = df_dot['second_2'].astype(int)\n",
    "sns.histplot(data=df_dot, x='second_2')"
   ]
  },
  {
   "cell_type": "code",
   "execution_count": 74,
   "id": "f049339a",
   "metadata": {},
   "outputs": [],
   "source": [
    "df_dot['second_2'] = df_dot['second_2'].apply(lambda x: np.nan if x>9 else x)"
   ]
  },
  {
   "cell_type": "code",
   "execution_count": 75,
   "id": "c7c151dc",
   "metadata": {},
   "outputs": [
    {
     "name": "stdout",
     "output_type": "stream",
     "text": [
      "589\n"
     ]
    },
    {
     "data": {
      "text/html": [
       "<div>\n",
       "<style scoped>\n",
       "    .dataframe tbody tr th:only-of-type {\n",
       "        vertical-align: middle;\n",
       "    }\n",
       "\n",
       "    .dataframe tbody tr th {\n",
       "        vertical-align: top;\n",
       "    }\n",
       "\n",
       "    .dataframe thead th {\n",
       "        text-align: right;\n",
       "    }\n",
       "</style>\n",
       "<table border=\"1\" class=\"dataframe\">\n",
       "  <thead>\n",
       "    <tr style=\"text-align: right;\">\n",
       "      <th></th>\n",
       "      <th>second</th>\n",
       "      <th>second_1</th>\n",
       "      <th>second_2</th>\n",
       "    </tr>\n",
       "  </thead>\n",
       "  <tbody>\n",
       "    <tr>\n",
       "      <th>18288</th>\n",
       "      <td>8.0</td>\n",
       "      <td>0.0</td>\n",
       "      <td>8.0</td>\n",
       "    </tr>\n",
       "    <tr>\n",
       "      <th>17525</th>\n",
       "      <td>NaN</td>\n",
       "      <td>8.0</td>\n",
       "      <td>8.0</td>\n",
       "    </tr>\n",
       "    <tr>\n",
       "      <th>18228</th>\n",
       "      <td>18.0</td>\n",
       "      <td>1.0</td>\n",
       "      <td>8.0</td>\n",
       "    </tr>\n",
       "    <tr>\n",
       "      <th>17506</th>\n",
       "      <td>NaN</td>\n",
       "      <td>8.0</td>\n",
       "      <td>0.0</td>\n",
       "    </tr>\n",
       "    <tr>\n",
       "      <th>18289</th>\n",
       "      <td>10.0</td>\n",
       "      <td>1.0</td>\n",
       "      <td>0.0</td>\n",
       "    </tr>\n",
       "    <tr>\n",
       "      <th>17638</th>\n",
       "      <td>NaN</td>\n",
       "      <td>8.0</td>\n",
       "      <td>1.0</td>\n",
       "    </tr>\n",
       "    <tr>\n",
       "      <th>18388</th>\n",
       "      <td>NaN</td>\n",
       "      <td>9.0</td>\n",
       "      <td>8.0</td>\n",
       "    </tr>\n",
       "    <tr>\n",
       "      <th>17514</th>\n",
       "      <td>NaN</td>\n",
       "      <td>9.0</td>\n",
       "      <td>9.0</td>\n",
       "    </tr>\n",
       "    <tr>\n",
       "      <th>18363</th>\n",
       "      <td>NaN</td>\n",
       "      <td>NaN</td>\n",
       "      <td>0.0</td>\n",
       "    </tr>\n",
       "    <tr>\n",
       "      <th>18254</th>\n",
       "      <td>NaN</td>\n",
       "      <td>8.0</td>\n",
       "      <td>0.0</td>\n",
       "    </tr>\n",
       "  </tbody>\n",
       "</table>\n",
       "</div>"
      ],
      "text/plain": [
       "       second  second_1  second_2\n",
       "18288     8.0       0.0       8.0\n",
       "17525     NaN       8.0       8.0\n",
       "18228    18.0       1.0       8.0\n",
       "17506     NaN       8.0       0.0\n",
       "18289    10.0       1.0       0.0\n",
       "17638     NaN       8.0       1.0\n",
       "18388     NaN       9.0       8.0\n",
       "17514     NaN       9.0       9.0\n",
       "18363     NaN       NaN       0.0\n",
       "18254     NaN       8.0       0.0"
      ]
     },
     "execution_count": 75,
     "metadata": {},
     "output_type": "execute_result"
    }
   ],
   "source": [
    "df_dot_seccheck = df_dot[~pd.isna(df_dot['second_1'])]\n",
    "df_dot_seccheck = df_dot_seccheck[~pd.isna(df_dot_seccheck['second_2'])]\n",
    "df_dot_seccheck['second'] = df_dot_seccheck['second_1'].astype(int).astype(str) + df_dot_seccheck['second_2'].astype(int).astype(str)\n",
    "df_dot_seccheck['second'] = df_dot_seccheck['second'].astype(int)\n",
    "df_dot_seccheck['second'] = df_dot_seccheck['second'].apply(lambda x: np.nan if x>59 else x)\n",
    "df_dot_nullsec = df_dot.loc[pd.isna(df_dot['second_1']) | pd.isna(df_dot['second_2'])]\n",
    "df_dot_nullsec = df_dot_nullsec.copy(deep=True)\n",
    "df_dot_nullsec['second'] = np.nan\n",
    "df_dot = pd.concat([df_dot_seccheck, df_dot_nullsec])\n",
    "print(len(df_dot))\n",
    "df_dot[['second', 'second_1', 'second_2']].sample(10)"
   ]
  },
  {
   "cell_type": "markdown",
   "id": "1843ad40",
   "metadata": {},
   "source": [
    "construct timestamp:"
   ]
  },
  {
   "cell_type": "code",
   "execution_count": 76,
   "id": "8feedafb",
   "metadata": {},
   "outputs": [
    {
     "data": {
      "text/html": [
       "<div>\n",
       "<style scoped>\n",
       "    .dataframe tbody tr th:only-of-type {\n",
       "        vertical-align: middle;\n",
       "    }\n",
       "\n",
       "    .dataframe tbody tr th {\n",
       "        vertical-align: top;\n",
       "    }\n",
       "\n",
       "    .dataframe thead th {\n",
       "        text-align: right;\n",
       "    }\n",
       "</style>\n",
       "<table border=\"1\" class=\"dataframe\">\n",
       "  <thead>\n",
       "    <tr style=\"text-align: right;\">\n",
       "      <th></th>\n",
       "      <th>year</th>\n",
       "      <th>month</th>\n",
       "      <th>day</th>\n",
       "      <th>hour</th>\n",
       "      <th>minute</th>\n",
       "      <th>second</th>\n",
       "      <th>Timestamp</th>\n",
       "    </tr>\n",
       "  </thead>\n",
       "  <tbody>\n",
       "    <tr>\n",
       "      <th>18441</th>\n",
       "      <td>1963.0</td>\n",
       "      <td>07</td>\n",
       "      <td>07</td>\n",
       "      <td>NaN</td>\n",
       "      <td>NaN</td>\n",
       "      <td>NaN</td>\n",
       "      <td>NaT</td>\n",
       "    </tr>\n",
       "    <tr>\n",
       "      <th>17600</th>\n",
       "      <td>NaN</td>\n",
       "      <td>NaN</td>\n",
       "      <td>NaN</td>\n",
       "      <td>NaN</td>\n",
       "      <td>NaN</td>\n",
       "      <td>NaN</td>\n",
       "      <td>NaT</td>\n",
       "    </tr>\n",
       "    <tr>\n",
       "      <th>18347</th>\n",
       "      <td>NaN</td>\n",
       "      <td>NaN</td>\n",
       "      <td>NaN</td>\n",
       "      <td>NaN</td>\n",
       "      <td>NaN</td>\n",
       "      <td>11.0</td>\n",
       "      <td>NaT</td>\n",
       "    </tr>\n",
       "    <tr>\n",
       "      <th>18224</th>\n",
       "      <td>NaN</td>\n",
       "      <td>NaN</td>\n",
       "      <td>NaN</td>\n",
       "      <td>NaN</td>\n",
       "      <td>NaN</td>\n",
       "      <td>9.0</td>\n",
       "      <td>NaT</td>\n",
       "    </tr>\n",
       "    <tr>\n",
       "      <th>17495</th>\n",
       "      <td>NaN</td>\n",
       "      <td>NaN</td>\n",
       "      <td>NaN</td>\n",
       "      <td>NaN</td>\n",
       "      <td>NaN</td>\n",
       "      <td>NaN</td>\n",
       "      <td>NaT</td>\n",
       "    </tr>\n",
       "    <tr>\n",
       "      <th>17566</th>\n",
       "      <td>1963.0</td>\n",
       "      <td>06</td>\n",
       "      <td>29</td>\n",
       "      <td>NaN</td>\n",
       "      <td>9.0</td>\n",
       "      <td>NaN</td>\n",
       "      <td>NaT</td>\n",
       "    </tr>\n",
       "    <tr>\n",
       "      <th>18264</th>\n",
       "      <td>1963.0</td>\n",
       "      <td>06</td>\n",
       "      <td>29</td>\n",
       "      <td>NaN</td>\n",
       "      <td>0.0</td>\n",
       "      <td>1.0</td>\n",
       "      <td>NaT</td>\n",
       "    </tr>\n",
       "    <tr>\n",
       "      <th>17460</th>\n",
       "      <td>NaN</td>\n",
       "      <td>NaN</td>\n",
       "      <td>NaN</td>\n",
       "      <td>NaN</td>\n",
       "      <td>NaN</td>\n",
       "      <td>18.0</td>\n",
       "      <td>NaT</td>\n",
       "    </tr>\n",
       "    <tr>\n",
       "      <th>17681</th>\n",
       "      <td>NaN</td>\n",
       "      <td>NaN</td>\n",
       "      <td>NaN</td>\n",
       "      <td>NaN</td>\n",
       "      <td>NaN</td>\n",
       "      <td>NaN</td>\n",
       "      <td>NaT</td>\n",
       "    </tr>\n",
       "    <tr>\n",
       "      <th>18269</th>\n",
       "      <td>NaN</td>\n",
       "      <td>NaN</td>\n",
       "      <td>NaN</td>\n",
       "      <td>NaN</td>\n",
       "      <td>9.0</td>\n",
       "      <td>NaN</td>\n",
       "      <td>NaT</td>\n",
       "    </tr>\n",
       "  </tbody>\n",
       "</table>\n",
       "</div>"
      ],
      "text/plain": [
       "         year month  day  hour  minute  second Timestamp\n",
       "18441  1963.0    07   07   NaN     NaN     NaN       NaT\n",
       "17600     NaN   NaN  NaN   NaN     NaN     NaN       NaT\n",
       "18347     NaN   NaN  NaN   NaN     NaN    11.0       NaT\n",
       "18224     NaN   NaN  NaN   NaN     NaN     9.0       NaT\n",
       "17495     NaN   NaN  NaN   NaN     NaN     NaN       NaT\n",
       "17566  1963.0    06   29   NaN     9.0     NaN       NaT\n",
       "18264  1963.0    06   29   NaN     0.0     1.0       NaT\n",
       "17460     NaN   NaN  NaN   NaN     NaN    18.0       NaT\n",
       "17681     NaN   NaN  NaN   NaN     NaN     NaN       NaT\n",
       "18269     NaN   NaN  NaN   NaN     9.0     NaN       NaT"
      ]
     },
     "execution_count": 76,
     "metadata": {},
     "output_type": "execute_result"
    }
   ],
   "source": [
    "df_dot['month_day'] = pd.to_datetime(df_dot['day_of_year'], format='%j').dt.strftime('%m-%d')\n",
    "df_dot['month'] = df_dot['month_day'].str.split('-').str[0]\n",
    "df_dot['day'] = df_dot['month_day'].str.split('-').str[1]\n",
    "df_dot['Timestamp'] = pd.to_datetime(df_dot[['year', 'month', 'day', 'hour', 'minute', 'second']], format='%Y-%m-%d %H:%M:%S')\n",
    "df_dot[['year', 'month', 'day', 'hour', 'minute', 'second', 'Timestamp']].sample(10)"
   ]
  },
  {
   "cell_type": "markdown",
   "id": "81f7c8a4",
   "metadata": {},
   "source": [
    "#  "
   ]
  },
  {
   "cell_type": "markdown",
   "id": "f06711b5",
   "metadata": {},
   "source": [
    "#### Check station number:"
   ]
  },
  {
   "cell_type": "markdown",
   "id": "8178138d",
   "metadata": {},
   "source": [
    "num2:"
   ]
  },
  {
   "cell_type": "code",
   "execution_count": 77,
   "id": "3b34898a",
   "metadata": {},
   "outputs": [
    {
     "data": {
      "text/plain": [
       "<Axes: xlabel='station_number_OCR', ylabel='Count'>"
      ]
     },
     "execution_count": 77,
     "metadata": {},
     "output_type": "execute_result"
    },
    {
     "data": {
      "image/png": "[encoded data removed]",
      "text/plain": [
       "<Figure size 640x480 with 1 Axes>"
      ]
     },
     "metadata": {},
     "output_type": "display_data"
    }
   ],
   "source": [
    "df_num2['station_number_OCR'] = df_num2['station_number_OCR'].astype('float')\n",
    "sns.histplot(data=df_num2, x='station_number_OCR')"
   ]
  },
  {
   "cell_type": "code",
   "execution_count": 78,
   "id": "150b0474",
   "metadata": {},
   "outputs": [
    {
     "data": {
      "text/html": [
       "<div>\n",
       "<style scoped>\n",
       "    .dataframe tbody tr th:only-of-type {\n",
       "        vertical-align: middle;\n",
       "    }\n",
       "\n",
       "    .dataframe tbody tr th {\n",
       "        vertical-align: top;\n",
       "    }\n",
       "\n",
       "    .dataframe thead th {\n",
       "        text-align: right;\n",
       "    }\n",
       "</style>\n",
       "<table border=\"1\" class=\"dataframe\">\n",
       "  <thead>\n",
       "    <tr style=\"text-align: right;\">\n",
       "      <th></th>\n",
       "      <th>station_number</th>\n",
       "      <th>station_number_OCR</th>\n",
       "    </tr>\n",
       "  </thead>\n",
       "  <tbody>\n",
       "    <tr>\n",
       "      <th>8176</th>\n",
       "      <td>21.0</td>\n",
       "      <td>21.0</td>\n",
       "    </tr>\n",
       "    <tr>\n",
       "      <th>11545</th>\n",
       "      <td>19.0</td>\n",
       "      <td>19.0</td>\n",
       "    </tr>\n",
       "    <tr>\n",
       "      <th>1863</th>\n",
       "      <td>50.0</td>\n",
       "      <td>50.0</td>\n",
       "    </tr>\n",
       "    <tr>\n",
       "      <th>8366</th>\n",
       "      <td>37.0</td>\n",
       "      <td>37.0</td>\n",
       "    </tr>\n",
       "    <tr>\n",
       "      <th>10496</th>\n",
       "      <td>15.0</td>\n",
       "      <td>15.0</td>\n",
       "    </tr>\n",
       "    <tr>\n",
       "      <th>8122</th>\n",
       "      <td>21.0</td>\n",
       "      <td>21.0</td>\n",
       "    </tr>\n",
       "    <tr>\n",
       "      <th>9833</th>\n",
       "      <td>43.0</td>\n",
       "      <td>43.0</td>\n",
       "    </tr>\n",
       "    <tr>\n",
       "      <th>8077</th>\n",
       "      <td>21.0</td>\n",
       "      <td>21.0</td>\n",
       "    </tr>\n",
       "    <tr>\n",
       "      <th>13412</th>\n",
       "      <td>50.0</td>\n",
       "      <td>50.0</td>\n",
       "    </tr>\n",
       "    <tr>\n",
       "      <th>14279</th>\n",
       "      <td>38.0</td>\n",
       "      <td>38.0</td>\n",
       "    </tr>\n",
       "  </tbody>\n",
       "</table>\n",
       "</div>"
      ],
      "text/plain": [
       "       station_number  station_number_OCR\n",
       "8176             21.0                21.0\n",
       "11545            19.0                19.0\n",
       "1863             50.0                50.0\n",
       "8366             37.0                37.0\n",
       "10496            15.0                15.0\n",
       "8122             21.0                21.0\n",
       "9833             43.0                43.0\n",
       "8077             21.0                21.0\n",
       "13412            50.0                50.0\n",
       "14279            38.0                38.0"
      ]
     },
     "execution_count": 78,
     "metadata": {},
     "output_type": "execute_result"
    }
   ],
   "source": [
    "df_num2['station_number'] = df_num2['station_number_OCR']\n",
    "df_num2[['station_number', 'station_number_OCR']].sample(10)"
   ]
  },
  {
   "cell_type": "markdown",
   "id": "66f42c8e",
   "metadata": {},
   "source": [
    "num:"
   ]
  },
  {
   "cell_type": "code",
   "execution_count": 79,
   "id": "3edf33d2",
   "metadata": {},
   "outputs": [
    {
     "data": {
      "text/plain": [
       "<Axes: xlabel='station_number_1', ylabel='Count'>"
      ]
     },
     "execution_count": 79,
     "metadata": {},
     "output_type": "execute_result"
    },
    {
     "data": {
      "image/png": "[encoded data removed]",
      "text/plain": [
       "<Figure size 640x480 with 1 Axes>"
      ]
     },
     "metadata": {},
     "output_type": "display_data"
    }
   ],
   "source": [
    "df_num['station_number_1'] = df_num['station_number_1'].astype(int)\n",
    "sns.histplot(data=df_num, x='station_number_1')"
   ]
  },
  {
   "cell_type": "code",
   "execution_count": 80,
   "id": "da37c547",
   "metadata": {},
   "outputs": [],
   "source": [
    "df_num['station_number_1'] = df_num['station_number_1'].apply(lambda x: np.nan if x>9 else x)"
   ]
  },
  {
   "cell_type": "code",
   "execution_count": 81,
   "id": "f180be3e",
   "metadata": {},
   "outputs": [
    {
     "data": {
      "text/plain": [
       "<Axes: xlabel='station_number_2', ylabel='Count'>"
      ]
     },
     "execution_count": 81,
     "metadata": {},
     "output_type": "execute_result"
    },
    {
     "data": {
      "image/png": "[encoded data removed]",
      "text/plain": [
       "<Figure size 640x480 with 1 Axes>"
      ]
     },
     "metadata": {},
     "output_type": "display_data"
    }
   ],
   "source": [
    "df_num['station_number_2'] = df_num['station_number_2'].astype(int)\n",
    "sns.histplot(data=df_num, x='station_number_2')"
   ]
  },
  {
   "cell_type": "code",
   "execution_count": 82,
   "id": "584b58b5",
   "metadata": {},
   "outputs": [],
   "source": [
    "df_num['station_number_2'] = df_num['station_number_2'].apply(lambda x: np.nan if x>9 else x)"
   ]
  },
  {
   "cell_type": "code",
   "execution_count": 83,
   "id": "a5967366",
   "metadata": {},
   "outputs": [
    {
     "name": "stdout",
     "output_type": "stream",
     "text": [
      "4849\n"
     ]
    },
    {
     "data": {
      "text/html": [
       "<div>\n",
       "<style scoped>\n",
       "    .dataframe tbody tr th:only-of-type {\n",
       "        vertical-align: middle;\n",
       "    }\n",
       "\n",
       "    .dataframe tbody tr th {\n",
       "        vertical-align: top;\n",
       "    }\n",
       "\n",
       "    .dataframe thead th {\n",
       "        text-align: right;\n",
       "    }\n",
       "</style>\n",
       "<table border=\"1\" class=\"dataframe\">\n",
       "  <thead>\n",
       "    <tr style=\"text-align: right;\">\n",
       "      <th></th>\n",
       "      <th>station_number</th>\n",
       "      <th>station_number_1</th>\n",
       "      <th>station_number_2</th>\n",
       "    </tr>\n",
       "  </thead>\n",
       "  <tbody>\n",
       "    <tr>\n",
       "      <th>18774</th>\n",
       "      <td>7.0</td>\n",
       "      <td>0.0</td>\n",
       "      <td>7.0</td>\n",
       "    </tr>\n",
       "    <tr>\n",
       "      <th>18924</th>\n",
       "      <td>7.0</td>\n",
       "      <td>0.0</td>\n",
       "      <td>7.0</td>\n",
       "    </tr>\n",
       "    <tr>\n",
       "      <th>16456</th>\n",
       "      <td>50.0</td>\n",
       "      <td>5.0</td>\n",
       "      <td>0.0</td>\n",
       "    </tr>\n",
       "    <tr>\n",
       "      <th>18006</th>\n",
       "      <td>9.0</td>\n",
       "      <td>0.0</td>\n",
       "      <td>9.0</td>\n",
       "    </tr>\n",
       "    <tr>\n",
       "      <th>15539</th>\n",
       "      <td>3.0</td>\n",
       "      <td>0.0</td>\n",
       "      <td>3.0</td>\n",
       "    </tr>\n",
       "    <tr>\n",
       "      <th>20226</th>\n",
       "      <td>13.0</td>\n",
       "      <td>1.0</td>\n",
       "      <td>3.0</td>\n",
       "    </tr>\n",
       "    <tr>\n",
       "      <th>15012</th>\n",
       "      <td>0.0</td>\n",
       "      <td>0.0</td>\n",
       "      <td>0.0</td>\n",
       "    </tr>\n",
       "    <tr>\n",
       "      <th>6473</th>\n",
       "      <td>35.0</td>\n",
       "      <td>3.0</td>\n",
       "      <td>5.0</td>\n",
       "    </tr>\n",
       "    <tr>\n",
       "      <th>18956</th>\n",
       "      <td>1.0</td>\n",
       "      <td>0.0</td>\n",
       "      <td>1.0</td>\n",
       "    </tr>\n",
       "    <tr>\n",
       "      <th>18967</th>\n",
       "      <td>1.0</td>\n",
       "      <td>0.0</td>\n",
       "      <td>1.0</td>\n",
       "    </tr>\n",
       "  </tbody>\n",
       "</table>\n",
       "</div>"
      ],
      "text/plain": [
       "       station_number  station_number_1  station_number_2\n",
       "18774             7.0               0.0               7.0\n",
       "18924             7.0               0.0               7.0\n",
       "16456            50.0               5.0               0.0\n",
       "18006             9.0               0.0               9.0\n",
       "15539             3.0               0.0               3.0\n",
       "20226            13.0               1.0               3.0\n",
       "15012             0.0               0.0               0.0\n",
       "6473             35.0               3.0               5.0\n",
       "18956             1.0               0.0               1.0\n",
       "18967             1.0               0.0               1.0"
      ]
     },
     "execution_count": 83,
     "metadata": {},
     "output_type": "execute_result"
    }
   ],
   "source": [
    "df_num_stncheck = df_num[~pd.isna(df_num['station_number_1'])]\n",
    "df_num_stncheck = df_num_stncheck[~pd.isna(df_num_stncheck['station_number_2'])]\n",
    "df_num_stncheck['station_number'] = df_num_stncheck['station_number_1'].astype(int).astype(str) + df_num_stncheck['station_number_2'].astype(int).astype(str)\n",
    "df_num_stncheck['station_number'] = df_num_stncheck['station_number'].astype(int)\n",
    "df_num_nullstn = df_num.loc[pd.isna(df_num['station_number_1']) | pd.isna(df_num['station_number_2'])]\n",
    "df_num_nullstn = df_num_nullstn.copy(deep=True)\n",
    "df_num_nullstn['station_number'] = np.nan\n",
    "df_num = pd.concat([df_num_stncheck, df_num_nullstn])\n",
    "print(len(df_num))\n",
    "df_num[['station_number', 'station_number_1', 'station_number_2']].sample(10)"
   ]
  },
  {
   "cell_type": "markdown",
   "id": "1f2c6758",
   "metadata": {},
   "source": [
    "dot:"
   ]
  },
  {
   "cell_type": "code",
   "execution_count": 84,
   "id": "057d942a",
   "metadata": {},
   "outputs": [
    {
     "data": {
      "text/html": [
       "<div>\n",
       "<style scoped>\n",
       "    .dataframe tbody tr th:only-of-type {\n",
       "        vertical-align: middle;\n",
       "    }\n",
       "\n",
       "    .dataframe tbody tr th {\n",
       "        vertical-align: top;\n",
       "    }\n",
       "\n",
       "    .dataframe thead th {\n",
       "        text-align: right;\n",
       "    }\n",
       "</style>\n",
       "<table border=\"1\" class=\"dataframe\">\n",
       "  <thead>\n",
       "    <tr style=\"text-align: right;\">\n",
       "      <th></th>\n",
       "      <th>station_number</th>\n",
       "    </tr>\n",
       "  </thead>\n",
       "  <tbody>\n",
       "    <tr>\n",
       "      <th>18371</th>\n",
       "      <td>24.0</td>\n",
       "    </tr>\n",
       "    <tr>\n",
       "      <th>17654</th>\n",
       "      <td>1.0</td>\n",
       "    </tr>\n",
       "    <tr>\n",
       "      <th>18287</th>\n",
       "      <td>16.0</td>\n",
       "    </tr>\n",
       "    <tr>\n",
       "      <th>18279</th>\n",
       "      <td>8.0</td>\n",
       "    </tr>\n",
       "    <tr>\n",
       "      <th>18382</th>\n",
       "      <td>32.0</td>\n",
       "    </tr>\n",
       "    <tr>\n",
       "      <th>17622</th>\n",
       "      <td>1.0</td>\n",
       "    </tr>\n",
       "    <tr>\n",
       "      <th>18373</th>\n",
       "      <td>32.0</td>\n",
       "    </tr>\n",
       "    <tr>\n",
       "      <th>17479</th>\n",
       "      <td>1.0</td>\n",
       "    </tr>\n",
       "    <tr>\n",
       "      <th>17571</th>\n",
       "      <td>9.0</td>\n",
       "    </tr>\n",
       "    <tr>\n",
       "      <th>18358</th>\n",
       "      <td>8.0</td>\n",
       "    </tr>\n",
       "  </tbody>\n",
       "</table>\n",
       "</div>"
      ],
      "text/plain": [
       "       station_number\n",
       "18371            24.0\n",
       "17654             1.0\n",
       "18287            16.0\n",
       "18279             8.0\n",
       "18382            32.0\n",
       "17622             1.0\n",
       "18373            32.0\n",
       "17479             1.0\n",
       "17571             9.0\n",
       "18358             8.0"
      ]
     },
     "execution_count": 84,
     "metadata": {},
     "output_type": "execute_result"
    }
   ],
   "source": [
    "df_dot[['station_number']].sample(10)"
   ]
  },
  {
   "cell_type": "markdown",
   "id": "bc69e418",
   "metadata": {},
   "source": [
    "#  "
   ]
  },
  {
   "cell_type": "markdown",
   "id": "31a0e73c",
   "metadata": {},
   "source": [
    "#### Recombine results:"
   ]
  },
  {
   "cell_type": "code",
   "execution_count": 85,
   "id": "29bab799",
   "metadata": {},
   "outputs": [
    {
     "name": "stdout",
     "output_type": "stream",
     "text": [
      "20944\n"
     ]
    },
    {
     "data": {
      "text/html": [
       "<div>\n",
       "<style scoped>\n",
       "    .dataframe tbody tr th:only-of-type {\n",
       "        vertical-align: middle;\n",
       "    }\n",
       "\n",
       "    .dataframe tbody tr th {\n",
       "        vertical-align: top;\n",
       "    }\n",
       "\n",
       "    .dataframe thead th {\n",
       "        text-align: right;\n",
       "    }\n",
       "</style>\n",
       "<table border=\"1\" class=\"dataframe\">\n",
       "  <thead>\n",
       "    <tr style=\"text-align: right;\">\n",
       "      <th></th>\n",
       "      <th>Directory</th>\n",
       "      <th>Subdirectory</th>\n",
       "      <th>filename</th>\n",
       "      <th>processed_image_class</th>\n",
       "      <th>fmin</th>\n",
       "      <th>max_depth</th>\n",
       "      <th>station_number</th>\n",
       "      <th>station_number_1</th>\n",
       "      <th>station_number_2</th>\n",
       "      <th>year_1</th>\n",
       "      <th>...</th>\n",
       "      <th>details</th>\n",
       "      <th>year</th>\n",
       "      <th>day_of_year</th>\n",
       "      <th>hour</th>\n",
       "      <th>minute</th>\n",
       "      <th>second</th>\n",
       "      <th>month_day</th>\n",
       "      <th>month</th>\n",
       "      <th>day</th>\n",
       "      <th>Timestamp</th>\n",
       "    </tr>\n",
       "  </thead>\n",
       "  <tbody>\n",
       "    <tr>\n",
       "      <th>11231</th>\n",
       "      <td>R014207835</td>\n",
       "      <td>4060-19</td>\n",
       "      <td>142.png</td>\n",
       "      <td>num2</td>\n",
       "      <td>1.838710</td>\n",
       "      <td>1008.510638</td>\n",
       "      <td>19.0</td>\n",
       "      <td>NaN</td>\n",
       "      <td>NaN</td>\n",
       "      <td>NaN</td>\n",
       "      <td>...</td>\n",
       "      <td>NaN</td>\n",
       "      <td>1967.0</td>\n",
       "      <td>19.0</td>\n",
       "      <td>1.0</td>\n",
       "      <td>15.0</td>\n",
       "      <td>35.0</td>\n",
       "      <td>01-19</td>\n",
       "      <td>01</td>\n",
       "      <td>19</td>\n",
       "      <td>1967-01-19 01:15:35</td>\n",
       "    </tr>\n",
       "    <tr>\n",
       "      <th>7288</th>\n",
       "      <td>R014207827</td>\n",
       "      <td>3790-13A</td>\n",
       "      <td>89.png</td>\n",
       "      <td>loss</td>\n",
       "      <td>1.540323</td>\n",
       "      <td>1376.595745</td>\n",
       "      <td>NaN</td>\n",
       "      <td>NaN</td>\n",
       "      <td>NaN</td>\n",
       "      <td>NaN</td>\n",
       "      <td>...</td>\n",
       "      <td>metadata could not be read by OCR</td>\n",
       "      <td>NaN</td>\n",
       "      <td>NaN</td>\n",
       "      <td>NaN</td>\n",
       "      <td>NaN</td>\n",
       "      <td>NaN</td>\n",
       "      <td>NaN</td>\n",
       "      <td>NaN</td>\n",
       "      <td>NaN</td>\n",
       "      <td>NaT</td>\n",
       "    </tr>\n",
       "    <tr>\n",
       "      <th>18649</th>\n",
       "      <td>R014207961</td>\n",
       "      <td>1077-B</td>\n",
       "      <td>175.png</td>\n",
       "      <td>num</td>\n",
       "      <td>1.500000</td>\n",
       "      <td>1244.230769</td>\n",
       "      <td>7.0</td>\n",
       "      <td>0.0</td>\n",
       "      <td>7.0</td>\n",
       "      <td>3.0</td>\n",
       "      <td>...</td>\n",
       "      <td>NaN</td>\n",
       "      <td>1965.0</td>\n",
       "      <td>291.0</td>\n",
       "      <td>14.0</td>\n",
       "      <td>12.0</td>\n",
       "      <td>43.0</td>\n",
       "      <td>10-18</td>\n",
       "      <td>10</td>\n",
       "      <td>18</td>\n",
       "      <td>1965-10-18 14:12:43</td>\n",
       "    </tr>\n",
       "    <tr>\n",
       "      <th>20091</th>\n",
       "      <td>R014207969</td>\n",
       "      <td>1269-13B</td>\n",
       "      <td>216.png</td>\n",
       "      <td>num</td>\n",
       "      <td>1.528226</td>\n",
       "      <td>1244.230769</td>\n",
       "      <td>13.0</td>\n",
       "      <td>1.0</td>\n",
       "      <td>3.0</td>\n",
       "      <td>3.0</td>\n",
       "      <td>...</td>\n",
       "      <td>NaN</td>\n",
       "      <td>1965.0</td>\n",
       "      <td>213.0</td>\n",
       "      <td>11.0</td>\n",
       "      <td>54.0</td>\n",
       "      <td>54.0</td>\n",
       "      <td>08-01</td>\n",
       "      <td>08</td>\n",
       "      <td>01</td>\n",
       "      <td>1965-08-01 11:54:54</td>\n",
       "    </tr>\n",
       "    <tr>\n",
       "      <th>2190</th>\n",
       "      <td>R014207810</td>\n",
       "      <td>5119</td>\n",
       "      <td>234.png</td>\n",
       "      <td>loss</td>\n",
       "      <td>1.608871</td>\n",
       "      <td>854.545455</td>\n",
       "      <td>NaN</td>\n",
       "      <td>NaN</td>\n",
       "      <td>NaN</td>\n",
       "      <td>NaN</td>\n",
       "      <td>...</td>\n",
       "      <td>NaN</td>\n",
       "      <td>NaN</td>\n",
       "      <td>NaN</td>\n",
       "      <td>NaN</td>\n",
       "      <td>NaN</td>\n",
       "      <td>NaN</td>\n",
       "      <td>NaN</td>\n",
       "      <td>NaN</td>\n",
       "      <td>NaN</td>\n",
       "      <td>NaT</td>\n",
       "    </tr>\n",
       "    <tr>\n",
       "      <th>17700</th>\n",
       "      <td>R014207961</td>\n",
       "      <td>1033</td>\n",
       "      <td>388.png</td>\n",
       "      <td>dot</td>\n",
       "      <td>1.540323</td>\n",
       "      <td>1296.000000</td>\n",
       "      <td>1.0</td>\n",
       "      <td>NaN</td>\n",
       "      <td>NaN</td>\n",
       "      <td>NaN</td>\n",
       "      <td>...</td>\n",
       "      <td>NaN</td>\n",
       "      <td>NaN</td>\n",
       "      <td>NaN</td>\n",
       "      <td>NaN</td>\n",
       "      <td>NaN</td>\n",
       "      <td>1.0</td>\n",
       "      <td>NaN</td>\n",
       "      <td>NaN</td>\n",
       "      <td>NaN</td>\n",
       "      <td>NaT</td>\n",
       "    </tr>\n",
       "    <tr>\n",
       "      <th>19353</th>\n",
       "      <td>R014207963</td>\n",
       "      <td>1547-5A</td>\n",
       "      <td>169.png</td>\n",
       "      <td>num</td>\n",
       "      <td>1.754032</td>\n",
       "      <td>1482.692308</td>\n",
       "      <td>5.0</td>\n",
       "      <td>0.0</td>\n",
       "      <td>5.0</td>\n",
       "      <td>4.0</td>\n",
       "      <td>...</td>\n",
       "      <td>NaN</td>\n",
       "      <td>1966.0</td>\n",
       "      <td>85.0</td>\n",
       "      <td>4.0</td>\n",
       "      <td>28.0</td>\n",
       "      <td>50.0</td>\n",
       "      <td>03-26</td>\n",
       "      <td>03</td>\n",
       "      <td>26</td>\n",
       "      <td>1966-03-26 04:28:50</td>\n",
       "    </tr>\n",
       "    <tr>\n",
       "      <th>8535</th>\n",
       "      <td>R014207829</td>\n",
       "      <td>4320-8</td>\n",
       "      <td>16.png</td>\n",
       "      <td>loss</td>\n",
       "      <td>1.500000</td>\n",
       "      <td>711.320755</td>\n",
       "      <td>NaN</td>\n",
       "      <td>NaN</td>\n",
       "      <td>NaN</td>\n",
       "      <td>NaN</td>\n",
       "      <td>...</td>\n",
       "      <td>OCR read metadata contains letters</td>\n",
       "      <td>NaN</td>\n",
       "      <td>NaN</td>\n",
       "      <td>NaN</td>\n",
       "      <td>NaN</td>\n",
       "      <td>NaN</td>\n",
       "      <td>NaN</td>\n",
       "      <td>NaN</td>\n",
       "      <td>NaN</td>\n",
       "      <td>NaT</td>\n",
       "    </tr>\n",
       "    <tr>\n",
       "      <th>17691</th>\n",
       "      <td>R014207961</td>\n",
       "      <td>1033</td>\n",
       "      <td>38.png</td>\n",
       "      <td>dot</td>\n",
       "      <td>1.641129</td>\n",
       "      <td>1440.000000</td>\n",
       "      <td>9.0</td>\n",
       "      <td>NaN</td>\n",
       "      <td>NaN</td>\n",
       "      <td>NaN</td>\n",
       "      <td>...</td>\n",
       "      <td>NaN</td>\n",
       "      <td>1963.0</td>\n",
       "      <td>188.0</td>\n",
       "      <td>NaN</td>\n",
       "      <td>NaN</td>\n",
       "      <td>1.0</td>\n",
       "      <td>07-07</td>\n",
       "      <td>07</td>\n",
       "      <td>07</td>\n",
       "      <td>NaT</td>\n",
       "    </tr>\n",
       "    <tr>\n",
       "      <th>18857</th>\n",
       "      <td>R014207961</td>\n",
       "      <td>1077-B</td>\n",
       "      <td>368.png</td>\n",
       "      <td>num</td>\n",
       "      <td>1.649194</td>\n",
       "      <td>1148.076923</td>\n",
       "      <td>7.0</td>\n",
       "      <td>0.0</td>\n",
       "      <td>7.0</td>\n",
       "      <td>3.0</td>\n",
       "      <td>...</td>\n",
       "      <td>NaN</td>\n",
       "      <td>1965.0</td>\n",
       "      <td>294.0</td>\n",
       "      <td>23.0</td>\n",
       "      <td>54.0</td>\n",
       "      <td>41.0</td>\n",
       "      <td>10-21</td>\n",
       "      <td>10</td>\n",
       "      <td>21</td>\n",
       "      <td>1965-10-21 23:54:41</td>\n",
       "    </tr>\n",
       "  </tbody>\n",
       "</table>\n",
       "<p>10 rows × 39 columns</p>\n",
       "</div>"
      ],
      "text/plain": [
       "        Directory Subdirectory filename processed_image_class      fmin  \\\n",
       "11231  R014207835      4060-19  142.png                  num2  1.838710   \n",
       "7288   R014207827     3790-13A   89.png                  loss  1.540323   \n",
       "18649  R014207961       1077-B  175.png                   num  1.500000   \n",
       "20091  R014207969     1269-13B  216.png                   num  1.528226   \n",
       "2190   R014207810         5119  234.png                  loss  1.608871   \n",
       "17700  R014207961         1033  388.png                   dot  1.540323   \n",
       "19353  R014207963      1547-5A  169.png                   num  1.754032   \n",
       "8535   R014207829       4320-8   16.png                  loss  1.500000   \n",
       "17691  R014207961         1033   38.png                   dot  1.641129   \n",
       "18857  R014207961       1077-B  368.png                   num  1.649194   \n",
       "\n",
       "         max_depth  station_number  station_number_1  station_number_2  \\\n",
       "11231  1008.510638            19.0               NaN               NaN   \n",
       "7288   1376.595745             NaN               NaN               NaN   \n",
       "18649  1244.230769             7.0               0.0               7.0   \n",
       "20091  1244.230769            13.0               1.0               3.0   \n",
       "2190    854.545455             NaN               NaN               NaN   \n",
       "17700  1296.000000             1.0               NaN               NaN   \n",
       "19353  1482.692308             5.0               0.0               5.0   \n",
       "8535    711.320755             NaN               NaN               NaN   \n",
       "17691  1440.000000             9.0               NaN               NaN   \n",
       "18857  1148.076923             7.0               0.0               7.0   \n",
       "\n",
       "       year_1  ...                             details    year  day_of_year  \\\n",
       "11231     NaN  ...                                 NaN  1967.0         19.0   \n",
       "7288      NaN  ...   metadata could not be read by OCR     NaN          NaN   \n",
       "18649     3.0  ...                                 NaN  1965.0        291.0   \n",
       "20091     3.0  ...                                 NaN  1965.0        213.0   \n",
       "2190      NaN  ...                                 NaN     NaN          NaN   \n",
       "17700     NaN  ...                                 NaN     NaN          NaN   \n",
       "19353     4.0  ...                                 NaN  1966.0         85.0   \n",
       "8535      NaN  ...  OCR read metadata contains letters     NaN          NaN   \n",
       "17691     NaN  ...                                 NaN  1963.0        188.0   \n",
       "18857     3.0  ...                                 NaN  1965.0        294.0   \n",
       "\n",
       "       hour  minute  second  month_day  month  day           Timestamp  \n",
       "11231   1.0    15.0    35.0      01-19     01   19 1967-01-19 01:15:35  \n",
       "7288    NaN     NaN     NaN        NaN    NaN  NaN                 NaT  \n",
       "18649  14.0    12.0    43.0      10-18     10   18 1965-10-18 14:12:43  \n",
       "20091  11.0    54.0    54.0      08-01     08   01 1965-08-01 11:54:54  \n",
       "2190    NaN     NaN     NaN        NaN    NaN  NaN                 NaT  \n",
       "17700   NaN     NaN     1.0        NaN    NaN  NaN                 NaT  \n",
       "19353   4.0    28.0    50.0      03-26     03   26 1966-03-26 04:28:50  \n",
       "8535    NaN     NaN     NaN        NaN    NaN  NaN                 NaT  \n",
       "17691   NaN     NaN     1.0      07-07     07   07                 NaT  \n",
       "18857  23.0    54.0    41.0      10-21     10   21 1965-10-21 23:54:41  \n",
       "\n",
       "[10 rows x 39 columns]"
      ]
     },
     "execution_count": 85,
     "metadata": {},
     "output_type": "execute_result"
    }
   ],
   "source": [
    "df_result2 = pd.concat([df_num2, df_num, df_dot, df_outlier, df_loss])\n",
    "print(len(df_result2))\n",
    "df_result2.sample(10)"
   ]
  },
  {
   "cell_type": "markdown",
   "id": "cfbd114a",
   "metadata": {},
   "source": [
    "#  "
   ]
  },
  {
   "cell_type": "markdown",
   "id": "dd4a6bef",
   "metadata": {},
   "source": [
    "#### Retrieve station details:"
   ]
  },
  {
   "cell_type": "code",
   "execution_count": 86,
   "id": "8ba4668b",
   "metadata": {},
   "outputs": [
    {
     "data": {
      "text/html": [
       "<div>\n",
       "<style scoped>\n",
       "    .dataframe tbody tr th:only-of-type {\n",
       "        vertical-align: middle;\n",
       "    }\n",
       "\n",
       "    .dataframe tbody tr th {\n",
       "        vertical-align: top;\n",
       "    }\n",
       "\n",
       "    .dataframe thead th {\n",
       "        text-align: right;\n",
       "    }\n",
       "</style>\n",
       "<table border=\"1\" class=\"dataframe\">\n",
       "  <thead>\n",
       "    <tr style=\"text-align: right;\">\n",
       "      <th></th>\n",
       "      <th>Station_Number</th>\n",
       "      <th>Station_Code</th>\n",
       "      <th>Station_Name</th>\n",
       "      <th>Start_Date</th>\n",
       "      <th>Notes</th>\n",
       "    </tr>\n",
       "  </thead>\n",
       "  <tbody>\n",
       "    <tr>\n",
       "      <th>0</th>\n",
       "      <td>1</td>\n",
       "      <td>RES</td>\n",
       "      <td>Resolute Bay, NT, Canada</td>\n",
       "      <td>1962-09-29</td>\n",
       "      <td>Assumed start date at launch.</td>\n",
       "    </tr>\n",
       "    <tr>\n",
       "      <th>1</th>\n",
       "      <td>1</td>\n",
       "      <td>BPT</td>\n",
       "      <td>Blossom Point, MD, USA</td>\n",
       "      <td>1965-07-01</td>\n",
       "      <td>NaN</td>\n",
       "    </tr>\n",
       "    <tr>\n",
       "      <th>2</th>\n",
       "      <td>2</td>\n",
       "      <td>PRI</td>\n",
       "      <td>Prince Albert, SK, Canada</td>\n",
       "      <td>1962-09-29</td>\n",
       "      <td>Assumed start date at launch.</td>\n",
       "    </tr>\n",
       "    <tr>\n",
       "      <th>3</th>\n",
       "      <td>3</td>\n",
       "      <td>OTT</td>\n",
       "      <td>Ottawa, Canada</td>\n",
       "      <td>1962-09-29</td>\n",
       "      <td>Assumed start date at launch.</td>\n",
       "    </tr>\n",
       "    <tr>\n",
       "      <th>4</th>\n",
       "      <td>3</td>\n",
       "      <td>FTM</td>\n",
       "      <td>Fort Myers, FL, USA</td>\n",
       "      <td>1965-07-01</td>\n",
       "      <td>NaN</td>\n",
       "    </tr>\n",
       "  </tbody>\n",
       "</table>\n",
       "</div>"
      ],
      "text/plain": [
       "   Station_Number Station_Code               Station_Name Start_Date  \\\n",
       "0               1          RES   Resolute Bay, NT, Canada 1962-09-29   \n",
       "1               1          BPT     Blossom Point, MD, USA 1965-07-01   \n",
       "2               2          PRI  Prince Albert, SK, Canada 1962-09-29   \n",
       "3               3          OTT             Ottawa, Canada 1962-09-29   \n",
       "4               3          FTM        Fort Myers, FL, USA 1965-07-01   \n",
       "\n",
       "                           Notes  \n",
       "0  Assumed start date at launch.  \n",
       "1                            NaN  \n",
       "2  Assumed start date at launch.  \n",
       "3  Assumed start date at launch.  \n",
       "4                            NaN  "
      ]
     },
     "execution_count": 86,
     "metadata": {},
     "output_type": "execute_result"
    }
   ],
   "source": [
    "df_stn_nums = pd.read_excel(logDir + 'station_number_changes.xlsx')\n",
    "df_stn_nums.head()"
   ]
  },
  {
   "cell_type": "code",
   "execution_count": 87,
   "id": "c1d015b0",
   "metadata": {},
   "outputs": [],
   "source": [
    "change_dates = df_stn_nums['Start_Date'].drop_duplicates().sort_values().reset_index(drop=True)\n",
    "stn_nums = df_stn_nums['Station_Number'].unique()"
   ]
  },
  {
   "cell_type": "code",
   "execution_count": 88,
   "id": "e446fd81",
   "metadata": {},
   "outputs": [
    {
     "name": "stdout",
     "output_type": "stream",
     "text": [
      "1962-09-29 00:00:00\n",
      "39\n",
      "1963-04-25 00:00:00\n",
      "70\n",
      "1963-08-06 00:00:00\n",
      "88\n",
      "1965-07-01 00:00:00\n",
      "409\n",
      "After 1965-07-01 00:00:00\n",
      "6470\n"
     ]
    }
   ],
   "source": [
    "df_result3 = pd.DataFrame()\n",
    "for i in range(0, len(change_dates)):\n",
    "    #Before the first change date - Assume there are no station numbers before launch\n",
    "    if i == 0:\n",
    "        print(change_dates[i])\n",
    "        df_part = df_result2.loc[df_result2['Timestamp'] < change_dates[i]]\n",
    "        df_result3 = pd.concat([df_result3, df_part])\n",
    "        print(len(df_result3))\n",
    "    \n",
    "    elif i > 0:\n",
    "        print(change_dates[i])\n",
    "        df_part_ = df_result2.loc[df_result2['Timestamp'] < change_dates[i]]\n",
    "        df_part_ = df_part_.loc[df_part_['Timestamp'] >= change_dates[i-1]]\n",
    "        \n",
    "        df_sns = pd.DataFrame()\n",
    "        for sn in stn_nums:\n",
    "            df_sn = df_stn_nums.loc[df_stn_nums['Station_Number'] == sn]\n",
    "            df_sn = df_sn.loc[df_sn['Start_Date'] < change_dates[i]]\n",
    "            if len(df_sn) > 1:\n",
    "                df_sn = df_sn.sort_values('Start_Date', ascending=False)\n",
    "                df_sn = df_sn.iloc[:1]\n",
    "            df_sns = pd.concat([df_sns, df_sn])\n",
    "        \n",
    "        df_part = df_part_.merge(df_sns[['Station_Number', 'Station_Code']], how='left', left_on='station_number', right_on='Station_Number')\n",
    "        df_result3 = pd.concat([df_result3, df_part])\n",
    "        print(len(df_result3))\n",
    "\n",
    "#After last change date\n",
    "last_change_date = change_dates[len(change_dates)-1]\n",
    "print('After ' + str(last_change_date))\n",
    "df_part_ = df_result2.loc[df_result2['Timestamp'] > last_change_date]\n",
    "\n",
    "df_sns = pd.DataFrame()\n",
    "for sn in stn_nums:\n",
    "    df_sn = df_stn_nums.loc[df_stn_nums['Station_Number'] == sn]\n",
    "    if len(df_sn) > 1:\n",
    "        df_sn = df_sn.sort_values('Start_Date', ascending=False)\n",
    "        df_sn = df_sn.iloc[:1]\n",
    "    df_sns = pd.concat([df_sns, df_sn])\n",
    "\n",
    "df_part = df_part_.merge(df_sns[['Station_Number', 'Station_Code']], how='left', left_on='station_number', right_on='Station_Number')\n",
    "df_result3 = pd.concat([df_result3, df_part])\n",
    "print(len(df_result3))"
   ]
  },
  {
   "cell_type": "code",
   "execution_count": 89,
   "id": "925b04d2",
   "metadata": {},
   "outputs": [
    {
     "data": {
      "text/html": [
       "<div>\n",
       "<style scoped>\n",
       "    .dataframe tbody tr th:only-of-type {\n",
       "        vertical-align: middle;\n",
       "    }\n",
       "\n",
       "    .dataframe tbody tr th {\n",
       "        vertical-align: top;\n",
       "    }\n",
       "\n",
       "    .dataframe thead th {\n",
       "        text-align: right;\n",
       "    }\n",
       "</style>\n",
       "<table border=\"1\" class=\"dataframe\">\n",
       "  <thead>\n",
       "    <tr style=\"text-align: right;\">\n",
       "      <th></th>\n",
       "      <th>Station_Code</th>\n",
       "      <th>Station_Name</th>\n",
       "      <th>Lat</th>\n",
       "      <th>Lng</th>\n",
       "      <th>Notes</th>\n",
       "    </tr>\n",
       "  </thead>\n",
       "  <tbody>\n",
       "    <tr>\n",
       "      <th>0</th>\n",
       "      <td>ANT</td>\n",
       "      <td>Antofagasta, Chile</td>\n",
       "      <td>23.6S</td>\n",
       "      <td>70.3W</td>\n",
       "      <td>NaN</td>\n",
       "    </tr>\n",
       "    <tr>\n",
       "      <th>1</th>\n",
       "      <td>BAT</td>\n",
       "      <td>Byrd Station, Antarctica</td>\n",
       "      <td>80S</td>\n",
       "      <td>119.3W</td>\n",
       "      <td>Ref: https://en.wikipedia.org/wiki/Byrd_Station</td>\n",
       "    </tr>\n",
       "    <tr>\n",
       "      <th>2</th>\n",
       "      <td>BFR</td>\n",
       "      <td>Bretigny, France</td>\n",
       "      <td>48.4N</td>\n",
       "      <td>2.2 E</td>\n",
       "      <td>Ref: https://en.wikipedia.org/wiki/Br%C3%A9tig...</td>\n",
       "    </tr>\n",
       "    <tr>\n",
       "      <th>3</th>\n",
       "      <td>BLR</td>\n",
       "      <td>Boulder, CO, USA</td>\n",
       "      <td>40.1N</td>\n",
       "      <td>105.1W</td>\n",
       "      <td>NaN</td>\n",
       "    </tr>\n",
       "    <tr>\n",
       "      <th>4</th>\n",
       "      <td>BPT</td>\n",
       "      <td>Blossom Point, MD, USA</td>\n",
       "      <td>38.4N</td>\n",
       "      <td>77.1W</td>\n",
       "      <td>NaN</td>\n",
       "    </tr>\n",
       "  </tbody>\n",
       "</table>\n",
       "</div>"
      ],
      "text/plain": [
       "  Station_Code              Station_Name    Lat     Lng  \\\n",
       "0          ANT        Antofagasta, Chile  23.6S   70.3W   \n",
       "1          BAT  Byrd Station, Antarctica    80S  119.3W   \n",
       "2          BFR          Bretigny, France  48.4N   2.2 E   \n",
       "3          BLR          Boulder, CO, USA  40.1N  105.1W   \n",
       "4          BPT    Blossom Point, MD, USA  38.4N   77.1W   \n",
       "\n",
       "                                               Notes  \n",
       "0                                                NaN  \n",
       "1    Ref: https://en.wikipedia.org/wiki/Byrd_Station  \n",
       "2  Ref: https://en.wikipedia.org/wiki/Br%C3%A9tig...  \n",
       "3                                                NaN  \n",
       "4                                                NaN  "
      ]
     },
     "execution_count": 89,
     "metadata": {},
     "output_type": "execute_result"
    }
   ],
   "source": [
    "df_stns = pd.read_csv(logDir + 'ground_stations.csv')\n",
    "df_stns.head()"
   ]
  },
  {
   "cell_type": "code",
   "execution_count": 90,
   "id": "f556c636",
   "metadata": {},
   "outputs": [
    {
     "name": "stdout",
     "output_type": "stream",
     "text": [
      "6470\n"
     ]
    },
    {
     "data": {
      "text/html": [
       "<div>\n",
       "<style scoped>\n",
       "    .dataframe tbody tr th:only-of-type {\n",
       "        vertical-align: middle;\n",
       "    }\n",
       "\n",
       "    .dataframe tbody tr th {\n",
       "        vertical-align: top;\n",
       "    }\n",
       "\n",
       "    .dataframe thead th {\n",
       "        text-align: right;\n",
       "    }\n",
       "</style>\n",
       "<table border=\"1\" class=\"dataframe\">\n",
       "  <thead>\n",
       "    <tr style=\"text-align: right;\">\n",
       "      <th></th>\n",
       "      <th>Station_Number</th>\n",
       "      <th>Timestamp</th>\n",
       "      <th>Station_Code</th>\n",
       "      <th>Station_Name</th>\n",
       "      <th>Lat</th>\n",
       "      <th>Lng</th>\n",
       "    </tr>\n",
       "  </thead>\n",
       "  <tbody>\n",
       "    <tr>\n",
       "      <th>3809</th>\n",
       "      <td>5.0</td>\n",
       "      <td>1967-02-18 03:54:26</td>\n",
       "      <td>QUI</td>\n",
       "      <td>Quito, Ecuador</td>\n",
       "      <td>0.6S</td>\n",
       "      <td>78.6W</td>\n",
       "    </tr>\n",
       "    <tr>\n",
       "      <th>5163</th>\n",
       "      <td>1.0</td>\n",
       "      <td>1966-02-20 21:56:05</td>\n",
       "      <td>BPT</td>\n",
       "      <td>Blossom Point, MD, USA</td>\n",
       "      <td>38.4N</td>\n",
       "      <td>77.1W</td>\n",
       "    </tr>\n",
       "    <tr>\n",
       "      <th>1903</th>\n",
       "      <td>43.0</td>\n",
       "      <td>1968-02-27 05:23:01</td>\n",
       "      <td>RES</td>\n",
       "      <td>Resolute Bay, NT, Canada</td>\n",
       "      <td>74.7N</td>\n",
       "      <td>95W</td>\n",
       "    </tr>\n",
       "    <tr>\n",
       "      <th>5801</th>\n",
       "      <td>1.0</td>\n",
       "      <td>1966-02-24 20:55:20</td>\n",
       "      <td>BPT</td>\n",
       "      <td>Blossom Point, MD, USA</td>\n",
       "      <td>38.4N</td>\n",
       "      <td>77.1W</td>\n",
       "    </tr>\n",
       "    <tr>\n",
       "      <th>597</th>\n",
       "      <td>50.0</td>\n",
       "      <td>1968-10-19 00:46:34</td>\n",
       "      <td>OTT</td>\n",
       "      <td>Ottawa, Canada</td>\n",
       "      <td>45.4N</td>\n",
       "      <td>75.7W</td>\n",
       "    </tr>\n",
       "    <tr>\n",
       "      <th>6045</th>\n",
       "      <td>13.0</td>\n",
       "      <td>1965-08-01 11:56:59</td>\n",
       "      <td>COL</td>\n",
       "      <td>College, Fairbanks, AK, USA</td>\n",
       "      <td>64.9N</td>\n",
       "      <td>147.8W</td>\n",
       "    </tr>\n",
       "    <tr>\n",
       "      <th>5375</th>\n",
       "      <td>1.0</td>\n",
       "      <td>1966-02-20 00:49:55</td>\n",
       "      <td>BPT</td>\n",
       "      <td>Blossom Point, MD, USA</td>\n",
       "      <td>38.4N</td>\n",
       "      <td>77.1W</td>\n",
       "    </tr>\n",
       "    <tr>\n",
       "      <th>1399</th>\n",
       "      <td>8.0</td>\n",
       "      <td>1967-10-16 02:05:54</td>\n",
       "      <td>SNT</td>\n",
       "      <td>Santiago, Chile</td>\n",
       "      <td>33.2S</td>\n",
       "      <td>70.1W</td>\n",
       "    </tr>\n",
       "    <tr>\n",
       "      <th>5459</th>\n",
       "      <td>5.0</td>\n",
       "      <td>1966-03-26 04:29:08</td>\n",
       "      <td>QUI</td>\n",
       "      <td>Quito, Ecuador</td>\n",
       "      <td>0.6S</td>\n",
       "      <td>78.6W</td>\n",
       "    </tr>\n",
       "    <tr>\n",
       "      <th>3194</th>\n",
       "      <td>18.0</td>\n",
       "      <td>1966-05-16 04:18:43</td>\n",
       "      <td>WOO</td>\n",
       "      <td>Woomera, Australia</td>\n",
       "      <td>31.1S</td>\n",
       "      <td>136.8E</td>\n",
       "    </tr>\n",
       "  </tbody>\n",
       "</table>\n",
       "</div>"
      ],
      "text/plain": [
       "      Station_Number           Timestamp Station_Code  \\\n",
       "3809             5.0 1967-02-18 03:54:26          QUI   \n",
       "5163             1.0 1966-02-20 21:56:05          BPT   \n",
       "1903            43.0 1968-02-27 05:23:01          RES   \n",
       "5801             1.0 1966-02-24 20:55:20          BPT   \n",
       "597             50.0 1968-10-19 00:46:34          OTT   \n",
       "6045            13.0 1965-08-01 11:56:59          COL   \n",
       "5375             1.0 1966-02-20 00:49:55          BPT   \n",
       "1399             8.0 1967-10-16 02:05:54          SNT   \n",
       "5459             5.0 1966-03-26 04:29:08          QUI   \n",
       "3194            18.0 1966-05-16 04:18:43          WOO   \n",
       "\n",
       "                     Station_Name    Lat     Lng  \n",
       "3809               Quito, Ecuador   0.6S   78.6W  \n",
       "5163       Blossom Point, MD, USA  38.4N   77.1W  \n",
       "1903     Resolute Bay, NT, Canada  74.7N     95W  \n",
       "5801       Blossom Point, MD, USA  38.4N   77.1W  \n",
       "597                Ottawa, Canada  45.4N   75.7W  \n",
       "6045  College, Fairbanks, AK, USA  64.9N  147.8W  \n",
       "5375       Blossom Point, MD, USA  38.4N   77.1W  \n",
       "1399              Santiago, Chile  33.2S   70.1W  \n",
       "5459               Quito, Ecuador   0.6S   78.6W  \n",
       "3194           Woomera, Australia  31.1S  136.8E  "
      ]
     },
     "execution_count": 90,
     "metadata": {},
     "output_type": "execute_result"
    }
   ],
   "source": [
    "df_result4 = df_result3.merge(df_stns[['Station_Code', 'Station_Name', 'Lat', 'Lng']], how='left', on='Station_Code')\n",
    "print(len(df_result4))\n",
    "df_result4[['Station_Number', 'Timestamp', 'Station_Code', 'Station_Name', 'Lat', 'Lng']].sample(10)"
   ]
  },
  {
   "cell_type": "markdown",
   "id": "66ca788a",
   "metadata": {},
   "source": [
    "#  "
   ]
  },
  {
   "cell_type": "markdown",
   "id": "3d73d024",
   "metadata": {},
   "source": [
    "#### Save:"
   ]
  },
  {
   "cell_type": "code",
   "execution_count": 91,
   "id": "6dbcb77c",
   "metadata": {},
   "outputs": [],
   "source": [
    "df_result4 = df_result4.sort_values('Timestamp').reset_index(drop=True)\n",
    "df_result4.to_csv(resultDir + 'result_total.csv', index=False)"
   ]
  },
  {
   "cell_type": "code",
   "execution_count": null,
   "id": "161bbd30",
   "metadata": {},
   "outputs": [],
   "source": []
  }
 ],
 "metadata": {
  "kernelspec": {
   "display_name": "Python 3 (ipykernel)",
   "language": "python",
   "name": "python3"
  },
  "language_info": {
   "codemirror_mode": {
    "name": "ipython",
    "version": 3
   },
   "file_extension": ".py",
   "mimetype": "text/x-python",
   "name": "python",
   "nbconvert_exporter": "python",
   "pygments_lexer": "ipython3",
   "version": "3.8.16"
  }
 },
 "nbformat": 4,
 "nbformat_minor": 5
}

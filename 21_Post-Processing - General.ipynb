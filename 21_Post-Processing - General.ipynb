{
 "cells": [
  {
   "cell_type": "markdown",
   "id": "0cc96bbd",
   "metadata": {},
   "source": [
    "# Post-Processing (General)\n",
    "\n",
    "#### Updated: May 17, 2023"
   ]
  },
  {
   "cell_type": "markdown",
   "id": "aae7fdc8",
   "metadata": {},
   "source": [
    "#  "
   ]
  },
  {
   "cell_type": "markdown",
   "id": "6dcab44c",
   "metadata": {},
   "source": [
    "Post-processing pipeline after stage 2 of Alouette processing (OCR processing stage):"
   ]
  },
  {
   "cell_type": "code",
   "execution_count": 2,
   "id": "43814246",
   "metadata": {},
   "outputs": [],
   "source": [
    "import os\n",
    "import numpy as np\n",
    "import pandas as pd\n",
    "from datetime import datetime\n",
    "import seaborn as sns"
   ]
  },
  {
   "cell_type": "code",
   "execution_count": 3,
   "id": "d2634864",
   "metadata": {},
   "outputs": [],
   "source": [
    "rootDir = 'L:/DATA/Alouette_I/BATCH_II_Run2/'\n",
    "processedDir = rootDir + '04_processed/'\n",
    "resultDir = rootDir + '05_result/'\n",
    "logDir = rootDir + '06_log/'"
   ]
  },
  {
   "cell_type": "markdown",
   "id": "fe8fc8f0",
   "metadata": {},
   "source": [
    "#  "
   ]
  },
  {
   "cell_type": "markdown",
   "id": "35deb2c3",
   "metadata": {},
   "source": [
    "#### Functions:"
   ]
  },
  {
   "cell_type": "code",
   "execution_count": 4,
   "id": "7c64ed5b",
   "metadata": {},
   "outputs": [],
   "source": [
    "def construct_timestamp(df_in):\n",
    "    \n",
    "    df_in['time_quality'] = 0\n",
    "    \n",
    "    #To the nearest second (time quality 1)\n",
    "    df_in['month_day'] = pd.to_datetime(df_in['day_of_year'], format='%j').dt.strftime('%m-%d')\n",
    "    df_in['month'] = df_in['month_day'].str.split('-').str[0]\n",
    "    df_in['day'] = df_in['month_day'].str.split('-').str[1]\n",
    "    df_in['Timestamp'] = pd.to_datetime(df_in[['year', 'month', 'day', 'hour', 'minute', 'second']], format='%Y-%m-%d %H:%M:%S')\n",
    "    df_in.loc[~df_in['Timestamp'].isnull(), 'time_quality'] = 1\n",
    "    df_in_tq1 = df_in.loc[df_in['time_quality'] == 1]\n",
    "    \n",
    "    #To the nearest minute (time quality 2)\n",
    "    df_in_not_tq1 = df_in.loc[df_in['time_quality'] != 1]\n",
    "    df_in_not_tq1 = df_in_not_tq1.copy(deep=True)\n",
    "    df_in_not_tq1['Timestamp'] = pd.to_datetime(df_in_not_tq1[['year', 'month', 'day', 'hour', 'minute']], format='%Y-%m-%d %H:%M:00')\n",
    "    df_in_not_tq1.loc[~df_in_not_tq1['Timestamp'].isnull(), 'time_quality'] = 2\n",
    "    df_in_tq2 = df_in_not_tq1.loc[df_in_not_tq1['time_quality'] == 2]\n",
    "    \n",
    "    #To the nearest hour (time quality 3)\n",
    "    df_in_not_tq2 = df_in_not_tq1.loc[df_in_not_tq1['time_quality'] != 2]\n",
    "    df_in_not_tq2 = df_in_not_tq2.copy(deep=True)\n",
    "    df_in_not_tq2['Timestamp'] = pd.to_datetime(df_in_not_tq2[['year', 'month', 'day', 'hour']], format='%Y-%m-%d %H:00:00')\n",
    "    df_in_not_tq2.loc[~df_in_not_tq2['Timestamp'].isnull(), 'time_quality'] = 3\n",
    "    df_in_tq3 = df_in_not_tq2.loc[df_in_not_tq2['time_quality'] == 3]\n",
    "    \n",
    "    #To the nearest day (time quality 4)\n",
    "    df_in_not_tq3 = df_in_not_tq2.loc[df_in_not_tq2['time_quality'] != 3]\n",
    "    df_in_not_tq3 = df_in_not_tq3.copy(deep=True)\n",
    "    df_in_not_tq3['Timestamp'] = pd.to_datetime(df_in_not_tq3[['year', 'month', 'day']], format='%Y-%m-%d 00:00:00')\n",
    "    df_in_not_tq3.loc[~df_in_not_tq3['Timestamp'].isnull(), 'time_quality'] = 4\n",
    "    df_in_tq4 = df_in_not_tq3.loc[df_in_not_tq3['time_quality'] == 4]\n",
    "    \n",
    "    df_in_not_tq4 = df_in_not_tq3.loc[df_in_not_tq3['time_quality'] != 4]\n",
    "    df_in = pd.concat([df_in_tq1, df_in_tq2, df_in_tq3, df_in_tq4, df_in_not_tq4])\n",
    "    \n",
    "    return df_in"
   ]
  },
  {
   "cell_type": "markdown",
   "id": "26eb6bfd",
   "metadata": {},
   "source": [
    "#  "
   ]
  },
  {
   "cell_type": "markdown",
   "id": "3aef6def",
   "metadata": {},
   "source": [
    "#### Generate processed_inventory, concatenate stage 1 results - RUN BEFORE starting stage 2 processing (OCR processing stage):"
   ]
  },
  {
   "cell_type": "markdown",
   "id": "3f95cc14",
   "metadata": {},
   "source": [
    "Generate processed_inventory:"
   ]
  },
  {
   "cell_type": "code",
   "execution_count": null,
   "id": "5c3d24d3",
   "metadata": {
    "scrolled": true
   },
   "outputs": [],
   "source": [
    "df_inventory = pd.DataFrame()\n",
    "for directory in os.listdir(processedDir):\n",
    "    print(directory)\n",
    "    for subdirectory in os.listdir(processedDir + directory):\n",
    "        n_images = len(os.listdir(processedDir + directory + '/' + subdirectory))\n",
    "        df_inventory_ = pd.DataFrame({\n",
    "            'Directory': directory, \n",
    "            'Subdirectory': subdirectory,\n",
    "            'images': n_images,\n",
    "            'subdir_id': directory + '_' + subdirectory\n",
    "        }, index=[0])\n",
    "        df_inventory = pd.concat([df_inventory, df_inventory_], axis=0, ignore_index=True)"
   ]
  },
  {
   "cell_type": "code",
   "execution_count": null,
   "id": "93a6a6bc",
   "metadata": {},
   "outputs": [],
   "source": [
    "print(len(df_inventory))\n",
    "df_inventory.head()"
   ]
  },
  {
   "cell_type": "code",
   "execution_count": null,
   "id": "08f197ea",
   "metadata": {},
   "outputs": [],
   "source": [
    "df_inventory.to_csv(logDir + 'image_inventory_processed.csv', index=False)"
   ]
  },
  {
   "cell_type": "markdown",
   "id": "96b93d51",
   "metadata": {},
   "source": [
    "Concatenate stage 1 results:"
   ]
  },
  {
   "cell_type": "code",
   "execution_count": null,
   "id": "5a800df5",
   "metadata": {},
   "outputs": [],
   "source": [
    "df_result = pd.DataFrame()\n",
    "i = 0\n",
    "for file in os.listdir(resultDir):\n",
    "    if 'R' in file:\n",
    "        directory = file\n",
    "        for file2 in os.listdir(resultDir + directory + '/'):\n",
    "            if 'result-' in file2:\n",
    "                fn_parts = file2.split('_')\n",
    "                subdirectory = fn_parts[1].replace('.csv', '')\n",
    "                if i > 0:\n",
    "                    if i % 100 == 0:\n",
    "                        df_result = pd.read_csv(resultDir + 'result_stage1_raw.csv')\n",
    "                        print(len(df_result))\n",
    "                try:\n",
    "                    df_load = pd.read_csv(resultDir + directory + '/' + file2, sep=',')\n",
    "                    n = len(df_load)\n",
    "                except pd.errors.EmptyDataError:\n",
    "                    n = 0\n",
    "                    df_load = pd.DataFrame()\n",
    "                df_result = pd.concat([df_result, df_load])\n",
    "                i += 1\n",
    "                if i % 100 == 0:\n",
    "                    print('Now saving the ' + str(i) + 'th result...')\n",
    "                    df_result.to_csv(resultDir + 'result_stage1_raw.csv', index=False)\n",
    "df_result.to_csv(resultDir + 'result_stage1_raw.csv', index=False)"
   ]
  },
  {
   "cell_type": "code",
   "execution_count": null,
   "id": "295b2df7",
   "metadata": {},
   "outputs": [],
   "source": [
    "df_result = pd.read_csv(resultDir + 'result_stage1_raw.csv')\n",
    "print(len(df_result))\n",
    "df_result.sample(10)"
   ]
  },
  {
   "cell_type": "markdown",
   "id": "2157a0ae",
   "metadata": {},
   "source": [
    "#  "
   ]
  },
  {
   "cell_type": "markdown",
   "id": "e34e963a",
   "metadata": {},
   "source": [
    "#### Concatenate 'OCR pass' results - START HERE after stage 2 processeing (OCR processing stage):"
   ]
  },
  {
   "cell_type": "code",
   "execution_count": 5,
   "id": "098dab53",
   "metadata": {},
   "outputs": [
    {
     "name": "stdout",
     "output_type": "stream",
     "text": [
      "Now saving the 100th result...\n",
      "28588\n",
      "Now saving the 200th result...\n",
      "67746\n",
      "Now saving the 300th result...\n",
      "100086\n",
      "Now saving the 400th result...\n",
      "130480\n",
      "Now saving the 500th result...\n",
      "159178\n",
      "Now saving the 600th result...\n",
      "188434\n",
      "Now saving the 700th result...\n",
      "218031\n",
      "Now saving the 800th result...\n",
      "244454\n",
      "Now saving the 900th result...\n",
      "273755\n",
      "Now saving the 1000th result...\n",
      "302594\n",
      "Now saving the 1100th result...\n",
      "330088\n",
      "Now saving the 1200th result...\n",
      "358780\n",
      "Now saving the 1300th result...\n",
      "387101\n",
      "Now saving the 1400th result...\n",
      "417885\n",
      "Now saving the 1500th result...\n",
      "442633\n",
      "Now saving the 1600th result...\n",
      "473125\n",
      "Now saving the 1700th result...\n",
      "505976\n",
      "Now saving the 1800th result...\n",
      "540364\n",
      "Now saving the 1900th result...\n",
      "574151\n"
     ]
    }
   ],
   "source": [
    "df_result = pd.DataFrame()\n",
    "i = 0\n",
    "for file in os.listdir(resultDir):\n",
    "    if 'R' in file:\n",
    "        directory = file\n",
    "        for file2 in os.listdir(resultDir + directory + '/'):\n",
    "            if 'result_OCRpass' in file2:\n",
    "                fn_parts = file2.split('_')\n",
    "                subdirectory = fn_parts[2].replace('.csv', '')\n",
    "                if i > 0:\n",
    "                    if i % 100 == 0:\n",
    "                        df_result = pd.read_csv(resultDir + 'result_stage2_raw.csv', low_memory=False)\n",
    "                        print(len(df_result))\n",
    "                try:\n",
    "                    df_load = pd.read_csv(resultDir + directory + '/' + file2, sep=',')\n",
    "                    n = len(df_load)\n",
    "                except pd.errors.EmptyDataError:\n",
    "                    n = 0\n",
    "                df_result = pd.concat([df_result, df_load])\n",
    "                i += 1\n",
    "                if i % 100 == 0:\n",
    "                    print('Now saving the ' + str(i) + 'th result...')\n",
    "                    df_result.to_csv(resultDir + 'result_stage2_raw.csv', index=False)\n",
    "df_result.to_csv(resultDir + 'result_stage2_raw.csv', index=False)"
   ]
  },
  {
   "cell_type": "markdown",
   "id": "9b20c903",
   "metadata": {},
   "source": [
    "#  "
   ]
  },
  {
   "cell_type": "markdown",
   "id": "d44163b2",
   "metadata": {},
   "source": [
    "#### Reduce columns:"
   ]
  },
  {
   "cell_type": "code",
   "execution_count": 6,
   "id": "2219830e",
   "metadata": {},
   "outputs": [
    {
     "name": "stdout",
     "output_type": "stream",
     "text": [
      "600621\n"
     ]
    },
    {
     "data": {
      "text/html": [
       "<div>\n",
       "<style scoped>\n",
       "    .dataframe tbody tr th:only-of-type {\n",
       "        vertical-align: middle;\n",
       "    }\n",
       "\n",
       "    .dataframe tbody tr th {\n",
       "        vertical-align: top;\n",
       "    }\n",
       "\n",
       "    .dataframe thead th {\n",
       "        text-align: right;\n",
       "    }\n",
       "</style>\n",
       "<table border=\"1\" class=\"dataframe\">\n",
       "  <thead>\n",
       "    <tr style=\"text-align: right;\">\n",
       "      <th></th>\n",
       "      <th>fmin</th>\n",
       "      <th>max_depth</th>\n",
       "      <th>satellite_number</th>\n",
       "      <th>year</th>\n",
       "      <th>day_1</th>\n",
       "      <th>day_2</th>\n",
       "      <th>day_3</th>\n",
       "      <th>hour_1</th>\n",
       "      <th>hour_2</th>\n",
       "      <th>minute_1</th>\n",
       "      <th>...</th>\n",
       "      <th>Subdirectory</th>\n",
       "      <th>filename</th>\n",
       "      <th>station_code</th>\n",
       "      <th>station_number</th>\n",
       "      <th>station_number_OCR</th>\n",
       "      <th>year_OCR</th>\n",
       "      <th>day_of_year_OCR</th>\n",
       "      <th>hour_OCR</th>\n",
       "      <th>minute_OCR</th>\n",
       "      <th>second_OCR</th>\n",
       "    </tr>\n",
       "  </thead>\n",
       "  <tbody>\n",
       "    <tr>\n",
       "      <th>0</th>\n",
       "      <td>1.500000</td>\n",
       "      <td>1443.396226</td>\n",
       "      <td>1.0</td>\n",
       "      <td>0.0</td>\n",
       "      <td>0.0</td>\n",
       "      <td>0.0</td>\n",
       "      <td>0.0</td>\n",
       "      <td>0.0</td>\n",
       "      <td>0.0</td>\n",
       "      <td>0.0</td>\n",
       "      <td>...</td>\n",
       "      <td>24</td>\n",
       "      <td>191.png</td>\n",
       "      <td>NaN</td>\n",
       "      <td>NaN</td>\n",
       "      <td>NaN</td>\n",
       "      <td>NaN</td>\n",
       "      <td>NaN</td>\n",
       "      <td>NaN</td>\n",
       "      <td>NaN</td>\n",
       "      <td>NaN</td>\n",
       "    </tr>\n",
       "    <tr>\n",
       "      <th>1</th>\n",
       "      <td>1.504032</td>\n",
       "      <td>405.660377</td>\n",
       "      <td>0.0</td>\n",
       "      <td>0.0</td>\n",
       "      <td>2.0</td>\n",
       "      <td>0.0</td>\n",
       "      <td>1.0</td>\n",
       "      <td>1.0</td>\n",
       "      <td>1.0</td>\n",
       "      <td>0.0</td>\n",
       "      <td>...</td>\n",
       "      <td>24</td>\n",
       "      <td>218.png</td>\n",
       "      <td>NaN</td>\n",
       "      <td>NaN</td>\n",
       "      <td>NaN</td>\n",
       "      <td>NaN</td>\n",
       "      <td>NaN</td>\n",
       "      <td>NaN</td>\n",
       "      <td>NaN</td>\n",
       "      <td>NaN</td>\n",
       "    </tr>\n",
       "    <tr>\n",
       "      <th>2</th>\n",
       "      <td>1.500000</td>\n",
       "      <td>1537.735849</td>\n",
       "      <td>1.0</td>\n",
       "      <td>0.0</td>\n",
       "      <td>0.0</td>\n",
       "      <td>0.0</td>\n",
       "      <td>1.0</td>\n",
       "      <td>1.0</td>\n",
       "      <td>2.0</td>\n",
       "      <td>0.0</td>\n",
       "      <td>...</td>\n",
       "      <td>24</td>\n",
       "      <td>33.png</td>\n",
       "      <td>NaN</td>\n",
       "      <td>NaN</td>\n",
       "      <td>NaN</td>\n",
       "      <td>NaN</td>\n",
       "      <td>NaN</td>\n",
       "      <td>NaN</td>\n",
       "      <td>NaN</td>\n",
       "      <td>NaN</td>\n",
       "    </tr>\n",
       "    <tr>\n",
       "      <th>3</th>\n",
       "      <td>9.650538</td>\n",
       "      <td>1490.566038</td>\n",
       "      <td>0.0</td>\n",
       "      <td>0.0</td>\n",
       "      <td>0.0</td>\n",
       "      <td>0.0</td>\n",
       "      <td>0.0</td>\n",
       "      <td>0.0</td>\n",
       "      <td>0.0</td>\n",
       "      <td>0.0</td>\n",
       "      <td>...</td>\n",
       "      <td>24</td>\n",
       "      <td>83.png</td>\n",
       "      <td>NaN</td>\n",
       "      <td>NaN</td>\n",
       "      <td>NaN</td>\n",
       "      <td>NaN</td>\n",
       "      <td>NaN</td>\n",
       "      <td>NaN</td>\n",
       "      <td>NaN</td>\n",
       "      <td>NaN</td>\n",
       "    </tr>\n",
       "    <tr>\n",
       "      <th>4</th>\n",
       "      <td>NaN</td>\n",
       "      <td>NaN</td>\n",
       "      <td>NaN</td>\n",
       "      <td>NaN</td>\n",
       "      <td>NaN</td>\n",
       "      <td>NaN</td>\n",
       "      <td>NaN</td>\n",
       "      <td>NaN</td>\n",
       "      <td>NaN</td>\n",
       "      <td>NaN</td>\n",
       "      <td>...</td>\n",
       "      <td>24</td>\n",
       "      <td>1.png</td>\n",
       "      <td>NaN</td>\n",
       "      <td>NaN</td>\n",
       "      <td>NaN</td>\n",
       "      <td>NaN</td>\n",
       "      <td>NaN</td>\n",
       "      <td>NaN</td>\n",
       "      <td>NaN</td>\n",
       "      <td>NaN</td>\n",
       "    </tr>\n",
       "  </tbody>\n",
       "</table>\n",
       "<p>5 rows × 44 columns</p>\n",
       "</div>"
      ],
      "text/plain": [
       "       fmin    max_depth  satellite_number  year  day_1  day_2  day_3  hour_1  \\\n",
       "0  1.500000  1443.396226               1.0   0.0    0.0    0.0    0.0     0.0   \n",
       "1  1.504032   405.660377               0.0   0.0    2.0    0.0    1.0     1.0   \n",
       "2  1.500000  1537.735849               1.0   0.0    0.0    0.0    1.0     1.0   \n",
       "3  9.650538  1490.566038               0.0   0.0    0.0    0.0    0.0     0.0   \n",
       "4       NaN          NaN               NaN   NaN    NaN    NaN    NaN     NaN   \n",
       "\n",
       "   hour_2  minute_1  ...  Subdirectory  filename  station_code  \\\n",
       "0     0.0       0.0  ...            24   191.png           NaN   \n",
       "1     1.0       0.0  ...            24   218.png           NaN   \n",
       "2     2.0       0.0  ...            24    33.png           NaN   \n",
       "3     0.0       0.0  ...            24    83.png           NaN   \n",
       "4     NaN       NaN  ...            24     1.png           NaN   \n",
       "\n",
       "   station_number  station_number_OCR year_OCR day_of_year_OCR hour_OCR  \\\n",
       "0             NaN                 NaN      NaN             NaN      NaN   \n",
       "1             NaN                 NaN      NaN             NaN      NaN   \n",
       "2             NaN                 NaN      NaN             NaN      NaN   \n",
       "3             NaN                 NaN      NaN             NaN      NaN   \n",
       "4             NaN                 NaN      NaN             NaN      NaN   \n",
       "\n",
       "   minute_OCR  second_OCR  \n",
       "0         NaN         NaN  \n",
       "1         NaN         NaN  \n",
       "2         NaN         NaN  \n",
       "3         NaN         NaN  \n",
       "4         NaN         NaN  \n",
       "\n",
       "[5 rows x 44 columns]"
      ]
     },
     "execution_count": 6,
     "metadata": {},
     "output_type": "execute_result"
    }
   ],
   "source": [
    "df_result = pd.read_csv(resultDir + 'result_stage2_raw.csv', low_memory=False)\n",
    "print(len(df_result))\n",
    "df_result.head()"
   ]
  },
  {
   "cell_type": "code",
   "execution_count": 7,
   "id": "801907a3",
   "metadata": {},
   "outputs": [
    {
     "data": {
      "text/html": [
       "<div>\n",
       "<style scoped>\n",
       "    .dataframe tbody tr th:only-of-type {\n",
       "        vertical-align: middle;\n",
       "    }\n",
       "\n",
       "    .dataframe tbody tr th {\n",
       "        vertical-align: top;\n",
       "    }\n",
       "\n",
       "    .dataframe thead th {\n",
       "        text-align: right;\n",
       "    }\n",
       "</style>\n",
       "<table border=\"1\" class=\"dataframe\">\n",
       "  <thead>\n",
       "    <tr style=\"text-align: right;\">\n",
       "      <th></th>\n",
       "      <th>Directory</th>\n",
       "      <th>Subdirectory</th>\n",
       "      <th>filename</th>\n",
       "      <th>processed_image_class</th>\n",
       "      <th>fmin</th>\n",
       "      <th>max_depth</th>\n",
       "      <th>station_number</th>\n",
       "      <th>station_number_1</th>\n",
       "      <th>station_number_2</th>\n",
       "      <th>year_1</th>\n",
       "      <th>...</th>\n",
       "      <th>station_number_OCR</th>\n",
       "      <th>year_OCR</th>\n",
       "      <th>day_of_year_OCR</th>\n",
       "      <th>hour_OCR</th>\n",
       "      <th>minute_OCR</th>\n",
       "      <th>second_OCR</th>\n",
       "      <th>metadata_type</th>\n",
       "      <th>is_dot</th>\n",
       "      <th>func_name</th>\n",
       "      <th>details</th>\n",
       "    </tr>\n",
       "  </thead>\n",
       "  <tbody>\n",
       "    <tr>\n",
       "      <th>139899</th>\n",
       "      <td>R014207820</td>\n",
       "      <td>2957-12B</td>\n",
       "      <td>54.png</td>\n",
       "      <td>num</td>\n",
       "      <td>1.508065</td>\n",
       "      <td>1276.595745</td>\n",
       "      <td>NaN</td>\n",
       "      <td>1.0</td>\n",
       "      <td>1.0</td>\n",
       "      <td>1.0</td>\n",
       "      <td>...</td>\n",
       "      <td>NaN</td>\n",
       "      <td>NaN</td>\n",
       "      <td>NaN</td>\n",
       "      <td>NaN</td>\n",
       "      <td>NaN</td>\n",
       "      <td>NaN</td>\n",
       "      <td>NaN</td>\n",
       "      <td>NaN</td>\n",
       "      <td>NaN</td>\n",
       "      <td>NaN</td>\n",
       "    </tr>\n",
       "    <tr>\n",
       "      <th>238788</th>\n",
       "      <td>R014207829</td>\n",
       "      <td>4278-43A-4</td>\n",
       "      <td>135.png</td>\n",
       "      <td>loss</td>\n",
       "      <td>1.689516</td>\n",
       "      <td>1381.632653</td>\n",
       "      <td>NaN</td>\n",
       "      <td>NaN</td>\n",
       "      <td>NaN</td>\n",
       "      <td>NaN</td>\n",
       "      <td>...</td>\n",
       "      <td>NaN</td>\n",
       "      <td>NaN</td>\n",
       "      <td>NaN</td>\n",
       "      <td>NaN</td>\n",
       "      <td>NaN</td>\n",
       "      <td>NaN</td>\n",
       "      <td>NaN</td>\n",
       "      <td>NaN</td>\n",
       "      <td>NaN</td>\n",
       "      <td>metadata could not be read by OCR</td>\n",
       "    </tr>\n",
       "    <tr>\n",
       "      <th>128376</th>\n",
       "      <td>R014207819</td>\n",
       "      <td>4775-05</td>\n",
       "      <td>149.png</td>\n",
       "      <td>loss</td>\n",
       "      <td>4.330189</td>\n",
       "      <td>1297.777778</td>\n",
       "      <td>NaN</td>\n",
       "      <td>NaN</td>\n",
       "      <td>NaN</td>\n",
       "      <td>NaN</td>\n",
       "      <td>...</td>\n",
       "      <td>NaN</td>\n",
       "      <td>NaN</td>\n",
       "      <td>NaN</td>\n",
       "      <td>NaN</td>\n",
       "      <td>NaN</td>\n",
       "      <td>NaN</td>\n",
       "      <td>NaN</td>\n",
       "      <td>NaN</td>\n",
       "      <td>NaN</td>\n",
       "      <td>metadata could not be read by OCR</td>\n",
       "    </tr>\n",
       "    <tr>\n",
       "      <th>509761</th>\n",
       "      <td>R014207952</td>\n",
       "      <td>2735-9A</td>\n",
       "      <td>153.png</td>\n",
       "      <td>num</td>\n",
       "      <td>1.504032</td>\n",
       "      <td>864.705882</td>\n",
       "      <td>NaN</td>\n",
       "      <td>7.0</td>\n",
       "      <td>9.0</td>\n",
       "      <td>1.0</td>\n",
       "      <td>...</td>\n",
       "      <td>NaN</td>\n",
       "      <td>NaN</td>\n",
       "      <td>NaN</td>\n",
       "      <td>NaN</td>\n",
       "      <td>NaN</td>\n",
       "      <td>NaN</td>\n",
       "      <td>NaN</td>\n",
       "      <td>NaN</td>\n",
       "      <td>NaN</td>\n",
       "      <td>NaN</td>\n",
       "    </tr>\n",
       "    <tr>\n",
       "      <th>87687</th>\n",
       "      <td>R014207817</td>\n",
       "      <td>4156-08</td>\n",
       "      <td>261.png</td>\n",
       "      <td>num2</td>\n",
       "      <td>1.533333</td>\n",
       "      <td>1357.142857</td>\n",
       "      <td>NaN</td>\n",
       "      <td>NaN</td>\n",
       "      <td>NaN</td>\n",
       "      <td>NaN</td>\n",
       "      <td>...</td>\n",
       "      <td>08</td>\n",
       "      <td>67</td>\n",
       "      <td>055</td>\n",
       "      <td>08</td>\n",
       "      <td>15</td>\n",
       "      <td>40</td>\n",
       "      <td>NaN</td>\n",
       "      <td>NaN</td>\n",
       "      <td>NaN</td>\n",
       "      <td>NaN</td>\n",
       "    </tr>\n",
       "    <tr>\n",
       "      <th>3016</th>\n",
       "      <td>R014207807</td>\n",
       "      <td>4958</td>\n",
       "      <td>258.png</td>\n",
       "      <td>loss</td>\n",
       "      <td>NaN</td>\n",
       "      <td>NaN</td>\n",
       "      <td>NaN</td>\n",
       "      <td>NaN</td>\n",
       "      <td>NaN</td>\n",
       "      <td>NaN</td>\n",
       "      <td>...</td>\n",
       "      <td>NaN</td>\n",
       "      <td>NaN</td>\n",
       "      <td>NaN</td>\n",
       "      <td>NaN</td>\n",
       "      <td>NaN</td>\n",
       "      <td>NaN</td>\n",
       "      <td>NaN</td>\n",
       "      <td>NaN</td>\n",
       "      <td>metadata_translation.determine_leftside_metada...</td>\n",
       "      <td>NaN</td>\n",
       "    </tr>\n",
       "    <tr>\n",
       "      <th>422373</th>\n",
       "      <td>R014207843</td>\n",
       "      <td>3241-43A</td>\n",
       "      <td>40.png</td>\n",
       "      <td>loss</td>\n",
       "      <td>1.500000</td>\n",
       "      <td>800.000000</td>\n",
       "      <td>NaN</td>\n",
       "      <td>NaN</td>\n",
       "      <td>NaN</td>\n",
       "      <td>NaN</td>\n",
       "      <td>...</td>\n",
       "      <td>43</td>\n",
       "      <td>bb</td>\n",
       "      <td>02a</td>\n",
       "      <td>0a</td>\n",
       "      <td>t3</td>\n",
       "      <td>1b</td>\n",
       "      <td>NaN</td>\n",
       "      <td>NaN</td>\n",
       "      <td>NaN</td>\n",
       "      <td>OCR read metadata contains letters</td>\n",
       "    </tr>\n",
       "    <tr>\n",
       "      <th>211995</th>\n",
       "      <td>R014207827</td>\n",
       "      <td>3819-43A</td>\n",
       "      <td>180.png</td>\n",
       "      <td>loss</td>\n",
       "      <td>1.500000</td>\n",
       "      <td>254.166667</td>\n",
       "      <td>NaN</td>\n",
       "      <td>NaN</td>\n",
       "      <td>NaN</td>\n",
       "      <td>NaN</td>\n",
       "      <td>...</td>\n",
       "      <td>NaN</td>\n",
       "      <td>NaN</td>\n",
       "      <td>NaN</td>\n",
       "      <td>NaN</td>\n",
       "      <td>NaN</td>\n",
       "      <td>NaN</td>\n",
       "      <td>NaN</td>\n",
       "      <td>NaN</td>\n",
       "      <td>NaN</td>\n",
       "      <td>metadata could not be read by OCR</td>\n",
       "    </tr>\n",
       "    <tr>\n",
       "      <th>180970</th>\n",
       "      <td>R014207825</td>\n",
       "      <td>3773-50A</td>\n",
       "      <td>289.png</td>\n",
       "      <td>loss</td>\n",
       "      <td>1.500000</td>\n",
       "      <td>697.872340</td>\n",
       "      <td>NaN</td>\n",
       "      <td>NaN</td>\n",
       "      <td>NaN</td>\n",
       "      <td>NaN</td>\n",
       "      <td>...</td>\n",
       "      <td>NaN</td>\n",
       "      <td>NaN</td>\n",
       "      <td>NaN</td>\n",
       "      <td>NaN</td>\n",
       "      <td>NaN</td>\n",
       "      <td>NaN</td>\n",
       "      <td>NaN</td>\n",
       "      <td>NaN</td>\n",
       "      <td>NaN</td>\n",
       "      <td>metadata could not be read by OCR</td>\n",
       "    </tr>\n",
       "    <tr>\n",
       "      <th>271906</th>\n",
       "      <td>R014207831</td>\n",
       "      <td>3916-43A</td>\n",
       "      <td>196.png</td>\n",
       "      <td>loss</td>\n",
       "      <td>1.500000</td>\n",
       "      <td>1615.151515</td>\n",
       "      <td>NaN</td>\n",
       "      <td>NaN</td>\n",
       "      <td>NaN</td>\n",
       "      <td>NaN</td>\n",
       "      <td>...</td>\n",
       "      <td>NaN</td>\n",
       "      <td>NaN</td>\n",
       "      <td>NaN</td>\n",
       "      <td>NaN</td>\n",
       "      <td>NaN</td>\n",
       "      <td>NaN</td>\n",
       "      <td>NaN</td>\n",
       "      <td>NaN</td>\n",
       "      <td>NaN</td>\n",
       "      <td>metadata could not be read by OCR</td>\n",
       "    </tr>\n",
       "  </tbody>\n",
       "</table>\n",
       "<p>10 rows × 30 columns</p>\n",
       "</div>"
      ],
      "text/plain": [
       "         Directory Subdirectory filename processed_image_class      fmin  \\\n",
       "139899  R014207820     2957-12B   54.png                   num  1.508065   \n",
       "238788  R014207829   4278-43A-4  135.png                  loss  1.689516   \n",
       "128376  R014207819      4775-05  149.png                  loss  4.330189   \n",
       "509761  R014207952      2735-9A  153.png                   num  1.504032   \n",
       "87687   R014207817      4156-08  261.png                  num2  1.533333   \n",
       "3016    R014207807         4958  258.png                  loss       NaN   \n",
       "422373  R014207843     3241-43A   40.png                  loss  1.500000   \n",
       "211995  R014207827     3819-43A  180.png                  loss  1.500000   \n",
       "180970  R014207825     3773-50A  289.png                  loss  1.500000   \n",
       "271906  R014207831     3916-43A  196.png                  loss  1.500000   \n",
       "\n",
       "          max_depth  station_number  station_number_1  station_number_2  \\\n",
       "139899  1276.595745             NaN               1.0               1.0   \n",
       "238788  1381.632653             NaN               NaN               NaN   \n",
       "128376  1297.777778             NaN               NaN               NaN   \n",
       "509761   864.705882             NaN               7.0               9.0   \n",
       "87687   1357.142857             NaN               NaN               NaN   \n",
       "3016            NaN             NaN               NaN               NaN   \n",
       "422373   800.000000             NaN               NaN               NaN   \n",
       "211995   254.166667             NaN               NaN               NaN   \n",
       "180970   697.872340             NaN               NaN               NaN   \n",
       "271906  1615.151515             NaN               NaN               NaN   \n",
       "\n",
       "        year_1  ...  station_number_OCR  year_OCR  day_of_year_OCR  hour_OCR  \\\n",
       "139899     1.0  ...                 NaN       NaN              NaN       NaN   \n",
       "238788     NaN  ...                 NaN       NaN              NaN       NaN   \n",
       "128376     NaN  ...                 NaN       NaN              NaN       NaN   \n",
       "509761     1.0  ...                 NaN       NaN              NaN       NaN   \n",
       "87687      NaN  ...                  08        67              055        08   \n",
       "3016       NaN  ...                 NaN       NaN              NaN       NaN   \n",
       "422373     NaN  ...                  43        bb              02a        0a   \n",
       "211995     NaN  ...                 NaN       NaN              NaN       NaN   \n",
       "180970     NaN  ...                 NaN       NaN              NaN       NaN   \n",
       "271906     NaN  ...                 NaN       NaN              NaN       NaN   \n",
       "\n",
       "        minute_OCR  second_OCR  metadata_type  is_dot  \\\n",
       "139899         NaN         NaN            NaN     NaN   \n",
       "238788         NaN         NaN            NaN     NaN   \n",
       "128376         NaN         NaN            NaN     NaN   \n",
       "509761         NaN         NaN            NaN     NaN   \n",
       "87687           15          40            NaN     NaN   \n",
       "3016           NaN         NaN            NaN     NaN   \n",
       "422373          t3          1b            NaN     NaN   \n",
       "211995         NaN         NaN            NaN     NaN   \n",
       "180970         NaN         NaN            NaN     NaN   \n",
       "271906         NaN         NaN            NaN     NaN   \n",
       "\n",
       "                                                func_name  \\\n",
       "139899                                                NaN   \n",
       "238788                                                NaN   \n",
       "128376                                                NaN   \n",
       "509761                                                NaN   \n",
       "87687                                                 NaN   \n",
       "3016    metadata_translation.determine_leftside_metada...   \n",
       "422373                                                NaN   \n",
       "211995                                                NaN   \n",
       "180970                                                NaN   \n",
       "271906                                                NaN   \n",
       "\n",
       "                                   details  \n",
       "139899                                 NaN  \n",
       "238788   metadata could not be read by OCR  \n",
       "128376   metadata could not be read by OCR  \n",
       "509761                                 NaN  \n",
       "87687                                  NaN  \n",
       "3016                                   NaN  \n",
       "422373  OCR read metadata contains letters  \n",
       "211995   metadata could not be read by OCR  \n",
       "180970   metadata could not be read by OCR  \n",
       "271906   metadata could not be read by OCR  \n",
       "\n",
       "[10 rows x 30 columns]"
      ]
     },
     "execution_count": 7,
     "metadata": {},
     "output_type": "execute_result"
    }
   ],
   "source": [
    "df_result['year_1'] = df_result['year']\n",
    "df_result = df_result[['Directory', 'Subdirectory', 'filename', 'processed_image_class', 'fmin', 'max_depth', \n",
    "                       'station_number', 'station_number_1', 'station_number_2', 'year_1', 'day_1', 'day_2', 'day_3', \n",
    "                       'hour_1', 'hour_2', 'minute_1', 'minute_2', 'second_1', 'second_2', 'satellite_number', \n",
    "                       'station_number_OCR', 'year_OCR', 'day_of_year_OCR', 'hour_OCR', 'minute_OCR', 'second_OCR', \n",
    "                       'metadata_type', 'is_dot', 'func_name', 'details']] \n",
    "df_result.sample(10)"
   ]
  },
  {
   "cell_type": "markdown",
   "id": "1ba53fdb",
   "metadata": {},
   "source": [
    "#  "
   ]
  },
  {
   "cell_type": "markdown",
   "id": "b23a3aa9",
   "metadata": {},
   "source": [
    "#### Split results into different metadata types (dot, num, num2):"
   ]
  },
  {
   "cell_type": "code",
   "execution_count": 8,
   "id": "d08d4bb1",
   "metadata": {},
   "outputs": [
    {
     "data": {
      "text/plain": [
       "array(['num', 'loss', 'outlier', 'dot', 'num2'], dtype=object)"
      ]
     },
     "execution_count": 8,
     "metadata": {},
     "output_type": "execute_result"
    }
   ],
   "source": [
    "df_result['processed_image_class'].unique()"
   ]
  },
  {
   "cell_type": "code",
   "execution_count": 9,
   "id": "1be90f1a",
   "metadata": {},
   "outputs": [
    {
     "name": "stdout",
     "output_type": "stream",
     "text": [
      "105414\n"
     ]
    }
   ],
   "source": [
    "df_num2 = df_result.loc[df_result['processed_image_class'] == 'num2']\n",
    "print(len(df_num2))"
   ]
  },
  {
   "cell_type": "code",
   "execution_count": 10,
   "id": "203c553d",
   "metadata": {},
   "outputs": [
    {
     "name": "stdout",
     "output_type": "stream",
     "text": [
      "161109\n"
     ]
    }
   ],
   "source": [
    "df_num = df_result.loc[df_result['processed_image_class'] == 'num']\n",
    "print(len(df_num))"
   ]
  },
  {
   "cell_type": "code",
   "execution_count": 11,
   "id": "187933db",
   "metadata": {},
   "outputs": [
    {
     "name": "stdout",
     "output_type": "stream",
     "text": [
      "7337\n"
     ]
    }
   ],
   "source": [
    "df_dot = df_result.loc[df_result['processed_image_class'] == 'dot']\n",
    "print(len(df_dot))"
   ]
  },
  {
   "cell_type": "code",
   "execution_count": 12,
   "id": "b3252ff5",
   "metadata": {},
   "outputs": [
    {
     "name": "stdout",
     "output_type": "stream",
     "text": [
      "54861\n"
     ]
    }
   ],
   "source": [
    "df_outlier = df_result.loc[df_result['processed_image_class'] == 'outlier']\n",
    "print(len(df_outlier))"
   ]
  },
  {
   "cell_type": "code",
   "execution_count": 13,
   "id": "ffe172aa",
   "metadata": {},
   "outputs": [
    {
     "name": "stdout",
     "output_type": "stream",
     "text": [
      "271900\n"
     ]
    }
   ],
   "source": [
    "df_loss = df_result.loc[df_result['processed_image_class'] == 'loss']\n",
    "print(len(df_loss))"
   ]
  },
  {
   "cell_type": "code",
   "execution_count": 14,
   "id": "60121878",
   "metadata": {},
   "outputs": [
    {
     "data": {
      "text/plain": [
       "600621"
      ]
     },
     "execution_count": 14,
     "metadata": {},
     "output_type": "execute_result"
    }
   ],
   "source": [
    "len(df_num2) + len(df_num) + len(df_dot) + len(df_outlier) + len(df_loss)"
   ]
  },
  {
   "cell_type": "markdown",
   "id": "4604e196",
   "metadata": {},
   "source": [
    "  "
   ]
  },
  {
   "cell_type": "markdown",
   "id": "1d1701aa",
   "metadata": {},
   "source": [
    "#### num2 - check timestamp components, construct timestamp:"
   ]
  },
  {
   "cell_type": "code",
   "execution_count": 15,
   "id": "b2b05252",
   "metadata": {},
   "outputs": [
    {
     "data": {
      "text/html": [
       "<div>\n",
       "<style scoped>\n",
       "    .dataframe tbody tr th:only-of-type {\n",
       "        vertical-align: middle;\n",
       "    }\n",
       "\n",
       "    .dataframe tbody tr th {\n",
       "        vertical-align: top;\n",
       "    }\n",
       "\n",
       "    .dataframe thead th {\n",
       "        text-align: right;\n",
       "    }\n",
       "</style>\n",
       "<table border=\"1\" class=\"dataframe\">\n",
       "  <thead>\n",
       "    <tr style=\"text-align: right;\">\n",
       "      <th></th>\n",
       "      <th>year_OCR</th>\n",
       "      <th>day_of_year_OCR</th>\n",
       "      <th>hour_OCR</th>\n",
       "      <th>minute_OCR</th>\n",
       "      <th>second_OCR</th>\n",
       "    </tr>\n",
       "  </thead>\n",
       "  <tbody>\n",
       "    <tr>\n",
       "      <th>404916</th>\n",
       "      <td>67.0</td>\n",
       "      <td>302.0</td>\n",
       "      <td>23.0</td>\n",
       "      <td>46</td>\n",
       "      <td>55</td>\n",
       "    </tr>\n",
       "    <tr>\n",
       "      <th>321732</th>\n",
       "      <td>65.0</td>\n",
       "      <td>326.0</td>\n",
       "      <td>3.0</td>\n",
       "      <td>29</td>\n",
       "      <td>20</td>\n",
       "    </tr>\n",
       "    <tr>\n",
       "      <th>371236</th>\n",
       "      <td>65.0</td>\n",
       "      <td>137.0</td>\n",
       "      <td>03</td>\n",
       "      <td>45</td>\n",
       "      <td>42</td>\n",
       "    </tr>\n",
       "    <tr>\n",
       "      <th>90865</th>\n",
       "      <td>61</td>\n",
       "      <td>074</td>\n",
       "      <td>11</td>\n",
       "      <td>11</td>\n",
       "      <td>37</td>\n",
       "    </tr>\n",
       "    <tr>\n",
       "      <th>311695</th>\n",
       "      <td>68.0</td>\n",
       "      <td>65.0</td>\n",
       "      <td>4.0</td>\n",
       "      <td>36.0</td>\n",
       "      <td>40.0</td>\n",
       "    </tr>\n",
       "    <tr>\n",
       "      <th>332734</th>\n",
       "      <td>61</td>\n",
       "      <td>008</td>\n",
       "      <td>0.0</td>\n",
       "      <td>04</td>\n",
       "      <td>10.0</td>\n",
       "    </tr>\n",
       "    <tr>\n",
       "      <th>363260</th>\n",
       "      <td>67</td>\n",
       "      <td>163.0</td>\n",
       "      <td>16.0</td>\n",
       "      <td>42</td>\n",
       "      <td>46.0</td>\n",
       "    </tr>\n",
       "    <tr>\n",
       "      <th>111356</th>\n",
       "      <td>67.0</td>\n",
       "      <td>219</td>\n",
       "      <td>23</td>\n",
       "      <td>34</td>\n",
       "      <td>49</td>\n",
       "    </tr>\n",
       "    <tr>\n",
       "      <th>293988</th>\n",
       "      <td>67</td>\n",
       "      <td>359.0</td>\n",
       "      <td>11.0</td>\n",
       "      <td>26.0</td>\n",
       "      <td>42</td>\n",
       "    </tr>\n",
       "    <tr>\n",
       "      <th>320794</th>\n",
       "      <td>65.0</td>\n",
       "      <td>284</td>\n",
       "      <td>08</td>\n",
       "      <td>55.0</td>\n",
       "      <td>51</td>\n",
       "    </tr>\n",
       "  </tbody>\n",
       "</table>\n",
       "</div>"
      ],
      "text/plain": [
       "       year_OCR day_of_year_OCR hour_OCR minute_OCR second_OCR\n",
       "404916     67.0           302.0     23.0         46         55\n",
       "321732     65.0           326.0      3.0         29         20\n",
       "371236     65.0           137.0       03         45         42\n",
       "90865        61             074       11         11         37\n",
       "311695     68.0            65.0      4.0       36.0       40.0\n",
       "332734       61             008      0.0         04       10.0\n",
       "363260       67           163.0     16.0         42       46.0\n",
       "111356     67.0             219       23         34         49\n",
       "293988       67           359.0     11.0       26.0         42\n",
       "320794     65.0             284       08       55.0         51"
      ]
     },
     "execution_count": 15,
     "metadata": {},
     "output_type": "execute_result"
    }
   ],
   "source": [
    "df_num2[['year_OCR', 'day_of_year_OCR', 'hour_OCR', 'minute_OCR', 'second_OCR']].sample(10)"
   ]
  },
  {
   "cell_type": "markdown",
   "id": "cd2f64d7",
   "metadata": {},
   "source": [
    "year:"
   ]
  },
  {
   "cell_type": "code",
   "execution_count": 16,
   "id": "a9883a43",
   "metadata": {},
   "outputs": [
    {
     "data": {
      "text/plain": [
       "<Axes: xlabel='year_OCR', ylabel='Count'>"
      ]
     },
     "execution_count": 16,
     "metadata": {},
     "output_type": "execute_result"
    },
    {
     "data": {
      "image/png": "[encoded data removed]",
      "text/plain": [
       "<Figure size 640x480 with 1 Axes>"
      ]
     },
     "metadata": {},
     "output_type": "display_data"
    }
   ],
   "source": [
    "df_num2 = df_num2.copy(deep=True)\n",
    "df_num2['year_OCR'] = df_num2['year_OCR'].astype('float')\n",
    "sns.histplot(data=df_num2, x='year_OCR')"
   ]
  },
  {
   "cell_type": "code",
   "execution_count": 17,
   "id": "10f1387d",
   "metadata": {},
   "outputs": [],
   "source": [
    "df_num2['year_OCR'] = df_num2['year_OCR'].apply(lambda x: np.nan if x<62 else x)\n",
    "df_num2['year_OCR'] = df_num2['year_OCR'].apply(lambda x: np.nan if x>80 else x)"
   ]
  },
  {
   "cell_type": "code",
   "execution_count": 18,
   "id": "d7714fbd",
   "metadata": {},
   "outputs": [
    {
     "data": {
      "text/html": [
       "<div>\n",
       "<style scoped>\n",
       "    .dataframe tbody tr th:only-of-type {\n",
       "        vertical-align: middle;\n",
       "    }\n",
       "\n",
       "    .dataframe tbody tr th {\n",
       "        vertical-align: top;\n",
       "    }\n",
       "\n",
       "    .dataframe thead th {\n",
       "        text-align: right;\n",
       "    }\n",
       "</style>\n",
       "<table border=\"1\" class=\"dataframe\">\n",
       "  <thead>\n",
       "    <tr style=\"text-align: right;\">\n",
       "      <th></th>\n",
       "      <th>year</th>\n",
       "      <th>year_OCR</th>\n",
       "    </tr>\n",
       "  </thead>\n",
       "  <tbody>\n",
       "    <tr>\n",
       "      <th>92484</th>\n",
       "      <td>1967.0</td>\n",
       "      <td>67.0</td>\n",
       "    </tr>\n",
       "    <tr>\n",
       "      <th>384018</th>\n",
       "      <td>1968.0</td>\n",
       "      <td>68.0</td>\n",
       "    </tr>\n",
       "    <tr>\n",
       "      <th>29936</th>\n",
       "      <td>1968.0</td>\n",
       "      <td>68.0</td>\n",
       "    </tr>\n",
       "    <tr>\n",
       "      <th>247087</th>\n",
       "      <td>1968.0</td>\n",
       "      <td>68.0</td>\n",
       "    </tr>\n",
       "    <tr>\n",
       "      <th>403770</th>\n",
       "      <td>1967.0</td>\n",
       "      <td>67.0</td>\n",
       "    </tr>\n",
       "    <tr>\n",
       "      <th>331294</th>\n",
       "      <td>1967.0</td>\n",
       "      <td>67.0</td>\n",
       "    </tr>\n",
       "    <tr>\n",
       "      <th>323263</th>\n",
       "      <td>1966.0</td>\n",
       "      <td>66.0</td>\n",
       "    </tr>\n",
       "    <tr>\n",
       "      <th>95190</th>\n",
       "      <td>1966.0</td>\n",
       "      <td>66.0</td>\n",
       "    </tr>\n",
       "    <tr>\n",
       "      <th>231212</th>\n",
       "      <td>1968.0</td>\n",
       "      <td>68.0</td>\n",
       "    </tr>\n",
       "    <tr>\n",
       "      <th>205849</th>\n",
       "      <td>1966.0</td>\n",
       "      <td>66.0</td>\n",
       "    </tr>\n",
       "  </tbody>\n",
       "</table>\n",
       "</div>"
      ],
      "text/plain": [
       "          year  year_OCR\n",
       "92484   1967.0      67.0\n",
       "384018  1968.0      68.0\n",
       "29936   1968.0      68.0\n",
       "247087  1968.0      68.0\n",
       "403770  1967.0      67.0\n",
       "331294  1967.0      67.0\n",
       "323263  1966.0      66.0\n",
       "95190   1966.0      66.0\n",
       "231212  1968.0      68.0\n",
       "205849  1966.0      66.0"
      ]
     },
     "execution_count": 18,
     "metadata": {},
     "output_type": "execute_result"
    }
   ],
   "source": [
    "df_num2['year'] = df_num2['year_OCR'] + 1900\n",
    "df_num2[['year', 'year_OCR']].sample(10)"
   ]
  },
  {
   "cell_type": "markdown",
   "id": "d08d7c57",
   "metadata": {},
   "source": [
    "day:"
   ]
  },
  {
   "cell_type": "code",
   "execution_count": 19,
   "id": "5b13d5a1",
   "metadata": {},
   "outputs": [
    {
     "data": {
      "text/plain": [
       "<Axes: xlabel='day_of_year_OCR', ylabel='Count'>"
      ]
     },
     "execution_count": 19,
     "metadata": {},
     "output_type": "execute_result"
    },
    {
     "data": {
      "image/png": "[encoded data removed]",
      "text/plain": [
       "<Figure size 640x480 with 1 Axes>"
      ]
     },
     "metadata": {},
     "output_type": "display_data"
    }
   ],
   "source": [
    "df_num2['day_of_year_OCR'] = df_num2['day_of_year_OCR'].astype('float')\n",
    "sns.histplot(data=df_num2, x='day_of_year_OCR')"
   ]
  },
  {
   "cell_type": "code",
   "execution_count": 20,
   "id": "2f6b5822",
   "metadata": {},
   "outputs": [
    {
     "data": {
      "text/html": [
       "<div>\n",
       "<style scoped>\n",
       "    .dataframe tbody tr th:only-of-type {\n",
       "        vertical-align: middle;\n",
       "    }\n",
       "\n",
       "    .dataframe tbody tr th {\n",
       "        vertical-align: top;\n",
       "    }\n",
       "\n",
       "    .dataframe thead th {\n",
       "        text-align: right;\n",
       "    }\n",
       "</style>\n",
       "<table border=\"1\" class=\"dataframe\">\n",
       "  <thead>\n",
       "    <tr style=\"text-align: right;\">\n",
       "      <th></th>\n",
       "      <th>day_of_year</th>\n",
       "      <th>day_of_year_OCR</th>\n",
       "    </tr>\n",
       "  </thead>\n",
       "  <tbody>\n",
       "    <tr>\n",
       "      <th>389367</th>\n",
       "      <td>179.0</td>\n",
       "      <td>179.0</td>\n",
       "    </tr>\n",
       "    <tr>\n",
       "      <th>334358</th>\n",
       "      <td>358.0</td>\n",
       "      <td>358.0</td>\n",
       "    </tr>\n",
       "    <tr>\n",
       "      <th>120124</th>\n",
       "      <td>83.0</td>\n",
       "      <td>83.0</td>\n",
       "    </tr>\n",
       "    <tr>\n",
       "      <th>108523</th>\n",
       "      <td>213.0</td>\n",
       "      <td>213.0</td>\n",
       "    </tr>\n",
       "    <tr>\n",
       "      <th>119688</th>\n",
       "      <td>47.0</td>\n",
       "      <td>47.0</td>\n",
       "    </tr>\n",
       "    <tr>\n",
       "      <th>368043</th>\n",
       "      <td>212.0</td>\n",
       "      <td>212.0</td>\n",
       "    </tr>\n",
       "    <tr>\n",
       "      <th>286537</th>\n",
       "      <td>140.0</td>\n",
       "      <td>140.0</td>\n",
       "    </tr>\n",
       "    <tr>\n",
       "      <th>110468</th>\n",
       "      <td>294.0</td>\n",
       "      <td>294.0</td>\n",
       "    </tr>\n",
       "    <tr>\n",
       "      <th>378234</th>\n",
       "      <td>171.0</td>\n",
       "      <td>171.0</td>\n",
       "    </tr>\n",
       "    <tr>\n",
       "      <th>357713</th>\n",
       "      <td>103.0</td>\n",
       "      <td>103.0</td>\n",
       "    </tr>\n",
       "  </tbody>\n",
       "</table>\n",
       "</div>"
      ],
      "text/plain": [
       "        day_of_year  day_of_year_OCR\n",
       "389367        179.0            179.0\n",
       "334358        358.0            358.0\n",
       "120124         83.0             83.0\n",
       "108523        213.0            213.0\n",
       "119688         47.0             47.0\n",
       "368043        212.0            212.0\n",
       "286537        140.0            140.0\n",
       "110468        294.0            294.0\n",
       "378234        171.0            171.0\n",
       "357713        103.0            103.0"
      ]
     },
     "execution_count": 20,
     "metadata": {},
     "output_type": "execute_result"
    }
   ],
   "source": [
    "df_num2['day_of_year_OCR'] = df_num2['day_of_year_OCR'].apply(lambda x: np.nan if x>366 else x)\n",
    "df_num2['day_of_year_OCR'] = df_num2['day_of_year_OCR'].apply(lambda x: np.nan if x==0 else x)\n",
    "df_num2['day_of_year'] = df_num2['day_of_year_OCR']\n",
    "df_num2[['day_of_year', 'day_of_year_OCR']].sample(10)"
   ]
  },
  {
   "cell_type": "markdown",
   "id": "7399afbc",
   "metadata": {},
   "source": [
    "hour:"
   ]
  },
  {
   "cell_type": "code",
   "execution_count": 21,
   "id": "dfe54285",
   "metadata": {},
   "outputs": [
    {
     "data": {
      "text/plain": [
       "<Axes: xlabel='hour_OCR', ylabel='Count'>"
      ]
     },
     "execution_count": 21,
     "metadata": {},
     "output_type": "execute_result"
    },
    {
     "data": {
      "image/png": "[encoded data removed]",
      "text/plain": [
       "<Figure size 640x480 with 1 Axes>"
      ]
     },
     "metadata": {},
     "output_type": "display_data"
    }
   ],
   "source": [
    "df_num2['hour_OCR'] = df_num2['hour_OCR'].astype('float')\n",
    "sns.histplot(data=df_num2, x='hour_OCR')"
   ]
  },
  {
   "cell_type": "code",
   "execution_count": 22,
   "id": "e03ec071",
   "metadata": {},
   "outputs": [
    {
     "data": {
      "text/html": [
       "<div>\n",
       "<style scoped>\n",
       "    .dataframe tbody tr th:only-of-type {\n",
       "        vertical-align: middle;\n",
       "    }\n",
       "\n",
       "    .dataframe tbody tr th {\n",
       "        vertical-align: top;\n",
       "    }\n",
       "\n",
       "    .dataframe thead th {\n",
       "        text-align: right;\n",
       "    }\n",
       "</style>\n",
       "<table border=\"1\" class=\"dataframe\">\n",
       "  <thead>\n",
       "    <tr style=\"text-align: right;\">\n",
       "      <th></th>\n",
       "      <th>hour</th>\n",
       "      <th>hour_OCR</th>\n",
       "    </tr>\n",
       "  </thead>\n",
       "  <tbody>\n",
       "    <tr>\n",
       "      <th>277747</th>\n",
       "      <td>0.0</td>\n",
       "      <td>0.0</td>\n",
       "    </tr>\n",
       "    <tr>\n",
       "      <th>274913</th>\n",
       "      <td>2.0</td>\n",
       "      <td>2.0</td>\n",
       "    </tr>\n",
       "    <tr>\n",
       "      <th>336361</th>\n",
       "      <td>10.0</td>\n",
       "      <td>10.0</td>\n",
       "    </tr>\n",
       "    <tr>\n",
       "      <th>330573</th>\n",
       "      <td>19.0</td>\n",
       "      <td>19.0</td>\n",
       "    </tr>\n",
       "    <tr>\n",
       "      <th>392014</th>\n",
       "      <td>4.0</td>\n",
       "      <td>4.0</td>\n",
       "    </tr>\n",
       "    <tr>\n",
       "      <th>300532</th>\n",
       "      <td>20.0</td>\n",
       "      <td>20.0</td>\n",
       "    </tr>\n",
       "    <tr>\n",
       "      <th>210008</th>\n",
       "      <td>15.0</td>\n",
       "      <td>15.0</td>\n",
       "    </tr>\n",
       "    <tr>\n",
       "      <th>285311</th>\n",
       "      <td>17.0</td>\n",
       "      <td>17.0</td>\n",
       "    </tr>\n",
       "    <tr>\n",
       "      <th>349367</th>\n",
       "      <td>13.0</td>\n",
       "      <td>13.0</td>\n",
       "    </tr>\n",
       "    <tr>\n",
       "      <th>359776</th>\n",
       "      <td>21.0</td>\n",
       "      <td>21.0</td>\n",
       "    </tr>\n",
       "  </tbody>\n",
       "</table>\n",
       "</div>"
      ],
      "text/plain": [
       "        hour  hour_OCR\n",
       "277747   0.0       0.0\n",
       "274913   2.0       2.0\n",
       "336361  10.0      10.0\n",
       "330573  19.0      19.0\n",
       "392014   4.0       4.0\n",
       "300532  20.0      20.0\n",
       "210008  15.0      15.0\n",
       "285311  17.0      17.0\n",
       "349367  13.0      13.0\n",
       "359776  21.0      21.0"
      ]
     },
     "execution_count": 22,
     "metadata": {},
     "output_type": "execute_result"
    }
   ],
   "source": [
    "df_num2['hour_OCR'] = df_num2['hour_OCR'].apply(lambda x: np.nan if x>24 else x)\n",
    "df_num2['hour'] = df_num2['hour_OCR']\n",
    "df_num2[['hour', 'hour_OCR']].sample(10)"
   ]
  },
  {
   "cell_type": "markdown",
   "id": "f068ac36",
   "metadata": {},
   "source": [
    "minute:"
   ]
  },
  {
   "cell_type": "code",
   "execution_count": 23,
   "id": "467fa7aa",
   "metadata": {},
   "outputs": [
    {
     "data": {
      "text/plain": [
       "<Axes: xlabel='minute_OCR', ylabel='Count'>"
      ]
     },
     "execution_count": 23,
     "metadata": {},
     "output_type": "execute_result"
    },
    {
     "data": {
      "image/png": "[encoded data removed]",
      "text/plain": [
       "<Figure size 640x480 with 1 Axes>"
      ]
     },
     "metadata": {},
     "output_type": "display_data"
    }
   ],
   "source": [
    "df_num2['minute_OCR'] = df_num2['minute_OCR'].astype('float')\n",
    "sns.histplot(data=df_num2, x='minute_OCR')"
   ]
  },
  {
   "cell_type": "code",
   "execution_count": 24,
   "id": "f1d6ecd6",
   "metadata": {},
   "outputs": [
    {
     "data": {
      "text/html": [
       "<div>\n",
       "<style scoped>\n",
       "    .dataframe tbody tr th:only-of-type {\n",
       "        vertical-align: middle;\n",
       "    }\n",
       "\n",
       "    .dataframe tbody tr th {\n",
       "        vertical-align: top;\n",
       "    }\n",
       "\n",
       "    .dataframe thead th {\n",
       "        text-align: right;\n",
       "    }\n",
       "</style>\n",
       "<table border=\"1\" class=\"dataframe\">\n",
       "  <thead>\n",
       "    <tr style=\"text-align: right;\">\n",
       "      <th></th>\n",
       "      <th>minute</th>\n",
       "      <th>minute_OCR</th>\n",
       "    </tr>\n",
       "  </thead>\n",
       "  <tbody>\n",
       "    <tr>\n",
       "      <th>103096</th>\n",
       "      <td>34.0</td>\n",
       "      <td>34.0</td>\n",
       "    </tr>\n",
       "    <tr>\n",
       "      <th>244928</th>\n",
       "      <td>14.0</td>\n",
       "      <td>14.0</td>\n",
       "    </tr>\n",
       "    <tr>\n",
       "      <th>364614</th>\n",
       "      <td>8.0</td>\n",
       "      <td>8.0</td>\n",
       "    </tr>\n",
       "    <tr>\n",
       "      <th>364780</th>\n",
       "      <td>5.0</td>\n",
       "      <td>5.0</td>\n",
       "    </tr>\n",
       "    <tr>\n",
       "      <th>358113</th>\n",
       "      <td>53.0</td>\n",
       "      <td>53.0</td>\n",
       "    </tr>\n",
       "    <tr>\n",
       "      <th>324713</th>\n",
       "      <td>31.0</td>\n",
       "      <td>31.0</td>\n",
       "    </tr>\n",
       "    <tr>\n",
       "      <th>201978</th>\n",
       "      <td>1.0</td>\n",
       "      <td>1.0</td>\n",
       "    </tr>\n",
       "    <tr>\n",
       "      <th>391044</th>\n",
       "      <td>0.0</td>\n",
       "      <td>0.0</td>\n",
       "    </tr>\n",
       "    <tr>\n",
       "      <th>334992</th>\n",
       "      <td>6.0</td>\n",
       "      <td>6.0</td>\n",
       "    </tr>\n",
       "    <tr>\n",
       "      <th>323913</th>\n",
       "      <td>13.0</td>\n",
       "      <td>13.0</td>\n",
       "    </tr>\n",
       "  </tbody>\n",
       "</table>\n",
       "</div>"
      ],
      "text/plain": [
       "        minute  minute_OCR\n",
       "103096    34.0        34.0\n",
       "244928    14.0        14.0\n",
       "364614     8.0         8.0\n",
       "364780     5.0         5.0\n",
       "358113    53.0        53.0\n",
       "324713    31.0        31.0\n",
       "201978     1.0         1.0\n",
       "391044     0.0         0.0\n",
       "334992     6.0         6.0\n",
       "323913    13.0        13.0"
      ]
     },
     "execution_count": 24,
     "metadata": {},
     "output_type": "execute_result"
    }
   ],
   "source": [
    "df_num2['minute_OCR'] = df_num2['minute_OCR'].apply(lambda x: np.nan if x>60 else x)\n",
    "df_num2['minute'] = df_num2['minute_OCR']\n",
    "df_num2[['minute', 'minute_OCR']].sample(10)"
   ]
  },
  {
   "cell_type": "markdown",
   "id": "3f657cb1",
   "metadata": {},
   "source": [
    "second:"
   ]
  },
  {
   "cell_type": "code",
   "execution_count": 25,
   "id": "48157351",
   "metadata": {},
   "outputs": [
    {
     "data": {
      "text/plain": [
       "<Axes: xlabel='second_OCR', ylabel='Count'>"
      ]
     },
     "execution_count": 25,
     "metadata": {},
     "output_type": "execute_result"
    },
    {
     "data": {
      "image/png": "[encoded data removed]",
      "text/plain": [
       "<Figure size 640x480 with 1 Axes>"
      ]
     },
     "metadata": {},
     "output_type": "display_data"
    }
   ],
   "source": [
    "df_num2['second_OCR'] = df_num2['second_OCR'].astype('float')\n",
    "sns.histplot(data=df_num2, x='second_OCR')"
   ]
  },
  {
   "cell_type": "code",
   "execution_count": 26,
   "id": "2241aa37",
   "metadata": {},
   "outputs": [
    {
     "data": {
      "text/html": [
       "<div>\n",
       "<style scoped>\n",
       "    .dataframe tbody tr th:only-of-type {\n",
       "        vertical-align: middle;\n",
       "    }\n",
       "\n",
       "    .dataframe tbody tr th {\n",
       "        vertical-align: top;\n",
       "    }\n",
       "\n",
       "    .dataframe thead th {\n",
       "        text-align: right;\n",
       "    }\n",
       "</style>\n",
       "<table border=\"1\" class=\"dataframe\">\n",
       "  <thead>\n",
       "    <tr style=\"text-align: right;\">\n",
       "      <th></th>\n",
       "      <th>second</th>\n",
       "      <th>second_OCR</th>\n",
       "    </tr>\n",
       "  </thead>\n",
       "  <tbody>\n",
       "    <tr>\n",
       "      <th>334326</th>\n",
       "      <td>45.0</td>\n",
       "      <td>45.0</td>\n",
       "    </tr>\n",
       "    <tr>\n",
       "      <th>115847</th>\n",
       "      <td>16.0</td>\n",
       "      <td>16.0</td>\n",
       "    </tr>\n",
       "    <tr>\n",
       "      <th>137063</th>\n",
       "      <td>0.0</td>\n",
       "      <td>0.0</td>\n",
       "    </tr>\n",
       "    <tr>\n",
       "      <th>93814</th>\n",
       "      <td>10.0</td>\n",
       "      <td>10.0</td>\n",
       "    </tr>\n",
       "    <tr>\n",
       "      <th>97805</th>\n",
       "      <td>45.0</td>\n",
       "      <td>45.0</td>\n",
       "    </tr>\n",
       "    <tr>\n",
       "      <th>269659</th>\n",
       "      <td>8.0</td>\n",
       "      <td>8.0</td>\n",
       "    </tr>\n",
       "    <tr>\n",
       "      <th>236773</th>\n",
       "      <td>52.0</td>\n",
       "      <td>52.0</td>\n",
       "    </tr>\n",
       "    <tr>\n",
       "      <th>113878</th>\n",
       "      <td>1.0</td>\n",
       "      <td>1.0</td>\n",
       "    </tr>\n",
       "    <tr>\n",
       "      <th>93081</th>\n",
       "      <td>2.0</td>\n",
       "      <td>2.0</td>\n",
       "    </tr>\n",
       "    <tr>\n",
       "      <th>98378</th>\n",
       "      <td>27.0</td>\n",
       "      <td>27.0</td>\n",
       "    </tr>\n",
       "  </tbody>\n",
       "</table>\n",
       "</div>"
      ],
      "text/plain": [
       "        second  second_OCR\n",
       "334326    45.0        45.0\n",
       "115847    16.0        16.0\n",
       "137063     0.0         0.0\n",
       "93814     10.0        10.0\n",
       "97805     45.0        45.0\n",
       "269659     8.0         8.0\n",
       "236773    52.0        52.0\n",
       "113878     1.0         1.0\n",
       "93081      2.0         2.0\n",
       "98378     27.0        27.0"
      ]
     },
     "execution_count": 26,
     "metadata": {},
     "output_type": "execute_result"
    }
   ],
   "source": [
    "df_num2['second_OCR'] = df_num2['second_OCR'].apply(lambda x: np.nan if x>60 else x)\n",
    "df_num2['second'] = df_num2['second_OCR']\n",
    "df_num2[['second', 'second_OCR']].sample(10)"
   ]
  },
  {
   "cell_type": "markdown",
   "id": "89c68eb0",
   "metadata": {},
   "source": [
    "construct timestamp:"
   ]
  },
  {
   "cell_type": "code",
   "execution_count": 27,
   "id": "a50d1919",
   "metadata": {},
   "outputs": [
    {
     "name": "stdout",
     "output_type": "stream",
     "text": [
      "105414\n"
     ]
    }
   ],
   "source": [
    "df_num2 = construct_timestamp(df_in=df_num2)\n",
    "print(len(df_num2))"
   ]
  },
  {
   "cell_type": "code",
   "execution_count": 28,
   "id": "83025c56",
   "metadata": {},
   "outputs": [
    {
     "data": {
      "text/html": [
       "<div>\n",
       "<style scoped>\n",
       "    .dataframe tbody tr th:only-of-type {\n",
       "        vertical-align: middle;\n",
       "    }\n",
       "\n",
       "    .dataframe tbody tr th {\n",
       "        vertical-align: top;\n",
       "    }\n",
       "\n",
       "    .dataframe thead th {\n",
       "        text-align: right;\n",
       "    }\n",
       "</style>\n",
       "<table border=\"1\" class=\"dataframe\">\n",
       "  <thead>\n",
       "    <tr style=\"text-align: right;\">\n",
       "      <th></th>\n",
       "      <th>year</th>\n",
       "      <th>month</th>\n",
       "      <th>day</th>\n",
       "      <th>hour</th>\n",
       "      <th>minute</th>\n",
       "      <th>second</th>\n",
       "      <th>Timestamp</th>\n",
       "      <th>time_quality</th>\n",
       "    </tr>\n",
       "  </thead>\n",
       "  <tbody>\n",
       "    <tr>\n",
       "      <th>331400</th>\n",
       "      <td>1967.0</td>\n",
       "      <td>05</td>\n",
       "      <td>25</td>\n",
       "      <td>17.0</td>\n",
       "      <td>34.0</td>\n",
       "      <td>19.0</td>\n",
       "      <td>1967-05-25 17:34:19</td>\n",
       "      <td>1</td>\n",
       "    </tr>\n",
       "    <tr>\n",
       "      <th>229628</th>\n",
       "      <td>1968.0</td>\n",
       "      <td>03</td>\n",
       "      <td>01</td>\n",
       "      <td>3.0</td>\n",
       "      <td>25.0</td>\n",
       "      <td>15.0</td>\n",
       "      <td>1968-03-01 03:25:15</td>\n",
       "      <td>1</td>\n",
       "    </tr>\n",
       "    <tr>\n",
       "      <th>291842</th>\n",
       "      <td>1967.0</td>\n",
       "      <td>09</td>\n",
       "      <td>08</td>\n",
       "      <td>18.0</td>\n",
       "      <td>3.0</td>\n",
       "      <td>1.0</td>\n",
       "      <td>1967-09-08 18:03:01</td>\n",
       "      <td>1</td>\n",
       "    </tr>\n",
       "    <tr>\n",
       "      <th>382624</th>\n",
       "      <td>1968.0</td>\n",
       "      <td>07</td>\n",
       "      <td>19</td>\n",
       "      <td>12.0</td>\n",
       "      <td>35.0</td>\n",
       "      <td>57.0</td>\n",
       "      <td>1968-07-19 12:35:57</td>\n",
       "      <td>1</td>\n",
       "    </tr>\n",
       "    <tr>\n",
       "      <th>234090</th>\n",
       "      <td>1967.0</td>\n",
       "      <td>10</td>\n",
       "      <td>30</td>\n",
       "      <td>15.0</td>\n",
       "      <td>12.0</td>\n",
       "      <td>31.0</td>\n",
       "      <td>1967-10-30 15:12:31</td>\n",
       "      <td>1</td>\n",
       "    </tr>\n",
       "    <tr>\n",
       "      <th>227045</th>\n",
       "      <td>1967.0</td>\n",
       "      <td>11</td>\n",
       "      <td>20</td>\n",
       "      <td>6.0</td>\n",
       "      <td>13.0</td>\n",
       "      <td>44.0</td>\n",
       "      <td>1967-11-20 06:13:44</td>\n",
       "      <td>1</td>\n",
       "    </tr>\n",
       "    <tr>\n",
       "      <th>326101</th>\n",
       "      <td>1966.0</td>\n",
       "      <td>12</td>\n",
       "      <td>27</td>\n",
       "      <td>9.0</td>\n",
       "      <td>28.0</td>\n",
       "      <td>18.0</td>\n",
       "      <td>1966-12-27 09:28:18</td>\n",
       "      <td>1</td>\n",
       "    </tr>\n",
       "    <tr>\n",
       "      <th>397566</th>\n",
       "      <td>1967.0</td>\n",
       "      <td>09</td>\n",
       "      <td>05</td>\n",
       "      <td>2.0</td>\n",
       "      <td>29.0</td>\n",
       "      <td>48.0</td>\n",
       "      <td>1967-09-05 02:29:48</td>\n",
       "      <td>1</td>\n",
       "    </tr>\n",
       "    <tr>\n",
       "      <th>110957</th>\n",
       "      <td>1967.0</td>\n",
       "      <td>10</td>\n",
       "      <td>25</td>\n",
       "      <td>22.0</td>\n",
       "      <td>57.0</td>\n",
       "      <td>16.0</td>\n",
       "      <td>1967-10-25 22:57:16</td>\n",
       "      <td>1</td>\n",
       "    </tr>\n",
       "    <tr>\n",
       "      <th>377292</th>\n",
       "      <td>1968.0</td>\n",
       "      <td>04</td>\n",
       "      <td>28</td>\n",
       "      <td>2.0</td>\n",
       "      <td>13.0</td>\n",
       "      <td>43.0</td>\n",
       "      <td>1968-04-28 02:13:43</td>\n",
       "      <td>1</td>\n",
       "    </tr>\n",
       "  </tbody>\n",
       "</table>\n",
       "</div>"
      ],
      "text/plain": [
       "          year month day  hour  minute  second           Timestamp  \\\n",
       "331400  1967.0    05  25  17.0    34.0    19.0 1967-05-25 17:34:19   \n",
       "229628  1968.0    03  01   3.0    25.0    15.0 1968-03-01 03:25:15   \n",
       "291842  1967.0    09  08  18.0     3.0     1.0 1967-09-08 18:03:01   \n",
       "382624  1968.0    07  19  12.0    35.0    57.0 1968-07-19 12:35:57   \n",
       "234090  1967.0    10  30  15.0    12.0    31.0 1967-10-30 15:12:31   \n",
       "227045  1967.0    11  20   6.0    13.0    44.0 1967-11-20 06:13:44   \n",
       "326101  1966.0    12  27   9.0    28.0    18.0 1966-12-27 09:28:18   \n",
       "397566  1967.0    09  05   2.0    29.0    48.0 1967-09-05 02:29:48   \n",
       "110957  1967.0    10  25  22.0    57.0    16.0 1967-10-25 22:57:16   \n",
       "377292  1968.0    04  28   2.0    13.0    43.0 1968-04-28 02:13:43   \n",
       "\n",
       "        time_quality  \n",
       "331400             1  \n",
       "229628             1  \n",
       "291842             1  \n",
       "382624             1  \n",
       "234090             1  \n",
       "227045             1  \n",
       "326101             1  \n",
       "397566             1  \n",
       "110957             1  \n",
       "377292             1  "
      ]
     },
     "execution_count": 28,
     "metadata": {},
     "output_type": "execute_result"
    }
   ],
   "source": [
    "df_num2[['year', 'month', 'day', 'hour', 'minute', 'second', 'Timestamp', 'time_quality']].sample(10)"
   ]
  },
  {
   "cell_type": "markdown",
   "id": "850f103b",
   "metadata": {},
   "source": [
    "#  "
   ]
  },
  {
   "cell_type": "markdown",
   "id": "bcd35a97",
   "metadata": {},
   "source": [
    "#### num - check timestamp components, construct timestamp:"
   ]
  },
  {
   "cell_type": "code",
   "execution_count": 29,
   "id": "e21e57a1",
   "metadata": {},
   "outputs": [
    {
     "data": {
      "text/html": [
       "<div>\n",
       "<style scoped>\n",
       "    .dataframe tbody tr th:only-of-type {\n",
       "        vertical-align: middle;\n",
       "    }\n",
       "\n",
       "    .dataframe tbody tr th {\n",
       "        vertical-align: top;\n",
       "    }\n",
       "\n",
       "    .dataframe thead th {\n",
       "        text-align: right;\n",
       "    }\n",
       "</style>\n",
       "<table border=\"1\" class=\"dataframe\">\n",
       "  <thead>\n",
       "    <tr style=\"text-align: right;\">\n",
       "      <th></th>\n",
       "      <th>year_1</th>\n",
       "      <th>day_1</th>\n",
       "      <th>day_2</th>\n",
       "      <th>day_3</th>\n",
       "      <th>hour_1</th>\n",
       "      <th>hour_2</th>\n",
       "      <th>minute_1</th>\n",
       "      <th>minute_2</th>\n",
       "      <th>second_1</th>\n",
       "      <th>second_2</th>\n",
       "    </tr>\n",
       "  </thead>\n",
       "  <tbody>\n",
       "    <tr>\n",
       "      <th>448821</th>\n",
       "      <td>4.0</td>\n",
       "      <td>2.0</td>\n",
       "      <td>6.0</td>\n",
       "      <td>0.0</td>\n",
       "      <td>2.0</td>\n",
       "      <td>1.0</td>\n",
       "      <td>4.0</td>\n",
       "      <td>6.0</td>\n",
       "      <td>2.0</td>\n",
       "      <td>9.0</td>\n",
       "    </tr>\n",
       "    <tr>\n",
       "      <th>482258</th>\n",
       "      <td>5.0</td>\n",
       "      <td>1.0</td>\n",
       "      <td>5.0</td>\n",
       "      <td>7.0</td>\n",
       "      <td>0.0</td>\n",
       "      <td>9.0</td>\n",
       "      <td>3.0</td>\n",
       "      <td>3.0</td>\n",
       "      <td>4.0</td>\n",
       "      <td>1.0</td>\n",
       "    </tr>\n",
       "    <tr>\n",
       "      <th>562888</th>\n",
       "      <td>4.0</td>\n",
       "      <td>0.0</td>\n",
       "      <td>8.0</td>\n",
       "      <td>3.0</td>\n",
       "      <td>1.0</td>\n",
       "      <td>6.0</td>\n",
       "      <td>5.0</td>\n",
       "      <td>9.0</td>\n",
       "      <td>0.0</td>\n",
       "      <td>8.0</td>\n",
       "    </tr>\n",
       "    <tr>\n",
       "      <th>453241</th>\n",
       "      <td>6.0</td>\n",
       "      <td>2.0</td>\n",
       "      <td>8.0</td>\n",
       "      <td>3.0</td>\n",
       "      <td>2.0</td>\n",
       "      <td>1.0</td>\n",
       "      <td>5.0</td>\n",
       "      <td>9.0</td>\n",
       "      <td>0.0</td>\n",
       "      <td>1.0</td>\n",
       "    </tr>\n",
       "    <tr>\n",
       "      <th>577275</th>\n",
       "      <td>3.0</td>\n",
       "      <td>3.0</td>\n",
       "      <td>1.0</td>\n",
       "      <td>7.0</td>\n",
       "      <td>1.0</td>\n",
       "      <td>8.0</td>\n",
       "      <td>1.0</td>\n",
       "      <td>8.0</td>\n",
       "      <td>0.0</td>\n",
       "      <td>8.0</td>\n",
       "    </tr>\n",
       "    <tr>\n",
       "      <th>242561</th>\n",
       "      <td>1.0</td>\n",
       "      <td>1.0</td>\n",
       "      <td>2.0</td>\n",
       "      <td>1.0</td>\n",
       "      <td>1.0</td>\n",
       "      <td>1.0</td>\n",
       "      <td>1.0</td>\n",
       "      <td>1.0</td>\n",
       "      <td>1.0</td>\n",
       "      <td>3.0</td>\n",
       "    </tr>\n",
       "    <tr>\n",
       "      <th>483822</th>\n",
       "      <td>5.0</td>\n",
       "      <td>0.0</td>\n",
       "      <td>4.0</td>\n",
       "      <td>9.0</td>\n",
       "      <td>0.0</td>\n",
       "      <td>5.0</td>\n",
       "      <td>3.0</td>\n",
       "      <td>7.0</td>\n",
       "      <td>1.0</td>\n",
       "      <td>1.0</td>\n",
       "    </tr>\n",
       "    <tr>\n",
       "      <th>79891</th>\n",
       "      <td>5.0</td>\n",
       "      <td>2.0</td>\n",
       "      <td>6.0</td>\n",
       "      <td>4.0</td>\n",
       "      <td>6.0</td>\n",
       "      <td>3.0</td>\n",
       "      <td>0.0</td>\n",
       "      <td>0.0</td>\n",
       "      <td>7.0</td>\n",
       "      <td>3.0</td>\n",
       "    </tr>\n",
       "    <tr>\n",
       "      <th>529102</th>\n",
       "      <td>5.0</td>\n",
       "      <td>4.0</td>\n",
       "      <td>0.0</td>\n",
       "      <td>9.0</td>\n",
       "      <td>0.0</td>\n",
       "      <td>9.0</td>\n",
       "      <td>5.0</td>\n",
       "      <td>2.0</td>\n",
       "      <td>1.0</td>\n",
       "      <td>4.0</td>\n",
       "    </tr>\n",
       "    <tr>\n",
       "      <th>196245</th>\n",
       "      <td>1.0</td>\n",
       "      <td>4.0</td>\n",
       "      <td>1.0</td>\n",
       "      <td>4.0</td>\n",
       "      <td>1.0</td>\n",
       "      <td>4.0</td>\n",
       "      <td>4.0</td>\n",
       "      <td>3.0</td>\n",
       "      <td>4.0</td>\n",
       "      <td>4.0</td>\n",
       "    </tr>\n",
       "  </tbody>\n",
       "</table>\n",
       "</div>"
      ],
      "text/plain": [
       "        year_1  day_1  day_2  day_3  hour_1  hour_2  minute_1  minute_2  \\\n",
       "448821     4.0    2.0    6.0    0.0     2.0     1.0       4.0       6.0   \n",
       "482258     5.0    1.0    5.0    7.0     0.0     9.0       3.0       3.0   \n",
       "562888     4.0    0.0    8.0    3.0     1.0     6.0       5.0       9.0   \n",
       "453241     6.0    2.0    8.0    3.0     2.0     1.0       5.0       9.0   \n",
       "577275     3.0    3.0    1.0    7.0     1.0     8.0       1.0       8.0   \n",
       "242561     1.0    1.0    2.0    1.0     1.0     1.0       1.0       1.0   \n",
       "483822     5.0    0.0    4.0    9.0     0.0     5.0       3.0       7.0   \n",
       "79891      5.0    2.0    6.0    4.0     6.0     3.0       0.0       0.0   \n",
       "529102     5.0    4.0    0.0    9.0     0.0     9.0       5.0       2.0   \n",
       "196245     1.0    4.0    1.0    4.0     1.0     4.0       4.0       3.0   \n",
       "\n",
       "        second_1  second_2  \n",
       "448821       2.0       9.0  \n",
       "482258       4.0       1.0  \n",
       "562888       0.0       8.0  \n",
       "453241       0.0       1.0  \n",
       "577275       0.0       8.0  \n",
       "242561       1.0       3.0  \n",
       "483822       1.0       1.0  \n",
       "79891        7.0       3.0  \n",
       "529102       1.0       4.0  \n",
       "196245       4.0       4.0  "
      ]
     },
     "execution_count": 29,
     "metadata": {},
     "output_type": "execute_result"
    }
   ],
   "source": [
    "df_num[['year_1', 'day_1', 'day_2', 'day_3', 'hour_1', 'hour_2', 'minute_1', 'minute_2', 'second_1', 'second_2']].sample(10)"
   ]
  },
  {
   "cell_type": "markdown",
   "id": "ceaf3e06",
   "metadata": {},
   "source": [
    "year - adjust to baseline 1962:"
   ]
  },
  {
   "cell_type": "code",
   "execution_count": 30,
   "id": "0bb9d404",
   "metadata": {},
   "outputs": [
    {
     "data": {
      "text/plain": [
       "<Axes: xlabel='year', ylabel='Count'>"
      ]
     },
     "execution_count": 30,
     "metadata": {},
     "output_type": "execute_result"
    },
    {
     "data": {
      "image/png": "[encoded data removed]",
      "text/plain": [
       "<Figure size 640x480 with 1 Axes>"
      ]
     },
     "metadata": {},
     "output_type": "display_data"
    }
   ],
   "source": [
    "df_num = df_num.copy(deep=True)\n",
    "df_num['year'] = df_num['year_1'] + 1962\n",
    "df_num['year'] = df_num['year'].astype('float')\n",
    "sns.histplot(data=df_num, x='year')"
   ]
  },
  {
   "cell_type": "code",
   "execution_count": 31,
   "id": "280442c8",
   "metadata": {},
   "outputs": [
    {
     "data": {
      "text/html": [
       "<div>\n",
       "<style scoped>\n",
       "    .dataframe tbody tr th:only-of-type {\n",
       "        vertical-align: middle;\n",
       "    }\n",
       "\n",
       "    .dataframe tbody tr th {\n",
       "        vertical-align: top;\n",
       "    }\n",
       "\n",
       "    .dataframe thead th {\n",
       "        text-align: right;\n",
       "    }\n",
       "</style>\n",
       "<table border=\"1\" class=\"dataframe\">\n",
       "  <thead>\n",
       "    <tr style=\"text-align: right;\">\n",
       "      <th></th>\n",
       "      <th>year</th>\n",
       "      <th>year_1</th>\n",
       "    </tr>\n",
       "  </thead>\n",
       "  <tbody>\n",
       "    <tr>\n",
       "      <th>465590</th>\n",
       "      <td>1967.0</td>\n",
       "      <td>5.0</td>\n",
       "    </tr>\n",
       "    <tr>\n",
       "      <th>575411</th>\n",
       "      <td>1965.0</td>\n",
       "      <td>3.0</td>\n",
       "    </tr>\n",
       "    <tr>\n",
       "      <th>480777</th>\n",
       "      <td>1967.0</td>\n",
       "      <td>5.0</td>\n",
       "    </tr>\n",
       "    <tr>\n",
       "      <th>505460</th>\n",
       "      <td>1967.0</td>\n",
       "      <td>5.0</td>\n",
       "    </tr>\n",
       "    <tr>\n",
       "      <th>478992</th>\n",
       "      <td>1962.0</td>\n",
       "      <td>0.0</td>\n",
       "    </tr>\n",
       "    <tr>\n",
       "      <th>501519</th>\n",
       "      <td>1967.0</td>\n",
       "      <td>5.0</td>\n",
       "    </tr>\n",
       "    <tr>\n",
       "      <th>507636</th>\n",
       "      <td>1967.0</td>\n",
       "      <td>5.0</td>\n",
       "    </tr>\n",
       "    <tr>\n",
       "      <th>444657</th>\n",
       "      <td>1966.0</td>\n",
       "      <td>4.0</td>\n",
       "    </tr>\n",
       "    <tr>\n",
       "      <th>468926</th>\n",
       "      <td>1966.0</td>\n",
       "      <td>4.0</td>\n",
       "    </tr>\n",
       "    <tr>\n",
       "      <th>498953</th>\n",
       "      <td>1966.0</td>\n",
       "      <td>4.0</td>\n",
       "    </tr>\n",
       "  </tbody>\n",
       "</table>\n",
       "</div>"
      ],
      "text/plain": [
       "          year  year_1\n",
       "465590  1967.0     5.0\n",
       "575411  1965.0     3.0\n",
       "480777  1967.0     5.0\n",
       "505460  1967.0     5.0\n",
       "478992  1962.0     0.0\n",
       "501519  1967.0     5.0\n",
       "507636  1967.0     5.0\n",
       "444657  1966.0     4.0\n",
       "468926  1966.0     4.0\n",
       "498953  1966.0     4.0"
      ]
     },
     "execution_count": 31,
     "metadata": {},
     "output_type": "execute_result"
    }
   ],
   "source": [
    "df_num['year'] = df_num['year'].apply(lambda x: np.nan if x<1962 else x)\n",
    "df_num['year'] = df_num['year'].apply(lambda x: np.nan if x>1980 else x)\n",
    "df_num[['year', 'year_1']].sample(10)"
   ]
  },
  {
   "cell_type": "markdown",
   "id": "c155f791",
   "metadata": {},
   "source": [
    "day:"
   ]
  },
  {
   "cell_type": "code",
   "execution_count": 32,
   "id": "8c026e1d",
   "metadata": {},
   "outputs": [
    {
     "data": {
      "text/plain": [
       "<Axes: xlabel='day_1', ylabel='Count'>"
      ]
     },
     "execution_count": 32,
     "metadata": {},
     "output_type": "execute_result"
    },
    {
     "data": {
      "image/png": "[encoded data removed]",
      "text/plain": [
       "<Figure size 640x480 with 1 Axes>"
      ]
     },
     "metadata": {},
     "output_type": "display_data"
    }
   ],
   "source": [
    "df_num['day_1'] = df_num['day_1'].astype(int)\n",
    "sns.histplot(data=df_num, x='day_1')"
   ]
  },
  {
   "cell_type": "code",
   "execution_count": 33,
   "id": "5cbc533f",
   "metadata": {},
   "outputs": [],
   "source": [
    "df_num['day_1'] = df_num['day_1'].apply(lambda x: np.nan if x>9 else x)"
   ]
  },
  {
   "cell_type": "code",
   "execution_count": 34,
   "id": "5c0b781d",
   "metadata": {},
   "outputs": [
    {
     "data": {
      "text/plain": [
       "<Axes: xlabel='day_2', ylabel='Count'>"
      ]
     },
     "execution_count": 34,
     "metadata": {},
     "output_type": "execute_result"
    },
    {
     "data": {
      "image/png": "[encoded data removed]",
      "text/plain": [
       "<Figure size 640x480 with 1 Axes>"
      ]
     },
     "metadata": {},
     "output_type": "display_data"
    }
   ],
   "source": [
    "df_num['day_2'] = df_num['day_2'].astype(int)\n",
    "sns.histplot(data=df_num, x='day_2')"
   ]
  },
  {
   "cell_type": "code",
   "execution_count": 35,
   "id": "c3559660",
   "metadata": {},
   "outputs": [],
   "source": [
    "df_num['day_2'] = df_num['day_2'].apply(lambda x: np.nan if x>9 else x)"
   ]
  },
  {
   "cell_type": "code",
   "execution_count": 36,
   "id": "62dadeaa",
   "metadata": {},
   "outputs": [
    {
     "data": {
      "text/plain": [
       "<Axes: xlabel='day_3', ylabel='Count'>"
      ]
     },
     "execution_count": 36,
     "metadata": {},
     "output_type": "execute_result"
    },
    {
     "data": {
      "image/png": "[encoded data removed]",
      "text/plain": [
       "<Figure size 640x480 with 1 Axes>"
      ]
     },
     "metadata": {},
     "output_type": "display_data"
    }
   ],
   "source": [
    "df_num['day_3'] = df_num['day_3'].astype(int)\n",
    "sns.histplot(data=df_num, x='day_3')"
   ]
  },
  {
   "cell_type": "code",
   "execution_count": 37,
   "id": "c8231cbe",
   "metadata": {},
   "outputs": [],
   "source": [
    "df_num['day_3'] = df_num['day_3'].apply(lambda x: np.nan if x>9 else x)"
   ]
  },
  {
   "cell_type": "code",
   "execution_count": 38,
   "id": "282af71f",
   "metadata": {},
   "outputs": [
    {
     "name": "stdout",
     "output_type": "stream",
     "text": [
      "161109\n"
     ]
    },
    {
     "data": {
      "text/html": [
       "<div>\n",
       "<style scoped>\n",
       "    .dataframe tbody tr th:only-of-type {\n",
       "        vertical-align: middle;\n",
       "    }\n",
       "\n",
       "    .dataframe tbody tr th {\n",
       "        vertical-align: top;\n",
       "    }\n",
       "\n",
       "    .dataframe thead th {\n",
       "        text-align: right;\n",
       "    }\n",
       "</style>\n",
       "<table border=\"1\" class=\"dataframe\">\n",
       "  <thead>\n",
       "    <tr style=\"text-align: right;\">\n",
       "      <th></th>\n",
       "      <th>day_of_year</th>\n",
       "      <th>day_1</th>\n",
       "      <th>day_2</th>\n",
       "      <th>day_3</th>\n",
       "    </tr>\n",
       "  </thead>\n",
       "  <tbody>\n",
       "    <tr>\n",
       "      <th>196609</th>\n",
       "      <td>234.0</td>\n",
       "      <td>2.0</td>\n",
       "      <td>3.0</td>\n",
       "      <td>4.0</td>\n",
       "    </tr>\n",
       "    <tr>\n",
       "      <th>486241</th>\n",
       "      <td>61.0</td>\n",
       "      <td>0.0</td>\n",
       "      <td>6.0</td>\n",
       "      <td>1.0</td>\n",
       "    </tr>\n",
       "    <tr>\n",
       "      <th>481342</th>\n",
       "      <td>109.0</td>\n",
       "      <td>1.0</td>\n",
       "      <td>0.0</td>\n",
       "      <td>9.0</td>\n",
       "    </tr>\n",
       "    <tr>\n",
       "      <th>526481</th>\n",
       "      <td>199.0</td>\n",
       "      <td>1.0</td>\n",
       "      <td>9.0</td>\n",
       "      <td>9.0</td>\n",
       "    </tr>\n",
       "    <tr>\n",
       "      <th>166348</th>\n",
       "      <td>222.0</td>\n",
       "      <td>2.0</td>\n",
       "      <td>2.0</td>\n",
       "      <td>2.0</td>\n",
       "    </tr>\n",
       "    <tr>\n",
       "      <th>444647</th>\n",
       "      <td>182.0</td>\n",
       "      <td>1.0</td>\n",
       "      <td>8.0</td>\n",
       "      <td>2.0</td>\n",
       "    </tr>\n",
       "    <tr>\n",
       "      <th>455789</th>\n",
       "      <td>226.0</td>\n",
       "      <td>2.0</td>\n",
       "      <td>2.0</td>\n",
       "      <td>6.0</td>\n",
       "    </tr>\n",
       "    <tr>\n",
       "      <th>522103</th>\n",
       "      <td>250.0</td>\n",
       "      <td>2.0</td>\n",
       "      <td>5.0</td>\n",
       "      <td>0.0</td>\n",
       "    </tr>\n",
       "    <tr>\n",
       "      <th>466470</th>\n",
       "      <td>5.0</td>\n",
       "      <td>0.0</td>\n",
       "      <td>0.0</td>\n",
       "      <td>5.0</td>\n",
       "    </tr>\n",
       "    <tr>\n",
       "      <th>502942</th>\n",
       "      <td>107.0</td>\n",
       "      <td>1.0</td>\n",
       "      <td>0.0</td>\n",
       "      <td>7.0</td>\n",
       "    </tr>\n",
       "  </tbody>\n",
       "</table>\n",
       "</div>"
      ],
      "text/plain": [
       "        day_of_year  day_1  day_2  day_3\n",
       "196609        234.0    2.0    3.0    4.0\n",
       "486241         61.0    0.0    6.0    1.0\n",
       "481342        109.0    1.0    0.0    9.0\n",
       "526481        199.0    1.0    9.0    9.0\n",
       "166348        222.0    2.0    2.0    2.0\n",
       "444647        182.0    1.0    8.0    2.0\n",
       "455789        226.0    2.0    2.0    6.0\n",
       "522103        250.0    2.0    5.0    0.0\n",
       "466470          5.0    0.0    0.0    5.0\n",
       "502942        107.0    1.0    0.0    7.0"
      ]
     },
     "execution_count": 38,
     "metadata": {},
     "output_type": "execute_result"
    }
   ],
   "source": [
    "df_num_daycheck = df_num[~pd.isna(df_num['day_1'])]\n",
    "df_num_daycheck = df_num_daycheck[~pd.isna(df_num_daycheck['day_2'])]\n",
    "df_num_daycheck = df_num_daycheck[~pd.isna(df_num_daycheck['day_3'])]\n",
    "df_num_daycheck['day_of_year'] = df_num_daycheck['day_1'].astype(int).astype(str) + df_num_daycheck['day_2'].astype(int).astype(str) + df_num_daycheck['day_3'].astype(int).astype(str)\n",
    "df_num_daycheck['day_of_year'] = df_num_daycheck['day_of_year'].astype(int)\n",
    "df_num_daycheck['day_of_year'] = df_num_daycheck['day_of_year'].apply(lambda x: np.nan if x>366 else x)\n",
    "df_num_daycheck['day_of_year'] = df_num_daycheck['day_of_year'].apply(lambda x: np.nan if x==0 else x)\n",
    "df_num_nullday = df_num.loc[pd.isna(df_num['day_1']) | pd.isna(df_num['day_2']) | pd.isna(df_num['day_3'])]\n",
    "df_num_nullday = df_num_nullday.copy(deep=True)\n",
    "df_num_nullday['day_of_year'] = np.nan\n",
    "df_num = pd.concat([df_num_daycheck, df_num_nullday])\n",
    "print(len(df_num))\n",
    "df_num[['day_of_year', 'day_1', 'day_2', 'day_3']].sample(10)"
   ]
  },
  {
   "cell_type": "markdown",
   "id": "b47049cf",
   "metadata": {},
   "source": [
    "hour:"
   ]
  },
  {
   "cell_type": "code",
   "execution_count": 39,
   "id": "dd82fada",
   "metadata": {},
   "outputs": [
    {
     "data": {
      "text/plain": [
       "<Axes: xlabel='hour_1', ylabel='Count'>"
      ]
     },
     "execution_count": 39,
     "metadata": {},
     "output_type": "execute_result"
    },
    {
     "data": {
      "image/png": "[encoded data removed]",
      "text/plain": [
       "<Figure size 640x480 with 1 Axes>"
      ]
     },
     "metadata": {},
     "output_type": "display_data"
    }
   ],
   "source": [
    "df_num['hour_1'] = df_num['hour_1'].astype(int)\n",
    "sns.histplot(data=df_num, x='hour_1')"
   ]
  },
  {
   "cell_type": "code",
   "execution_count": 40,
   "id": "2a2440a0",
   "metadata": {},
   "outputs": [],
   "source": [
    "df_num['hour_1'] = df_num['hour_1'].apply(lambda x: np.nan if x>9 else x)"
   ]
  },
  {
   "cell_type": "code",
   "execution_count": 41,
   "id": "3df41e67",
   "metadata": {},
   "outputs": [
    {
     "data": {
      "text/plain": [
       "<Axes: xlabel='hour_2', ylabel='Count'>"
      ]
     },
     "execution_count": 41,
     "metadata": {},
     "output_type": "execute_result"
    },
    {
     "data": {
      "image/png": "[encoded data removed]",
      "text/plain": [
       "<Figure size 640x480 with 1 Axes>"
      ]
     },
     "metadata": {},
     "output_type": "display_data"
    }
   ],
   "source": [
    "df_num['hour_2'] = df_num['hour_2'].astype(int)\n",
    "sns.histplot(data=df_num, x='hour_2')"
   ]
  },
  {
   "cell_type": "code",
   "execution_count": 42,
   "id": "c6da1b0c",
   "metadata": {},
   "outputs": [],
   "source": [
    "df_num['hour_2'] = df_num['hour_2'].apply(lambda x: np.nan if x>9 else x)"
   ]
  },
  {
   "cell_type": "code",
   "execution_count": 43,
   "id": "cac39951",
   "metadata": {},
   "outputs": [
    {
     "name": "stdout",
     "output_type": "stream",
     "text": [
      "161109\n"
     ]
    },
    {
     "data": {
      "text/html": [
       "<div>\n",
       "<style scoped>\n",
       "    .dataframe tbody tr th:only-of-type {\n",
       "        vertical-align: middle;\n",
       "    }\n",
       "\n",
       "    .dataframe tbody tr th {\n",
       "        vertical-align: top;\n",
       "    }\n",
       "\n",
       "    .dataframe thead th {\n",
       "        text-align: right;\n",
       "    }\n",
       "</style>\n",
       "<table border=\"1\" class=\"dataframe\">\n",
       "  <thead>\n",
       "    <tr style=\"text-align: right;\">\n",
       "      <th></th>\n",
       "      <th>hour</th>\n",
       "      <th>hour_1</th>\n",
       "      <th>hour_2</th>\n",
       "    </tr>\n",
       "  </thead>\n",
       "  <tbody>\n",
       "    <tr>\n",
       "      <th>508707</th>\n",
       "      <td>20.0</td>\n",
       "      <td>2.0</td>\n",
       "      <td>0.0</td>\n",
       "    </tr>\n",
       "    <tr>\n",
       "      <th>553077</th>\n",
       "      <td>2.0</td>\n",
       "      <td>0.0</td>\n",
       "      <td>2.0</td>\n",
       "    </tr>\n",
       "    <tr>\n",
       "      <th>174906</th>\n",
       "      <td>22.0</td>\n",
       "      <td>2.0</td>\n",
       "      <td>2.0</td>\n",
       "    </tr>\n",
       "    <tr>\n",
       "      <th>147583</th>\n",
       "      <td>23.0</td>\n",
       "      <td>2.0</td>\n",
       "      <td>3.0</td>\n",
       "    </tr>\n",
       "    <tr>\n",
       "      <th>543872</th>\n",
       "      <td>NaN</td>\n",
       "      <td>5.0</td>\n",
       "      <td>1.0</td>\n",
       "    </tr>\n",
       "    <tr>\n",
       "      <th>445089</th>\n",
       "      <td>11.0</td>\n",
       "      <td>1.0</td>\n",
       "      <td>1.0</td>\n",
       "    </tr>\n",
       "    <tr>\n",
       "      <th>493582</th>\n",
       "      <td>21.0</td>\n",
       "      <td>2.0</td>\n",
       "      <td>1.0</td>\n",
       "    </tr>\n",
       "    <tr>\n",
       "      <th>442637</th>\n",
       "      <td>13.0</td>\n",
       "      <td>1.0</td>\n",
       "      <td>3.0</td>\n",
       "    </tr>\n",
       "    <tr>\n",
       "      <th>464406</th>\n",
       "      <td>17.0</td>\n",
       "      <td>1.0</td>\n",
       "      <td>7.0</td>\n",
       "    </tr>\n",
       "    <tr>\n",
       "      <th>576301</th>\n",
       "      <td>22.0</td>\n",
       "      <td>2.0</td>\n",
       "      <td>2.0</td>\n",
       "    </tr>\n",
       "  </tbody>\n",
       "</table>\n",
       "</div>"
      ],
      "text/plain": [
       "        hour  hour_1  hour_2\n",
       "508707  20.0     2.0     0.0\n",
       "553077   2.0     0.0     2.0\n",
       "174906  22.0     2.0     2.0\n",
       "147583  23.0     2.0     3.0\n",
       "543872   NaN     5.0     1.0\n",
       "445089  11.0     1.0     1.0\n",
       "493582  21.0     2.0     1.0\n",
       "442637  13.0     1.0     3.0\n",
       "464406  17.0     1.0     7.0\n",
       "576301  22.0     2.0     2.0"
      ]
     },
     "execution_count": 43,
     "metadata": {},
     "output_type": "execute_result"
    }
   ],
   "source": [
    "df_num_hourcheck = df_num[~pd.isna(df_num['hour_1'])]\n",
    "df_num_hourcheck = df_num_hourcheck[~pd.isna(df_num_hourcheck['hour_2'])]\n",
    "df_num_hourcheck['hour'] = df_num_hourcheck['hour_1'].astype(int).astype(str) + df_num_hourcheck['hour_2'].astype(int).astype(str)\n",
    "df_num_hourcheck['hour'] = df_num_hourcheck['hour'].astype(int)\n",
    "df_num_hourcheck['hour'] = df_num_hourcheck['hour'].apply(lambda x: np.nan if x>23 else x)\n",
    "df_num_nullhour = df_num.loc[pd.isna(df_num['hour_1']) | pd.isna(df_num['hour_2'])]\n",
    "df_num_nullhour = df_num_nullhour.copy(deep=True)\n",
    "df_num_nullhour['hour'] = np.nan\n",
    "df_num = pd.concat([df_num_hourcheck, df_num_nullhour])\n",
    "print(len(df_num))\n",
    "df_num[['hour', 'hour_1', 'hour_2']].sample(10)"
   ]
  },
  {
   "cell_type": "markdown",
   "id": "6d4337b7",
   "metadata": {},
   "source": [
    "minute:"
   ]
  },
  {
   "cell_type": "code",
   "execution_count": 44,
   "id": "329f79c6",
   "metadata": {},
   "outputs": [
    {
     "data": {
      "text/plain": [
       "<Axes: xlabel='minute_1', ylabel='Count'>"
      ]
     },
     "execution_count": 44,
     "metadata": {},
     "output_type": "execute_result"
    },
    {
     "data": {
      "image/png": "[encoded data removed]",
      "text/plain": [
       "<Figure size 640x480 with 1 Axes>"
      ]
     },
     "metadata": {},
     "output_type": "display_data"
    }
   ],
   "source": [
    "df_num['minute_1'] = df_num['minute_1'].astype(int)\n",
    "sns.histplot(data=df_num, x='minute_1')"
   ]
  },
  {
   "cell_type": "code",
   "execution_count": 45,
   "id": "d90ad807",
   "metadata": {},
   "outputs": [],
   "source": [
    "df_num['minute_1'] = df_num['minute_1'].apply(lambda x: np.nan if x>9 else x)"
   ]
  },
  {
   "cell_type": "code",
   "execution_count": 46,
   "id": "982acfd8",
   "metadata": {},
   "outputs": [
    {
     "data": {
      "text/plain": [
       "<Axes: xlabel='minute_2', ylabel='Count'>"
      ]
     },
     "execution_count": 46,
     "metadata": {},
     "output_type": "execute_result"
    },
    {
     "data": {
      "image/png": "[encoded data removed]",
      "text/plain": [
       "<Figure size 640x480 with 1 Axes>"
      ]
     },
     "metadata": {},
     "output_type": "display_data"
    }
   ],
   "source": [
    "df_num['minute_2'] = df_num['minute_2'].astype(int)\n",
    "sns.histplot(data=df_num, x='minute_2')"
   ]
  },
  {
   "cell_type": "code",
   "execution_count": 47,
   "id": "45c2d6de",
   "metadata": {},
   "outputs": [],
   "source": [
    "df_num['minute_2'] = df_num['minute_2'].apply(lambda x: np.nan if x>9 else x)"
   ]
  },
  {
   "cell_type": "code",
   "execution_count": 48,
   "id": "35a87c60",
   "metadata": {},
   "outputs": [
    {
     "name": "stdout",
     "output_type": "stream",
     "text": [
      "161109\n"
     ]
    },
    {
     "data": {
      "text/html": [
       "<div>\n",
       "<style scoped>\n",
       "    .dataframe tbody tr th:only-of-type {\n",
       "        vertical-align: middle;\n",
       "    }\n",
       "\n",
       "    .dataframe tbody tr th {\n",
       "        vertical-align: top;\n",
       "    }\n",
       "\n",
       "    .dataframe thead th {\n",
       "        text-align: right;\n",
       "    }\n",
       "</style>\n",
       "<table border=\"1\" class=\"dataframe\">\n",
       "  <thead>\n",
       "    <tr style=\"text-align: right;\">\n",
       "      <th></th>\n",
       "      <th>minute</th>\n",
       "      <th>minute_1</th>\n",
       "      <th>minute_2</th>\n",
       "    </tr>\n",
       "  </thead>\n",
       "  <tbody>\n",
       "    <tr>\n",
       "      <th>462513</th>\n",
       "      <td>53.0</td>\n",
       "      <td>5.0</td>\n",
       "      <td>3.0</td>\n",
       "    </tr>\n",
       "    <tr>\n",
       "      <th>146114</th>\n",
       "      <td>21.0</td>\n",
       "      <td>2.0</td>\n",
       "      <td>1.0</td>\n",
       "    </tr>\n",
       "    <tr>\n",
       "      <th>266084</th>\n",
       "      <td>20.0</td>\n",
       "      <td>2.0</td>\n",
       "      <td>0.0</td>\n",
       "    </tr>\n",
       "    <tr>\n",
       "      <th>515795</th>\n",
       "      <td>23.0</td>\n",
       "      <td>2.0</td>\n",
       "      <td>3.0</td>\n",
       "    </tr>\n",
       "    <tr>\n",
       "      <th>466972</th>\n",
       "      <td>46.0</td>\n",
       "      <td>4.0</td>\n",
       "      <td>6.0</td>\n",
       "    </tr>\n",
       "    <tr>\n",
       "      <th>503625</th>\n",
       "      <td>11.0</td>\n",
       "      <td>1.0</td>\n",
       "      <td>1.0</td>\n",
       "    </tr>\n",
       "    <tr>\n",
       "      <th>14828</th>\n",
       "      <td>32.0</td>\n",
       "      <td>3.0</td>\n",
       "      <td>2.0</td>\n",
       "    </tr>\n",
       "    <tr>\n",
       "      <th>567132</th>\n",
       "      <td>49.0</td>\n",
       "      <td>4.0</td>\n",
       "      <td>9.0</td>\n",
       "    </tr>\n",
       "    <tr>\n",
       "      <th>477228</th>\n",
       "      <td>23.0</td>\n",
       "      <td>2.0</td>\n",
       "      <td>3.0</td>\n",
       "    </tr>\n",
       "    <tr>\n",
       "      <th>478956</th>\n",
       "      <td>NaN</td>\n",
       "      <td>8.0</td>\n",
       "      <td>1.0</td>\n",
       "    </tr>\n",
       "  </tbody>\n",
       "</table>\n",
       "</div>"
      ],
      "text/plain": [
       "        minute  minute_1  minute_2\n",
       "462513    53.0       5.0       3.0\n",
       "146114    21.0       2.0       1.0\n",
       "266084    20.0       2.0       0.0\n",
       "515795    23.0       2.0       3.0\n",
       "466972    46.0       4.0       6.0\n",
       "503625    11.0       1.0       1.0\n",
       "14828     32.0       3.0       2.0\n",
       "567132    49.0       4.0       9.0\n",
       "477228    23.0       2.0       3.0\n",
       "478956     NaN       8.0       1.0"
      ]
     },
     "execution_count": 48,
     "metadata": {},
     "output_type": "execute_result"
    }
   ],
   "source": [
    "df_num_mincheck = df_num[~pd.isna(df_num['minute_1'])]\n",
    "df_num_mincheck = df_num_mincheck[~pd.isna(df_num_mincheck['minute_2'])]\n",
    "df_num_mincheck['minute'] = df_num_mincheck['minute_1'].astype(int).astype(str) + df_num_mincheck['minute_2'].astype(int).astype(str)\n",
    "df_num_mincheck['minute'] = df_num_mincheck['minute'].astype(int)\n",
    "df_num_mincheck['minute'] = df_num_mincheck['minute'].apply(lambda x: np.nan if x>59 else x)\n",
    "df_num_nullmin = df_num.loc[pd.isna(df_num['minute_1']) | pd.isna(df_num['minute_2'])]\n",
    "df_num_nullmin = df_num_nullmin.copy(deep=True)\n",
    "df_num_nullmin['minute'] = np.nan\n",
    "df_num = pd.concat([df_num_mincheck, df_num_nullmin])\n",
    "print(len(df_num))\n",
    "df_num[['minute', 'minute_1', 'minute_2']].sample(10)"
   ]
  },
  {
   "cell_type": "markdown",
   "id": "6bd6cc07",
   "metadata": {},
   "source": [
    "second:"
   ]
  },
  {
   "cell_type": "code",
   "execution_count": 49,
   "id": "a0a0b9f1",
   "metadata": {},
   "outputs": [
    {
     "data": {
      "text/plain": [
       "<Axes: xlabel='second_1', ylabel='Count'>"
      ]
     },
     "execution_count": 49,
     "metadata": {},
     "output_type": "execute_result"
    },
    {
     "data": {
      "image/png": "[encoded data removed]",
      "text/plain": [
       "<Figure size 640x480 with 1 Axes>"
      ]
     },
     "metadata": {},
     "output_type": "display_data"
    }
   ],
   "source": [
    "df_num['second_1'] = df_num['second_1'].astype(int)\n",
    "sns.histplot(data=df_num, x='second_1')"
   ]
  },
  {
   "cell_type": "code",
   "execution_count": 50,
   "id": "1d1b569f",
   "metadata": {},
   "outputs": [],
   "source": [
    "df_num['second_1'] = df_num['second_1'].apply(lambda x: np.nan if x>9 else x)"
   ]
  },
  {
   "cell_type": "code",
   "execution_count": 51,
   "id": "b8cc5232",
   "metadata": {},
   "outputs": [
    {
     "data": {
      "text/plain": [
       "<Axes: xlabel='second_2', ylabel='Count'>"
      ]
     },
     "execution_count": 51,
     "metadata": {},
     "output_type": "execute_result"
    },
    {
     "data": {
      "image/png": "[encoded data removed]",
      "text/plain": [
       "<Figure size 640x480 with 1 Axes>"
      ]
     },
     "metadata": {},
     "output_type": "display_data"
    }
   ],
   "source": [
    "df_num['second_2'] = df_num['second_2'].astype(int)\n",
    "sns.histplot(data=df_num, x='second_2')"
   ]
  },
  {
   "cell_type": "code",
   "execution_count": 52,
   "id": "bbb3ae19",
   "metadata": {},
   "outputs": [],
   "source": [
    "df_num['second_2'] = df_num['second_2'].apply(lambda x: np.nan if x>9 else x)"
   ]
  },
  {
   "cell_type": "code",
   "execution_count": 53,
   "id": "0eafd27a",
   "metadata": {},
   "outputs": [
    {
     "name": "stdout",
     "output_type": "stream",
     "text": [
      "161109\n"
     ]
    },
    {
     "data": {
      "text/html": [
       "<div>\n",
       "<style scoped>\n",
       "    .dataframe tbody tr th:only-of-type {\n",
       "        vertical-align: middle;\n",
       "    }\n",
       "\n",
       "    .dataframe tbody tr th {\n",
       "        vertical-align: top;\n",
       "    }\n",
       "\n",
       "    .dataframe thead th {\n",
       "        text-align: right;\n",
       "    }\n",
       "</style>\n",
       "<table border=\"1\" class=\"dataframe\">\n",
       "  <thead>\n",
       "    <tr style=\"text-align: right;\">\n",
       "      <th></th>\n",
       "      <th>second</th>\n",
       "      <th>second_1</th>\n",
       "      <th>second_2</th>\n",
       "    </tr>\n",
       "  </thead>\n",
       "  <tbody>\n",
       "    <tr>\n",
       "      <th>504717</th>\n",
       "      <td>36.0</td>\n",
       "      <td>3.0</td>\n",
       "      <td>6.0</td>\n",
       "    </tr>\n",
       "    <tr>\n",
       "      <th>471524</th>\n",
       "      <td>50.0</td>\n",
       "      <td>5.0</td>\n",
       "      <td>0.0</td>\n",
       "    </tr>\n",
       "    <tr>\n",
       "      <th>578119</th>\n",
       "      <td>55.0</td>\n",
       "      <td>5.0</td>\n",
       "      <td>5.0</td>\n",
       "    </tr>\n",
       "    <tr>\n",
       "      <th>474743</th>\n",
       "      <td>41.0</td>\n",
       "      <td>4.0</td>\n",
       "      <td>1.0</td>\n",
       "    </tr>\n",
       "    <tr>\n",
       "      <th>492129</th>\n",
       "      <td>43.0</td>\n",
       "      <td>4.0</td>\n",
       "      <td>3.0</td>\n",
       "    </tr>\n",
       "    <tr>\n",
       "      <th>407523</th>\n",
       "      <td>0.0</td>\n",
       "      <td>0.0</td>\n",
       "      <td>0.0</td>\n",
       "    </tr>\n",
       "    <tr>\n",
       "      <th>557600</th>\n",
       "      <td>5.0</td>\n",
       "      <td>0.0</td>\n",
       "      <td>5.0</td>\n",
       "    </tr>\n",
       "    <tr>\n",
       "      <th>484561</th>\n",
       "      <td>21.0</td>\n",
       "      <td>2.0</td>\n",
       "      <td>1.0</td>\n",
       "    </tr>\n",
       "    <tr>\n",
       "      <th>467658</th>\n",
       "      <td>4.0</td>\n",
       "      <td>0.0</td>\n",
       "      <td>4.0</td>\n",
       "    </tr>\n",
       "    <tr>\n",
       "      <th>449990</th>\n",
       "      <td>42.0</td>\n",
       "      <td>4.0</td>\n",
       "      <td>2.0</td>\n",
       "    </tr>\n",
       "  </tbody>\n",
       "</table>\n",
       "</div>"
      ],
      "text/plain": [
       "        second  second_1  second_2\n",
       "504717    36.0       3.0       6.0\n",
       "471524    50.0       5.0       0.0\n",
       "578119    55.0       5.0       5.0\n",
       "474743    41.0       4.0       1.0\n",
       "492129    43.0       4.0       3.0\n",
       "407523     0.0       0.0       0.0\n",
       "557600     5.0       0.0       5.0\n",
       "484561    21.0       2.0       1.0\n",
       "467658     4.0       0.0       4.0\n",
       "449990    42.0       4.0       2.0"
      ]
     },
     "execution_count": 53,
     "metadata": {},
     "output_type": "execute_result"
    }
   ],
   "source": [
    "df_num_seccheck = df_num[~pd.isna(df_num['second_1'])]\n",
    "df_num_seccheck = df_num_seccheck[~pd.isna(df_num_seccheck['second_2'])]\n",
    "df_num_seccheck['second'] = df_num_seccheck['second_1'].astype(int).astype(str) + df_num_seccheck['second_2'].astype(int).astype(str)\n",
    "df_num_seccheck['second'] = df_num_seccheck['second'].astype(int)\n",
    "df_num_seccheck['second'] = df_num_seccheck['second'].apply(lambda x: np.nan if x>59 else x)\n",
    "df_num_nullsec = df_num.loc[pd.isna(df_num['second_1']) | pd.isna(df_num['second_2'])]\n",
    "df_num_nullsec = df_num_nullsec.copy(deep=True)\n",
    "df_num_nullsec['second'] = np.nan\n",
    "df_num = pd.concat([df_num_seccheck, df_num_nullsec])\n",
    "print(len(df_num))\n",
    "df_num[['second', 'second_1', 'second_2']].sample(10)"
   ]
  },
  {
   "cell_type": "markdown",
   "id": "c958e5ca",
   "metadata": {},
   "source": [
    "construct timestamp:"
   ]
  },
  {
   "cell_type": "code",
   "execution_count": 54,
   "id": "6c203a20",
   "metadata": {},
   "outputs": [
    {
     "name": "stdout",
     "output_type": "stream",
     "text": [
      "161109\n"
     ]
    }
   ],
   "source": [
    "df_num = construct_timestamp(df_in=df_num)\n",
    "print(len(df_num))"
   ]
  },
  {
   "cell_type": "code",
   "execution_count": 55,
   "id": "00dde2d2",
   "metadata": {},
   "outputs": [
    {
     "data": {
      "text/html": [
       "<div>\n",
       "<style scoped>\n",
       "    .dataframe tbody tr th:only-of-type {\n",
       "        vertical-align: middle;\n",
       "    }\n",
       "\n",
       "    .dataframe tbody tr th {\n",
       "        vertical-align: top;\n",
       "    }\n",
       "\n",
       "    .dataframe thead th {\n",
       "        text-align: right;\n",
       "    }\n",
       "</style>\n",
       "<table border=\"1\" class=\"dataframe\">\n",
       "  <thead>\n",
       "    <tr style=\"text-align: right;\">\n",
       "      <th></th>\n",
       "      <th>year</th>\n",
       "      <th>month</th>\n",
       "      <th>day</th>\n",
       "      <th>hour</th>\n",
       "      <th>minute</th>\n",
       "      <th>second</th>\n",
       "      <th>Timestamp</th>\n",
       "      <th>time_quality</th>\n",
       "    </tr>\n",
       "  </thead>\n",
       "  <tbody>\n",
       "    <tr>\n",
       "      <th>53196</th>\n",
       "      <td>1962.0</td>\n",
       "      <td>NaN</td>\n",
       "      <td>NaN</td>\n",
       "      <td>0.0</td>\n",
       "      <td>0.0</td>\n",
       "      <td>0.0</td>\n",
       "      <td>NaT</td>\n",
       "      <td>0</td>\n",
       "    </tr>\n",
       "    <tr>\n",
       "      <th>2388</th>\n",
       "      <td>1963.0</td>\n",
       "      <td>01</td>\n",
       "      <td>10</td>\n",
       "      <td>0.0</td>\n",
       "      <td>0.0</td>\n",
       "      <td>1.0</td>\n",
       "      <td>1963-01-10 00:00:01</td>\n",
       "      <td>1</td>\n",
       "    </tr>\n",
       "    <tr>\n",
       "      <th>529953</th>\n",
       "      <td>1964.0</td>\n",
       "      <td>07</td>\n",
       "      <td>29</td>\n",
       "      <td>4.0</td>\n",
       "      <td>49.0</td>\n",
       "      <td>48.0</td>\n",
       "      <td>1964-07-29 04:49:48</td>\n",
       "      <td>1</td>\n",
       "    </tr>\n",
       "    <tr>\n",
       "      <th>541066</th>\n",
       "      <td>1966.0</td>\n",
       "      <td>01</td>\n",
       "      <td>11</td>\n",
       "      <td>2.0</td>\n",
       "      <td>21.0</td>\n",
       "      <td>20.0</td>\n",
       "      <td>1966-01-11 02:21:20</td>\n",
       "      <td>1</td>\n",
       "    </tr>\n",
       "    <tr>\n",
       "      <th>448208</th>\n",
       "      <td>1966.0</td>\n",
       "      <td>09</td>\n",
       "      <td>16</td>\n",
       "      <td>7.0</td>\n",
       "      <td>20.0</td>\n",
       "      <td>3.0</td>\n",
       "      <td>1966-09-16 07:20:03</td>\n",
       "      <td>1</td>\n",
       "    </tr>\n",
       "    <tr>\n",
       "      <th>562262</th>\n",
       "      <td>1966.0</td>\n",
       "      <td>03</td>\n",
       "      <td>21</td>\n",
       "      <td>5.0</td>\n",
       "      <td>8.0</td>\n",
       "      <td>19.0</td>\n",
       "      <td>1966-03-21 05:08:19</td>\n",
       "      <td>1</td>\n",
       "    </tr>\n",
       "    <tr>\n",
       "      <th>438110</th>\n",
       "      <td>1966.0</td>\n",
       "      <td>07</td>\n",
       "      <td>01</td>\n",
       "      <td>2.0</td>\n",
       "      <td>55.0</td>\n",
       "      <td>36.0</td>\n",
       "      <td>1966-07-01 02:55:36</td>\n",
       "      <td>1</td>\n",
       "    </tr>\n",
       "    <tr>\n",
       "      <th>547823</th>\n",
       "      <td>1966.0</td>\n",
       "      <td>02</td>\n",
       "      <td>09</td>\n",
       "      <td>1.0</td>\n",
       "      <td>5.0</td>\n",
       "      <td>17.0</td>\n",
       "      <td>1966-02-09 01:05:17</td>\n",
       "      <td>1</td>\n",
       "    </tr>\n",
       "    <tr>\n",
       "      <th>477705</th>\n",
       "      <td>1967.0</td>\n",
       "      <td>03</td>\n",
       "      <td>27</td>\n",
       "      <td>4.0</td>\n",
       "      <td>25.0</td>\n",
       "      <td>34.0</td>\n",
       "      <td>1967-03-27 04:25:34</td>\n",
       "      <td>1</td>\n",
       "    </tr>\n",
       "    <tr>\n",
       "      <th>538354</th>\n",
       "      <td>1967.0</td>\n",
       "      <td>08</td>\n",
       "      <td>02</td>\n",
       "      <td>8.0</td>\n",
       "      <td>50.0</td>\n",
       "      <td>59.0</td>\n",
       "      <td>1967-08-02 08:50:59</td>\n",
       "      <td>1</td>\n",
       "    </tr>\n",
       "  </tbody>\n",
       "</table>\n",
       "</div>"
      ],
      "text/plain": [
       "          year month  day  hour  minute  second           Timestamp  \\\n",
       "53196   1962.0   NaN  NaN   0.0     0.0     0.0                 NaT   \n",
       "2388    1963.0    01   10   0.0     0.0     1.0 1963-01-10 00:00:01   \n",
       "529953  1964.0    07   29   4.0    49.0    48.0 1964-07-29 04:49:48   \n",
       "541066  1966.0    01   11   2.0    21.0    20.0 1966-01-11 02:21:20   \n",
       "448208  1966.0    09   16   7.0    20.0     3.0 1966-09-16 07:20:03   \n",
       "562262  1966.0    03   21   5.0     8.0    19.0 1966-03-21 05:08:19   \n",
       "438110  1966.0    07   01   2.0    55.0    36.0 1966-07-01 02:55:36   \n",
       "547823  1966.0    02   09   1.0     5.0    17.0 1966-02-09 01:05:17   \n",
       "477705  1967.0    03   27   4.0    25.0    34.0 1967-03-27 04:25:34   \n",
       "538354  1967.0    08   02   8.0    50.0    59.0 1967-08-02 08:50:59   \n",
       "\n",
       "        time_quality  \n",
       "53196              0  \n",
       "2388               1  \n",
       "529953             1  \n",
       "541066             1  \n",
       "448208             1  \n",
       "562262             1  \n",
       "438110             1  \n",
       "547823             1  \n",
       "477705             1  \n",
       "538354             1  "
      ]
     },
     "execution_count": 55,
     "metadata": {},
     "output_type": "execute_result"
    }
   ],
   "source": [
    "df_num[['year', 'month', 'day', 'hour', 'minute', 'second', 'Timestamp', 'time_quality']].sample(10)"
   ]
  },
  {
   "cell_type": "markdown",
   "id": "ca6e345a",
   "metadata": {},
   "source": [
    "#  "
   ]
  },
  {
   "cell_type": "markdown",
   "id": "e6f6e411",
   "metadata": {},
   "source": [
    "#### dot - check timestamp components, construct timestamp:"
   ]
  },
  {
   "cell_type": "code",
   "execution_count": 56,
   "id": "c46e1d3a",
   "metadata": {},
   "outputs": [
    {
     "data": {
      "text/html": [
       "<div>\n",
       "<style scoped>\n",
       "    .dataframe tbody tr th:only-of-type {\n",
       "        vertical-align: middle;\n",
       "    }\n",
       "\n",
       "    .dataframe tbody tr th {\n",
       "        vertical-align: top;\n",
       "    }\n",
       "\n",
       "    .dataframe thead th {\n",
       "        text-align: right;\n",
       "    }\n",
       "</style>\n",
       "<table border=\"1\" class=\"dataframe\">\n",
       "  <thead>\n",
       "    <tr style=\"text-align: right;\">\n",
       "      <th></th>\n",
       "      <th>year_1</th>\n",
       "      <th>day_1</th>\n",
       "      <th>day_2</th>\n",
       "      <th>day_3</th>\n",
       "      <th>hour_1</th>\n",
       "      <th>hour_2</th>\n",
       "      <th>minute_1</th>\n",
       "      <th>minute_2</th>\n",
       "      <th>second_1</th>\n",
       "      <th>second_2</th>\n",
       "      <th>is_dot</th>\n",
       "    </tr>\n",
       "  </thead>\n",
       "  <tbody>\n",
       "    <tr>\n",
       "      <th>448489</th>\n",
       "      <td>NaN</td>\n",
       "      <td>1.0</td>\n",
       "      <td>8.0</td>\n",
       "      <td>8.0</td>\n",
       "      <td>9.0</td>\n",
       "      <td>0.0</td>\n",
       "      <td>8.0</td>\n",
       "      <td>18.0</td>\n",
       "      <td>1.0</td>\n",
       "      <td>9.0</td>\n",
       "      <td>NaN</td>\n",
       "    </tr>\n",
       "    <tr>\n",
       "      <th>448569</th>\n",
       "      <td>NaN</td>\n",
       "      <td>1.0</td>\n",
       "      <td>8.0</td>\n",
       "      <td>8.0</td>\n",
       "      <td>8.0</td>\n",
       "      <td>1.0</td>\n",
       "      <td>9.0</td>\n",
       "      <td>16.0</td>\n",
       "      <td>8.0</td>\n",
       "      <td>9.0</td>\n",
       "      <td>NaN</td>\n",
       "    </tr>\n",
       "    <tr>\n",
       "      <th>450344</th>\n",
       "      <td>NaN</td>\n",
       "      <td>2.0</td>\n",
       "      <td>8.0</td>\n",
       "      <td>0.0</td>\n",
       "      <td>0.0</td>\n",
       "      <td>8.0</td>\n",
       "      <td>10.0</td>\n",
       "      <td>0.0</td>\n",
       "      <td>8.0</td>\n",
       "      <td>2.0</td>\n",
       "      <td>NaN</td>\n",
       "    </tr>\n",
       "    <tr>\n",
       "      <th>521754</th>\n",
       "      <td>NaN</td>\n",
       "      <td>1.0</td>\n",
       "      <td>4.0</td>\n",
       "      <td>8.0</td>\n",
       "      <td>16.0</td>\n",
       "      <td>8.0</td>\n",
       "      <td>24.0</td>\n",
       "      <td>8.0</td>\n",
       "      <td>1.0</td>\n",
       "      <td>0.0</td>\n",
       "      <td>NaN</td>\n",
       "    </tr>\n",
       "    <tr>\n",
       "      <th>520739</th>\n",
       "      <td>NaN</td>\n",
       "      <td>1.0</td>\n",
       "      <td>12.0</td>\n",
       "      <td>4.0</td>\n",
       "      <td>4.0</td>\n",
       "      <td>4.0</td>\n",
       "      <td>9.0</td>\n",
       "      <td>0.0</td>\n",
       "      <td>8.0</td>\n",
       "      <td>0.0</td>\n",
       "      <td>NaN</td>\n",
       "    </tr>\n",
       "    <tr>\n",
       "      <th>533888</th>\n",
       "      <td>NaN</td>\n",
       "      <td>1.0</td>\n",
       "      <td>8.0</td>\n",
       "      <td>8.0</td>\n",
       "      <td>9.0</td>\n",
       "      <td>8.0</td>\n",
       "      <td>16.0</td>\n",
       "      <td>1.0</td>\n",
       "      <td>8.0</td>\n",
       "      <td>0.0</td>\n",
       "      <td>NaN</td>\n",
       "    </tr>\n",
       "    <tr>\n",
       "      <th>455327</th>\n",
       "      <td>NaN</td>\n",
       "      <td>1.0</td>\n",
       "      <td>8.0</td>\n",
       "      <td>9.0</td>\n",
       "      <td>1.0</td>\n",
       "      <td>1.0</td>\n",
       "      <td>2.0</td>\n",
       "      <td>1.0</td>\n",
       "      <td>8.0</td>\n",
       "      <td>8.0</td>\n",
       "      <td>NaN</td>\n",
       "    </tr>\n",
       "    <tr>\n",
       "      <th>539366</th>\n",
       "      <td>NaN</td>\n",
       "      <td>1.0</td>\n",
       "      <td>8.0</td>\n",
       "      <td>0.0</td>\n",
       "      <td>9.0</td>\n",
       "      <td>0.0</td>\n",
       "      <td>8.0</td>\n",
       "      <td>9.0</td>\n",
       "      <td>8.0</td>\n",
       "      <td>8.0</td>\n",
       "      <td>NaN</td>\n",
       "    </tr>\n",
       "    <tr>\n",
       "      <th>536126</th>\n",
       "      <td>NaN</td>\n",
       "      <td>1.0</td>\n",
       "      <td>8.0</td>\n",
       "      <td>0.0</td>\n",
       "      <td>17.0</td>\n",
       "      <td>8.0</td>\n",
       "      <td>8.0</td>\n",
       "      <td>0.0</td>\n",
       "      <td>9.0</td>\n",
       "      <td>0.0</td>\n",
       "      <td>NaN</td>\n",
       "    </tr>\n",
       "    <tr>\n",
       "      <th>537595</th>\n",
       "      <td>NaN</td>\n",
       "      <td>2.0</td>\n",
       "      <td>18.0</td>\n",
       "      <td>8.0</td>\n",
       "      <td>12.0</td>\n",
       "      <td>0.0</td>\n",
       "      <td>8.0</td>\n",
       "      <td>8.0</td>\n",
       "      <td>10.0</td>\n",
       "      <td>1.0</td>\n",
       "      <td>NaN</td>\n",
       "    </tr>\n",
       "  </tbody>\n",
       "</table>\n",
       "</div>"
      ],
      "text/plain": [
       "        year_1  day_1  day_2  day_3  hour_1  hour_2  minute_1  minute_2  \\\n",
       "448489     NaN    1.0    8.0    8.0     9.0     0.0       8.0      18.0   \n",
       "448569     NaN    1.0    8.0    8.0     8.0     1.0       9.0      16.0   \n",
       "450344     NaN    2.0    8.0    0.0     0.0     8.0      10.0       0.0   \n",
       "521754     NaN    1.0    4.0    8.0    16.0     8.0      24.0       8.0   \n",
       "520739     NaN    1.0   12.0    4.0     4.0     4.0       9.0       0.0   \n",
       "533888     NaN    1.0    8.0    8.0     9.0     8.0      16.0       1.0   \n",
       "455327     NaN    1.0    8.0    9.0     1.0     1.0       2.0       1.0   \n",
       "539366     NaN    1.0    8.0    0.0     9.0     0.0       8.0       9.0   \n",
       "536126     NaN    1.0    8.0    0.0    17.0     8.0       8.0       0.0   \n",
       "537595     NaN    2.0   18.0    8.0    12.0     0.0       8.0       8.0   \n",
       "\n",
       "        second_1  second_2 is_dot  \n",
       "448489       1.0       9.0    NaN  \n",
       "448569       8.0       9.0    NaN  \n",
       "450344       8.0       2.0    NaN  \n",
       "521754       1.0       0.0    NaN  \n",
       "520739       8.0       0.0    NaN  \n",
       "533888       8.0       0.0    NaN  \n",
       "455327       8.0       8.0    NaN  \n",
       "539366       8.0       8.0    NaN  \n",
       "536126       9.0       0.0    NaN  \n",
       "537595      10.0       1.0    NaN  "
      ]
     },
     "execution_count": 56,
     "metadata": {},
     "output_type": "execute_result"
    }
   ],
   "source": [
    "df_dot = df_dot.copy(deep=True)\n",
    "df_dot[['year_1', 'day_1', 'day_2', 'day_3', 'hour_1', 'hour_2', 'minute_1', 'minute_2', 'second_1', 'second_2', 'is_dot']].sample(10)"
   ]
  },
  {
   "cell_type": "markdown",
   "id": "f2752122",
   "metadata": {},
   "source": [
    "day:"
   ]
  },
  {
   "cell_type": "code",
   "execution_count": 57,
   "id": "6f77f935",
   "metadata": {},
   "outputs": [
    {
     "data": {
      "text/plain": [
       "<Axes: xlabel='day_1', ylabel='Count'>"
      ]
     },
     "execution_count": 57,
     "metadata": {},
     "output_type": "execute_result"
    },
    {
     "data": {
      "image/png": "[encoded data removed]",
      "text/plain": [
       "<Figure size 640x480 with 1 Axes>"
      ]
     },
     "metadata": {},
     "output_type": "display_data"
    }
   ],
   "source": [
    "df_dot['day_1'] = df_dot['day_1'].astype(int)\n",
    "sns.histplot(data=df_dot, x='day_1')"
   ]
  },
  {
   "cell_type": "code",
   "execution_count": 58,
   "id": "a9b647f4",
   "metadata": {},
   "outputs": [],
   "source": [
    "df_dot['day_1'] = df_dot['day_1'].apply(lambda x: np.nan if x>9 else x)"
   ]
  },
  {
   "cell_type": "code",
   "execution_count": 59,
   "id": "90dc5a4f",
   "metadata": {},
   "outputs": [
    {
     "data": {
      "text/plain": [
       "<Axes: xlabel='day_2', ylabel='Count'>"
      ]
     },
     "execution_count": 59,
     "metadata": {},
     "output_type": "execute_result"
    },
    {
     "data": {
      "image/png": "[encoded data removed]",
      "text/plain": [
       "<Figure size 640x480 with 1 Axes>"
      ]
     },
     "metadata": {},
     "output_type": "display_data"
    }
   ],
   "source": [
    "df_dot['day_2'] = df_dot['day_2'].astype(int)\n",
    "sns.histplot(data=df_dot, x='day_2')"
   ]
  },
  {
   "cell_type": "code",
   "execution_count": 60,
   "id": "207dcc83",
   "metadata": {},
   "outputs": [],
   "source": [
    "df_dot['day_2'] = df_dot['day_2'].apply(lambda x: np.nan if x>9 else x)"
   ]
  },
  {
   "cell_type": "code",
   "execution_count": 61,
   "id": "1e1a1f93",
   "metadata": {},
   "outputs": [
    {
     "data": {
      "text/plain": [
       "<Axes: xlabel='day_3', ylabel='Count'>"
      ]
     },
     "execution_count": 61,
     "metadata": {},
     "output_type": "execute_result"
    },
    {
     "data": {
      "image/png": "[encoded data removed]",
      "text/plain": [
       "<Figure size 640x480 with 1 Axes>"
      ]
     },
     "metadata": {},
     "output_type": "display_data"
    }
   ],
   "source": [
    "df_dot['day_3'] = df_dot['day_3'].astype(int)\n",
    "sns.histplot(data=df_dot, x='day_3')"
   ]
  },
  {
   "cell_type": "code",
   "execution_count": 62,
   "id": "feb1b2cf",
   "metadata": {},
   "outputs": [],
   "source": [
    "df_dot['day_3'] = df_dot['day_3'].apply(lambda x: np.nan if x>9 else x)"
   ]
  },
  {
   "cell_type": "code",
   "execution_count": 63,
   "id": "14ba9eb5",
   "metadata": {},
   "outputs": [
    {
     "name": "stdout",
     "output_type": "stream",
     "text": [
      "7337\n"
     ]
    },
    {
     "data": {
      "text/html": [
       "<div>\n",
       "<style scoped>\n",
       "    .dataframe tbody tr th:only-of-type {\n",
       "        vertical-align: middle;\n",
       "    }\n",
       "\n",
       "    .dataframe tbody tr th {\n",
       "        vertical-align: top;\n",
       "    }\n",
       "\n",
       "    .dataframe thead th {\n",
       "        text-align: right;\n",
       "    }\n",
       "</style>\n",
       "<table border=\"1\" class=\"dataframe\">\n",
       "  <thead>\n",
       "    <tr style=\"text-align: right;\">\n",
       "      <th></th>\n",
       "      <th>day_of_year</th>\n",
       "      <th>day_1</th>\n",
       "      <th>day_2</th>\n",
       "      <th>day_3</th>\n",
       "    </tr>\n",
       "  </thead>\n",
       "  <tbody>\n",
       "    <tr>\n",
       "      <th>533644</th>\n",
       "      <td>188.0</td>\n",
       "      <td>1.0</td>\n",
       "      <td>8.0</td>\n",
       "      <td>8.0</td>\n",
       "    </tr>\n",
       "    <tr>\n",
       "      <th>446803</th>\n",
       "      <td>188.0</td>\n",
       "      <td>1.0</td>\n",
       "      <td>8.0</td>\n",
       "      <td>8.0</td>\n",
       "    </tr>\n",
       "    <tr>\n",
       "      <th>450527</th>\n",
       "      <td>280.0</td>\n",
       "      <td>2.0</td>\n",
       "      <td>8.0</td>\n",
       "      <td>0.0</td>\n",
       "    </tr>\n",
       "    <tr>\n",
       "      <th>448497</th>\n",
       "      <td>281.0</td>\n",
       "      <td>2.0</td>\n",
       "      <td>8.0</td>\n",
       "      <td>1.0</td>\n",
       "    </tr>\n",
       "    <tr>\n",
       "      <th>531794</th>\n",
       "      <td>NaN</td>\n",
       "      <td>1.0</td>\n",
       "      <td>NaN</td>\n",
       "      <td>8.0</td>\n",
       "    </tr>\n",
       "    <tr>\n",
       "      <th>460910</th>\n",
       "      <td>189.0</td>\n",
       "      <td>1.0</td>\n",
       "      <td>8.0</td>\n",
       "      <td>9.0</td>\n",
       "    </tr>\n",
       "    <tr>\n",
       "      <th>535968</th>\n",
       "      <td>181.0</td>\n",
       "      <td>1.0</td>\n",
       "      <td>8.0</td>\n",
       "      <td>1.0</td>\n",
       "    </tr>\n",
       "    <tr>\n",
       "      <th>455317</th>\n",
       "      <td>180.0</td>\n",
       "      <td>1.0</td>\n",
       "      <td>8.0</td>\n",
       "      <td>0.0</td>\n",
       "    </tr>\n",
       "    <tr>\n",
       "      <th>523470</th>\n",
       "      <td>180.0</td>\n",
       "      <td>1.0</td>\n",
       "      <td>8.0</td>\n",
       "      <td>0.0</td>\n",
       "    </tr>\n",
       "    <tr>\n",
       "      <th>459648</th>\n",
       "      <td>100.0</td>\n",
       "      <td>1.0</td>\n",
       "      <td>0.0</td>\n",
       "      <td>0.0</td>\n",
       "    </tr>\n",
       "  </tbody>\n",
       "</table>\n",
       "</div>"
      ],
      "text/plain": [
       "        day_of_year  day_1  day_2  day_3\n",
       "533644        188.0    1.0    8.0    8.0\n",
       "446803        188.0    1.0    8.0    8.0\n",
       "450527        280.0    2.0    8.0    0.0\n",
       "448497        281.0    2.0    8.0    1.0\n",
       "531794          NaN    1.0    NaN    8.0\n",
       "460910        189.0    1.0    8.0    9.0\n",
       "535968        181.0    1.0    8.0    1.0\n",
       "455317        180.0    1.0    8.0    0.0\n",
       "523470        180.0    1.0    8.0    0.0\n",
       "459648        100.0    1.0    0.0    0.0"
      ]
     },
     "execution_count": 63,
     "metadata": {},
     "output_type": "execute_result"
    }
   ],
   "source": [
    "df_dot_daycheck = df_dot[~pd.isna(df_dot['day_1'])]\n",
    "df_dot_daycheck = df_dot_daycheck[~pd.isna(df_dot_daycheck['day_2'])]\n",
    "df_dot_daycheck = df_dot_daycheck[~pd.isna(df_dot_daycheck['day_3'])]\n",
    "df_dot_daycheck['day_of_year'] = df_dot_daycheck['day_1'].astype(int).astype(str) + df_dot_daycheck['day_2'].astype(int).astype(str) + df_dot_daycheck['day_3'].astype(int).astype(str)\n",
    "df_dot_daycheck['day_of_year'] = df_dot_daycheck['day_of_year'].astype(int)\n",
    "df_dot_daycheck['day_of_year'] = df_dot_daycheck['day_of_year'].apply(lambda x: np.nan if x>366 else x)\n",
    "df_dot_daycheck['day_of_year'] = df_dot_daycheck['day_of_year'].apply(lambda x: np.nan if x==0 else x)\n",
    "df_dot_nullday = df_dot.loc[pd.isna(df_dot['day_1']) | pd.isna(df_dot['day_2']) | pd.isna(df_dot['day_3'])]\n",
    "df_dot_nullday = df_dot_nullday.copy(deep=True)\n",
    "df_dot_nullday['day_of_year'] = np.nan\n",
    "df_dot = pd.concat([df_dot_daycheck, df_dot_nullday])\n",
    "print(len(df_dot))\n",
    "df_dot[['day_of_year', 'day_1', 'day_2', 'day_3']].sample(10)"
   ]
  },
  {
   "cell_type": "markdown",
   "id": "4a362cd7",
   "metadata": {},
   "source": [
    "year - infer from day:"
   ]
  },
  {
   "cell_type": "code",
   "execution_count": 64,
   "id": "03746f1c",
   "metadata": {},
   "outputs": [
    {
     "name": "stderr",
     "output_type": "stream",
     "text": [
      "C:\\Users\\rnaidoo\\AppData\\Local\\Temp\\ipykernel_16700\\2722169012.py:6: SettingWithCopyWarning: \n",
      "A value is trying to be set on a copy of a slice from a DataFrame\n",
      "\n",
      "See the caveats in the documentation: https://pandas.pydata.org/pandas-docs/stable/user_guide/indexing.html#returning-a-view-versus-a-copy\n",
      "  df_dot['year'].iloc[i] = 1962\n",
      "C:\\Users\\rnaidoo\\AppData\\Local\\Temp\\ipykernel_16700\\2722169012.py:8: SettingWithCopyWarning: \n",
      "A value is trying to be set on a copy of a slice from a DataFrame\n",
      "\n",
      "See the caveats in the documentation: https://pandas.pydata.org/pandas-docs/stable/user_guide/indexing.html#returning-a-view-versus-a-copy\n",
      "  df_dot['year'].iloc[i] = 1963\n"
     ]
    },
    {
     "data": {
      "text/html": [
       "<div>\n",
       "<style scoped>\n",
       "    .dataframe tbody tr th:only-of-type {\n",
       "        vertical-align: middle;\n",
       "    }\n",
       "\n",
       "    .dataframe tbody tr th {\n",
       "        vertical-align: top;\n",
       "    }\n",
       "\n",
       "    .dataframe thead th {\n",
       "        text-align: right;\n",
       "    }\n",
       "</style>\n",
       "<table border=\"1\" class=\"dataframe\">\n",
       "  <thead>\n",
       "    <tr style=\"text-align: right;\">\n",
       "      <th></th>\n",
       "      <th>year</th>\n",
       "      <th>day_of_year</th>\n",
       "      <th>day_1</th>\n",
       "      <th>day_2</th>\n",
       "      <th>day_3</th>\n",
       "    </tr>\n",
       "  </thead>\n",
       "  <tbody>\n",
       "    <tr>\n",
       "      <th>536823</th>\n",
       "      <td>1963.0</td>\n",
       "      <td>180.0</td>\n",
       "      <td>1.0</td>\n",
       "      <td>8.0</td>\n",
       "      <td>0.0</td>\n",
       "    </tr>\n",
       "    <tr>\n",
       "      <th>531242</th>\n",
       "      <td>1963.0</td>\n",
       "      <td>140.0</td>\n",
       "      <td>1.0</td>\n",
       "      <td>4.0</td>\n",
       "      <td>0.0</td>\n",
       "    </tr>\n",
       "    <tr>\n",
       "      <th>446834</th>\n",
       "      <td>1963.0</td>\n",
       "      <td>188.0</td>\n",
       "      <td>1.0</td>\n",
       "      <td>8.0</td>\n",
       "      <td>8.0</td>\n",
       "    </tr>\n",
       "    <tr>\n",
       "      <th>533717</th>\n",
       "      <td>1963.0</td>\n",
       "      <td>188.0</td>\n",
       "      <td>1.0</td>\n",
       "      <td>8.0</td>\n",
       "      <td>8.0</td>\n",
       "    </tr>\n",
       "    <tr>\n",
       "      <th>536013</th>\n",
       "      <td>1963.0</td>\n",
       "      <td>100.0</td>\n",
       "      <td>1.0</td>\n",
       "      <td>0.0</td>\n",
       "      <td>0.0</td>\n",
       "    </tr>\n",
       "    <tr>\n",
       "      <th>538725</th>\n",
       "      <td>1963.0</td>\n",
       "      <td>181.0</td>\n",
       "      <td>1.0</td>\n",
       "      <td>8.0</td>\n",
       "      <td>1.0</td>\n",
       "    </tr>\n",
       "    <tr>\n",
       "      <th>531900</th>\n",
       "      <td>1963.0</td>\n",
       "      <td>180.0</td>\n",
       "      <td>1.0</td>\n",
       "      <td>8.0</td>\n",
       "      <td>0.0</td>\n",
       "    </tr>\n",
       "    <tr>\n",
       "      <th>531068</th>\n",
       "      <td>NaN</td>\n",
       "      <td>NaN</td>\n",
       "      <td>1.0</td>\n",
       "      <td>NaN</td>\n",
       "      <td>8.0</td>\n",
       "    </tr>\n",
       "    <tr>\n",
       "      <th>519670</th>\n",
       "      <td>NaN</td>\n",
       "      <td>NaN</td>\n",
       "      <td>8.0</td>\n",
       "      <td>8.0</td>\n",
       "      <td>8.0</td>\n",
       "    </tr>\n",
       "    <tr>\n",
       "      <th>532940</th>\n",
       "      <td>NaN</td>\n",
       "      <td>NaN</td>\n",
       "      <td>8.0</td>\n",
       "      <td>0.0</td>\n",
       "      <td>0.0</td>\n",
       "    </tr>\n",
       "  </tbody>\n",
       "</table>\n",
       "</div>"
      ],
      "text/plain": [
       "          year  day_of_year  day_1  day_2  day_3\n",
       "536823  1963.0        180.0    1.0    8.0    0.0\n",
       "531242  1963.0        140.0    1.0    4.0    0.0\n",
       "446834  1963.0        188.0    1.0    8.0    8.0\n",
       "533717  1963.0        188.0    1.0    8.0    8.0\n",
       "536013  1963.0        100.0    1.0    0.0    0.0\n",
       "538725  1963.0        181.0    1.0    8.0    1.0\n",
       "531900  1963.0        180.0    1.0    8.0    0.0\n",
       "531068     NaN          NaN    1.0    NaN    8.0\n",
       "519670     NaN          NaN    8.0    8.0    8.0\n",
       "532940     NaN          NaN    8.0    0.0    0.0"
      ]
     },
     "execution_count": 64,
     "metadata": {},
     "output_type": "execute_result"
    }
   ],
   "source": [
    "df_dot['year'] = np.nan\n",
    "for i in range(0, len(df_dot)):\n",
    "    day = df_dot['day_of_year'].iloc[i]\n",
    "    if (day < 366) & (day > 0):\n",
    "        if day > 271:\n",
    "            df_dot['year'].iloc[i] = 1962\n",
    "        else:\n",
    "            df_dot['year'].iloc[i] = 1963\n",
    "df_dot[['year', 'day_of_year', 'day_1', 'day_2', 'day_3']].sample(10)"
   ]
  },
  {
   "cell_type": "markdown",
   "id": "fc9b01cc",
   "metadata": {},
   "source": [
    "hour:"
   ]
  },
  {
   "cell_type": "code",
   "execution_count": 65,
   "id": "443cf13c",
   "metadata": {},
   "outputs": [
    {
     "data": {
      "text/plain": [
       "<Axes: xlabel='hour_1', ylabel='Count'>"
      ]
     },
     "execution_count": 65,
     "metadata": {},
     "output_type": "execute_result"
    },
    {
     "data": {
      "image/png": "[encoded data removed]",
      "text/plain": [
       "<Figure size 640x480 with 1 Axes>"
      ]
     },
     "metadata": {},
     "output_type": "display_data"
    }
   ],
   "source": [
    "df_dot['hour_1'] = df_dot['hour_1'].astype(int)\n",
    "sns.histplot(data=df_dot, x='hour_1')"
   ]
  },
  {
   "cell_type": "code",
   "execution_count": 66,
   "id": "194d1da6",
   "metadata": {},
   "outputs": [],
   "source": [
    "df_dot['hour_1'] = df_dot['hour_1'].apply(lambda x: np.nan if x>9 else x)"
   ]
  },
  {
   "cell_type": "code",
   "execution_count": 67,
   "id": "f79835d6",
   "metadata": {},
   "outputs": [
    {
     "data": {
      "text/plain": [
       "<Axes: xlabel='hour_2', ylabel='Count'>"
      ]
     },
     "execution_count": 67,
     "metadata": {},
     "output_type": "execute_result"
    },
    {
     "data": {
      "image/png": "[encoded data removed]",
      "text/plain": [
       "<Figure size 640x480 with 1 Axes>"
      ]
     },
     "metadata": {},
     "output_type": "display_data"
    }
   ],
   "source": [
    "df_dot['hour_2'] = df_dot['hour_2'].astype(int)\n",
    "sns.histplot(data=df_dot, x='hour_2')"
   ]
  },
  {
   "cell_type": "code",
   "execution_count": 68,
   "id": "e75eba37",
   "metadata": {},
   "outputs": [],
   "source": [
    "df_dot['hour_2'] = df_dot['hour_2'].apply(lambda x: np.nan if x>9 else x)"
   ]
  },
  {
   "cell_type": "code",
   "execution_count": 69,
   "id": "32899cb8",
   "metadata": {},
   "outputs": [
    {
     "name": "stdout",
     "output_type": "stream",
     "text": [
      "7337\n"
     ]
    },
    {
     "data": {
      "text/html": [
       "<div>\n",
       "<style scoped>\n",
       "    .dataframe tbody tr th:only-of-type {\n",
       "        vertical-align: middle;\n",
       "    }\n",
       "\n",
       "    .dataframe tbody tr th {\n",
       "        vertical-align: top;\n",
       "    }\n",
       "\n",
       "    .dataframe thead th {\n",
       "        text-align: right;\n",
       "    }\n",
       "</style>\n",
       "<table border=\"1\" class=\"dataframe\">\n",
       "  <thead>\n",
       "    <tr style=\"text-align: right;\">\n",
       "      <th></th>\n",
       "      <th>hour</th>\n",
       "      <th>hour_1</th>\n",
       "      <th>hour_2</th>\n",
       "    </tr>\n",
       "  </thead>\n",
       "  <tbody>\n",
       "    <tr>\n",
       "      <th>533149</th>\n",
       "      <td>NaN</td>\n",
       "      <td>NaN</td>\n",
       "      <td>0.0</td>\n",
       "    </tr>\n",
       "    <tr>\n",
       "      <th>455338</th>\n",
       "      <td>11.0</td>\n",
       "      <td>1.0</td>\n",
       "      <td>1.0</td>\n",
       "    </tr>\n",
       "    <tr>\n",
       "      <th>536946</th>\n",
       "      <td>NaN</td>\n",
       "      <td>4.0</td>\n",
       "      <td>2.0</td>\n",
       "    </tr>\n",
       "    <tr>\n",
       "      <th>519800</th>\n",
       "      <td>0.0</td>\n",
       "      <td>0.0</td>\n",
       "      <td>0.0</td>\n",
       "    </tr>\n",
       "    <tr>\n",
       "      <th>523845</th>\n",
       "      <td>NaN</td>\n",
       "      <td>9.0</td>\n",
       "      <td>2.0</td>\n",
       "    </tr>\n",
       "    <tr>\n",
       "      <th>521632</th>\n",
       "      <td>NaN</td>\n",
       "      <td>5.0</td>\n",
       "      <td>8.0</td>\n",
       "    </tr>\n",
       "    <tr>\n",
       "      <th>527939</th>\n",
       "      <td>10.0</td>\n",
       "      <td>1.0</td>\n",
       "      <td>0.0</td>\n",
       "    </tr>\n",
       "    <tr>\n",
       "      <th>520792</th>\n",
       "      <td>NaN</td>\n",
       "      <td>8.0</td>\n",
       "      <td>0.0</td>\n",
       "    </tr>\n",
       "    <tr>\n",
       "      <th>445501</th>\n",
       "      <td>NaN</td>\n",
       "      <td>NaN</td>\n",
       "      <td>0.0</td>\n",
       "    </tr>\n",
       "    <tr>\n",
       "      <th>523780</th>\n",
       "      <td>NaN</td>\n",
       "      <td>9.0</td>\n",
       "      <td>1.0</td>\n",
       "    </tr>\n",
       "  </tbody>\n",
       "</table>\n",
       "</div>"
      ],
      "text/plain": [
       "        hour  hour_1  hour_2\n",
       "533149   NaN     NaN     0.0\n",
       "455338  11.0     1.0     1.0\n",
       "536946   NaN     4.0     2.0\n",
       "519800   0.0     0.0     0.0\n",
       "523845   NaN     9.0     2.0\n",
       "521632   NaN     5.0     8.0\n",
       "527939  10.0     1.0     0.0\n",
       "520792   NaN     8.0     0.0\n",
       "445501   NaN     NaN     0.0\n",
       "523780   NaN     9.0     1.0"
      ]
     },
     "execution_count": 69,
     "metadata": {},
     "output_type": "execute_result"
    }
   ],
   "source": [
    "df_dot_hourcheck = df_dot[~pd.isna(df_dot['hour_1'])]\n",
    "df_dot_hourcheck = df_dot_hourcheck[~pd.isna(df_dot_hourcheck['hour_2'])]\n",
    "df_dot_hourcheck['hour'] = df_dot_hourcheck['hour_1'].astype(int).astype(str) + df_dot_hourcheck['hour_2'].astype(int).astype(str)\n",
    "df_dot_hourcheck['hour'] = df_dot_hourcheck['hour'].astype(int)\n",
    "df_dot_hourcheck['hour'] = df_dot_hourcheck['hour'].apply(lambda x: np.nan if x>23 else x)\n",
    "df_dot_nullhour = df_dot.loc[pd.isna(df_dot['hour_1']) | pd.isna(df_dot['hour_2'])]\n",
    "df_dot_nullhour = df_dot_nullhour.copy(deep=True)\n",
    "df_dot_nullhour['hour'] = np.nan\n",
    "df_dot = pd.concat([df_dot_hourcheck, df_dot_nullhour])\n",
    "print(len(df_dot))\n",
    "df_dot[['hour', 'hour_1', 'hour_2']].sample(10)"
   ]
  },
  {
   "cell_type": "markdown",
   "id": "0c516395",
   "metadata": {},
   "source": [
    "minute:"
   ]
  },
  {
   "cell_type": "code",
   "execution_count": 70,
   "id": "d5822474",
   "metadata": {},
   "outputs": [
    {
     "data": {
      "text/plain": [
       "<Axes: xlabel='minute_1', ylabel='Count'>"
      ]
     },
     "execution_count": 70,
     "metadata": {},
     "output_type": "execute_result"
    },
    {
     "data": {
      "image/png": "[encoded data removed]",
      "text/plain": [
       "<Figure size 640x480 with 1 Axes>"
      ]
     },
     "metadata": {},
     "output_type": "display_data"
    }
   ],
   "source": [
    "df_dot['minute_1'] = df_dot['minute_1'].astype(int)\n",
    "sns.histplot(data=df_dot, x='minute_1')"
   ]
  },
  {
   "cell_type": "code",
   "execution_count": 71,
   "id": "791be493",
   "metadata": {},
   "outputs": [],
   "source": [
    "df_dot['minute_1'] = df_dot['minute_1'].apply(lambda x: np.nan if x>9 else x)"
   ]
  },
  {
   "cell_type": "code",
   "execution_count": 72,
   "id": "5e58d79b",
   "metadata": {},
   "outputs": [
    {
     "data": {
      "text/plain": [
       "<Axes: xlabel='minute_2', ylabel='Count'>"
      ]
     },
     "execution_count": 72,
     "metadata": {},
     "output_type": "execute_result"
    },
    {
     "data": {
      "image/png": "[encoded data removed]",
      "text/plain": [
       "<Figure size 640x480 with 1 Axes>"
      ]
     },
     "metadata": {},
     "output_type": "display_data"
    }
   ],
   "source": [
    "df_dot['minute_2'] = df_dot['minute_2'].astype(int)\n",
    "sns.histplot(data=df_dot, x='minute_2')"
   ]
  },
  {
   "cell_type": "code",
   "execution_count": 73,
   "id": "09166ea1",
   "metadata": {},
   "outputs": [],
   "source": [
    "df_dot['minute_2'] = df_dot['minute_2'].apply(lambda x: np.nan if x>9 else x)"
   ]
  },
  {
   "cell_type": "code",
   "execution_count": 74,
   "id": "5481550c",
   "metadata": {},
   "outputs": [
    {
     "name": "stdout",
     "output_type": "stream",
     "text": [
      "7337\n"
     ]
    },
    {
     "data": {
      "text/html": [
       "<div>\n",
       "<style scoped>\n",
       "    .dataframe tbody tr th:only-of-type {\n",
       "        vertical-align: middle;\n",
       "    }\n",
       "\n",
       "    .dataframe tbody tr th {\n",
       "        vertical-align: top;\n",
       "    }\n",
       "\n",
       "    .dataframe thead th {\n",
       "        text-align: right;\n",
       "    }\n",
       "</style>\n",
       "<table border=\"1\" class=\"dataframe\">\n",
       "  <thead>\n",
       "    <tr style=\"text-align: right;\">\n",
       "      <th></th>\n",
       "      <th>minute</th>\n",
       "      <th>minute_1</th>\n",
       "      <th>minute_2</th>\n",
       "    </tr>\n",
       "  </thead>\n",
       "  <tbody>\n",
       "    <tr>\n",
       "      <th>520947</th>\n",
       "      <td>8.0</td>\n",
       "      <td>0.0</td>\n",
       "      <td>8.0</td>\n",
       "    </tr>\n",
       "    <tr>\n",
       "      <th>537636</th>\n",
       "      <td>NaN</td>\n",
       "      <td>NaN</td>\n",
       "      <td>9.0</td>\n",
       "    </tr>\n",
       "    <tr>\n",
       "      <th>538646</th>\n",
       "      <td>NaN</td>\n",
       "      <td>8.0</td>\n",
       "      <td>NaN</td>\n",
       "    </tr>\n",
       "    <tr>\n",
       "      <th>535166</th>\n",
       "      <td>NaN</td>\n",
       "      <td>9.0</td>\n",
       "      <td>0.0</td>\n",
       "    </tr>\n",
       "    <tr>\n",
       "      <th>539312</th>\n",
       "      <td>0.0</td>\n",
       "      <td>0.0</td>\n",
       "      <td>0.0</td>\n",
       "    </tr>\n",
       "    <tr>\n",
       "      <th>537642</th>\n",
       "      <td>NaN</td>\n",
       "      <td>0.0</td>\n",
       "      <td>NaN</td>\n",
       "    </tr>\n",
       "    <tr>\n",
       "      <th>535315</th>\n",
       "      <td>NaN</td>\n",
       "      <td>9.0</td>\n",
       "      <td>8.0</td>\n",
       "    </tr>\n",
       "    <tr>\n",
       "      <th>522609</th>\n",
       "      <td>NaN</td>\n",
       "      <td>1.0</td>\n",
       "      <td>NaN</td>\n",
       "    </tr>\n",
       "    <tr>\n",
       "      <th>537546</th>\n",
       "      <td>NaN</td>\n",
       "      <td>NaN</td>\n",
       "      <td>8.0</td>\n",
       "    </tr>\n",
       "    <tr>\n",
       "      <th>536917</th>\n",
       "      <td>NaN</td>\n",
       "      <td>8.0</td>\n",
       "      <td>8.0</td>\n",
       "    </tr>\n",
       "  </tbody>\n",
       "</table>\n",
       "</div>"
      ],
      "text/plain": [
       "        minute  minute_1  minute_2\n",
       "520947     8.0       0.0       8.0\n",
       "537636     NaN       NaN       9.0\n",
       "538646     NaN       8.0       NaN\n",
       "535166     NaN       9.0       0.0\n",
       "539312     0.0       0.0       0.0\n",
       "537642     NaN       0.0       NaN\n",
       "535315     NaN       9.0       8.0\n",
       "522609     NaN       1.0       NaN\n",
       "537546     NaN       NaN       8.0\n",
       "536917     NaN       8.0       8.0"
      ]
     },
     "execution_count": 74,
     "metadata": {},
     "output_type": "execute_result"
    }
   ],
   "source": [
    "df_dot_mincheck = df_dot[~pd.isna(df_dot['minute_1'])]\n",
    "df_dot_mincheck = df_dot_mincheck[~pd.isna(df_dot_mincheck['minute_2'])]\n",
    "df_dot_mincheck['minute'] = df_dot_mincheck['minute_1'].astype(int).astype(str) + df_dot_mincheck['minute_2'].astype(int).astype(str)\n",
    "df_dot_mincheck['minute'] = df_dot_mincheck['minute'].astype(int)\n",
    "df_dot_mincheck['minute'] = df_dot_mincheck['minute'].apply(lambda x: np.nan if x>59 else x)\n",
    "df_dot_nullmin = df_dot.loc[pd.isna(df_dot['minute_1']) | pd.isna(df_dot['minute_2'])]\n",
    "df_dot_nullmin = df_dot_nullmin.copy(deep=True)\n",
    "df_dot_nullmin['minute'] = np.nan\n",
    "df_dot = pd.concat([df_dot_mincheck, df_dot_nullmin])\n",
    "print(len(df_dot))\n",
    "df_dot[['minute', 'minute_1', 'minute_2']].sample(10)"
   ]
  },
  {
   "cell_type": "markdown",
   "id": "5562f858",
   "metadata": {},
   "source": [
    "second:"
   ]
  },
  {
   "cell_type": "code",
   "execution_count": 75,
   "id": "4dc582e9",
   "metadata": {},
   "outputs": [
    {
     "data": {
      "text/plain": [
       "<Axes: xlabel='second_1', ylabel='Count'>"
      ]
     },
     "execution_count": 75,
     "metadata": {},
     "output_type": "execute_result"
    },
    {
     "data": {
      "image/png": "[encoded data removed]",
      "text/plain": [
       "<Figure size 640x480 with 1 Axes>"
      ]
     },
     "metadata": {},
     "output_type": "display_data"
    }
   ],
   "source": [
    "df_dot['second_1'] = df_dot['second_1'].astype(int)\n",
    "sns.histplot(data=df_dot, x='second_1')"
   ]
  },
  {
   "cell_type": "code",
   "execution_count": 76,
   "id": "ecbbafa0",
   "metadata": {},
   "outputs": [],
   "source": [
    "df_dot['second_1'] = df_dot['second_1'].apply(lambda x: np.nan if x>9 else x)"
   ]
  },
  {
   "cell_type": "code",
   "execution_count": 77,
   "id": "0d6331df",
   "metadata": {},
   "outputs": [
    {
     "data": {
      "text/plain": [
       "<Axes: xlabel='second_2', ylabel='Count'>"
      ]
     },
     "execution_count": 77,
     "metadata": {},
     "output_type": "execute_result"
    },
    {
     "data": {
      "image/png": "[encoded data removed]",
      "text/plain": [
       "<Figure size 640x480 with 1 Axes>"
      ]
     },
     "metadata": {},
     "output_type": "display_data"
    }
   ],
   "source": [
    "df_dot['second_2'] = df_dot['second_2'].astype(int)\n",
    "sns.histplot(data=df_dot, x='second_2')"
   ]
  },
  {
   "cell_type": "code",
   "execution_count": 78,
   "id": "f049339a",
   "metadata": {},
   "outputs": [],
   "source": [
    "df_dot['second_2'] = df_dot['second_2'].apply(lambda x: np.nan if x>9 else x)"
   ]
  },
  {
   "cell_type": "code",
   "execution_count": 79,
   "id": "c7c151dc",
   "metadata": {},
   "outputs": [
    {
     "name": "stdout",
     "output_type": "stream",
     "text": [
      "7337\n"
     ]
    },
    {
     "data": {
      "text/html": [
       "<div>\n",
       "<style scoped>\n",
       "    .dataframe tbody tr th:only-of-type {\n",
       "        vertical-align: middle;\n",
       "    }\n",
       "\n",
       "    .dataframe tbody tr th {\n",
       "        vertical-align: top;\n",
       "    }\n",
       "\n",
       "    .dataframe thead th {\n",
       "        text-align: right;\n",
       "    }\n",
       "</style>\n",
       "<table border=\"1\" class=\"dataframe\">\n",
       "  <thead>\n",
       "    <tr style=\"text-align: right;\">\n",
       "      <th></th>\n",
       "      <th>second</th>\n",
       "      <th>second_1</th>\n",
       "      <th>second_2</th>\n",
       "    </tr>\n",
       "  </thead>\n",
       "  <tbody>\n",
       "    <tr>\n",
       "      <th>533887</th>\n",
       "      <td>NaN</td>\n",
       "      <td>8.0</td>\n",
       "      <td>0.0</td>\n",
       "    </tr>\n",
       "    <tr>\n",
       "      <th>449372</th>\n",
       "      <td>NaN</td>\n",
       "      <td>8.0</td>\n",
       "      <td>0.0</td>\n",
       "    </tr>\n",
       "    <tr>\n",
       "      <th>519811</th>\n",
       "      <td>0.0</td>\n",
       "      <td>0.0</td>\n",
       "      <td>0.0</td>\n",
       "    </tr>\n",
       "    <tr>\n",
       "      <th>535886</th>\n",
       "      <td>NaN</td>\n",
       "      <td>8.0</td>\n",
       "      <td>9.0</td>\n",
       "    </tr>\n",
       "    <tr>\n",
       "      <th>520982</th>\n",
       "      <td>NaN</td>\n",
       "      <td>NaN</td>\n",
       "      <td>0.0</td>\n",
       "    </tr>\n",
       "    <tr>\n",
       "      <th>519834</th>\n",
       "      <td>NaN</td>\n",
       "      <td>NaN</td>\n",
       "      <td>0.0</td>\n",
       "    </tr>\n",
       "    <tr>\n",
       "      <th>521595</th>\n",
       "      <td>NaN</td>\n",
       "      <td>9.0</td>\n",
       "      <td>0.0</td>\n",
       "    </tr>\n",
       "    <tr>\n",
       "      <th>520083</th>\n",
       "      <td>NaN</td>\n",
       "      <td>NaN</td>\n",
       "      <td>0.0</td>\n",
       "    </tr>\n",
       "    <tr>\n",
       "      <th>531857</th>\n",
       "      <td>NaN</td>\n",
       "      <td>8.0</td>\n",
       "      <td>0.0</td>\n",
       "    </tr>\n",
       "    <tr>\n",
       "      <th>523432</th>\n",
       "      <td>NaN</td>\n",
       "      <td>8.0</td>\n",
       "      <td>8.0</td>\n",
       "    </tr>\n",
       "  </tbody>\n",
       "</table>\n",
       "</div>"
      ],
      "text/plain": [
       "        second  second_1  second_2\n",
       "533887     NaN       8.0       0.0\n",
       "449372     NaN       8.0       0.0\n",
       "519811     0.0       0.0       0.0\n",
       "535886     NaN       8.0       9.0\n",
       "520982     NaN       NaN       0.0\n",
       "519834     NaN       NaN       0.0\n",
       "521595     NaN       9.0       0.0\n",
       "520083     NaN       NaN       0.0\n",
       "531857     NaN       8.0       0.0\n",
       "523432     NaN       8.0       8.0"
      ]
     },
     "execution_count": 79,
     "metadata": {},
     "output_type": "execute_result"
    }
   ],
   "source": [
    "df_dot_seccheck = df_dot[~pd.isna(df_dot['second_1'])]\n",
    "df_dot_seccheck = df_dot_seccheck[~pd.isna(df_dot_seccheck['second_2'])]\n",
    "df_dot_seccheck['second'] = df_dot_seccheck['second_1'].astype(int).astype(str) + df_dot_seccheck['second_2'].astype(int).astype(str)\n",
    "df_dot_seccheck['second'] = df_dot_seccheck['second'].astype(int)\n",
    "df_dot_seccheck['second'] = df_dot_seccheck['second'].apply(lambda x: np.nan if x>59 else x)\n",
    "df_dot_nullsec = df_dot.loc[pd.isna(df_dot['second_1']) | pd.isna(df_dot['second_2'])]\n",
    "df_dot_nullsec = df_dot_nullsec.copy(deep=True)\n",
    "df_dot_nullsec['second'] = np.nan\n",
    "df_dot = pd.concat([df_dot_seccheck, df_dot_nullsec])\n",
    "print(len(df_dot))\n",
    "df_dot[['second', 'second_1', 'second_2']].sample(10)"
   ]
  },
  {
   "cell_type": "markdown",
   "id": "1843ad40",
   "metadata": {},
   "source": [
    "construct timestamp:"
   ]
  },
  {
   "cell_type": "code",
   "execution_count": 80,
   "id": "ba7928bb",
   "metadata": {},
   "outputs": [
    {
     "name": "stdout",
     "output_type": "stream",
     "text": [
      "7337\n"
     ]
    }
   ],
   "source": [
    "df_dot = construct_timestamp(df_in=df_dot)\n",
    "print(len(df_dot))"
   ]
  },
  {
   "cell_type": "code",
   "execution_count": 81,
   "id": "05fc3b74",
   "metadata": {},
   "outputs": [
    {
     "data": {
      "text/html": [
       "<div>\n",
       "<style scoped>\n",
       "    .dataframe tbody tr th:only-of-type {\n",
       "        vertical-align: middle;\n",
       "    }\n",
       "\n",
       "    .dataframe tbody tr th {\n",
       "        vertical-align: top;\n",
       "    }\n",
       "\n",
       "    .dataframe thead th {\n",
       "        text-align: right;\n",
       "    }\n",
       "</style>\n",
       "<table border=\"1\" class=\"dataframe\">\n",
       "  <thead>\n",
       "    <tr style=\"text-align: right;\">\n",
       "      <th></th>\n",
       "      <th>year</th>\n",
       "      <th>month</th>\n",
       "      <th>day</th>\n",
       "      <th>hour</th>\n",
       "      <th>minute</th>\n",
       "      <th>second</th>\n",
       "      <th>Timestamp</th>\n",
       "      <th>time_quality</th>\n",
       "    </tr>\n",
       "  </thead>\n",
       "  <tbody>\n",
       "    <tr>\n",
       "      <th>523746</th>\n",
       "      <td>1963.0</td>\n",
       "      <td>06</td>\n",
       "      <td>30</td>\n",
       "      <td>NaN</td>\n",
       "      <td>8.0</td>\n",
       "      <td>NaN</td>\n",
       "      <td>1963-06-30 00:00:00</td>\n",
       "      <td>4</td>\n",
       "    </tr>\n",
       "    <tr>\n",
       "      <th>528056</th>\n",
       "      <td>NaN</td>\n",
       "      <td>NaN</td>\n",
       "      <td>NaN</td>\n",
       "      <td>1.0</td>\n",
       "      <td>1.0</td>\n",
       "      <td>NaN</td>\n",
       "      <td>NaT</td>\n",
       "      <td>0</td>\n",
       "    </tr>\n",
       "    <tr>\n",
       "      <th>538630</th>\n",
       "      <td>1963.0</td>\n",
       "      <td>06</td>\n",
       "      <td>29</td>\n",
       "      <td>NaN</td>\n",
       "      <td>1.0</td>\n",
       "      <td>NaN</td>\n",
       "      <td>1963-06-29 00:00:00</td>\n",
       "      <td>4</td>\n",
       "    </tr>\n",
       "    <tr>\n",
       "      <th>460775</th>\n",
       "      <td>NaN</td>\n",
       "      <td>NaN</td>\n",
       "      <td>NaN</td>\n",
       "      <td>NaN</td>\n",
       "      <td>NaN</td>\n",
       "      <td>NaN</td>\n",
       "      <td>NaT</td>\n",
       "      <td>0</td>\n",
       "    </tr>\n",
       "    <tr>\n",
       "      <th>448506</th>\n",
       "      <td>1963.0</td>\n",
       "      <td>07</td>\n",
       "      <td>07</td>\n",
       "      <td>NaN</td>\n",
       "      <td>NaN</td>\n",
       "      <td>NaN</td>\n",
       "      <td>1963-07-07 00:00:00</td>\n",
       "      <td>4</td>\n",
       "    </tr>\n",
       "    <tr>\n",
       "      <th>521002</th>\n",
       "      <td>1962.0</td>\n",
       "      <td>10</td>\n",
       "      <td>15</td>\n",
       "      <td>NaN</td>\n",
       "      <td>8.0</td>\n",
       "      <td>NaN</td>\n",
       "      <td>1962-10-15 00:00:00</td>\n",
       "      <td>4</td>\n",
       "    </tr>\n",
       "    <tr>\n",
       "      <th>519651</th>\n",
       "      <td>NaN</td>\n",
       "      <td>NaN</td>\n",
       "      <td>NaN</td>\n",
       "      <td>NaN</td>\n",
       "      <td>NaN</td>\n",
       "      <td>NaN</td>\n",
       "      <td>NaT</td>\n",
       "      <td>0</td>\n",
       "    </tr>\n",
       "    <tr>\n",
       "      <th>523727</th>\n",
       "      <td>NaN</td>\n",
       "      <td>NaN</td>\n",
       "      <td>NaN</td>\n",
       "      <td>10.0</td>\n",
       "      <td>8.0</td>\n",
       "      <td>NaN</td>\n",
       "      <td>NaT</td>\n",
       "      <td>0</td>\n",
       "    </tr>\n",
       "    <tr>\n",
       "      <th>449411</th>\n",
       "      <td>1963.0</td>\n",
       "      <td>06</td>\n",
       "      <td>29</td>\n",
       "      <td>1.0</td>\n",
       "      <td>NaN</td>\n",
       "      <td>NaN</td>\n",
       "      <td>1963-06-29 01:00:00</td>\n",
       "      <td>3</td>\n",
       "    </tr>\n",
       "    <tr>\n",
       "      <th>523847</th>\n",
       "      <td>1963.0</td>\n",
       "      <td>06</td>\n",
       "      <td>29</td>\n",
       "      <td>NaN</td>\n",
       "      <td>NaN</td>\n",
       "      <td>NaN</td>\n",
       "      <td>1963-06-29 00:00:00</td>\n",
       "      <td>4</td>\n",
       "    </tr>\n",
       "  </tbody>\n",
       "</table>\n",
       "</div>"
      ],
      "text/plain": [
       "          year month  day  hour  minute  second           Timestamp  \\\n",
       "523746  1963.0    06   30   NaN     8.0     NaN 1963-06-30 00:00:00   \n",
       "528056     NaN   NaN  NaN   1.0     1.0     NaN                 NaT   \n",
       "538630  1963.0    06   29   NaN     1.0     NaN 1963-06-29 00:00:00   \n",
       "460775     NaN   NaN  NaN   NaN     NaN     NaN                 NaT   \n",
       "448506  1963.0    07   07   NaN     NaN     NaN 1963-07-07 00:00:00   \n",
       "521002  1962.0    10   15   NaN     8.0     NaN 1962-10-15 00:00:00   \n",
       "519651     NaN   NaN  NaN   NaN     NaN     NaN                 NaT   \n",
       "523727     NaN   NaN  NaN  10.0     8.0     NaN                 NaT   \n",
       "449411  1963.0    06   29   1.0     NaN     NaN 1963-06-29 01:00:00   \n",
       "523847  1963.0    06   29   NaN     NaN     NaN 1963-06-29 00:00:00   \n",
       "\n",
       "        time_quality  \n",
       "523746             4  \n",
       "528056             0  \n",
       "538630             4  \n",
       "460775             0  \n",
       "448506             4  \n",
       "521002             4  \n",
       "519651             0  \n",
       "523727             0  \n",
       "449411             3  \n",
       "523847             4  "
      ]
     },
     "execution_count": 81,
     "metadata": {},
     "output_type": "execute_result"
    }
   ],
   "source": [
    "df_dot[['year', 'month', 'day', 'hour', 'minute', 'second', 'Timestamp', 'time_quality']].sample(10)"
   ]
  },
  {
   "cell_type": "markdown",
   "id": "81f7c8a4",
   "metadata": {},
   "source": [
    "#  "
   ]
  },
  {
   "cell_type": "markdown",
   "id": "f06711b5",
   "metadata": {},
   "source": [
    "#### Check station number:"
   ]
  },
  {
   "cell_type": "markdown",
   "id": "8178138d",
   "metadata": {},
   "source": [
    "num2:"
   ]
  },
  {
   "cell_type": "code",
   "execution_count": 82,
   "id": "3b34898a",
   "metadata": {},
   "outputs": [
    {
     "data": {
      "text/plain": [
       "<Axes: xlabel='station_number_OCR', ylabel='Count'>"
      ]
     },
     "execution_count": 82,
     "metadata": {},
     "output_type": "execute_result"
    },
    {
     "data": {
      "image/png": "[encoded data removed]",
      "text/plain": [
       "<Figure size 640x480 with 1 Axes>"
      ]
     },
     "metadata": {},
     "output_type": "display_data"
    }
   ],
   "source": [
    "df_num2['station_number_OCR'] = df_num2['station_number_OCR'].astype('float')\n",
    "sns.histplot(data=df_num2, x='station_number_OCR')"
   ]
  },
  {
   "cell_type": "code",
   "execution_count": 83,
   "id": "150b0474",
   "metadata": {},
   "outputs": [
    {
     "data": {
      "text/html": [
       "<div>\n",
       "<style scoped>\n",
       "    .dataframe tbody tr th:only-of-type {\n",
       "        vertical-align: middle;\n",
       "    }\n",
       "\n",
       "    .dataframe tbody tr th {\n",
       "        vertical-align: top;\n",
       "    }\n",
       "\n",
       "    .dataframe thead th {\n",
       "        text-align: right;\n",
       "    }\n",
       "</style>\n",
       "<table border=\"1\" class=\"dataframe\">\n",
       "  <thead>\n",
       "    <tr style=\"text-align: right;\">\n",
       "      <th></th>\n",
       "      <th>station_number</th>\n",
       "      <th>station_number_OCR</th>\n",
       "    </tr>\n",
       "  </thead>\n",
       "  <tbody>\n",
       "    <tr>\n",
       "      <th>272985</th>\n",
       "      <td>43.0</td>\n",
       "      <td>43.0</td>\n",
       "    </tr>\n",
       "    <tr>\n",
       "      <th>332475</th>\n",
       "      <td>21.0</td>\n",
       "      <td>21.0</td>\n",
       "    </tr>\n",
       "    <tr>\n",
       "      <th>303275</th>\n",
       "      <td>50.0</td>\n",
       "      <td>50.0</td>\n",
       "    </tr>\n",
       "    <tr>\n",
       "      <th>89432</th>\n",
       "      <td>3.0</td>\n",
       "      <td>3.0</td>\n",
       "    </tr>\n",
       "    <tr>\n",
       "      <th>89271</th>\n",
       "      <td>3.0</td>\n",
       "      <td>3.0</td>\n",
       "    </tr>\n",
       "    <tr>\n",
       "      <th>100436</th>\n",
       "      <td>69.0</td>\n",
       "      <td>69.0</td>\n",
       "    </tr>\n",
       "    <tr>\n",
       "      <th>360106</th>\n",
       "      <td>50.0</td>\n",
       "      <td>50.0</td>\n",
       "    </tr>\n",
       "    <tr>\n",
       "      <th>25387</th>\n",
       "      <td>50.0</td>\n",
       "      <td>50.0</td>\n",
       "    </tr>\n",
       "    <tr>\n",
       "      <th>394915</th>\n",
       "      <td>43.0</td>\n",
       "      <td>43.0</td>\n",
       "    </tr>\n",
       "    <tr>\n",
       "      <th>331989</th>\n",
       "      <td>19.0</td>\n",
       "      <td>19.0</td>\n",
       "    </tr>\n",
       "  </tbody>\n",
       "</table>\n",
       "</div>"
      ],
      "text/plain": [
       "        station_number  station_number_OCR\n",
       "272985            43.0                43.0\n",
       "332475            21.0                21.0\n",
       "303275            50.0                50.0\n",
       "89432              3.0                 3.0\n",
       "89271              3.0                 3.0\n",
       "100436            69.0                69.0\n",
       "360106            50.0                50.0\n",
       "25387             50.0                50.0\n",
       "394915            43.0                43.0\n",
       "331989            19.0                19.0"
      ]
     },
     "execution_count": 83,
     "metadata": {},
     "output_type": "execute_result"
    }
   ],
   "source": [
    "df_num2['station_number'] = df_num2['station_number_OCR']\n",
    "df_num2[['station_number', 'station_number_OCR']].sample(10)"
   ]
  },
  {
   "cell_type": "markdown",
   "id": "66f42c8e",
   "metadata": {},
   "source": [
    "num:"
   ]
  },
  {
   "cell_type": "code",
   "execution_count": 84,
   "id": "3edf33d2",
   "metadata": {},
   "outputs": [
    {
     "data": {
      "text/plain": [
       "<Axes: xlabel='station_number_1', ylabel='Count'>"
      ]
     },
     "execution_count": 84,
     "metadata": {},
     "output_type": "execute_result"
    },
    {
     "data": {
      "image/png": "[encoded data removed]",
      "text/plain": [
       "<Figure size 640x480 with 1 Axes>"
      ]
     },
     "metadata": {},
     "output_type": "display_data"
    }
   ],
   "source": [
    "df_num['station_number_1'] = df_num['station_number_1'].astype(int)\n",
    "sns.histplot(data=df_num, x='station_number_1')"
   ]
  },
  {
   "cell_type": "code",
   "execution_count": 85,
   "id": "da37c547",
   "metadata": {},
   "outputs": [],
   "source": [
    "df_num['station_number_1'] = df_num['station_number_1'].apply(lambda x: np.nan if x>9 else x)"
   ]
  },
  {
   "cell_type": "code",
   "execution_count": 86,
   "id": "f180be3e",
   "metadata": {},
   "outputs": [
    {
     "data": {
      "text/plain": [
       "<Axes: xlabel='station_number_2', ylabel='Count'>"
      ]
     },
     "execution_count": 86,
     "metadata": {},
     "output_type": "execute_result"
    },
    {
     "data": {
      "image/png": "[encoded data removed]",
      "text/plain": [
       "<Figure size 640x480 with 1 Axes>"
      ]
     },
     "metadata": {},
     "output_type": "display_data"
    }
   ],
   "source": [
    "df_num['station_number_2'] = df_num['station_number_2'].astype(int)\n",
    "sns.histplot(data=df_num, x='station_number_2')"
   ]
  },
  {
   "cell_type": "code",
   "execution_count": 87,
   "id": "584b58b5",
   "metadata": {},
   "outputs": [],
   "source": [
    "df_num['station_number_2'] = df_num['station_number_2'].apply(lambda x: np.nan if x>9 else x)"
   ]
  },
  {
   "cell_type": "code",
   "execution_count": 88,
   "id": "a5967366",
   "metadata": {},
   "outputs": [
    {
     "name": "stdout",
     "output_type": "stream",
     "text": [
      "161109\n"
     ]
    },
    {
     "data": {
      "text/html": [
       "<div>\n",
       "<style scoped>\n",
       "    .dataframe tbody tr th:only-of-type {\n",
       "        vertical-align: middle;\n",
       "    }\n",
       "\n",
       "    .dataframe tbody tr th {\n",
       "        vertical-align: top;\n",
       "    }\n",
       "\n",
       "    .dataframe thead th {\n",
       "        text-align: right;\n",
       "    }\n",
       "</style>\n",
       "<table border=\"1\" class=\"dataframe\">\n",
       "  <thead>\n",
       "    <tr style=\"text-align: right;\">\n",
       "      <th></th>\n",
       "      <th>station_number</th>\n",
       "      <th>station_number_1</th>\n",
       "      <th>station_number_2</th>\n",
       "    </tr>\n",
       "  </thead>\n",
       "  <tbody>\n",
       "    <tr>\n",
       "      <th>542025</th>\n",
       "      <td>10.0</td>\n",
       "      <td>1.0</td>\n",
       "      <td>0.0</td>\n",
       "    </tr>\n",
       "    <tr>\n",
       "      <th>484775</th>\n",
       "      <td>5.0</td>\n",
       "      <td>0.0</td>\n",
       "      <td>5.0</td>\n",
       "    </tr>\n",
       "    <tr>\n",
       "      <th>469347</th>\n",
       "      <td>30.0</td>\n",
       "      <td>3.0</td>\n",
       "      <td>0.0</td>\n",
       "    </tr>\n",
       "    <tr>\n",
       "      <th>410165</th>\n",
       "      <td>0.0</td>\n",
       "      <td>0.0</td>\n",
       "      <td>0.0</td>\n",
       "    </tr>\n",
       "    <tr>\n",
       "      <th>569979</th>\n",
       "      <td>5.0</td>\n",
       "      <td>0.0</td>\n",
       "      <td>5.0</td>\n",
       "    </tr>\n",
       "    <tr>\n",
       "      <th>515607</th>\n",
       "      <td>74.0</td>\n",
       "      <td>7.0</td>\n",
       "      <td>4.0</td>\n",
       "    </tr>\n",
       "    <tr>\n",
       "      <th>62827</th>\n",
       "      <td>0.0</td>\n",
       "      <td>0.0</td>\n",
       "      <td>0.0</td>\n",
       "    </tr>\n",
       "    <tr>\n",
       "      <th>484740</th>\n",
       "      <td>5.0</td>\n",
       "      <td>0.0</td>\n",
       "      <td>5.0</td>\n",
       "    </tr>\n",
       "    <tr>\n",
       "      <th>578167</th>\n",
       "      <td>5.0</td>\n",
       "      <td>0.0</td>\n",
       "      <td>5.0</td>\n",
       "    </tr>\n",
       "    <tr>\n",
       "      <th>561983</th>\n",
       "      <td>13.0</td>\n",
       "      <td>1.0</td>\n",
       "      <td>3.0</td>\n",
       "    </tr>\n",
       "  </tbody>\n",
       "</table>\n",
       "</div>"
      ],
      "text/plain": [
       "        station_number  station_number_1  station_number_2\n",
       "542025            10.0               1.0               0.0\n",
       "484775             5.0               0.0               5.0\n",
       "469347            30.0               3.0               0.0\n",
       "410165             0.0               0.0               0.0\n",
       "569979             5.0               0.0               5.0\n",
       "515607            74.0               7.0               4.0\n",
       "62827              0.0               0.0               0.0\n",
       "484740             5.0               0.0               5.0\n",
       "578167             5.0               0.0               5.0\n",
       "561983            13.0               1.0               3.0"
      ]
     },
     "execution_count": 88,
     "metadata": {},
     "output_type": "execute_result"
    }
   ],
   "source": [
    "df_num_stncheck = df_num[~pd.isna(df_num['station_number_1'])]\n",
    "df_num_stncheck = df_num_stncheck[~pd.isna(df_num_stncheck['station_number_2'])]\n",
    "df_num_stncheck['station_number'] = df_num_stncheck['station_number_1'].astype(int).astype(str) + df_num_stncheck['station_number_2'].astype(int).astype(str)\n",
    "df_num_stncheck['station_number'] = df_num_stncheck['station_number'].astype(int)\n",
    "df_num_nullstn = df_num.loc[pd.isna(df_num['station_number_1']) | pd.isna(df_num['station_number_2'])]\n",
    "df_num_nullstn = df_num_nullstn.copy(deep=True)\n",
    "df_num_nullstn['station_number'] = np.nan\n",
    "df_num = pd.concat([df_num_stncheck, df_num_nullstn])\n",
    "print(len(df_num))\n",
    "df_num[['station_number', 'station_number_1', 'station_number_2']].sample(10)"
   ]
  },
  {
   "cell_type": "markdown",
   "id": "1f2c6758",
   "metadata": {},
   "source": [
    "dot:"
   ]
  },
  {
   "cell_type": "code",
   "execution_count": 89,
   "id": "057d942a",
   "metadata": {},
   "outputs": [
    {
     "data": {
      "text/html": [
       "<div>\n",
       "<style scoped>\n",
       "    .dataframe tbody tr th:only-of-type {\n",
       "        vertical-align: middle;\n",
       "    }\n",
       "\n",
       "    .dataframe tbody tr th {\n",
       "        vertical-align: top;\n",
       "    }\n",
       "\n",
       "    .dataframe thead th {\n",
       "        text-align: right;\n",
       "    }\n",
       "</style>\n",
       "<table border=\"1\" class=\"dataframe\">\n",
       "  <thead>\n",
       "    <tr style=\"text-align: right;\">\n",
       "      <th></th>\n",
       "      <th>station_number</th>\n",
       "    </tr>\n",
       "  </thead>\n",
       "  <tbody>\n",
       "    <tr>\n",
       "      <th>531133</th>\n",
       "      <td>16.0</td>\n",
       "    </tr>\n",
       "    <tr>\n",
       "      <th>532963</th>\n",
       "      <td>8.0</td>\n",
       "    </tr>\n",
       "    <tr>\n",
       "      <th>536952</th>\n",
       "      <td>11.0</td>\n",
       "    </tr>\n",
       "    <tr>\n",
       "      <th>446734</th>\n",
       "      <td>8.0</td>\n",
       "    </tr>\n",
       "    <tr>\n",
       "      <th>531970</th>\n",
       "      <td>20.0</td>\n",
       "    </tr>\n",
       "    <tr>\n",
       "      <th>523357</th>\n",
       "      <td>25.0</td>\n",
       "    </tr>\n",
       "    <tr>\n",
       "      <th>523615</th>\n",
       "      <td>9.0</td>\n",
       "    </tr>\n",
       "    <tr>\n",
       "      <th>459538</th>\n",
       "      <td>10.0</td>\n",
       "    </tr>\n",
       "    <tr>\n",
       "      <th>450477</th>\n",
       "      <td>9.0</td>\n",
       "    </tr>\n",
       "    <tr>\n",
       "      <th>521602</th>\n",
       "      <td>1.0</td>\n",
       "    </tr>\n",
       "  </tbody>\n",
       "</table>\n",
       "</div>"
      ],
      "text/plain": [
       "        station_number\n",
       "531133            16.0\n",
       "532963             8.0\n",
       "536952            11.0\n",
       "446734             8.0\n",
       "531970            20.0\n",
       "523357            25.0\n",
       "523615             9.0\n",
       "459538            10.0\n",
       "450477             9.0\n",
       "521602             1.0"
      ]
     },
     "execution_count": 89,
     "metadata": {},
     "output_type": "execute_result"
    }
   ],
   "source": [
    "df_dot[['station_number']].sample(10)"
   ]
  },
  {
   "cell_type": "markdown",
   "id": "bc69e418",
   "metadata": {},
   "source": [
    "#  "
   ]
  },
  {
   "cell_type": "markdown",
   "id": "31a0e73c",
   "metadata": {},
   "source": [
    "#### Recombine results, save:"
   ]
  },
  {
   "cell_type": "code",
   "execution_count": 90,
   "id": "29bab799",
   "metadata": {},
   "outputs": [
    {
     "name": "stdout",
     "output_type": "stream",
     "text": [
      "600621\n"
     ]
    },
    {
     "data": {
      "text/html": [
       "<div>\n",
       "<style scoped>\n",
       "    .dataframe tbody tr th:only-of-type {\n",
       "        vertical-align: middle;\n",
       "    }\n",
       "\n",
       "    .dataframe tbody tr th {\n",
       "        vertical-align: top;\n",
       "    }\n",
       "\n",
       "    .dataframe thead th {\n",
       "        text-align: right;\n",
       "    }\n",
       "</style>\n",
       "<table border=\"1\" class=\"dataframe\">\n",
       "  <thead>\n",
       "    <tr style=\"text-align: right;\">\n",
       "      <th></th>\n",
       "      <th>Directory</th>\n",
       "      <th>Subdirectory</th>\n",
       "      <th>filename</th>\n",
       "      <th>processed_image_class</th>\n",
       "      <th>fmin</th>\n",
       "      <th>max_depth</th>\n",
       "      <th>station_number</th>\n",
       "      <th>station_number_1</th>\n",
       "      <th>station_number_2</th>\n",
       "      <th>year_1</th>\n",
       "      <th>...</th>\n",
       "      <th>year</th>\n",
       "      <th>day_of_year</th>\n",
       "      <th>hour</th>\n",
       "      <th>minute</th>\n",
       "      <th>second</th>\n",
       "      <th>time_quality</th>\n",
       "      <th>month_day</th>\n",
       "      <th>month</th>\n",
       "      <th>day</th>\n",
       "      <th>Timestamp</th>\n",
       "    </tr>\n",
       "  </thead>\n",
       "  <tbody>\n",
       "    <tr>\n",
       "      <th>481236</th>\n",
       "      <td>R014207945</td>\n",
       "      <td>2286-3A</td>\n",
       "      <td>107.png</td>\n",
       "      <td>outlier</td>\n",
       "      <td>NaN</td>\n",
       "      <td>NaN</td>\n",
       "      <td>NaN</td>\n",
       "      <td>NaN</td>\n",
       "      <td>NaN</td>\n",
       "      <td>NaN</td>\n",
       "      <td>...</td>\n",
       "      <td>NaN</td>\n",
       "      <td>NaN</td>\n",
       "      <td>NaN</td>\n",
       "      <td>NaN</td>\n",
       "      <td>NaN</td>\n",
       "      <td>NaN</td>\n",
       "      <td>NaN</td>\n",
       "      <td>NaN</td>\n",
       "      <td>NaN</td>\n",
       "      <td>NaT</td>\n",
       "    </tr>\n",
       "    <tr>\n",
       "      <th>567419</th>\n",
       "      <td>R014207969</td>\n",
       "      <td>1289-13B</td>\n",
       "      <td>175.png</td>\n",
       "      <td>num</td>\n",
       "      <td>1.657258</td>\n",
       "      <td>1051.923077</td>\n",
       "      <td>13.0</td>\n",
       "      <td>1.0</td>\n",
       "      <td>3.0</td>\n",
       "      <td>3.0</td>\n",
       "      <td>...</td>\n",
       "      <td>1965.0</td>\n",
       "      <td>262.0</td>\n",
       "      <td>5.0</td>\n",
       "      <td>30.0</td>\n",
       "      <td>46.0</td>\n",
       "      <td>1.0</td>\n",
       "      <td>09-19</td>\n",
       "      <td>09</td>\n",
       "      <td>19</td>\n",
       "      <td>1965-09-19 05:30:46</td>\n",
       "    </tr>\n",
       "    <tr>\n",
       "      <th>400282</th>\n",
       "      <td>R014207839</td>\n",
       "      <td>4127-50</td>\n",
       "      <td>134.png</td>\n",
       "      <td>num2</td>\n",
       "      <td>1.572581</td>\n",
       "      <td>1146.000000</td>\n",
       "      <td>50.0</td>\n",
       "      <td>NaN</td>\n",
       "      <td>NaN</td>\n",
       "      <td>NaN</td>\n",
       "      <td>...</td>\n",
       "      <td>1967.0</td>\n",
       "      <td>250.0</td>\n",
       "      <td>5.0</td>\n",
       "      <td>39.0</td>\n",
       "      <td>11.0</td>\n",
       "      <td>1.0</td>\n",
       "      <td>09-07</td>\n",
       "      <td>09</td>\n",
       "      <td>07</td>\n",
       "      <td>1967-09-07 05:39:11</td>\n",
       "    </tr>\n",
       "    <tr>\n",
       "      <th>237498</th>\n",
       "      <td>R014207829</td>\n",
       "      <td>4273-53A</td>\n",
       "      <td>83.png</td>\n",
       "      <td>loss</td>\n",
       "      <td>1.500000</td>\n",
       "      <td>1198.076923</td>\n",
       "      <td>NaN</td>\n",
       "      <td>NaN</td>\n",
       "      <td>NaN</td>\n",
       "      <td>NaN</td>\n",
       "      <td>...</td>\n",
       "      <td>NaN</td>\n",
       "      <td>NaN</td>\n",
       "      <td>NaN</td>\n",
       "      <td>NaN</td>\n",
       "      <td>NaN</td>\n",
       "      <td>NaN</td>\n",
       "      <td>NaN</td>\n",
       "      <td>NaN</td>\n",
       "      <td>NaN</td>\n",
       "      <td>NaT</td>\n",
       "    </tr>\n",
       "    <tr>\n",
       "      <th>550322</th>\n",
       "      <td>R014207963</td>\n",
       "      <td>1538-5A</td>\n",
       "      <td>110.png</td>\n",
       "      <td>num</td>\n",
       "      <td>1.500000</td>\n",
       "      <td>1386.538462</td>\n",
       "      <td>5.0</td>\n",
       "      <td>0.0</td>\n",
       "      <td>5.0</td>\n",
       "      <td>4.0</td>\n",
       "      <td>...</td>\n",
       "      <td>1966.0</td>\n",
       "      <td>76.0</td>\n",
       "      <td>0.0</td>\n",
       "      <td>34.0</td>\n",
       "      <td>4.0</td>\n",
       "      <td>1.0</td>\n",
       "      <td>03-17</td>\n",
       "      <td>03</td>\n",
       "      <td>17</td>\n",
       "      <td>1966-03-17 00:34:04</td>\n",
       "    </tr>\n",
       "    <tr>\n",
       "      <th>516654</th>\n",
       "      <td>R014207952</td>\n",
       "      <td>2758-4A</td>\n",
       "      <td>70.png</td>\n",
       "      <td>num</td>\n",
       "      <td>1.669355</td>\n",
       "      <td>1385.964912</td>\n",
       "      <td>54.0</td>\n",
       "      <td>5.0</td>\n",
       "      <td>4.0</td>\n",
       "      <td>0.0</td>\n",
       "      <td>...</td>\n",
       "      <td>1962.0</td>\n",
       "      <td>251.0</td>\n",
       "      <td>11.0</td>\n",
       "      <td>42.0</td>\n",
       "      <td>NaN</td>\n",
       "      <td>2.0</td>\n",
       "      <td>09-08</td>\n",
       "      <td>09</td>\n",
       "      <td>08</td>\n",
       "      <td>1962-09-08 11:42:00</td>\n",
       "    </tr>\n",
       "    <tr>\n",
       "      <th>488265</th>\n",
       "      <td>R014207950</td>\n",
       "      <td>2489-8-A</td>\n",
       "      <td>94.png</td>\n",
       "      <td>num</td>\n",
       "      <td>1.604839</td>\n",
       "      <td>1482.000000</td>\n",
       "      <td>8.0</td>\n",
       "      <td>0.0</td>\n",
       "      <td>8.0</td>\n",
       "      <td>4.0</td>\n",
       "      <td>...</td>\n",
       "      <td>1966.0</td>\n",
       "      <td>216.0</td>\n",
       "      <td>22.0</td>\n",
       "      <td>6.0</td>\n",
       "      <td>38.0</td>\n",
       "      <td>1.0</td>\n",
       "      <td>08-04</td>\n",
       "      <td>08</td>\n",
       "      <td>04</td>\n",
       "      <td>1966-08-04 22:06:38</td>\n",
       "    </tr>\n",
       "    <tr>\n",
       "      <th>299223</th>\n",
       "      <td>R014207833</td>\n",
       "      <td>4369-50A</td>\n",
       "      <td>230.png</td>\n",
       "      <td>num2</td>\n",
       "      <td>1.733871</td>\n",
       "      <td>2137.500000</td>\n",
       "      <td>50.0</td>\n",
       "      <td>NaN</td>\n",
       "      <td>NaN</td>\n",
       "      <td>NaN</td>\n",
       "      <td>...</td>\n",
       "      <td>1968.0</td>\n",
       "      <td>41.0</td>\n",
       "      <td>10.0</td>\n",
       "      <td>45.0</td>\n",
       "      <td>17.0</td>\n",
       "      <td>1.0</td>\n",
       "      <td>02-10</td>\n",
       "      <td>02</td>\n",
       "      <td>10</td>\n",
       "      <td>1968-02-10 10:45:17</td>\n",
       "    </tr>\n",
       "    <tr>\n",
       "      <th>388503</th>\n",
       "      <td>R014207839</td>\n",
       "      <td>4089-43A</td>\n",
       "      <td>83.png</td>\n",
       "      <td>num2</td>\n",
       "      <td>1.500000</td>\n",
       "      <td>2002.941176</td>\n",
       "      <td>43.0</td>\n",
       "      <td>NaN</td>\n",
       "      <td>NaN</td>\n",
       "      <td>NaN</td>\n",
       "      <td>...</td>\n",
       "      <td>1967.0</td>\n",
       "      <td>169.0</td>\n",
       "      <td>6.0</td>\n",
       "      <td>7.0</td>\n",
       "      <td>1.0</td>\n",
       "      <td>1.0</td>\n",
       "      <td>06-18</td>\n",
       "      <td>06</td>\n",
       "      <td>18</td>\n",
       "      <td>1967-06-18 06:07:01</td>\n",
       "    </tr>\n",
       "    <tr>\n",
       "      <th>329395</th>\n",
       "      <td>R014207835</td>\n",
       "      <td>4061-19A</td>\n",
       "      <td>62.png</td>\n",
       "      <td>num2</td>\n",
       "      <td>8.500000</td>\n",
       "      <td>1380.851064</td>\n",
       "      <td>19.0</td>\n",
       "      <td>NaN</td>\n",
       "      <td>NaN</td>\n",
       "      <td>NaN</td>\n",
       "      <td>...</td>\n",
       "      <td>1967.0</td>\n",
       "      <td>85.0</td>\n",
       "      <td>1.0</td>\n",
       "      <td>34.0</td>\n",
       "      <td>7.0</td>\n",
       "      <td>1.0</td>\n",
       "      <td>03-26</td>\n",
       "      <td>03</td>\n",
       "      <td>26</td>\n",
       "      <td>1967-03-26 01:34:07</td>\n",
       "    </tr>\n",
       "  </tbody>\n",
       "</table>\n",
       "<p>10 rows × 40 columns</p>\n",
       "</div>"
      ],
      "text/plain": [
       "         Directory Subdirectory filename processed_image_class      fmin  \\\n",
       "481236  R014207945      2286-3A  107.png               outlier       NaN   \n",
       "567419  R014207969     1289-13B  175.png                   num  1.657258   \n",
       "400282  R014207839      4127-50  134.png                  num2  1.572581   \n",
       "237498  R014207829     4273-53A   83.png                  loss  1.500000   \n",
       "550322  R014207963      1538-5A  110.png                   num  1.500000   \n",
       "516654  R014207952      2758-4A   70.png                   num  1.669355   \n",
       "488265  R014207950     2489-8-A   94.png                   num  1.604839   \n",
       "299223  R014207833     4369-50A  230.png                  num2  1.733871   \n",
       "388503  R014207839     4089-43A   83.png                  num2  1.500000   \n",
       "329395  R014207835     4061-19A   62.png                  num2  8.500000   \n",
       "\n",
       "          max_depth  station_number  station_number_1  station_number_2  \\\n",
       "481236          NaN             NaN               NaN               NaN   \n",
       "567419  1051.923077            13.0               1.0               3.0   \n",
       "400282  1146.000000            50.0               NaN               NaN   \n",
       "237498  1198.076923             NaN               NaN               NaN   \n",
       "550322  1386.538462             5.0               0.0               5.0   \n",
       "516654  1385.964912            54.0               5.0               4.0   \n",
       "488265  1482.000000             8.0               0.0               8.0   \n",
       "299223  2137.500000            50.0               NaN               NaN   \n",
       "388503  2002.941176            43.0               NaN               NaN   \n",
       "329395  1380.851064            19.0               NaN               NaN   \n",
       "\n",
       "        year_1  ...    year  day_of_year  hour  minute  second  time_quality  \\\n",
       "481236     NaN  ...     NaN          NaN   NaN     NaN     NaN           NaN   \n",
       "567419     3.0  ...  1965.0        262.0   5.0    30.0    46.0           1.0   \n",
       "400282     NaN  ...  1967.0        250.0   5.0    39.0    11.0           1.0   \n",
       "237498     NaN  ...     NaN          NaN   NaN     NaN     NaN           NaN   \n",
       "550322     4.0  ...  1966.0         76.0   0.0    34.0     4.0           1.0   \n",
       "516654     0.0  ...  1962.0        251.0  11.0    42.0     NaN           2.0   \n",
       "488265     4.0  ...  1966.0        216.0  22.0     6.0    38.0           1.0   \n",
       "299223     NaN  ...  1968.0         41.0  10.0    45.0    17.0           1.0   \n",
       "388503     NaN  ...  1967.0        169.0   6.0     7.0     1.0           1.0   \n",
       "329395     NaN  ...  1967.0         85.0   1.0    34.0     7.0           1.0   \n",
       "\n",
       "        month_day  month  day           Timestamp  \n",
       "481236        NaN    NaN  NaN                 NaT  \n",
       "567419      09-19     09   19 1965-09-19 05:30:46  \n",
       "400282      09-07     09   07 1967-09-07 05:39:11  \n",
       "237498        NaN    NaN  NaN                 NaT  \n",
       "550322      03-17     03   17 1966-03-17 00:34:04  \n",
       "516654      09-08     09   08 1962-09-08 11:42:00  \n",
       "488265      08-04     08   04 1966-08-04 22:06:38  \n",
       "299223      02-10     02   10 1968-02-10 10:45:17  \n",
       "388503      06-18     06   18 1967-06-18 06:07:01  \n",
       "329395      03-26     03   26 1967-03-26 01:34:07  \n",
       "\n",
       "[10 rows x 40 columns]"
      ]
     },
     "execution_count": 90,
     "metadata": {},
     "output_type": "execute_result"
    }
   ],
   "source": [
    "df_result2 = pd.concat([df_num2, df_num, df_dot, df_outlier, df_loss])\n",
    "print(len(df_result2))\n",
    "df_result2.sample(10)"
   ]
  },
  {
   "cell_type": "markdown",
   "id": "fdf24ed0",
   "metadata": {},
   "source": [
    "Save:"
   ]
  },
  {
   "cell_type": "code",
   "execution_count": 91,
   "id": "39adb1e3",
   "metadata": {},
   "outputs": [],
   "source": [
    "df_result2.to_csv(resultDir + 'result_postprocess_raw.csv', index=False)"
   ]
  },
  {
   "cell_type": "markdown",
   "id": "cfbd114a",
   "metadata": {},
   "source": [
    "#  "
   ]
  },
  {
   "cell_type": "markdown",
   "id": "dd4a6bef",
   "metadata": {},
   "source": [
    "#### Retrieve station details:"
   ]
  },
  {
   "cell_type": "code",
   "execution_count": 92,
   "id": "8ba4668b",
   "metadata": {},
   "outputs": [
    {
     "data": {
      "text/html": [
       "<div>\n",
       "<style scoped>\n",
       "    .dataframe tbody tr th:only-of-type {\n",
       "        vertical-align: middle;\n",
       "    }\n",
       "\n",
       "    .dataframe tbody tr th {\n",
       "        vertical-align: top;\n",
       "    }\n",
       "\n",
       "    .dataframe thead th {\n",
       "        text-align: right;\n",
       "    }\n",
       "</style>\n",
       "<table border=\"1\" class=\"dataframe\">\n",
       "  <thead>\n",
       "    <tr style=\"text-align: right;\">\n",
       "      <th></th>\n",
       "      <th>Station_Number</th>\n",
       "      <th>Station_Code</th>\n",
       "      <th>Station_Name</th>\n",
       "      <th>Start_Date</th>\n",
       "      <th>Notes</th>\n",
       "    </tr>\n",
       "  </thead>\n",
       "  <tbody>\n",
       "    <tr>\n",
       "      <th>0</th>\n",
       "      <td>1</td>\n",
       "      <td>RES</td>\n",
       "      <td>Resolute Bay, NT, Canada</td>\n",
       "      <td>1962-09-29</td>\n",
       "      <td>Assumed start date at launch.</td>\n",
       "    </tr>\n",
       "    <tr>\n",
       "      <th>1</th>\n",
       "      <td>1</td>\n",
       "      <td>BPT</td>\n",
       "      <td>Blossom Point, MD, USA</td>\n",
       "      <td>1965-07-01</td>\n",
       "      <td>NaN</td>\n",
       "    </tr>\n",
       "    <tr>\n",
       "      <th>2</th>\n",
       "      <td>2</td>\n",
       "      <td>PRI</td>\n",
       "      <td>Prince Albert, SK, Canada</td>\n",
       "      <td>1962-09-29</td>\n",
       "      <td>Assumed start date at launch.</td>\n",
       "    </tr>\n",
       "    <tr>\n",
       "      <th>3</th>\n",
       "      <td>3</td>\n",
       "      <td>OTT</td>\n",
       "      <td>Ottawa, Canada</td>\n",
       "      <td>1962-09-29</td>\n",
       "      <td>Assumed start date at launch.</td>\n",
       "    </tr>\n",
       "    <tr>\n",
       "      <th>4</th>\n",
       "      <td>3</td>\n",
       "      <td>FTM</td>\n",
       "      <td>Fort Myers, FL, USA</td>\n",
       "      <td>1965-07-01</td>\n",
       "      <td>NaN</td>\n",
       "    </tr>\n",
       "  </tbody>\n",
       "</table>\n",
       "</div>"
      ],
      "text/plain": [
       "   Station_Number Station_Code               Station_Name Start_Date  \\\n",
       "0               1          RES   Resolute Bay, NT, Canada 1962-09-29   \n",
       "1               1          BPT     Blossom Point, MD, USA 1965-07-01   \n",
       "2               2          PRI  Prince Albert, SK, Canada 1962-09-29   \n",
       "3               3          OTT             Ottawa, Canada 1962-09-29   \n",
       "4               3          FTM        Fort Myers, FL, USA 1965-07-01   \n",
       "\n",
       "                           Notes  \n",
       "0  Assumed start date at launch.  \n",
       "1                            NaN  \n",
       "2  Assumed start date at launch.  \n",
       "3  Assumed start date at launch.  \n",
       "4                            NaN  "
      ]
     },
     "execution_count": 92,
     "metadata": {},
     "output_type": "execute_result"
    }
   ],
   "source": [
    "df_stn_nums = pd.read_excel(logDir + 'station_number_changes.xlsx')\n",
    "df_stn_nums.head()"
   ]
  },
  {
   "cell_type": "code",
   "execution_count": 93,
   "id": "c1d015b0",
   "metadata": {},
   "outputs": [],
   "source": [
    "change_dates = df_stn_nums['Start_Date'].drop_duplicates().sort_values().reset_index(drop=True)\n",
    "stn_nums = df_stn_nums['Station_Number'].unique()"
   ]
  },
  {
   "cell_type": "code",
   "execution_count": 94,
   "id": "da9eb452",
   "metadata": {},
   "outputs": [],
   "source": [
    "#df_result_pp = pd.read_csv(resultDir + 'result_postprocess_raw.csv')\n",
    "df_result2 = df_result2.loc[~pd.isna(df_result2['station_number'])]"
   ]
  },
  {
   "cell_type": "code",
   "execution_count": 95,
   "id": "e446fd81",
   "metadata": {},
   "outputs": [
    {
     "name": "stdout",
     "output_type": "stream",
     "text": [
      "1962-09-29 00:00:00\n",
      "6214\n",
      "1963-04-25 00:00:00\n",
      "16008\n",
      "1963-08-06 00:00:00\n",
      "22641\n",
      "1965-07-01 00:00:00\n",
      "40878\n",
      "After 1965-07-01 00:00:00\n",
      "237032\n"
     ]
    }
   ],
   "source": [
    "df_result3 = pd.DataFrame()\n",
    "for i in range(0, len(change_dates)):\n",
    "    #Before the first change date - Assume there are no station numbers before launch\n",
    "    if i == 0:\n",
    "        print(change_dates[i])\n",
    "        df_part = df_result2.loc[df_result2['Timestamp'] < change_dates[i]]\n",
    "        df_result3 = pd.concat([df_result3, df_part])\n",
    "        print(len(df_result3))\n",
    "    \n",
    "    elif i > 0:\n",
    "        print(change_dates[i])\n",
    "        df_part_ = df_result2.loc[df_result2['Timestamp'] < change_dates[i]]\n",
    "        df_part_ = df_part_.loc[df_part_['Timestamp'] >= change_dates[i-1]]\n",
    "        \n",
    "        df_sns = pd.DataFrame()\n",
    "        for sn in stn_nums:\n",
    "            df_sn = df_stn_nums.loc[df_stn_nums['Station_Number'] == sn]\n",
    "            df_sn = df_sn.loc[df_sn['Start_Date'] < change_dates[i]]\n",
    "            if len(df_sn) > 1:\n",
    "                df_sn = df_sn.sort_values('Start_Date', ascending=False)\n",
    "                df_sn = df_sn.iloc[:1]\n",
    "            df_sns = pd.concat([df_sns, df_sn])\n",
    "        \n",
    "        df_part = df_part_.merge(df_sns[['Station_Number', 'Station_Code']], how='left', left_on='station_number', right_on='Station_Number')\n",
    "        df_result3 = pd.concat([df_result3, df_part])\n",
    "        print(len(df_result3))\n",
    "\n",
    "#After last change date\n",
    "last_change_date = change_dates[len(change_dates)-1]\n",
    "print('After ' + str(last_change_date))\n",
    "df_part_ = df_result2.loc[df_result2['Timestamp'] > last_change_date]\n",
    "\n",
    "df_sns = pd.DataFrame()\n",
    "for sn in stn_nums:\n",
    "    df_sn = df_stn_nums.loc[df_stn_nums['Station_Number'] == sn]\n",
    "    if len(df_sn) > 1:\n",
    "        df_sn = df_sn.sort_values('Start_Date', ascending=False)\n",
    "        df_sn = df_sn.iloc[:1]\n",
    "    df_sns = pd.concat([df_sns, df_sn])\n",
    "\n",
    "df_part = df_part_.merge(df_sns[['Station_Number', 'Station_Code']], how='left', left_on='station_number', right_on='Station_Number')\n",
    "df_result3 = pd.concat([df_result3, df_part])\n",
    "print(len(df_result3))"
   ]
  },
  {
   "cell_type": "code",
   "execution_count": 96,
   "id": "925b04d2",
   "metadata": {},
   "outputs": [
    {
     "data": {
      "text/html": [
       "<div>\n",
       "<style scoped>\n",
       "    .dataframe tbody tr th:only-of-type {\n",
       "        vertical-align: middle;\n",
       "    }\n",
       "\n",
       "    .dataframe tbody tr th {\n",
       "        vertical-align: top;\n",
       "    }\n",
       "\n",
       "    .dataframe thead th {\n",
       "        text-align: right;\n",
       "    }\n",
       "</style>\n",
       "<table border=\"1\" class=\"dataframe\">\n",
       "  <thead>\n",
       "    <tr style=\"text-align: right;\">\n",
       "      <th></th>\n",
       "      <th>Station_Code</th>\n",
       "      <th>Station_Name</th>\n",
       "      <th>Lat</th>\n",
       "      <th>Lng</th>\n",
       "      <th>Notes</th>\n",
       "    </tr>\n",
       "  </thead>\n",
       "  <tbody>\n",
       "    <tr>\n",
       "      <th>0</th>\n",
       "      <td>ANT</td>\n",
       "      <td>Antofagasta, Chile</td>\n",
       "      <td>23.6S</td>\n",
       "      <td>70.3W</td>\n",
       "      <td>NaN</td>\n",
       "    </tr>\n",
       "    <tr>\n",
       "      <th>1</th>\n",
       "      <td>BAT</td>\n",
       "      <td>Byrd Station, Antarctica</td>\n",
       "      <td>80S</td>\n",
       "      <td>119.3W</td>\n",
       "      <td>Ref: https://en.wikipedia.org/wiki/Byrd_Station</td>\n",
       "    </tr>\n",
       "    <tr>\n",
       "      <th>2</th>\n",
       "      <td>BFR</td>\n",
       "      <td>Bretigny, France</td>\n",
       "      <td>48.4N</td>\n",
       "      <td>2.2 E</td>\n",
       "      <td>Ref: https://en.wikipedia.org/wiki/Br%C3%A9tig...</td>\n",
       "    </tr>\n",
       "    <tr>\n",
       "      <th>3</th>\n",
       "      <td>BLR</td>\n",
       "      <td>Boulder, CO, USA</td>\n",
       "      <td>40.1N</td>\n",
       "      <td>105.1W</td>\n",
       "      <td>NaN</td>\n",
       "    </tr>\n",
       "    <tr>\n",
       "      <th>4</th>\n",
       "      <td>BPT</td>\n",
       "      <td>Blossom Point, MD, USA</td>\n",
       "      <td>38.4N</td>\n",
       "      <td>77.1W</td>\n",
       "      <td>NaN</td>\n",
       "    </tr>\n",
       "  </tbody>\n",
       "</table>\n",
       "</div>"
      ],
      "text/plain": [
       "  Station_Code              Station_Name    Lat     Lng  \\\n",
       "0          ANT        Antofagasta, Chile  23.6S   70.3W   \n",
       "1          BAT  Byrd Station, Antarctica    80S  119.3W   \n",
       "2          BFR          Bretigny, France  48.4N   2.2 E   \n",
       "3          BLR          Boulder, CO, USA  40.1N  105.1W   \n",
       "4          BPT    Blossom Point, MD, USA  38.4N   77.1W   \n",
       "\n",
       "                                               Notes  \n",
       "0                                                NaN  \n",
       "1    Ref: https://en.wikipedia.org/wiki/Byrd_Station  \n",
       "2  Ref: https://en.wikipedia.org/wiki/Br%C3%A9tig...  \n",
       "3                                                NaN  \n",
       "4                                                NaN  "
      ]
     },
     "execution_count": 96,
     "metadata": {},
     "output_type": "execute_result"
    }
   ],
   "source": [
    "df_stns = pd.read_csv(logDir + 'ground_stations.csv')\n",
    "df_stns.head()"
   ]
  },
  {
   "cell_type": "code",
   "execution_count": 97,
   "id": "f556c636",
   "metadata": {},
   "outputs": [
    {
     "name": "stdout",
     "output_type": "stream",
     "text": [
      "237032\n"
     ]
    },
    {
     "data": {
      "text/html": [
       "<div>\n",
       "<style scoped>\n",
       "    .dataframe tbody tr th:only-of-type {\n",
       "        vertical-align: middle;\n",
       "    }\n",
       "\n",
       "    .dataframe tbody tr th {\n",
       "        vertical-align: top;\n",
       "    }\n",
       "\n",
       "    .dataframe thead th {\n",
       "        text-align: right;\n",
       "    }\n",
       "</style>\n",
       "<table border=\"1\" class=\"dataframe\">\n",
       "  <thead>\n",
       "    <tr style=\"text-align: right;\">\n",
       "      <th></th>\n",
       "      <th>Station_Number</th>\n",
       "      <th>Timestamp</th>\n",
       "      <th>Station_Code</th>\n",
       "      <th>Station_Name</th>\n",
       "      <th>Lat</th>\n",
       "      <th>Lng</th>\n",
       "    </tr>\n",
       "  </thead>\n",
       "  <tbody>\n",
       "    <tr>\n",
       "      <th>176990</th>\n",
       "      <td>5.0</td>\n",
       "      <td>1967-03-28 01:12:38</td>\n",
       "      <td>QUI</td>\n",
       "      <td>Quito, Ecuador</td>\n",
       "      <td>0.6S</td>\n",
       "      <td>78.6W</td>\n",
       "    </tr>\n",
       "    <tr>\n",
       "      <th>10649</th>\n",
       "      <td>12.0</td>\n",
       "      <td>1963-04-21 11:20:21</td>\n",
       "      <td>WOO</td>\n",
       "      <td>Woomera, Australia</td>\n",
       "      <td>31.1S</td>\n",
       "      <td>136.8E</td>\n",
       "    </tr>\n",
       "    <tr>\n",
       "      <th>217198</th>\n",
       "      <td>1.0</td>\n",
       "      <td>1966-03-08 21:22:55</td>\n",
       "      <td>BPT</td>\n",
       "      <td>Blossom Point, MD, USA</td>\n",
       "      <td>38.4N</td>\n",
       "      <td>77.1W</td>\n",
       "    </tr>\n",
       "    <tr>\n",
       "      <th>136734</th>\n",
       "      <td>1.0</td>\n",
       "      <td>1966-06-21 14:44:53</td>\n",
       "      <td>BPT</td>\n",
       "      <td>Blossom Point, MD, USA</td>\n",
       "      <td>38.4N</td>\n",
       "      <td>77.1W</td>\n",
       "    </tr>\n",
       "    <tr>\n",
       "      <th>21776</th>\n",
       "      <td>9.0</td>\n",
       "      <td>1963-07-08 00:00:00</td>\n",
       "      <td>SOL</td>\n",
       "      <td>Falkland Islands (Islas Malvinas)</td>\n",
       "      <td>51.8S</td>\n",
       "      <td>57.9W</td>\n",
       "    </tr>\n",
       "    <tr>\n",
       "      <th>204166</th>\n",
       "      <td>7.0</td>\n",
       "      <td>1965-11-02 22:33:48</td>\n",
       "      <td>QUI</td>\n",
       "      <td>Quito, Ecuador</td>\n",
       "      <td>0.6S</td>\n",
       "      <td>78.6W</td>\n",
       "    </tr>\n",
       "    <tr>\n",
       "      <th>934</th>\n",
       "      <td>NaN</td>\n",
       "      <td>1962-08-01 02:11:21</td>\n",
       "      <td>NaN</td>\n",
       "      <td>NaN</td>\n",
       "      <td>NaN</td>\n",
       "      <td>NaN</td>\n",
       "    </tr>\n",
       "    <tr>\n",
       "      <th>36835</th>\n",
       "      <td>18.0</td>\n",
       "      <td>1965-06-11 11:49:17</td>\n",
       "      <td>WNK</td>\n",
       "      <td>Winkfield, England, UK</td>\n",
       "      <td>51.4N</td>\n",
       "      <td>0.4W</td>\n",
       "    </tr>\n",
       "    <tr>\n",
       "      <th>1496</th>\n",
       "      <td>NaN</td>\n",
       "      <td>1962-04-22 02:01:20</td>\n",
       "      <td>NaN</td>\n",
       "      <td>NaN</td>\n",
       "      <td>NaN</td>\n",
       "      <td>NaN</td>\n",
       "    </tr>\n",
       "    <tr>\n",
       "      <th>42946</th>\n",
       "      <td>50.0</td>\n",
       "      <td>1968-11-06 22:32:31</td>\n",
       "      <td>OTT</td>\n",
       "      <td>Ottawa, Canada</td>\n",
       "      <td>45.4N</td>\n",
       "      <td>75.7W</td>\n",
       "    </tr>\n",
       "  </tbody>\n",
       "</table>\n",
       "</div>"
      ],
      "text/plain": [
       "        Station_Number           Timestamp Station_Code  \\\n",
       "176990             5.0 1967-03-28 01:12:38          QUI   \n",
       "10649             12.0 1963-04-21 11:20:21          WOO   \n",
       "217198             1.0 1966-03-08 21:22:55          BPT   \n",
       "136734             1.0 1966-06-21 14:44:53          BPT   \n",
       "21776              9.0 1963-07-08 00:00:00          SOL   \n",
       "204166             7.0 1965-11-02 22:33:48          QUI   \n",
       "934                NaN 1962-08-01 02:11:21          NaN   \n",
       "36835             18.0 1965-06-11 11:49:17          WNK   \n",
       "1496               NaN 1962-04-22 02:01:20          NaN   \n",
       "42946             50.0 1968-11-06 22:32:31          OTT   \n",
       "\n",
       "                             Station_Name    Lat     Lng  \n",
       "176990                     Quito, Ecuador   0.6S   78.6W  \n",
       "10649                  Woomera, Australia  31.1S  136.8E  \n",
       "217198             Blossom Point, MD, USA  38.4N   77.1W  \n",
       "136734             Blossom Point, MD, USA  38.4N   77.1W  \n",
       "21776   Falkland Islands (Islas Malvinas)  51.8S   57.9W  \n",
       "204166                     Quito, Ecuador   0.6S   78.6W  \n",
       "934                                   NaN    NaN     NaN  \n",
       "36835              Winkfield, England, UK  51.4N    0.4W  \n",
       "1496                                  NaN    NaN     NaN  \n",
       "42946                      Ottawa, Canada  45.4N   75.7W  "
      ]
     },
     "execution_count": 97,
     "metadata": {},
     "output_type": "execute_result"
    }
   ],
   "source": [
    "df_result4 = df_result3.merge(df_stns[['Station_Code', 'Station_Name', 'Lat', 'Lng']], how='left', on='Station_Code')\n",
    "print(len(df_result4))\n",
    "df_result4[['Station_Number', 'Timestamp', 'Station_Code', 'Station_Name', 'Lat', 'Lng']].sample(10)"
   ]
  },
  {
   "cell_type": "markdown",
   "id": "66ca788a",
   "metadata": {},
   "source": [
    "#  "
   ]
  },
  {
   "cell_type": "markdown",
   "id": "3d73d024",
   "metadata": {},
   "source": [
    "#### Save Master:"
   ]
  },
  {
   "cell_type": "code",
   "execution_count": 98,
   "id": "69127924",
   "metadata": {},
   "outputs": [
    {
     "name": "stdout",
     "output_type": "stream",
     "text": [
      "216380\n"
     ]
    },
    {
     "data": {
      "text/html": [
       "<div>\n",
       "<style scoped>\n",
       "    .dataframe tbody tr th:only-of-type {\n",
       "        vertical-align: middle;\n",
       "    }\n",
       "\n",
       "    .dataframe tbody tr th {\n",
       "        vertical-align: top;\n",
       "    }\n",
       "\n",
       "    .dataframe thead th {\n",
       "        text-align: right;\n",
       "    }\n",
       "</style>\n",
       "<table border=\"1\" class=\"dataframe\">\n",
       "  <thead>\n",
       "    <tr style=\"text-align: right;\">\n",
       "      <th></th>\n",
       "      <th>Directory</th>\n",
       "      <th>Subdirectory</th>\n",
       "      <th>filename</th>\n",
       "      <th>processed_image_class</th>\n",
       "      <th>fmin</th>\n",
       "      <th>max_depth</th>\n",
       "      <th>Timestamp</th>\n",
       "      <th>time_quality</th>\n",
       "      <th>Station_Number</th>\n",
       "      <th>Station_Code</th>\n",
       "      <th>Station_Name</th>\n",
       "      <th>Lat</th>\n",
       "      <th>Lng</th>\n",
       "    </tr>\n",
       "  </thead>\n",
       "  <tbody>\n",
       "    <tr>\n",
       "      <th>208261</th>\n",
       "      <td>R014207963</td>\n",
       "      <td>1528-1B</td>\n",
       "      <td>226.png</td>\n",
       "      <td>num</td>\n",
       "      <td>1.665323</td>\n",
       "      <td>1460.784314</td>\n",
       "      <td>1966-02-07 05:08:23</td>\n",
       "      <td>1.0</td>\n",
       "      <td>1.0</td>\n",
       "      <td>BPT</td>\n",
       "      <td>Blossom Point, MD, USA</td>\n",
       "      <td>38.4N</td>\n",
       "      <td>77.1W</td>\n",
       "    </tr>\n",
       "    <tr>\n",
       "      <th>6378</th>\n",
       "      <td>R014207813</td>\n",
       "      <td>5007</td>\n",
       "      <td>277.png</td>\n",
       "      <td>num</td>\n",
       "      <td>9.097561</td>\n",
       "      <td>1148.888889</td>\n",
       "      <td>1963-04-11 00:10:11</td>\n",
       "      <td>1.0</td>\n",
       "      <td>1.0</td>\n",
       "      <td>RES</td>\n",
       "      <td>Resolute Bay, NT, Canada</td>\n",
       "      <td>74.7N</td>\n",
       "      <td>95W</td>\n",
       "    </tr>\n",
       "    <tr>\n",
       "      <th>70338</th>\n",
       "      <td>R014207828</td>\n",
       "      <td>4418-50A</td>\n",
       "      <td>208.png</td>\n",
       "      <td>num2</td>\n",
       "      <td>1.500000</td>\n",
       "      <td>1106.000000</td>\n",
       "      <td>1968-05-04 12:27:42</td>\n",
       "      <td>1.0</td>\n",
       "      <td>50.0</td>\n",
       "      <td>OTT</td>\n",
       "      <td>Ottawa, Canada</td>\n",
       "      <td>45.4N</td>\n",
       "      <td>75.7W</td>\n",
       "    </tr>\n",
       "    <tr>\n",
       "      <th>125471</th>\n",
       "      <td>R014207839</td>\n",
       "      <td>4140-50A</td>\n",
       "      <td>248.png</td>\n",
       "      <td>num2</td>\n",
       "      <td>1.500000</td>\n",
       "      <td>1250.000000</td>\n",
       "      <td>1967-10-24 01:16:14</td>\n",
       "      <td>1.0</td>\n",
       "      <td>50.0</td>\n",
       "      <td>OTT</td>\n",
       "      <td>Ottawa, Canada</td>\n",
       "      <td>45.4N</td>\n",
       "      <td>75.7W</td>\n",
       "    </tr>\n",
       "    <tr>\n",
       "      <th>25998</th>\n",
       "      <td>R014207820</td>\n",
       "      <td>2990-18B</td>\n",
       "      <td>51.png</td>\n",
       "      <td>num</td>\n",
       "      <td>1.552419</td>\n",
       "      <td>1117.021277</td>\n",
       "      <td>1964-01-20 20:42:23</td>\n",
       "      <td>1.0</td>\n",
       "      <td>2.0</td>\n",
       "      <td>PRI</td>\n",
       "      <td>Prince Albert, SK, Canada</td>\n",
       "      <td>53.2N</td>\n",
       "      <td>105.9W</td>\n",
       "    </tr>\n",
       "    <tr>\n",
       "      <th>54199</th>\n",
       "      <td>R014207818</td>\n",
       "      <td>4228-43A</td>\n",
       "      <td>273.png</td>\n",
       "      <td>num2</td>\n",
       "      <td>1.500000</td>\n",
       "      <td>935.294118</td>\n",
       "      <td>1967-09-23 11:59:58</td>\n",
       "      <td>1.0</td>\n",
       "      <td>43.0</td>\n",
       "      <td>RES</td>\n",
       "      <td>Resolute Bay, NT, Canada</td>\n",
       "      <td>74.7N</td>\n",
       "      <td>95W</td>\n",
       "    </tr>\n",
       "    <tr>\n",
       "      <th>34872</th>\n",
       "      <td>R014207969</td>\n",
       "      <td>1302-18B</td>\n",
       "      <td>106.png</td>\n",
       "      <td>num</td>\n",
       "      <td>1.504032</td>\n",
       "      <td>978.000000</td>\n",
       "      <td>1965-05-01 17:59:56</td>\n",
       "      <td>1.0</td>\n",
       "      <td>18.0</td>\n",
       "      <td>WNK</td>\n",
       "      <td>Winkfield, England, UK</td>\n",
       "      <td>51.4N</td>\n",
       "      <td>0.4W</td>\n",
       "    </tr>\n",
       "    <tr>\n",
       "      <th>51419</th>\n",
       "      <td>R014207818</td>\n",
       "      <td>4210-69</td>\n",
       "      <td>212.png</td>\n",
       "      <td>num2</td>\n",
       "      <td>1.500000</td>\n",
       "      <td>1221.052632</td>\n",
       "      <td>1967-07-03 08:34:39</td>\n",
       "      <td>1.0</td>\n",
       "      <td>69.0</td>\n",
       "      <td>TRO</td>\n",
       "      <td>Tromso, Norway</td>\n",
       "      <td>69.7N</td>\n",
       "      <td>18.9E</td>\n",
       "    </tr>\n",
       "    <tr>\n",
       "      <th>209314</th>\n",
       "      <td>R014207963</td>\n",
       "      <td>1531-5A</td>\n",
       "      <td>9.png</td>\n",
       "      <td>num</td>\n",
       "      <td>1.709677</td>\n",
       "      <td>1286.538462</td>\n",
       "      <td>1966-03-11 23:06:17</td>\n",
       "      <td>1.0</td>\n",
       "      <td>5.0</td>\n",
       "      <td>QUI</td>\n",
       "      <td>Quito, Ecuador</td>\n",
       "      <td>0.6S</td>\n",
       "      <td>78.6W</td>\n",
       "    </tr>\n",
       "    <tr>\n",
       "      <th>97382</th>\n",
       "      <td>R014207835</td>\n",
       "      <td>4035-53A</td>\n",
       "      <td>76.png</td>\n",
       "      <td>num2</td>\n",
       "      <td>1.552419</td>\n",
       "      <td>1114.893617</td>\n",
       "      <td>1965-10-30 06:44:05</td>\n",
       "      <td>1.0</td>\n",
       "      <td>53.0</td>\n",
       "      <td>KNO</td>\n",
       "      <td>Kano, Nigeria</td>\n",
       "      <td>12N</td>\n",
       "      <td>8.5E</td>\n",
       "    </tr>\n",
       "  </tbody>\n",
       "</table>\n",
       "</div>"
      ],
      "text/plain": [
       "         Directory Subdirectory filename processed_image_class      fmin  \\\n",
       "208261  R014207963      1528-1B  226.png                   num  1.665323   \n",
       "6378    R014207813         5007  277.png                   num  9.097561   \n",
       "70338   R014207828     4418-50A  208.png                  num2  1.500000   \n",
       "125471  R014207839     4140-50A  248.png                  num2  1.500000   \n",
       "25998   R014207820     2990-18B   51.png                   num  1.552419   \n",
       "54199   R014207818     4228-43A  273.png                  num2  1.500000   \n",
       "34872   R014207969     1302-18B  106.png                   num  1.504032   \n",
       "51419   R014207818      4210-69  212.png                  num2  1.500000   \n",
       "209314  R014207963      1531-5A    9.png                   num  1.709677   \n",
       "97382   R014207835     4035-53A   76.png                  num2  1.552419   \n",
       "\n",
       "          max_depth           Timestamp  time_quality  Station_Number  \\\n",
       "208261  1460.784314 1966-02-07 05:08:23           1.0             1.0   \n",
       "6378    1148.888889 1963-04-11 00:10:11           1.0             1.0   \n",
       "70338   1106.000000 1968-05-04 12:27:42           1.0            50.0   \n",
       "125471  1250.000000 1967-10-24 01:16:14           1.0            50.0   \n",
       "25998   1117.021277 1964-01-20 20:42:23           1.0             2.0   \n",
       "54199    935.294118 1967-09-23 11:59:58           1.0            43.0   \n",
       "34872    978.000000 1965-05-01 17:59:56           1.0            18.0   \n",
       "51419   1221.052632 1967-07-03 08:34:39           1.0            69.0   \n",
       "209314  1286.538462 1966-03-11 23:06:17           1.0             5.0   \n",
       "97382   1114.893617 1965-10-30 06:44:05           1.0            53.0   \n",
       "\n",
       "       Station_Code               Station_Name    Lat     Lng  \n",
       "208261          BPT     Blossom Point, MD, USA  38.4N   77.1W  \n",
       "6378            RES   Resolute Bay, NT, Canada  74.7N     95W  \n",
       "70338           OTT             Ottawa, Canada  45.4N   75.7W  \n",
       "125471          OTT             Ottawa, Canada  45.4N   75.7W  \n",
       "25998           PRI  Prince Albert, SK, Canada  53.2N  105.9W  \n",
       "54199           RES   Resolute Bay, NT, Canada  74.7N     95W  \n",
       "34872           WNK     Winkfield, England, UK  51.4N    0.4W  \n",
       "51419           TRO             Tromso, Norway  69.7N   18.9E  \n",
       "209314          QUI             Quito, Ecuador   0.6S   78.6W  \n",
       "97382           KNO              Kano, Nigeria    12N    8.5E  "
      ]
     },
     "execution_count": 98,
     "metadata": {},
     "output_type": "execute_result"
    }
   ],
   "source": [
    "df_result5 = df_result4[~pd.isna(df_result4['Station_Code'])]\n",
    "df_result5 = df_result5[['Directory', 'Subdirectory', 'filename', 'processed_image_class', 'fmin', 'max_depth', 'Timestamp',\n",
    "                         'time_quality', 'Station_Number', 'Station_Code', 'Station_Name', 'Lat', 'Lng']]\n",
    "print(len(df_result5))\n",
    "df_result5.sample(10)"
   ]
  },
  {
   "cell_type": "code",
   "execution_count": 100,
   "id": "6dbcb77c",
   "metadata": {},
   "outputs": [],
   "source": [
    "df_result5 = df_result5.sort_values('Timestamp').reset_index(drop=True)\n",
    "df_result5.to_csv(resultDir + 'result_master.csv', index=False)"
   ]
  },
  {
   "cell_type": "code",
   "execution_count": null,
   "id": "6d7e2a0e",
   "metadata": {},
   "outputs": [],
   "source": []
  }
 ],
 "metadata": {
  "kernelspec": {
   "display_name": "Python 3 (ipykernel)",
   "language": "python",
   "name": "python3"
  },
  "language_info": {
   "codemirror_mode": {
    "name": "ipython",
    "version": 3
   },
   "file_extension": ".py",
   "mimetype": "text/x-python",
   "name": "python",
   "nbconvert_exporter": "python",
   "pygments_lexer": "ipython3",
   "version": "3.8.16"
  }
 },
 "nbformat": 4,
 "nbformat_minor": 5
}

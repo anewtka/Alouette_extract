{
 "cells": [
  {
   "cell_type": "markdown",
   "id": "0cc96bbd",
   "metadata": {},
   "source": [
    "# Post-Processing (General)\n",
    "\n",
    "#### Updated: May 17, 2023"
   ]
  },
  {
   "cell_type": "markdown",
   "id": "aae7fdc8",
   "metadata": {},
   "source": [
    "#  "
   ]
  },
  {
   "cell_type": "markdown",
   "id": "6dcab44c",
   "metadata": {},
   "source": [
    "Post-processing pipeline after stage 2 of Alouette processing (OCR processing stage):"
   ]
  },
  {
   "cell_type": "code",
   "execution_count": 1,
   "id": "43814246",
   "metadata": {},
   "outputs": [
    {
     "name": "stderr",
     "output_type": "stream",
     "text": [
      "c:\\DevSoftware\\Anaconda38\\lib\\site-packages\\scipy\\__init__.py:138: UserWarning: A NumPy version >=1.16.5 and <1.23.0 is required for this version of SciPy (detected version 1.23.5)\n",
      "  warnings.warn(f\"A NumPy version >={np_minversion} and <{np_maxversion} is required for this version of \"\n"
     ]
    }
   ],
   "source": [
    "import os\n",
    "import numpy as np\n",
    "import pandas as pd\n",
    "from datetime import datetime\n",
    "import seaborn as sns"
   ]
  },
  {
   "cell_type": "code",
   "execution_count": 2,
   "id": "d2634864",
   "metadata": {},
   "outputs": [],
   "source": [
    "rootDir = 'L:/DATA/Alouette_I/BATCH_I_Run2/'\n",
    "processedDir = rootDir + '04_processed/'\n",
    "resultDir = rootDir + '05_result/'\n",
    "logDir = rootDir + '06_log/'"
   ]
  },
  {
   "cell_type": "markdown",
   "id": "fe8fc8f0",
   "metadata": {},
   "source": [
    "#  "
   ]
  },
  {
   "cell_type": "markdown",
   "id": "35deb2c3",
   "metadata": {},
   "source": [
    "#### Functions:"
   ]
  },
  {
   "cell_type": "code",
   "execution_count": 3,
   "id": "7c64ed5b",
   "metadata": {},
   "outputs": [],
   "source": [
    "def construct_timestamp(df_in):\n",
    "    \n",
    "    df_in['time_quality'] = 0\n",
    "    \n",
    "    #To the nearest second (time quality 1)\n",
    "    df_in['month_day'] = pd.to_datetime(df_in['day_of_year'], format='%j').dt.strftime('%m-%d')\n",
    "    df_in['month'] = df_in['month_day'].str.split('-').str[0]\n",
    "    df_in['day'] = df_in['month_day'].str.split('-').str[1]\n",
    "    df_in['Timestamp'] = pd.to_datetime(df_in[['year', 'month', 'day', 'hour', 'minute', 'second']], format='%Y-%m-%d %H:%M:%S')\n",
    "    df_in.loc[~df_in['Timestamp'].isnull(), 'time_quality'] = 1\n",
    "    df_in_tq1 = df_in.loc[df_in['time_quality'] == 1]\n",
    "    \n",
    "    #To the nearest minute (time quality 2)\n",
    "    df_in_not_tq1 = df_in.loc[df_in['time_quality'] != 1]\n",
    "    df_in_not_tq1 = df_in_not_tq1.copy(deep=True)\n",
    "    df_in_not_tq1['Timestamp'] = pd.to_datetime(df_in_not_tq1[['year', 'month', 'day', 'hour', 'minute']], format='%Y-%m-%d %H:%M:00')\n",
    "    df_in_not_tq1.loc[~df_in_not_tq1['Timestamp'].isnull(), 'time_quality'] = 2\n",
    "    df_in_tq2 = df_in_not_tq1.loc[df_in_not_tq1['time_quality'] == 2]\n",
    "    \n",
    "    #To the nearest hour (time quality 3)\n",
    "    df_in_not_tq2 = df_in_not_tq1.loc[df_in_not_tq1['time_quality'] != 2]\n",
    "    df_in_not_tq2 = df_in_not_tq2.copy(deep=True)\n",
    "    df_in_not_tq2['Timestamp'] = pd.to_datetime(df_in_not_tq2[['year', 'month', 'day', 'hour']], format='%Y-%m-%d %H:00:00')\n",
    "    df_in_not_tq2.loc[~df_in_not_tq2['Timestamp'].isnull(), 'time_quality'] = 3\n",
    "    df_in_tq3 = df_in_not_tq2.loc[df_in_not_tq2['time_quality'] == 3]\n",
    "    \n",
    "    #To the nearest day (time quality 4)\n",
    "    df_in_not_tq3 = df_in_not_tq2.loc[df_in_not_tq2['time_quality'] != 3]\n",
    "    df_in_not_tq3 = df_in_not_tq3.copy(deep=True)\n",
    "    df_in_not_tq3['Timestamp'] = pd.to_datetime(df_in_not_tq3[['year', 'month', 'day']], format='%Y-%m-%d 00:00:00')\n",
    "    df_in_not_tq3.loc[~df_in_not_tq3['Timestamp'].isnull(), 'time_quality'] = 4\n",
    "    df_in_tq4 = df_in_not_tq3.loc[df_in_not_tq3['time_quality'] == 4]\n",
    "    \n",
    "    df_in_not_tq4 = df_in_not_tq3.loc[df_in_not_tq3['time_quality'] != 4]\n",
    "    df_in = pd.concat([df_in_tq1, df_in_tq2, df_in_tq3, df_in_tq4, df_in_not_tq4])\n",
    "    \n",
    "    return df_in"
   ]
  },
  {
   "cell_type": "markdown",
   "id": "26eb6bfd",
   "metadata": {},
   "source": [
    "#  "
   ]
  },
  {
   "cell_type": "markdown",
   "id": "3aef6def",
   "metadata": {},
   "source": [
    "#### Generate processed_inventory, concatenate stage 1 results - RUN BEFORE starting stage 2 processing (OCR processing stage):"
   ]
  },
  {
   "cell_type": "markdown",
   "id": "3f95cc14",
   "metadata": {},
   "source": [
    "Generate processed_inventory:"
   ]
  },
  {
   "cell_type": "code",
   "execution_count": 4,
   "id": "5c3d24d3",
   "metadata": {
    "scrolled": true
   },
   "outputs": [
    {
     "name": "stdout",
     "output_type": "stream",
     "text": [
      "R014207815\n",
      "R014207816\n",
      "R014207821\n",
      "R014207823\n",
      "R014207824\n",
      "R014207832\n",
      "R014207840\n",
      "R014207841\n",
      "R014207842\n",
      "R014207844\n",
      "R014207907F\n",
      "R014207908F\n",
      "R014207909F\n",
      "R014207929F\n",
      "R014207930F\n",
      "R014207938\n",
      "R014207939\n",
      "R014207940F\n",
      "R014207942\n",
      "R014207943\n",
      "R014207946\n",
      "R014207947\n",
      "R014207948\n",
      "R014207949\n",
      "R014207951\n",
      "R014207953\n",
      "R014207954\n",
      "R014207955\n",
      "R014207956\n",
      "R014207957\n",
      "R014207958\n",
      "R014207959\n",
      "R014207960\n",
      "R014207962\n",
      "R014207964\n",
      "R014207965\n",
      "R014207966\n",
      "R014207967\n",
      "R014207968\n",
      "R014207970\n",
      "R014207974\n",
      "R014207975\n",
      "R014207978F\n",
      "R014207979F\n",
      "R014207980\n"
     ]
    }
   ],
   "source": [
    "df_inventory = pd.DataFrame()\n",
    "for directory in os.listdir(processedDir):\n",
    "    print(directory)\n",
    "    for subdirectory in os.listdir(processedDir + directory):\n",
    "        n_images = len(os.listdir(processedDir + directory + '/' + subdirectory))\n",
    "        df_inventory_ = pd.DataFrame({\n",
    "            'Directory': directory, \n",
    "            'Subdirectory': subdirectory,\n",
    "            'images': n_images,\n",
    "            'subdir_id': directory + '_' + subdirectory\n",
    "        }, index=[0])\n",
    "        df_inventory = pd.concat([df_inventory, df_inventory_], axis=0, ignore_index=True)"
   ]
  },
  {
   "cell_type": "code",
   "execution_count": 5,
   "id": "93a6a6bc",
   "metadata": {},
   "outputs": [
    {
     "name": "stdout",
     "output_type": "stream",
     "text": [
      "2534\n"
     ]
    },
    {
     "data": {
      "text/html": [
       "<div>\n",
       "<style scoped>\n",
       "    .dataframe tbody tr th:only-of-type {\n",
       "        vertical-align: middle;\n",
       "    }\n",
       "\n",
       "    .dataframe tbody tr th {\n",
       "        vertical-align: top;\n",
       "    }\n",
       "\n",
       "    .dataframe thead th {\n",
       "        text-align: right;\n",
       "    }\n",
       "</style>\n",
       "<table border=\"1\" class=\"dataframe\">\n",
       "  <thead>\n",
       "    <tr style=\"text-align: right;\">\n",
       "      <th></th>\n",
       "      <th>Directory</th>\n",
       "      <th>Subdirectory</th>\n",
       "      <th>images</th>\n",
       "      <th>subdir_id</th>\n",
       "    </tr>\n",
       "  </thead>\n",
       "  <tbody>\n",
       "    <tr>\n",
       "      <th>0</th>\n",
       "      <td>R014207815</td>\n",
       "      <td>3488-15A</td>\n",
       "      <td>273</td>\n",
       "      <td>R014207815_3488-15A</td>\n",
       "    </tr>\n",
       "    <tr>\n",
       "      <th>1</th>\n",
       "      <td>R014207815</td>\n",
       "      <td>3489-15A</td>\n",
       "      <td>281</td>\n",
       "      <td>R014207815_3489-15A</td>\n",
       "    </tr>\n",
       "    <tr>\n",
       "      <th>2</th>\n",
       "      <td>R014207815</td>\n",
       "      <td>3490-15A</td>\n",
       "      <td>198</td>\n",
       "      <td>R014207815_3490-15A</td>\n",
       "    </tr>\n",
       "    <tr>\n",
       "      <th>3</th>\n",
       "      <td>R014207815</td>\n",
       "      <td>3491-8A</td>\n",
       "      <td>289</td>\n",
       "      <td>R014207815_3491-8A</td>\n",
       "    </tr>\n",
       "    <tr>\n",
       "      <th>4</th>\n",
       "      <td>R014207815</td>\n",
       "      <td>3492-8A</td>\n",
       "      <td>334</td>\n",
       "      <td>R014207815_3492-8A</td>\n",
       "    </tr>\n",
       "  </tbody>\n",
       "</table>\n",
       "</div>"
      ],
      "text/plain": [
       "    Directory Subdirectory  images            subdir_id\n",
       "0  R014207815     3488-15A     273  R014207815_3488-15A\n",
       "1  R014207815     3489-15A     281  R014207815_3489-15A\n",
       "2  R014207815     3490-15A     198  R014207815_3490-15A\n",
       "3  R014207815      3491-8A     289   R014207815_3491-8A\n",
       "4  R014207815      3492-8A     334   R014207815_3492-8A"
      ]
     },
     "execution_count": 5,
     "metadata": {},
     "output_type": "execute_result"
    }
   ],
   "source": [
    "print(len(df_inventory))\n",
    "df_inventory.head()"
   ]
  },
  {
   "cell_type": "code",
   "execution_count": 6,
   "id": "08f197ea",
   "metadata": {},
   "outputs": [],
   "source": [
    "df_inventory.to_csv(logDir + 'image_inventory_processed.csv', index=False)"
   ]
  },
  {
   "cell_type": "markdown",
   "id": "96b93d51",
   "metadata": {},
   "source": [
    "Concatenate stage 1 results:"
   ]
  },
  {
   "cell_type": "code",
   "execution_count": 7,
   "id": "5a800df5",
   "metadata": {},
   "outputs": [
    {
     "name": "stdout",
     "output_type": "stream",
     "text": [
      "Now saving the 100th result...\n",
      "28997\n",
      "Now saving the 200th result...\n",
      "57948\n",
      "Now saving the 300th result...\n",
      "87219\n",
      "Now saving the 400th result...\n",
      "116911\n",
      "Now saving the 500th result...\n",
      "144360\n",
      "Now saving the 600th result...\n",
      "173007\n",
      "Now saving the 700th result...\n"
     ]
    },
    {
     "name": "stderr",
     "output_type": "stream",
     "text": [
      "c:\\DevSoftware\\Anaconda38\\lib\\site-packages\\IPython\\core\\interactiveshell.py:3165: DtypeWarning: Columns (23,24,25,26,27,28,29,30,33) have mixed types.Specify dtype option on import or set low_memory=False.\n",
      "  has_raised = await self.run_ast_nodes(code_ast.body, cell_name,\n"
     ]
    },
    {
     "name": "stdout",
     "output_type": "stream",
     "text": [
      "209897\n",
      "Now saving the 800th result...\n",
      "244500\n",
      "Now saving the 900th result...\n"
     ]
    },
    {
     "name": "stderr",
     "output_type": "stream",
     "text": [
      "c:\\DevSoftware\\Anaconda38\\lib\\site-packages\\IPython\\core\\interactiveshell.py:3165: DtypeWarning: Columns (17,20,23,24,25,26,27,28,29,30,33) have mixed types.Specify dtype option on import or set low_memory=False.\n",
      "  has_raised = await self.run_ast_nodes(code_ast.body, cell_name,\n"
     ]
    },
    {
     "name": "stdout",
     "output_type": "stream",
     "text": [
      "280535\n",
      "Now saving the 1000th result...\n",
      "315153\n",
      "Now saving the 1100th result...\n",
      "350668\n",
      "Now saving the 1200th result...\n",
      "380820\n",
      "Now saving the 1300th result...\n",
      "410134\n",
      "Now saving the 1400th result...\n",
      "440793\n",
      "Now saving the 1500th result...\n",
      "471356\n",
      "Now saving the 1600th result...\n",
      "502143\n",
      "Now saving the 1700th result...\n",
      "533390\n",
      "Now saving the 1800th result...\n",
      "563595\n",
      "Now saving the 1900th result...\n",
      "595100\n",
      "Now saving the 2000th result...\n",
      "626640\n",
      "Now saving the 2100th result...\n",
      "657501\n",
      "Now saving the 2200th result...\n",
      "691176\n",
      "Now saving the 2300th result...\n",
      "723750\n",
      "Now saving the 2400th result...\n",
      "755452\n",
      "Now saving the 2500th result...\n",
      "790760\n",
      "Now saving the 2600th result...\n",
      "827982\n"
     ]
    }
   ],
   "source": [
    "df_result = pd.DataFrame()\n",
    "i = 0\n",
    "for file in os.listdir(resultDir):\n",
    "    if 'R' in file:\n",
    "        directory = file\n",
    "        for file2 in os.listdir(resultDir + directory + '/'):\n",
    "            if 'result-' in file2:\n",
    "                fn_parts = file2.split('_')\n",
    "                subdirectory = fn_parts[1].replace('.csv', '')\n",
    "                if i > 0:\n",
    "                    if i % 100 == 0:\n",
    "                        df_result = pd.read_csv(resultDir + 'result_stage1_raw.csv')\n",
    "                        print(len(df_result))\n",
    "                try:\n",
    "                    df_load = pd.read_csv(resultDir + directory + '/' + file2, sep=',')\n",
    "                    n = len(df_load)\n",
    "                except pd.errors.EmptyDataError:\n",
    "                    n = 0\n",
    "                    df_load = pd.DataFrame()\n",
    "                df_result = pd.concat([df_result, df_load])\n",
    "                i += 1\n",
    "                if i % 100 == 0:\n",
    "                    print('Now saving the ' + str(i) + 'th result...')\n",
    "                    df_result.to_csv(resultDir + 'result_stage1_raw.csv', index=False)\n",
    "df_result.to_csv(resultDir + 'result_stage1_raw.csv', index=False)"
   ]
  },
  {
   "cell_type": "code",
   "execution_count": 8,
   "id": "295b2df7",
   "metadata": {},
   "outputs": [
    {
     "name": "stdout",
     "output_type": "stream",
     "text": [
      "841115\n"
     ]
    },
    {
     "data": {
      "text/html": [
       "<div>\n",
       "<style scoped>\n",
       "    .dataframe tbody tr th:only-of-type {\n",
       "        vertical-align: middle;\n",
       "    }\n",
       "\n",
       "    .dataframe tbody tr th {\n",
       "        vertical-align: top;\n",
       "    }\n",
       "\n",
       "    .dataframe thead th {\n",
       "        text-align: right;\n",
       "    }\n",
       "</style>\n",
       "<table border=\"1\" class=\"dataframe\">\n",
       "  <thead>\n",
       "    <tr style=\"text-align: right;\">\n",
       "      <th></th>\n",
       "      <th>fmin</th>\n",
       "      <th>max_depth</th>\n",
       "      <th>satellite_number</th>\n",
       "      <th>year</th>\n",
       "      <th>day_1</th>\n",
       "      <th>day_2</th>\n",
       "      <th>day_3</th>\n",
       "      <th>hour_1</th>\n",
       "      <th>hour_2</th>\n",
       "      <th>minute_1</th>\n",
       "      <th>...</th>\n",
       "      <th>window_coord</th>\n",
       "      <th>mapping_Hz</th>\n",
       "      <th>mapping_km</th>\n",
       "      <th>details</th>\n",
       "      <th>Directory</th>\n",
       "      <th>Subdirectory</th>\n",
       "      <th>filename</th>\n",
       "      <th>station_code</th>\n",
       "      <th>station_number</th>\n",
       "      <th>rotated_metadata</th>\n",
       "    </tr>\n",
       "  </thead>\n",
       "  <tbody>\n",
       "    <tr>\n",
       "      <th>246492</th>\n",
       "      <td>1.673387</td>\n",
       "      <td>1092.000000</td>\n",
       "      <td>1.0</td>\n",
       "      <td>3.0</td>\n",
       "      <td>1.0</td>\n",
       "      <td>1.0</td>\n",
       "      <td>1.0</td>\n",
       "      <td>8.0</td>\n",
       "      <td>1.0</td>\n",
       "      <td>2.0</td>\n",
       "      <td>...</td>\n",
       "      <td>NaN</td>\n",
       "      <td>NaN</td>\n",
       "      <td>NaN</td>\n",
       "      <td>NaN</td>\n",
       "      <td>R014207929F</td>\n",
       "      <td>457</td>\n",
       "      <td>Image0357.png</td>\n",
       "      <td>NaN</td>\n",
       "      <td>NaN</td>\n",
       "      <td>NaN</td>\n",
       "    </tr>\n",
       "    <tr>\n",
       "      <th>309925</th>\n",
       "      <td>1.528226</td>\n",
       "      <td>1240.740741</td>\n",
       "      <td>1.0</td>\n",
       "      <td>2.0</td>\n",
       "      <td>2.0</td>\n",
       "      <td>8.0</td>\n",
       "      <td>6.0</td>\n",
       "      <td>0.0</td>\n",
       "      <td>2.0</td>\n",
       "      <td>3.0</td>\n",
       "      <td>...</td>\n",
       "      <td>NaN</td>\n",
       "      <td>NaN</td>\n",
       "      <td>NaN</td>\n",
       "      <td>NaN</td>\n",
       "      <td>R014207939</td>\n",
       "      <td>867-B</td>\n",
       "      <td>113.png</td>\n",
       "      <td>NaN</td>\n",
       "      <td>NaN</td>\n",
       "      <td>NaN</td>\n",
       "    </tr>\n",
       "    <tr>\n",
       "      <th>760490</th>\n",
       "      <td>1.681452</td>\n",
       "      <td>1033.333333</td>\n",
       "      <td>1.0</td>\n",
       "      <td>3.0</td>\n",
       "      <td>1.0</td>\n",
       "      <td>1.0</td>\n",
       "      <td>0.0</td>\n",
       "      <td>1.0</td>\n",
       "      <td>2.0</td>\n",
       "      <td>0.0</td>\n",
       "      <td>...</td>\n",
       "      <td>NaN</td>\n",
       "      <td>NaN</td>\n",
       "      <td>NaN</td>\n",
       "      <td>NaN</td>\n",
       "      <td>R014207974</td>\n",
       "      <td>763-A</td>\n",
       "      <td>154.png</td>\n",
       "      <td>NaN</td>\n",
       "      <td>NaN</td>\n",
       "      <td>NaN</td>\n",
       "    </tr>\n",
       "    <tr>\n",
       "      <th>191726</th>\n",
       "      <td>1.528226</td>\n",
       "      <td>1272.093023</td>\n",
       "      <td>NaN</td>\n",
       "      <td>NaN</td>\n",
       "      <td>4.0</td>\n",
       "      <td>6.0</td>\n",
       "      <td>6.0</td>\n",
       "      <td>8.0</td>\n",
       "      <td>6.0</td>\n",
       "      <td>4.0</td>\n",
       "      <td>...</td>\n",
       "      <td>NaN</td>\n",
       "      <td>NaN</td>\n",
       "      <td>NaN</td>\n",
       "      <td>NaN</td>\n",
       "      <td>R014207907F</td>\n",
       "      <td>538</td>\n",
       "      <td>Image0359.png</td>\n",
       "      <td>6.0</td>\n",
       "      <td>6.0</td>\n",
       "      <td>NaN</td>\n",
       "    </tr>\n",
       "    <tr>\n",
       "      <th>71842</th>\n",
       "      <td>1.693548</td>\n",
       "      <td>1280.769231</td>\n",
       "      <td>1.0</td>\n",
       "      <td>1.0</td>\n",
       "      <td>1.0</td>\n",
       "      <td>1.0</td>\n",
       "      <td>1.0</td>\n",
       "      <td>1.0</td>\n",
       "      <td>1.0</td>\n",
       "      <td>2.0</td>\n",
       "      <td>...</td>\n",
       "      <td>NaN</td>\n",
       "      <td>NaN</td>\n",
       "      <td>NaN</td>\n",
       "      <td>NaN</td>\n",
       "      <td>R014207824</td>\n",
       "      <td>3137-14A</td>\n",
       "      <td>120.png</td>\n",
       "      <td>NaN</td>\n",
       "      <td>NaN</td>\n",
       "      <td>NaN</td>\n",
       "    </tr>\n",
       "    <tr>\n",
       "      <th>155660</th>\n",
       "      <td>1.705645</td>\n",
       "      <td>1277.551020</td>\n",
       "      <td>NaN</td>\n",
       "      <td>NaN</td>\n",
       "      <td>NaN</td>\n",
       "      <td>NaN</td>\n",
       "      <td>NaN</td>\n",
       "      <td>NaN</td>\n",
       "      <td>NaN</td>\n",
       "      <td>NaN</td>\n",
       "      <td>...</td>\n",
       "      <td>[[761.   0.]\\n [762.   0.]\\n [763.   0.]\\n ......</td>\n",
       "      <td>{1.5: 149, 2.0: 273, 2.5: 335, 3.5: 390, 4.5: ...</td>\n",
       "      <td>{100: 47, 200: 96}</td>\n",
       "      <td>NaN</td>\n",
       "      <td>R014207844</td>\n",
       "      <td>2842-43B</td>\n",
       "      <td>318.png</td>\n",
       "      <td>NaN</td>\n",
       "      <td>NaN</td>\n",
       "      <td>NaN</td>\n",
       "    </tr>\n",
       "    <tr>\n",
       "      <th>793196</th>\n",
       "      <td>1.552419</td>\n",
       "      <td>993.023256</td>\n",
       "      <td>NaN</td>\n",
       "      <td>NaN</td>\n",
       "      <td>6.0</td>\n",
       "      <td>4.0</td>\n",
       "      <td>2.0</td>\n",
       "      <td>2.0</td>\n",
       "      <td>4.0</td>\n",
       "      <td>1.0</td>\n",
       "      <td>...</td>\n",
       "      <td>NaN</td>\n",
       "      <td>NaN</td>\n",
       "      <td>NaN</td>\n",
       "      <td>NaN</td>\n",
       "      <td>R014207978F</td>\n",
       "      <td>316</td>\n",
       "      <td>Image0131.png</td>\n",
       "      <td>1.0</td>\n",
       "      <td>1.0</td>\n",
       "      <td>NaN</td>\n",
       "    </tr>\n",
       "    <tr>\n",
       "      <th>652542</th>\n",
       "      <td>1.657258</td>\n",
       "      <td>2964.285714</td>\n",
       "      <td>1.0</td>\n",
       "      <td>4.0</td>\n",
       "      <td>0.0</td>\n",
       "      <td>2.0</td>\n",
       "      <td>7.0</td>\n",
       "      <td>2.0</td>\n",
       "      <td>2.0</td>\n",
       "      <td>4.0</td>\n",
       "      <td>...</td>\n",
       "      <td>NaN</td>\n",
       "      <td>NaN</td>\n",
       "      <td>NaN</td>\n",
       "      <td>NaN</td>\n",
       "      <td>R014207964</td>\n",
       "      <td>1619-4A</td>\n",
       "      <td>69.png</td>\n",
       "      <td>NaN</td>\n",
       "      <td>NaN</td>\n",
       "      <td>NaN</td>\n",
       "    </tr>\n",
       "    <tr>\n",
       "      <th>751275</th>\n",
       "      <td>1.665323</td>\n",
       "      <td>873.584906</td>\n",
       "      <td>1.0</td>\n",
       "      <td>3.0</td>\n",
       "      <td>3.0</td>\n",
       "      <td>1.0</td>\n",
       "      <td>7.0</td>\n",
       "      <td>2.0</td>\n",
       "      <td>0.0</td>\n",
       "      <td>4.0</td>\n",
       "      <td>...</td>\n",
       "      <td>NaN</td>\n",
       "      <td>NaN</td>\n",
       "      <td>NaN</td>\n",
       "      <td>NaN</td>\n",
       "      <td>R014207970</td>\n",
       "      <td>1384-8A</td>\n",
       "      <td>289.png</td>\n",
       "      <td>NaN</td>\n",
       "      <td>NaN</td>\n",
       "      <td>NaN</td>\n",
       "    </tr>\n",
       "    <tr>\n",
       "      <th>127971</th>\n",
       "      <td>1.500000</td>\n",
       "      <td>1404.255319</td>\n",
       "      <td>0.0</td>\n",
       "      <td>0.0</td>\n",
       "      <td>2.0</td>\n",
       "      <td>0.0</td>\n",
       "      <td>0.0</td>\n",
       "      <td>4.0</td>\n",
       "      <td>0.0</td>\n",
       "      <td>0.0</td>\n",
       "      <td>...</td>\n",
       "      <td>NaN</td>\n",
       "      <td>NaN</td>\n",
       "      <td>NaN</td>\n",
       "      <td>NaN</td>\n",
       "      <td>R014207841</td>\n",
       "      <td>3086-13B</td>\n",
       "      <td>83.png</td>\n",
       "      <td>NaN</td>\n",
       "      <td>NaN</td>\n",
       "      <td>NaN</td>\n",
       "    </tr>\n",
       "  </tbody>\n",
       "</table>\n",
       "<p>10 rows × 38 columns</p>\n",
       "</div>"
      ],
      "text/plain": [
       "            fmin    max_depth  satellite_number  year  day_1  day_2  day_3  \\\n",
       "246492  1.673387  1092.000000               1.0   3.0    1.0    1.0    1.0   \n",
       "309925  1.528226  1240.740741               1.0   2.0    2.0    8.0    6.0   \n",
       "760490  1.681452  1033.333333               1.0   3.0    1.0    1.0    0.0   \n",
       "191726  1.528226  1272.093023               NaN   NaN    4.0    6.0    6.0   \n",
       "71842   1.693548  1280.769231               1.0   1.0    1.0    1.0    1.0   \n",
       "155660  1.705645  1277.551020               NaN   NaN    NaN    NaN    NaN   \n",
       "793196  1.552419   993.023256               NaN   NaN    6.0    4.0    2.0   \n",
       "652542  1.657258  2964.285714               1.0   4.0    0.0    2.0    7.0   \n",
       "751275  1.665323   873.584906               1.0   3.0    3.0    1.0    7.0   \n",
       "127971  1.500000  1404.255319               0.0   0.0    2.0    0.0    0.0   \n",
       "\n",
       "        hour_1  hour_2  minute_1  ...  \\\n",
       "246492     8.0     1.0       2.0  ...   \n",
       "309925     0.0     2.0       3.0  ...   \n",
       "760490     1.0     2.0       0.0  ...   \n",
       "191726     8.0     6.0       4.0  ...   \n",
       "71842      1.0     1.0       2.0  ...   \n",
       "155660     NaN     NaN       NaN  ...   \n",
       "793196     2.0     4.0       1.0  ...   \n",
       "652542     2.0     2.0       4.0  ...   \n",
       "751275     2.0     0.0       4.0  ...   \n",
       "127971     4.0     0.0       0.0  ...   \n",
       "\n",
       "                                             window_coord  \\\n",
       "246492                                                NaN   \n",
       "309925                                                NaN   \n",
       "760490                                                NaN   \n",
       "191726                                                NaN   \n",
       "71842                                                 NaN   \n",
       "155660  [[761.   0.]\\n [762.   0.]\\n [763.   0.]\\n ......   \n",
       "793196                                                NaN   \n",
       "652542                                                NaN   \n",
       "751275                                                NaN   \n",
       "127971                                                NaN   \n",
       "\n",
       "                                               mapping_Hz          mapping_km  \\\n",
       "246492                                                NaN                 NaN   \n",
       "309925                                                NaN                 NaN   \n",
       "760490                                                NaN                 NaN   \n",
       "191726                                                NaN                 NaN   \n",
       "71842                                                 NaN                 NaN   \n",
       "155660  {1.5: 149, 2.0: 273, 2.5: 335, 3.5: 390, 4.5: ...  {100: 47, 200: 96}   \n",
       "793196                                                NaN                 NaN   \n",
       "652542                                                NaN                 NaN   \n",
       "751275                                                NaN                 NaN   \n",
       "127971                                                NaN                 NaN   \n",
       "\n",
       "        details    Directory Subdirectory       filename station_code  \\\n",
       "246492      NaN  R014207929F          457  Image0357.png          NaN   \n",
       "309925      NaN   R014207939        867-B        113.png          NaN   \n",
       "760490      NaN   R014207974        763-A        154.png          NaN   \n",
       "191726      NaN  R014207907F          538  Image0359.png          6.0   \n",
       "71842       NaN   R014207824     3137-14A        120.png          NaN   \n",
       "155660      NaN   R014207844     2842-43B        318.png          NaN   \n",
       "793196      NaN  R014207978F          316  Image0131.png          1.0   \n",
       "652542      NaN   R014207964      1619-4A         69.png          NaN   \n",
       "751275      NaN   R014207970      1384-8A        289.png          NaN   \n",
       "127971      NaN   R014207841     3086-13B         83.png          NaN   \n",
       "\n",
       "        station_number  rotated_metadata  \n",
       "246492             NaN               NaN  \n",
       "309925             NaN               NaN  \n",
       "760490             NaN               NaN  \n",
       "191726             6.0               NaN  \n",
       "71842              NaN               NaN  \n",
       "155660             NaN               NaN  \n",
       "793196             1.0               NaN  \n",
       "652542             NaN               NaN  \n",
       "751275             NaN               NaN  \n",
       "127971             NaN               NaN  \n",
       "\n",
       "[10 rows x 38 columns]"
      ]
     },
     "execution_count": 8,
     "metadata": {},
     "output_type": "execute_result"
    }
   ],
   "source": [
    "df_result = pd.read_csv(resultDir + 'result_stage1_raw.csv')\n",
    "print(len(df_result))\n",
    "df_result.sample(10)"
   ]
  },
  {
   "cell_type": "markdown",
   "id": "2157a0ae",
   "metadata": {},
   "source": [
    "#  "
   ]
  },
  {
   "cell_type": "markdown",
   "id": "e34e963a",
   "metadata": {},
   "source": [
    "#### Concatenate 'OCR pass' results - START HERE after stage 2 processeing (OCR processing stage):"
   ]
  },
  {
   "cell_type": "code",
   "execution_count": null,
   "id": "098dab53",
   "metadata": {},
   "outputs": [],
   "source": [
    "df_result = pd.DataFrame()\n",
    "i = 0\n",
    "for file in os.listdir(resultDir):\n",
    "    if 'R' in file:\n",
    "        directory = file\n",
    "        for file2 in os.listdir(resultDir + directory + '/'):\n",
    "            if 'result_OCRpass' in file2:\n",
    "                fn_parts = file2.split('_')\n",
    "                subdirectory = fn_parts[2].replace('.csv', '')\n",
    "                if i > 0:\n",
    "                    if i % 100 == 0:\n",
    "                        df_result = pd.read_csv(resultDir + 'result_stage2_raw.csv', low_memory=False)\n",
    "                        print(len(df_result))\n",
    "                try:\n",
    "                    df_load = pd.read_csv(resultDir + directory + '/' + file2, sep=',')\n",
    "                    n = len(df_load)\n",
    "                except pd.errors.EmptyDataError:\n",
    "                    n = 0\n",
    "                df_result = pd.concat([df_result, df_load])\n",
    "                i += 1\n",
    "                if i % 100 == 0:\n",
    "                    print('Now saving the ' + str(i) + 'th result...')\n",
    "                    df_result.to_csv(resultDir + 'result_stage2_raw.csv', index=False)\n",
    "df_result.to_csv(resultDir + 'result_stage2_raw.csv', index=False)"
   ]
  },
  {
   "cell_type": "markdown",
   "id": "9b20c903",
   "metadata": {},
   "source": [
    "#  "
   ]
  },
  {
   "cell_type": "markdown",
   "id": "d44163b2",
   "metadata": {},
   "source": [
    "#### Reduce columns:"
   ]
  },
  {
   "cell_type": "code",
   "execution_count": null,
   "id": "2219830e",
   "metadata": {},
   "outputs": [],
   "source": [
    "df_result = pd.read_csv(resultDir + 'result_stage2_raw.csv', low_memory=False)\n",
    "print(len(df_result))\n",
    "df_result.head()"
   ]
  },
  {
   "cell_type": "code",
   "execution_count": null,
   "id": "801907a3",
   "metadata": {},
   "outputs": [],
   "source": [
    "df_result['year_1'] = df_result['year']\n",
    "df_result = df_result[['Directory', 'Subdirectory', 'filename', 'processed_image_class', 'fmin', 'max_depth', \n",
    "                       'station_number', 'station_number_1', 'station_number_2', 'year_1', 'day_1', 'day_2', 'day_3', \n",
    "                       'hour_1', 'hour_2', 'minute_1', 'minute_2', 'second_1', 'second_2', 'satellite_number', \n",
    "                       'station_number_OCR', 'year_OCR', 'day_of_year_OCR', 'hour_OCR', 'minute_OCR', 'second_OCR', \n",
    "                       'metadata_type', 'is_dot', 'func_name', 'details']] \n",
    "df_result.sample(10)"
   ]
  },
  {
   "cell_type": "markdown",
   "id": "1ba53fdb",
   "metadata": {},
   "source": [
    "#  "
   ]
  },
  {
   "cell_type": "markdown",
   "id": "b23a3aa9",
   "metadata": {},
   "source": [
    "#### Split results into different metadata types (dot, num, num2):"
   ]
  },
  {
   "cell_type": "code",
   "execution_count": null,
   "id": "d08d4bb1",
   "metadata": {},
   "outputs": [],
   "source": [
    "df_result['processed_image_class'].unique()"
   ]
  },
  {
   "cell_type": "code",
   "execution_count": null,
   "id": "1be90f1a",
   "metadata": {},
   "outputs": [],
   "source": [
    "df_num2 = df_result.loc[df_result['processed_image_class'] == 'num2']\n",
    "print(len(df_num2))"
   ]
  },
  {
   "cell_type": "code",
   "execution_count": null,
   "id": "203c553d",
   "metadata": {},
   "outputs": [],
   "source": [
    "df_num = df_result.loc[df_result['processed_image_class'] == 'num']\n",
    "print(len(df_num))"
   ]
  },
  {
   "cell_type": "code",
   "execution_count": null,
   "id": "187933db",
   "metadata": {},
   "outputs": [],
   "source": [
    "df_dot = df_result.loc[df_result['processed_image_class'] == 'dot']\n",
    "print(len(df_dot))"
   ]
  },
  {
   "cell_type": "code",
   "execution_count": null,
   "id": "b3252ff5",
   "metadata": {},
   "outputs": [],
   "source": [
    "df_outlier = df_result.loc[df_result['processed_image_class'] == 'outlier']\n",
    "print(len(df_outlier))"
   ]
  },
  {
   "cell_type": "code",
   "execution_count": null,
   "id": "ffe172aa",
   "metadata": {},
   "outputs": [],
   "source": [
    "df_loss = df_result.loc[df_result['processed_image_class'] == 'loss']\n",
    "print(len(df_loss))"
   ]
  },
  {
   "cell_type": "code",
   "execution_count": null,
   "id": "60121878",
   "metadata": {},
   "outputs": [],
   "source": [
    "len(df_num2) + len(df_num) + len(df_dot) + len(df_outlier) + len(df_loss)"
   ]
  },
  {
   "cell_type": "markdown",
   "id": "4604e196",
   "metadata": {},
   "source": [
    "  "
   ]
  },
  {
   "cell_type": "markdown",
   "id": "1d1701aa",
   "metadata": {},
   "source": [
    "#### num2 - check timestamp components, construct timestamp:"
   ]
  },
  {
   "cell_type": "code",
   "execution_count": null,
   "id": "b2b05252",
   "metadata": {},
   "outputs": [],
   "source": [
    "df_num2[['year_OCR', 'day_of_year_OCR', 'hour_OCR', 'minute_OCR', 'second_OCR']].sample(10)"
   ]
  },
  {
   "cell_type": "markdown",
   "id": "cd2f64d7",
   "metadata": {},
   "source": [
    "year:"
   ]
  },
  {
   "cell_type": "code",
   "execution_count": null,
   "id": "a9883a43",
   "metadata": {},
   "outputs": [],
   "source": [
    "df_num2 = df_num2.copy(deep=True)\n",
    "df_num2['year_OCR'] = df_num2['year_OCR'].astype('float')\n",
    "sns.histplot(data=df_num2, x='year_OCR')"
   ]
  },
  {
   "cell_type": "code",
   "execution_count": null,
   "id": "10f1387d",
   "metadata": {},
   "outputs": [],
   "source": [
    "df_num2['year_OCR'] = df_num2['year_OCR'].apply(lambda x: np.nan if x<62 else x)\n",
    "df_num2['year_OCR'] = df_num2['year_OCR'].apply(lambda x: np.nan if x>80 else x)"
   ]
  },
  {
   "cell_type": "code",
   "execution_count": null,
   "id": "d7714fbd",
   "metadata": {},
   "outputs": [],
   "source": [
    "df_num2['year'] = df_num2['year_OCR'] + 1900\n",
    "df_num2[['year', 'year_OCR']].sample(10)"
   ]
  },
  {
   "cell_type": "markdown",
   "id": "d08d7c57",
   "metadata": {},
   "source": [
    "day:"
   ]
  },
  {
   "cell_type": "code",
   "execution_count": null,
   "id": "5b13d5a1",
   "metadata": {},
   "outputs": [],
   "source": [
    "df_num2['day_of_year_OCR'] = df_num2['day_of_year_OCR'].astype('float')\n",
    "sns.histplot(data=df_num2, x='day_of_year_OCR')"
   ]
  },
  {
   "cell_type": "code",
   "execution_count": null,
   "id": "2f6b5822",
   "metadata": {},
   "outputs": [],
   "source": [
    "df_num2['day_of_year_OCR'] = df_num2['day_of_year_OCR'].apply(lambda x: np.nan if x>366 else x)\n",
    "df_num2['day_of_year_OCR'] = df_num2['day_of_year_OCR'].apply(lambda x: np.nan if x==0 else x)\n",
    "df_num2['day_of_year'] = df_num2['day_of_year_OCR']\n",
    "df_num2[['day_of_year', 'day_of_year_OCR']].sample(10)"
   ]
  },
  {
   "cell_type": "markdown",
   "id": "7399afbc",
   "metadata": {},
   "source": [
    "hour:"
   ]
  },
  {
   "cell_type": "code",
   "execution_count": null,
   "id": "dfe54285",
   "metadata": {},
   "outputs": [],
   "source": [
    "df_num2['hour_OCR'] = df_num2['hour_OCR'].astype('float')\n",
    "sns.histplot(data=df_num2, x='hour_OCR')"
   ]
  },
  {
   "cell_type": "code",
   "execution_count": null,
   "id": "e03ec071",
   "metadata": {},
   "outputs": [],
   "source": [
    "df_num2['hour_OCR'] = df_num2['hour_OCR'].apply(lambda x: np.nan if x>24 else x)\n",
    "df_num2['hour'] = df_num2['hour_OCR']\n",
    "df_num2[['hour', 'hour_OCR']].sample(10)"
   ]
  },
  {
   "cell_type": "markdown",
   "id": "f068ac36",
   "metadata": {},
   "source": [
    "minute:"
   ]
  },
  {
   "cell_type": "code",
   "execution_count": null,
   "id": "467fa7aa",
   "metadata": {},
   "outputs": [],
   "source": [
    "df_num2['minute_OCR'] = df_num2['minute_OCR'].astype('float')\n",
    "sns.histplot(data=df_num2, x='minute_OCR')"
   ]
  },
  {
   "cell_type": "code",
   "execution_count": null,
   "id": "f1d6ecd6",
   "metadata": {},
   "outputs": [],
   "source": [
    "df_num2['minute_OCR'] = df_num2['minute_OCR'].apply(lambda x: np.nan if x>60 else x)\n",
    "df_num2['minute'] = df_num2['minute_OCR']\n",
    "df_num2[['minute', 'minute_OCR']].sample(10)"
   ]
  },
  {
   "cell_type": "markdown",
   "id": "3f657cb1",
   "metadata": {},
   "source": [
    "second:"
   ]
  },
  {
   "cell_type": "code",
   "execution_count": null,
   "id": "48157351",
   "metadata": {},
   "outputs": [],
   "source": [
    "df_num2['second_OCR'] = df_num2['second_OCR'].astype('float')\n",
    "sns.histplot(data=df_num2, x='second_OCR')"
   ]
  },
  {
   "cell_type": "code",
   "execution_count": null,
   "id": "2241aa37",
   "metadata": {},
   "outputs": [],
   "source": [
    "df_num2['second_OCR'] = df_num2['second_OCR'].apply(lambda x: np.nan if x>60 else x)\n",
    "df_num2['second'] = df_num2['second_OCR']\n",
    "df_num2[['second', 'second_OCR']].sample(10)"
   ]
  },
  {
   "cell_type": "markdown",
   "id": "89c68eb0",
   "metadata": {},
   "source": [
    "construct timestamp:"
   ]
  },
  {
   "cell_type": "code",
   "execution_count": null,
   "id": "a50d1919",
   "metadata": {},
   "outputs": [],
   "source": [
    "df_num2 = construct_timestamp(df_in=df_num2)\n",
    "print(len(df_num2))"
   ]
  },
  {
   "cell_type": "code",
   "execution_count": null,
   "id": "83025c56",
   "metadata": {},
   "outputs": [],
   "source": [
    "df_num2[['year', 'month', 'day', 'hour', 'minute', 'second', 'Timestamp', 'time_quality']].sample(10)"
   ]
  },
  {
   "cell_type": "markdown",
   "id": "850f103b",
   "metadata": {},
   "source": [
    "#  "
   ]
  },
  {
   "cell_type": "markdown",
   "id": "bcd35a97",
   "metadata": {},
   "source": [
    "#### num - check timestamp components, construct timestamp:"
   ]
  },
  {
   "cell_type": "code",
   "execution_count": null,
   "id": "e21e57a1",
   "metadata": {},
   "outputs": [],
   "source": [
    "df_num[['year_1', 'day_1', 'day_2', 'day_3', 'hour_1', 'hour_2', 'minute_1', 'minute_2', 'second_1', 'second_2']].sample(10)"
   ]
  },
  {
   "cell_type": "markdown",
   "id": "ceaf3e06",
   "metadata": {},
   "source": [
    "year - adjust to baseline 1962:"
   ]
  },
  {
   "cell_type": "code",
   "execution_count": null,
   "id": "0bb9d404",
   "metadata": {},
   "outputs": [],
   "source": [
    "df_num = df_num.copy(deep=True)\n",
    "df_num['year'] = df_num['year_1'] + 1962\n",
    "df_num['year'] = df_num['year'].astype('float')\n",
    "sns.histplot(data=df_num, x='year')"
   ]
  },
  {
   "cell_type": "code",
   "execution_count": null,
   "id": "280442c8",
   "metadata": {},
   "outputs": [],
   "source": [
    "df_num['year'] = df_num['year'].apply(lambda x: np.nan if x<1962 else x)\n",
    "df_num['year'] = df_num['year'].apply(lambda x: np.nan if x>1980 else x)\n",
    "df_num[['year', 'year_1']].sample(10)"
   ]
  },
  {
   "cell_type": "markdown",
   "id": "c155f791",
   "metadata": {},
   "source": [
    "day:"
   ]
  },
  {
   "cell_type": "code",
   "execution_count": null,
   "id": "8c026e1d",
   "metadata": {},
   "outputs": [],
   "source": [
    "df_num['day_1'] = df_num['day_1'].astype(int)\n",
    "sns.histplot(data=df_num, x='day_1')"
   ]
  },
  {
   "cell_type": "code",
   "execution_count": null,
   "id": "5cbc533f",
   "metadata": {},
   "outputs": [],
   "source": [
    "df_num['day_1'] = df_num['day_1'].apply(lambda x: np.nan if x>9 else x)"
   ]
  },
  {
   "cell_type": "code",
   "execution_count": null,
   "id": "5c0b781d",
   "metadata": {},
   "outputs": [],
   "source": [
    "df_num['day_2'] = df_num['day_2'].astype(int)\n",
    "sns.histplot(data=df_num, x='day_2')"
   ]
  },
  {
   "cell_type": "code",
   "execution_count": null,
   "id": "c3559660",
   "metadata": {},
   "outputs": [],
   "source": [
    "df_num['day_2'] = df_num['day_2'].apply(lambda x: np.nan if x>9 else x)"
   ]
  },
  {
   "cell_type": "code",
   "execution_count": null,
   "id": "62dadeaa",
   "metadata": {},
   "outputs": [],
   "source": [
    "df_num['day_3'] = df_num['day_3'].astype(int)\n",
    "sns.histplot(data=df_num, x='day_3')"
   ]
  },
  {
   "cell_type": "code",
   "execution_count": null,
   "id": "c8231cbe",
   "metadata": {},
   "outputs": [],
   "source": [
    "df_num['day_3'] = df_num['day_3'].apply(lambda x: np.nan if x>9 else x)"
   ]
  },
  {
   "cell_type": "code",
   "execution_count": null,
   "id": "282af71f",
   "metadata": {},
   "outputs": [],
   "source": [
    "df_num_daycheck = df_num[~pd.isna(df_num['day_1'])]\n",
    "df_num_daycheck = df_num_daycheck[~pd.isna(df_num_daycheck['day_2'])]\n",
    "df_num_daycheck = df_num_daycheck[~pd.isna(df_num_daycheck['day_3'])]\n",
    "df_num_daycheck['day_of_year'] = df_num_daycheck['day_1'].astype(int).astype(str) + df_num_daycheck['day_2'].astype(int).astype(str) + df_num_daycheck['day_3'].astype(int).astype(str)\n",
    "df_num_daycheck['day_of_year'] = df_num_daycheck['day_of_year'].astype(int)\n",
    "df_num_daycheck['day_of_year'] = df_num_daycheck['day_of_year'].apply(lambda x: np.nan if x>366 else x)\n",
    "df_num_daycheck['day_of_year'] = df_num_daycheck['day_of_year'].apply(lambda x: np.nan if x==0 else x)\n",
    "df_num_nullday = df_num.loc[pd.isna(df_num['day_1']) | pd.isna(df_num['day_2']) | pd.isna(df_num['day_3'])]\n",
    "df_num_nullday = df_num_nullday.copy(deep=True)\n",
    "df_num_nullday['day_of_year'] = np.nan\n",
    "df_num = pd.concat([df_num_daycheck, df_num_nullday])\n",
    "print(len(df_num))\n",
    "df_num[['day_of_year', 'day_1', 'day_2', 'day_3']].sample(10)"
   ]
  },
  {
   "cell_type": "markdown",
   "id": "b47049cf",
   "metadata": {},
   "source": [
    "hour:"
   ]
  },
  {
   "cell_type": "code",
   "execution_count": null,
   "id": "dd82fada",
   "metadata": {},
   "outputs": [],
   "source": [
    "df_num['hour_1'] = df_num['hour_1'].astype(int)\n",
    "sns.histplot(data=df_num, x='hour_1')"
   ]
  },
  {
   "cell_type": "code",
   "execution_count": null,
   "id": "2a2440a0",
   "metadata": {},
   "outputs": [],
   "source": [
    "df_num['hour_1'] = df_num['hour_1'].apply(lambda x: np.nan if x>9 else x)"
   ]
  },
  {
   "cell_type": "code",
   "execution_count": null,
   "id": "3df41e67",
   "metadata": {},
   "outputs": [],
   "source": [
    "df_num['hour_2'] = df_num['hour_2'].astype(int)\n",
    "sns.histplot(data=df_num, x='hour_2')"
   ]
  },
  {
   "cell_type": "code",
   "execution_count": null,
   "id": "c6da1b0c",
   "metadata": {},
   "outputs": [],
   "source": [
    "df_num['hour_2'] = df_num['hour_2'].apply(lambda x: np.nan if x>9 else x)"
   ]
  },
  {
   "cell_type": "code",
   "execution_count": null,
   "id": "cac39951",
   "metadata": {},
   "outputs": [],
   "source": [
    "df_num_hourcheck = df_num[~pd.isna(df_num['hour_1'])]\n",
    "df_num_hourcheck = df_num_hourcheck[~pd.isna(df_num_hourcheck['hour_2'])]\n",
    "df_num_hourcheck['hour'] = df_num_hourcheck['hour_1'].astype(int).astype(str) + df_num_hourcheck['hour_2'].astype(int).astype(str)\n",
    "df_num_hourcheck['hour'] = df_num_hourcheck['hour'].astype(int)\n",
    "df_num_hourcheck['hour'] = df_num_hourcheck['hour'].apply(lambda x: np.nan if x>23 else x)\n",
    "df_num_nullhour = df_num.loc[pd.isna(df_num['hour_1']) | pd.isna(df_num['hour_2'])]\n",
    "df_num_nullhour = df_num_nullhour.copy(deep=True)\n",
    "df_num_nullhour['hour'] = np.nan\n",
    "df_num = pd.concat([df_num_hourcheck, df_num_nullhour])\n",
    "print(len(df_num))\n",
    "df_num[['hour', 'hour_1', 'hour_2']].sample(10)"
   ]
  },
  {
   "cell_type": "markdown",
   "id": "6d4337b7",
   "metadata": {},
   "source": [
    "minute:"
   ]
  },
  {
   "cell_type": "code",
   "execution_count": null,
   "id": "329f79c6",
   "metadata": {},
   "outputs": [],
   "source": [
    "df_num['minute_1'] = df_num['minute_1'].astype(int)\n",
    "sns.histplot(data=df_num, x='minute_1')"
   ]
  },
  {
   "cell_type": "code",
   "execution_count": null,
   "id": "d90ad807",
   "metadata": {},
   "outputs": [],
   "source": [
    "df_num['minute_1'] = df_num['minute_1'].apply(lambda x: np.nan if x>9 else x)"
   ]
  },
  {
   "cell_type": "code",
   "execution_count": null,
   "id": "982acfd8",
   "metadata": {},
   "outputs": [],
   "source": [
    "df_num['minute_2'] = df_num['minute_2'].astype(int)\n",
    "sns.histplot(data=df_num, x='minute_2')"
   ]
  },
  {
   "cell_type": "code",
   "execution_count": null,
   "id": "45c2d6de",
   "metadata": {},
   "outputs": [],
   "source": [
    "df_num['minute_2'] = df_num['minute_2'].apply(lambda x: np.nan if x>9 else x)"
   ]
  },
  {
   "cell_type": "code",
   "execution_count": null,
   "id": "35a87c60",
   "metadata": {},
   "outputs": [],
   "source": [
    "df_num_mincheck = df_num[~pd.isna(df_num['minute_1'])]\n",
    "df_num_mincheck = df_num_mincheck[~pd.isna(df_num_mincheck['minute_2'])]\n",
    "df_num_mincheck['minute'] = df_num_mincheck['minute_1'].astype(int).astype(str) + df_num_mincheck['minute_2'].astype(int).astype(str)\n",
    "df_num_mincheck['minute'] = df_num_mincheck['minute'].astype(int)\n",
    "df_num_mincheck['minute'] = df_num_mincheck['minute'].apply(lambda x: np.nan if x>59 else x)\n",
    "df_num_nullmin = df_num.loc[pd.isna(df_num['minute_1']) | pd.isna(df_num['minute_2'])]\n",
    "df_num_nullmin = df_num_nullmin.copy(deep=True)\n",
    "df_num_nullmin['minute'] = np.nan\n",
    "df_num = pd.concat([df_num_mincheck, df_num_nullmin])\n",
    "print(len(df_num))\n",
    "df_num[['minute', 'minute_1', 'minute_2']].sample(10)"
   ]
  },
  {
   "cell_type": "markdown",
   "id": "6bd6cc07",
   "metadata": {},
   "source": [
    "second:"
   ]
  },
  {
   "cell_type": "code",
   "execution_count": null,
   "id": "a0a0b9f1",
   "metadata": {},
   "outputs": [],
   "source": [
    "df_num['second_1'] = df_num['second_1'].astype(int)\n",
    "sns.histplot(data=df_num, x='second_1')"
   ]
  },
  {
   "cell_type": "code",
   "execution_count": null,
   "id": "1d1b569f",
   "metadata": {},
   "outputs": [],
   "source": [
    "df_num['second_1'] = df_num['second_1'].apply(lambda x: np.nan if x>9 else x)"
   ]
  },
  {
   "cell_type": "code",
   "execution_count": null,
   "id": "b8cc5232",
   "metadata": {},
   "outputs": [],
   "source": [
    "df_num['second_2'] = df_num['second_2'].astype(int)\n",
    "sns.histplot(data=df_num, x='second_2')"
   ]
  },
  {
   "cell_type": "code",
   "execution_count": null,
   "id": "bbb3ae19",
   "metadata": {},
   "outputs": [],
   "source": [
    "df_num['second_2'] = df_num['second_2'].apply(lambda x: np.nan if x>9 else x)"
   ]
  },
  {
   "cell_type": "code",
   "execution_count": null,
   "id": "0eafd27a",
   "metadata": {},
   "outputs": [],
   "source": [
    "df_num_seccheck = df_num[~pd.isna(df_num['second_1'])]\n",
    "df_num_seccheck = df_num_seccheck[~pd.isna(df_num_seccheck['second_2'])]\n",
    "df_num_seccheck['second'] = df_num_seccheck['second_1'].astype(int).astype(str) + df_num_seccheck['second_2'].astype(int).astype(str)\n",
    "df_num_seccheck['second'] = df_num_seccheck['second'].astype(int)\n",
    "df_num_seccheck['second'] = df_num_seccheck['second'].apply(lambda x: np.nan if x>59 else x)\n",
    "df_num_nullsec = df_num.loc[pd.isna(df_num['second_1']) | pd.isna(df_num['second_2'])]\n",
    "df_num_nullsec = df_num_nullsec.copy(deep=True)\n",
    "df_num_nullsec['second'] = np.nan\n",
    "df_num = pd.concat([df_num_seccheck, df_num_nullsec])\n",
    "print(len(df_num))\n",
    "df_num[['second', 'second_1', 'second_2']].sample(10)"
   ]
  },
  {
   "cell_type": "markdown",
   "id": "c958e5ca",
   "metadata": {},
   "source": [
    "construct timestamp:"
   ]
  },
  {
   "cell_type": "code",
   "execution_count": null,
   "id": "6c203a20",
   "metadata": {},
   "outputs": [],
   "source": [
    "df_num = construct_timestamp(df_in=df_num)\n",
    "print(len(df_num))"
   ]
  },
  {
   "cell_type": "code",
   "execution_count": null,
   "id": "00dde2d2",
   "metadata": {},
   "outputs": [],
   "source": [
    "df_num[['year', 'month', 'day', 'hour', 'minute', 'second', 'Timestamp', 'time_quality']].sample(10)"
   ]
  },
  {
   "cell_type": "markdown",
   "id": "ca6e345a",
   "metadata": {},
   "source": [
    "#  "
   ]
  },
  {
   "cell_type": "markdown",
   "id": "e6f6e411",
   "metadata": {},
   "source": [
    "#### dot - check timestamp components, construct timestamp:"
   ]
  },
  {
   "cell_type": "code",
   "execution_count": null,
   "id": "c46e1d3a",
   "metadata": {},
   "outputs": [],
   "source": [
    "df_dot = df_dot.copy(deep=True)\n",
    "df_dot[['year_1', 'day_1', 'day_2', 'day_3', 'hour_1', 'hour_2', 'minute_1', 'minute_2', 'second_1', 'second_2', 'is_dot']].sample(10)"
   ]
  },
  {
   "cell_type": "markdown",
   "id": "f2752122",
   "metadata": {},
   "source": [
    "day:"
   ]
  },
  {
   "cell_type": "code",
   "execution_count": null,
   "id": "6f77f935",
   "metadata": {},
   "outputs": [],
   "source": [
    "df_dot['day_1'] = df_dot['day_1'].astype(int)\n",
    "sns.histplot(data=df_dot, x='day_1')"
   ]
  },
  {
   "cell_type": "code",
   "execution_count": null,
   "id": "a9b647f4",
   "metadata": {},
   "outputs": [],
   "source": [
    "df_dot['day_1'] = df_dot['day_1'].apply(lambda x: np.nan if x>9 else x)"
   ]
  },
  {
   "cell_type": "code",
   "execution_count": null,
   "id": "90dc5a4f",
   "metadata": {},
   "outputs": [],
   "source": [
    "df_dot['day_2'] = df_dot['day_2'].astype(int)\n",
    "sns.histplot(data=df_dot, x='day_2')"
   ]
  },
  {
   "cell_type": "code",
   "execution_count": null,
   "id": "207dcc83",
   "metadata": {},
   "outputs": [],
   "source": [
    "df_dot['day_2'] = df_dot['day_2'].apply(lambda x: np.nan if x>9 else x)"
   ]
  },
  {
   "cell_type": "code",
   "execution_count": null,
   "id": "1e1a1f93",
   "metadata": {},
   "outputs": [],
   "source": [
    "df_dot['day_3'] = df_dot['day_3'].astype(int)\n",
    "sns.histplot(data=df_dot, x='day_3')"
   ]
  },
  {
   "cell_type": "code",
   "execution_count": null,
   "id": "feb1b2cf",
   "metadata": {},
   "outputs": [],
   "source": [
    "df_dot['day_3'] = df_dot['day_3'].apply(lambda x: np.nan if x>9 else x)"
   ]
  },
  {
   "cell_type": "code",
   "execution_count": null,
   "id": "14ba9eb5",
   "metadata": {},
   "outputs": [],
   "source": [
    "df_dot_daycheck = df_dot[~pd.isna(df_dot['day_1'])]\n",
    "df_dot_daycheck = df_dot_daycheck[~pd.isna(df_dot_daycheck['day_2'])]\n",
    "df_dot_daycheck = df_dot_daycheck[~pd.isna(df_dot_daycheck['day_3'])]\n",
    "df_dot_daycheck['day_of_year'] = df_dot_daycheck['day_1'].astype(int).astype(str) + df_dot_daycheck['day_2'].astype(int).astype(str) + df_dot_daycheck['day_3'].astype(int).astype(str)\n",
    "df_dot_daycheck['day_of_year'] = df_dot_daycheck['day_of_year'].astype(int)\n",
    "df_dot_daycheck['day_of_year'] = df_dot_daycheck['day_of_year'].apply(lambda x: np.nan if x>366 else x)\n",
    "df_dot_daycheck['day_of_year'] = df_dot_daycheck['day_of_year'].apply(lambda x: np.nan if x==0 else x)\n",
    "df_dot_nullday = df_dot.loc[pd.isna(df_dot['day_1']) | pd.isna(df_dot['day_2']) | pd.isna(df_dot['day_3'])]\n",
    "df_dot_nullday = df_dot_nullday.copy(deep=True)\n",
    "df_dot_nullday['day_of_year'] = np.nan\n",
    "df_dot = pd.concat([df_dot_daycheck, df_dot_nullday])\n",
    "print(len(df_dot))\n",
    "df_dot[['day_of_year', 'day_1', 'day_2', 'day_3']].sample(10)"
   ]
  },
  {
   "cell_type": "markdown",
   "id": "4a362cd7",
   "metadata": {},
   "source": [
    "year - infer from day:"
   ]
  },
  {
   "cell_type": "code",
   "execution_count": null,
   "id": "03746f1c",
   "metadata": {},
   "outputs": [],
   "source": [
    "df_dot['year'] = np.nan\n",
    "for i in range(0, len(df_dot)):\n",
    "    day = df_dot['day_of_year'].iloc[i]\n",
    "    if (day < 366) & (day > 0):\n",
    "        if day > 271:\n",
    "            df_dot['year'].iloc[i] = 1962\n",
    "        else:\n",
    "            df_dot['year'].iloc[i] = 1963\n",
    "df_dot[['year', 'day_of_year', 'day_1', 'day_2', 'day_3']].sample(10)"
   ]
  },
  {
   "cell_type": "markdown",
   "id": "fc9b01cc",
   "metadata": {},
   "source": [
    "hour:"
   ]
  },
  {
   "cell_type": "code",
   "execution_count": null,
   "id": "443cf13c",
   "metadata": {},
   "outputs": [],
   "source": [
    "df_dot['hour_1'] = df_dot['hour_1'].astype(int)\n",
    "sns.histplot(data=df_dot, x='hour_1')"
   ]
  },
  {
   "cell_type": "code",
   "execution_count": null,
   "id": "194d1da6",
   "metadata": {},
   "outputs": [],
   "source": [
    "df_dot['hour_1'] = df_dot['hour_1'].apply(lambda x: np.nan if x>9 else x)"
   ]
  },
  {
   "cell_type": "code",
   "execution_count": null,
   "id": "f79835d6",
   "metadata": {},
   "outputs": [],
   "source": [
    "df_dot['hour_2'] = df_dot['hour_2'].astype(int)\n",
    "sns.histplot(data=df_dot, x='hour_2')"
   ]
  },
  {
   "cell_type": "code",
   "execution_count": null,
   "id": "e75eba37",
   "metadata": {},
   "outputs": [],
   "source": [
    "df_dot['hour_2'] = df_dot['hour_2'].apply(lambda x: np.nan if x>9 else x)"
   ]
  },
  {
   "cell_type": "code",
   "execution_count": null,
   "id": "32899cb8",
   "metadata": {},
   "outputs": [],
   "source": [
    "df_dot_hourcheck = df_dot[~pd.isna(df_dot['hour_1'])]\n",
    "df_dot_hourcheck = df_dot_hourcheck[~pd.isna(df_dot_hourcheck['hour_2'])]\n",
    "df_dot_hourcheck['hour'] = df_dot_hourcheck['hour_1'].astype(int).astype(str) + df_dot_hourcheck['hour_2'].astype(int).astype(str)\n",
    "df_dot_hourcheck['hour'] = df_dot_hourcheck['hour'].astype(int)\n",
    "df_dot_hourcheck['hour'] = df_dot_hourcheck['hour'].apply(lambda x: np.nan if x>23 else x)\n",
    "df_dot_nullhour = df_dot.loc[pd.isna(df_dot['hour_1']) | pd.isna(df_dot['hour_2'])]\n",
    "df_dot_nullhour = df_dot_nullhour.copy(deep=True)\n",
    "df_dot_nullhour['hour'] = np.nan\n",
    "df_dot = pd.concat([df_dot_hourcheck, df_dot_nullhour])\n",
    "print(len(df_dot))\n",
    "df_dot[['hour', 'hour_1', 'hour_2']].sample(10)"
   ]
  },
  {
   "cell_type": "markdown",
   "id": "0c516395",
   "metadata": {},
   "source": [
    "minute:"
   ]
  },
  {
   "cell_type": "code",
   "execution_count": null,
   "id": "d5822474",
   "metadata": {},
   "outputs": [],
   "source": [
    "df_dot['minute_1'] = df_dot['minute_1'].astype(int)\n",
    "sns.histplot(data=df_dot, x='minute_1')"
   ]
  },
  {
   "cell_type": "code",
   "execution_count": null,
   "id": "791be493",
   "metadata": {},
   "outputs": [],
   "source": [
    "df_dot['minute_1'] = df_dot['minute_1'].apply(lambda x: np.nan if x>9 else x)"
   ]
  },
  {
   "cell_type": "code",
   "execution_count": null,
   "id": "5e58d79b",
   "metadata": {},
   "outputs": [],
   "source": [
    "df_dot['minute_2'] = df_dot['minute_2'].astype(int)\n",
    "sns.histplot(data=df_dot, x='minute_2')"
   ]
  },
  {
   "cell_type": "code",
   "execution_count": null,
   "id": "09166ea1",
   "metadata": {},
   "outputs": [],
   "source": [
    "df_dot['minute_2'] = df_dot['minute_2'].apply(lambda x: np.nan if x>9 else x)"
   ]
  },
  {
   "cell_type": "code",
   "execution_count": null,
   "id": "5481550c",
   "metadata": {},
   "outputs": [],
   "source": [
    "df_dot_mincheck = df_dot[~pd.isna(df_dot['minute_1'])]\n",
    "df_dot_mincheck = df_dot_mincheck[~pd.isna(df_dot_mincheck['minute_2'])]\n",
    "df_dot_mincheck['minute'] = df_dot_mincheck['minute_1'].astype(int).astype(str) + df_dot_mincheck['minute_2'].astype(int).astype(str)\n",
    "df_dot_mincheck['minute'] = df_dot_mincheck['minute'].astype(int)\n",
    "df_dot_mincheck['minute'] = df_dot_mincheck['minute'].apply(lambda x: np.nan if x>59 else x)\n",
    "df_dot_nullmin = df_dot.loc[pd.isna(df_dot['minute_1']) | pd.isna(df_dot['minute_2'])]\n",
    "df_dot_nullmin = df_dot_nullmin.copy(deep=True)\n",
    "df_dot_nullmin['minute'] = np.nan\n",
    "df_dot = pd.concat([df_dot_mincheck, df_dot_nullmin])\n",
    "print(len(df_dot))\n",
    "df_dot[['minute', 'minute_1', 'minute_2']].sample(10)"
   ]
  },
  {
   "cell_type": "markdown",
   "id": "5562f858",
   "metadata": {},
   "source": [
    "second:"
   ]
  },
  {
   "cell_type": "code",
   "execution_count": null,
   "id": "4dc582e9",
   "metadata": {},
   "outputs": [],
   "source": [
    "df_dot['second_1'] = df_dot['second_1'].astype(int)\n",
    "sns.histplot(data=df_dot, x='second_1')"
   ]
  },
  {
   "cell_type": "code",
   "execution_count": null,
   "id": "ecbbafa0",
   "metadata": {},
   "outputs": [],
   "source": [
    "df_dot['second_1'] = df_dot['second_1'].apply(lambda x: np.nan if x>9 else x)"
   ]
  },
  {
   "cell_type": "code",
   "execution_count": null,
   "id": "0d6331df",
   "metadata": {},
   "outputs": [],
   "source": [
    "df_dot['second_2'] = df_dot['second_2'].astype(int)\n",
    "sns.histplot(data=df_dot, x='second_2')"
   ]
  },
  {
   "cell_type": "code",
   "execution_count": null,
   "id": "f049339a",
   "metadata": {},
   "outputs": [],
   "source": [
    "df_dot['second_2'] = df_dot['second_2'].apply(lambda x: np.nan if x>9 else x)"
   ]
  },
  {
   "cell_type": "code",
   "execution_count": null,
   "id": "c7c151dc",
   "metadata": {},
   "outputs": [],
   "source": [
    "df_dot_seccheck = df_dot[~pd.isna(df_dot['second_1'])]\n",
    "df_dot_seccheck = df_dot_seccheck[~pd.isna(df_dot_seccheck['second_2'])]\n",
    "df_dot_seccheck['second'] = df_dot_seccheck['second_1'].astype(int).astype(str) + df_dot_seccheck['second_2'].astype(int).astype(str)\n",
    "df_dot_seccheck['second'] = df_dot_seccheck['second'].astype(int)\n",
    "df_dot_seccheck['second'] = df_dot_seccheck['second'].apply(lambda x: np.nan if x>59 else x)\n",
    "df_dot_nullsec = df_dot.loc[pd.isna(df_dot['second_1']) | pd.isna(df_dot['second_2'])]\n",
    "df_dot_nullsec = df_dot_nullsec.copy(deep=True)\n",
    "df_dot_nullsec['second'] = np.nan\n",
    "df_dot = pd.concat([df_dot_seccheck, df_dot_nullsec])\n",
    "print(len(df_dot))\n",
    "df_dot[['second', 'second_1', 'second_2']].sample(10)"
   ]
  },
  {
   "cell_type": "markdown",
   "id": "1843ad40",
   "metadata": {},
   "source": [
    "construct timestamp:"
   ]
  },
  {
   "cell_type": "code",
   "execution_count": null,
   "id": "ba7928bb",
   "metadata": {},
   "outputs": [],
   "source": [
    "df_dot = construct_timestamp(df_in=df_dot)\n",
    "print(len(df_dot))"
   ]
  },
  {
   "cell_type": "code",
   "execution_count": null,
   "id": "05fc3b74",
   "metadata": {},
   "outputs": [],
   "source": [
    "df_dot[['year', 'month', 'day', 'hour', 'minute', 'second', 'Timestamp', 'time_quality']].sample(10)"
   ]
  },
  {
   "cell_type": "markdown",
   "id": "81f7c8a4",
   "metadata": {},
   "source": [
    "#  "
   ]
  },
  {
   "cell_type": "markdown",
   "id": "f06711b5",
   "metadata": {},
   "source": [
    "#### Check station number:"
   ]
  },
  {
   "cell_type": "markdown",
   "id": "8178138d",
   "metadata": {},
   "source": [
    "num2:"
   ]
  },
  {
   "cell_type": "code",
   "execution_count": null,
   "id": "3b34898a",
   "metadata": {},
   "outputs": [],
   "source": [
    "df_num2['station_number_OCR'] = df_num2['station_number_OCR'].astype('float')\n",
    "sns.histplot(data=df_num2, x='station_number_OCR')"
   ]
  },
  {
   "cell_type": "code",
   "execution_count": null,
   "id": "150b0474",
   "metadata": {},
   "outputs": [],
   "source": [
    "df_num2['station_number'] = df_num2['station_number_OCR']\n",
    "df_num2[['station_number', 'station_number_OCR']].sample(10)"
   ]
  },
  {
   "cell_type": "markdown",
   "id": "66f42c8e",
   "metadata": {},
   "source": [
    "num:"
   ]
  },
  {
   "cell_type": "code",
   "execution_count": null,
   "id": "3edf33d2",
   "metadata": {},
   "outputs": [],
   "source": [
    "df_num['station_number_1'] = df_num['station_number_1'].astype(int)\n",
    "sns.histplot(data=df_num, x='station_number_1')"
   ]
  },
  {
   "cell_type": "code",
   "execution_count": null,
   "id": "da37c547",
   "metadata": {},
   "outputs": [],
   "source": [
    "df_num['station_number_1'] = df_num['station_number_1'].apply(lambda x: np.nan if x>9 else x)"
   ]
  },
  {
   "cell_type": "code",
   "execution_count": null,
   "id": "f180be3e",
   "metadata": {},
   "outputs": [],
   "source": [
    "df_num['station_number_2'] = df_num['station_number_2'].astype(int)\n",
    "sns.histplot(data=df_num, x='station_number_2')"
   ]
  },
  {
   "cell_type": "code",
   "execution_count": null,
   "id": "584b58b5",
   "metadata": {},
   "outputs": [],
   "source": [
    "df_num['station_number_2'] = df_num['station_number_2'].apply(lambda x: np.nan if x>9 else x)"
   ]
  },
  {
   "cell_type": "code",
   "execution_count": null,
   "id": "a5967366",
   "metadata": {},
   "outputs": [],
   "source": [
    "df_num_stncheck = df_num[~pd.isna(df_num['station_number_1'])]\n",
    "df_num_stncheck = df_num_stncheck[~pd.isna(df_num_stncheck['station_number_2'])]\n",
    "df_num_stncheck['station_number'] = df_num_stncheck['station_number_1'].astype(int).astype(str) + df_num_stncheck['station_number_2'].astype(int).astype(str)\n",
    "df_num_stncheck['station_number'] = df_num_stncheck['station_number'].astype(int)\n",
    "df_num_nullstn = df_num.loc[pd.isna(df_num['station_number_1']) | pd.isna(df_num['station_number_2'])]\n",
    "df_num_nullstn = df_num_nullstn.copy(deep=True)\n",
    "df_num_nullstn['station_number'] = np.nan\n",
    "df_num = pd.concat([df_num_stncheck, df_num_nullstn])\n",
    "print(len(df_num))\n",
    "df_num[['station_number', 'station_number_1', 'station_number_2']].sample(10)"
   ]
  },
  {
   "cell_type": "markdown",
   "id": "1f2c6758",
   "metadata": {},
   "source": [
    "dot:"
   ]
  },
  {
   "cell_type": "code",
   "execution_count": null,
   "id": "057d942a",
   "metadata": {},
   "outputs": [],
   "source": [
    "df_dot[['station_number']].sample(10)"
   ]
  },
  {
   "cell_type": "markdown",
   "id": "bc69e418",
   "metadata": {},
   "source": [
    "#  "
   ]
  },
  {
   "cell_type": "markdown",
   "id": "31a0e73c",
   "metadata": {},
   "source": [
    "#### Recombine results, save:"
   ]
  },
  {
   "cell_type": "code",
   "execution_count": null,
   "id": "29bab799",
   "metadata": {},
   "outputs": [],
   "source": [
    "df_result2 = pd.concat([df_num2, df_num, df_dot, df_outlier, df_loss])\n",
    "print(len(df_result2))\n",
    "df_result2.sample(10)"
   ]
  },
  {
   "cell_type": "markdown",
   "id": "fdf24ed0",
   "metadata": {},
   "source": [
    "Save:"
   ]
  },
  {
   "cell_type": "code",
   "execution_count": null,
   "id": "39adb1e3",
   "metadata": {},
   "outputs": [],
   "source": [
    "df_result2.to_csv(resultDir + 'result_postprocess_raw.csv', index=False)"
   ]
  },
  {
   "cell_type": "markdown",
   "id": "cfbd114a",
   "metadata": {},
   "source": [
    "#  "
   ]
  },
  {
   "cell_type": "markdown",
   "id": "dd4a6bef",
   "metadata": {},
   "source": [
    "#### Retrieve station details:"
   ]
  },
  {
   "cell_type": "code",
   "execution_count": null,
   "id": "8ba4668b",
   "metadata": {},
   "outputs": [],
   "source": [
    "df_stn_nums = pd.read_excel(logDir + 'station_number_changes.xlsx')\n",
    "df_stn_nums.head()"
   ]
  },
  {
   "cell_type": "code",
   "execution_count": null,
   "id": "c1d015b0",
   "metadata": {},
   "outputs": [],
   "source": [
    "change_dates = df_stn_nums['Start_Date'].drop_duplicates().sort_values().reset_index(drop=True)\n",
    "stn_nums = df_stn_nums['Station_Number'].unique()"
   ]
  },
  {
   "cell_type": "code",
   "execution_count": null,
   "id": "da9eb452",
   "metadata": {},
   "outputs": [],
   "source": [
    "#df_result_pp = pd.read_csv(resultDir + 'result_postprocess_raw.csv')\n",
    "df_result2 = df_result2.loc[~pd.isna(df_result2['station_number'])]"
   ]
  },
  {
   "cell_type": "code",
   "execution_count": null,
   "id": "e446fd81",
   "metadata": {},
   "outputs": [],
   "source": [
    "df_result3 = pd.DataFrame()\n",
    "for i in range(0, len(change_dates)):\n",
    "    #Before the first change date - Assume there are no station numbers before launch\n",
    "    if i == 0:\n",
    "        print(change_dates[i])\n",
    "        df_part = df_result2.loc[df_result2['Timestamp'] < change_dates[i]]\n",
    "        df_result3 = pd.concat([df_result3, df_part])\n",
    "        print(len(df_result3))\n",
    "    \n",
    "    elif i > 0:\n",
    "        print(change_dates[i])\n",
    "        df_part_ = df_result2.loc[df_result2['Timestamp'] < change_dates[i]]\n",
    "        df_part_ = df_part_.loc[df_part_['Timestamp'] >= change_dates[i-1]]\n",
    "        \n",
    "        df_sns = pd.DataFrame()\n",
    "        for sn in stn_nums:\n",
    "            df_sn = df_stn_nums.loc[df_stn_nums['Station_Number'] == sn]\n",
    "            df_sn = df_sn.loc[df_sn['Start_Date'] < change_dates[i]]\n",
    "            if len(df_sn) > 1:\n",
    "                df_sn = df_sn.sort_values('Start_Date', ascending=False)\n",
    "                df_sn = df_sn.iloc[:1]\n",
    "            df_sns = pd.concat([df_sns, df_sn])\n",
    "        \n",
    "        df_part = df_part_.merge(df_sns[['Station_Number', 'Station_Code']], how='left', left_on='station_number', right_on='Station_Number')\n",
    "        df_result3 = pd.concat([df_result3, df_part])\n",
    "        print(len(df_result3))\n",
    "\n",
    "#After last change date\n",
    "last_change_date = change_dates[len(change_dates)-1]\n",
    "print('After ' + str(last_change_date))\n",
    "df_part_ = df_result2.loc[df_result2['Timestamp'] > last_change_date]\n",
    "\n",
    "df_sns = pd.DataFrame()\n",
    "for sn in stn_nums:\n",
    "    df_sn = df_stn_nums.loc[df_stn_nums['Station_Number'] == sn]\n",
    "    if len(df_sn) > 1:\n",
    "        df_sn = df_sn.sort_values('Start_Date', ascending=False)\n",
    "        df_sn = df_sn.iloc[:1]\n",
    "    df_sns = pd.concat([df_sns, df_sn])\n",
    "\n",
    "df_part = df_part_.merge(df_sns[['Station_Number', 'Station_Code']], how='left', left_on='station_number', right_on='Station_Number')\n",
    "df_result3 = pd.concat([df_result3, df_part])\n",
    "print(len(df_result3))"
   ]
  },
  {
   "cell_type": "code",
   "execution_count": null,
   "id": "925b04d2",
   "metadata": {},
   "outputs": [],
   "source": [
    "df_stns = pd.read_csv(logDir + 'ground_stations.csv')\n",
    "df_stns.head()"
   ]
  },
  {
   "cell_type": "code",
   "execution_count": null,
   "id": "f556c636",
   "metadata": {},
   "outputs": [],
   "source": [
    "df_result4 = df_result3.merge(df_stns[['Station_Code', 'Station_Name', 'Lat', 'Lng']], how='left', on='Station_Code')\n",
    "print(len(df_result4))\n",
    "df_result4[['Station_Number', 'Timestamp', 'Station_Code', 'Station_Name', 'Lat', 'Lng']].sample(10)"
   ]
  },
  {
   "cell_type": "markdown",
   "id": "66ca788a",
   "metadata": {},
   "source": [
    "#  "
   ]
  },
  {
   "cell_type": "markdown",
   "id": "3d73d024",
   "metadata": {},
   "source": [
    "#### Save Master:"
   ]
  },
  {
   "cell_type": "code",
   "execution_count": null,
   "id": "69127924",
   "metadata": {},
   "outputs": [],
   "source": [
    "df_result5 = df_result4[~pd.isna(df_result4['Station_Code'])]\n",
    "df_result5 = df_result5[['Directory', 'Subdirectory', 'filename', 'processed_image_class', 'fmin', 'max_depth', 'Timestamp',\n",
    "                         'time_quality', 'Station_Number', 'Station_Code', 'Station_Name', 'Lat', 'Lng']]\n",
    "print(len(df_result5))\n",
    "df_result5.sample(10)"
   ]
  },
  {
   "cell_type": "code",
   "execution_count": null,
   "id": "6dbcb77c",
   "metadata": {},
   "outputs": [],
   "source": [
    "df_result5 = df_result5.sort_values('Timestamp').reset_index(drop=True)\n",
    "df_result5.to_csv(resultDir + 'result_master.csv', index=False)"
   ]
  },
  {
   "cell_type": "code",
   "execution_count": null,
   "id": "6d7e2a0e",
   "metadata": {},
   "outputs": [],
   "source": []
  }
 ],
 "metadata": {
  "kernelspec": {
   "display_name": "Python 3",
   "language": "python",
   "name": "python3"
  },
  "language_info": {
   "codemirror_mode": {
    "name": "ipython",
    "version": 3
   },
   "file_extension": ".py",
   "mimetype": "text/x-python",
   "name": "python",
   "nbconvert_exporter": "python",
   "pygments_lexer": "ipython3",
   "version": "3.8.8"
  }
 },
 "nbformat": 4,
 "nbformat_minor": 5
}

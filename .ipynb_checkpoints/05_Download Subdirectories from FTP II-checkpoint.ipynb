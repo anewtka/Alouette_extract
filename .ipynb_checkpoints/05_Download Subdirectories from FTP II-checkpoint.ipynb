{
 "cells": [
  {
   "cell_type": "markdown",
   "id": "fd645f8c",
   "metadata": {},
   "source": [
    "# Download Subdirectories From FTP II\n",
    "\n",
    "#### Updated: Dec 8, 2022"
   ]
  },
  {
   "cell_type": "markdown",
   "id": "d3798335",
   "metadata": {},
   "source": [
    "#  "
   ]
  },
  {
   "cell_type": "markdown",
   "id": "9055087e",
   "metadata": {},
   "source": [
    "Run for continuous downloading of subdirectories, concurrent with processing of subdirectories."
   ]
  },
  {
   "cell_type": "code",
   "execution_count": 1,
   "id": "d6de9e17",
   "metadata": {},
   "outputs": [],
   "source": [
    "import pandas as pd\n",
    "import os\n",
    "import shutil\n",
    "import time\n",
    "from datetime import datetime\n",
    "import ftplib\n",
    "from random import randrange"
   ]
  },
  {
   "cell_type": "markdown",
   "id": "7c3e78f2",
   "metadata": {},
   "source": [
    "Set parameters:"
   ]
  },
  {
   "cell_type": "code",
   "execution_count": 2,
   "id": "43406be9",
   "metadata": {},
   "outputs": [],
   "source": [
    "user = 'Rav'\n",
    "process_on_VDI = True\n",
    "wait = 5 #in minutes\n",
    "stop_loop_threshold = 2640 #max while loops to prevent infinite loop"
   ]
  },
  {
   "cell_type": "markdown",
   "id": "b234ebc6",
   "metadata": {},
   "source": [
    "Set directories:"
   ]
  },
  {
   "cell_type": "code",
   "execution_count": 3,
   "id": "51339016",
   "metadata": {},
   "outputs": [],
   "source": [
    "rootDir_local = 'C:/Users/rnaidoo/Documents/Projects_data/Alouette_I/' #files on C:/ are not persistent on VDI\n",
    "downloadingDir = rootDir_local + '01_downloading/'\n",
    "downloadedDir = rootDir_local + '02_downloaded/'\n",
    "if process_on_VDI:\n",
    "    logDir = '//scientific/L-MP-Data/Massive files/Python/rnaidoo/Alouette_I/' #DO NOT CHANGE\n",
    "else:\n",
    "    logDir = rootDir_local + '05_result/'"
   ]
  },
  {
   "cell_type": "markdown",
   "id": "e9507f0f",
   "metadata": {},
   "source": [
    "#  "
   ]
  },
  {
   "cell_type": "markdown",
   "id": "0e9ad843",
   "metadata": {},
   "source": [
    "#### Functions:"
   ]
  },
  {
   "cell_type": "code",
   "execution_count": 4,
   "id": "0d1e09d2",
   "metadata": {},
   "outputs": [],
   "source": [
    "def move_images(old_dir, new_dir, roll, subdir, copy_to_other_drive=False):\n",
    "    oldDir = old_dir + roll + '/' + subdir + '/'\n",
    "    newDir = new_dir + roll + '/' + subdir + '/'\n",
    "    os.makedirs(newDir, exist_ok=True)\n",
    "    \n",
    "    if copy_to_other_drive:\n",
    "        for file in os.listdir(oldDir):\n",
    "            shutil.copyfile(oldDir+file, newDir+file)\n",
    "    else:\n",
    "        for file in os.listdir(oldDir):\n",
    "            os.rename(oldDir+file, newDir+file)\n",
    "    \n",
    "    shutil.rmtree(old_dir + roll + '/' + subdir + '/')\n",
    "    if len(os.listdir(old_dir + roll + '/')) == 0:\n",
    "        shutil.rmtree(old_dir + roll + '/')"
   ]
  },
  {
   "cell_type": "code",
   "execution_count": 5,
   "id": "384d3fd2",
   "metadata": {},
   "outputs": [],
   "source": [
    "def draw_random_subdir(roll, subdir_list, logDir):\n",
    "    \n",
    "    subdirectory = subdir_list[randrange(len(subdir_list))]\n",
    "    \n",
    "    #Check randomly-selected roll and subdirectory against the 'download_log'\n",
    "    if os.path.exists(logDir + 'download_log.csv'):\n",
    "        df_log = pd.read_csv(logDir + 'download_log.csv')\n",
    "        df_search = df_log.loc[(df_log['Roll'] == roll) & (df_log['Subdirectory'] == subdirectory)]\n",
    "        if len(df_search) > 0:\n",
    "            print(roll + '/' + subdirectory + ' already downloaded!')\n",
    "            return ''\n",
    "        else:\n",
    "            return subdirectory\n",
    "    else:\n",
    "        return subdirectory"
   ]
  },
  {
   "cell_type": "code",
   "execution_count": 6,
   "id": "dac18b46",
   "metadata": {},
   "outputs": [],
   "source": [
    "def draw_random_subdir2(subdir_ids_list, logDir):\n",
    "    \n",
    "    subdir_id = subdir_ids_list[randrange(len(subdir_ids_list))]\n",
    "    subdir_id_parts = subdir_id.split('_')\n",
    "    roll = subdir_id_parts[0]\n",
    "    subdirectory = subdir_id_parts[1]\n",
    "    \n",
    "    #Check randomly-selected roll and subdirectory against the 'download_log'\n",
    "    if os.path.exists(logDir + 'download_log.csv'):\n",
    "        df_log = pd.read_csv(logDir + 'download_log.csv')\n",
    "        df_search = df_log.loc[(df_log['Roll'] == roll) & (df_log['Subdirectory'] == subdirectory)]\n",
    "        if len(df_search) > 0:\n",
    "            print(roll + '/' + subdirectory + ' already downloaded!')\n",
    "            return ''\n",
    "        else:\n",
    "            return roll, subdirectory\n",
    "    else:\n",
    "        return roll, subdirectory\n",
    "    "
   ]
  },
  {
   "cell_type": "markdown",
   "id": "d689a9a9",
   "metadata": {},
   "source": [
    "#  "
   ]
  },
  {
   "cell_type": "markdown",
   "id": "093ae2bd",
   "metadata": {},
   "source": [
    "#### Check if subdirectory needs to be downloaded, then download random subdirectory:"
   ]
  },
  {
   "cell_type": "code",
   "execution_count": 7,
   "id": "3c8cb08d",
   "metadata": {},
   "outputs": [
    {
     "name": "stdout",
     "output_type": "stream",
     "text": [
      "Connected to ftp server: donnees-data.asc-csa.gc.ca\n"
     ]
    },
    {
     "ename": "FileNotFoundError",
     "evalue": "[Errno 2] No such file or directory: '//scientific/L-MP-Data/Massive files/Python/rnaidoo/Alouette_I/download_log.csv'",
     "output_type": "error",
     "traceback": [
      "\u001b[1;31m---------------------------------------------------------------------------\u001b[0m",
      "\u001b[1;31mFileNotFoundError\u001b[0m                         Traceback (most recent call last)",
      "\u001b[1;32m<ipython-input-7-171de263e8ba>\u001b[0m in \u001b[0;36m<module>\u001b[1;34m\u001b[0m\n\u001b[0;32m     15\u001b[0m         \u001b[1;31m#Randomly draw roll and subdirectory (using draw_random_subdir2())\u001b[0m\u001b[1;33m\u001b[0m\u001b[1;33m\u001b[0m\u001b[1;33m\u001b[0m\u001b[0m\n\u001b[0;32m     16\u001b[0m         \u001b[0mdf_inventory\u001b[0m \u001b[1;33m=\u001b[0m \u001b[0mpd\u001b[0m\u001b[1;33m.\u001b[0m\u001b[0mread_csv\u001b[0m\u001b[1;33m(\u001b[0m\u001b[0mlogDir\u001b[0m \u001b[1;33m+\u001b[0m \u001b[1;34m'image_inventory.csv'\u001b[0m\u001b[1;33m)\u001b[0m\u001b[1;33m\u001b[0m\u001b[1;33m\u001b[0m\u001b[0m\n\u001b[1;32m---> 17\u001b[1;33m         \u001b[0mdf_log\u001b[0m \u001b[1;33m=\u001b[0m \u001b[0mpd\u001b[0m\u001b[1;33m.\u001b[0m\u001b[0mread_csv\u001b[0m\u001b[1;33m(\u001b[0m\u001b[0mlogDir\u001b[0m \u001b[1;33m+\u001b[0m \u001b[1;34m'download_log.csv'\u001b[0m\u001b[1;33m)\u001b[0m\u001b[1;33m\u001b[0m\u001b[1;33m\u001b[0m\u001b[0m\n\u001b[0m\u001b[0;32m     18\u001b[0m         \u001b[0msubdir_ids_tot\u001b[0m \u001b[1;33m=\u001b[0m \u001b[0mdf_inventory\u001b[0m\u001b[1;33m[\u001b[0m\u001b[1;34m'subdir_id'\u001b[0m\u001b[1;33m]\u001b[0m\u001b[1;33m.\u001b[0m\u001b[0munique\u001b[0m\u001b[1;33m(\u001b[0m\u001b[1;33m)\u001b[0m\u001b[1;33m\u001b[0m\u001b[1;33m\u001b[0m\u001b[0m\n\u001b[0;32m     19\u001b[0m         \u001b[0msubdir_ids_dl\u001b[0m \u001b[1;33m=\u001b[0m \u001b[0mdf_log\u001b[0m\u001b[1;33m[\u001b[0m\u001b[1;34m'subdir_id'\u001b[0m\u001b[1;33m]\u001b[0m\u001b[1;33m.\u001b[0m\u001b[0munique\u001b[0m\u001b[1;33m(\u001b[0m\u001b[1;33m)\u001b[0m\u001b[1;33m\u001b[0m\u001b[1;33m\u001b[0m\u001b[0m\n",
      "\u001b[1;32mc:\\DevSoftware\\Anaconda38\\lib\\site-packages\\pandas\\io\\parsers.py\u001b[0m in \u001b[0;36mread_csv\u001b[1;34m(filepath_or_buffer, sep, delimiter, header, names, index_col, usecols, squeeze, prefix, mangle_dupe_cols, dtype, engine, converters, true_values, false_values, skipinitialspace, skiprows, skipfooter, nrows, na_values, keep_default_na, na_filter, verbose, skip_blank_lines, parse_dates, infer_datetime_format, keep_date_col, date_parser, dayfirst, cache_dates, iterator, chunksize, compression, thousands, decimal, lineterminator, quotechar, quoting, doublequote, escapechar, comment, encoding, dialect, error_bad_lines, warn_bad_lines, delim_whitespace, low_memory, memory_map, float_precision, storage_options)\u001b[0m\n\u001b[0;32m    608\u001b[0m     \u001b[0mkwds\u001b[0m\u001b[1;33m.\u001b[0m\u001b[0mupdate\u001b[0m\u001b[1;33m(\u001b[0m\u001b[0mkwds_defaults\u001b[0m\u001b[1;33m)\u001b[0m\u001b[1;33m\u001b[0m\u001b[1;33m\u001b[0m\u001b[0m\n\u001b[0;32m    609\u001b[0m \u001b[1;33m\u001b[0m\u001b[0m\n\u001b[1;32m--> 610\u001b[1;33m     \u001b[1;32mreturn\u001b[0m \u001b[0m_read\u001b[0m\u001b[1;33m(\u001b[0m\u001b[0mfilepath_or_buffer\u001b[0m\u001b[1;33m,\u001b[0m \u001b[0mkwds\u001b[0m\u001b[1;33m)\u001b[0m\u001b[1;33m\u001b[0m\u001b[1;33m\u001b[0m\u001b[0m\n\u001b[0m\u001b[0;32m    611\u001b[0m \u001b[1;33m\u001b[0m\u001b[0m\n\u001b[0;32m    612\u001b[0m \u001b[1;33m\u001b[0m\u001b[0m\n",
      "\u001b[1;32mc:\\DevSoftware\\Anaconda38\\lib\\site-packages\\pandas\\io\\parsers.py\u001b[0m in \u001b[0;36m_read\u001b[1;34m(filepath_or_buffer, kwds)\u001b[0m\n\u001b[0;32m    460\u001b[0m \u001b[1;33m\u001b[0m\u001b[0m\n\u001b[0;32m    461\u001b[0m     \u001b[1;31m# Create the parser.\u001b[0m\u001b[1;33m\u001b[0m\u001b[1;33m\u001b[0m\u001b[1;33m\u001b[0m\u001b[0m\n\u001b[1;32m--> 462\u001b[1;33m     \u001b[0mparser\u001b[0m \u001b[1;33m=\u001b[0m \u001b[0mTextFileReader\u001b[0m\u001b[1;33m(\u001b[0m\u001b[0mfilepath_or_buffer\u001b[0m\u001b[1;33m,\u001b[0m \u001b[1;33m**\u001b[0m\u001b[0mkwds\u001b[0m\u001b[1;33m)\u001b[0m\u001b[1;33m\u001b[0m\u001b[1;33m\u001b[0m\u001b[0m\n\u001b[0m\u001b[0;32m    463\u001b[0m \u001b[1;33m\u001b[0m\u001b[0m\n\u001b[0;32m    464\u001b[0m     \u001b[1;32mif\u001b[0m \u001b[0mchunksize\u001b[0m \u001b[1;32mor\u001b[0m \u001b[0miterator\u001b[0m\u001b[1;33m:\u001b[0m\u001b[1;33m\u001b[0m\u001b[1;33m\u001b[0m\u001b[0m\n",
      "\u001b[1;32mc:\\DevSoftware\\Anaconda38\\lib\\site-packages\\pandas\\io\\parsers.py\u001b[0m in \u001b[0;36m__init__\u001b[1;34m(self, f, engine, **kwds)\u001b[0m\n\u001b[0;32m    817\u001b[0m             \u001b[0mself\u001b[0m\u001b[1;33m.\u001b[0m\u001b[0moptions\u001b[0m\u001b[1;33m[\u001b[0m\u001b[1;34m\"has_index_names\"\u001b[0m\u001b[1;33m]\u001b[0m \u001b[1;33m=\u001b[0m \u001b[0mkwds\u001b[0m\u001b[1;33m[\u001b[0m\u001b[1;34m\"has_index_names\"\u001b[0m\u001b[1;33m]\u001b[0m\u001b[1;33m\u001b[0m\u001b[1;33m\u001b[0m\u001b[0m\n\u001b[0;32m    818\u001b[0m \u001b[1;33m\u001b[0m\u001b[0m\n\u001b[1;32m--> 819\u001b[1;33m         \u001b[0mself\u001b[0m\u001b[1;33m.\u001b[0m\u001b[0m_engine\u001b[0m \u001b[1;33m=\u001b[0m \u001b[0mself\u001b[0m\u001b[1;33m.\u001b[0m\u001b[0m_make_engine\u001b[0m\u001b[1;33m(\u001b[0m\u001b[0mself\u001b[0m\u001b[1;33m.\u001b[0m\u001b[0mengine\u001b[0m\u001b[1;33m)\u001b[0m\u001b[1;33m\u001b[0m\u001b[1;33m\u001b[0m\u001b[0m\n\u001b[0m\u001b[0;32m    820\u001b[0m \u001b[1;33m\u001b[0m\u001b[0m\n\u001b[0;32m    821\u001b[0m     \u001b[1;32mdef\u001b[0m \u001b[0mclose\u001b[0m\u001b[1;33m(\u001b[0m\u001b[0mself\u001b[0m\u001b[1;33m)\u001b[0m\u001b[1;33m:\u001b[0m\u001b[1;33m\u001b[0m\u001b[1;33m\u001b[0m\u001b[0m\n",
      "\u001b[1;32mc:\\DevSoftware\\Anaconda38\\lib\\site-packages\\pandas\\io\\parsers.py\u001b[0m in \u001b[0;36m_make_engine\u001b[1;34m(self, engine)\u001b[0m\n\u001b[0;32m   1048\u001b[0m             )\n\u001b[0;32m   1049\u001b[0m         \u001b[1;31m# error: Too many arguments for \"ParserBase\"\u001b[0m\u001b[1;33m\u001b[0m\u001b[1;33m\u001b[0m\u001b[1;33m\u001b[0m\u001b[0m\n\u001b[1;32m-> 1050\u001b[1;33m         \u001b[1;32mreturn\u001b[0m \u001b[0mmapping\u001b[0m\u001b[1;33m[\u001b[0m\u001b[0mengine\u001b[0m\u001b[1;33m]\u001b[0m\u001b[1;33m(\u001b[0m\u001b[0mself\u001b[0m\u001b[1;33m.\u001b[0m\u001b[0mf\u001b[0m\u001b[1;33m,\u001b[0m \u001b[1;33m**\u001b[0m\u001b[0mself\u001b[0m\u001b[1;33m.\u001b[0m\u001b[0moptions\u001b[0m\u001b[1;33m)\u001b[0m  \u001b[1;31m# type: ignore[call-arg]\u001b[0m\u001b[1;33m\u001b[0m\u001b[1;33m\u001b[0m\u001b[0m\n\u001b[0m\u001b[0;32m   1051\u001b[0m \u001b[1;33m\u001b[0m\u001b[0m\n\u001b[0;32m   1052\u001b[0m     \u001b[1;32mdef\u001b[0m \u001b[0m_failover_to_python\u001b[0m\u001b[1;33m(\u001b[0m\u001b[0mself\u001b[0m\u001b[1;33m)\u001b[0m\u001b[1;33m:\u001b[0m\u001b[1;33m\u001b[0m\u001b[1;33m\u001b[0m\u001b[0m\n",
      "\u001b[1;32mc:\\DevSoftware\\Anaconda38\\lib\\site-packages\\pandas\\io\\parsers.py\u001b[0m in \u001b[0;36m__init__\u001b[1;34m(self, src, **kwds)\u001b[0m\n\u001b[0;32m   1865\u001b[0m \u001b[1;33m\u001b[0m\u001b[0m\n\u001b[0;32m   1866\u001b[0m         \u001b[1;31m# open handles\u001b[0m\u001b[1;33m\u001b[0m\u001b[1;33m\u001b[0m\u001b[1;33m\u001b[0m\u001b[0m\n\u001b[1;32m-> 1867\u001b[1;33m         \u001b[0mself\u001b[0m\u001b[1;33m.\u001b[0m\u001b[0m_open_handles\u001b[0m\u001b[1;33m(\u001b[0m\u001b[0msrc\u001b[0m\u001b[1;33m,\u001b[0m \u001b[0mkwds\u001b[0m\u001b[1;33m)\u001b[0m\u001b[1;33m\u001b[0m\u001b[1;33m\u001b[0m\u001b[0m\n\u001b[0m\u001b[0;32m   1868\u001b[0m         \u001b[1;32massert\u001b[0m \u001b[0mself\u001b[0m\u001b[1;33m.\u001b[0m\u001b[0mhandles\u001b[0m \u001b[1;32mis\u001b[0m \u001b[1;32mnot\u001b[0m \u001b[1;32mNone\u001b[0m\u001b[1;33m\u001b[0m\u001b[1;33m\u001b[0m\u001b[0m\n\u001b[0;32m   1869\u001b[0m         \u001b[1;32mfor\u001b[0m \u001b[0mkey\u001b[0m \u001b[1;32min\u001b[0m \u001b[1;33m(\u001b[0m\u001b[1;34m\"storage_options\"\u001b[0m\u001b[1;33m,\u001b[0m \u001b[1;34m\"encoding\"\u001b[0m\u001b[1;33m,\u001b[0m \u001b[1;34m\"memory_map\"\u001b[0m\u001b[1;33m,\u001b[0m \u001b[1;34m\"compression\"\u001b[0m\u001b[1;33m)\u001b[0m\u001b[1;33m:\u001b[0m\u001b[1;33m\u001b[0m\u001b[1;33m\u001b[0m\u001b[0m\n",
      "\u001b[1;32mc:\\DevSoftware\\Anaconda38\\lib\\site-packages\\pandas\\io\\parsers.py\u001b[0m in \u001b[0;36m_open_handles\u001b[1;34m(self, src, kwds)\u001b[0m\n\u001b[0;32m   1360\u001b[0m         \u001b[0mLet\u001b[0m \u001b[0mthe\u001b[0m \u001b[0mreaders\u001b[0m \u001b[0mopen\u001b[0m \u001b[0mIOHanldes\u001b[0m \u001b[0mafter\u001b[0m \u001b[0mthey\u001b[0m \u001b[0mare\u001b[0m \u001b[0mdone\u001b[0m \u001b[1;32mwith\u001b[0m \u001b[0mtheir\u001b[0m \u001b[0mpotential\u001b[0m \u001b[0mraises\u001b[0m\u001b[1;33m.\u001b[0m\u001b[1;33m\u001b[0m\u001b[1;33m\u001b[0m\u001b[0m\n\u001b[0;32m   1361\u001b[0m         \"\"\"\n\u001b[1;32m-> 1362\u001b[1;33m         self.handles = get_handle(\n\u001b[0m\u001b[0;32m   1363\u001b[0m             \u001b[0msrc\u001b[0m\u001b[1;33m,\u001b[0m\u001b[1;33m\u001b[0m\u001b[1;33m\u001b[0m\u001b[0m\n\u001b[0;32m   1364\u001b[0m             \u001b[1;34m\"r\"\u001b[0m\u001b[1;33m,\u001b[0m\u001b[1;33m\u001b[0m\u001b[1;33m\u001b[0m\u001b[0m\n",
      "\u001b[1;32mc:\\DevSoftware\\Anaconda38\\lib\\site-packages\\pandas\\io\\common.py\u001b[0m in \u001b[0;36mget_handle\u001b[1;34m(path_or_buf, mode, encoding, compression, memory_map, is_text, errors, storage_options)\u001b[0m\n\u001b[0;32m    640\u001b[0m                 \u001b[0merrors\u001b[0m \u001b[1;33m=\u001b[0m \u001b[1;34m\"replace\"\u001b[0m\u001b[1;33m\u001b[0m\u001b[1;33m\u001b[0m\u001b[0m\n\u001b[0;32m    641\u001b[0m             \u001b[1;31m# Encoding\u001b[0m\u001b[1;33m\u001b[0m\u001b[1;33m\u001b[0m\u001b[1;33m\u001b[0m\u001b[0m\n\u001b[1;32m--> 642\u001b[1;33m             handle = open(\n\u001b[0m\u001b[0;32m    643\u001b[0m                 \u001b[0mhandle\u001b[0m\u001b[1;33m,\u001b[0m\u001b[1;33m\u001b[0m\u001b[1;33m\u001b[0m\u001b[0m\n\u001b[0;32m    644\u001b[0m                 \u001b[0mioargs\u001b[0m\u001b[1;33m.\u001b[0m\u001b[0mmode\u001b[0m\u001b[1;33m,\u001b[0m\u001b[1;33m\u001b[0m\u001b[1;33m\u001b[0m\u001b[0m\n",
      "\u001b[1;31mFileNotFoundError\u001b[0m: [Errno 2] No such file or directory: '//scientific/L-MP-Data/Massive files/Python/rnaidoo/Alouette_I/download_log.csv'"
     ]
    }
   ],
   "source": [
    "stop_condition = False\n",
    "stop_condition_counter = 0\n",
    "\n",
    "while stop_condition == False:\n",
    "    #Download a random subdirectory if '02_downloaded' is empty\n",
    "    if len(os.listdir(downloadedDir)) == 0:\n",
    "        # Connect to FTP Server\n",
    "        HOSTNAME = \"donnees-data.asc-csa.gc.ca\"\n",
    "        USERNAME = \"Anonymous\"\n",
    "        PASSWORD = \"\"\n",
    "        ftp = ftplib.FTP(HOSTNAME, USERNAME, PASSWORD)\n",
    "        print('Connected to ftp server: ' + HOSTNAME)\n",
    "        ftp_rootpath = '/users/OpenData_DonneesOuvertes/pub/AlouetteData/Alouette Data/'\n",
    "\n",
    "        #Randomly draw roll and subdirectory (using draw_random_subdir2())\n",
    "        df_inventory = pd.read_csv(logDir + 'image_inventory.csv')\n",
    "        subdir_ids_tot = df_inventory['subdir_id'].unique()\n",
    "        if os.path.exists(logDir + 'download_log.csv'):\n",
    "            df_log = pd.read_csv(logDir + 'download_log.csv')\n",
    "            subdir_ids_dl = df_log['subdir_id'].unique()\n",
    "        else:\n",
    "            subdir_ids_dl = []\n",
    "        subdir_ids_rem = list(set(subdir_ids_tot) - set(subdir_ids_dl))\n",
    "        roll, subdirectory = draw_random_subdir2(subdir_ids_list=subdir_ids_rem, logDir=logDir)\n",
    "\n",
    "        #Set directories\n",
    "        saveDir = downloadingDir + roll + '/' + subdirectory + '/'\n",
    "        os.makedirs(saveDir, exist_ok=True)\n",
    "        ftp.cwd(ftp_rootpath + '/' + roll + '/' + subdirectory + '/')\n",
    "\n",
    "        start = time.time()\n",
    "        n_dl = len(ftp.nlst())\n",
    "        print('')\n",
    "        print('Downloading ' + roll + '/' + subdirectory + '/ subdirectory ('  + str(n_dl) + ' images, ' + str(len(subdir_ids_rem)) + ' subdirectories to go)')\n",
    "        for file in ftp.nlst():\n",
    "            local_file = open(saveDir + file, \"wb\")\n",
    "            ftp.retrbinary(\"RETR \" + file, local_file.write)\n",
    "            local_file.close()\n",
    "            #print('Downloaded: ' + file)\n",
    "        end = time.time()\n",
    "        t = end - start\n",
    "        print('Download time for subdirectory: ' + str(round(t/60, 1)) + ' min')\n",
    "        print('')\n",
    "\n",
    "        #Record subdirectory name in download_log\n",
    "        df_result = pd.DataFrame({\n",
    "            'Roll': roll,\n",
    "            'Subdirectory': subdirectory,\n",
    "            'Images_downloaded': n_dl,\n",
    "            'Download_time': t,\n",
    "            'Download_timestamp': datetime.fromtimestamp(end),\n",
    "            'User': user,\n",
    "            'subdir_id': roll + '_' + subdirectory\n",
    "        }, index=[0])\n",
    "        if os.path.exists(logDir + 'download_log.csv'):\n",
    "            df_log = pd.read_csv(logDir + 'download_log.csv')\n",
    "            df_update = pd.concat([df_log, df_result], axis=0, ignore_index=True)\n",
    "            df_update.to_csv(logDir + 'download_log.csv', index=False)\n",
    "        else:\n",
    "            df_result.to_csv(logDir + 'download_log.csv', index=False)\n",
    "\n",
    "        #Backup 'download_log' (10% of the time)\n",
    "        if randrange(10) == 7:\n",
    "            df_log = pd.read_csv(logDir + 'download_log.csv')\n",
    "            datetime_str = datetime.now().strftime(\"%Y%m%d_%Hh%M\")\n",
    "            os.makedirs(logDir + 'backups/', exist_ok=True)\n",
    "            df_log.to_csv(logDir + 'backups/' + 'download_log-' + datetime_str + '.csv', index=False)\n",
    "\n",
    "        #Move fully downloaded subdirectory to '02_processing' folder\n",
    "        move_images(old_dir=downloadingDir, new_dir=downloadedDir, roll=roll, subdir=subdirectory)\n",
    "        \n",
    "        stop_condition_counter += 1\n",
    "    \n",
    "    else:\n",
    "        #Wait\n",
    "        print('Wait ' + str(wait) + ' min')\n",
    "        time.sleep(wait*60)\n",
    "    \n",
    "    \n",
    "    #Check stop conditions\n",
    "    if len(subdir_ids_rem) == 1:\n",
    "        print('Stop!')\n",
    "        stop_condition = True\n",
    "    if stop_condition_counter == stop_loop_threshold:\n",
    "        print('Stop!')\n",
    "        stop_condition = True\n",
    "        "
   ]
  }
 ],
 "metadata": {
  "kernelspec": {
   "display_name": "Python 3",
   "language": "python",
   "name": "python3"
  },
  "language_info": {
   "codemirror_mode": {
    "name": "ipython",
    "version": 3
   },
   "file_extension": ".py",
   "mimetype": "text/x-python",
   "name": "python",
   "nbconvert_exporter": "python",
   "pygments_lexer": "ipython3",
   "version": "3.8.8"
  }
 },
 "nbformat": 4,
 "nbformat_minor": 5
}

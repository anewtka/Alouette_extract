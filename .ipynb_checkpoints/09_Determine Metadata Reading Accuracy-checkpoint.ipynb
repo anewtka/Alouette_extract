{
 "cells": [
  {
   "cell_type": "markdown",
   "id": "171a8104",
   "metadata": {},
   "source": [
    "# Determine Metadata Reading Accuracy\n",
    "\n",
    "#### Updated: Dec 15, 2022"
   ]
  },
  {
   "cell_type": "markdown",
   "id": "d8831167",
   "metadata": {},
   "source": [
    "#  "
   ]
  },
  {
   "cell_type": "markdown",
   "id": "f7c9b021",
   "metadata": {},
   "source": [
    "Create methods to systematically inspect processed subdirectories, to determine metadata reading accuracy. \n",
    "- Determine what percentage of images in a certain subdirectory did the algorithm read the metadata correctly. \n",
    "- Do certain subdirectories have lower metadata reading accuracy compared to others - which are they? \n",
    "- Does the algorithm tend to read 'num' or 'dot' metadata more correctly?\n",
    "- Venture an estimate of metadata reading accuracy for the entire set of images."
   ]
  },
  {
   "cell_type": "code",
   "execution_count": null,
   "id": "ff0c95e3",
   "metadata": {},
   "outputs": [],
   "source": []
  }
 ],
 "metadata": {
  "kernelspec": {
   "display_name": "Python 3",
   "language": "python",
   "name": "python3"
  },
  "language_info": {
   "codemirror_mode": {
    "name": "ipython",
    "version": 3
   },
   "file_extension": ".py",
   "mimetype": "text/x-python",
   "name": "python",
   "nbconvert_exporter": "python",
   "pygments_lexer": "ipython3",
   "version": "3.8.8"
  }
 },
 "nbformat": 4,
 "nbformat_minor": 5
}

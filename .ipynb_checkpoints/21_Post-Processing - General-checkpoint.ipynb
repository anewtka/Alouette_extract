{
 "cells": [
  {
   "cell_type": "markdown",
   "id": "0cc96bbd",
   "metadata": {},
   "source": [
    "# Post-Processing (General)\n",
    "\n",
    "#### Updated: May 16, 2023"
   ]
  },
  {
   "cell_type": "markdown",
   "id": "aae7fdc8",
   "metadata": {},
   "source": [
    "#  "
   ]
  },
  {
   "cell_type": "markdown",
   "id": "6dcab44c",
   "metadata": {},
   "source": [
    "Post-processing pipeline after subdirectories are OCR processed:"
   ]
  },
  {
   "cell_type": "code",
   "execution_count": 1,
   "id": "43814246",
   "metadata": {},
   "outputs": [],
   "source": [
    "import os\n",
    "import numpy as np\n",
    "import pandas as pd\n",
    "import seaborn as sns"
   ]
  },
  {
   "cell_type": "code",
   "execution_count": 2,
   "id": "d2634864",
   "metadata": {},
   "outputs": [],
   "source": [
    "rootDir = 'L:/DATA/Alouette_I/BATCH_II_Run2/'\n",
    "processedDir = rootDir + '04_processed/'\n",
    "resultDir = rootDir + '05_result/'\n",
    "logDir = rootDir + '06_log/'"
   ]
  },
  {
   "cell_type": "markdown",
   "id": "26eb6bfd",
   "metadata": {},
   "source": [
    "#  "
   ]
  },
  {
   "cell_type": "markdown",
   "id": "3aef6def",
   "metadata": {},
   "source": [
    "#### Generate processed_inventory - RUN BEFORE starting OCR process step:"
   ]
  },
  {
   "cell_type": "code",
   "execution_count": 3,
   "id": "5c3d24d3",
   "metadata": {
    "scrolled": true
   },
   "outputs": [
    {
     "name": "stdout",
     "output_type": "stream",
     "text": [
      "R014207711\n",
      "R014207807\n",
      "R014207808\n",
      "R014207810\n",
      "R014207811\n",
      "R014207813\n",
      "R014207817\n",
      "R014207818\n",
      "R014207819\n",
      "R014207820\n",
      "R014207822\n",
      "R014207825\n",
      "R014207826\n",
      "R014207827\n",
      "R014207828\n",
      "R014207829\n",
      "R014207830\n",
      "R014207831\n",
      "R014207833\n",
      "R014207834\n",
      "R014207835\n",
      "R014207836\n",
      "R014207837\n",
      "R014207838\n",
      "R014207839\n",
      "R014207843\n",
      "R014207886\n",
      "R014207892\n",
      "R014207941\n",
      "R014207944\n",
      "R014207945\n",
      "R014207950\n",
      "R014207952\n",
      "R014207961\n",
      "R014207963\n",
      "R014207969\n",
      "R028224481\n"
     ]
    }
   ],
   "source": [
    "df_inventory = pd.DataFrame()\n",
    "for directory in os.listdir(processedDir):\n",
    "    print(directory)\n",
    "    for subdirectory in os.listdir(processedDir + directory):\n",
    "        n_images = len(os.listdir(processedDir + directory + '/' + subdirectory))\n",
    "        df_inventory_ = pd.DataFrame({\n",
    "            'Directory': directory, \n",
    "            'Subdirectory': subdirectory,\n",
    "            'images': n_images,\n",
    "            'subdir_id': directory + '_' + subdirectory\n",
    "        }, index=[0])\n",
    "        df_inventory = pd.concat([df_inventory, df_inventory_], axis=0, ignore_index=True)"
   ]
  },
  {
   "cell_type": "code",
   "execution_count": 4,
   "id": "93a6a6bc",
   "metadata": {},
   "outputs": [
    {
     "name": "stdout",
     "output_type": "stream",
     "text": [
      "1977\n"
     ]
    },
    {
     "data": {
      "text/html": [
       "<div>\n",
       "<style scoped>\n",
       "    .dataframe tbody tr th:only-of-type {\n",
       "        vertical-align: middle;\n",
       "    }\n",
       "\n",
       "    .dataframe tbody tr th {\n",
       "        vertical-align: top;\n",
       "    }\n",
       "\n",
       "    .dataframe thead th {\n",
       "        text-align: right;\n",
       "    }\n",
       "</style>\n",
       "<table border=\"1\" class=\"dataframe\">\n",
       "  <thead>\n",
       "    <tr style=\"text-align: right;\">\n",
       "      <th></th>\n",
       "      <th>Directory</th>\n",
       "      <th>Subdirectory</th>\n",
       "      <th>images</th>\n",
       "      <th>subdir_id</th>\n",
       "    </tr>\n",
       "  </thead>\n",
       "  <tbody>\n",
       "    <tr>\n",
       "      <th>0</th>\n",
       "      <td>R014207711</td>\n",
       "      <td>24</td>\n",
       "      <td>256</td>\n",
       "      <td>R014207711_24</td>\n",
       "    </tr>\n",
       "    <tr>\n",
       "      <th>1</th>\n",
       "      <td>R014207711</td>\n",
       "      <td>25</td>\n",
       "      <td>499</td>\n",
       "      <td>R014207711_25</td>\n",
       "    </tr>\n",
       "    <tr>\n",
       "      <th>2</th>\n",
       "      <td>R014207711</td>\n",
       "      <td>27</td>\n",
       "      <td>96</td>\n",
       "      <td>R014207711_27</td>\n",
       "    </tr>\n",
       "    <tr>\n",
       "      <th>3</th>\n",
       "      <td>R014207711</td>\n",
       "      <td>28</td>\n",
       "      <td>103</td>\n",
       "      <td>R014207711_28</td>\n",
       "    </tr>\n",
       "    <tr>\n",
       "      <th>4</th>\n",
       "      <td>R014207711</td>\n",
       "      <td>29</td>\n",
       "      <td>341</td>\n",
       "      <td>R014207711_29</td>\n",
       "    </tr>\n",
       "  </tbody>\n",
       "</table>\n",
       "</div>"
      ],
      "text/plain": [
       "    Directory Subdirectory  images      subdir_id\n",
       "0  R014207711           24     256  R014207711_24\n",
       "1  R014207711           25     499  R014207711_25\n",
       "2  R014207711           27      96  R014207711_27\n",
       "3  R014207711           28     103  R014207711_28\n",
       "4  R014207711           29     341  R014207711_29"
      ]
     },
     "execution_count": 4,
     "metadata": {},
     "output_type": "execute_result"
    }
   ],
   "source": [
    "print(len(df_inventory))\n",
    "df_inventory.head()"
   ]
  },
  {
   "cell_type": "code",
   "execution_count": 5,
   "id": "08f197ea",
   "metadata": {},
   "outputs": [],
   "source": [
    "df_inventory.to_csv(logDir + 'image_inventory_processed.csv', index=False)"
   ]
  },
  {
   "cell_type": "markdown",
   "id": "2157a0ae",
   "metadata": {},
   "source": [
    "#  "
   ]
  },
  {
   "cell_type": "markdown",
   "id": "e34e963a",
   "metadata": {},
   "source": [
    "#### Concatenate 'OCR pass' results - START HERE after OCR processing step:"
   ]
  },
  {
   "cell_type": "code",
   "execution_count": 271,
   "id": "098dab53",
   "metadata": {},
   "outputs": [],
   "source": [
    "df_result = pd.DataFrame()\n",
    "i = 0\n",
    "for file in os.listdir(resultDir):\n",
    "    if 'R' in file:\n",
    "        directory = file\n",
    "        for file2 in os.listdir(resultDir + directory + '/'):\n",
    "            if 'result_OCRpass' in file2:\n",
    "                fn_parts = file2.split('_')\n",
    "                subdirectory = fn_parts[2].replace('.csv', '')\n",
    "                if i > 0:\n",
    "                    if i % 100 == 0:\n",
    "                        df_result = pd.read_csv(resultDir + 'result_total.csv')\n",
    "                        print(len(df_result))\n",
    "                try:\n",
    "                    df_load = pd.read_csv(resultDir + directory + '/' + file2, sep=',')\n",
    "                    n = len(df_load)\n",
    "                except pd.errors.EmptyDataError:\n",
    "                    n = 0\n",
    "                df_result = pd.concat([df_result, df_load])\n",
    "                i += 1\n",
    "                if i % 100 == 0:\n",
    "                    print('Now saving the ' + str(i) + 'th result...')\n",
    "                    df_result.to_csv(resultDir + 'result_total.csv', index=False)\n",
    "df_result.to_csv(resultDir + 'result_total.csv', index=False)"
   ]
  },
  {
   "cell_type": "markdown",
   "id": "9b20c903",
   "metadata": {},
   "source": [
    "#  "
   ]
  },
  {
   "cell_type": "markdown",
   "id": "d44163b2",
   "metadata": {},
   "source": [
    "#### Reduce columns:"
   ]
  },
  {
   "cell_type": "code",
   "execution_count": 272,
   "id": "2219830e",
   "metadata": {},
   "outputs": [
    {
     "name": "stdout",
     "output_type": "stream",
     "text": [
      "20531\n"
     ]
    },
    {
     "name": "stderr",
     "output_type": "stream",
     "text": [
      "C:\\Users\\rnaidoo\\AppData\\Local\\Temp\\ipykernel_13024\\4288959191.py:1: DtypeWarning: Columns (38,39,40,41,42,43) have mixed types. Specify dtype option on import or set low_memory=False.\n",
      "  df_result = pd.read_csv(resultDir + 'result_total.csv')\n"
     ]
    },
    {
     "data": {
      "text/html": [
       "<div>\n",
       "<style scoped>\n",
       "    .dataframe tbody tr th:only-of-type {\n",
       "        vertical-align: middle;\n",
       "    }\n",
       "\n",
       "    .dataframe tbody tr th {\n",
       "        vertical-align: top;\n",
       "    }\n",
       "\n",
       "    .dataframe thead th {\n",
       "        text-align: right;\n",
       "    }\n",
       "</style>\n",
       "<table border=\"1\" class=\"dataframe\">\n",
       "  <thead>\n",
       "    <tr style=\"text-align: right;\">\n",
       "      <th></th>\n",
       "      <th>fmin</th>\n",
       "      <th>max_depth</th>\n",
       "      <th>satellite_number</th>\n",
       "      <th>year</th>\n",
       "      <th>day_1</th>\n",
       "      <th>day_2</th>\n",
       "      <th>day_3</th>\n",
       "      <th>hour_1</th>\n",
       "      <th>hour_2</th>\n",
       "      <th>minute_1</th>\n",
       "      <th>...</th>\n",
       "      <th>filename</th>\n",
       "      <th>station_code</th>\n",
       "      <th>station_number</th>\n",
       "      <th>rotated_metadata</th>\n",
       "      <th>station_number_OCR</th>\n",
       "      <th>year_OCR</th>\n",
       "      <th>day_of_year_OCR</th>\n",
       "      <th>hour_OCR</th>\n",
       "      <th>minute_OCR</th>\n",
       "      <th>second_OCR</th>\n",
       "    </tr>\n",
       "  </thead>\n",
       "  <tbody>\n",
       "    <tr>\n",
       "      <th>0</th>\n",
       "      <td>1.500000</td>\n",
       "      <td>2046.875</td>\n",
       "      <td>0.0</td>\n",
       "      <td>0.0</td>\n",
       "      <td>4.0</td>\n",
       "      <td>0.0</td>\n",
       "      <td>2.0</td>\n",
       "      <td>2.0</td>\n",
       "      <td>2.0</td>\n",
       "      <td>2.0</td>\n",
       "      <td>...</td>\n",
       "      <td>70.png</td>\n",
       "      <td>NaN</td>\n",
       "      <td>NaN</td>\n",
       "      <td>NaN</td>\n",
       "      <td>NaN</td>\n",
       "      <td>NaN</td>\n",
       "      <td>NaN</td>\n",
       "      <td>NaN</td>\n",
       "      <td>NaN</td>\n",
       "      <td>NaN</td>\n",
       "    </tr>\n",
       "    <tr>\n",
       "      <th>1</th>\n",
       "      <td>1.500000</td>\n",
       "      <td>2125.000</td>\n",
       "      <td>0.0</td>\n",
       "      <td>0.0</td>\n",
       "      <td>2.0</td>\n",
       "      <td>2.0</td>\n",
       "      <td>2.0</td>\n",
       "      <td>0.0</td>\n",
       "      <td>4.0</td>\n",
       "      <td>2.0</td>\n",
       "      <td>...</td>\n",
       "      <td>71.png</td>\n",
       "      <td>NaN</td>\n",
       "      <td>NaN</td>\n",
       "      <td>NaN</td>\n",
       "      <td>NaN</td>\n",
       "      <td>NaN</td>\n",
       "      <td>NaN</td>\n",
       "      <td>NaN</td>\n",
       "      <td>NaN</td>\n",
       "      <td>NaN</td>\n",
       "    </tr>\n",
       "    <tr>\n",
       "      <th>2</th>\n",
       "      <td>6.555556</td>\n",
       "      <td>562.500</td>\n",
       "      <td>7.0</td>\n",
       "      <td>0.0</td>\n",
       "      <td>4.0</td>\n",
       "      <td>4.0</td>\n",
       "      <td>4.0</td>\n",
       "      <td>4.0</td>\n",
       "      <td>4.0</td>\n",
       "      <td>4.0</td>\n",
       "      <td>...</td>\n",
       "      <td>91.png</td>\n",
       "      <td>NaN</td>\n",
       "      <td>NaN</td>\n",
       "      <td>NaN</td>\n",
       "      <td>NaN</td>\n",
       "      <td>NaN</td>\n",
       "      <td>NaN</td>\n",
       "      <td>NaN</td>\n",
       "      <td>NaN</td>\n",
       "      <td>NaN</td>\n",
       "    </tr>\n",
       "    <tr>\n",
       "      <th>3</th>\n",
       "      <td>2.459677</td>\n",
       "      <td>2046.875</td>\n",
       "      <td>11.0</td>\n",
       "      <td>2.0</td>\n",
       "      <td>10.0</td>\n",
       "      <td>1.0</td>\n",
       "      <td>0.0</td>\n",
       "      <td>4.0</td>\n",
       "      <td>4.0</td>\n",
       "      <td>4.0</td>\n",
       "      <td>...</td>\n",
       "      <td>92.png</td>\n",
       "      <td>NaN</td>\n",
       "      <td>NaN</td>\n",
       "      <td>NaN</td>\n",
       "      <td>NaN</td>\n",
       "      <td>NaN</td>\n",
       "      <td>NaN</td>\n",
       "      <td>NaN</td>\n",
       "      <td>NaN</td>\n",
       "      <td>NaN</td>\n",
       "    </tr>\n",
       "    <tr>\n",
       "      <th>4</th>\n",
       "      <td>1.500000</td>\n",
       "      <td>2281.250</td>\n",
       "      <td>0.0</td>\n",
       "      <td>0.0</td>\n",
       "      <td>8.0</td>\n",
       "      <td>0.0</td>\n",
       "      <td>4.0</td>\n",
       "      <td>4.0</td>\n",
       "      <td>4.0</td>\n",
       "      <td>4.0</td>\n",
       "      <td>...</td>\n",
       "      <td>93.png</td>\n",
       "      <td>NaN</td>\n",
       "      <td>NaN</td>\n",
       "      <td>NaN</td>\n",
       "      <td>NaN</td>\n",
       "      <td>NaN</td>\n",
       "      <td>NaN</td>\n",
       "      <td>NaN</td>\n",
       "      <td>NaN</td>\n",
       "      <td>NaN</td>\n",
       "    </tr>\n",
       "  </tbody>\n",
       "</table>\n",
       "<p>5 rows × 44 columns</p>\n",
       "</div>"
      ],
      "text/plain": [
       "       fmin  max_depth  satellite_number  year  day_1  day_2  day_3  hour_1  \\\n",
       "0  1.500000   2046.875               0.0   0.0    4.0    0.0    2.0     2.0   \n",
       "1  1.500000   2125.000               0.0   0.0    2.0    2.0    2.0     0.0   \n",
       "2  6.555556    562.500               7.0   0.0    4.0    4.0    4.0     4.0   \n",
       "3  2.459677   2046.875              11.0   2.0   10.0    1.0    0.0     4.0   \n",
       "4  1.500000   2281.250               0.0   0.0    8.0    0.0    4.0     4.0   \n",
       "\n",
       "   hour_2  minute_1  ...  filename  station_code  station_number  \\\n",
       "0     2.0       2.0  ...    70.png           NaN             NaN   \n",
       "1     4.0       2.0  ...    71.png           NaN             NaN   \n",
       "2     4.0       4.0  ...    91.png           NaN             NaN   \n",
       "3     4.0       4.0  ...    92.png           NaN             NaN   \n",
       "4     4.0       4.0  ...    93.png           NaN             NaN   \n",
       "\n",
       "   rotated_metadata  station_number_OCR year_OCR day_of_year_OCR hour_OCR  \\\n",
       "0               NaN                 NaN      NaN             NaN      NaN   \n",
       "1               NaN                 NaN      NaN             NaN      NaN   \n",
       "2               NaN                 NaN      NaN             NaN      NaN   \n",
       "3               NaN                 NaN      NaN             NaN      NaN   \n",
       "4               NaN                 NaN      NaN             NaN      NaN   \n",
       "\n",
       "   minute_OCR  second_OCR  \n",
       "0         NaN         NaN  \n",
       "1         NaN         NaN  \n",
       "2         NaN         NaN  \n",
       "3         NaN         NaN  \n",
       "4         NaN         NaN  \n",
       "\n",
       "[5 rows x 44 columns]"
      ]
     },
     "execution_count": 272,
     "metadata": {},
     "output_type": "execute_result"
    }
   ],
   "source": [
    "df_result = pd.read_csv(resultDir + 'result_total.csv')\n",
    "print(len(df_result))\n",
    "df_result.head()"
   ]
  },
  {
   "cell_type": "code",
   "execution_count": 273,
   "id": "801907a3",
   "metadata": {},
   "outputs": [
    {
     "data": {
      "text/html": [
       "<div>\n",
       "<style scoped>\n",
       "    .dataframe tbody tr th:only-of-type {\n",
       "        vertical-align: middle;\n",
       "    }\n",
       "\n",
       "    .dataframe tbody tr th {\n",
       "        vertical-align: top;\n",
       "    }\n",
       "\n",
       "    .dataframe thead th {\n",
       "        text-align: right;\n",
       "    }\n",
       "</style>\n",
       "<table border=\"1\" class=\"dataframe\">\n",
       "  <thead>\n",
       "    <tr style=\"text-align: right;\">\n",
       "      <th></th>\n",
       "      <th>Directory</th>\n",
       "      <th>Subdirectory</th>\n",
       "      <th>filename</th>\n",
       "      <th>processed_image_class</th>\n",
       "      <th>fmin</th>\n",
       "      <th>max_depth</th>\n",
       "      <th>station_number</th>\n",
       "      <th>station_number_1</th>\n",
       "      <th>station_number_2</th>\n",
       "      <th>year_1</th>\n",
       "      <th>...</th>\n",
       "      <th>station_number_OCR</th>\n",
       "      <th>year_OCR</th>\n",
       "      <th>day_of_year_OCR</th>\n",
       "      <th>hour_OCR</th>\n",
       "      <th>minute_OCR</th>\n",
       "      <th>second_OCR</th>\n",
       "      <th>metadata_type</th>\n",
       "      <th>is_dot</th>\n",
       "      <th>func_name</th>\n",
       "      <th>details</th>\n",
       "    </tr>\n",
       "  </thead>\n",
       "  <tbody>\n",
       "    <tr>\n",
       "      <th>11187</th>\n",
       "      <td>R014207835</td>\n",
       "      <td>4065-19A</td>\n",
       "      <td>187.png</td>\n",
       "      <td>num2</td>\n",
       "      <td>1.533333</td>\n",
       "      <td>1380.851064</td>\n",
       "      <td>NaN</td>\n",
       "      <td>NaN</td>\n",
       "      <td>NaN</td>\n",
       "      <td>NaN</td>\n",
       "      <td>...</td>\n",
       "      <td>19.0</td>\n",
       "      <td>67.0</td>\n",
       "      <td>122.0</td>\n",
       "      <td>1.0</td>\n",
       "      <td>44.0</td>\n",
       "      <td>8.0</td>\n",
       "      <td>NaN</td>\n",
       "      <td>NaN</td>\n",
       "      <td>NaN</td>\n",
       "      <td>NaN</td>\n",
       "    </tr>\n",
       "    <tr>\n",
       "      <th>4209</th>\n",
       "      <td>R014207818</td>\n",
       "      <td>4228-43A</td>\n",
       "      <td>262.png</td>\n",
       "      <td>num2</td>\n",
       "      <td>1.762097</td>\n",
       "      <td>933.333333</td>\n",
       "      <td>NaN</td>\n",
       "      <td>NaN</td>\n",
       "      <td>NaN</td>\n",
       "      <td>NaN</td>\n",
       "      <td>...</td>\n",
       "      <td>43</td>\n",
       "      <td>67</td>\n",
       "      <td>268.0</td>\n",
       "      <td>04</td>\n",
       "      <td>22</td>\n",
       "      <td>59</td>\n",
       "      <td>NaN</td>\n",
       "      <td>NaN</td>\n",
       "      <td>NaN</td>\n",
       "      <td>NaN</td>\n",
       "    </tr>\n",
       "    <tr>\n",
       "      <th>5702</th>\n",
       "      <td>R014207822</td>\n",
       "      <td>3461-19A-2</td>\n",
       "      <td>242.png</td>\n",
       "      <td>loss</td>\n",
       "      <td>1.572581</td>\n",
       "      <td>760.937500</td>\n",
       "      <td>NaN</td>\n",
       "      <td>NaN</td>\n",
       "      <td>NaN</td>\n",
       "      <td>NaN</td>\n",
       "      <td>...</td>\n",
       "      <td>NaN</td>\n",
       "      <td>NaN</td>\n",
       "      <td>NaN</td>\n",
       "      <td>NaN</td>\n",
       "      <td>NaN</td>\n",
       "      <td>NaN</td>\n",
       "      <td>NaN</td>\n",
       "      <td>NaN</td>\n",
       "      <td>NaN</td>\n",
       "      <td>metadata could not be read by OCR</td>\n",
       "    </tr>\n",
       "    <tr>\n",
       "      <th>12882</th>\n",
       "      <td>R014207839</td>\n",
       "      <td>4130-50A</td>\n",
       "      <td>94.png</td>\n",
       "      <td>num2</td>\n",
       "      <td>1.500000</td>\n",
       "      <td>1806.250000</td>\n",
       "      <td>NaN</td>\n",
       "      <td>NaN</td>\n",
       "      <td>NaN</td>\n",
       "      <td>NaN</td>\n",
       "      <td>...</td>\n",
       "      <td>50.0</td>\n",
       "      <td>67</td>\n",
       "      <td>260.0</td>\n",
       "      <td>4.0</td>\n",
       "      <td>42</td>\n",
       "      <td>2.0</td>\n",
       "      <td>NaN</td>\n",
       "      <td>NaN</td>\n",
       "      <td>NaN</td>\n",
       "      <td>NaN</td>\n",
       "    </tr>\n",
       "    <tr>\n",
       "      <th>1467</th>\n",
       "      <td>R014207808</td>\n",
       "      <td>4603-69-2</td>\n",
       "      <td>107.png</td>\n",
       "      <td>loss</td>\n",
       "      <td>1.500000</td>\n",
       "      <td>1356.000000</td>\n",
       "      <td>NaN</td>\n",
       "      <td>NaN</td>\n",
       "      <td>NaN</td>\n",
       "      <td>NaN</td>\n",
       "      <td>...</td>\n",
       "      <td>NaN</td>\n",
       "      <td>NaN</td>\n",
       "      <td>NaN</td>\n",
       "      <td>NaN</td>\n",
       "      <td>NaN</td>\n",
       "      <td>NaN</td>\n",
       "      <td>NaN</td>\n",
       "      <td>NaN</td>\n",
       "      <td>NaN</td>\n",
       "      <td>metadata could not be read by OCR</td>\n",
       "    </tr>\n",
       "    <tr>\n",
       "      <th>13306</th>\n",
       "      <td>R014207843</td>\n",
       "      <td>3194-14A</td>\n",
       "      <td>195.png</td>\n",
       "      <td>loss</td>\n",
       "      <td>5.462963</td>\n",
       "      <td>1157.142857</td>\n",
       "      <td>NaN</td>\n",
       "      <td>NaN</td>\n",
       "      <td>NaN</td>\n",
       "      <td>NaN</td>\n",
       "      <td>...</td>\n",
       "      <td>NaN</td>\n",
       "      <td>NaN</td>\n",
       "      <td>NaN</td>\n",
       "      <td>NaN</td>\n",
       "      <td>NaN</td>\n",
       "      <td>NaN</td>\n",
       "      <td>NaN</td>\n",
       "      <td>NaN</td>\n",
       "      <td>NaN</td>\n",
       "      <td>metadata could not be read by OCR</td>\n",
       "    </tr>\n",
       "    <tr>\n",
       "      <th>1182</th>\n",
       "      <td>R014207808</td>\n",
       "      <td>4601-69</td>\n",
       "      <td>115.png</td>\n",
       "      <td>loss</td>\n",
       "      <td>4.777778</td>\n",
       "      <td>1427.450980</td>\n",
       "      <td>NaN</td>\n",
       "      <td>NaN</td>\n",
       "      <td>NaN</td>\n",
       "      <td>NaN</td>\n",
       "      <td>...</td>\n",
       "      <td>NaN</td>\n",
       "      <td>NaN</td>\n",
       "      <td>NaN</td>\n",
       "      <td>NaN</td>\n",
       "      <td>NaN</td>\n",
       "      <td>NaN</td>\n",
       "      <td>NaN</td>\n",
       "      <td>NaN</td>\n",
       "      <td>NaN</td>\n",
       "      <td>metadata could not be read by OCR</td>\n",
       "    </tr>\n",
       "    <tr>\n",
       "      <th>9431</th>\n",
       "      <td>R014207831</td>\n",
       "      <td>3919-43</td>\n",
       "      <td>223.png</td>\n",
       "      <td>loss</td>\n",
       "      <td>1.661290</td>\n",
       "      <td>1347.826087</td>\n",
       "      <td>NaN</td>\n",
       "      <td>NaN</td>\n",
       "      <td>NaN</td>\n",
       "      <td>NaN</td>\n",
       "      <td>...</td>\n",
       "      <td>NaN</td>\n",
       "      <td>NaN</td>\n",
       "      <td>NaN</td>\n",
       "      <td>NaN</td>\n",
       "      <td>NaN</td>\n",
       "      <td>NaN</td>\n",
       "      <td>NaN</td>\n",
       "      <td>NaN</td>\n",
       "      <td>NaN</td>\n",
       "      <td>metadata could not be read by OCR</td>\n",
       "    </tr>\n",
       "    <tr>\n",
       "      <th>1277</th>\n",
       "      <td>R014207808</td>\n",
       "      <td>4601-69</td>\n",
       "      <td>213.png</td>\n",
       "      <td>loss</td>\n",
       "      <td>4.916667</td>\n",
       "      <td>1421.568627</td>\n",
       "      <td>NaN</td>\n",
       "      <td>NaN</td>\n",
       "      <td>NaN</td>\n",
       "      <td>NaN</td>\n",
       "      <td>...</td>\n",
       "      <td>NaN</td>\n",
       "      <td>NaN</td>\n",
       "      <td>NaN</td>\n",
       "      <td>NaN</td>\n",
       "      <td>NaN</td>\n",
       "      <td>NaN</td>\n",
       "      <td>NaN</td>\n",
       "      <td>NaN</td>\n",
       "      <td>NaN</td>\n",
       "      <td>metadata could not be read by OCR</td>\n",
       "    </tr>\n",
       "    <tr>\n",
       "      <th>18646</th>\n",
       "      <td>R014207963</td>\n",
       "      <td>1544-1B</td>\n",
       "      <td>204.png</td>\n",
       "      <td>num</td>\n",
       "      <td>1.544355</td>\n",
       "      <td>892.000000</td>\n",
       "      <td>NaN</td>\n",
       "      <td>0.0</td>\n",
       "      <td>1.0</td>\n",
       "      <td>4.0</td>\n",
       "      <td>...</td>\n",
       "      <td>NaN</td>\n",
       "      <td>NaN</td>\n",
       "      <td>NaN</td>\n",
       "      <td>NaN</td>\n",
       "      <td>NaN</td>\n",
       "      <td>NaN</td>\n",
       "      <td>NaN</td>\n",
       "      <td>NaN</td>\n",
       "      <td>NaN</td>\n",
       "      <td>NaN</td>\n",
       "    </tr>\n",
       "  </tbody>\n",
       "</table>\n",
       "<p>10 rows × 30 columns</p>\n",
       "</div>"
      ],
      "text/plain": [
       "        Directory Subdirectory filename processed_image_class      fmin  \\\n",
       "11187  R014207835     4065-19A  187.png                  num2  1.533333   \n",
       "4209   R014207818     4228-43A  262.png                  num2  1.762097   \n",
       "5702   R014207822   3461-19A-2  242.png                  loss  1.572581   \n",
       "12882  R014207839     4130-50A   94.png                  num2  1.500000   \n",
       "1467   R014207808    4603-69-2  107.png                  loss  1.500000   \n",
       "13306  R014207843     3194-14A  195.png                  loss  5.462963   \n",
       "1182   R014207808      4601-69  115.png                  loss  4.777778   \n",
       "9431   R014207831      3919-43  223.png                  loss  1.661290   \n",
       "1277   R014207808      4601-69  213.png                  loss  4.916667   \n",
       "18646  R014207963      1544-1B  204.png                   num  1.544355   \n",
       "\n",
       "         max_depth  station_number  station_number_1  station_number_2  \\\n",
       "11187  1380.851064             NaN               NaN               NaN   \n",
       "4209    933.333333             NaN               NaN               NaN   \n",
       "5702    760.937500             NaN               NaN               NaN   \n",
       "12882  1806.250000             NaN               NaN               NaN   \n",
       "1467   1356.000000             NaN               NaN               NaN   \n",
       "13306  1157.142857             NaN               NaN               NaN   \n",
       "1182   1427.450980             NaN               NaN               NaN   \n",
       "9431   1347.826087             NaN               NaN               NaN   \n",
       "1277   1421.568627             NaN               NaN               NaN   \n",
       "18646   892.000000             NaN               0.0               1.0   \n",
       "\n",
       "       year_1  ...  station_number_OCR  year_OCR  day_of_year_OCR  hour_OCR  \\\n",
       "11187     NaN  ...                19.0      67.0            122.0       1.0   \n",
       "4209      NaN  ...                  43        67            268.0        04   \n",
       "5702      NaN  ...                 NaN       NaN              NaN       NaN   \n",
       "12882     NaN  ...                50.0        67            260.0       4.0   \n",
       "1467      NaN  ...                 NaN       NaN              NaN       NaN   \n",
       "13306     NaN  ...                 NaN       NaN              NaN       NaN   \n",
       "1182      NaN  ...                 NaN       NaN              NaN       NaN   \n",
       "9431      NaN  ...                 NaN       NaN              NaN       NaN   \n",
       "1277      NaN  ...                 NaN       NaN              NaN       NaN   \n",
       "18646     4.0  ...                 NaN       NaN              NaN       NaN   \n",
       "\n",
       "       minute_OCR  second_OCR  metadata_type  is_dot  func_name  \\\n",
       "11187        44.0         8.0            NaN     NaN        NaN   \n",
       "4209           22          59            NaN     NaN        NaN   \n",
       "5702          NaN         NaN            NaN     NaN        NaN   \n",
       "12882          42         2.0            NaN     NaN        NaN   \n",
       "1467          NaN         NaN            NaN     NaN        NaN   \n",
       "13306         NaN         NaN            NaN     NaN        NaN   \n",
       "1182          NaN         NaN            NaN     NaN        NaN   \n",
       "9431          NaN         NaN            NaN     NaN        NaN   \n",
       "1277          NaN         NaN            NaN     NaN        NaN   \n",
       "18646         NaN         NaN            NaN     NaN        NaN   \n",
       "\n",
       "                                 details  \n",
       "11187                                NaN  \n",
       "4209                                 NaN  \n",
       "5702   metadata could not be read by OCR  \n",
       "12882                                NaN  \n",
       "1467   metadata could not be read by OCR  \n",
       "13306  metadata could not be read by OCR  \n",
       "1182   metadata could not be read by OCR  \n",
       "9431   metadata could not be read by OCR  \n",
       "1277   metadata could not be read by OCR  \n",
       "18646                                NaN  \n",
       "\n",
       "[10 rows x 30 columns]"
      ]
     },
     "execution_count": 273,
     "metadata": {},
     "output_type": "execute_result"
    }
   ],
   "source": [
    "df_result['year_1'] = df_result['year']\n",
    "df_result = df_result[['Directory', 'Subdirectory', 'filename', 'processed_image_class', 'fmin', 'max_depth', \n",
    "                       'station_number', 'station_number_1', 'station_number_2', 'year_1', 'day_1', 'day_2', 'day_3', \n",
    "                       'hour_1', 'hour_2', 'minute_1', 'minute_2', 'second_1', 'second_2', 'satellite_number', \n",
    "                       'station_number_OCR', 'year_OCR', 'day_of_year_OCR', 'hour_OCR', 'minute_OCR', 'second_OCR', \n",
    "                       'metadata_type', 'is_dot', 'func_name', 'details']] \n",
    "df_result.sample(10)"
   ]
  },
  {
   "cell_type": "markdown",
   "id": "1ba53fdb",
   "metadata": {},
   "source": [
    "#  "
   ]
  },
  {
   "cell_type": "markdown",
   "id": "b23a3aa9",
   "metadata": {},
   "source": [
    "#### Split results into different metadata types (dot, num, num2):"
   ]
  },
  {
   "cell_type": "code",
   "execution_count": 274,
   "id": "d08d4bb1",
   "metadata": {},
   "outputs": [
    {
     "data": {
      "text/plain": [
       "array(['num', 'loss', 'outlier', 'num2', 'dot'], dtype=object)"
      ]
     },
     "execution_count": 274,
     "metadata": {},
     "output_type": "execute_result"
    }
   ],
   "source": [
    "df_result['processed_image_class'].unique()"
   ]
  },
  {
   "cell_type": "code",
   "execution_count": 275,
   "id": "1be90f1a",
   "metadata": {},
   "outputs": [
    {
     "name": "stdout",
     "output_type": "stream",
     "text": [
      "3203\n"
     ]
    }
   ],
   "source": [
    "df_num2 = df_result.loc[df_result['processed_image_class'] == 'num2']\n",
    "print(len(df_num2))"
   ]
  },
  {
   "cell_type": "code",
   "execution_count": 276,
   "id": "203c553d",
   "metadata": {},
   "outputs": [
    {
     "name": "stdout",
     "output_type": "stream",
     "text": [
      "4847\n"
     ]
    }
   ],
   "source": [
    "df_num = df_result.loc[df_result['processed_image_class'] == 'num']\n",
    "print(len(df_num))"
   ]
  },
  {
   "cell_type": "code",
   "execution_count": 277,
   "id": "187933db",
   "metadata": {},
   "outputs": [
    {
     "name": "stdout",
     "output_type": "stream",
     "text": [
      "589\n"
     ]
    }
   ],
   "source": [
    "df_dot = df_result.loc[df_result['processed_image_class'] == 'dot']\n",
    "print(len(df_dot))"
   ]
  },
  {
   "cell_type": "code",
   "execution_count": 278,
   "id": "b3252ff5",
   "metadata": {},
   "outputs": [
    {
     "name": "stdout",
     "output_type": "stream",
     "text": [
      "1889\n"
     ]
    }
   ],
   "source": [
    "df_outlier = df_result.loc[df_result['processed_image_class'] == 'outlier']\n",
    "print(len(df_outlier))"
   ]
  },
  {
   "cell_type": "code",
   "execution_count": 279,
   "id": "ffe172aa",
   "metadata": {},
   "outputs": [
    {
     "name": "stdout",
     "output_type": "stream",
     "text": [
      "10003\n"
     ]
    }
   ],
   "source": [
    "df_loss = df_result.loc[df_result['processed_image_class'] == 'loss']\n",
    "print(len(df_loss))"
   ]
  },
  {
   "cell_type": "code",
   "execution_count": 280,
   "id": "60121878",
   "metadata": {},
   "outputs": [
    {
     "data": {
      "text/plain": [
       "20531"
      ]
     },
     "execution_count": 280,
     "metadata": {},
     "output_type": "execute_result"
    }
   ],
   "source": [
    "len(df_num2) + len(df_num) + len(df_dot) + len(df_outlier) + len(df_loss)"
   ]
  },
  {
   "cell_type": "markdown",
   "id": "4604e196",
   "metadata": {},
   "source": [
    "  "
   ]
  },
  {
   "cell_type": "markdown",
   "id": "1d1701aa",
   "metadata": {},
   "source": [
    "#### num2 - check timestamp components, construct timestamp:"
   ]
  },
  {
   "cell_type": "code",
   "execution_count": 281,
   "id": "b2b05252",
   "metadata": {},
   "outputs": [
    {
     "data": {
      "text/html": [
       "<div>\n",
       "<style scoped>\n",
       "    .dataframe tbody tr th:only-of-type {\n",
       "        vertical-align: middle;\n",
       "    }\n",
       "\n",
       "    .dataframe tbody tr th {\n",
       "        vertical-align: top;\n",
       "    }\n",
       "\n",
       "    .dataframe thead th {\n",
       "        text-align: right;\n",
       "    }\n",
       "</style>\n",
       "<table border=\"1\" class=\"dataframe\">\n",
       "  <thead>\n",
       "    <tr style=\"text-align: right;\">\n",
       "      <th></th>\n",
       "      <th>year_OCR</th>\n",
       "      <th>day_of_year_OCR</th>\n",
       "      <th>hour_OCR</th>\n",
       "      <th>minute_OCR</th>\n",
       "      <th>second_OCR</th>\n",
       "    </tr>\n",
       "  </thead>\n",
       "  <tbody>\n",
       "    <tr>\n",
       "      <th>10240</th>\n",
       "      <td>68.0</td>\n",
       "      <td>084</td>\n",
       "      <td>2.0</td>\n",
       "      <td>5.0</td>\n",
       "      <td>42.0</td>\n",
       "    </tr>\n",
       "    <tr>\n",
       "      <th>11071</th>\n",
       "      <td>61.0</td>\n",
       "      <td>078</td>\n",
       "      <td>07</td>\n",
       "      <td>54</td>\n",
       "      <td>9.0</td>\n",
       "    </tr>\n",
       "    <tr>\n",
       "      <th>13672</th>\n",
       "      <td>66.0</td>\n",
       "      <td>015</td>\n",
       "      <td>19</td>\n",
       "      <td>03</td>\n",
       "      <td>17.0</td>\n",
       "    </tr>\n",
       "    <tr>\n",
       "      <th>10833</th>\n",
       "      <td>67.0</td>\n",
       "      <td>082</td>\n",
       "      <td>01</td>\n",
       "      <td>18</td>\n",
       "      <td>19.0</td>\n",
       "    </tr>\n",
       "    <tr>\n",
       "      <th>9558</th>\n",
       "      <td>67</td>\n",
       "      <td>052</td>\n",
       "      <td>21</td>\n",
       "      <td>30</td>\n",
       "      <td>20</td>\n",
       "    </tr>\n",
       "    <tr>\n",
       "      <th>13161</th>\n",
       "      <td>67</td>\n",
       "      <td>309</td>\n",
       "      <td>11</td>\n",
       "      <td>52</td>\n",
       "      <td>50</td>\n",
       "    </tr>\n",
       "    <tr>\n",
       "      <th>7616</th>\n",
       "      <td>67.0</td>\n",
       "      <td>310</td>\n",
       "      <td>08</td>\n",
       "      <td>03</td>\n",
       "      <td>36</td>\n",
       "    </tr>\n",
       "    <tr>\n",
       "      <th>1051</th>\n",
       "      <td>68</td>\n",
       "      <td>184</td>\n",
       "      <td>20</td>\n",
       "      <td>18</td>\n",
       "      <td>31</td>\n",
       "    </tr>\n",
       "    <tr>\n",
       "      <th>7723</th>\n",
       "      <td>67.0</td>\n",
       "      <td>325</td>\n",
       "      <td>06</td>\n",
       "      <td>48</td>\n",
       "      <td>55</td>\n",
       "    </tr>\n",
       "    <tr>\n",
       "      <th>5445</th>\n",
       "      <td>66</td>\n",
       "      <td>107</td>\n",
       "      <td>15</td>\n",
       "      <td>15</td>\n",
       "      <td>16</td>\n",
       "    </tr>\n",
       "  </tbody>\n",
       "</table>\n",
       "</div>"
      ],
      "text/plain": [
       "      year_OCR day_of_year_OCR hour_OCR minute_OCR second_OCR\n",
       "10240     68.0             084      2.0        5.0       42.0\n",
       "11071     61.0             078       07         54        9.0\n",
       "13672     66.0             015       19         03       17.0\n",
       "10833     67.0             082       01         18       19.0\n",
       "9558        67             052       21         30         20\n",
       "13161       67             309       11         52         50\n",
       "7616      67.0             310       08         03         36\n",
       "1051        68             184       20         18         31\n",
       "7723      67.0             325       06         48         55\n",
       "5445        66             107       15         15         16"
      ]
     },
     "execution_count": 281,
     "metadata": {},
     "output_type": "execute_result"
    }
   ],
   "source": [
    "df_num2[['year_OCR', 'day_of_year_OCR', 'hour_OCR', 'minute_OCR', 'second_OCR']].sample(10)"
   ]
  },
  {
   "cell_type": "markdown",
   "id": "cd2f64d7",
   "metadata": {},
   "source": [
    "year:"
   ]
  },
  {
   "cell_type": "code",
   "execution_count": 282,
   "id": "a9883a43",
   "metadata": {},
   "outputs": [
    {
     "data": {
      "text/plain": [
       "<Axes: xlabel='year_OCR', ylabel='Count'>"
      ]
     },
     "execution_count": 282,
     "metadata": {},
     "output_type": "execute_result"
    },
    {
     "data": {
      "image/png": "[encoded data removed]",
      "text/plain": [
       "<Figure size 640x480 with 1 Axes>"
      ]
     },
     "metadata": {},
     "output_type": "display_data"
    }
   ],
   "source": [
    "df_num2 = df_num2.copy(deep=True)\n",
    "df_num2['year_OCR'] = df_num2['year_OCR'].astype('float')\n",
    "sns.histplot(data=df_num2, x='year_OCR')"
   ]
  },
  {
   "cell_type": "code",
   "execution_count": 283,
   "id": "10f1387d",
   "metadata": {},
   "outputs": [],
   "source": [
    "df_num2['year_OCR'] = df_num2['year_OCR'].apply(lambda x: np.nan if x<62 else x)\n",
    "df_num2['year_OCR'] = df_num2['year_OCR'].apply(lambda x: np.nan if x>80 else x)"
   ]
  },
  {
   "cell_type": "code",
   "execution_count": 284,
   "id": "d7714fbd",
   "metadata": {},
   "outputs": [
    {
     "data": {
      "text/html": [
       "<div>\n",
       "<style scoped>\n",
       "    .dataframe tbody tr th:only-of-type {\n",
       "        vertical-align: middle;\n",
       "    }\n",
       "\n",
       "    .dataframe tbody tr th {\n",
       "        vertical-align: top;\n",
       "    }\n",
       "\n",
       "    .dataframe thead th {\n",
       "        text-align: right;\n",
       "    }\n",
       "</style>\n",
       "<table border=\"1\" class=\"dataframe\">\n",
       "  <thead>\n",
       "    <tr style=\"text-align: right;\">\n",
       "      <th></th>\n",
       "      <th>year</th>\n",
       "      <th>year_OCR</th>\n",
       "    </tr>\n",
       "  </thead>\n",
       "  <tbody>\n",
       "    <tr>\n",
       "      <th>8611</th>\n",
       "      <td>1967.0</td>\n",
       "      <td>67.0</td>\n",
       "    </tr>\n",
       "    <tr>\n",
       "      <th>10052</th>\n",
       "      <td>1968.0</td>\n",
       "      <td>68.0</td>\n",
       "    </tr>\n",
       "    <tr>\n",
       "      <th>7740</th>\n",
       "      <td>1967.0</td>\n",
       "      <td>67.0</td>\n",
       "    </tr>\n",
       "    <tr>\n",
       "      <th>10242</th>\n",
       "      <td>1968.0</td>\n",
       "      <td>68.0</td>\n",
       "    </tr>\n",
       "    <tr>\n",
       "      <th>7930</th>\n",
       "      <td>1968.0</td>\n",
       "      <td>68.0</td>\n",
       "    </tr>\n",
       "    <tr>\n",
       "      <th>4614</th>\n",
       "      <td>1967.0</td>\n",
       "      <td>67.0</td>\n",
       "    </tr>\n",
       "    <tr>\n",
       "      <th>1847</th>\n",
       "      <td>1968.0</td>\n",
       "      <td>68.0</td>\n",
       "    </tr>\n",
       "    <tr>\n",
       "      <th>4446</th>\n",
       "      <td>1967.0</td>\n",
       "      <td>67.0</td>\n",
       "    </tr>\n",
       "    <tr>\n",
       "      <th>11261</th>\n",
       "      <td>1967.0</td>\n",
       "      <td>67.0</td>\n",
       "    </tr>\n",
       "    <tr>\n",
       "      <th>1841</th>\n",
       "      <td>1968.0</td>\n",
       "      <td>68.0</td>\n",
       "    </tr>\n",
       "  </tbody>\n",
       "</table>\n",
       "</div>"
      ],
      "text/plain": [
       "         year  year_OCR\n",
       "8611   1967.0      67.0\n",
       "10052  1968.0      68.0\n",
       "7740   1967.0      67.0\n",
       "10242  1968.0      68.0\n",
       "7930   1968.0      68.0\n",
       "4614   1967.0      67.0\n",
       "1847   1968.0      68.0\n",
       "4446   1967.0      67.0\n",
       "11261  1967.0      67.0\n",
       "1841   1968.0      68.0"
      ]
     },
     "execution_count": 284,
     "metadata": {},
     "output_type": "execute_result"
    }
   ],
   "source": [
    "df_num2['year'] = df_num2['year_OCR'] + 1900\n",
    "df_num2[['year', 'year_OCR']].sample(10)"
   ]
  },
  {
   "cell_type": "markdown",
   "id": "d08d7c57",
   "metadata": {},
   "source": [
    "day:"
   ]
  },
  {
   "cell_type": "code",
   "execution_count": 285,
   "id": "5b13d5a1",
   "metadata": {},
   "outputs": [
    {
     "data": {
      "text/plain": [
       "<Axes: xlabel='day_of_year_OCR', ylabel='Count'>"
      ]
     },
     "execution_count": 285,
     "metadata": {},
     "output_type": "execute_result"
    },
    {
     "data": {
      "image/png": "[encoded data removed]",
      "text/plain": [
       "<Figure size 640x480 with 1 Axes>"
      ]
     },
     "metadata": {},
     "output_type": "display_data"
    }
   ],
   "source": [
    "df_num2['day_of_year_OCR'] = df_num2['day_of_year_OCR'].astype('float')\n",
    "sns.histplot(data=df_num2, x='day_of_year_OCR')"
   ]
  },
  {
   "cell_type": "code",
   "execution_count": 286,
   "id": "2f6b5822",
   "metadata": {},
   "outputs": [
    {
     "data": {
      "text/html": [
       "<div>\n",
       "<style scoped>\n",
       "    .dataframe tbody tr th:only-of-type {\n",
       "        vertical-align: middle;\n",
       "    }\n",
       "\n",
       "    .dataframe tbody tr th {\n",
       "        vertical-align: top;\n",
       "    }\n",
       "\n",
       "    .dataframe thead th {\n",
       "        text-align: right;\n",
       "    }\n",
       "</style>\n",
       "<table border=\"1\" class=\"dataframe\">\n",
       "  <thead>\n",
       "    <tr style=\"text-align: right;\">\n",
       "      <th></th>\n",
       "      <th>day_of_year</th>\n",
       "      <th>day_of_year_OCR</th>\n",
       "    </tr>\n",
       "  </thead>\n",
       "  <tbody>\n",
       "    <tr>\n",
       "      <th>4438</th>\n",
       "      <td>249.0</td>\n",
       "      <td>249.0</td>\n",
       "    </tr>\n",
       "    <tr>\n",
       "      <th>10418</th>\n",
       "      <td>83.0</td>\n",
       "      <td>83.0</td>\n",
       "    </tr>\n",
       "    <tr>\n",
       "      <th>10349</th>\n",
       "      <td>58.0</td>\n",
       "      <td>58.0</td>\n",
       "    </tr>\n",
       "    <tr>\n",
       "      <th>9311</th>\n",
       "      <td>50.0</td>\n",
       "      <td>50.0</td>\n",
       "    </tr>\n",
       "    <tr>\n",
       "      <th>11975</th>\n",
       "      <td>135.0</td>\n",
       "      <td>135.0</td>\n",
       "    </tr>\n",
       "    <tr>\n",
       "      <th>11944</th>\n",
       "      <td>137.0</td>\n",
       "      <td>137.0</td>\n",
       "    </tr>\n",
       "    <tr>\n",
       "      <th>1875</th>\n",
       "      <td>294.0</td>\n",
       "      <td>294.0</td>\n",
       "    </tr>\n",
       "    <tr>\n",
       "      <th>4215</th>\n",
       "      <td>268.0</td>\n",
       "      <td>268.0</td>\n",
       "    </tr>\n",
       "    <tr>\n",
       "      <th>4601</th>\n",
       "      <td>258.0</td>\n",
       "      <td>258.0</td>\n",
       "    </tr>\n",
       "    <tr>\n",
       "      <th>11950</th>\n",
       "      <td>134.0</td>\n",
       "      <td>134.0</td>\n",
       "    </tr>\n",
       "  </tbody>\n",
       "</table>\n",
       "</div>"
      ],
      "text/plain": [
       "       day_of_year  day_of_year_OCR\n",
       "4438         249.0            249.0\n",
       "10418         83.0             83.0\n",
       "10349         58.0             58.0\n",
       "9311          50.0             50.0\n",
       "11975        135.0            135.0\n",
       "11944        137.0            137.0\n",
       "1875         294.0            294.0\n",
       "4215         268.0            268.0\n",
       "4601         258.0            258.0\n",
       "11950        134.0            134.0"
      ]
     },
     "execution_count": 286,
     "metadata": {},
     "output_type": "execute_result"
    }
   ],
   "source": [
    "df_num2['day_of_year_OCR'] = df_num2['day_of_year_OCR'].apply(lambda x: np.nan if x>366 else x)\n",
    "df_num2['day_of_year_OCR'] = df_num2['day_of_year_OCR'].apply(lambda x: np.nan if x==0 else x)\n",
    "df_num2['day_of_year'] = df_num2['day_of_year_OCR']\n",
    "df_num2[['day_of_year', 'day_of_year_OCR']].sample(10)"
   ]
  },
  {
   "cell_type": "markdown",
   "id": "7399afbc",
   "metadata": {},
   "source": [
    "hour:"
   ]
  },
  {
   "cell_type": "code",
   "execution_count": 287,
   "id": "dfe54285",
   "metadata": {},
   "outputs": [
    {
     "data": {
      "text/plain": [
       "<Axes: xlabel='hour_OCR', ylabel='Count'>"
      ]
     },
     "execution_count": 287,
     "metadata": {},
     "output_type": "execute_result"
    },
    {
     "data": {
      "image/png": "[encoded data removed]",
      "text/plain": [
       "<Figure size 640x480 with 1 Axes>"
      ]
     },
     "metadata": {},
     "output_type": "display_data"
    }
   ],
   "source": [
    "df_num2['hour_OCR'] = df_num2['hour_OCR'].astype('float')\n",
    "sns.histplot(data=df_num2, x='hour_OCR')"
   ]
  },
  {
   "cell_type": "code",
   "execution_count": 288,
   "id": "e03ec071",
   "metadata": {},
   "outputs": [
    {
     "data": {
      "text/html": [
       "<div>\n",
       "<style scoped>\n",
       "    .dataframe tbody tr th:only-of-type {\n",
       "        vertical-align: middle;\n",
       "    }\n",
       "\n",
       "    .dataframe tbody tr th {\n",
       "        vertical-align: top;\n",
       "    }\n",
       "\n",
       "    .dataframe thead th {\n",
       "        text-align: right;\n",
       "    }\n",
       "</style>\n",
       "<table border=\"1\" class=\"dataframe\">\n",
       "  <thead>\n",
       "    <tr style=\"text-align: right;\">\n",
       "      <th></th>\n",
       "      <th>hour</th>\n",
       "      <th>hour_OCR</th>\n",
       "    </tr>\n",
       "  </thead>\n",
       "  <tbody>\n",
       "    <tr>\n",
       "      <th>12776</th>\n",
       "      <td>17.0</td>\n",
       "      <td>17.0</td>\n",
       "    </tr>\n",
       "    <tr>\n",
       "      <th>8995</th>\n",
       "      <td>6.0</td>\n",
       "      <td>6.0</td>\n",
       "    </tr>\n",
       "    <tr>\n",
       "      <th>4151</th>\n",
       "      <td>0.0</td>\n",
       "      <td>0.0</td>\n",
       "    </tr>\n",
       "    <tr>\n",
       "      <th>10403</th>\n",
       "      <td>5.0</td>\n",
       "      <td>5.0</td>\n",
       "    </tr>\n",
       "    <tr>\n",
       "      <th>4053</th>\n",
       "      <td>22.0</td>\n",
       "      <td>22.0</td>\n",
       "    </tr>\n",
       "    <tr>\n",
       "      <th>12761</th>\n",
       "      <td>17.0</td>\n",
       "      <td>17.0</td>\n",
       "    </tr>\n",
       "    <tr>\n",
       "      <th>12847</th>\n",
       "      <td>17.0</td>\n",
       "      <td>17.0</td>\n",
       "    </tr>\n",
       "    <tr>\n",
       "      <th>4565</th>\n",
       "      <td>11.0</td>\n",
       "      <td>11.0</td>\n",
       "    </tr>\n",
       "    <tr>\n",
       "      <th>11069</th>\n",
       "      <td>7.0</td>\n",
       "      <td>7.0</td>\n",
       "    </tr>\n",
       "    <tr>\n",
       "      <th>1924</th>\n",
       "      <td>0.0</td>\n",
       "      <td>0.0</td>\n",
       "    </tr>\n",
       "  </tbody>\n",
       "</table>\n",
       "</div>"
      ],
      "text/plain": [
       "       hour  hour_OCR\n",
       "12776  17.0      17.0\n",
       "8995    6.0       6.0\n",
       "4151    0.0       0.0\n",
       "10403   5.0       5.0\n",
       "4053   22.0      22.0\n",
       "12761  17.0      17.0\n",
       "12847  17.0      17.0\n",
       "4565   11.0      11.0\n",
       "11069   7.0       7.0\n",
       "1924    0.0       0.0"
      ]
     },
     "execution_count": 288,
     "metadata": {},
     "output_type": "execute_result"
    }
   ],
   "source": [
    "df_num2['hour_OCR'] = df_num2['hour_OCR'].apply(lambda x: np.nan if x>24 else x)\n",
    "df_num2['hour'] = df_num2['hour_OCR']\n",
    "df_num2[['hour', 'hour_OCR']].sample(10)"
   ]
  },
  {
   "cell_type": "markdown",
   "id": "f068ac36",
   "metadata": {},
   "source": [
    "minute:"
   ]
  },
  {
   "cell_type": "code",
   "execution_count": 289,
   "id": "467fa7aa",
   "metadata": {},
   "outputs": [
    {
     "data": {
      "text/plain": [
       "<Axes: xlabel='minute_OCR', ylabel='Count'>"
      ]
     },
     "execution_count": 289,
     "metadata": {},
     "output_type": "execute_result"
    },
    {
     "data": {
      "image/png": "[encoded data removed]",
      "text/plain": [
       "<Figure size 640x480 with 1 Axes>"
      ]
     },
     "metadata": {},
     "output_type": "display_data"
    }
   ],
   "source": [
    "df_num2['minute_OCR'] = df_num2['minute_OCR'].astype('float')\n",
    "sns.histplot(data=df_num2, x='minute_OCR')"
   ]
  },
  {
   "cell_type": "code",
   "execution_count": 290,
   "id": "f1d6ecd6",
   "metadata": {},
   "outputs": [
    {
     "data": {
      "text/html": [
       "<div>\n",
       "<style scoped>\n",
       "    .dataframe tbody tr th:only-of-type {\n",
       "        vertical-align: middle;\n",
       "    }\n",
       "\n",
       "    .dataframe tbody tr th {\n",
       "        vertical-align: top;\n",
       "    }\n",
       "\n",
       "    .dataframe thead th {\n",
       "        text-align: right;\n",
       "    }\n",
       "</style>\n",
       "<table border=\"1\" class=\"dataframe\">\n",
       "  <thead>\n",
       "    <tr style=\"text-align: right;\">\n",
       "      <th></th>\n",
       "      <th>minute</th>\n",
       "      <th>minute_OCR</th>\n",
       "    </tr>\n",
       "  </thead>\n",
       "  <tbody>\n",
       "    <tr>\n",
       "      <th>11307</th>\n",
       "      <td>27.0</td>\n",
       "      <td>27.0</td>\n",
       "    </tr>\n",
       "    <tr>\n",
       "      <th>8254</th>\n",
       "      <td>22.0</td>\n",
       "      <td>22.0</td>\n",
       "    </tr>\n",
       "    <tr>\n",
       "      <th>7572</th>\n",
       "      <td>3.0</td>\n",
       "      <td>3.0</td>\n",
       "    </tr>\n",
       "    <tr>\n",
       "      <th>13806</th>\n",
       "      <td>49.0</td>\n",
       "      <td>49.0</td>\n",
       "    </tr>\n",
       "    <tr>\n",
       "      <th>7965</th>\n",
       "      <td>26.0</td>\n",
       "      <td>26.0</td>\n",
       "    </tr>\n",
       "    <tr>\n",
       "      <th>7781</th>\n",
       "      <td>55.0</td>\n",
       "      <td>55.0</td>\n",
       "    </tr>\n",
       "    <tr>\n",
       "      <th>11269</th>\n",
       "      <td>52.0</td>\n",
       "      <td>52.0</td>\n",
       "    </tr>\n",
       "    <tr>\n",
       "      <th>10183</th>\n",
       "      <td>10.0</td>\n",
       "      <td>10.0</td>\n",
       "    </tr>\n",
       "    <tr>\n",
       "      <th>11317</th>\n",
       "      <td>28.0</td>\n",
       "      <td>28.0</td>\n",
       "    </tr>\n",
       "    <tr>\n",
       "      <th>10929</th>\n",
       "      <td>3.0</td>\n",
       "      <td>3.0</td>\n",
       "    </tr>\n",
       "  </tbody>\n",
       "</table>\n",
       "</div>"
      ],
      "text/plain": [
       "       minute  minute_OCR\n",
       "11307    27.0        27.0\n",
       "8254     22.0        22.0\n",
       "7572      3.0         3.0\n",
       "13806    49.0        49.0\n",
       "7965     26.0        26.0\n",
       "7781     55.0        55.0\n",
       "11269    52.0        52.0\n",
       "10183    10.0        10.0\n",
       "11317    28.0        28.0\n",
       "10929     3.0         3.0"
      ]
     },
     "execution_count": 290,
     "metadata": {},
     "output_type": "execute_result"
    }
   ],
   "source": [
    "df_num2['minute_OCR'] = df_num2['minute_OCR'].apply(lambda x: np.nan if x>60 else x)\n",
    "df_num2['minute'] = df_num2['minute_OCR']\n",
    "df_num2[['minute', 'minute_OCR']].sample(10)"
   ]
  },
  {
   "cell_type": "markdown",
   "id": "3f657cb1",
   "metadata": {},
   "source": [
    "second:"
   ]
  },
  {
   "cell_type": "code",
   "execution_count": 291,
   "id": "48157351",
   "metadata": {},
   "outputs": [
    {
     "data": {
      "text/plain": [
       "<Axes: xlabel='second_OCR', ylabel='Count'>"
      ]
     },
     "execution_count": 291,
     "metadata": {},
     "output_type": "execute_result"
    },
    {
     "data": {
      "image/png": "[encoded data removed]",
      "text/plain": [
       "<Figure size 640x480 with 1 Axes>"
      ]
     },
     "metadata": {},
     "output_type": "display_data"
    }
   ],
   "source": [
    "df_num2['second_OCR'] = df_num2['second_OCR'].astype('float')\n",
    "sns.histplot(data=df_num2, x='second_OCR')"
   ]
  },
  {
   "cell_type": "code",
   "execution_count": 292,
   "id": "2241aa37",
   "metadata": {},
   "outputs": [
    {
     "data": {
      "text/html": [
       "<div>\n",
       "<style scoped>\n",
       "    .dataframe tbody tr th:only-of-type {\n",
       "        vertical-align: middle;\n",
       "    }\n",
       "\n",
       "    .dataframe tbody tr th {\n",
       "        vertical-align: top;\n",
       "    }\n",
       "\n",
       "    .dataframe thead th {\n",
       "        text-align: right;\n",
       "    }\n",
       "</style>\n",
       "<table border=\"1\" class=\"dataframe\">\n",
       "  <thead>\n",
       "    <tr style=\"text-align: right;\">\n",
       "      <th></th>\n",
       "      <th>second</th>\n",
       "      <th>second_OCR</th>\n",
       "    </tr>\n",
       "  </thead>\n",
       "  <tbody>\n",
       "    <tr>\n",
       "      <th>9175</th>\n",
       "      <td>21.0</td>\n",
       "      <td>21.0</td>\n",
       "    </tr>\n",
       "    <tr>\n",
       "      <th>11231</th>\n",
       "      <td>11.0</td>\n",
       "      <td>11.0</td>\n",
       "    </tr>\n",
       "    <tr>\n",
       "      <th>4040</th>\n",
       "      <td>11.0</td>\n",
       "      <td>11.0</td>\n",
       "    </tr>\n",
       "    <tr>\n",
       "      <th>7972</th>\n",
       "      <td>36.0</td>\n",
       "      <td>36.0</td>\n",
       "    </tr>\n",
       "    <tr>\n",
       "      <th>7854</th>\n",
       "      <td>13.0</td>\n",
       "      <td>13.0</td>\n",
       "    </tr>\n",
       "    <tr>\n",
       "      <th>993</th>\n",
       "      <td>16.0</td>\n",
       "      <td>16.0</td>\n",
       "    </tr>\n",
       "    <tr>\n",
       "      <th>10350</th>\n",
       "      <td>39.0</td>\n",
       "      <td>39.0</td>\n",
       "    </tr>\n",
       "    <tr>\n",
       "      <th>4143</th>\n",
       "      <td>2.0</td>\n",
       "      <td>2.0</td>\n",
       "    </tr>\n",
       "    <tr>\n",
       "      <th>8370</th>\n",
       "      <td>19.0</td>\n",
       "      <td>19.0</td>\n",
       "    </tr>\n",
       "    <tr>\n",
       "      <th>4306</th>\n",
       "      <td>27.0</td>\n",
       "      <td>27.0</td>\n",
       "    </tr>\n",
       "  </tbody>\n",
       "</table>\n",
       "</div>"
      ],
      "text/plain": [
       "       second  second_OCR\n",
       "9175     21.0        21.0\n",
       "11231    11.0        11.0\n",
       "4040     11.0        11.0\n",
       "7972     36.0        36.0\n",
       "7854     13.0        13.0\n",
       "993      16.0        16.0\n",
       "10350    39.0        39.0\n",
       "4143      2.0         2.0\n",
       "8370     19.0        19.0\n",
       "4306     27.0        27.0"
      ]
     },
     "execution_count": 292,
     "metadata": {},
     "output_type": "execute_result"
    }
   ],
   "source": [
    "df_num2['second_OCR'] = df_num2['second_OCR'].apply(lambda x: np.nan if x>60 else x)\n",
    "df_num2['second'] = df_num2['second_OCR']\n",
    "df_num2[['second', 'second_OCR']].sample(10)"
   ]
  },
  {
   "cell_type": "markdown",
   "id": "89c68eb0",
   "metadata": {},
   "source": [
    "construct timestamp:"
   ]
  },
  {
   "cell_type": "code",
   "execution_count": 293,
   "id": "732214f0",
   "metadata": {},
   "outputs": [
    {
     "data": {
      "text/html": [
       "<div>\n",
       "<style scoped>\n",
       "    .dataframe tbody tr th:only-of-type {\n",
       "        vertical-align: middle;\n",
       "    }\n",
       "\n",
       "    .dataframe tbody tr th {\n",
       "        vertical-align: top;\n",
       "    }\n",
       "\n",
       "    .dataframe thead th {\n",
       "        text-align: right;\n",
       "    }\n",
       "</style>\n",
       "<table border=\"1\" class=\"dataframe\">\n",
       "  <thead>\n",
       "    <tr style=\"text-align: right;\">\n",
       "      <th></th>\n",
       "      <th>year</th>\n",
       "      <th>month</th>\n",
       "      <th>day</th>\n",
       "      <th>hour</th>\n",
       "      <th>minute</th>\n",
       "      <th>second</th>\n",
       "      <th>Timestamp</th>\n",
       "    </tr>\n",
       "  </thead>\n",
       "  <tbody>\n",
       "    <tr>\n",
       "      <th>1943</th>\n",
       "      <td>1968.0</td>\n",
       "      <td>10</td>\n",
       "      <td>19</td>\n",
       "      <td>14.0</td>\n",
       "      <td>29.0</td>\n",
       "      <td>48.0</td>\n",
       "      <td>1968-10-19 14:29:48</td>\n",
       "    </tr>\n",
       "    <tr>\n",
       "      <th>4660</th>\n",
       "      <td>1967.0</td>\n",
       "      <td>09</td>\n",
       "      <td>02</td>\n",
       "      <td>18.0</td>\n",
       "      <td>37.0</td>\n",
       "      <td>33.0</td>\n",
       "      <td>1967-09-02 18:37:33</td>\n",
       "    </tr>\n",
       "    <tr>\n",
       "      <th>11941</th>\n",
       "      <td>1967.0</td>\n",
       "      <td>05</td>\n",
       "      <td>17</td>\n",
       "      <td>10.0</td>\n",
       "      <td>46.0</td>\n",
       "      <td>46.0</td>\n",
       "      <td>1967-05-17 10:46:46</td>\n",
       "    </tr>\n",
       "    <tr>\n",
       "      <th>9616</th>\n",
       "      <td>1967.0</td>\n",
       "      <td>02</td>\n",
       "      <td>22</td>\n",
       "      <td>4.0</td>\n",
       "      <td>36.0</td>\n",
       "      <td>55.0</td>\n",
       "      <td>1967-02-22 04:36:55</td>\n",
       "    </tr>\n",
       "    <tr>\n",
       "      <th>10690</th>\n",
       "      <td>1968.0</td>\n",
       "      <td>01</td>\n",
       "      <td>15</td>\n",
       "      <td>17.0</td>\n",
       "      <td>38.0</td>\n",
       "      <td>58.0</td>\n",
       "      <td>1968-01-15 17:38:58</td>\n",
       "    </tr>\n",
       "    <tr>\n",
       "      <th>4388</th>\n",
       "      <td>1967.0</td>\n",
       "      <td>09</td>\n",
       "      <td>02</td>\n",
       "      <td>8.0</td>\n",
       "      <td>24.0</td>\n",
       "      <td>52.0</td>\n",
       "      <td>1967-09-02 08:24:52</td>\n",
       "    </tr>\n",
       "    <tr>\n",
       "      <th>4059</th>\n",
       "      <td>NaN</td>\n",
       "      <td>09</td>\n",
       "      <td>23</td>\n",
       "      <td>22.0</td>\n",
       "      <td>26.0</td>\n",
       "      <td>8.0</td>\n",
       "      <td>NaT</td>\n",
       "    </tr>\n",
       "    <tr>\n",
       "      <th>11947</th>\n",
       "      <td>1967.0</td>\n",
       "      <td>05</td>\n",
       "      <td>14</td>\n",
       "      <td>21.0</td>\n",
       "      <td>38.0</td>\n",
       "      <td>50.0</td>\n",
       "      <td>1967-05-14 21:38:50</td>\n",
       "    </tr>\n",
       "    <tr>\n",
       "      <th>12610</th>\n",
       "      <td>1967.0</td>\n",
       "      <td>09</td>\n",
       "      <td>17</td>\n",
       "      <td>4.0</td>\n",
       "      <td>43.0</td>\n",
       "      <td>45.0</td>\n",
       "      <td>1967-09-17 04:43:45</td>\n",
       "    </tr>\n",
       "    <tr>\n",
       "      <th>11617</th>\n",
       "      <td>NaN</td>\n",
       "      <td>04</td>\n",
       "      <td>10</td>\n",
       "      <td>2.0</td>\n",
       "      <td>19.0</td>\n",
       "      <td>56.0</td>\n",
       "      <td>NaT</td>\n",
       "    </tr>\n",
       "  </tbody>\n",
       "</table>\n",
       "</div>"
      ],
      "text/plain": [
       "         year month day  hour  minute  second           Timestamp\n",
       "1943   1968.0    10  19  14.0    29.0    48.0 1968-10-19 14:29:48\n",
       "4660   1967.0    09  02  18.0    37.0    33.0 1967-09-02 18:37:33\n",
       "11941  1967.0    05  17  10.0    46.0    46.0 1967-05-17 10:46:46\n",
       "9616   1967.0    02  22   4.0    36.0    55.0 1967-02-22 04:36:55\n",
       "10690  1968.0    01  15  17.0    38.0    58.0 1968-01-15 17:38:58\n",
       "4388   1967.0    09  02   8.0    24.0    52.0 1967-09-02 08:24:52\n",
       "4059      NaN    09  23  22.0    26.0     8.0                 NaT\n",
       "11947  1967.0    05  14  21.0    38.0    50.0 1967-05-14 21:38:50\n",
       "12610  1967.0    09  17   4.0    43.0    45.0 1967-09-17 04:43:45\n",
       "11617     NaN    04  10   2.0    19.0    56.0                 NaT"
      ]
     },
     "execution_count": 293,
     "metadata": {},
     "output_type": "execute_result"
    }
   ],
   "source": [
    "df_num2['month_day'] = pd.to_datetime(df_num2['day_of_year'], format='%j').dt.strftime('%m-%d')\n",
    "df_num2['month'] = df_num2['month_day'].str.split('-').str[0]\n",
    "df_num2['day'] = df_num2['month_day'].str.split('-').str[1]\n",
    "df_num2['Timestamp'] = pd.to_datetime(df_num2[['year', 'month', 'day', 'hour', 'minute', 'second']], format='%Y-%m-%d %H:%M:%S')\n",
    "df_num2[['year', 'month', 'day', 'hour', 'minute', 'second', 'Timestamp']].sample(10)"
   ]
  },
  {
   "cell_type": "markdown",
   "id": "0987a46d",
   "metadata": {},
   "source": [
    "#    "
   ]
  },
  {
   "cell_type": "markdown",
   "id": "bcd35a97",
   "metadata": {},
   "source": [
    "#### num - check timestamp components, construct timestamp:"
   ]
  },
  {
   "cell_type": "code",
   "execution_count": 294,
   "id": "e21e57a1",
   "metadata": {},
   "outputs": [
    {
     "data": {
      "text/html": [
       "<div>\n",
       "<style scoped>\n",
       "    .dataframe tbody tr th:only-of-type {\n",
       "        vertical-align: middle;\n",
       "    }\n",
       "\n",
       "    .dataframe tbody tr th {\n",
       "        vertical-align: top;\n",
       "    }\n",
       "\n",
       "    .dataframe thead th {\n",
       "        text-align: right;\n",
       "    }\n",
       "</style>\n",
       "<table border=\"1\" class=\"dataframe\">\n",
       "  <thead>\n",
       "    <tr style=\"text-align: right;\">\n",
       "      <th></th>\n",
       "      <th>year_1</th>\n",
       "      <th>day_1</th>\n",
       "      <th>day_2</th>\n",
       "      <th>day_3</th>\n",
       "      <th>hour_1</th>\n",
       "      <th>hour_2</th>\n",
       "      <th>minute_1</th>\n",
       "      <th>minute_2</th>\n",
       "      <th>second_1</th>\n",
       "      <th>second_2</th>\n",
       "    </tr>\n",
       "  </thead>\n",
       "  <tbody>\n",
       "    <tr>\n",
       "      <th>14877</th>\n",
       "      <td>4.0</td>\n",
       "      <td>1.0</td>\n",
       "      <td>4.0</td>\n",
       "      <td>2.0</td>\n",
       "      <td>0.0</td>\n",
       "      <td>4.0</td>\n",
       "      <td>3.0</td>\n",
       "      <td>5.0</td>\n",
       "      <td>2.0</td>\n",
       "      <td>1.0</td>\n",
       "    </tr>\n",
       "    <tr>\n",
       "      <th>18198</th>\n",
       "      <td>3.0</td>\n",
       "      <td>2.0</td>\n",
       "      <td>9.0</td>\n",
       "      <td>1.0</td>\n",
       "      <td>1.0</td>\n",
       "      <td>2.0</td>\n",
       "      <td>2.0</td>\n",
       "      <td>4.0</td>\n",
       "      <td>5.0</td>\n",
       "      <td>4.0</td>\n",
       "    </tr>\n",
       "    <tr>\n",
       "      <th>14867</th>\n",
       "      <td>4.0</td>\n",
       "      <td>1.0</td>\n",
       "      <td>3.0</td>\n",
       "      <td>6.0</td>\n",
       "      <td>0.0</td>\n",
       "      <td>4.0</td>\n",
       "      <td>2.0</td>\n",
       "      <td>4.0</td>\n",
       "      <td>3.0</td>\n",
       "      <td>4.0</td>\n",
       "    </tr>\n",
       "    <tr>\n",
       "      <th>19268</th>\n",
       "      <td>4.0</td>\n",
       "      <td>0.0</td>\n",
       "      <td>5.0</td>\n",
       "      <td>4.0</td>\n",
       "      <td>2.0</td>\n",
       "      <td>2.0</td>\n",
       "      <td>0.0</td>\n",
       "      <td>9.0</td>\n",
       "      <td>0.0</td>\n",
       "      <td>0.0</td>\n",
       "    </tr>\n",
       "    <tr>\n",
       "      <th>18449</th>\n",
       "      <td>3.0</td>\n",
       "      <td>2.0</td>\n",
       "      <td>9.0</td>\n",
       "      <td>4.0</td>\n",
       "      <td>2.0</td>\n",
       "      <td>3.0</td>\n",
       "      <td>5.0</td>\n",
       "      <td>5.0</td>\n",
       "      <td>5.0</td>\n",
       "      <td>2.0</td>\n",
       "    </tr>\n",
       "    <tr>\n",
       "      <th>16897</th>\n",
       "      <td>4.0</td>\n",
       "      <td>2.0</td>\n",
       "      <td>3.0</td>\n",
       "      <td>4.0</td>\n",
       "      <td>0.0</td>\n",
       "      <td>9.0</td>\n",
       "      <td>1.0</td>\n",
       "      <td>8.0</td>\n",
       "      <td>0.0</td>\n",
       "      <td>0.0</td>\n",
       "    </tr>\n",
       "    <tr>\n",
       "      <th>14711</th>\n",
       "      <td>4.0</td>\n",
       "      <td>1.0</td>\n",
       "      <td>5.0</td>\n",
       "      <td>8.0</td>\n",
       "      <td>0.0</td>\n",
       "      <td>3.0</td>\n",
       "      <td>5.0</td>\n",
       "      <td>1.0</td>\n",
       "      <td>5.0</td>\n",
       "      <td>6.0</td>\n",
       "    </tr>\n",
       "    <tr>\n",
       "      <th>15765</th>\n",
       "      <td>0.0</td>\n",
       "      <td>5.0</td>\n",
       "      <td>5.0</td>\n",
       "      <td>0.0</td>\n",
       "      <td>3.0</td>\n",
       "      <td>5.0</td>\n",
       "      <td>2.0</td>\n",
       "      <td>5.0</td>\n",
       "      <td>4.0</td>\n",
       "      <td>0.0</td>\n",
       "    </tr>\n",
       "    <tr>\n",
       "      <th>15142</th>\n",
       "      <td>4.0</td>\n",
       "      <td>2.0</td>\n",
       "      <td>1.0</td>\n",
       "      <td>5.0</td>\n",
       "      <td>0.0</td>\n",
       "      <td>0.0</td>\n",
       "      <td>5.0</td>\n",
       "      <td>0.0</td>\n",
       "      <td>4.0</td>\n",
       "      <td>8.0</td>\n",
       "    </tr>\n",
       "    <tr>\n",
       "      <th>19181</th>\n",
       "      <td>4.0</td>\n",
       "      <td>0.0</td>\n",
       "      <td>8.0</td>\n",
       "      <td>4.0</td>\n",
       "      <td>2.0</td>\n",
       "      <td>3.0</td>\n",
       "      <td>0.0</td>\n",
       "      <td>0.0</td>\n",
       "      <td>3.0</td>\n",
       "      <td>2.0</td>\n",
       "    </tr>\n",
       "  </tbody>\n",
       "</table>\n",
       "</div>"
      ],
      "text/plain": [
       "       year_1  day_1  day_2  day_3  hour_1  hour_2  minute_1  minute_2  \\\n",
       "14877     4.0    1.0    4.0    2.0     0.0     4.0       3.0       5.0   \n",
       "18198     3.0    2.0    9.0    1.0     1.0     2.0       2.0       4.0   \n",
       "14867     4.0    1.0    3.0    6.0     0.0     4.0       2.0       4.0   \n",
       "19268     4.0    0.0    5.0    4.0     2.0     2.0       0.0       9.0   \n",
       "18449     3.0    2.0    9.0    4.0     2.0     3.0       5.0       5.0   \n",
       "16897     4.0    2.0    3.0    4.0     0.0     9.0       1.0       8.0   \n",
       "14711     4.0    1.0    5.0    8.0     0.0     3.0       5.0       1.0   \n",
       "15765     0.0    5.0    5.0    0.0     3.0     5.0       2.0       5.0   \n",
       "15142     4.0    2.0    1.0    5.0     0.0     0.0       5.0       0.0   \n",
       "19181     4.0    0.0    8.0    4.0     2.0     3.0       0.0       0.0   \n",
       "\n",
       "       second_1  second_2  \n",
       "14877       2.0       1.0  \n",
       "18198       5.0       4.0  \n",
       "14867       3.0       4.0  \n",
       "19268       0.0       0.0  \n",
       "18449       5.0       2.0  \n",
       "16897       0.0       0.0  \n",
       "14711       5.0       6.0  \n",
       "15765       4.0       0.0  \n",
       "15142       4.0       8.0  \n",
       "19181       3.0       2.0  "
      ]
     },
     "execution_count": 294,
     "metadata": {},
     "output_type": "execute_result"
    }
   ],
   "source": [
    "df_num[['year_1', 'day_1', 'day_2', 'day_3', 'hour_1', 'hour_2', 'minute_1', 'minute_2', 'second_1', 'second_2']].sample(10)"
   ]
  },
  {
   "cell_type": "markdown",
   "id": "ceaf3e06",
   "metadata": {},
   "source": [
    "year - adjust to baseline 1962:"
   ]
  },
  {
   "cell_type": "code",
   "execution_count": 295,
   "id": "0bb9d404",
   "metadata": {},
   "outputs": [
    {
     "data": {
      "text/plain": [
       "<Axes: xlabel='year', ylabel='Count'>"
      ]
     },
     "execution_count": 295,
     "metadata": {},
     "output_type": "execute_result"
    },
    {
     "data": {
      "image/png": "[encoded data removed]",
      "text/plain": [
       "<Figure size 640x480 with 1 Axes>"
      ]
     },
     "metadata": {},
     "output_type": "display_data"
    }
   ],
   "source": [
    "df_num = df_num.copy(deep=True)\n",
    "df_num['year'] = df_num['year_1'] + 1962\n",
    "df_num['year'] = df_num['year'].astype('float')\n",
    "sns.histplot(data=df_num, x='year')"
   ]
  },
  {
   "cell_type": "code",
   "execution_count": 296,
   "id": "280442c8",
   "metadata": {},
   "outputs": [
    {
     "data": {
      "text/html": [
       "<div>\n",
       "<style scoped>\n",
       "    .dataframe tbody tr th:only-of-type {\n",
       "        vertical-align: middle;\n",
       "    }\n",
       "\n",
       "    .dataframe tbody tr th {\n",
       "        vertical-align: top;\n",
       "    }\n",
       "\n",
       "    .dataframe thead th {\n",
       "        text-align: right;\n",
       "    }\n",
       "</style>\n",
       "<table border=\"1\" class=\"dataframe\">\n",
       "  <thead>\n",
       "    <tr style=\"text-align: right;\">\n",
       "      <th></th>\n",
       "      <th>year</th>\n",
       "      <th>year_1</th>\n",
       "    </tr>\n",
       "  </thead>\n",
       "  <tbody>\n",
       "    <tr>\n",
       "      <th>14704</th>\n",
       "      <td>1966.0</td>\n",
       "      <td>4.0</td>\n",
       "    </tr>\n",
       "    <tr>\n",
       "      <th>6514</th>\n",
       "      <td>1964.0</td>\n",
       "      <td>2.0</td>\n",
       "    </tr>\n",
       "    <tr>\n",
       "      <th>17465</th>\n",
       "      <td>1965.0</td>\n",
       "      <td>3.0</td>\n",
       "    </tr>\n",
       "    <tr>\n",
       "      <th>16532</th>\n",
       "      <td>1966.0</td>\n",
       "      <td>4.0</td>\n",
       "    </tr>\n",
       "    <tr>\n",
       "      <th>18876</th>\n",
       "      <td>1963.0</td>\n",
       "      <td>1.0</td>\n",
       "    </tr>\n",
       "    <tr>\n",
       "      <th>18830</th>\n",
       "      <td>1966.0</td>\n",
       "      <td>4.0</td>\n",
       "    </tr>\n",
       "    <tr>\n",
       "      <th>15949</th>\n",
       "      <td>1966.0</td>\n",
       "      <td>4.0</td>\n",
       "    </tr>\n",
       "    <tr>\n",
       "      <th>18369</th>\n",
       "      <td>1965.0</td>\n",
       "      <td>3.0</td>\n",
       "    </tr>\n",
       "    <tr>\n",
       "      <th>14877</th>\n",
       "      <td>1966.0</td>\n",
       "      <td>4.0</td>\n",
       "    </tr>\n",
       "    <tr>\n",
       "      <th>19538</th>\n",
       "      <td>1966.0</td>\n",
       "      <td>4.0</td>\n",
       "    </tr>\n",
       "  </tbody>\n",
       "</table>\n",
       "</div>"
      ],
      "text/plain": [
       "         year  year_1\n",
       "14704  1966.0     4.0\n",
       "6514   1964.0     2.0\n",
       "17465  1965.0     3.0\n",
       "16532  1966.0     4.0\n",
       "18876  1963.0     1.0\n",
       "18830  1966.0     4.0\n",
       "15949  1966.0     4.0\n",
       "18369  1965.0     3.0\n",
       "14877  1966.0     4.0\n",
       "19538  1966.0     4.0"
      ]
     },
     "execution_count": 296,
     "metadata": {},
     "output_type": "execute_result"
    }
   ],
   "source": [
    "df_num['year'] = df_num['year'].apply(lambda x: np.nan if x<1962 else x)\n",
    "df_num['year'] = df_num['year'].apply(lambda x: np.nan if x>1980 else x)\n",
    "df_num[['year', 'year_1']].sample(10)"
   ]
  },
  {
   "cell_type": "markdown",
   "id": "c155f791",
   "metadata": {},
   "source": [
    "day:"
   ]
  },
  {
   "cell_type": "code",
   "execution_count": 297,
   "id": "8c026e1d",
   "metadata": {},
   "outputs": [
    {
     "data": {
      "text/plain": [
       "<Axes: xlabel='day_1', ylabel='Count'>"
      ]
     },
     "execution_count": 297,
     "metadata": {},
     "output_type": "execute_result"
    },
    {
     "data": {
      "image/png": "[encoded data removed]",
      "text/plain": [
       "<Figure size 640x480 with 1 Axes>"
      ]
     },
     "metadata": {},
     "output_type": "display_data"
    }
   ],
   "source": [
    "df_num['day_1'] = df_num['day_1'].astype(int)\n",
    "sns.histplot(data=df_num, x='day_1')"
   ]
  },
  {
   "cell_type": "code",
   "execution_count": 298,
   "id": "5cbc533f",
   "metadata": {},
   "outputs": [],
   "source": [
    "df_num['day_1'] = df_num['day_1'].apply(lambda x: np.nan if x>9 else x)"
   ]
  },
  {
   "cell_type": "code",
   "execution_count": 299,
   "id": "5c0b781d",
   "metadata": {},
   "outputs": [
    {
     "data": {
      "text/plain": [
       "<Axes: xlabel='day_2', ylabel='Count'>"
      ]
     },
     "execution_count": 299,
     "metadata": {},
     "output_type": "execute_result"
    },
    {
     "data": {
      "image/png": "[encoded data removed]",
      "text/plain": [
       "<Figure size 640x480 with 1 Axes>"
      ]
     },
     "metadata": {},
     "output_type": "display_data"
    }
   ],
   "source": [
    "df_num['day_2'] = df_num['day_2'].astype(int)\n",
    "sns.histplot(data=df_num, x='day_2')"
   ]
  },
  {
   "cell_type": "code",
   "execution_count": 300,
   "id": "c3559660",
   "metadata": {},
   "outputs": [],
   "source": [
    "df_num['day_2'] = df_num['day_2'].apply(lambda x: np.nan if x>9 else x)"
   ]
  },
  {
   "cell_type": "code",
   "execution_count": 301,
   "id": "62dadeaa",
   "metadata": {},
   "outputs": [
    {
     "data": {
      "text/plain": [
       "<Axes: xlabel='day_3', ylabel='Count'>"
      ]
     },
     "execution_count": 301,
     "metadata": {},
     "output_type": "execute_result"
    },
    {
     "data": {
      "image/png": "[encoded data removed]",
      "text/plain": [
       "<Figure size 640x480 with 1 Axes>"
      ]
     },
     "metadata": {},
     "output_type": "display_data"
    }
   ],
   "source": [
    "df_num['day_3'] = df_num['day_3'].astype(int)\n",
    "sns.histplot(data=df_num, x='day_3')"
   ]
  },
  {
   "cell_type": "code",
   "execution_count": 302,
   "id": "c8231cbe",
   "metadata": {},
   "outputs": [],
   "source": [
    "df_num['day_3'] = df_num['day_3'].apply(lambda x: np.nan if x>9 else x)"
   ]
  },
  {
   "cell_type": "code",
   "execution_count": 303,
   "id": "282af71f",
   "metadata": {},
   "outputs": [
    {
     "name": "stdout",
     "output_type": "stream",
     "text": [
      "4847\n"
     ]
    },
    {
     "data": {
      "text/html": [
       "<div>\n",
       "<style scoped>\n",
       "    .dataframe tbody tr th:only-of-type {\n",
       "        vertical-align: middle;\n",
       "    }\n",
       "\n",
       "    .dataframe tbody tr th {\n",
       "        vertical-align: top;\n",
       "    }\n",
       "\n",
       "    .dataframe thead th {\n",
       "        text-align: right;\n",
       "    }\n",
       "</style>\n",
       "<table border=\"1\" class=\"dataframe\">\n",
       "  <thead>\n",
       "    <tr style=\"text-align: right;\">\n",
       "      <th></th>\n",
       "      <th>day_of_year</th>\n",
       "      <th>day_1</th>\n",
       "      <th>day_2</th>\n",
       "      <th>day_3</th>\n",
       "    </tr>\n",
       "  </thead>\n",
       "  <tbody>\n",
       "    <tr>\n",
       "      <th>18301</th>\n",
       "      <td>292.0</td>\n",
       "      <td>2.0</td>\n",
       "      <td>9.0</td>\n",
       "      <td>2.0</td>\n",
       "    </tr>\n",
       "    <tr>\n",
       "      <th>15138</th>\n",
       "      <td>215.0</td>\n",
       "      <td>2.0</td>\n",
       "      <td>1.0</td>\n",
       "      <td>5.0</td>\n",
       "    </tr>\n",
       "    <tr>\n",
       "      <th>15334</th>\n",
       "      <td>255.0</td>\n",
       "      <td>2.0</td>\n",
       "      <td>5.0</td>\n",
       "      <td>5.0</td>\n",
       "    </tr>\n",
       "    <tr>\n",
       "      <th>6483</th>\n",
       "      <td>222.0</td>\n",
       "      <td>2.0</td>\n",
       "      <td>2.0</td>\n",
       "      <td>2.0</td>\n",
       "    </tr>\n",
       "    <tr>\n",
       "      <th>17619</th>\n",
       "      <td>288.0</td>\n",
       "      <td>2.0</td>\n",
       "      <td>8.0</td>\n",
       "      <td>8.0</td>\n",
       "    </tr>\n",
       "    <tr>\n",
       "      <th>14811</th>\n",
       "      <td>NaN</td>\n",
       "      <td>4.0</td>\n",
       "      <td>1.0</td>\n",
       "      <td>4.0</td>\n",
       "    </tr>\n",
       "    <tr>\n",
       "      <th>16133</th>\n",
       "      <td>48.0</td>\n",
       "      <td>0.0</td>\n",
       "      <td>4.0</td>\n",
       "      <td>8.0</td>\n",
       "    </tr>\n",
       "    <tr>\n",
       "      <th>15183</th>\n",
       "      <td>213.0</td>\n",
       "      <td>2.0</td>\n",
       "      <td>1.0</td>\n",
       "      <td>3.0</td>\n",
       "    </tr>\n",
       "    <tr>\n",
       "      <th>19124</th>\n",
       "      <td>86.0</td>\n",
       "      <td>0.0</td>\n",
       "      <td>8.0</td>\n",
       "      <td>6.0</td>\n",
       "    </tr>\n",
       "    <tr>\n",
       "      <th>19615</th>\n",
       "      <td>212.0</td>\n",
       "      <td>2.0</td>\n",
       "      <td>1.0</td>\n",
       "      <td>2.0</td>\n",
       "    </tr>\n",
       "  </tbody>\n",
       "</table>\n",
       "</div>"
      ],
      "text/plain": [
       "       day_of_year  day_1  day_2  day_3\n",
       "18301        292.0    2.0    9.0    2.0\n",
       "15138        215.0    2.0    1.0    5.0\n",
       "15334        255.0    2.0    5.0    5.0\n",
       "6483         222.0    2.0    2.0    2.0\n",
       "17619        288.0    2.0    8.0    8.0\n",
       "14811          NaN    4.0    1.0    4.0\n",
       "16133         48.0    0.0    4.0    8.0\n",
       "15183        213.0    2.0    1.0    3.0\n",
       "19124         86.0    0.0    8.0    6.0\n",
       "19615        212.0    2.0    1.0    2.0"
      ]
     },
     "execution_count": 303,
     "metadata": {},
     "output_type": "execute_result"
    }
   ],
   "source": [
    "df_num_daycheck = df_num[~pd.isna(df_num['day_1'])]\n",
    "df_num_daycheck = df_num_daycheck[~pd.isna(df_num_daycheck['day_2'])]\n",
    "df_num_daycheck = df_num_daycheck[~pd.isna(df_num_daycheck['day_3'])]\n",
    "df_num_daycheck['day_of_year'] = df_num_daycheck['day_1'].astype(int).astype(str) + df_num_daycheck['day_2'].astype(int).astype(str) + df_num_daycheck['day_3'].astype(int).astype(str)\n",
    "df_num_daycheck['day_of_year'] = df_num_daycheck['day_of_year'].astype(int)\n",
    "df_num_daycheck['day_of_year'] = df_num_daycheck['day_of_year'].apply(lambda x: np.nan if x>366 else x)\n",
    "df_num_daycheck['day_of_year'] = df_num_daycheck['day_of_year'].apply(lambda x: np.nan if x==0 else x)\n",
    "df_num_nullday = df_num.loc[pd.isna(df_num['day_1']) | pd.isna(df_num['day_2']) | pd.isna(df_num['day_3'])]\n",
    "df_num_nullday = df_num_nullday.copy(deep=True)\n",
    "df_num_nullday['day_of_year'] = np.nan\n",
    "df_num = pd.concat([df_num_daycheck, df_num_nullday])\n",
    "print(len(df_num))\n",
    "df_num[['day_of_year', 'day_1', 'day_2', 'day_3']].sample(10)"
   ]
  },
  {
   "cell_type": "markdown",
   "id": "b47049cf",
   "metadata": {},
   "source": [
    "hour:"
   ]
  },
  {
   "cell_type": "code",
   "execution_count": 304,
   "id": "dd82fada",
   "metadata": {},
   "outputs": [
    {
     "data": {
      "text/plain": [
       "<Axes: xlabel='hour_1', ylabel='Count'>"
      ]
     },
     "execution_count": 304,
     "metadata": {},
     "output_type": "execute_result"
    },
    {
     "data": {
      "image/png": "[encoded data removed]",
      "text/plain": [
       "<Figure size 640x480 with 1 Axes>"
      ]
     },
     "metadata": {},
     "output_type": "display_data"
    }
   ],
   "source": [
    "df_num['hour_1'] = df_num['hour_1'].astype(int)\n",
    "sns.histplot(data=df_num, x='hour_1')"
   ]
  },
  {
   "cell_type": "code",
   "execution_count": 305,
   "id": "2a2440a0",
   "metadata": {},
   "outputs": [],
   "source": [
    "df_num['hour_1'] = df_num['hour_1'].apply(lambda x: np.nan if x>9 else x)"
   ]
  },
  {
   "cell_type": "code",
   "execution_count": 306,
   "id": "3df41e67",
   "metadata": {},
   "outputs": [
    {
     "data": {
      "text/plain": [
       "<Axes: xlabel='hour_2', ylabel='Count'>"
      ]
     },
     "execution_count": 306,
     "metadata": {},
     "output_type": "execute_result"
    },
    {
     "data": {
      "image/png": "[encoded data removed]",
      "text/plain": [
       "<Figure size 640x480 with 1 Axes>"
      ]
     },
     "metadata": {},
     "output_type": "display_data"
    }
   ],
   "source": [
    "df_num['hour_2'] = df_num['hour_2'].astype(int)\n",
    "sns.histplot(data=df_num, x='hour_2')"
   ]
  },
  {
   "cell_type": "code",
   "execution_count": 307,
   "id": "c6da1b0c",
   "metadata": {},
   "outputs": [],
   "source": [
    "df_num['hour_2'] = df_num['hour_2'].apply(lambda x: np.nan if x>9 else x)"
   ]
  },
  {
   "cell_type": "code",
   "execution_count": 308,
   "id": "cac39951",
   "metadata": {},
   "outputs": [
    {
     "name": "stdout",
     "output_type": "stream",
     "text": [
      "4847\n"
     ]
    },
    {
     "data": {
      "text/html": [
       "<div>\n",
       "<style scoped>\n",
       "    .dataframe tbody tr th:only-of-type {\n",
       "        vertical-align: middle;\n",
       "    }\n",
       "\n",
       "    .dataframe tbody tr th {\n",
       "        vertical-align: top;\n",
       "    }\n",
       "\n",
       "    .dataframe thead th {\n",
       "        text-align: right;\n",
       "    }\n",
       "</style>\n",
       "<table border=\"1\" class=\"dataframe\">\n",
       "  <thead>\n",
       "    <tr style=\"text-align: right;\">\n",
       "      <th></th>\n",
       "      <th>hour</th>\n",
       "      <th>hour_1</th>\n",
       "      <th>hour_2</th>\n",
       "    </tr>\n",
       "  </thead>\n",
       "  <tbody>\n",
       "    <tr>\n",
       "      <th>15175</th>\n",
       "      <td>9.0</td>\n",
       "      <td>0.0</td>\n",
       "      <td>9.0</td>\n",
       "    </tr>\n",
       "    <tr>\n",
       "      <th>15077</th>\n",
       "      <td>10.0</td>\n",
       "      <td>1.0</td>\n",
       "      <td>0.0</td>\n",
       "    </tr>\n",
       "    <tr>\n",
       "      <th>20170</th>\n",
       "      <td>3.0</td>\n",
       "      <td>0.0</td>\n",
       "      <td>3.0</td>\n",
       "    </tr>\n",
       "    <tr>\n",
       "      <th>16861</th>\n",
       "      <td>5.0</td>\n",
       "      <td>0.0</td>\n",
       "      <td>5.0</td>\n",
       "    </tr>\n",
       "    <tr>\n",
       "      <th>6118</th>\n",
       "      <td>22.0</td>\n",
       "      <td>2.0</td>\n",
       "      <td>2.0</td>\n",
       "    </tr>\n",
       "    <tr>\n",
       "      <th>14792</th>\n",
       "      <td>5.0</td>\n",
       "      <td>0.0</td>\n",
       "      <td>5.0</td>\n",
       "    </tr>\n",
       "    <tr>\n",
       "      <th>14514</th>\n",
       "      <td>0.0</td>\n",
       "      <td>0.0</td>\n",
       "      <td>0.0</td>\n",
       "    </tr>\n",
       "    <tr>\n",
       "      <th>14889</th>\n",
       "      <td>4.0</td>\n",
       "      <td>0.0</td>\n",
       "      <td>4.0</td>\n",
       "    </tr>\n",
       "    <tr>\n",
       "      <th>19510</th>\n",
       "      <td>20.0</td>\n",
       "      <td>2.0</td>\n",
       "      <td>0.0</td>\n",
       "    </tr>\n",
       "    <tr>\n",
       "      <th>16692</th>\n",
       "      <td>18.0</td>\n",
       "      <td>1.0</td>\n",
       "      <td>8.0</td>\n",
       "    </tr>\n",
       "  </tbody>\n",
       "</table>\n",
       "</div>"
      ],
      "text/plain": [
       "       hour  hour_1  hour_2\n",
       "15175   9.0     0.0     9.0\n",
       "15077  10.0     1.0     0.0\n",
       "20170   3.0     0.0     3.0\n",
       "16861   5.0     0.0     5.0\n",
       "6118   22.0     2.0     2.0\n",
       "14792   5.0     0.0     5.0\n",
       "14514   0.0     0.0     0.0\n",
       "14889   4.0     0.0     4.0\n",
       "19510  20.0     2.0     0.0\n",
       "16692  18.0     1.0     8.0"
      ]
     },
     "execution_count": 308,
     "metadata": {},
     "output_type": "execute_result"
    }
   ],
   "source": [
    "df_num_hourcheck = df_num[~pd.isna(df_num['hour_1'])]\n",
    "df_num_hourcheck = df_num_hourcheck[~pd.isna(df_num_hourcheck['hour_2'])]\n",
    "df_num_hourcheck['hour'] = df_num_hourcheck['hour_1'].astype(int).astype(str) + df_num_hourcheck['hour_2'].astype(int).astype(str)\n",
    "df_num_hourcheck['hour'] = df_num_hourcheck['hour'].astype(int)\n",
    "df_num_hourcheck['hour'] = df_num_hourcheck['hour'].apply(lambda x: np.nan if x>23 else x)\n",
    "df_num_nullhour = df_num.loc[pd.isna(df_num['hour_1']) | pd.isna(df_num['hour_2'])]\n",
    "df_num_nullhour = df_num_nullhour.copy(deep=True)\n",
    "df_num_nullhour['hour'] = np.nan\n",
    "df_num = pd.concat([df_num_hourcheck, df_num_nullhour])\n",
    "print(len(df_num))\n",
    "df_num[['hour', 'hour_1', 'hour_2']].sample(10)"
   ]
  },
  {
   "cell_type": "markdown",
   "id": "6d4337b7",
   "metadata": {},
   "source": [
    "minute:"
   ]
  },
  {
   "cell_type": "code",
   "execution_count": 309,
   "id": "329f79c6",
   "metadata": {},
   "outputs": [
    {
     "data": {
      "text/plain": [
       "<Axes: xlabel='minute_1', ylabel='Count'>"
      ]
     },
     "execution_count": 309,
     "metadata": {},
     "output_type": "execute_result"
    },
    {
     "data": {
      "image/png": "[encoded data removed]",
      "text/plain": [
       "<Figure size 640x480 with 1 Axes>"
      ]
     },
     "metadata": {},
     "output_type": "display_data"
    }
   ],
   "source": [
    "df_num['minute_1'] = df_num['minute_1'].astype(int)\n",
    "sns.histplot(data=df_num, x='minute_1')"
   ]
  },
  {
   "cell_type": "code",
   "execution_count": 310,
   "id": "d90ad807",
   "metadata": {},
   "outputs": [],
   "source": [
    "df_num['minute_1'] = df_num['minute_1'].apply(lambda x: np.nan if x>9 else x)"
   ]
  },
  {
   "cell_type": "code",
   "execution_count": 311,
   "id": "982acfd8",
   "metadata": {},
   "outputs": [
    {
     "data": {
      "text/plain": [
       "<Axes: xlabel='minute_2', ylabel='Count'>"
      ]
     },
     "execution_count": 311,
     "metadata": {},
     "output_type": "execute_result"
    },
    {
     "data": {
      "image/png": "[encoded data removed]",
      "text/plain": [
       "<Figure size 640x480 with 1 Axes>"
      ]
     },
     "metadata": {},
     "output_type": "display_data"
    }
   ],
   "source": [
    "df_num['minute_2'] = df_num['minute_2'].astype(int)\n",
    "sns.histplot(data=df_num, x='minute_2')"
   ]
  },
  {
   "cell_type": "code",
   "execution_count": 312,
   "id": "45c2d6de",
   "metadata": {},
   "outputs": [],
   "source": [
    "df_num['minute_2'] = df_num['minute_2'].apply(lambda x: np.nan if x>9 else x)"
   ]
  },
  {
   "cell_type": "code",
   "execution_count": 313,
   "id": "35a87c60",
   "metadata": {},
   "outputs": [
    {
     "name": "stdout",
     "output_type": "stream",
     "text": [
      "4847\n"
     ]
    },
    {
     "data": {
      "text/html": [
       "<div>\n",
       "<style scoped>\n",
       "    .dataframe tbody tr th:only-of-type {\n",
       "        vertical-align: middle;\n",
       "    }\n",
       "\n",
       "    .dataframe tbody tr th {\n",
       "        vertical-align: top;\n",
       "    }\n",
       "\n",
       "    .dataframe thead th {\n",
       "        text-align: right;\n",
       "    }\n",
       "</style>\n",
       "<table border=\"1\" class=\"dataframe\">\n",
       "  <thead>\n",
       "    <tr style=\"text-align: right;\">\n",
       "      <th></th>\n",
       "      <th>minute</th>\n",
       "      <th>minute_1</th>\n",
       "      <th>minute_2</th>\n",
       "    </tr>\n",
       "  </thead>\n",
       "  <tbody>\n",
       "    <tr>\n",
       "      <th>19566</th>\n",
       "      <td>11.0</td>\n",
       "      <td>1.0</td>\n",
       "      <td>1.0</td>\n",
       "    </tr>\n",
       "    <tr>\n",
       "      <th>19290</th>\n",
       "      <td>3.0</td>\n",
       "      <td>0.0</td>\n",
       "      <td>3.0</td>\n",
       "    </tr>\n",
       "    <tr>\n",
       "      <th>14887</th>\n",
       "      <td>37.0</td>\n",
       "      <td>3.0</td>\n",
       "      <td>7.0</td>\n",
       "    </tr>\n",
       "    <tr>\n",
       "      <th>17591</th>\n",
       "      <td>50.0</td>\n",
       "      <td>5.0</td>\n",
       "      <td>0.0</td>\n",
       "    </tr>\n",
       "    <tr>\n",
       "      <th>19135</th>\n",
       "      <td>48.0</td>\n",
       "      <td>4.0</td>\n",
       "      <td>8.0</td>\n",
       "    </tr>\n",
       "    <tr>\n",
       "      <th>17687</th>\n",
       "      <td>33.0</td>\n",
       "      <td>3.0</td>\n",
       "      <td>3.0</td>\n",
       "    </tr>\n",
       "    <tr>\n",
       "      <th>16994</th>\n",
       "      <td>32.0</td>\n",
       "      <td>3.0</td>\n",
       "      <td>2.0</td>\n",
       "    </tr>\n",
       "    <tr>\n",
       "      <th>17529</th>\n",
       "      <td>4.0</td>\n",
       "      <td>0.0</td>\n",
       "      <td>4.0</td>\n",
       "    </tr>\n",
       "    <tr>\n",
       "      <th>6518</th>\n",
       "      <td>22.0</td>\n",
       "      <td>2.0</td>\n",
       "      <td>2.0</td>\n",
       "    </tr>\n",
       "    <tr>\n",
       "      <th>19915</th>\n",
       "      <td>3.0</td>\n",
       "      <td>0.0</td>\n",
       "      <td>3.0</td>\n",
       "    </tr>\n",
       "  </tbody>\n",
       "</table>\n",
       "</div>"
      ],
      "text/plain": [
       "       minute  minute_1  minute_2\n",
       "19566    11.0       1.0       1.0\n",
       "19290     3.0       0.0       3.0\n",
       "14887    37.0       3.0       7.0\n",
       "17591    50.0       5.0       0.0\n",
       "19135    48.0       4.0       8.0\n",
       "17687    33.0       3.0       3.0\n",
       "16994    32.0       3.0       2.0\n",
       "17529     4.0       0.0       4.0\n",
       "6518     22.0       2.0       2.0\n",
       "19915     3.0       0.0       3.0"
      ]
     },
     "execution_count": 313,
     "metadata": {},
     "output_type": "execute_result"
    }
   ],
   "source": [
    "df_num_mincheck = df_num[~pd.isna(df_num['minute_1'])]\n",
    "df_num_mincheck = df_num_mincheck[~pd.isna(df_num_mincheck['minute_2'])]\n",
    "df_num_mincheck['minute'] = df_num_mincheck['minute_1'].astype(int).astype(str) + df_num_mincheck['minute_2'].astype(int).astype(str)\n",
    "df_num_mincheck['minute'] = df_num_mincheck['minute'].astype(int)\n",
    "df_num_mincheck['minute'] = df_num_mincheck['minute'].apply(lambda x: np.nan if x>59 else x)\n",
    "df_num_nullmin = df_num.loc[pd.isna(df_num['minute_1']) | pd.isna(df_num['minute_2'])]\n",
    "df_num_nullmin = df_num_nullmin.copy(deep=True)\n",
    "df_num_nullmin['minute'] = np.nan\n",
    "df_num = pd.concat([df_num_mincheck, df_num_nullmin])\n",
    "print(len(df_num))\n",
    "df_num[['minute', 'minute_1', 'minute_2']].sample(10)"
   ]
  },
  {
   "cell_type": "markdown",
   "id": "6bd6cc07",
   "metadata": {},
   "source": [
    "second:"
   ]
  },
  {
   "cell_type": "code",
   "execution_count": 314,
   "id": "a0a0b9f1",
   "metadata": {},
   "outputs": [
    {
     "data": {
      "text/plain": [
       "<Axes: xlabel='second_1', ylabel='Count'>"
      ]
     },
     "execution_count": 314,
     "metadata": {},
     "output_type": "execute_result"
    },
    {
     "data": {
      "image/png": "[encoded data removed]",
      "text/plain": [
       "<Figure size 640x480 with 1 Axes>"
      ]
     },
     "metadata": {},
     "output_type": "display_data"
    }
   ],
   "source": [
    "df_num['second_1'] = df_num['second_1'].astype(int)\n",
    "sns.histplot(data=df_num, x='second_1')"
   ]
  },
  {
   "cell_type": "code",
   "execution_count": 315,
   "id": "1d1b569f",
   "metadata": {},
   "outputs": [],
   "source": [
    "df_num['second_1'] = df_num['second_1'].apply(lambda x: np.nan if x>9 else x)"
   ]
  },
  {
   "cell_type": "code",
   "execution_count": 316,
   "id": "b8cc5232",
   "metadata": {},
   "outputs": [
    {
     "data": {
      "text/plain": [
       "<Axes: xlabel='second_2', ylabel='Count'>"
      ]
     },
     "execution_count": 316,
     "metadata": {},
     "output_type": "execute_result"
    },
    {
     "data": {
      "image/png": "[encoded data removed]",
      "text/plain": [
       "<Figure size 640x480 with 1 Axes>"
      ]
     },
     "metadata": {},
     "output_type": "display_data"
    }
   ],
   "source": [
    "df_num['second_2'] = df_num['second_2'].astype(int)\n",
    "sns.histplot(data=df_num, x='second_2')"
   ]
  },
  {
   "cell_type": "code",
   "execution_count": 317,
   "id": "bbb3ae19",
   "metadata": {},
   "outputs": [],
   "source": [
    "df_num['second_2'] = df_num['second_2'].apply(lambda x: np.nan if x>9 else x)"
   ]
  },
  {
   "cell_type": "code",
   "execution_count": 318,
   "id": "0eafd27a",
   "metadata": {},
   "outputs": [
    {
     "name": "stdout",
     "output_type": "stream",
     "text": [
      "4847\n"
     ]
    },
    {
     "data": {
      "text/html": [
       "<div>\n",
       "<style scoped>\n",
       "    .dataframe tbody tr th:only-of-type {\n",
       "        vertical-align: middle;\n",
       "    }\n",
       "\n",
       "    .dataframe tbody tr th {\n",
       "        vertical-align: top;\n",
       "    }\n",
       "\n",
       "    .dataframe thead th {\n",
       "        text-align: right;\n",
       "    }\n",
       "</style>\n",
       "<table border=\"1\" class=\"dataframe\">\n",
       "  <thead>\n",
       "    <tr style=\"text-align: right;\">\n",
       "      <th></th>\n",
       "      <th>second</th>\n",
       "      <th>second_1</th>\n",
       "      <th>second_2</th>\n",
       "    </tr>\n",
       "  </thead>\n",
       "  <tbody>\n",
       "    <tr>\n",
       "      <th>18167</th>\n",
       "      <td>29.0</td>\n",
       "      <td>2.0</td>\n",
       "      <td>9.0</td>\n",
       "    </tr>\n",
       "    <tr>\n",
       "      <th>18429</th>\n",
       "      <td>34.0</td>\n",
       "      <td>3.0</td>\n",
       "      <td>4.0</td>\n",
       "    </tr>\n",
       "    <tr>\n",
       "      <th>14925</th>\n",
       "      <td>9.0</td>\n",
       "      <td>0.0</td>\n",
       "      <td>9.0</td>\n",
       "    </tr>\n",
       "    <tr>\n",
       "      <th>17722</th>\n",
       "      <td>21.0</td>\n",
       "      <td>2.0</td>\n",
       "      <td>1.0</td>\n",
       "    </tr>\n",
       "    <tr>\n",
       "      <th>20064</th>\n",
       "      <td>14.0</td>\n",
       "      <td>1.0</td>\n",
       "      <td>4.0</td>\n",
       "    </tr>\n",
       "    <tr>\n",
       "      <th>6066</th>\n",
       "      <td>43.0</td>\n",
       "      <td>4.0</td>\n",
       "      <td>3.0</td>\n",
       "    </tr>\n",
       "    <tr>\n",
       "      <th>15205</th>\n",
       "      <td>35.0</td>\n",
       "      <td>3.0</td>\n",
       "      <td>5.0</td>\n",
       "    </tr>\n",
       "    <tr>\n",
       "      <th>15513</th>\n",
       "      <td>1.0</td>\n",
       "      <td>0.0</td>\n",
       "      <td>1.0</td>\n",
       "    </tr>\n",
       "    <tr>\n",
       "      <th>15187</th>\n",
       "      <td>0.0</td>\n",
       "      <td>0.0</td>\n",
       "      <td>0.0</td>\n",
       "    </tr>\n",
       "    <tr>\n",
       "      <th>15077</th>\n",
       "      <td>18.0</td>\n",
       "      <td>1.0</td>\n",
       "      <td>8.0</td>\n",
       "    </tr>\n",
       "  </tbody>\n",
       "</table>\n",
       "</div>"
      ],
      "text/plain": [
       "       second  second_1  second_2\n",
       "18167    29.0       2.0       9.0\n",
       "18429    34.0       3.0       4.0\n",
       "14925     9.0       0.0       9.0\n",
       "17722    21.0       2.0       1.0\n",
       "20064    14.0       1.0       4.0\n",
       "6066     43.0       4.0       3.0\n",
       "15205    35.0       3.0       5.0\n",
       "15513     1.0       0.0       1.0\n",
       "15187     0.0       0.0       0.0\n",
       "15077    18.0       1.0       8.0"
      ]
     },
     "execution_count": 318,
     "metadata": {},
     "output_type": "execute_result"
    }
   ],
   "source": [
    "df_num_seccheck = df_num[~pd.isna(df_num['second_1'])]\n",
    "df_num_seccheck = df_num_seccheck[~pd.isna(df_num_seccheck['second_2'])]\n",
    "df_num_seccheck['second'] = df_num_seccheck['second_1'].astype(int).astype(str) + df_num_seccheck['second_2'].astype(int).astype(str)\n",
    "df_num_seccheck['second'] = df_num_seccheck['second'].astype(int)\n",
    "df_num_seccheck['second'] = df_num_seccheck['second'].apply(lambda x: np.nan if x>59 else x)\n",
    "df_num_nullsec = df_num.loc[pd.isna(df_num['second_1']) | pd.isna(df_num['second_2'])]\n",
    "df_num_nullsec = df_num_nullsec.copy(deep=True)\n",
    "df_num_nullsec['second'] = np.nan\n",
    "df_num = pd.concat([df_num_seccheck, df_num_nullsec])\n",
    "print(len(df_num))\n",
    "df_num[['second', 'second_1', 'second_2']].sample(10)"
   ]
  },
  {
   "cell_type": "markdown",
   "id": "c958e5ca",
   "metadata": {},
   "source": [
    "construct timestamp:"
   ]
  },
  {
   "cell_type": "code",
   "execution_count": 319,
   "id": "6310e9b4",
   "metadata": {},
   "outputs": [
    {
     "data": {
      "text/html": [
       "<div>\n",
       "<style scoped>\n",
       "    .dataframe tbody tr th:only-of-type {\n",
       "        vertical-align: middle;\n",
       "    }\n",
       "\n",
       "    .dataframe tbody tr th {\n",
       "        vertical-align: top;\n",
       "    }\n",
       "\n",
       "    .dataframe thead th {\n",
       "        text-align: right;\n",
       "    }\n",
       "</style>\n",
       "<table border=\"1\" class=\"dataframe\">\n",
       "  <thead>\n",
       "    <tr style=\"text-align: right;\">\n",
       "      <th></th>\n",
       "      <th>year</th>\n",
       "      <th>month</th>\n",
       "      <th>day</th>\n",
       "      <th>hour</th>\n",
       "      <th>minute</th>\n",
       "      <th>second</th>\n",
       "      <th>Timestamp</th>\n",
       "    </tr>\n",
       "  </thead>\n",
       "  <tbody>\n",
       "    <tr>\n",
       "      <th>17431</th>\n",
       "      <td>1965.0</td>\n",
       "      <td>10</td>\n",
       "      <td>13</td>\n",
       "      <td>12.0</td>\n",
       "      <td>29.0</td>\n",
       "      <td>28.0</td>\n",
       "      <td>1965-10-13 12:29:28</td>\n",
       "    </tr>\n",
       "    <tr>\n",
       "      <th>18672</th>\n",
       "      <td>1966.0</td>\n",
       "      <td>02</td>\n",
       "      <td>21</td>\n",
       "      <td>3.0</td>\n",
       "      <td>22.0</td>\n",
       "      <td>16.0</td>\n",
       "      <td>1966-02-21 03:22:16</td>\n",
       "    </tr>\n",
       "    <tr>\n",
       "      <th>18826</th>\n",
       "      <td>1966.0</td>\n",
       "      <td>02</td>\n",
       "      <td>20</td>\n",
       "      <td>4.0</td>\n",
       "      <td>29.0</td>\n",
       "      <td>36.0</td>\n",
       "      <td>1966-02-20 04:29:36</td>\n",
       "    </tr>\n",
       "    <tr>\n",
       "      <th>6015</th>\n",
       "      <td>1964.0</td>\n",
       "      <td>08</td>\n",
       "      <td>10</td>\n",
       "      <td>22.0</td>\n",
       "      <td>40.0</td>\n",
       "      <td>43.0</td>\n",
       "      <td>1964-08-10 22:40:43</td>\n",
       "    </tr>\n",
       "    <tr>\n",
       "      <th>16350</th>\n",
       "      <td>1967.0</td>\n",
       "      <td>02</td>\n",
       "      <td>16</td>\n",
       "      <td>2.0</td>\n",
       "      <td>35.0</td>\n",
       "      <td>49.0</td>\n",
       "      <td>1967-02-16 02:35:49</td>\n",
       "    </tr>\n",
       "    <tr>\n",
       "      <th>16580</th>\n",
       "      <td>1966.0</td>\n",
       "      <td>09</td>\n",
       "      <td>11</td>\n",
       "      <td>17.0</td>\n",
       "      <td>29.0</td>\n",
       "      <td>54.0</td>\n",
       "      <td>1966-09-11 17:29:54</td>\n",
       "    </tr>\n",
       "    <tr>\n",
       "      <th>15963</th>\n",
       "      <td>1962.0</td>\n",
       "      <td>12</td>\n",
       "      <td>16</td>\n",
       "      <td>NaN</td>\n",
       "      <td>3.0</td>\n",
       "      <td>0.0</td>\n",
       "      <td>NaT</td>\n",
       "    </tr>\n",
       "    <tr>\n",
       "      <th>15266</th>\n",
       "      <td>1966.0</td>\n",
       "      <td>09</td>\n",
       "      <td>12</td>\n",
       "      <td>1.0</td>\n",
       "      <td>5.0</td>\n",
       "      <td>57.0</td>\n",
       "      <td>1966-09-12 01:05:57</td>\n",
       "    </tr>\n",
       "    <tr>\n",
       "      <th>20094</th>\n",
       "      <td>1965.0</td>\n",
       "      <td>10</td>\n",
       "      <td>30</td>\n",
       "      <td>20.0</td>\n",
       "      <td>10.0</td>\n",
       "      <td>18.0</td>\n",
       "      <td>1965-10-30 20:10:18</td>\n",
       "    </tr>\n",
       "    <tr>\n",
       "      <th>18621</th>\n",
       "      <td>1966.0</td>\n",
       "      <td>02</td>\n",
       "      <td>20</td>\n",
       "      <td>23.0</td>\n",
       "      <td>47.0</td>\n",
       "      <td>15.0</td>\n",
       "      <td>1966-02-20 23:47:15</td>\n",
       "    </tr>\n",
       "  </tbody>\n",
       "</table>\n",
       "</div>"
      ],
      "text/plain": [
       "         year month day  hour  minute  second           Timestamp\n",
       "17431  1965.0    10  13  12.0    29.0    28.0 1965-10-13 12:29:28\n",
       "18672  1966.0    02  21   3.0    22.0    16.0 1966-02-21 03:22:16\n",
       "18826  1966.0    02  20   4.0    29.0    36.0 1966-02-20 04:29:36\n",
       "6015   1964.0    08  10  22.0    40.0    43.0 1964-08-10 22:40:43\n",
       "16350  1967.0    02  16   2.0    35.0    49.0 1967-02-16 02:35:49\n",
       "16580  1966.0    09  11  17.0    29.0    54.0 1966-09-11 17:29:54\n",
       "15963  1962.0    12  16   NaN     3.0     0.0                 NaT\n",
       "15266  1966.0    09  12   1.0     5.0    57.0 1966-09-12 01:05:57\n",
       "20094  1965.0    10  30  20.0    10.0    18.0 1965-10-30 20:10:18\n",
       "18621  1966.0    02  20  23.0    47.0    15.0 1966-02-20 23:47:15"
      ]
     },
     "execution_count": 319,
     "metadata": {},
     "output_type": "execute_result"
    }
   ],
   "source": [
    "df_num['month_day'] = pd.to_datetime(df_num['day_of_year'], format='%j').dt.strftime('%m-%d')\n",
    "df_num['month'] = df_num['month_day'].str.split('-').str[0]\n",
    "df_num['day'] = df_num['month_day'].str.split('-').str[1]\n",
    "df_num['Timestamp'] = pd.to_datetime(df_num[['year', 'month', 'day', 'hour', 'minute', 'second']], format='%Y-%m-%d %H:%M:%S')\n",
    "df_num[['year', 'month', 'day', 'hour', 'minute', 'second', 'Timestamp']].sample(10)"
   ]
  },
  {
   "cell_type": "markdown",
   "id": "e6f6e411",
   "metadata": {},
   "source": [
    "#### dot - check timestamp components, construct timestamp:"
   ]
  },
  {
   "cell_type": "code",
   "execution_count": 320,
   "id": "c46e1d3a",
   "metadata": {},
   "outputs": [
    {
     "data": {
      "text/html": [
       "<div>\n",
       "<style scoped>\n",
       "    .dataframe tbody tr th:only-of-type {\n",
       "        vertical-align: middle;\n",
       "    }\n",
       "\n",
       "    .dataframe tbody tr th {\n",
       "        vertical-align: top;\n",
       "    }\n",
       "\n",
       "    .dataframe thead th {\n",
       "        text-align: right;\n",
       "    }\n",
       "</style>\n",
       "<table border=\"1\" class=\"dataframe\">\n",
       "  <thead>\n",
       "    <tr style=\"text-align: right;\">\n",
       "      <th></th>\n",
       "      <th>year_1</th>\n",
       "      <th>day_1</th>\n",
       "      <th>day_2</th>\n",
       "      <th>day_3</th>\n",
       "      <th>hour_1</th>\n",
       "      <th>hour_2</th>\n",
       "      <th>minute_1</th>\n",
       "      <th>minute_2</th>\n",
       "      <th>second_1</th>\n",
       "      <th>second_2</th>\n",
       "      <th>is_dot</th>\n",
       "    </tr>\n",
       "  </thead>\n",
       "  <tbody>\n",
       "    <tr>\n",
       "      <th>17950</th>\n",
       "      <td>NaN</td>\n",
       "      <td>1.0</td>\n",
       "      <td>8.0</td>\n",
       "      <td>8.0</td>\n",
       "      <td>16.0</td>\n",
       "      <td>8.0</td>\n",
       "      <td>9.0</td>\n",
       "      <td>8.0</td>\n",
       "      <td>24.0</td>\n",
       "      <td>0.0</td>\n",
       "      <td>NaN</td>\n",
       "    </tr>\n",
       "    <tr>\n",
       "      <th>18063</th>\n",
       "      <td>NaN</td>\n",
       "      <td>1.0</td>\n",
       "      <td>12.0</td>\n",
       "      <td>8.0</td>\n",
       "      <td>9.0</td>\n",
       "      <td>16.0</td>\n",
       "      <td>12.0</td>\n",
       "      <td>0.0</td>\n",
       "      <td>25.0</td>\n",
       "      <td>8.0</td>\n",
       "      <td>NaN</td>\n",
       "    </tr>\n",
       "    <tr>\n",
       "      <th>17871</th>\n",
       "      <td>NaN</td>\n",
       "      <td>1.0</td>\n",
       "      <td>8.0</td>\n",
       "      <td>0.0</td>\n",
       "      <td>8.0</td>\n",
       "      <td>1.0</td>\n",
       "      <td>8.0</td>\n",
       "      <td>8.0</td>\n",
       "      <td>8.0</td>\n",
       "      <td>1.0</td>\n",
       "      <td>NaN</td>\n",
       "    </tr>\n",
       "    <tr>\n",
       "      <th>18077</th>\n",
       "      <td>NaN</td>\n",
       "      <td>1.0</td>\n",
       "      <td>8.0</td>\n",
       "      <td>0.0</td>\n",
       "      <td>8.0</td>\n",
       "      <td>9.0</td>\n",
       "      <td>8.0</td>\n",
       "      <td>1.0</td>\n",
       "      <td>8.0</td>\n",
       "      <td>0.0</td>\n",
       "      <td>NaN</td>\n",
       "    </tr>\n",
       "    <tr>\n",
       "      <th>17903</th>\n",
       "      <td>NaN</td>\n",
       "      <td>1.0</td>\n",
       "      <td>8.0</td>\n",
       "      <td>0.0</td>\n",
       "      <td>1.0</td>\n",
       "      <td>8.0</td>\n",
       "      <td>0.0</td>\n",
       "      <td>0.0</td>\n",
       "      <td>16.0</td>\n",
       "      <td>0.0</td>\n",
       "      <td>NaN</td>\n",
       "    </tr>\n",
       "    <tr>\n",
       "      <th>17980</th>\n",
       "      <td>NaN</td>\n",
       "      <td>1.0</td>\n",
       "      <td>16.0</td>\n",
       "      <td>8.0</td>\n",
       "      <td>8.0</td>\n",
       "      <td>9.0</td>\n",
       "      <td>9.0</td>\n",
       "      <td>9.0</td>\n",
       "      <td>8.0</td>\n",
       "      <td>1.0</td>\n",
       "      <td>NaN</td>\n",
       "    </tr>\n",
       "    <tr>\n",
       "      <th>17806</th>\n",
       "      <td>NaN</td>\n",
       "      <td>1.0</td>\n",
       "      <td>16.0</td>\n",
       "      <td>8.0</td>\n",
       "      <td>9.0</td>\n",
       "      <td>8.0</td>\n",
       "      <td>10.0</td>\n",
       "      <td>2.0</td>\n",
       "      <td>0.0</td>\n",
       "      <td>1.0</td>\n",
       "      <td>NaN</td>\n",
       "    </tr>\n",
       "    <tr>\n",
       "      <th>18002</th>\n",
       "      <td>NaN</td>\n",
       "      <td>1.0</td>\n",
       "      <td>16.0</td>\n",
       "      <td>8.0</td>\n",
       "      <td>17.0</td>\n",
       "      <td>10.0</td>\n",
       "      <td>0.0</td>\n",
       "      <td>0.0</td>\n",
       "      <td>1.0</td>\n",
       "      <td>17.0</td>\n",
       "      <td>NaN</td>\n",
       "    </tr>\n",
       "    <tr>\n",
       "      <th>17930</th>\n",
       "      <td>NaN</td>\n",
       "      <td>1.0</td>\n",
       "      <td>17.0</td>\n",
       "      <td>8.0</td>\n",
       "      <td>16.0</td>\n",
       "      <td>8.0</td>\n",
       "      <td>9.0</td>\n",
       "      <td>16.0</td>\n",
       "      <td>0.0</td>\n",
       "      <td>8.0</td>\n",
       "      <td>NaN</td>\n",
       "    </tr>\n",
       "    <tr>\n",
       "      <th>17076</th>\n",
       "      <td>NaN</td>\n",
       "      <td>1.0</td>\n",
       "      <td>8.0</td>\n",
       "      <td>0.0</td>\n",
       "      <td>8.0</td>\n",
       "      <td>0.0</td>\n",
       "      <td>0.0</td>\n",
       "      <td>8.0</td>\n",
       "      <td>9.0</td>\n",
       "      <td>8.0</td>\n",
       "      <td>NaN</td>\n",
       "    </tr>\n",
       "  </tbody>\n",
       "</table>\n",
       "</div>"
      ],
      "text/plain": [
       "       year_1  day_1  day_2  day_3  hour_1  hour_2  minute_1  minute_2  \\\n",
       "17950     NaN    1.0    8.0    8.0    16.0     8.0       9.0       8.0   \n",
       "18063     NaN    1.0   12.0    8.0     9.0    16.0      12.0       0.0   \n",
       "17871     NaN    1.0    8.0    0.0     8.0     1.0       8.0       8.0   \n",
       "18077     NaN    1.0    8.0    0.0     8.0     9.0       8.0       1.0   \n",
       "17903     NaN    1.0    8.0    0.0     1.0     8.0       0.0       0.0   \n",
       "17980     NaN    1.0   16.0    8.0     8.0     9.0       9.0       9.0   \n",
       "17806     NaN    1.0   16.0    8.0     9.0     8.0      10.0       2.0   \n",
       "18002     NaN    1.0   16.0    8.0    17.0    10.0       0.0       0.0   \n",
       "17930     NaN    1.0   17.0    8.0    16.0     8.0       9.0      16.0   \n",
       "17076     NaN    1.0    8.0    0.0     8.0     0.0       0.0       8.0   \n",
       "\n",
       "       second_1  second_2 is_dot  \n",
       "17950      24.0       0.0    NaN  \n",
       "18063      25.0       8.0    NaN  \n",
       "17871       8.0       1.0    NaN  \n",
       "18077       8.0       0.0    NaN  \n",
       "17903      16.0       0.0    NaN  \n",
       "17980       8.0       1.0    NaN  \n",
       "17806       0.0       1.0    NaN  \n",
       "18002       1.0      17.0    NaN  \n",
       "17930       0.0       8.0    NaN  \n",
       "17076       9.0       8.0    NaN  "
      ]
     },
     "execution_count": 320,
     "metadata": {},
     "output_type": "execute_result"
    }
   ],
   "source": [
    "df_dot = df_dot.copy(deep=True)\n",
    "df_dot[['year_1', 'day_1', 'day_2', 'day_3', 'hour_1', 'hour_2', 'minute_1', 'minute_2', 'second_1', 'second_2', 'is_dot']].sample(10)"
   ]
  },
  {
   "cell_type": "markdown",
   "id": "f2752122",
   "metadata": {},
   "source": [
    "day:"
   ]
  },
  {
   "cell_type": "code",
   "execution_count": 321,
   "id": "6f77f935",
   "metadata": {},
   "outputs": [
    {
     "data": {
      "text/plain": [
       "<Axes: xlabel='day_1', ylabel='Count'>"
      ]
     },
     "execution_count": 321,
     "metadata": {},
     "output_type": "execute_result"
    },
    {
     "data": {
      "image/png": "[encoded data removed]",
      "text/plain": [
       "<Figure size 640x480 with 1 Axes>"
      ]
     },
     "metadata": {},
     "output_type": "display_data"
    }
   ],
   "source": [
    "df_dot['day_1'] = df_dot['day_1'].astype(int)\n",
    "sns.histplot(data=df_dot, x='day_1')"
   ]
  },
  {
   "cell_type": "code",
   "execution_count": 322,
   "id": "a9b647f4",
   "metadata": {},
   "outputs": [],
   "source": [
    "df_dot['day_1'] = df_dot['day_1'].apply(lambda x: np.nan if x>9 else x)"
   ]
  },
  {
   "cell_type": "code",
   "execution_count": 323,
   "id": "90dc5a4f",
   "metadata": {},
   "outputs": [
    {
     "data": {
      "text/plain": [
       "<Axes: xlabel='day_2', ylabel='Count'>"
      ]
     },
     "execution_count": 323,
     "metadata": {},
     "output_type": "execute_result"
    },
    {
     "data": {
      "image/png": "[encoded data removed]",
      "text/plain": [
       "<Figure size 640x480 with 1 Axes>"
      ]
     },
     "metadata": {},
     "output_type": "display_data"
    }
   ],
   "source": [
    "df_dot['day_2'] = df_dot['day_2'].astype(int)\n",
    "sns.histplot(data=df_dot, x='day_2')"
   ]
  },
  {
   "cell_type": "code",
   "execution_count": 324,
   "id": "207dcc83",
   "metadata": {},
   "outputs": [],
   "source": [
    "df_dot['day_2'] = df_dot['day_2'].apply(lambda x: np.nan if x>9 else x)"
   ]
  },
  {
   "cell_type": "code",
   "execution_count": 325,
   "id": "1e1a1f93",
   "metadata": {},
   "outputs": [
    {
     "data": {
      "text/plain": [
       "<Axes: xlabel='day_3', ylabel='Count'>"
      ]
     },
     "execution_count": 325,
     "metadata": {},
     "output_type": "execute_result"
    },
    {
     "data": {
      "image/png": "[encoded data removed]",
      "text/plain": [
       "<Figure size 640x480 with 1 Axes>"
      ]
     },
     "metadata": {},
     "output_type": "display_data"
    }
   ],
   "source": [
    "df_dot['day_3'] = df_dot['day_3'].astype(int)\n",
    "sns.histplot(data=df_dot, x='day_3')"
   ]
  },
  {
   "cell_type": "code",
   "execution_count": 326,
   "id": "feb1b2cf",
   "metadata": {},
   "outputs": [],
   "source": [
    "df_dot['day_3'] = df_dot['day_3'].apply(lambda x: np.nan if x>9 else x)"
   ]
  },
  {
   "cell_type": "code",
   "execution_count": 327,
   "id": "14ba9eb5",
   "metadata": {},
   "outputs": [
    {
     "name": "stdout",
     "output_type": "stream",
     "text": [
      "589\n"
     ]
    },
    {
     "data": {
      "text/html": [
       "<div>\n",
       "<style scoped>\n",
       "    .dataframe tbody tr th:only-of-type {\n",
       "        vertical-align: middle;\n",
       "    }\n",
       "\n",
       "    .dataframe tbody tr th {\n",
       "        vertical-align: top;\n",
       "    }\n",
       "\n",
       "    .dataframe thead th {\n",
       "        text-align: right;\n",
       "    }\n",
       "</style>\n",
       "<table border=\"1\" class=\"dataframe\">\n",
       "  <thead>\n",
       "    <tr style=\"text-align: right;\">\n",
       "      <th></th>\n",
       "      <th>day_of_year</th>\n",
       "      <th>day_1</th>\n",
       "      <th>day_2</th>\n",
       "      <th>day_3</th>\n",
       "    </tr>\n",
       "  </thead>\n",
       "  <tbody>\n",
       "    <tr>\n",
       "      <th>17180</th>\n",
       "      <td>180.0</td>\n",
       "      <td>1</td>\n",
       "      <td>8.0</td>\n",
       "      <td>0</td>\n",
       "    </tr>\n",
       "    <tr>\n",
       "      <th>17228</th>\n",
       "      <td>NaN</td>\n",
       "      <td>1</td>\n",
       "      <td>NaN</td>\n",
       "      <td>8</td>\n",
       "    </tr>\n",
       "    <tr>\n",
       "      <th>17067</th>\n",
       "      <td>NaN</td>\n",
       "      <td>8</td>\n",
       "      <td>0.0</td>\n",
       "      <td>0</td>\n",
       "    </tr>\n",
       "    <tr>\n",
       "      <th>17871</th>\n",
       "      <td>180.0</td>\n",
       "      <td>1</td>\n",
       "      <td>8.0</td>\n",
       "      <td>0</td>\n",
       "    </tr>\n",
       "    <tr>\n",
       "      <th>17047</th>\n",
       "      <td>NaN</td>\n",
       "      <td>8</td>\n",
       "      <td>0.0</td>\n",
       "      <td>0</td>\n",
       "    </tr>\n",
       "    <tr>\n",
       "      <th>18020</th>\n",
       "      <td>NaN</td>\n",
       "      <td>1</td>\n",
       "      <td>NaN</td>\n",
       "      <td>8</td>\n",
       "    </tr>\n",
       "    <tr>\n",
       "      <th>17963</th>\n",
       "      <td>NaN</td>\n",
       "      <td>1</td>\n",
       "      <td>NaN</td>\n",
       "      <td>8</td>\n",
       "    </tr>\n",
       "    <tr>\n",
       "      <th>17250</th>\n",
       "      <td>NaN</td>\n",
       "      <td>1</td>\n",
       "      <td>NaN</td>\n",
       "      <td>8</td>\n",
       "    </tr>\n",
       "    <tr>\n",
       "      <th>18034</th>\n",
       "      <td>NaN</td>\n",
       "      <td>1</td>\n",
       "      <td>NaN</td>\n",
       "      <td>8</td>\n",
       "    </tr>\n",
       "    <tr>\n",
       "      <th>17875</th>\n",
       "      <td>180.0</td>\n",
       "      <td>1</td>\n",
       "      <td>8.0</td>\n",
       "      <td>0</td>\n",
       "    </tr>\n",
       "  </tbody>\n",
       "</table>\n",
       "</div>"
      ],
      "text/plain": [
       "       day_of_year  day_1  day_2  day_3\n",
       "17180        180.0      1    8.0      0\n",
       "17228          NaN      1    NaN      8\n",
       "17067          NaN      8    0.0      0\n",
       "17871        180.0      1    8.0      0\n",
       "17047          NaN      8    0.0      0\n",
       "18020          NaN      1    NaN      8\n",
       "17963          NaN      1    NaN      8\n",
       "17250          NaN      1    NaN      8\n",
       "18034          NaN      1    NaN      8\n",
       "17875        180.0      1    8.0      0"
      ]
     },
     "execution_count": 327,
     "metadata": {},
     "output_type": "execute_result"
    }
   ],
   "source": [
    "df_dot_daycheck = df_dot[~pd.isna(df_dot['day_1'])]\n",
    "df_dot_daycheck = df_dot_daycheck[~pd.isna(df_dot_daycheck['day_2'])]\n",
    "df_dot_daycheck = df_dot_daycheck[~pd.isna(df_dot_daycheck['day_3'])]\n",
    "df_dot_daycheck['day_of_year'] = df_dot_daycheck['day_1'].astype(int).astype(str) + df_dot_daycheck['day_2'].astype(int).astype(str) + df_dot_daycheck['day_3'].astype(int).astype(str)\n",
    "df_dot_daycheck['day_of_year'] = df_dot_daycheck['day_of_year'].astype(int)\n",
    "df_dot_daycheck['day_of_year'] = df_dot_daycheck['day_of_year'].apply(lambda x: np.nan if x>366 else x)\n",
    "df_dot_daycheck['day_of_year'] = df_dot_daycheck['day_of_year'].apply(lambda x: np.nan if x==0 else x)\n",
    "df_dot_nullday = df_dot.loc[pd.isna(df_dot['day_1']) | pd.isna(df_dot['day_2']) | pd.isna(df_dot['day_3'])]\n",
    "df_dot_nullday = df_dot_nullday.copy(deep=True)\n",
    "df_dot_nullday['day_of_year'] = np.nan\n",
    "df_dot = pd.concat([df_dot_daycheck, df_dot_nullday])\n",
    "print(len(df_dot))\n",
    "df_dot[['day_of_year', 'day_1', 'day_2', 'day_3']].sample(10)"
   ]
  },
  {
   "cell_type": "markdown",
   "id": "4a362cd7",
   "metadata": {},
   "source": [
    "year - infer from day:"
   ]
  },
  {
   "cell_type": "code",
   "execution_count": 328,
   "id": "03746f1c",
   "metadata": {},
   "outputs": [
    {
     "name": "stderr",
     "output_type": "stream",
     "text": [
      "C:\\Users\\rnaidoo\\AppData\\Local\\Temp\\ipykernel_13024\\2722169012.py:8: SettingWithCopyWarning: \n",
      "A value is trying to be set on a copy of a slice from a DataFrame\n",
      "\n",
      "See the caveats in the documentation: https://pandas.pydata.org/pandas-docs/stable/user_guide/indexing.html#returning-a-view-versus-a-copy\n",
      "  df_dot['year'].iloc[i] = 1963\n",
      "C:\\Users\\rnaidoo\\AppData\\Local\\Temp\\ipykernel_13024\\2722169012.py:6: SettingWithCopyWarning: \n",
      "A value is trying to be set on a copy of a slice from a DataFrame\n",
      "\n",
      "See the caveats in the documentation: https://pandas.pydata.org/pandas-docs/stable/user_guide/indexing.html#returning-a-view-versus-a-copy\n",
      "  df_dot['year'].iloc[i] = 1962\n"
     ]
    },
    {
     "data": {
      "text/html": [
       "<div>\n",
       "<style scoped>\n",
       "    .dataframe tbody tr th:only-of-type {\n",
       "        vertical-align: middle;\n",
       "    }\n",
       "\n",
       "    .dataframe tbody tr th {\n",
       "        vertical-align: top;\n",
       "    }\n",
       "\n",
       "    .dataframe thead th {\n",
       "        text-align: right;\n",
       "    }\n",
       "</style>\n",
       "<table border=\"1\" class=\"dataframe\">\n",
       "  <thead>\n",
       "    <tr style=\"text-align: right;\">\n",
       "      <th></th>\n",
       "      <th>year</th>\n",
       "      <th>day_of_year</th>\n",
       "      <th>day_1</th>\n",
       "      <th>day_2</th>\n",
       "      <th>day_3</th>\n",
       "    </tr>\n",
       "  </thead>\n",
       "  <tbody>\n",
       "    <tr>\n",
       "      <th>17129</th>\n",
       "      <td>1963.0</td>\n",
       "      <td>188.0</td>\n",
       "      <td>1</td>\n",
       "      <td>8.0</td>\n",
       "      <td>8</td>\n",
       "    </tr>\n",
       "    <tr>\n",
       "      <th>17332</th>\n",
       "      <td>1963.0</td>\n",
       "      <td>188.0</td>\n",
       "      <td>1</td>\n",
       "      <td>8.0</td>\n",
       "      <td>8</td>\n",
       "    </tr>\n",
       "    <tr>\n",
       "      <th>18040</th>\n",
       "      <td>1963.0</td>\n",
       "      <td>188.0</td>\n",
       "      <td>1</td>\n",
       "      <td>8.0</td>\n",
       "      <td>8</td>\n",
       "    </tr>\n",
       "    <tr>\n",
       "      <th>17936</th>\n",
       "      <td>NaN</td>\n",
       "      <td>NaN</td>\n",
       "      <td>1</td>\n",
       "      <td>NaN</td>\n",
       "      <td>8</td>\n",
       "    </tr>\n",
       "    <tr>\n",
       "      <th>17201</th>\n",
       "      <td>NaN</td>\n",
       "      <td>NaN</td>\n",
       "      <td>8</td>\n",
       "      <td>0.0</td>\n",
       "      <td>0</td>\n",
       "    </tr>\n",
       "    <tr>\n",
       "      <th>17207</th>\n",
       "      <td>1963.0</td>\n",
       "      <td>188.0</td>\n",
       "      <td>1</td>\n",
       "      <td>8.0</td>\n",
       "      <td>8</td>\n",
       "    </tr>\n",
       "    <tr>\n",
       "      <th>17062</th>\n",
       "      <td>1963.0</td>\n",
       "      <td>188.0</td>\n",
       "      <td>1</td>\n",
       "      <td>8.0</td>\n",
       "      <td>8</td>\n",
       "    </tr>\n",
       "    <tr>\n",
       "      <th>17265</th>\n",
       "      <td>NaN</td>\n",
       "      <td>NaN</td>\n",
       "      <td>1</td>\n",
       "      <td>NaN</td>\n",
       "      <td>8</td>\n",
       "    </tr>\n",
       "    <tr>\n",
       "      <th>17209</th>\n",
       "      <td>NaN</td>\n",
       "      <td>NaN</td>\n",
       "      <td>8</td>\n",
       "      <td>0.0</td>\n",
       "      <td>0</td>\n",
       "    </tr>\n",
       "    <tr>\n",
       "      <th>17843</th>\n",
       "      <td>1963.0</td>\n",
       "      <td>180.0</td>\n",
       "      <td>1</td>\n",
       "      <td>8.0</td>\n",
       "      <td>0</td>\n",
       "    </tr>\n",
       "  </tbody>\n",
       "</table>\n",
       "</div>"
      ],
      "text/plain": [
       "         year  day_of_year  day_1  day_2  day_3\n",
       "17129  1963.0        188.0      1    8.0      8\n",
       "17332  1963.0        188.0      1    8.0      8\n",
       "18040  1963.0        188.0      1    8.0      8\n",
       "17936     NaN          NaN      1    NaN      8\n",
       "17201     NaN          NaN      8    0.0      0\n",
       "17207  1963.0        188.0      1    8.0      8\n",
       "17062  1963.0        188.0      1    8.0      8\n",
       "17265     NaN          NaN      1    NaN      8\n",
       "17209     NaN          NaN      8    0.0      0\n",
       "17843  1963.0        180.0      1    8.0      0"
      ]
     },
     "execution_count": 328,
     "metadata": {},
     "output_type": "execute_result"
    }
   ],
   "source": [
    "df_dot['year'] = np.nan\n",
    "for i in range(0, len(df_dot)):\n",
    "    day = df_dot['day_of_year'].iloc[i]\n",
    "    if (day < 366) & (day > 0):\n",
    "        if day > 271:\n",
    "            df_dot['year'].iloc[i] = 1962\n",
    "        else:\n",
    "            df_dot['year'].iloc[i] = 1963\n",
    "df_dot[['year', 'day_of_year', 'day_1', 'day_2', 'day_3']].sample(10)"
   ]
  },
  {
   "cell_type": "markdown",
   "id": "fc9b01cc",
   "metadata": {},
   "source": [
    "hour:"
   ]
  },
  {
   "cell_type": "code",
   "execution_count": 329,
   "id": "443cf13c",
   "metadata": {},
   "outputs": [
    {
     "data": {
      "text/plain": [
       "<Axes: xlabel='hour_1', ylabel='Count'>"
      ]
     },
     "execution_count": 329,
     "metadata": {},
     "output_type": "execute_result"
    },
    {
     "data": {
      "image/png": "[encoded data removed]",
      "text/plain": [
       "<Figure size 640x480 with 1 Axes>"
      ]
     },
     "metadata": {},
     "output_type": "display_data"
    }
   ],
   "source": [
    "df_dot['hour_1'] = df_dot['hour_1'].astype(int)\n",
    "sns.histplot(data=df_dot, x='hour_1')"
   ]
  },
  {
   "cell_type": "code",
   "execution_count": 330,
   "id": "194d1da6",
   "metadata": {},
   "outputs": [],
   "source": [
    "df_dot['hour_1'] = df_dot['hour_1'].apply(lambda x: np.nan if x>9 else x)"
   ]
  },
  {
   "cell_type": "code",
   "execution_count": 331,
   "id": "f79835d6",
   "metadata": {},
   "outputs": [
    {
     "data": {
      "text/plain": [
       "<Axes: xlabel='hour_2', ylabel='Count'>"
      ]
     },
     "execution_count": 331,
     "metadata": {},
     "output_type": "execute_result"
    },
    {
     "data": {
      "image/png": "[encoded data removed]",
      "text/plain": [
       "<Figure size 640x480 with 1 Axes>"
      ]
     },
     "metadata": {},
     "output_type": "display_data"
    }
   ],
   "source": [
    "df_dot['hour_2'] = df_dot['hour_2'].astype(int)\n",
    "sns.histplot(data=df_dot, x='hour_2')"
   ]
  },
  {
   "cell_type": "code",
   "execution_count": 332,
   "id": "e75eba37",
   "metadata": {},
   "outputs": [],
   "source": [
    "df_dot['hour_2'] = df_dot['hour_2'].apply(lambda x: np.nan if x>9 else x)"
   ]
  },
  {
   "cell_type": "code",
   "execution_count": 333,
   "id": "32899cb8",
   "metadata": {},
   "outputs": [
    {
     "name": "stdout",
     "output_type": "stream",
     "text": [
      "589\n"
     ]
    },
    {
     "data": {
      "text/html": [
       "<div>\n",
       "<style scoped>\n",
       "    .dataframe tbody tr th:only-of-type {\n",
       "        vertical-align: middle;\n",
       "    }\n",
       "\n",
       "    .dataframe tbody tr th {\n",
       "        vertical-align: top;\n",
       "    }\n",
       "\n",
       "    .dataframe thead th {\n",
       "        text-align: right;\n",
       "    }\n",
       "</style>\n",
       "<table border=\"1\" class=\"dataframe\">\n",
       "  <thead>\n",
       "    <tr style=\"text-align: right;\">\n",
       "      <th></th>\n",
       "      <th>hour</th>\n",
       "      <th>hour_1</th>\n",
       "      <th>hour_2</th>\n",
       "    </tr>\n",
       "  </thead>\n",
       "  <tbody>\n",
       "    <tr>\n",
       "      <th>17945</th>\n",
       "      <td>NaN</td>\n",
       "      <td>NaN</td>\n",
       "      <td>8.0</td>\n",
       "    </tr>\n",
       "    <tr>\n",
       "      <th>17952</th>\n",
       "      <td>NaN</td>\n",
       "      <td>8.0</td>\n",
       "      <td>8.0</td>\n",
       "    </tr>\n",
       "    <tr>\n",
       "      <th>17304</th>\n",
       "      <td>NaN</td>\n",
       "      <td>4.0</td>\n",
       "      <td>8.0</td>\n",
       "    </tr>\n",
       "    <tr>\n",
       "      <th>17202</th>\n",
       "      <td>NaN</td>\n",
       "      <td>8.0</td>\n",
       "      <td>8.0</td>\n",
       "    </tr>\n",
       "    <tr>\n",
       "      <th>17233</th>\n",
       "      <td>NaN</td>\n",
       "      <td>8.0</td>\n",
       "      <td>0.0</td>\n",
       "    </tr>\n",
       "    <tr>\n",
       "      <th>17242</th>\n",
       "      <td>NaN</td>\n",
       "      <td>NaN</td>\n",
       "      <td>NaN</td>\n",
       "    </tr>\n",
       "    <tr>\n",
       "      <th>18033</th>\n",
       "      <td>NaN</td>\n",
       "      <td>8.0</td>\n",
       "      <td>9.0</td>\n",
       "    </tr>\n",
       "    <tr>\n",
       "      <th>17068</th>\n",
       "      <td>NaN</td>\n",
       "      <td>8.0</td>\n",
       "      <td>0.0</td>\n",
       "    </tr>\n",
       "    <tr>\n",
       "      <th>17112</th>\n",
       "      <td>NaN</td>\n",
       "      <td>NaN</td>\n",
       "      <td>8.0</td>\n",
       "    </tr>\n",
       "    <tr>\n",
       "      <th>17137</th>\n",
       "      <td>18.0</td>\n",
       "      <td>1.0</td>\n",
       "      <td>8.0</td>\n",
       "    </tr>\n",
       "  </tbody>\n",
       "</table>\n",
       "</div>"
      ],
      "text/plain": [
       "       hour  hour_1  hour_2\n",
       "17945   NaN     NaN     8.0\n",
       "17952   NaN     8.0     8.0\n",
       "17304   NaN     4.0     8.0\n",
       "17202   NaN     8.0     8.0\n",
       "17233   NaN     8.0     0.0\n",
       "17242   NaN     NaN     NaN\n",
       "18033   NaN     8.0     9.0\n",
       "17068   NaN     8.0     0.0\n",
       "17112   NaN     NaN     8.0\n",
       "17137  18.0     1.0     8.0"
      ]
     },
     "execution_count": 333,
     "metadata": {},
     "output_type": "execute_result"
    }
   ],
   "source": [
    "df_dot_hourcheck = df_dot[~pd.isna(df_dot['hour_1'])]\n",
    "df_dot_hourcheck = df_dot_hourcheck[~pd.isna(df_dot_hourcheck['hour_2'])]\n",
    "df_dot_hourcheck['hour'] = df_dot_hourcheck['hour_1'].astype(int).astype(str) + df_dot_hourcheck['hour_2'].astype(int).astype(str)\n",
    "df_dot_hourcheck['hour'] = df_dot_hourcheck['hour'].astype(int)\n",
    "df_dot_hourcheck['hour'] = df_dot_hourcheck['hour'].apply(lambda x: np.nan if x>23 else x)\n",
    "df_dot_nullhour = df_dot.loc[pd.isna(df_dot['hour_1']) | pd.isna(df_dot['hour_2'])]\n",
    "df_dot_nullhour = df_dot_nullhour.copy(deep=True)\n",
    "df_dot_nullhour['hour'] = np.nan\n",
    "df_dot = pd.concat([df_dot_hourcheck, df_dot_nullhour])\n",
    "print(len(df_dot))\n",
    "df_dot[['hour', 'hour_1', 'hour_2']].sample(10)"
   ]
  },
  {
   "cell_type": "markdown",
   "id": "0c516395",
   "metadata": {},
   "source": [
    "minute:"
   ]
  },
  {
   "cell_type": "code",
   "execution_count": 334,
   "id": "d5822474",
   "metadata": {},
   "outputs": [
    {
     "data": {
      "text/plain": [
       "<Axes: xlabel='minute_1', ylabel='Count'>"
      ]
     },
     "execution_count": 334,
     "metadata": {},
     "output_type": "execute_result"
    },
    {
     "data": {
      "image/png": "[encoded data removed]",
      "text/plain": [
       "<Figure size 640x480 with 1 Axes>"
      ]
     },
     "metadata": {},
     "output_type": "display_data"
    }
   ],
   "source": [
    "df_dot['minute_1'] = df_dot['minute_1'].astype(int)\n",
    "sns.histplot(data=df_dot, x='minute_1')"
   ]
  },
  {
   "cell_type": "code",
   "execution_count": 335,
   "id": "791be493",
   "metadata": {},
   "outputs": [],
   "source": [
    "df_dot['minute_1'] = df_dot['minute_1'].apply(lambda x: np.nan if x>9 else x)"
   ]
  },
  {
   "cell_type": "code",
   "execution_count": 336,
   "id": "5e58d79b",
   "metadata": {},
   "outputs": [
    {
     "data": {
      "text/plain": [
       "<Axes: xlabel='minute_2', ylabel='Count'>"
      ]
     },
     "execution_count": 336,
     "metadata": {},
     "output_type": "execute_result"
    },
    {
     "data": {
      "image/png": "[encoded data removed]",
      "text/plain": [
       "<Figure size 640x480 with 1 Axes>"
      ]
     },
     "metadata": {},
     "output_type": "display_data"
    }
   ],
   "source": [
    "df_dot['minute_2'] = df_dot['minute_2'].astype(int)\n",
    "sns.histplot(data=df_dot, x='minute_2')"
   ]
  },
  {
   "cell_type": "code",
   "execution_count": 337,
   "id": "09166ea1",
   "metadata": {},
   "outputs": [],
   "source": [
    "df_dot['minute_2'] = df_dot['minute_2'].apply(lambda x: np.nan if x>9 else x)"
   ]
  },
  {
   "cell_type": "code",
   "execution_count": 338,
   "id": "5481550c",
   "metadata": {},
   "outputs": [
    {
     "name": "stdout",
     "output_type": "stream",
     "text": [
      "589\n"
     ]
    },
    {
     "data": {
      "text/html": [
       "<div>\n",
       "<style scoped>\n",
       "    .dataframe tbody tr th:only-of-type {\n",
       "        vertical-align: middle;\n",
       "    }\n",
       "\n",
       "    .dataframe tbody tr th {\n",
       "        vertical-align: top;\n",
       "    }\n",
       "\n",
       "    .dataframe thead th {\n",
       "        text-align: right;\n",
       "    }\n",
       "</style>\n",
       "<table border=\"1\" class=\"dataframe\">\n",
       "  <thead>\n",
       "    <tr style=\"text-align: right;\">\n",
       "      <th></th>\n",
       "      <th>minute</th>\n",
       "      <th>minute_1</th>\n",
       "      <th>minute_2</th>\n",
       "    </tr>\n",
       "  </thead>\n",
       "  <tbody>\n",
       "    <tr>\n",
       "      <th>17185</th>\n",
       "      <td>8.0</td>\n",
       "      <td>0.0</td>\n",
       "      <td>8.0</td>\n",
       "    </tr>\n",
       "    <tr>\n",
       "      <th>17058</th>\n",
       "      <td>NaN</td>\n",
       "      <td>9.0</td>\n",
       "      <td>9.0</td>\n",
       "    </tr>\n",
       "    <tr>\n",
       "      <th>17807</th>\n",
       "      <td>9.0</td>\n",
       "      <td>0.0</td>\n",
       "      <td>9.0</td>\n",
       "    </tr>\n",
       "    <tr>\n",
       "      <th>18006</th>\n",
       "      <td>10.0</td>\n",
       "      <td>1.0</td>\n",
       "      <td>0.0</td>\n",
       "    </tr>\n",
       "    <tr>\n",
       "      <th>17227</th>\n",
       "      <td>NaN</td>\n",
       "      <td>8.0</td>\n",
       "      <td>8.0</td>\n",
       "    </tr>\n",
       "    <tr>\n",
       "      <th>17991</th>\n",
       "      <td>NaN</td>\n",
       "      <td>8.0</td>\n",
       "      <td>8.0</td>\n",
       "    </tr>\n",
       "    <tr>\n",
       "      <th>17202</th>\n",
       "      <td>NaN</td>\n",
       "      <td>8.0</td>\n",
       "      <td>8.0</td>\n",
       "    </tr>\n",
       "    <tr>\n",
       "      <th>17861</th>\n",
       "      <td>9.0</td>\n",
       "      <td>0.0</td>\n",
       "      <td>9.0</td>\n",
       "    </tr>\n",
       "    <tr>\n",
       "      <th>17863</th>\n",
       "      <td>0.0</td>\n",
       "      <td>0.0</td>\n",
       "      <td>0.0</td>\n",
       "    </tr>\n",
       "    <tr>\n",
       "      <th>17325</th>\n",
       "      <td>NaN</td>\n",
       "      <td>NaN</td>\n",
       "      <td>8.0</td>\n",
       "    </tr>\n",
       "  </tbody>\n",
       "</table>\n",
       "</div>"
      ],
      "text/plain": [
       "       minute  minute_1  minute_2\n",
       "17185     8.0       0.0       8.0\n",
       "17058     NaN       9.0       9.0\n",
       "17807     9.0       0.0       9.0\n",
       "18006    10.0       1.0       0.0\n",
       "17227     NaN       8.0       8.0\n",
       "17991     NaN       8.0       8.0\n",
       "17202     NaN       8.0       8.0\n",
       "17861     9.0       0.0       9.0\n",
       "17863     0.0       0.0       0.0\n",
       "17325     NaN       NaN       8.0"
      ]
     },
     "execution_count": 338,
     "metadata": {},
     "output_type": "execute_result"
    }
   ],
   "source": [
    "df_dot_mincheck = df_dot[~pd.isna(df_dot['minute_1'])]\n",
    "df_dot_mincheck = df_dot_mincheck[~pd.isna(df_dot_mincheck['minute_2'])]\n",
    "df_dot_mincheck['minute'] = df_dot_mincheck['minute_1'].astype(int).astype(str) + df_dot_mincheck['minute_2'].astype(int).astype(str)\n",
    "df_dot_mincheck['minute'] = df_dot_mincheck['minute'].astype(int)\n",
    "df_dot_mincheck['minute'] = df_dot_mincheck['minute'].apply(lambda x: np.nan if x>59 else x)\n",
    "df_dot_nullmin = df_dot.loc[pd.isna(df_dot['minute_1']) | pd.isna(df_dot['minute_2'])]\n",
    "df_dot_nullmin = df_dot_nullmin.copy(deep=True)\n",
    "df_dot_nullmin['minute'] = np.nan\n",
    "df_dot = pd.concat([df_dot_mincheck, df_dot_nullmin])\n",
    "print(len(df_dot))\n",
    "df_dot[['minute', 'minute_1', 'minute_2']].sample(10)"
   ]
  },
  {
   "cell_type": "markdown",
   "id": "5562f858",
   "metadata": {},
   "source": [
    "second:"
   ]
  },
  {
   "cell_type": "code",
   "execution_count": 339,
   "id": "4dc582e9",
   "metadata": {},
   "outputs": [
    {
     "data": {
      "text/plain": [
       "<Axes: xlabel='second_1', ylabel='Count'>"
      ]
     },
     "execution_count": 339,
     "metadata": {},
     "output_type": "execute_result"
    },
    {
     "data": {
      "image/png": "[encoded data removed]",
      "text/plain": [
       "<Figure size 640x480 with 1 Axes>"
      ]
     },
     "metadata": {},
     "output_type": "display_data"
    }
   ],
   "source": [
    "df_dot['second_1'] = df_dot['second_1'].astype(int)\n",
    "sns.histplot(data=df_dot, x='second_1')"
   ]
  },
  {
   "cell_type": "code",
   "execution_count": 340,
   "id": "ecbbafa0",
   "metadata": {},
   "outputs": [],
   "source": [
    "df_dot['second_1'] = df_dot['second_1'].apply(lambda x: np.nan if x>9 else x)"
   ]
  },
  {
   "cell_type": "code",
   "execution_count": 341,
   "id": "0d6331df",
   "metadata": {},
   "outputs": [
    {
     "data": {
      "text/plain": [
       "<Axes: xlabel='second_2', ylabel='Count'>"
      ]
     },
     "execution_count": 341,
     "metadata": {},
     "output_type": "execute_result"
    },
    {
     "data": {
      "image/png": "[encoded data removed]",
      "text/plain": [
       "<Figure size 640x480 with 1 Axes>"
      ]
     },
     "metadata": {},
     "output_type": "display_data"
    }
   ],
   "source": [
    "df_dot['second_2'] = df_dot['second_2'].astype(int)\n",
    "sns.histplot(data=df_dot, x='second_2')"
   ]
  },
  {
   "cell_type": "code",
   "execution_count": 342,
   "id": "f049339a",
   "metadata": {},
   "outputs": [],
   "source": [
    "df_dot['second_2'] = df_dot['second_2'].apply(lambda x: np.nan if x>9 else x)"
   ]
  },
  {
   "cell_type": "code",
   "execution_count": 343,
   "id": "c7c151dc",
   "metadata": {},
   "outputs": [
    {
     "name": "stdout",
     "output_type": "stream",
     "text": [
      "589\n"
     ]
    },
    {
     "data": {
      "text/html": [
       "<div>\n",
       "<style scoped>\n",
       "    .dataframe tbody tr th:only-of-type {\n",
       "        vertical-align: middle;\n",
       "    }\n",
       "\n",
       "    .dataframe tbody tr th {\n",
       "        vertical-align: top;\n",
       "    }\n",
       "\n",
       "    .dataframe thead th {\n",
       "        text-align: right;\n",
       "    }\n",
       "</style>\n",
       "<table border=\"1\" class=\"dataframe\">\n",
       "  <thead>\n",
       "    <tr style=\"text-align: right;\">\n",
       "      <th></th>\n",
       "      <th>second</th>\n",
       "      <th>second_1</th>\n",
       "      <th>second_2</th>\n",
       "    </tr>\n",
       "  </thead>\n",
       "  <tbody>\n",
       "    <tr>\n",
       "      <th>17233</th>\n",
       "      <td>8.0</td>\n",
       "      <td>0.0</td>\n",
       "      <td>8.0</td>\n",
       "    </tr>\n",
       "    <tr>\n",
       "      <th>17035</th>\n",
       "      <td>NaN</td>\n",
       "      <td>NaN</td>\n",
       "      <td>9.0</td>\n",
       "    </tr>\n",
       "    <tr>\n",
       "      <th>17967</th>\n",
       "      <td>18.0</td>\n",
       "      <td>1.0</td>\n",
       "      <td>8.0</td>\n",
       "    </tr>\n",
       "    <tr>\n",
       "      <th>17872</th>\n",
       "      <td>NaN</td>\n",
       "      <td>9.0</td>\n",
       "      <td>0.0</td>\n",
       "    </tr>\n",
       "    <tr>\n",
       "      <th>17832</th>\n",
       "      <td>NaN</td>\n",
       "      <td>NaN</td>\n",
       "      <td>1.0</td>\n",
       "    </tr>\n",
       "    <tr>\n",
       "      <th>18072</th>\n",
       "      <td>9.0</td>\n",
       "      <td>0.0</td>\n",
       "      <td>9.0</td>\n",
       "    </tr>\n",
       "    <tr>\n",
       "      <th>17043</th>\n",
       "      <td>NaN</td>\n",
       "      <td>9.0</td>\n",
       "      <td>0.0</td>\n",
       "    </tr>\n",
       "    <tr>\n",
       "      <th>17940</th>\n",
       "      <td>NaN</td>\n",
       "      <td>9.0</td>\n",
       "      <td>8.0</td>\n",
       "    </tr>\n",
       "    <tr>\n",
       "      <th>17264</th>\n",
       "      <td>NaN</td>\n",
       "      <td>NaN</td>\n",
       "      <td>0.0</td>\n",
       "    </tr>\n",
       "    <tr>\n",
       "      <th>17879</th>\n",
       "      <td>1.0</td>\n",
       "      <td>0.0</td>\n",
       "      <td>1.0</td>\n",
       "    </tr>\n",
       "  </tbody>\n",
       "</table>\n",
       "</div>"
      ],
      "text/plain": [
       "       second  second_1  second_2\n",
       "17233     8.0       0.0       8.0\n",
       "17035     NaN       NaN       9.0\n",
       "17967    18.0       1.0       8.0\n",
       "17872     NaN       9.0       0.0\n",
       "17832     NaN       NaN       1.0\n",
       "18072     9.0       0.0       9.0\n",
       "17043     NaN       9.0       0.0\n",
       "17940     NaN       9.0       8.0\n",
       "17264     NaN       NaN       0.0\n",
       "17879     1.0       0.0       1.0"
      ]
     },
     "execution_count": 343,
     "metadata": {},
     "output_type": "execute_result"
    }
   ],
   "source": [
    "df_dot_seccheck = df_dot[~pd.isna(df_dot['second_1'])]\n",
    "df_dot_seccheck = df_dot_seccheck[~pd.isna(df_dot_seccheck['second_2'])]\n",
    "df_dot_seccheck['second'] = df_dot_seccheck['second_1'].astype(int).astype(str) + df_dot_seccheck['second_2'].astype(int).astype(str)\n",
    "df_dot_seccheck['second'] = df_dot_seccheck['second'].astype(int)\n",
    "df_dot_seccheck['second'] = df_dot_seccheck['second'].apply(lambda x: np.nan if x>59 else x)\n",
    "df_dot_nullsec = df_dot.loc[pd.isna(df_dot['second_1']) | pd.isna(df_dot['second_2'])]\n",
    "df_dot_nullsec = df_dot_nullsec.copy(deep=True)\n",
    "df_dot_nullsec['second'] = np.nan\n",
    "df_dot = pd.concat([df_dot_seccheck, df_dot_nullsec])\n",
    "print(len(df_dot))\n",
    "df_dot[['second', 'second_1', 'second_2']].sample(10)"
   ]
  },
  {
   "cell_type": "markdown",
   "id": "1843ad40",
   "metadata": {},
   "source": [
    "construct timestamp:"
   ]
  },
  {
   "cell_type": "code",
   "execution_count": 344,
   "id": "8feedafb",
   "metadata": {},
   "outputs": [
    {
     "data": {
      "text/html": [
       "<div>\n",
       "<style scoped>\n",
       "    .dataframe tbody tr th:only-of-type {\n",
       "        vertical-align: middle;\n",
       "    }\n",
       "\n",
       "    .dataframe tbody tr th {\n",
       "        vertical-align: top;\n",
       "    }\n",
       "\n",
       "    .dataframe thead th {\n",
       "        text-align: right;\n",
       "    }\n",
       "</style>\n",
       "<table border=\"1\" class=\"dataframe\">\n",
       "  <thead>\n",
       "    <tr style=\"text-align: right;\">\n",
       "      <th></th>\n",
       "      <th>year</th>\n",
       "      <th>month</th>\n",
       "      <th>day</th>\n",
       "      <th>hour</th>\n",
       "      <th>minute</th>\n",
       "      <th>second</th>\n",
       "      <th>Timestamp</th>\n",
       "    </tr>\n",
       "  </thead>\n",
       "  <tbody>\n",
       "    <tr>\n",
       "      <th>17915</th>\n",
       "      <td>1963.0</td>\n",
       "      <td>06</td>\n",
       "      <td>29</td>\n",
       "      <td>18.0</td>\n",
       "      <td>18.0</td>\n",
       "      <td>8.0</td>\n",
       "      <td>1963-06-29 18:18:08</td>\n",
       "    </tr>\n",
       "    <tr>\n",
       "      <th>17122</th>\n",
       "      <td>1963.0</td>\n",
       "      <td>06</td>\n",
       "      <td>29</td>\n",
       "      <td>NaN</td>\n",
       "      <td>NaN</td>\n",
       "      <td>11.0</td>\n",
       "      <td>NaT</td>\n",
       "    </tr>\n",
       "    <tr>\n",
       "      <th>17035</th>\n",
       "      <td>1963.0</td>\n",
       "      <td>07</td>\n",
       "      <td>07</td>\n",
       "      <td>NaN</td>\n",
       "      <td>NaN</td>\n",
       "      <td>NaN</td>\n",
       "      <td>NaT</td>\n",
       "    </tr>\n",
       "    <tr>\n",
       "      <th>17293</th>\n",
       "      <td>1963.0</td>\n",
       "      <td>07</td>\n",
       "      <td>07</td>\n",
       "      <td>NaN</td>\n",
       "      <td>NaN</td>\n",
       "      <td>18.0</td>\n",
       "      <td>NaT</td>\n",
       "    </tr>\n",
       "    <tr>\n",
       "      <th>17205</th>\n",
       "      <td>1963.0</td>\n",
       "      <td>06</td>\n",
       "      <td>29</td>\n",
       "      <td>18.0</td>\n",
       "      <td>NaN</td>\n",
       "      <td>NaN</td>\n",
       "      <td>NaT</td>\n",
       "    </tr>\n",
       "    <tr>\n",
       "      <th>17336</th>\n",
       "      <td>NaN</td>\n",
       "      <td>NaN</td>\n",
       "      <td>NaN</td>\n",
       "      <td>NaN</td>\n",
       "      <td>NaN</td>\n",
       "      <td>10.0</td>\n",
       "      <td>NaT</td>\n",
       "    </tr>\n",
       "    <tr>\n",
       "      <th>18019</th>\n",
       "      <td>1963.0</td>\n",
       "      <td>07</td>\n",
       "      <td>07</td>\n",
       "      <td>NaN</td>\n",
       "      <td>NaN</td>\n",
       "      <td>NaN</td>\n",
       "      <td>NaT</td>\n",
       "    </tr>\n",
       "    <tr>\n",
       "      <th>17274</th>\n",
       "      <td>NaN</td>\n",
       "      <td>NaN</td>\n",
       "      <td>NaN</td>\n",
       "      <td>NaN</td>\n",
       "      <td>NaN</td>\n",
       "      <td>NaN</td>\n",
       "      <td>NaT</td>\n",
       "    </tr>\n",
       "    <tr>\n",
       "      <th>17236</th>\n",
       "      <td>1963.0</td>\n",
       "      <td>07</td>\n",
       "      <td>07</td>\n",
       "      <td>NaN</td>\n",
       "      <td>NaN</td>\n",
       "      <td>NaN</td>\n",
       "      <td>NaT</td>\n",
       "    </tr>\n",
       "    <tr>\n",
       "      <th>17339</th>\n",
       "      <td>NaN</td>\n",
       "      <td>NaN</td>\n",
       "      <td>NaN</td>\n",
       "      <td>NaN</td>\n",
       "      <td>NaN</td>\n",
       "      <td>NaN</td>\n",
       "      <td>NaT</td>\n",
       "    </tr>\n",
       "  </tbody>\n",
       "</table>\n",
       "</div>"
      ],
      "text/plain": [
       "         year month  day  hour  minute  second           Timestamp\n",
       "17915  1963.0    06   29  18.0    18.0     8.0 1963-06-29 18:18:08\n",
       "17122  1963.0    06   29   NaN     NaN    11.0                 NaT\n",
       "17035  1963.0    07   07   NaN     NaN     NaN                 NaT\n",
       "17293  1963.0    07   07   NaN     NaN    18.0                 NaT\n",
       "17205  1963.0    06   29  18.0     NaN     NaN                 NaT\n",
       "17336     NaN   NaN  NaN   NaN     NaN    10.0                 NaT\n",
       "18019  1963.0    07   07   NaN     NaN     NaN                 NaT\n",
       "17274     NaN   NaN  NaN   NaN     NaN     NaN                 NaT\n",
       "17236  1963.0    07   07   NaN     NaN     NaN                 NaT\n",
       "17339     NaN   NaN  NaN   NaN     NaN     NaN                 NaT"
      ]
     },
     "execution_count": 344,
     "metadata": {},
     "output_type": "execute_result"
    }
   ],
   "source": [
    "df_dot['month_day'] = pd.to_datetime(df_dot['day_of_year'], format='%j').dt.strftime('%m-%d')\n",
    "df_dot['month'] = df_dot['month_day'].str.split('-').str[0]\n",
    "df_dot['day'] = df_dot['month_day'].str.split('-').str[1]\n",
    "df_dot['Timestamp'] = pd.to_datetime(df_dot[['year', 'month', 'day', 'hour', 'minute', 'second']], format='%Y-%m-%d %H:%M:%S')\n",
    "df_dot[['year', 'month', 'day', 'hour', 'minute', 'second', 'Timestamp']].sample(10)"
   ]
  },
  {
   "cell_type": "markdown",
   "id": "81f7c8a4",
   "metadata": {},
   "source": [
    "#  "
   ]
  },
  {
   "cell_type": "markdown",
   "id": "f06711b5",
   "metadata": {},
   "source": [
    "#### Check station number:"
   ]
  },
  {
   "cell_type": "markdown",
   "id": "8178138d",
   "metadata": {},
   "source": [
    "num2:"
   ]
  },
  {
   "cell_type": "code",
   "execution_count": 345,
   "id": "3b34898a",
   "metadata": {},
   "outputs": [
    {
     "data": {
      "text/plain": [
       "<Axes: xlabel='station_number_OCR', ylabel='Count'>"
      ]
     },
     "execution_count": 345,
     "metadata": {},
     "output_type": "execute_result"
    },
    {
     "data": {
      "image/png": "[encoded data removed]",
      "text/plain": [
       "<Figure size 640x480 with 1 Axes>"
      ]
     },
     "metadata": {},
     "output_type": "display_data"
    }
   ],
   "source": [
    "df_num2['station_number_OCR'] = df_num2['station_number_OCR'].astype('float')\n",
    "sns.histplot(data=df_num2, x='station_number_OCR')"
   ]
  },
  {
   "cell_type": "code",
   "execution_count": 346,
   "id": "150b0474",
   "metadata": {},
   "outputs": [
    {
     "data": {
      "text/html": [
       "<div>\n",
       "<style scoped>\n",
       "    .dataframe tbody tr th:only-of-type {\n",
       "        vertical-align: middle;\n",
       "    }\n",
       "\n",
       "    .dataframe tbody tr th {\n",
       "        vertical-align: top;\n",
       "    }\n",
       "\n",
       "    .dataframe thead th {\n",
       "        text-align: right;\n",
       "    }\n",
       "</style>\n",
       "<table border=\"1\" class=\"dataframe\">\n",
       "  <thead>\n",
       "    <tr style=\"text-align: right;\">\n",
       "      <th></th>\n",
       "      <th>station_number</th>\n",
       "      <th>station_number_OCR</th>\n",
       "    </tr>\n",
       "  </thead>\n",
       "  <tbody>\n",
       "    <tr>\n",
       "      <th>6635</th>\n",
       "      <td>18.0</td>\n",
       "      <td>18.0</td>\n",
       "    </tr>\n",
       "    <tr>\n",
       "      <th>13011</th>\n",
       "      <td>50.0</td>\n",
       "      <td>50.0</td>\n",
       "    </tr>\n",
       "    <tr>\n",
       "      <th>7602</th>\n",
       "      <td>21.0</td>\n",
       "      <td>21.0</td>\n",
       "    </tr>\n",
       "    <tr>\n",
       "      <th>1176</th>\n",
       "      <td>69.0</td>\n",
       "      <td>69.0</td>\n",
       "    </tr>\n",
       "    <tr>\n",
       "      <th>12942</th>\n",
       "      <td>50.0</td>\n",
       "      <td>50.0</td>\n",
       "    </tr>\n",
       "    <tr>\n",
       "      <th>11113</th>\n",
       "      <td>19.0</td>\n",
       "      <td>19.0</td>\n",
       "    </tr>\n",
       "    <tr>\n",
       "      <th>8588</th>\n",
       "      <td>8.0</td>\n",
       "      <td>8.0</td>\n",
       "    </tr>\n",
       "    <tr>\n",
       "      <th>4536</th>\n",
       "      <td>38.0</td>\n",
       "      <td>38.0</td>\n",
       "    </tr>\n",
       "    <tr>\n",
       "      <th>12768</th>\n",
       "      <td>50.0</td>\n",
       "      <td>50.0</td>\n",
       "    </tr>\n",
       "    <tr>\n",
       "      <th>7970</th>\n",
       "      <td>37.0</td>\n",
       "      <td>37.0</td>\n",
       "    </tr>\n",
       "  </tbody>\n",
       "</table>\n",
       "</div>"
      ],
      "text/plain": [
       "       station_number  station_number_OCR\n",
       "6635             18.0                18.0\n",
       "13011            50.0                50.0\n",
       "7602             21.0                21.0\n",
       "1176             69.0                69.0\n",
       "12942            50.0                50.0\n",
       "11113            19.0                19.0\n",
       "8588              8.0                 8.0\n",
       "4536             38.0                38.0\n",
       "12768            50.0                50.0\n",
       "7970             37.0                37.0"
      ]
     },
     "execution_count": 346,
     "metadata": {},
     "output_type": "execute_result"
    }
   ],
   "source": [
    "df_num2['station_number'] = df_num2['station_number_OCR']\n",
    "df_num2[['station_number', 'station_number_OCR']].sample(10)"
   ]
  },
  {
   "cell_type": "markdown",
   "id": "66f42c8e",
   "metadata": {},
   "source": [
    "num:"
   ]
  },
  {
   "cell_type": "code",
   "execution_count": 347,
   "id": "3edf33d2",
   "metadata": {},
   "outputs": [
    {
     "data": {
      "text/plain": [
       "<Axes: xlabel='station_number_1', ylabel='Count'>"
      ]
     },
     "execution_count": 347,
     "metadata": {},
     "output_type": "execute_result"
    },
    {
     "data": {
      "image/png": "[encoded data removed]",
      "text/plain": [
       "<Figure size 640x480 with 1 Axes>"
      ]
     },
     "metadata": {},
     "output_type": "display_data"
    }
   ],
   "source": [
    "df_num['station_number_1'] = df_num['station_number_1'].astype(int)\n",
    "sns.histplot(data=df_num, x='station_number_1')"
   ]
  },
  {
   "cell_type": "code",
   "execution_count": 348,
   "id": "da37c547",
   "metadata": {},
   "outputs": [],
   "source": [
    "df_num['station_number_1'] = df_num['station_number_1'].apply(lambda x: np.nan if x>9 else x)"
   ]
  },
  {
   "cell_type": "code",
   "execution_count": 349,
   "id": "f180be3e",
   "metadata": {},
   "outputs": [
    {
     "data": {
      "text/plain": [
       "<Axes: xlabel='station_number_2', ylabel='Count'>"
      ]
     },
     "execution_count": 349,
     "metadata": {},
     "output_type": "execute_result"
    },
    {
     "data": {
      "image/png": "[encoded data removed]",
      "text/plain": [
       "<Figure size 640x480 with 1 Axes>"
      ]
     },
     "metadata": {},
     "output_type": "display_data"
    }
   ],
   "source": [
    "df_num['station_number_2'] = df_num['station_number_2'].astype(int)\n",
    "sns.histplot(data=df_num, x='station_number_2')"
   ]
  },
  {
   "cell_type": "code",
   "execution_count": 350,
   "id": "584b58b5",
   "metadata": {},
   "outputs": [],
   "source": [
    "df_num['station_number_2'] = df_num['station_number_2'].apply(lambda x: np.nan if x>9 else x)"
   ]
  },
  {
   "cell_type": "code",
   "execution_count": 351,
   "id": "a5967366",
   "metadata": {},
   "outputs": [
    {
     "name": "stdout",
     "output_type": "stream",
     "text": [
      "4847\n"
     ]
    },
    {
     "data": {
      "text/html": [
       "<div>\n",
       "<style scoped>\n",
       "    .dataframe tbody tr th:only-of-type {\n",
       "        vertical-align: middle;\n",
       "    }\n",
       "\n",
       "    .dataframe tbody tr th {\n",
       "        vertical-align: top;\n",
       "    }\n",
       "\n",
       "    .dataframe thead th {\n",
       "        text-align: right;\n",
       "    }\n",
       "</style>\n",
       "<table border=\"1\" class=\"dataframe\">\n",
       "  <thead>\n",
       "    <tr style=\"text-align: right;\">\n",
       "      <th></th>\n",
       "      <th>station_number</th>\n",
       "      <th>station_number_1</th>\n",
       "      <th>station_number_2</th>\n",
       "    </tr>\n",
       "  </thead>\n",
       "  <tbody>\n",
       "    <tr>\n",
       "      <th>14769</th>\n",
       "      <td>18.0</td>\n",
       "      <td>1.0</td>\n",
       "      <td>8.0</td>\n",
       "    </tr>\n",
       "    <tr>\n",
       "      <th>20197</th>\n",
       "      <td>5.0</td>\n",
       "      <td>0.0</td>\n",
       "      <td>5.0</td>\n",
       "    </tr>\n",
       "    <tr>\n",
       "      <th>18902</th>\n",
       "      <td>75.0</td>\n",
       "      <td>7.0</td>\n",
       "      <td>5.0</td>\n",
       "    </tr>\n",
       "    <tr>\n",
       "      <th>17653</th>\n",
       "      <td>9.0</td>\n",
       "      <td>0.0</td>\n",
       "      <td>9.0</td>\n",
       "    </tr>\n",
       "    <tr>\n",
       "      <th>18777</th>\n",
       "      <td>1.0</td>\n",
       "      <td>0.0</td>\n",
       "      <td>1.0</td>\n",
       "    </tr>\n",
       "    <tr>\n",
       "      <th>18464</th>\n",
       "      <td>7.0</td>\n",
       "      <td>0.0</td>\n",
       "      <td>7.0</td>\n",
       "    </tr>\n",
       "    <tr>\n",
       "      <th>17719</th>\n",
       "      <td>9.0</td>\n",
       "      <td>0.0</td>\n",
       "      <td>9.0</td>\n",
       "    </tr>\n",
       "    <tr>\n",
       "      <th>5997</th>\n",
       "      <td>24.0</td>\n",
       "      <td>2.0</td>\n",
       "      <td>4.0</td>\n",
       "    </tr>\n",
       "    <tr>\n",
       "      <th>16563</th>\n",
       "      <td>8.0</td>\n",
       "      <td>0.0</td>\n",
       "      <td>8.0</td>\n",
       "    </tr>\n",
       "    <tr>\n",
       "      <th>16805</th>\n",
       "      <td>5.0</td>\n",
       "      <td>0.0</td>\n",
       "      <td>5.0</td>\n",
       "    </tr>\n",
       "  </tbody>\n",
       "</table>\n",
       "</div>"
      ],
      "text/plain": [
       "       station_number  station_number_1  station_number_2\n",
       "14769            18.0               1.0               8.0\n",
       "20197             5.0               0.0               5.0\n",
       "18902            75.0               7.0               5.0\n",
       "17653             9.0               0.0               9.0\n",
       "18777             1.0               0.0               1.0\n",
       "18464             7.0               0.0               7.0\n",
       "17719             9.0               0.0               9.0\n",
       "5997             24.0               2.0               4.0\n",
       "16563             8.0               0.0               8.0\n",
       "16805             5.0               0.0               5.0"
      ]
     },
     "execution_count": 351,
     "metadata": {},
     "output_type": "execute_result"
    }
   ],
   "source": [
    "df_num_stncheck = df_num[~pd.isna(df_num['station_number_1'])]\n",
    "df_num_stncheck = df_num_stncheck[~pd.isna(df_num_stncheck['station_number_2'])]\n",
    "df_num_stncheck['station_number'] = df_num_stncheck['station_number_1'].astype(int).astype(str) + df_num_stncheck['station_number_2'].astype(int).astype(str)\n",
    "df_num_stncheck['station_number'] = df_num_stncheck['station_number'].astype(int)\n",
    "df_num_nullstn = df_num.loc[pd.isna(df_num['station_number_1']) | pd.isna(df_num['station_number_2'])]\n",
    "df_num_nullstn = df_num_nullstn.copy(deep=True)\n",
    "df_num_nullstn['station_number'] = np.nan\n",
    "df_num = pd.concat([df_num_stncheck, df_num_nullstn])\n",
    "print(len(df_num))\n",
    "df_num[['station_number', 'station_number_1', 'station_number_2']].sample(10)"
   ]
  },
  {
   "cell_type": "markdown",
   "id": "1f2c6758",
   "metadata": {},
   "source": [
    "dot:"
   ]
  },
  {
   "cell_type": "code",
   "execution_count": 353,
   "id": "057d942a",
   "metadata": {},
   "outputs": [
    {
     "data": {
      "text/html": [
       "<div>\n",
       "<style scoped>\n",
       "    .dataframe tbody tr th:only-of-type {\n",
       "        vertical-align: middle;\n",
       "    }\n",
       "\n",
       "    .dataframe tbody tr th {\n",
       "        vertical-align: top;\n",
       "    }\n",
       "\n",
       "    .dataframe thead th {\n",
       "        text-align: right;\n",
       "    }\n",
       "</style>\n",
       "<table border=\"1\" class=\"dataframe\">\n",
       "  <thead>\n",
       "    <tr style=\"text-align: right;\">\n",
       "      <th></th>\n",
       "      <th>station_number</th>\n",
       "    </tr>\n",
       "  </thead>\n",
       "  <tbody>\n",
       "    <tr>\n",
       "      <th>18025</th>\n",
       "      <td>8.0</td>\n",
       "    </tr>\n",
       "    <tr>\n",
       "      <th>17290</th>\n",
       "      <td>25.0</td>\n",
       "    </tr>\n",
       "    <tr>\n",
       "      <th>18014</th>\n",
       "      <td>16.0</td>\n",
       "    </tr>\n",
       "    <tr>\n",
       "      <th>17150</th>\n",
       "      <td>1.0</td>\n",
       "    </tr>\n",
       "    <tr>\n",
       "      <th>17903</th>\n",
       "      <td>8.0</td>\n",
       "    </tr>\n",
       "    <tr>\n",
       "      <th>17097</th>\n",
       "      <td>1.0</td>\n",
       "    </tr>\n",
       "    <tr>\n",
       "      <th>17834</th>\n",
       "      <td>8.0</td>\n",
       "    </tr>\n",
       "    <tr>\n",
       "      <th>17262</th>\n",
       "      <td>17.0</td>\n",
       "    </tr>\n",
       "    <tr>\n",
       "      <th>18004</th>\n",
       "      <td>16.0</td>\n",
       "    </tr>\n",
       "    <tr>\n",
       "      <th>17205</th>\n",
       "      <td>1.0</td>\n",
       "    </tr>\n",
       "  </tbody>\n",
       "</table>\n",
       "</div>"
      ],
      "text/plain": [
       "       station_number\n",
       "18025             8.0\n",
       "17290            25.0\n",
       "18014            16.0\n",
       "17150             1.0\n",
       "17903             8.0\n",
       "17097             1.0\n",
       "17834             8.0\n",
       "17262            17.0\n",
       "18004            16.0\n",
       "17205             1.0"
      ]
     },
     "execution_count": 353,
     "metadata": {},
     "output_type": "execute_result"
    }
   ],
   "source": [
    "df_dot[['station_number']].sample(10)"
   ]
  },
  {
   "cell_type": "markdown",
   "id": "bc69e418",
   "metadata": {},
   "source": [
    "#  "
   ]
  },
  {
   "cell_type": "markdown",
   "id": "31a0e73c",
   "metadata": {},
   "source": [
    "#### Recombine results:"
   ]
  },
  {
   "cell_type": "code",
   "execution_count": 356,
   "id": "29bab799",
   "metadata": {},
   "outputs": [
    {
     "name": "stdout",
     "output_type": "stream",
     "text": [
      "20531\n"
     ]
    },
    {
     "data": {
      "text/html": [
       "<div>\n",
       "<style scoped>\n",
       "    .dataframe tbody tr th:only-of-type {\n",
       "        vertical-align: middle;\n",
       "    }\n",
       "\n",
       "    .dataframe tbody tr th {\n",
       "        vertical-align: top;\n",
       "    }\n",
       "\n",
       "    .dataframe thead th {\n",
       "        text-align: right;\n",
       "    }\n",
       "</style>\n",
       "<table border=\"1\" class=\"dataframe\">\n",
       "  <thead>\n",
       "    <tr style=\"text-align: right;\">\n",
       "      <th></th>\n",
       "      <th>Directory</th>\n",
       "      <th>Subdirectory</th>\n",
       "      <th>filename</th>\n",
       "      <th>processed_image_class</th>\n",
       "      <th>fmin</th>\n",
       "      <th>max_depth</th>\n",
       "      <th>station_number</th>\n",
       "      <th>station_number_1</th>\n",
       "      <th>station_number_2</th>\n",
       "      <th>year_1</th>\n",
       "      <th>...</th>\n",
       "      <th>details</th>\n",
       "      <th>year</th>\n",
       "      <th>day_of_year</th>\n",
       "      <th>hour</th>\n",
       "      <th>minute</th>\n",
       "      <th>second</th>\n",
       "      <th>month_day</th>\n",
       "      <th>month</th>\n",
       "      <th>day</th>\n",
       "      <th>Timestamp</th>\n",
       "    </tr>\n",
       "  </thead>\n",
       "  <tbody>\n",
       "    <tr>\n",
       "      <th>15092</th>\n",
       "      <td>R014207941</td>\n",
       "      <td>1804-3A</td>\n",
       "      <td>174.png</td>\n",
       "      <td>num</td>\n",
       "      <td>1.693548</td>\n",
       "      <td>1434.615385</td>\n",
       "      <td>5.0</td>\n",
       "      <td>0.0</td>\n",
       "      <td>5.0</td>\n",
       "      <td>4.0</td>\n",
       "      <td>...</td>\n",
       "      <td>NaN</td>\n",
       "      <td>1966.0</td>\n",
       "      <td>214.0</td>\n",
       "      <td>11.0</td>\n",
       "      <td>2.0</td>\n",
       "      <td>43.0</td>\n",
       "      <td>08-02</td>\n",
       "      <td>08</td>\n",
       "      <td>02</td>\n",
       "      <td>1966-08-02 11:02:43</td>\n",
       "    </tr>\n",
       "    <tr>\n",
       "      <th>18784</th>\n",
       "      <td>R014207963</td>\n",
       "      <td>1544-1B</td>\n",
       "      <td>41.png</td>\n",
       "      <td>num</td>\n",
       "      <td>1.544355</td>\n",
       "      <td>1432.000000</td>\n",
       "      <td>1.0</td>\n",
       "      <td>0.0</td>\n",
       "      <td>1.0</td>\n",
       "      <td>4.0</td>\n",
       "      <td>...</td>\n",
       "      <td>NaN</td>\n",
       "      <td>1966.0</td>\n",
       "      <td>51.0</td>\n",
       "      <td>2.0</td>\n",
       "      <td>39.0</td>\n",
       "      <td>23.0</td>\n",
       "      <td>02-20</td>\n",
       "      <td>02</td>\n",
       "      <td>20</td>\n",
       "      <td>1966-02-20 02:39:23</td>\n",
       "    </tr>\n",
       "    <tr>\n",
       "      <th>8752</th>\n",
       "      <td>R014207830</td>\n",
       "      <td>3699-43A</td>\n",
       "      <td>208.png</td>\n",
       "      <td>loss</td>\n",
       "      <td>1.556452</td>\n",
       "      <td>2016.666667</td>\n",
       "      <td>NaN</td>\n",
       "      <td>NaN</td>\n",
       "      <td>NaN</td>\n",
       "      <td>NaN</td>\n",
       "      <td>...</td>\n",
       "      <td>metadata could not be read by OCR</td>\n",
       "      <td>NaN</td>\n",
       "      <td>NaN</td>\n",
       "      <td>NaN</td>\n",
       "      <td>NaN</td>\n",
       "      <td>NaN</td>\n",
       "      <td>NaN</td>\n",
       "      <td>NaN</td>\n",
       "      <td>NaN</td>\n",
       "      <td>NaT</td>\n",
       "    </tr>\n",
       "    <tr>\n",
       "      <th>1775</th>\n",
       "      <td>R014207808</td>\n",
       "      <td>4612-50</td>\n",
       "      <td>125.png</td>\n",
       "      <td>loss</td>\n",
       "      <td>1.745968</td>\n",
       "      <td>1056.000000</td>\n",
       "      <td>NaN</td>\n",
       "      <td>NaN</td>\n",
       "      <td>NaN</td>\n",
       "      <td>NaN</td>\n",
       "      <td>...</td>\n",
       "      <td>metadata could not be read by OCR</td>\n",
       "      <td>NaN</td>\n",
       "      <td>NaN</td>\n",
       "      <td>NaN</td>\n",
       "      <td>NaN</td>\n",
       "      <td>NaN</td>\n",
       "      <td>NaN</td>\n",
       "      <td>NaN</td>\n",
       "      <td>NaN</td>\n",
       "      <td>NaT</td>\n",
       "    </tr>\n",
       "    <tr>\n",
       "      <th>6169</th>\n",
       "      <td>R014207825</td>\n",
       "      <td>3746-43A</td>\n",
       "      <td>106.png</td>\n",
       "      <td>loss</td>\n",
       "      <td>1.500000</td>\n",
       "      <td>1164.583333</td>\n",
       "      <td>NaN</td>\n",
       "      <td>NaN</td>\n",
       "      <td>NaN</td>\n",
       "      <td>NaN</td>\n",
       "      <td>...</td>\n",
       "      <td>metadata could not be read by OCR</td>\n",
       "      <td>NaN</td>\n",
       "      <td>NaN</td>\n",
       "      <td>NaN</td>\n",
       "      <td>NaN</td>\n",
       "      <td>NaN</td>\n",
       "      <td>NaN</td>\n",
       "      <td>NaN</td>\n",
       "      <td>NaN</td>\n",
       "      <td>NaT</td>\n",
       "    </tr>\n",
       "    <tr>\n",
       "      <th>9047</th>\n",
       "      <td>R014207831</td>\n",
       "      <td>3917-43A</td>\n",
       "      <td>154.png</td>\n",
       "      <td>loss</td>\n",
       "      <td>1.528226</td>\n",
       "      <td>1293.478261</td>\n",
       "      <td>NaN</td>\n",
       "      <td>NaN</td>\n",
       "      <td>NaN</td>\n",
       "      <td>NaN</td>\n",
       "      <td>...</td>\n",
       "      <td>metadata could not be read by OCR</td>\n",
       "      <td>NaN</td>\n",
       "      <td>NaN</td>\n",
       "      <td>NaN</td>\n",
       "      <td>NaN</td>\n",
       "      <td>NaN</td>\n",
       "      <td>NaN</td>\n",
       "      <td>NaN</td>\n",
       "      <td>NaN</td>\n",
       "      <td>NaT</td>\n",
       "    </tr>\n",
       "    <tr>\n",
       "      <th>3994</th>\n",
       "      <td>R014207813</td>\n",
       "      <td>5005</td>\n",
       "      <td>161.png</td>\n",
       "      <td>outlier</td>\n",
       "      <td>NaN</td>\n",
       "      <td>NaN</td>\n",
       "      <td>NaN</td>\n",
       "      <td>NaN</td>\n",
       "      <td>NaN</td>\n",
       "      <td>NaN</td>\n",
       "      <td>...</td>\n",
       "      <td>height: 716,width: 8389</td>\n",
       "      <td>NaN</td>\n",
       "      <td>NaN</td>\n",
       "      <td>NaN</td>\n",
       "      <td>NaN</td>\n",
       "      <td>NaN</td>\n",
       "      <td>NaN</td>\n",
       "      <td>NaN</td>\n",
       "      <td>NaN</td>\n",
       "      <td>NaT</td>\n",
       "    </tr>\n",
       "    <tr>\n",
       "      <th>19954</th>\n",
       "      <td>R014207969</td>\n",
       "      <td>1294-5A</td>\n",
       "      <td>161.png</td>\n",
       "      <td>loss</td>\n",
       "      <td>1.504032</td>\n",
       "      <td>2183.333333</td>\n",
       "      <td>33.0</td>\n",
       "      <td>NaN</td>\n",
       "      <td>NaN</td>\n",
       "      <td>NaN</td>\n",
       "      <td>...</td>\n",
       "      <td>metadata was interpreted to be dot type</td>\n",
       "      <td>NaN</td>\n",
       "      <td>NaN</td>\n",
       "      <td>NaN</td>\n",
       "      <td>NaN</td>\n",
       "      <td>NaN</td>\n",
       "      <td>NaN</td>\n",
       "      <td>NaN</td>\n",
       "      <td>NaN</td>\n",
       "      <td>NaT</td>\n",
       "    </tr>\n",
       "    <tr>\n",
       "      <th>4779</th>\n",
       "      <td>R014207819</td>\n",
       "      <td>4785-69</td>\n",
       "      <td>18.png</td>\n",
       "      <td>loss</td>\n",
       "      <td>4.235849</td>\n",
       "      <td>1355.555556</td>\n",
       "      <td>NaN</td>\n",
       "      <td>NaN</td>\n",
       "      <td>NaN</td>\n",
       "      <td>NaN</td>\n",
       "      <td>...</td>\n",
       "      <td>metadata could not be read by OCR</td>\n",
       "      <td>NaN</td>\n",
       "      <td>NaN</td>\n",
       "      <td>NaN</td>\n",
       "      <td>NaN</td>\n",
       "      <td>NaN</td>\n",
       "      <td>NaN</td>\n",
       "      <td>NaN</td>\n",
       "      <td>NaN</td>\n",
       "      <td>NaT</td>\n",
       "    </tr>\n",
       "    <tr>\n",
       "      <th>5103</th>\n",
       "      <td>R014207820</td>\n",
       "      <td>3000-43A</td>\n",
       "      <td>199.png</td>\n",
       "      <td>loss</td>\n",
       "      <td>1.500000</td>\n",
       "      <td>1345.833333</td>\n",
       "      <td>NaN</td>\n",
       "      <td>NaN</td>\n",
       "      <td>NaN</td>\n",
       "      <td>NaN</td>\n",
       "      <td>...</td>\n",
       "      <td>metadata could not be read by OCR</td>\n",
       "      <td>NaN</td>\n",
       "      <td>NaN</td>\n",
       "      <td>NaN</td>\n",
       "      <td>NaN</td>\n",
       "      <td>NaN</td>\n",
       "      <td>NaN</td>\n",
       "      <td>NaN</td>\n",
       "      <td>NaN</td>\n",
       "      <td>NaT</td>\n",
       "    </tr>\n",
       "  </tbody>\n",
       "</table>\n",
       "<p>10 rows × 39 columns</p>\n",
       "</div>"
      ],
      "text/plain": [
       "        Directory Subdirectory filename processed_image_class      fmin  \\\n",
       "15092  R014207941      1804-3A  174.png                   num  1.693548   \n",
       "18784  R014207963      1544-1B   41.png                   num  1.544355   \n",
       "8752   R014207830     3699-43A  208.png                  loss  1.556452   \n",
       "1775   R014207808      4612-50  125.png                  loss  1.745968   \n",
       "6169   R014207825     3746-43A  106.png                  loss  1.500000   \n",
       "9047   R014207831     3917-43A  154.png                  loss  1.528226   \n",
       "3994   R014207813         5005  161.png               outlier       NaN   \n",
       "19954  R014207969      1294-5A  161.png                  loss  1.504032   \n",
       "4779   R014207819      4785-69   18.png                  loss  4.235849   \n",
       "5103   R014207820     3000-43A  199.png                  loss  1.500000   \n",
       "\n",
       "         max_depth  station_number  station_number_1  station_number_2  \\\n",
       "15092  1434.615385             5.0               0.0               5.0   \n",
       "18784  1432.000000             1.0               0.0               1.0   \n",
       "8752   2016.666667             NaN               NaN               NaN   \n",
       "1775   1056.000000             NaN               NaN               NaN   \n",
       "6169   1164.583333             NaN               NaN               NaN   \n",
       "9047   1293.478261             NaN               NaN               NaN   \n",
       "3994           NaN             NaN               NaN               NaN   \n",
       "19954  2183.333333            33.0               NaN               NaN   \n",
       "4779   1355.555556             NaN               NaN               NaN   \n",
       "5103   1345.833333             NaN               NaN               NaN   \n",
       "\n",
       "       year_1  ...                                  details    year  \\\n",
       "15092     4.0  ...                                      NaN  1966.0   \n",
       "18784     4.0  ...                                      NaN  1966.0   \n",
       "8752      NaN  ...        metadata could not be read by OCR     NaN   \n",
       "1775      NaN  ...        metadata could not be read by OCR     NaN   \n",
       "6169      NaN  ...        metadata could not be read by OCR     NaN   \n",
       "9047      NaN  ...        metadata could not be read by OCR     NaN   \n",
       "3994      NaN  ...                  height: 716,width: 8389     NaN   \n",
       "19954     NaN  ...  metadata was interpreted to be dot type     NaN   \n",
       "4779      NaN  ...        metadata could not be read by OCR     NaN   \n",
       "5103      NaN  ...        metadata could not be read by OCR     NaN   \n",
       "\n",
       "       day_of_year  hour  minute  second  month_day  month  day  \\\n",
       "15092        214.0  11.0     2.0    43.0      08-02     08   02   \n",
       "18784         51.0   2.0    39.0    23.0      02-20     02   20   \n",
       "8752           NaN   NaN     NaN     NaN        NaN    NaN  NaN   \n",
       "1775           NaN   NaN     NaN     NaN        NaN    NaN  NaN   \n",
       "6169           NaN   NaN     NaN     NaN        NaN    NaN  NaN   \n",
       "9047           NaN   NaN     NaN     NaN        NaN    NaN  NaN   \n",
       "3994           NaN   NaN     NaN     NaN        NaN    NaN  NaN   \n",
       "19954          NaN   NaN     NaN     NaN        NaN    NaN  NaN   \n",
       "4779           NaN   NaN     NaN     NaN        NaN    NaN  NaN   \n",
       "5103           NaN   NaN     NaN     NaN        NaN    NaN  NaN   \n",
       "\n",
       "                Timestamp  \n",
       "15092 1966-08-02 11:02:43  \n",
       "18784 1966-02-20 02:39:23  \n",
       "8752                  NaT  \n",
       "1775                  NaT  \n",
       "6169                  NaT  \n",
       "9047                  NaT  \n",
       "3994                  NaT  \n",
       "19954                 NaT  \n",
       "4779                  NaT  \n",
       "5103                  NaT  \n",
       "\n",
       "[10 rows x 39 columns]"
      ]
     },
     "execution_count": 356,
     "metadata": {},
     "output_type": "execute_result"
    }
   ],
   "source": [
    "df_result2 = pd.concat([df_num2, df_num, df_dot, df_outlier, df_loss])\n",
    "print(len(df_result2))\n",
    "df_result2.sample(10)"
   ]
  },
  {
   "cell_type": "markdown",
   "id": "cfbd114a",
   "metadata": {},
   "source": [
    "#  "
   ]
  },
  {
   "cell_type": "markdown",
   "id": "dd4a6bef",
   "metadata": {},
   "source": [
    "#### Retrieve station details:"
   ]
  },
  {
   "cell_type": "code",
   "execution_count": 354,
   "id": "8ba4668b",
   "metadata": {},
   "outputs": [
    {
     "data": {
      "text/html": [
       "<div>\n",
       "<style scoped>\n",
       "    .dataframe tbody tr th:only-of-type {\n",
       "        vertical-align: middle;\n",
       "    }\n",
       "\n",
       "    .dataframe tbody tr th {\n",
       "        vertical-align: top;\n",
       "    }\n",
       "\n",
       "    .dataframe thead th {\n",
       "        text-align: right;\n",
       "    }\n",
       "</style>\n",
       "<table border=\"1\" class=\"dataframe\">\n",
       "  <thead>\n",
       "    <tr style=\"text-align: right;\">\n",
       "      <th></th>\n",
       "      <th>Station_Number</th>\n",
       "      <th>Station_Code</th>\n",
       "      <th>Station_Name</th>\n",
       "      <th>Start_Date</th>\n",
       "      <th>Notes</th>\n",
       "    </tr>\n",
       "  </thead>\n",
       "  <tbody>\n",
       "    <tr>\n",
       "      <th>0</th>\n",
       "      <td>1</td>\n",
       "      <td>RES</td>\n",
       "      <td>Resolute Bay, NT, Canada</td>\n",
       "      <td>1962-09-29</td>\n",
       "      <td>Assumed start date at launch.</td>\n",
       "    </tr>\n",
       "    <tr>\n",
       "      <th>1</th>\n",
       "      <td>1</td>\n",
       "      <td>BPT</td>\n",
       "      <td>Blossom Point, MD, USA</td>\n",
       "      <td>1965-07-01</td>\n",
       "      <td>NaN</td>\n",
       "    </tr>\n",
       "    <tr>\n",
       "      <th>2</th>\n",
       "      <td>2</td>\n",
       "      <td>PRI</td>\n",
       "      <td>Prince Albert, SK, Canada</td>\n",
       "      <td>1962-09-29</td>\n",
       "      <td>Assumed start date at launch.</td>\n",
       "    </tr>\n",
       "    <tr>\n",
       "      <th>3</th>\n",
       "      <td>3</td>\n",
       "      <td>OTT</td>\n",
       "      <td>Ottawa, Canada</td>\n",
       "      <td>1962-09-29</td>\n",
       "      <td>Assumed start date at launch.</td>\n",
       "    </tr>\n",
       "    <tr>\n",
       "      <th>4</th>\n",
       "      <td>3</td>\n",
       "      <td>FTM</td>\n",
       "      <td>Fort Myers, FL, USA</td>\n",
       "      <td>1965-07-01</td>\n",
       "      <td>NaN</td>\n",
       "    </tr>\n",
       "  </tbody>\n",
       "</table>\n",
       "</div>"
      ],
      "text/plain": [
       "   Station_Number Station_Code               Station_Name Start_Date  \\\n",
       "0               1          RES   Resolute Bay, NT, Canada 1962-09-29   \n",
       "1               1          BPT     Blossom Point, MD, USA 1965-07-01   \n",
       "2               2          PRI  Prince Albert, SK, Canada 1962-09-29   \n",
       "3               3          OTT             Ottawa, Canada 1962-09-29   \n",
       "4               3          FTM        Fort Myers, FL, USA 1965-07-01   \n",
       "\n",
       "                           Notes  \n",
       "0  Assumed start date at launch.  \n",
       "1                            NaN  \n",
       "2  Assumed start date at launch.  \n",
       "3  Assumed start date at launch.  \n",
       "4                            NaN  "
      ]
     },
     "execution_count": 354,
     "metadata": {},
     "output_type": "execute_result"
    }
   ],
   "source": [
    "df_stn_nums = pd.read_excel(logDir + 'station_number_changes.xlsx')\n",
    "df_stn_nums.head()"
   ]
  },
  {
   "cell_type": "code",
   "execution_count": 355,
   "id": "c1d015b0",
   "metadata": {},
   "outputs": [],
   "source": [
    "change_dates = df_stn_nums['Start_Date'].drop_duplicates().sort_values().reset_index(drop=True)\n",
    "stn_nums = df_stn_nums['Station_Number'].unique()"
   ]
  },
  {
   "cell_type": "code",
   "execution_count": 357,
   "id": "e446fd81",
   "metadata": {},
   "outputs": [
    {
     "name": "stdout",
     "output_type": "stream",
     "text": [
      "1962-09-29 00:00:00\n",
      "39\n",
      "1963-04-25 00:00:00\n",
      "70\n",
      "1963-08-06 00:00:00\n",
      "88\n",
      "1965-07-01 00:00:00\n",
      "409\n",
      "After 1965-07-01 00:00:00\n",
      "6470\n"
     ]
    }
   ],
   "source": [
    "df_result3 = pd.DataFrame()\n",
    "for i in range(0, len(change_dates)):\n",
    "    #Before the first change date - Assume there are no station numbers before launch\n",
    "    if i == 0:\n",
    "        print(change_dates[i])\n",
    "        df_part = df_result2.loc[df_result2['Timestamp'] < change_dates[i]]\n",
    "        df_result3 = pd.concat([df_result3, df_part])\n",
    "        print(len(df_result3))\n",
    "    \n",
    "    elif i > 0:\n",
    "        print(change_dates[i])\n",
    "        df_part_ = df_result2.loc[df_result2['Timestamp'] < change_dates[i]]\n",
    "        df_part_ = df_part_.loc[df_part_['Timestamp'] >= change_dates[i-1]]\n",
    "        \n",
    "        df_sns = pd.DataFrame()\n",
    "        for sn in stn_nums:\n",
    "            df_sn = df_stn_nums.loc[df_stn_nums['Station_Number'] == sn]\n",
    "            df_sn = df_sn.loc[df_sn['Start_Date'] < change_dates[i]]\n",
    "            if len(df_sn) > 1:\n",
    "                df_sn = df_sn.sort_values('Start_Date', ascending=False)\n",
    "                df_sn = df_sn.iloc[:1]\n",
    "            df_sns = pd.concat([df_sns, df_sn])\n",
    "        \n",
    "        df_part = df_part_.merge(df_sns[['Station_Number', 'Station_Code']], how='left', left_on='station_number', right_on='Station_Number')\n",
    "        df_result3 = pd.concat([df_result3, df_part])\n",
    "        print(len(df_result3))\n",
    "\n",
    "#After last change date\n",
    "last_change_date = change_dates[len(change_dates)-1]\n",
    "print('After ' + str(last_change_date))\n",
    "df_part_ = df_result2.loc[df_result2['Timestamp'] > last_change_date]\n",
    "\n",
    "df_sns = pd.DataFrame()\n",
    "for sn in stn_nums:\n",
    "    df_sn = df_stn_nums.loc[df_stn_nums['Station_Number'] == sn]\n",
    "    if len(df_sn) > 1:\n",
    "        df_sn = df_sn.sort_values('Start_Date', ascending=False)\n",
    "        df_sn = df_sn.iloc[:1]\n",
    "    df_sns = pd.concat([df_sns, df_sn])\n",
    "\n",
    "df_part = df_part_.merge(df_sns[['Station_Number', 'Station_Code']], how='left', left_on='station_number', right_on='Station_Number')\n",
    "df_result3 = pd.concat([df_result3, df_part])\n",
    "print(len(df_result3))"
   ]
  },
  {
   "cell_type": "code",
   "execution_count": 360,
   "id": "925b04d2",
   "metadata": {},
   "outputs": [
    {
     "data": {
      "text/html": [
       "<div>\n",
       "<style scoped>\n",
       "    .dataframe tbody tr th:only-of-type {\n",
       "        vertical-align: middle;\n",
       "    }\n",
       "\n",
       "    .dataframe tbody tr th {\n",
       "        vertical-align: top;\n",
       "    }\n",
       "\n",
       "    .dataframe thead th {\n",
       "        text-align: right;\n",
       "    }\n",
       "</style>\n",
       "<table border=\"1\" class=\"dataframe\">\n",
       "  <thead>\n",
       "    <tr style=\"text-align: right;\">\n",
       "      <th></th>\n",
       "      <th>Station_Code</th>\n",
       "      <th>Station_Name</th>\n",
       "      <th>Lat</th>\n",
       "      <th>Lng</th>\n",
       "      <th>Notes</th>\n",
       "    </tr>\n",
       "  </thead>\n",
       "  <tbody>\n",
       "    <tr>\n",
       "      <th>0</th>\n",
       "      <td>ANT</td>\n",
       "      <td>Antofagasta, Chile</td>\n",
       "      <td>23.6S</td>\n",
       "      <td>70.3W</td>\n",
       "      <td>NaN</td>\n",
       "    </tr>\n",
       "    <tr>\n",
       "      <th>1</th>\n",
       "      <td>BAT</td>\n",
       "      <td>Byrd Station, Antarctica</td>\n",
       "      <td>80S</td>\n",
       "      <td>119.3W</td>\n",
       "      <td>Ref: https://en.wikipedia.org/wiki/Byrd_Station</td>\n",
       "    </tr>\n",
       "    <tr>\n",
       "      <th>2</th>\n",
       "      <td>BFR</td>\n",
       "      <td>Bretigny, France</td>\n",
       "      <td>48.4N</td>\n",
       "      <td>2.2 E</td>\n",
       "      <td>Ref: https://en.wikipedia.org/wiki/Br%C3%A9tig...</td>\n",
       "    </tr>\n",
       "    <tr>\n",
       "      <th>3</th>\n",
       "      <td>BLR</td>\n",
       "      <td>Boulder, CO, USA</td>\n",
       "      <td>40.1N</td>\n",
       "      <td>105.1W</td>\n",
       "      <td>NaN</td>\n",
       "    </tr>\n",
       "    <tr>\n",
       "      <th>4</th>\n",
       "      <td>BPT</td>\n",
       "      <td>Blossom Point, MD, USA</td>\n",
       "      <td>38.4N</td>\n",
       "      <td>77.1W</td>\n",
       "      <td>NaN</td>\n",
       "    </tr>\n",
       "  </tbody>\n",
       "</table>\n",
       "</div>"
      ],
      "text/plain": [
       "  Station_Code              Station_Name    Lat     Lng  \\\n",
       "0          ANT        Antofagasta, Chile  23.6S   70.3W   \n",
       "1          BAT  Byrd Station, Antarctica    80S  119.3W   \n",
       "2          BFR          Bretigny, France  48.4N   2.2 E   \n",
       "3          BLR          Boulder, CO, USA  40.1N  105.1W   \n",
       "4          BPT    Blossom Point, MD, USA  38.4N   77.1W   \n",
       "\n",
       "                                               Notes  \n",
       "0                                                NaN  \n",
       "1    Ref: https://en.wikipedia.org/wiki/Byrd_Station  \n",
       "2  Ref: https://en.wikipedia.org/wiki/Br%C3%A9tig...  \n",
       "3                                                NaN  \n",
       "4                                                NaN  "
      ]
     },
     "execution_count": 360,
     "metadata": {},
     "output_type": "execute_result"
    }
   ],
   "source": [
    "df_stns = pd.read_csv(logDir + 'ground_stations.csv')\n",
    "df_stns.head()"
   ]
  },
  {
   "cell_type": "code",
   "execution_count": 361,
   "id": "f556c636",
   "metadata": {},
   "outputs": [
    {
     "name": "stdout",
     "output_type": "stream",
     "text": [
      "6470\n"
     ]
    },
    {
     "data": {
      "text/html": [
       "<div>\n",
       "<style scoped>\n",
       "    .dataframe tbody tr th:only-of-type {\n",
       "        vertical-align: middle;\n",
       "    }\n",
       "\n",
       "    .dataframe tbody tr th {\n",
       "        vertical-align: top;\n",
       "    }\n",
       "\n",
       "    .dataframe thead th {\n",
       "        text-align: right;\n",
       "    }\n",
       "</style>\n",
       "<table border=\"1\" class=\"dataframe\">\n",
       "  <thead>\n",
       "    <tr style=\"text-align: right;\">\n",
       "      <th></th>\n",
       "      <th>Station_Number</th>\n",
       "      <th>Timestamp</th>\n",
       "      <th>Station_Code</th>\n",
       "      <th>Station_Name</th>\n",
       "      <th>Lat</th>\n",
       "      <th>Lng</th>\n",
       "    </tr>\n",
       "  </thead>\n",
       "  <tbody>\n",
       "    <tr>\n",
       "      <th>4937</th>\n",
       "      <td>7.0</td>\n",
       "      <td>1965-10-19 13:02:10</td>\n",
       "      <td>QUI</td>\n",
       "      <td>Quito, Ecuador</td>\n",
       "      <td>0.6S</td>\n",
       "      <td>78.6W</td>\n",
       "    </tr>\n",
       "    <tr>\n",
       "      <th>1542</th>\n",
       "      <td>43.0</td>\n",
       "      <td>1967-02-13 05:58:04</td>\n",
       "      <td>RES</td>\n",
       "      <td>Resolute Bay, NT, Canada</td>\n",
       "      <td>74.7N</td>\n",
       "      <td>95W</td>\n",
       "    </tr>\n",
       "    <tr>\n",
       "      <th>4933</th>\n",
       "      <td>7.0</td>\n",
       "      <td>1965-10-19 13:01:00</td>\n",
       "      <td>QUI</td>\n",
       "      <td>Quito, Ecuador</td>\n",
       "      <td>0.6S</td>\n",
       "      <td>78.6W</td>\n",
       "    </tr>\n",
       "    <tr>\n",
       "      <th>5408</th>\n",
       "      <td>1.0</td>\n",
       "      <td>1966-02-20 04:30:11</td>\n",
       "      <td>BPT</td>\n",
       "      <td>Blossom Point, MD, USA</td>\n",
       "      <td>38.4N</td>\n",
       "      <td>77.1W</td>\n",
       "    </tr>\n",
       "    <tr>\n",
       "      <th>1754</th>\n",
       "      <td>15.0</td>\n",
       "      <td>1968-03-09 14:50:42</td>\n",
       "      <td>WNK</td>\n",
       "      <td>Winkfield, England, UK</td>\n",
       "      <td>51.4N</td>\n",
       "      <td>0.4W</td>\n",
       "    </tr>\n",
       "    <tr>\n",
       "      <th>281</th>\n",
       "      <td>NaN</td>\n",
       "      <td>1964-08-21 22:40:42</td>\n",
       "      <td>NaN</td>\n",
       "      <td>NaN</td>\n",
       "      <td>NaN</td>\n",
       "      <td>NaN</td>\n",
       "    </tr>\n",
       "    <tr>\n",
       "      <th>601</th>\n",
       "      <td>50.0</td>\n",
       "      <td>1968-10-18 13:51:02</td>\n",
       "      <td>OTT</td>\n",
       "      <td>Ottawa, Canada</td>\n",
       "      <td>45.4N</td>\n",
       "      <td>75.7W</td>\n",
       "    </tr>\n",
       "    <tr>\n",
       "      <th>2793</th>\n",
       "      <td>50.0</td>\n",
       "      <td>1967-11-07 14:23:03</td>\n",
       "      <td>OTT</td>\n",
       "      <td>Ottawa, Canada</td>\n",
       "      <td>45.4N</td>\n",
       "      <td>75.7W</td>\n",
       "    </tr>\n",
       "    <tr>\n",
       "      <th>4128</th>\n",
       "      <td>8.0</td>\n",
       "      <td>1966-09-12 05:22:23</td>\n",
       "      <td>SNT</td>\n",
       "      <td>Santiago, Chile</td>\n",
       "      <td>33.2S</td>\n",
       "      <td>70.1W</td>\n",
       "    </tr>\n",
       "    <tr>\n",
       "      <th>6084</th>\n",
       "      <td>13.0</td>\n",
       "      <td>1965-08-01 13:45:10</td>\n",
       "      <td>COL</td>\n",
       "      <td>College, Fairbanks, AK, USA</td>\n",
       "      <td>64.9N</td>\n",
       "      <td>147.8W</td>\n",
       "    </tr>\n",
       "  </tbody>\n",
       "</table>\n",
       "</div>"
      ],
      "text/plain": [
       "      Station_Number           Timestamp Station_Code  \\\n",
       "4937             7.0 1965-10-19 13:02:10          QUI   \n",
       "1542            43.0 1967-02-13 05:58:04          RES   \n",
       "4933             7.0 1965-10-19 13:01:00          QUI   \n",
       "5408             1.0 1966-02-20 04:30:11          BPT   \n",
       "1754            15.0 1968-03-09 14:50:42          WNK   \n",
       "281              NaN 1964-08-21 22:40:42          NaN   \n",
       "601             50.0 1968-10-18 13:51:02          OTT   \n",
       "2793            50.0 1967-11-07 14:23:03          OTT   \n",
       "4128             8.0 1966-09-12 05:22:23          SNT   \n",
       "6084            13.0 1965-08-01 13:45:10          COL   \n",
       "\n",
       "                     Station_Name    Lat     Lng  \n",
       "4937               Quito, Ecuador   0.6S   78.6W  \n",
       "1542     Resolute Bay, NT, Canada  74.7N     95W  \n",
       "4933               Quito, Ecuador   0.6S   78.6W  \n",
       "5408       Blossom Point, MD, USA  38.4N   77.1W  \n",
       "1754       Winkfield, England, UK  51.4N    0.4W  \n",
       "281                           NaN    NaN     NaN  \n",
       "601                Ottawa, Canada  45.4N   75.7W  \n",
       "2793               Ottawa, Canada  45.4N   75.7W  \n",
       "4128              Santiago, Chile  33.2S   70.1W  \n",
       "6084  College, Fairbanks, AK, USA  64.9N  147.8W  "
      ]
     },
     "execution_count": 361,
     "metadata": {},
     "output_type": "execute_result"
    }
   ],
   "source": [
    "df_result4 = df_result3.merge(df_stns[['Station_Code', 'Station_Name', 'Lat', 'Lng']], how='left', on='Station_Code')\n",
    "print(len(df_result4))\n",
    "df_result4[['Station_Number', 'Timestamp', 'Station_Code', 'Station_Name', 'Lat', 'Lng']].sample(10)"
   ]
  },
  {
   "cell_type": "markdown",
   "id": "66ca788a",
   "metadata": {},
   "source": [
    "#  "
   ]
  },
  {
   "cell_type": "markdown",
   "id": "3d73d024",
   "metadata": {},
   "source": [
    "#### Save:"
   ]
  },
  {
   "cell_type": "code",
   "execution_count": 362,
   "id": "6dbcb77c",
   "metadata": {},
   "outputs": [],
   "source": [
    "df_result4 = df_result4.sort_values('Timestamp').reset_index(drop=True)\n",
    "df_result4.to_csv(resultDir + 'result_total.csv', index=False)"
   ]
  }
 ],
 "metadata": {
  "kernelspec": {
   "display_name": "Python 3 (ipykernel)",
   "language": "python",
   "name": "python3"
  },
  "language_info": {
   "codemirror_mode": {
    "name": "ipython",
    "version": 3
   },
   "file_extension": ".py",
   "mimetype": "text/x-python",
   "name": "python",
   "nbconvert_exporter": "python",
   "pygments_lexer": "ipython3",
   "version": "3.8.16"
  }
 },
 "nbformat": 4,
 "nbformat_minor": 5
}

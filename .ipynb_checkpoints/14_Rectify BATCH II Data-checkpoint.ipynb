{
 "cells": [
  {
   "cell_type": "markdown",
   "id": "3669943a",
   "metadata": {},
   "source": [
    "# Rectify BATCH II Data\n",
    "\n",
    "#### Updated: Mar 1, 2023"
   ]
  },
  {
   "cell_type": "markdown",
   "id": "57dc5f8d",
   "metadata": {},
   "source": [
    "#  "
   ]
  },
  {
   "cell_type": "markdown",
   "id": "688b8b85",
   "metadata": {},
   "source": [
    "Rectify folder structure and subdirectory naming issues with BATCH II data:"
   ]
  },
  {
   "cell_type": "code",
   "execution_count": 1,
   "id": "5a3034a8",
   "metadata": {},
   "outputs": [],
   "source": [
    "import pandas as pd\n",
    "import os"
   ]
  },
  {
   "cell_type": "code",
   "execution_count": 2,
   "id": "92a3dbce",
   "metadata": {},
   "outputs": [],
   "source": [
    "dataDir = 'L:/DATA/Alouette_I/BATCH_II_raw_ftp/'"
   ]
  },
  {
   "cell_type": "markdown",
   "id": "00b79a14",
   "metadata": {},
   "source": [
    "#  "
   ]
  },
  {
   "cell_type": "markdown",
   "id": "80dcc11c",
   "metadata": {},
   "source": [
    "#### Rectify folder structure - move any Roll"
   ]
  },
  {
   "cell_type": "markdown",
   "id": "94c7038a",
   "metadata": {},
   "source": [
    "Manually moved one nested roll folder in R014207709. Other roll folders do not seem to have any nested roll folders. "
   ]
  },
  {
   "cell_type": "markdown",
   "id": "fb13a275",
   "metadata": {},
   "source": [
    "#  "
   ]
  },
  {
   "cell_type": "markdown",
   "id": "6e87f079",
   "metadata": {},
   "source": [
    "#### Rename subdirectories:"
   ]
  },
  {
   "cell_type": "code",
   "execution_count": 6,
   "id": "6452d3da",
   "metadata": {},
   "outputs": [],
   "source": [
    "for roll in os.listdir(dataDir):\n",
    "    print(roll)\n",
    "    for subdirectory in os.listdir(dataDir + roll):\n",
    "        subdir_new = subdirectory.replace(',', '')\n",
    "        subdir_new = subdir_new.replace(' ', '_')\n",
    "        os.rename(dataDir + roll + '/' + subdirectory, dataDir + roll + '/' + subdir_new)"
   ]
  },
  {
   "cell_type": "code",
   "execution_count": null,
   "id": "e6dd2fe3",
   "metadata": {},
   "outputs": [],
   "source": []
  }
 ],
 "metadata": {
  "kernelspec": {
   "display_name": "Python 3",
   "language": "python",
   "name": "python3"
  },
  "language_info": {
   "codemirror_mode": {
    "name": "ipython",
    "version": 3
   },
   "file_extension": ".py",
   "mimetype": "text/x-python",
   "name": "python",
   "nbconvert_exporter": "python",
   "pygments_lexer": "ipython3",
   "version": "3.8.8"
  }
 },
 "nbformat": 4,
 "nbformat_minor": 5
}

{
 "cells": [
  {
   "cell_type": "markdown",
   "id": "9db6d234",
   "metadata": {},
   "source": [
    "# Post-Processing (BATCH II)\n",
    "\n",
    "#### Updated: March 20, 2023"
   ]
  },
  {
   "cell_type": "markdown",
   "id": "cd1e36e5",
   "metadata": {},
   "source": [
    "#  "
   ]
  },
  {
   "cell_type": "code",
   "execution_count": 1,
   "id": "ea9fb110",
   "metadata": {},
   "outputs": [],
   "source": [
    "import pandas as pd\n",
    "import seaborn as sns"
   ]
  },
  {
   "cell_type": "code",
   "execution_count": 2,
   "id": "475fcb94",
   "metadata": {},
   "outputs": [],
   "source": [
    "rootDir = 'L:/DATA/Alouette_I/BATCH_I_Run1/'\n",
    "resultDir = rootDir + '05_result/'\n",
    "logDir = rootDir + '06_log/'"
   ]
  },
  {
   "cell_type": "markdown",
   "id": "3125c433",
   "metadata": {},
   "source": [
    "#  "
   ]
  },
  {
   "cell_type": "markdown",
   "id": "560a5eef",
   "metadata": {},
   "source": [
    "#### Generate list of unprocessed subdirectories, for further qualitative inspection:"
   ]
  },
  {
   "cell_type": "code",
   "execution_count": 3,
   "id": "71b7ea42",
   "metadata": {},
   "outputs": [
    {
     "name": "stdout",
     "output_type": "stream",
     "text": [
      "920\n"
     ]
    },
    {
     "data": {
      "text/html": [
       "<div>\n",
       "<style scoped>\n",
       "    .dataframe tbody tr th:only-of-type {\n",
       "        vertical-align: middle;\n",
       "    }\n",
       "\n",
       "    .dataframe tbody tr th {\n",
       "        vertical-align: top;\n",
       "    }\n",
       "\n",
       "    .dataframe thead th {\n",
       "        text-align: right;\n",
       "    }\n",
       "</style>\n",
       "<table border=\"1\" class=\"dataframe\">\n",
       "  <thead>\n",
       "    <tr style=\"text-align: right;\">\n",
       "      <th></th>\n",
       "      <th>Roll</th>\n",
       "      <th>Subdirectory</th>\n",
       "      <th>Images_processed</th>\n",
       "      <th>Images_dot</th>\n",
       "      <th>Images_num</th>\n",
       "      <th>Images_loss</th>\n",
       "      <th>Images_outlier</th>\n",
       "      <th>Process_time</th>\n",
       "      <th>Process_timestamp</th>\n",
       "      <th>User</th>\n",
       "      <th>subdir_id</th>\n",
       "    </tr>\n",
       "  </thead>\n",
       "  <tbody>\n",
       "    <tr>\n",
       "      <th>792</th>\n",
       "      <td>R014207813</td>\n",
       "      <td>5031</td>\n",
       "      <td>416.0</td>\n",
       "      <td>0.0</td>\n",
       "      <td>117.0</td>\n",
       "      <td>247.0</td>\n",
       "      <td>52.0</td>\n",
       "      <td>286.101392</td>\n",
       "      <td>00:02.4</td>\n",
       "      <td>Rav Super3</td>\n",
       "      <td>R014207813_5031</td>\n",
       "    </tr>\n",
       "    <tr>\n",
       "      <th>573</th>\n",
       "      <td>R014207825</td>\n",
       "      <td>3760-38A</td>\n",
       "      <td>174.0</td>\n",
       "      <td>0.0</td>\n",
       "      <td>83.0</td>\n",
       "      <td>86.0</td>\n",
       "      <td>5.0</td>\n",
       "      <td>388.078494</td>\n",
       "      <td>00:05.8</td>\n",
       "      <td>Rav Super11</td>\n",
       "      <td>R014207825_3760-38A</td>\n",
       "    </tr>\n",
       "    <tr>\n",
       "      <th>723</th>\n",
       "      <td>R014207763</td>\n",
       "      <td>AUG-6-TO-AUG-13-1965</td>\n",
       "      <td>0.0</td>\n",
       "      <td>0.0</td>\n",
       "      <td>0.0</td>\n",
       "      <td>0.0</td>\n",
       "      <td>0.0</td>\n",
       "      <td>161.170390</td>\n",
       "      <td>00:06.2</td>\n",
       "      <td>Rav Super3</td>\n",
       "      <td>R014207763_AUG-6-TO-AUG-13-1965</td>\n",
       "    </tr>\n",
       "    <tr>\n",
       "      <th>20</th>\n",
       "      <td>R014207807</td>\n",
       "      <td>4953</td>\n",
       "      <td>0.0</td>\n",
       "      <td>0.0</td>\n",
       "      <td>0.0</td>\n",
       "      <td>0.0</td>\n",
       "      <td>0.0</td>\n",
       "      <td>186.827210</td>\n",
       "      <td>00:09.2</td>\n",
       "      <td>Rav Super11</td>\n",
       "      <td>R014207807_4953</td>\n",
       "    </tr>\n",
       "    <tr>\n",
       "      <th>654</th>\n",
       "      <td>R014207817</td>\n",
       "      <td>May-87</td>\n",
       "      <td>344.0</td>\n",
       "      <td>0.0</td>\n",
       "      <td>321.0</td>\n",
       "      <td>4.0</td>\n",
       "      <td>19.0</td>\n",
       "      <td>638.494545</td>\n",
       "      <td>00:10.3</td>\n",
       "      <td>Rav Super10</td>\n",
       "      <td>R014207817_4187-5</td>\n",
       "    </tr>\n",
       "  </tbody>\n",
       "</table>\n",
       "</div>"
      ],
      "text/plain": [
       "           Roll          Subdirectory  Images_processed  Images_dot  \\\n",
       "792  R014207813                  5031             416.0         0.0   \n",
       "573  R014207825              3760-38A             174.0         0.0   \n",
       "723  R014207763  AUG-6-TO-AUG-13-1965               0.0         0.0   \n",
       "20   R014207807                  4953               0.0         0.0   \n",
       "654  R014207817                May-87             344.0         0.0   \n",
       "\n",
       "     Images_num  Images_loss  Images_outlier  Process_time Process_timestamp  \\\n",
       "792       117.0        247.0            52.0    286.101392           00:02.4   \n",
       "573        83.0         86.0             5.0    388.078494           00:05.8   \n",
       "723         0.0          0.0             0.0    161.170390           00:06.2   \n",
       "20          0.0          0.0             0.0    186.827210           00:09.2   \n",
       "654       321.0          4.0            19.0    638.494545           00:10.3   \n",
       "\n",
       "            User                        subdir_id  \n",
       "792   Rav Super3                  R014207813_5031  \n",
       "573  Rav Super11              R014207825_3760-38A  \n",
       "723   Rav Super3  R014207763_AUG-6-TO-AUG-13-1965  \n",
       "20   Rav Super11                  R014207807_4953  \n",
       "654  Rav Super10                R014207817_4187-5  "
      ]
     },
     "execution_count": 3,
     "metadata": {},
     "output_type": "execute_result"
    }
   ],
   "source": [
    "df_process_log = pd.read_csv(logDir + 'process_log.csv')\n",
    "df_p1 = df_process_log.sort_values('Process_timestamp', ascending=True)\n",
    "df_p1 = df_p1.drop_duplicates(subset=['subdir_id'], keep='last') \n",
    "print(len(df_p1))\n",
    "df_p1.head()"
   ]
  },
  {
   "cell_type": "code",
   "execution_count": 4,
   "id": "884287d6",
   "metadata": {},
   "outputs": [
    {
     "name": "stdout",
     "output_type": "stream",
     "text": [
      "529\n"
     ]
    }
   ],
   "source": [
    "df1 = df_p1.loc[df_p1['Images_processed'] == 0]\n",
    "print(len(df1))"
   ]
  },
  {
   "cell_type": "code",
   "execution_count": 5,
   "id": "ec969600",
   "metadata": {},
   "outputs": [
    {
     "data": {
      "text/html": [
       "<div>\n",
       "<style scoped>\n",
       "    .dataframe tbody tr th:only-of-type {\n",
       "        vertical-align: middle;\n",
       "    }\n",
       "\n",
       "    .dataframe tbody tr th {\n",
       "        vertical-align: top;\n",
       "    }\n",
       "\n",
       "    .dataframe thead th {\n",
       "        text-align: right;\n",
       "    }\n",
       "</style>\n",
       "<table border=\"1\" class=\"dataframe\">\n",
       "  <thead>\n",
       "    <tr style=\"text-align: right;\">\n",
       "      <th></th>\n",
       "      <th>Directory</th>\n",
       "      <th>Subdirectory</th>\n",
       "      <th>Images_processed</th>\n",
       "    </tr>\n",
       "  </thead>\n",
       "  <tbody>\n",
       "    <tr>\n",
       "      <th>0</th>\n",
       "      <td>R014207709</td>\n",
       "      <td>145</td>\n",
       "      <td>0.0</td>\n",
       "    </tr>\n",
       "    <tr>\n",
       "      <th>1</th>\n",
       "      <td>R014207709</td>\n",
       "      <td>146</td>\n",
       "      <td>0.0</td>\n",
       "    </tr>\n",
       "    <tr>\n",
       "      <th>2</th>\n",
       "      <td>R014207709</td>\n",
       "      <td>147</td>\n",
       "      <td>0.0</td>\n",
       "    </tr>\n",
       "    <tr>\n",
       "      <th>3</th>\n",
       "      <td>R014207709</td>\n",
       "      <td>148</td>\n",
       "      <td>0.0</td>\n",
       "    </tr>\n",
       "    <tr>\n",
       "      <th>4</th>\n",
       "      <td>R014207709</td>\n",
       "      <td>149</td>\n",
       "      <td>0.0</td>\n",
       "    </tr>\n",
       "    <tr>\n",
       "      <th>...</th>\n",
       "      <td>...</td>\n",
       "      <td>...</td>\n",
       "      <td>...</td>\n",
       "    </tr>\n",
       "    <tr>\n",
       "      <th>524</th>\n",
       "      <td>R014207825</td>\n",
       "      <td>3771-43A</td>\n",
       "      <td>0.0</td>\n",
       "    </tr>\n",
       "    <tr>\n",
       "      <th>525</th>\n",
       "      <td>R014207825</td>\n",
       "      <td>3779-43A-2</td>\n",
       "      <td>0.0</td>\n",
       "    </tr>\n",
       "    <tr>\n",
       "      <th>526</th>\n",
       "      <td>R014207825</td>\n",
       "      <td>3780-43A</td>\n",
       "      <td>0.0</td>\n",
       "    </tr>\n",
       "    <tr>\n",
       "      <th>527</th>\n",
       "      <td>R014207825</td>\n",
       "      <td>3783-69A-2</td>\n",
       "      <td>0.0</td>\n",
       "    </tr>\n",
       "    <tr>\n",
       "      <th>528</th>\n",
       "      <td>R014207825</td>\n",
       "      <td>3784-69A</td>\n",
       "      <td>0.0</td>\n",
       "    </tr>\n",
       "  </tbody>\n",
       "</table>\n",
       "<p>529 rows × 3 columns</p>\n",
       "</div>"
      ],
      "text/plain": [
       "      Directory Subdirectory  Images_processed\n",
       "0    R014207709          145               0.0\n",
       "1    R014207709          146               0.0\n",
       "2    R014207709          147               0.0\n",
       "3    R014207709          148               0.0\n",
       "4    R014207709          149               0.0\n",
       "..          ...          ...               ...\n",
       "524  R014207825     3771-43A               0.0\n",
       "525  R014207825   3779-43A-2               0.0\n",
       "526  R014207825     3780-43A               0.0\n",
       "527  R014207825   3783-69A-2               0.0\n",
       "528  R014207825     3784-69A               0.0\n",
       "\n",
       "[529 rows x 3 columns]"
      ]
     },
     "execution_count": 5,
     "metadata": {},
     "output_type": "execute_result"
    }
   ],
   "source": [
    "df2 = df1[['Directory', 'Subdirectory', 'Images_processed']]\n",
    "#df2 = df2.rename(columns={\n",
    "#    'Roll': 'Directory'\n",
    "#})\n",
    "df2 = df2.sort_values(['Directory', 'Subdirectory']).reset_index(drop=True)\n",
    "df2"
   ]
  },
  {
   "cell_type": "code",
   "execution_count": 6,
   "id": "186ddb21",
   "metadata": {},
   "outputs": [],
   "source": [
    "df2.to_csv(logDir + 'unprocessed_subdirs-BATCHII.csv', index=False)"
   ]
  },
  {
   "cell_type": "code",
   "execution_count": 7,
   "id": "397853a4",
   "metadata": {},
   "outputs": [
    {
     "data": {
      "text/html": [
       "<div>\n",
       "<style scoped>\n",
       "    .dataframe tbody tr th:only-of-type {\n",
       "        vertical-align: middle;\n",
       "    }\n",
       "\n",
       "    .dataframe tbody tr th {\n",
       "        vertical-align: top;\n",
       "    }\n",
       "\n",
       "    .dataframe thead th {\n",
       "        text-align: right;\n",
       "    }\n",
       "</style>\n",
       "<table border=\"1\" class=\"dataframe\">\n",
       "  <thead>\n",
       "    <tr style=\"text-align: right;\">\n",
       "      <th></th>\n",
       "      <th>Directory</th>\n",
       "      <th>Subdirectory</th>\n",
       "      <th>Images_processed</th>\n",
       "    </tr>\n",
       "  </thead>\n",
       "  <tbody>\n",
       "    <tr>\n",
       "      <th>366</th>\n",
       "      <td>R014207810</td>\n",
       "      <td>5126</td>\n",
       "      <td>0.0</td>\n",
       "    </tr>\n",
       "    <tr>\n",
       "      <th>205</th>\n",
       "      <td>R014207766</td>\n",
       "      <td>OCT-22-TO-NOV-20-1964</td>\n",
       "      <td>0.0</td>\n",
       "    </tr>\n",
       "    <tr>\n",
       "      <th>419</th>\n",
       "      <td>R014207811</td>\n",
       "      <td>5091</td>\n",
       "      <td>0.0</td>\n",
       "    </tr>\n",
       "    <tr>\n",
       "      <th>132</th>\n",
       "      <td>R014207763</td>\n",
       "      <td>JULY-18-TO-AUG-2-1966</td>\n",
       "      <td>0.0</td>\n",
       "    </tr>\n",
       "    <tr>\n",
       "      <th>432</th>\n",
       "      <td>R014207811</td>\n",
       "      <td>5105</td>\n",
       "      <td>0.0</td>\n",
       "    </tr>\n",
       "    <tr>\n",
       "      <th>494</th>\n",
       "      <td>R014207817</td>\n",
       "      <td>May-79</td>\n",
       "      <td>0.0</td>\n",
       "    </tr>\n",
       "    <tr>\n",
       "      <th>373</th>\n",
       "      <td>R014207810</td>\n",
       "      <td>5136</td>\n",
       "      <td>0.0</td>\n",
       "    </tr>\n",
       "    <tr>\n",
       "      <th>482</th>\n",
       "      <td>R014207813</td>\n",
       "      <td>5046</td>\n",
       "      <td>0.0</td>\n",
       "    </tr>\n",
       "    <tr>\n",
       "      <th>288</th>\n",
       "      <td>R014207807</td>\n",
       "      <td>4929</td>\n",
       "      <td>0.0</td>\n",
       "    </tr>\n",
       "    <tr>\n",
       "      <th>405</th>\n",
       "      <td>R014207811</td>\n",
       "      <td>5076</td>\n",
       "      <td>0.0</td>\n",
       "    </tr>\n",
       "  </tbody>\n",
       "</table>\n",
       "</div>"
      ],
      "text/plain": [
       "      Directory           Subdirectory  Images_processed\n",
       "366  R014207810                   5126               0.0\n",
       "205  R014207766  OCT-22-TO-NOV-20-1964               0.0\n",
       "419  R014207811                   5091               0.0\n",
       "132  R014207763  JULY-18-TO-AUG-2-1966               0.0\n",
       "432  R014207811                   5105               0.0\n",
       "494  R014207817                 May-79               0.0\n",
       "373  R014207810                   5136               0.0\n",
       "482  R014207813                   5046               0.0\n",
       "288  R014207807                   4929               0.0\n",
       "405  R014207811                   5076               0.0"
      ]
     },
     "execution_count": 7,
     "metadata": {},
     "output_type": "execute_result"
    }
   ],
   "source": [
    "df2.sample(10)"
   ]
  },
  {
   "cell_type": "markdown",
   "id": "4ad69cf5",
   "metadata": {},
   "source": [
    "#  "
   ]
  },
  {
   "cell_type": "markdown",
   "id": "84f6903e",
   "metadata": {},
   "source": [
    "#### Identify outstanding subdirectories to process:"
   ]
  },
  {
   "cell_type": "markdown",
   "id": "d5e217bb",
   "metadata": {},
   "source": [
    "Check from process_log:"
   ]
  },
  {
   "cell_type": "markdown",
   "id": "41af355b",
   "metadata": {},
   "source": [
    "Look at duplicates:"
   ]
  },
  {
   "cell_type": "code",
   "execution_count": null,
   "id": "1bb2424b",
   "metadata": {},
   "outputs": [],
   "source": [
    "df_p1_ = df_process_log[df_process_log.duplicated(subset=['subdir_id'], keep=False)]\n",
    "df_p1_ = df_p1_.sort_values(['subdir_id', 'Process_timestamp'])\n",
    "print(len(df_p1_))\n",
    "df_p1_.head(10)"
   ]
  },
  {
   "cell_type": "markdown",
   "id": "de30f184",
   "metadata": {},
   "source": [
    "Find any subdirectories that have not been processed:"
   ]
  },
  {
   "cell_type": "code",
   "execution_count": null,
   "id": "ef02d6c6",
   "metadata": {},
   "outputs": [],
   "source": [
    "df_inventory = pd.read_csv(logDir + 'image_inventory.csv')\n",
    "print(len(df_inventory))\n",
    "df_inventory.head()"
   ]
  },
  {
   "cell_type": "code",
   "execution_count": null,
   "id": "aa87b3d2",
   "metadata": {},
   "outputs": [],
   "source": [
    "subdir_ids_tot = df_inventory['subdir_id'].unique()\n",
    "subdir_ids_proc = df_p1['subdir_id'].unique()\n",
    "subdir_ids_rem = list(set(subdir_ids_tot) - set(subdir_ids_proc))\n",
    "subdir_ids_rem"
   ]
  },
  {
   "cell_type": "code",
   "execution_count": null,
   "id": "1b263129",
   "metadata": {},
   "outputs": [],
   "source": []
  },
  {
   "cell_type": "markdown",
   "id": "06badb4a",
   "metadata": {},
   "source": [
    "  "
   ]
  },
  {
   "cell_type": "markdown",
   "id": "5b333fd1",
   "metadata": {},
   "source": [
    "Check from resultDir:"
   ]
  },
  {
   "cell_type": "code",
   "execution_count": null,
   "id": "74462d1b",
   "metadata": {},
   "outputs": [],
   "source": [
    "df_result = pd.DataFrame()\n",
    "i = 0\n",
    "for file in os.listdir(resultDir):\n",
    "    if 'R' in file:\n",
    "        directory = file\n",
    "        for file2 in os.listdir(resultDir + directory + '/'):\n",
    "            if 'result' in file2:\n",
    "                fn_parts = file2.split('_')\n",
    "                subdirectory = fn_parts[1].replace('.csv', '')\n",
    "                try:\n",
    "                    df_load = pd.read_csv(resultDir + directory + '/' + file2, sep=',')\n",
    "                    n = len(df_load)\n",
    "                except pd.errors.EmptyDataError:\n",
    "                    n = 0\n",
    "                row = pd.DataFrame({\n",
    "                    'Directory': directory,\n",
    "                    'Subdirectory': subdirectory,\n",
    "                    'images_result': n,\n",
    "                    'subdir_id': directory + '_' + subdirectory\n",
    "                }, index=[i])\n",
    "                df_result = pd.concat([df_result, row])\n",
    "                i += 1\n",
    "                if i % 100 == 0:\n",
    "                    print(str(i) + ': Now inspecting...' + directory + '/' + subdirectory)"
   ]
  },
  {
   "cell_type": "code",
   "execution_count": null,
   "id": "26554907",
   "metadata": {},
   "outputs": [],
   "source": [
    "print(len(df_result))\n",
    "df_result.head()"
   ]
  },
  {
   "cell_type": "code",
   "execution_count": null,
   "id": "d8b9f60d",
   "metadata": {},
   "outputs": [],
   "source": [
    "subdir_ids_tot = df_inventory['subdir_id'].unique()\n",
    "subdir_ids_res = df_result['subdir_id'].unique()\n",
    "subdir_ids_rem = list(set(subdir_ids_tot) - set(subdir_ids_res))\n",
    "subdir_ids_rem"
   ]
  },
  {
   "cell_type": "code",
   "execution_count": null,
   "id": "8939edb9",
   "metadata": {},
   "outputs": [],
   "source": [
    "df_p1_res = df_p1.merge(df_result, on=['Directory', 'Subdirectory', 'subdir_id'], how='left')\n",
    "print(len(df_p1_res))\n",
    "df_p1_res.head()"
   ]
  },
  {
   "cell_type": "code",
   "execution_count": null,
   "id": "b2efd426",
   "metadata": {},
   "outputs": [],
   "source": [
    "df1 = df_p1_res.loc[df_p1_res['Images_processed'] == 0]\n",
    "df2 = df_p1_res.loc[df_p1_res['images_result'] == 0]\n",
    "df3 = df_p1_res.loc[(df_p1_res['Images_processed'] == 0) | (df_p1_res['images_result'] == 0)]\n",
    "print(len(df1))\n",
    "print(len(df2))\n",
    "print(len(df3))\n",
    "df3.head()"
   ]
  },
  {
   "cell_type": "code",
   "execution_count": null,
   "id": "39bca5bd",
   "metadata": {},
   "outputs": [],
   "source": [
    "#df3.to_csv(logDir + 'reprocess_list.csv', index=False)"
   ]
  },
  {
   "cell_type": "markdown",
   "id": "1caba949",
   "metadata": {},
   "source": [
    "  "
   ]
  },
  {
   "cell_type": "markdown",
   "id": "61a332d0",
   "metadata": {},
   "source": [
    "Check mapped_coords:"
   ]
  },
  {
   "cell_type": "code",
   "execution_count": null,
   "id": "e9693565",
   "metadata": {},
   "outputs": [],
   "source": [
    "df_mc = pd.DataFrame()\n",
    "i = 0\n",
    "for file in os.listdir(resultDir + 'mapped_coords/'):\n",
    "    if 'R' in file:\n",
    "        directory = file\n",
    "        for file2 in os.listdir(resultDir + 'mapped_coords/' + directory + '/'):\n",
    "            subdirectory = file2\n",
    "            n = 0\n",
    "            for file3 in os.listdir(resultDir + 'mapped_coords/' + directory + '/' + subdirectory + '/'):\n",
    "                if 'mapped_coords' in file3:\n",
    "                    n += 1\n",
    "            row = pd.DataFrame({\n",
    "                'Directory': directory,\n",
    "                'Subdirectory': subdirectory,\n",
    "                'mapped_coords_result': n,\n",
    "                'subdir_id': directory + '_' + subdirectory\n",
    "            }, index=[i])\n",
    "            df_mc = pd.concat([df_mc, row])\n",
    "            i += 1\n",
    "            if i % 100 == 0:\n",
    "                    print(str(i) + ': Now inspecting...' + directory + '/' + subdirectory)"
   ]
  },
  {
   "cell_type": "code",
   "execution_count": null,
   "id": "f7785400",
   "metadata": {},
   "outputs": [],
   "source": [
    "print(len(df_mc))\n",
    "df_mc.head()"
   ]
  },
  {
   "cell_type": "code",
   "execution_count": null,
   "id": "8e2cd816",
   "metadata": {},
   "outputs": [],
   "source": [
    "df_p1_mc = df_p1.merge(df_mc, on=['Directory', 'Subdirectory', 'subdir_id'], how='left')\n",
    "print(len(df_p1_mc))\n",
    "df_p1_mc.head()"
   ]
  },
  {
   "cell_type": "code",
   "execution_count": null,
   "id": "4ff4caca",
   "metadata": {},
   "outputs": [],
   "source": [
    "df1 = df_p1_mc.loc[df_p1_mc['Images_processed'] == 0]\n",
    "df2 = df_p1_mc.loc[df_p1_mc['mapped_coords_result'] == 0]\n",
    "df2a = df_p1_mc.loc[df_p1_mc['mapped_coords_result'].isnull()]\n",
    "df3 = df_p1_mc.loc[(df_p1_mc['Images_processed'] == 0) | (df_p1_mc['mapped_coords_result'] == 0)]\n",
    "print(len(df1))\n",
    "print(len(df2))\n",
    "print(len(df2a))\n",
    "print(len(df3))\n",
    "df3"
   ]
  },
  {
   "cell_type": "code",
   "execution_count": null,
   "id": "71a05f10",
   "metadata": {},
   "outputs": [],
   "source": [
    "df4 = df_p1_mc.loc[(df_p1_mc['Images_processed'] != 0) & (df_p1_mc['mapped_coords_result'].isnull())]\n",
    "print(len(df4))\n",
    "df4"
   ]
  },
  {
   "cell_type": "code",
   "execution_count": null,
   "id": "fda57fd1",
   "metadata": {},
   "outputs": [],
   "source": [
    "#df4.to_csv(logDir + 'reprocess_list.csv', index=False)"
   ]
  },
  {
   "cell_type": "markdown",
   "id": "6dba1f27",
   "metadata": {},
   "source": [
    "#  "
   ]
  },
  {
   "cell_type": "markdown",
   "id": "d06ab26d",
   "metadata": {},
   "source": [
    "#### Concatenate results:"
   ]
  },
  {
   "cell_type": "code",
   "execution_count": null,
   "id": "69206946",
   "metadata": {},
   "outputs": [],
   "source": [
    "df_result = pd.DataFrame()\n",
    "i = 0\n",
    "for file in os.listdir(resultDir):\n",
    "    if 'R' in file:\n",
    "        directory = file\n",
    "        for file2 in os.listdir(resultDir + directory + '/'):\n",
    "            if 'result' in file2:\n",
    "                fn_parts = file2.split('_')\n",
    "                subdirectory = fn_parts[1].replace('.csv', '')\n",
    "                if i > 0:\n",
    "                    if i % 100 == 0:\n",
    "                        df_result = pd.read_csv(resultDir + 'result_total.csv')\n",
    "                        print(len(df_result))\n",
    "                try:\n",
    "                    df_load = pd.read_csv(resultDir + directory + '/' + file2, sep=',')\n",
    "                    n = len(df_load)\n",
    "                except pd.errors.EmptyDataError:\n",
    "                    n = 0\n",
    "                df_result = pd.concat([df_result, df_load])\n",
    "                i += 1\n",
    "                if i % 100 == 0:\n",
    "                    print('Now saving the ' + str(i) + 'th result...')\n",
    "                    df_result.to_csv(resultDir + 'result_total.csv', index=False)"
   ]
  },
  {
   "cell_type": "markdown",
   "id": "ee6fb3f5",
   "metadata": {},
   "source": [
    "#  "
   ]
  },
  {
   "cell_type": "markdown",
   "id": "69bb5990",
   "metadata": {},
   "source": [
    "#### Reduce columns:"
   ]
  },
  {
   "cell_type": "code",
   "execution_count": null,
   "id": "64170fa5",
   "metadata": {},
   "outputs": [],
   "source": [
    "df_result = pd.read_csv(resultDir + 'result_total.csv')\n",
    "print(len(df_result))\n",
    "df_result.head()"
   ]
  },
  {
   "cell_type": "code",
   "execution_count": null,
   "id": "a973476c",
   "metadata": {},
   "outputs": [],
   "source": [
    "df_result = df_result[['Directory', 'Subdirectory', 'filename', 'processed_image_class', 'fmin', 'max_depth', 'year', 'day', \n",
    "                       'hour', 'minute', 'second', 'station_number', 'satellite_number', 'day_1', 'day_2', 'day_3', \n",
    "                       'hour_1', 'hour_2', 'minute_1', 'minute_2', 'second_1', 'second_2', 'station_number_1', \n",
    "                       'station_number_2', 'metadata_type', 'is_dot', 'func_name', 'limits']] \n",
    "df_result.head()"
   ]
  },
  {
   "cell_type": "markdown",
   "id": "1a052473",
   "metadata": {},
   "source": [
    "#  "
   ]
  },
  {
   "cell_type": "markdown",
   "id": "401d9bc6",
   "metadata": {},
   "source": [
    "#### Adjust year to baseline 1962:"
   ]
  },
  {
   "cell_type": "code",
   "execution_count": null,
   "id": "60a2979f",
   "metadata": {},
   "outputs": [],
   "source": [
    "df_result['year'] = df_result['year'] + 1962"
   ]
  },
  {
   "cell_type": "code",
   "execution_count": null,
   "id": "c32c581c",
   "metadata": {},
   "outputs": [],
   "source": [
    "df1 = df_result.copy(deep=True)\n",
    "df1['count'] = 1\n",
    "df1 = df1.groupby(['year']).sum()\n",
    "df1 = df1.reset_index()\n",
    "df1[['year', 'count']]"
   ]
  },
  {
   "cell_type": "markdown",
   "id": "eb357ce2",
   "metadata": {},
   "source": [
    "#  "
   ]
  },
  {
   "cell_type": "markdown",
   "id": "8231a7fe",
   "metadata": {},
   "source": [
    "#### Check day digits are < 10, reprocess day of the year:"
   ]
  },
  {
   "cell_type": "code",
   "execution_count": null,
   "id": "652ecd5d",
   "metadata": {},
   "outputs": [],
   "source": [
    "df_result[['day_1', 'day_2', 'day_3', 'day']].sample(10)"
   ]
  },
  {
   "cell_type": "code",
   "execution_count": null,
   "id": "1dfe5b7a",
   "metadata": {},
   "outputs": [],
   "source": [
    "sns.histplot(data=df_result, x='day_1')"
   ]
  },
  {
   "cell_type": "code",
   "execution_count": null,
   "id": "2050ad89",
   "metadata": {},
   "outputs": [],
   "source": [
    "df_result['day_1'] = df_result['day_1'].apply(lambda x: np.nan if x>9 else x)\n",
    "df_result['day_1'] = df_result['day_1'].astype('Int64')"
   ]
  },
  {
   "cell_type": "code",
   "execution_count": null,
   "id": "3b96904a",
   "metadata": {},
   "outputs": [],
   "source": [
    "sns.histplot(data=df_result, x='day_1')"
   ]
  },
  {
   "cell_type": "code",
   "execution_count": null,
   "id": "2c5ad106",
   "metadata": {},
   "outputs": [],
   "source": [
    "sns.histplot(data=df_result, x='day_2')"
   ]
  },
  {
   "cell_type": "code",
   "execution_count": null,
   "id": "172008b4",
   "metadata": {},
   "outputs": [],
   "source": [
    "df_result['day_2'] = df_result['day_2'].apply(lambda x: np.nan if x>9 else x)\n",
    "df_result['day_2'] = df_result['day_2'].astype('Int64')"
   ]
  },
  {
   "cell_type": "code",
   "execution_count": null,
   "id": "df4dc797",
   "metadata": {},
   "outputs": [],
   "source": [
    "sns.histplot(data=df_result, x='day_2')"
   ]
  },
  {
   "cell_type": "code",
   "execution_count": null,
   "id": "e6c97e32",
   "metadata": {},
   "outputs": [],
   "source": [
    "sns.histplot(data=df_result, x='day_3')"
   ]
  },
  {
   "cell_type": "code",
   "execution_count": null,
   "id": "b96cf295",
   "metadata": {},
   "outputs": [],
   "source": [
    "df_result['day_3'] = df_result['day_3'].apply(lambda x: np.nan if x>9 else x)\n",
    "df_result['day_3'] = df_result['day_3'].astype('Int64')"
   ]
  },
  {
   "cell_type": "code",
   "execution_count": null,
   "id": "f7a36d6a",
   "metadata": {},
   "outputs": [],
   "source": [
    "sns.histplot(data=df_result, x='day_3')"
   ]
  },
  {
   "cell_type": "code",
   "execution_count": null,
   "id": "020587b3",
   "metadata": {},
   "outputs": [],
   "source": [
    "df_result_daycheck = df_result[~pd.isna(df_result['day_1'])]\n",
    "df_result_daycheck = df_result_daycheck[~pd.isna(df_result_daycheck['day_2'])]\n",
    "df_result_daycheck = df_result_daycheck[~pd.isna(df_result_daycheck['day_3'])]\n",
    "df_result_daycheck['day'] = df_result_daycheck['day_1'].astype(str) + df_result_daycheck['day_2'].astype(str) + df_result_daycheck['day_3'].astype(str)\n",
    "df_result_daycheck['day'] = df_result_daycheck['day'].astype(int)"
   ]
  },
  {
   "cell_type": "code",
   "execution_count": null,
   "id": "9f4d30a5",
   "metadata": {},
   "outputs": [],
   "source": [
    "print(len(df_result_daycheck))\n",
    "df_result_daycheck[['day_1', 'day_2', 'day_3', 'day']].sample(10)"
   ]
  },
  {
   "cell_type": "code",
   "execution_count": null,
   "id": "cb9712e9",
   "metadata": {},
   "outputs": [],
   "source": [
    "df_result_nullday = df_result.loc[pd.isna(df_result['day_1']) | pd.isna(df_result['day_2']) | pd.isna(df_result['day_3'])]"
   ]
  },
  {
   "cell_type": "code",
   "execution_count": null,
   "id": "93a0c885",
   "metadata": {},
   "outputs": [],
   "source": [
    "print(len(df_result_nullday))\n",
    "df_result_nullday[['day_1', 'day_2', 'day_3', 'day']].sample(10)"
   ]
  },
  {
   "cell_type": "code",
   "execution_count": null,
   "id": "a065848e",
   "metadata": {},
   "outputs": [],
   "source": [
    "df_result_nullday['day'] = np.nan\n",
    "df_result_nullday[['day_1', 'day_2', 'day_3', 'day']].sample(10)"
   ]
  },
  {
   "cell_type": "code",
   "execution_count": null,
   "id": "5b8521ab",
   "metadata": {},
   "outputs": [],
   "source": [
    "df_result2 = pd.concat([df_result_daycheck, df_result_nullday])\n",
    "print(len(df_result2))\n",
    "df_result2.head()"
   ]
  },
  {
   "cell_type": "markdown",
   "id": "5137f18f",
   "metadata": {},
   "source": [
    "#  "
   ]
  },
  {
   "cell_type": "markdown",
   "id": "da5aed8d",
   "metadata": {},
   "source": [
    "#### Check hour digits are < 10, reprocess hour:"
   ]
  },
  {
   "cell_type": "code",
   "execution_count": null,
   "id": "c1a4a1f9",
   "metadata": {},
   "outputs": [],
   "source": [
    "df_result2[['hour_1', 'hour_2', 'hour']].sample(10)"
   ]
  },
  {
   "cell_type": "code",
   "execution_count": null,
   "id": "a4d929d6",
   "metadata": {},
   "outputs": [],
   "source": [
    "sns.histplot(data=df_result2, x='hour_1')"
   ]
  },
  {
   "cell_type": "code",
   "execution_count": null,
   "id": "06910d95",
   "metadata": {},
   "outputs": [],
   "source": [
    "df_result2['hour_1'] = df_result2['hour_1'].apply(lambda x: np.nan if x>9 else x)\n",
    "df_result2['hour_1'] = df_result2['hour_1'].astype('Int64')"
   ]
  },
  {
   "cell_type": "code",
   "execution_count": null,
   "id": "406d2301",
   "metadata": {},
   "outputs": [],
   "source": [
    "sns.histplot(data=df_result2, x='hour_1')"
   ]
  },
  {
   "cell_type": "code",
   "execution_count": null,
   "id": "b06914ce",
   "metadata": {},
   "outputs": [],
   "source": [
    "sns.histplot(data=df_result2, x='hour_2')"
   ]
  },
  {
   "cell_type": "code",
   "execution_count": null,
   "id": "d2b32aff",
   "metadata": {},
   "outputs": [],
   "source": [
    "df_result2['hour_2'] = df_result2['hour_2'].apply(lambda x: np.nan if x>9 else x)\n",
    "df_result2['hour_2'] = df_result2['hour_2'].astype('Int64')"
   ]
  },
  {
   "cell_type": "code",
   "execution_count": null,
   "id": "6151df63",
   "metadata": {},
   "outputs": [],
   "source": [
    "sns.histplot(data=df_result2, x='hour_2')"
   ]
  },
  {
   "cell_type": "code",
   "execution_count": null,
   "id": "1758cf52",
   "metadata": {},
   "outputs": [],
   "source": [
    "df_result_hourcheck = df_result2[~pd.isna(df_result2['hour_1'])]\n",
    "df_result_hourcheck = df_result_hourcheck[~pd.isna(df_result_hourcheck['hour_2'])]\n",
    "df_result_hourcheck['hour'] = df_result_hourcheck['hour_1'].astype(str) + df_result_hourcheck['hour_2'].astype(str)\n",
    "df_result_hourcheck['hour'] = df_result_hourcheck['hour'].astype(int)"
   ]
  },
  {
   "cell_type": "code",
   "execution_count": null,
   "id": "d7afe55d",
   "metadata": {},
   "outputs": [],
   "source": [
    "print(len(df_result_hourcheck))\n",
    "df_result_hourcheck[['hour_1', 'hour_2', 'hour']].sample(10)"
   ]
  },
  {
   "cell_type": "code",
   "execution_count": null,
   "id": "4eeef082",
   "metadata": {},
   "outputs": [],
   "source": [
    "print(len(df_result_hourcheck))\n",
    "df_result_hourcheck[['hour_1', 'hour_2', 'hour']].sample(10)"
   ]
  },
  {
   "cell_type": "code",
   "execution_count": null,
   "id": "18057197",
   "metadata": {},
   "outputs": [],
   "source": [
    "df_result_nullhour = df_result2.loc[pd.isna(df_result2['hour_1']) | pd.isna(df_result2['hour_2'])]"
   ]
  },
  {
   "cell_type": "code",
   "execution_count": null,
   "id": "175b57d1",
   "metadata": {},
   "outputs": [],
   "source": [
    "print(len(df_result_nullhour))\n",
    "df_result_nullhour[['hour_1', 'hour_2', 'hour']].sample(10)"
   ]
  },
  {
   "cell_type": "code",
   "execution_count": null,
   "id": "63cfd047",
   "metadata": {},
   "outputs": [],
   "source": [
    "df_result3 = pd.concat([df_result_hourcheck, df_result_nullhour])\n",
    "print(len(df_result3))\n",
    "df_result3.head()"
   ]
  },
  {
   "cell_type": "markdown",
   "id": "c64768a9",
   "metadata": {},
   "source": [
    "#  "
   ]
  },
  {
   "cell_type": "markdown",
   "id": "8c64d365",
   "metadata": {},
   "source": [
    "#### Check minute digits are < 10, reprocess minute:"
   ]
  },
  {
   "cell_type": "code",
   "execution_count": null,
   "id": "70e77594",
   "metadata": {},
   "outputs": [],
   "source": [
    "df_result3[['minute_1', 'minute_2', 'minute']].sample(10)"
   ]
  },
  {
   "cell_type": "code",
   "execution_count": null,
   "id": "6d810c85",
   "metadata": {},
   "outputs": [],
   "source": [
    "sns.histplot(data=df_result3, x='minute_1')"
   ]
  },
  {
   "cell_type": "code",
   "execution_count": null,
   "id": "43ab49e8",
   "metadata": {},
   "outputs": [],
   "source": [
    "df_result3['minute_1'] = df_result3['minute_1'].apply(lambda x: np.nan if x>9 else x)\n",
    "df_result3['minute_1'] = df_result3['minute_1'].astype('Int64')"
   ]
  },
  {
   "cell_type": "code",
   "execution_count": null,
   "id": "9baa1910",
   "metadata": {},
   "outputs": [],
   "source": [
    "sns.histplot(data=df_result3, x='minute_1')"
   ]
  },
  {
   "cell_type": "code",
   "execution_count": null,
   "id": "17d55fbb",
   "metadata": {},
   "outputs": [],
   "source": [
    "sns.histplot(data=df_result3, x='minute_2')"
   ]
  },
  {
   "cell_type": "code",
   "execution_count": null,
   "id": "8caff332",
   "metadata": {},
   "outputs": [],
   "source": [
    "df_result3['minute_2'] = df_result3['minute_2'].apply(lambda x: np.nan if x>9 else x)\n",
    "df_result3['minute_2'] = df_result3['minute_2'].astype('Int64')"
   ]
  },
  {
   "cell_type": "code",
   "execution_count": null,
   "id": "b20dbe7e",
   "metadata": {},
   "outputs": [],
   "source": [
    "sns.histplot(data=df_result3, x='minute_2')"
   ]
  },
  {
   "cell_type": "code",
   "execution_count": null,
   "id": "118f60bd",
   "metadata": {},
   "outputs": [],
   "source": [
    "df_result_minutecheck = df_result3[~pd.isna(df_result3['minute_1'])]\n",
    "df_result_minutecheck = df_result_minutecheck[~pd.isna(df_result_minutecheck['minute_2'])]\n",
    "df_result_minutecheck['minute'] = df_result_minutecheck['minute_1'].astype(str) + df_result_minutecheck['minute_2'].astype(str)\n",
    "df_result_minutecheck['minute'] = df_result_minutecheck['minute'].astype(int)"
   ]
  },
  {
   "cell_type": "code",
   "execution_count": null,
   "id": "39862ffc",
   "metadata": {},
   "outputs": [],
   "source": [
    "print(len(df_result_minutecheck))\n",
    "df_result_minutecheck[['minute_1', 'minute_2', 'minute']].sample(10)"
   ]
  },
  {
   "cell_type": "code",
   "execution_count": null,
   "id": "dc4c92c6",
   "metadata": {},
   "outputs": [],
   "source": [
    "df_result_nullminute = df_result3.loc[pd.isna(df_result3['minute_1']) | pd.isna(df_result3['minute_2'])]"
   ]
  },
  {
   "cell_type": "code",
   "execution_count": null,
   "id": "e932f5f7",
   "metadata": {},
   "outputs": [],
   "source": [
    "print(len(df_result_nullminute))\n",
    "df_result_nullminute[['minute_1', 'minute_2', 'minute']].sample(10)"
   ]
  },
  {
   "cell_type": "code",
   "execution_count": null,
   "id": "bc83b5da",
   "metadata": {},
   "outputs": [],
   "source": [
    "df_result4 = pd.concat([df_result_minutecheck, df_result_nullminute])\n",
    "print(len(df_result4))\n",
    "df_result4.head()"
   ]
  },
  {
   "cell_type": "markdown",
   "id": "c96c3612",
   "metadata": {},
   "source": [
    "#  "
   ]
  },
  {
   "cell_type": "markdown",
   "id": "ed4f1fc9",
   "metadata": {},
   "source": [
    "#### Check second digits are < 10, reprocess second:"
   ]
  },
  {
   "cell_type": "code",
   "execution_count": null,
   "id": "27022600",
   "metadata": {},
   "outputs": [],
   "source": [
    "df_result4[['second_1', 'second_2', 'second']].sample(10)"
   ]
  },
  {
   "cell_type": "code",
   "execution_count": null,
   "id": "043092c2",
   "metadata": {},
   "outputs": [],
   "source": [
    "sns.histplot(data=df_result4, x='second_1')"
   ]
  },
  {
   "cell_type": "code",
   "execution_count": null,
   "id": "568b9a83",
   "metadata": {},
   "outputs": [],
   "source": [
    "df_result4['second_1'] = df_result4['second_1'].apply(lambda x: np.nan if x>9 else x)\n",
    "df_result4['second_1'] = df_result4['second_1'].astype('Int64')"
   ]
  },
  {
   "cell_type": "code",
   "execution_count": null,
   "id": "96505ce8",
   "metadata": {},
   "outputs": [],
   "source": [
    "sns.histplot(data=df_result4, x='second_1')"
   ]
  },
  {
   "cell_type": "code",
   "execution_count": null,
   "id": "db93b674",
   "metadata": {},
   "outputs": [],
   "source": [
    "sns.histplot(data=df_result4, x='second_2')"
   ]
  },
  {
   "cell_type": "code",
   "execution_count": null,
   "id": "93ea9a4c",
   "metadata": {},
   "outputs": [],
   "source": [
    "df_result4['second_2'] = df_result4['second_2'].apply(lambda x: np.nan if x>9 else x)\n",
    "df_result4['second_2'] = df_result4['second_2'].astype('Int64')"
   ]
  },
  {
   "cell_type": "code",
   "execution_count": null,
   "id": "afc22571",
   "metadata": {},
   "outputs": [],
   "source": [
    "sns.histplot(data=df_result4, x='second_2')"
   ]
  },
  {
   "cell_type": "code",
   "execution_count": null,
   "id": "e0375bd1",
   "metadata": {},
   "outputs": [],
   "source": [
    "df_result_secondcheck = df_result4[~pd.isna(df_result4['second_1'])]\n",
    "df_result_secondcheck = df_result_secondcheck[~pd.isna(df_result_secondcheck['second_2'])]\n",
    "df_result_secondcheck['second'] = df_result_secondcheck['second_1'].astype(str) + df_result_secondcheck['second_2'].astype(str)\n",
    "df_result_secondcheck['second'] = df_result_secondcheck['second'].astype(int)"
   ]
  },
  {
   "cell_type": "code",
   "execution_count": null,
   "id": "eb2797de",
   "metadata": {},
   "outputs": [],
   "source": [
    "print(len(df_result_secondcheck))\n",
    "df_result_secondcheck[['second_1', 'second_2', 'second']].sample(10)"
   ]
  },
  {
   "cell_type": "code",
   "execution_count": null,
   "id": "d3629cf3",
   "metadata": {},
   "outputs": [],
   "source": [
    "df_result_nullsecond = df_result4.loc[pd.isna(df_result4['second_1']) | pd.isna(df_result4['second_2'])]"
   ]
  },
  {
   "cell_type": "code",
   "execution_count": null,
   "id": "0c79f0e3",
   "metadata": {},
   "outputs": [],
   "source": [
    "print(len(df_result_nullsecond))\n",
    "df_result_nullsecond[['second_1', 'second_2', 'second']].sample(10)"
   ]
  },
  {
   "cell_type": "code",
   "execution_count": null,
   "id": "6eafde90",
   "metadata": {},
   "outputs": [],
   "source": [
    "df_result5 = pd.concat([df_result_secondcheck, df_result_nullsecond])\n",
    "print(len(df_result5))\n",
    "df_result5.head()"
   ]
  },
  {
   "cell_type": "markdown",
   "id": "88b609eb",
   "metadata": {},
   "source": [
    "#  "
   ]
  },
  {
   "cell_type": "markdown",
   "id": "30eb2c7d",
   "metadata": {},
   "source": [
    "#### Get year for 'dot' type images:"
   ]
  },
  {
   "cell_type": "code",
   "execution_count": null,
   "id": "d1bf5bfa",
   "metadata": {},
   "outputs": [],
   "source": [
    "df_dot = df_result5.loc[df_result5['processed_image_class'] == 'dot']\n",
    "print(len(df_dot))\n",
    "df_dot[['day_1', 'day_2', 'day_3', 'day', 'year']].sample(10)"
   ]
  },
  {
   "cell_type": "code",
   "execution_count": null,
   "id": "236d1767",
   "metadata": {},
   "outputs": [],
   "source": [
    "sns.histplot(data=df_dot, x='day')"
   ]
  },
  {
   "cell_type": "markdown",
   "id": "f59e880f",
   "metadata": {},
   "source": [
    "Assuming that 'day' should be between 1 and 365:"
   ]
  },
  {
   "cell_type": "code",
   "execution_count": null,
   "id": "525b680d",
   "metadata": {},
   "outputs": [],
   "source": [
    "for i in range(0, len(df_dot)):\n",
    "    day = df_dot['day'].iloc[i]\n",
    "    if (day < 366) & (day > 0):\n",
    "        if day > 271:\n",
    "            df_dot['year'].iloc[i] = 1962\n",
    "        else:\n",
    "            df_dot['year'].iloc[i] = 1963"
   ]
  },
  {
   "cell_type": "code",
   "execution_count": null,
   "id": "4df9cc19",
   "metadata": {},
   "outputs": [],
   "source": [
    "df_dot[['day_1', 'day_2', 'day_3', 'day', 'year']].sample(10)"
   ]
  },
  {
   "cell_type": "code",
   "execution_count": null,
   "id": "7487cf63",
   "metadata": {},
   "outputs": [],
   "source": [
    "df_not_dot = df_result5.loc[df_result5['processed_image_class'] != 'dot']\n",
    "print(len(df_not_dot))"
   ]
  },
  {
   "cell_type": "code",
   "execution_count": null,
   "id": "d6be7281",
   "metadata": {},
   "outputs": [],
   "source": [
    "df_result6 = pd.concat([df_dot, df_not_dot])\n",
    "print(len(df_result6))\n",
    "df_result6.head()"
   ]
  },
  {
   "cell_type": "markdown",
   "id": "f5fef539",
   "metadata": {},
   "source": [
    "#  "
   ]
  },
  {
   "cell_type": "markdown",
   "id": "e4f75857",
   "metadata": {},
   "source": [
    "#### Construct timestamp:¶"
   ]
  },
  {
   "cell_type": "code",
   "execution_count": null,
   "id": "0a06ca5a",
   "metadata": {},
   "outputs": [],
   "source": [
    "df_result6['day_of_year'] = df_result6['day']\n",
    "df_result6['day_of_year'] = df_result6['day_of_year'].apply(lambda x: np.nan if x==0 else x)\n",
    "df_result6['day_of_year'] = df_result6['day_of_year'].apply(lambda x: np.nan if x>365 else x)\n",
    "df_result6['month_day'] = pd.to_datetime(df_result6['day_of_year'], format='%j').dt.strftime('%m-%d')\n",
    "df_result6['month'] = df_result6['month_day'].str.split('-').str[0]\n",
    "df_result6['day'] = df_result6['month_day'].str.split('-').str[1]\n",
    "df_result6['hour'] = df_result6['hour'].apply(lambda x: np.nan if x>24 else x)\n",
    "df_result6['minute'] = df_result6['minute'].apply(lambda x: np.nan if x>60 else x)\n",
    "df_result6['second'] = df_result6['second'].apply(lambda x: np.nan if x>60 else x)\n",
    "df_result6['Timestamp'] = pd.to_datetime(df_result6[['year', 'month', 'day', 'hour', 'minute', 'second']], format='%Y-%m-%d %H:%M:%S')"
   ]
  },
  {
   "cell_type": "code",
   "execution_count": null,
   "id": "647a9560",
   "metadata": {},
   "outputs": [],
   "source": [
    "df_result6[['year', 'month', 'day', 'hour', 'minute', 'second', 'Timestamp']].sample(10)"
   ]
  },
  {
   "cell_type": "markdown",
   "id": "4721a238",
   "metadata": {},
   "source": [
    "#  "
   ]
  },
  {
   "cell_type": "markdown",
   "id": "ddac4097",
   "metadata": {},
   "source": [
    "#### Check station number digits are < 10, reprocess station number:"
   ]
  },
  {
   "cell_type": "code",
   "execution_count": null,
   "id": "033091cc",
   "metadata": {},
   "outputs": [],
   "source": [
    "df_result6[['station_number_1', 'station_number_2', 'station_number']].sample(10)"
   ]
  },
  {
   "cell_type": "code",
   "execution_count": null,
   "id": "de04067b",
   "metadata": {},
   "outputs": [],
   "source": [
    "sns.histplot(data=df_result6, x='station_number_1')"
   ]
  },
  {
   "cell_type": "code",
   "execution_count": null,
   "id": "9c52d3f7",
   "metadata": {},
   "outputs": [],
   "source": [
    "df_result6['station_number_1'] = df_result6['station_number_1'].apply(lambda x: np.nan if x>9 else x)\n",
    "df_result6['station_number_1'] = df_result6['station_number_1'].astype('Int64')"
   ]
  },
  {
   "cell_type": "code",
   "execution_count": null,
   "id": "190e453e",
   "metadata": {},
   "outputs": [],
   "source": [
    "sns.histplot(data=df_result6, x='station_number_1')"
   ]
  },
  {
   "cell_type": "code",
   "execution_count": null,
   "id": "59097008",
   "metadata": {},
   "outputs": [],
   "source": [
    "sns.histplot(data=df_result6, x='station_number_2')"
   ]
  },
  {
   "cell_type": "code",
   "execution_count": null,
   "id": "6adc663f",
   "metadata": {},
   "outputs": [],
   "source": [
    "df_result6['station_number_2'] = df_result6['station_number_2'].apply(lambda x: np.nan if x>9 else x)\n",
    "df_result6['station_number_2'] = df_result6['station_number_2'].astype('Int64')"
   ]
  },
  {
   "cell_type": "code",
   "execution_count": null,
   "id": "31aa5071",
   "metadata": {},
   "outputs": [],
   "source": [
    "sns.histplot(data=df_result6, x='station_number_2')"
   ]
  },
  {
   "cell_type": "code",
   "execution_count": null,
   "id": "dc6a8383",
   "metadata": {},
   "outputs": [],
   "source": [
    "df_result_stnnumcheck = df_result6[~pd.isna(df_result6['station_number_1'])]\n",
    "df_result_stnnumcheck = df_result_stnnumcheck[~pd.isna(df_result_stnnumcheck['station_number_2'])]\n",
    "df_result_stnnumcheck['station_number'] = df_result_stnnumcheck['station_number_1'].astype(str) + df_result_stnnumcheck['station_number_2'].astype(str)\n",
    "df_result_stnnumcheck['station_number'] = df_result_stnnumcheck['station_number'].astype(int)"
   ]
  },
  {
   "cell_type": "code",
   "execution_count": null,
   "id": "1803e345",
   "metadata": {},
   "outputs": [],
   "source": [
    "print(len(df_result_stnnumcheck))\n",
    "df_result_stnnumcheck[['station_number_1', 'station_number_2', 'station_number']].sample(10)"
   ]
  },
  {
   "cell_type": "code",
   "execution_count": null,
   "id": "04aaa9b7",
   "metadata": {},
   "outputs": [],
   "source": [
    "df_result_nullstnnum = df_result6.loc[pd.isna(df_result6['station_number_1']) | pd.isna(df_result6['station_number_2'])]"
   ]
  },
  {
   "cell_type": "code",
   "execution_count": null,
   "id": "e34153e7",
   "metadata": {},
   "outputs": [],
   "source": [
    "print(len(df_result_nullstnnum))\n",
    "df_result_nullstnnum[['station_number_1', 'station_number_2', 'station_number']].sample(10)"
   ]
  },
  {
   "cell_type": "code",
   "execution_count": null,
   "id": "f45662bd",
   "metadata": {},
   "outputs": [],
   "source": [
    "df_result7 = pd.concat([df_result_stnnumcheck, df_result_nullstnnum])\n",
    "print(len(df_result7))\n",
    "df_result7.head()"
   ]
  },
  {
   "cell_type": "markdown",
   "id": "ec299110",
   "metadata": {},
   "source": [
    "#  "
   ]
  },
  {
   "cell_type": "markdown",
   "id": "c2254cb8",
   "metadata": {},
   "source": [
    "#### Retrieve correct station code:"
   ]
  },
  {
   "cell_type": "code",
   "execution_count": null,
   "id": "a6d36e6f",
   "metadata": {},
   "outputs": [],
   "source": [
    "df_stn_nums = pd.read_excel(dataDir + 'station_number_changes.xlsx')\n",
    "df_stn_nums.head()b"
   ]
  },
  {
   "cell_type": "markdown",
   "id": "ed4dc814",
   "metadata": {},
   "source": [
    "Partition results by the change dates, and merge in Station_Code:"
   ]
  },
  {
   "cell_type": "code",
   "execution_count": null,
   "id": "4ee6aa55",
   "metadata": {},
   "outputs": [],
   "source": [
    "change_dates = df_stn_nums['Start_Date'].drop_duplicates().sort_values().reset_index(drop=True)\n",
    "change_dates"
   ]
  },
  {
   "cell_type": "code",
   "execution_count": null,
   "id": "2b5150f5",
   "metadata": {},
   "outputs": [],
   "source": [
    "stn_nums = df_stn_nums['Station_Number'].unique()\n",
    "stn_nums"
   ]
  },
  {
   "cell_type": "code",
   "execution_count": null,
   "id": "52c81c94",
   "metadata": {},
   "outputs": [],
   "source": [
    "df_result8 = pd.DataFrame()\n",
    "for i in range(0, len(change_dates)):\n",
    "    #Before the first change date - Assume there are no station numbers before launch\n",
    "    if i == 0:\n",
    "        print(change_dates[i])\n",
    "        df_part = df_result7.loc[df_result7['Timestamp'] < change_dates[i]]\n",
    "        df_result8 = pd.concat([df_result8, df_part])\n",
    "        print(len(df_result8))\n",
    "    \n",
    "    elif i > 0:\n",
    "        print(change_dates[i])\n",
    "        df_part_ = df_result7.loc[df_result7['Timestamp'] < change_dates[i]]\n",
    "        df_part_ = df_part_.loc[df_part_['Timestamp'] >= change_dates[i-1]]\n",
    "        \n",
    "        df_sns = pd.DataFrame()\n",
    "        for sn in stn_nums:\n",
    "            df_sn = df_stn_nums.loc[df_stn_nums['Station_Number'] == sn]\n",
    "            df_sn = df_sn.loc[df_sn['Start_Date'] < change_dates[i]]\n",
    "            if len(df_sn) > 1:\n",
    "                df_sn = df_sn.sort_values('Start_Date', ascending=False)\n",
    "                df_sn = df_sn.iloc[:1]\n",
    "            df_sns = pd.concat([df_sns, df_sn])\n",
    "        \n",
    "        df_part = df_part_.merge(df_sns[['Station_Number', 'Station_Code']], how='left', left_on='station_number', right_on='Station_Number')\n",
    "        df_result8 = pd.concat([df_result8, df_part])\n",
    "        print(len(df_result8))\n",
    "\n",
    "#After last change date\n",
    "last_change_date = change_dates[len(change_dates)-1]\n",
    "print('After ' + str(last_change_date))\n",
    "df_part_ = df_result7.loc[df_result7['Timestamp'] > last_change_date]\n",
    "\n",
    "df_sns = pd.DataFrame()\n",
    "for sn in stn_nums:\n",
    "    df_sn = df_stn_nums.loc[df_stn_nums['Station_Number'] == sn]\n",
    "    if len(df_sn) > 1:\n",
    "        df_sn = df_sn.sort_values('Start_Date', ascending=False)\n",
    "        df_sn = df_sn.iloc[:1]\n",
    "    df_sns = pd.concat([df_sns, df_sn])\n",
    "\n",
    "df_part = df_part_.merge(df_sns[['Station_Number', 'Station_Code']], how='left', left_on='station_number', right_on='Station_Number')\n",
    "df_result8 = pd.concat([df_result8, df_part])\n",
    "print(len(df_result8))"
   ]
  },
  {
   "cell_type": "code",
   "execution_count": null,
   "id": "5e8622b5",
   "metadata": {},
   "outputs": [],
   "source": [
    "print(len(df_result8))\n",
    "df_result8[['station_number', 'Station_Number', 'Timestamp', 'Station_Code']].sample(10)"
   ]
  },
  {
   "cell_type": "markdown",
   "id": "932915ab",
   "metadata": {},
   "source": [
    "Add part with null Timestamp:"
   ]
  },
  {
   "cell_type": "code",
   "execution_count": null,
   "id": "b4b2cded",
   "metadata": {},
   "outputs": [],
   "source": [
    "df_part_null = df_result7.loc[pd.isna(df_result7['Timestamp'])]\n",
    "print(len(df_part_null))\n",
    "df_part_null.head()"
   ]
  },
  {
   "cell_type": "code",
   "execution_count": null,
   "id": "109c8515",
   "metadata": {},
   "outputs": [],
   "source": [
    "df_result8 = pd.concat([df_result8, df_part_null])"
   ]
  },
  {
   "cell_type": "code",
   "execution_count": null,
   "id": "fecc5b2e",
   "metadata": {},
   "outputs": [],
   "source": [
    "print(len(df_result8))\n",
    "df_result8[['station_number', 'Station_Number', 'Timestamp', 'Station_Code']].sample(10)"
   ]
  },
  {
   "cell_type": "markdown",
   "id": "e19801eb",
   "metadata": {},
   "source": [
    "#  "
   ]
  },
  {
   "cell_type": "markdown",
   "id": "d562a816",
   "metadata": {},
   "source": [
    "#### Get station details:¶"
   ]
  },
  {
   "cell_type": "code",
   "execution_count": 1,
   "id": "99a8d8b5",
   "metadata": {},
   "outputs": [
    {
     "ename": "NameError",
     "evalue": "name 'pd' is not defined",
     "output_type": "error",
     "traceback": [
      "\u001b[1;31m---------------------------------------------------------------------------\u001b[0m",
      "\u001b[1;31mNameError\u001b[0m                                 Traceback (most recent call last)",
      "\u001b[1;32m<ipython-input-1-c420879a6f36>\u001b[0m in \u001b[0;36m<module>\u001b[1;34m\u001b[0m\n\u001b[1;32m----> 1\u001b[1;33m \u001b[0mdf_stns\u001b[0m \u001b[1;33m=\u001b[0m \u001b[0mpd\u001b[0m\u001b[1;33m.\u001b[0m\u001b[0mread_csv\u001b[0m\u001b[1;33m(\u001b[0m\u001b[0mdataDir\u001b[0m \u001b[1;33m+\u001b[0m \u001b[1;34m'ground_stations.csv'\u001b[0m\u001b[1;33m)\u001b[0m\u001b[1;33m\u001b[0m\u001b[1;33m\u001b[0m\u001b[0m\n\u001b[0m\u001b[0;32m      2\u001b[0m \u001b[0mdf_stns\u001b[0m\u001b[1;33m.\u001b[0m\u001b[0mhead\u001b[0m\u001b[1;33m(\u001b[0m\u001b[1;33m)\u001b[0m\u001b[1;33m\u001b[0m\u001b[1;33m\u001b[0m\u001b[0m\n",
      "\u001b[1;31mNameError\u001b[0m: name 'pd' is not defined"
     ]
    }
   ],
   "source": [
    "df_stns = pd.read_csv(dataDir + 'ground_stations.csv')\n",
    "df_stns.head()"
   ]
  },
  {
   "cell_type": "code",
   "execution_count": null,
   "id": "6cbf9b3d",
   "metadata": {},
   "outputs": [],
   "source": [
    "df_result9 = df_result8.merge(df_stns[['Station_Code', 'Station_Name', 'Lat', 'Lng']], how='left', on='Station_Code')"
   ]
  },
  {
   "cell_type": "code",
   "execution_count": null,
   "id": "609f8660",
   "metadata": {},
   "outputs": [],
   "source": [
    "print(len(df_result9))\n",
    "df_result9[['Station_Number', 'Timestamp', 'Station_Code', 'Station_Name', 'Lat', 'Lng']].sample(10)"
   ]
  },
  {
   "cell_type": "markdown",
   "id": "7cab260f",
   "metadata": {},
   "source": [
    "#  "
   ]
  },
  {
   "cell_type": "markdown",
   "id": "3ab2315a",
   "metadata": {},
   "source": [
    "#### Save:"
   ]
  },
  {
   "cell_type": "code",
   "execution_count": null,
   "id": "beb8bdc7",
   "metadata": {},
   "outputs": [],
   "source": [
    "df_result9 = df_result9.sort_values('Timestamp').reset_index(drop=True)\n",
    "df_result9.to_csv(resultDir + 'result_total2.csv', index=False)"
   ]
  }
 ],
 "metadata": {
  "kernelspec": {
   "display_name": "Python 3",
   "language": "python",
   "name": "python3"
  },
  "language_info": {
   "codemirror_mode": {
    "name": "ipython",
    "version": 3
   },
   "file_extension": ".py",
   "mimetype": "text/x-python",
   "name": "python",
   "nbconvert_exporter": "python",
   "pygments_lexer": "ipython3",
   "version": "3.8.8"
  }
 },
 "nbformat": 4,
 "nbformat_minor": 5
}

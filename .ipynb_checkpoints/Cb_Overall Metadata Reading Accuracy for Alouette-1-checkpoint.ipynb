{
 "cells": [
  {
   "cell_type": "code",
   "execution_count": 1,
   "id": "c06304c4",
   "metadata": {},
   "outputs": [],
   "source": [
    "import os\n",
    "import numpy as np\n",
    "import pandas as pd\n",
    "import seaborn as sns\n",
    "import matplotlib.pyplot as plt"
   ]
  },
  {
   "cell_type": "code",
   "execution_count": 2,
   "id": "9f62b754",
   "metadata": {},
   "outputs": [],
   "source": [
    "rootDir_I = 'L:/DATA/Alouette_I/BATCH_I_Run2/'\n",
    "resultDir_I = rootDir_I + '05_result/'\n",
    "logDir_I = rootDir_I + '06_log/'"
   ]
  },
  {
   "cell_type": "code",
   "execution_count": 3,
   "id": "ca022b26",
   "metadata": {},
   "outputs": [],
   "source": [
    "rootDir_II = 'L:/DATA/Alouette_I/BATCH_II_Run2/'\n",
    "resultDir_II = rootDir_II + '05_result/'\n",
    "logDir_II = rootDir_II + '06_log/'"
   ]
  },
  {
   "cell_type": "code",
   "execution_count": 4,
   "id": "c8040d0c",
   "metadata": {},
   "outputs": [],
   "source": [
    "rootDir_tot = 'L:/DATA/Alouette_I/Total/'\n",
    "resultDir_tot = rootDir_tot + '05_result/'\n",
    "logDir_tot = rootDir_tot + '06_log/'"
   ]
  },
  {
   "cell_type": "markdown",
   "id": "c4b1e24d",
   "metadata": {},
   "source": [
    "## Num Category"
   ]
  },
  {
   "cell_type": "code",
   "execution_count": 5,
   "id": "9c64fb97",
   "metadata": {},
   "outputs": [
    {
     "name": "stdout",
     "output_type": "stream",
     "text": [
      "Total number of NUM Ionograms in Batch I: 465009\n",
      "Total number of NUM Ionograms in Batch II : 114045\n",
      "Total number of NUM Ionograms in both batches: 579054\n"
     ]
    }
   ],
   "source": [
    "#Total Number of Num Categories\n",
    "df_I = pd.read_csv(resultDir_I + 'result_master.csv') #Batch I\n",
    "filter_df_I = df_I[df_I['processed_image_class']=='num']\n",
    "total_df_I = len(filter_df_I)\n",
    "print ('Total number of NUM Ionograms in Batch I:', total_df_I)\n",
    "\n",
    "df_II = pd.read_csv(resultDir_II + 'result_master.csv') #Batch II\n",
    "filter_df_II = df_II[df_II['processed_image_class']=='num']\n",
    "total_df_II = len(filter_df_II)\n",
    "print ('Total number of NUM Ionograms in Batch II :', total_df_II)\n",
    "\n",
    "Total_num = total_df_I + total_df_II #combining Batch I and Batch II num data\n",
    "print ('Total number of NUM Ionograms in both batches:', Total_num)"
   ]
  },
  {
   "cell_type": "markdown",
   "id": "499d28b5",
   "metadata": {},
   "source": [
    "### Batch I"
   ]
  },
  {
   "cell_type": "code",
   "execution_count": 6,
   "id": "86954d59",
   "metadata": {},
   "outputs": [
    {
     "name": "stdout",
     "output_type": "stream",
     "text": [
      "Number of Images Analyzed in BATCH I: 49\n",
      "Number of \"year\" element categorized correctly: 48\n",
      "Percent reading accuracy of the \"year\" element: 97.95918367346938\n",
      "Number of \"Day1\" element categorized correctly: 48\n",
      "Percent reading accuracy of the \"Day1\" element: 97.95918367346938\n",
      "Number of \"Day2\" element categorized correctly: 48\n",
      "Percent reading accuracy of the \"Day2\" element: 97.95918367346938\n",
      "Number of \"Day3\" element categorized correctly: 48\n",
      "Percent reading accuracy of the \"Day3\" element: 97.95918367346938\n",
      "Number of \"Hour_1\" element categorized correctly: 48\n",
      "Percent reading accuracy of the \"Hour_1\" element: 97.95918367346938\n",
      "Number of \"Hour_2\" element categorized correctly: 48\n",
      "Percent reading accuracy of the \"Hour_2\" element: 97.95918367346938\n",
      "Number of \"Min_1\" element categorized correctly: 48\n",
      "Percent reading accuracy of the \"Min_1\" element: 97.95918367346938\n",
      "Number of \"Min_2\" element categorized correctly: 48\n",
      "Percent reading accuracy of the \"Min_2\" element: 97.95918367346938\n",
      "Number of \"Sec_1\" element categorized correctly: 48\n",
      "Percent reading accuracy of the \"Sec_1\" element: 97.95918367346938\n",
      "Number of \"Sec_2\" element categorized correctly: 45\n",
      "Percent reading accuracy of the \"Sec_2\" element: 91.83673469387756\n",
      "Number of the \"Station\" element categorized correctly: 48\n",
      "Percent reading accuracy of the \"Station\" element: 97.95918367346938\n"
     ]
    },
    {
     "data": {
      "image/png": "[encoded data removed]",
      "text/plain": [
       "<Figure size 720x360 with 1 Axes>"
      ]
     },
     "metadata": {
      "needs_background": "light"
     },
     "output_type": "display_data"
    }
   ],
   "source": [
    "df_I = pd.read_csv(\"L:/DATA/Alouette_I/BATCH_I_Run2/07_Accuracy/BatchI_QA.csv\") \n",
    "total_I = len(df_I)\n",
    "print ('Number of Images Analyzed in BATCH I:', total_I)\n",
    "\n",
    "# BATCH II - filtering out correctly identified elements \n",
    "df_I_year = df_I['year'].sum()\n",
    "print('Number of \"year\" element categorized correctly:', df_I_year)\n",
    "percent_df_I_year = (df_I_year/total_I)*100\n",
    "print('Percent reading accuracy of the \"year\" element:', percent_df_I_year)\n",
    "\n",
    "df_I_Day1 = df_I['Day_1'].sum()\n",
    "print('Number of \"Day1\" element categorized correctly:', df_I_Day1)\n",
    "percent_df_I_Day1 = (df_I_Day1/total_I)*100\n",
    "print('Percent reading accuracy of the \"Day1\" element:', percent_df_I_Day1)\n",
    "\n",
    "df_I_Day2 = df_I['Day_2'].sum()\n",
    "print('Number of \"Day2\" element categorized correctly:', df_I_Day2)\n",
    "percent_df_I_Day2 = (df_I_Day2/total_I)*100\n",
    "print('Percent reading accuracy of the \"Day2\" element:', percent_df_I_Day2)\n",
    "\n",
    "df_I_Day3 = df_I['Day_3'].sum()\n",
    "print('Number of \"Day3\" element categorized correctly:', df_I_Day3)\n",
    "percent_df_I_Day3 = (df_I_Day3/total_I)*100\n",
    "print('Percent reading accuracy of the \"Day3\" element:', percent_df_I_Day3)\n",
    "\n",
    "df_I_Hour1 = df_I['Hour_1'].sum()\n",
    "print('Number of \"Hour_1\" element categorized correctly:', df_I_Hour1)\n",
    "percent_df_I_Hour1 = (df_I_Hour1/total_I)*100\n",
    "print('Percent reading accuracy of the \"Hour_1\" element:', percent_df_I_Hour1)\n",
    "\n",
    "df_I_Hour2 = df_I['Hour_2'].sum()\n",
    "print('Number of \"Hour_2\" element categorized correctly:', df_I_Hour2)\n",
    "percent_df_I_Hour2 = (df_I_Hour2/total_I)*100\n",
    "print('Percent reading accuracy of the \"Hour_2\" element:', percent_df_I_Hour2)\n",
    "\n",
    "df_I_min1 = df_I['Min_1'].sum()\n",
    "print('Number of \"Min_1\" element categorized correctly:', df_I_min1)\n",
    "percent_df_I_min1 = (df_I_min1/total_I)*100\n",
    "print('Percent reading accuracy of the \"Min_1\" element:', percent_df_I_min1 )\n",
    "\n",
    "df_I_min2 = df_I['Min_2'].sum()\n",
    "print('Number of \"Min_2\" element categorized correctly:', df_I_min2)\n",
    "percent_df_I_min2 = (df_I_min2/total_I)*100\n",
    "print('Percent reading accuracy of the \"Min_2\" element:', percent_df_I_min2)\n",
    "\n",
    "df_I_sec1 = df_I['Sec_1'].sum()\n",
    "print('Number of \"Sec_1\" element categorized correctly:', df_I_sec1)\n",
    "percent_df_I_sec1 = (df_I_sec1/total_I)*100\n",
    "print('Percent reading accuracy of the \"Sec_1\" element:', percent_df_I_sec1)\n",
    "\n",
    "df_I_sec2 = df_I['Sec_2'].sum()\n",
    "print('Number of \"Sec_2\" element categorized correctly:', df_I_sec2)\n",
    "percent_df_I_sec2 = (df_I_sec2/total_I)*100\n",
    "print('Percent reading accuracy of the \"Sec_2\" element:', percent_df_I_sec2)\n",
    "\n",
    "df_I_station = df_I['Station_number'].sum()\n",
    "print('Number of the \"Station\" element categorized correctly:', df_I_station)\n",
    "percent_df_I_station = (df_I_station/total_I)*100\n",
    "print('Percent reading accuracy of the \"Station\" element:', percent_df_I_station)\n",
    "\n",
    "#Graphing the % reading accuracy of the elements\n",
    "BatchI_dataset = {'Year':percent_df_I_year, 'Day1':percent_df_I_Day1, 'Day2': percent_df_I_Day2, \n",
    "                  'Day3': percent_df_I_Day3, 'Hour1':percent_df_I_Hour1, 'Hour2':percent_df_I_Hour2,\n",
    "                  'Min1': percent_df_I_min1, 'Min2':percent_df_I_min2, 'Sec1':percent_df_I_sec1,\n",
    "                  'Sec2':percent_df_I_sec2, 'Station': percent_df_I_station}\n",
    "x = list(BatchI_dataset.keys())\n",
    "y = list(BatchI_dataset.values())\n",
    "fig = plt.figure(figsize = (10, 5))\n",
    " \n",
    "# creating the bar plot\n",
    "plt.bar(x, y)\n",
    "plt.ylim(85, 100)\n",
    "plt.title (\"% Reading accuracy of the NUM metadata elements in Batch I\")\n",
    "plt.xlabel(\"NUM metadata elements - Batch I\")\n",
    "plt.ylabel(\"Reading Accuracy (%)\")\n",
    "plt.xticks(rotation=90)\n",
    "plt.show()"
   ]
  },
  {
   "cell_type": "code",
   "execution_count": 7,
   "id": "3ee3c8cd",
   "metadata": {},
   "outputs": [
    {
     "name": "stdout",
     "output_type": "stream",
     "text": [
      "Number of Ionograms categorized correctly consistently: 45\n",
      "Estimated Success Rate out of BATCH I with 465,009 ionograms: 427049\n",
      "Number of incorrectly analyzed ionograms across all categories: 1\n",
      "     Directory Subdirectory       filename\n",
      "3  R014207909F          713  Image0317.png\n"
     ]
    }
   ],
   "source": [
    "# BATCH I - Summary\n",
    "df_I = df_I.loc[df_I['Issue'] != 'None'] \n",
    "filtered_down_I = len(df_I)\n",
    "print('Number of Ionograms categorized correctly consistently:', total_I - filtered_down_I)\n",
    "\n",
    "#BATCH I - Estimated success rate Batch I\n",
    "success_rate = (total_I - filtered_down_I)/total_I \n",
    "Estimation = round(success_rate*total_df_I)\n",
    "print('Estimated Success Rate out of BATCH I with 465,009 ionograms:', Estimation)\n",
    "\n",
    "# Number of All categories error\n",
    "df_I = df_I.loc[df_I['Issue'] == 'All categories']\n",
    "filtered_down_I = len(df_I)\n",
    "print('Number of incorrectly analyzed ionograms across all categories:', filtered_down_I)\n",
    "print(df_I.loc[:,[\"Directory\",\"Subdirectory\", \"filename\"]])"
   ]
  },
  {
   "cell_type": "markdown",
   "id": "a2d4a7ee",
   "metadata": {},
   "source": [
    "### Batch II"
   ]
  },
  {
   "cell_type": "code",
   "execution_count": 8,
   "id": "c13a0435",
   "metadata": {},
   "outputs": [
    {
     "name": "stdout",
     "output_type": "stream",
     "text": [
      "Number of Images Analyzed in BATCH II: 50\n",
      "Number of \"year\" element categorized correctly: 45\n",
      "Percent reading accuracy of the \"year\" element: 90.0\n",
      "Number of \"Day1\" element categorized correctly: 46\n",
      "Percent reading accuracy of the \"Day1\" element: 92.0\n",
      "Number of \"Day2\" element categorized correctly: 46\n",
      "Percent reading accuracy of the \"Day2\" element: 92.0\n",
      "Number of \"Day3\" element categorized correctly: 45\n",
      "Percent reading accuracy of the \"Day3\" element: 90.0\n",
      "Number of \"Hour_1\" element categorized correctly: 45\n",
      "Percent reading accuracy of the \"Hour_1\" element: 90.0\n",
      "Number of \"Hour_2\" element categorized correctly: 45\n",
      "Percent reading accuracy of the \"Hour_2\" element: 90.0\n",
      "Number of \"Min_1\" element categorized correctly: 46\n",
      "Percent reading accuracy of the \"Min_1\" element: 92.0\n",
      "Number of \"Min_2\" element categorized correctly: 46\n",
      "Percent reading accuracy of the \"Min_2\" element: 92.0\n",
      "Number of \"Sec_1\" element categorized correctly: 46\n",
      "Percent reading accuracy of the \"Sec_1\" element: 92.0\n",
      "Number of \"Sec_2\" element categorized correctly: 46\n",
      "Percent reading accuracy of the \"Sec_2\" element: 92.0\n",
      "Number of the \"Station\" element categorized correctly: 46\n",
      "Percent reading accuracy of the \"Station\" element: 92.0\n"
     ]
    },
    {
     "data": {
      "image/png": "[encoded data removed]",
      "text/plain": [
       "<Figure size 720x360 with 1 Axes>"
      ]
     },
     "metadata": {
      "needs_background": "light"
     },
     "output_type": "display_data"
    }
   ],
   "source": [
    "df_II = pd.read_csv(\"L:/DATA/Alouette_I/BATCH_II_Run2/07_MQA/Batch2_QA_num.csv\") \n",
    "total_II = len(df_II)\n",
    "print ('Number of Images Analyzed in BATCH II:', total_II)\n",
    "\n",
    "# BATCH II - filtering out correctly identified elements \n",
    "df_II_year = df_II['year'].sum()\n",
    "print('Number of \"year\" element categorized correctly:', df_II_year)\n",
    "percent_df_II_year = (df_II_year/total_II)*100\n",
    "print('Percent reading accuracy of the \"year\" element:', percent_df_II_year)\n",
    "\n",
    "df_II_Day1 = df_II['Day_1'].sum()\n",
    "print('Number of \"Day1\" element categorized correctly:', df_II_Day1)\n",
    "percent_df_II_Day1 = (df_II_Day1/total_II)*100\n",
    "print('Percent reading accuracy of the \"Day1\" element:', percent_df_II_Day1)\n",
    "\n",
    "df_II_Day2 = df_II['Day_2'].sum()\n",
    "print('Number of \"Day2\" element categorized correctly:', df_II_Day2)\n",
    "percent_df_II_Day2 = (df_II_Day2/total_II)*100\n",
    "print('Percent reading accuracy of the \"Day2\" element:', percent_df_II_Day2)\n",
    "\n",
    "df_II_Day3 = df_II['Day_3'].sum()\n",
    "print('Number of \"Day3\" element categorized correctly:', df_II_Day3)\n",
    "percent_df_II_Day3 = (df_II_Day3/total_II)*100\n",
    "print('Percent reading accuracy of the \"Day3\" element:', percent_df_II_Day3)\n",
    "\n",
    "df_II_Hour1 = df_II['Hour_1'].sum()\n",
    "print('Number of \"Hour_1\" element categorized correctly:', df_II_Hour1)\n",
    "percent_df_II_Hour1 = (df_II_Hour1/total_II)*100\n",
    "print('Percent reading accuracy of the \"Hour_1\" element:', percent_df_II_Hour1)\n",
    "\n",
    "df_II_Hour2 = df_II['Hour_2'].sum()\n",
    "print('Number of \"Hour_2\" element categorized correctly:', df_II_Hour2)\n",
    "percent_df_II_Hour2 = (df_II_Hour2/total_II)*100\n",
    "print('Percent reading accuracy of the \"Hour_2\" element:', percent_df_II_Hour2)\n",
    "\n",
    "df_II_min1 = df_II['Min_1'].sum()\n",
    "print('Number of \"Min_1\" element categorized correctly:', df_II_min1)\n",
    "percent_df_II_min1 = (df_II_min1/total_II)*100\n",
    "print('Percent reading accuracy of the \"Min_1\" element:', percent_df_II_min1 )\n",
    "\n",
    "df_II_min2 = df_II['Min_2'].sum()\n",
    "print('Number of \"Min_2\" element categorized correctly:', df_II_min2)\n",
    "percent_df_II_min2 = (df_II_min2/total_II)*100\n",
    "print('Percent reading accuracy of the \"Min_2\" element:', percent_df_II_min2)\n",
    "\n",
    "df_II_sec1 = df_II['Sec_1'].sum()\n",
    "print('Number of \"Sec_1\" element categorized correctly:', df_II_sec1)\n",
    "percent_df_II_sec1 = (df_II_sec1/total_II)*100\n",
    "print('Percent reading accuracy of the \"Sec_1\" element:', percent_df_II_sec1)\n",
    "\n",
    "df_II_sec2 = df_II['Sec_2'].sum()\n",
    "print('Number of \"Sec_2\" element categorized correctly:', df_II_sec2)\n",
    "percent_df_II_sec2 = (df_II_sec2/total_II)*100\n",
    "print('Percent reading accuracy of the \"Sec_2\" element:', percent_df_II_sec2)\n",
    "\n",
    "df_II_station = df_II['Station_number'].sum()\n",
    "print('Number of the \"Station\" element categorized correctly:', df_II_station)\n",
    "percent_df_II_station = (df_II_station/total_II)*100\n",
    "print('Percent reading accuracy of the \"Station\" element:', percent_df_II_station)\n",
    "\n",
    "#Graphing the % reading accuracy of the elements\n",
    "BatchII_dataset = {'Year':percent_df_II_year, 'Day1':percent_df_II_Day1, 'Day2': percent_df_II_Day2, \n",
    "                  'Day3': percent_df_II_Day3, 'Hour1':percent_df_II_Hour1, 'Hour2':percent_df_II_Hour2,\n",
    "                  'Min1': percent_df_II_min1, 'Min2':percent_df_II_min2, 'Sec1':percent_df_II_sec1,\n",
    "                  'Sec2':percent_df_II_sec2, 'Station': percent_df_II_station}\n",
    "x = list(BatchII_dataset.keys())\n",
    "y = list(BatchII_dataset.values())\n",
    "fig = plt.figure(figsize = (10, 5))\n",
    " \n",
    "# creating the bar plot\n",
    "plt.bar(x, y)\n",
    "plt.ylim(75, 100)\n",
    "plt.title (\"% Reading accuracy of the NUM metadata elements in Batch II\")\n",
    "plt.xlabel(\"NUM metadata elements - Batch II\")\n",
    "plt.ylabel(\"Reading Accuracy (%)\")\n",
    "plt.xticks(rotation=90)\n",
    "plt.show()\n"
   ]
  },
  {
   "cell_type": "code",
   "execution_count": 9,
   "id": "d67fc874",
   "metadata": {},
   "outputs": [
    {
     "name": "stdout",
     "output_type": "stream",
     "text": [
      "Batch II Summary:\n",
      "Total number of Ionograms categorized correctly consistently: 45\n",
      "Estimated Success Rate of BATCH II with 123,975 ionograms: 102640\n",
      "The \"All Category\" error is due to the number of NUM2 ionograms incorrectly categorized as Num data by the algorithm: 4\n",
      "     Directory Subdirectory filename\n",
      "11  R014207820      2979-5B  109.png\n",
      "16  R014207825     3729-19A  105.png\n",
      "44  R014207808      4575-50   14.png\n",
      "49  R014207819      4757-15   77.png\n"
     ]
    }
   ],
   "source": [
    "# BATCH II - Summary\n",
    "df_II = df_II.loc[df_II['Issue'] != 'None']\n",
    "filtered_down_II = len(df_II)\n",
    "print ('Batch II Summary:')\n",
    "print('Total number of Ionograms categorized correctly consistently:', total_II - filtered_down_II)\n",
    "\n",
    "#BATCH II - Estimated success rate\n",
    "success_rate = (total_II - filtered_down_II)/total_II\n",
    "Estimation = round(success_rate*total_df_II)\n",
    "print('Estimated Success Rate of BATCH II with 123,975 ionograms:', Estimation)\n",
    "\n",
    "# Number of All categories error\n",
    "df_II = df_II.loc[df_II['Issue'] == 'All category']\n",
    "filtered_down_II = len(df_II)\n",
    "print('The \"All Category\" error is due to the number of NUM2 ionograms incorrectly categorized as Num data by the algorithm:', filtered_down_II)\n",
    "print(df_II.loc[:,[\"Directory\",\"Subdirectory\", \"filename\"]])"
   ]
  },
  {
   "cell_type": "markdown",
   "id": "0a216c2f",
   "metadata": {},
   "source": [
    "### Total NUM category analysis"
   ]
  },
  {
   "cell_type": "code",
   "execution_count": 10,
   "id": "cd2942e5",
   "metadata": {},
   "outputs": [
    {
     "name": "stdout",
     "output_type": "stream",
     "text": [
      "Total number of NUM Ionograms in BATCH I and II analyzed: 99\n",
      "Total number of NUM Ionograms in BATCH II and II analyzed correctly:  94\n",
      "Estimated Success Rate of Total NUM with 579,054 ionograms: 549809\n",
      "Estimated Percent certainty: 94.94952111547455\n"
     ]
    },
    {
     "data": {
      "image/png": "[encoded data removed]",
      "text/plain": [
       "<Figure size 720x360 with 1 Axes>"
      ]
     },
     "metadata": {
      "needs_background": "light"
     },
     "output_type": "display_data"
    }
   ],
   "source": [
    "Image_total = total_I + total_II\n",
    "print ('Total number of NUM Ionograms in BATCH I and II analyzed:', Image_total)\n",
    "\n",
    "Correct_total = (total_I - filtered_down_I) + (total_II - filtered_down_II)\n",
    "print ('Total number of NUM Ionograms in BATCH II and II analyzed correctly: ', Correct_total)\n",
    "\n",
    "#Estimated success rate\n",
    "success_rate = Correct_total/Image_total\n",
    "Estimation = round(success_rate*Total_num)\n",
    "print('Estimated Success Rate of Total NUM with 579,054 ionograms:', Estimation)\n",
    "\n",
    "#Overall Percent certainty\n",
    "percent_tot = Estimation*100/Total_num\n",
    "print('Estimated Percent certainty:' , percent_tot)\n",
    "\n",
    "#Percent certainty of  all num metadata elements\n",
    "percent_tot_year = (percent_df_II_year + percent_df_I_year)/2\n",
    "percent_tot_day1= (percent_df_II_Day1 + percent_df_I_Day1)/2\n",
    "percent_tot_day2= (percent_df_II_Day2 + percent_df_I_Day2)/2\n",
    "percent_tot_day3 = (percent_df_II_Day3 + percent_df_I_Day3)/2\n",
    "percent_tot_hour1= (percent_df_II_Hour1 + percent_df_I_Hour1)/2\n",
    "percent_tot_hour2= (percent_df_II_Hour2 + percent_df_I_Hour2)/2\n",
    "percent_tot_min1 = (percent_df_II_min1 + percent_df_I_min1)/2\n",
    "percent_tot_min2 = (percent_df_II_min2 + percent_df_II_min2)/2\n",
    "percent_tot_sec1 = (percent_df_II_sec1 +percent_df_I_sec1)/2\n",
    "percent_tot_sec2= (percent_df_II_sec2 + percent_df_I_sec2)/2\n",
    "percent_tot_station = (percent_df_II_station + percent_df_I_station)/2\n",
    "\n",
    "#Graphing the % reading accuracy of the elements\n",
    "num_dataset = {'Year':percent_tot_year, 'Day1':percent_tot_day1, 'Day2': percent_tot_day2, \n",
    "                  'Day3': percent_tot_day3, 'Hour1':percent_tot_hour1, 'Hour2':percent_tot_hour2,\n",
    "                  'Min1': percent_tot_min1, 'Min2':percent_tot_min2, 'Sec1':percent_tot_sec1,\n",
    "                  'Sec2':percent_tot_sec2, 'Station': percent_tot_station}\n",
    "x = list(num_dataset.keys())\n",
    "y = list(num_dataset.values())\n",
    "fig = plt.figure(figsize = (10, 5))\n",
    " \n",
    "# creating the bar plot\n",
    "plt.bar(x, y)\n",
    "plt.ylim(75, 100)\n",
    "plt.title (\"% Reading accuracy of the overall NUM metadata elements\")\n",
    "plt.xlabel(\"NUM metadata elements\")\n",
    "plt.ylabel(\"Reading Accuracy (%)\")\n",
    "plt.xticks(rotation=90)\n",
    "plt.show()"
   ]
  },
  {
   "cell_type": "markdown",
   "id": "82e3f70d",
   "metadata": {},
   "source": [
    "## Dot category"
   ]
  },
  {
   "cell_type": "code",
   "execution_count": 11,
   "id": "54c5d9e2",
   "metadata": {},
   "outputs": [
    {
     "name": "stdout",
     "output_type": "stream",
     "text": [
      "Total number of dot Ionograms in BATCH I: 7784\n",
      "Total number of dot Ionograms in BATCH II: 4481\n",
      "Total dot ionograms in Batch I and II:  12265\n"
     ]
    }
   ],
   "source": [
    "df_dot_I = pd.read_csv(resultDir_I + 'result_master.csv') #Batch I\n",
    "filter_df_dot_I = df_dot_I[df_dot_I['processed_image_class']=='dot']\n",
    "total_df_dot_I= len(filter_df_dot_I)\n",
    "print ('Total number of dot Ionograms in BATCH I:', total_df_dot_I)\n",
    "\n",
    "df_dot_II = pd.read_csv(resultDir_II + 'result_master.csv') #Batch II\n",
    "filter_df_dot_II = df_dot_II[df_dot_II['processed_image_class']=='dot']\n",
    "total_df_dot_II = len(filter_df_dot_II)\n",
    "print ('Total number of dot Ionograms in BATCH II:', total_df_dot_II)\n",
    "\n",
    "Total_dot = total_df_dot_I + total_df_dot_II  #combining Batch I and Batch II num data\n",
    "print ('Total dot ionograms in Batch I and II: ', Total_dot)"
   ]
  },
  {
   "cell_type": "code",
   "execution_count": 12,
   "id": "9ec91709",
   "metadata": {},
   "outputs": [
    {
     "name": "stdout",
     "output_type": "stream",
     "text": [
      "Number of dot Ionograms Analyzed: 10\n",
      "Number of ionograms categorized correctly: 0\n",
      "Estimated Success Rate out of 7784 with consistent results: 0\n"
     ]
    },
    {
     "data": {
      "image/png": "[encoded data removed]",
      "text/plain": [
       "<Figure size 432x288 with 1 Axes>"
      ]
     },
     "metadata": {
      "needs_background": "light"
     },
     "output_type": "display_data"
    },
    {
     "name": "stdout",
     "output_type": "stream",
     "text": [
      "     Directory  Subdirectory       Filename\n",
      "0  R014207940F           339  Image0150.png\n",
      "1  R014207979F           394  Image0062.png\n",
      "2  R014207929F           480  Image0242.png\n",
      "3  R014207929F           476  Image0003.png\n",
      "4  R014207907F           508      Image0119\n",
      "6  R014207907F           512  Image0353.png\n",
      "7  R014207979F           297  Image0206.png\n",
      "8  R014207979F           291  Image0330.png\n",
      "9  R014207940F           404  Image0224.png\n"
     ]
    }
   ],
   "source": [
    "#Batch I\n",
    "df_dot_I = pd.read_csv(\"L:/DATA/Alouette_I/BATCH_I_Run2/07_Accuracy/BatchI_dot_QA.csv\")\n",
    "total_dot_I = len(df_dot_I)\n",
    "print('Number of dot Ionograms Analyzed:', total_dot_I)\n",
    "\n",
    "# filtering out correct categories\n",
    "df_dot_I= df_dot_I.loc[df_dot_I['Issue'] != 'None']\n",
    "filtered_down_dot_I = len(df_dot_I)\n",
    "print('Number of ionograms categorized correctly:', total_dot_I - filtered_down_dot_I)\n",
    "\n",
    "#Estimated success rate\n",
    "success_rate = (total_dot_I - filtered_down_dot_I)/total_dot_I\n",
    "Estimation = round(success_rate*total_df_dot_I)\n",
    "print('Estimated Success Rate out of 7784 with consistent results:', Estimation)\n",
    "\n",
    "#Plotting the variation of issues\n",
    "issue_counts_dot_I = df_dot_I[\"Issue\"].value_counts()\n",
    "plt.bar(issue_counts_dot_I.index, issue_counts_dot_I.values)\n",
    "plt.title (\"Variation error of Batch I dot ionograms\")\n",
    "plt.xlabel(\"Type of Issue\")\n",
    "plt.ylabel(\"Number of Issues\")\n",
    "plt.xticks(rotation=90)\n",
    "plt.show()\n",
    "\n",
    "# Number of All categories error\n",
    "df_dot_I = df_dot_I.loc[df_dot_I['Issue'] == 'All categories']\n",
    "print(df_dot_I.loc[:,[\"Directory\",\"Subdirectory\", \"Filename\"]])\n"
   ]
  },
  {
   "cell_type": "code",
   "execution_count": 13,
   "id": "f0ce3490",
   "metadata": {},
   "outputs": [
    {
     "name": "stdout",
     "output_type": "stream",
     "text": [
      "Number of Images Analyzed: 15\n",
      "Number of Ionograms Analyzed correctly: 0\n",
      "Estimated Success Rate out of 4481 with consistent results: 0.0\n"
     ]
    },
    {
     "data": {
      "image/png": "[encoded data removed]",
      "text/plain": [
       "<Figure size 432x288 with 1 Axes>"
      ]
     },
     "metadata": {
      "needs_background": "light"
     },
     "output_type": "display_data"
    },
    {
     "name": "stdout",
     "output_type": "stream",
     "text": [
      "Number of NUM/NUM2 ionograms categorized as dot data by the algorithm: 14\n",
      "     Directory Subdirectory filename\n",
      "0   R014207961       1039-1  283.png\n",
      "1   R014207961       1069-A  297.png\n",
      "3   R014207944     1994-12A  131.png\n",
      "4   R014207961       1076-A  288.png\n",
      "5   R014207961       1039-1   19.png\n",
      "6   R014207961       1069-A  263.png\n",
      "7   R014207944      2042-3A  272.png\n",
      "8   R014207961       1058-A  336.png\n",
      "9   R014207961       1029-A  129.png\n",
      "10  R014207961       1031-A  178.png\n",
      "11  R014207944      2042-3A  125.png\n",
      "12  R014207961       1031-A  154.png\n",
      "13  R014207961       1076-A  158.png\n",
      "14  R014207961       1065-A  231.png\n"
     ]
    }
   ],
   "source": [
    "#Batch II\n",
    "df_dot_II = pd.read_csv(\"L:/DATA/Alouette_I/BATCH_II_Run2/07_MQA/Batch2_QA_dot.csv\")\n",
    "total_dot_II = len(df_dot_II)\n",
    "print ('Number of Images Analyzed:', total_dot_II)\n",
    "filtered_down_dot_II = 0 #no ionogram was analyzed correctly\n",
    "print('Number of Ionograms Analyzed correctly:',filtered_down_dot_II)\n",
    "\n",
    "#Estimated success rate\n",
    "success_rate = filtered_down_dot_II/total_dot_II\n",
    "Estimation = success_rate*total_df_dot_II\n",
    "print('Estimated Success Rate out of 4481 with consistent results:', Estimation)\n",
    "\n",
    "#Plotting the variation of issues\n",
    "issue_counts_dot_II = df_dot_II[\"Issue\"].value_counts()\n",
    "plt.bar(issue_counts_dot_II.index, issue_counts_dot_II.values)\n",
    "plt.title (\"Variation error of dot Ionograms in Batch II\")\n",
    "plt.xlabel(\"Type of Issue\")\n",
    "plt.ylabel(\"Number of Issues\")\n",
    "plt.xticks(rotation=90)\n",
    "plt.show()\n",
    "\n",
    "# filtering out correct categories\n",
    "df_dot_II = df_dot_II.loc[df_dot_II['Issue'] == 'All categories']\n",
    "filtered_down_dot_II = len(df_dot_II)\n",
    "print('Number of NUM/NUM2 ionograms categorized as dot data by the algorithm:', filtered_down_dot_II)\n",
    "print(df_dot_II.loc[:,[\"Directory\",\"Subdirectory\", \"filename\"]])"
   ]
  },
  {
   "cell_type": "code",
   "execution_count": 14,
   "id": "b96d6d71",
   "metadata": {},
   "outputs": [
    {
     "name": "stdout",
     "output_type": "stream",
     "text": [
      "Total number of DOT Ionograms in BATCH I and II analyzed: 25\n",
      "Total number of Dot Ionograms in BATCH II and II analyzed correctly:  1\n",
      "Estimated Success Rate of Total Dot with 12,265 ionograms: 0\n",
      "Estimated Percent certainty: 0.0\n"
     ]
    }
   ],
   "source": [
    "#Total Dot image analysis:\n",
    "Image_total_dot = total_dot_I + total_dot_II\n",
    "print ('Total number of DOT Ionograms in BATCH I and II analyzed:', Image_total_dot)\n",
    "\n",
    "Correct_total_dot = (total_dot_I - filtered_down_dot_I) + (total_dot_II - filtered_down_dot_II)\n",
    "print ('Total number of Dot Ionograms in BATCH II and II analyzed correctly: ', Correct_total_dot)\n",
    "\n",
    "#Estimated success rate\n",
    "Estimation  = round(Correct_total_dot*Image_total_dot/Total_dot)\n",
    "print('Estimated Success Rate of Total Dot with 12,265 ionograms:', Estimation)\n",
    "\n",
    "#Percent certaintly\n",
    "percent_tot_dot = Estimation*100/Total_dot\n",
    "print('Estimated Percent certainty:' , percent_tot_dot)"
   ]
  },
  {
   "cell_type": "markdown",
   "id": "65dbda6e",
   "metadata": {},
   "source": [
    "## NUM2 category"
   ]
  },
  {
   "cell_type": "code",
   "execution_count": 15,
   "id": "ef0cdb36",
   "metadata": {},
   "outputs": [
    {
     "name": "stdout",
     "output_type": "stream",
     "text": [
      "Total number of NUM2 Ionograms in Batch I: 38149\n",
      "Total number of NUM2 Ionograms in Batch II : 87924\n",
      "Total number of NUM2 Ionograms in both batches: 126073\n"
     ]
    }
   ],
   "source": [
    "#Total Number of Num Categories\n",
    "df_num2_1 = pd.read_csv(resultDir_I + 'result_master.csv') #Batch I\n",
    "filter_df_num2_1 = df_num2_1[df_num2_1['processed_image_class']=='num2']\n",
    "total_df_num2_1 = len(filter_df_num2_1)\n",
    "print ('Total number of NUM2 Ionograms in Batch I:', total_df_num2_1)\n",
    "\n",
    "df_num2_II = pd.read_csv(resultDir_II + 'result_master.csv') #Batch II\n",
    "filter_df_num2_II = df_num2_II[df_num2_II['processed_image_class']=='num2']\n",
    "total_df_num2_II = len(filter_df_num2_II)\n",
    "print ('Total number of NUM2 Ionograms in Batch II :', total_df_num2_II)\n",
    "\n",
    "df_num2_total = pd.read_csv(resultDir_tot + 'result_master.csv')\n",
    "filter_df_total= df_num2_total[df_num2_total['processed_image_class']=='num2']\n",
    "total_df_num2 = len(filter_df_total)\n",
    "print('Total number of NUM2 Ionograms in both batches:', total_df_num2)"
   ]
  },
  {
   "cell_type": "markdown",
   "id": "f7de5a39",
   "metadata": {},
   "source": [
    "### Batch I"
   ]
  },
  {
   "cell_type": "code",
   "execution_count": null,
   "id": "197ae16a",
   "metadata": {},
   "outputs": [],
   "source": []
  },
  {
   "cell_type": "markdown",
   "id": "3e07d1df",
   "metadata": {},
   "source": [
    "###  Batch II"
   ]
  },
  {
   "cell_type": "code",
   "execution_count": 23,
   "id": "bcb78220",
   "metadata": {},
   "outputs": [
    {
     "name": "stdout",
     "output_type": "stream",
     "text": [
      "Number of Images Analyzed in BATCH II: 34\n",
      "Number of \"year\" element categorized correctly: 33\n",
      "Percent reading accuracy of the \"year\" element: 97.05882352941177\n",
      "Number of \"Day1\" element categorized correctly: 34\n",
      "Percent reading accuracy of the \"Day1\" element: 100.0\n",
      "Number of \"Day2\" element categorized correctly: 34\n",
      "Percent reading accuracy of the \"Day2\" element: 100.0\n",
      "Number of \"Day3\" element categorized correctly: 34\n",
      "Percent reading accuracy of the \"Day3\" element: 100.0\n",
      "Number of \"Hour_1\" element categorized correctly: 34\n",
      "Percent reading accuracy of the \"Hour_1\" element: 100.0\n",
      "Number of \"Hour_2\" element categorized correctly: 34\n",
      "Percent reading accuracy of the \"Hour_2\" element: 100.0\n",
      "Number of \"Min_1\" element categorized correctly: 34\n",
      "Percent reading accuracy of the \"Min_1\" element: 100.0\n",
      "Number of \"Min_2\" element categorized correctly: 33\n",
      "Percent reading accuracy of the \"Min_2\" element: 97.05882352941177\n",
      "Number of \"Sec_1\" element categorized correctly: 34\n",
      "Percent reading accuracy of the \"Sec_1\" element: 100.0\n",
      "Number of \"Sec_2\" element categorized correctly: 34\n",
      "Percent reading accuracy of the \"Sec_2\" element: 100.0\n",
      "Number of the \"Station\" element categorized correctly: 34\n",
      "Percent reading accuracy of the \"Station\" element: 100.0\n"
     ]
    },
    {
     "data": {
      "image/png": "[encoded data removed]",
      "text/plain": [
       "<Figure size 720x360 with 1 Axes>"
      ]
     },
     "metadata": {
      "needs_background": "light"
     },
     "output_type": "display_data"
    }
   ],
   "source": [
    "df_num2_II = pd.read_csv(\"L:/DATA/Alouette_I/BATCH_II_Run2/07_MQA/Batch2_QA_num2.csv\") \n",
    "total_num2_II = len(df_num2_II)\n",
    "print ('Number of Images Analyzed in BATCH II:', total_num2_II)\n",
    "\n",
    "# BATCH II - filtering out correctly identified elements \n",
    "df_num2_II_year = df_num2_II['year'].sum()\n",
    "print('Number of \"year\" element categorized correctly:', df_num2_II_year)\n",
    "percent_df_num2_II_year = (df_num2_II_year/total_num2_II)*100\n",
    "print('Percent reading accuracy of the \"year\" element:', percent_df_num2_II_year)\n",
    "\n",
    "df_num2_II_Day1 = df_num2_II['Day_1'].sum()\n",
    "print('Number of \"Day1\" element categorized correctly:', df_num2_II_Day1)\n",
    "percent_df_num2_II_Day1 = (df_num2_II_Day1/total_num2_II)*100\n",
    "print('Percent reading accuracy of the \"Day1\" element:', percent_df_num2_II_Day1)\n",
    "\n",
    "df_num2_II_Day2 = df_num2_II['Day_2'].sum()\n",
    "print('Number of \"Day2\" element categorized correctly:', df_num2_II_Day2)\n",
    "percent_df_num2_II_Day2 = (df_num2_II_Day2/total_num2_II)*100\n",
    "print('Percent reading accuracy of the \"Day2\" element:', percent_df_num2_II_Day2)\n",
    "\n",
    "df_num2_II_Day3 = df_num2_II['Day_3'].sum()\n",
    "print('Number of \"Day3\" element categorized correctly:', df_num2_II_Day3)\n",
    "percent_df_num2_II_Day3 = (df_num2_II_Day3/total_num2_II)*100\n",
    "print('Percent reading accuracy of the \"Day3\" element:', percent_df_num2_II_Day3)\n",
    "\n",
    "df_num2_II_Hour1 = df_num2_II['Hour_1'].sum()\n",
    "print('Number of \"Hour_1\" element categorized correctly:', df_num2_II_Hour1)\n",
    "percent_df_num2_II_Hour1 = (df_num2_II_Hour1/total_num2_II)*100\n",
    "print('Percent reading accuracy of the \"Hour_1\" element:', percent_df_num2_II_Hour1)\n",
    "\n",
    "df_num2_II_Hour2 = df_num2_II['Hour_2'].sum()\n",
    "print('Number of \"Hour_2\" element categorized correctly:', df_num2_II_Hour2)\n",
    "percent_df_num2_II_Hour2 = (df_num2_II_Hour2/total_num2_II)*100\n",
    "print('Percent reading accuracy of the \"Hour_2\" element:', percent_df_num2_II_Hour2)\n",
    "\n",
    "df_num2_II_min1 = df_num2_II['Min_1'].sum()\n",
    "print('Number of \"Min_1\" element categorized correctly:', df_num2_II_min1)\n",
    "percent_df_num2_II_min1 = (df_num2_II_min1/total_num2_II)*100\n",
    "print('Percent reading accuracy of the \"Min_1\" element:', percent_df_num2_II_min1)\n",
    "\n",
    "df_num2_II_min2 = df_num2_II['Min_2'].sum()\n",
    "print('Number of \"Min_2\" element categorized correctly:', df_num2_II_min2)\n",
    "percent_df_num2_II_min2 = (df_num2_II_min2/total_num2_II)*100\n",
    "print('Percent reading accuracy of the \"Min_2\" element:', percent_df_num2_II_min2)\n",
    "\n",
    "df_num2_II_sec1 = df_num2_II['Sec_1'].sum()\n",
    "print('Number of \"Sec_1\" element categorized correctly:', df_num2_II_sec1)\n",
    "percent_df_num2_II_sec1 = ( df_num2_II_sec1/total_num2_II)*100\n",
    "print('Percent reading accuracy of the \"Sec_1\" element:', percent_df_num2_II_sec1)\n",
    "\n",
    "df_num2_II_sec2 = df_num2_II['Sec_2'].sum()\n",
    "print('Number of \"Sec_2\" element categorized correctly:', df_num2_II_sec2 )\n",
    "percent_df_num2_II_sec2 = (df_num2_II_sec2 /total_num2_II)*100\n",
    "print('Percent reading accuracy of the \"Sec_2\" element:', percent_df_num2_II_sec2)\n",
    "\n",
    "df_num2_II_station = df_num2_II['Station_number'].sum()\n",
    "print('Number of the \"Station\" element categorized correctly:', df_num2_II_station)\n",
    "percent_df_num2_II_station = (df_num2_II_station/total_num2_II)*100\n",
    "print('Percent reading accuracy of the \"Station\" element:', percent_df_num2_II_station)\n",
    "\n",
    "#Graphing the % reading accuracy of the elements\n",
    "num2_BatchII_dataset = {'Year':percent_df_num2_II_year, 'Day1':percent_df_num2_II_Day1, 'Day2': percent_df_num2_II_Day2, \n",
    "                  'Day3': percent_df_num2_II_Day3, 'Hour1':percent_df_num2_II_Hour1, 'Hour2':percent_df_num2_II_Hour2,\n",
    "                  'Min1': percent_df_num2_II_min1, 'Min2':percent_df_num2_II_min2, 'Sec1':percent_df_num2_II_sec1,\n",
    "                  'Sec2':percent_df_num2_II_sec2, 'Station': percent_df_num2_II_station}\n",
    "x = list(num2_BatchII_dataset.keys())\n",
    "y = list(num2_BatchII_dataset.values())\n",
    "fig = plt.figure(figsize = (10, 5))\n",
    " \n",
    "# creating the bar plot\n",
    "plt.bar(x, y)\n",
    "plt.ylim(85, 100)\n",
    "plt.title (\"% Reading accuracy of the NUM metadata elements in Batch II\")\n",
    "plt.xlabel(\"NUM metadata elements - Batch II\")\n",
    "plt.ylabel(\"Reading Accuracy (%)\")\n",
    "plt.xticks(rotation=90)\n",
    "plt.show()\n"
   ]
  },
  {
   "cell_type": "code",
   "execution_count": 22,
   "id": "d206846a",
   "metadata": {},
   "outputs": [
    {
     "name": "stdout",
     "output_type": "stream",
     "text": [
      "Batch II Summary:\n",
      "Total number of Ionograms categorized correctly consistently: 31\n",
      "Estimated Success Rate of BATCH II with 126,073 ionograms: 114949\n",
      "The algorithm reads 1 as 7 or vice versa: 2\n",
      "    Directory Subdirectory filename\n",
      "5  R014207831      3949-5A  207.png\n",
      "8  R014207833      4349-38  136.png\n"
     ]
    }
   ],
   "source": [
    "# BATCH II - Summary\n",
    "df_num2_II  = df_num2_II .loc[df_num2_II ['Issue'] != 'None']\n",
    "filtered_down_num2_II = len(df_num2_II)\n",
    "print ('Batch II Summary:')\n",
    "print('Total number of Ionograms categorized correctly consistently:', total_num2_II - filtered_down_num2_II)\n",
    "\n",
    "#BATCH II - Estimated success rate\n",
    "success_rate = (total_num2_II - filtered_down_num2_II)/total_num2_II\n",
    "Estimation = round(success_rate*total_df_num2)\n",
    "print('Estimated Success Rate of BATCH II with 126,073 ionograms:', Estimation)\n",
    "# Number of All categories error\n",
    "df_num2_II = df_num2_II.loc[df_num2_II['Issue'] == 'Minute']\n",
    "filtered_down_II = len(df_num2_II)\n",
    "print('The algorithm reads 1 as 7 or vice versa:', filtered_down_II)\n",
    "print(df_num2_II.loc[:,[\"Directory\",\"Subdirectory\", \"filename\"]])"
   ]
  },
  {
   "cell_type": "code",
   "execution_count": null,
   "id": "a5fd7e2a",
   "metadata": {},
   "outputs": [],
   "source": []
  }
 ],
 "metadata": {
  "kernelspec": {
   "display_name": "Python 3",
   "language": "python",
   "name": "python3"
  },
  "language_info": {
   "codemirror_mode": {
    "name": "ipython",
    "version": 3
   },
   "file_extension": ".py",
   "mimetype": "text/x-python",
   "name": "python",
   "nbconvert_exporter": "python",
   "pygments_lexer": "ipython3",
   "version": "3.8.8"
  }
 },
 "nbformat": 4,
 "nbformat_minor": 5
}

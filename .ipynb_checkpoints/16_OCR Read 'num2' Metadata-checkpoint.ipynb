{
 "cells": [
  {
   "cell_type": "markdown",
   "id": "ddd8e19d",
   "metadata": {},
   "source": [
    "# OCR Read 'num2' Metadata\n",
    "\n",
    "#### Updated: Apr 4, 2023"
   ]
  },
  {
   "cell_type": "markdown",
   "id": "058a15dd",
   "metadata": {},
   "source": [
    "#  "
   ]
  },
  {
   "cell_type": "markdown",
   "id": "6c659ca6",
   "metadata": {},
   "source": [
    "Test post-processing a subdirectory, to first detect if the image is of 'num2' metadata type, and then to read and record \"that metadata. "
   ]
  },
  {
   "cell_type": "code",
   "execution_count": 10,
   "id": "80454f51",
   "metadata": {},
   "outputs": [],
   "source": [
    "import pandas as pd\n",
    "import numpy as np\n",
    "import os\n",
    "import time\n",
    "import keras_ocr"
   ]
  },
  {
   "cell_type": "code",
   "execution_count": 2,
   "id": "7aa02eae",
   "metadata": {},
   "outputs": [
    {
     "name": "stdout",
     "output_type": "stream",
     "text": [
      "Looking for C:\\Users\\rnaidoo\\.keras-ocr\\craft_mlt_25k.h5\n",
      "Looking for C:\\Users\\rnaidoo\\.keras-ocr\\crnn_kurapan.h5\n"
     ]
    }
   ],
   "source": [
    "pipeline = keras_ocr.pipeline.Pipeline()"
   ]
  },
  {
   "cell_type": "code",
   "execution_count": 3,
   "id": "b7ea0ebd",
   "metadata": {},
   "outputs": [],
   "source": [
    "rootDir = 'L:/DATA/Alouette_I/BATCH_II_Run1/'\n",
    "testDir = rootDir + '04_processed/R014207817/4163-03A/'\n",
    "resultDir = rootDir + '05_result/'"
   ]
  },
  {
   "cell_type": "markdown",
   "id": "1298064e",
   "metadata": {},
   "source": [
    "#  "
   ]
  },
  {
   "cell_type": "markdown",
   "id": "7c4cb58e",
   "metadata": {},
   "source": [
    "#### Functions:"
   ]
  },
  {
   "cell_type": "code",
   "execution_count": 21,
   "id": "764139b8",
   "metadata": {},
   "outputs": [],
   "source": [
    "def read_num2_metadata(prediction_groups):\n",
    "    \n",
    "    df_results = pd.DataFrame()\n",
    "    for i in range(0, len(prediction_groups)):\n",
    "        df_ocr = pd.DataFrame()\n",
    "        predicted_image = prediction_groups[i]\n",
    "        if len(predicted_image) > 0:\n",
    "            for text, box in predicted_image:\n",
    "                row = pd.DataFrame({\n",
    "                    'number': text,\n",
    "                    'x': box[1][0],\n",
    "                    'y': box[1][1]\n",
    "                }, index=[0])\n",
    "                df_ocr = pd.concat([df_ocr, row])\n",
    "            df_ocr = df_ocr.sort_values('x').reset_index(drop=True)\n",
    "        if len(df_ocr) == 6:\n",
    "            if df_ocr['number'].iloc[0] == '10':\n",
    "                row2 = pd.DataFrame({\n",
    "                    'station_number': df_ocr['number'].iloc[1],\n",
    "                    'year': df_ocr['number'].iloc[2],\n",
    "                    'day_of_year': df_ocr['number'].iloc[3],\n",
    "                    'hour': df_ocr['number'].iloc[4][0:2],\n",
    "                    'minute': df_ocr['number'].iloc[4][2:],\n",
    "                    'second': df_ocr['number'].iloc[5],\n",
    "                    'filename': img_fns[batch_i + i].replace(subdir_path, '')\n",
    "                }, index=[0])\n",
    "                df_results = pd.concat([df_results, row2])\n",
    "    \n",
    "    return df_results"
   ]
  },
  {
   "cell_type": "markdown",
   "id": "bbcd391e",
   "metadata": {},
   "source": [
    "# "
   ]
  },
  {
   "cell_type": "markdown",
   "id": "ced2001a",
   "metadata": {},
   "source": [
    "#### Process subdirectory:"
   ]
  },
  {
   "cell_type": "code",
   "execution_count": 4,
   "id": "94bec88c",
   "metadata": {},
   "outputs": [],
   "source": [
    "batch_size = 10"
   ]
  },
  {
   "cell_type": "code",
   "execution_count": 6,
   "id": "724b0f17",
   "metadata": {},
   "outputs": [],
   "source": [
    "img_fns = []\n",
    "for file in os.listdir(testDir):\n",
    "    img_fns.append(testDir + file)"
   ]
  },
  {
   "cell_type": "code",
   "execution_count": 14,
   "id": "861bcca3",
   "metadata": {},
   "outputs": [
    {
     "data": {
      "text/plain": [
       "304"
      ]
     },
     "execution_count": 14,
     "metadata": {},
     "output_type": "execute_result"
    }
   ],
   "source": [
    "len(img_fns)"
   ]
  },
  {
   "cell_type": "code",
   "execution_count": 17,
   "id": "640fd57f",
   "metadata": {},
   "outputs": [
    {
     "data": {
      "text/plain": [
       "30"
      ]
     },
     "execution_count": 17,
     "metadata": {},
     "output_type": "execute_result"
    }
   ],
   "source": [
    "n_batches = int(np.floor(len(img_fns)/batch_size))\n",
    "n_batches"
   ]
  },
  {
   "cell_type": "code",
   "execution_count": 18,
   "id": "ad885716",
   "metadata": {},
   "outputs": [
    {
     "data": {
      "text/plain": [
       "4"
      ]
     },
     "execution_count": 18,
     "metadata": {},
     "output_type": "execute_result"
    }
   ],
   "source": [
    "batch_remainder = len(img_fns)%batch_size\n",
    "batch_remainder"
   ]
  },
  {
   "cell_type": "code",
   "execution_count": 20,
   "id": "959f4249",
   "metadata": {},
   "outputs": [],
   "source": [
    "start = time.time()\n",
    "\n",
    "df_results = pd.DataFrame()\n",
    "for i in range(0, n_batches):\n",
    "    batch_i = i*batch_size\n",
    "    batch_f = batch_i + batch_size\n",
    "    #imgs_ocr = [\n",
    "    #    keras_ocr.tools.read(img) for img in img_fns[batch_i:batch_f]\n",
    "    #]\n",
    "    prediction_groups = pipeline.recognize(img_fns[batch_i:batch_f])\n",
    "    df_results_ = read_num2_metadata(prediction_groups=prediction_groups)\n",
    "    df_results = pd.concat([df_results, df_results_])\n",
    "    \n",
    "#Remainder\n",
    "batch_i = n_batches*batch_size\n",
    "batch_f = batch_i + batch_remainder\n",
    "prediction_groups = pipeline.recognize(img_fns[batch_i:batch_f])\n",
    "prediction_groups = pipeline.recognize(img_fns[batch_i:batch_f])\n",
    "df_results_ = read_num2_metadata(prediction_groups=prediction_groups)\n",
    "df_results = pd.concat([df_results, df_results_])\n",
    "\n",
    "end = time.time()\n",
    "t = end - start\n",
    "print('Time to OCR read all images in subdirectory: ' + str(round(t/60, 1)) + ' min')"
   ]
  },
  {
   "cell_type": "code",
   "execution_count": null,
   "id": "5abb6cf5",
   "metadata": {},
   "outputs": [],
   "source": []
  }
 ],
 "metadata": {
  "kernelspec": {
   "display_name": "Python 3",
   "language": "python",
   "name": "python3"
  },
  "language_info": {
   "codemirror_mode": {
    "name": "ipython",
    "version": 3
   },
   "file_extension": ".py",
   "mimetype": "text/x-python",
   "name": "python",
   "nbconvert_exporter": "python",
   "pygments_lexer": "ipython3",
   "version": "3.8.8"
  }
 },
 "nbformat": 4,
 "nbformat_minor": 5
}

{
 "cells": [
  {
   "cell_type": "markdown",
   "id": "ddd8e19d",
   "metadata": {},
   "source": [
    "# OCR Read 'num2' Metadata\n",
    "\n",
    "#### Updated: Mar 31, 2023"
   ]
  },
  {
   "cell_type": "markdown",
   "id": "058a15dd",
   "metadata": {},
   "source": [
    "#  "
   ]
  },
  {
   "cell_type": "markdown",
   "id": "6c659ca6",
   "metadata": {},
   "source": [
    "Post-processing step to detect if image is of 'num2' metadata type and then to read that metadata. "
   ]
  },
  {
   "cell_type": "code",
   "execution_count": null,
   "id": "80454f51",
   "metadata": {},
   "outputs": [],
   "source": []
  }
 ],
 "metadata": {
  "kernelspec": {
   "display_name": "Python 3",
   "language": "python",
   "name": "python3"
  },
  "language_info": {
   "codemirror_mode": {
    "name": "ipython",
    "version": 3
   },
   "file_extension": ".py",
   "mimetype": "text/x-python",
   "name": "python",
   "nbconvert_exporter": "python",
   "pygments_lexer": "ipython3",
   "version": "3.8.8"
  }
 },
 "nbformat": 4,
 "nbformat_minor": 5
}

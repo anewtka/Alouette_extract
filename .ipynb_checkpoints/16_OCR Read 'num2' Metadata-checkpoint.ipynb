{
 "cells": [
  {
   "cell_type": "markdown",
   "id": "ddd8e19d",
   "metadata": {},
   "source": [
    "# OCR Read 'num2' Metadata\n",
    "\n",
    "#### Updated: Apr 4, 2023"
   ]
  },
  {
   "cell_type": "markdown",
   "id": "058a15dd",
   "metadata": {},
   "source": [
    "#  "
   ]
  },
  {
   "cell_type": "markdown",
   "id": "6c659ca6",
   "metadata": {},
   "source": [
    "Test post-processing a subdirectory, to first detect if the image is of 'num2' metadata type, and then to read and record \"that metadata. "
   ]
  },
  {
   "cell_type": "code",
   "execution_count": 1,
   "id": "80454f51",
   "metadata": {},
   "outputs": [],
   "source": [
    "import pandas as pd\n",
    "import numpy as np\n",
    "import os\n",
    "import time\n",
    "import keras_ocr"
   ]
  },
  {
   "cell_type": "code",
   "execution_count": 2,
   "id": "7aa02eae",
   "metadata": {},
   "outputs": [
    {
     "name": "stdout",
     "output_type": "stream",
     "text": [
      "Looking for C:\\Users\\rnaidoo\\.keras-ocr\\craft_mlt_25k.h5\n",
      "Looking for C:\\Users\\rnaidoo\\.keras-ocr\\crnn_kurapan.h5\n"
     ]
    }
   ],
   "source": [
    "pipeline = keras_ocr.pipeline.Pipeline()"
   ]
  },
  {
   "cell_type": "code",
   "execution_count": 3,
   "id": "b7ea0ebd",
   "metadata": {},
   "outputs": [],
   "source": [
    "rootDir = 'L:/DATA/Alouette_I/BATCH_II_Run1/'\n",
    "resultDir = rootDir + '05_result/'"
   ]
  },
  {
   "cell_type": "markdown",
   "id": "1298064e",
   "metadata": {},
   "source": [
    "#  "
   ]
  },
  {
   "cell_type": "markdown",
   "id": "7c4cb58e",
   "metadata": {},
   "source": [
    "#### Functions:"
   ]
  },
  {
   "cell_type": "code",
   "execution_count": 4,
   "id": "764139b8",
   "metadata": {},
   "outputs": [],
   "source": [
    "def read_num2_metadata(prediction_groups, subdir_path):\n",
    "    \n",
    "    df_results = pd.DataFrame()\n",
    "    for i in range(0, len(prediction_groups)):\n",
    "        df_ocr = pd.DataFrame()\n",
    "        predicted_image = prediction_groups[i]\n",
    "        if len(predicted_image) > 0:\n",
    "            for text, box in predicted_image:\n",
    "                row = pd.DataFrame({\n",
    "                    'number': text,\n",
    "                    'x': box[1][0],\n",
    "                    'y': box[1][1]\n",
    "                }, index=[0])\n",
    "                df_ocr = pd.concat([df_ocr, row])\n",
    "            df_ocr = df_ocr.sort_values('x').reset_index(drop=True)\n",
    "        if len(df_ocr) == 6:\n",
    "            if df_ocr['number'].iloc[0] == '10':\n",
    "                row2 = pd.DataFrame({\n",
    "                    'station_number': df_ocr['number'].iloc[1],\n",
    "                    'year': df_ocr['number'].iloc[2],\n",
    "                    'day_of_year': df_ocr['number'].iloc[3],\n",
    "                    'hour': df_ocr['number'].iloc[4][0:2],\n",
    "                    'minute': df_ocr['number'].iloc[4][2:],\n",
    "                    'second': df_ocr['number'].iloc[5],\n",
    "                    'filename': img_fns[batch_i + i].replace(subdir_path, '')\n",
    "                }, index=[i])\n",
    "                df_results = pd.concat([df_results, row2])\n",
    "    \n",
    "    return df_results"
   ]
  },
  {
   "cell_type": "markdown",
   "id": "bbcd391e",
   "metadata": {},
   "source": [
    "# "
   ]
  },
  {
   "cell_type": "markdown",
   "id": "ced2001a",
   "metadata": {},
   "source": [
    "#### Process subdirectory:"
   ]
  },
  {
   "cell_type": "code",
   "execution_count": 5,
   "id": "21a2836a",
   "metadata": {},
   "outputs": [],
   "source": [
    "directory = 'R014207950' #'R014207817'\n",
    "subdirectory = '2487-5-B' #'4163-03A'\n",
    "testDir = rootDir + '04_processed/' + directory + '/' + subdirectory + '/'"
   ]
  },
  {
   "cell_type": "code",
   "execution_count": 6,
   "id": "94bec88c",
   "metadata": {},
   "outputs": [],
   "source": [
    "batch_size = 9 # > 9 seems to lead to a 'dead kernel'"
   ]
  },
  {
   "cell_type": "code",
   "execution_count": 7,
   "id": "724b0f17",
   "metadata": {},
   "outputs": [],
   "source": [
    "img_fns = []\n",
    "for file in os.listdir(testDir):\n",
    "    img_fns.append(testDir + file)"
   ]
  },
  {
   "cell_type": "code",
   "execution_count": 8,
   "id": "861bcca3",
   "metadata": {},
   "outputs": [
    {
     "data": {
      "text/plain": [
       "276"
      ]
     },
     "execution_count": 8,
     "metadata": {},
     "output_type": "execute_result"
    }
   ],
   "source": [
    "len(img_fns)"
   ]
  },
  {
   "cell_type": "code",
   "execution_count": 9,
   "id": "640fd57f",
   "metadata": {},
   "outputs": [
    {
     "data": {
      "text/plain": [
       "30"
      ]
     },
     "execution_count": 9,
     "metadata": {},
     "output_type": "execute_result"
    }
   ],
   "source": [
    "n_batches = int(np.floor(len(img_fns)/batch_size))\n",
    "n_batches"
   ]
  },
  {
   "cell_type": "code",
   "execution_count": 10,
   "id": "ad885716",
   "metadata": {},
   "outputs": [
    {
     "data": {
      "text/plain": [
       "6"
      ]
     },
     "execution_count": 10,
     "metadata": {},
     "output_type": "execute_result"
    }
   ],
   "source": [
    "batch_remainder = len(img_fns)%batch_size\n",
    "batch_remainder"
   ]
  },
  {
   "cell_type": "code",
   "execution_count": 11,
   "id": "959f4249",
   "metadata": {
    "scrolled": false
   },
   "outputs": [
    {
     "name": "stdout",
     "output_type": "stream",
     "text": [
      "Starting batch... 0\n",
      "1/1 [==============================] - 14s 14s/step\n",
      "1/1 [==============================] - 2s 2s/step\n",
      "Starting batch... 1\n",
      "1/1 [==============================] - 13s 13s/step\n",
      "1/1 [==============================] - 0s 188ms/step\n",
      "Starting batch... 2\n",
      "1/1 [==============================] - 14s 14s/step\n",
      "1/1 [==============================] - 0s 303ms/step\n",
      "Starting batch... 3\n",
      "1/1 [==============================] - 14s 14s/step\n",
      "1/1 [==============================] - 0s 425ms/step\n",
      "Starting batch... 4\n",
      "1/1 [==============================] - 13s 13s/step\n",
      "1/1 [==============================] - 0s 316ms/step\n",
      "Starting batch... 5\n",
      "1/1 [==============================] - 13s 13s/step\n",
      "1/1 [==============================] - 0s 485ms/step\n",
      "Starting batch... 6\n",
      "1/1 [==============================] - 26s 26s/step\n",
      "2/2 [==============================] - 1s 285ms/step\n",
      "Starting batch... 7\n",
      "1/1 [==============================] - 13s 13s/step\n",
      "1/1 [==============================] - 0s 274ms/step\n",
      "Starting batch... 8\n",
      "1/1 [==============================] - 13s 13s/step\n",
      "1/1 [==============================] - 0s 371ms/step\n",
      "Starting batch... 9\n",
      "1/1 [==============================] - 24s 24s/step\n",
      "1/1 [==============================] - 0s 381ms/step\n",
      "Starting batch... 10\n",
      "1/1 [==============================] - 13s 13s/step\n",
      "1/1 [==============================] - 0s 276ms/step\n",
      "Starting batch... 11\n",
      "1/1 [==============================] - 13s 13s/step\n",
      "1/1 [==============================] - 0s 223ms/step\n",
      "Starting batch... 12\n",
      "1/1 [==============================] - 15s 15s/step\n",
      "1/1 [==============================] - 0s 245ms/step\n",
      "Starting batch... 13\n",
      "1/1 [==============================] - 13s 13s/step\n",
      "1/1 [==============================] - 0s 401ms/step\n",
      "Starting batch... 14\n",
      "1/1 [==============================] - 14s 14s/step\n",
      "2/2 [==============================] - 1s 161ms/step\n",
      "Starting batch... 15\n",
      "1/1 [==============================] - 13s 13s/step\n",
      "1/1 [==============================] - 0s 329ms/step\n",
      "Starting batch... 16\n",
      "1/1 [==============================] - 16s 16s/step\n",
      "1/1 [==============================] - 1s 631ms/step\n",
      "Starting batch... 17\n",
      "1/1 [==============================] - 27s 27s/step\n",
      "1/1 [==============================] - 1s 579ms/step\n",
      "Starting batch... 18\n",
      "1/1 [==============================] - 21s 21s/step\n",
      "1/1 [==============================] - 0s 262ms/step\n",
      "Starting batch... 19\n",
      "1/1 [==============================] - 33s 33s/step\n",
      "1/1 [==============================] - 0s 327ms/step\n",
      "Starting batch... 20\n",
      "1/1 [==============================] - 17s 17s/step\n",
      "1/1 [==============================] - 0s 264ms/step\n",
      "Starting batch... 21\n",
      "1/1 [==============================] - 20s 20s/step\n",
      "1/1 [==============================] - 0s 374ms/step\n",
      "Starting batch... 22\n",
      "1/1 [==============================] - 18s 18s/step\n",
      "1/1 [==============================] - 0s 164ms/step\n",
      "Starting batch... 23\n",
      "1/1 [==============================] - 15s 15s/step\n",
      "1/1 [==============================] - 0s 141ms/step\n",
      "Starting batch... 24\n",
      "1/1 [==============================] - 15s 15s/step\n",
      "1/1 [==============================] - 0s 237ms/step\n",
      "Starting batch... 25\n",
      "1/1 [==============================] - 15s 15s/step\n",
      "1/1 [==============================] - 0s 425ms/step\n",
      "Starting batch... 26\n",
      "1/1 [==============================] - 16s 16s/step\n",
      "1/1 [==============================] - 0s 263ms/step\n",
      "Starting batch... 27\n",
      "1/1 [==============================] - 14s 14s/step\n",
      "1/1 [==============================] - 0s 248ms/step\n",
      "Starting batch... 28\n",
      "1/1 [==============================] - 29s 29s/step\n",
      "1/1 [==============================] - 0s 265ms/step\n",
      "Starting batch... 29\n",
      "1/1 [==============================] - 15s 15s/step\n",
      "1/1 [==============================] - 0s 175ms/step\n",
      "Finishing up...\n",
      "1/1 [==============================] - 10s 10s/step\n",
      "1/1 [==============================] - 0s 245ms/step\n",
      "Time to OCR read all images in subdirectory: 9.6 min\n"
     ]
    }
   ],
   "source": [
    "start = time.time()\n",
    "\n",
    "df_results = pd.DataFrame()\n",
    "for i in range(0, n_batches):\n",
    "    print('Starting batch... ' + str(i))\n",
    "    batch_i = i*batch_size\n",
    "    batch_f = batch_i + batch_size\n",
    "    #imgs_ocr = [\n",
    "    #    keras_ocr.tools.read(img) for img in img_fns[batch_i:batch_f]\n",
    "    #]\n",
    "    prediction_groups = pipeline.recognize(img_fns[batch_i:batch_f])\n",
    "    df_results_ = read_num2_metadata(prediction_groups=prediction_groups, subdir_path=testDir)\n",
    "    df_results = pd.concat([df_results, df_results_])\n",
    "    \n",
    "#Remainder\n",
    "print('Finishing up...')\n",
    "batch_i = n_batches*batch_size\n",
    "batch_f = batch_i + batch_remainder\n",
    "prediction_groups = pipeline.recognize(img_fns[batch_i:batch_f])\n",
    "df_results_ = read_num2_metadata(prediction_groups=prediction_groups, subdir_path=testDir)\n",
    "df_results = pd.concat([df_results, df_results_])\n",
    "\n",
    "if len(df_results) > 0:\n",
    "    df_results['filenum'] = df_results['filename'].str.replace('.png', '')\n",
    "    df_results['filenum'] = df_results['filenum'].astype('int')\n",
    "    df_results = df_results.sort_values('filenum').reset_index(drop=True)\n",
    "\n",
    "end = time.time()\n",
    "t = end - start\n",
    "print('Time to OCR read all images in subdirectory: ' + str(round(t/60, 1)) + ' min')"
   ]
  },
  {
   "cell_type": "code",
   "execution_count": 12,
   "id": "5abb6cf5",
   "metadata": {},
   "outputs": [
    {
     "name": "stdout",
     "output_type": "stream",
     "text": [
      "0\n"
     ]
    },
    {
     "data": {
      "text/html": [
       "<div>\n",
       "<style scoped>\n",
       "    .dataframe tbody tr th:only-of-type {\n",
       "        vertical-align: middle;\n",
       "    }\n",
       "\n",
       "    .dataframe tbody tr th {\n",
       "        vertical-align: top;\n",
       "    }\n",
       "\n",
       "    .dataframe thead th {\n",
       "        text-align: right;\n",
       "    }\n",
       "</style>\n",
       "<table border=\"1\" class=\"dataframe\">\n",
       "  <thead>\n",
       "    <tr style=\"text-align: right;\">\n",
       "      <th></th>\n",
       "    </tr>\n",
       "  </thead>\n",
       "  <tbody>\n",
       "  </tbody>\n",
       "</table>\n",
       "</div>"
      ],
      "text/plain": [
       "Empty DataFrame\n",
       "Columns: []\n",
       "Index: []"
      ]
     },
     "execution_count": 12,
     "metadata": {},
     "output_type": "execute_result"
    }
   ],
   "source": [
    "print(len(df_results))\n",
    "df_results.head(30)"
   ]
  },
  {
   "cell_type": "code",
   "execution_count": 13,
   "id": "b155b649",
   "metadata": {},
   "outputs": [],
   "source": [
    "df_results.to_csv(resultDir + 'OCR_subdir_test_' + directory + '_' + subdirectory + '.csv')"
   ]
  },
  {
   "cell_type": "markdown",
   "id": "0d6a9a78",
   "metadata": {},
   "source": [
    "Remove rows with letters read:"
   ]
  },
  {
   "cell_type": "code",
   "execution_count": 14,
   "id": "7c1b19d4",
   "metadata": {},
   "outputs": [],
   "source": [
    "if len(df_results) > 0:\n",
    "    df1 = df_results[~df_results['station_number'].str.contains(\"[a-zA-Z]\")]\n",
    "    df1 = df1[~df1['year'].str.contains(\"[a-zA-Z]\")]\n",
    "    df1 = df1[~df1['day_of_year'].str.contains(\"[a-zA-Z]\")]\n",
    "    df1 = df1[~df1['hour'].str.contains(\"[a-zA-Z]\")]\n",
    "    df1 = df1[~df1['minute'].str.contains(\"[a-zA-Z]\")]\n",
    "    df1 = df1[~df1['second'].str.contains(\"[a-zA-Z]\")]\n",
    "else:\n",
    "    df1 = df_results"
   ]
  },
  {
   "cell_type": "code",
   "execution_count": 15,
   "id": "c1025868",
   "metadata": {},
   "outputs": [
    {
     "name": "stdout",
     "output_type": "stream",
     "text": [
      "0\n"
     ]
    },
    {
     "data": {
      "text/html": [
       "<div>\n",
       "<style scoped>\n",
       "    .dataframe tbody tr th:only-of-type {\n",
       "        vertical-align: middle;\n",
       "    }\n",
       "\n",
       "    .dataframe tbody tr th {\n",
       "        vertical-align: top;\n",
       "    }\n",
       "\n",
       "    .dataframe thead th {\n",
       "        text-align: right;\n",
       "    }\n",
       "</style>\n",
       "<table border=\"1\" class=\"dataframe\">\n",
       "  <thead>\n",
       "    <tr style=\"text-align: right;\">\n",
       "      <th></th>\n",
       "    </tr>\n",
       "  </thead>\n",
       "  <tbody>\n",
       "  </tbody>\n",
       "</table>\n",
       "</div>"
      ],
      "text/plain": [
       "Empty DataFrame\n",
       "Columns: []\n",
       "Index: []"
      ]
     },
     "execution_count": 15,
     "metadata": {},
     "output_type": "execute_result"
    }
   ],
   "source": [
    "print(len(df1))\n",
    "df1.head()"
   ]
  },
  {
   "cell_type": "code",
   "execution_count": 16,
   "id": "d4f7ffb2",
   "metadata": {},
   "outputs": [
    {
     "name": "stdout",
     "output_type": "stream",
     "text": [
      "Percent OCR read yield for test subdirectory: 0.0 %\n"
     ]
    }
   ],
   "source": [
    "print('Percent OCR read yield for test subdirectory: ' + str(round((len(df1)/len(img_fns))*100, 1)) + ' %')"
   ]
  },
  {
   "cell_type": "code",
   "execution_count": null,
   "id": "9b2db64c",
   "metadata": {},
   "outputs": [],
   "source": []
  }
 ],
 "metadata": {
  "kernelspec": {
   "display_name": "Python 3",
   "language": "python",
   "name": "python3"
  },
  "language_info": {
   "codemirror_mode": {
    "name": "ipython",
    "version": 3
   },
   "file_extension": ".py",
   "mimetype": "text/x-python",
   "name": "python",
   "nbconvert_exporter": "python",
   "pygments_lexer": "ipython3",
   "version": "3.8.8"
  }
 },
 "nbformat": 4,
 "nbformat_minor": 5
}

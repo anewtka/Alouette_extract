{
 "cells": [
  {
   "cell_type": "markdown",
   "id": "05ca7ce0",
   "metadata": {},
   "source": [
    "# Prepare Data for Alouette Microapplication\n",
    "\n",
    "#### Updated: Jan 13, 2023"
   ]
  },
  {
   "cell_type": "markdown",
   "id": "2bccfa66",
   "metadata": {},
   "source": [
    "#  "
   ]
  },
  {
   "cell_type": "markdown",
   "id": "811d2c1f",
   "metadata": {},
   "source": [
    "Shape processed image results data to fit current Alouette microapplication (https://donnees-data.asc-csa.gc.ca:8888/alouette/):"
   ]
  },
  {
   "cell_type": "code",
   "execution_count": 16,
   "id": "5ea76a4f",
   "metadata": {},
   "outputs": [],
   "source": [
    "import pandas as pd\n",
    "import matplotlib.pyplot as plt\n",
    "import seaborn as sns"
   ]
  },
  {
   "cell_type": "code",
   "execution_count": 2,
   "id": "6d003af4",
   "metadata": {},
   "outputs": [],
   "source": [
    "localDir = 'C:/Users/rnaidoo/Documents/Projects_data/Alouette_I/'\n",
    "resultDir = 'L:/DATA/Alouette_I/05_result/'"
   ]
  },
  {
   "cell_type": "markdown",
   "id": "8db3d989",
   "metadata": {},
   "source": [
    "#  "
   ]
  },
  {
   "cell_type": "markdown",
   "id": "1c3d478a",
   "metadata": {},
   "source": [
    "#### Shape 'result_total.csv' (processed image results) to fit current Alouette microapplication data model:"
   ]
  },
  {
   "cell_type": "code",
   "execution_count": 3,
   "id": "5de6baee",
   "metadata": {},
   "outputs": [
    {
     "name": "stdout",
     "output_type": "stream",
     "text": [
      "406566\n"
     ]
    },
    {
     "data": {
      "text/html": [
       "<div>\n",
       "<style scoped>\n",
       "    .dataframe tbody tr th:only-of-type {\n",
       "        vertical-align: middle;\n",
       "    }\n",
       "\n",
       "    .dataframe tbody tr th {\n",
       "        vertical-align: top;\n",
       "    }\n",
       "\n",
       "    .dataframe thead th {\n",
       "        text-align: right;\n",
       "    }\n",
       "</style>\n",
       "<table border=\"1\" class=\"dataframe\">\n",
       "  <thead>\n",
       "    <tr style=\"text-align: right;\">\n",
       "      <th></th>\n",
       "      <th>ID</th>\n",
       "      <th>File name</th>\n",
       "      <th>Minimum frequency</th>\n",
       "      <th>Maximum depth</th>\n",
       "      <th>Subdirectory name</th>\n",
       "      <th>Satellite number</th>\n",
       "      <th>Ground station number</th>\n",
       "      <th>Timestamp</th>\n",
       "      <th>Ground station name</th>\n",
       "      <th>Ground station code</th>\n",
       "      <th>Latitude</th>\n",
       "      <th>Longitude</th>\n",
       "    </tr>\n",
       "  </thead>\n",
       "  <tbody>\n",
       "    <tr>\n",
       "      <th>0</th>\n",
       "      <td>0</td>\n",
       "      <td>R014207938/907-A/1</td>\n",
       "      <td>1.709677</td>\n",
       "      <td>974.545455</td>\n",
       "      <td>907-A</td>\n",
       "      <td>1</td>\n",
       "      <td>1</td>\n",
       "      <td>1965-05-25 16:48:01</td>\n",
       "      <td>Resolute Bay, No. W. Territories</td>\n",
       "      <td>RES</td>\n",
       "      <td>74.7</td>\n",
       "      <td>-95.0</td>\n",
       "    </tr>\n",
       "    <tr>\n",
       "      <th>1</th>\n",
       "      <td>1</td>\n",
       "      <td>R014207938/907-A/10</td>\n",
       "      <td>1.645161</td>\n",
       "      <td>1032.727273</td>\n",
       "      <td>907-A</td>\n",
       "      <td>1</td>\n",
       "      <td>1</td>\n",
       "      <td>1965-05-25 16:50:58</td>\n",
       "      <td>Resolute Bay, No. W. Territories</td>\n",
       "      <td>RES</td>\n",
       "      <td>74.7</td>\n",
       "      <td>-95.0</td>\n",
       "    </tr>\n",
       "    <tr>\n",
       "      <th>2</th>\n",
       "      <td>2</td>\n",
       "      <td>R014207938/907-A/100</td>\n",
       "      <td>1.701613</td>\n",
       "      <td>989.090909</td>\n",
       "      <td>907-A</td>\n",
       "      <td>1</td>\n",
       "      <td>1</td>\n",
       "      <td>1965-05-26 08:34:21</td>\n",
       "      <td>Resolute Bay, No. W. Territories</td>\n",
       "      <td>RES</td>\n",
       "      <td>74.7</td>\n",
       "      <td>-95.0</td>\n",
       "    </tr>\n",
       "    <tr>\n",
       "      <th>3</th>\n",
       "      <td>3</td>\n",
       "      <td>R014207938/907-A/101</td>\n",
       "      <td>1.685484</td>\n",
       "      <td>1080.000000</td>\n",
       "      <td>907-A</td>\n",
       "      <td>1</td>\n",
       "      <td>1</td>\n",
       "      <td>1965-05-26 08:34:38</td>\n",
       "      <td>Resolute Bay, No. W. Territories</td>\n",
       "      <td>RES</td>\n",
       "      <td>74.7</td>\n",
       "      <td>-95.0</td>\n",
       "    </tr>\n",
       "    <tr>\n",
       "      <th>4</th>\n",
       "      <td>4</td>\n",
       "      <td>R014207938/907-A/102</td>\n",
       "      <td>1.681452</td>\n",
       "      <td>203.636364</td>\n",
       "      <td>907-A</td>\n",
       "      <td>1</td>\n",
       "      <td>1</td>\n",
       "      <td>1965-05-26 08:34:58</td>\n",
       "      <td>Resolute Bay, No. W. Territories</td>\n",
       "      <td>RES</td>\n",
       "      <td>74.7</td>\n",
       "      <td>-95.0</td>\n",
       "    </tr>\n",
       "  </tbody>\n",
       "</table>\n",
       "</div>"
      ],
      "text/plain": [
       "   ID             File name  Minimum frequency  Maximum depth  \\\n",
       "0   0    R014207938/907-A/1           1.709677     974.545455   \n",
       "1   1   R014207938/907-A/10           1.645161    1032.727273   \n",
       "2   2  R014207938/907-A/100           1.701613     989.090909   \n",
       "3   3  R014207938/907-A/101           1.685484    1080.000000   \n",
       "4   4  R014207938/907-A/102           1.681452     203.636364   \n",
       "\n",
       "  Subdirectory name  Satellite number  Ground station number  \\\n",
       "0             907-A                 1                      1   \n",
       "1             907-A                 1                      1   \n",
       "2             907-A                 1                      1   \n",
       "3             907-A                 1                      1   \n",
       "4             907-A                 1                      1   \n",
       "\n",
       "             Timestamp               Ground station name Ground station code  \\\n",
       "0  1965-05-25 16:48:01  Resolute Bay, No. W. Territories                 RES   \n",
       "1  1965-05-25 16:50:58  Resolute Bay, No. W. Territories                 RES   \n",
       "2  1965-05-26 08:34:21  Resolute Bay, No. W. Territories                 RES   \n",
       "3  1965-05-26 08:34:38  Resolute Bay, No. W. Territories                 RES   \n",
       "4  1965-05-26 08:34:58  Resolute Bay, No. W. Territories                 RES   \n",
       "\n",
       "   Latitude  Longitude  \n",
       "0      74.7      -95.0  \n",
       "1      74.7      -95.0  \n",
       "2      74.7      -95.0  \n",
       "3      74.7      -95.0  \n",
       "4      74.7      -95.0  "
      ]
     },
     "execution_count": 3,
     "metadata": {},
     "output_type": "execute_result"
    }
   ],
   "source": [
    "df_current = pd.read_csv(localDir + 'microapplication_total_data_retr20230113.csv')\n",
    "print(len(df_current))\n",
    "df_current.head()"
   ]
  },
  {
   "cell_type": "code",
   "execution_count": 4,
   "id": "e7790f85",
   "metadata": {},
   "outputs": [
    {
     "data": {
      "text/html": [
       "<div>\n",
       "<style scoped>\n",
       "    .dataframe tbody tr th:only-of-type {\n",
       "        vertical-align: middle;\n",
       "    }\n",
       "\n",
       "    .dataframe tbody tr th {\n",
       "        vertical-align: top;\n",
       "    }\n",
       "\n",
       "    .dataframe thead th {\n",
       "        text-align: right;\n",
       "    }\n",
       "</style>\n",
       "<table border=\"1\" class=\"dataframe\">\n",
       "  <thead>\n",
       "    <tr style=\"text-align: right;\">\n",
       "      <th></th>\n",
       "      <th>ID</th>\n",
       "      <th>File name</th>\n",
       "      <th>Minimum frequency</th>\n",
       "      <th>Maximum depth</th>\n",
       "      <th>Subdirectory name</th>\n",
       "      <th>Satellite number</th>\n",
       "      <th>Ground station number</th>\n",
       "      <th>Timestamp</th>\n",
       "      <th>Ground station name</th>\n",
       "      <th>Ground station code</th>\n",
       "      <th>Latitude</th>\n",
       "      <th>Longitude</th>\n",
       "    </tr>\n",
       "  </thead>\n",
       "  <tbody>\n",
       "  </tbody>\n",
       "</table>\n",
       "</div>"
      ],
      "text/plain": [
       "Empty DataFrame\n",
       "Columns: [ID, File name, Minimum frequency, Maximum depth, Subdirectory name, Satellite number, Ground station number, Timestamp, Ground station name, Ground station code, Latitude, Longitude]\n",
       "Index: []"
      ]
     },
     "execution_count": 4,
     "metadata": {},
     "output_type": "execute_result"
    }
   ],
   "source": [
    "df_current.loc[df_current['File name'].str.contains('.png')]"
   ]
  },
  {
   "cell_type": "code",
   "execution_count": 5,
   "id": "f67cdd06",
   "metadata": {},
   "outputs": [
    {
     "name": "stderr",
     "output_type": "stream",
     "text": [
      "c:\\DevSoftware\\Anaconda38\\lib\\site-packages\\IPython\\core\\interactiveshell.py:3165: DtypeWarning: Columns (16,19,22,23,24,25,26,27,28,29,32) have mixed types.Specify dtype option on import or set low_memory=False.\n",
      "  has_raised = await self.run_ast_nodes(code_ast.body, cell_name,\n"
     ]
    },
    {
     "name": "stdout",
     "output_type": "stream",
     "text": [
      "817910\n"
     ]
    },
    {
     "data": {
      "text/html": [
       "<div>\n",
       "<style scoped>\n",
       "    .dataframe tbody tr th:only-of-type {\n",
       "        vertical-align: middle;\n",
       "    }\n",
       "\n",
       "    .dataframe tbody tr th {\n",
       "        vertical-align: top;\n",
       "    }\n",
       "\n",
       "    .dataframe thead th {\n",
       "        text-align: right;\n",
       "    }\n",
       "</style>\n",
       "<table border=\"1\" class=\"dataframe\">\n",
       "  <thead>\n",
       "    <tr style=\"text-align: right;\">\n",
       "      <th></th>\n",
       "      <th>Unnamed: 0</th>\n",
       "      <th>fmin</th>\n",
       "      <th>max_depth</th>\n",
       "      <th>satellite_number</th>\n",
       "      <th>year</th>\n",
       "      <th>day</th>\n",
       "      <th>hour</th>\n",
       "      <th>minute</th>\n",
       "      <th>second</th>\n",
       "      <th>station_number</th>\n",
       "      <th>...</th>\n",
       "      <th>raw_coord</th>\n",
       "      <th>window_coord</th>\n",
       "      <th>mapping_Hz</th>\n",
       "      <th>mapping_km</th>\n",
       "      <th>details</th>\n",
       "      <th>Roll</th>\n",
       "      <th>Subdirectory</th>\n",
       "      <th>filename</th>\n",
       "      <th>rotated_metadata</th>\n",
       "      <th>station_code</th>\n",
       "    </tr>\n",
       "  </thead>\n",
       "  <tbody>\n",
       "    <tr>\n",
       "      <th>0</th>\n",
       "      <td>0</td>\n",
       "      <td>1.5</td>\n",
       "      <td>387.500000</td>\n",
       "      <td>1.0</td>\n",
       "      <td>1961.0</td>\n",
       "      <td>3.0</td>\n",
       "      <td>2.0</td>\n",
       "      <td>2.0</td>\n",
       "      <td>3.0</td>\n",
       "      <td>3.0</td>\n",
       "      <td>...</td>\n",
       "      <td>NaN</td>\n",
       "      <td>NaN</td>\n",
       "      <td>NaN</td>\n",
       "      <td>NaN</td>\n",
       "      <td>NaN</td>\n",
       "      <td>R014207815</td>\n",
       "      <td>3488-15A</td>\n",
       "      <td>10.png</td>\n",
       "      <td>NaN</td>\n",
       "      <td>NaN</td>\n",
       "    </tr>\n",
       "    <tr>\n",
       "      <th>1</th>\n",
       "      <td>1</td>\n",
       "      <td>1.5</td>\n",
       "      <td>556.250000</td>\n",
       "      <td>1.0</td>\n",
       "      <td>1961.0</td>\n",
       "      <td>2.0</td>\n",
       "      <td>2.0</td>\n",
       "      <td>2.0</td>\n",
       "      <td>3.0</td>\n",
       "      <td>3.0</td>\n",
       "      <td>...</td>\n",
       "      <td>NaN</td>\n",
       "      <td>NaN</td>\n",
       "      <td>NaN</td>\n",
       "      <td>NaN</td>\n",
       "      <td>NaN</td>\n",
       "      <td>R014207815</td>\n",
       "      <td>3488-15A</td>\n",
       "      <td>101.png</td>\n",
       "      <td>NaN</td>\n",
       "      <td>NaN</td>\n",
       "    </tr>\n",
       "    <tr>\n",
       "      <th>2</th>\n",
       "      <td>2</td>\n",
       "      <td>1.5</td>\n",
       "      <td>654.166667</td>\n",
       "      <td>0.0</td>\n",
       "      <td>1960.0</td>\n",
       "      <td>2.0</td>\n",
       "      <td>2.0</td>\n",
       "      <td>3.0</td>\n",
       "      <td>2.0</td>\n",
       "      <td>3.0</td>\n",
       "      <td>...</td>\n",
       "      <td>NaN</td>\n",
       "      <td>NaN</td>\n",
       "      <td>NaN</td>\n",
       "      <td>NaN</td>\n",
       "      <td>NaN</td>\n",
       "      <td>R014207815</td>\n",
       "      <td>3488-15A</td>\n",
       "      <td>102.png</td>\n",
       "      <td>NaN</td>\n",
       "      <td>NaN</td>\n",
       "    </tr>\n",
       "    <tr>\n",
       "      <th>3</th>\n",
       "      <td>3</td>\n",
       "      <td>1.5</td>\n",
       "      <td>504.166667</td>\n",
       "      <td>0.0</td>\n",
       "      <td>1960.0</td>\n",
       "      <td>2.0</td>\n",
       "      <td>2.0</td>\n",
       "      <td>3.0</td>\n",
       "      <td>2.0</td>\n",
       "      <td>3.0</td>\n",
       "      <td>...</td>\n",
       "      <td>NaN</td>\n",
       "      <td>NaN</td>\n",
       "      <td>NaN</td>\n",
       "      <td>NaN</td>\n",
       "      <td>NaN</td>\n",
       "      <td>R014207815</td>\n",
       "      <td>3488-15A</td>\n",
       "      <td>106.png</td>\n",
       "      <td>NaN</td>\n",
       "      <td>NaN</td>\n",
       "    </tr>\n",
       "    <tr>\n",
       "      <th>4</th>\n",
       "      <td>4</td>\n",
       "      <td>1.5</td>\n",
       "      <td>504.166667</td>\n",
       "      <td>0.0</td>\n",
       "      <td>1961.0</td>\n",
       "      <td>2.0</td>\n",
       "      <td>2.0</td>\n",
       "      <td>2.0</td>\n",
       "      <td>3.0</td>\n",
       "      <td>3.0</td>\n",
       "      <td>...</td>\n",
       "      <td>NaN</td>\n",
       "      <td>NaN</td>\n",
       "      <td>NaN</td>\n",
       "      <td>NaN</td>\n",
       "      <td>NaN</td>\n",
       "      <td>R014207815</td>\n",
       "      <td>3488-15A</td>\n",
       "      <td>107.png</td>\n",
       "      <td>NaN</td>\n",
       "      <td>NaN</td>\n",
       "    </tr>\n",
       "  </tbody>\n",
       "</table>\n",
       "<p>5 rows × 36 columns</p>\n",
       "</div>"
      ],
      "text/plain": [
       "   Unnamed: 0  fmin   max_depth  satellite_number    year  day  hour  minute  \\\n",
       "0           0   1.5  387.500000               1.0  1961.0  3.0   2.0     2.0   \n",
       "1           1   1.5  556.250000               1.0  1961.0  2.0   2.0     2.0   \n",
       "2           2   1.5  654.166667               0.0  1960.0  2.0   2.0     3.0   \n",
       "3           3   1.5  504.166667               0.0  1960.0  2.0   2.0     3.0   \n",
       "4           4   1.5  504.166667               0.0  1961.0  2.0   2.0     2.0   \n",
       "\n",
       "   second  station_number  ... raw_coord window_coord mapping_Hz mapping_km  \\\n",
       "0     3.0             3.0  ...       NaN          NaN        NaN        NaN   \n",
       "1     3.0             3.0  ...       NaN          NaN        NaN        NaN   \n",
       "2     2.0             3.0  ...       NaN          NaN        NaN        NaN   \n",
       "3     2.0             3.0  ...       NaN          NaN        NaN        NaN   \n",
       "4     3.0             3.0  ...       NaN          NaN        NaN        NaN   \n",
       "\n",
       "  details        Roll Subdirectory  filename  rotated_metadata station_code  \n",
       "0     NaN  R014207815     3488-15A    10.png               NaN          NaN  \n",
       "1     NaN  R014207815     3488-15A   101.png               NaN          NaN  \n",
       "2     NaN  R014207815     3488-15A   102.png               NaN          NaN  \n",
       "3     NaN  R014207815     3488-15A   106.png               NaN          NaN  \n",
       "4     NaN  R014207815     3488-15A   107.png               NaN          NaN  \n",
       "\n",
       "[5 rows x 36 columns]"
      ]
     },
     "execution_count": 5,
     "metadata": {},
     "output_type": "execute_result"
    }
   ],
   "source": [
    "df_result = pd.read_csv(localDir + 'result_total_v20230113.csv')\n",
    "print(len(df_result))\n",
    "df_result.head()"
   ]
  },
  {
   "cell_type": "code",
   "execution_count": 6,
   "id": "86b99908",
   "metadata": {},
   "outputs": [
    {
     "data": {
      "text/plain": [
       "Index(['Unnamed: 0', 'fmin', 'max_depth', 'satellite_number', 'year', 'day',\n",
       "       'hour', 'minute', 'second', 'station_number', 'Station Name',\n",
       "       '3 - Letter Code', 'LAT.', 'LONG. ', 'processed_image_class',\n",
       "       'func_name', 'limits', 'height', 'width', 'metadata_type',\n",
       "       'meta_height', 'meta_width', 'x_centroids', 'y_centroids', 'is_dot',\n",
       "       'dict_metadata', 'raw_coord', 'window_coord', 'mapping_Hz',\n",
       "       'mapping_km', 'details', 'Roll', 'Subdirectory', 'filename',\n",
       "       'rotated_metadata', 'station_code'],\n",
       "      dtype='object')"
      ]
     },
     "execution_count": 6,
     "metadata": {},
     "output_type": "execute_result"
    }
   ],
   "source": [
    "df_result.columns"
   ]
  },
  {
   "cell_type": "code",
   "execution_count": 27,
   "id": "ffa91f37",
   "metadata": {},
   "outputs": [
    {
     "data": {
      "text/plain": [
       "array([  3.,   2.,   4.,   7.,   1.,  nan,   5.,   8.,   6.,   9.,  11.,\n",
       "        10.,  13.,  12.,   0.,  23.,  34.,  78.,  61.,  14.,  15.,  16.,\n",
       "        25.,  41., 100.,  94.,  57.,  40., 145.,  82.,  17.,  30., 116.,\n",
       "       125., 133., 174., 157.,  22.,  18.,  20.,  24.,  33.,  29.,  21.,\n",
       "        19.,  26.,  28.,  36.,  38.,  27.,  32.,  48.,  44.,  42.,  31.,\n",
       "        50.,  46.,  35.,  43.,  53.,  37.,  76.,  65.,  80.,  64.,  47.,\n",
       "        49.,  39.,  45.,  67.,  63.,  52.,  55.,  68.,  56.,  66.,  62.,\n",
       "        77., 107.,  74.,  73., 131.,  86.,  69.,  59.,  85.,  54.,  51.,\n",
       "        84.,  83.,  58., 127., 106., 108.,  92., 112.,  60., 161.])"
      ]
     },
     "execution_count": 27,
     "metadata": {},
     "output_type": "execute_result"
    }
   ],
   "source": [
    "df_result['day'].unique()"
   ]
  },
  {
   "cell_type": "code",
   "execution_count": 7,
   "id": "efb609c8",
   "metadata": {},
   "outputs": [
    {
     "data": {
      "text/plain": [
       "<AxesSubplot:xlabel='year', ylabel='Count'>"
      ]
     },
     "execution_count": 7,
     "metadata": {},
     "output_type": "execute_result"
    },
    {
     "data": {
      "image/png": "[encoded data removed]",
      "text/plain": [
       "<Figure size 432x288 with 1 Axes>"
      ]
     },
     "metadata": {
      "needs_background": "light"
     },
     "output_type": "display_data"
    }
   ],
   "source": [
    "sns.histplot(data=df_result, x='year', bins=25)"
   ]
  },
  {
   "cell_type": "code",
   "execution_count": 26,
   "id": "0bd8c35d",
   "metadata": {},
   "outputs": [
    {
     "data": {
      "text/plain": [
       "(0.0, 31.0)"
      ]
     },
     "execution_count": 26,
     "metadata": {},
     "output_type": "execute_result"
    },
    {
     "data": {
      "image/png": "[encoded data removed]",
      "text/plain": [
       "<Figure size 432x288 with 1 Axes>"
      ]
     },
     "metadata": {
      "needs_background": "light"
     },
     "output_type": "display_data"
    }
   ],
   "source": [
    "sns.histplot(data=df_result, x='day', bins=100)\n",
    "plt.xlim(0, 31)"
   ]
  },
  {
   "cell_type": "code",
   "execution_count": 28,
   "id": "b3d0764d",
   "metadata": {},
   "outputs": [
    {
     "data": {
      "text/plain": [
       "(0.0, 24.0)"
      ]
     },
     "execution_count": 28,
     "metadata": {},
     "output_type": "execute_result"
    },
    {
     "data": {
      "image/png": "[encoded data removed]",
      "text/plain": [
       "<Figure size 432x288 with 1 Axes>"
      ]
     },
     "metadata": {
      "needs_background": "light"
     },
     "output_type": "display_data"
    }
   ],
   "source": [
    "sns.histplot(data=df_result, x='hour', bins=100)\n",
    "plt.xlim(0, 24)"
   ]
  },
  {
   "cell_type": "code",
   "execution_count": 29,
   "id": "f1bc78b2",
   "metadata": {},
   "outputs": [
    {
     "data": {
      "text/plain": [
       "(0.0, 60.0)"
      ]
     },
     "execution_count": 29,
     "metadata": {},
     "output_type": "execute_result"
    },
    {
     "data": {
      "image/png": "[encoded data removed]",
      "text/plain": [
       "<Figure size 432x288 with 1 Axes>"
      ]
     },
     "metadata": {
      "needs_background": "light"
     },
     "output_type": "display_data"
    }
   ],
   "source": [
    "sns.histplot(data=df_result, x='minute', bins=100)\n",
    "plt.xlim(0, 60)"
   ]
  },
  {
   "cell_type": "code",
   "execution_count": 30,
   "id": "d57b3ebc",
   "metadata": {},
   "outputs": [
    {
     "data": {
      "text/plain": [
       "(0.0, 60.0)"
      ]
     },
     "execution_count": 30,
     "metadata": {},
     "output_type": "execute_result"
    },
    {
     "data": {
      "image/png": "[encoded data removed]",
      "text/plain": [
       "<Figure size 432x288 with 1 Axes>"
      ]
     },
     "metadata": {
      "needs_background": "light"
     },
     "output_type": "display_data"
    }
   ],
   "source": [
    "sns.histplot(data=df_result, x='second', bins=100)\n",
    "plt.xlim(0, 60)"
   ]
  },
  {
   "cell_type": "code",
   "execution_count": 9,
   "id": "894e46fa",
   "metadata": {},
   "outputs": [
    {
     "name": "stderr",
     "output_type": "stream",
     "text": [
      "<ipython-input-9-bafdf7ebec7b>:2: FutureWarning: The default value of regex will change from True to False in a future version.\n",
      "  df_result['File name'] = df_result['Roll'].astype(str) + '/' + df_result['Subdirectory'].astype(str) + '/' + df_result['filename'].str.replace('.png', '')\n"
     ]
    }
   ],
   "source": [
    "df_result['ID'] = df_result['Unnamed: 0']\n",
    "df_result['File name'] = df_result['Roll'].astype(str) + '/' + df_result['Subdirectory'].astype(str) + '/' + df_result['filename'].str.replace('.png', '')\n",
    "df_result['Minimum frequency'] = df_result['fmin']\n",
    "df_result['Maximum depth'] = df_result['max_depth']\n",
    "df_result['Subdirectory name'] = df_result['Subdirectory']\n",
    "df_result['Satellite number'] = df_result['satellite_number']\n",
    "df_result['Timestamp'] = df_result['year']\n",
    "df_result['Ground station number'] = df_result['station_number']\n",
    "df_result['Ground station name'] = df_result['Station Name']\n",
    "df_result['Ground station code'] = df_result['3 - Letter Code']\n",
    "df_result['Latitude'] = df_result['LAT.']\n",
    "df_result['Longitude'] = df_result['LONG. ']"
   ]
  },
  {
   "cell_type": "code",
   "execution_count": 10,
   "id": "f52c1df5",
   "metadata": {},
   "outputs": [
    {
     "data": {
      "text/plain": [
       "['ID',\n",
       " 'File name',\n",
       " 'Minimum frequency',\n",
       " 'Maximum depth',\n",
       " 'Subdirectory name',\n",
       " 'Satellite number',\n",
       " 'Ground station number',\n",
       " 'Timestamp',\n",
       " 'Ground station name',\n",
       " 'Ground station code',\n",
       " 'Latitude',\n",
       " 'Longitude']"
      ]
     },
     "execution_count": 10,
     "metadata": {},
     "output_type": "execute_result"
    }
   ],
   "source": [
    "list(df_current.columns)"
   ]
  },
  {
   "cell_type": "code",
   "execution_count": 11,
   "id": "3cbf8263",
   "metadata": {},
   "outputs": [
    {
     "name": "stdout",
     "output_type": "stream",
     "text": [
      "817910\n"
     ]
    },
    {
     "data": {
      "text/html": [
       "<div>\n",
       "<style scoped>\n",
       "    .dataframe tbody tr th:only-of-type {\n",
       "        vertical-align: middle;\n",
       "    }\n",
       "\n",
       "    .dataframe tbody tr th {\n",
       "        vertical-align: top;\n",
       "    }\n",
       "\n",
       "    .dataframe thead th {\n",
       "        text-align: right;\n",
       "    }\n",
       "</style>\n",
       "<table border=\"1\" class=\"dataframe\">\n",
       "  <thead>\n",
       "    <tr style=\"text-align: right;\">\n",
       "      <th></th>\n",
       "      <th>ID</th>\n",
       "      <th>File name</th>\n",
       "      <th>Minimum frequency</th>\n",
       "      <th>Maximum depth</th>\n",
       "      <th>Subdirectory name</th>\n",
       "      <th>Satellite number</th>\n",
       "      <th>Ground station number</th>\n",
       "      <th>Timestamp</th>\n",
       "      <th>Ground station name</th>\n",
       "      <th>Ground station code</th>\n",
       "      <th>Latitude</th>\n",
       "      <th>Longitude</th>\n",
       "    </tr>\n",
       "  </thead>\n",
       "  <tbody>\n",
       "    <tr>\n",
       "      <th>0</th>\n",
       "      <td>0</td>\n",
       "      <td>R014207815/3488-15A/10</td>\n",
       "      <td>1.5</td>\n",
       "      <td>387.500000</td>\n",
       "      <td>3488-15A</td>\n",
       "      <td>1.0</td>\n",
       "      <td>3.0</td>\n",
       "      <td>1961.0</td>\n",
       "      <td>Ottawa, Canada</td>\n",
       "      <td>OTT</td>\n",
       "      <td>45.4N</td>\n",
       "      <td>75.7W</td>\n",
       "    </tr>\n",
       "    <tr>\n",
       "      <th>1</th>\n",
       "      <td>1</td>\n",
       "      <td>R014207815/3488-15A/101</td>\n",
       "      <td>1.5</td>\n",
       "      <td>556.250000</td>\n",
       "      <td>3488-15A</td>\n",
       "      <td>1.0</td>\n",
       "      <td>3.0</td>\n",
       "      <td>1961.0</td>\n",
       "      <td>Ottawa, Canada</td>\n",
       "      <td>OTT</td>\n",
       "      <td>45.4N</td>\n",
       "      <td>75.7W</td>\n",
       "    </tr>\n",
       "    <tr>\n",
       "      <th>2</th>\n",
       "      <td>2</td>\n",
       "      <td>R014207815/3488-15A/102</td>\n",
       "      <td>1.5</td>\n",
       "      <td>654.166667</td>\n",
       "      <td>3488-15A</td>\n",
       "      <td>0.0</td>\n",
       "      <td>3.0</td>\n",
       "      <td>1960.0</td>\n",
       "      <td>Ottawa, Canada</td>\n",
       "      <td>OTT</td>\n",
       "      <td>45.4N</td>\n",
       "      <td>75.7W</td>\n",
       "    </tr>\n",
       "    <tr>\n",
       "      <th>3</th>\n",
       "      <td>3</td>\n",
       "      <td>R014207815/3488-15A/106</td>\n",
       "      <td>1.5</td>\n",
       "      <td>504.166667</td>\n",
       "      <td>3488-15A</td>\n",
       "      <td>0.0</td>\n",
       "      <td>3.0</td>\n",
       "      <td>1960.0</td>\n",
       "      <td>Ottawa, Canada</td>\n",
       "      <td>OTT</td>\n",
       "      <td>45.4N</td>\n",
       "      <td>75.7W</td>\n",
       "    </tr>\n",
       "    <tr>\n",
       "      <th>4</th>\n",
       "      <td>4</td>\n",
       "      <td>R014207815/3488-15A/107</td>\n",
       "      <td>1.5</td>\n",
       "      <td>504.166667</td>\n",
       "      <td>3488-15A</td>\n",
       "      <td>0.0</td>\n",
       "      <td>3.0</td>\n",
       "      <td>1961.0</td>\n",
       "      <td>Ottawa, Canada</td>\n",
       "      <td>OTT</td>\n",
       "      <td>45.4N</td>\n",
       "      <td>75.7W</td>\n",
       "    </tr>\n",
       "  </tbody>\n",
       "</table>\n",
       "</div>"
      ],
      "text/plain": [
       "   ID                File name  Minimum frequency  Maximum depth  \\\n",
       "0   0   R014207815/3488-15A/10                1.5     387.500000   \n",
       "1   1  R014207815/3488-15A/101                1.5     556.250000   \n",
       "2   2  R014207815/3488-15A/102                1.5     654.166667   \n",
       "3   3  R014207815/3488-15A/106                1.5     504.166667   \n",
       "4   4  R014207815/3488-15A/107                1.5     504.166667   \n",
       "\n",
       "  Subdirectory name  Satellite number  Ground station number  Timestamp  \\\n",
       "0          3488-15A               1.0                    3.0     1961.0   \n",
       "1          3488-15A               1.0                    3.0     1961.0   \n",
       "2          3488-15A               0.0                    3.0     1960.0   \n",
       "3          3488-15A               0.0                    3.0     1960.0   \n",
       "4          3488-15A               0.0                    3.0     1961.0   \n",
       "\n",
       "  Ground station name Ground station code Latitude Longitude  \n",
       "0      Ottawa, Canada                 OTT    45.4N     75.7W  \n",
       "1      Ottawa, Canada                 OTT    45.4N     75.7W  \n",
       "2      Ottawa, Canada                 OTT    45.4N     75.7W  \n",
       "3      Ottawa, Canada                 OTT    45.4N     75.7W  \n",
       "4      Ottawa, Canada                 OTT    45.4N     75.7W  "
      ]
     },
     "execution_count": 11,
     "metadata": {},
     "output_type": "execute_result"
    }
   ],
   "source": [
    "df1 = df_result[list(df_current.columns)]\n",
    "print(len(df1))\n",
    "df1.head()"
   ]
  },
  {
   "cell_type": "code",
   "execution_count": null,
   "id": "0876f157",
   "metadata": {},
   "outputs": [],
   "source": []
  }
 ],
 "metadata": {
  "kernelspec": {
   "display_name": "Python 3",
   "language": "python",
   "name": "python3"
  },
  "language_info": {
   "codemirror_mode": {
    "name": "ipython",
    "version": 3
   },
   "file_extension": ".py",
   "mimetype": "text/x-python",
   "name": "python",
   "nbconvert_exporter": "python",
   "pygments_lexer": "ipython3",
   "version": "3.8.8"
  }
 },
 "nbformat": 4,
 "nbformat_minor": 5
}

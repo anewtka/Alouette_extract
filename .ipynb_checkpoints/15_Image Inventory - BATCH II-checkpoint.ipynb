{
 "cells": [
  {
   "cell_type": "markdown",
   "id": "6848d574",
   "metadata": {},
   "source": [
    "# Image Inventory BATCH II\n",
    "\n",
    "#### Updated: Mar 1, 2023"
   ]
  },
  {
   "cell_type": "markdown",
   "id": "146e64d1",
   "metadata": {},
   "source": [
    "#  "
   ]
  },
  {
   "cell_type": "markdown",
   "id": "3fc7b383",
   "metadata": {},
   "source": [
    "Produce Image Inventory for BATCH II Alouette I data. Account for a remove data that is associated with Alouette II."
   ]
  },
  {
   "cell_type": "code",
   "execution_count": 1,
   "id": "4388eab5",
   "metadata": {},
   "outputs": [],
   "source": [
    "import pandas as pd\n",
    "import os"
   ]
  },
  {
   "cell_type": "code",
   "execution_count": 2,
   "id": "cafd46f2",
   "metadata": {},
   "outputs": [],
   "source": [
    "dataDir = 'L:/DATA/Alouette_I/BATCH_II_raw_ftp/'\n",
    "logDir = 'L:/DATA/Alouette_I/BATCH_II_Run1/06_log/'"
   ]
  },
  {
   "cell_type": "markdown",
   "id": "b295064e",
   "metadata": {},
   "source": [
    "#  "
   ]
  },
  {
   "cell_type": "markdown",
   "id": "aa187fdb",
   "metadata": {},
   "source": [
    "#### Produce image_inventory:"
   ]
  },
  {
   "cell_type": "code",
   "execution_count": 3,
   "id": "07da6f75",
   "metadata": {},
   "outputs": [
    {
     "name": "stdout",
     "output_type": "stream",
     "text": [
      "R014207709\n",
      "R014207711\n",
      "R014207763\n",
      "R014207766\n",
      "R014207769\n",
      "R014207807\n",
      "R014207808\n",
      "R014207810\n",
      "R014207811\n",
      "R014207813\n",
      "R014207817\n",
      "R014207818\n",
      "R014207819\n",
      "R014207820\n",
      "R014207822\n",
      "R014207825\n"
     ]
    }
   ],
   "source": [
    "df_inventory = pd.DataFrame()\n",
    "for roll in os.listdir(dataDir):\n",
    "    print(roll)\n",
    "    for subdirectory in os.listdir(dataDir + roll):\n",
    "        n_images = len(os.listdir(dataDir + roll + '/' + subdirectory))\n",
    "        df_inventory_ = pd.DataFrame({\n",
    "            'Roll': roll, \n",
    "            'Subdirectory': subdirectory,\n",
    "            'images': n_images,\n",
    "            'subdir_id': roll + '_' + subdirectory\n",
    "        }, index=[0])\n",
    "        df_inventory = pd.concat([df_inventory, df_inventory_], axis=0, ignore_index=True)"
   ]
  },
  {
   "cell_type": "code",
   "execution_count": 4,
   "id": "ad9fb08b",
   "metadata": {},
   "outputs": [
    {
     "name": "stdout",
     "output_type": "stream",
     "text": [
      "927\n"
     ]
    },
    {
     "data": {
      "text/html": [
       "<div>\n",
       "<style scoped>\n",
       "    .dataframe tbody tr th:only-of-type {\n",
       "        vertical-align: middle;\n",
       "    }\n",
       "\n",
       "    .dataframe tbody tr th {\n",
       "        vertical-align: top;\n",
       "    }\n",
       "\n",
       "    .dataframe thead th {\n",
       "        text-align: right;\n",
       "    }\n",
       "</style>\n",
       "<table border=\"1\" class=\"dataframe\">\n",
       "  <thead>\n",
       "    <tr style=\"text-align: right;\">\n",
       "      <th></th>\n",
       "      <th>Roll</th>\n",
       "      <th>Subdirectory</th>\n",
       "      <th>images</th>\n",
       "      <th>subdir_id</th>\n",
       "    </tr>\n",
       "  </thead>\n",
       "  <tbody>\n",
       "    <tr>\n",
       "      <th>0</th>\n",
       "      <td>R014207709</td>\n",
       "      <td>145</td>\n",
       "      <td>53</td>\n",
       "      <td>R014207709_145</td>\n",
       "    </tr>\n",
       "    <tr>\n",
       "      <th>1</th>\n",
       "      <td>R014207709</td>\n",
       "      <td>146</td>\n",
       "      <td>63</td>\n",
       "      <td>R014207709_146</td>\n",
       "    </tr>\n",
       "    <tr>\n",
       "      <th>2</th>\n",
       "      <td>R014207709</td>\n",
       "      <td>147</td>\n",
       "      <td>50</td>\n",
       "      <td>R014207709_147</td>\n",
       "    </tr>\n",
       "    <tr>\n",
       "      <th>3</th>\n",
       "      <td>R014207709</td>\n",
       "      <td>148</td>\n",
       "      <td>16</td>\n",
       "      <td>R014207709_148</td>\n",
       "    </tr>\n",
       "    <tr>\n",
       "      <th>4</th>\n",
       "      <td>R014207709</td>\n",
       "      <td>149</td>\n",
       "      <td>28</td>\n",
       "      <td>R014207709_149</td>\n",
       "    </tr>\n",
       "  </tbody>\n",
       "</table>\n",
       "</div>"
      ],
      "text/plain": [
       "         Roll Subdirectory  images       subdir_id\n",
       "0  R014207709          145      53  R014207709_145\n",
       "1  R014207709          146      63  R014207709_146\n",
       "2  R014207709          147      50  R014207709_147\n",
       "3  R014207709          148      16  R014207709_148\n",
       "4  R014207709          149      28  R014207709_149"
      ]
     },
     "execution_count": 4,
     "metadata": {},
     "output_type": "execute_result"
    }
   ],
   "source": [
    "print(len(df_inventory))\n",
    "df_inventory.head()"
   ]
  },
  {
   "cell_type": "markdown",
   "id": "02bd6a4f",
   "metadata": {},
   "source": [
    "  "
   ]
  },
  {
   "cell_type": "markdown",
   "id": "c442dc2e",
   "metadata": {},
   "source": [
    "Remove data associated with Alouette II:"
   ]
  },
  {
   "cell_type": "code",
   "execution_count": 5,
   "id": "83a8f70b",
   "metadata": {},
   "outputs": [],
   "source": [
    "roll_remove = 'R015954001'\n",
    "subdirs_remove = ['B1-8-B', 'B1-34-2', 'B1-34-2', 'B2-8-B', 'B3-15-B', 'B4-15-B', 'B5-50-B', 'B6-50-B', 'B7-50-B', \n",
    "                  'B8-50-B', 'B010-5-B', 'B011-37-B', 'B012-16-B', 'B013-53-B', 'B014-3-B', 'B015-14-B', 'B016-21-B',\n",
    "                  'B018-50-B', 'B019-50-B', 'B020-50-B', 'B021-50-B', 'B022-50-B', 'B023-8-3', 'B024-8-B', 'B025-B-15', \n",
    "                  'B026-21', 'B027-38-B']"
   ]
  },
  {
   "cell_type": "code",
   "execution_count": 6,
   "id": "3fc3fd8c",
   "metadata": {},
   "outputs": [],
   "source": [
    "df_inv2 = df_inventory.copy(deep=True)\n",
    "for subdir_remove in subdirs_remove:\n",
    "    df_inv2 = df_inv2.loc[df_inv2.subdir_id != roll_remove + '_' + subdir_remove]"
   ]
  },
  {
   "cell_type": "code",
   "execution_count": 7,
   "id": "674d1057",
   "metadata": {},
   "outputs": [
    {
     "name": "stdout",
     "output_type": "stream",
     "text": [
      "927\n"
     ]
    },
    {
     "data": {
      "text/html": [
       "<div>\n",
       "<style scoped>\n",
       "    .dataframe tbody tr th:only-of-type {\n",
       "        vertical-align: middle;\n",
       "    }\n",
       "\n",
       "    .dataframe tbody tr th {\n",
       "        vertical-align: top;\n",
       "    }\n",
       "\n",
       "    .dataframe thead th {\n",
       "        text-align: right;\n",
       "    }\n",
       "</style>\n",
       "<table border=\"1\" class=\"dataframe\">\n",
       "  <thead>\n",
       "    <tr style=\"text-align: right;\">\n",
       "      <th></th>\n",
       "      <th>Roll</th>\n",
       "      <th>Subdirectory</th>\n",
       "      <th>images</th>\n",
       "      <th>subdir_id</th>\n",
       "    </tr>\n",
       "  </thead>\n",
       "  <tbody>\n",
       "    <tr>\n",
       "      <th>0</th>\n",
       "      <td>R014207709</td>\n",
       "      <td>145</td>\n",
       "      <td>53</td>\n",
       "      <td>R014207709_145</td>\n",
       "    </tr>\n",
       "    <tr>\n",
       "      <th>1</th>\n",
       "      <td>R014207709</td>\n",
       "      <td>146</td>\n",
       "      <td>63</td>\n",
       "      <td>R014207709_146</td>\n",
       "    </tr>\n",
       "    <tr>\n",
       "      <th>2</th>\n",
       "      <td>R014207709</td>\n",
       "      <td>147</td>\n",
       "      <td>50</td>\n",
       "      <td>R014207709_147</td>\n",
       "    </tr>\n",
       "    <tr>\n",
       "      <th>3</th>\n",
       "      <td>R014207709</td>\n",
       "      <td>148</td>\n",
       "      <td>16</td>\n",
       "      <td>R014207709_148</td>\n",
       "    </tr>\n",
       "    <tr>\n",
       "      <th>4</th>\n",
       "      <td>R014207709</td>\n",
       "      <td>149</td>\n",
       "      <td>28</td>\n",
       "      <td>R014207709_149</td>\n",
       "    </tr>\n",
       "  </tbody>\n",
       "</table>\n",
       "</div>"
      ],
      "text/plain": [
       "         Roll Subdirectory  images       subdir_id\n",
       "0  R014207709          145      53  R014207709_145\n",
       "1  R014207709          146      63  R014207709_146\n",
       "2  R014207709          147      50  R014207709_147\n",
       "3  R014207709          148      16  R014207709_148\n",
       "4  R014207709          149      28  R014207709_149"
      ]
     },
     "execution_count": 7,
     "metadata": {},
     "output_type": "execute_result"
    }
   ],
   "source": [
    "print(len(df_inv2))\n",
    "df_inv2.head()"
   ]
  },
  {
   "cell_type": "markdown",
   "id": "43aaacb6",
   "metadata": {},
   "source": [
    "  "
   ]
  },
  {
   "cell_type": "markdown",
   "id": "38b6f332",
   "metadata": {},
   "source": [
    "Save:"
   ]
  },
  {
   "cell_type": "code",
   "execution_count": 8,
   "id": "73d8fe60",
   "metadata": {},
   "outputs": [],
   "source": [
    "df_inv2.to_csv(logDir + 'image_inventory.csv', index=False)"
   ]
  },
  {
   "cell_type": "markdown",
   "id": "d7caea44",
   "metadata": {},
   "source": [
    "  "
   ]
  },
  {
   "cell_type": "markdown",
   "id": "68fb9a43",
   "metadata": {},
   "source": [
    "Analyze:"
   ]
  },
  {
   "cell_type": "code",
   "execution_count": 9,
   "id": "511d8a06",
   "metadata": {},
   "outputs": [
    {
     "name": "stdout",
     "output_type": "stream",
     "text": [
      "There are 927 subdirectories.\n",
      "There are on average 58.0 +/- 7.0 subdirectories in each roll.\n",
      "There are on average 306.0 +/- 112.0 images in each subdirectory.\n"
     ]
    }
   ],
   "source": [
    "print('There are ' + str(len(df_inv2)) + ' subdirectories.')\n",
    "\n",
    "df1 = pd.DataFrame()\n",
    "for roll in df_inv2['Roll'].unique():\n",
    "    df_roll = df_inv2.loc[df_inv2['Roll'] == roll] \n",
    "    df1_ = pd.DataFrame({\n",
    "        'Roll': roll,\n",
    "        'n_subdirs': len(df_roll)\n",
    "    }, index=[0])\n",
    "    df1 = pd.concat([df1, df1_], ignore_index=True)\n",
    "mean = df1['n_subdirs'].mean()\n",
    "std_dev = df1['n_subdirs'].std()\n",
    "print('There are on average ' + str(round(mean,0)) + ' +/- ' + str(round(std_dev,0)) + ' subdirectories in each roll.')\n",
    "\n",
    "mean = df_inv2['images'].mean()\n",
    "std_dev = df_inv2['images'].std()\n",
    "print('There are on average ' + str(round(mean,0)) + ' +/- ' + str(round(std_dev,0)) + ' images in each subdirectory.')"
   ]
  },
  {
   "cell_type": "code",
   "execution_count": null,
   "id": "6ee68a26",
   "metadata": {},
   "outputs": [],
   "source": []
  }
 ],
 "metadata": {
  "kernelspec": {
   "display_name": "Python 3",
   "language": "python",
   "name": "python3"
  },
  "language_info": {
   "codemirror_mode": {
    "name": "ipython",
    "version": 3
   },
   "file_extension": ".py",
   "mimetype": "text/x-python",
   "name": "python",
   "nbconvert_exporter": "python",
   "pygments_lexer": "ipython3",
   "version": "3.8.8"
  }
 },
 "nbformat": 4,
 "nbformat_minor": 5
}

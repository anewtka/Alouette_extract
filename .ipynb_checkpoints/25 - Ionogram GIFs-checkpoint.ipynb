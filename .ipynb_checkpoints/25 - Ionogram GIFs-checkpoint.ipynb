{
 "cells": [
  {
   "cell_type": "code",
   "execution_count": 1,
   "id": "b45f633f",
   "metadata": {},
   "outputs": [],
   "source": [
    "#importing required libraries"
   ]
  },
  {
   "cell_type": "code",
   "execution_count": 2,
   "id": "7147305e",
   "metadata": {},
   "outputs": [],
   "source": [
    "from PIL import Image"
   ]
  },
  {
   "cell_type": "code",
   "execution_count": 3,
   "id": "40e1623f",
   "metadata": {},
   "outputs": [],
   "source": [
    "import glob"
   ]
  },
  {
   "cell_type": "code",
   "execution_count": 20,
   "id": "2629f30d",
   "metadata": {},
   "outputs": [],
   "source": [
    "from IPython.display import Image, display"
   ]
  },
  {
   "cell_type": "markdown",
   "id": "faca6f04",
   "metadata": {},
   "source": [
    "## Num GIF"
   ]
  },
  {
   "cell_type": "code",
   "execution_count": 10,
   "id": "64b66baa",
   "metadata": {},
   "outputs": [],
   "source": [
    "# selected image path R014207930F>> 617>> Image 50 to 60\n",
    "image_paths = glob.glob(\"G:/rsheikholmolouki/Alouette/GIF_animations/NUM/*png\")"
   ]
  },
  {
   "cell_type": "code",
   "execution_count": 11,
   "id": "3d49176e",
   "metadata": {},
   "outputs": [],
   "source": [
    "frames= []"
   ]
  },
  {
   "cell_type": "code",
   "execution_count": 13,
   "id": "d86b94f7",
   "metadata": {},
   "outputs": [],
   "source": [
    "#going over each image file\n",
    "for image_path in image_paths:\n",
    "    image = Image.open(image_path)\n",
    "    frames.append(image)"
   ]
  },
  {
   "cell_type": "code",
   "execution_count": 19,
   "id": "1a9801f4",
   "metadata": {},
   "outputs": [],
   "source": [
    "frames[0].save('G:/rsheikholmolouki/Alouette/GIF_animations/NUM/num_output.gif', format = 'GIF', append_images = frames[1:], save_all= True, duration = 200, loop = 0)"
   ]
  },
  {
   "cell_type": "code",
   "execution_count": null,
   "id": "78914648",
   "metadata": {},
   "outputs": [],
   "source": []
  },
  {
   "cell_type": "markdown",
   "id": "ae62e445",
   "metadata": {},
   "source": [
    "## Dot GIF"
   ]
  },
  {
   "cell_type": "code",
   "execution_count": null,
   "id": "2a28ede1",
   "metadata": {},
   "outputs": [],
   "source": [
    "# selected image path R014207930F>> 617>> Image 50 to 60\n",
    "image_paths = glob.glob(\"G:/rsheikholmolouki/Alouette/GIF_animations/Dot/*png\")"
   ]
  },
  {
   "cell_type": "code",
   "execution_count": null,
   "id": "064abd01",
   "metadata": {},
   "outputs": [],
   "source": [
    "frames= []"
   ]
  },
  {
   "cell_type": "code",
   "execution_count": null,
   "id": "fa2bc2a3",
   "metadata": {},
   "outputs": [],
   "source": [
    "#going over each image file\n",
    "for image_path in image_paths:\n",
    "    image = Image.open(image_path)\n",
    "    frames.append(image)"
   ]
  },
  {
   "cell_type": "code",
   "execution_count": null,
   "id": "00e739e6",
   "metadata": {},
   "outputs": [],
   "source": [
    "frames[0].save('G:/rsheikholmolouki/Alouette/GIF_animations/Dot/num_output.gif', format = 'GIF', append_images = frames[1:], save_all= True, duration = 200, loop = 0)"
   ]
  },
  {
   "cell_type": "markdown",
   "id": "dbc45563",
   "metadata": {},
   "source": [
    "## Num 2 GIF"
   ]
  },
  {
   "cell_type": "code",
   "execution_count": null,
   "id": "600838a6",
   "metadata": {},
   "outputs": [],
   "source": [
    "# selected image path R014207930F>> 617>> Image 50 to 60\n",
    "image_paths = glob.glob(\"G:/rsheikholmolouki/Alouette/GIF_animations/NUM2/*png\")"
   ]
  },
  {
   "cell_type": "code",
   "execution_count": null,
   "id": "712a3a8d",
   "metadata": {},
   "outputs": [],
   "source": [
    "frames= []"
   ]
  },
  {
   "cell_type": "code",
   "execution_count": null,
   "id": "107618e2",
   "metadata": {},
   "outputs": [],
   "source": [
    "#going over each image file\n",
    "for image_path in image_paths:\n",
    "    image = Image.open(image_path)\n",
    "    frames.append(image)"
   ]
  },
  {
   "cell_type": "code",
   "execution_count": null,
   "id": "4d7af513",
   "metadata": {},
   "outputs": [],
   "source": [
    "frames[0].save('G:/rsheikholmolouki/Alouette/GIF_animations/NUM2/num_output.gif', format = 'GIF', append_images = frames[1:], save_all= True, duration = 200, loop = 0)"
   ]
  }
 ],
 "metadata": {
  "kernelspec": {
   "display_name": "Python 3",
   "language": "python",
   "name": "python3"
  },
  "language_info": {
   "codemirror_mode": {
    "name": "ipython",
    "version": 3
   },
   "file_extension": ".py",
   "mimetype": "text/x-python",
   "name": "python",
   "nbconvert_exporter": "python",
   "pygments_lexer": "ipython3",
   "version": "3.8.8"
  }
 },
 "nbformat": 4,
 "nbformat_minor": 5
}

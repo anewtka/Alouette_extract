{
 "cells": [
  {
   "cell_type": "markdown",
   "id": "aa42cc82",
   "metadata": {},
   "source": [
    "# Quality Analysis - General\n",
    "\n",
    "#### Updated: May 17, 2023"
   ]
  },
  {
   "cell_type": "markdown",
   "id": "55ba88fc",
   "metadata": {},
   "source": [
    "#  "
   ]
  },
  {
   "cell_type": "markdown",
   "id": "a247d7b9",
   "metadata": {},
   "source": [
    "Quality analysis pipeline after phase 2 of Alouette processing (OCR processing phase):"
   ]
  },
  {
   "cell_type": "code",
   "execution_count": 73,
   "id": "b5ed871f",
   "metadata": {},
   "outputs": [],
   "source": [
    "import os\n",
    "import numpy as np\n",
    "import pandas as pd\n",
    "import seaborn as sns"
   ]
  },
  {
   "cell_type": "code",
   "execution_count": 74,
   "id": "e42a259e",
   "metadata": {},
   "outputs": [],
   "source": [
    "rootDir = 'L:/DATA/Alouette_I/BATCH_II_Run2/'\n",
    "resultDir = rootDir + '05_result/'\n",
    "logDir = rootDir + '06_log/'"
   ]
  },
  {
   "cell_type": "markdown",
   "id": "fc2f85e5",
   "metadata": {},
   "source": [
    "#  "
   ]
  },
  {
   "cell_type": "markdown",
   "id": "7c23d356",
   "metadata": {},
   "source": [
    "#### Combine BATCH I and II:"
   ]
  },
  {
   "cell_type": "markdown",
   "id": "259a628c",
   "metadata": {},
   "source": [
    "#  "
   ]
  },
  {
   "cell_type": "markdown",
   "id": "2b4e76aa",
   "metadata": {},
   "source": [
    "#### Stage 1 - Overall Statistics:"
   ]
  },
  {
   "cell_type": "code",
   "execution_count": 75,
   "id": "3115f90a",
   "metadata": {},
   "outputs": [],
   "source": [
    "df_inventory = pd.read_csv(logDir + 'image_inventory.csv')\n",
    "n_images = df_inventory['images'].sum()"
   ]
  },
  {
   "cell_type": "code",
   "execution_count": 76,
   "id": "8da00a06",
   "metadata": {},
   "outputs": [],
   "source": [
    "df_s1 = pd.read_csv(resultDir + 'result_stage1_raw.csv', low_memory=False)"
   ]
  },
  {
   "cell_type": "code",
   "execution_count": 77,
   "id": "8f81c22b",
   "metadata": {},
   "outputs": [],
   "source": [
    "n_proc = len(df_s1.loc[df_s1['processed_image_class'] == 'num']) + len(df_s1.loc[df_s1['processed_image_class'] == 'dot'])\n",
    "n_loss = len(df_s1.loc[df_s1['processed_image_class'] == 'loss'])\n",
    "n_outlier = len(df_s1.loc[df_s1['processed_image_class'] == 'outlier'])\n",
    "n_unproc = n_images - n_proc - n_outlier - n_loss"
   ]
  },
  {
   "cell_type": "code",
   "execution_count": 78,
   "id": "c20872f2",
   "metadata": {},
   "outputs": [
    {
     "name": "stdout",
     "output_type": "stream",
     "text": [
      "# of images: 726577\n",
      "# of images processed after stage 1 processing: 449732\n",
      "% of images processed after stage 1 processing: 61.9 %\n",
      "\n",
      "% total loss after stage 1 processing: 38.1 %\n",
      "% of images unprocessed after stage 1 processing: 17.34 %\n",
      "% of images classified as 'loss' after stage 1 processing: 13.07 %\n",
      "% of images classified as 'outlier' after stage 1 processing: 7.7 %\n"
     ]
    }
   ],
   "source": [
    "print('# of images: ' + str(n_images))\n",
    "print('# of images processed after stage 1 processing: ' + str(n_proc))\n",
    "print('% of images processed after stage 1 processing: ' + str(round(((n_proc/n_images)*100), 2)) + ' %')\n",
    "print('')\n",
    "print(\"% total loss after stage 1 processing: \" + str(round((((n_unproc + n_loss + n_outlier)/n_images)*100), 2)) + ' %')\n",
    "print('% of images unprocessed after stage 1 processing: ' + str(round(((n_unproc/n_images)*100), 2)) + ' %')\n",
    "print(\"% of images classified as 'loss' after stage 1 processing: \" + str(round(((n_loss/n_images)*100), 2)) + ' %')\n",
    "print(\"% of images classified as 'outlier' after stage 1 processing: \" + str(round(((n_outlier/n_images)*100), 2)) + ' %')"
   ]
  },
  {
   "cell_type": "markdown",
   "id": "0b2237ef",
   "metadata": {},
   "source": [
    "Breakdown 'loss' type:"
   ]
  },
  {
   "cell_type": "code",
   "execution_count": 79,
   "id": "67f7f41e",
   "metadata": {},
   "outputs": [
    {
     "data": {
      "text/html": [
       "<div>\n",
       "<style scoped>\n",
       "    .dataframe tbody tr th:only-of-type {\n",
       "        vertical-align: middle;\n",
       "    }\n",
       "\n",
       "    .dataframe tbody tr th {\n",
       "        vertical-align: top;\n",
       "    }\n",
       "\n",
       "    .dataframe thead th {\n",
       "        text-align: right;\n",
       "    }\n",
       "</style>\n",
       "<table border=\"1\" class=\"dataframe\">\n",
       "  <thead>\n",
       "    <tr style=\"text-align: right;\">\n",
       "      <th></th>\n",
       "      <th>filename</th>\n",
       "    </tr>\n",
       "    <tr>\n",
       "      <th>func_name</th>\n",
       "      <th></th>\n",
       "    </tr>\n",
       "  </thead>\n",
       "  <tbody>\n",
       "    <tr>\n",
       "      <th>metadata_translation.determine_leftside_metadata_grid_mapping.extract_centroids_and_determine_type</th>\n",
       "      <td>37872</td>\n",
       "    </tr>\n",
       "    <tr>\n",
       "      <th>ionogram_content_extraction.extract_select_parameters.extract_fmin_and_max_depth</th>\n",
       "      <td>9521</td>\n",
       "    </tr>\n",
       "    <tr>\n",
       "      <th>image_segmentation.trim_raw_metadata.trimming_metadata</th>\n",
       "      <td>3968</td>\n",
       "    </tr>\n",
       "    <tr>\n",
       "      <th>image_segmentation.extract_ionogram_from_scan.extract_ionogram</th>\n",
       "      <td>1</td>\n",
       "    </tr>\n",
       "  </tbody>\n",
       "</table>\n",
       "</div>"
      ],
      "text/plain": [
       "                                                    filename\n",
       "func_name                                                   \n",
       "metadata_translation.determine_leftside_metadat...     37872\n",
       "ionogram_content_extraction.extract_select_para...      9521\n",
       "image_segmentation.trim_raw_metadata.trimming_m...      3968\n",
       "image_segmentation.extract_ionogram_from_scan.e...         1"
      ]
     },
     "execution_count": 79,
     "metadata": {},
     "output_type": "execute_result"
    }
   ],
   "source": [
    "df_loss_bd = df_s1.loc[df_s1['processed_image_class'] == 'loss'].groupby(['func_name']).count()[['filename']]\n",
    "df_loss_bd.sort_values('filename', ascending=False)"
   ]
  },
  {
   "cell_type": "markdown",
   "id": "4e21c1bd",
   "metadata": {},
   "source": [
    "Breakdown 'outlier' type:"
   ]
  },
  {
   "cell_type": "code",
   "execution_count": 80,
   "id": "d4755c3c",
   "metadata": {},
   "outputs": [
    {
     "data": {
      "text/html": [
       "<div>\n",
       "<style scoped>\n",
       "    .dataframe tbody tr th:only-of-type {\n",
       "        vertical-align: middle;\n",
       "    }\n",
       "\n",
       "    .dataframe tbody tr th {\n",
       "        vertical-align: top;\n",
       "    }\n",
       "\n",
       "    .dataframe thead th {\n",
       "        text-align: right;\n",
       "    }\n",
       "</style>\n",
       "<table border=\"1\" class=\"dataframe\">\n",
       "  <thead>\n",
       "    <tr style=\"text-align: right;\">\n",
       "      <th></th>\n",
       "      <th>filename</th>\n",
       "    </tr>\n",
       "    <tr>\n",
       "      <th>func_name</th>\n",
       "      <th></th>\n",
       "    </tr>\n",
       "  </thead>\n",
       "  <tbody>\n",
       "    <tr>\n",
       "      <th>image_segmentation.segment_images_in_subdir.segment_images: iono size outlier</th>\n",
       "      <td>54428</td>\n",
       "    </tr>\n",
       "    <tr>\n",
       "      <th>image_segmentation.segment_images_in_subdir.segment_images: metadata size outlier</th>\n",
       "      <td>1511</td>\n",
       "    </tr>\n",
       "  </tbody>\n",
       "</table>\n",
       "</div>"
      ],
      "text/plain": [
       "                                                    filename\n",
       "func_name                                                   \n",
       "image_segmentation.segment_images_in_subdir.seg...     54428\n",
       "image_segmentation.segment_images_in_subdir.seg...      1511"
      ]
     },
     "execution_count": 80,
     "metadata": {},
     "output_type": "execute_result"
    }
   ],
   "source": [
    "df_outlier_bd = df_s1.loc[df_s1['processed_image_class'] == 'outlier'].groupby(['func_name']).count()[['filename']]\n",
    "df_outlier_bd.sort_values('filename', ascending=False)"
   ]
  },
  {
   "cell_type": "markdown",
   "id": "539b5059",
   "metadata": {},
   "source": [
    "#  "
   ]
  },
  {
   "cell_type": "markdown",
   "id": "e878409b",
   "metadata": {},
   "source": [
    "#### Stage 2 - Overall Statistics:"
   ]
  },
  {
   "cell_type": "code",
   "execution_count": 81,
   "id": "ff1b58d0",
   "metadata": {},
   "outputs": [],
   "source": [
    "df_s2 = pd.read_csv(resultDir + 'result_stage2_raw.csv', low_memory=False)"
   ]
  },
  {
   "cell_type": "code",
   "execution_count": 82,
   "id": "1453d5ff",
   "metadata": {},
   "outputs": [],
   "source": [
    "n_num2 = len(df_s2.loc[df_s2['processed_image_class'] == 'num2'])\n",
    "n_num = len(df_s2.loc[df_s2['processed_image_class'] == 'num'])\n",
    "n_dot = len(df_s2.loc[df_s2['processed_image_class'] == 'dot'])\n",
    "n_proc2 = n_num2 + n_num + n_dot\n",
    "n_loss = len(df_s2.loc[df_s2['processed_image_class'] == 'loss'])\n",
    "n_outlier = len(df_s2.loc[df_s2['processed_image_class'] == 'outlier'])"
   ]
  },
  {
   "cell_type": "code",
   "execution_count": 83,
   "id": "8ac57beb",
   "metadata": {},
   "outputs": [
    {
     "name": "stdout",
     "output_type": "stream",
     "text": [
      "# of images processed after stage 2 processing: 25771\n",
      "% of images processed after stage 2 processing: 3.55 %\n",
      "\n",
      "% of images classified as 'num2' after stage 2 processing: 1.29 %\n",
      "% of images classified as 'num' after stage 2 processing: 2.12 %\n",
      "% of images classified as 'dot' after stage 2 processing: 0.14 %\n",
      "\n",
      "% total loss after stage 2 processing: 22.14 %\n",
      "% of images classified as 'loss' after stage 2 processing: 3.86 %\n",
      "% of images classified as 'outlier' after stage 2 processing: 0.95 %\n"
     ]
    }
   ],
   "source": [
    "print('# of images processed after stage 2 processing: ' + str(n_proc2))\n",
    "print('% of images processed after stage 2 processing: ' + str(round(((n_proc2/n_images)*100), 2)) + ' %')\n",
    "print('')\n",
    "print(\"% of images classified as 'num2' after stage 2 processing: \" + str(round(((n_num2/n_images)*100), 2)) + ' %')\n",
    "print(\"% of images classified as 'num' after stage 2 processing: \" + str(round(((n_num/n_images)*100), 2)) + ' %')\n",
    "print(\"% of images classified as 'dot' after stage 2 processing: \" + str(round(((n_dot/n_images)*100), 2)) + ' %')\n",
    "print('')\n",
    "print(\"% total loss after stage 2 processing: \" + str(round((((n_unproc + n_loss + n_outlier)/n_images)*100), 2)) + ' %')\n",
    "print(\"% of images classified as 'loss' after stage 2 processing: \" + str(round(((n_loss/n_images)*100), 2)) + ' %')\n",
    "print(\"% of images classified as 'outlier' after stage 2 processing: \" + str(round(((n_outlier/n_images)*100), 2)) + ' %')"
   ]
  },
  {
   "cell_type": "markdown",
   "id": "b7d74081",
   "metadata": {},
   "source": [
    "Breakdown 'loss' type:"
   ]
  },
  {
   "cell_type": "code",
   "execution_count": 84,
   "id": "711384ff",
   "metadata": {},
   "outputs": [
    {
     "data": {
      "text/html": [
       "<div>\n",
       "<style scoped>\n",
       "    .dataframe tbody tr th:only-of-type {\n",
       "        vertical-align: middle;\n",
       "    }\n",
       "\n",
       "    .dataframe tbody tr th {\n",
       "        vertical-align: top;\n",
       "    }\n",
       "\n",
       "    .dataframe thead th {\n",
       "        text-align: right;\n",
       "    }\n",
       "</style>\n",
       "<table border=\"1\" class=\"dataframe\">\n",
       "  <thead>\n",
       "    <tr style=\"text-align: right;\">\n",
       "      <th></th>\n",
       "      <th>filename</th>\n",
       "    </tr>\n",
       "    <tr>\n",
       "      <th>loss_summary</th>\n",
       "      <th></th>\n",
       "    </tr>\n",
       "  </thead>\n",
       "  <tbody>\n",
       "    <tr>\n",
       "      <th>image_segmentation.segment_images_in_subdir.segment_images: iono size outlier, OCR read metadata contains letters</th>\n",
       "      <td>171</td>\n",
       "    </tr>\n",
       "    <tr>\n",
       "      <th>ionogram_content_extraction.extract_select_parameters.extract_fmin_and_max_depth, OCR read metadata contains letters</th>\n",
       "      <td>47</td>\n",
       "    </tr>\n",
       "    <tr>\n",
       "      <th>image_segmentation.trim_raw_metadata.trimming_metadata, OCR read metadata contains letters</th>\n",
       "      <td>6</td>\n",
       "    </tr>\n",
       "    <tr>\n",
       "      <th>metadata_translation.determine_leftside_metadata_grid_mapping.extract_centroids_and_determine_type, OCR read metadata contains letters</th>\n",
       "      <td>3</td>\n",
       "    </tr>\n",
       "    <tr>\n",
       "      <th>image_segmentation.segment_images_in_subdir.segment_images: metadata size outlier, OCR read metadata contains letters</th>\n",
       "      <td>1</td>\n",
       "    </tr>\n",
       "  </tbody>\n",
       "</table>\n",
       "</div>"
      ],
      "text/plain": [
       "                                                    filename\n",
       "loss_summary                                                \n",
       "image_segmentation.segment_images_in_subdir.seg...       171\n",
       "ionogram_content_extraction.extract_select_para...        47\n",
       "image_segmentation.trim_raw_metadata.trimming_m...         6\n",
       "metadata_translation.determine_leftside_metadat...         3\n",
       "image_segmentation.segment_images_in_subdir.seg...         1"
      ]
     },
     "execution_count": 84,
     "metadata": {},
     "output_type": "execute_result"
    }
   ],
   "source": [
    "df_s2_loss = df_s2.copy(deep=True).loc[df_s2['processed_image_class'] == 'loss']\n",
    "df_s2_loss['loss_summary'] = df_s2_loss['func_name'] + ', ' + df_s2_loss['details'] \n",
    "df_loss_bd = df_s2_loss.groupby(['loss_summary']).count()[['filename']]\n",
    "df_loss_bd.sort_values('filename', ascending=False)"
   ]
  },
  {
   "cell_type": "code",
   "execution_count": 85,
   "id": "1247dab4",
   "metadata": {},
   "outputs": [
    {
     "data": {
      "text/html": [
       "<div>\n",
       "<style scoped>\n",
       "    .dataframe tbody tr th:only-of-type {\n",
       "        vertical-align: middle;\n",
       "    }\n",
       "\n",
       "    .dataframe tbody tr th {\n",
       "        vertical-align: top;\n",
       "    }\n",
       "\n",
       "    .dataframe thead th {\n",
       "        text-align: right;\n",
       "    }\n",
       "</style>\n",
       "<table border=\"1\" class=\"dataframe\">\n",
       "  <thead>\n",
       "    <tr style=\"text-align: right;\">\n",
       "      <th></th>\n",
       "      <th>filename</th>\n",
       "    </tr>\n",
       "    <tr>\n",
       "      <th>details</th>\n",
       "      <th></th>\n",
       "    </tr>\n",
       "  </thead>\n",
       "  <tbody>\n",
       "    <tr>\n",
       "      <th>metadata could not be read by OCR</th>\n",
       "      <td>13252</td>\n",
       "    </tr>\n",
       "    <tr>\n",
       "      <th>OCR read metadata contains letters</th>\n",
       "      <td>1625</td>\n",
       "    </tr>\n",
       "    <tr>\n",
       "      <th>metadata was interpreted to be num type</th>\n",
       "      <td>294</td>\n",
       "    </tr>\n",
       "    <tr>\n",
       "      <th>metadata was interpreted to be dot type</th>\n",
       "      <td>258</td>\n",
       "    </tr>\n",
       "  </tbody>\n",
       "</table>\n",
       "</div>"
      ],
      "text/plain": [
       "                                         filename\n",
       "details                                          \n",
       "metadata could not be read by OCR           13252\n",
       "OCR read metadata contains letters           1625\n",
       "metadata was interpreted to be num type       294\n",
       "metadata was interpreted to be dot type       258"
      ]
     },
     "execution_count": 85,
     "metadata": {},
     "output_type": "execute_result"
    }
   ],
   "source": [
    "df_s2_loss = df_s2.loc[df_s2['processed_image_class'] == 'loss']\n",
    "df_loss_bd = df_s2_loss.groupby(['details']).count()[['filename']]\n",
    "df_loss_bd.sort_values('filename', ascending=False)"
   ]
  },
  {
   "cell_type": "markdown",
   "id": "474347e0",
   "metadata": {},
   "source": [
    "Breakdown 'outlier' type:"
   ]
  },
  {
   "cell_type": "code",
   "execution_count": 86,
   "id": "56c6fa22",
   "metadata": {},
   "outputs": [
    {
     "data": {
      "text/html": [
       "<div>\n",
       "<style scoped>\n",
       "    .dataframe tbody tr th:only-of-type {\n",
       "        vertical-align: middle;\n",
       "    }\n",
       "\n",
       "    .dataframe tbody tr th {\n",
       "        vertical-align: top;\n",
       "    }\n",
       "\n",
       "    .dataframe thead th {\n",
       "        text-align: right;\n",
       "    }\n",
       "</style>\n",
       "<table border=\"1\" class=\"dataframe\">\n",
       "  <thead>\n",
       "    <tr style=\"text-align: right;\">\n",
       "      <th></th>\n",
       "      <th>filename</th>\n",
       "    </tr>\n",
       "    <tr>\n",
       "      <th>func_name</th>\n",
       "      <th></th>\n",
       "    </tr>\n",
       "  </thead>\n",
       "  <tbody>\n",
       "    <tr>\n",
       "      <th>image_segmentation.segment_images_in_subdir.segment_images: iono size outlier</th>\n",
       "      <td>6494</td>\n",
       "    </tr>\n",
       "    <tr>\n",
       "      <th>image_segmentation.segment_images_in_subdir.segment_images: metadata size outlier</th>\n",
       "      <td>391</td>\n",
       "    </tr>\n",
       "  </tbody>\n",
       "</table>\n",
       "</div>"
      ],
      "text/plain": [
       "                                                    filename\n",
       "func_name                                                   \n",
       "image_segmentation.segment_images_in_subdir.seg...      6494\n",
       "image_segmentation.segment_images_in_subdir.seg...       391"
      ]
     },
     "execution_count": 86,
     "metadata": {},
     "output_type": "execute_result"
    }
   ],
   "source": [
    "df_s2_outlier = df_s2.loc[df_s2['processed_image_class'] == 'outlier']\n",
    "df_outlier_bd = df_s2_outlier.groupby(['func_name']).count()[['filename']]\n",
    "df_outlier_bd.sort_values('filename', ascending=False)"
   ]
  },
  {
   "cell_type": "markdown",
   "id": "20289cfc",
   "metadata": {},
   "source": [
    "#  "
   ]
  },
  {
   "cell_type": "markdown",
   "id": "b60e161c",
   "metadata": {},
   "source": [
    "#### Master - Overall Statistics:"
   ]
  },
  {
   "cell_type": "code",
   "execution_count": 87,
   "id": "1624123a",
   "metadata": {},
   "outputs": [],
   "source": [
    "df_master = pd.read_csv(resultDir + 'result_master.csv', low_memory=False)\n",
    "n_master = len(df_master.loc[(~pd.isna(df_master['Station_Code'])) & (df_master['time_quality'] == 1)])"
   ]
  },
  {
   "cell_type": "code",
   "execution_count": 88,
   "id": "5e3574f0",
   "metadata": {},
   "outputs": [],
   "source": [
    "n_tq1 = len(df_master.loc[df_master['time_quality'] == 1])\n",
    "n_tq2 = len(df_master.loc[df_master['time_quality'] == 2])\n",
    "n_tq3 = len(df_master.loc[df_master['time_quality'] == 3])\n",
    "n_tq4 = len(df_master.loc[df_master['time_quality'] == 4])"
   ]
  },
  {
   "cell_type": "code",
   "execution_count": 89,
   "id": "7eb7af18",
   "metadata": {},
   "outputs": [
    {
     "name": "stdout",
     "output_type": "stream",
     "text": [
      "# of images fully read after stage 2 processing: 18741\n",
      "% of images fully read after stage 2 processing (yield): 2.58 %\n",
      "\n",
      "% time quality level 1 yield: 2.58 %\n",
      "% at least time quality level 2: 2.59 %\n",
      "% at least time quality level 3: 2.61 %\n",
      "% at least time quality level 4: 2.72 %\n"
     ]
    }
   ],
   "source": [
    "print('# of images fully read after stage 2 processing: ' + str(n_master))\n",
    "print('% of images fully read after stage 2 processing (yield): ' + str(round(((n_master/n_images)*100), 2)) + ' %')\n",
    "print('')\n",
    "print('% time quality level 1 yield: ' + str(round(((n_tq1/n_images)*100), 2)) + ' %')\n",
    "print('% at least time quality level 2: ' + str(round((((n_tq1+n_tq2)/n_images)*100), 2)) + ' %')\n",
    "print('% at least time quality level 3: ' + str(round((((n_tq1+n_tq2+n_tq3)/n_images)*100), 2)) + ' %')\n",
    "print('% at least time quality level 4: ' + str(round((((n_tq1+n_tq2+n_tq3+n_tq4)/n_images)*100), 2)) + ' %')"
   ]
  },
  {
   "cell_type": "markdown",
   "id": "52322c5a",
   "metadata": {},
   "source": [
    "#  "
   ]
  },
  {
   "cell_type": "markdown",
   "id": "7aa3dee7",
   "metadata": {},
   "source": [
    "#### Data distribution by ground station:"
   ]
  },
  {
   "cell_type": "code",
   "execution_count": 99,
   "id": "b6d49a0f",
   "metadata": {},
   "outputs": [],
   "source": [
    "df2 = df_master.copy(deep=True)\n",
    "df2['Station_Number_Station_Code_processed_image_class'] = df2['Station_Number'].astype(int).astype(str) + '_' + df2['Station_Code'] + '_' + df2['processed_image_class']"
   ]
  },
  {
   "cell_type": "code",
   "execution_count": 100,
   "id": "83c4bb8e",
   "metadata": {},
   "outputs": [
    {
     "data": {
      "text/html": [
       "<div>\n",
       "<style scoped>\n",
       "    .dataframe tbody tr th:only-of-type {\n",
       "        vertical-align: middle;\n",
       "    }\n",
       "\n",
       "    .dataframe tbody tr th {\n",
       "        vertical-align: top;\n",
       "    }\n",
       "\n",
       "    .dataframe thead th {\n",
       "        text-align: right;\n",
       "    }\n",
       "</style>\n",
       "<table border=\"1\" class=\"dataframe\">\n",
       "  <thead>\n",
       "    <tr style=\"text-align: right;\">\n",
       "      <th></th>\n",
       "      <th>filename</th>\n",
       "    </tr>\n",
       "    <tr>\n",
       "      <th>Station_Number</th>\n",
       "      <th></th>\n",
       "    </tr>\n",
       "  </thead>\n",
       "  <tbody>\n",
       "    <tr>\n",
       "      <th>5.0</th>\n",
       "      <td>3491</td>\n",
       "    </tr>\n",
       "    <tr>\n",
       "      <th>50.0</th>\n",
       "      <td>2059</td>\n",
       "    </tr>\n",
       "    <tr>\n",
       "      <th>13.0</th>\n",
       "      <td>1994</td>\n",
       "    </tr>\n",
       "    <tr>\n",
       "      <th>1.0</th>\n",
       "      <td>1880</td>\n",
       "    </tr>\n",
       "    <tr>\n",
       "      <th>43.0</th>\n",
       "      <td>1367</td>\n",
       "    </tr>\n",
       "    <tr>\n",
       "      <th>8.0</th>\n",
       "      <td>1053</td>\n",
       "    </tr>\n",
       "    <tr>\n",
       "      <th>3.0</th>\n",
       "      <td>949</td>\n",
       "    </tr>\n",
       "    <tr>\n",
       "      <th>69.0</th>\n",
       "      <td>824</td>\n",
       "    </tr>\n",
       "    <tr>\n",
       "      <th>12.0</th>\n",
       "      <td>654</td>\n",
       "    </tr>\n",
       "    <tr>\n",
       "      <th>15.0</th>\n",
       "      <td>524</td>\n",
       "    </tr>\n",
       "  </tbody>\n",
       "</table>\n",
       "</div>"
      ],
      "text/plain": [
       "                filename\n",
       "Station_Number          \n",
       "5.0                 3491\n",
       "50.0                2059\n",
       "13.0                1994\n",
       "1.0                 1880\n",
       "43.0                1367\n",
       "8.0                 1053\n",
       "3.0                  949\n",
       "69.0                 824\n",
       "12.0                 654\n",
       "15.0                 524"
      ]
     },
     "execution_count": 100,
     "metadata": {},
     "output_type": "execute_result"
    }
   ],
   "source": [
    "df_master_by_stn = df2.groupby(['Station_Number']).count()[['filename']].sort_values('filename', ascending=False)\n",
    "df_master_by_stn.head(10)"
   ]
  },
  {
   "cell_type": "code",
   "execution_count": 101,
   "id": "40dd822f",
   "metadata": {},
   "outputs": [
    {
     "data": {
      "text/html": [
       "<div>\n",
       "<style scoped>\n",
       "    .dataframe tbody tr th:only-of-type {\n",
       "        vertical-align: middle;\n",
       "    }\n",
       "\n",
       "    .dataframe tbody tr th {\n",
       "        vertical-align: top;\n",
       "    }\n",
       "\n",
       "    .dataframe thead th {\n",
       "        text-align: right;\n",
       "    }\n",
       "</style>\n",
       "<table border=\"1\" class=\"dataframe\">\n",
       "  <thead>\n",
       "    <tr style=\"text-align: right;\">\n",
       "      <th></th>\n",
       "      <th>filename</th>\n",
       "    </tr>\n",
       "    <tr>\n",
       "      <th>Station_Name</th>\n",
       "      <th></th>\n",
       "    </tr>\n",
       "  </thead>\n",
       "  <tbody>\n",
       "    <tr>\n",
       "      <th>Quito, Ecuador</th>\n",
       "      <td>3829</td>\n",
       "    </tr>\n",
       "    <tr>\n",
       "      <th>Ottawa, Canada</th>\n",
       "      <td>2078</td>\n",
       "    </tr>\n",
       "    <tr>\n",
       "      <th>College, Fairbanks, AK, USA</th>\n",
       "      <td>1981</td>\n",
       "    </tr>\n",
       "    <tr>\n",
       "      <th>Blossom Point, MD, USA</th>\n",
       "      <td>1769</td>\n",
       "    </tr>\n",
       "    <tr>\n",
       "      <th>Resolute Bay, NT, Canada</th>\n",
       "      <td>1487</td>\n",
       "    </tr>\n",
       "    <tr>\n",
       "      <th>Santiago, Chile</th>\n",
       "      <td>998</td>\n",
       "    </tr>\n",
       "    <tr>\n",
       "      <th>St. John's, NL, Canada</th>\n",
       "      <td>972</td>\n",
       "    </tr>\n",
       "    <tr>\n",
       "      <th>Fort Myers, FL, USA</th>\n",
       "      <td>931</td>\n",
       "    </tr>\n",
       "    <tr>\n",
       "      <th>Tromso, Norway</th>\n",
       "      <td>876</td>\n",
       "    </tr>\n",
       "    <tr>\n",
       "      <th>Falkland Islands (Islas Malvinas)</th>\n",
       "      <td>875</td>\n",
       "    </tr>\n",
       "  </tbody>\n",
       "</table>\n",
       "</div>"
      ],
      "text/plain": [
       "                                   filename\n",
       "Station_Name                               \n",
       "Quito, Ecuador                         3829\n",
       "Ottawa, Canada                         2078\n",
       "College, Fairbanks, AK, USA            1981\n",
       "Blossom Point, MD, USA                 1769\n",
       "Resolute Bay, NT, Canada               1487\n",
       "Santiago, Chile                         998\n",
       "St. John's, NL, Canada                  972\n",
       "Fort Myers, FL, USA                     931\n",
       "Tromso, Norway                          876\n",
       "Falkland Islands (Islas Malvinas)       875"
      ]
     },
     "execution_count": 101,
     "metadata": {},
     "output_type": "execute_result"
    }
   ],
   "source": [
    "df_master_by_stnname = df2.groupby(['Station_Name']).count()[['filename']].sort_values('filename', ascending=False)\n",
    "df_master_by_stnname.head(10)"
   ]
  },
  {
   "cell_type": "code",
   "execution_count": 102,
   "id": "281d93d2",
   "metadata": {
    "scrolled": false
   },
   "outputs": [
    {
     "data": {
      "text/html": [
       "<div>\n",
       "<style scoped>\n",
       "    .dataframe tbody tr th:only-of-type {\n",
       "        vertical-align: middle;\n",
       "    }\n",
       "\n",
       "    .dataframe tbody tr th {\n",
       "        vertical-align: top;\n",
       "    }\n",
       "\n",
       "    .dataframe thead th {\n",
       "        text-align: right;\n",
       "    }\n",
       "</style>\n",
       "<table border=\"1\" class=\"dataframe\">\n",
       "  <thead>\n",
       "    <tr style=\"text-align: right;\">\n",
       "      <th></th>\n",
       "      <th>filename</th>\n",
       "    </tr>\n",
       "    <tr>\n",
       "      <th>Station_Number_Station_Code_processed_image_class</th>\n",
       "      <th></th>\n",
       "    </tr>\n",
       "  </thead>\n",
       "  <tbody>\n",
       "    <tr>\n",
       "      <th>5_QUI_num</th>\n",
       "      <td>3465</td>\n",
       "    </tr>\n",
       "    <tr>\n",
       "      <th>50_OTT_num2</th>\n",
       "      <td>1963</td>\n",
       "    </tr>\n",
       "    <tr>\n",
       "      <th>1_BPT_num</th>\n",
       "      <td>1760</td>\n",
       "    </tr>\n",
       "    <tr>\n",
       "      <th>13_COL_num</th>\n",
       "      <td>1734</td>\n",
       "    </tr>\n",
       "    <tr>\n",
       "      <th>43_RES_num2</th>\n",
       "      <td>1358</td>\n",
       "    </tr>\n",
       "    <tr>\n",
       "      <th>69_TRO_num2</th>\n",
       "      <td>823</td>\n",
       "    </tr>\n",
       "    <tr>\n",
       "      <th>3_FTM_num</th>\n",
       "      <td>786</td>\n",
       "    </tr>\n",
       "    <tr>\n",
       "      <th>8_SNT_num</th>\n",
       "      <td>736</td>\n",
       "    </tr>\n",
       "    <tr>\n",
       "      <th>15_WNK_num2</th>\n",
       "      <td>521</td>\n",
       "    </tr>\n",
       "    <tr>\n",
       "      <th>19_ULA_num2</th>\n",
       "      <td>456</td>\n",
       "    </tr>\n",
       "    <tr>\n",
       "      <th>4_NEW_num</th>\n",
       "      <td>453</td>\n",
       "    </tr>\n",
       "    <tr>\n",
       "      <th>53_KNO_num2</th>\n",
       "      <td>398</td>\n",
       "    </tr>\n",
       "    <tr>\n",
       "      <th>11_SNP_num</th>\n",
       "      <td>371</td>\n",
       "    </tr>\n",
       "    <tr>\n",
       "      <th>38_SOL_num2</th>\n",
       "      <td>364</td>\n",
       "    </tr>\n",
       "    <tr>\n",
       "      <th>7_QUI_num</th>\n",
       "      <td>360</td>\n",
       "    </tr>\n",
       "    <tr>\n",
       "      <th>9_SOL_num</th>\n",
       "      <td>360</td>\n",
       "    </tr>\n",
       "    <tr>\n",
       "      <th>12_NEW_num2</th>\n",
       "      <td>331</td>\n",
       "    </tr>\n",
       "    <tr>\n",
       "      <th>21_RAL_num2</th>\n",
       "      <td>317</td>\n",
       "    </tr>\n",
       "    <tr>\n",
       "      <th>8_SNT_num2</th>\n",
       "      <td>262</td>\n",
       "    </tr>\n",
       "    <tr>\n",
       "      <th>6_LIM_num</th>\n",
       "      <td>245</td>\n",
       "    </tr>\n",
       "  </tbody>\n",
       "</table>\n",
       "</div>"
      ],
      "text/plain": [
       "                                                   filename\n",
       "Station_Number_Station_Code_processed_image_class          \n",
       "5_QUI_num                                              3465\n",
       "50_OTT_num2                                            1963\n",
       "1_BPT_num                                              1760\n",
       "13_COL_num                                             1734\n",
       "43_RES_num2                                            1358\n",
       "69_TRO_num2                                             823\n",
       "3_FTM_num                                               786\n",
       "8_SNT_num                                               736\n",
       "15_WNK_num2                                             521\n",
       "19_ULA_num2                                             456\n",
       "4_NEW_num                                               453\n",
       "53_KNO_num2                                             398\n",
       "11_SNP_num                                              371\n",
       "38_SOL_num2                                             364\n",
       "7_QUI_num                                               360\n",
       "9_SOL_num                                               360\n",
       "12_NEW_num2                                             331\n",
       "21_RAL_num2                                             317\n",
       "8_SNT_num2                                              262\n",
       "6_LIM_num                                               245"
      ]
     },
     "execution_count": 102,
     "metadata": {},
     "output_type": "execute_result"
    }
   ],
   "source": [
    "df_master_by_stn_code = df2.groupby(['Station_Number_Station_Code_processed_image_class']).count()[['filename']].sort_values('filename', ascending=False)\n",
    "df_master_by_stn_code.head(20)"
   ]
  },
  {
   "cell_type": "code",
   "execution_count": null,
   "id": "75095f1f",
   "metadata": {},
   "outputs": [],
   "source": []
  },
  {
   "cell_type": "code",
   "execution_count": null,
   "id": "3a042a35",
   "metadata": {},
   "outputs": [],
   "source": []
  }
 ],
 "metadata": {
  "kernelspec": {
   "display_name": "Python 3",
   "language": "python",
   "name": "python3"
  },
  "language_info": {
   "codemirror_mode": {
    "name": "ipython",
    "version": 3
   },
   "file_extension": ".py",
   "mimetype": "text/x-python",
   "name": "python",
   "nbconvert_exporter": "python",
   "pygments_lexer": "ipython3",
   "version": "3.8.8"
  }
 },
 "nbformat": 4,
 "nbformat_minor": 5
}

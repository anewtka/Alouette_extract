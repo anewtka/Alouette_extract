{
 "cells": [
  {
   "cell_type": "markdown",
   "id": "aa42cc82",
   "metadata": {},
   "source": [
    "# Quality Analysis (General)\n",
    "\n",
    "#### Updated: May 18, 2023"
   ]
  },
  {
   "cell_type": "markdown",
   "id": "55ba88fc",
   "metadata": {},
   "source": [
    "#  "
   ]
  },
  {
   "cell_type": "markdown",
   "id": "a247d7b9",
   "metadata": {},
   "source": [
    "Quality analysis pipeline after phase 2 of Alouette processing (OCR processing phase):"
   ]
  },
  {
   "cell_type": "code",
   "execution_count": 1,
   "id": "b5ed871f",
   "metadata": {},
   "outputs": [],
   "source": [
    "import os\n",
    "import numpy as np\n",
    "import pandas as pd\n",
    "import seaborn as sns"
   ]
  },
  {
   "cell_type": "code",
   "execution_count": 2,
   "id": "e42a259e",
   "metadata": {},
   "outputs": [],
   "source": [
    "rootDir = 'L:/DATA/Alouette_I/BATCH_II_Run2/'\n",
    "resultDir = rootDir + '05_result/'\n",
    "logDir = rootDir + '06_log/'"
   ]
  },
  {
   "cell_type": "markdown",
   "id": "fc2f85e5",
   "metadata": {},
   "source": [
    "#  "
   ]
  },
  {
   "cell_type": "markdown",
   "id": "7c23d356",
   "metadata": {},
   "source": [
    "#### Combine BATCH I and II:"
   ]
  },
  {
   "cell_type": "markdown",
   "id": "259a628c",
   "metadata": {},
   "source": [
    "#  "
   ]
  },
  {
   "cell_type": "markdown",
   "id": "2b4e76aa",
   "metadata": {},
   "source": [
    "#### Stage 1 - Overall Statistics:"
   ]
  },
  {
   "cell_type": "code",
   "execution_count": 3,
   "id": "3115f90a",
   "metadata": {},
   "outputs": [],
   "source": [
    "df_inventory = pd.read_csv(logDir + 'image_inventory.csv')\n",
    "n_images = df_inventory['images'].sum()"
   ]
  },
  {
   "cell_type": "code",
   "execution_count": 4,
   "id": "8da00a06",
   "metadata": {},
   "outputs": [],
   "source": [
    "df_s1 = pd.read_csv(resultDir + 'result_stage1_raw.csv', low_memory=False)"
   ]
  },
  {
   "cell_type": "code",
   "execution_count": 5,
   "id": "8f81c22b",
   "metadata": {},
   "outputs": [],
   "source": [
    "n_proc = len(df_s1.loc[df_s1['processed_image_class'] == 'num']) + len(df_s1.loc[df_s1['processed_image_class'] == 'dot'])\n",
    "n_loss = len(df_s1.loc[df_s1['processed_image_class'] == 'loss'])\n",
    "n_outlier = len(df_s1.loc[df_s1['processed_image_class'] == 'outlier'])\n",
    "n_unproc = n_images - n_proc - n_outlier - n_loss"
   ]
  },
  {
   "cell_type": "code",
   "execution_count": 6,
   "id": "c20872f2",
   "metadata": {},
   "outputs": [
    {
     "name": "stdout",
     "output_type": "stream",
     "text": [
      "# of images: 726577\n",
      "# of images processed after stage 1 processing: 449732\n",
      "% of images processed after stage 1 processing: 61.9 %\n",
      "\n",
      "% total loss after stage 1 processing: 38.1 %\n",
      "% of images unprocessed after stage 1 processing: 17.34 %\n",
      "% of images classified as 'loss' after stage 1 processing: 13.07 %\n",
      "% of images classified as 'outlier' after stage 1 processing: 7.7 %\n"
     ]
    }
   ],
   "source": [
    "print('# of images: ' + str(n_images))\n",
    "print('# of images processed after stage 1 processing: ' + str(n_proc))\n",
    "print('% of images processed after stage 1 processing: ' + str(round(((n_proc/n_images)*100), 2)) + ' %')\n",
    "print('')\n",
    "print(\"% total loss after stage 1 processing: \" + str(round((((n_unproc + n_loss + n_outlier)/n_images)*100), 2)) + ' %')\n",
    "print('% of images unprocessed after stage 1 processing: ' + str(round(((n_unproc/n_images)*100), 2)) + ' %')\n",
    "print(\"% of images classified as 'loss' after stage 1 processing: \" + str(round(((n_loss/n_images)*100), 2)) + ' %')\n",
    "print(\"% of images classified as 'outlier' after stage 1 processing: \" + str(round(((n_outlier/n_images)*100), 2)) + ' %')"
   ]
  },
  {
   "cell_type": "markdown",
   "id": "0b2237ef",
   "metadata": {},
   "source": [
    "Breakdown 'loss' type:"
   ]
  },
  {
   "cell_type": "code",
   "execution_count": 7,
   "id": "67f7f41e",
   "metadata": {},
   "outputs": [
    {
     "data": {
      "text/html": [
       "<div>\n",
       "<style scoped>\n",
       "    .dataframe tbody tr th:only-of-type {\n",
       "        vertical-align: middle;\n",
       "    }\n",
       "\n",
       "    .dataframe tbody tr th {\n",
       "        vertical-align: top;\n",
       "    }\n",
       "\n",
       "    .dataframe thead th {\n",
       "        text-align: right;\n",
       "    }\n",
       "</style>\n",
       "<table border=\"1\" class=\"dataframe\">\n",
       "  <thead>\n",
       "    <tr style=\"text-align: right;\">\n",
       "      <th></th>\n",
       "      <th>filename</th>\n",
       "    </tr>\n",
       "    <tr>\n",
       "      <th>func_name</th>\n",
       "      <th></th>\n",
       "    </tr>\n",
       "  </thead>\n",
       "  <tbody>\n",
       "    <tr>\n",
       "      <th>metadata_translation.determine_leftside_metadata_grid_mapping.extract_centroids_and_determine_type</th>\n",
       "      <td>37872</td>\n",
       "    </tr>\n",
       "    <tr>\n",
       "      <th>ionogram_content_extraction.extract_select_parameters.extract_fmin_and_max_depth</th>\n",
       "      <td>9521</td>\n",
       "    </tr>\n",
       "    <tr>\n",
       "      <th>image_segmentation.trim_raw_metadata.trimming_metadata</th>\n",
       "      <td>3968</td>\n",
       "    </tr>\n",
       "    <tr>\n",
       "      <th>image_segmentation.extract_ionogram_from_scan.extract_ionogram</th>\n",
       "      <td>1</td>\n",
       "    </tr>\n",
       "  </tbody>\n",
       "</table>\n",
       "</div>"
      ],
      "text/plain": [
       "                                                    filename\n",
       "func_name                                                   \n",
       "metadata_translation.determine_leftside_metadat...     37872\n",
       "ionogram_content_extraction.extract_select_para...      9521\n",
       "image_segmentation.trim_raw_metadata.trimming_m...      3968\n",
       "image_segmentation.extract_ionogram_from_scan.e...         1"
      ]
     },
     "execution_count": 7,
     "metadata": {},
     "output_type": "execute_result"
    }
   ],
   "source": [
    "df_loss_bd = df_s1.loc[df_s1['processed_image_class'] == 'loss'].groupby(['func_name']).count()[['filename']]\n",
    "df_loss_bd.sort_values('filename', ascending=False)"
   ]
  },
  {
   "cell_type": "markdown",
   "id": "4e21c1bd",
   "metadata": {},
   "source": [
    "Breakdown 'outlier' type:"
   ]
  },
  {
   "cell_type": "code",
   "execution_count": 8,
   "id": "d4755c3c",
   "metadata": {},
   "outputs": [
    {
     "data": {
      "text/html": [
       "<div>\n",
       "<style scoped>\n",
       "    .dataframe tbody tr th:only-of-type {\n",
       "        vertical-align: middle;\n",
       "    }\n",
       "\n",
       "    .dataframe tbody tr th {\n",
       "        vertical-align: top;\n",
       "    }\n",
       "\n",
       "    .dataframe thead th {\n",
       "        text-align: right;\n",
       "    }\n",
       "</style>\n",
       "<table border=\"1\" class=\"dataframe\">\n",
       "  <thead>\n",
       "    <tr style=\"text-align: right;\">\n",
       "      <th></th>\n",
       "      <th>filename</th>\n",
       "    </tr>\n",
       "    <tr>\n",
       "      <th>func_name</th>\n",
       "      <th></th>\n",
       "    </tr>\n",
       "  </thead>\n",
       "  <tbody>\n",
       "    <tr>\n",
       "      <th>image_segmentation.segment_images_in_subdir.segment_images: iono size outlier</th>\n",
       "      <td>54428</td>\n",
       "    </tr>\n",
       "    <tr>\n",
       "      <th>image_segmentation.segment_images_in_subdir.segment_images: metadata size outlier</th>\n",
       "      <td>1511</td>\n",
       "    </tr>\n",
       "  </tbody>\n",
       "</table>\n",
       "</div>"
      ],
      "text/plain": [
       "                                                    filename\n",
       "func_name                                                   \n",
       "image_segmentation.segment_images_in_subdir.seg...     54428\n",
       "image_segmentation.segment_images_in_subdir.seg...      1511"
      ]
     },
     "execution_count": 8,
     "metadata": {},
     "output_type": "execute_result"
    }
   ],
   "source": [
    "df_outlier_bd = df_s1.loc[df_s1['processed_image_class'] == 'outlier'].groupby(['func_name']).count()[['filename']]\n",
    "df_outlier_bd.sort_values('filename', ascending=False)"
   ]
  },
  {
   "cell_type": "markdown",
   "id": "539b5059",
   "metadata": {},
   "source": [
    "#  "
   ]
  },
  {
   "cell_type": "markdown",
   "id": "e878409b",
   "metadata": {},
   "source": [
    "#### Stage 2 - Overall Statistics:"
   ]
  },
  {
   "cell_type": "code",
   "execution_count": 9,
   "id": "ff1b58d0",
   "metadata": {},
   "outputs": [],
   "source": [
    "df_s2 = pd.read_csv(resultDir + 'result_stage2_raw.csv', low_memory=False)"
   ]
  },
  {
   "cell_type": "code",
   "execution_count": 10,
   "id": "1453d5ff",
   "metadata": {},
   "outputs": [],
   "source": [
    "n_num2 = len(df_s2.loc[df_s2['processed_image_class'] == 'num2'])\n",
    "n_num = len(df_s2.loc[df_s2['processed_image_class'] == 'num'])\n",
    "n_dot = len(df_s2.loc[df_s2['processed_image_class'] == 'dot'])\n",
    "n_proc2 = n_num2 + n_num + n_dot\n",
    "n_loss = len(df_s2.loc[df_s2['processed_image_class'] == 'loss'])\n",
    "n_outlier = len(df_s2.loc[df_s2['processed_image_class'] == 'outlier'])"
   ]
  },
  {
   "cell_type": "code",
   "execution_count": 11,
   "id": "8ac57beb",
   "metadata": {},
   "outputs": [
    {
     "name": "stdout",
     "output_type": "stream",
     "text": [
      "# of images processed after stage 2 processing: 29280\n",
      "% of images processed after stage 2 processing: 4.03 %\n",
      "\n",
      "% of images classified as 'num2' after stage 2 processing: 1.51 %\n",
      "% of images classified as 'num' after stage 2 processing: 2.31 %\n",
      "% of images classified as 'dot' after stage 2 processing: 0.21 %\n",
      "\n",
      "% total loss after stage 2 processing: 22.75 %\n",
      "% of images classified as 'loss' after stage 2 processing: 4.38 %\n",
      "% of images classified as 'outlier' after stage 2 processing: 1.03 %\n"
     ]
    }
   ],
   "source": [
    "print('# of images processed after stage 2 processing: ' + str(n_proc2))\n",
    "print('% of images processed after stage 2 processing: ' + str(round(((n_proc2/n_images)*100), 2)) + ' %')\n",
    "print('')\n",
    "print(\"% of images classified as 'num2' after stage 2 processing: \" + str(round(((n_num2/n_images)*100), 2)) + ' %')\n",
    "print(\"% of images classified as 'num' after stage 2 processing: \" + str(round(((n_num/n_images)*100), 2)) + ' %')\n",
    "print(\"% of images classified as 'dot' after stage 2 processing: \" + str(round(((n_dot/n_images)*100), 2)) + ' %')\n",
    "print('')\n",
    "print(\"% total loss after stage 2 processing: \" + str(round((((n_unproc + n_loss + n_outlier)/n_images)*100), 2)) + ' %')\n",
    "print(\"% of images classified as 'loss' after stage 2 processing: \" + str(round(((n_loss/n_images)*100), 2)) + ' %')\n",
    "print(\"% of images classified as 'outlier' after stage 2 processing: \" + str(round(((n_outlier/n_images)*100), 2)) + ' %')"
   ]
  },
  {
   "cell_type": "markdown",
   "id": "b7d74081",
   "metadata": {},
   "source": [
    "Breakdown 'loss' type:"
   ]
  },
  {
   "cell_type": "code",
   "execution_count": 12,
   "id": "711384ff",
   "metadata": {},
   "outputs": [
    {
     "data": {
      "text/html": [
       "<div>\n",
       "<style scoped>\n",
       "    .dataframe tbody tr th:only-of-type {\n",
       "        vertical-align: middle;\n",
       "    }\n",
       "\n",
       "    .dataframe tbody tr th {\n",
       "        vertical-align: top;\n",
       "    }\n",
       "\n",
       "    .dataframe thead th {\n",
       "        text-align: right;\n",
       "    }\n",
       "</style>\n",
       "<table border=\"1\" class=\"dataframe\">\n",
       "  <thead>\n",
       "    <tr style=\"text-align: right;\">\n",
       "      <th></th>\n",
       "      <th>filename</th>\n",
       "    </tr>\n",
       "    <tr>\n",
       "      <th>loss_summary</th>\n",
       "      <th></th>\n",
       "    </tr>\n",
       "  </thead>\n",
       "  <tbody>\n",
       "    <tr>\n",
       "      <th>image_segmentation.segment_images_in_subdir.segment_images: iono size outlier, OCR read metadata contains letters</th>\n",
       "      <td>178</td>\n",
       "    </tr>\n",
       "    <tr>\n",
       "      <th>ionogram_content_extraction.extract_select_parameters.extract_fmin_and_max_depth, OCR read metadata contains letters</th>\n",
       "      <td>54</td>\n",
       "    </tr>\n",
       "    <tr>\n",
       "      <th>image_segmentation.trim_raw_metadata.trimming_metadata, OCR read metadata contains letters</th>\n",
       "      <td>6</td>\n",
       "    </tr>\n",
       "    <tr>\n",
       "      <th>metadata_translation.determine_leftside_metadata_grid_mapping.extract_centroids_and_determine_type, OCR read metadata contains letters</th>\n",
       "      <td>3</td>\n",
       "    </tr>\n",
       "    <tr>\n",
       "      <th>image_segmentation.segment_images_in_subdir.segment_images: metadata size outlier, OCR read metadata contains letters</th>\n",
       "      <td>1</td>\n",
       "    </tr>\n",
       "  </tbody>\n",
       "</table>\n",
       "</div>"
      ],
      "text/plain": [
       "                                                    filename\n",
       "loss_summary                                                \n",
       "image_segmentation.segment_images_in_subdir.seg...       178\n",
       "ionogram_content_extraction.extract_select_para...        54\n",
       "image_segmentation.trim_raw_metadata.trimming_m...         6\n",
       "metadata_translation.determine_leftside_metadat...         3\n",
       "image_segmentation.segment_images_in_subdir.seg...         1"
      ]
     },
     "execution_count": 12,
     "metadata": {},
     "output_type": "execute_result"
    }
   ],
   "source": [
    "df_s2_loss = df_s2.copy(deep=True).loc[df_s2['processed_image_class'] == 'loss']\n",
    "df_s2_loss['loss_summary'] = df_s2_loss['func_name'] + ', ' + df_s2_loss['details'] \n",
    "df_loss_bd = df_s2_loss.groupby(['loss_summary']).count()[['filename']]\n",
    "df_loss_bd.sort_values('filename', ascending=False)"
   ]
  },
  {
   "cell_type": "code",
   "execution_count": 13,
   "id": "1247dab4",
   "metadata": {},
   "outputs": [
    {
     "data": {
      "text/html": [
       "<div>\n",
       "<style scoped>\n",
       "    .dataframe tbody tr th:only-of-type {\n",
       "        vertical-align: middle;\n",
       "    }\n",
       "\n",
       "    .dataframe tbody tr th {\n",
       "        vertical-align: top;\n",
       "    }\n",
       "\n",
       "    .dataframe thead th {\n",
       "        text-align: right;\n",
       "    }\n",
       "</style>\n",
       "<table border=\"1\" class=\"dataframe\">\n",
       "  <thead>\n",
       "    <tr style=\"text-align: right;\">\n",
       "      <th></th>\n",
       "      <th>filename</th>\n",
       "    </tr>\n",
       "    <tr>\n",
       "      <th>details</th>\n",
       "      <th></th>\n",
       "    </tr>\n",
       "  </thead>\n",
       "  <tbody>\n",
       "    <tr>\n",
       "      <th>metadata could not be read by OCR</th>\n",
       "      <td>15191</td>\n",
       "    </tr>\n",
       "    <tr>\n",
       "      <th>OCR read metadata contains letters</th>\n",
       "      <td>1753</td>\n",
       "    </tr>\n",
       "    <tr>\n",
       "      <th>metadata was interpreted to be num type</th>\n",
       "      <td>456</td>\n",
       "    </tr>\n",
       "    <tr>\n",
       "      <th>metadata was interpreted to be dot type</th>\n",
       "      <td>258</td>\n",
       "    </tr>\n",
       "  </tbody>\n",
       "</table>\n",
       "</div>"
      ],
      "text/plain": [
       "                                         filename\n",
       "details                                          \n",
       "metadata could not be read by OCR           15191\n",
       "OCR read metadata contains letters           1753\n",
       "metadata was interpreted to be num type       456\n",
       "metadata was interpreted to be dot type       258"
      ]
     },
     "execution_count": 13,
     "metadata": {},
     "output_type": "execute_result"
    }
   ],
   "source": [
    "df_s2_loss = df_s2.loc[df_s2['processed_image_class'] == 'loss']\n",
    "df_loss_bd = df_s2_loss.groupby(['details']).count()[['filename']]\n",
    "df_loss_bd.sort_values('filename', ascending=False)"
   ]
  },
  {
   "cell_type": "markdown",
   "id": "474347e0",
   "metadata": {},
   "source": [
    "Breakdown 'outlier' type:"
   ]
  },
  {
   "cell_type": "code",
   "execution_count": 14,
   "id": "56c6fa22",
   "metadata": {},
   "outputs": [
    {
     "data": {
      "text/html": [
       "<div>\n",
       "<style scoped>\n",
       "    .dataframe tbody tr th:only-of-type {\n",
       "        vertical-align: middle;\n",
       "    }\n",
       "\n",
       "    .dataframe tbody tr th {\n",
       "        vertical-align: top;\n",
       "    }\n",
       "\n",
       "    .dataframe thead th {\n",
       "        text-align: right;\n",
       "    }\n",
       "</style>\n",
       "<table border=\"1\" class=\"dataframe\">\n",
       "  <thead>\n",
       "    <tr style=\"text-align: right;\">\n",
       "      <th></th>\n",
       "      <th>filename</th>\n",
       "    </tr>\n",
       "    <tr>\n",
       "      <th>func_name</th>\n",
       "      <th></th>\n",
       "    </tr>\n",
       "  </thead>\n",
       "  <tbody>\n",
       "    <tr>\n",
       "      <th>image_segmentation.segment_images_in_subdir.segment_images: iono size outlier</th>\n",
       "      <td>7119</td>\n",
       "    </tr>\n",
       "    <tr>\n",
       "      <th>image_segmentation.segment_images_in_subdir.segment_images: metadata size outlier</th>\n",
       "      <td>400</td>\n",
       "    </tr>\n",
       "  </tbody>\n",
       "</table>\n",
       "</div>"
      ],
      "text/plain": [
       "                                                    filename\n",
       "func_name                                                   \n",
       "image_segmentation.segment_images_in_subdir.seg...      7119\n",
       "image_segmentation.segment_images_in_subdir.seg...       400"
      ]
     },
     "execution_count": 14,
     "metadata": {},
     "output_type": "execute_result"
    }
   ],
   "source": [
    "df_s2_outlier = df_s2.loc[df_s2['processed_image_class'] == 'outlier']\n",
    "df_outlier_bd = df_s2_outlier.groupby(['func_name']).count()[['filename']]\n",
    "df_outlier_bd.sort_values('filename', ascending=False)"
   ]
  },
  {
   "cell_type": "markdown",
   "id": "20289cfc",
   "metadata": {},
   "source": [
    "#  "
   ]
  },
  {
   "cell_type": "markdown",
   "id": "b60e161c",
   "metadata": {},
   "source": [
    "#### Master - Overall Statistics:"
   ]
  },
  {
   "cell_type": "code",
   "execution_count": 15,
   "id": "1624123a",
   "metadata": {},
   "outputs": [],
   "source": [
    "df_master = pd.read_csv(resultDir + 'result_master.csv', low_memory=False)\n",
    "n_master = len(df_master.loc[(~pd.isna(df_master['Station_Code'])) & (df_master['time_quality'] == 1)])"
   ]
  },
  {
   "cell_type": "code",
   "execution_count": 16,
   "id": "5e3574f0",
   "metadata": {},
   "outputs": [],
   "source": [
    "n_tq1 = len(df_master.loc[df_master['time_quality'] == 1])\n",
    "n_tq2 = len(df_master.loc[df_master['time_quality'] == 2])\n",
    "n_tq3 = len(df_master.loc[df_master['time_quality'] == 3])\n",
    "n_tq4 = len(df_master.loc[df_master['time_quality'] == 4])"
   ]
  },
  {
   "cell_type": "code",
   "execution_count": 17,
   "id": "7eb7af18",
   "metadata": {},
   "outputs": [
    {
     "name": "stdout",
     "output_type": "stream",
     "text": [
      "# of images fully read after stage 2 processing: 21340\n",
      "% of images fully read after stage 2 processing (yield): 2.94 %\n",
      "\n",
      "% time quality level 1 yield: 2.94 %\n",
      "% at least time quality level 2: 2.95 %\n",
      "% at least time quality level 3: 2.97 %\n",
      "% at least time quality level 4: 3.13 %\n"
     ]
    }
   ],
   "source": [
    "print('# of images fully read after stage 2 processing: ' + str(n_master))\n",
    "print('% of images fully read after stage 2 processing (yield): ' + str(round(((n_master/n_images)*100), 2)) + ' %')\n",
    "print('')\n",
    "print('% time quality level 1 yield: ' + str(round(((n_tq1/n_images)*100), 2)) + ' %')\n",
    "print('% at least time quality level 2: ' + str(round((((n_tq1+n_tq2)/n_images)*100), 2)) + ' %')\n",
    "print('% at least time quality level 3: ' + str(round((((n_tq1+n_tq2+n_tq3)/n_images)*100), 2)) + ' %')\n",
    "print('% at least time quality level 4: ' + str(round((((n_tq1+n_tq2+n_tq3+n_tq4)/n_images)*100), 2)) + ' %')"
   ]
  },
  {
   "cell_type": "markdown",
   "id": "52322c5a",
   "metadata": {},
   "source": [
    "#  "
   ]
  },
  {
   "cell_type": "markdown",
   "id": "7aa3dee7",
   "metadata": {},
   "source": [
    "#### Data distribution by ground station:"
   ]
  },
  {
   "cell_type": "code",
   "execution_count": 18,
   "id": "b6d49a0f",
   "metadata": {},
   "outputs": [],
   "source": [
    "df2 = df_master.copy(deep=True)\n",
    "df2['Station_Number_Station_Code_processed_image_class'] = df2['Station_Number'].astype(int).astype(str) + '_' + df2['Station_Code'] + '_' + df2['processed_image_class']"
   ]
  },
  {
   "cell_type": "code",
   "execution_count": 19,
   "id": "83c4bb8e",
   "metadata": {},
   "outputs": [
    {
     "data": {
      "text/html": [
       "<div>\n",
       "<style scoped>\n",
       "    .dataframe tbody tr th:only-of-type {\n",
       "        vertical-align: middle;\n",
       "    }\n",
       "\n",
       "    .dataframe tbody tr th {\n",
       "        vertical-align: top;\n",
       "    }\n",
       "\n",
       "    .dataframe thead th {\n",
       "        text-align: right;\n",
       "    }\n",
       "</style>\n",
       "<table border=\"1\" class=\"dataframe\">\n",
       "  <thead>\n",
       "    <tr style=\"text-align: right;\">\n",
       "      <th></th>\n",
       "      <th>filename</th>\n",
       "    </tr>\n",
       "    <tr>\n",
       "      <th>Station_Number</th>\n",
       "      <th></th>\n",
       "    </tr>\n",
       "  </thead>\n",
       "  <tbody>\n",
       "    <tr>\n",
       "      <th>5.0</th>\n",
       "      <td>3751</td>\n",
       "    </tr>\n",
       "    <tr>\n",
       "      <th>13.0</th>\n",
       "      <td>2715</td>\n",
       "    </tr>\n",
       "    <tr>\n",
       "      <th>50.0</th>\n",
       "      <td>2060</td>\n",
       "    </tr>\n",
       "    <tr>\n",
       "      <th>1.0</th>\n",
       "      <td>1939</td>\n",
       "    </tr>\n",
       "    <tr>\n",
       "      <th>43.0</th>\n",
       "      <td>1662</td>\n",
       "    </tr>\n",
       "    <tr>\n",
       "      <th>69.0</th>\n",
       "      <td>1129</td>\n",
       "    </tr>\n",
       "    <tr>\n",
       "      <th>8.0</th>\n",
       "      <td>1126</td>\n",
       "    </tr>\n",
       "    <tr>\n",
       "      <th>3.0</th>\n",
       "      <td>950</td>\n",
       "    </tr>\n",
       "    <tr>\n",
       "      <th>15.0</th>\n",
       "      <td>764</td>\n",
       "    </tr>\n",
       "    <tr>\n",
       "      <th>19.0</th>\n",
       "      <td>682</td>\n",
       "    </tr>\n",
       "  </tbody>\n",
       "</table>\n",
       "</div>"
      ],
      "text/plain": [
       "                filename\n",
       "Station_Number          \n",
       "5.0                 3751\n",
       "13.0                2715\n",
       "50.0                2060\n",
       "1.0                 1939\n",
       "43.0                1662\n",
       "69.0                1129\n",
       "8.0                 1126\n",
       "3.0                  950\n",
       "15.0                 764\n",
       "19.0                 682"
      ]
     },
     "execution_count": 19,
     "metadata": {},
     "output_type": "execute_result"
    }
   ],
   "source": [
    "df_master_by_stn = df2.groupby(['Station_Number']).count()[['filename']].sort_values('filename', ascending=False)\n",
    "df_master_by_stn.head(10)"
   ]
  },
  {
   "cell_type": "code",
   "execution_count": 20,
   "id": "40dd822f",
   "metadata": {},
   "outputs": [
    {
     "data": {
      "text/html": [
       "<div>\n",
       "<style scoped>\n",
       "    .dataframe tbody tr th:only-of-type {\n",
       "        vertical-align: middle;\n",
       "    }\n",
       "\n",
       "    .dataframe tbody tr th {\n",
       "        vertical-align: top;\n",
       "    }\n",
       "\n",
       "    .dataframe thead th {\n",
       "        text-align: right;\n",
       "    }\n",
       "</style>\n",
       "<table border=\"1\" class=\"dataframe\">\n",
       "  <thead>\n",
       "    <tr style=\"text-align: right;\">\n",
       "      <th></th>\n",
       "      <th>filename</th>\n",
       "    </tr>\n",
       "    <tr>\n",
       "      <th>Station_Name</th>\n",
       "      <th></th>\n",
       "    </tr>\n",
       "  </thead>\n",
       "  <tbody>\n",
       "    <tr>\n",
       "      <th>Quito, Ecuador</th>\n",
       "      <td>4089</td>\n",
       "    </tr>\n",
       "    <tr>\n",
       "      <th>College, Fairbanks, AK, USA</th>\n",
       "      <td>2696</td>\n",
       "    </tr>\n",
       "    <tr>\n",
       "      <th>Ottawa, Canada</th>\n",
       "      <td>2079</td>\n",
       "    </tr>\n",
       "    <tr>\n",
       "      <th>Resolute Bay, NT, Canada</th>\n",
       "      <td>1841</td>\n",
       "    </tr>\n",
       "    <tr>\n",
       "      <th>Blossom Point, MD, USA</th>\n",
       "      <td>1769</td>\n",
       "    </tr>\n",
       "    <tr>\n",
       "      <th>Tromso, Norway</th>\n",
       "      <td>1208</td>\n",
       "    </tr>\n",
       "    <tr>\n",
       "      <th>Falkland Islands (Islas Malvinas)</th>\n",
       "      <td>1150</td>\n",
       "    </tr>\n",
       "    <tr>\n",
       "      <th>Winkfield, England, UK</th>\n",
       "      <td>1078</td>\n",
       "    </tr>\n",
       "    <tr>\n",
       "      <th>Santiago, Chile</th>\n",
       "      <td>998</td>\n",
       "    </tr>\n",
       "    <tr>\n",
       "      <th>St. John's, NL, Canada</th>\n",
       "      <td>984</td>\n",
       "    </tr>\n",
       "  </tbody>\n",
       "</table>\n",
       "</div>"
      ],
      "text/plain": [
       "                                   filename\n",
       "Station_Name                               \n",
       "Quito, Ecuador                         4089\n",
       "College, Fairbanks, AK, USA            2696\n",
       "Ottawa, Canada                         2079\n",
       "Resolute Bay, NT, Canada               1841\n",
       "Blossom Point, MD, USA                 1769\n",
       "Tromso, Norway                         1208\n",
       "Falkland Islands (Islas Malvinas)      1150\n",
       "Winkfield, England, UK                 1078\n",
       "Santiago, Chile                         998\n",
       "St. John's, NL, Canada                  984"
      ]
     },
     "execution_count": 20,
     "metadata": {},
     "output_type": "execute_result"
    }
   ],
   "source": [
    "df_master_by_stnname = df2.groupby(['Station_Name']).count()[['filename']].sort_values('filename', ascending=False)\n",
    "df_master_by_stnname.head(10)"
   ]
  },
  {
   "cell_type": "code",
   "execution_count": 24,
   "id": "281d93d2",
   "metadata": {
    "scrolled": false
   },
   "outputs": [
    {
     "data": {
      "text/html": [
       "<div>\n",
       "<style scoped>\n",
       "    .dataframe tbody tr th:only-of-type {\n",
       "        vertical-align: middle;\n",
       "    }\n",
       "\n",
       "    .dataframe tbody tr th {\n",
       "        vertical-align: top;\n",
       "    }\n",
       "\n",
       "    .dataframe thead th {\n",
       "        text-align: right;\n",
       "    }\n",
       "</style>\n",
       "<table border=\"1\" class=\"dataframe\">\n",
       "  <thead>\n",
       "    <tr style=\"text-align: right;\">\n",
       "      <th></th>\n",
       "      <th>filename</th>\n",
       "    </tr>\n",
       "    <tr>\n",
       "      <th>Station_Number_Station_Code_processed_image_class</th>\n",
       "      <th></th>\n",
       "    </tr>\n",
       "  </thead>\n",
       "  <tbody>\n",
       "    <tr>\n",
       "      <th>5_QUI_num</th>\n",
       "      <td>3725</td>\n",
       "    </tr>\n",
       "    <tr>\n",
       "      <th>13_COL_num</th>\n",
       "      <td>2449</td>\n",
       "    </tr>\n",
       "    <tr>\n",
       "      <th>50_OTT_num2</th>\n",
       "      <td>1964</td>\n",
       "    </tr>\n",
       "    <tr>\n",
       "      <th>1_BPT_num</th>\n",
       "      <td>1760</td>\n",
       "    </tr>\n",
       "    <tr>\n",
       "      <th>43_RES_num2</th>\n",
       "      <td>1653</td>\n",
       "    </tr>\n",
       "    <tr>\n",
       "      <th>69_TRO_num2</th>\n",
       "      <td>1128</td>\n",
       "    </tr>\n",
       "    <tr>\n",
       "      <th>3_FTM_num</th>\n",
       "      <td>787</td>\n",
       "    </tr>\n",
       "    <tr>\n",
       "      <th>15_WNK_num2</th>\n",
       "      <td>758</td>\n",
       "    </tr>\n",
       "    <tr>\n",
       "      <th>8_SNT_num</th>\n",
       "      <td>736</td>\n",
       "    </tr>\n",
       "    <tr>\n",
       "      <th>19_ULA_num2</th>\n",
       "      <td>675</td>\n",
       "    </tr>\n",
       "    <tr>\n",
       "      <th>11_SNP_num</th>\n",
       "      <td>625</td>\n",
       "    </tr>\n",
       "    <tr>\n",
       "      <th>38_SOL_num2</th>\n",
       "      <td>523</td>\n",
       "    </tr>\n",
       "    <tr>\n",
       "      <th>4_NEW_num</th>\n",
       "      <td>453</td>\n",
       "    </tr>\n",
       "    <tr>\n",
       "      <th>53_KNO_num2</th>\n",
       "      <td>398</td>\n",
       "    </tr>\n",
       "    <tr>\n",
       "      <th>7_QUI_num</th>\n",
       "      <td>360</td>\n",
       "    </tr>\n",
       "    <tr>\n",
       "      <th>9_SOL_num</th>\n",
       "      <td>360</td>\n",
       "    </tr>\n",
       "    <tr>\n",
       "      <th>12_NEW_num2</th>\n",
       "      <td>331</td>\n",
       "    </tr>\n",
       "    <tr>\n",
       "      <th>21_RAL_num2</th>\n",
       "      <td>317</td>\n",
       "    </tr>\n",
       "    <tr>\n",
       "      <th>37_HAW_num2</th>\n",
       "      <td>299</td>\n",
       "    </tr>\n",
       "    <tr>\n",
       "      <th>8_SNT_num2</th>\n",
       "      <td>262</td>\n",
       "    </tr>\n",
       "  </tbody>\n",
       "</table>\n",
       "</div>"
      ],
      "text/plain": [
       "                                                   filename\n",
       "Station_Number_Station_Code_processed_image_class          \n",
       "5_QUI_num                                              3725\n",
       "13_COL_num                                             2449\n",
       "50_OTT_num2                                            1964\n",
       "1_BPT_num                                              1760\n",
       "43_RES_num2                                            1653\n",
       "69_TRO_num2                                            1128\n",
       "3_FTM_num                                               787\n",
       "15_WNK_num2                                             758\n",
       "8_SNT_num                                               736\n",
       "19_ULA_num2                                             675\n",
       "11_SNP_num                                              625\n",
       "38_SOL_num2                                             523\n",
       "4_NEW_num                                               453\n",
       "53_KNO_num2                                             398\n",
       "7_QUI_num                                               360\n",
       "9_SOL_num                                               360\n",
       "12_NEW_num2                                             331\n",
       "21_RAL_num2                                             317\n",
       "37_HAW_num2                                             299\n",
       "8_SNT_num2                                              262"
      ]
     },
     "execution_count": 24,
     "metadata": {},
     "output_type": "execute_result"
    }
   ],
   "source": [
    "df_master_by_stn_code = df2.groupby(['Station_Number_Station_Code_processed_image_class']).count()[['filename']].sort_values('filename', ascending=False)\n",
    "df_master_by_stn_code.head(20)"
   ]
  },
  {
   "cell_type": "markdown",
   "id": "86324fc8",
   "metadata": {},
   "source": [
    "#  "
   ]
  },
  {
   "cell_type": "markdown",
   "id": "15a3f95d",
   "metadata": {},
   "source": [
    "#### Process Summary by subdirectory:"
   ]
  },
  {
   "cell_type": "markdown",
   "id": "2bfeb46c",
   "metadata": {},
   "source": [
    "Load data:"
   ]
  },
  {
   "cell_type": "code",
   "execution_count": 25,
   "id": "be58019b",
   "metadata": {},
   "outputs": [
    {
     "name": "stdout",
     "output_type": "stream",
     "text": [
      "2416\n"
     ]
    },
    {
     "data": {
      "text/html": [
       "<div>\n",
       "<style scoped>\n",
       "    .dataframe tbody tr th:only-of-type {\n",
       "        vertical-align: middle;\n",
       "    }\n",
       "\n",
       "    .dataframe tbody tr th {\n",
       "        vertical-align: top;\n",
       "    }\n",
       "\n",
       "    .dataframe thead th {\n",
       "        text-align: right;\n",
       "    }\n",
       "</style>\n",
       "<table border=\"1\" class=\"dataframe\">\n",
       "  <thead>\n",
       "    <tr style=\"text-align: right;\">\n",
       "      <th></th>\n",
       "      <th>Directory</th>\n",
       "      <th>Subdirectory</th>\n",
       "      <th>images</th>\n",
       "      <th>subdir_id</th>\n",
       "    </tr>\n",
       "  </thead>\n",
       "  <tbody>\n",
       "    <tr>\n",
       "      <th>0</th>\n",
       "      <td>R014207709</td>\n",
       "      <td>145</td>\n",
       "      <td>53</td>\n",
       "      <td>R014207709_145</td>\n",
       "    </tr>\n",
       "    <tr>\n",
       "      <th>1</th>\n",
       "      <td>R014207709</td>\n",
       "      <td>146</td>\n",
       "      <td>63</td>\n",
       "      <td>R014207709_146</td>\n",
       "    </tr>\n",
       "    <tr>\n",
       "      <th>2</th>\n",
       "      <td>R014207709</td>\n",
       "      <td>147</td>\n",
       "      <td>50</td>\n",
       "      <td>R014207709_147</td>\n",
       "    </tr>\n",
       "    <tr>\n",
       "      <th>3</th>\n",
       "      <td>R014207709</td>\n",
       "      <td>148</td>\n",
       "      <td>16</td>\n",
       "      <td>R014207709_148</td>\n",
       "    </tr>\n",
       "    <tr>\n",
       "      <th>4</th>\n",
       "      <td>R014207709</td>\n",
       "      <td>149</td>\n",
       "      <td>28</td>\n",
       "      <td>R014207709_149</td>\n",
       "    </tr>\n",
       "  </tbody>\n",
       "</table>\n",
       "</div>"
      ],
      "text/plain": [
       "    Directory Subdirectory  images       subdir_id\n",
       "0  R014207709          145      53  R014207709_145\n",
       "1  R014207709          146      63  R014207709_146\n",
       "2  R014207709          147      50  R014207709_147\n",
       "3  R014207709          148      16  R014207709_148\n",
       "4  R014207709          149      28  R014207709_149"
      ]
     },
     "execution_count": 25,
     "metadata": {},
     "output_type": "execute_result"
    }
   ],
   "source": [
    "print(len(df_inventory))\n",
    "df_inventory.head()"
   ]
  },
  {
   "cell_type": "code",
   "execution_count": 26,
   "id": "1fa7bd19",
   "metadata": {},
   "outputs": [
    {
     "name": "stdout",
     "output_type": "stream",
     "text": [
      "2417\n"
     ]
    },
    {
     "data": {
      "text/html": [
       "<div>\n",
       "<style scoped>\n",
       "    .dataframe tbody tr th:only-of-type {\n",
       "        vertical-align: middle;\n",
       "    }\n",
       "\n",
       "    .dataframe tbody tr th {\n",
       "        vertical-align: top;\n",
       "    }\n",
       "\n",
       "    .dataframe thead th {\n",
       "        text-align: right;\n",
       "    }\n",
       "</style>\n",
       "<table border=\"1\" class=\"dataframe\">\n",
       "  <thead>\n",
       "    <tr style=\"text-align: right;\">\n",
       "      <th></th>\n",
       "      <th>Directory</th>\n",
       "      <th>Subdirectory</th>\n",
       "      <th>Images_processed</th>\n",
       "      <th>Images_dot</th>\n",
       "      <th>Images_num</th>\n",
       "      <th>Images_loss</th>\n",
       "      <th>Images_outlier</th>\n",
       "      <th>Process_time</th>\n",
       "      <th>Process_timestamp</th>\n",
       "      <th>User</th>\n",
       "      <th>subdir_id</th>\n",
       "    </tr>\n",
       "  </thead>\n",
       "  <tbody>\n",
       "    <tr>\n",
       "      <th>0</th>\n",
       "      <td>R014207837</td>\n",
       "      <td>4013-50</td>\n",
       "      <td>162.0</td>\n",
       "      <td>0.0</td>\n",
       "      <td>150.0</td>\n",
       "      <td>4.0</td>\n",
       "      <td>8.0</td>\n",
       "      <td>277.122729</td>\n",
       "      <td>2023-05-13 11:13:35.969795</td>\n",
       "      <td>Rav Super3</td>\n",
       "      <td>R014207837_4013-50</td>\n",
       "    </tr>\n",
       "    <tr>\n",
       "      <th>1</th>\n",
       "      <td>R014207769</td>\n",
       "      <td>JUNE-28-TO-JULY-6-1965</td>\n",
       "      <td>0.0</td>\n",
       "      <td>0.0</td>\n",
       "      <td>0.0</td>\n",
       "      <td>0.0</td>\n",
       "      <td>0.0</td>\n",
       "      <td>214.129275</td>\n",
       "      <td>2023-05-13 11:13:50.695690</td>\n",
       "      <td>Rav Super5</td>\n",
       "      <td>R014207769_JUNE-28-TO-JULY-6-1965</td>\n",
       "    </tr>\n",
       "    <tr>\n",
       "      <th>2</th>\n",
       "      <td>R014207820</td>\n",
       "      <td>2993-43A</td>\n",
       "      <td>16.0</td>\n",
       "      <td>0.0</td>\n",
       "      <td>12.0</td>\n",
       "      <td>0.0</td>\n",
       "      <td>4.0</td>\n",
       "      <td>232.333798</td>\n",
       "      <td>2023-05-13 11:15:58.948288</td>\n",
       "      <td>Rav Super8</td>\n",
       "      <td>R014207820_2993-43A</td>\n",
       "    </tr>\n",
       "    <tr>\n",
       "      <th>3</th>\n",
       "      <td>R014207813</td>\n",
       "      <td>5037</td>\n",
       "      <td>339.0</td>\n",
       "      <td>0.0</td>\n",
       "      <td>0.0</td>\n",
       "      <td>278.0</td>\n",
       "      <td>61.0</td>\n",
       "      <td>267.199561</td>\n",
       "      <td>2023-05-13 11:17:12.488731</td>\n",
       "      <td>Rav Super9</td>\n",
       "      <td>R014207813_5037</td>\n",
       "    </tr>\n",
       "    <tr>\n",
       "      <th>4</th>\n",
       "      <td>R014207822</td>\n",
       "      <td>3436-50-A</td>\n",
       "      <td>267.0</td>\n",
       "      <td>0.0</td>\n",
       "      <td>257.0</td>\n",
       "      <td>0.0</td>\n",
       "      <td>10.0</td>\n",
       "      <td>541.358854</td>\n",
       "      <td>2023-05-13 11:23:17.637033</td>\n",
       "      <td>Rav Super5</td>\n",
       "      <td>R014207822_3436-50-A</td>\n",
       "    </tr>\n",
       "  </tbody>\n",
       "</table>\n",
       "</div>"
      ],
      "text/plain": [
       "    Directory            Subdirectory  Images_processed  Images_dot  \\\n",
       "0  R014207837                 4013-50             162.0         0.0   \n",
       "1  R014207769  JUNE-28-TO-JULY-6-1965               0.0         0.0   \n",
       "2  R014207820                2993-43A              16.0         0.0   \n",
       "3  R014207813                    5037             339.0         0.0   \n",
       "4  R014207822               3436-50-A             267.0         0.0   \n",
       "\n",
       "   Images_num  Images_loss  Images_outlier  Process_time  \\\n",
       "0       150.0          4.0             8.0    277.122729   \n",
       "1         0.0          0.0             0.0    214.129275   \n",
       "2        12.0          0.0             4.0    232.333798   \n",
       "3         0.0        278.0            61.0    267.199561   \n",
       "4       257.0          0.0            10.0    541.358854   \n",
       "\n",
       "            Process_timestamp        User                          subdir_id  \n",
       "0  2023-05-13 11:13:35.969795  Rav Super3                 R014207837_4013-50  \n",
       "1  2023-05-13 11:13:50.695690  Rav Super5  R014207769_JUNE-28-TO-JULY-6-1965  \n",
       "2  2023-05-13 11:15:58.948288  Rav Super8                R014207820_2993-43A  \n",
       "3  2023-05-13 11:17:12.488731  Rav Super9                    R014207813_5037  \n",
       "4  2023-05-13 11:23:17.637033  Rav Super5               R014207822_3436-50-A  "
      ]
     },
     "execution_count": 26,
     "metadata": {},
     "output_type": "execute_result"
    }
   ],
   "source": [
    "df_process_log = pd.read_csv(logDir + 'process_log.csv')\n",
    "print(len(df_process_log))\n",
    "df_p1 = df_process_log.sort_values('Process_timestamp', ascending=True)\n",
    "df_p1 = df_p1.drop_duplicates(subset=['subdir_id'], keep='last') \n",
    "print(len(df_p1))\n",
    "df_p1.head()"
   ]
  },
  {
   "cell_type": "code",
   "execution_count": 27,
   "id": "0932bf53",
   "metadata": {},
   "outputs": [
    {
     "name": "stdout",
     "output_type": "stream",
     "text": [
      "241\n",
      "241\n"
     ]
    },
    {
     "data": {
      "text/html": [
       "<div>\n",
       "<style scoped>\n",
       "    .dataframe tbody tr th:only-of-type {\n",
       "        vertical-align: middle;\n",
       "    }\n",
       "\n",
       "    .dataframe tbody tr th {\n",
       "        vertical-align: top;\n",
       "    }\n",
       "\n",
       "    .dataframe thead th {\n",
       "        text-align: right;\n",
       "    }\n",
       "</style>\n",
       "<table border=\"1\" class=\"dataframe\">\n",
       "  <thead>\n",
       "    <tr style=\"text-align: right;\">\n",
       "      <th></th>\n",
       "      <th>Directory</th>\n",
       "      <th>Subdirectory</th>\n",
       "      <th>Process_time</th>\n",
       "      <th>Process_timestamp</th>\n",
       "      <th>User</th>\n",
       "      <th>subdir_id</th>\n",
       "    </tr>\n",
       "  </thead>\n",
       "  <tbody>\n",
       "    <tr>\n",
       "      <th>0</th>\n",
       "      <td>R014207827</td>\n",
       "      <td>3822-43A</td>\n",
       "      <td>990.216040</td>\n",
       "      <td>2023-05-15 18:06:19.824654</td>\n",
       "      <td>Rav Super1</td>\n",
       "      <td>R014207827_3822-43A</td>\n",
       "    </tr>\n",
       "    <tr>\n",
       "      <th>1</th>\n",
       "      <td>R014207820</td>\n",
       "      <td>3000-43A</td>\n",
       "      <td>1062.283440</td>\n",
       "      <td>2023-05-15 18:24:02.150093</td>\n",
       "      <td>Rav Super1</td>\n",
       "      <td>R014207820_3000-43A</td>\n",
       "    </tr>\n",
       "    <tr>\n",
       "      <th>2</th>\n",
       "      <td>R014207835</td>\n",
       "      <td>4060-19</td>\n",
       "      <td>940.294587</td>\n",
       "      <td>2023-05-15 18:39:42.472678</td>\n",
       "      <td>Rav Super1</td>\n",
       "      <td>R014207835_4060-19</td>\n",
       "    </tr>\n",
       "    <tr>\n",
       "      <th>3</th>\n",
       "      <td>R014207963</td>\n",
       "      <td>1544-1B</td>\n",
       "      <td>814.297740</td>\n",
       "      <td>2023-05-15 18:53:16.795418</td>\n",
       "      <td>Rav Super1</td>\n",
       "      <td>R014207963_1544-1B</td>\n",
       "    </tr>\n",
       "    <tr>\n",
       "      <th>4</th>\n",
       "      <td>R014207711</td>\n",
       "      <td>39</td>\n",
       "      <td>384.984926</td>\n",
       "      <td>2023-05-15 18:59:41.800343</td>\n",
       "      <td>Rav Super1</td>\n",
       "      <td>R014207711_39</td>\n",
       "    </tr>\n",
       "  </tbody>\n",
       "</table>\n",
       "</div>"
      ],
      "text/plain": [
       "    Directory Subdirectory  Process_time           Process_timestamp  \\\n",
       "0  R014207827     3822-43A    990.216040  2023-05-15 18:06:19.824654   \n",
       "1  R014207820     3000-43A   1062.283440  2023-05-15 18:24:02.150093   \n",
       "2  R014207835      4060-19    940.294587  2023-05-15 18:39:42.472678   \n",
       "3  R014207963      1544-1B    814.297740  2023-05-15 18:53:16.795418   \n",
       "4  R014207711           39    384.984926  2023-05-15 18:59:41.800343   \n",
       "\n",
       "         User            subdir_id  \n",
       "0  Rav Super1  R014207827_3822-43A  \n",
       "1  Rav Super1  R014207820_3000-43A  \n",
       "2  Rav Super1   R014207835_4060-19  \n",
       "3  Rav Super1   R014207963_1544-1B  \n",
       "4  Rav Super1        R014207711_39  "
      ]
     },
     "execution_count": 27,
     "metadata": {},
     "output_type": "execute_result"
    }
   ],
   "source": [
    "df_process_log2 = pd.read_csv(logDir + 'process_log_OCR.csv')\n",
    "print(len(df_process_log2))\n",
    "df_p2 = df_process_log2.sort_values('Process_timestamp', ascending=True)\n",
    "df_p2 = df_p2.drop_duplicates(subset=['subdir_id'], keep='last') \n",
    "print(len(df_p2))\n",
    "df_p2.head()"
   ]
  },
  {
   "cell_type": "code",
   "execution_count": 28,
   "id": "3f717de9",
   "metadata": {},
   "outputs": [],
   "source": [
    "df_pp = pd.read_csv(resultDir + 'result_postprocess_raw.csv', low_memory=False)"
   ]
  },
  {
   "cell_type": "markdown",
   "id": "f58ea7ab",
   "metadata": {},
   "source": [
    "Construct process_summary:"
   ]
  },
  {
   "cell_type": "code",
   "execution_count": 33,
   "id": "d430b26a",
   "metadata": {},
   "outputs": [
    {
     "name": "stdout",
     "output_type": "stream",
     "text": [
      "2416\n"
     ]
    },
    {
     "data": {
      "text/html": [
       "<div>\n",
       "<style scoped>\n",
       "    .dataframe tbody tr th:only-of-type {\n",
       "        vertical-align: middle;\n",
       "    }\n",
       "\n",
       "    .dataframe tbody tr th {\n",
       "        vertical-align: top;\n",
       "    }\n",
       "\n",
       "    .dataframe thead th {\n",
       "        text-align: right;\n",
       "    }\n",
       "</style>\n",
       "<table border=\"1\" class=\"dataframe\">\n",
       "  <thead>\n",
       "    <tr style=\"text-align: right;\">\n",
       "      <th></th>\n",
       "      <th>Directory</th>\n",
       "      <th>Subdirectory</th>\n",
       "      <th>n_images</th>\n",
       "      <th>n_stage1_processed</th>\n",
       "      <th>n_stage1_unprocessed</th>\n",
       "      <th>n_stage1_loss</th>\n",
       "      <th>n_stage1_outlier</th>\n",
       "      <th>process_time_stage1</th>\n",
       "      <th>subdir_id</th>\n",
       "    </tr>\n",
       "  </thead>\n",
       "  <tbody>\n",
       "    <tr>\n",
       "      <th>793</th>\n",
       "      <td>R014207820</td>\n",
       "      <td>2991-8B</td>\n",
       "      <td>306</td>\n",
       "      <td>19.0</td>\n",
       "      <td>2.0</td>\n",
       "      <td>269.0</td>\n",
       "      <td>16.0</td>\n",
       "      <td>658.522614</td>\n",
       "      <td>R014207820_2991-8B</td>\n",
       "    </tr>\n",
       "    <tr>\n",
       "      <th>1771</th>\n",
       "      <td>R014207886</td>\n",
       "      <td>15</td>\n",
       "      <td>256</td>\n",
       "      <td>21.0</td>\n",
       "      <td>59.0</td>\n",
       "      <td>115.0</td>\n",
       "      <td>61.0</td>\n",
       "      <td>8019.164709</td>\n",
       "      <td>R014207886_15</td>\n",
       "    </tr>\n",
       "    <tr>\n",
       "      <th>436</th>\n",
       "      <td>R014207810</td>\n",
       "      <td>5126</td>\n",
       "      <td>335</td>\n",
       "      <td>2.0</td>\n",
       "      <td>3.0</td>\n",
       "      <td>218.0</td>\n",
       "      <td>112.0</td>\n",
       "      <td>676.940403</td>\n",
       "      <td>R014207810_5126</td>\n",
       "    </tr>\n",
       "    <tr>\n",
       "      <th>1038</th>\n",
       "      <td>R014207827</td>\n",
       "      <td>3839-43A</td>\n",
       "      <td>271</td>\n",
       "      <td>237.0</td>\n",
       "      <td>3.0</td>\n",
       "      <td>24.0</td>\n",
       "      <td>7.0</td>\n",
       "      <td>931.600775</td>\n",
       "      <td>R014207827_3839-43A</td>\n",
       "    </tr>\n",
       "    <tr>\n",
       "      <th>2297</th>\n",
       "      <td>R014207963</td>\n",
       "      <td>1566-1B</td>\n",
       "      <td>356</td>\n",
       "      <td>335.0</td>\n",
       "      <td>3.0</td>\n",
       "      <td>5.0</td>\n",
       "      <td>13.0</td>\n",
       "      <td>1222.451081</td>\n",
       "      <td>R014207963_1566-1B</td>\n",
       "    </tr>\n",
       "    <tr>\n",
       "      <th>64</th>\n",
       "      <td>R014207711</td>\n",
       "      <td>28</td>\n",
       "      <td>103</td>\n",
       "      <td>4.0</td>\n",
       "      <td>39.0</td>\n",
       "      <td>17.0</td>\n",
       "      <td>43.0</td>\n",
       "      <td>203.392846</td>\n",
       "      <td>R014207711_28</td>\n",
       "    </tr>\n",
       "    <tr>\n",
       "      <th>945</th>\n",
       "      <td>R014207826</td>\n",
       "      <td>3866-8A</td>\n",
       "      <td>326</td>\n",
       "      <td>15.0</td>\n",
       "      <td>9.0</td>\n",
       "      <td>110.0</td>\n",
       "      <td>192.0</td>\n",
       "      <td>175.988511</td>\n",
       "      <td>R014207826_3866-8A</td>\n",
       "    </tr>\n",
       "    <tr>\n",
       "      <th>2237</th>\n",
       "      <td>R014207961</td>\n",
       "      <td>1086-A</td>\n",
       "      <td>382</td>\n",
       "      <td>367.0</td>\n",
       "      <td>1.0</td>\n",
       "      <td>2.0</td>\n",
       "      <td>12.0</td>\n",
       "      <td>1003.989341</td>\n",
       "      <td>R014207961_1086-A</td>\n",
       "    </tr>\n",
       "    <tr>\n",
       "      <th>2028</th>\n",
       "      <td>R014207945</td>\n",
       "      <td>2256-5A</td>\n",
       "      <td>348</td>\n",
       "      <td>316.0</td>\n",
       "      <td>12.0</td>\n",
       "      <td>1.0</td>\n",
       "      <td>19.0</td>\n",
       "      <td>1056.801791</td>\n",
       "      <td>R014207945_2256-5A</td>\n",
       "    </tr>\n",
       "    <tr>\n",
       "      <th>554</th>\n",
       "      <td>R014207813</td>\n",
       "      <td>5032</td>\n",
       "      <td>353</td>\n",
       "      <td>0.0</td>\n",
       "      <td>3.0</td>\n",
       "      <td>147.0</td>\n",
       "      <td>203.0</td>\n",
       "      <td>324.487319</td>\n",
       "      <td>R014207813_5032</td>\n",
       "    </tr>\n",
       "  </tbody>\n",
       "</table>\n",
       "</div>"
      ],
      "text/plain": [
       "       Directory Subdirectory  n_images  n_stage1_processed  \\\n",
       "793   R014207820      2991-8B       306                19.0   \n",
       "1771  R014207886           15       256                21.0   \n",
       "436   R014207810         5126       335                 2.0   \n",
       "1038  R014207827     3839-43A       271               237.0   \n",
       "2297  R014207963      1566-1B       356               335.0   \n",
       "64    R014207711           28       103                 4.0   \n",
       "945   R014207826      3866-8A       326                15.0   \n",
       "2237  R014207961       1086-A       382               367.0   \n",
       "2028  R014207945      2256-5A       348               316.0   \n",
       "554   R014207813         5032       353                 0.0   \n",
       "\n",
       "      n_stage1_unprocessed  n_stage1_loss  n_stage1_outlier  \\\n",
       "793                    2.0          269.0              16.0   \n",
       "1771                  59.0          115.0              61.0   \n",
       "436                    3.0          218.0             112.0   \n",
       "1038                   3.0           24.0               7.0   \n",
       "2297                   3.0            5.0              13.0   \n",
       "64                    39.0           17.0              43.0   \n",
       "945                    9.0          110.0             192.0   \n",
       "2237                   1.0            2.0              12.0   \n",
       "2028                  12.0            1.0              19.0   \n",
       "554                    3.0          147.0             203.0   \n",
       "\n",
       "      process_time_stage1            subdir_id  \n",
       "793            658.522614   R014207820_2991-8B  \n",
       "1771          8019.164709        R014207886_15  \n",
       "436            676.940403      R014207810_5126  \n",
       "1038           931.600775  R014207827_3839-43A  \n",
       "2297          1222.451081   R014207963_1566-1B  \n",
       "64             203.392846        R014207711_28  \n",
       "945            175.988511   R014207826_3866-8A  \n",
       "2237          1003.989341    R014207961_1086-A  \n",
       "2028          1056.801791   R014207945_2256-5A  \n",
       "554            324.487319      R014207813_5032  "
      ]
     },
     "execution_count": 33,
     "metadata": {},
     "output_type": "execute_result"
    }
   ],
   "source": [
    "df_sum1 = df_inventory.merge(df_p1[['Images_processed', 'Images_loss', 'Images_outlier', 'Process_time', 'subdir_id']], how='left', on='subdir_id')\n",
    "df_sum1 = df_sum1.rename(columns={\n",
    "    'images': 'n_images',\n",
    "    'Images_loss': 'n_stage1_loss',\n",
    "    'Images_outlier': 'n_stage1_outlier',\n",
    "    'Process_time': 'process_time_stage1'\n",
    "})\n",
    "df_sum1['n_stage1_processed'] = df_sum1['Images_processed'] - df_sum1['n_stage1_loss'] - df_sum1['n_stage1_outlier']\n",
    "df_sum1['n_stage1_unprocessed'] = df_sum1['n_images'] - df_sum1['Images_processed']\n",
    "df_sum1 = df_sum1[['Directory', 'Subdirectory', 'n_images', 'n_stage1_processed', 'n_stage1_unprocessed', 'n_stage1_loss',\n",
    "                  'n_stage1_outlier', 'process_time_stage1', 'subdir_id']]\n",
    "print(len(df_sum1))\n",
    "df_sum1.sample(10)"
   ]
  },
  {
   "cell_type": "code",
   "execution_count": null,
   "id": "e3684a80",
   "metadata": {},
   "outputs": [],
   "source": []
  }
 ],
 "metadata": {
  "kernelspec": {
   "display_name": "Python 3 (ipykernel)",
   "language": "python",
   "name": "python3"
  },
  "language_info": {
   "codemirror_mode": {
    "name": "ipython",
    "version": 3
   },
   "file_extension": ".py",
   "mimetype": "text/x-python",
   "name": "python",
   "nbconvert_exporter": "python",
   "pygments_lexer": "ipython3",
   "version": "3.8.16"
  }
 },
 "nbformat": 4,
 "nbformat_minor": 5
}

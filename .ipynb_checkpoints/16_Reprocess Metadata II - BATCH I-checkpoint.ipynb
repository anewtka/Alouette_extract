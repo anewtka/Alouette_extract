{
 "cells": [
  {
   "cell_type": "markdown",
   "id": "55034ed8",
   "metadata": {},
   "source": [
    "# Reprocess Metadata II (BATCH I)\n",
    "\n",
    "#### Updated: Mar 4, 2023"
   ]
  },
  {
   "cell_type": "markdown",
   "id": "070c2449",
   "metadata": {},
   "source": [
    "#  "
   ]
  },
  {
   "cell_type": "markdown",
   "id": "638e5919",
   "metadata": {},
   "source": [
    "Reprocess BATCH I metadata to adjust year '0' baseline from 1960 to 1962. Then, retrieve the correct station number and modify station metadata. "
   ]
  },
  {
   "cell_type": "code",
   "execution_count": null,
   "id": "8ec57aed",
   "metadata": {},
   "outputs": [],
   "source": [
    "import pandas as pd\n",
    "import numpy as np\n",
    "import seaborn as sns\n",
    "import time"
   ]
  },
  {
   "cell_type": "code",
   "execution_count": null,
   "id": "5478f899",
   "metadata": {},
   "outputs": [],
   "source": [
    "dataDir = 'C:/Users/rnaidoo/Documents/Projects_data/Alouette_I/'"
   ]
  },
  {
   "cell_type": "markdown",
   "id": "af9121de",
   "metadata": {},
   "source": [
    "#  "
   ]
  },
  {
   "cell_type": "markdown",
   "id": "9209c8c4",
   "metadata": {},
   "source": [
    "#### Load results:"
   ]
  },
  {
   "cell_type": "code",
   "execution_count": null,
   "id": "a86c5d4d",
   "metadata": {},
   "outputs": [],
   "source": [
    "df_result = pd.read_csv(dataDir + 'result_total_v20230116.csv')\n",
    "print(len(df_result))\n",
    "df_result.head()"
   ]
  },
  {
   "cell_type": "code",
   "execution_count": null,
   "id": "5a4b1661",
   "metadata": {},
   "outputs": [],
   "source": [
    "Run1_cols = ['fmin', 'max_depth', 'processed_image_class', 'func_name', 'limits', 'height', 'width', 'raw_coord', \n",
    "             'window_coord', 'mapping_Hz', 'mapping_km', 'details']\n",
    "Run1_md_cols = ['satellite_number', 'year', 'day', 'hour', 'minute', 'second', 'station_number', 'Station Name', \n",
    "                '3 - Letter Code', 'LAT.', 'LONG. ', 'metadata_type', 'meta_height', 'meta_width', 'x_centroids', \n",
    "                'y_centroids', 'is_dot', 'dict_metadata', 'day_1', 'day_2', 'day_3', 'hour_1', 'hour_2', 'minute_1',\n",
    "                'minute_2', 'second_1', 'second_2', 'station_number_1', 'station_number_2', 'station_code']\n",
    "\n",
    "for col in Run1_cols:\n",
    "    df_result[col] = df_result[col + '_Run1']\n",
    "for col in Run1_md_cols:\n",
    "    df_result[col] = df_result[col + '_Run1_md']"
   ]
  },
  {
   "cell_type": "markdown",
   "id": "9be8c345",
   "metadata": {},
   "source": [
    "#  "
   ]
  },
  {
   "cell_type": "markdown",
   "id": "a258cd11",
   "metadata": {},
   "source": [
    "#### Adjust year baseline to 1962:"
   ]
  },
  {
   "cell_type": "code",
   "execution_count": null,
   "id": "91b9c594",
   "metadata": {},
   "outputs": [],
   "source": [
    "df_result['year'] = df_result['year'] + 2"
   ]
  },
  {
   "cell_type": "code",
   "execution_count": null,
   "id": "a613f0ac",
   "metadata": {
    "scrolled": false
   },
   "outputs": [],
   "source": [
    "df1 = df_result.copy(deep=True)\n",
    "df1['count'] = 1\n",
    "df1 = df1.groupby(['year']).sum()\n",
    "df1 = df1.reset_index()\n",
    "df1[['year', 'count']]"
   ]
  },
  {
   "cell_type": "markdown",
   "id": "0dcbe607",
   "metadata": {},
   "source": [
    "#  "
   ]
  },
  {
   "cell_type": "markdown",
   "id": "ece8f908",
   "metadata": {},
   "source": [
    "#### Check day digits are < 10, reprocess day of the year:"
   ]
  },
  {
   "cell_type": "code",
   "execution_count": null,
   "id": "949668f3",
   "metadata": {},
   "outputs": [],
   "source": [
    "df_result[['day_1', 'day_2', 'day_3', 'day']].sample(10)"
   ]
  },
  {
   "cell_type": "code",
   "execution_count": null,
   "id": "84901220",
   "metadata": {},
   "outputs": [],
   "source": [
    "sns.histplot(data=df_result, x='day_1')"
   ]
  },
  {
   "cell_type": "code",
   "execution_count": null,
   "id": "e5881615",
   "metadata": {},
   "outputs": [],
   "source": [
    "df_result['day_1'] = df_result['day_1'].apply(lambda x: np.nan if x>9 else x)\n",
    "df_result['day_1'] = df_result['day_1'].astype('Int64')"
   ]
  },
  {
   "cell_type": "code",
   "execution_count": null,
   "id": "ffdebf31",
   "metadata": {},
   "outputs": [],
   "source": [
    "sns.histplot(data=df_result, x='day_1')"
   ]
  },
  {
   "cell_type": "code",
   "execution_count": null,
   "id": "f2be02cf",
   "metadata": {},
   "outputs": [],
   "source": [
    "sns.histplot(data=df_result, x='day_2')"
   ]
  },
  {
   "cell_type": "code",
   "execution_count": null,
   "id": "ad3fe0f6",
   "metadata": {},
   "outputs": [],
   "source": [
    "df_result['day_2'] = df_result['day_2'].apply(lambda x: np.nan if x>9 else x)\n",
    "df_result['day_2'] = df_result['day_2'].astype('Int64')"
   ]
  },
  {
   "cell_type": "code",
   "execution_count": null,
   "id": "b188e34c",
   "metadata": {},
   "outputs": [],
   "source": [
    "sns.histplot(data=df_result, x='day_2')"
   ]
  },
  {
   "cell_type": "code",
   "execution_count": null,
   "id": "4b537851",
   "metadata": {},
   "outputs": [],
   "source": [
    "sns.histplot(data=df_result, x='day_3')"
   ]
  },
  {
   "cell_type": "code",
   "execution_count": null,
   "id": "c5df95aa",
   "metadata": {},
   "outputs": [],
   "source": [
    "df_result['day_3'] = df_result['day_3'].apply(lambda x: np.nan if x>9 else x)\n",
    "df_result['day_3'] = df_result['day_3'].astype('Int64')"
   ]
  },
  {
   "cell_type": "code",
   "execution_count": null,
   "id": "1a0a3a80",
   "metadata": {},
   "outputs": [],
   "source": [
    "sns.histplot(data=df_result, x='day_3')"
   ]
  },
  {
   "cell_type": "code",
   "execution_count": null,
   "id": "96495192",
   "metadata": {},
   "outputs": [],
   "source": [
    "df_result_daycheck = df_result[~pd.isna(df_result['day_1'])]\n",
    "df_result_daycheck = df_result_daycheck[~pd.isna(df_result_daycheck['day_2'])]\n",
    "df_result_daycheck = df_result_daycheck[~pd.isna(df_result_daycheck['day_3'])]\n",
    "df_result_daycheck['day'] = df_result_daycheck['day_1'].astype(str) + df_result_daycheck['day_2'].astype(str) + df_result_daycheck['day_3'].astype(str)\n",
    "df_result_daycheck['day'] = df_result_daycheck['day'].astype(int)"
   ]
  },
  {
   "cell_type": "code",
   "execution_count": null,
   "id": "b99b299e",
   "metadata": {},
   "outputs": [],
   "source": [
    "print(len(df_result_daycheck))\n",
    "df_result_daycheck[['day_1', 'day_2', 'day_3', 'day']].sample(10)"
   ]
  },
  {
   "cell_type": "code",
   "execution_count": null,
   "id": "9519a2c6",
   "metadata": {},
   "outputs": [],
   "source": [
    "df_result_nullday = df_result.loc[pd.isna(df_result['day_1']) | pd.isna(df_result['day_2']) | pd.isna(df_result['day_3'])]"
   ]
  },
  {
   "cell_type": "code",
   "execution_count": null,
   "id": "af6a7712",
   "metadata": {},
   "outputs": [],
   "source": [
    "print(len(df_result_nullday))\n",
    "df_result_nullday[['day_1', 'day_2', 'day_3', 'day']].sample(10)"
   ]
  },
  {
   "cell_type": "code",
   "execution_count": null,
   "id": "8cb9a1e2",
   "metadata": {},
   "outputs": [],
   "source": [
    "df_result_nullday['day'] = np.nan\n",
    "df_result_nullday[['day_1', 'day_2', 'day_3', 'day']].sample(10)"
   ]
  },
  {
   "cell_type": "code",
   "execution_count": null,
   "id": "a6af42fe",
   "metadata": {},
   "outputs": [],
   "source": [
    "df_result2 = pd.concat([df_result_daycheck, df_result_nullday])\n",
    "print(len(df_result2))\n",
    "df_result2.head()"
   ]
  },
  {
   "cell_type": "markdown",
   "id": "3a530f56",
   "metadata": {},
   "source": [
    "#  "
   ]
  },
  {
   "cell_type": "markdown",
   "id": "89b99197",
   "metadata": {},
   "source": [
    "#### Check hour digits are < 10, reprocess hour:"
   ]
  },
  {
   "cell_type": "code",
   "execution_count": null,
   "id": "e5640626",
   "metadata": {},
   "outputs": [],
   "source": [
    "df_result2[['hour_1', 'hour_2', 'hour']].sample(10)"
   ]
  },
  {
   "cell_type": "code",
   "execution_count": null,
   "id": "61dcb416",
   "metadata": {},
   "outputs": [],
   "source": [
    "sns.histplot(data=df_result2, x='hour_1')"
   ]
  },
  {
   "cell_type": "code",
   "execution_count": null,
   "id": "4fab52e8",
   "metadata": {},
   "outputs": [],
   "source": [
    "df_result2['hour_1'] = df_result2['hour_1'].apply(lambda x: np.nan if x>9 else x)\n",
    "df_result2['hour_1'] = df_result2['hour_1'].astype('Int64')"
   ]
  },
  {
   "cell_type": "code",
   "execution_count": null,
   "id": "4e9fe38a",
   "metadata": {},
   "outputs": [],
   "source": [
    "sns.histplot(data=df_result2, x='hour_1')"
   ]
  },
  {
   "cell_type": "code",
   "execution_count": null,
   "id": "1ac81218",
   "metadata": {},
   "outputs": [],
   "source": [
    "sns.histplot(data=df_result2, x='hour_2')"
   ]
  },
  {
   "cell_type": "code",
   "execution_count": null,
   "id": "f9653d31",
   "metadata": {},
   "outputs": [],
   "source": [
    "df_result2['hour_2'] = df_result2['hour_2'].apply(lambda x: np.nan if x>9 else x)\n",
    "df_result2['hour_2'] = df_result2['hour_2'].astype('Int64')"
   ]
  },
  {
   "cell_type": "code",
   "execution_count": null,
   "id": "0c74bf11",
   "metadata": {},
   "outputs": [],
   "source": [
    "sns.histplot(data=df_result2, x='hour_2')"
   ]
  },
  {
   "cell_type": "code",
   "execution_count": null,
   "id": "fc52d75d",
   "metadata": {},
   "outputs": [],
   "source": [
    "df_result_hourcheck = df_result2[~pd.isna(df_result2['hour_1'])]\n",
    "df_result_hourcheck = df_result_hourcheck[~pd.isna(df_result_hourcheck['hour_2'])]\n",
    "df_result_hourcheck['hour'] = df_result_hourcheck['hour_1'].astype(str) + df_result_hourcheck['hour_2'].astype(str)\n",
    "df_result_hourcheck['hour'] = df_result_hourcheck['hour'].astype(int)"
   ]
  },
  {
   "cell_type": "code",
   "execution_count": null,
   "id": "18322fb3",
   "metadata": {},
   "outputs": [],
   "source": [
    "print(len(df_result_hourcheck))\n",
    "df_result_hourcheck[['hour_1', 'hour_2', 'hour']].sample(10)"
   ]
  },
  {
   "cell_type": "code",
   "execution_count": null,
   "id": "e72ac8be",
   "metadata": {},
   "outputs": [],
   "source": [
    "df_result_nullhour = df_result2.loc[pd.isna(df_result2['hour_1']) | pd.isna(df_result2['hour_2'])]"
   ]
  },
  {
   "cell_type": "code",
   "execution_count": null,
   "id": "4707c37e",
   "metadata": {},
   "outputs": [],
   "source": [
    "print(len(df_result_nullhour))\n",
    "df_result_nullhour[['hour_1', 'hour_2', 'hour']].sample(10)"
   ]
  },
  {
   "cell_type": "code",
   "execution_count": null,
   "id": "1a955de3",
   "metadata": {},
   "outputs": [],
   "source": [
    "df_result3 = pd.concat([df_result_hourcheck, df_result_nullhour])\n",
    "print(len(df_result3))\n",
    "df_result3.head()"
   ]
  },
  {
   "cell_type": "markdown",
   "id": "3ab51c9d",
   "metadata": {},
   "source": [
    "#  "
   ]
  },
  {
   "cell_type": "markdown",
   "id": "2b8f7eec",
   "metadata": {},
   "source": [
    "#### Check minute digits are < 10, reprocess minute:"
   ]
  },
  {
   "cell_type": "code",
   "execution_count": null,
   "id": "2df488de",
   "metadata": {},
   "outputs": [],
   "source": [
    "df_result3[['minute_1', 'minute_2', 'minute']].sample(10)"
   ]
  },
  {
   "cell_type": "code",
   "execution_count": null,
   "id": "c44e8a5e",
   "metadata": {},
   "outputs": [],
   "source": [
    "sns.histplot(data=df_result3, x='minute_1')"
   ]
  },
  {
   "cell_type": "code",
   "execution_count": null,
   "id": "9d03df7d",
   "metadata": {},
   "outputs": [],
   "source": [
    "df_result3['minute_1'] = df_result3['minute_1'].apply(lambda x: np.nan if x>9 else x)\n",
    "df_result3['minute_1'] = df_result3['minute_1'].astype('Int64')"
   ]
  },
  {
   "cell_type": "code",
   "execution_count": null,
   "id": "b0992a28",
   "metadata": {},
   "outputs": [],
   "source": [
    "sns.histplot(data=df_result3, x='minute_1')"
   ]
  },
  {
   "cell_type": "code",
   "execution_count": null,
   "id": "9528bfb8",
   "metadata": {},
   "outputs": [],
   "source": [
    "sns.histplot(data=df_result3, x='minute_2')"
   ]
  },
  {
   "cell_type": "code",
   "execution_count": null,
   "id": "ffe6f6b4",
   "metadata": {},
   "outputs": [],
   "source": [
    "df_result3['minute_2'] = df_result3['minute_2'].apply(lambda x: np.nan if x>9 else x)\n",
    "df_result3['minute_2'] = df_result3['minute_2'].astype('Int64')"
   ]
  },
  {
   "cell_type": "code",
   "execution_count": null,
   "id": "e8a14a65",
   "metadata": {},
   "outputs": [],
   "source": [
    "sns.histplot(data=df_result3, x='minute_2')"
   ]
  },
  {
   "cell_type": "code",
   "execution_count": null,
   "id": "ab638ae4",
   "metadata": {},
   "outputs": [],
   "source": [
    "df_result_minutecheck = df_result3[~pd.isna(df_result3['minute_1'])]\n",
    "df_result_minutecheck = df_result_minutecheck[~pd.isna(df_result_minutecheck['minute_2'])]\n",
    "df_result_minutecheck['minute'] = df_result_minutecheck['minute_1'].astype(str) + df_result_minutecheck['minute_2'].astype(str)\n",
    "df_result_minutecheck['minute'] = df_result_minutecheck['minute'].astype(int)"
   ]
  },
  {
   "cell_type": "code",
   "execution_count": null,
   "id": "3ccc140a",
   "metadata": {},
   "outputs": [],
   "source": [
    "print(len(df_result_minutecheck))\n",
    "df_result_minutecheck[['minute_1', 'minute_2', 'minute']].sample(10)"
   ]
  },
  {
   "cell_type": "code",
   "execution_count": null,
   "id": "23ca0aa8",
   "metadata": {},
   "outputs": [],
   "source": [
    "df_result_nullminute = df_result3.loc[pd.isna(df_result3['minute_1']) | pd.isna(df_result3['minute_2'])]"
   ]
  },
  {
   "cell_type": "code",
   "execution_count": null,
   "id": "42e9a981",
   "metadata": {},
   "outputs": [],
   "source": [
    "print(len(df_result_nullminute))\n",
    "df_result_nullminute[['minute_1', 'minute_2', 'minute']].sample(10)"
   ]
  },
  {
   "cell_type": "code",
   "execution_count": null,
   "id": "6e6ac17d",
   "metadata": {},
   "outputs": [],
   "source": [
    "df_result4 = pd.concat([df_result_minutecheck, df_result_nullminute])\n",
    "print(len(df_result4))\n",
    "df_result4.head()"
   ]
  },
  {
   "cell_type": "markdown",
   "id": "161e56b7",
   "metadata": {},
   "source": [
    "#  "
   ]
  },
  {
   "cell_type": "markdown",
   "id": "dfa0f065",
   "metadata": {},
   "source": [
    "#### Check second digits are < 10, reprocess second:"
   ]
  },
  {
   "cell_type": "code",
   "execution_count": null,
   "id": "616db0b9",
   "metadata": {},
   "outputs": [],
   "source": [
    "df_result4[['second_1', 'second_2', 'second']].sample(10)"
   ]
  },
  {
   "cell_type": "code",
   "execution_count": null,
   "id": "f01d6886",
   "metadata": {},
   "outputs": [],
   "source": [
    "sns.histplot(data=df_result4, x='second_1')"
   ]
  },
  {
   "cell_type": "code",
   "execution_count": null,
   "id": "4a06af3d",
   "metadata": {},
   "outputs": [],
   "source": [
    "df_result4['second_1'] = df_result4['second_1'].apply(lambda x: np.nan if x>9 else x)\n",
    "df_result4['second_1'] = df_result4['second_1'].astype('Int64')"
   ]
  },
  {
   "cell_type": "code",
   "execution_count": null,
   "id": "b89499e6",
   "metadata": {},
   "outputs": [],
   "source": [
    "sns.histplot(data=df_result4, x='second_1')"
   ]
  },
  {
   "cell_type": "code",
   "execution_count": null,
   "id": "53380f4c",
   "metadata": {},
   "outputs": [],
   "source": [
    "sns.histplot(data=df_result4, x='second_2')"
   ]
  },
  {
   "cell_type": "code",
   "execution_count": null,
   "id": "29152a37",
   "metadata": {},
   "outputs": [],
   "source": [
    "df_result4['second_2'] = df_result4['second_2'].apply(lambda x: np.nan if x>9 else x)\n",
    "df_result4['second_2'] = df_result4['second_2'].astype('Int64')"
   ]
  },
  {
   "cell_type": "code",
   "execution_count": null,
   "id": "f19eba54",
   "metadata": {},
   "outputs": [],
   "source": [
    "sns.histplot(data=df_result4, x='second_2')"
   ]
  },
  {
   "cell_type": "code",
   "execution_count": null,
   "id": "5ce3cecc",
   "metadata": {},
   "outputs": [],
   "source": [
    "df_result_secondcheck = df_result4[~pd.isna(df_result4['second_1'])]\n",
    "df_result_secondcheck = df_result_secondcheck[~pd.isna(df_result_secondcheck['second_2'])]\n",
    "df_result_secondcheck['second'] = df_result_secondcheck['second_1'].astype(str) + df_result_secondcheck['second_2'].astype(str)\n",
    "df_result_secondcheck['second'] = df_result_secondcheck['second'].astype(int)"
   ]
  },
  {
   "cell_type": "code",
   "execution_count": null,
   "id": "1855aaef",
   "metadata": {},
   "outputs": [],
   "source": [
    "print(len(df_result_secondcheck))\n",
    "df_result_secondcheck[['second_1', 'second_2', 'second']].sample(10)"
   ]
  },
  {
   "cell_type": "code",
   "execution_count": null,
   "id": "dac7c26e",
   "metadata": {},
   "outputs": [],
   "source": [
    "df_result_nullsecond = df_result4.loc[pd.isna(df_result4['second_1']) | pd.isna(df_result4['second_2'])]"
   ]
  },
  {
   "cell_type": "code",
   "execution_count": null,
   "id": "3c193235",
   "metadata": {},
   "outputs": [],
   "source": [
    "print(len(df_result_nullsecond))\n",
    "df_result_nullsecond[['second_1', 'second_2', 'second']].sample(10)"
   ]
  },
  {
   "cell_type": "code",
   "execution_count": null,
   "id": "a67ae3ba",
   "metadata": {},
   "outputs": [],
   "source": [
    "df_result5 = pd.concat([df_result_secondcheck, df_result_nullsecond])\n",
    "print(len(df_result5))\n",
    "df_result5.head()"
   ]
  },
  {
   "cell_type": "markdown",
   "id": "02b65bfb",
   "metadata": {},
   "source": [
    "#  "
   ]
  },
  {
   "cell_type": "markdown",
   "id": "192a986d",
   "metadata": {},
   "source": [
    "#### Get year for 'dot' type images:"
   ]
  },
  {
   "cell_type": "code",
   "execution_count": null,
   "id": "7839f801",
   "metadata": {},
   "outputs": [],
   "source": [
    "df_dot = df_result5.loc[df_result5['processed_image_class'] == 'dot']\n",
    "print(len(df_dot))\n",
    "df_dot[['day_1', 'day_2', 'day_3', 'day', 'year']].sample(10)"
   ]
  },
  {
   "cell_type": "code",
   "execution_count": null,
   "id": "d8412812",
   "metadata": {},
   "outputs": [],
   "source": [
    "sns.histplot(data=df_dot, x='day')"
   ]
  },
  {
   "cell_type": "markdown",
   "id": "a318952e",
   "metadata": {},
   "source": [
    "Assuming that 'day' should be between 1 and 365:"
   ]
  },
  {
   "cell_type": "code",
   "execution_count": null,
   "id": "8667149b",
   "metadata": {},
   "outputs": [],
   "source": [
    "for i in range(0, len(df_dot)):\n",
    "    day = df_dot['day'].iloc[i]\n",
    "    if (day < 366) & (day > 0):\n",
    "        if day > 271:\n",
    "            df_dot['year'].iloc[i] = 1962\n",
    "        else:\n",
    "            df_dot['year'].iloc[i] = 1963"
   ]
  },
  {
   "cell_type": "code",
   "execution_count": null,
   "id": "206bbb12",
   "metadata": {},
   "outputs": [],
   "source": [
    "df_dot[['day_1', 'day_2', 'day_3', 'day', 'year']].sample(10)"
   ]
  },
  {
   "cell_type": "code",
   "execution_count": null,
   "id": "a7aaf5cb",
   "metadata": {},
   "outputs": [],
   "source": [
    "df_not_dot = df_result5.loc[df_result5['processed_image_class'] != 'dot']\n",
    "print(len(df_not_dot))"
   ]
  },
  {
   "cell_type": "code",
   "execution_count": null,
   "id": "0c26d95f",
   "metadata": {},
   "outputs": [],
   "source": [
    "df_result6 = pd.concat([df_dot, df_not_dot])\n",
    "print(len(df_result6))\n",
    "df_result6.head()"
   ]
  },
  {
   "cell_type": "markdown",
   "id": "90363065",
   "metadata": {},
   "source": [
    "#  "
   ]
  },
  {
   "cell_type": "markdown",
   "id": "ecb5de98",
   "metadata": {},
   "source": [
    "#### Construct timestamp:"
   ]
  },
  {
   "cell_type": "code",
   "execution_count": null,
   "id": "cfa32861",
   "metadata": {},
   "outputs": [],
   "source": [
    "df_result6['day_of_year'] = df_result6['day']\n",
    "df_result6['day_of_year'] = df_result6['day_of_year'].apply(lambda x: np.nan if x==0 else x)\n",
    "df_result6['day_of_year'] = df_result6['day_of_year'].apply(lambda x: np.nan if x>365 else x)\n",
    "df_result6['month_day'] = pd.to_datetime(df_result6['day_of_year'], format='%j').dt.strftime('%m-%d')\n",
    "df_result6['month'] = df_result6['month_day'].str.split('-').str[0]\n",
    "df_result6['day'] = df_result6['month_day'].str.split('-').str[1]\n",
    "df_result6['hour'] = df_result6['hour'].apply(lambda x: np.nan if x>24 else x)\n",
    "df_result6['minute'] = df_result6['minute'].apply(lambda x: np.nan if x>60 else x)\n",
    "df_result6['second'] = df_result6['second'].apply(lambda x: np.nan if x>60 else x)\n",
    "df_result6['Timestamp'] = pd.to_datetime(df_result6[['year', 'month', 'day', 'hour', 'minute', 'second']], format='%Y-%m-%d %H:%M:%S')"
   ]
  },
  {
   "cell_type": "code",
   "execution_count": null,
   "id": "584cbe8c",
   "metadata": {},
   "outputs": [],
   "source": [
    "df_result6[['year', 'month', 'day', 'hour', 'minute', 'second', 'Timestamp']].sample(10)"
   ]
  },
  {
   "cell_type": "markdown",
   "id": "ce23ddd5",
   "metadata": {},
   "source": [
    "#  "
   ]
  },
  {
   "cell_type": "markdown",
   "id": "27d2a75b",
   "metadata": {},
   "source": [
    "#### Check station number digits are < 10, reprocess station number:"
   ]
  },
  {
   "cell_type": "code",
   "execution_count": null,
   "id": "4b349611",
   "metadata": {},
   "outputs": [],
   "source": [
    "df_result6[['station_number_1', 'station_number_2', 'station_number']].sample(10)"
   ]
  },
  {
   "cell_type": "code",
   "execution_count": null,
   "id": "256ec08e",
   "metadata": {},
   "outputs": [],
   "source": [
    "sns.histplot(data=df_result6, x='station_number_1')"
   ]
  },
  {
   "cell_type": "code",
   "execution_count": null,
   "id": "73e3c70f",
   "metadata": {},
   "outputs": [],
   "source": [
    "df_result6['station_number_1'] = df_result6['station_number_1'].apply(lambda x: np.nan if x>9 else x)\n",
    "df_result6['station_number_1'] = df_result6['station_number_1'].astype('Int64')"
   ]
  },
  {
   "cell_type": "code",
   "execution_count": null,
   "id": "5246ce4f",
   "metadata": {},
   "outputs": [],
   "source": [
    "sns.histplot(data=df_result6, x='station_number_1')"
   ]
  },
  {
   "cell_type": "code",
   "execution_count": null,
   "id": "fb87d061",
   "metadata": {},
   "outputs": [],
   "source": [
    "sns.histplot(data=df_result6, x='station_number_2')"
   ]
  },
  {
   "cell_type": "code",
   "execution_count": null,
   "id": "1e28a80e",
   "metadata": {},
   "outputs": [],
   "source": [
    "df_result6['station_number_2'] = df_result6['station_number_2'].apply(lambda x: np.nan if x>9 else x)\n",
    "df_result6['station_number_2'] = df_result6['station_number_2'].astype('Int64')"
   ]
  },
  {
   "cell_type": "code",
   "execution_count": null,
   "id": "939d496b",
   "metadata": {},
   "outputs": [],
   "source": [
    "sns.histplot(data=df_result6, x='station_number_2')"
   ]
  },
  {
   "cell_type": "code",
   "execution_count": null,
   "id": "4d8d4b86",
   "metadata": {},
   "outputs": [],
   "source": [
    "df_result_stnnumcheck = df_result6[~pd.isna(df_result6['station_number_1'])]\n",
    "df_result_stnnumcheck = df_result_stnnumcheck[~pd.isna(df_result_stnnumcheck['station_number_2'])]\n",
    "df_result_stnnumcheck['station_number'] = df_result_stnnumcheck['station_number_1'].astype(str) + df_result_stnnumcheck['station_number_2'].astype(str)\n",
    "df_result_stnnumcheck['station_number'] = df_result_stnnumcheck['station_number'].astype(int)"
   ]
  },
  {
   "cell_type": "code",
   "execution_count": null,
   "id": "d299e089",
   "metadata": {},
   "outputs": [],
   "source": [
    "print(len(df_result_stnnumcheck))\n",
    "df_result_stnnumcheck[['station_number_1', 'station_number_2', 'station_number']].sample(10)"
   ]
  },
  {
   "cell_type": "code",
   "execution_count": null,
   "id": "619b06cd",
   "metadata": {},
   "outputs": [],
   "source": [
    "df_result_nullstnnum = df_result6.loc[pd.isna(df_result6['station_number_1']) | pd.isna(df_result6['station_number_2'])]"
   ]
  },
  {
   "cell_type": "code",
   "execution_count": null,
   "id": "fceaa302",
   "metadata": {},
   "outputs": [],
   "source": [
    "print(len(df_result_nullstnnum))\n",
    "df_result_nullstnnum[['station_number_1', 'station_number_2', 'station_number']].sample(10)"
   ]
  },
  {
   "cell_type": "code",
   "execution_count": null,
   "id": "e7dc18fb",
   "metadata": {},
   "outputs": [],
   "source": [
    "df_result7 = pd.concat([df_result_stnnumcheck, df_result_nullstnnum])\n",
    "print(len(df_result7))\n",
    "df_result7.head()"
   ]
  },
  {
   "cell_type": "markdown",
   "id": "dfde7fcd",
   "metadata": {},
   "source": [
    "#  "
   ]
  },
  {
   "cell_type": "markdown",
   "id": "73f49505",
   "metadata": {},
   "source": [
    "#### Retrieve correct station number:"
   ]
  },
  {
   "cell_type": "code",
   "execution_count": null,
   "id": "09db75c3",
   "metadata": {},
   "outputs": [],
   "source": [
    "df_stn_nums = pd.read_excel(dataDir + 'station_number_changes.xlsx')\n",
    "df_stn_nums.head()"
   ]
  },
  {
   "cell_type": "code",
   "execution_count": null,
   "id": "e6a316a4",
   "metadata": {},
   "outputs": [],
   "source": [
    "df_result8 = df_result7.copy(deep=True)\n",
    "df_result8['Station_Code'] = ''"
   ]
  },
  {
   "cell_type": "markdown",
   "id": "407e315b",
   "metadata": {},
   "source": [
    "  "
   ]
  },
  {
   "cell_type": "markdown",
   "id": "8b773a35",
   "metadata": {},
   "source": [
    "Approach 1 - by lookup and replace:"
   ]
  },
  {
   "cell_type": "code",
   "execution_count": null,
   "id": "ccdca607",
   "metadata": {
    "scrolled": true
   },
   "outputs": [],
   "source": [
    "start = time.time()\n",
    "for i in range(0, len(df_result8)):\n",
    "    if i % 10000 == 0:\n",
    "        if i > 0:\n",
    "            end = time.time()\n",
    "            t = end - start\n",
    "            v = 10000/t\n",
    "            t_est = round(((len(df_result) - i)/v)/60, 3)\n",
    "            print(i + ' : ' + str(t_est) + ' min to go')\n",
    "            start = time.time()\n",
    "    stn_num = df_result8['station_number'].iloc[i]\n",
    "    datetime = df_result8['Timestamp'].iloc[i]\n",
    "    if ~np.isnan(stn_num):\n",
    "        df_stn_nums_ = df_stn_nums.loc[df_stn_nums['Station_Number'] == stn_num]\n",
    "        df_stn_nums_ = df_stn_nums_.loc[df_stn_nums_['Start_Date'] < datetime]\n",
    "        if len(df_stn_nums_) > 0:\n",
    "            df_stn_nums_ = df_stn_nums_.sort_values('Start_Date', ascending=False)\n",
    "            df_result8.loc['Station_Code', i] = df_stn_nums_['Station_Code'].iloc[0]"
   ]
  },
  {
   "cell_type": "code",
   "execution_count": null,
   "id": "f166914b",
   "metadata": {},
   "outputs": [],
   "source": [
    "df_result8.to_csv(dataDir + 'result_total_v20230304.csv')"
   ]
  },
  {
   "cell_type": "code",
   "execution_count": null,
   "id": "9adc9e73",
   "metadata": {},
   "outputs": [],
   "source": [
    "'''i = 3\n",
    "stn_num = df_result7['station_number'].iloc[i]\n",
    "print(stn_num)\n",
    "datetime = df_result7['Timestamp'].iloc[i].strftime('%Y-%m-%d')\n",
    "print(datetime)\n",
    "df_stn_nums_ = df_stn_nums.loc[df_stn_nums['Station_Number'] == stn_num]\n",
    "df_stn_nums_ = df_stn_nums_.loc[df_stn_nums_['Start_Date'] < datetime]\n",
    "df_stn_nums_ = df_stn_nums_.sort_values('Start_Date', ascending=False)\n",
    "stn_code = df_stn_nums_['Station_Code'].iloc[0]\n",
    "print(stn_code)'''"
   ]
  },
  {
   "cell_type": "markdown",
   "id": "258fd7d5",
   "metadata": {},
   "source": [
    "  "
   ]
  },
  {
   "cell_type": "markdown",
   "id": "08ba02a9",
   "metadata": {},
   "source": [
    "Approach 2 - Partition results by the change dates, and merge in Station_Code:"
   ]
  },
  {
   "cell_type": "code",
   "execution_count": null,
   "id": "7fbda5dc",
   "metadata": {},
   "outputs": [],
   "source": [
    "change_dates = df_stn_nums['Start_Date'].drop_duplicates().sort_values().reset_index(drop=True)\n",
    "change_dates"
   ]
  },
  {
   "cell_type": "code",
   "execution_count": null,
   "id": "e35bdaa9",
   "metadata": {},
   "outputs": [],
   "source": [
    "change_dates[1]"
   ]
  },
  {
   "cell_type": "markdown",
   "id": "af864f81",
   "metadata": {},
   "source": [
    "Part 0 - between 1962-09-29 and 1963-04-25:"
   ]
  },
  {
   "cell_type": "code",
   "execution_count": null,
   "id": "6a9c24c4",
   "metadata": {},
   "outputs": [],
   "source": [
    "df_parts0 = df_result8.loc[df_result8['Timestamp'] >= change_dates[0]]\n",
    "df_parts0 = df_parts0.loc[df_parts0['Timestamp'] < change_dates[1]] \n",
    "print(len(df_parts0))\n",
    "df_parts0.head()"
   ]
  },
  {
   "cell_type": "code",
   "execution_count": null,
   "id": "3ab88099",
   "metadata": {},
   "outputs": [],
   "source": [
    "stn_nums = df_stn_nums['Station_Number'].unique()\n",
    "stn_nums"
   ]
  },
  {
   "cell_type": "code",
   "execution_count": null,
   "id": "f73383b7",
   "metadata": {},
   "outputs": [],
   "source": [
    "df_sn_sub = pd.DataFrame()\n",
    "for stn_num in stn_nums:\n",
    "    df_sn_sub_ = df_stn_nums.loc[df_stn_nums['Station_Number'] == stn_num]\n",
    "    df_sn_sub_ = df_sn_sub_.loc[df_sn_sub_['Start_Date'] > change_dates[2]]\n",
    "    if len(df_sn_sub_) > 0:\n",
    "        df_sn_sub_ = df_sn_sub_.sort_values('Start_Date', ascending=False)\n",
    "        #df_sn_sub_ = df_sn_sub_.iloc[0]\n",
    "        df_sn_sub = pd.concat([df_sn_sub, df_sn_sub_], axis=0)"
   ]
  },
  {
   "cell_type": "code",
   "execution_count": null,
   "id": "73f88cc8",
   "metadata": {},
   "outputs": [],
   "source": [
    "df_sn_sub"
   ]
  },
  {
   "cell_type": "code",
   "execution_count": null,
   "id": "5d68df4c",
   "metadata": {},
   "outputs": [],
   "source": [
    "df_stn_nums_ = df_stn_nums.loc[df_stn_nums['Start_Date']]"
   ]
  },
  {
   "cell_type": "code",
   "execution_count": null,
   "id": "aed50eef",
   "metadata": {},
   "outputs": [],
   "source": [
    "df_parts0 = df_parts0.merge()"
   ]
  },
  {
   "cell_type": "markdown",
   "id": "2aab325e",
   "metadata": {},
   "source": [
    "  "
   ]
  },
  {
   "cell_type": "markdown",
   "id": "13cad6a1",
   "metadata": {},
   "source": [
    "Part 1:"
   ]
  },
  {
   "cell_type": "code",
   "execution_count": null,
   "id": "b565344c",
   "metadata": {},
   "outputs": [],
   "source": [
    "df_parts_1 = df_result.loc[df_result['Timestamp'] >= change_dates[0]]\n",
    "print(len(df_parts_1))\n",
    "df_parts_1.head()"
   ]
  },
  {
   "cell_type": "code",
   "execution_count": null,
   "id": "df8a514e",
   "metadata": {},
   "outputs": [],
   "source": []
  },
  {
   "cell_type": "markdown",
   "id": "721f51af",
   "metadata": {},
   "source": [
    "Part null:"
   ]
  },
  {
   "cell_type": "code",
   "execution_count": null,
   "id": "20559712",
   "metadata": {},
   "outputs": [],
   "source": [
    "df_parts_null = df_result.loc[pd.isna(df_result['Timestamp'])]\n",
    "print(len(df_parts_null))\n",
    "df_parts_null.head()"
   ]
  },
  {
   "cell_type": "code",
   "execution_count": null,
   "id": "e51b8e1a",
   "metadata": {},
   "outputs": [],
   "source": [
    "df_parts_null['year'].iloc[0]"
   ]
  },
  {
   "cell_type": "code",
   "execution_count": null,
   "id": "f69ac8c5",
   "metadata": {},
   "outputs": [],
   "source": []
  }
 ],
 "metadata": {
  "kernelspec": {
   "display_name": "Python 3",
   "language": "python",
   "name": "python3"
  },
  "language_info": {
   "codemirror_mode": {
    "name": "ipython",
    "version": 3
   },
   "file_extension": ".py",
   "mimetype": "text/x-python",
   "name": "python",
   "nbconvert_exporter": "python",
   "pygments_lexer": "ipython3",
   "version": "3.8.8"
  }
 },
 "nbformat": 4,
 "nbformat_minor": 5
}

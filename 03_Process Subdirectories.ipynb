{
 "cells": [
  {
   "cell_type": "markdown",
   "id": "16af4dcb",
   "metadata": {},
   "source": [
    "# Process Subdirectories\n",
    "\n",
    "#### Updated: Dec 3, 2022"
   ]
  },
  {
   "cell_type": "markdown",
   "id": "b19ef3b7",
   "metadata": {},
   "source": [
    "#  "
   ]
  },
  {
   "cell_type": "markdown",
   "id": "495dd95e",
   "metadata": {},
   "source": [
    "Process subdirectories that have been placed in '02_processing' folder. Record processing performance in a 'process_log'. Then move processed subdirectories to '03_processed' folder. "
   ]
  },
  {
   "cell_type": "code",
   "execution_count": null,
   "id": "b8888ead",
   "metadata": {},
   "outputs": [],
   "source": [
    "import pandas as pd\n",
    "import os\n",
    "import time\n",
    "from datetime import datetime"
   ]
  },
  {
   "cell_type": "code",
   "execution_count": null,
   "id": "8daa1ae7",
   "metadata": {},
   "outputs": [],
   "source": [
    "import warnings\n",
    "warnings.filterwarnings('ignore')"
   ]
  },
  {
   "cell_type": "code",
   "execution_count": null,
   "id": "6c4d9e62",
   "metadata": {},
   "outputs": [],
   "source": [
    "rootDir = 'C:/Users/rnaidoo/Documents/Projects_data/Alouette_I/'\n",
    "processingDir = rootDir + '02_processing/'\n",
    "processedDir = rootDir + '03_processed/'\n",
    "resultDir = rootDir + '04_result/'"
   ]
  },
  {
   "cell_type": "markdown",
   "id": "ebebbb9e",
   "metadata": {},
   "source": [
    "#  "
   ]
  },
  {
   "cell_type": "markdown",
   "id": "bda49620",
   "metadata": {},
   "source": [
    "#### Development:"
   ]
  },
  {
   "cell_type": "code",
   "execution_count": null,
   "id": "d7dc25d7",
   "metadata": {},
   "outputs": [],
   "source": [
    "rollnames = []\n",
    "for file in os.listdir(dataDir):\n",
    "    if 'R' in file:\n",
    "        rollnames.append(file)"
   ]
  },
  {
   "cell_type": "code",
   "execution_count": null,
   "id": "df90e336",
   "metadata": {},
   "outputs": [],
   "source": [
    "if len(rollnames) == 1:\n",
    "    start = time.time()\n",
    "    !python scan2data/user_input.py $dataDir $outputDir\n",
    "    end = time.time()\n",
    "    t = end - start\n",
    "    print('Runtime: ' + str(round(t/60, 1)) + ' min')"
   ]
  },
  {
   "cell_type": "markdown",
   "id": "91a90742",
   "metadata": {},
   "source": [
    "Record performance:"
   ]
  },
  {
   "cell_type": "code",
   "execution_count": null,
   "id": "67c44059",
   "metadata": {},
   "outputs": [],
   "source": [
    "df_num = pd.read_csv(outputDir + 'num_data.csv')\n",
    "df_loss = pd.read_csv(outputDir + 'loss.csv')\n",
    "df_outlier = pd.read_csv(outputDir + 'outlier.csv')\n",
    "n_num = len(df_num)\n",
    "n_loss = len(df_loss)\n",
    "n_outlier = len(df_outlier)\n",
    "images_processed = n_num + n_loss + n_outlier\n",
    "print('Process Rate: ' + str(round(images_processed/t, 1)) + ' images/s')"
   ]
  },
  {
   "cell_type": "code",
   "execution_count": null,
   "id": "d197eaa1",
   "metadata": {},
   "outputs": [],
   "source": [
    "df_result = pd.DataFrame({\n",
    "    'Roll': rollnames[0],\n",
    "    'Processing_Time': t,\n",
    "    'Images_processed': images_processed,\n",
    "    'Process_timestamp': datetime.fromtimestamp(end)\n",
    "}, index=[0])"
   ]
  },
  {
   "cell_type": "code",
   "execution_count": null,
   "id": "44ce9195",
   "metadata": {},
   "outputs": [],
   "source": [
    "if os.path.exists(outputDir + 'process_log.csv'):\n",
    "    df_log = pd.read_csv(outputDir + 'process_log.csv')\n",
    "    df_update = pd.concat([df_log, df_result], axis=0, ignore_index=True)\n",
    "    df_update.to_csv(outputDir + 'process_log.csv', index=False)\n",
    "else:\n",
    "    df_result.to_csv(outputDir + 'process_log.csv', index=False)"
   ]
  },
  {
   "cell_type": "markdown",
   "id": "2fbbf18e",
   "metadata": {},
   "source": [
    "#  "
   ]
  },
  {
   "cell_type": "markdown",
   "id": "6e035e02",
   "metadata": {},
   "source": [
    "Organize numpy arrays into folders by roll and subdirectory:"
   ]
  },
  {
   "cell_type": "code",
   "execution_count": null,
   "id": "b3a3de93",
   "metadata": {},
   "outputs": [],
   "source": [
    "for file in os.listdir(outputDir):\n",
    "    if 'mapped_coords' in file:\n",
    "        fn = file.replace('mapped_coords-', '')\n",
    "        fn = fn.replace('.npy', '')\n",
    "        fn_parts = fn.split('_')\n",
    "        newDir = outputDir + fn_parts[0] + '/' + fn_parts[1] + '/'\n",
    "        os.makedirs(newDir, exist_ok=True)\n",
    "        os.rename(outputDir+file, newDir+file)"
   ]
  }
 ],
 "metadata": {
  "kernelspec": {
   "display_name": "Python 3",
   "language": "python",
   "name": "python3"
  },
  "language_info": {
   "codemirror_mode": {
    "name": "ipython",
    "version": 3
   },
   "file_extension": ".py",
   "mimetype": "text/x-python",
   "name": "python",
   "nbconvert_exporter": "python",
   "pygments_lexer": "ipython3",
   "version": "3.8.8"
  }
 },
 "nbformat": 4,
 "nbformat_minor": 5
}

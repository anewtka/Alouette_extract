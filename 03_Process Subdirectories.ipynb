{
 "cells": [
  {
   "cell_type": "markdown",
   "id": "16af4dcb",
   "metadata": {},
   "source": [
    "# Process Subdirectories\n",
    "\n",
    "#### Updated: Dec 5, 2022"
   ]
  },
  {
   "cell_type": "markdown",
   "id": "b19ef3b7",
   "metadata": {},
   "source": [
    "#  "
   ]
  },
  {
   "cell_type": "markdown",
   "id": "495dd95e",
   "metadata": {},
   "source": [
    "Inspect '02_downloaded' folder for fully downloaded subdirectories, move these subdirectories to '03_processing'. Process subdirectories. Record processing performance in a 'process_log'. Then move processed subdirectories to '04_processed' folder. "
   ]
  },
  {
   "cell_type": "code",
   "execution_count": 1,
   "id": "b8888ead",
   "metadata": {},
   "outputs": [],
   "source": [
    "import pandas as pd\n",
    "import os\n",
    "import shutil\n",
    "import time\n",
    "from datetime import datetime"
   ]
  },
  {
   "cell_type": "code",
   "execution_count": 2,
   "id": "8daa1ae7",
   "metadata": {},
   "outputs": [],
   "source": [
    "import warnings\n",
    "warnings.filterwarnings('ignore')"
   ]
  },
  {
   "cell_type": "code",
   "execution_count": 3,
   "id": "77e7d3ea",
   "metadata": {},
   "outputs": [],
   "source": [
    "rootDir_local = 'C:/Users/rnaidoo/Documents/Projects_data/Alouette_I/' #C: is not persistent on VDI\n",
    "rootDir_U = rootDir_local #'U:/Data_Science/Projects_data/Alouette_I/'\n",
    "downloadedDir = rootDir_local + '02_downloaded/'\n",
    "processingDir = rootDir_local + '03_processing/'\n",
    "processedDir = rootDir_U + '04_processed/'\n",
    "resultDir = rootDir_U + '05_result/'"
   ]
  },
  {
   "cell_type": "markdown",
   "id": "b2a9e9f0",
   "metadata": {},
   "source": [
    "#  "
   ]
  },
  {
   "cell_type": "markdown",
   "id": "f037cd95",
   "metadata": {},
   "source": [
    "#### Functions:"
   ]
  },
  {
   "cell_type": "code",
   "execution_count": 4,
   "id": "6a03203a",
   "metadata": {},
   "outputs": [],
   "source": [
    "def move_images(old_dir, new_dir, roll, subdir):\n",
    "    oldDir = old_dir + roll + '/' + subdir + '/'\n",
    "    newDir = new_dir + roll + '/' + subdir + '/'\n",
    "    os.makedirs(newDir, exist_ok=True)\n",
    "    for file in os.listdir(oldDir):\n",
    "        os.rename(oldDir+file, newDir+file)\n",
    "    shutil.rmtree(old_dir + roll + '/')"
   ]
  },
  {
   "cell_type": "markdown",
   "id": "ebebbb9e",
   "metadata": {},
   "source": [
    "#  "
   ]
  },
  {
   "cell_type": "markdown",
   "id": "6274a9f4",
   "metadata": {},
   "source": [
    "#### Process new fully downloaded subdirectories:"
   ]
  },
  {
   "cell_type": "markdown",
   "id": "3c4a042f",
   "metadata": {},
   "source": [
    "Move one fully downloaded subdirectory from '02_downloaded' to '03_processing', process, then move images to '04_processing' - do this one subdirectory at a time. "
   ]
  },
  {
   "cell_type": "code",
   "execution_count": 5,
   "id": "d875619f",
   "metadata": {},
   "outputs": [
    {
     "name": "stdout",
     "output_type": "stream",
     "text": [
      "Processing R014207815/3488-15A/ subdirectory...\n",
      "Moving images to '04_processed'\n",
      "Processing time for subdirectory: 18.4 min\n"
     ]
    },
    {
     "name": "stderr",
     "output_type": "stream",
     "text": [
      "Traceback (most recent call last):\n",
      "  File \"scan2data/user_input.py\", line 45, in <module>\n",
      "    main()\n",
      "  File \"scan2data/user_input.py\", line 29, in main\n",
      "    process_directory.process_extract_management(dir_csv_output,\n",
      "  File \"C:\\Users\\rnaidoo\\Documents\\Projects\\Alouette_I\\code\\Alouette_extract\\scan2data\\process_directory.py\", line 296, in process_extract_management\n",
      "    df_num_subset = process_df_bottomside_metadata(processed, subdir_name, master_dir)\n",
      "  File \"C:\\Users\\rnaidoo\\Documents\\Projects\\Alouette_I\\code\\Alouette_extract\\scan2data\\process_directory.py\", line 176, in process_df_bottomside_metadata\n",
      "    df_final_data = df_processed[['file_name', 'fmin', 'max_depth', 'dict_metadata', 'mapped_coord']]\n",
      "  File \"c:\\DevSoftware\\Anaconda38\\lib\\site-packages\\pandas\\core\\frame.py\", line 3030, in __getitem__\n",
      "    indexer = self.loc._get_listlike_indexer(key, axis=1, raise_missing=True)[1]\n",
      "  File \"c:\\DevSoftware\\Anaconda38\\lib\\site-packages\\pandas\\core\\indexing.py\", line 1266, in _get_listlike_indexer\n",
      "    self._validate_read_indexer(keyarr, indexer, axis, raise_missing=raise_missing)\n",
      "  File \"c:\\DevSoftware\\Anaconda38\\lib\\site-packages\\pandas\\core\\indexing.py\", line 1316, in _validate_read_indexer\n",
      "    raise KeyError(f\"{not_found} not in index\")\n",
      "KeyError: \"['dict_metadata'] not in index\"\n"
     ]
    }
   ],
   "source": [
    "for roll in os.listdir(downloadedDir):\n",
    "    if 'R' in roll:\n",
    "        for subdirectory in os.listdir(downloadedDir + roll):\n",
    "            start = time.time()\n",
    "            subdir_path_end = roll + '/' + subdirectory + '/'\n",
    "            \n",
    "            #Move to '03_processing'\n",
    "            move_images(old_dir=downloadedDir, new_dir=processingDir, roll=roll, subdir=subdirectory)\n",
    "            \n",
    "            #Process\n",
    "            print('Processing ' + subdir_path_end + ' subdirectory...')\n",
    "            !python scan2data/user_input.py $processingDir $resultDir\n",
    "            \n",
    "            #Move to '04_processed'\n",
    "            print(\"Moving images to '04_processed'\")\n",
    "            move_images(old_dir=processingDir, new_dir=processedDir, roll=roll, subdir=subdirectory)\n",
    "\n",
    "            end = time.time()\n",
    "            t = end - start\n",
    "            print('Processing time for subdirectory: ' + str(round(t/60, 1)) + ' min')"
   ]
  },
  {
   "cell_type": "markdown",
   "id": "b18d89f7",
   "metadata": {},
   "source": [
    "Processing on CSA laptop --> 18.4 min"
   ]
  },
  {
   "cell_type": "markdown",
   "id": "f1aad24a",
   "metadata": {},
   "source": [
    "#  "
   ]
  },
  {
   "cell_type": "markdown",
   "id": "bda49620",
   "metadata": {},
   "source": [
    "#### Development:"
   ]
  },
  {
   "cell_type": "code",
   "execution_count": null,
   "id": "d7dc25d7",
   "metadata": {},
   "outputs": [],
   "source": [
    "rollnames = []\n",
    "for file in os.listdir(dataDir):\n",
    "    if 'R' in file:\n",
    "        rollnames.append(file)"
   ]
  },
  {
   "cell_type": "code",
   "execution_count": null,
   "id": "df90e336",
   "metadata": {},
   "outputs": [],
   "source": [
    "if len(rollnames) == 1:\n",
    "    start = time.time()\n",
    "    !python scan2data/user_input.py $dataDir $outputDir\n",
    "    end = time.time()\n",
    "    t = end - start\n",
    "    print('Runtime: ' + str(round(t/60, 1)) + ' min')"
   ]
  },
  {
   "cell_type": "markdown",
   "id": "91a90742",
   "metadata": {},
   "source": [
    "Record performance:"
   ]
  },
  {
   "cell_type": "code",
   "execution_count": null,
   "id": "67c44059",
   "metadata": {},
   "outputs": [],
   "source": [
    "df_num = pd.read_csv(outputDir + 'num_data.csv')\n",
    "df_loss = pd.read_csv(outputDir + 'loss.csv')\n",
    "df_outlier = pd.read_csv(outputDir + 'outlier.csv')\n",
    "n_num = len(df_num)\n",
    "n_loss = len(df_loss)\n",
    "n_outlier = len(df_outlier)\n",
    "images_processed = n_num + n_loss + n_outlier\n",
    "print('Process Rate: ' + str(round(images_processed/t, 1)) + ' images/s')"
   ]
  },
  {
   "cell_type": "code",
   "execution_count": null,
   "id": "d197eaa1",
   "metadata": {},
   "outputs": [],
   "source": [
    "df_result = pd.DataFrame({\n",
    "    'Roll': rollnames[0],\n",
    "    'Processing_Time': t,\n",
    "    'Images_processed': images_processed,\n",
    "    'Process_timestamp': datetime.fromtimestamp(end)\n",
    "}, index=[0])"
   ]
  },
  {
   "cell_type": "code",
   "execution_count": null,
   "id": "44ce9195",
   "metadata": {},
   "outputs": [],
   "source": [
    "if os.path.exists(outputDir + 'process_log.csv'):\n",
    "    df_log = pd.read_csv(outputDir + 'process_log.csv')\n",
    "    df_update = pd.concat([df_log, df_result], axis=0, ignore_index=True)\n",
    "    df_update.to_csv(outputDir + 'process_log.csv', index=False)\n",
    "else:\n",
    "    df_result.to_csv(outputDir + 'process_log.csv', index=False)"
   ]
  },
  {
   "cell_type": "markdown",
   "id": "2fbbf18e",
   "metadata": {},
   "source": [
    "#  "
   ]
  },
  {
   "cell_type": "markdown",
   "id": "6e035e02",
   "metadata": {},
   "source": [
    "Organize numpy arrays into folders by roll and subdirectory:"
   ]
  },
  {
   "cell_type": "code",
   "execution_count": null,
   "id": "b3a3de93",
   "metadata": {},
   "outputs": [],
   "source": [
    "for file in os.listdir(outputDir):\n",
    "    if 'mapped_coords' in file:\n",
    "        fn = file.replace('mapped_coords-', '')\n",
    "        fn = fn.replace('.npy', '')\n",
    "        fn_parts = fn.split('_')\n",
    "        newDir = outputDir + fn_parts[0] + '/' + fn_parts[1] + '/'\n",
    "        os.makedirs(newDir, exist_ok=True)\n",
    "        os.rename(outputDir+file, newDir+file)"
   ]
  }
 ],
 "metadata": {
  "kernelspec": {
   "display_name": "Python 3",
   "language": "python",
   "name": "python3"
  },
  "language_info": {
   "codemirror_mode": {
    "name": "ipython",
    "version": 3
   },
   "file_extension": ".py",
   "mimetype": "text/x-python",
   "name": "python",
   "nbconvert_exporter": "python",
   "pygments_lexer": "ipython3",
   "version": "3.8.8"
  }
 },
 "nbformat": 4,
 "nbformat_minor": 5
}

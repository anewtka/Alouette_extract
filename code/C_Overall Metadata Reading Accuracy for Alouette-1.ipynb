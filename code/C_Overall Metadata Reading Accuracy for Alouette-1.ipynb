{
 "cells": [
  {
   "cell_type": "code",
   "execution_count": 21,
   "id": "c06304c4",
   "metadata": {},
   "outputs": [],
   "source": [
    "import os\n",
    "import numpy as np\n",
    "import pandas as pd\n",
    "import seaborn as sns\n",
    "import matplotlib.pyplot as plt\n",
    "import math"
   ]
  },
  {
   "cell_type": "code",
   "execution_count": 2,
   "id": "9f62b754",
   "metadata": {},
   "outputs": [],
   "source": [
    "rootDir_I = 'L:/DATA/Alouette_I/BATCH_I_Run2/'\n",
    "resultDir_I = rootDir_I + '05_result/'\n",
    "logDir_I = rootDir_I + '06_log/'"
   ]
  },
  {
   "cell_type": "code",
   "execution_count": 3,
   "id": "ca022b26",
   "metadata": {},
   "outputs": [],
   "source": [
    "rootDir_II = 'L:/DATA/Alouette_I/BATCH_II_Run2/'\n",
    "resultDir_II = rootDir_II + '05_result/'\n",
    "logDir_II = rootDir_II + '06_log/'"
   ]
  },
  {
   "cell_type": "code",
   "execution_count": 4,
   "id": "c8040d0c",
   "metadata": {},
   "outputs": [],
   "source": [
    "rootDir_tot = 'L:/DATA/Alouette_I/Total/'\n",
    "resultDir_tot = rootDir_tot + '05_result/'\n",
    "logDir_tot = rootDir_tot + '06_log/'"
   ]
  },
  {
   "cell_type": "markdown",
   "id": "c4b1e24d",
   "metadata": {},
   "source": [
    "## Num Category"
   ]
  },
  {
   "cell_type": "code",
   "execution_count": 5,
   "id": "9c64fb97",
   "metadata": {},
   "outputs": [
    {
     "name": "stdout",
     "output_type": "stream",
     "text": [
      "Total number of NUM Ionograms in Batch I: 465009\n",
      "Total number of NUM Ionograms in Batch II : 114045\n",
      "Total number of NUM Ionograms in both batches: 579054\n"
     ]
    }
   ],
   "source": [
    "#Total Number of Num Categories\n",
    "df_I = pd.read_csv(resultDir_I + 'result_master.csv') #Batch I\n",
    "filter_df_I = df_I[df_I['processed_image_class']=='num']\n",
    "total_df_I = len(filter_df_I)\n",
    "print ('Total number of NUM Ionograms in Batch I:', total_df_I)\n",
    "\n",
    "df_II = pd.read_csv(resultDir_II + 'result_master.csv') #Batch II\n",
    "filter_df_II = df_II[df_II['processed_image_class']=='num']\n",
    "total_df_II = len(filter_df_II)\n",
    "print ('Total number of NUM Ionograms in Batch II :', total_df_II)\n",
    "\n",
    "Total_num = total_df_I + total_df_II #combining Batch I and Batch II num data\n",
    "print ('Total number of NUM Ionograms in both batches:', Total_num)"
   ]
  },
  {
   "cell_type": "markdown",
   "id": "44d1368f",
   "metadata": {},
   "source": [
    "### Batch I"
   ]
  },
  {
   "cell_type": "code",
   "execution_count": 52,
   "id": "aba7fac4",
   "metadata": {},
   "outputs": [
    {
     "name": "stdout",
     "output_type": "stream",
     "text": [
      "Number of Images Analyzed in BATCH I: 49\n",
      "Number of \"year\" element categorized correctly: 48\n",
      "Percent reading accuracy of the \"year\" element:  97.95918367346938\n",
      "Standard Error for \"year\" element: 0.02019884323695485\n",
      "Number of \"Day_1\" element categorized correctly: 48\n",
      "Percent reading accuracy of the \"Day_1\" element:  97.95918367346938\n",
      "Standard Error for \"Day_1\" element: 0.02019884323695485\n",
      "Number of \"Day_2\" element categorized correctly: 48\n",
      "Percent reading accuracy of the \"Day_2\" element:  97.95918367346938\n",
      "Standard Error for \"Day_2\" element: 0.02019884323695485\n",
      "Number of \"Day_3\" element categorized correctly: 48\n",
      "Percent reading accuracy of the \"Day_3\" element:  97.95918367346938\n",
      "Standard Error for \"Day_3\" element: 0.02019884323695485\n",
      "Number of \"Hour_1\" element categorized correctly: 48\n",
      "Percent reading accuracy of the \"Hour_1\" element:  97.95918367346938\n",
      "Standard Error for \"Hour_1\" element: 0.02019884323695485\n",
      "Number of \"Hour_2\" element categorized correctly: 48\n",
      "Percent reading accuracy of the \"Hour_2\" element:  97.95918367346938\n",
      "Standard Error for \"Hour_2\" element: 0.02019884323695485\n",
      "Number of \"Min_1\" element categorized correctly: 48\n",
      "Percent reading accuracy of the \"Min_1\" element:  97.95918367346938\n",
      "Standard Error for \"Min_1\" element: 0.02019884323695485\n",
      "Number of \"Min_2\" element categorized correctly: 48\n",
      "Percent reading accuracy of the \"Min_2\" element:  97.95918367346938\n",
      "Standard Error for \"Min_2\" element: 0.02019884323695485\n",
      "Number of \"Sec_1\" element categorized correctly: 48\n",
      "Percent reading accuracy of the \"Sec_1\" element:  97.95918367346938\n",
      "Standard Error for \"Sec_1\" element: 0.02019884323695485\n",
      "Number of \"Sec_2\" element categorized correctly: 45\n",
      "Percent reading accuracy of the \"Sec_2\" element:  91.83673469387756\n",
      "Standard Error for \"Sec_2\" element: 0.03911489173469017\n",
      "Number of \"station_1\" element categorized correctly: 48\n",
      "Percent reading accuracy of the \"station_1\" element:  97.95918367346938\n",
      "Standard Error for \"station_1\" element: 0.02019884323695485\n",
      "Number of \"station_2\" element categorized correctly: 48\n",
      "Percent reading accuracy of the \"station_2\" element:  97.95918367346938\n",
      "Standard Error for \"station_2\" element: 0.02019884323695485\n"
     ]
    },
    {
     "data": {
      "image/png": "[encoded data removed]",
      "text/plain": [
       "<Figure size 720x360 with 1 Axes>"
      ]
     },
     "metadata": {
      "needs_background": "light"
     },
     "output_type": "display_data"
    }
   ],
   "source": [
    "df_I = pd.read_csv(\"L:/DATA/Alouette_I/BATCH_I_Run2/07_Accuracy/BatchI_QA.csv\") \n",
    "total_I = len(df_I)\n",
    "print ('Number of Images Analyzed in BATCH I:', total_I)\n",
    "\n",
    "categorical_columns = ['year','Day_1','Day_2','Day_3','Hour_1','Hour_2','Min_1',\n",
    "                       'Min_2','Sec_1','Sec_2','station_1','station_2']\n",
    "accuracy_data = []\n",
    "for column in categorical_columns:\n",
    "    col_sum = df_I[column].sum()\n",
    "    accuracy_percent = (col_sum/total_I)*100\n",
    "    p = accuracy_percent/100\n",
    "    standard_error = np.sqrt(p*(1-p)/total_I)\n",
    "    \n",
    "    print(f'Number of \"{column}\" element categorized correctly:' , col_sum)\n",
    "    print (f'Percent reading accuracy of the \"{column}\" element: ', accuracy_percent)\n",
    "    print (f'Standard Error for \"{column}\" element:', standard_error)\n",
    "    \n",
    "    accuracy_data.append ((column, accuracy_percent,standard_error))\n",
    "    \n",
    "fig = plt.figure(figsize = (10, 5))\n",
    "categories, accuracies, standard_error  = zip(*accuracy_data) \n",
    "plt.bar (categories, accuracies, color = 'blue', alpha = 0.7)\n",
    "plt.errorbar(categories, accuracies, yerr = standard_error,fmt= 'o', capsize = 10, ecolor = 'red', elinewidth = 2, markeredgewidth = 2)\n",
    "plt.ylim(60, 100)\n",
    "\n",
    "plt.title (\"% Reading accuracy of the NUM metadata elements in Batch I\")\n",
    "plt.xlabel(\"NUM metadata elements - Batch I\")\n",
    "plt.ylabel(\"Reading Accuracy (%)\")\n",
    "plt.xticks(rotation=90)\n",
    "plt.tight_layout()\n",
    "plt.show()"
   ]
  },
  {
   "cell_type": "code",
   "execution_count": 24,
   "id": "3ee3c8cd",
   "metadata": {},
   "outputs": [
    {
     "name": "stdout",
     "output_type": "stream",
     "text": [
      "Number of Ionograms categorized correctly consistently: 45\n",
      "Estimated Success Rate out of BATCH I with 465,009 ionograms: 427049\n",
      "Number of incorrectly analyzed ionograms across all categories: 1\n",
      "     Directory Subdirectory       filename\n",
      "3  R014207909F          713  Image0317.png\n"
     ]
    }
   ],
   "source": [
    "# BATCH I - Summary\n",
    "df_I = df_I.loc[df_I['Issue'] != 'None'] \n",
    "filtered_down_I = len(df_I)\n",
    "print('Number of Ionograms categorized correctly consistently:', total_I - filtered_down_I)\n",
    "\n",
    "#BATCH I - Estimated success rate Batch I\n",
    "success_rate = (total_I - filtered_down_I)/total_I \n",
    "Estimation = round(success_rate*total_df_I)\n",
    "print('Estimated Success Rate out of BATCH I with 465,009 ionograms:', Estimation)\n",
    "\n",
    "# Number of All categories error\n",
    "df_I = df_I.loc[df_I['Issue'] == 'All categories']\n",
    "filtered_down_I = len(df_I)\n",
    "print('Number of incorrectly analyzed ionograms across all categories:', filtered_down_I)\n",
    "print(df_I.loc[:,[\"Directory\",\"Subdirectory\", \"filename\"]])"
   ]
  },
  {
   "cell_type": "markdown",
   "id": "8148d23f",
   "metadata": {},
   "source": [
    "### Batch II"
   ]
  },
  {
   "cell_type": "code",
   "execution_count": 53,
   "id": "c13a0435",
   "metadata": {},
   "outputs": [
    {
     "name": "stdout",
     "output_type": "stream",
     "text": [
      "Number of Images Analyzed in BATCH II: 50\n",
      "Number of \"year\" element categorized correctly: 45\n",
      "Percent reading accuracy of the \"year\" element:  90.0\n",
      "Standard Error for \"year\" element: 0.04242640687119285\n",
      "Number of \"Day_1\" element categorized correctly: 46\n",
      "Percent reading accuracy of the \"Day_1\" element:  92.0\n",
      "Standard Error for \"Day_1\" element: 0.038366652186501746\n",
      "Number of \"Day_2\" element categorized correctly: 46\n",
      "Percent reading accuracy of the \"Day_2\" element:  92.0\n",
      "Standard Error for \"Day_2\" element: 0.038366652186501746\n",
      "Number of \"Day_3\" element categorized correctly: 45\n",
      "Percent reading accuracy of the \"Day_3\" element:  90.0\n",
      "Standard Error for \"Day_3\" element: 0.04242640687119285\n",
      "Number of \"Hour_1\" element categorized correctly: 45\n",
      "Percent reading accuracy of the \"Hour_1\" element:  90.0\n",
      "Standard Error for \"Hour_1\" element: 0.04242640687119285\n",
      "Number of \"Hour_2\" element categorized correctly: 45\n",
      "Percent reading accuracy of the \"Hour_2\" element:  90.0\n",
      "Standard Error for \"Hour_2\" element: 0.04242640687119285\n",
      "Number of \"Min_1\" element categorized correctly: 46\n",
      "Percent reading accuracy of the \"Min_1\" element:  92.0\n",
      "Standard Error for \"Min_1\" element: 0.038366652186501746\n",
      "Number of \"Min_2\" element categorized correctly: 46\n",
      "Percent reading accuracy of the \"Min_2\" element:  92.0\n",
      "Standard Error for \"Min_2\" element: 0.038366652186501746\n",
      "Number of \"Sec_1\" element categorized correctly: 46\n",
      "Percent reading accuracy of the \"Sec_1\" element:  92.0\n",
      "Standard Error for \"Sec_1\" element: 0.038366652186501746\n",
      "Number of \"Sec_2\" element categorized correctly: 46\n",
      "Percent reading accuracy of the \"Sec_2\" element:  92.0\n",
      "Standard Error for \"Sec_2\" element: 0.038366652186501746\n",
      "Number of \"station_1\" element categorized correctly: 46\n",
      "Percent reading accuracy of the \"station_1\" element:  92.0\n",
      "Standard Error for \"station_1\" element: 0.038366652186501746\n",
      "Number of \"station_2\" element categorized correctly: 46\n",
      "Percent reading accuracy of the \"station_2\" element:  92.0\n",
      "Standard Error for \"station_2\" element: 0.038366652186501746\n"
     ]
    },
    {
     "data": {
      "image/png": "[encoded data removed]",
      "text/plain": [
       "<Figure size 720x360 with 1 Axes>"
      ]
     },
     "metadata": {
      "needs_background": "light"
     },
     "output_type": "display_data"
    }
   ],
   "source": [
    "df_II = pd.read_csv(\"L:/DATA/Alouette_I/BATCH_II_Run2/07_MQA/Batch2_QA_num.csv\") \n",
    "total_II = len(df_II)\n",
    "print ('Number of Images Analyzed in BATCH II:', total_II)\n",
    "\n",
    "categorical_columns = ['year','Day_1','Day_2','Day_3','Hour_1','Hour_2','Min_1',\n",
    "                       'Min_2','Sec_1','Sec_2','station_1','station_2']\n",
    "accuracy_data = []\n",
    "for column in categorical_columns:\n",
    "    col_sum = df_II[column].sum()\n",
    "    accuracy_percent = (col_sum/total_II)*100\n",
    "    p = accuracy_percent/100\n",
    "    standard_error = np.sqrt(p*(1-p)/total_II)\n",
    "    \n",
    "    print(f'Number of \"{column}\" element categorized correctly:' , col_sum)\n",
    "    print (f'Percent reading accuracy of the \"{column}\" element: ', accuracy_percent)\n",
    "    print (f'Standard Error for \"{column}\" element:', standard_error)\n",
    "    \n",
    "    accuracy_data.append ((column, accuracy_percent,standard_error))\n",
    "    \n",
    "fig = plt.figure(figsize = (10, 5))\n",
    "categories, accuracies, standard_error  = zip(*accuracy_data) \n",
    "plt.bar (categories, accuracies, color = 'blue', alpha = 0.7)\n",
    "plt.errorbar(categories, accuracies, yerr = standard_error,fmt= 'o', capsize = 10, ecolor = 'red', elinewidth = 2, markeredgewidth = 2)\n",
    "plt.ylim(60, 100)\n",
    "\n",
    "plt.title (\"% Reading accuracy of the NUM metadata elements in Batch II\")\n",
    "plt.xlabel(\"NUM metadata elements - Batch II\")\n",
    "plt.ylabel(\"Reading Accuracy (%)\")\n",
    "plt.xticks(rotation=90)\n",
    "plt.tight_layout()\n",
    "plt.show()\n"
   ]
  },
  {
   "cell_type": "code",
   "execution_count": 42,
   "id": "df890684",
   "metadata": {},
   "outputs": [
    {
     "name": "stdout",
     "output_type": "stream",
     "text": [
      "Batch II Summary:\n",
      "Total number of Ionograms categorized correctly consistently: 45\n",
      "Estimated Success Rate of BATCH II with 123,975 ionograms: 102640\n",
      "The \"All Category\" error is due to the number of NUM2 ionograms incorrectly categorized as Num data by the algorithm: 4\n",
      "     Directory Subdirectory filename\n",
      "11  R014207820      2979-5B  109.png\n",
      "16  R014207825     3729-19A  105.png\n",
      "44  R014207808      4575-50   14.png\n",
      "49  R014207819      4757-15   77.png\n"
     ]
    }
   ],
   "source": [
    "# BATCH II - Summary\n",
    "df_II = df_II.loc[df_II['Issue'] != 'None']\n",
    "filtered_down_II = len(df_II)\n",
    "print ('Batch II Summary:')\n",
    "print('Total number of Ionograms categorized correctly consistently:', total_II - filtered_down_II)\n",
    "\n",
    "#BATCH II - Estimated success rate\n",
    "success_rate = (total_II - filtered_down_II)/total_II\n",
    "Estimation = round(success_rate*total_df_II)\n",
    "print('Estimated Success Rate of BATCH II with 123,975 ionograms:', Estimation)\n",
    "\n",
    "# Number of All categories error\n",
    "df_II = df_II.loc[df_II['Issue'] == 'All category']\n",
    "filtered_down_II = len(df_II)\n",
    "print('The \"All Category\" error is due to the number of NUM2 ionograms incorrectly categorized as Num data by the algorithm:', filtered_down_II)\n",
    "print(df_II.loc[:,[\"Directory\",\"Subdirectory\", \"filename\"]])"
   ]
  },
  {
   "cell_type": "markdown",
   "id": "7c5d58d6",
   "metadata": {},
   "source": [
    "### Total NUM category analysis"
   ]
  },
  {
   "cell_type": "code",
   "execution_count": 45,
   "id": "cd2942e5",
   "metadata": {},
   "outputs": [
    {
     "name": "stdout",
     "output_type": "stream",
     "text": [
      "Total number of NUM Ionograms in BATCH I and II analyzed: 99\n",
      "Total number of NUM Ionograms in BATCH II and II analyzed correctly:  94\n",
      "Estimated Success Rate of Total NUM with 579,054 ionograms: 549809\n",
      "Estimated Percent certainty: 94.94952111547455\n"
     ]
    },
    {
     "data": {
      "image/png": "[encoded data removed]",
      "text/plain": [
       "<Figure size 720x360 with 1 Axes>"
      ]
     },
     "metadata": {
      "needs_background": "light"
     },
     "output_type": "display_data"
    }
   ],
   "source": [
    "Image_total = total_I + total_II\n",
    "print ('Total number of NUM Ionograms in BATCH I and II analyzed:', Image_total)\n",
    "\n",
    "Correct_total = (total_I - filtered_down_I) + (total_II - filtered_down_II)\n",
    "print ('Total number of NUM Ionograms in BATCH II and II analyzed correctly: ', Correct_total)\n",
    "\n",
    "#Estimated success rate\n",
    "success_rate = Correct_total/Image_total\n",
    "Estimation = round(success_rate*Total_num)\n",
    "print('Estimated Success Rate of Total NUM with 579,054 ionograms:', Estimation)\n",
    "\n",
    "#Overall Percent certainty\n",
    "percent_tot = Estimation*100/Total_num\n",
    "print('Estimated Percent certainty:' , percent_tot)\n",
    "\n",
    "#Percent certainty of  all num metadata elements\n",
    "percent_tot_year = (percent_df_II_year + percent_df_I_year)/2\n",
    "percent_tot_day1= (percent_df_II_Day1 + percent_df_I_Day1)/2\n",
    "percent_tot_day2= (percent_df_II_Day2 + percent_df_I_Day2)/2\n",
    "percent_tot_day3 = (percent_df_II_Day3 + percent_df_I_Day3)/2\n",
    "percent_tot_hour1= (percent_df_II_Hour1 + percent_df_I_Hour1)/2\n",
    "percent_tot_hour2= (percent_df_II_Hour2 + percent_df_I_Hour2)/2\n",
    "percent_tot_min1 = (percent_df_II_min1 + percent_df_I_min1)/2\n",
    "percent_tot_min2 = (percent_df_II_min2 + percent_df_II_min2)/2\n",
    "percent_tot_sec1 = (percent_df_II_sec1 +percent_df_I_sec1)/2\n",
    "percent_tot_sec2= (percent_df_II_sec2 + percent_df_I_sec2)/2\n",
    "percent_tot_station_1 = (percent_df_II_station_1 + percent_df_I_station_1)/2\n",
    "percent_tot_station_2 = (percent_df_II_station_2 + percent_df_I_station_2)/2\n",
    "\n",
    "num_dataset = {'Year':percent_tot_year, 'Day1':percent_tot_day1, 'Day2': percent_tot_day2, \n",
    "                  'Day3': percent_tot_day3, 'Hour1':percent_tot_hour1, 'Hour2':percent_tot_hour2,\n",
    "                  'Min1': percent_tot_min1, 'Min2':percent_tot_min2, 'Sec1':percent_tot_sec1,\n",
    "                  'Sec2':percent_tot_sec2, 'station_1': percent_tot_station_1, 'station_2': percent_tot_station_2}\n",
    "#standard error\n",
    "standard_errors = {}\n",
    "for element, percent in num_dataset.items():\n",
    "    p = percent / 100\n",
    "    standard_error = np.sqrt (p*(1-p)/Total_num)\n",
    "    standard_errors [element] = standard_error\n",
    "    \n",
    "#Graphing the % reading accuracy of the elements\n",
    "fig = plt.figure(figsize = (10, 5))\n",
    "x = list(num_dataset.keys())\n",
    "y = list(num_dataset.values())\n",
    "plt.bar (categories, accuracies, color = 'blue', alpha = 0.7)\n",
    "plt.errorbar(categories, accuracies, yerr = list(standard_errors.values()),fmt= 'o', capsize = 10, ecolor = 'red', elinewidth = 2, markeredgewidth = 2)\n",
    "plt.bar(x,y, yerr = list(standard_errors.values()), capsize = 5)\n",
    "plt.ylim(60, 100)\n",
    "plt.title (\"% Reading accuracy of the overall NUM metadata elements\")\n",
    "plt.xlabel(\"NUM metadata elements\")\n",
    "plt.ylabel(\"Reading Accuracy (%)\")\n",
    "plt.xticks(rotation=90)\n",
    "plt.tight_layout()\n",
    "plt.show()"
   ]
  },
  {
   "cell_type": "markdown",
   "id": "82e3f70d",
   "metadata": {},
   "source": [
    "## Dot category"
   ]
  },
  {
   "cell_type": "code",
   "execution_count": 11,
   "id": "54c5d9e2",
   "metadata": {},
   "outputs": [
    {
     "name": "stdout",
     "output_type": "stream",
     "text": [
      "Total number of dot Ionograms in BATCH I: 7784\n",
      "Total number of dot Ionograms in BATCH II: 4481\n",
      "Total dot ionograms in Batch I and II:  12265\n"
     ]
    }
   ],
   "source": [
    "df_dot_I = pd.read_csv(resultDir_I + 'result_master.csv') #Batch I\n",
    "filter_df_dot_I = df_dot_I[df_dot_I['processed_image_class']=='dot']\n",
    "total_df_dot_I= len(filter_df_dot_I)\n",
    "print ('Total number of dot Ionograms in BATCH I:', total_df_dot_I)\n",
    "\n",
    "df_dot_II = pd.read_csv(resultDir_II + 'result_master.csv') #Batch II\n",
    "filter_df_dot_II = df_dot_II[df_dot_II['processed_image_class']=='dot']\n",
    "total_df_dot_II = len(filter_df_dot_II)\n",
    "print ('Total number of dot Ionograms in BATCH II:', total_df_dot_II)\n",
    "\n",
    "Total_dot = total_df_dot_I + total_df_dot_II  #combining Batch I and Batch II num data\n",
    "print ('Total dot ionograms in Batch I and II: ', Total_dot)"
   ]
  },
  {
   "cell_type": "code",
   "execution_count": 12,
   "id": "9ec91709",
   "metadata": {},
   "outputs": [
    {
     "name": "stdout",
     "output_type": "stream",
     "text": [
      "Number of dot Ionograms Analyzed: 10\n",
      "Number of ionograms categorized correctly: 0\n",
      "Estimated Success Rate out of 7784 with consistent results: 0\n"
     ]
    },
    {
     "data": {
      "image/png": "[encoded data removed]",
      "text/plain": [
       "<Figure size 432x288 with 1 Axes>"
      ]
     },
     "metadata": {
      "needs_background": "light"
     },
     "output_type": "display_data"
    },
    {
     "name": "stdout",
     "output_type": "stream",
     "text": [
      "     Directory  Subdirectory       Filename\n",
      "0  R014207940F           339  Image0150.png\n",
      "1  R014207979F           394  Image0062.png\n",
      "2  R014207929F           480  Image0242.png\n",
      "3  R014207929F           476  Image0003.png\n",
      "4  R014207907F           508      Image0119\n",
      "6  R014207907F           512  Image0353.png\n",
      "7  R014207979F           297  Image0206.png\n",
      "8  R014207979F           291  Image0330.png\n",
      "9  R014207940F           404  Image0224.png\n"
     ]
    }
   ],
   "source": [
    "#Batch I\n",
    "df_dot_I = pd.read_csv(\"L:/DATA/Alouette_I/BATCH_I_Run2/07_Accuracy/BatchI_dot_QA.csv\")\n",
    "total_dot_I = len(df_dot_I)\n",
    "print('Number of dot Ionograms Analyzed:', total_dot_I)\n",
    "\n",
    "# filtering out correct categories\n",
    "df_dot_I= df_dot_I.loc[df_dot_I['Issue'] != 'None']\n",
    "filtered_down_dot_I = len(df_dot_I)\n",
    "print('Number of ionograms categorized correctly:', total_dot_I - filtered_down_dot_I)\n",
    "\n",
    "#Estimated success rate\n",
    "success_rate = (total_dot_I - filtered_down_dot_I)/total_dot_I\n",
    "Estimation = round(success_rate*total_df_dot_I)\n",
    "print('Estimated Success Rate out of 7784 with consistent results:', Estimation)\n",
    "\n",
    "#Plotting the variation of issues\n",
    "issue_counts_dot_I = df_dot_I[\"Issue\"].value_counts()\n",
    "plt.bar(issue_counts_dot_I.index, issue_counts_dot_I.values)\n",
    "plt.title (\"Variation error of Batch I dot ionograms\")\n",
    "plt.xlabel(\"Type of Issue\")\n",
    "plt.ylabel(\"Number of Issues\")\n",
    "plt.xticks(rotation=90)\n",
    "plt.show()\n",
    "\n",
    "# Number of All categories error\n",
    "df_dot_I = df_dot_I.loc[df_dot_I['Issue'] == 'All categories']\n",
    "print(df_dot_I.loc[:,[\"Directory\",\"Subdirectory\", \"Filename\"]])\n"
   ]
  },
  {
   "cell_type": "code",
   "execution_count": 13,
   "id": "f0ce3490",
   "metadata": {},
   "outputs": [
    {
     "name": "stdout",
     "output_type": "stream",
     "text": [
      "Number of Images Analyzed: 15\n",
      "Number of Ionograms Analyzed correctly: 0\n",
      "Estimated Success Rate out of 4481 with consistent results: 0.0\n"
     ]
    },
    {
     "data": {
      "image/png": "[encoded data removed]",
      "text/plain": [
       "<Figure size 432x288 with 1 Axes>"
      ]
     },
     "metadata": {
      "needs_background": "light"
     },
     "output_type": "display_data"
    },
    {
     "name": "stdout",
     "output_type": "stream",
     "text": [
      "Number of NUM/NUM2 ionograms categorized as dot data by the algorithm: 14\n",
      "     Directory Subdirectory filename\n",
      "0   R014207961       1039-1  283.png\n",
      "1   R014207961       1069-A  297.png\n",
      "3   R014207944     1994-12A  131.png\n",
      "4   R014207961       1076-A  288.png\n",
      "5   R014207961       1039-1   19.png\n",
      "6   R014207961       1069-A  263.png\n",
      "7   R014207944      2042-3A  272.png\n",
      "8   R014207961       1058-A  336.png\n",
      "9   R014207961       1029-A  129.png\n",
      "10  R014207961       1031-A  178.png\n",
      "11  R014207944      2042-3A  125.png\n",
      "12  R014207961       1031-A  154.png\n",
      "13  R014207961       1076-A  158.png\n",
      "14  R014207961       1065-A  231.png\n"
     ]
    }
   ],
   "source": [
    "#Batch II\n",
    "df_dot_II = pd.read_csv(\"L:/DATA/Alouette_I/BATCH_II_Run2/07_MQA/Batch2_QA_dot.csv\")\n",
    "total_dot_II = len(df_dot_II)\n",
    "print ('Number of Images Analyzed:', total_dot_II)\n",
    "filtered_down_dot_II = 0 #no ionogram was analyzed correctly\n",
    "print('Number of Ionograms Analyzed correctly:',filtered_down_dot_II)\n",
    "\n",
    "#Estimated success rate\n",
    "success_rate = filtered_down_dot_II/total_dot_II\n",
    "Estimation = success_rate*total_df_dot_II\n",
    "print('Estimated Success Rate out of 4481 with consistent results:', Estimation)\n",
    "\n",
    "#Plotting the variation of issues\n",
    "issue_counts_dot_II = df_dot_II[\"Issue\"].value_counts()\n",
    "plt.bar(issue_counts_dot_II.index, issue_counts_dot_II.values)\n",
    "plt.title (\"Variation error of dot Ionograms in Batch II\")\n",
    "plt.xlabel(\"Type of Issue\")\n",
    "plt.ylabel(\"Number of Issues\")\n",
    "plt.xticks(rotation=90)\n",
    "plt.show()\n",
    "\n",
    "# filtering out correct categories\n",
    "df_dot_II = df_dot_II.loc[df_dot_II['Issue'] == 'All categories']\n",
    "filtered_down_dot_II = len(df_dot_II)\n",
    "print('Number of NUM/NUM2 ionograms categorized as dot data by the algorithm:', filtered_down_dot_II)\n",
    "print(df_dot_II.loc[:,[\"Directory\",\"Subdirectory\", \"filename\"]])"
   ]
  },
  {
   "cell_type": "code",
   "execution_count": 14,
   "id": "b96d6d71",
   "metadata": {},
   "outputs": [
    {
     "name": "stdout",
     "output_type": "stream",
     "text": [
      "Total number of DOT Ionograms in BATCH I and II analyzed: 25\n",
      "Total number of Dot Ionograms in BATCH II and II analyzed correctly:  1\n",
      "Estimated Success Rate of Total Dot with 12,265 ionograms: 0\n",
      "Estimated Percent certainty: 0.0\n"
     ]
    }
   ],
   "source": [
    "#Total Dot image analysis:\n",
    "Image_total_dot = total_dot_I + total_dot_II\n",
    "print ('Total number of DOT Ionograms in BATCH I and II analyzed:', Image_total_dot)\n",
    "\n",
    "Correct_total_dot = (total_dot_I - filtered_down_dot_I) + (total_dot_II - filtered_down_dot_II)\n",
    "print ('Total number of Dot Ionograms in BATCH II and II analyzed correctly: ', Correct_total_dot)\n",
    "\n",
    "#Estimated success rate\n",
    "Estimation  = round(Correct_total_dot*Image_total_dot/Total_dot)\n",
    "print('Estimated Success Rate of Total Dot with 12,265 ionograms:', Estimation)\n",
    "\n",
    "#Percent certaintly\n",
    "percent_tot_dot = Estimation*100/Total_dot\n",
    "print('Estimated Percent certainty:' , percent_tot_dot)"
   ]
  },
  {
   "cell_type": "markdown",
   "id": "65dbda6e",
   "metadata": {},
   "source": [
    "## NUM2 category"
   ]
  },
  {
   "cell_type": "code",
   "execution_count": 15,
   "id": "ef0cdb36",
   "metadata": {},
   "outputs": [
    {
     "name": "stdout",
     "output_type": "stream",
     "text": [
      "Total number of NUM2 Ionograms in Batch I: 38149\n",
      "Total number of NUM2 Ionograms in Batch II : 87924\n",
      "Total number of NUM2 Ionograms in both batches: 126073\n"
     ]
    }
   ],
   "source": [
    "#Total Number of Num Categories\n",
    "df_num2_1 = pd.read_csv(resultDir_I + 'result_master.csv') #Batch I\n",
    "filter_df_num2_1 = df_num2_1[df_num2_1['processed_image_class']=='num2']\n",
    "total_df_num2_1 = len(filter_df_num2_1)\n",
    "print ('Total number of NUM2 Ionograms in Batch I:', total_df_num2_1)\n",
    "\n",
    "df_num2_II = pd.read_csv(resultDir_II + 'result_master.csv') #Batch II\n",
    "filter_df_num2_II = df_num2_II[df_num2_II['processed_image_class']=='num2']\n",
    "total_df_num2_II = len(filter_df_num2_II)\n",
    "print ('Total number of NUM2 Ionograms in Batch II :', total_df_num2_II)\n",
    "\n",
    "df_num2_total = pd.read_csv(resultDir_tot + 'result_master.csv')\n",
    "filter_df_total= df_num2_total[df_num2_total['processed_image_class']=='num2']\n",
    "total_df_num2 = len(filter_df_total)\n",
    "print('Total number of NUM2 Ionograms in both batches:', total_df_num2)"
   ]
  },
  {
   "cell_type": "markdown",
   "id": "a9566e93",
   "metadata": {},
   "source": [
    "### Batch I"
   ]
  },
  {
   "cell_type": "code",
   "execution_count": 54,
   "id": "9f50bc38",
   "metadata": {},
   "outputs": [
    {
     "name": "stdout",
     "output_type": "stream",
     "text": [
      "Number of Images Analyzed in BATCH I: 15\n",
      "Number of \"year\" element categorized correctly: 15\n",
      "Percent reading accuracy of the \"year\" element:  100.0\n",
      "Standard Error for \"year\" element: 0.0\n",
      "Number of \"Day_1\" element categorized correctly: 15\n",
      "Percent reading accuracy of the \"Day_1\" element:  100.0\n",
      "Standard Error for \"Day_1\" element: 0.0\n",
      "Number of \"Day_2\" element categorized correctly: 11\n",
      "Percent reading accuracy of the \"Day_2\" element:  73.33333333333333\n",
      "Standard Error for \"Day_2\" element: 0.11417984514369005\n",
      "Number of \"Day_3\" element categorized correctly: 10\n",
      "Percent reading accuracy of the \"Day_3\" element:  66.66666666666666\n",
      "Standard Error for \"Day_3\" element: 0.12171612389003693\n",
      "Number of \"Hour_1\" element categorized correctly: 14\n",
      "Percent reading accuracy of the \"Hour_1\" element:  93.33333333333333\n",
      "Standard Error for \"Hour_1\" element: 0.0644061188719531\n",
      "Number of \"Hour_2\" element categorized correctly: 13\n",
      "Percent reading accuracy of the \"Hour_2\" element:  86.66666666666667\n",
      "Standard Error for \"Hour_2\" element: 0.0877707451472511\n",
      "Number of \"Min_1\" element categorized correctly: 14\n",
      "Percent reading accuracy of the \"Min_1\" element:  93.33333333333333\n",
      "Standard Error for \"Min_1\" element: 0.0644061188719531\n",
      "Number of \"Min_2\" element categorized correctly: 14\n",
      "Percent reading accuracy of the \"Min_2\" element:  93.33333333333333\n",
      "Standard Error for \"Min_2\" element: 0.0644061188719531\n",
      "Number of \"Sec_1\" element categorized correctly: 14\n",
      "Percent reading accuracy of the \"Sec_1\" element:  93.33333333333333\n",
      "Standard Error for \"Sec_1\" element: 0.0644061188719531\n",
      "Number of \"Sec_2\" element categorized correctly: 13\n",
      "Percent reading accuracy of the \"Sec_2\" element:  86.66666666666667\n",
      "Standard Error for \"Sec_2\" element: 0.0877707451472511\n",
      "Number of \"station_1\" element categorized correctly: 15\n",
      "Percent reading accuracy of the \"station_1\" element:  100.0\n",
      "Standard Error for \"station_1\" element: 0.0\n",
      "Number of \"station_2\" element categorized correctly: 15\n",
      "Percent reading accuracy of the \"station_2\" element:  100.0\n",
      "Standard Error for \"station_2\" element: 0.0\n"
     ]
    },
    {
     "data": {
      "image/png": "[encoded data removed]",
      "text/plain": [
       "<Figure size 720x360 with 1 Axes>"
      ]
     },
     "metadata": {
      "needs_background": "light"
     },
     "output_type": "display_data"
    }
   ],
   "source": [
    "df_num2_I = pd.read_csv(\"L:/DATA/Alouette_I/BATCH_I_Run2/07_Accuracy/BatchI_num2_QA.csv\") \n",
    "total_num2_I = len(df_num2_I)\n",
    "print ('Number of Images Analyzed in BATCH I:', total_num2_I)\n",
    "categorical_columns = ['year','Day_1','Day_2','Day_3','Hour_1','Hour_2','Min_1',\n",
    "                       'Min_2','Sec_1','Sec_2','station_1','station_2']\n",
    "accuracy_data = []\n",
    "for column in categorical_columns:\n",
    "    col_sum = df_num2_I[column].sum()\n",
    "    accuracy_percent = (col_sum/total_num2_I)*100\n",
    "    p = accuracy_percent/100\n",
    "    standard_error = np.sqrt(p*(1-p)/total_num2_I)\n",
    "    \n",
    "    print(f'Number of \"{column}\" element categorized correctly:' , col_sum)\n",
    "    print (f'Percent reading accuracy of the \"{column}\" element: ', accuracy_percent)\n",
    "    print (f'Standard Error for \"{column}\" element:', standard_error)\n",
    "    \n",
    "    accuracy_data.append ((column, accuracy_percent,standard_error))\n",
    "    \n",
    "fig = plt.figure(figsize = (10, 5))\n",
    "categories, accuracies, standard_error  = zip(*accuracy_data) \n",
    "plt.bar (categories, accuracies, color = 'blue', alpha = 0.7)\n",
    "plt.errorbar(categories, accuracies, yerr = standard_error,fmt= 'o', capsize = 10, ecolor = 'red', elinewidth = 2, markeredgewidth = 2)\n",
    "plt.ylim(60, 100)\n",
    "\n",
    "plt.title (\"% Reading accuracy of the NUM2 metadata elements in BatchI\")\n",
    "plt.xlabel(\"NUM2 metadata elements - Batch I\")\n",
    "plt.ylabel(\"Reading Accuracy (%)\")\n",
    "plt.xticks(rotation=90)\n",
    "plt.tight_layout()\n",
    "plt.show()"
   ]
  },
  {
   "cell_type": "code",
   "execution_count": 46,
   "id": "d8ad9602",
   "metadata": {},
   "outputs": [
    {
     "name": "stdout",
     "output_type": "stream",
     "text": [
      "Batch I Summary:\n",
      "Total number of Ionograms categorized correctly consistently: 10\n",
      "Estimated Success Rate of BATCH II with 126,073 ionograms: 84049\n",
      "The algorithm reads Day_2 and Day_3 inccorectly with no clear pattern: 5\n",
      "     Directory Subdirectory filename\n",
      "0   R014207816     3408-43A  285.png\n",
      "1   R014207955     2843-50B  180.png\n",
      "2   R014207824      3135-8A  258.png\n",
      "9   R014207824     3174-14A  259.png\n",
      "14  R014207841      3076-8A  236.png\n"
     ]
    }
   ],
   "source": [
    "# BATCH I - Summary\n",
    "df_num2_I  = df_num2_I.loc[df_num2_I ['Issue'] != 'None']\n",
    "filtered_down_num2_I = len(df_num2_I)\n",
    "print ('Batch I Summary:')\n",
    "print('Total number of Ionograms categorized correctly consistently:', total_num2_I - filtered_down_num2_I)\n",
    "\n",
    "#BATCH II - Estimated success rate\n",
    "success_rate = (total_num2_I - filtered_down_num2_I)/total_num2_I\n",
    "Estimation = round(success_rate*total_df_num2)\n",
    "print('Estimated Success Rate of BATCH II with 126,073 ionograms:', Estimation)\n",
    "# Number of All categories error\n",
    "df_num2_I = df_num2_I.loc[df_num2_I['Issue'] == 'Day']\n",
    "filtered_down_I = len(df_num2_I)\n",
    "print('The algorithm reads Day_2 and Day_3 inccorectly with no clear pattern:', filtered_down_I)\n",
    "print(df_num2_I.loc[:,[\"Directory\",\"Subdirectory\", \"filename\"]])"
   ]
  },
  {
   "cell_type": "markdown",
   "id": "f46220ae",
   "metadata": {},
   "source": [
    "###  Batch II"
   ]
  },
  {
   "cell_type": "code",
   "execution_count": 55,
   "id": "bcb78220",
   "metadata": {},
   "outputs": [
    {
     "name": "stdout",
     "output_type": "stream",
     "text": [
      "Number of Images Analyzed in BATCH II: 34\n",
      "Number of \"year\" element categorized correctly: 33\n",
      "Percent reading accuracy of the \"year\" element:  97.05882352941177\n",
      "Standard Error for \"year\" element: 0.028976010768934652\n",
      "Number of \"Day_1\" element categorized correctly: 34\n",
      "Percent reading accuracy of the \"Day_1\" element:  100.0\n",
      "Standard Error for \"Day_1\" element: 0.0\n",
      "Number of \"Day_2\" element categorized correctly: 34\n",
      "Percent reading accuracy of the \"Day_2\" element:  100.0\n",
      "Standard Error for \"Day_2\" element: 0.0\n",
      "Number of \"Day_3\" element categorized correctly: 34\n",
      "Percent reading accuracy of the \"Day_3\" element:  100.0\n",
      "Standard Error for \"Day_3\" element: 0.0\n",
      "Number of \"Hour_1\" element categorized correctly: 34\n",
      "Percent reading accuracy of the \"Hour_1\" element:  100.0\n",
      "Standard Error for \"Hour_1\" element: 0.0\n",
      "Number of \"Hour_2\" element categorized correctly: 34\n",
      "Percent reading accuracy of the \"Hour_2\" element:  100.0\n",
      "Standard Error for \"Hour_2\" element: 0.0\n",
      "Number of \"Min_1\" element categorized correctly: 34\n",
      "Percent reading accuracy of the \"Min_1\" element:  100.0\n",
      "Standard Error for \"Min_1\" element: 0.0\n",
      "Number of \"Min_2\" element categorized correctly: 33\n",
      "Percent reading accuracy of the \"Min_2\" element:  97.05882352941177\n",
      "Standard Error for \"Min_2\" element: 0.028976010768934652\n",
      "Number of \"Sec_1\" element categorized correctly: 34\n",
      "Percent reading accuracy of the \"Sec_1\" element:  100.0\n",
      "Standard Error for \"Sec_1\" element: 0.0\n",
      "Number of \"Sec_2\" element categorized correctly: 34\n",
      "Percent reading accuracy of the \"Sec_2\" element:  100.0\n",
      "Standard Error for \"Sec_2\" element: 0.0\n",
      "Number of \"station_1\" element categorized correctly: 34\n",
      "Percent reading accuracy of the \"station_1\" element:  100.0\n",
      "Standard Error for \"station_1\" element: 0.0\n",
      "Number of \"station_2\" element categorized correctly: 34\n",
      "Percent reading accuracy of the \"station_2\" element:  100.0\n",
      "Standard Error for \"station_2\" element: 0.0\n"
     ]
    },
    {
     "data": {
      "image/png": "[encoded data removed]",
      "text/plain": [
       "<Figure size 720x360 with 1 Axes>"
      ]
     },
     "metadata": {
      "needs_background": "light"
     },
     "output_type": "display_data"
    }
   ],
   "source": [
    "df_num2_II = pd.read_csv(\"L:/DATA/Alouette_I/BATCH_II_Run2/07_MQA/Batch2_QA_num2.csv\") \n",
    "total_num2_II = len(df_num2_II)\n",
    "print ('Number of Images Analyzed in BATCH II:', total_num2_II)\n",
    "categorical_columns = ['year','Day_1','Day_2','Day_3','Hour_1','Hour_2','Min_1',\n",
    "                       'Min_2','Sec_1','Sec_2','station_1','station_2']\n",
    "accuracy_data = []\n",
    "for column in categorical_columns:\n",
    "    col_sum = df_num2_II[column].sum()\n",
    "    accuracy_percent = (col_sum/total_num2_II)*100\n",
    "    p = accuracy_percent/100\n",
    "    standard_error = np.sqrt(p*(1-p)/total_num2_II)\n",
    "    \n",
    "    print(f'Number of \"{column}\" element categorized correctly:' , col_sum)\n",
    "    print (f'Percent reading accuracy of the \"{column}\" element: ', accuracy_percent)\n",
    "    print (f'Standard Error for \"{column}\" element:', standard_error)\n",
    "    \n",
    "    accuracy_data.append ((column, accuracy_percent,standard_error))\n",
    "    \n",
    "fig = plt.figure(figsize = (10, 5))\n",
    "categories, accuracies, standard_error  = zip(*accuracy_data) \n",
    "plt.bar (categories, accuracies, color = 'blue', alpha = 0.7)\n",
    "plt.errorbar(categories, accuracies, yerr = standard_error,fmt= 'o', capsize = 10, ecolor = 'red', elinewidth = 2, markeredgewidth = 2)\n",
    "plt.ylim(60, 100)\n",
    "\n",
    "plt.title (\"% Reading accuracy of the NUM2 metadata elements in Batch II\")\n",
    "plt.xlabel(\"NUM2 metadata elements - Batch II\")\n",
    "plt.ylabel(\"Reading Accuracy (%)\")\n",
    "plt.xticks(rotation=90)\n",
    "plt.tight_layout()\n",
    "plt.show()\n"
   ]
  },
  {
   "cell_type": "code",
   "execution_count": 49,
   "id": "1a70120e",
   "metadata": {},
   "outputs": [
    {
     "name": "stdout",
     "output_type": "stream",
     "text": [
      "Batch II Summary:\n",
      "Total number of Ionograms categorized correctly consistently: 31\n",
      "Estimated Success Rate of BATCH II with 126,073 ionograms: 114949\n",
      "The algorithm reads 1 as 7 or vice versa: 2\n",
      "    Directory Subdirectory filename\n",
      "5  R014207831      3949-5A  207.png\n",
      "8  R014207833      4349-38  136.png\n"
     ]
    }
   ],
   "source": [
    "# BATCH II - Summary\n",
    "df_num2_II = df_num2_II.loc[df_num2_II ['Issue'] != 'None']\n",
    "filtered_down_num2_II = len(df_num2_II)\n",
    "print ('Batch II Summary:')\n",
    "print('Total number of Ionograms categorized correctly consistently:', total_num2_II - filtered_down_num2_II)\n",
    "\n",
    "#BATCH II - Estimated success rate\n",
    "success_rate = (total_num2_II - filtered_down_num2_II)/total_num2_II\n",
    "Estimation = round(success_rate*total_df_num2)\n",
    "print('Estimated Success Rate of BATCH II with 126,073 ionograms:', Estimation)\n",
    "# Number of All categories error\n",
    "df_num2_II = df_num2_II.loc[df_num2_II['Issue'] == 'Minute']\n",
    "filtered_down_II = len(df_num2_II)\n",
    "print('The algorithm reads 1 as 7 or vice versa:', filtered_down_II)\n",
    "print(df_num2_II.loc[:,[\"Directory\",\"Subdirectory\", \"filename\"]])"
   ]
  },
  {
   "cell_type": "code",
   "execution_count": 56,
   "id": "6df47a02",
   "metadata": {},
   "outputs": [
    {
     "name": "stdout",
     "output_type": "stream",
     "text": [
      "Total number of NUM2 Ionograms in BATCH I and II analyzed: 49\n",
      "Total number of NUM2 Ionograms in BATCH II and II analyzed correctly:  42\n",
      "Estimated Success Rate of Total NUM2 ionograms: 108063\n",
      "Estimated Percent certainty: 85.7146256533913\n"
     ]
    },
    {
     "data": {
      "image/png": "[encoded data removed]",
      "text/plain": [
       "<Figure size 720x360 with 1 Axes>"
      ]
     },
     "metadata": {
      "needs_background": "light"
     },
     "output_type": "display_data"
    }
   ],
   "source": [
    "Image_total = total_num2_I + total_num2_II\n",
    "print ('Total number of NUM2 Ionograms in BATCH I and II analyzed:', Image_total)\n",
    "\n",
    "Correct_total = (total_num2_I - filtered_down_I) + (total_num2_II - filtered_down_II)\n",
    "print ('Total number of NUM2 Ionograms in BATCH II and II analyzed correctly: ', Correct_total)\n",
    "\n",
    "#Estimated success rate\n",
    "success_rate = Correct_total/Image_total\n",
    "Estimation = round(success_rate*total_df_num2)\n",
    "print('Estimated Success Rate of Total NUM2 ionograms:', Estimation)\n",
    "\n",
    "#Overall Percent certainty\n",
    "percent_tot = Estimation*100/total_df_num2\n",
    "print('Estimated Percent certainty:' , percent_tot)\n",
    "\n",
    "#Percent certainty of  all num metadata elements\n",
    "percent_tot_year = (percent_df_num2_I_year + percent_df_num2_II_year)/2\n",
    "percent_tot_day1= (percent_df_num2_I_Day1 + percent_df_num2_II_Day1)/2\n",
    "percent_tot_day2= (percent_df_num2_I_Day2 + percent_df_num2_II_Day2)/2\n",
    "percent_tot_day3 = (percent_df_num2_I_Day3 + percent_df_num2_II_Day3)/2\n",
    "percent_tot_hour1= (percent_df_num2_I_Hour1 + percent_df_num2_II_Hour1)/2\n",
    "percent_tot_hour2= (percent_df_num2_I_Hour2 + percent_df_num2_II_Hour2)/2\n",
    "percent_tot_min1 = (percent_df_num2_I_min1 + percent_df_num2_II_min1)/2\n",
    "percent_tot_min2 = (percent_df_num2_I_min2+ percent_df_num2_II_min2)/2\n",
    "percent_tot_sec1 = (percent_df_num2_I_sec1 + percent_df_num2_II_sec1)/2\n",
    "percent_tot_sec2= (percent_df_num2_I_sec2+ percent_df_num2_II_sec2)/2\n",
    "percent_tot_station1 = (percent_df_num2_I_station_1 + percent_df_num2_II_station_1)/2\n",
    "percent_tot_station2 = (percent_df_num2_I_station_2 + percent_df_num2_II_station_2)/2\n",
    "\n",
    "#Graphing the % reading accuracy of the elements\n",
    "num2_dataset = {'Year':percent_tot_year, 'Day1':percent_tot_day1, 'Day2': percent_tot_day2, \n",
    "                  'Day3': percent_tot_day3, 'Hour1':percent_tot_hour1, 'Hour2':percent_tot_hour2,\n",
    "                  'Min1': percent_tot_min1, 'Min2':percent_tot_min2, 'Sec1':percent_tot_sec1,\n",
    "                  'Sec2':percent_tot_sec2, 'Station_1': percent_tot_station1, 'Station_2':percent_tot_station2 }\n",
    "#standard error\n",
    "standard_errors = {}\n",
    "for element, percent in num2_dataset.items():\n",
    "    p = percent / 100\n",
    "    standard_error = np.sqrt (p*(1-p)/Total_num)\n",
    "    standard_errors [element] = standard_error\n",
    "    \n",
    "#Graphing the % reading accuracy of the elements\n",
    "fig = plt.figure(figsize = (10, 5))\n",
    "x = list(num2_dataset.keys())\n",
    "y = list(num2_dataset.values())\n",
    "plt.bar (categories, accuracies, color = 'blue', alpha = 0.7)\n",
    "plt.errorbar(categories, accuracies, yerr = list(standard_errors.values()),fmt= 'o', capsize = 10, ecolor = 'red', elinewidth = 2, markeredgewidth = 2)\n",
    "plt.ylim(60, 100)\n",
    "plt.title (\"% Reading accuracy of the overall NUM2 metadata elements\")\n",
    "plt.xlabel(\"NUM2 metadata elements\")\n",
    "plt.ylabel(\"Reading Accuracy (%)\")\n",
    "plt.xticks(rotation=90)\n",
    "plt.tight_layout()\n",
    "plt.show()"
   ]
  },
  {
   "cell_type": "code",
   "execution_count": null,
   "id": "22a7a638",
   "metadata": {},
   "outputs": [],
   "source": []
  },
  {
   "cell_type": "code",
   "execution_count": null,
   "id": "8e337b48",
   "metadata": {},
   "outputs": [],
   "source": []
  }
 ],
 "metadata": {
  "kernelspec": {
   "display_name": "Python 3",
   "language": "python",
   "name": "python3"
  },
  "language_info": {
   "codemirror_mode": {
    "name": "ipython",
    "version": 3
   },
   "file_extension": ".py",
   "mimetype": "text/x-python",
   "name": "python",
   "nbconvert_exporter": "python",
   "pygments_lexer": "ipython3",
   "version": "3.8.8"
  }
 },
 "nbformat": 4,
 "nbformat_minor": 5
}

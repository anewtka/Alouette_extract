{
 "cells": [
  {
   "cell_type": "code",
   "execution_count": null,
   "id": "c06304c4",
   "metadata": {},
   "outputs": [],
   "source": [
    "import os\n",
    "import numpy as np\n",
    "import pandas as pd\n",
    "import matplotlib.pyplot as plt\n",
    "from scipy.stats import norm"
   ]
  },
  {
   "cell_type": "code",
   "execution_count": null,
   "id": "9f62b754",
   "metadata": {},
   "outputs": [],
   "source": [
    "rootDir_I = 'L:/DATA/Alouette_I/BATCH_I_Run2/'\n",
    "resultDir_I = rootDir_I + '05_result/'\n",
    "logDir_I = rootDir_I + '06_log/'"
   ]
  },
  {
   "cell_type": "code",
   "execution_count": null,
   "id": "ca022b26",
   "metadata": {},
   "outputs": [],
   "source": [
    "rootDir_II = 'L:/DATA/Alouette_I/BATCH_II_Run2/'\n",
    "resultDir_II = rootDir_II + '05_result/'\n",
    "logDir_II = rootDir_II + '06_log/'"
   ]
  },
  {
   "cell_type": "code",
   "execution_count": null,
   "id": "c8040d0c",
   "metadata": {},
   "outputs": [],
   "source": [
    "rootDir_tot = 'L:/DATA/Alouette_I/Total/'\n",
    "resultDir_tot = rootDir_tot + '05_result/'\n",
    "logDir_tot = rootDir_tot + '06_log/'"
   ]
  },
  {
   "cell_type": "code",
   "execution_count": null,
   "id": "adad4deb",
   "metadata": {},
   "outputs": [],
   "source": [
    "def analyze_batch(filename, batch_name, category_type, total_df, x): #x is for labelling distance\n",
    "    df = pd.read_csv (filename)\n",
    "    total = len(df)\n",
    "    print (f'Number of Images Analyzed in {batch_name}: {total}')\n",
    "    \n",
    "    #Batch Summary\n",
    "    df_filter = df.loc[df['Issue']!= 'None']\n",
    "    filtered_down = len (df_filter)\n",
    "    print (f' Number of Ionograms categorized correctly consistently in {batch_name}, {category_type}: {total - filtered_down}')\n",
    "    \n",
    "    #Success Rate:\n",
    "    success_rate = (total - filtered_down)/total\n",
    "    Estimation = round (success_rate * total_df)\n",
    "    print (f' Estimated success rate out of {batch_name} with {total_df} ionogram: {Estimation}')\n",
    "\n",
    "    \n",
    "    print ('Element Analysis:')\n",
    "    \n",
    "    categorical_columns = ['year','Day_1','Day_2','Day_3','Hour_1','Hour_2','Min_1',\n",
    "                       'Min_2','Sec_1','Sec_2','station_1','station_2']\n",
    "    accuracy_data = []\n",
    "    confidence_level = 0.95\n",
    "    z_score = 1.96 #norm.ppf(1-(1-confidence_level)/2)\n",
    "    \n",
    "    for column in categorical_columns:\n",
    "        col_sum = df[column].sum()\n",
    "        p = col_sum / total\n",
    "        accuracy_percent = p*100\n",
    "        sample_error = np.sqrt(p*(1-p)/total)*100\n",
    "        confidence_interval = z_score*sample_error\n",
    "        \n",
    "        print(f'Number of \"{column}\" element categorized correctly:' , col_sum)\n",
    "        print (f'Percent reading accuracy of the \"{column}\" element: {accuracy_percent:.2f}%')\n",
    "        print (f'Sample Error for \"{column}\" element: {sample_error:.2f}')\n",
    "        print (f'Confidence Interval for the \"{column}\" element: {confidence_interval:.2f}')\n",
    "        \n",
    "        accuracy_data.append ((column, accuracy_percent,sample_error, confidence_interval))\n",
    "        \n",
    "   \n",
    "    #plotting\n",
    "    fig = plt.figure(figsize = (10, 5))\n",
    "    categories, accuracies,sample_error, confidence_interval  = zip(*accuracy_data) \n",
    "    bar = plt.bar (categories, accuracies, color = '#2C74BE', edgecolor = '#2C74BE', alpha = 0.7)\n",
    "    lower_error = np.zeros_like(sample_error)\n",
    "    error_bar = plt.errorbar(categories, accuracies, yerr = (lower_error, confidence_interval), \n",
    "                         linestyle = '', capsize = 10, ecolor = 'black', elinewidth = 2,\n",
    "                         markeredgewidth = 2)\n",
    "    plt.ylim(70, 107)\n",
    "\n",
    "    plt.title (f\"% Reading accuracy of the {category_type} metadata elements in {batch_name}\", fontweight = 'bold')\n",
    "    plt.xlabel(f\"{category_type} metadata elements - {batch_name}\", fontweight = 'bold')\n",
    "    plt.ylabel(f\"Reading Accuracy (%)\", fontweight = 'bold')\n",
    "    plt.xticks(rotation=90)\n",
    "    plt.yticks (np.arange(70, 107, step = 10))\n",
    "    #creating a legend\n",
    "    legend_handles = [bar[0], error_bar]\n",
    "    legend_labels = ['% Reading Accuracy', 'Sample Error with 95% Confidence Interval (CI)']\n",
    "    plt.legend(legend_handles, legend_labels, loc = 'lower left', prop = {'weight':'bold'})\n",
    "\n",
    "    #adding numbers on top of the error bars and bars\n",
    "    for i, (bar_height, err_height, conf_interval) in enumerate (zip(accuracies, sample_error, confidence_interval)):\n",
    "        text_height = max(bar_height, bar_height+err_height)\n",
    "        if text_height >100:\n",
    "            text_height = 100\n",
    "        plus_minus = '\\u00B1' # used for +- symbol\n",
    "        err_text = f'{plus_minus}{conf_interval:.2f}'\n",
    "        plt.text(i, bar_height + err_height+ x ,f'{bar_height:.2f}\\n{err_text}',  ha = 'center', color = 'black', fontsize = 9, weight = 'bold')\n",
    "    plt.subplots_adjust(bottom = 0.25, top = 1.7, left = 0.1, right= 0.95)\n",
    "    plt.show()\n",
    "    return total - filtered_down, total"
   ]
  },
  {
   "cell_type": "markdown",
   "id": "c4b1e24d",
   "metadata": {},
   "source": [
    "## Num Category"
   ]
  },
  {
   "cell_type": "code",
   "execution_count": null,
   "id": "9c64fb97",
   "metadata": {},
   "outputs": [],
   "source": [
    "#Total Number of Num Categories\n",
    "df_I = pd.read_csv(resultDir_I + 'result_master.csv') #Batch I\n",
    "filter_df_I = df_I[df_I['processed_image_class']=='num']\n",
    "total_df_I = len(filter_df_I)\n",
    "print ('Total number of NUM Ionograms in Batch I:', total_df_I)\n",
    "\n",
    "df_II = pd.read_csv(resultDir_II + 'result_master.csv') #Batch II\n",
    "filter_df_II = df_II[df_II['processed_image_class']=='num']\n",
    "total_df_II = len(filter_df_II)\n",
    "print ('Total number of NUM Ionograms in Batch II :', total_df_II)\n",
    "\n",
    "Total_num = total_df_I + total_df_II #combining Batch I and Batch II num data\n",
    "print ('Total number of NUM Ionograms in both batches:', Total_num)"
   ]
  },
  {
   "cell_type": "markdown",
   "id": "44d1368f",
   "metadata": {},
   "source": [
    "### Batch I"
   ]
  },
  {
   "cell_type": "code",
   "execution_count": null,
   "id": "d35b4b14",
   "metadata": {
    "scrolled": true
   },
   "outputs": [],
   "source": [
    "n_BATCH_I_images_correct, n_BATCH_I_sample = analyze_batch (\"L:/DATA/Alouette_I/BATCH_I_Run2/07_Accuracy/BatchI_QA.csv\", 'Batch_I', 'NUM', total_df_I, 4.5)"
   ]
  },
  {
   "cell_type": "markdown",
   "id": "8148d23f",
   "metadata": {},
   "source": [
    "### Batch II"
   ]
  },
  {
   "cell_type": "code",
   "execution_count": null,
   "id": "bcc97699",
   "metadata": {},
   "outputs": [],
   "source": [
    " n_BATCH_II_images_correct , n_BATCH_II_sample = analyze_batch (\"L:/DATA/Alouette_I/BATCH_II_Run2/07_MQA/Batch2_QA_num.csv\", 'Batch_2', 'NUM',total_df_II, 5)"
   ]
  },
  {
   "cell_type": "markdown",
   "id": "7c5d58d6",
   "metadata": {},
   "source": [
    "### Total NUM category analysis"
   ]
  },
  {
   "cell_type": "code",
   "execution_count": null,
   "id": "0a0f48f9",
   "metadata": {
    "scrolled": false
   },
   "outputs": [],
   "source": [
    "sample_size = total_df_I + total_df_II\n",
    "print(sample_size)\n",
    "\n",
    "combined_accuracy_data = []\n",
    "for i in range(len(categorical_columns)):\n",
    "    column = categorical_columns [i]\n",
    "    combined accuracy = (n_BATCH_I_images_correct + n_BATCH_II_images_correct)/(n_BATCH_I_sample + n_BATCH_II_sample)\n",
    "    combined_sample_error = np.sqrt(combined_accuracy*(1-combined_accuracy)/sample_size)\n",
    "    combined_confidence_interval = z_score*combined_sample_error\n",
    "    combined_accuracy_data.append((column, combined_accuracy,combined_sample_error,  combined_confidence_interval))\n",
    "    \n",
    "#plotting the graph of batch I and II\n",
    "fig = plt.figure(figsize = (10, 5))\n",
    "categories, accuracies,sample_error, confidence_interval  = zip(*combined_accuracy_data) \n",
    "bar = plt.bar (categories, accuracies, color = '#2C74BE', edgecolor = '#2C74BE', alpha = 0.7)\n",
    "lower_error = np.zeros_like(sample_error)\n",
    "error_bar = plt.errorbar(categories, accuracies, yerr = (lower_error, confidence_interval), \n",
    "                         linestyle = '', capsize = 10, ecolor = 'black', elinewidth = 2,\n",
    "                         markeredgewidth = 2)\n",
    "plt.ylim(70, 105)\n",
    "plt.title (\"% Reading accuracy of the overall NUM metadata elements\", fontweight = 'bold')\n",
    "plt.xlabel(\"NUM metadata elements\",  fontweight = 'bold')\n",
    "plt.ylabel(\"Reading Accuracy (%)\",  fontweight = 'bold')\n",
    "plt.xticks(rotation=90)\n",
    "plt.yticks(np.arange(70, 105, step = 10))\n",
    "\n",
    "#adding a legend\n",
    "legend_handles = [bar[0], error_bar]\n",
    "legend_labels = ['% Reading Accuracy', 'Sample Error with 95% Confidence Interval (CI)']\n",
    "plt.legend(legend_handles, legend_labels, loc = 'lower left', prop = {'weight':'bold'})\n",
    "\n",
    "#adding numbers on top of the error bars and bars\n",
    "for i, (bar_height, err_height, conf_interval) in enumerate (zip(accuracies, sample_error, confidence_interval)):\n",
    "    text_height = max(bar_height, bar_height+err_height)\n",
    "    if text_height >100:\n",
    "        text_height = 100\n",
    "    plus_minus = '\\u00B1' # used for +- symbol\n",
    "    err_text = f'{plus_minus}{conf_interval:.2f}'\n",
    "    plt.text(i, bar_height + err_height+ 4 ,f'{bar_height:.2f}\\n{err_text}',  ha = 'center', color = 'black', fontsize = 9, weight = 'bold')\n",
    "plt.subplots_adjust(bottom = 0.25, top = 1.7, left = 0.1, right= 0.95)\n",
    "plt.show()\n",
    "                                                                  "
   ]
  },
  {
   "cell_type": "markdown",
   "id": "65dbda6e",
   "metadata": {},
   "source": [
    "## NUM2 category"
   ]
  },
  {
   "cell_type": "code",
   "execution_count": null,
   "id": "ef0cdb36",
   "metadata": {},
   "outputs": [],
   "source": [
    "#Total Number of Num Categories\n",
    "df_num2_1 = pd.read_csv(resultDir_I + 'result_master.csv') #Batch I\n",
    "filter_df_num2_1 = df_num2_1[df_num2_1['processed_image_class']=='num2']\n",
    "total_df_num2_1 = len(filter_df_num2_1)\n",
    "print ('Total number of NUM2 Ionograms in Batch I:', total_df_num2_1)\n",
    "\n",
    "df_num2_II = pd.read_csv(resultDir_II + 'result_master.csv') #Batch II\n",
    "filter_df_num2_II = df_num2_II[df_num2_II['processed_image_class']=='num2']\n",
    "total_df_num2_II = len(filter_df_num2_II)\n",
    "print ('Total number of NUM2 Ionograms in Batch II :', total_df_num2_II)\n",
    "\n",
    "df_num2_total = pd.read_csv(resultDir_tot + 'result_master.csv')\n",
    "filter_df_total= df_num2_total[df_num2_total['processed_image_class']=='num2']\n",
    "total_df_num2 = len(filter_df_total)\n",
    "print('Total number of NUM2 Ionograms in both batches:', total_df_num2)"
   ]
  },
  {
   "cell_type": "markdown",
   "id": "a9566e93",
   "metadata": {},
   "source": [
    "### Batch I"
   ]
  },
  {
   "cell_type": "code",
   "execution_count": null,
   "id": "d35c9c3f",
   "metadata": {},
   "outputs": [],
   "source": [
    "analyze_batch (\"L:/DATA/Alouette_I/BATCH_I_Run2/07_Accuracy/BatchI_num2_QA.csv\", 'Batch_I', 'NUM2', total_df_num2_1, 4)"
   ]
  },
  {
   "cell_type": "markdown",
   "id": "f46220ae",
   "metadata": {},
   "source": [
    "###  Batch II"
   ]
  },
  {
   "cell_type": "code",
   "execution_count": null,
   "id": "ffa660f6",
   "metadata": {},
   "outputs": [],
   "source": [
    "analyze_batch (\"L:/DATA/Alouette_I/BATCH_II_Run2/07_MQA/Batch2_QA_num2.csv\", 'Batch_II', 'NUM2', total_df_num2_II, 6)"
   ]
  },
  {
   "cell_type": "markdown",
   "id": "7fe0fb76",
   "metadata": {},
   "source": [
    "### Total NUM2 Category"
   ]
  },
  {
   "cell_type": "code",
   "execution_count": null,
   "id": "db820082",
   "metadata": {},
   "outputs": [],
   "source": [
    "combined_accuracy_data_num2 = []\n",
    "for i in range(len(categorical_columns)):\n",
    "    column = categorical_columns [i]\n",
    "    combined_accuracy =(accuracy_data_num2_I[i][1] + accuracy_data_num2_II[i][1])/2\n",
    "    combined_sample_error = np.sqrt((accuracy_data_num2_I[i][2]**2 + accuracy_data_num2_II[i][2]**2)/2)\n",
    "    combined_confidence_interval = z_score * combined_sample_error\n",
    "    \n",
    "    combined_accuracy_data_num2.append((column, combined_accuracy,combined_sample_error,  combined_confidence_interval))\n",
    "    \n",
    "    \n",
    "#plotting the graph of batch I and II\n",
    "fig = plt.figure (figsize= (10, 5))\n",
    "categories, accuracies, sample_error, confidence_interval = zip(*combined_accuracy_data_num2)\n",
    "bar = plt.bar (categories, accuracies, color = '#2C74BE', edgecolor = '#2C74BE', alpha = 0.7)\n",
    "lower_error = np.zeros_like(sample_error)\n",
    "error_bar = plt.errorbar(categories, accuracies, yerr = (lower_error, confidence_interval), \n",
    "                         linestyle = '', capsize = 10, ecolor = 'black', elinewidth = 2,\n",
    "                         markeredgewidth = 2)\n",
    "\n",
    "plt.ylim(70, 106)\n",
    "plt.title (\"% Reading accuracy of the overall NUM2 metadata elements\", fontweight = 'bold')\n",
    "plt.xlabel(\"NUM2 metadata elements\",  fontweight = 'bold')\n",
    "plt.ylabel(\"Reading Accuracy (%)\",  fontweight = 'bold')\n",
    "plt.xticks(rotation=90)\n",
    "plt.yticks(np.arange(70, 105, step = 10))\n",
    "\n",
    "#adding a legend\n",
    "legend_handles = [bar[0], error_bar]\n",
    "legend_labels = ['% Reading Accuracy', 'Sample Error with 95% Confidence Interval (CI)']\n",
    "plt.legend(legend_handles, legend_labels, loc = 'lower left', prop = {'weight':'bold'})\n",
    "\n",
    "#adding numbers on top of the error bars and bars\n",
    "for i, (bar_height, err_height, conf_interval) in enumerate (zip(accuracies, sample_error, confidence_interval)):\n",
    "    text_height = max(bar_height, bar_height+err_height)\n",
    "    if text_height >100:\n",
    "        text_height = 100\n",
    "    plus_minus = '\\u00B1' # used for +- symbol\n",
    "    err_text = f'{plus_minus}{conf_interval:.2f}'\n",
    "    plt.text(i, bar_height + err_height+ 6.3, f'{bar_height:.2f}\\n{err_text}',  ha = 'center', color = 'black', fontsize = 9, weight = 'bold')\n",
    "plt.subplots_adjust(bottom = 0.25, top = 1.7 , left = 0.1, right= 0.95)\n",
    "plt.show()\n",
    "\n",
    "             "
   ]
  },
  {
   "cell_type": "markdown",
   "id": "82e3f70d",
   "metadata": {},
   "source": [
    "## Dot category"
   ]
  },
  {
   "cell_type": "code",
   "execution_count": null,
   "id": "54c5d9e2",
   "metadata": {},
   "outputs": [],
   "source": [
    "df_dot_I = pd.read_csv(resultDir_I + 'result_master.csv') #Batch I\n",
    "filter_df_dot_I = df_dot_I[df_dot_I['processed_image_class']=='dot']\n",
    "total_df_dot_I= len(filter_df_dot_I)\n",
    "print ('Total number of dot Ionograms in BATCH I:', total_df_dot_I)\n",
    "\n",
    "df_dot_II = pd.read_csv(resultDir_II + 'result_master.csv') #Batch II\n",
    "filter_df_dot_II = df_dot_II[df_dot_II['processed_image_class']=='dot']\n",
    "total_df_dot_II = len(filter_df_dot_II)\n",
    "print ('Total number of dot Ionograms in BATCH II:', total_df_dot_II)\n",
    "\n",
    "Total_dot = total_df_dot_I + total_df_dot_II  #combining Batch I and Batch II num data\n",
    "print ('Total dot ionograms in Batch I and II: ', Total_dot)"
   ]
  },
  {
   "cell_type": "code",
   "execution_count": null,
   "id": "9ec91709",
   "metadata": {},
   "outputs": [],
   "source": [
    "#Batch I\n",
    "df_dot_I = pd.read_csv(\"L:/DATA/Alouette_I/BATCH_I_Run2/07_Accuracy/BatchI_dot_QA.csv\")\n",
    "total_dot_I = len(df_dot_I)\n",
    "print('Number of dot Ionograms Analyzed:', total_dot_I)\n",
    "\n",
    "# filtering out correct categories\n",
    "df_dot_I= df_dot_I.loc[df_dot_I['Issue'] != 'None']\n",
    "filtered_down_dot_I = len(df_dot_I)\n",
    "print('Number of ionograms categorized correctly:', total_dot_I - filtered_down_dot_I)\n",
    "\n",
    "#Estimated success rate\n",
    "success_rate = (total_dot_I - filtered_down_dot_I)/total_dot_I\n",
    "Estimation = round(success_rate*total_df_dot_I)\n",
    "print('Estimated Success Rate out of 7784 with consistent results:', Estimation)\n",
    "\n",
    "#Plotting the variation of issues\n",
    "issue_counts_dot_I = df_dot_I[\"Issue\"].value_counts()\n",
    "plt.bar(issue_counts_dot_I.index, issue_counts_dot_I.values)\n",
    "plt.title (\"Variation error of Batch I dot ionograms\")\n",
    "plt.xlabel(\"Type of Issue\")\n",
    "plt.ylabel(\"Number of Issues\")\n",
    "plt.xticks(rotation=90)\n",
    "plt.show()\n",
    "\n",
    "# Number of All categories error\n",
    "df_dot_I = df_dot_I.loc[df_dot_I['Issue'] == 'All categories']\n",
    "print(df_dot_I.loc[:,[\"Directory\",\"Subdirectory\", \"Filename\"]])\n"
   ]
  },
  {
   "cell_type": "code",
   "execution_count": null,
   "id": "f0ce3490",
   "metadata": {},
   "outputs": [],
   "source": [
    "#Batch II\n",
    "df_dot_II = pd.read_csv(\"L:/DATA/Alouette_I/BATCH_II_Run2/07_MQA/Batch2_QA_dot.csv\")\n",
    "total_dot_II = len(df_dot_II)\n",
    "print ('Number of Images Analyzed:', total_dot_II)\n",
    "filtered_down_dot_II = 0 #no ionogram was analyzed correctly\n",
    "print('Number of Ionograms Analyzed correctly:',filtered_down_dot_II)\n",
    "\n",
    "#Estimated success rate\n",
    "success_rate = filtered_down_dot_II/total_dot_II\n",
    "Estimation = success_rate*total_df_dot_II\n",
    "print('Estimated Success Rate out of 4481 with consistent results:', Estimation)\n",
    "\n",
    "#Plotting the variation of issues\n",
    "issue_counts_dot_II = df_dot_II[\"Issue\"].value_counts()\n",
    "plt.bar(issue_counts_dot_II.index, issue_counts_dot_II.values)\n",
    "plt.title (\"Variation error of dot Ionograms in Batch II\")\n",
    "plt.xlabel(\"Type of Issue\")\n",
    "plt.ylabel(\"Number of Issues\")\n",
    "plt.xticks(rotation=90)\n",
    "plt.show()\n",
    "\n",
    "# filtering out correct categories\n",
    "df_dot_II = df_dot_II.loc[df_dot_II['Issue'] == 'All categories']\n",
    "filtered_down_dot_II = len(df_dot_II)\n",
    "print('Number of NUM/NUM2 ionograms categorized as dot data by the algorithm:', filtered_down_dot_II)\n",
    "print(df_dot_II.loc[:,[\"Directory\",\"Subdirectory\", \"filename\"]])"
   ]
  },
  {
   "cell_type": "code",
   "execution_count": null,
   "id": "b96d6d71",
   "metadata": {},
   "outputs": [],
   "source": [
    "#Total Dot image analysis:\n",
    "Image_total_dot = total_dot_I + total_dot_II\n",
    "print ('Total number of DOT Ionograms in BATCH I and II analyzed:', Image_total_dot)\n",
    "\n",
    "Correct_total_dot = (total_dot_I - filtered_down_dot_I) + (total_dot_II - filtered_down_dot_II)\n",
    "print ('Total number of Dot Ionograms in BATCH II and II analyzed correctly: ', Correct_total_dot)\n",
    "\n",
    "#Estimated success rate\n",
    "Estimation  = round(Correct_total_dot*Image_total_dot/Total_dot)\n",
    "print('Estimated Success Rate of Total Dot with 12,265 ionograms:', Estimation)\n",
    "\n",
    "#Percent certaintly\n",
    "percent_tot_dot = Estimation*100/Total_dot\n",
    "print('Estimated Percent certainty:' , percent_tot_dot)"
   ]
  },
  {
   "cell_type": "markdown",
   "id": "c2406d7c",
   "metadata": {},
   "source": [
    "## Overall summary across all categories"
   ]
  },
  {
   "cell_type": "code",
   "execution_count": null,
   "id": "398e0510",
   "metadata": {},
   "outputs": [],
   "source": [
    "data = [\n",
    "    {\n",
    "        'Category': 'num',\n",
    "        'Image_processed': 579054,\n",
    "        'Image_manually_read': 99,\n",
    "        'Estimated_correct_read': 529689,#estimation out of total num data\n",
    "        '%Image_read_correctly':94,\n",
    "        'p': 0,\n",
    "\n",
    "    },\n",
    "    \n",
    "    {\n",
    "        'Category': 'dot',\n",
    "        'Image_processed':12265,\n",
    "        'Image_manually_read': 25,\n",
    "        'Estimated_correct_read': 0, #estimation out of total dot data\n",
    "        '%Image_read_correctly':0,\n",
    "    },\n",
    "    {\n",
    "      'Category': 'num2',\n",
    "        'Image_processed':126073,\n",
    "        'Image_manually_read': 70,\n",
    "        'Estimated_correct_read': 105061, #estimation out of total num2 data\n",
    "        '%Image_read_correctly':90 ,\n",
    "    }\n",
    "    \n",
    "]\n",
    "\n",
    "confidence_interval = 0.95\n",
    "z_score = 1.96 #norm.ppf(1-(1-confidence_interval)/2)\n",
    "\n",
    "for category in data: \n",
    "    image_processed = category['Image_processed']\n",
    "    images_manually_read = category ['Image_manually_read']\n",
    "    estimated_correct_read = category ['Estimated_correct_read']\n",
    "    percent_accuracy =  category ['%Image_read_correctly']\n",
    "    p = estimated_correct_read/image_processed\n",
    "    sample_error = np.sqrt(p*(1-p)/image_processed)*100\n",
    "    confidence_interval = z_score + sample_error\n",
    "    \n",
    "    category['Sample_error'] = sample_error\n",
    "    category['Confidence_interval'] = confidence_interval\n",
    "    \n",
    "for category in data: \n",
    "    print(f\"Category:{category['Category']}\")\n",
    "    print(f\"Images Processed:{category['Image_processed']}\")\n",
    "    print(f\"Images manually read:{category['Image_manually_read']}\")\n",
    "    print(f\"Estimated correct reading out of total ionograms in the category:{category['Estimated_correct_read']}\")\n",
    "    print(f\"Percent of images read correctly:{category['%Image_read_correctly']:.2f}\")\n",
    "    print(f\"Sample Error:{category['Sample_error']:.2f}\")\n",
    "    print(f\"Confidence Interval:{category['Confidence_interval']:.2f}\\n\")\n",
    "    \n",
    "    \n",
    "    \n",
    "    "
   ]
  },
  {
   "cell_type": "code",
   "execution_count": null,
   "id": "878bbb54",
   "metadata": {},
   "outputs": [],
   "source": []
  },
  {
   "cell_type": "code",
   "execution_count": null,
   "id": "4debd1fd",
   "metadata": {},
   "outputs": [],
   "source": []
  }
 ],
 "metadata": {
  "kernelspec": {
   "display_name": "Python 3",
   "language": "python",
   "name": "python3"
  },
  "language_info": {
   "codemirror_mode": {
    "name": "ipython",
    "version": 3
   },
   "file_extension": ".py",
   "mimetype": "text/x-python",
   "name": "python",
   "nbconvert_exporter": "python",
   "pygments_lexer": "ipython3",
   "version": "3.8.8"
  }
 },
 "nbformat": 4,
 "nbformat_minor": 5
}

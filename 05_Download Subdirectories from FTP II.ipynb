{
 "cells": [
  {
   "cell_type": "markdown",
   "id": "fd645f8c",
   "metadata": {},
   "source": [
    "# Download Subdirectories From FTP II\n",
    "\n",
    "#### Updated: Dec 17, 2022"
   ]
  },
  {
   "cell_type": "markdown",
   "id": "d3798335",
   "metadata": {},
   "source": [
    "#  "
   ]
  },
  {
   "cell_type": "markdown",
   "id": "9055087e",
   "metadata": {},
   "source": [
    "Run for continuous downloading of subdirectories, concurrent with processing of subdirectories."
   ]
  },
  {
   "cell_type": "code",
   "execution_count": null,
   "id": "d6de9e17",
   "metadata": {},
   "outputs": [],
   "source": [
    "import pandas as pd\n",
    "import os\n",
    "import shutil\n",
    "import time\n",
    "from datetime import datetime\n",
    "import ftplib\n",
    "from random import randrange"
   ]
  },
  {
   "cell_type": "markdown",
   "id": "7c3e78f2",
   "metadata": {},
   "source": [
    "Set parameters:"
   ]
  },
  {
   "cell_type": "code",
   "execution_count": null,
   "id": "43406be9",
   "metadata": {},
   "outputs": [],
   "source": [
    "user = 'Rav'\n",
    "process_on_VDI = True\n",
    "wait = 5 #in minutes\n",
    "stop_loop_threshold = 2640 #max while loops to prevent infinite loop"
   ]
  },
  {
   "cell_type": "markdown",
   "id": "b234ebc6",
   "metadata": {},
   "source": [
    "Set directories:"
   ]
  },
  {
   "cell_type": "code",
   "execution_count": null,
   "id": "51339016",
   "metadata": {},
   "outputs": [],
   "source": [
    "rootDir_local = 'C:/Users/rnaidoo/Documents/Projects_data/Alouette_I/' #files on C:/ are not persistent on VDI\n",
    "downloadingDir = rootDir_local + '01_downloading/'\n",
    "downloadedDir = rootDir_local + '02_downloaded/'\n",
    "if process_on_VDI:\n",
    "    logDir = 'L:/DATA/Alouette_I/06_log/' #DO NOT CHANGE\n",
    "else:\n",
    "    logDir = rootDir_local + '06_log/'"
   ]
  },
  {
   "cell_type": "markdown",
   "id": "e9507f0f",
   "metadata": {},
   "source": [
    "#  "
   ]
  },
  {
   "cell_type": "markdown",
   "id": "0e9ad843",
   "metadata": {},
   "source": [
    "#### Functions:"
   ]
  },
  {
   "cell_type": "code",
   "execution_count": null,
   "id": "0d1e09d2",
   "metadata": {},
   "outputs": [],
   "source": [
    "def move_images(old_dir, new_dir, roll, subdir, copy_to_other_drive=False):\n",
    "    oldDir = old_dir + roll + '/' + subdir + '/'\n",
    "    newDir = new_dir + roll + '/' + subdir + '/'\n",
    "    os.makedirs(newDir, exist_ok=True)\n",
    "    \n",
    "    if copy_to_other_drive:\n",
    "        for file in os.listdir(oldDir):\n",
    "            shutil.copyfile(oldDir+file, newDir+file)\n",
    "    else:\n",
    "        for file in os.listdir(oldDir):\n",
    "            os.rename(oldDir+file, newDir+file)\n",
    "    \n",
    "    shutil.rmtree(old_dir + roll + '/' + subdir + '/')\n",
    "    if len(os.listdir(old_dir + roll + '/')) == 0:\n",
    "        shutil.rmtree(old_dir + roll + '/')"
   ]
  },
  {
   "cell_type": "code",
   "execution_count": null,
   "id": "384d3fd2",
   "metadata": {},
   "outputs": [],
   "source": [
    "def draw_random_subdir(roll, subdir_list, logDir):\n",
    "    \n",
    "    subdirectory = subdir_list[randrange(len(subdir_list))]\n",
    "    \n",
    "    #Check randomly-selected roll and subdirectory against the 'download_log'\n",
    "    if os.path.exists(logDir + 'download_log.csv'):\n",
    "        df_log = pd.read_csv(logDir + 'download_log.csv')\n",
    "        df_search = df_log.loc[(df_log['Roll'] == roll) & (df_log['Subdirectory'] == subdirectory)]\n",
    "        if len(df_search) > 0:\n",
    "            print(roll + '/' + subdirectory + ' already downloaded!')\n",
    "            return ''\n",
    "        else:\n",
    "            return subdirectory\n",
    "    else:\n",
    "        return subdirectory"
   ]
  },
  {
   "cell_type": "code",
   "execution_count": null,
   "id": "dac18b46",
   "metadata": {},
   "outputs": [],
   "source": [
    "def draw_random_subdir2(subdir_ids_list, logDir):\n",
    "    \n",
    "    subdir_id = subdir_ids_list[randrange(len(subdir_ids_list))]\n",
    "    subdir_id_parts = subdir_id.split('_')\n",
    "    roll = subdir_id_parts[0]\n",
    "    subdirectory = subdir_id_parts[1]\n",
    "    \n",
    "    #Check randomly-selected roll and subdirectory against the 'download_log'\n",
    "    if os.path.exists(logDir + 'download_log.csv'):\n",
    "        df_log = pd.read_csv(logDir + 'download_log.csv')\n",
    "        df_search = df_log.loc[(df_log['Roll'] == roll) & (df_log['Subdirectory'] == subdirectory)]\n",
    "        if len(df_search) > 0:\n",
    "            print(roll + '/' + subdirectory + ' already downloaded!')\n",
    "            return ''\n",
    "        else:\n",
    "            return roll, subdirectory\n",
    "    else:\n",
    "        return roll, subdirectory\n",
    "    "
   ]
  },
  {
   "cell_type": "markdown",
   "id": "d689a9a9",
   "metadata": {},
   "source": [
    "#  "
   ]
  },
  {
   "cell_type": "markdown",
   "id": "093ae2bd",
   "metadata": {},
   "source": [
    "#### Check if subdirectory needs to be downloaded, then download random subdirectory:"
   ]
  },
  {
   "cell_type": "code",
   "execution_count": null,
   "id": "3c8cb08d",
   "metadata": {},
   "outputs": [],
   "source": [
    "stop_condition = False\n",
    "stop_condition_counter = 0\n",
    "\n",
    "while stop_condition == False:\n",
    "    #Download a random subdirectory if '02_downloaded' is empty\n",
    "    if len(os.listdir(downloadedDir)) == 0:\n",
    "        # Connect to FTP Server\n",
    "        HOSTNAME = \"donnees-data.asc-csa.gc.ca\"\n",
    "        USERNAME = \"Anonymous\"\n",
    "        PASSWORD = \"\"\n",
    "        ftp = ftplib.FTP(HOSTNAME, USERNAME, PASSWORD)\n",
    "        print('Connected to ftp server: ' + HOSTNAME)\n",
    "        ftp_rootpath = '/users/OpenData_DonneesOuvertes/pub/AlouetteData/Alouette Data/'\n",
    "\n",
    "        #Randomly draw roll and subdirectory (using draw_random_subdir2())\n",
    "        df_inventory = pd.read_csv(logDir + 'image_inventory.csv')\n",
    "        subdir_ids_tot = df_inventory['subdir_id'].unique()\n",
    "        if os.path.exists(logDir + 'download_log.csv'):\n",
    "            df_log = pd.read_csv(logDir + 'download_log.csv')\n",
    "            subdir_ids_dl = df_log['subdir_id'].unique()\n",
    "        else:\n",
    "            subdir_ids_dl = []\n",
    "        subdir_ids_rem = list(set(subdir_ids_tot) - set(subdir_ids_dl))\n",
    "        roll, subdirectory = draw_random_subdir2(subdir_ids_list=subdir_ids_rem, logDir=logDir)\n",
    "\n",
    "        #Set directories\n",
    "        saveDir = downloadingDir + roll + '/' + subdirectory + '/'\n",
    "        os.makedirs(saveDir, exist_ok=True)\n",
    "        ftp.cwd(ftp_rootpath + '/' + roll + '/' + subdirectory + '/')\n",
    "\n",
    "        start = time.time()\n",
    "        n_dl = len(ftp.nlst())\n",
    "        print('')\n",
    "        print('Downloading ' + roll + '/' + subdirectory + '/ subdirectory ('  + str(n_dl) + ' images, ' + str(len(subdir_ids_rem)-1) + ' subdirectories to go)')\n",
    "        for file in ftp.nlst():\n",
    "            local_file = open(saveDir + file, \"wb\")\n",
    "            ftp.retrbinary(\"RETR \" + file, local_file.write)\n",
    "            local_file.close()\n",
    "            #print('Downloaded: ' + file)\n",
    "        end = time.time()\n",
    "        t = end - start\n",
    "        print('Download time for subdirectory: ' + str(round(t/60, 1)) + ' min')\n",
    "        print('')\n",
    "\n",
    "        #Record subdirectory name in download_log\n",
    "        df_result = pd.DataFrame({\n",
    "            'Roll': roll,\n",
    "            'Subdirectory': subdirectory,\n",
    "            'Images_downloaded': n_dl,\n",
    "            'Download_time': t,\n",
    "            'Download_timestamp': datetime.fromtimestamp(end),\n",
    "            'User': user,\n",
    "            'subdir_id': roll + '_' + subdirectory\n",
    "        }, index=[0])\n",
    "        if os.path.exists(logDir + 'download_log.csv'):\n",
    "            df_log = pd.read_csv(logDir + 'download_log.csv')\n",
    "            df_update = pd.concat([df_log, df_result], axis=0, ignore_index=True)\n",
    "            df_update.to_csv(logDir + 'download_log.csv', index=False)\n",
    "        else:\n",
    "            df_result.to_csv(logDir + 'download_log.csv', index=False)\n",
    "\n",
    "        #Backup 'download_log' (10% of the time)\n",
    "        if randrange(10) == 7:\n",
    "            df_log = pd.read_csv(logDir + 'download_log.csv')\n",
    "            datetime_str = datetime.now().strftime(\"%Y%m%d_%Hh%M\")\n",
    "            os.makedirs(logDir + 'backups/', exist_ok=True)\n",
    "            df_log.to_csv(logDir + 'backups/' + 'download_log-' + datetime_str + '.csv', index=False)\n",
    "\n",
    "        #Move fully downloaded subdirectory to '02_processing' folder\n",
    "        move_images(old_dir=downloadingDir, new_dir=downloadedDir, roll=roll, subdir=subdirectory)\n",
    "        \n",
    "        stop_condition_counter += 1\n",
    "    \n",
    "    else:\n",
    "        #Wait\n",
    "        print('Wait ' + str(wait) + ' min')\n",
    "        time.sleep(wait*60)\n",
    "    \n",
    "    \n",
    "    #Check stop conditions\n",
    "    if len(subdir_ids_rem) == 1:\n",
    "        print('Stop!')\n",
    "        stop_condition = True\n",
    "    if stop_condition_counter == stop_loop_threshold:\n",
    "        print('Stop!')\n",
    "        stop_condition = True\n",
    "        "
   ]
  }
 ],
 "metadata": {
  "kernelspec": {
   "display_name": "Python 3",
   "language": "python",
   "name": "python3"
  },
  "language_info": {
   "codemirror_mode": {
    "name": "ipython",
    "version": 3
   },
   "file_extension": ".py",
   "mimetype": "text/x-python",
   "name": "python",
   "nbconvert_exporter": "python",
   "pygments_lexer": "ipython3",
   "version": "3.8.8"
  }
 },
 "nbformat": 4,
 "nbformat_minor": 5
}

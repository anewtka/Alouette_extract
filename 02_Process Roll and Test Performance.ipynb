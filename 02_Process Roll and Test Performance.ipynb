{
 "cells": [
  {
   "cell_type": "markdown",
   "id": "086192d4",
   "metadata": {},
   "source": [
    "# Process Roll and Test Performance\n",
    "\n",
    "#### Updated: Dec 2, 2022"
   ]
  },
  {
   "cell_type": "markdown",
   "id": "f5684529",
   "metadata": {},
   "source": [
    "#  "
   ]
  },
  {
   "cell_type": "markdown",
   "id": "29dce79e",
   "metadata": {},
   "source": [
    "Process one random roll and test performance. Compare performance between local processing on CSA laptop with VDI HP (CSA performant virtual machine). "
   ]
  },
  {
   "cell_type": "code",
   "execution_count": 1,
   "id": "12ebc7ea",
   "metadata": {},
   "outputs": [],
   "source": [
    "import pandas as pd\n",
    "import os\n",
    "import time\n",
    "from datetime import datetime"
   ]
  },
  {
   "cell_type": "code",
   "execution_count": 2,
   "id": "9d5bc5f2",
   "metadata": {},
   "outputs": [],
   "source": [
    "import warnings\n",
    "warnings.filterwarnings('ignore')"
   ]
  },
  {
   "cell_type": "code",
   "execution_count": 3,
   "id": "e4b15524",
   "metadata": {},
   "outputs": [],
   "source": [
    "dataDir = 'C:/Users/rnaidoo/Documents/Projects_data/Alouette_I/01_intake/'\n",
    "outputDir = 'C:/Users/rnaidoo/Documents/Projects_data/Alouette_I/02_result/'"
   ]
  },
  {
   "cell_type": "markdown",
   "id": "06dd54e4",
   "metadata": {},
   "source": [
    "#  "
   ]
  },
  {
   "cell_type": "markdown",
   "id": "4614afa0",
   "metadata": {},
   "source": [
    "Process by roll:"
   ]
  },
  {
   "cell_type": "code",
   "execution_count": 4,
   "id": "184de737",
   "metadata": {},
   "outputs": [],
   "source": [
    "rollnames = []\n",
    "for file in os.listdir(dataDir):\n",
    "    if 'R' in file:\n",
    "        rollnames.append(file)"
   ]
  },
  {
   "cell_type": "code",
   "execution_count": 5,
   "id": "351909dc",
   "metadata": {
    "scrolled": true
   },
   "outputs": [
    {
     "name": "stdout",
     "output_type": "stream",
     "text": [
      "Runtime: 2.1 min\n"
     ]
    }
   ],
   "source": [
    "if len(rollnames) == 1:\n",
    "    start = time.time()\n",
    "    !python scan2data/user_input.py $dataDir $outputDir\n",
    "    end = time.time()\n",
    "    t = end - start\n",
    "    print('Runtime: ' + str(round(t/60, 1)) + ' min')"
   ]
  },
  {
   "cell_type": "markdown",
   "id": "1b94ee43",
   "metadata": {},
   "source": [
    "Record performance:"
   ]
  },
  {
   "cell_type": "code",
   "execution_count": 6,
   "id": "ba89c7b0",
   "metadata": {},
   "outputs": [
    {
     "name": "stdout",
     "output_type": "stream",
     "text": [
      "Process Rate: 0.8 images/s\n"
     ]
    }
   ],
   "source": [
    "df_num = pd.read_csv(outputDir + 'num_data.csv')\n",
    "df_loss = pd.read_csv(outputDir + 'loss.csv')\n",
    "df_outlier = pd.read_csv(outputDir + 'outlier.csv')\n",
    "n_num = len(df_num)\n",
    "n_loss = len(df_loss)\n",
    "n_outlier = len(df_outlier)\n",
    "images_processed = n_num + n_loss + n_outlier\n",
    "print('Process Rate: ' + str(round(images_processed/t, 1)) + ' images/s')"
   ]
  },
  {
   "cell_type": "code",
   "execution_count": 7,
   "id": "68136030",
   "metadata": {},
   "outputs": [],
   "source": [
    "df_result = pd.DataFrame({\n",
    "    'Roll': rollnames[0],\n",
    "    'Processing_Time': t,\n",
    "    'Images_processed': images_processed,\n",
    "    'Process_timestamp': datetime.fromtimestamp(end)\n",
    "}, index=[0])"
   ]
  },
  {
   "cell_type": "code",
   "execution_count": 8,
   "id": "03dab12a",
   "metadata": {},
   "outputs": [
    {
     "data": {
      "text/html": [
       "<div>\n",
       "<style scoped>\n",
       "    .dataframe tbody tr th:only-of-type {\n",
       "        vertical-align: middle;\n",
       "    }\n",
       "\n",
       "    .dataframe tbody tr th {\n",
       "        vertical-align: top;\n",
       "    }\n",
       "\n",
       "    .dataframe thead th {\n",
       "        text-align: right;\n",
       "    }\n",
       "</style>\n",
       "<table border=\"1\" class=\"dataframe\">\n",
       "  <thead>\n",
       "    <tr style=\"text-align: right;\">\n",
       "      <th></th>\n",
       "      <th>Roll</th>\n",
       "      <th>Processing_Time</th>\n",
       "      <th>Images_processed</th>\n",
       "      <th>Process_timestamp</th>\n",
       "    </tr>\n",
       "  </thead>\n",
       "  <tbody>\n",
       "    <tr>\n",
       "      <th>0</th>\n",
       "      <td>R014207824</td>\n",
       "      <td>125.133207</td>\n",
       "      <td>99</td>\n",
       "      <td>2022-12-02 20:16:11.227465</td>\n",
       "    </tr>\n",
       "  </tbody>\n",
       "</table>\n",
       "</div>"
      ],
      "text/plain": [
       "         Roll  Processing_Time  Images_processed          Process_timestamp\n",
       "0  R014207824       125.133207                99 2022-12-02 20:16:11.227465"
      ]
     },
     "execution_count": 8,
     "metadata": {},
     "output_type": "execute_result"
    }
   ],
   "source": [
    "df_result"
   ]
  },
  {
   "cell_type": "code",
   "execution_count": 9,
   "id": "a83efa1f",
   "metadata": {},
   "outputs": [
    {
     "ename": "PermissionError",
     "evalue": "[Errno 13] Permission denied: 'C:/Users/rnaidoo/Documents/Projects_data/Alouette_I/02_result/'",
     "output_type": "error",
     "traceback": [
      "\u001b[1;31m---------------------------------------------------------------------------\u001b[0m",
      "\u001b[1;31mPermissionError\u001b[0m                           Traceback (most recent call last)",
      "\u001b[1;32m<ipython-input-9-f6df36fe4023>\u001b[0m in \u001b[0;36m<module>\u001b[1;34m\u001b[0m\n\u001b[0;32m      4\u001b[0m     \u001b[0mdf_update\u001b[0m\u001b[1;33m.\u001b[0m\u001b[0mto_csv\u001b[0m\u001b[1;33m(\u001b[0m\u001b[0moutputDir\u001b[0m\u001b[1;33m,\u001b[0m \u001b[0mindex\u001b[0m\u001b[1;33m=\u001b[0m\u001b[1;32mFalse\u001b[0m\u001b[1;33m)\u001b[0m\u001b[1;33m\u001b[0m\u001b[1;33m\u001b[0m\u001b[0m\n\u001b[0;32m      5\u001b[0m \u001b[1;32melse\u001b[0m\u001b[1;33m:\u001b[0m\u001b[1;33m\u001b[0m\u001b[1;33m\u001b[0m\u001b[0m\n\u001b[1;32m----> 6\u001b[1;33m     \u001b[0mdf_result\u001b[0m\u001b[1;33m.\u001b[0m\u001b[0mto_csv\u001b[0m\u001b[1;33m(\u001b[0m\u001b[0moutputDir\u001b[0m\u001b[1;33m,\u001b[0m \u001b[0mindex\u001b[0m\u001b[1;33m=\u001b[0m\u001b[1;32mFalse\u001b[0m\u001b[1;33m)\u001b[0m\u001b[1;33m\u001b[0m\u001b[1;33m\u001b[0m\u001b[0m\n\u001b[0m",
      "\u001b[1;32mc:\\DevSoftware\\Anaconda38\\lib\\site-packages\\pandas\\core\\generic.py\u001b[0m in \u001b[0;36mto_csv\u001b[1;34m(self, path_or_buf, sep, na_rep, float_format, columns, header, index, index_label, mode, encoding, compression, quoting, quotechar, line_terminator, chunksize, date_format, doublequote, escapechar, decimal, errors, storage_options)\u001b[0m\n\u001b[0;32m   3385\u001b[0m         )\n\u001b[0;32m   3386\u001b[0m \u001b[1;33m\u001b[0m\u001b[0m\n\u001b[1;32m-> 3387\u001b[1;33m         return DataFrameRenderer(formatter).to_csv(\n\u001b[0m\u001b[0;32m   3388\u001b[0m             \u001b[0mpath_or_buf\u001b[0m\u001b[1;33m,\u001b[0m\u001b[1;33m\u001b[0m\u001b[1;33m\u001b[0m\u001b[0m\n\u001b[0;32m   3389\u001b[0m             \u001b[0mline_terminator\u001b[0m\u001b[1;33m=\u001b[0m\u001b[0mline_terminator\u001b[0m\u001b[1;33m,\u001b[0m\u001b[1;33m\u001b[0m\u001b[1;33m\u001b[0m\u001b[0m\n",
      "\u001b[1;32mc:\\DevSoftware\\Anaconda38\\lib\\site-packages\\pandas\\io\\formats\\format.py\u001b[0m in \u001b[0;36mto_csv\u001b[1;34m(self, path_or_buf, encoding, sep, columns, index_label, mode, compression, quoting, quotechar, line_terminator, chunksize, date_format, doublequote, escapechar, errors, storage_options)\u001b[0m\n\u001b[0;32m   1081\u001b[0m             \u001b[0mformatter\u001b[0m\u001b[1;33m=\u001b[0m\u001b[0mself\u001b[0m\u001b[1;33m.\u001b[0m\u001b[0mfmt\u001b[0m\u001b[1;33m,\u001b[0m\u001b[1;33m\u001b[0m\u001b[1;33m\u001b[0m\u001b[0m\n\u001b[0;32m   1082\u001b[0m         )\n\u001b[1;32m-> 1083\u001b[1;33m         \u001b[0mcsv_formatter\u001b[0m\u001b[1;33m.\u001b[0m\u001b[0msave\u001b[0m\u001b[1;33m(\u001b[0m\u001b[1;33m)\u001b[0m\u001b[1;33m\u001b[0m\u001b[1;33m\u001b[0m\u001b[0m\n\u001b[0m\u001b[0;32m   1084\u001b[0m \u001b[1;33m\u001b[0m\u001b[0m\n\u001b[0;32m   1085\u001b[0m         \u001b[1;32mif\u001b[0m \u001b[0mcreated_buffer\u001b[0m\u001b[1;33m:\u001b[0m\u001b[1;33m\u001b[0m\u001b[1;33m\u001b[0m\u001b[0m\n",
      "\u001b[1;32mc:\\DevSoftware\\Anaconda38\\lib\\site-packages\\pandas\\io\\formats\\csvs.py\u001b[0m in \u001b[0;36msave\u001b[1;34m(self)\u001b[0m\n\u001b[0;32m    226\u001b[0m         \"\"\"\n\u001b[0;32m    227\u001b[0m         \u001b[1;31m# apply compression and byte/text conversion\u001b[0m\u001b[1;33m\u001b[0m\u001b[1;33m\u001b[0m\u001b[1;33m\u001b[0m\u001b[0m\n\u001b[1;32m--> 228\u001b[1;33m         with get_handle(\n\u001b[0m\u001b[0;32m    229\u001b[0m             \u001b[0mself\u001b[0m\u001b[1;33m.\u001b[0m\u001b[0mfilepath_or_buffer\u001b[0m\u001b[1;33m,\u001b[0m\u001b[1;33m\u001b[0m\u001b[1;33m\u001b[0m\u001b[0m\n\u001b[0;32m    230\u001b[0m             \u001b[0mself\u001b[0m\u001b[1;33m.\u001b[0m\u001b[0mmode\u001b[0m\u001b[1;33m,\u001b[0m\u001b[1;33m\u001b[0m\u001b[1;33m\u001b[0m\u001b[0m\n",
      "\u001b[1;32mc:\\DevSoftware\\Anaconda38\\lib\\site-packages\\pandas\\io\\common.py\u001b[0m in \u001b[0;36mget_handle\u001b[1;34m(path_or_buf, mode, encoding, compression, memory_map, is_text, errors, storage_options)\u001b[0m\n\u001b[0;32m    640\u001b[0m                 \u001b[0merrors\u001b[0m \u001b[1;33m=\u001b[0m \u001b[1;34m\"replace\"\u001b[0m\u001b[1;33m\u001b[0m\u001b[1;33m\u001b[0m\u001b[0m\n\u001b[0;32m    641\u001b[0m             \u001b[1;31m# Encoding\u001b[0m\u001b[1;33m\u001b[0m\u001b[1;33m\u001b[0m\u001b[1;33m\u001b[0m\u001b[0m\n\u001b[1;32m--> 642\u001b[1;33m             handle = open(\n\u001b[0m\u001b[0;32m    643\u001b[0m                 \u001b[0mhandle\u001b[0m\u001b[1;33m,\u001b[0m\u001b[1;33m\u001b[0m\u001b[1;33m\u001b[0m\u001b[0m\n\u001b[0;32m    644\u001b[0m                 \u001b[0mioargs\u001b[0m\u001b[1;33m.\u001b[0m\u001b[0mmode\u001b[0m\u001b[1;33m,\u001b[0m\u001b[1;33m\u001b[0m\u001b[1;33m\u001b[0m\u001b[0m\n",
      "\u001b[1;31mPermissionError\u001b[0m: [Errno 13] Permission denied: 'C:/Users/rnaidoo/Documents/Projects_data/Alouette_I/02_result/'"
     ]
    }
   ],
   "source": [
    "if os.path.exists(outputDir + 'process_log.csv'):\n",
    "    df_log = pd.read_csv(outputDir + 'process_log.csv')\n",
    "    df_update = pd.concat([df_log, df_result], axis=0, ignore_index=True)\n",
    "    df_update.to_csv(outputDir, index=False)\n",
    "else:\n",
    "    df_result.to_csv(outputDir, index=False)"
   ]
  },
  {
   "cell_type": "markdown",
   "id": "698df5be",
   "metadata": {},
   "source": [
    "#  "
   ]
  },
  {
   "cell_type": "markdown",
   "id": "507c4505",
   "metadata": {},
   "source": [
    "#### Development:"
   ]
  },
  {
   "cell_type": "markdown",
   "id": "de86c3d2",
   "metadata": {},
   "source": [
    "Organize numpy arrays into folders by roll and subdirectory:"
   ]
  },
  {
   "cell_type": "code",
   "execution_count": null,
   "id": "f8a79231",
   "metadata": {
    "scrolled": false
   },
   "outputs": [],
   "source": [
    "for file in os.listdir(outputDir):\n",
    "    if 'mapped_coords' in file:\n",
    "        fn = file.replace('mapped_coords-', '')\n",
    "        fn = fn.replace('.npy', '')\n",
    "        fn_parts = fn.split('_')\n",
    "        newDir = outputDir + fn_parts[0] + '/' + fn_parts[1] + '/'\n",
    "        os.makedirs(newDir, exist_ok=True)\n",
    "        os.rename(outputDir+file, newDir+file)"
   ]
  },
  {
   "cell_type": "markdown",
   "id": "c7ea7dde",
   "metadata": {},
   "source": [
    "#  "
   ]
  },
  {
   "cell_type": "markdown",
   "id": "ec18d138",
   "metadata": {},
   "source": [
    "Demonstrate how to copy file from FTP to local intake directory:"
   ]
  },
  {
   "cell_type": "code",
   "execution_count": null,
   "id": "5414f8b4",
   "metadata": {},
   "outputs": [],
   "source": [
    "src = 'ftp://donnees-data.asc-csa.gc.ca/users/OpenData_DonneesOuvertes/pub/AlouetteData/Alouette Data/R014207824/3143-14A/'\n",
    "shutil.copytree(src, dataDir)"
   ]
  },
  {
   "cell_type": "code",
   "execution_count": null,
   "id": "185079b0",
   "metadata": {},
   "outputs": [],
   "source": [
    "os.listdir(src)"
   ]
  },
  {
   "cell_type": "code",
   "execution_count": null,
   "id": "7d51e34c",
   "metadata": {},
   "outputs": [],
   "source": []
  }
 ],
 "metadata": {
  "kernelspec": {
   "display_name": "Python 3",
   "language": "python",
   "name": "python3"
  },
  "language_info": {
   "codemirror_mode": {
    "name": "ipython",
    "version": 3
   },
   "file_extension": ".py",
   "mimetype": "text/x-python",
   "name": "python",
   "nbconvert_exporter": "python",
   "pygments_lexer": "ipython3",
   "version": "3.8.8"
  }
 },
 "nbformat": 4,
 "nbformat_minor": 5
}

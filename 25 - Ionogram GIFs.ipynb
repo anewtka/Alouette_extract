{
 "cells": [
  {
   "cell_type": "code",
   "execution_count": 1,
   "id": "b45f633f",
   "metadata": {},
   "outputs": [],
   "source": [
    "#importing required libraries"
   ]
  },
  {
   "cell_type": "markdown",
   "id": "faca6f04",
   "metadata": {},
   "source": [
    "## Num GIF"
   ]
  },
  {
   "cell_type": "code",
   "execution_count": null,
   "id": "64b66baa",
   "metadata": {},
   "outputs": [],
   "source": []
  },
  {
   "cell_type": "code",
   "execution_count": null,
   "id": "3d49176e",
   "metadata": {},
   "outputs": [],
   "source": []
  },
  {
   "cell_type": "markdown",
   "id": "ae62e445",
   "metadata": {},
   "source": [
    "## Dot GIF"
   ]
  },
  {
   "cell_type": "code",
   "execution_count": null,
   "id": "2a28ede1",
   "metadata": {},
   "outputs": [],
   "source": []
  },
  {
   "cell_type": "code",
   "execution_count": null,
   "id": "064abd01",
   "metadata": {},
   "outputs": [],
   "source": []
  },
  {
   "cell_type": "markdown",
   "id": "dbc45563",
   "metadata": {},
   "source": [
    "## Num 2 GIF"
   ]
  },
  {
   "cell_type": "code",
   "execution_count": null,
   "id": "600838a6",
   "metadata": {},
   "outputs": [],
   "source": []
  },
  {
   "cell_type": "code",
   "execution_count": null,
   "id": "712a3a8d",
   "metadata": {},
   "outputs": [],
   "source": []
  }
 ],
 "metadata": {
  "kernelspec": {
   "display_name": "Python 3",
   "language": "python",
   "name": "python3"
  },
  "language_info": {
   "codemirror_mode": {
    "name": "ipython",
    "version": 3
   },
   "file_extension": ".py",
   "mimetype": "text/x-python",
   "name": "python",
   "nbconvert_exporter": "python",
   "pygments_lexer": "ipython3",
   "version": "3.8.8"
  }
 },
 "nbformat": 4,
 "nbformat_minor": 5
}

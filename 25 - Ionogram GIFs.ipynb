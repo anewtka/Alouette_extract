{
 "cells": [
  {
   "cell_type": "code",
   "execution_count": 1,
   "id": "b45f633f",
   "metadata": {},
   "outputs": [],
   "source": [
    "#importing required libraries"
   ]
  },
  {
   "cell_type": "code",
   "execution_count": 1,
   "id": "826b2606",
   "metadata": {},
   "outputs": [],
   "source": [
    "from PIL import Image"
   ]
  },
  {
   "cell_type": "code",
   "execution_count": 2,
   "id": "02453fde",
   "metadata": {},
   "outputs": [],
   "source": [
    "import glob"
   ]
  },
  {
   "cell_type": "markdown",
   "id": "faca6f04",
   "metadata": {},
   "source": [
    "## Num GIF"
   ]
  },
  {
   "cell_type": "code",
   "execution_count": null,
   "id": "64b66baa",
   "metadata": {},
   "outputs": [],
   "source": [
    "image_paths = glob.glob(\"\")"
   ]
  },
  {
   "cell_type": "code",
   "execution_count": null,
   "id": "3d49176e",
   "metadata": {},
   "outputs": [],
   "source": [
    "frames= []"
   ]
  },
  {
   "cell_type": "code",
   "execution_count": null,
   "id": "fc8a20b6",
   "metadata": {},
   "outputs": [],
   "source": [
    "#going over each image file\n",
    "for image_path in image_paths:\n",
    "    image = Image.open(image_path)\n",
    "    frame.append(image)"
   ]
  },
  {
   "cell_type": "code",
   "execution_count": null,
   "id": "71316673",
   "metadata": {},
   "outputs": [],
   "source": [
    "frames[0].save('num_output.gif', format = 'GIF', append_images = frames[1:], save_all= True, duration = 200, loop = 0)"
   ]
  },
  {
   "cell_type": "markdown",
   "id": "ae62e445",
   "metadata": {},
   "source": [
    "## Dot GIF"
   ]
  },
  {
   "cell_type": "code",
   "execution_count": null,
   "id": "2a28ede1",
   "metadata": {},
   "outputs": [],
   "source": []
  },
  {
   "cell_type": "code",
   "execution_count": null,
   "id": "064abd01",
   "metadata": {},
   "outputs": [],
   "source": []
  },
  {
   "cell_type": "markdown",
   "id": "dbc45563",
   "metadata": {},
   "source": [
    "## Num 2 GIF"
   ]
  },
  {
   "cell_type": "code",
   "execution_count": null,
   "id": "600838a6",
   "metadata": {},
   "outputs": [],
   "source": []
  },
  {
   "cell_type": "code",
   "execution_count": null,
   "id": "712a3a8d",
   "metadata": {},
   "outputs": [],
   "source": []
  }
 ],
 "metadata": {
  "kernelspec": {
   "display_name": "Python 3",
   "language": "python",
   "name": "python3"
  },
  "language_info": {
   "codemirror_mode": {
    "name": "ipython",
    "version": 3
   },
   "file_extension": ".py",
   "mimetype": "text/x-python",
   "name": "python",
   "nbconvert_exporter": "python",
   "pygments_lexer": "ipython3",
   "version": "3.8.8"
  }
 },
 "nbformat": 4,
 "nbformat_minor": 5
}

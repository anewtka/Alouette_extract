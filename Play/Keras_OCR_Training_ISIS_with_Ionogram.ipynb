{
 "cells": [
  {
   "cell_type": "markdown",
   "id": "35c0a9d7",
   "metadata": {},
   "source": [
    "# Train Keras OCR with Ionograms\n",
    "\n",
    "In the last Notebook, I tried to train Keras OCR with synthetic data, but the results weren't conclusive. The goal here is to train Keras OCR with the text that is already on the ionograms. Here are the refences :\n",
    "https://keras-ocr.readthedocs.io/en/latest/examples/fine_tuning_recognizer.html\n",
    "https://stackoverflow.com/questions/52004133/how-to-improve-image-quality\n",
    "https://stackoverflow.com/questions/39308030/how-do-i-increase-the-contrast-of-an-image-in-python-opencv"
   ]
  },
  {
   "cell_type": "code",
   "execution_count": 1,
   "id": "2033bc95",
   "metadata": {},
   "outputs": [],
   "source": [
    "data_dir = 'L:/DATA/ISIS/keras_ocr/'\n",
    "\n",
    "import os\n",
    "import math\n",
    "import imgaug\n",
    "import numpy as np\n",
    "import matplotlib.pyplot as plt\n",
    "import sklearn.model_selection\n",
    "import tensorflow as tf\n",
    "import datetime\n",
    "\n",
    "import keras_ocr"
   ]
  },
  {
   "cell_type": "markdown",
   "id": "b2e56eca",
   "metadata": {},
   "source": [
    "## Train the recognizer\n",
    "After some research, training the detector seems hard and time consuming, so we'll start by training the recognizer with our own pictures. To train the recognizer, we need small images of digits from ionograms. I cropped 60 ionograms and their metadata. After doing some tests, I came to realize that the detector was working better when the images are only black and white, so I did a little bit of pre-processing (see the Notebook *Pre-process training images*). Here how it looks like."
   ]
  },
  {
   "cell_type": "code",
   "execution_count": 9,
   "id": "2471c75b",
   "metadata": {},
   "outputs": [
    {
     "data": {
      "text/plain": [
       "<matplotlib.image.AxesImage at 0x1aa0f51e280>"
      ]
     },
     "execution_count": 9,
     "metadata": {},
     "output_type": "execute_result"
    },
    {
     "data": {
      "image/png": "[encoded data removed]",
      "text/plain": [
       "<Figure size 432x288 with 1 Axes>"
      ]
     },
     "metadata": {
      "needs_background": "light"
     },
     "output_type": "display_data"
    }
   ],
   "source": [
    "im = plt.imread(data_dir+'test_images/contrast/20-5.png')\n",
    "plt.imshow(im)"
   ]
  },
  {
   "cell_type": "markdown",
   "id": "ddf68123",
   "metadata": {},
   "source": [
    "I also created a txt file with the name of the images and the right numbers. It looks like this."
   ]
  },
  {
   "cell_type": "code",
   "execution_count": 10,
   "id": "e4c4de89",
   "metadata": {},
   "outputs": [
    {
     "data": {
      "text/html": [
       "<div>\n",
       "<style scoped>\n",
       "    .dataframe tbody tr th:only-of-type {\n",
       "        vertical-align: middle;\n",
       "    }\n",
       "\n",
       "    .dataframe tbody tr th {\n",
       "        vertical-align: top;\n",
       "    }\n",
       "\n",
       "    .dataframe thead th {\n",
       "        text-align: right;\n",
       "    }\n",
       "</style>\n",
       "<table border=\"1\" class=\"dataframe\">\n",
       "  <thead>\n",
       "    <tr style=\"text-align: right;\">\n",
       "      <th></th>\n",
       "      <th>file</th>\n",
       "      <th>empty</th>\n",
       "      <th>text</th>\n",
       "    </tr>\n",
       "  </thead>\n",
       "  <tbody>\n",
       "    <tr>\n",
       "      <th>154</th>\n",
       "      <td>L:/DATA/ISIS/keras_ocr/test_images/contrast/26...</td>\n",
       "      <td>None</td>\n",
       "      <td>1949</td>\n",
       "    </tr>\n",
       "    <tr>\n",
       "      <th>32</th>\n",
       "      <td>L:/DATA/ISIS/keras_ocr/test_images/contrast/6-...</td>\n",
       "      <td>None</td>\n",
       "      <td>69</td>\n",
       "    </tr>\n",
       "    <tr>\n",
       "      <th>302</th>\n",
       "      <td>L:/DATA/ISIS/keras_ocr/test_images/contrast/58...</td>\n",
       "      <td>None</td>\n",
       "      <td>38</td>\n",
       "    </tr>\n",
       "    <tr>\n",
       "      <th>71</th>\n",
       "      <td>L:/DATA/ISIS/keras_ocr/test_images/contrast/12...</td>\n",
       "      <td>None</td>\n",
       "      <td>35</td>\n",
       "    </tr>\n",
       "    <tr>\n",
       "      <th>254</th>\n",
       "      <td>L:/DATA/ISIS/keras_ocr/test_images/contrast/50...</td>\n",
       "      <td>None</td>\n",
       "      <td>55</td>\n",
       "    </tr>\n",
       "    <tr>\n",
       "      <th>124</th>\n",
       "      <td>L:/DATA/ISIS/keras_ocr/test_images/contrast/21...</td>\n",
       "      <td>None</td>\n",
       "      <td>1948</td>\n",
       "    </tr>\n",
       "  </tbody>\n",
       "</table>\n",
       "</div>"
      ],
      "text/plain": [
       "                                                  file empty   text\n",
       "154  L:/DATA/ISIS/keras_ocr/test_images/contrast/26...  None   1949\n",
       "32   L:/DATA/ISIS/keras_ocr/test_images/contrast/6-...  None     69\n",
       "302  L:/DATA/ISIS/keras_ocr/test_images/contrast/58...  None     38\n",
       "71   L:/DATA/ISIS/keras_ocr/test_images/contrast/12...  None     35\n",
       "254  L:/DATA/ISIS/keras_ocr/test_images/contrast/50...  None     55\n",
       "124  L:/DATA/ISIS/keras_ocr/test_images/contrast/21...  None   1948"
      ]
     },
     "execution_count": 10,
     "metadata": {},
     "output_type": "execute_result"
    }
   ],
   "source": [
    "import pandas as pd\n",
    "\n",
    "dataset = pd.read_csv(data_dir+'test_images/contrast/annotations.txt', header=None, \n",
    "                      names=['file','text'], dtype={'file' : str, 'text' : str})\n",
    "dataset['file'] = data_dir+'test_images/contrast/' + dataset['file']\n",
    "dataset['text'] = dataset['text'].astype(str)\n",
    "dataset.insert(1, 'empty', None)\n",
    "dataset = dataset.sample(frac=1)\n",
    "\n",
    "dataset.head(6)"
   ]
  },
  {
   "cell_type": "markdown",
   "id": "25e9a58e",
   "metadata": {},
   "source": [
    "We now divide the images for training and testing."
   ]
  },
  {
   "cell_type": "code",
   "execution_count": 11,
   "id": "4b4801ec",
   "metadata": {},
   "outputs": [],
   "source": [
    "train_subset, test_subset = sklearn.model_selection.train_test_split(dataset, test_size=0.2)\n",
    "\n",
    "train_subset.reset_index(inplace=True, drop=True)\n",
    "test_subset.reset_index(inplace=True, drop=True)\n",
    "\n",
    "train = []\n",
    "for i in range(len(train_subset)):\n",
    "    train.append(tuple(train_subset.loc[i].to_list()))\n",
    "\n",
    "test = []\n",
    "for i in range(len(test_subset)):\n",
    "    test.append(tuple(test_subset.loc[i].to_list()))"
   ]
  },
  {
   "cell_type": "markdown",
   "id": "13628869",
   "metadata": {},
   "source": [
    "We specify that our alphabet is only numbers."
   ]
  },
  {
   "cell_type": "code",
   "execution_count": 12,
   "id": "bcd697fe",
   "metadata": {},
   "outputs": [
    {
     "name": "stdout",
     "output_type": "stream",
     "text": [
      "Provided alphabet does not match pretrained alphabet. Using backbone weights only.\n",
      "Looking for C:\\Users\\mfortier\\.keras-ocr\\crnn_kurapan_notop.h5\n"
     ]
    }
   ],
   "source": [
    "import string\n",
    "recognizer = keras_ocr.recognition.Recognizer(alphabet=string.digits)\n",
    "recognizer.compile()"
   ]
  },
  {
   "cell_type": "markdown",
   "id": "3aa417e0",
   "metadata": {},
   "source": [
    "We divide the training images in training and validation."
   ]
  },
  {
   "cell_type": "code",
   "execution_count": 13,
   "id": "c2da0539",
   "metadata": {},
   "outputs": [],
   "source": [
    "batch_size = 1\n",
    "augmenter = imgaug.augmenters.Sequential([\n",
    "    imgaug.augmenters.GammaContrast(gamma=(0.25, 3.0)),\n",
    "])\n",
    "\n",
    "(training_image_gen, training_steps), (validation_image_gen, validation_steps) = [\n",
    "    (\n",
    "        keras_ocr.datasets.get_recognizer_image_generator(\n",
    "            labels=labels,\n",
    "            height=recognizer.model.input_shape[1],\n",
    "            width=recognizer.model.input_shape[2],\n",
    "            alphabet=recognizer.alphabet,\n",
    "            augmenter=augmenter\n",
    "        ),\n",
    "        len(labels) // batch_size\n",
    "    ) for labels, augmenter in [(train, augmenter), (test, None)]\n",
    "]\n",
    "training_gen, validation_gen = [\n",
    "    recognizer.get_batch_generator(\n",
    "        image_generator=image_generator,\n",
    "        batch_size=batch_size\n",
    "    )\n",
    "    for image_generator in [training_image_gen, validation_image_gen]\n",
    "]"
   ]
  },
  {
   "cell_type": "code",
   "execution_count": 14,
   "id": "539a2e04",
   "metadata": {},
   "outputs": [
    {
     "name": "stdout",
     "output_type": "stream",
     "text": [
      "252 / 252 instances have illegal characters.\n",
      "text: 71\n"
     ]
    },
    {
     "data": {
      "text/plain": [
       "<matplotlib.image.AxesImage at 0x1aa1ff796d0>"
      ]
     },
     "execution_count": 14,
     "metadata": {},
     "output_type": "execute_result"
    },
    {
     "data": {
      "image/png": "[encoded data removed]",
      "text/plain": [
       "<Figure size 432x288 with 1 Axes>"
      ]
     },
     "metadata": {
      "needs_background": "light"
     },
     "output_type": "display_data"
    }
   ],
   "source": [
    "image, text = next(training_image_gen)\n",
    "print('text:', text)\n",
    "plt.imshow(image)"
   ]
  },
  {
   "cell_type": "markdown",
   "id": "fba4f41e",
   "metadata": {},
   "source": [
    "Time for the training to begin!"
   ]
  },
  {
   "cell_type": "code",
   "execution_count": 15,
   "id": "6b408417",
   "metadata": {},
   "outputs": [
    {
     "name": "stdout",
     "output_type": "stream",
     "text": [
      "Epoch 1/1000\n",
      "252/252 [==============================] - ETA: 0s - loss: 10.159863 / 63 instances have illegal characters.\n",
      "252/252 [==============================] - 47s 114ms/step - loss: 10.1598 - val_loss: 6.4098\n",
      "Epoch 2/1000\n",
      "252/252 [==============================] - 24s 97ms/step - loss: 6.3234 - val_loss: 6.0421\n",
      "Epoch 3/1000\n",
      "252/252 [==============================] - 21s 85ms/step - loss: 5.5316 - val_loss: 5.5357\n",
      "Epoch 4/1000\n",
      "252/252 [==============================] - 22s 88ms/step - loss: 4.9791 - val_loss: 5.0510\n",
      "Epoch 5/1000\n",
      "252/252 [==============================] - 25s 97ms/step - loss: 4.7291 - val_loss: 4.9645\n",
      "Epoch 6/1000\n",
      "252/252 [==============================] - 23s 90ms/step - loss: 3.6811 - val_loss: 3.8478\n",
      "Epoch 7/1000\n",
      "252/252 [==============================] - 24s 94ms/step - loss: 3.4925 - val_loss: 4.0798\n",
      "Epoch 8/1000\n",
      "252/252 [==============================] - 22s 88ms/step - loss: 3.0544 - val_loss: 4.2512\n",
      "Epoch 9/1000\n",
      "252/252 [==============================] - 22s 87ms/step - loss: 2.5067 - val_loss: 4.0225\n",
      "Epoch 10/1000\n",
      "252/252 [==============================] - 22s 89ms/step - loss: 2.0301 - val_loss: 2.5746\n",
      "Epoch 11/1000\n",
      "252/252 [==============================] - 23s 90ms/step - loss: 1.9317 - val_loss: 2.5222\n",
      "Epoch 12/1000\n",
      "252/252 [==============================] - 23s 90ms/step - loss: 1.9282 - val_loss: 2.0311\n",
      "Epoch 13/1000\n",
      "252/252 [==============================] - 23s 93ms/step - loss: 1.4142 - val_loss: 1.8712\n",
      "Epoch 14/1000\n",
      "252/252 [==============================] - 23s 90ms/step - loss: 1.6086 - val_loss: 3.7190\n",
      "Epoch 15/1000\n",
      "252/252 [==============================] - 21s 83ms/step - loss: 1.2804 - val_loss: 4.5591\n",
      "Epoch 16/1000\n",
      "252/252 [==============================] - 22s 87ms/step - loss: 1.2987 - val_loss: 2.4285\n",
      "Epoch 17/1000\n",
      "252/252 [==============================] - 23s 91ms/step - loss: 1.1268 - val_loss: 1.7815\n",
      "Epoch 18/1000\n",
      "252/252 [==============================] - 23s 93ms/step - loss: 0.9545 - val_loss: 2.1581\n",
      "Epoch 19/1000\n",
      "252/252 [==============================] - 21s 83ms/step - loss: 1.0182 - val_loss: 3.3238\n",
      "Epoch 20/1000\n",
      "252/252 [==============================] - 21s 83ms/step - loss: 1.0503 - val_loss: 2.0138\n",
      "Epoch 21/1000\n",
      "252/252 [==============================] - 25s 97ms/step - loss: 0.8489 - val_loss: 1.5294\n",
      "Epoch 22/1000\n",
      "252/252 [==============================] - 21s 84ms/step - loss: 0.6638 - val_loss: 1.7518\n",
      "Epoch 23/1000\n",
      "252/252 [==============================] - 22s 86ms/step - loss: 0.6061 - val_loss: 2.1070\n",
      "Epoch 24/1000\n",
      "252/252 [==============================] - 21s 82ms/step - loss: 0.6662 - val_loss: 1.9404\n",
      "Epoch 25/1000\n",
      "252/252 [==============================] - 20s 79ms/step - loss: 0.6603 - val_loss: 1.1630\n",
      "Epoch 26/1000\n",
      "252/252 [==============================] - 22s 89ms/step - loss: 0.6687 - val_loss: 1.9107\n",
      "Epoch 27/1000\n",
      "252/252 [==============================] - 20s 81ms/step - loss: 0.7801 - val_loss: 1.6254\n",
      "Epoch 28/1000\n",
      "252/252 [==============================] - 21s 84ms/step - loss: 0.8284 - val_loss: 1.8594\n",
      "Epoch 29/1000\n",
      "252/252 [==============================] - 22s 87ms/step - loss: 0.5649 - val_loss: 1.4680\n",
      "Epoch 30/1000\n",
      "252/252 [==============================] - 22s 87ms/step - loss: 0.3823 - val_loss: 1.5097\n",
      "Epoch 31/1000\n",
      "252/252 [==============================] - 21s 82ms/step - loss: 0.4021 - val_loss: 1.8259\n",
      "Epoch 32/1000\n",
      "252/252 [==============================] - 21s 84ms/step - loss: 0.3394 - val_loss: 1.4417\n",
      "Epoch 33/1000\n",
      "252/252 [==============================] - 23s 92ms/step - loss: 0.2477 - val_loss: 2.1619\n",
      "Epoch 34/1000\n",
      "252/252 [==============================] - 21s 83ms/step - loss: 0.3666 - val_loss: 1.3831\n",
      "Epoch 35/1000\n",
      "252/252 [==============================] - 22s 88ms/step - loss: 0.3596 - val_loss: 0.9482\n",
      "Epoch 36/1000\n",
      "252/252 [==============================] - 21s 85ms/step - loss: 0.3813 - val_loss: 2.1146\n",
      "Epoch 37/1000\n",
      "252/252 [==============================] - 22s 87ms/step - loss: 0.3332 - val_loss: 1.6325\n",
      "Epoch 38/1000\n",
      "252/252 [==============================] - 20s 80ms/step - loss: 0.2963 - val_loss: 1.2486\n",
      "Epoch 39/1000\n",
      "252/252 [==============================] - 22s 87ms/step - loss: 0.2788 - val_loss: 1.4766\n",
      "Epoch 40/1000\n",
      "252/252 [==============================] - 22s 88ms/step - loss: 0.3054 - val_loss: 2.2803\n",
      "Epoch 41/1000\n",
      "252/252 [==============================] - 22s 86ms/step - loss: 0.3837 - val_loss: 1.6329\n",
      "Epoch 42/1000\n",
      "252/252 [==============================] - 22s 85ms/step - loss: 0.3233 - val_loss: 0.9104\n",
      "Epoch 43/1000\n",
      "252/252 [==============================] - 22s 89ms/step - loss: 0.2437 - val_loss: 0.7095\n",
      "Epoch 44/1000\n",
      "252/252 [==============================] - 20s 80ms/step - loss: 0.0799 - val_loss: 2.3713\n",
      "Epoch 45/1000\n",
      "252/252 [==============================] - 20s 81ms/step - loss: 0.3741 - val_loss: 1.5739\n",
      "Epoch 46/1000\n",
      "252/252 [==============================] - 22s 87ms/step - loss: 0.2992 - val_loss: 1.6567\n",
      "Epoch 47/1000\n",
      "252/252 [==============================] - 21s 84ms/step - loss: 0.3377 - val_loss: 1.7491\n",
      "Epoch 48/1000\n",
      "252/252 [==============================] - 22s 88ms/step - loss: 0.4426 - val_loss: 1.7613\n",
      "Epoch 49/1000\n",
      "252/252 [==============================] - 21s 84ms/step - loss: 0.4684 - val_loss: 1.2199\n",
      "Epoch 50/1000\n",
      "252/252 [==============================] - 21s 83ms/step - loss: 0.4146 - val_loss: 1.1679\n",
      "Epoch 51/1000\n",
      "252/252 [==============================] - 23s 89ms/step - loss: 0.1503 - val_loss: 1.6401\n",
      "Epoch 52/1000\n",
      "252/252 [==============================] - 23s 89ms/step - loss: 0.3774 - val_loss: 0.9240\n",
      "Epoch 53/1000\n",
      "252/252 [==============================] - 23s 90ms/step - loss: 0.3204 - val_loss: 1.8070\n"
     ]
    },
    {
     "data": {
      "text/plain": [
       "<keras.callbacks.History at 0x1aa15745a00>"
      ]
     },
     "execution_count": 15,
     "metadata": {},
     "output_type": "execute_result"
    }
   ],
   "source": [
    "recognizer_basepath = os.path.join('L:/DATA/ISIS/keras_ocr/', f'recognizer_{datetime.datetime.now().isoformat()}')\n",
    "callbacks=[\n",
    "    tf.keras.callbacks.EarlyStopping(restore_best_weights=False, patience=10),\n",
    "    tf.keras.callbacks.CSVLogger(f'{recognizer_basepath}.csv', append=True),\n",
    "    tf.keras.callbacks.ModelCheckpoint(filepath=f'{recognizer_basepath}.h5')        \n",
    "    ]\n",
    "recognizer.training_model.fit(\n",
    "    training_gen,\n",
    "    steps_per_epoch=training_steps,\n",
    "    validation_steps=validation_steps,\n",
    "    validation_data=validation_gen,\n",
    "    callbacks=callbacks,\n",
    "    epochs=1000,\n",
    "    workers=0,\n",
    "    batch_size=batch_size\n",
    ")"
   ]
  },
  {
   "cell_type": "markdown",
   "id": "7fbf1656",
   "metadata": {},
   "source": [
    "Test a couple of images with our improved recognizer"
   ]
  },
  {
   "cell_type": "code",
   "execution_count": 16,
   "id": "8c995e70",
   "metadata": {},
   "outputs": [
    {
     "name": "stdout",
     "output_type": "stream",
     "text": [
      "1/1 [==============================] - 2s 2s/step\n",
      "Predicted: 44, Actual:  44\n"
     ]
    },
    {
     "data": {
      "image/png": "[encoded data removed]",
      "text/plain": [
       "<Figure size 432x288 with 1 Axes>"
      ]
     },
     "metadata": {
      "needs_background": "light"
     },
     "output_type": "display_data"
    }
   ],
   "source": [
    "image_filepath, _, actual = test[0]\n",
    "predicted = recognizer.recognize(image_filepath)\n",
    "print(f'Predicted: {predicted}, Actual: {actual}')\n",
    "_ = plt.imshow(keras_ocr.tools.read(image_filepath))"
   ]
  },
  {
   "cell_type": "code",
   "execution_count": 17,
   "id": "93766271",
   "metadata": {},
   "outputs": [
    {
     "name": "stdout",
     "output_type": "stream",
     "text": [
      "1/1 [==============================] - 0s 37ms/step\n",
      "Predicted: 00, Actual:  00\n"
     ]
    },
    {
     "data": {
      "image/png": "[encoded data removed]",
      "text/plain": [
       "<Figure size 432x288 with 1 Axes>"
      ]
     },
     "metadata": {
      "needs_background": "light"
     },
     "output_type": "display_data"
    }
   ],
   "source": [
    "image_filepath, _, actual = test[1]\n",
    "predicted = recognizer.recognize(image_filepath)\n",
    "print(f'Predicted: {predicted}, Actual: {actual}')\n",
    "_ = plt.imshow(keras_ocr.tools.read(image_filepath))"
   ]
  },
  {
   "cell_type": "code",
   "execution_count": 18,
   "id": "99c5c3b9",
   "metadata": {},
   "outputs": [
    {
     "name": "stdout",
     "output_type": "stream",
     "text": [
      "1/1 [==============================] - 0s 41ms/step\n",
      "Predicted: 71, Actual:  71\n"
     ]
    },
    {
     "data": {
      "image/png": "[encoded data removed]",
      "text/plain": [
       "<Figure size 432x288 with 1 Axes>"
      ]
     },
     "metadata": {
      "needs_background": "light"
     },
     "output_type": "display_data"
    }
   ],
   "source": [
    "image_filepath, _, actual = test[2]\n",
    "predicted = recognizer.recognize(image_filepath)\n",
    "print(f'Predicted: {predicted}, Actual: {actual}')\n",
    "_ = plt.imshow(keras_ocr.tools.read(image_filepath))"
   ]
  },
  {
   "cell_type": "markdown",
   "id": "9df52f2a",
   "metadata": {},
   "source": [
    "Let's test it on real ionograms picked at random."
   ]
  },
  {
   "cell_type": "code",
   "execution_count": 25,
   "id": "681d9b0c",
   "metadata": {},
   "outputs": [],
   "source": [
    "from random import randrange\n",
    "def draw_random_subdir(dataDir):\n",
    "    directory_list = os.listdir(dataDir)\n",
    "    directory = directory_list[randrange(len(directory_list))]\n",
    "    subdirectory_list = os.listdir(dataDir + directory + '/')\n",
    "    subdirectory = subdirectory_list[randrange(len(subdirectory_list))]\n",
    "    image_list = os.listdir(dataDir + directory + '/'+subdirectory+'/')\n",
    "    image = image_list[randrange(len(image_list))]    \n",
    "    return directory, subdirectory, image\n",
    "\n",
    "import cv2\n",
    "\n",
    "def change_contrast(path_image,a=1.8,b=-50):\n",
    "    im = cv2.imread(path_image)\n",
    "    alpha=a\n",
    "    beta=b\n",
    "    im = alpha*im+beta\n",
    "    #cv2.imwrite(save_dir+name_image,im)  \n",
    "    return(im)"
   ]
  },
  {
   "cell_type": "code",
   "execution_count": 23,
   "id": "b52e70cc",
   "metadata": {},
   "outputs": [],
   "source": [
    "dataDir = 'L:/DATA/ISIS/raw_upload_20230421/'\n",
    "img_list=[]\n",
    "img_path=[]\n",
    "for i in range(3):\n",
    "    directory, subdirectory, image = draw_random_subdir(dataDir)\n",
    "    img_list.append(image)\n",
    "    img_path.append(dataDir + directory + '/' + subdirectory + '/' + image)"
   ]
  },
  {
   "cell_type": "code",
   "execution_count": 24,
   "id": "74bd875b",
   "metadata": {},
   "outputs": [
    {
     "data": {
      "text/plain": [
       "['L:/DATA/ISIS/raw_upload_20230421/R014207767/B1-35-26 ISIS B D-828/Image0560.png',\n",
       " 'L:/DATA/ISIS/raw_upload_20230421/R014207852/B1-35-16 ISIS B D-171/Image0387.png',\n",
       " 'L:/DATA/ISIS/raw_upload_20230421/R014207852/B1-35-16 ISIS B D-205/Image0127.png']"
      ]
     },
     "execution_count": 24,
     "metadata": {},
     "output_type": "execute_result"
    }
   ],
   "source": [
    "img_path"
   ]
  },
  {
   "cell_type": "markdown",
   "id": "c8210a1c",
   "metadata": {},
   "source": [
    "We need to apply the same filter I did on the cropped images used to train keras ocr."
   ]
  },
  {
   "cell_type": "code",
   "execution_count": 27,
   "id": "74d746b6",
   "metadata": {},
   "outputs": [],
   "source": [
    "new_img=[]\n",
    "for im in img_path:\n",
    "    new = change_contrast(im)\n",
    "    new_img.append(new)"
   ]
  },
  {
   "cell_type": "markdown",
   "id": "4dc9ba70",
   "metadata": {},
   "source": [
    "Pass the images to the recognizer."
   ]
  },
  {
   "cell_type": "code",
   "execution_count": null,
   "id": "ce0e0396",
   "metadata": {},
   "outputs": [
    {
     "name": "stdout",
     "output_type": "stream",
     "text": [
      "Looking for C:\\Users\\mfortier\\.keras-ocr\\craft_mlt_25k.h5\n"
     ]
    }
   ],
   "source": [
    "pipeline = keras_ocr.pipeline.Pipeline(recognizer=recognizer)\n",
    "prediction_groups = pipeline.recognize(new_img)\n",
    "# plot the text predictions\n",
    "fig, axs = plt.subplots(nrows=len(new_img), figsize=(15, 10))\n",
    "for ax, image, predictions in zip(axs, new_img, prediction_groups):\n",
    "    keras_ocr.tools.drawAnnotations(image=image, \n",
    "                                    predictions=predictions, \n",
    "                                    ax=ax)"
   ]
  },
  {
   "cell_type": "markdown",
   "id": "71e0bddc",
   "metadata": {},
   "source": [
    "Let's see the results if the images are cropped."
   ]
  },
  {
   "cell_type": "code",
   "execution_count": 105,
   "id": "4c58c17f",
   "metadata": {},
   "outputs": [
    {
     "name": "stdout",
     "output_type": "stream",
     "text": [
      "1/1 [==============================] - 0s 38ms/step\n",
      "1/1 [==============================] - 0s 48ms/step\n"
     ]
    },
    {
     "data": {
      "image/png": "[encoded data removed]",
      "text/plain": [
       "<Figure size 1080x576 with 3 Axes>"
      ]
     },
     "metadata": {},
     "output_type": "display_data"
    }
   ],
   "source": [
    "crop_img=[]\n",
    "for i,im in enumerate(new_img) :\n",
    "    height, width, _ = im.shape\n",
    "    im = im[int(height-height*0.125):height,0:width]\n",
    "    crop_img.append(im)\n",
    "prediction_groups = pipeline.recognize(crop_img)\n",
    "# plot the text predictions\n",
    "fig, axs = plt.subplots(nrows=len(crop_img), figsize=(15, 8))\n",
    "for ax, image, predictions in zip(axs, crop_img, prediction_groups):\n",
    "    keras_ocr.tools.drawAnnotations(image=image, \n",
    "                                    predictions=predictions, \n",
    "                                    ax=ax)"
   ]
  },
  {
   "cell_type": "code",
   "execution_count": 104,
   "id": "51cad4f8",
   "metadata": {},
   "outputs": [
    {
     "data": {
      "text/plain": [
       "[[('2',\n",
       "   array([[178.,  20.],\n",
       "          [221.,  20.],\n",
       "          [221.,  52.],\n",
       "          [178.,  52.]], dtype=float32)),\n",
       "  ('16',\n",
       "   array([[124.17038 ,  24.515974],\n",
       "          [180.33301 ,  29.78122 ],\n",
       "          [177.79187 ,  56.886734],\n",
       "          [121.62924 ,  51.62149 ]], dtype=float32)),\n",
       "  ('0248',\n",
       "   array([[248.25555 ,  26.355984],\n",
       "          [318.80505 ,  29.069424],\n",
       "          [317.79028 ,  55.453472],\n",
       "          [247.24078 ,  52.740032]], dtype=float32)),\n",
       "  ('0436463',\n",
       "   array([[347.,  27.],\n",
       "          [513.,  27.],\n",
       "          [513.,  54.],\n",
       "          [347.,  54.]], dtype=float32))],\n",
       " [('111',\n",
       "   array([[424.60632  ,  -1.7090521],\n",
       "          [467.63812  ,   4.745716 ],\n",
       "          [462.9364   ,  36.09046  ],\n",
       "          [419.9046   ,  29.635693 ]], dtype=float32)),\n",
       "  ('21',\n",
       "   array([[481.1405  ,   6.661592],\n",
       "          [539.5474  ,   8.198616],\n",
       "          [538.85815 ,  34.391003],\n",
       "          [480.45123 ,  32.853977]], dtype=float32)),\n",
       "  ('51',\n",
       "   array([[362.26923 ,   7.346155],\n",
       "          [399.8507  ,   9.135748],\n",
       "          [398.68555 ,  33.604073],\n",
       "          [361.10406 ,  31.814482]], dtype=float32)),\n",
       "  ('21216',\n",
       "   array([[559.99994 ,   8.      ],\n",
       "          [634.99994 ,   8.      ],\n",
       "          [634.99994 ,  32.999996],\n",
       "          [559.99994 ,  32.999996]], dtype=float32)),\n",
       "  ('55',\n",
       "   array([[303.,   9.],\n",
       "          [338.,   9.],\n",
       "          [338.,  31.],\n",
       "          [303.,  31.]], dtype=float32)),\n",
       "  ('31',\n",
       "   array([[659.,  11.],\n",
       "          [694.,  11.],\n",
       "          [694.,  33.],\n",
       "          [659.,  33.]], dtype=float32))],\n",
       " [('2',\n",
       "   array([[234.69629 ,   6.673828],\n",
       "          [266.95312 ,   6.673828],\n",
       "          [266.95312 ,  37.81836 ],\n",
       "          [234.69629 ,  37.81836 ]], dtype=float32)),\n",
       "  ('1927',\n",
       "   array([[357.0498  ,  11.123047],\n",
       "          [417.11426 ,  11.123047],\n",
       "          [417.11426 ,  37.81836 ],\n",
       "          [357.0498  ,  37.81836 ]], dtype=float32)),\n",
       "  ('34',\n",
       "   array([[134.58887 ,  12.235352],\n",
       "          [169.07031 ,  12.235352],\n",
       "          [169.07031 ,  36.706055],\n",
       "          [134.58887 ,  36.706055]], dtype=float32)),\n",
       "  ('00',\n",
       "   array([[281.4131  ,  12.235352],\n",
       "          [333.6914  ,  12.235352],\n",
       "          [333.6914  ,  37.81836 ],\n",
       "          [281.4131  ,  37.81836 ]], dtype=float32)),\n",
       "  ('264',\n",
       "   array([[430.4619  ,  12.235352],\n",
       "          [464.94336 ,  12.235352],\n",
       "          [464.94336 ,  37.81836 ],\n",
       "          [430.4619  ,  37.81836 ]], dtype=float32)),\n",
       "  ('43',\n",
       "   array([[181.30566 ,  13.347656],\n",
       "          [218.01172 ,  13.347656],\n",
       "          [218.01172 ,  37.81836 ],\n",
       "          [181.30566 ,  37.81836 ]], dtype=float32))]]"
      ]
     },
     "execution_count": 104,
     "metadata": {},
     "output_type": "execute_result"
    }
   ],
   "source": [
    "prediction_groups"
   ]
  },
  {
   "cell_type": "markdown",
   "id": "7dd9af42",
   "metadata": {},
   "source": [
    "Save the trained recognizer."
   ]
  },
  {
   "cell_type": "code",
   "execution_count": 98,
   "id": "81e0e68e",
   "metadata": {},
   "outputs": [],
   "source": [
    "recognizer.model.save_weights(data_dir +'ISIS_reading_contrast.h5')"
   ]
  },
  {
   "cell_type": "code",
   "execution_count": null,
   "id": "68cb9dcc",
   "metadata": {},
   "outputs": [],
   "source": []
  }
 ],
 "metadata": {
  "kernelspec": {
   "display_name": "Python 3",
   "language": "python",
   "name": "python3"
  },
  "language_info": {
   "codemirror_mode": {
    "name": "ipython",
    "version": 3
   },
   "file_extension": ".py",
   "mimetype": "text/x-python",
   "name": "python",
   "nbconvert_exporter": "python",
   "pygments_lexer": "ipython3",
   "version": "3.8.8"
  }
 },
 "nbformat": 4,
 "nbformat_minor": 5
}

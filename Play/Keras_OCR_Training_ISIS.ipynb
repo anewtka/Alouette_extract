{
 "cells": [
  {
   "cell_type": "markdown",
   "id": "2233f4a8",
   "metadata": {},
   "source": [
    "# How to train keras_OCR with ISIS ionograms\n",
    "\n",
    "## 1. Prepare dataset\n",
    "I selected randomly 60 ionograms of ISIS. I than created a csv file with annotations. Here's how it looks."
   ]
  },
  {
   "cell_type": "code",
   "execution_count": 55,
   "id": "7ab65d1f",
   "metadata": {},
   "outputs": [
    {
     "data": {
      "text/html": [
       "<div>\n",
       "<style scoped>\n",
       "    .dataframe tbody tr th:only-of-type {\n",
       "        vertical-align: middle;\n",
       "    }\n",
       "\n",
       "    .dataframe tbody tr th {\n",
       "        vertical-align: top;\n",
       "    }\n",
       "\n",
       "    .dataframe thead th {\n",
       "        text-align: right;\n",
       "    }\n",
       "</style>\n",
       "<table border=\"1\" class=\"dataframe\">\n",
       "  <thead>\n",
       "    <tr style=\"text-align: right;\">\n",
       "      <th></th>\n",
       "      <th>image_path</th>\n",
       "      <th>x_min</th>\n",
       "      <th>y_min</th>\n",
       "      <th>x_max</th>\n",
       "      <th>y_max</th>\n",
       "      <th>text_content</th>\n",
       "    </tr>\n",
       "  </thead>\n",
       "  <tbody>\n",
       "    <tr>\n",
       "      <th>0</th>\n",
       "      <td>1.png</td>\n",
       "      <td>316</td>\n",
       "      <td>361</td>\n",
       "      <td>601</td>\n",
       "      <td>402</td>\n",
       "      <td>36 00 69 111 0354 35</td>\n",
       "    </tr>\n",
       "    <tr>\n",
       "      <th>1</th>\n",
       "      <td>2.png</td>\n",
       "      <td>457</td>\n",
       "      <td>363</td>\n",
       "      <td>746</td>\n",
       "      <td>405</td>\n",
       "      <td>36 00 69 111 0245 04</td>\n",
       "    </tr>\n",
       "    <tr>\n",
       "      <th>2</th>\n",
       "      <td>3.png</td>\n",
       "      <td>481</td>\n",
       "      <td>369</td>\n",
       "      <td>767</td>\n",
       "      <td>403</td>\n",
       "      <td>36 00 69 101 0245 31</td>\n",
       "    </tr>\n",
       "    <tr>\n",
       "      <th>3</th>\n",
       "      <td>4.png</td>\n",
       "      <td>510</td>\n",
       "      <td>366</td>\n",
       "      <td>793</td>\n",
       "      <td>402</td>\n",
       "      <td>36 00 69 111 0245 58</td>\n",
       "    </tr>\n",
       "    <tr>\n",
       "      <th>4</th>\n",
       "      <td>5.png</td>\n",
       "      <td>492</td>\n",
       "      <td>368</td>\n",
       "      <td>774</td>\n",
       "      <td>402</td>\n",
       "      <td>36 00 69 111 0246 25</td>\n",
       "    </tr>\n",
       "  </tbody>\n",
       "</table>\n",
       "</div>"
      ],
      "text/plain": [
       "  image_path  x_min  y_min  x_max  y_max          text_content\n",
       "0      1.png    316    361    601    402  36 00 69 111 0354 35\n",
       "1      2.png    457    363    746    405  36 00 69 111 0245 04\n",
       "2      3.png    481    369    767    403  36 00 69 101 0245 31\n",
       "3      4.png    510    366    793    402  36 00 69 111 0245 58\n",
       "4      5.png    492    368    774    402  36 00 69 111 0246 25"
      ]
     },
     "execution_count": 55,
     "metadata": {},
     "output_type": "execute_result"
    }
   ],
   "source": [
    "import pandas as pd\n",
    "\n",
    "ann = pd.read_csv('L:/DATA/ISIS/keras_ocr/annotations/global_annotations.csv')\n",
    "ann.head()"
   ]
  },
  {
   "cell_type": "markdown",
   "id": "54822009",
   "metadata": {},
   "source": [
    "The columns (x_min, y_min) and (x_max, y_max) define the top left corner and the bottom right corner of a box around the metadata. I found those values manually in paint. It took me around 1h30 to do this."
   ]
  },
  {
   "cell_type": "markdown",
   "id": "6fa93296",
   "metadata": {},
   "source": [
    "## 2. Split the dataset\n",
    "I need to create three subsets : training, validation and test sets. Since I only have 60 images, I'll use the 70-15-15 ratio to create the subsets. The first step is to shuffle the dataset randomly."
   ]
  },
  {
   "cell_type": "code",
   "execution_count": 56,
   "id": "1abc1b6c",
   "metadata": {},
   "outputs": [
    {
     "data": {
      "text/html": [
       "<div>\n",
       "<style scoped>\n",
       "    .dataframe tbody tr th:only-of-type {\n",
       "        vertical-align: middle;\n",
       "    }\n",
       "\n",
       "    .dataframe tbody tr th {\n",
       "        vertical-align: top;\n",
       "    }\n",
       "\n",
       "    .dataframe thead th {\n",
       "        text-align: right;\n",
       "    }\n",
       "</style>\n",
       "<table border=\"1\" class=\"dataframe\">\n",
       "  <thead>\n",
       "    <tr style=\"text-align: right;\">\n",
       "      <th></th>\n",
       "      <th>image_path</th>\n",
       "      <th>x_min</th>\n",
       "      <th>y_min</th>\n",
       "      <th>x_max</th>\n",
       "      <th>y_max</th>\n",
       "      <th>text_content</th>\n",
       "    </tr>\n",
       "  </thead>\n",
       "  <tbody>\n",
       "    <tr>\n",
       "      <th>0</th>\n",
       "      <td>53.png</td>\n",
       "      <td>182</td>\n",
       "      <td>360</td>\n",
       "      <td>582</td>\n",
       "      <td>391</td>\n",
       "      <td>44 50 71 269 2140 46</td>\n",
       "    </tr>\n",
       "    <tr>\n",
       "      <th>1</th>\n",
       "      <td>13.png</td>\n",
       "      <td>226</td>\n",
       "      <td>467</td>\n",
       "      <td>719</td>\n",
       "      <td>500</td>\n",
       "      <td>45 19 72 065 0203 50</td>\n",
       "    </tr>\n",
       "    <tr>\n",
       "      <th>2</th>\n",
       "      <td>29.png</td>\n",
       "      <td>241</td>\n",
       "      <td>374</td>\n",
       "      <td>642</td>\n",
       "      <td>404</td>\n",
       "      <td>41 16 71 364 1950 18</td>\n",
       "    </tr>\n",
       "    <tr>\n",
       "      <th>3</th>\n",
       "      <td>57.png</td>\n",
       "      <td>165</td>\n",
       "      <td>361</td>\n",
       "      <td>563</td>\n",
       "      <td>390</td>\n",
       "      <td>44 50 71 269 2142 16</td>\n",
       "    </tr>\n",
       "    <tr>\n",
       "      <th>4</th>\n",
       "      <td>15.png</td>\n",
       "      <td>199</td>\n",
       "      <td>466</td>\n",
       "      <td>692</td>\n",
       "      <td>501</td>\n",
       "      <td>45 19 72 065 0204 18</td>\n",
       "    </tr>\n",
       "  </tbody>\n",
       "</table>\n",
       "</div>"
      ],
      "text/plain": [
       "  image_path  x_min  y_min  x_max  y_max          text_content\n",
       "0     53.png    182    360    582    391  44 50 71 269 2140 46\n",
       "1     13.png    226    467    719    500  45 19 72 065 0203 50\n",
       "2     29.png    241    374    642    404  41 16 71 364 1950 18\n",
       "3     57.png    165    361    563    390  44 50 71 269 2142 16\n",
       "4     15.png    199    466    692    501  45 19 72 065 0204 18"
      ]
     },
     "execution_count": 56,
     "metadata": {},
     "output_type": "execute_result"
    }
   ],
   "source": [
    "ann = ann.sample(frac = 1)\n",
    "ann.reset_index(drop=True, inplace=True)\n",
    "ann.head()"
   ]
  },
  {
   "cell_type": "code",
   "execution_count": 62,
   "id": "86b3154d",
   "metadata": {},
   "outputs": [],
   "source": [
    "# Create the subsets and save them\n",
    "train = ann[0:42]\n",
    "train.to_csv('L:/DATA/ISIS/keras_ocr/train/annotations/train_annotations.csv',index=False)\n",
    "\n",
    "val = ann[42:51]\n",
    "val.to_csv('L:/DATA/ISIS/keras_ocr/val/annotations/val_annotations.csv',index=False)\n",
    "\n",
    "test = ann[51:60]\n",
    "test.to_csv('L:/DATA/ISIS/keras_ocr/test/annotations/test_annotations.csv',index=False)     "
   ]
  },
  {
   "cell_type": "code",
   "execution_count": 63,
   "id": "01b1b2a5",
   "metadata": {},
   "outputs": [],
   "source": [
    "import shutil\n",
    "import os\n",
    "\n",
    "# Initialise the directories for training, validation and testing (remove current images)\n",
    "train_dir = 'L:/DATA/ISIS/keras_ocr/train/'\n",
    "val_dir = 'L:/DATA/ISIS/keras_ocr/val/'\n",
    "test_dir = 'L:/DATA/ISIS/keras_ocr/test/'\n",
    "\n",
    "for path in [train_dir, val_dir, test_dir]:\n",
    "    for f in os.listdir(path+'images/'):\n",
    "        os.remove(os.path.join(path, f))\n",
    "\n",
    "all_images = os.listdir('L:/DATA/ISIS/keras_ocr/all images')\n",
    "\n",
    "# copy images for all subsets\n",
    "for image in allImages :\n",
    "    full_name = os.path.join('L:/DATA/ISIS/keras_ocr/all images/', image)\n",
    "    if image in train['image_path'].to_list():\n",
    "        shutil.copy(full_name, train_dir+'images/'+image)\n",
    "    elif image in val['image_path'].to_list():\n",
    "        shutil.copy(full_name, val_dir+'images/'+image)\n",
    "    elif image in test['image_path'].to_list():\n",
    "        shutil.copy(full_name, test_dir+'images/'+image)"
   ]
  },
  {
   "cell_type": "markdown",
   "id": "f3935b7c",
   "metadata": {},
   "source": [
    "## 3. Create data generators"
   ]
  },
  {
   "cell_type": "code",
   "execution_count": 65,
   "id": "47cb47ff",
   "metadata": {},
   "outputs": [],
   "source": [
    "import numpy as np\n",
    "import cv2\n",
    "from tensorflow.keras.utils import Sequence"
   ]
  },
  {
   "cell_type": "code",
   "execution_count": null,
   "id": "28559874",
   "metadata": {},
   "outputs": [],
   "source": []
  }
 ],
 "metadata": {
  "kernelspec": {
   "display_name": "Python 3",
   "language": "python",
   "name": "python3"
  },
  "language_info": {
   "codemirror_mode": {
    "name": "ipython",
    "version": 3
   },
   "file_extension": ".py",
   "mimetype": "text/x-python",
   "name": "python",
   "nbconvert_exporter": "python",
   "pygments_lexer": "ipython3",
   "version": "3.8.8"
  }
 },
 "nbformat": 4,
 "nbformat_minor": 5
}

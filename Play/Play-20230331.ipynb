{
 "cells": [
  {
   "cell_type": "code",
   "execution_count": null,
   "id": "55fbb420",
   "metadata": {},
   "outputs": [],
   "source": [
    "import pandas as pd\n",
    "import os\n",
    "import time\n",
    "import keras_ocr\n",
    "from matplotlib import pyplot as plt\n",
    "from matplotlib import image as mpimg"
   ]
  },
  {
   "cell_type": "code",
   "execution_count": null,
   "id": "d7c59493",
   "metadata": {},
   "outputs": [],
   "source": [
    "pipeline = keras_ocr.pipeline.Pipeline()"
   ]
  },
  {
   "cell_type": "code",
   "execution_count": null,
   "id": "38ef303d",
   "metadata": {},
   "outputs": [],
   "source": [
    "subdir_path = 'L:/DATA/Alouette_I/BATCH_II_Run1/04_processed/R014207817/4163-03A/'"
   ]
  },
  {
   "cell_type": "code",
   "execution_count": null,
   "id": "e99995f4",
   "metadata": {},
   "outputs": [],
   "source": [
    "#img_fn = 'L:/DATA/Alouette_I/BATCH_II_Run1/04_processed/R014207817/4163-03A/6.png'"
   ]
  },
  {
   "cell_type": "code",
   "execution_count": null,
   "id": "3c54d5c3",
   "metadata": {},
   "outputs": [],
   "source": [
    "#img = mpimg.imread(img_fn)\n",
    "#plt.imshow(img)"
   ]
  },
  {
   "cell_type": "code",
   "execution_count": null,
   "id": "faa7ae70",
   "metadata": {},
   "outputs": [],
   "source": [
    "img_fns = []\n",
    "for file in os.listdir(subdir_path):\n",
    "    img_fns.append(subdir_path + file)"
   ]
  },
  {
   "cell_type": "code",
   "execution_count": null,
   "id": "72d6a045",
   "metadata": {},
   "outputs": [],
   "source": [
    "#img_fns = img_fns[0:10]"
   ]
  },
  {
   "cell_type": "code",
   "execution_count": null,
   "id": "20bf73a1",
   "metadata": {},
   "outputs": [],
   "source": [
    "#imgs_ocr = keras_ocr.tools.read(img_fns[0])"
   ]
  },
  {
   "cell_type": "code",
   "execution_count": null,
   "id": "2be130e8",
   "metadata": {},
   "outputs": [],
   "source": [
    "start = time.time()\n",
    "\n",
    "imgs_ocr = [\n",
    "    keras_ocr.tools.read(img) for img in img_fns\n",
    "]\n",
    "\n",
    "end = time.time()\n",
    "t = end - start\n",
    "print('Time to read all images in subdirectory: ' + str(round(t/60, 1)) + ' min')"
   ]
  },
  {
   "cell_type": "code",
   "execution_count": null,
   "id": "bcaa26de",
   "metadata": {},
   "outputs": [],
   "source": [
    "start = time.time()\n",
    "prediction_groups = pipeline.recognize(imgs_ocr)\n",
    "end = time.time()\n",
    "t = end - start\n",
    "print('Time to ocr process all images in subdirectory: ' + str(round(t/60, 1)) + ' min')"
   ]
  },
  {
   "cell_type": "code",
   "execution_count": null,
   "id": "cdec7f05",
   "metadata": {},
   "outputs": [],
   "source": [
    "df_ocr = pd.DataFrame()\n",
    "predicted_image = prediction_groups[0]\n",
    "if len(predicted_image) > 0:\n",
    "    for text, box in predicted_image:\n",
    "        print(text)\n",
    "        row = pd.DataFrame({\n",
    "            'number': text,\n",
    "            'x': box[1][0],\n",
    "            'y': box[1][1]\n",
    "        }, index=[0])\n",
    "        df_ocr = pd.concat([df_ocr, row])"
   ]
  },
  {
   "cell_type": "code",
   "execution_count": null,
   "id": "99fe17c5",
   "metadata": {},
   "outputs": [],
   "source": [
    "df_ocr = df_ocr.sort_values('x').reset_index(drop=True)\n",
    "df_ocr"
   ]
  },
  {
   "cell_type": "code",
   "execution_count": null,
   "id": "aebc91ff",
   "metadata": {},
   "outputs": [],
   "source": [
    "len(df_ocr)"
   ]
  },
  {
   "cell_type": "code",
   "execution_count": null,
   "id": "04e63295",
   "metadata": {},
   "outputs": [],
   "source": [
    "mean = df_ocr['y'].mean()\n",
    "sd = df_ocr['y'].std()\n",
    "print(mean)\n",
    "print(sd)"
   ]
  },
  {
   "cell_type": "code",
   "execution_count": null,
   "id": "fef7af7d",
   "metadata": {},
   "outputs": [],
   "source": [
    "n_std = 5\n",
    "df_ocr = df_ocr[(df_ocr['y'] <= mean+(n_std*sd))]\n",
    "df_ocr = df_ocr[(df_ocr['y'] >= mean-(n_std*sd))]"
   ]
  },
  {
   "cell_type": "code",
   "execution_count": null,
   "id": "78244622",
   "metadata": {},
   "outputs": [],
   "source": [
    "df_ocr"
   ]
  },
  {
   "cell_type": "code",
   "execution_count": null,
   "id": "91ba6625",
   "metadata": {},
   "outputs": [],
   "source": []
  }
 ],
 "metadata": {
  "kernelspec": {
   "display_name": "Python 3",
   "language": "python",
   "name": "python3"
  },
  "language_info": {
   "codemirror_mode": {
    "name": "ipython",
    "version": 3
   },
   "file_extension": ".py",
   "mimetype": "text/x-python",
   "name": "python",
   "nbconvert_exporter": "python",
   "pygments_lexer": "ipython3",
   "version": "3.8.8"
  }
 },
 "nbformat": 4,
 "nbformat_minor": 5
}
